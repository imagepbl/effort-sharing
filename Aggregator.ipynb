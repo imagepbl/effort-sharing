{
 "cells": [
  {
   "cell_type": "markdown",
   "metadata": {},
   "source": [
    "## Preambule"
   ]
  },
  {
   "cell_type": "code",
   "execution_count": 1,
   "metadata": {},
   "outputs": [],
   "source": [
    "import numpy as np\n",
    "import pandas as pd\n",
    "import matplotlib.pyplot as plt\n",
    "from pathlib import Path\n",
    "from tqdm import tqdm\n",
    "import xarray as xr\n",
    "import yaml\n",
    "\n",
    "import warnings\n",
    "warnings.simplefilter(action='ignore', category=FutureWarning)"
   ]
  },
  {
   "cell_type": "code",
   "execution_count": 2,
   "metadata": {},
   "outputs": [],
   "source": [
    "current_dir = Path.cwd()\n",
    "with open(current_dir / 'input.yml') as file:\n",
    "    settings = yaml.load(file, Loader=yaml.FullLoader)"
   ]
  },
  {
   "cell_type": "markdown",
   "metadata": {},
   "source": [
    "## Read"
   ]
  },
  {
   "cell_type": "code",
   "execution_count": 3,
   "metadata": {},
   "outputs": [],
   "source": [
    "path_save = settings['paths']['data']['datadrive']\n",
    "xr_dataread = xr.open_dataset(path_save + \"startyear_2021/xr_dataread.nc\", engine='netcdf4')\n",
    "all_countries_iso = np.load(path_save + \"all_countries.npy\", allow_pickle=True)\n",
    "focusregs = np.array(xr_dataread.Region)\n",
    "rules = ['GF', 'PC', 'PCC', 'PCB_lin', 'PCB', 'ECPC', 'AP', 'GDR']"
   ]
  },
  {
   "cell_type": "markdown",
   "metadata": {},
   "source": [
    "## Reduction percentages for EZK"
   ]
  },
  {
   "cell_type": "code",
   "execution_count": 6,
   "metadata": {},
   "outputs": [],
   "source": [
    "# for t in [2030, 2035, 2040]:\n",
    "#     ds = xr.open_dataset(path_save + \"xr_alloc_\"+str(t)+\".nc\")\n",
    "#     cur = xr_dataread.GHG_hist.sel(Time=1990)\n",
    "#     ds = -(cur-ds)/cur\n",
    "#     ds.sel(Discount_factor=0, Historical_startyear=1990, Capability_threshold='Th', RCI_weight='Half', Scenario='SSP2', Convergence_year=2050, Risk=0.5, NegEmis=0.5).drop_vars(['Scenario', 'Convergence_year', 'Discount_factor', 'Historical_startyear', 'Capability_threshold', 'RCI_weight', 'Time', 'source', 'Version', 'variable']).to_dataframe().to_csv(path_save + \"Reductions_\"+str(t)+\".csv\")"
   ]
  },
  {
   "cell_type": "markdown",
   "metadata": {},
   "source": [
    "## Reduction percentages by 2040 w.r.t. 2015 (Paris):"
   ]
  },
  {
   "cell_type": "code",
   "execution_count": 7,
   "metadata": {},
   "outputs": [],
   "source": [
    "# for t in [2030, 2035, 2040]:\n",
    "#     ds = xr.open_dataset(path_save + \"xr_alloc_\"+str(t)+\".nc\")\n",
    "#     cur = xr_dataread.GHG_hist.sel(Time=2015)\n",
    "#     ds = -(cur-ds)/cur\n",
    "#     ds.sel(Discount_factor=0, Historical_startyear=1990, Capability_threshold='Th', RCI_weight='Half', Scenario='SSP2', Convergence_year=2050, Risk=0.5, NegEmis=0.5, Temperature=1.6, NonCO2red=0.5, Timing='Immediate'\n",
    "#            ).drop_vars(['Scenario', 'Convergence_year', 'Discount_factor', 'Historical_startyear', 'Capability_threshold', 'RCI_weight', 'Time', 'source', 'Version', 'variable', 'NegEmis', 'Temperature', 'Risk', 'NonCO2red', 'Timing']).to_dataframe().to_csv(path_save + \"Reductions_\"+str(t)+\"_wrt2015.csv\")"
   ]
  },
  {
   "cell_type": "markdown",
   "metadata": {},
   "source": [
    "## Save allocations by year"
   ]
  },
  {
   "cell_type": "code",
   "execution_count": null,
   "metadata": {},
   "outputs": [],
   "source": [
    "path = 'K:/Data/Data_effortsharing/DataUpdate_ongoing/startyear_2021/'\n",
    "for year in np.arange(2022, 2101, 1):#np.array([2030, 2040, 2050]):#, 2060, 2070, 2080, 2090, 2100]):\n",
    "    print(\"Starting with\", year)\n",
    "    for cty_i, cty in tqdm(enumerate(focusregs)):\n",
    "        ds = xr.open_dataset(path + \"Allocations_GHG_incl/xr_alloc_\"+cty+\".nc\").sel(Time=year).expand_dims(Region=[cty])\n",
    "        if cty_i == 0:\n",
    "            xrt = ds.copy()\n",
    "        else:\n",
    "            xrt = xr.merge([xrt, ds])\n",
    "        ds.close()\n",
    "    xrt.astype(\"float32\").to_netcdf(path + \"/Aggregated_files/xr_alloc_\"+str(year)+\"_GHG_incl.nc\", format='NETCDF4')"
   ]
  },
  {
   "cell_type": "markdown",
   "metadata": {},
   "source": [
    "## Allocations by year CO2"
   ]
  },
  {
   "cell_type": "code",
   "execution_count": 7,
   "metadata": {},
   "outputs": [
    {
     "name": "stdout",
     "output_type": "stream",
     "text": [
      "Starting with 2025\n"
     ]
    },
    {
     "name": "stderr",
     "output_type": "stream",
     "text": [
      "207it [12:57,  3.75s/it]\n"
     ]
    },
    {
     "name": "stdout",
     "output_type": "stream",
     "text": [
      "Starting with 2030\n"
     ]
    },
    {
     "name": "stderr",
     "output_type": "stream",
     "text": [
      "207it [12:14,  3.55s/it]\n"
     ]
    },
    {
     "name": "stdout",
     "output_type": "stream",
     "text": [
      "Starting with 2035\n"
     ]
    },
    {
     "name": "stderr",
     "output_type": "stream",
     "text": [
      "207it [11:54,  3.45s/it]\n"
     ]
    },
    {
     "name": "stdout",
     "output_type": "stream",
     "text": [
      "Starting with 2040\n"
     ]
    },
    {
     "name": "stderr",
     "output_type": "stream",
     "text": [
      "207it [12:07,  3.51s/it]\n"
     ]
    },
    {
     "name": "stdout",
     "output_type": "stream",
     "text": [
      "Starting with 2045\n"
     ]
    },
    {
     "name": "stderr",
     "output_type": "stream",
     "text": [
      "207it [13:21,  3.87s/it]\n"
     ]
    },
    {
     "name": "stdout",
     "output_type": "stream",
     "text": [
      "Starting with 2050\n"
     ]
    },
    {
     "name": "stderr",
     "output_type": "stream",
     "text": [
      "207it [12:27,  3.61s/it]\n"
     ]
    },
    {
     "name": "stdout",
     "output_type": "stream",
     "text": [
      "Starting with 2055\n"
     ]
    },
    {
     "name": "stderr",
     "output_type": "stream",
     "text": [
      "207it [12:50,  3.72s/it]\n"
     ]
    },
    {
     "name": "stdout",
     "output_type": "stream",
     "text": [
      "Starting with 2060\n"
     ]
    },
    {
     "name": "stderr",
     "output_type": "stream",
     "text": [
      "207it [12:34,  3.65s/it]\n"
     ]
    },
    {
     "name": "stdout",
     "output_type": "stream",
     "text": [
      "Starting with 2065\n"
     ]
    },
    {
     "name": "stderr",
     "output_type": "stream",
     "text": [
      "207it [12:27,  3.61s/it]\n"
     ]
    },
    {
     "name": "stdout",
     "output_type": "stream",
     "text": [
      "Starting with 2070\n"
     ]
    },
    {
     "name": "stderr",
     "output_type": "stream",
     "text": [
      "207it [13:20,  3.87s/it]\n"
     ]
    },
    {
     "name": "stdout",
     "output_type": "stream",
     "text": [
      "Starting with 2075\n"
     ]
    },
    {
     "name": "stderr",
     "output_type": "stream",
     "text": [
      "207it [11:20,  3.29s/it]\n"
     ]
    },
    {
     "name": "stdout",
     "output_type": "stream",
     "text": [
      "Starting with 2080\n"
     ]
    },
    {
     "name": "stderr",
     "output_type": "stream",
     "text": [
      "207it [11:31,  3.34s/it]\n"
     ]
    },
    {
     "name": "stdout",
     "output_type": "stream",
     "text": [
      "Starting with 2085\n"
     ]
    },
    {
     "name": "stderr",
     "output_type": "stream",
     "text": [
      "207it [11:20,  3.29s/it]\n"
     ]
    },
    {
     "name": "stdout",
     "output_type": "stream",
     "text": [
      "Starting with 2090\n"
     ]
    },
    {
     "name": "stderr",
     "output_type": "stream",
     "text": [
      "207it [11:18,  3.28s/it]\n"
     ]
    },
    {
     "name": "stdout",
     "output_type": "stream",
     "text": [
      "Starting with 2095\n"
     ]
    },
    {
     "name": "stderr",
     "output_type": "stream",
     "text": [
      "207it [11:25,  3.31s/it]\n"
     ]
    },
    {
     "name": "stdout",
     "output_type": "stream",
     "text": [
      "Starting with 2100\n"
     ]
    },
    {
     "name": "stderr",
     "output_type": "stream",
     "text": [
      "207it [11:17,  3.27s/it]\n"
     ]
    }
   ],
   "source": [
    "for year in np.arange(2025, 2101, 5):#np.array([2030, 2040, 2050]):#, 2060, 2070, 2080, 2090, 2100]):\n",
    "    print(\"Starting with\", year)\n",
    "    for cty_i, cty in tqdm(enumerate(focusregs)):\n",
    "        ds = xr.open_dataset(path_alloc + \"xr_alloc_\"+cty+\"_CO2.nc\").sel(Time=year).expand_dims(Region=[cty])\n",
    "        if cty_i == 0:\n",
    "            xrt = ds.copy()\n",
    "        else:\n",
    "            xrt = xr.merge([xrt, ds])\n",
    "        ds.close()\n",
    "    xrt.astype(\"float32\").to_netcdf(path_save + \"xr_alloc_\"+str(year)+\"_CO2.nc\", format='NETCDF4')"
   ]
  },
  {
   "cell_type": "markdown",
   "metadata": {},
   "source": [
    "Trajectory emissions"
   ]
  },
  {
   "cell_type": "code",
   "execution_count": 12,
   "metadata": {},
   "outputs": [],
   "source": [
    "# xrs = []\n",
    "# for cty in tqdm(all_countries_iso[:5]):\n",
    "#     xrs.append(xr.open_dataset(path_save + \"Allocations/xr_alloc_\"+cty+\".nc\").sel(Temperature=1.5, Risk=0.5, NonCO2red=0.5, Timing='Immediate', NegEmis=0.5, Time=np.arange(params['start_year_analysis'], 2101))['GF'].expand_dims(Region=[cty]))"
   ]
  },
  {
   "cell_type": "code",
   "execution_count": 4,
   "metadata": {},
   "outputs": [
    {
     "name": "stderr",
     "output_type": "stream",
     "text": [
      "207it [30:48,  8.93s/it]\n",
      "207it [21:52,  6.34s/it]\n",
      "207it [23:05,  6.69s/it]\n"
     ]
    }
   ],
   "source": [
    "path = 'K:/Data/Data_effortsharing/DataUpdate_ongoing/startyear_2021/'\n",
    "for temp_i, temp in enumerate([1.5, 1.6, 2.0]):\n",
    "    for cty_i, cty in tqdm(enumerate(focusregs)):\n",
    "        ds = xr.open_dataset(path + \"Allocations_GHG_incl/xr_alloc_\"+cty+\".nc\").sel(Temperature=temp, Risk=[0.5, 0.5, 0.33][temp_i], Time=np.arange(2021, 2101)).expand_dims(Region=[cty])\n",
    "        if cty_i == 0:\n",
    "            xrt = ds.copy()\n",
    "        else:\n",
    "            xrt = xr.merge([xrt, ds])\n",
    "        ds.close()\n",
    "    xrt.astype(\"float32\").to_netcdf(path + \"Aggregated_files/xr_traj_\"+['t15_r50', 't16_r50', 't20_r67'][temp_i]+\"_GHG_incl.nc\", format='NETCDF4')"
   ]
  }
 ],
 "metadata": {
  "kernelspec": {
   "display_name": "Python 3",
   "language": "python",
   "name": "python3"
  },
  "language_info": {
   "codemirror_mode": {
    "name": "ipython",
    "version": 3
   },
   "file_extension": ".py",
   "mimetype": "text/x-python",
   "name": "python",
   "nbconvert_exporter": "python",
   "pygments_lexer": "ipython3",
   "version": "3.12.5"
  },
  "orig_nbformat": 4
 },
 "nbformat": 4,
 "nbformat_minor": 2
}
