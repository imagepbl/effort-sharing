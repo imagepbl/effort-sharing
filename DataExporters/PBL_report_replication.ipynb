{
 "cells": [
  {
   "cell_type": "markdown",
   "metadata": {},
   "source": [
    "## Preambule"
   ]
  },
  {
   "cell_type": "code",
   "execution_count": 2,
   "metadata": {},
   "outputs": [],
   "source": [
    "import xarray as xr\n",
    "import numpy as np\n",
    "import matplotlib.pyplot as plt\n",
    "import pandas as pd"
   ]
  },
  {
   "cell_type": "code",
   "execution_count": 3,
   "metadata": {},
   "outputs": [],
   "source": [
    "path_to_save = \"K:/Data/Data_effortsharing/EffortSharingExports/PBLreport/\"\n",
    "path_to_read = \"K:/Data/Data_effortsharing/DataUpdate_ongoing/startyear_2021/\""
   ]
  },
  {
   "cell_type": "markdown",
   "metadata": {},
   "source": [
    "## Read in general data"
   ]
  },
  {
   "cell_type": "code",
   "execution_count": 4,
   "metadata": {},
   "outputs": [],
   "source": [
    "xr_2030 = xr.open_dataset(path_to_read+\"Aggregated_files/xr_alloc_2030_GHG_incl.nc\").load()\n",
    "xr_2040 = xr.open_dataset(path_to_read+\"Aggregated_files/xr_alloc_2040_GHG_incl.nc\").load()\n",
    "xr_dataread = xr.open_dataset(path_to_read+\"xr_dataread.nc\").load()\n",
    "xr_nld = xr.open_dataset(path_to_read+\"Allocations_GHG_incl/xr_alloc_NLD.nc\").load()\n",
    "xr_usa = xr.open_dataset(path_to_read+\"Allocations_GHG_incl/xr_alloc_USA.nc\").load()\n",
    "xr_engage = xr.open_dataset(path_to_read+\"../xr_policyscen.nc\").load()\n",
    "xr_engage_co2 = xr.open_dataset(path_to_read+\"../xr_policyscen_co2.nc\").load()"
   ]
  },
  {
   "cell_type": "code",
   "execution_count": 5,
   "metadata": {},
   "outputs": [],
   "source": [
    "rules = ['GF', 'PC', 'PCC', 'AP', 'ECPC', 'GDR', 'PCB', 'PCB_lin']\n",
    "standard_settings = {}\n",
    "median_settings = {\"NonCO2red\": 0.5,\n",
    "                   \"Convergence_year\": 2050,\n",
    "                   \"Discount_factor\": 0,\n",
    "                   \"Historical_startyear\": 1990,\n",
    "                   \"Capability_threshold\": 'Th',\n",
    "                   \"RCI_weight\": \"Half\",\n",
    "                   \"Scenario\": \"SSP2\"}"
   ]
  },
  {
   "cell_type": "markdown",
   "metadata": {},
   "source": [
    "## Addendum numbers"
   ]
  },
  {
   "cell_type": "markdown",
   "metadata": {},
   "source": [
    "Reading numbers like they were in table 4.1"
   ]
  },
  {
   "cell_type": "code",
   "execution_count": 6,
   "metadata": {},
   "outputs": [],
   "source": [
    "dict_fig_4_1 = {}\n",
    "list_rule = []\n",
    "list_med = []\n",
    "list_min = []\n",
    "list_max = []\n",
    "list_med2 = []\n",
    "list_min2 = []\n",
    "list_max2 = []\n",
    "list_time = []\n",
    "for rule_i, rule in enumerate(rules):\n",
    "    val_med = np.array(xr_nld.sel(Temperature=1.6, Risk=0.5, NegEmis=0.5, Timing='Immediate', **median_settings, **standard_settings)[rule])\n",
    "    val_min = np.array(xr_nld.sel(Temperature=1.6, Risk=0.5, NegEmis=0.5, **standard_settings).min(dim=median_settings.keys()).min(dim='Timing')[rule])\n",
    "    val_max = np.array(xr_nld.sel(Temperature=1.6, Risk=0.5, NegEmis=0.5, **standard_settings).max(dim=median_settings.keys()).max(dim='Timing')[rule])\n",
    "    val_med2 = np.array(xr_nld.sel(Temperature=2, Risk=0.33, NegEmis=0.5, Timing='Immediate', **median_settings, **standard_settings)[rule])\n",
    "    val_min2 = np.array(xr_nld.sel(Temperature=2, Risk=0.33, NegEmis=0.5, **standard_settings).min(dim=median_settings.keys()).min(dim='Timing')[rule])\n",
    "    val_max2 = np.array(xr_nld.sel(Temperature=2, Risk=0.33, NegEmis=0.5, **standard_settings).max(dim=median_settings.keys()).max(dim='Timing')[rule])\n",
    "    list_rule += [rule]*len(val_med)\n",
    "    list_med += list(val_med)\n",
    "    list_max += list(val_max)\n",
    "    list_min += list(val_min)\n",
    "    list_med2 += list(val_med2)\n",
    "    list_max2 += list(val_max2)\n",
    "    list_min2 += list(val_min2)\n",
    "    list_time += list(np.array(xr_nld.Time))\n",
    "dict_fig_4_1['Rule'] = list_rule\n",
    "dict_fig_4_1['Median_15'] = list_med\n",
    "dict_fig_4_1['Minimum_15'] = list_min\n",
    "dict_fig_4_1['Maximum_15'] = list_max\n",
    "dict_fig_4_1['Median_20'] = list_med2\n",
    "dict_fig_4_1['Minimum_20'] = list_min2\n",
    "dict_fig_4_1['Maximum_20'] = list_max2\n",
    "dict_fig_4_1['Time'] = list_time\n",
    "df_fig_4_1 = pd.DataFrame(dict_fig_4_1)\n",
    "emis_1990 = float(xr_dataread.GHG_hist.sel(Region='NLD', Time=1990))"
   ]
  },
  {
   "cell_type": "code",
   "execution_count": 66,
   "metadata": {},
   "outputs": [],
   "source": [
    "xr_dataread_old = xr.open_dataset(path_to_save+\"xr_dataread_old.nc\").load()\n",
    "xr_2030_old = xr.open_dataset(path_to_save+\"Report data files/xr_alloc_2030.nc\").load().sel(Region='NLD')\n",
    "xr_2040_old = xr.open_dataset(path_to_save+\"Report data files/xr_alloc_2040.nc\").load().sel(Region='NLD')\n",
    "df_old = pd.read_excel(path_to_save+\"data_fig_4_1_old.xlsx\")\n",
    "emis_1990_old = float(xr_dataread_old.GHG_hist.sel(Region='NLD', Time=1990))"
   ]
  },
  {
   "cell_type": "code",
   "execution_count": 28,
   "metadata": {},
   "outputs": [],
   "source": [
    "df_old_melt = df_old.melt(id_vars=['Rule', 'Time'], value_vars=['Median_15', 'Minimum_15', 'Maximum_15', 'Median_20', 'Minimum_20', 'Maximum_20'], var_name='Variable', value_name='Value')\n",
    "df_old_melt = df_old_melt.set_index(['Rule', 'Time', 'Variable'])\n",
    "xr_old = xr.Dataset.from_dataframe(df_old_melt)\n",
    "\n",
    "df_fig_4_1m = df_fig_4_1.melt(id_vars=['Rule', 'Time'], value_vars=['Median_15', 'Minimum_15', 'Maximum_15', 'Median_20', 'Minimum_20', 'Maximum_20'], var_name='Variable', value_name='Value')\n",
    "df_fig_4_1m = df_fig_4_1m.set_index(['Rule', 'Time', 'Variable'])\n",
    "xr_41 = xr.Dataset.from_dataframe(df_fig_4_1m)"
   ]
  },
  {
   "cell_type": "markdown",
   "metadata": {},
   "source": [
    "Computing global budgets\n",
    "\n",
    "This difference is solely because of slightly different handling of non-CO2 adjustment, which unfortunately leads (because of the super high sensitivity to non-CO2) to approx 80 Gt CO2 difference in 1.5 (Forster is in between), 25 Gt CO2 difference for 1.56/1.6 and approx 100 Gt CO2 difference for 2.0. In both versions, we took the nth quantile of nonco2 reduction from the AR6 database, checked how much reduction that was and inserted that in the table from Lamboll et al. to get the RCB effect, also taking into account that the Forster budgets assumed particular non-CO2 pathway trajectories that may slightly deviate from the exact AR6 median for a given peak temperature segment (i.e, leading to a small change from Forster in the budget at nonco2red=0.5). The difference below (between new and old) lies in the non-CO2 pathways themselves, which are refined in the new version mostly because of smoothening across temperature levels."
   ]
  },
  {
   "cell_type": "code",
   "execution_count": 8,
   "metadata": {},
   "outputs": [
    {
     "name": "stdout",
     "output_type": "stream",
     "text": [
      "Old RCB for 1.5 (50%) from 2021: 379.5328843092957\n",
      "Old RCB for 1.56 (50%) from 2021: 487.5433502563473\n",
      "Old RCB for 2.0 (67%) from 2021: 1054.3516703518935\n",
      "\n",
      "New RCB for 1.5 (50%) from 2021: 299.18674172430786\n",
      "New RCB for 1.6 (50%) from 2021: 462.644404745756\n",
      "New RCB for 2.0 (67%) from 2021: 913.91148194326\n"
     ]
    }
   ],
   "source": [
    "print(\"Old RCB for 1.5 (50%) from 2021:\", float(xr_dataread_old.Budget.sel(Temperature=1.5, Risk=0.5, NonCO2red=0.5)))\n",
    "print(\"Old RCB for 1.56 (50%) from 2021:\", float(xr_dataread_old.Budget.sel(Temperature=1.56, Risk=0.5, NonCO2red=0.5)))\n",
    "print(\"Old RCB for 2.0 (67%) from 2021:\", float(xr_dataread_old.Budget.sel(Temperature=2.0, Risk=0.33, NonCO2red=0.5)))\n",
    "print(\"\")\n",
    "print(\"New RCB for 1.5 (50%) from 2021:\", float(xr_dataread.Budget.sel(Temperature=1.5, Risk=0.5, NonCO2red=0.5)))\n",
    "print(\"New RCB for 1.6 (50%) from 2021:\", float(xr_dataread.Budget.sel(Temperature=1.6, Risk=0.5, NonCO2red=0.5)))\n",
    "print(\"New RCB for 2.0 (67%) from 2021:\", float(xr_dataread.Budget.sel(Temperature=2.0, Risk=0.33, NonCO2red=0.5)))"
   ]
  },
  {
   "cell_type": "markdown",
   "metadata": {},
   "source": [
    "Computing reduction numbers\n",
    "\n",
    "The differences are because of a few updates:\n",
    "* Slight changes in 2030 and 2040 global reductions because of different RCB (see above)\n",
    "* 1.5-1.6 does now not have any delayed action anymore (in the old version only 1.5, but 1.56 did have it)\n",
    "* ECPC is changed to assure payment of the historical debt within a certain time frame (convergence year)"
   ]
  },
  {
   "cell_type": "code",
   "execution_count": 40,
   "metadata": {},
   "outputs": [],
   "source": [
    "red_old = (xr_old - emis_1990_old) / emis_1990_old\n",
    "red_new = (xr_41 - emis_1990) / emis_1990"
   ]
  },
  {
   "cell_type": "code",
   "execution_count": 105,
   "metadata": {},
   "outputs": [
    {
     "name": "stdout",
     "output_type": "stream",
     "text": [
      "===========================================================================\n",
      "Default values in 2030 in New\n",
      "GF                   0.70                 0.56                 0.31                \n",
      "PCC                  0.73                 0.60                 0.38                \n",
      "PC                   0.80                 0.70                 0.54                \n",
      "PCB_lin              0.91                 0.69                 0.40                \n",
      "ECPC                 1.99                 1.88                 1.69                \n",
      "AP                   0.95                 0.80                 0.54                \n",
      "GDR                  2.18                 1.74                 0.97                \n",
      "===========================================================================\n",
      "Default values in 2030 in OLD\n",
      "Rule                 Red (1.5)            Red (1.5+)           Red (<2.0)          \n",
      "GF                   0.65                 0.58                 0.33                \n",
      "PCC                  0.68                 0.62                 0.40                \n",
      "PC                   0.77                 0.72                 0.55                \n",
      "PCB_lin              0.81                 0.69                 0.43                \n",
      "ECPC                 0.79                 0.73                 0.53                \n",
      "AP                   0.87                 0.80                 0.53                \n",
      "GDR                  1.85                 1.65                 0.88                \n"
     ]
    }
   ],
   "source": [
    "print('='*75)\n",
    "print('Default values in 2030 in New')\n",
    "for rule in ['GF', 'PCC', 'PC', 'PCB_lin', 'ECPC', 'AP', 'GDR']:\n",
    "    dat = np.array(((emis_1990-xr_nld.sel(Time=2030, Temperature=[1.5, 1.6, 2.0], Risk=0.5,  NegEmis=0.5, Timing='Immediate', **median_settings))/emis_1990)[rule]).round(2)\n",
    "    print(f\"{rule:<20} {\"{0:0.2f}\".format(dat[0]):<20} {\"{0:0.2f}\".format(dat[1]):<20} {\"{0:0.2f}\".format(dat[2]):<20}\")\n",
    "print('='*75)\n",
    "print('Default values in 2030 in OLD')\n",
    "print(f\"{'Rule':<20} {'Red (1.5)':<20} {'Red (1.5+)':<20} {'Red (<2.0)':<20}\")\n",
    "for rule in ['GF', 'PCC', 'PC', 'PCB_lin', 'ECPC', 'AP', 'GDR']:\n",
    "    dat = np.array(((emis_1990_old-xr_2030_old.sel(Temperature=[1.5, 1.56, 2.0], Risk=0.5,  NegEmis=0.5, Timing='Immediate', **median_settings))/emis_1990_old)[rule]).round(2)\n",
    "    print(f\"{rule:<20} {\"{0:0.2f}\".format(dat[0]):<20} {\"{0:0.2f}\".format(dat[1]):<20} {\"{0:0.2f}\".format(dat[2]):<20}\")"
   ]
  },
  {
   "cell_type": "code",
   "execution_count": 89,
   "metadata": {},
   "outputs": [
    {
     "name": "stdout",
     "output_type": "stream",
     "text": [
      "==================================================\n",
      "Minimum values in 2030 in OLD\n",
      "GF [0.57 0.52 0.31]\n",
      "PCC [0.59 0.54 0.34]\n",
      "PC [0.72 0.68 0.54]\n",
      "PCB_lin [0.62 0.57 0.43]\n",
      "ECPC [0.67 0.63 0.45]\n",
      "AP [0.78 0.74 0.52]\n",
      "GDR [0.99 0.91 0.58]\n",
      "==================================================\n",
      "Minimum values in 2030 in New\n",
      "GF [0.64 0.52 0.28]\n",
      "PCC [0.66 0.54 0.31]\n",
      "PC [0.76 0.68 0.52]\n",
      "PCB_lin [0.75 0.6  0.39]\n",
      "ECPC [0.81 0.7  0.48]\n",
      "AP [0.89 0.76 0.51]\n",
      "GDR [1.18 0.98 0.61]\n"
     ]
    }
   ],
   "source": [
    "print('='*50)\n",
    "print('Minimum values in 2030 in OLD')\n",
    "for rule in ['GF', 'PCC', 'PC', 'PCB_lin', 'ECPC', 'AP', 'GDR']:\n",
    "    print(rule, np.array(((emis_1990_old-xr_2030_old.sel(Temperature=[1.5, 1.56, 2.0], Risk=0.5,  NegEmis=0.5, Timing='Immediate'))/emis_1990_old).min(dim=median_settings.keys())[rule]).round(2))\n",
    "print('='*50)\n",
    "print('Minimum values in 2030 in New')\n",
    "for rule in ['GF', 'PCC', 'PC', 'PCB_lin', 'ECPC', 'AP', 'GDR']:\n",
    "    print(rule, np.array(((emis_1990-xr_nld.sel(Time=2030, Temperature=[1.5, 1.6, 2.0], Risk=0.5,  NegEmis=0.5, Timing='Immediate'))/emis_1990).min(dim=median_settings.keys())[rule]).round(2))"
   ]
  },
  {
   "cell_type": "code",
   "execution_count": 90,
   "metadata": {},
   "outputs": [
    {
     "name": "stdout",
     "output_type": "stream",
     "text": [
      "==================================================\n",
      "Maximum values in 2030 in OLD\n",
      "GF [0.83 0.67 0.34]\n",
      "PCC [0.86 0.73 0.44]\n",
      "PC [0.89 0.78 0.56]\n",
      "PCB_lin [0.91 0.9  0.43]\n",
      "ECPC [1.16 1.03 0.77]\n",
      "AP [1.06 0.9  0.54]\n",
      "GDR [3.48 2.75 1.19]\n",
      "==================================================\n",
      "Maximum values in 2030 in New\n",
      "GF [0.85 0.61 0.31]\n",
      "PCC [0.87 0.68 0.42]\n",
      "PC [0.9  0.74 0.54]\n",
      "PCB_lin [0.91 0.82 0.41]\n",
      "ECPC [3.71 3.56 3.37]\n",
      "AP [1.11 0.86 0.56]\n",
      "GDR [3.82 2.74 1.35]\n"
     ]
    }
   ],
   "source": [
    "print('='*50)\n",
    "print('Maximum values in 2030 in OLD')\n",
    "for rule in ['GF', 'PCC', 'PC', 'PCB_lin', 'ECPC', 'AP', 'GDR']:\n",
    "    print(rule, np.array(((emis_1990_old-xr_2030_old.sel(Temperature=[1.5, 1.56, 2.0], Risk=0.5,  NegEmis=0.5, Timing='Immediate'))/emis_1990_old).max(dim=median_settings.keys())[rule]).round(2))\n",
    "print('='*50)\n",
    "print('Maximum values in 2030 in New')\n",
    "for rule in ['GF', 'PCC', 'PC', 'PCB_lin', 'ECPC', 'AP', 'GDR']:\n",
    "    print(rule, np.array(((emis_1990-xr_nld.sel(Time=2030, Temperature=[1.5, 1.6, 2.0], Risk=0.5,  NegEmis=0.5, Timing='Immediate'))/emis_1990).max(dim=median_settings.keys())[rule]).round(2))"
   ]
  },
  {
   "cell_type": "code",
   "execution_count": 9,
   "metadata": {},
   "outputs": [
    {
     "name": "stdout",
     "output_type": "stream",
     "text": [
      "----------------------------------------------------------------------------------------------------\n",
      "THIS IS THE NEW TABLE\n",
      "----------------------------------------------------------------------------------------------------\n",
      "Rule                 Min red (1.5)        Max red (1.5)        Min red (2.0)        Max red (2.0)       \n",
      "----------------------------------------------------------------------------------------------------\n",
      "-> Year  2030\n",
      "GF                   0.52                 0.61                 0.23                 0.38                \n",
      "PC                   0.68                 0.74                 0.49                 0.59                \n",
      "PCC                  0.54                 0.68                 0.26                 0.48                \n",
      "AP                   0.76                 0.86                 0.46                 0.62                \n",
      "ECPC                 0.7                  3.56                 0.43                 3.41                \n",
      "GDR                  0.98                 2.74                 0.54                 1.65                \n",
      "PCB                  0.65                 0.89                 0.31                 0.47                \n",
      "PCB_lin              0.6                  0.82                 0.42                 0.45                \n",
      "----------------------------------------------------------------------------------------------------\n",
      "-> Year  2040\n",
      "GF                   0.73                 0.82                 0.5                  0.54                \n",
      "PC                   0.82                 0.88                 0.67                 0.69                \n",
      "PCC                  0.75                 0.88                 0.54                 0.69                \n",
      "AP                   0.99                 1.1                  0.8                  0.84                \n",
      "ECPC                 0.84                 2.1                  0.7                  1.93                \n",
      "GDR                  1.44                 3.84                 1.1                  2.7                 \n",
      "PCB                  1.03                 1.33                 0.7                  0.84                \n",
      "PCB_lin              0.91                 0.94                 0.65                 0.73                \n",
      "----------------------------------------------------------------------------------------------------\n"
     ]
    },
    {
     "name": "stderr",
     "output_type": "stream",
     "text": [
      "C:\\Users\\dekkerm\\AppData\\Local\\Temp\\2\\ipykernel_10588\\1329158707.py:11: FutureWarning: Calling float on a single element Series is deprecated and will raise a TypeError in the future. Use float(ser.iloc[0]) instead\n",
      "  max_value = np.round(-float((df_fig_4_1[(df_fig_4_1.Time == year) & (df_fig_4_1.Rule == rule)].Maximum_15 - emis_1990) / emis_1990), 2)\n",
      "C:\\Users\\dekkerm\\AppData\\Local\\Temp\\2\\ipykernel_10588\\1329158707.py:12: FutureWarning: Calling float on a single element Series is deprecated and will raise a TypeError in the future. Use float(ser.iloc[0]) instead\n",
      "  min_value = np.round(-float((df_fig_4_1[(df_fig_4_1.Time == year) & (df_fig_4_1.Rule == rule)].Minimum_15 - emis_1990) / emis_1990), 2)\n",
      "C:\\Users\\dekkerm\\AppData\\Local\\Temp\\2\\ipykernel_10588\\1329158707.py:14: FutureWarning: Calling float on a single element Series is deprecated and will raise a TypeError in the future. Use float(ser.iloc[0]) instead\n",
      "  max_value2 = np.round(-float((df_fig_4_1[(df_fig_4_1.Time == year) & (df_fig_4_1.Rule == rule)].Maximum_20 - emis_1990) / emis_1990), 2)\n",
      "C:\\Users\\dekkerm\\AppData\\Local\\Temp\\2\\ipykernel_10588\\1329158707.py:15: FutureWarning: Calling float on a single element Series is deprecated and will raise a TypeError in the future. Use float(ser.iloc[0]) instead\n",
      "  min_value2 = np.round(-float((df_fig_4_1[(df_fig_4_1.Time == year) & (df_fig_4_1.Rule == rule)].Minimum_20 - emis_1990) / emis_1990), 2)\n",
      "C:\\Users\\dekkerm\\AppData\\Local\\Temp\\2\\ipykernel_10588\\1329158707.py:24: FutureWarning: Calling float on a single element Series is deprecated and will raise a TypeError in the future. Use float(ser.iloc[0]) instead\n",
      "  max_value = np.round(-float((df_fig_4_1[(df_fig_4_1.Time == year) & (df_fig_4_1.Rule == rule)].Maximum_15 - emis_1990) / emis_1990), 2)\n",
      "C:\\Users\\dekkerm\\AppData\\Local\\Temp\\2\\ipykernel_10588\\1329158707.py:25: FutureWarning: Calling float on a single element Series is deprecated and will raise a TypeError in the future. Use float(ser.iloc[0]) instead\n",
      "  min_value = np.round(-float((df_fig_4_1[(df_fig_4_1.Time == year) & (df_fig_4_1.Rule == rule)].Minimum_15 - emis_1990) / emis_1990), 2)\n",
      "C:\\Users\\dekkerm\\AppData\\Local\\Temp\\2\\ipykernel_10588\\1329158707.py:27: FutureWarning: Calling float on a single element Series is deprecated and will raise a TypeError in the future. Use float(ser.iloc[0]) instead\n",
      "  max_value2 = np.round(-float((df_fig_4_1[(df_fig_4_1.Time == year) & (df_fig_4_1.Rule == rule)].Maximum_20 - emis_1990) / emis_1990), 2)\n",
      "C:\\Users\\dekkerm\\AppData\\Local\\Temp\\2\\ipykernel_10588\\1329158707.py:28: FutureWarning: Calling float on a single element Series is deprecated and will raise a TypeError in the future. Use float(ser.iloc[0]) instead\n",
      "  min_value2 = np.round(-float((df_fig_4_1[(df_fig_4_1.Time == year) & (df_fig_4_1.Rule == rule)].Minimum_20 - emis_1990) / emis_1990), 2)\n"
     ]
    }
   ],
   "source": [
    "# Print the header with alignment\n",
    "print(\"-\" * 100)\n",
    "print(\"THIS IS THE NEW TABLE\")\n",
    "print(\"-\" * 100)\n",
    "print(f\"{'Rule':<20} {'Min red (1.5)':<20} {'Max red (1.5)':<20} {'Min red (2.0)':<20} {'Max red (2.0)':<20}\")\n",
    "print(\"-\" * 100)\n",
    "year = 2030\n",
    "print('-> Year ', year)\n",
    "for rule in rules:\n",
    "    # Calculate the values\n",
    "    max_value = np.round(-float((df_fig_4_1[(df_fig_4_1.Time == year) & (df_fig_4_1.Rule == rule)].Maximum_15 - emis_1990) / emis_1990), 2)\n",
    "    min_value = np.round(-float((df_fig_4_1[(df_fig_4_1.Time == year) & (df_fig_4_1.Rule == rule)].Minimum_15 - emis_1990) / emis_1990), 2)\n",
    "    \n",
    "    max_value2 = np.round(-float((df_fig_4_1[(df_fig_4_1.Time == year) & (df_fig_4_1.Rule == rule)].Maximum_20 - emis_1990) / emis_1990), 2)\n",
    "    min_value2 = np.round(-float((df_fig_4_1[(df_fig_4_1.Time == year) & (df_fig_4_1.Rule == rule)].Minimum_20 - emis_1990) / emis_1990), 2)\n",
    "    \n",
    "    # Print the results with aligned columns\n",
    "    print(f\"{rule:<20} {max_value:<20} {min_value:<20} {max_value2:<20} {min_value2:<20}\")\n",
    "print(\"-\" * 100)\n",
    "year = 2040\n",
    "print('-> Year ', year)\n",
    "for rule in rules:\n",
    "    # Calculate the values\n",
    "    max_value = np.round(-float((df_fig_4_1[(df_fig_4_1.Time == year) & (df_fig_4_1.Rule == rule)].Maximum_15 - emis_1990) / emis_1990), 2)\n",
    "    min_value = np.round(-float((df_fig_4_1[(df_fig_4_1.Time == year) & (df_fig_4_1.Rule == rule)].Minimum_15 - emis_1990) / emis_1990), 2)\n",
    "    \n",
    "    max_value2 = np.round(-float((df_fig_4_1[(df_fig_4_1.Time == year) & (df_fig_4_1.Rule == rule)].Maximum_20 - emis_1990) / emis_1990), 2)\n",
    "    min_value2 = np.round(-float((df_fig_4_1[(df_fig_4_1.Time == year) & (df_fig_4_1.Rule == rule)].Minimum_20 - emis_1990) / emis_1990), 2)\n",
    "    \n",
    "    # Print the results with aligned columns\n",
    "    print(f\"{rule:<20} {max_value:<20} {min_value:<20} {max_value2:<20} {min_value2:<20}\")\n",
    "print(\"-\" * 100)"
   ]
  },
  {
   "cell_type": "markdown",
   "metadata": {},
   "source": [
    "## Exports"
   ]
  },
  {
   "cell_type": "markdown",
   "metadata": {},
   "source": [
    "#### Schema 1 (general infographic)"
   ]
  },
  {
   "cell_type": "code",
   "execution_count": 212,
   "metadata": {},
   "outputs": [],
   "source": [
    "emis_1990 = float(xr_dataread.GHG_hist.sel(Region='NLD', Time=1990))\n",
    "dict_schema_1_h = {}\n",
    "list_var = list(np.array(xr_dataread.GHG_hist.sel(Region='NLD', Time=np.arange(1990, 2021.5))))\n",
    "list_time = list(np.arange(1990, 2021.5))\n",
    "dict_schema_1_h['Time'] = list_time\n",
    "dict_schema_1_h['GHG_historical'] = list_var\n",
    "dict_schema_1_h['Red_wrt_1990'] = (emis_1990-np.array(list_var))/emis_1990\n",
    "\n",
    "df_schema_1_h = pd.DataFrame(dict_schema_1_h)\n",
    "df_schema_1_h.to_excel(path_to_save+\"data_sch1_hist.xlsx\", index=False)"
   ]
  },
  {
   "cell_type": "code",
   "execution_count": 213,
   "metadata": {},
   "outputs": [],
   "source": [
    "emis_2021 = float(xr_dataread.GHG_hist.sel(Region='NLD', Time=2021))\n",
    "emis_2030_high = 123\n",
    "emis_2030_low = 97\n",
    "time = np.arange(2021, 2031)\n",
    "interp_high = np.interp(time, [2021, 2030], [emis_2021, emis_2030_high])\n",
    "interp_low = np.interp(time, [2021, 2030], [emis_2021, emis_2030_low])"
   ]
  },
  {
   "cell_type": "code",
   "execution_count": 214,
   "metadata": {},
   "outputs": [],
   "source": [
    "dict_schema_1_kev = {}\n",
    "list_time = list(np.arange(2021, 2031))\n",
    "dict_schema_1_kev['Time'] = list_time\n",
    "dict_schema_1_kev['GHG_kev_high'] = interp_high\n",
    "dict_schema_1_kev['GHG_kev_low'] = interp_low\n",
    "\n",
    "dict_schema_1_kev['GHG_kev_high_red_wrt_1990'] = (emis_1990-interp_high)/emis_1990\n",
    "dict_schema_1_kev['GHG_kev_low_red_wrt_1990'] = (emis_1990-interp_low)/emis_1990\n",
    "\n",
    "df_schema_1_kev = pd.DataFrame(dict_schema_1_kev)\n",
    "df_schema_1_kev.to_excel(path_to_save+\"data_sch1_kev.xlsx\", index=False)"
   ]
  },
  {
   "cell_type": "code",
   "execution_count": 215,
   "metadata": {},
   "outputs": [],
   "source": [
    "dict_schema_1_effortsharing = {}\n",
    "dict_schema_1_effortsharing['Fairness_15_GHG'] = np.array(xr_nld.sel(Temperature=1.6, Time=2040, Timing='Immediate', NegEmis=0.5, Risk=0.5, **median_settings)[rules].to_array())\n",
    "dict_schema_1_effortsharing['Fairness_20_GHG'] = np.array(xr_nld.sel(Time=2040, Temperature=2.0, Timing='Immediate', Risk=0.33, NegEmis=0.5, **median_settings)[rules].to_array())\n",
    "dict_schema_1_effortsharing['Fairness_15_red_1990'] = (emis_1990-np.array(xr_nld.sel(Time=2040, Temperature=1.6, Timing='Immediate', NegEmis=0.5, Risk=0.33, **median_settings)[rules].to_array()))/emis_1990\n",
    "dict_schema_1_effortsharing['Fairness_20_red_1990'] = (emis_1990-np.array(xr_nld.sel(Time=2040, Temperature=2, Timing='Immediate', Risk=0.33, NegEmis=0.5, **median_settings)[rules].to_array()))/emis_1990\n",
    "dict_schema_1_effortsharing['Allocation'] = rules\n",
    "\n",
    "df_schema_1_effortsharing = pd.DataFrame(dict_schema_1_effortsharing)\n",
    "df_schema_1_effortsharing.to_excel(path_to_save+\"data_sch1_es.xlsx\", index=False)"
   ]
  },
  {
   "cell_type": "markdown",
   "metadata": {},
   "source": [
    "#### Schema 2 (outline of report)"
   ]
  },
  {
   "cell_type": "code",
   "execution_count": 216,
   "metadata": {},
   "outputs": [],
   "source": [
    "emis_1990 = float(xr_dataread.GHG_hist.sel(Region='EARTH', Time=1990))\n",
    "dict_schema_2_h = {}\n",
    "list_var = list(np.array(xr_dataread.GHG_hist.sel(Region='EARTH', Time=np.arange(1990, 2021.5))))\n",
    "list_time = list(np.arange(1990, 2021.5))\n",
    "\n",
    "dict_schema_2_h['Time'] = list_time\n",
    "dict_schema_2_h['GHG_historical_globe'] = list_var\n",
    "\n",
    "df_schema_2_h = pd.DataFrame(dict_schema_2_h)\n",
    "df_schema_2_h.to_excel(path_to_save+\"data_sch2_hist.xlsx\", index=False)"
   ]
  },
  {
   "cell_type": "code",
   "execution_count": 217,
   "metadata": {},
   "outputs": [],
   "source": [
    "emis_1990 = float(xr_dataread.GHG_hist.sel(Region='EARTH', Time=1990))\n",
    "dict_schema_2_h = {}\n",
    "list_time = list(np.arange(2021, 2101))\n",
    "list_var_15 = list(np.array(xr_dataread.GHG_globe.sel(NegEmis=0.5, NonCO2red=0.5, Temperature=1.5, Risk=0.5, Timing='Immediate', Time=np.arange(2021, 2101))))\n",
    "list_var_20 = list(np.array(xr_dataread.GHG_globe.sel(NegEmis=0.5, NonCO2red=0.5, Temperature=2.0, Risk=0.5, Timing='Immediate', Time=np.arange(2021, 2101))))\n",
    "#list_var_23 = list(np.array(xr_dataread.GHG_globe.sel(NegEmis=0.5, NonCO2red=0.5, Temperature=2.3, Risk=0.5, Timing='Immediate', Time=np.arange(2021, 2101))))\n",
    "\n",
    "dict_schema_2_h['Time'] = list_time\n",
    "dict_schema_2_h['GHG_projection_15'] = list_var_15\n",
    "dict_schema_2_h['GHG_projection_20'] = list_var_20\n",
    "#dict_schema_2_h['GHG_projection_23'] = list_var_23\n",
    "\n",
    "df_schema_2_h = pd.DataFrame(dict_schema_2_h)\n",
    "df_schema_2_h.to_excel(path_to_save+\"data_sch2_proj.xlsx\", index=False)"
   ]
  },
  {
   "cell_type": "markdown",
   "metadata": {},
   "source": [
    "#### Figure 2.2 (global pathways)"
   ]
  },
  {
   "cell_type": "code",
   "execution_count": 218,
   "metadata": {},
   "outputs": [],
   "source": [
    "emis_1990 = float(xr_dataread.GHG_hist.sel(Region='EARTH', Time=1990))\n",
    "dict_schema_2_h = {}\n",
    "list_time = list(np.arange(2021, 2101))\n",
    "list_ghg_15 = list(np.array(xr_dataread.GHG_globe.sel(NegEmis=0.5, NonCO2red=0.5, Temperature=1.6, Risk=0.5, Timing='Immediate', Time=np.arange(2021, 2101))))\n",
    "list_ghg_20 = list(np.array(xr_dataread.GHG_globe.sel(NegEmis=0.5, NonCO2red=0.5, Temperature=2.0, Risk=0.33, Timing='Immediate', Time=np.arange(2021, 2101))))\n",
    "list_co2_15 = list(np.array(xr_dataread.CO2_globe.sel(NegEmis=0.5, NonCO2red=0.5, Temperature=1.6, Risk=0.5, Timing='Immediate', Time=np.arange(2021, 2101))))\n",
    "list_co2_20 = list(np.array(xr_dataread.CO2_globe.sel(NegEmis=0.5, NonCO2red=0.5, Temperature=2.0, Risk=0.33, Timing='Immediate', Time=np.arange(2021, 2101))))\n",
    "\n",
    "dict_schema_2_h['Time'] = list_time\n",
    "\n",
    "dict_schema_2_h['GHG_15_low'] = list(np.array(xr_dataread.GHG_globe.sel(Temperature=1.6, Risk=0.5, NegEmis=[0.33, 0.5, 0.67], Time=np.arange(2021, 2101)).min(dim=['NonCO2red', 'Timing', 'NegEmis'])))\n",
    "dict_schema_2_h['GHG_15_med'] = list_ghg_15\n",
    "dict_schema_2_h['GHG_15_high'] = list(np.array(xr_dataread.GHG_globe.sel(Temperature=1.6, Risk=0.5, NegEmis=[0.33, 0.5, 0.67], Time=np.arange(2021, 2101)).max(dim=['NonCO2red', 'Timing', 'NegEmis'])))\n",
    "dict_schema_2_h['CO2_15_low'] = list(np.array(xr_dataread.CO2_globe.sel(Temperature=1.6, Risk=0.5, NegEmis=[0.33, 0.5, 0.67], Time=np.arange(2021, 2101)).min(dim=['NonCO2red', 'Timing', 'NegEmis'])))\n",
    "dict_schema_2_h['CO2_15_med'] = list_co2_15\n",
    "dict_schema_2_h['CO2_15_high'] = list(np.array(xr_dataread.CO2_globe.sel(Temperature=1.6, Risk=0.5, NegEmis=[0.33, 0.5, 0.67], Time=np.arange(2021, 2101)).max(dim=['NonCO2red', 'Timing', 'NegEmis'])))\n",
    "\n",
    "dict_schema_2_h['GHG_20_low'] = list(np.array(xr_dataread.GHG_globe.sel(Temperature=2.0, Risk=0.33, NegEmis=[0.33, 0.5, 0.67], Time=np.arange(2021, 2101)).min(dim=['NonCO2red', 'Timing', 'NegEmis'])))\n",
    "dict_schema_2_h['GHG_20_med'] = list_ghg_20\n",
    "dict_schema_2_h['GHG_20_high'] = list(np.array(xr_dataread.GHG_globe.sel(Temperature=2, Risk=0.33, NegEmis=[0.33, 0.5, 0.67], Time=np.arange(2021, 2101)).max(dim=['NonCO2red', 'Timing', 'NegEmis'])))\n",
    "dict_schema_2_h['CO2_20_low'] = list(np.array(xr_dataread.CO2_globe.sel(Temperature=2, Risk=0.33, NegEmis=[0.33, 0.5, 0.67], Time=np.arange(2021, 2101)).min(dim=['NonCO2red', 'Timing', 'NegEmis'])))\n",
    "dict_schema_2_h['CO2_20_med'] = list_co2_20\n",
    "dict_schema_2_h['CO2_20_high'] = list(np.array(xr_dataread.CO2_globe.sel(Temperature=2, Risk=0.33, NegEmis=[0.33, 0.5, 0.67], Time=np.arange(2021, 2101)).max(dim=['NonCO2red', 'Timing', 'NegEmis'])))\n",
    "\n",
    "df_schema_2_h = pd.DataFrame(dict_schema_2_h)\n",
    "df_schema_2_h.to_excel(path_to_save+\"data_fig_2_2.xlsx\", index=False)"
   ]
  },
  {
   "cell_type": "code",
   "execution_count": 219,
   "metadata": {},
   "outputs": [],
   "source": [
    "xr_use = xr_engage.CurPol.sel(Region='EARTH')\n",
    "xr_use_co2 = xr_engage_co2.CurPol.sel(Region='EARTH')\n",
    "\n",
    "dict_eng = {}\n",
    "dict_eng['Time'] = np.array(xr_use.Time)\n",
    "dict_eng['Mean_GHG'] = np.array(xr_use.mean(dim='Model'))\n",
    "dict_eng['Max_GHG'] = np.array(xr_use.max(dim='Model'))\n",
    "dict_eng['Min_GHG'] = np.array(xr_use.min(dim='Model'))\n",
    "dict_eng['Mean_CO2'] = np.array(xr_use_co2.mean(dim='Model'))\n",
    "dict_eng['Max_CO2'] = np.array(xr_use_co2.max(dim='Model'))\n",
    "dict_eng['Min_CO2'] = np.array(xr_use_co2.min(dim='Model'))\n",
    "df_global_pathways = pd.DataFrame(dict_eng)\n",
    "df_global_pathways.to_excel(path_to_save+\"data_fig_2_2_curpol.xlsx\", index=False)"
   ]
  },
  {
   "cell_type": "code",
   "execution_count": 220,
   "metadata": {},
   "outputs": [],
   "source": [
    "xr_use = xr_dataread.GHG_hist.sel(Region='EARTH')\n",
    "xr_use_co2 = xr_dataread.CO2_hist.sel(Region='EARTH')\n",
    "\n",
    "dict_eng = {}\n",
    "dict_eng['Time'] = np.array(xr_use.Time)\n",
    "dict_eng['GHG_hist'] = np.array(xr_use)\n",
    "dict_eng['CO2_hist'] = np.array(xr_use_co2)\n",
    "df_global_pathways = pd.DataFrame(dict_eng)\n",
    "df_global_pathways.to_excel(path_to_save+\"data_fig_2_2_hist.xlsx\", index=False)"
   ]
  },
  {
   "cell_type": "markdown",
   "metadata": {},
   "source": [
    "#### Figure 4.1 (Netherlands zoom)"
   ]
  },
  {
   "cell_type": "code",
   "execution_count": 221,
   "metadata": {},
   "outputs": [],
   "source": [
    "dict_fig_4_1 = {}\n",
    "list_rule = []\n",
    "list_med = []\n",
    "list_min = []\n",
    "list_max = []\n",
    "list_med2 = []\n",
    "list_min2 = []\n",
    "list_max2 = []\n",
    "list_time = []\n",
    "for rule_i, rule in enumerate(rules):\n",
    "    val_med = np.array(xr_nld.sel(Temperature=1.6, Risk=0.5, NegEmis=0.5, Timing='Immediate', **median_settings, **standard_settings)[rule])\n",
    "    val_min = np.array(xr_nld.sel(Temperature=1.6, Risk=0.5, NegEmis=0.5, **standard_settings).min(dim=median_settings.keys()).min(dim='Timing')[rule])\n",
    "    val_max = np.array(xr_nld.sel(Temperature=1.6, Risk=0.5, NegEmis=0.5, **standard_settings).max(dim=median_settings.keys()).max(dim='Timing')[rule])\n",
    "    val_med2 = np.array(xr_nld.sel(Temperature=2, Risk=0.33, NegEmis=0.5, Timing='Immediate', **median_settings, **standard_settings)[rule])\n",
    "    val_min2 = np.array(xr_nld.sel(Temperature=2, Risk=0.33, NegEmis=0.5, **standard_settings).min(dim=median_settings.keys()).min(dim='Timing')[rule])\n",
    "    val_max2 = np.array(xr_nld.sel(Temperature=2, Risk=0.33, NegEmis=0.5, **standard_settings).max(dim=median_settings.keys()).max(dim='Timing')[rule])\n",
    "    list_rule += [rule]*len(val_med)\n",
    "    list_med += list(val_med)\n",
    "    list_max += list(val_max)\n",
    "    list_min += list(val_min)\n",
    "    list_med2 += list(val_med2)\n",
    "    list_max2 += list(val_max2)\n",
    "    list_min2 += list(val_min2)\n",
    "    list_time += list(np.array(xr_nld.Time))\n",
    "dict_fig_4_1['Rule'] = list_rule\n",
    "dict_fig_4_1['Median_15'] = list_med\n",
    "dict_fig_4_1['Minimum_15'] = list_min\n",
    "dict_fig_4_1['Maximum_15'] = list_max\n",
    "dict_fig_4_1['Median_20'] = list_med2\n",
    "dict_fig_4_1['Minimum_20'] = list_min2\n",
    "dict_fig_4_1['Maximum_20'] = list_max2\n",
    "dict_fig_4_1['Time'] = list_time\n",
    "\n",
    "df_fig_4_1 = pd.DataFrame(dict_fig_4_1)\n",
    "df_fig_4_1.to_excel(path_to_save+\"data_fig_4_1.xlsx\", index=False)"
   ]
  },
  {
   "cell_type": "markdown",
   "metadata": {},
   "source": [
    "#### Figure 4.2 (temperature levels on horizontal)"
   ]
  },
  {
   "cell_type": "markdown",
   "metadata": {},
   "source": [
    "(The diagonal is used to obtain specific values of NegEmis per temperature level)"
   ]
  },
  {
   "cell_type": "code",
   "execution_count": 233,
   "metadata": {},
   "outputs": [],
   "source": [
    "emis_1990 = float(xr_dataread.GHG_hist.sel(Region='NLD', Time=1990))\n",
    "\n",
    "dict_fig_4_2 = {}\n",
    "list_rule = []\n",
    "list_med = []\n",
    "list_min = []\n",
    "list_max = []\n",
    "list_temp = []\n",
    "for rule_i, rule in enumerate(rules):\n",
    "    if rule == 'PCB_lin':\n",
    "        val_med = np.diag(-(np.diag(xr_nld.sel(Time=2040, Risk=0.5, Timing='Immediate', NegEmis=[0.5, 0.5, 0.5, 0.5, 0.5, 0.5, 0.5, 0.5, 0.5, 0.5, 0.5], **median_settings, **standard_settings)[rule])-emis_1990)/emis_1990)  # This of course means that the 2.0 deg does not fully fit the other figures!\n",
    "        val_min = np.diag(-(np.diag(xr_nld.sel(Time=2040, Risk=0.5, NonCO2red=[0.33, 0.5, 0.67], **standard_settings).min(dim=median_settings.keys())[rule])-emis_1990)/emis_1990)\n",
    "        val_max = np.diag(-(np.diag(xr_nld.sel(Time=2040, Risk=0.5, NonCO2red=[0.33, 0.5, 0.67], **standard_settings).max(dim=median_settings.keys())[rule])-emis_1990)/emis_1990)\n",
    "    else:\n",
    "        val_med = -(np.diag(xr_nld.sel(Time=2040, Risk=0.5, Timing='Immediate', NegEmis=[0.5, 0.5, 0.5, 0.5, 0.5, 0.5, 0.5, 0.5, 0.5, 0.5, 0.5], **median_settings, **standard_settings)[rule])-emis_1990)/emis_1990  # This of course means that the 2.0 deg does not fully fit the other figures!\n",
    "        val_min = -(np.diag(xr_nld.sel(Time=2040, Risk=0.5, NonCO2red=[0.33, 0.5, 0.67], **standard_settings).min(dim=median_settings.keys())[rule].min(dim='Timing').sel(NegEmis=[0.5, 0.5, 0.5, 0.5, 0.5, 0.5, 0.5, 0.5, 0.5, 0.5, 0.5]))-emis_1990)/emis_1990\n",
    "        val_max = -(np.diag(xr_nld.sel(Time=2040, Risk=0.5, NonCO2red=[0.33, 0.5, 0.67], **standard_settings).max(dim=median_settings.keys())[rule].max(dim='Timing').sel(NegEmis=[0.5, 0.5, 0.5, 0.5, 0.5, 0.5, 0.5, 0.5, 0.5, 0.5, 0.5]))-emis_1990)/emis_1990\n",
    "    list_rule += [rule]*len(val_med)\n",
    "    list_med += list(val_med)\n",
    "    list_max += list(val_max)\n",
    "    list_min += list(val_min)\n",
    "    list_temp += list(np.array(xr_nld.Temperature))\n",
    "dict_fig_4_2['Rule'] = list_rule\n",
    "dict_fig_4_2['Median'] = list_med\n",
    "dict_fig_4_2['Minimum'] = list_min\n",
    "dict_fig_4_2['Maximum'] = list_max\n",
    "dict_fig_4_2['Temperature'] = list_temp\n",
    "\n",
    "df_fig_4_2 = pd.DataFrame(dict_fig_4_2)\n",
    "df_fig_4_2.to_excel(path_to_save+\"data_fig_4_2.xlsx\", index=False)"
   ]
  },
  {
   "cell_type": "markdown",
   "metadata": {},
   "source": [
    "#### Figure 4.3 (global scale)"
   ]
  },
  {
   "cell_type": "code",
   "execution_count": 199,
   "metadata": {},
   "outputs": [],
   "source": [
    "emis_2021_all = xr_dataread.GHG_hist.sel(Time=2021)\n",
    "emis_1990_all = xr_dataread.GHG_hist.sel(Time=1990)\n",
    "\n",
    "red_2040_2021 = (-(xr_2040-emis_2021_all)/emis_2021_all).sel(Temperature=1.6, Risk=0.5, NegEmis=0.5, **standard_settings)\n",
    "red_2021_1990 = (-(emis_2021_all-emis_1990_all)/emis_1990_all)\n",
    "median_settings_43 = {\"NonCO2red\": 0.5, \"Convergence_year\": 2050, \"Discount_factor\": 0, \"Historical_startyear\": 1990, \"Capability_threshold\": 'Th', \"RCI_weight\": \"Half\", \"Scenario\": \"SSP2\", \"Timing\": 'Immediate'}"
   ]
  },
  {
   "cell_type": "code",
   "execution_count": 200,
   "metadata": {},
   "outputs": [],
   "source": [
    "dict_fig_4_3 = {}\n",
    "list_rule = []\n",
    "list_med = []\n",
    "list_min = []\n",
    "list_max = []\n",
    "list_region = []\n",
    "for rule_i, rule in enumerate(rules):\n",
    "    val_med = np.array(red_2040_2021.sel(**median_settings_43)[rule])\n",
    "    val_min = np.array(red_2040_2021.min(dim=median_settings_43.keys())[rule])\n",
    "    val_max = np.array(red_2040_2021.max(dim=median_settings_43.keys())[rule])\n",
    "    list_rule += [rule]*len(val_med)\n",
    "    list_med += list(val_med)\n",
    "    list_max += list(val_max)\n",
    "    list_min += list(val_min)\n",
    "    list_region += list(np.array(red_2040_2021.Region))\n",
    "dict_fig_4_3['Rule'] = list_rule\n",
    "dict_fig_4_3['Median'] = list_med\n",
    "dict_fig_4_3['Minimum'] = list_min\n",
    "dict_fig_4_3['Maximum'] = list_max\n",
    "dict_fig_4_3['Region'] = list_region\n",
    "\n",
    "df_fig_4_3 = pd.DataFrame(dict_fig_4_3)\n",
    "df_fig_4_3.to_excel(path_to_save+\"data_fig_4_3_2040red.xlsx\", index=False)"
   ]
  },
  {
   "cell_type": "code",
   "execution_count": 201,
   "metadata": {},
   "outputs": [],
   "source": [
    "dict_fig_4_3 = {}\n",
    "list_rule = []\n",
    "list_med = []\n",
    "list_region = []\n",
    "val_med = np.array(red_2021_1990)\n",
    "list_med += list(val_med)\n",
    "list_region += list(np.array(red_2021_1990.Region))\n",
    "dict_fig_4_3['GHG_wrt_1990'] = list_med\n",
    "dict_fig_4_3['Region'] = list_region\n",
    "\n",
    "df_fig_4_3 = pd.DataFrame(dict_fig_4_3)\n",
    "df_fig_4_3.to_excel(path_to_save+\"data_fig_4_3_2021red.xlsx\", index=False)"
   ]
  },
  {
   "cell_type": "code",
   "execution_count": 202,
   "metadata": {},
   "outputs": [],
   "source": [
    "emis_2021_pc = (1e6*emis_2021_all) / (1e6*xr_dataread.Population.sel(Time=2021, Scenario='SSP2'))\n",
    "\n",
    "dict_fig_4_3 = {}\n",
    "list_rule = []\n",
    "list_med = []\n",
    "list_region = []\n",
    "val_med = np.array(emis_2021_pc)\n",
    "list_med += list(val_med)\n",
    "list_region += list(np.array(emis_2021_pc.Region))\n",
    "dict_fig_4_3['GHGpc'] = list_med\n",
    "dict_fig_4_3['Region'] = list_region\n",
    "\n",
    "df_fig_4_3 = pd.DataFrame(dict_fig_4_3)\n",
    "df_fig_4_3.to_excel(path_to_save+\"data_fig_4_3_2021pc.xlsx\", index=False)"
   ]
  }
 ],
 "metadata": {
  "kernelspec": {
   "display_name": "Python 3",
   "language": "python",
   "name": "python3"
  },
  "language_info": {
   "codemirror_mode": {
    "name": "ipython",
    "version": 3
   },
   "file_extension": ".py",
   "mimetype": "text/x-python",
   "name": "python",
   "nbconvert_exporter": "python",
   "pygments_lexer": "ipython3",
   "version": "3.12.5"
  }
 },
 "nbformat": 4,
 "nbformat_minor": 2
}
