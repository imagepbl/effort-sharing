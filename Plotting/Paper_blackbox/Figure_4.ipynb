{
 "cells": [
  {
   "attachments": {},
   "cell_type": "markdown",
   "metadata": {},
   "source": [
    "## Preambule"
   ]
  },
  {
   "cell_type": "code",
   "execution_count": 1,
   "metadata": {},
   "outputs": [],
   "source": [
    "# General packages\n",
    "import numpy as np\n",
    "import pandas as pd\n",
    "from tqdm import tqdm\n",
    "from pathlib import Path\n",
    "import xarray as xr\n",
    "import pandas as pd\n",
    "import json\n",
    "import plotly\n",
    "\n",
    "# Plotting\n",
    "import matplotlib.pyplot as plt\n",
    "import plotly.express as px\n",
    "import plotly.graph_objects as go\n",
    "from plotly.subplots import make_subplots\n",
    "from plotly.colors import n_colors"
   ]
  },
  {
   "attachments": {},
   "cell_type": "markdown",
   "metadata": {},
   "source": [
    "## Parameters"
   ]
  },
  {
   "cell_type": "code",
   "execution_count": 2,
   "metadata": {},
   "outputs": [],
   "source": [
    "rules = ['PCC', 'ECPC', 'AP']\n",
    "rulecolors = ['goldenrod', 'tomato', 'forestgreen']"
   ]
  },
  {
   "attachments": {},
   "cell_type": "markdown",
   "metadata": {},
   "source": [
    "## Paths"
   ]
  },
  {
   "cell_type": "code",
   "execution_count": 3,
   "metadata": {},
   "outputs": [],
   "source": [
    "path_main = Path(\"K:/Code/effort-sharing/\")\n",
    "path_data = Path(\"K:/Data/Data_effortsharing/DataUpdate_ongoing/\")\n",
    "path_figs = path_main / \"Figures\" / \"Paper_FairShares\""
   ]
  },
  {
   "attachments": {},
   "cell_type": "markdown",
   "metadata": {},
   "source": [
    "## Read data files"
   ]
  },
  {
   "cell_type": "code",
   "execution_count": 4,
   "metadata": {},
   "outputs": [],
   "source": [
    "xr_dataread = xr.open_dataset(path_data / \"startyear_2021/xr_dataread.nc\")\n",
    "xr_traj_2030 = xr.open_dataset(path_data / \"startyear_2021/Aggregated_files/xr_alloc_2030_GHG_incl.nc\")\n",
    "xr_traj_2040 = xr.open_dataset(path_data / \"startyear_2021/Aggregated_files/xr_alloc_2040_GHG_incl.nc\")\n",
    "xr_total = xr.open_dataset(path_data / \"xr_policyscen.nc\")\n",
    "\n",
    "all_regions_iso = np.load(path_data / \"all_regions.npy\")\n",
    "all_regions_names = np.load(path_data / \"all_regions_names.npy\")\n",
    "all_countries_iso = np.load(path_data / \"all_countries.npy\", allow_pickle=True)\n",
    "all_countries_names = np.load(path_data / \"all_countries_names.npy\", allow_pickle=True)"
   ]
  },
  {
   "cell_type": "markdown",
   "metadata": {},
   "source": [
    "## Get Cost-optimal output"
   ]
  },
  {
   "cell_type": "code",
   "execution_count": 5,
   "metadata": {},
   "outputs": [],
   "source": [
    "df_ar6 = pd.read_csv(\"X:/user/dekkerm/Data/IPCC/AR6_ISO3/AR6_Scenarios_Database_ISO3_v1.1.csv\")\n",
    "df_ar6 = df_ar6[df_ar6.Variable.isin(['Emissions|Kyoto Gases', 'Policy Cost|Consumption Loss'])]\n",
    "df_ar6 = df_ar6.reset_index(drop=True)\n",
    "\n",
    "df_ar6_meta = pd.read_excel(\"X:/user/dekkerm/Data/IPCC/AR6_ISO3/AR6_Scenarios_Database_metadata_indicators_v1.1.xlsx\", sheet_name='meta_Ch3vetted_withclimate')\n",
    "mods = np.array(df_ar6_meta.Model)\n",
    "scens = np.array(df_ar6_meta.Scenario)\n",
    "modscens_meta = np.array([mods[i]+'|'+scens[i] for i in range(len(scens))])\n",
    "df_ar6_meta['ModelScenario'] = modscens_meta\n",
    "df_ar6_meta = df_ar6_meta[['ModelScenario', 'Category', 'Policy_category']]\n",
    "df_ar6_meta = df_ar6_meta[df_ar6_meta.Category.isin(['C1', 'C2'])]\n",
    "df_ar6_meta = df_ar6_meta.reset_index(drop=True)\n",
    "ms_meta_refined = np.array(df_ar6_meta.ModelScenario)\n",
    "\n",
    "mods = np.array(df_ar6.Model)\n",
    "scens = np.array(df_ar6.Scenario)\n",
    "modscens = np.array([mods[i]+'|'+scens[i] for i in range(len(scens))])\n",
    "df_ar6['ModelScenario'] = modscens\n",
    "df_ar6 = df_ar6.drop(['Model', 'Scenario', 'Unit'], axis=1)\n",
    "df_ar6 = df_ar6[df_ar6.ModelScenario.isin(np.array(ms_meta_refined))]\n",
    "\n",
    "dummy = df_ar6.melt(id_vars=[\"Variable\", \"Region\", \"ModelScenario\"], var_name=\"Time\", value_name=\"Value\")\n",
    "dummy['Time'] = np.array(dummy['Time'].astype(int))\n",
    "dummy = dummy.set_index([\"Variable\", \"Region\", \"ModelScenario\", \"Time\"])\n",
    "xr_scen_r = xr.Dataset.from_dataframe(dummy)\n",
    "xr_scen_r = xr_scen_r.reindex(Time = np.arange(1850, 2101))\n",
    "xr_scen_r = xr_scen_r.interpolate_na(dim=\"Time\", method=\"linear\")"
   ]
  },
  {
   "cell_type": "code",
   "execution_count": 6,
   "metadata": {},
   "outputs": [],
   "source": [
    "cost_opt = xr_scen_r.sel(Variable='Emissions|Kyoto Gases', Time=2040)/xr_scen_r.sel(Variable='Emissions|Kyoto Gases', Time=2040)*xr_scen_r.sel(Variable='Emissions|Kyoto Gases', Time=2040)"
   ]
  },
  {
   "cell_type": "markdown",
   "metadata": {},
   "source": [
    "## Compute fractions"
   ]
  },
  {
   "cell_type": "code",
   "execution_count": 7,
   "metadata": {},
   "outputs": [],
   "source": [
    "xr_larger_than_costopt = xr_traj_2040.sel(Temperature=1.5, Convergence_year=2050, Risk=0.5, NegEmis=0.5, NonCO2red=0.5, Timing='Immediate').median(dim=['Scenario']) > cost_opt.mean(dim='ModelScenario').Value"
   ]
  },
  {
   "cell_type": "markdown",
   "metadata": {},
   "source": [
    "World"
   ]
  },
  {
   "cell_type": "code",
   "execution_count": 8,
   "metadata": {},
   "outputs": [],
   "source": [
    "df_ar6 = pd.read_csv(\"X:/user/dekkerm/Data/IPCC/AR6_Scenarios_Database_World_v1.1.csv\")\n",
    "df_ar6 = df_ar6[df_ar6.Variable.isin(['Emissions|Kyoto Gases', 'Policy Cost|Consumption Loss'])]\n",
    "df_ar6 = df_ar6.reset_index(drop=True)\n",
    "\n",
    "df_ar6_meta = pd.read_excel(\"X:/user/dekkerm/Data/IPCC/AR6_Scenarios_Database_metadata_indicators_v1.1.xlsx\", sheet_name='meta_Ch3vetted_withclimate')\n",
    "mods = np.array(df_ar6_meta.Model)\n",
    "scens = np.array(df_ar6_meta.Scenario)\n",
    "modscens_meta = np.array([mods[i]+'|'+scens[i] for i in range(len(scens))])\n",
    "df_ar6_meta['ModelScenario'] = modscens_meta\n",
    "df_ar6_meta = df_ar6_meta[['ModelScenario', 'Category', 'Policy_category']]\n",
    "df_ar6_meta = df_ar6_meta[df_ar6_meta.Category.isin(['C1', 'C2'])]\n",
    "df_ar6_meta = df_ar6_meta.reset_index(drop=True)\n",
    "ms_meta_refined = np.array(df_ar6_meta.ModelScenario)\n",
    "\n",
    "mods = np.array(df_ar6.Model)\n",
    "scens = np.array(df_ar6.Scenario)\n",
    "modscens = np.array([mods[i]+'|'+scens[i] for i in range(len(scens))])\n",
    "df_ar6['ModelScenario'] = modscens\n",
    "df_ar6['Region'] = 'WORLD'\n",
    "df_ar6 = df_ar6.drop(['Model', 'Scenario', 'Unit'], axis=1)\n",
    "df_ar6 = df_ar6[df_ar6.ModelScenario.isin(np.array(ms_meta_refined))]\n",
    "\n",
    "dummy = df_ar6.melt(id_vars=[\"Variable\", \"Region\", \"ModelScenario\"], var_name=\"Time\", value_name=\"Value\")\n",
    "dummy['Time'] = np.array(dummy['Time'].astype(int))\n",
    "dummy = dummy.set_index([\"Variable\", \"Region\", \"ModelScenario\", \"Time\"])\n",
    "xr_scen = xr.Dataset.from_dataframe(dummy)\n",
    "xr_scen = xr_scen.reindex(Time = np.arange(1850, 2101))\n",
    "xr_scen = xr_scen.interpolate_na(dim=\"Time\", method=\"linear\")"
   ]
  },
  {
   "cell_type": "markdown",
   "metadata": {},
   "source": [
    "Regional"
   ]
  },
  {
   "cell_type": "code",
   "execution_count": 9,
   "metadata": {},
   "outputs": [],
   "source": [
    "df_ar6 = pd.read_csv(\"X:/user/dekkerm/Data/IPCC/AR6_ISO3/AR6_Scenarios_Database_ISO3_v1.1.csv\")\n",
    "df_ar6 = df_ar6[df_ar6.Variable.isin(['Emissions|Kyoto Gases', 'Policy Cost|Consumption Loss'])]\n",
    "df_ar6 = df_ar6.reset_index(drop=True)\n",
    "\n",
    "df_ar6_meta = pd.read_excel(\"X:/user/dekkerm/Data/IPCC/AR6_ISO3/AR6_Scenarios_Database_metadata_indicators_v1.1.xlsx\", sheet_name='meta_Ch3vetted_withclimate')\n",
    "mods = np.array(df_ar6_meta.Model)\n",
    "scens = np.array(df_ar6_meta.Scenario)\n",
    "modscens_meta = np.array([mods[i]+'|'+scens[i] for i in range(len(scens))])\n",
    "df_ar6_meta['ModelScenario'] = modscens_meta\n",
    "df_ar6_meta = df_ar6_meta[['ModelScenario', 'Category', 'Policy_category']]\n",
    "df_ar6_meta = df_ar6_meta[df_ar6_meta.Category.isin(['C1', 'C2'])]\n",
    "df_ar6_meta = df_ar6_meta.reset_index(drop=True)\n",
    "ms_meta_refined = np.array(df_ar6_meta.ModelScenario)\n",
    "\n",
    "mods = np.array(df_ar6.Model)\n",
    "scens = np.array(df_ar6.Scenario)\n",
    "modscens = np.array([mods[i]+'|'+scens[i] for i in range(len(scens))])\n",
    "df_ar6['ModelScenario'] = modscens\n",
    "df_ar6 = df_ar6.drop(['Model', 'Scenario', 'Unit'], axis=1)\n",
    "df_ar6 = df_ar6[df_ar6.ModelScenario.isin(np.array(ms_meta_refined))]\n",
    "\n",
    "dummy = df_ar6.melt(id_vars=[\"Variable\", \"Region\", \"ModelScenario\"], var_name=\"Time\", value_name=\"Value\")\n",
    "dummy['Time'] = np.array(dummy['Time'].astype(int))\n",
    "dummy = dummy.set_index([\"Variable\", \"Region\", \"ModelScenario\", \"Time\"])\n",
    "xr_scen_r = xr.Dataset.from_dataframe(dummy)\n",
    "xr_scen_r = xr_scen_r.reindex(Time = np.arange(1850, 2101))\n",
    "xr_scen_r = xr_scen_r.interpolate_na(dim=\"Time\", method=\"linear\")"
   ]
  },
  {
   "cell_type": "markdown",
   "metadata": {},
   "source": [
    "Concatenate"
   ]
  },
  {
   "cell_type": "code",
   "execution_count": 10,
   "metadata": {},
   "outputs": [],
   "source": [
    "xr_scen_all = xr.merge([xr_scen, xr_scen_r])"
   ]
  },
  {
   "cell_type": "markdown",
   "metadata": {},
   "source": [
    "## Data for plots"
   ]
  },
  {
   "cell_type": "code",
   "execution_count": 11,
   "metadata": {},
   "outputs": [],
   "source": [
    "settings_default = {'Temperature': 1.6,\n",
    "                   'Risk': 0.5,\n",
    "                   'NegEmis': 0.5,\n",
    "                   'NonCO2red': 0.5,\n",
    "                   'Timing': \"Immediate\",\n",
    "                   'Convergence_year': 2050,\n",
    "                   'Scenario': 'SSP2',\n",
    "                   'Discount_factor': 0,\n",
    "                   'Historical_startyear': 1950,}\n",
    "                   #'Capability_threshold': \"Th\",\n",
    "                   #'RCI_weight': \"Half\"}\n",
    "settings_ranges = {'Temperature': [1.6, 2.0],\n",
    "                   'Risk': [0.5, 0.33],\n",
    "                   'Convergence_year': [2050, 2080],\n",
    "                    'NonCO2red':[0.33, 0.5, 0.67],\n",
    "                   'Timing': [\"Immediate\"],\n",
    "                   }\n",
    "                   #'Capability_threshold': \"Th\",\n",
    "                   #'RCI_weight': \"Half\"}"
   ]
  },
  {
   "cell_type": "code",
   "execution_count": 12,
   "metadata": {},
   "outputs": [],
   "source": [
    "ndcs = xr_dataread.GHG_ndc.mean(dim=['Conditionality', 'Ambition'])\n",
    "data = xr_traj_2030.sel(**settings_ranges)[['ECPC', 'AP', 'PCC']]\n",
    "data_max = xr.concat([data.ECPC, data.AP.expand_dims({'Convergence_year': [2050, 2080]}), data.PCC], dim='variable2').max(dim=list(settings_default.keys())+['variable2'])\n",
    "data = xr_traj_2030.sel(**settings_default)[['ECPC', 'AP', 'PCC']]\n",
    "data_def = xr.concat([data.ECPC, data.AP, data.PCC], dim='variable2').max(dim='variable2')"
   ]
  },
  {
   "cell_type": "code",
   "execution_count": 13,
   "metadata": {},
   "outputs": [
    {
     "name": "stdout",
     "output_type": "stream",
     "text": [
      "Preferences on default settings\n",
      "-----\n"
     ]
    }
   ],
   "source": [
    "print(\"Preferences on default settings\")\n",
    "print('-----')\n",
    "data = xr_traj_2030.sel(**settings_default)[['ECPC', 'AP', 'PCC']]\n",
    "data_def = xr.concat([data.ECPC, data.AP, data.PCC], dim='variable2').max(dim='variable2')\n",
    "argmax_default = xr.concat([data.ECPC, data.AP, data.PCC], dim='variable2').fillna(-9e99).argmax(dim='variable2')\n",
    "\n",
    "data = xr_traj_2030.sel(**settings_ranges)[['ECPC', 'AP', 'PCC']]\n",
    "data_max = xr.concat([data.ECPC, data.AP.expand_dims({'Convergence_year': [2050, 2080]}), data.PCC], dim='variable2').max(dim=list(settings_default.keys())+['variable2'])\n",
    "argmax_maximum = xr.concat([data.ECPC, data.AP.expand_dims({'Convergence_year': [2050, 2080]}), data.PCC], dim='variable2').fillna(-9e99).argmax(dim=list(settings_default.keys())+['variable2'])\n",
    "x = xr.concat([data.ECPC, data.AP.expand_dims({'Convergence_year': [2050, 2080]}), data.PCC], dim='variable2').fillna(-9e99)\n",
    "argmax_max = []\n",
    "maxs = x.max(dim=list(settings_default.keys())+['variable2'])\n",
    "for cty in x.Region:\n",
    "    mx = float(maxs.sel(Region=cty).values)\n",
    "    wh = np.where(x.sel(Region=cty).values == mx)\n",
    "    wh = np.array(wh)[:, 0]\n",
    "    argmax_max.append(wh[0])\n",
    "argmax_max = np.array(argmax_max)\n",
    "\n",
    "df_c = []\n",
    "df_r_d = []\n",
    "df_r_m = []\n",
    "for cty_i, cty in enumerate(all_countries_iso):\n",
    "    df_c.append(all_countries_names[cty_i])\n",
    "    df_r_d.append(['ECPC', 'AP', 'PCC'][argmax_default.sel(Region=cty).values])\n",
    "    df_r_m.append(['ECPC', 'AP', 'PCC'][argmax_max[cty_i]])\n",
    "df_dict = {'Region': df_c, 'Default': df_r_d, 'Maximum': df_r_m}\n",
    "df = pd.DataFrame(df_dict)\n",
    "df.to_csv(path_data / \"preferences_default_max.csv\")"
   ]
  },
  {
   "cell_type": "code",
   "execution_count": 14,
   "metadata": {},
   "outputs": [],
   "source": [
    "xr_policyscen = xr.open_dataset(path_data / \"xr_policyscen.nc\")\n",
    "curpols = xr_policyscen.CurPol.sel(Time=2030).mean(dim='Model')\n",
    "nzs = xr_policyscen.NetZero.sel(Time=2030).mean(dim='Model')"
   ]
  },
  {
   "cell_type": "code",
   "execution_count": 15,
   "metadata": {},
   "outputs": [],
   "source": [
    "path_ctygroups = \"X:/user/dekkerm/Data/\" + \"UNFCCC_Parties_Groups_noeu.xlsx\"\n",
    "df = pd.read_excel(path_ctygroups, sheet_name = \"Country groups\")\n",
    "countries_iso = np.array(df[\"Country ISO Code\"])\n",
    "countries_name = np.array(df[\"Name\"])\n",
    "countries_iso = np.array(df[\"Country ISO Code\"])\n",
    "group_eu = countries_iso[np.array(df[\"EU\"]) == 1]"
   ]
  },
  {
   "cell_type": "code",
   "execution_count": 16,
   "metadata": {},
   "outputs": [],
   "source": [
    "costopts = xr_scen_all.sel(Time=2030, Variable='Emissions|Kyoto Gases').mean(dim='ModelScenario')"
   ]
  },
  {
   "cell_type": "markdown",
   "metadata": {},
   "source": [
    "## Gaps"
   ]
  },
  {
   "cell_type": "code",
   "execution_count": 17,
   "metadata": {},
   "outputs": [],
   "source": [
    "nec = xr_dataread.GHG_globe.sel(Time=2030, Temperature=1.6, Risk=0.5, NonCO2red=0.5, NegEmis=0.5, Timing='Immediate').values\n",
    "gap_default = float(data_def.sel(Region=countries_iso).sum() - nec)\n",
    "gap_default_perc = float((data_def.sel(Region=countries_iso).sum() - nec)/nec)\n",
    "\n",
    "gap_max = float(data_max.sel(Region=countries_iso).sum() - nec)\n",
    "gap_max_perc = float((data_max.sel(Region=countries_iso).sum() - nec)/nec)"
   ]
  },
  {
   "cell_type": "code",
   "execution_count": 18,
   "metadata": {},
   "outputs": [],
   "source": [
    "xr_alloc_2030 = xr.open_dataset(path_data / \"startyear_2021/Aggregated_files/xr_alloc_2030_GHG_incl.nc\")"
   ]
  },
  {
   "cell_type": "markdown",
   "metadata": {},
   "source": [
    "## New plot"
   ]
  },
  {
   "cell_type": "code",
   "execution_count": 19,
   "metadata": {},
   "outputs": [
    {
     "data": {
      "application/vnd.plotly.v1+json": {
       "config": {
        "plotlyServerURL": "https://plot.ly"
       },
       "data": [
        {
         "colorbar": {
          "title": {
           "side": "bottom"
          }
         },
         "colorscale": [
          [
           0,
           "rgb(255,255,255)"
          ],
          [
           0.125,
           "rgb(240,240,240)"
          ],
          [
           0.25,
           "rgb(217,217,217)"
          ],
          [
           0.375,
           "rgb(189,189,189)"
          ],
          [
           0.5,
           "rgb(150,150,150)"
          ],
          [
           0.625,
           "rgb(115,115,115)"
          ],
          [
           0.75,
           "rgb(82,82,82)"
          ],
          [
           0.875,
           "rgb(37,37,37)"
          ],
          [
           1,
           "rgb(0,0,0)"
          ]
         ],
         "geo": "geo",
         "hovertemplate": "%{text}",
         "locationmode": "ISO-3",
         "locations": [
          "AND",
          "ATG",
          "ARM",
          "AUT",
          "BHR",
          "BEL",
          "BLZ",
          "BTN",
          "BOL",
          "BRN",
          "BGR",
          "CPV",
          "COG",
          "COK",
          "CIV",
          "HRV",
          "CUB",
          "CYP",
          "CZE",
          "COD",
          "DNK",
          "DMA",
          "ECU",
          "SLV",
          "ERI",
          "EST",
          "SWZ",
          "FJI",
          "FIN",
          "FRA",
          "GAB",
          "DEU",
          "GRC",
          "GNB",
          "GUY",
          "VAT",
          "HUN",
          "IRN",
          "IRQ",
          "IRL",
          "ITA",
          "LAO",
          "LVA",
          "LBY",
          "LIE",
          "LTU",
          "LUX",
          "MKD",
          "MDG",
          "MWI",
          "MLI",
          "MLT",
          "MHL",
          "FSM",
          "MDA",
          "MCO",
          "MNE",
          "MOZ",
          "MMR",
          "NRU",
          "NPL",
          "NLD",
          "NIC",
          "NIU",
          "PLW",
          "PSE",
          "PAN",
          "PNG",
          "POL",
          "PRT",
          "QAT",
          "ROU",
          "RWA",
          "KNA",
          "LCA",
          "VCT",
          "WSM",
          "SMR",
          "SRB",
          "SLE",
          "SVK",
          "SVN",
          "SOM",
          "SSD",
          "ESP",
          "LKA",
          "SDN",
          "SUR",
          "SWE",
          "SYR",
          "TZA",
          "BHS",
          "GMB",
          "TLS",
          "TON",
          "TKM",
          "TUV",
          "URY",
          "VUT",
          "VEN",
          "ZWE",
          "EARTH",
          "G20",
          "G7",
          "SIDS",
          "LDC",
          "African Group",
          "GRL"
         ],
         "marker": {
          "line": {
           "color": "black",
           "width": 0
          }
         },
         "name": "",
         "showscale": false,
         "type": "choropleth",
         "z": [
          -0.5,
          -0.5,
          -0.5,
          -0.5,
          -0.5,
          -0.5,
          -0.5,
          -0.5,
          -0.5,
          -0.5,
          -0.5,
          -0.5,
          -0.5,
          -0.5,
          -0.5,
          -0.5,
          -0.5,
          -0.5,
          -0.5,
          -0.5,
          -0.5,
          -0.5,
          -0.5,
          -0.5,
          -0.5,
          -0.5,
          -0.5,
          -0.5,
          -0.5,
          -0.5,
          -0.5,
          -0.5,
          -0.5,
          -0.5,
          -0.5,
          -0.5,
          -0.5,
          -0.5,
          -0.5,
          -0.5,
          -0.5,
          -0.5,
          -0.5,
          -0.5,
          -0.5,
          -0.5,
          -0.5,
          -0.5,
          -0.5,
          -0.5,
          -0.5,
          -0.5,
          -0.5,
          -0.5,
          -0.5,
          -0.5,
          -0.5,
          -0.5,
          -0.5,
          -0.5,
          -0.5,
          -0.5,
          -0.5,
          -0.5,
          -0.5,
          -0.5,
          -0.5,
          -0.5,
          -0.5,
          -0.5,
          -0.5,
          -0.5,
          -0.5,
          -0.5,
          -0.5,
          -0.5,
          -0.5,
          -0.5,
          -0.5,
          -0.5,
          -0.5,
          -0.5,
          -0.5,
          -0.5,
          -0.5,
          -0.5,
          -0.5,
          -0.5,
          -0.5,
          -0.5,
          -0.5,
          -0.5,
          -0.5,
          -0.5,
          -0.5,
          -0.5,
          -0.5,
          -0.5,
          -0.5,
          -0.5,
          -0.5,
          -0.5,
          -0.5,
          -0.5,
          -0.5,
          -0.5,
          -0.5,
          -0.5
         ],
         "zmax": 1,
         "zmin": -1
        },
        {
         "colorbar": {
          "len": 0.4,
          "lenmode": "fraction",
          "orientation": "h",
          "thickness": 20,
          "thicknessmode": "pixels",
          "tickfont": {
           "size": 14
          },
          "ticktext": [
           "100%<br>NDC sufficient <",
           "50%",
           "0%",
           "50%",
           "100%<br>> NDC insufficient"
          ],
          "tickvals": [
           -1,
           -0.5,
           0,
           0.5,
           1
          ],
          "title": {
           "font": {
            "size": 14
           },
           "side": "bottom",
           "text": "NDC deviation from emission allocation in 2030"
          },
          "x": 0.5,
          "xanchor": "center",
          "y": 0.675,
          "yanchor": "bottom"
         },
         "colorscale": [
          [
           0,
           "rgb(49,54,149)"
          ],
          [
           0.1,
           "rgb(69,117,180)"
          ],
          [
           0.2,
           "rgb(116,173,209)"
          ],
          [
           0.3,
           "rgb(171,217,233)"
          ],
          [
           0.4,
           "rgb(224,243,248)"
          ],
          [
           0.5,
           "rgb(255,255,191)"
          ],
          [
           0.6,
           "rgb(254,224,144)"
          ],
          [
           0.7,
           "rgb(253,174,97)"
          ],
          [
           0.8,
           "rgb(244,109,67)"
          ],
          [
           0.9,
           "rgb(215,48,39)"
          ],
          [
           1,
           "rgb(165,0,38)"
          ]
         ],
         "geo": "geo",
         "hovertemplate": "%{text}",
         "locationmode": "ISO-3",
         "locations": [
          "AFG",
          "ALB",
          "DZA",
          "AND",
          "AGO",
          "ATG",
          "ARG",
          "ARM",
          "AUS",
          "AUT",
          "AZE",
          "BHR",
          "BGD",
          "BRB",
          "BLR",
          "BEL",
          "BLZ",
          "BEN",
          "BTN",
          "BOL",
          "BIH",
          "BWA",
          "BRA",
          "BRN",
          "BGR",
          "BFA",
          "BDI",
          "KHM",
          "CMR",
          "CAN",
          "CPV",
          "CAF",
          "TCD",
          "CHL",
          "CHN",
          "COL",
          "COM",
          "COG",
          "COK",
          "CRI",
          "CIV",
          "HRV",
          "CUB",
          "CYP",
          "CZE",
          "COD",
          "DNK",
          "DJI",
          "DMA",
          "DOM",
          "ECU",
          "EGY",
          "SLV",
          "GNQ",
          "ERI",
          "EST",
          "SWZ",
          "ETH",
          "FJI",
          "FIN",
          "FRA",
          "GAB",
          "GEO",
          "DEU",
          "GHA",
          "GRC",
          "GRD",
          "GTM",
          "GIN",
          "GNB",
          "GUY",
          "HTI",
          "VAT",
          "HND",
          "HUN",
          "ISL",
          "IND",
          "IDN",
          "IRN",
          "IRQ",
          "IRL",
          "ISR",
          "ITA",
          "JAM",
          "JPN",
          "JOR",
          "KAZ",
          "KEN",
          "KIR",
          "KWT",
          "KGZ",
          "LAO",
          "LVA",
          "LBN",
          "LSO",
          "LBR",
          "LBY",
          "LIE",
          "LTU",
          "LUX",
          "MKD",
          "MDG",
          "MWI",
          "MYS",
          "MDV",
          "MLI",
          "MLT",
          "MHL",
          "MRT",
          "MUS",
          "MEX",
          "FSM",
          "MDA",
          "MCO",
          "MNG",
          "MNE",
          "MAR",
          "MOZ",
          "MMR",
          "NAM",
          "NRU",
          "NPL",
          "NLD",
          "NZL",
          "NIC",
          "NER",
          "NGA",
          "NIU",
          "PRK",
          "NOR",
          "OMN",
          "PAK",
          "PLW",
          "PSE",
          "PAN",
          "PNG",
          "PRY",
          "PER",
          "PHL",
          "POL",
          "PRT",
          "QAT",
          "ROU",
          "RUS",
          "RWA",
          "KNA",
          "LCA",
          "VCT",
          "WSM",
          "SMR",
          "STP",
          "SAU",
          "SEN",
          "SRB",
          "SYC",
          "SLE",
          "SGP",
          "SVK",
          "SVN",
          "SLB",
          "SOM",
          "ZAF",
          "KOR",
          "SSD",
          "ESP",
          "LKA",
          "SDN",
          "SUR",
          "SWE",
          "CHE",
          "SYR",
          "TJK",
          "TZA",
          "THA",
          "BHS",
          "GMB",
          "TLS",
          "TGO",
          "TON",
          "TTO",
          "TUN",
          "TUR",
          "TKM",
          "TUV",
          "UGA",
          "UKR",
          "ARE",
          "GBR",
          "USA",
          "URY",
          "UZB",
          "VUT",
          "VEN",
          "VNM",
          "YEM",
          "ZMB",
          "ZWE",
          "EU",
          "EARTH",
          "G20",
          "G7",
          "SIDS",
          "LDC",
          "Northern America",
          "Australasia",
          "African Group",
          "Umbrella"
         ],
         "marker": {
          "line": {
           "color": "black",
           "width": 0.1
          }
         },
         "name": "",
         "showscale": true,
         "text": [
          "AFG: -95.2 %",
          "ALB: -79.4 %",
          "DZA: -34.5 %",
          "AND: nan %",
          "AGO: -35.3 %",
          "ATG: nan %",
          "ARG: 92.2 %",
          "ARM: nan %",
          "AUS: 69.6 %",
          "AUT: nan %",
          "AZE: 13.8 %",
          "BHR: nan %",
          "BGD: -88.7 %",
          "BRB: -87.5 %",
          "BLR: 207.3 %",
          "BEL: nan %",
          "BLZ: nan %",
          "BEN: -78.5 %",
          "BTN: nan %",
          "BOL: nan %",
          "BIH: -35.3 %",
          "BWA: 1.1 %",
          "BRA: 47.9 %",
          "BRN: nan %",
          "BGR: nan %",
          "BFA: -83.9 %",
          "BDI: -130.0 %",
          "KHM: 13.2 %",
          "CMR: -112.2 %",
          "CAN: 32.3 %",
          "CPV: nan %",
          "CAF: -17.1 %",
          "TCD: 84.5 %",
          "CHL: 57.0 %",
          "CHN: -24.9 %",
          "COL: 20.8 %",
          "COM: -100.1 %",
          "COG: nan %",
          "COK: nan %",
          "CRI: -15.3 %",
          "CIV: nan %",
          "HRV: nan %",
          "CUB: nan %",
          "CYP: nan %",
          "CZE: nan %",
          "COD: nan %",
          "DNK: nan %",
          "DJI: -80.5 %",
          "DMA: nan %",
          "DOM: -69.7 %",
          "ECU: nan %",
          "EGY: -70.7 %",
          "SLV: nan %",
          "GNQ: 177.3 %",
          "ERI: nan %",
          "EST: nan %",
          "SWZ: nan %",
          "ETH: -85.1 %",
          "FJI: nan %",
          "FIN: nan %",
          "FRA: nan %",
          "GAB: nan %",
          "GEO: -90.8 %",
          "DEU: nan %",
          "GHA: -91.5 %",
          "GRC: nan %",
          "GRD: -97.4 %",
          "GTM: -66.7 %",
          "GIN: -79.5 %",
          "GNB: nan %",
          "GUY: nan %",
          "HTI: -94.3 %",
          "VAT: nan %",
          "HND: -40.5 %",
          "HUN: nan %",
          "ISL: -10.0 %",
          "IND: -78.4 %",
          "IDN: 16.3 %",
          "IRN: nan %",
          "IRQ: nan %",
          "IRL: nan %",
          "ISR: 35.7 %",
          "ITA: nan %",
          "JAM: -76.2 %",
          "JPN: 46.8 %",
          "JOR: -70.9 %",
          "KAZ: 63.8 %",
          "KEN: -88.4 %",
          "KIR: -97.6 %",
          "KWT: 217.6 %",
          "KGZ: -60.3 %",
          "LAO: nan %",
          "LVA: nan %",
          "LBN: -60.1 %",
          "LSO: -93.0 %",
          "LBR: -61.2 %",
          "LBY: nan %",
          "LIE: nan %",
          "LTU: nan %",
          "LUX: nan %",
          "MKD: nan %",
          "MDG: nan %",
          "MWI: nan %",
          "MYS: 1452.8 %",
          "MDV: -72.7 %",
          "MLI: nan %",
          "MLT: nan %",
          "MHL: nan %",
          "MRT: -45.6 %",
          "MUS: -82.5 %",
          "MEX: 59.0 %",
          "FSM: nan %",
          "MDA: nan %",
          "MCO: nan %",
          "MNG: 68.4 %",
          "MNE: nan %",
          "MAR: -83.0 %",
          "MOZ: nan %",
          "MMR: nan %",
          "NAM: 1.2 %",
          "NRU: nan %",
          "NPL: nan %",
          "NLD: nan %",
          "NZL: 51.6 %",
          "NIC: nan %",
          "NER: -14.0 %",
          "NGA: -86.8 %",
          "NIU: nan %",
          "PRK: -13.0 %",
          "NOR: -59.2 %",
          "OMN: 70.9 %",
          "PAK: -79.6 %",
          "PLW: nan %",
          "PSE: nan %",
          "PAN: nan %",
          "PNG: nan %",
          "PRY: 134.8 %",
          "PER: -42.2 %",
          "PHL: -92.5 %",
          "POL: nan %",
          "PRT: nan %",
          "QAT: nan %",
          "ROU: nan %",
          "RUS: 224.3 %",
          "RWA: nan %",
          "KNA: nan %",
          "LCA: nan %",
          "VCT: nan %",
          "WSM: nan %",
          "SMR: nan %",
          "STP: -95.2 %",
          "SAU: 218.0 %",
          "SEN: -74.6 %",
          "SRB: nan %",
          "SYC: -60.8 %",
          "SLE: nan %",
          "SGP: 120.0 %",
          "SVK: nan %",
          "SVN: nan %",
          "SLB: 261.0 %",
          "SOM: nan %",
          "ZAF: 35.1 %",
          "KOR: 43.6 %",
          "SSD: nan %",
          "ESP: nan %",
          "LKA: nan %",
          "SDN: nan %",
          "SUR: nan %",
          "SWE: nan %",
          "CHE: -45.1 %",
          "SYR: nan %",
          "TJK: -75.4 %",
          "TZA: nan %",
          "THA: 20.6 %",
          "BHS: nan %",
          "GMB: nan %",
          "TLS: nan %",
          "TGO: -92.7 %",
          "TON: nan %",
          "TTO: 370.6 %",
          "TUN: -85.3 %",
          "TUR: -4.5 %",
          "TKM: nan %",
          "TUV: nan %",
          "UGA: -87.1 %",
          "UKR: 44.4 %",
          "ARE: 61.3 %",
          "GBR: 6.9 %",
          "USA: 25.2 %",
          "URY: nan %",
          "UZB: 121.9 %",
          "VUT: nan %",
          "VEN: nan %",
          "VNM: -27.7 %",
          "YEM: -93.8 %",
          "ZMB: -1562.7 %",
          "ZWE: nan %",
          "EU: 21.9 %",
          "EARTH: nan %",
          "G20: nan %",
          "G7: nan %",
          "SIDS: nan %",
          "LDC: nan %",
          "Northern America: 26.0 %",
          "Australasia: 67.5 %",
          "African Group: nan %",
          "Umbrella: 35.9 %"
         ],
         "type": "choropleth",
         "z": [
          -0.9520267279399877,
          -0.7936759973668694,
          -0.344845803817945,
          null,
          -0.35275566464753905,
          null,
          0.9219615222287364,
          null,
          0.6957402834730346,
          null,
          0.13771050017972722,
          null,
          -0.8867785749529443,
          -0.8746842275053296,
          2.0731922301839836,
          null,
          null,
          -0.7854339421825786,
          null,
          null,
          -0.3528738152447852,
          0.01104549953395979,
          0.47870206958646766,
          null,
          null,
          -0.8388302063621463,
          -1.2996614086151093,
          0.13235148313205597,
          -1.1216418274683093,
          0.3234662911238129,
          null,
          -0.17067508441687307,
          0.8446699551266323,
          0.5695580521005326,
          -0.24850008517004382,
          0.20790875255142843,
          -1.0006954728969188,
          null,
          null,
          -0.15349812856950093,
          null,
          null,
          null,
          null,
          null,
          null,
          null,
          -0.8051424158306388,
          null,
          -0.6970062219990196,
          null,
          -0.706575232046588,
          null,
          1.773170444351147,
          null,
          null,
          null,
          -0.8511797053888751,
          null,
          null,
          null,
          null,
          -0.9077200096226811,
          null,
          -0.9147651202022119,
          null,
          -0.9736265314739464,
          -0.6667226688158824,
          -0.7953752452760917,
          null,
          null,
          -0.942660511484147,
          null,
          -0.4053818428737947,
          null,
          -0.10018037787276718,
          -0.7843808640376148,
          0.16311578828373102,
          null,
          null,
          null,
          0.3566205381356178,
          null,
          -0.7615571376754232,
          0.46782246814409284,
          -0.7088122494294502,
          0.6376448691042403,
          -0.8842915277538198,
          -0.975889665492499,
          2.175991342785594,
          -0.6031072690240823,
          null,
          null,
          -0.6013016543113853,
          -0.9302899616729698,
          -0.6118251423590145,
          null,
          null,
          null,
          null,
          null,
          null,
          null,
          14.527977574781426,
          -0.726693188886038,
          null,
          null,
          null,
          -0.4555615424147286,
          -0.825489760575145,
          0.590350753276676,
          null,
          null,
          null,
          0.6838194282711355,
          null,
          -0.8300740703369162,
          null,
          null,
          0.012101245799737634,
          null,
          null,
          null,
          0.5160991565840911,
          null,
          -0.14029444961745807,
          -0.8675803752533974,
          null,
          -0.12970872549117146,
          -0.5920086132350704,
          0.7085930886290257,
          -0.7956975079617405,
          null,
          null,
          null,
          null,
          1.3479117308961595,
          -0.42198156485484034,
          -0.9245694874245317,
          null,
          null,
          null,
          null,
          2.242867346423394,
          null,
          null,
          null,
          null,
          null,
          null,
          -0.9523259859077386,
          2.1798001046520556,
          -0.7461039105623316,
          null,
          -0.6078896360737999,
          null,
          1.2002969442049882,
          null,
          null,
          2.6101671347646933,
          null,
          0.3505516241071221,
          0.4358006382908872,
          null,
          null,
          null,
          null,
          null,
          null,
          -0.4512684635880154,
          null,
          -0.7541443411342581,
          null,
          0.20619329290933774,
          null,
          null,
          null,
          -0.9265057221790025,
          null,
          3.705868132644876,
          -0.853173055769107,
          -0.04472946257904918,
          null,
          null,
          -0.8705404959913169,
          0.4436022379630871,
          0.6128687999229488,
          0.06865951383219658,
          0.2520766727789203,
          null,
          1.2191290275801134,
          null,
          null,
          -0.27744795218884916,
          -0.9380809745891456,
          -15.627277913386544,
          null,
          0.21873350804611993,
          null,
          null,
          null,
          null,
          null,
          0.260079404175429,
          0.6749834748886856,
          null,
          0.3585781819383291
         ],
         "zmax": 1,
         "zmin": -1
        },
        {
         "colorbar": {
          "title": {
           "side": "bottom"
          }
         },
         "colorscale": [
          [
           0,
           "rgb(49,54,149)"
          ],
          [
           0.1,
           "rgb(69,117,180)"
          ],
          [
           0.2,
           "rgb(116,173,209)"
          ],
          [
           0.3,
           "rgb(171,217,233)"
          ],
          [
           0.4,
           "rgb(224,243,248)"
          ],
          [
           0.5,
           "rgb(255,255,191)"
          ],
          [
           0.6,
           "rgb(254,224,144)"
          ],
          [
           0.7,
           "rgb(253,174,97)"
          ],
          [
           0.8,
           "rgb(244,109,67)"
          ],
          [
           0.9,
           "rgb(215,48,39)"
          ],
          [
           1,
           "rgb(165,0,38)"
          ]
         ],
         "geo": "geo",
         "hovertemplate": "%{text}",
         "locationmode": "ISO-3",
         "locations": [
          "AUT",
          "BEL",
          "BGR",
          "HRV",
          "CYP",
          "CZE",
          "DNK",
          "EST",
          "FIN",
          "FRA",
          "DEU",
          "GRC",
          "HUN",
          "IRL",
          "ITA",
          "LVA",
          "LTU",
          "LUX",
          "MLT",
          "NLD",
          "POL",
          "PRT",
          "ROU",
          "SVK",
          "SVN",
          "ESP",
          "SWE"
         ],
         "marker": {
          "line": {
           "color": "black",
           "width": 0.1
          }
         },
         "name": "",
         "showscale": false,
         "type": "choropleth",
         "z": [
          0.21873350804611993,
          0.21873350804611993,
          0.21873350804611993,
          0.21873350804611993,
          0.21873350804611993,
          0.21873350804611993,
          0.21873350804611993,
          0.21873350804611993,
          0.21873350804611993,
          0.21873350804611993,
          0.21873350804611993,
          0.21873350804611993,
          0.21873350804611993,
          0.21873350804611993,
          0.21873350804611993,
          0.21873350804611993,
          0.21873350804611993,
          0.21873350804611993,
          0.21873350804611993,
          0.21873350804611993,
          0.21873350804611993,
          0.21873350804611993,
          0.21873350804611993,
          0.21873350804611993,
          0.21873350804611993,
          0.21873350804611993,
          0.21873350804611993
         ],
         "zmax": 1,
         "zmin": -1
        },
        {
         "colorbar": {
          "title": {
           "side": "bottom"
          }
         },
         "colorscale": [
          [
           0,
           "rgb(49,54,149)"
          ],
          [
           0.1,
           "rgb(69,117,180)"
          ],
          [
           0.2,
           "rgb(116,173,209)"
          ],
          [
           0.3,
           "rgb(171,217,233)"
          ],
          [
           0.4,
           "rgb(224,243,248)"
          ],
          [
           0.5,
           "rgb(255,255,191)"
          ],
          [
           0.6,
           "rgb(254,224,144)"
          ],
          [
           0.7,
           "rgb(253,174,97)"
          ],
          [
           0.8,
           "rgb(244,109,67)"
          ],
          [
           0.9,
           "rgb(215,48,39)"
          ],
          [
           1,
           "rgb(165,0,38)"
          ]
         ],
         "geo": "geo",
         "hovertemplate": "%{text}",
         "locationmode": "ISO-3",
         "locations": [
          "ARG",
          "AUS",
          "AZE",
          "BLR",
          "BWA",
          "BRA",
          "KHM",
          "CAN",
          "TCD",
          "CHL",
          "COL",
          "GNQ",
          "IDN",
          "ISR",
          "JPN",
          "KAZ",
          "KWT",
          "MYS",
          "MEX",
          "MNG",
          "NAM",
          "NZL",
          "OMN",
          "PRY",
          "RUS",
          "SAU",
          "SGP",
          "SLB",
          "ZAF",
          "KOR",
          "THA",
          "TTO",
          "UKR",
          "ARE",
          "GBR",
          "USA",
          "UZB",
          "EU",
          "Northern America",
          "Australasia",
          "Umbrella"
         ],
         "marker": {
          "line": {
           "color": "black",
           "width": 2
          }
         },
         "name": "",
         "showscale": false,
         "text": [
          "ARG: 92.2 %",
          "AUS: 69.6 %",
          "AZE: 13.8 %",
          "BLR: 207.3 %",
          "BWA: 1.1 %",
          "BRA: 47.9 %",
          "KHM: 13.2 %",
          "CAN: 32.3 %",
          "TCD: 84.5 %",
          "CHL: 57.0 %",
          "COL: 20.8 %",
          "GNQ: 177.3 %",
          "IDN: 16.3 %",
          "ISR: 35.7 %",
          "JPN: 46.8 %",
          "KAZ: 63.8 %",
          "KWT: 217.6 %",
          "MYS: 1452.8 %",
          "MEX: 59.0 %",
          "MNG: 68.4 %",
          "NAM: 1.2 %",
          "NZL: 51.6 %",
          "OMN: 70.9 %",
          "PRY: 134.8 %",
          "RUS: 224.3 %",
          "SAU: 218.0 %",
          "SGP: 120.0 %",
          "SLB: 261.0 %",
          "ZAF: 35.1 %",
          "KOR: 43.6 %",
          "THA: 20.6 %",
          "TTO: 370.6 %",
          "UKR: 44.4 %",
          "ARE: 61.3 %",
          "GBR: 6.9 %",
          "USA: 25.2 %",
          "UZB: 121.9 %",
          "EU: 21.9 %",
          "Northern America: 26.0 %",
          "Australasia: 67.5 %",
          "Umbrella: 35.9 %"
         ],
         "type": "choropleth",
         "z": [
          0.9219615222287364,
          0.6957402834730346,
          0.13771050017972722,
          2.0731922301839836,
          0.01104549953395979,
          0.47870206958646766,
          0.13235148313205597,
          0.3234662911238129,
          0.8446699551266323,
          0.5695580521005326,
          0.20790875255142843,
          1.773170444351147,
          0.16311578828373102,
          0.3566205381356178,
          0.46782246814409284,
          0.6376448691042403,
          2.175991342785594,
          14.527977574781426,
          0.590350753276676,
          0.6838194282711355,
          0.012101245799737634,
          0.5160991565840911,
          0.7085930886290257,
          1.3479117308961595,
          2.242867346423394,
          2.1798001046520556,
          1.2002969442049882,
          2.6101671347646933,
          0.3505516241071221,
          0.4358006382908872,
          0.20619329290933774,
          3.705868132644876,
          0.4436022379630871,
          0.6128687999229488,
          0.06865951383219658,
          0.2520766727789203,
          1.2191290275801134,
          0.21873350804611993,
          0.260079404175429,
          0.6749834748886856,
          0.3585781819383291
         ],
         "zmax": 1,
         "zmin": -1
        },
        {
         "colorbar": {
          "title": {
           "side": "bottom"
          }
         },
         "colorscale": [
          [
           0,
           "rgb(49,54,149)"
          ],
          [
           0.1,
           "rgb(69,117,180)"
          ],
          [
           0.2,
           "rgb(116,173,209)"
          ],
          [
           0.3,
           "rgb(171,217,233)"
          ],
          [
           0.4,
           "rgb(224,243,248)"
          ],
          [
           0.5,
           "rgb(255,255,191)"
          ],
          [
           0.6,
           "rgb(254,224,144)"
          ],
          [
           0.7,
           "rgb(253,174,97)"
          ],
          [
           0.8,
           "rgb(244,109,67)"
          ],
          [
           0.9,
           "rgb(215,48,39)"
          ],
          [
           1,
           "rgb(165,0,38)"
          ]
         ],
         "geo": "geo",
         "hovertemplate": "%{text}",
         "locationmode": "ISO-3",
         "locations": [
          "AUT",
          "BEL",
          "BGR",
          "HRV",
          "CYP",
          "CZE",
          "DNK",
          "EST",
          "FIN",
          "FRA",
          "DEU",
          "GRC",
          "HUN",
          "IRL",
          "ITA",
          "LVA",
          "LTU",
          "LUX",
          "MLT",
          "NLD",
          "POL",
          "PRT",
          "ROU",
          "SVK",
          "SVN",
          "ESP",
          "SWE"
         ],
         "marker": {
          "line": {
           "color": "black",
           "width": 2
          }
         },
         "name": "",
         "showscale": false,
         "type": "choropleth",
         "z": [
          0.21873350804611993,
          0.21873350804611993,
          0.21873350804611993,
          0.21873350804611993,
          0.21873350804611993,
          0.21873350804611993,
          0.21873350804611993,
          0.21873350804611993,
          0.21873350804611993,
          0.21873350804611993,
          0.21873350804611993,
          0.21873350804611993,
          0.21873350804611993,
          0.21873350804611993,
          0.21873350804611993,
          0.21873350804611993,
          0.21873350804611993,
          0.21873350804611993,
          0.21873350804611993,
          0.21873350804611993,
          0.21873350804611993,
          0.21873350804611993,
          0.21873350804611993,
          0.21873350804611993,
          0.21873350804611993,
          0.21873350804611993,
          0.21873350804611993
         ],
         "zmax": 1,
         "zmin": -1
        },
        {
         "colorbar": {
          "title": {
           "side": "bottom"
          }
         },
         "colorscale": [
          [
           0,
           "rgb(255,255,255)"
          ],
          [
           0.125,
           "rgb(240,240,240)"
          ],
          [
           0.25,
           "rgb(217,217,217)"
          ],
          [
           0.375,
           "rgb(189,189,189)"
          ],
          [
           0.5,
           "rgb(150,150,150)"
          ],
          [
           0.625,
           "rgb(115,115,115)"
          ],
          [
           0.75,
           "rgb(82,82,82)"
          ],
          [
           0.875,
           "rgb(37,37,37)"
          ],
          [
           1,
           "rgb(0,0,0)"
          ]
         ],
         "geo": "geo2",
         "hovertemplate": "%{text}",
         "locationmode": "ISO-3",
         "locations": [
          "AND",
          "ATG",
          "ARM",
          "AUT",
          "BHR",
          "BEL",
          "BLZ",
          "BTN",
          "BOL",
          "BRN",
          "BGR",
          "CPV",
          "COG",
          "COK",
          "CIV",
          "HRV",
          "CUB",
          "CYP",
          "CZE",
          "COD",
          "DNK",
          "DMA",
          "ECU",
          "SLV",
          "ERI",
          "EST",
          "SWZ",
          "FJI",
          "FIN",
          "FRA",
          "GAB",
          "DEU",
          "GRC",
          "GNB",
          "GUY",
          "VAT",
          "HUN",
          "IRN",
          "IRQ",
          "IRL",
          "ITA",
          "LAO",
          "LVA",
          "LBY",
          "LIE",
          "LTU",
          "LUX",
          "MKD",
          "MDG",
          "MWI",
          "MLI",
          "MLT",
          "MHL",
          "FSM",
          "MDA",
          "MCO",
          "MNE",
          "MOZ",
          "MMR",
          "NRU",
          "NPL",
          "NLD",
          "NIC",
          "NIU",
          "PLW",
          "PSE",
          "PAN",
          "PNG",
          "POL",
          "PRT",
          "QAT",
          "ROU",
          "RWA",
          "KNA",
          "LCA",
          "VCT",
          "WSM",
          "SMR",
          "SRB",
          "SLE",
          "SVK",
          "SVN",
          "SOM",
          "SSD",
          "ESP",
          "LKA",
          "SDN",
          "SUR",
          "SWE",
          "SYR",
          "TZA",
          "BHS",
          "GMB",
          "TLS",
          "TON",
          "TKM",
          "TUV",
          "URY",
          "VUT",
          "VEN",
          "ZWE",
          "EARTH",
          "G20",
          "G7",
          "SIDS",
          "LDC",
          "African Group",
          "GRL"
         ],
         "marker": {
          "line": {
           "color": "black",
           "width": 0
          }
         },
         "name": "",
         "showscale": false,
         "type": "choropleth",
         "z": [
          -0.5,
          -0.5,
          -0.5,
          -0.5,
          -0.5,
          -0.5,
          -0.5,
          -0.5,
          -0.5,
          -0.5,
          -0.5,
          -0.5,
          -0.5,
          -0.5,
          -0.5,
          -0.5,
          -0.5,
          -0.5,
          -0.5,
          -0.5,
          -0.5,
          -0.5,
          -0.5,
          -0.5,
          -0.5,
          -0.5,
          -0.5,
          -0.5,
          -0.5,
          -0.5,
          -0.5,
          -0.5,
          -0.5,
          -0.5,
          -0.5,
          -0.5,
          -0.5,
          -0.5,
          -0.5,
          -0.5,
          -0.5,
          -0.5,
          -0.5,
          -0.5,
          -0.5,
          -0.5,
          -0.5,
          -0.5,
          -0.5,
          -0.5,
          -0.5,
          -0.5,
          -0.5,
          -0.5,
          -0.5,
          -0.5,
          -0.5,
          -0.5,
          -0.5,
          -0.5,
          -0.5,
          -0.5,
          -0.5,
          -0.5,
          -0.5,
          -0.5,
          -0.5,
          -0.5,
          -0.5,
          -0.5,
          -0.5,
          -0.5,
          -0.5,
          -0.5,
          -0.5,
          -0.5,
          -0.5,
          -0.5,
          -0.5,
          -0.5,
          -0.5,
          -0.5,
          -0.5,
          -0.5,
          -0.5,
          -0.5,
          -0.5,
          -0.5,
          -0.5,
          -0.5,
          -0.5,
          -0.5,
          -0.5,
          -0.5,
          -0.5,
          -0.5,
          -0.5,
          -0.5,
          -0.5,
          -0.5,
          -0.5,
          -0.5,
          -0.5,
          -0.5,
          -0.5,
          -0.5,
          -0.5,
          -0.5
         ],
         "zmax": 1,
         "zmin": -1
        },
        {
         "colorbar": {
          "len": 0.4,
          "lenmode": "fraction",
          "orientation": "h",
          "thickness": 20,
          "thicknessmode": "pixels",
          "tickfont": {
           "size": 14
          },
          "ticktext": [
           "100%<br>NDC sufficient <",
           "50%",
           "0%",
           "50%",
           "100%<br>> NDC insufficient"
          ],
          "tickvals": [
           -1,
           -0.5,
           0,
           0.5,
           1
          ],
          "title": {
           "font": {
            "size": 14
           },
           "side": "bottom",
           "text": "NDC deviation from emission allocation in 2030"
          },
          "x": 0.5,
          "xanchor": "center",
          "y": 0.675,
          "yanchor": "bottom"
         },
         "colorscale": [
          [
           0,
           "rgb(49,54,149)"
          ],
          [
           0.1,
           "rgb(69,117,180)"
          ],
          [
           0.2,
           "rgb(116,173,209)"
          ],
          [
           0.3,
           "rgb(171,217,233)"
          ],
          [
           0.4,
           "rgb(224,243,248)"
          ],
          [
           0.5,
           "rgb(255,255,191)"
          ],
          [
           0.6,
           "rgb(254,224,144)"
          ],
          [
           0.7,
           "rgb(253,174,97)"
          ],
          [
           0.8,
           "rgb(244,109,67)"
          ],
          [
           0.9,
           "rgb(215,48,39)"
          ],
          [
           1,
           "rgb(165,0,38)"
          ]
         ],
         "geo": "geo2",
         "hovertemplate": "%{text}",
         "locationmode": "ISO-3",
         "locations": [
          "AFG",
          "ALB",
          "DZA",
          "AND",
          "AGO",
          "ATG",
          "ARG",
          "ARM",
          "AUS",
          "AUT",
          "AZE",
          "BHR",
          "BGD",
          "BRB",
          "BLR",
          "BEL",
          "BLZ",
          "BEN",
          "BTN",
          "BOL",
          "BIH",
          "BWA",
          "BRA",
          "BRN",
          "BGR",
          "BFA",
          "BDI",
          "KHM",
          "CMR",
          "CAN",
          "CPV",
          "CAF",
          "TCD",
          "CHL",
          "CHN",
          "COL",
          "COM",
          "COG",
          "COK",
          "CRI",
          "CIV",
          "HRV",
          "CUB",
          "CYP",
          "CZE",
          "COD",
          "DNK",
          "DJI",
          "DMA",
          "DOM",
          "ECU",
          "EGY",
          "SLV",
          "GNQ",
          "ERI",
          "EST",
          "SWZ",
          "ETH",
          "FJI",
          "FIN",
          "FRA",
          "GAB",
          "GEO",
          "DEU",
          "GHA",
          "GRC",
          "GRD",
          "GTM",
          "GIN",
          "GNB",
          "GUY",
          "HTI",
          "VAT",
          "HND",
          "HUN",
          "ISL",
          "IND",
          "IDN",
          "IRN",
          "IRQ",
          "IRL",
          "ISR",
          "ITA",
          "JAM",
          "JPN",
          "JOR",
          "KAZ",
          "KEN",
          "KIR",
          "KWT",
          "KGZ",
          "LAO",
          "LVA",
          "LBN",
          "LSO",
          "LBR",
          "LBY",
          "LIE",
          "LTU",
          "LUX",
          "MKD",
          "MDG",
          "MWI",
          "MYS",
          "MDV",
          "MLI",
          "MLT",
          "MHL",
          "MRT",
          "MUS",
          "MEX",
          "FSM",
          "MDA",
          "MCO",
          "MNG",
          "MNE",
          "MAR",
          "MOZ",
          "MMR",
          "NAM",
          "NRU",
          "NPL",
          "NLD",
          "NZL",
          "NIC",
          "NER",
          "NGA",
          "NIU",
          "PRK",
          "NOR",
          "OMN",
          "PAK",
          "PLW",
          "PSE",
          "PAN",
          "PNG",
          "PRY",
          "PER",
          "PHL",
          "POL",
          "PRT",
          "QAT",
          "ROU",
          "RUS",
          "RWA",
          "KNA",
          "LCA",
          "VCT",
          "WSM",
          "SMR",
          "STP",
          "SAU",
          "SEN",
          "SRB",
          "SYC",
          "SLE",
          "SGP",
          "SVK",
          "SVN",
          "SLB",
          "SOM",
          "ZAF",
          "KOR",
          "SSD",
          "ESP",
          "LKA",
          "SDN",
          "SUR",
          "SWE",
          "CHE",
          "SYR",
          "TJK",
          "TZA",
          "THA",
          "BHS",
          "GMB",
          "TLS",
          "TGO",
          "TON",
          "TTO",
          "TUN",
          "TUR",
          "TKM",
          "TUV",
          "UGA",
          "UKR",
          "ARE",
          "GBR",
          "USA",
          "URY",
          "UZB",
          "VUT",
          "VEN",
          "VNM",
          "YEM",
          "ZMB",
          "ZWE",
          "EU",
          "EARTH",
          "G20",
          "G7",
          "SIDS",
          "LDC",
          "Northern America",
          "Australasia",
          "African Group",
          "Umbrella"
         ],
         "marker": {
          "line": {
           "color": "black",
           "width": 0.1
          }
         },
         "name": "",
         "showscale": true,
         "text": [
          "AFG: -96.2 %",
          "ALB: -84.5 %",
          "DZA: -62.7 %",
          "AND: nan %",
          "AGO: -53.1 %",
          "ATG: nan %",
          "ARG: 15.9 %",
          "ARM: nan %",
          "AUS: -9.6 %",
          "AUT: nan %",
          "AZE: -50.0 %",
          "BHR: nan %",
          "BGD: -90.9 %",
          "BRB: -95.0 %",
          "BLR: 87.1 %",
          "BEL: nan %",
          "BLZ: nan %",
          "BEN: -84.9 %",
          "BTN: nan %",
          "BOL: nan %",
          "BIH: -60.5 %",
          "BWA: -36.4 %",
          "BRA: -2.9 %",
          "BRN: nan %",
          "BGR: nan %",
          "BFA: -88.1 %",
          "BDI: -123.9 %",
          "KHM: -15.5 %",
          "CMR: -109.3 %",
          "CAN: -29.0 %",
          "CPV: nan %",
          "CAF: -38.7 %",
          "TCD: 26.6 %",
          "CHL: 10.5 %",
          "CHN: -60.7 %",
          "COL: -49.7 %",
          "COM: -100.1 %",
          "COG: nan %",
          "COK: nan %",
          "CRI: -84.5 %",
          "CIV: nan %",
          "HRV: nan %",
          "CUB: nan %",
          "CYP: nan %",
          "CZE: nan %",
          "COD: nan %",
          "DNK: nan %",
          "DJI: -83.6 %",
          "DMA: nan %",
          "DOM: -73.8 %",
          "ECU: nan %",
          "EGY: -77.7 %",
          "SLV: nan %",
          "GNQ: 61.1 %",
          "ERI: nan %",
          "EST: nan %",
          "SWZ: nan %",
          "ETH: -88.7 %",
          "FJI: nan %",
          "FIN: nan %",
          "FRA: nan %",
          "GAB: nan %",
          "GEO: -93.0 %",
          "DEU: nan %",
          "GHA: -93.0 %",
          "GRC: nan %",
          "GRD: -98.4 %",
          "GTM: -77.3 %",
          "GIN: -82.5 %",
          "GNB: nan %",
          "GUY: nan %",
          "HTI: -95.3 %",
          "VAT: nan %",
          "HND: -65.1 %",
          "HUN: nan %",
          "ISL: -49.8 %",
          "IND: -84.3 %",
          "IDN: -26.2 %",
          "IRN: nan %",
          "IRQ: nan %",
          "IRL: nan %",
          "ISR: -34.3 %",
          "ITA: nan %",
          "JAM: -82.9 %",
          "JPN: -28.0 %",
          "JOR: -76.5 %",
          "KAZ: -19.8 %",
          "KEN: -90.8 %",
          "KIR: -98.3 %",
          "KWT: 52.3 %",
          "KGZ: -71.5 %",
          "LAO: nan %",
          "LVA: nan %",
          "LBN: -72.4 %",
          "LSO: -94.1 %",
          "LBR: -68.3 %",
          "LBY: nan %",
          "LIE: nan %",
          "LTU: nan %",
          "LUX: nan %",
          "MKD: nan %",
          "MDG: nan %",
          "MWI: nan %",
          "MYS: 673.0 %",
          "MDV: -80.7 %",
          "MLI: nan %",
          "MLT: nan %",
          "MHL: nan %",
          "MRT: -56.3 %",
          "MUS: -88.6 %",
          "MEX: 4.7 %",
          "FSM: nan %",
          "MDA: nan %",
          "MCO: nan %",
          "MNG: 11.0 %",
          "MNE: nan %",
          "MAR: -86.5 %",
          "MOZ: nan %",
          "MMR: nan %",
          "NAM: -29.9 %",
          "NRU: nan %",
          "NPL: nan %",
          "NLD: nan %",
          "NZL: -15.8 %",
          "NIC: nan %",
          "NER: -26.8 %",
          "NGA: -90.1 %",
          "NIU: nan %",
          "PRK: -40.0 %",
          "NOR: -77.3 %",
          "OMN: -13.6 %",
          "PAK: -83.6 %",
          "PLW: nan %",
          "PSE: nan %",
          "PAN: nan %",
          "PNG: nan %",
          "PRY: 49.2 %",
          "PER: -53.5 %",
          "PHL: -93.4 %",
          "POL: nan %",
          "PRT: nan %",
          "QAT: nan %",
          "ROU: nan %",
          "RUS: 77.4 %",
          "RWA: nan %",
          "KNA: nan %",
          "LCA: nan %",
          "VCT: nan %",
          "WSM: nan %",
          "SMR: nan %",
          "STP: -96.6 %",
          "SAU: 53.2 %",
          "SEN: -78.8 %",
          "SRB: nan %",
          "SYC: -76.4 %",
          "SLE: nan %",
          "SGP: 25.7 %",
          "SVK: nan %",
          "SVN: nan %",
          "SLB: 130.2 %",
          "SOM: nan %",
          "ZAF: -10.4 %",
          "KOR: -19.7 %",
          "SSD: nan %",
          "ESP: nan %",
          "LKA: nan %",
          "SDN: nan %",
          "SUR: nan %",
          "SWE: nan %",
          "CHE: -79.8 %",
          "SYR: nan %",
          "TJK: -80.3 %",
          "TZA: nan %",
          "THA: -13.4 %",
          "BHS: nan %",
          "GMB: nan %",
          "TLS: nan %",
          "TGO: -93.9 %",
          "TON: nan %",
          "TTO: 89.2 %",
          "TUN: -89.0 %",
          "TUR: -39.0 %",
          "TKM: nan %",
          "TUV: nan %",
          "UGA: -89.5 %",
          "UKR: -10.1 %",
          "ARE: -20.8 %",
          "GBR: -35.1 %",
          "USA: -32.1 %",
          "URY: nan %",
          "UZB: 51.9 %",
          "VUT: nan %",
          "VEN: nan %",
          "VNM: -41.2 %",
          "YEM: -95.2 %",
          "ZMB: -951.1 %",
          "ZWE: nan %",
          "EU: -27.3 %",
          "EARTH: nan %",
          "G20: nan %",
          "G7: nan %",
          "SIDS: nan %",
          "LDC: nan %",
          "Northern America: -31.7 %",
          "Australasia: -10.3 %",
          "African Group: nan %",
          "Umbrella: -25.3 %"
         ],
         "type": "choropleth",
         "z": [
          -0.9624648191758594,
          -0.8448716712890828,
          -0.6273513375339194,
          null,
          -0.5312862933511172,
          null,
          0.1588517942739381,
          null,
          -0.09569186141962505,
          null,
          -0.5001578854886816,
          null,
          -0.9089993431483565,
          -0.9500124397334349,
          0.8707430157269684,
          null,
          null,
          -0.84856754227065,
          null,
          null,
          -0.605331482106374,
          -0.3641770242455015,
          -0.028965405069425375,
          null,
          null,
          -0.8809972628607786,
          -1.2389186115973774,
          -0.1553260227883972,
          -1.0934107392984758,
          -0.2895697007656391,
          null,
          -0.3867341624720699,
          0.2661779109763188,
          0.10499157632148848,
          -0.6068091067041226,
          -0.4974969819634056,
          -1.0005460911741513,
          null,
          null,
          -0.8453055790706632,
          null,
          null,
          null,
          null,
          null,
          null,
          null,
          -0.8359581537283185,
          null,
          -0.7383322896240242,
          null,
          -0.7766490116865576,
          null,
          0.610811611520882,
          null,
          null,
          null,
          -0.8871133644041745,
          null,
          null,
          null,
          null,
          -0.9296283246883321,
          null,
          -0.9304021033971164,
          null,
          -0.983804114941671,
          -0.7733888473415849,
          -0.8250492382261414,
          null,
          null,
          -0.9529955069095994,
          null,
          -0.6511012223622596,
          null,
          -0.49823733746378346,
          -0.8428596877966964,
          -0.26229177513860763,
          null,
          null,
          null,
          -0.34311163880565265,
          null,
          -0.8291698483463822,
          -0.2804394096214336,
          -0.764696568207782,
          -0.1977489924423766,
          -0.9079677618951438,
          -0.9828611194057275,
          0.5229590950349722,
          -0.7147608932187725,
          null,
          null,
          -0.7239653411099266,
          -0.9409146222143097,
          -0.6833888884443089,
          null,
          null,
          null,
          null,
          null,
          null,
          null,
          6.729899685274291,
          -0.8067380522529437,
          null,
          null,
          null,
          -0.563248745518177,
          -0.8856213790364008,
          0.0466058861406275,
          null,
          null,
          null,
          0.10964941292629357,
          null,
          -0.865380489723006,
          null,
          null,
          -0.29911465107708185,
          null,
          null,
          null,
          -0.1580664418438678,
          null,
          -0.26818696580773643,
          -0.900973542366075,
          null,
          -0.4000741158888592,
          -0.772757424726529,
          -0.13585055657892395,
          -0.8362415379665924,
          null,
          null,
          null,
          null,
          0.4921258102776532,
          -0.5349218643042247,
          -0.9339308889205905,
          null,
          null,
          null,
          null,
          0.7737683578794889,
          null,
          null,
          null,
          null,
          null,
          null,
          -0.9658108634260777,
          0.5315944748300718,
          -0.7884164190895737,
          null,
          -0.7638586615027632,
          null,
          0.2568177572627676,
          null,
          null,
          1.3019610149937695,
          null,
          -0.10392320737159749,
          -0.19668948410646642,
          null,
          null,
          null,
          null,
          null,
          null,
          -0.7979725549430072,
          null,
          -0.8031112742294263,
          null,
          -0.13387090659710488,
          null,
          null,
          null,
          -0.9391866076551391,
          null,
          0.8922167905938454,
          -0.8903805655049848,
          -0.3900630026048495,
          null,
          null,
          -0.8947336294218622,
          -0.1009148272797004,
          -0.20760953485390213,
          -0.3512649420217449,
          -0.32083649086962157,
          null,
          0.5193213667365985,
          null,
          null,
          -0.41191423364260704,
          -0.9518299946985332,
          -9.511002216310331,
          null,
          -0.27267706406223563,
          null,
          null,
          null,
          null,
          null,
          -0.31729883646118945,
          -0.1026447645337703,
          null,
          -0.253331345147397
         ],
         "zmax": 1,
         "zmin": -1
        },
        {
         "colorbar": {
          "title": {
           "side": "bottom"
          }
         },
         "colorscale": [
          [
           0,
           "rgb(49,54,149)"
          ],
          [
           0.1,
           "rgb(69,117,180)"
          ],
          [
           0.2,
           "rgb(116,173,209)"
          ],
          [
           0.3,
           "rgb(171,217,233)"
          ],
          [
           0.4,
           "rgb(224,243,248)"
          ],
          [
           0.5,
           "rgb(255,255,191)"
          ],
          [
           0.6,
           "rgb(254,224,144)"
          ],
          [
           0.7,
           "rgb(253,174,97)"
          ],
          [
           0.8,
           "rgb(244,109,67)"
          ],
          [
           0.9,
           "rgb(215,48,39)"
          ],
          [
           1,
           "rgb(165,0,38)"
          ]
         ],
         "geo": "geo2",
         "hovertemplate": "%{text}",
         "locationmode": "ISO-3",
         "locations": [
          "AUT",
          "BEL",
          "BGR",
          "HRV",
          "CYP",
          "CZE",
          "DNK",
          "EST",
          "FIN",
          "FRA",
          "DEU",
          "GRC",
          "HUN",
          "IRL",
          "ITA",
          "LVA",
          "LTU",
          "LUX",
          "MLT",
          "NLD",
          "POL",
          "PRT",
          "ROU",
          "SVK",
          "SVN",
          "ESP",
          "SWE"
         ],
         "marker": {
          "line": {
           "color": "black",
           "width": 0.1
          }
         },
         "name": "",
         "showscale": false,
         "type": "choropleth",
         "z": [
          -0.27267706406223563,
          -0.27267706406223563,
          -0.27267706406223563,
          -0.27267706406223563,
          -0.27267706406223563,
          -0.27267706406223563,
          -0.27267706406223563,
          -0.27267706406223563,
          -0.27267706406223563,
          -0.27267706406223563,
          -0.27267706406223563,
          -0.27267706406223563,
          -0.27267706406223563,
          -0.27267706406223563,
          -0.27267706406223563,
          -0.27267706406223563,
          -0.27267706406223563,
          -0.27267706406223563,
          -0.27267706406223563,
          -0.27267706406223563,
          -0.27267706406223563,
          -0.27267706406223563,
          -0.27267706406223563,
          -0.27267706406223563,
          -0.27267706406223563,
          -0.27267706406223563,
          -0.27267706406223563
         ],
         "zmax": 1,
         "zmin": -1
        },
        {
         "colorbar": {
          "title": {
           "side": "bottom"
          }
         },
         "colorscale": [
          [
           0,
           "rgb(49,54,149)"
          ],
          [
           0.1,
           "rgb(69,117,180)"
          ],
          [
           0.2,
           "rgb(116,173,209)"
          ],
          [
           0.3,
           "rgb(171,217,233)"
          ],
          [
           0.4,
           "rgb(224,243,248)"
          ],
          [
           0.5,
           "rgb(255,255,191)"
          ],
          [
           0.6,
           "rgb(254,224,144)"
          ],
          [
           0.7,
           "rgb(253,174,97)"
          ],
          [
           0.8,
           "rgb(244,109,67)"
          ],
          [
           0.9,
           "rgb(215,48,39)"
          ],
          [
           1,
           "rgb(165,0,38)"
          ]
         ],
         "geo": "geo2",
         "hovertemplate": "%{text}",
         "locationmode": "ISO-3",
         "locations": [
          "ARG",
          "BLR",
          "TCD",
          "CHL",
          "GNQ",
          "KWT",
          "MYS",
          "MEX",
          "MNG",
          "PRY",
          "RUS",
          "SAU",
          "SGP",
          "SLB",
          "TTO",
          "UZB"
         ],
         "marker": {
          "line": {
           "color": "black",
           "width": 2
          }
         },
         "name": "",
         "showscale": false,
         "text": [
          "ARG: 15.9 %",
          "BLR: 87.1 %",
          "TCD: 26.6 %",
          "CHL: 10.5 %",
          "GNQ: 61.1 %",
          "KWT: 52.3 %",
          "MYS: 673.0 %",
          "MEX: 4.7 %",
          "MNG: 11.0 %",
          "PRY: 49.2 %",
          "RUS: 77.4 %",
          "SAU: 53.2 %",
          "SGP: 25.7 %",
          "SLB: 130.2 %",
          "TTO: 89.2 %",
          "UZB: 51.9 %"
         ],
         "type": "choropleth",
         "z": [
          0.1588517942739381,
          0.8707430157269684,
          0.2661779109763188,
          0.10499157632148848,
          0.610811611520882,
          0.5229590950349722,
          6.729899685274291,
          0.0466058861406275,
          0.10964941292629357,
          0.4921258102776532,
          0.7737683578794889,
          0.5315944748300718,
          0.2568177572627676,
          1.3019610149937695,
          0.8922167905938454,
          0.5193213667365985
         ],
         "zmax": 1,
         "zmin": -1
        },
        {
         "colorbar": {
          "title": {
           "side": "bottom"
          }
         },
         "colorscale": [
          [
           0,
           "rgb(255,255,255)"
          ],
          [
           0.125,
           "rgb(240,240,240)"
          ],
          [
           0.25,
           "rgb(217,217,217)"
          ],
          [
           0.375,
           "rgb(189,189,189)"
          ],
          [
           0.5,
           "rgb(150,150,150)"
          ],
          [
           0.625,
           "rgb(115,115,115)"
          ],
          [
           0.75,
           "rgb(82,82,82)"
          ],
          [
           0.875,
           "rgb(37,37,37)"
          ],
          [
           1,
           "rgb(0,0,0)"
          ]
         ],
         "geo": "geo3",
         "hovertemplate": "%{text}",
         "locationmode": "ISO-3",
         "locations": [
          "AFG",
          "AGO",
          "ALB",
          "AND",
          "ARE",
          "ARG",
          "ARM",
          "ATG",
          "AUS",
          "AUT",
          "AZE",
          "African Group",
          "Australasia",
          "BDI",
          "BEL",
          "BEN",
          "BFA",
          "BGD",
          "BGR",
          "BHR",
          "BHS",
          "BIH",
          "BLR",
          "BLZ",
          "BOL",
          "BRA",
          "BRB",
          "BRN",
          "BTN",
          "BWA",
          "CAF",
          "CAN",
          "CHE",
          "CHL",
          "CHN",
          "CIV",
          "CMR",
          "COD",
          "COG",
          "COK",
          "COL",
          "COM",
          "CPV",
          "CRI",
          "CUB",
          "CYP",
          "CZE",
          "DEU",
          "DJI",
          "DMA",
          "DNK",
          "DOM",
          "DZA",
          "EARTH",
          "ECU",
          "EGY",
          "ERI",
          "ESP",
          "EST",
          "ETH",
          "EU",
          "FIN",
          "FJI",
          "FRA",
          "FSM",
          "G20",
          "G7",
          "GAB",
          "GBR",
          "GEO",
          "GHA",
          "GIN",
          "GMB",
          "GNB",
          "GNQ",
          "GRC",
          "GRD",
          "GTM",
          "GUY",
          "HND",
          "HRV",
          "HTI",
          "HUN",
          "IDN",
          "IND",
          "IRL",
          "IRN",
          "IRQ",
          "ISL",
          "ISR",
          "ITA",
          "JAM",
          "JOR",
          "JPN",
          "KAZ",
          "KEN",
          "KGZ",
          "KHM",
          "KIR",
          "KNA",
          "KOR",
          "KWT",
          "LAO",
          "LBN",
          "LBR",
          "LBY",
          "LCA",
          "LDC",
          "LIE",
          "LKA",
          "LSO",
          "LTU",
          "LUX",
          "LVA",
          "MAR",
          "MCO",
          "MDA",
          "MDG",
          "MDV",
          "MEX",
          "MHL",
          "MKD",
          "MLI",
          "MLT",
          "MMR",
          "MNE",
          "MNG",
          "MOZ",
          "MRT",
          "MUS",
          "MWI",
          "MYS",
          "NAM",
          "NER",
          "NGA",
          "NIC",
          "NIU",
          "NLD",
          "NOR",
          "NPL",
          "NRU",
          "NZL",
          "Northern America",
          "OMN",
          "PAK",
          "PAN",
          "PER",
          "PHL",
          "PLW",
          "PNG",
          "POL",
          "PRK",
          "PRT",
          "PRY",
          "PSE",
          "QAT",
          "ROU",
          "RUS",
          "RWA",
          "SAU",
          "SDN",
          "SEN",
          "SGP",
          "SIDS",
          "SLB",
          "SLE",
          "SLV",
          "SMR",
          "SOM",
          "SRB",
          "SSD",
          "STP",
          "SUR",
          "SVK",
          "SVN",
          "SWE",
          "SWZ",
          "SYC",
          "SYR",
          "TCD",
          "TGO",
          "THA",
          "TJK",
          "TKM",
          "TLS",
          "TON",
          "TTO",
          "TUN",
          "TUR",
          "TUV",
          "TZA",
          "UGA",
          "UKR",
          "URY",
          "USA",
          "UZB",
          "Umbrella",
          "VAT",
          "VCT",
          "VEN",
          "VNM",
          "VUT",
          "WSM",
          "YEM",
          "ZAF",
          "ZMB",
          "ZWE",
          "GRL"
         ],
         "marker": {
          "line": {
           "color": "black",
           "width": 0
          }
         },
         "name": "",
         "showscale": false,
         "type": "choropleth",
         "z": [
          -0.5,
          -0.5,
          -0.5,
          -0.5,
          -0.5,
          -0.5,
          -0.5,
          -0.5,
          -0.5,
          -0.5,
          -0.5,
          -0.5,
          -0.5,
          -0.5,
          -0.5,
          -0.5,
          -0.5,
          -0.5,
          -0.5,
          -0.5,
          -0.5,
          -0.5,
          -0.5,
          -0.5,
          -0.5,
          -0.5,
          -0.5,
          -0.5,
          -0.5,
          -0.5,
          -0.5,
          -0.5,
          -0.5,
          -0.5,
          -0.5,
          -0.5,
          -0.5,
          -0.5,
          -0.5,
          -0.5,
          -0.5,
          -0.5,
          -0.5,
          -0.5,
          -0.5,
          -0.5,
          -0.5,
          -0.5,
          -0.5,
          -0.5,
          -0.5,
          -0.5,
          -0.5,
          -0.5,
          -0.5,
          -0.5,
          -0.5,
          -0.5,
          -0.5,
          -0.5,
          -0.5,
          -0.5,
          -0.5,
          -0.5,
          -0.5,
          -0.5,
          -0.5,
          -0.5,
          -0.5,
          -0.5,
          -0.5,
          -0.5,
          -0.5,
          -0.5,
          -0.5,
          -0.5,
          -0.5,
          -0.5,
          -0.5,
          -0.5,
          -0.5,
          -0.5,
          -0.5,
          -0.5,
          -0.5,
          -0.5,
          -0.5,
          -0.5,
          -0.5,
          -0.5,
          -0.5,
          -0.5,
          -0.5,
          -0.5,
          -0.5,
          -0.5,
          -0.5,
          -0.5,
          -0.5,
          -0.5,
          -0.5,
          -0.5,
          -0.5,
          -0.5,
          -0.5,
          -0.5,
          -0.5,
          -0.5,
          -0.5,
          -0.5,
          -0.5,
          -0.5,
          -0.5,
          -0.5,
          -0.5,
          -0.5,
          -0.5,
          -0.5,
          -0.5,
          -0.5,
          -0.5,
          -0.5,
          -0.5,
          -0.5,
          -0.5,
          -0.5,
          -0.5,
          -0.5,
          -0.5,
          -0.5,
          -0.5,
          -0.5,
          -0.5,
          -0.5,
          -0.5,
          -0.5,
          -0.5,
          -0.5,
          -0.5,
          -0.5,
          -0.5,
          -0.5,
          -0.5,
          -0.5,
          -0.5,
          -0.5,
          -0.5,
          -0.5,
          -0.5,
          -0.5,
          -0.5,
          -0.5,
          -0.5,
          -0.5,
          -0.5,
          -0.5,
          -0.5,
          -0.5,
          -0.5,
          -0.5,
          -0.5,
          -0.5,
          -0.5,
          -0.5,
          -0.5,
          -0.5,
          -0.5,
          -0.5,
          -0.5,
          -0.5,
          -0.5,
          -0.5,
          -0.5,
          -0.5,
          -0.5,
          -0.5,
          -0.5,
          -0.5,
          -0.5,
          -0.5,
          -0.5,
          -0.5,
          -0.5,
          -0.5,
          -0.5,
          -0.5,
          -0.5,
          -0.5,
          -0.5,
          -0.5,
          -0.5,
          -0.5,
          -0.5,
          -0.5,
          -0.5,
          -0.5,
          -0.5,
          -0.5,
          -0.5,
          -0.5,
          -0.5,
          -0.5,
          -0.5,
          -0.5,
          -0.5,
          -0.5,
          -0.5,
          -0.5
         ],
         "zmax": 1,
         "zmin": -1
        },
        {
         "colorbar": {
          "len": 0.4,
          "lenmode": "fraction",
          "orientation": "h",
          "thickness": 20,
          "thicknessmode": "pixels",
          "tickfont": {
           "size": 14
          },
          "ticktext": [
           "100%<br>More allocated than cost-optimal",
           "50%",
           "0%",
           "50%",
           "100%<br>Less allocated than cost-optimal"
          ],
          "tickvals": [
           -1,
           -0.5,
           0,
           0.5,
           1
          ],
          "title": {
           "font": {
            "size": 14
           },
           "side": "bottom",
           "text": "Fraction of mitigation in 2030 non-domestic"
          },
          "x": 0.5,
          "xanchor": "center",
          "y": 0.34,
          "yanchor": "bottom"
         },
         "colorscale": [
          [
           0,
           "rgb(40, 135, 161)"
          ],
          [
           0.16666666666666666,
           "rgb(121, 167, 172)"
          ],
          [
           0.3333333333333333,
           "rgb(181, 200, 184)"
          ],
          [
           0.5,
           "rgb(237, 234, 194)"
          ],
          [
           0.6666666666666666,
           "rgb(214, 189, 141)"
          ],
          [
           0.8333333333333334,
           "rgb(189, 146, 90)"
          ],
          [
           1,
           "rgb(161, 105, 40)"
          ]
         ],
         "geo": "geo3",
         "hovertemplate": "%{text}",
         "locationmode": "ISO-3",
         "locations": [
          "ARG",
          "AUS",
          "BRA",
          "CAN",
          "CHN",
          "COL",
          "EU",
          "IDN",
          "IND",
          "JPN",
          "KOR",
          "MEX",
          "PAK",
          "RUS",
          "SAU",
          "TUR",
          "USA",
          "ZAF"
         ],
         "marker": {
          "line": {
           "color": "black",
           "width": 0.1
          }
         },
         "name": "",
         "showscale": true,
         "text": [
          "ARG: 69.9 %",
          "AUS: 75.5 %",
          "BRA: -28.3 %",
          "CAN: 42.5 %",
          "CHN: -48.6 %",
          "COL: 26.5 %",
          "EU: 46.0 %",
          "IDN: -29.1 %",
          "IND: -85.8 %",
          "JPN: 37.9 %",
          "KOR: 66.9 %",
          "MEX: -0.4 %",
          "PAK: -91.1 %",
          "RUS: 98.6 %",
          "SAU: 110.1 %",
          "TUR: -49.3 %",
          "USA: 53.7 %",
          "ZAF: 3.9 %"
         ],
         "type": "choropleth",
         "z": [
          0.6985058074222075,
          0.7550782130670932,
          -0.2830773679201589,
          0.424907240651184,
          -0.4861233473593637,
          0.26522295174079336,
          0.45974714196333766,
          -0.2912959833175459,
          -0.8580222307384513,
          0.3787998361368463,
          0.6686786749284945,
          -0.0035628766281400326,
          -0.9112661357015487,
          0.9855172111718,
          1.1012870560637515,
          -0.49291723889287864,
          0.5372924077290409,
          0.0385984233448895
         ],
         "zmax": 1,
         "zmin": -1
        },
        {
         "colorbar": {
          "title": {
           "side": "bottom"
          }
         },
         "colorscale": [
          [
           0,
           "rgb(40, 135, 161)"
          ],
          [
           0.16666666666666666,
           "rgb(121, 167, 172)"
          ],
          [
           0.3333333333333333,
           "rgb(181, 200, 184)"
          ],
          [
           0.5,
           "rgb(237, 234, 194)"
          ],
          [
           0.6666666666666666,
           "rgb(214, 189, 141)"
          ],
          [
           0.8333333333333334,
           "rgb(189, 146, 90)"
          ],
          [
           1,
           "rgb(161, 105, 40)"
          ]
         ],
         "geo": "geo3",
         "hovertemplate": "%{text}",
         "locationmode": "ISO-3",
         "locations": [
          "AUT",
          "BEL",
          "BGR",
          "HRV",
          "CYP",
          "CZE",
          "DNK",
          "EST",
          "FIN",
          "FRA",
          "DEU",
          "GRC",
          "HUN",
          "IRL",
          "ITA",
          "LVA",
          "LTU",
          "LUX",
          "MLT",
          "NLD",
          "POL",
          "PRT",
          "ROU",
          "SVK",
          "SVN",
          "ESP",
          "SWE"
         ],
         "marker": {
          "line": {
           "color": "black",
           "width": 0.1
          }
         },
         "name": "",
         "showscale": false,
         "type": "choropleth",
         "z": [
          0.45974714196333766,
          0.45974714196333766,
          0.45974714196333766,
          0.45974714196333766,
          0.45974714196333766,
          0.45974714196333766,
          0.45974714196333766,
          0.45974714196333766,
          0.45974714196333766,
          0.45974714196333766,
          0.45974714196333766,
          0.45974714196333766,
          0.45974714196333766,
          0.45974714196333766,
          0.45974714196333766,
          0.45974714196333766,
          0.45974714196333766,
          0.45974714196333766,
          0.45974714196333766,
          0.45974714196333766,
          0.45974714196333766,
          0.45974714196333766,
          0.45974714196333766,
          0.45974714196333766,
          0.45974714196333766,
          0.45974714196333766,
          0.45974714196333766
         ],
         "zmax": 1,
         "zmin": -1
        },
        {
         "colorbar": {
          "title": {
           "side": "bottom"
          }
         },
         "colorscale": [
          [
           0,
           "rgb(40, 135, 161)"
          ],
          [
           0.16666666666666666,
           "rgb(121, 167, 172)"
          ],
          [
           0.3333333333333333,
           "rgb(181, 200, 184)"
          ],
          [
           0.5,
           "rgb(237, 234, 194)"
          ],
          [
           0.6666666666666666,
           "rgb(214, 189, 141)"
          ],
          [
           0.8333333333333334,
           "rgb(189, 146, 90)"
          ],
          [
           1,
           "rgb(161, 105, 40)"
          ]
         ],
         "geo": "geo3",
         "hovertemplate": "%{text}",
         "locationmode": "ISO-3",
         "locations": [
          "ARG",
          "AUS",
          "CAN",
          "COL",
          "EU",
          "JPN",
          "KOR",
          "RUS",
          "SAU",
          "USA",
          "ZAF"
         ],
         "marker": {
          "line": {
           "color": "black",
           "width": 2
          }
         },
         "name": "",
         "showscale": false,
         "text": [
          "ARG: 69.9 %",
          "AUS: 75.5 %",
          "CAN: 42.5 %",
          "COL: 26.5 %",
          "EU: 46.0 %",
          "JPN: 37.9 %",
          "KOR: 66.9 %",
          "RUS: 98.6 %",
          "SAU: 110.1 %",
          "USA: 53.7 %",
          "ZAF: 3.9 %"
         ],
         "type": "choropleth",
         "z": [
          0.6985058074222075,
          0.7550782130670932,
          0.424907240651184,
          0.26522295174079336,
          0.45974714196333766,
          0.3787998361368463,
          0.6686786749284945,
          0.9855172111718,
          1.1012870560637515,
          0.5372924077290409,
          0.0385984233448895
         ],
         "zmax": 1,
         "zmin": -1
        },
        {
         "colorbar": {
          "title": {
           "side": "bottom"
          }
         },
         "colorscale": [
          [
           0,
           "rgb(40, 135, 161)"
          ],
          [
           0.16666666666666666,
           "rgb(121, 167, 172)"
          ],
          [
           0.3333333333333333,
           "rgb(181, 200, 184)"
          ],
          [
           0.5,
           "rgb(237, 234, 194)"
          ],
          [
           0.6666666666666666,
           "rgb(214, 189, 141)"
          ],
          [
           0.8333333333333334,
           "rgb(189, 146, 90)"
          ],
          [
           1,
           "rgb(161, 105, 40)"
          ]
         ],
         "geo": "geo3",
         "hovertemplate": "%{text}",
         "locationmode": "ISO-3",
         "locations": [
          "AUT",
          "BEL",
          "BGR",
          "HRV",
          "CYP",
          "CZE",
          "DNK",
          "EST",
          "FIN",
          "FRA",
          "DEU",
          "GRC",
          "HUN",
          "IRL",
          "ITA",
          "LVA",
          "LTU",
          "LUX",
          "MLT",
          "NLD",
          "POL",
          "PRT",
          "ROU",
          "SVK",
          "SVN",
          "ESP",
          "SWE"
         ],
         "marker": {
          "line": {
           "color": "black",
           "width": 2
          }
         },
         "name": "",
         "showscale": false,
         "type": "choropleth",
         "z": [
          0.45974714196333766,
          0.45974714196333766,
          0.45974714196333766,
          0.45974714196333766,
          0.45974714196333766,
          0.45974714196333766,
          0.45974714196333766,
          0.45974714196333766,
          0.45974714196333766,
          0.45974714196333766,
          0.45974714196333766,
          0.45974714196333766,
          0.45974714196333766,
          0.45974714196333766,
          0.45974714196333766,
          0.45974714196333766,
          0.45974714196333766,
          0.45974714196333766,
          0.45974714196333766,
          0.45974714196333766,
          0.45974714196333766,
          0.45974714196333766,
          0.45974714196333766,
          0.45974714196333766,
          0.45974714196333766,
          0.45974714196333766,
          0.45974714196333766
         ],
         "zmax": 1,
         "zmin": -1
        },
        {
         "colorbar": {
          "title": {
           "side": "bottom"
          }
         },
         "colorscale": [
          [
           0,
           "rgb(255,255,255)"
          ],
          [
           0.125,
           "rgb(240,240,240)"
          ],
          [
           0.25,
           "rgb(217,217,217)"
          ],
          [
           0.375,
           "rgb(189,189,189)"
          ],
          [
           0.5,
           "rgb(150,150,150)"
          ],
          [
           0.625,
           "rgb(115,115,115)"
          ],
          [
           0.75,
           "rgb(82,82,82)"
          ],
          [
           0.875,
           "rgb(37,37,37)"
          ],
          [
           1,
           "rgb(0,0,0)"
          ]
         ],
         "geo": "geo4",
         "hovertemplate": "%{text}",
         "locationmode": "ISO-3",
         "locations": [
          "AFG",
          "AGO",
          "ALB",
          "AND",
          "ARE",
          "ARG",
          "ARM",
          "ATG",
          "AUS",
          "AUT",
          "AZE",
          "African Group",
          "Australasia",
          "BDI",
          "BEL",
          "BEN",
          "BFA",
          "BGD",
          "BGR",
          "BHR",
          "BHS",
          "BIH",
          "BLR",
          "BLZ",
          "BOL",
          "BRA",
          "BRB",
          "BRN",
          "BTN",
          "BWA",
          "CAF",
          "CAN",
          "CHE",
          "CHL",
          "CHN",
          "CIV",
          "CMR",
          "COD",
          "COG",
          "COK",
          "COL",
          "COM",
          "CPV",
          "CRI",
          "CUB",
          "CYP",
          "CZE",
          "DEU",
          "DJI",
          "DMA",
          "DNK",
          "DOM",
          "DZA",
          "EARTH",
          "ECU",
          "EGY",
          "ERI",
          "ESP",
          "EST",
          "ETH",
          "EU",
          "FIN",
          "FJI",
          "FRA",
          "FSM",
          "G20",
          "G7",
          "GAB",
          "GBR",
          "GEO",
          "GHA",
          "GIN",
          "GMB",
          "GNB",
          "GNQ",
          "GRC",
          "GRD",
          "GTM",
          "GUY",
          "HND",
          "HRV",
          "HTI",
          "HUN",
          "IDN",
          "IND",
          "IRL",
          "IRN",
          "IRQ",
          "ISL",
          "ISR",
          "ITA",
          "JAM",
          "JOR",
          "JPN",
          "KAZ",
          "KEN",
          "KGZ",
          "KHM",
          "KIR",
          "KNA",
          "KOR",
          "KWT",
          "LAO",
          "LBN",
          "LBR",
          "LBY",
          "LCA",
          "LDC",
          "LIE",
          "LKA",
          "LSO",
          "LTU",
          "LUX",
          "LVA",
          "MAR",
          "MCO",
          "MDA",
          "MDG",
          "MDV",
          "MEX",
          "MHL",
          "MKD",
          "MLI",
          "MLT",
          "MMR",
          "MNE",
          "MNG",
          "MOZ",
          "MRT",
          "MUS",
          "MWI",
          "MYS",
          "NAM",
          "NER",
          "NGA",
          "NIC",
          "NIU",
          "NLD",
          "NOR",
          "NPL",
          "NRU",
          "NZL",
          "Northern America",
          "OMN",
          "PAK",
          "PAN",
          "PER",
          "PHL",
          "PLW",
          "PNG",
          "POL",
          "PRK",
          "PRT",
          "PRY",
          "PSE",
          "QAT",
          "ROU",
          "RUS",
          "RWA",
          "SAU",
          "SDN",
          "SEN",
          "SGP",
          "SIDS",
          "SLB",
          "SLE",
          "SLV",
          "SMR",
          "SOM",
          "SRB",
          "SSD",
          "STP",
          "SUR",
          "SVK",
          "SVN",
          "SWE",
          "SWZ",
          "SYC",
          "SYR",
          "TCD",
          "TGO",
          "THA",
          "TJK",
          "TKM",
          "TLS",
          "TON",
          "TTO",
          "TUN",
          "TUR",
          "TUV",
          "TZA",
          "UGA",
          "UKR",
          "URY",
          "USA",
          "UZB",
          "Umbrella",
          "VAT",
          "VCT",
          "VEN",
          "VNM",
          "VUT",
          "WSM",
          "YEM",
          "ZAF",
          "ZMB",
          "ZWE",
          "GRL"
         ],
         "marker": {
          "line": {
           "color": "black",
           "width": 0
          }
         },
         "name": "",
         "showscale": false,
         "type": "choropleth",
         "z": [
          -0.5,
          -0.5,
          -0.5,
          -0.5,
          -0.5,
          -0.5,
          -0.5,
          -0.5,
          -0.5,
          -0.5,
          -0.5,
          -0.5,
          -0.5,
          -0.5,
          -0.5,
          -0.5,
          -0.5,
          -0.5,
          -0.5,
          -0.5,
          -0.5,
          -0.5,
          -0.5,
          -0.5,
          -0.5,
          -0.5,
          -0.5,
          -0.5,
          -0.5,
          -0.5,
          -0.5,
          -0.5,
          -0.5,
          -0.5,
          -0.5,
          -0.5,
          -0.5,
          -0.5,
          -0.5,
          -0.5,
          -0.5,
          -0.5,
          -0.5,
          -0.5,
          -0.5,
          -0.5,
          -0.5,
          -0.5,
          -0.5,
          -0.5,
          -0.5,
          -0.5,
          -0.5,
          -0.5,
          -0.5,
          -0.5,
          -0.5,
          -0.5,
          -0.5,
          -0.5,
          -0.5,
          -0.5,
          -0.5,
          -0.5,
          -0.5,
          -0.5,
          -0.5,
          -0.5,
          -0.5,
          -0.5,
          -0.5,
          -0.5,
          -0.5,
          -0.5,
          -0.5,
          -0.5,
          -0.5,
          -0.5,
          -0.5,
          -0.5,
          -0.5,
          -0.5,
          -0.5,
          -0.5,
          -0.5,
          -0.5,
          -0.5,
          -0.5,
          -0.5,
          -0.5,
          -0.5,
          -0.5,
          -0.5,
          -0.5,
          -0.5,
          -0.5,
          -0.5,
          -0.5,
          -0.5,
          -0.5,
          -0.5,
          -0.5,
          -0.5,
          -0.5,
          -0.5,
          -0.5,
          -0.5,
          -0.5,
          -0.5,
          -0.5,
          -0.5,
          -0.5,
          -0.5,
          -0.5,
          -0.5,
          -0.5,
          -0.5,
          -0.5,
          -0.5,
          -0.5,
          -0.5,
          -0.5,
          -0.5,
          -0.5,
          -0.5,
          -0.5,
          -0.5,
          -0.5,
          -0.5,
          -0.5,
          -0.5,
          -0.5,
          -0.5,
          -0.5,
          -0.5,
          -0.5,
          -0.5,
          -0.5,
          -0.5,
          -0.5,
          -0.5,
          -0.5,
          -0.5,
          -0.5,
          -0.5,
          -0.5,
          -0.5,
          -0.5,
          -0.5,
          -0.5,
          -0.5,
          -0.5,
          -0.5,
          -0.5,
          -0.5,
          -0.5,
          -0.5,
          -0.5,
          -0.5,
          -0.5,
          -0.5,
          -0.5,
          -0.5,
          -0.5,
          -0.5,
          -0.5,
          -0.5,
          -0.5,
          -0.5,
          -0.5,
          -0.5,
          -0.5,
          -0.5,
          -0.5,
          -0.5,
          -0.5,
          -0.5,
          -0.5,
          -0.5,
          -0.5,
          -0.5,
          -0.5,
          -0.5,
          -0.5,
          -0.5,
          -0.5,
          -0.5,
          -0.5,
          -0.5,
          -0.5,
          -0.5,
          -0.5,
          -0.5,
          -0.5,
          -0.5,
          -0.5,
          -0.5,
          -0.5,
          -0.5,
          -0.5,
          -0.5,
          -0.5,
          -0.5,
          -0.5,
          -0.5,
          -0.5,
          -0.5,
          -0.5
         ],
         "zmax": 1,
         "zmin": -1
        },
        {
         "colorbar": {
          "len": 0.4,
          "lenmode": "fraction",
          "orientation": "h",
          "thickness": 20,
          "thicknessmode": "pixels",
          "tickfont": {
           "size": 14
          },
          "ticktext": [
           "100%<br>More allocated than cost-optimal",
           "50%",
           "0%",
           "50%",
           "100%<br>Less allocated than cost-optimal"
          ],
          "tickvals": [
           -1,
           -0.5,
           0,
           0.5,
           1
          ],
          "title": {
           "font": {
            "size": 14
           },
           "side": "bottom",
           "text": "Fraction of mitigation in 2030 non-domestic"
          },
          "x": 0.5,
          "xanchor": "center",
          "y": 0.34,
          "yanchor": "bottom"
         },
         "colorscale": [
          [
           0,
           "rgb(40, 135, 161)"
          ],
          [
           0.16666666666666666,
           "rgb(121, 167, 172)"
          ],
          [
           0.3333333333333333,
           "rgb(181, 200, 184)"
          ],
          [
           0.5,
           "rgb(237, 234, 194)"
          ],
          [
           0.6666666666666666,
           "rgb(214, 189, 141)"
          ],
          [
           0.8333333333333334,
           "rgb(189, 146, 90)"
          ],
          [
           1,
           "rgb(161, 105, 40)"
          ]
         ],
         "geo": "geo4",
         "hovertemplate": "%{text}",
         "locationmode": "ISO-3",
         "locations": [
          "ARG",
          "AUS",
          "BRA",
          "CAN",
          "CHN",
          "COL",
          "EU",
          "IDN",
          "IND",
          "JPN",
          "KOR",
          "MEX",
          "PAK",
          "RUS",
          "SAU",
          "TUR",
          "USA",
          "ZAF"
         ],
         "marker": {
          "line": {
           "color": "black",
           "width": 0.1
          }
         },
         "name": "",
         "showscale": true,
         "text": [
          "ARG: 2.4 %",
          "AUS: -6.4 %",
          "BRA: -52.9 %",
          "CAN: -23.5 %",
          "CHN: -73.1 %",
          "COL: -47.4 %",
          "EU: -12.9 %",
          "IDN: -55.1 %",
          "IND: -89.7 %",
          "JPN: -32.4 %",
          "KOR: -6.6 %",
          "MEX: -34.4 %",
          "PAK: -92.9 %",
          "RUS: 8.6 %",
          "SAU: 1.2 %",
          "TUR: -67.6 %",
          "USA: -16.6 %",
          "ZAF: -31.1 %"
         ],
         "type": "choropleth",
         "z": [
          0.024118578728589135,
          -0.06404799874714306,
          -0.5292109939138069,
          -0.2351166900537811,
          -0.7311355382636525,
          -0.47365365935466386,
          -0.12884353305287333,
          -0.5505032367668148,
          -0.8965285205874287,
          -0.3240803669132114,
          -0.06639745695267352,
          -0.3442472005994063,
          -0.9288754581364856,
          0.0860288833849352,
          0.012113824510785909,
          -0.6762293773075632,
          -0.16612702010055236,
          -0.31090087382991693
         ],
         "zmax": 1,
         "zmin": -1
        },
        {
         "colorbar": {
          "title": {
           "side": "bottom"
          }
         },
         "colorscale": [
          [
           0,
           "rgb(40, 135, 161)"
          ],
          [
           0.16666666666666666,
           "rgb(121, 167, 172)"
          ],
          [
           0.3333333333333333,
           "rgb(181, 200, 184)"
          ],
          [
           0.5,
           "rgb(237, 234, 194)"
          ],
          [
           0.6666666666666666,
           "rgb(214, 189, 141)"
          ],
          [
           0.8333333333333334,
           "rgb(189, 146, 90)"
          ],
          [
           1,
           "rgb(161, 105, 40)"
          ]
         ],
         "geo": "geo4",
         "hovertemplate": "%{text}",
         "locationmode": "ISO-3",
         "locations": [
          "AUT",
          "BEL",
          "BGR",
          "HRV",
          "CYP",
          "CZE",
          "DNK",
          "EST",
          "FIN",
          "FRA",
          "DEU",
          "GRC",
          "HUN",
          "IRL",
          "ITA",
          "LVA",
          "LTU",
          "LUX",
          "MLT",
          "NLD",
          "POL",
          "PRT",
          "ROU",
          "SVK",
          "SVN",
          "ESP",
          "SWE"
         ],
         "marker": {
          "line": {
           "color": "black",
           "width": 0.1
          }
         },
         "name": "",
         "showscale": false,
         "type": "choropleth",
         "z": [
          -0.12884353305287333,
          -0.12884353305287333,
          -0.12884353305287333,
          -0.12884353305287333,
          -0.12884353305287333,
          -0.12884353305287333,
          -0.12884353305287333,
          -0.12884353305287333,
          -0.12884353305287333,
          -0.12884353305287333,
          -0.12884353305287333,
          -0.12884353305287333,
          -0.12884353305287333,
          -0.12884353305287333,
          -0.12884353305287333,
          -0.12884353305287333,
          -0.12884353305287333,
          -0.12884353305287333,
          -0.12884353305287333,
          -0.12884353305287333,
          -0.12884353305287333,
          -0.12884353305287333,
          -0.12884353305287333,
          -0.12884353305287333,
          -0.12884353305287333,
          -0.12884353305287333,
          -0.12884353305287333
         ],
         "zmax": 1,
         "zmin": -1
        },
        {
         "colorbar": {
          "title": {
           "side": "bottom"
          }
         },
         "colorscale": [
          [
           0,
           "rgb(40, 135, 161)"
          ],
          [
           0.16666666666666666,
           "rgb(121, 167, 172)"
          ],
          [
           0.3333333333333333,
           "rgb(181, 200, 184)"
          ],
          [
           0.5,
           "rgb(237, 234, 194)"
          ],
          [
           0.6666666666666666,
           "rgb(214, 189, 141)"
          ],
          [
           0.8333333333333334,
           "rgb(189, 146, 90)"
          ],
          [
           1,
           "rgb(161, 105, 40)"
          ]
         ],
         "geo": "geo4",
         "hovertemplate": "%{text}",
         "locationmode": "ISO-3",
         "locations": [
          "ARG",
          "RUS",
          "SAU"
         ],
         "marker": {
          "line": {
           "color": "black",
           "width": 2
          }
         },
         "name": "",
         "showscale": false,
         "text": [
          "ARG: 2.4 %",
          "RUS: 8.6 %",
          "SAU: 1.2 %"
         ],
         "type": "choropleth",
         "z": [
          0.024118578728589135,
          0.0860288833849352,
          0.012113824510785909
         ],
         "zmax": 1,
         "zmin": -1
        },
        {
         "marker": {
          "color": "steelblue"
         },
         "name": "Per capita convergence<br>(Equality)",
         "opacity": 0.3,
         "orientation": "h",
         "showlegend": true,
         "type": "bar",
         "x": [
          0.5462617010543509,
          0.5405274276123609,
          0.5802481955371062,
          0.5002138069395987,
          0.5483708609184663,
          0.5654269077331511
         ],
         "xaxis": "x",
         "y": [
          "JPN",
          "RUS",
          "SAU",
          "EU",
          "BRA",
          "USA"
         ],
         "yaxis": "y"
        },
        {
         "marker": {
          "color": "goldenrod"
         },
         "name": "Ability to pay<br>(Capability)",
         "opacity": 0.3,
         "orientation": "h",
         "showlegend": true,
         "type": "bar",
         "x": [
          0.7332137218781719,
          0.5776812392641135,
          0.6800116996472467,
          0.7237676822090766,
          0.4707364084418988,
          0.7661361136757805
         ],
         "xaxis": "x",
         "y": [
          "JPN",
          "RUS",
          "SAU",
          "EU",
          "BRA",
          "USA"
         ],
         "yaxis": "y"
        },
        {
         "marker": {
          "color": "purple"
         },
         "name": "Equal cumulative per capita<br>(Responsibility)",
         "opacity": 0.3,
         "orientation": "h",
         "showlegend": true,
         "type": "bar",
         "x": [
          1.4269330731830168,
          2.0101562895494194,
          1.9842099769142156,
          1.3318487072602312,
          1.8494242135373757,
          2.542131805129821
         ],
         "xaxis": "x",
         "y": [
          "JPN",
          "RUS",
          "SAU",
          "EU",
          "BRA",
          "USA"
         ],
         "yaxis": "y"
        },
        {
         "marker": {
          "color": "steelblue"
         },
         "name": "Per capita convergence<br>(Equality)",
         "opacity": 0.3,
         "orientation": "h",
         "showlegend": false,
         "type": "bar",
         "x": [
          -0.08833379598600133,
          0.07403006642894316,
          0.4198389553549805,
          0.4241371339314485,
          0.5628887841080839,
          0.5048375102619649
         ],
         "xaxis": "x2",
         "y": [
          "PAK",
          "IND",
          "CHN",
          "MEX",
          "IDN",
          "ZAF"
         ],
         "yaxis": "y2"
        },
        {
         "marker": {
          "color": "goldenrod"
         },
         "name": "Ability to pay<br>(Capability)",
         "opacity": 0.3,
         "orientation": "h",
         "showlegend": false,
         "type": "bar",
         "x": [
          -0.2036866465854783,
          -0.047594298815953895,
          0.35673865907230806,
          0.47629430941876627,
          0.36522306380981984,
          0.43568031861727685
         ],
         "xaxis": "x2",
         "y": [
          "PAK",
          "IND",
          "CHN",
          "MEX",
          "IDN",
          "ZAF"
         ],
         "yaxis": "y2"
        },
        {
         "marker": {
          "color": "purple"
         },
         "name": "Equal cumulative per capita<br>(Responsibility)",
         "opacity": 0.3,
         "orientation": "h",
         "showlegend": false,
         "type": "bar",
         "x": [
          -5.804547276021638,
          -4.392337615202273,
          0.4911274760984322,
          0.5012355130520478,
          0.7205201086615995,
          1.4383578773155437
         ],
         "xaxis": "x2",
         "y": [
          "PAK",
          "IND",
          "CHN",
          "MEX",
          "IDN",
          "ZAF"
         ],
         "yaxis": "y2"
        }
       ],
       "layout": {
        "annotations": [
         {
          "font": {
           "color": "black",
           "size": 20
          },
          "showarrow": false,
          "text": "<b>(a) Comparison with NDCs</b>",
          "x": 0.03,
          "xref": "paper",
          "y": 1.02,
          "yref": "paper"
         },
         {
          "font": {
           "color": "black",
           "size": 20
          },
          "showarrow": false,
          "text": "<b>(b) Comparison with NDCs",
          "x": 0.53,
          "xanchor": "left",
          "xref": "paper",
          "y": 1.02,
          "yref": "paper"
         },
         {
          "font": {
           "color": "black",
           "size": 20
          },
          "showarrow": false,
          "text": "<b>(c) Comparison with cost-optimal pathways",
          "x": 0.03,
          "xanchor": "left",
          "xref": "paper",
          "y": 0.68,
          "yref": "paper"
         },
         {
          "font": {
           "color": "black",
           "size": 20
          },
          "showarrow": false,
          "text": "<b>(d) Comparison with cost-optimal pathways",
          "x": 0.53,
          "xanchor": "left",
          "xref": "paper",
          "y": 0.68,
          "yref": "paper"
         },
         {
          "font": {
           "color": "black",
           "size": 20
          },
          "showarrow": false,
          "text": "<b>(e) Domestic mitigation and international mitigation financing",
          "x": 0.03,
          "xanchor": "left",
          "xref": "paper",
          "y": 0.325,
          "yref": "paper"
         },
         {
          "font": {
           "color": "black",
           "size": 18
          },
          "showarrow": false,
          "text": "Emissions reductions by 2030 w.r.t. 2015",
          "x": 0.5,
          "xanchor": "center",
          "xref": "paper",
          "y": -0.05,
          "yref": "paper"
         },
         {
          "font": {
           "color": "black",
           "size": 20
          },
          "showarrow": false,
          "text": "<i>Default allocation settings: gap is 63.6 Gt CO<sub>2</sub>e (+214%) in 2030",
          "x": 0.03,
          "xanchor": "left",
          "xref": "paper",
          "y": 1.07,
          "yref": "paper"
         },
         {
          "font": {
           "color": "black",
           "size": 20
          },
          "showarrow": false,
          "text": "<i>Maximum allocation settings: gap is 112.2 Gt CO<sub>2</sub>e (+377%) in 2030",
          "x": 0.53,
          "xanchor": "left",
          "xref": "paper",
          "y": 1.07,
          "yref": "paper"
         },
         {
          "font": {
           "color": "black",
           "size": 13.333333333333334
          },
          "showarrow": false,
          "text": "(default)",
          "x": 0.03,
          "xanchor": "left",
          "xref": "paper",
          "y": 0.984,
          "yref": "paper"
         },
         {
          "font": {
           "color": "black",
           "size": 13.333333333333334
          },
          "showarrow": false,
          "text": "(default)",
          "x": 0.03,
          "xanchor": "left",
          "xref": "paper",
          "y": 0.47,
          "yref": "paper"
         },
         {
          "font": {
           "color": "black",
           "size": 13.333333333333334
          },
          "showarrow": false,
          "text": "(maximum)",
          "x": 0.53,
          "xanchor": "left",
          "xref": "paper",
          "y": 0.984,
          "yref": "paper"
         },
         {
          "font": {
           "color": "black",
           "size": 13.333333333333334
          },
          "showarrow": false,
          "text": "(maximum)",
          "x": 0.53,
          "xanchor": "left",
          "xref": "paper",
          "y": 0.47,
          "yref": "paper"
         }
        ],
        "barmode": "group",
        "geo": {
         "domain": {
          "x": [
           0,
           0.5
          ],
          "y": [
           0.68,
           1
          ]
         },
         "lakecolor": "rgb(255, 255, 255)",
         "landcolor": "grey",
         "projection": {
          "type": "natural earth"
         },
         "resolution": 110,
         "showcoastlines": false,
         "showlakes": false,
         "visible": false
        },
        "geo2": {
         "domain": {
          "x": [
           0.5,
           1
          ],
          "y": [
           0.68,
           1
          ]
         },
         "lakecolor": "rgb(255, 255, 255)",
         "landcolor": "grey",
         "projection": {
          "type": "natural earth"
         },
         "resolution": 110,
         "showcoastlines": false,
         "showlakes": false,
         "visible": false
        },
        "geo3": {
         "domain": {
          "x": [
           0,
           0.5
          ],
          "y": [
           0.34,
           0.66
          ]
         },
         "lakecolor": "rgb(255, 255, 255)",
         "landcolor": "grey",
         "projection": {
          "type": "natural earth"
         },
         "resolution": 110,
         "showcoastlines": false,
         "showlakes": false,
         "visible": false
        },
        "geo4": {
         "domain": {
          "x": [
           0.5,
           1
          ],
          "y": [
           0.34,
           0.66
          ]
         },
         "lakecolor": "rgb(255, 255, 255)",
         "landcolor": "grey",
         "projection": {
          "type": "natural earth"
         },
         "resolution": 110,
         "showcoastlines": false,
         "showlakes": false,
         "visible": false
        },
        "height": 1500,
        "legend": {
         "x": 0.6,
         "xanchor": "center",
         "y": 0.3,
         "yanchor": "top"
        },
        "paper_bgcolor": "white",
        "plot_bgcolor": "white",
        "shapes": [
         {
          "line": {
           "color": "black",
           "width": 2
          },
          "type": "line",
          "x0": 0,
          "x1": 0.495,
          "xref": "paper",
          "y0": 1.03,
          "y1": 1.03,
          "yref": "paper"
         },
         {
          "line": {
           "color": "black",
           "width": 2
          },
          "type": "line",
          "x0": 0,
          "x1": 0,
          "xref": "paper",
          "y0": 1.01,
          "y1": 1.03,
          "yref": "paper"
         },
         {
          "line": {
           "color": "black",
           "width": 2
          },
          "type": "line",
          "x0": 0.495,
          "x1": 0.495,
          "xref": "paper",
          "y0": 1.01,
          "y1": 1.03,
          "yref": "paper"
         },
         {
          "line": {
           "color": "black",
           "width": 2
          },
          "type": "line",
          "x0": 0.505,
          "x1": 1,
          "xref": "paper",
          "y0": 1.03,
          "y1": 1.03,
          "yref": "paper"
         },
         {
          "line": {
           "color": "black",
           "width": 2
          },
          "type": "line",
          "x0": 0.505,
          "x1": 0.505,
          "xref": "paper",
          "y0": 1.01,
          "y1": 1.03,
          "yref": "paper"
         },
         {
          "line": {
           "color": "black",
           "width": 2
          },
          "type": "line",
          "x0": 1,
          "x1": 1,
          "xref": "paper",
          "y0": 1.01,
          "y1": 1.03,
          "yref": "paper"
         },
         {
          "line": {
           "color": "forestgreen",
           "width": 5
          },
          "name": "NDC",
          "showlegend": true,
          "type": "line",
          "x0": 0.3339927301500951,
          "x1": 0.3339927301500951,
          "xref": "x",
          "y0": -0.4,
          "y1": 0.4,
          "yref": "y"
         },
         {
          "line": {
           "color": "forestgreen",
           "width": 5
          },
          "type": "line",
          "x0": 0.3339927301500951,
          "x1": 0.3339927301500951,
          "xref": "x",
          "y0": -0.4,
          "y1": 0.4,
          "yref": "y"
         },
         {
          "line": {
           "color": "forestgreen",
           "width": 5
          },
          "type": "line",
          "x0": 0.3339927301500951,
          "x1": 0.3339927301500951,
          "xref": "x",
          "y0": 0,
          "y1": 0,
          "yref": "y"
         },
         {
          "line": {
           "color": "chocolate",
           "width": 5
          },
          "name": "Cost optimal",
          "showlegend": true,
          "type": "line",
          "x0": 0.3743857077647277,
          "x1": 0.3743857077647277,
          "xref": "x",
          "y0": -0.4,
          "y1": 0.4,
          "yref": "y"
         },
         {
          "line": {
           "color": "black",
           "width": 5
          },
          "name": "Least-stringent fair target",
          "showlegend": true,
          "type": "line",
          "x0": 0.5462617010543509,
          "x1": 0.5462617010543509,
          "xref": "x",
          "y0": -0.4,
          "y1": 0.4,
          "yref": "y"
         },
         {
          "fillcolor": "forestgreen",
          "line": {
           "color": "black",
           "width": 0
          },
          "name": "Increase domestic ambition",
          "opacity": 0.5,
          "showlegend": true,
          "type": "rect",
          "x0": 0.3339927301500951,
          "x1": 0.3743857077647277,
          "xref": "x",
          "y0": -0.4,
          "y1": 0.4,
          "yref": "y"
         },
         {
          "fillcolor": "tomato",
          "line": {
           "color": "black",
           "width": 0
          },
          "opacity": 0.5,
          "type": "rect",
          "x0": 0.3743857077647277,
          "x1": 0.5462617010543509,
          "xref": "x",
          "y0": -0.4,
          "y1": 0.4,
          "yref": "y"
         },
         {
          "line": {
           "color": "forestgreen",
           "width": 5
          },
          "name": "NDC",
          "showlegend": false,
          "type": "line",
          "x0": -0.49000860157303383,
          "x1": -0.49000860157303383,
          "xref": "x",
          "y0": 0.6,
          "y1": 1.4,
          "yref": "y"
         },
         {
          "line": {
           "color": "forestgreen",
           "width": 5
          },
          "type": "line",
          "x0": -0.49000860157303383,
          "x1": -0.49000860157303383,
          "xref": "x",
          "y0": 0.6,
          "y1": 1.4,
          "yref": "y"
         },
         {
          "line": {
           "color": "forestgreen",
           "width": 5
          },
          "type": "line",
          "x0": -0.49000860157303383,
          "x1": -0.49000860157303383,
          "xref": "x",
          "y0": 1,
          "y1": 1,
          "yref": "y"
         },
         {
          "line": {
           "color": "chocolate",
           "width": 5
          },
          "name": "Cost optimal",
          "showlegend": false,
          "type": "line",
          "x0": 0.08770929946296191,
          "x1": 0.08770929946296191,
          "xref": "x",
          "y0": 0.6,
          "y1": 1.4,
          "yref": "y"
         },
         {
          "line": {
           "color": "black",
           "width": 5
          },
          "name": "Least-stringent fair target",
          "showlegend": false,
          "type": "line",
          "x0": 0.5405274276123609,
          "x1": 0.5405274276123609,
          "xref": "x",
          "y0": 0.6,
          "y1": 1.4,
          "yref": "y"
         },
         {
          "fillcolor": "forestgreen",
          "line": {
           "color": "black",
           "width": 0
          },
          "name": "Increase domestic ambition",
          "opacity": 0.5,
          "showlegend": false,
          "type": "rect",
          "x0": -0.49000860157303383,
          "x1": 0.08770929946296191,
          "xref": "x",
          "y0": 0.6,
          "y1": 1.4,
          "yref": "y"
         },
         {
          "fillcolor": "tomato",
          "line": {
           "color": "black",
           "width": 0
          },
          "opacity": 0.5,
          "type": "rect",
          "x0": 0.08770929946296191,
          "x1": 0.5405274276123609,
          "xref": "x",
          "y0": 0.6,
          "y1": 1.4,
          "yref": "y"
         },
         {
          "line": {
           "color": "forestgreen",
           "width": 5
          },
          "name": "NDC",
          "showlegend": false,
          "type": "line",
          "x0": -0.1408603523104417,
          "x1": -0.1408603523104417,
          "xref": "x",
          "y0": 1.6,
          "y1": 2.4,
          "yref": "y"
         },
         {
          "line": {
           "color": "forestgreen",
           "width": 5
          },
          "type": "line",
          "x0": -0.5285933112075567,
          "x1": -0.5285933112075567,
          "xref": "x",
          "y0": 1.6,
          "y1": 2.4,
          "yref": "y"
         },
         {
          "line": {
           "color": "forestgreen",
           "width": 5
          },
          "type": "line",
          "x0": -0.1408603523104417,
          "x1": -0.5285933112075567,
          "xref": "x",
          "y0": 2,
          "y1": 2,
          "yref": "y"
         },
         {
          "line": {
           "color": "chocolate",
           "width": 5
          },
          "name": "Cost optimal",
          "showlegend": false,
          "type": "line",
          "x0": 0.11798096652271817,
          "x1": 0.11798096652271817,
          "xref": "x",
          "y0": 1.6,
          "y1": 2.4,
          "yref": "y"
         },
         {
          "line": {
           "color": "black",
           "width": 5
          },
          "name": "Least-stringent fair target",
          "showlegend": false,
          "type": "line",
          "x0": 0.5802481955371062,
          "x1": 0.5802481955371062,
          "xref": "x",
          "y0": 1.6,
          "y1": 2.4,
          "yref": "y"
         },
         {
          "fillcolor": "forestgreen",
          "line": {
           "color": "black",
           "width": 0
          },
          "name": "Increase domestic ambition",
          "opacity": 0.5,
          "showlegend": false,
          "type": "rect",
          "x0": -0.1408603523104417,
          "x1": 0.11798096652271817,
          "xref": "x",
          "y0": 1.6,
          "y1": 2.4,
          "yref": "y"
         },
         {
          "fillcolor": "tomato",
          "line": {
           "color": "black",
           "width": 0
          },
          "opacity": 0.5,
          "type": "rect",
          "x0": 0.11798096652271817,
          "x1": 0.5802481955371062,
          "xref": "x",
          "y0": 1.6,
          "y1": 2.4,
          "yref": "y"
         },
         {
          "line": {
           "color": "forestgreen",
           "width": 5
          },
          "name": "NDC",
          "showlegend": false,
          "type": "line",
          "x0": 0.3908938196584818,
          "x1": 0.3908938196584818,
          "xref": "x",
          "y0": 2.6,
          "y1": 3.4,
          "yref": "y"
         },
         {
          "line": {
           "color": "forestgreen",
           "width": 5
          },
          "type": "line",
          "x0": 0.3908938196584818,
          "x1": 0.3908938196584818,
          "xref": "x",
          "y0": 2.6,
          "y1": 3.4,
          "yref": "y"
         },
         {
          "line": {
           "color": "forestgreen",
           "width": 5
          },
          "type": "line",
          "x0": 0.3908938196584818,
          "x1": 0.3908938196584818,
          "xref": "x",
          "y0": 3,
          "y1": 3,
          "yref": "y"
         },
         {
          "line": {
           "color": "chocolate",
           "width": 5
          },
          "name": "Cost optimal",
          "showlegend": false,
          "type": "line",
          "x0": 0.2704385330873422,
          "x1": 0.2704385330873422,
          "xref": "x",
          "y0": 2.6,
          "y1": 3.4,
          "yref": "y"
         },
         {
          "line": {
           "color": "black",
           "width": 5
          },
          "name": "Least-stringent fair target",
          "showlegend": false,
          "type": "line",
          "x0": 0.5002138069395987,
          "x1": 0.5002138069395987,
          "xref": "x",
          "y0": 2.6,
          "y1": 3.4,
          "yref": "y"
         },
         {
          "fillcolor": "tomato",
          "line": {
           "color": "black",
           "width": 0
          },
          "name": "Pay for mitigation abroad",
          "opacity": 0.5,
          "showlegend": true,
          "type": "rect",
          "x0": 0.3908938196584818,
          "x1": 0.5002138069395987,
          "xref": "x",
          "y0": 2.6,
          "y1": 3.4,
          "yref": "y"
         },
         {
          "line": {
           "color": "forestgreen",
           "width": 5
          },
          "name": "NDC",
          "showlegend": false,
          "type": "line",
          "x0": 0.2176979613033685,
          "x1": 0.2176979613033685,
          "xref": "x",
          "y0": 3.6,
          "y1": 4.4,
          "yref": "y"
         },
         {
          "line": {
           "color": "forestgreen",
           "width": 5
          },
          "type": "line",
          "x0": 0.21705570230916904,
          "x1": 0.21705570230916904,
          "xref": "x",
          "y0": 3.6,
          "y1": 4.4,
          "yref": "y"
         },
         {
          "line": {
           "color": "forestgreen",
           "width": 5
          },
          "type": "line",
          "x0": 0.2176979613033685,
          "x1": 0.21705570230916904,
          "xref": "x",
          "y0": 4,
          "y1": 4,
          "yref": "y"
         },
         {
          "line": {
           "color": "chocolate",
           "width": 5
          },
          "name": "Cost optimal",
          "showlegend": false,
          "type": "line",
          "x0": 0.620558952876136,
          "x1": 0.620558952876136,
          "xref": "x",
          "y0": 3.6,
          "y1": 4.4,
          "yref": "y"
         },
         {
          "line": {
           "color": "black",
           "width": 5
          },
          "name": "Least-stringent fair target",
          "showlegend": false,
          "type": "line",
          "x0": 0.4707364084418988,
          "x1": 0.4707364084418988,
          "xref": "x",
          "y0": 3.6,
          "y1": 4.4,
          "yref": "y"
         },
         {
          "fillcolor": "forestgreen",
          "line": {
           "color": "black",
           "width": 0
          },
          "opacity": 0.5,
          "type": "rect",
          "x0": 0.2176979613033685,
          "x1": 0.4707364084418988,
          "xref": "x",
          "y0": 3.6,
          "y1": 4.4,
          "yref": "y"
         },
         {
          "fillcolor": "grey",
          "line": {
           "color": "black",
           "width": 0
          },
          "name": "Receive mitigation payment from abroad",
          "opacity": 0.3,
          "showlegend": true,
          "type": "rect",
          "x0": 0.2176979613033685,
          "x1": 0.620558952876136,
          "xref": "x",
          "y0": 3.6,
          "y1": 4.4,
          "yref": "y"
         },
         {
          "line": {
           "color": "forestgreen",
           "width": 5
          },
          "name": "NDC",
          "showlegend": false,
          "type": "line",
          "x0": 0.46698563450312847,
          "x1": 0.46698563450312847,
          "xref": "x",
          "y0": 4.6,
          "y1": 5.4,
          "yref": "y"
         },
         {
          "line": {
           "color": "forestgreen",
           "width": 5
          },
          "type": "line",
          "x0": 0.4447767026074255,
          "x1": 0.4447767026074255,
          "xref": "x",
          "y0": 4.6,
          "y1": 5.4,
          "yref": "y"
         },
         {
          "line": {
           "color": "forestgreen",
           "width": 5
          },
          "type": "line",
          "x0": 0.46698563450312847,
          "x1": 0.4447767026074255,
          "xref": "x",
          "y0": 5,
          "y1": 5,
          "yref": "y"
         },
         {
          "line": {
           "color": "chocolate",
           "width": 5
          },
          "name": "Cost optimal",
          "showlegend": false,
          "type": "line",
          "x0": 0.3319340846548411,
          "x1": 0.3319340846548411,
          "xref": "x",
          "y0": 4.6,
          "y1": 5.4,
          "yref": "y"
         },
         {
          "line": {
           "color": "black",
           "width": 5
          },
          "name": "Least-stringent fair target",
          "showlegend": false,
          "type": "line",
          "x0": 0.5654269077331511,
          "x1": 0.5654269077331511,
          "xref": "x",
          "y0": 4.6,
          "y1": 5.4,
          "yref": "y"
         },
         {
          "fillcolor": "tomato",
          "line": {
           "color": "black",
           "width": 0
          },
          "name": "Pay for mitigation abroad",
          "opacity": 0.5,
          "showlegend": false,
          "type": "rect",
          "x0": 0.46698563450312847,
          "x1": 0.5654269077331511,
          "xref": "x",
          "y0": 4.6,
          "y1": 5.4,
          "yref": "y"
         },
         {
          "line": {
           "color": "black",
           "width": 3
          },
          "type": "line",
          "x0": 0,
          "x1": 0,
          "xref": "x",
          "y0": -0.5,
          "y1": 5.5,
          "yref": "y"
         },
         {
          "line": {
           "color": "forestgreen",
           "width": 5
          },
          "name": "NDC",
          "showlegend": false,
          "type": "line",
          "x0": -0.8716064435942186,
          "x1": -0.8716064435942186,
          "xref": "x2",
          "y0": -0.4,
          "y1": 0.4,
          "yref": "y2"
         },
         {
          "line": {
           "color": "forestgreen",
           "width": 5
          },
          "type": "line",
          "x0": -0.8716064435942186,
          "x1": -0.8716064435942186,
          "xref": "x2",
          "y0": -0.4,
          "y1": 0.4,
          "yref": "y2"
         },
         {
          "line": {
           "color": "forestgreen",
           "width": 5
          },
          "type": "line",
          "x0": -0.8716064435942186,
          "x1": -0.8716064435942186,
          "xref": "x2",
          "y0": 0,
          "y1": 0,
          "yref": "y2"
         },
         {
          "line": {
           "color": "chocolate",
           "width": 5
          },
          "name": "Cost optimal",
          "showlegend": false,
          "type": "line",
          "x0": 0.18711284170290043,
          "x1": 0.18711284170290043,
          "xref": "x2",
          "y0": -0.4,
          "y1": 0.4,
          "yref": "y2"
         },
         {
          "line": {
           "color": "black",
           "width": 5
          },
          "name": "Least-stringent fair target",
          "showlegend": false,
          "type": "line",
          "x0": -5.804547276021638,
          "x1": -5.804547276021638,
          "xref": "x2",
          "y0": -0.4,
          "y1": 0.4,
          "yref": "y2"
         },
         {
          "fillcolor": "grey",
          "line": {
           "color": "black",
           "width": 0
          },
          "name": "Receive mitigation payment from abroad",
          "opacity": 0.3,
          "showlegend": false,
          "type": "rect",
          "x0": -0.8716064435942186,
          "x1": 0.18711284170290043,
          "xref": "x2",
          "y0": -0.4,
          "y1": 0.4,
          "yref": "y2"
         },
         {
          "line": {
           "color": "forestgreen",
           "width": 5
          },
          "name": "NDC",
          "showlegend": false,
          "type": "line",
          "x0": -0.6010054293183189,
          "x1": -0.6010054293183189,
          "xref": "x2",
          "y0": 0.6,
          "y1": 1.4,
          "yref": "y2"
         },
         {
          "line": {
           "color": "forestgreen",
           "width": 5
          },
          "type": "line",
          "x0": -0.8962396943494872,
          "x1": -0.8962396943494872,
          "xref": "x2",
          "y0": 0.6,
          "y1": 1.4,
          "yref": "y2"
         },
         {
          "line": {
           "color": "forestgreen",
           "width": 5
          },
          "type": "line",
          "x0": -0.6010054293183189,
          "x1": -0.8962396943494872,
          "xref": "x2",
          "y0": 1,
          "y1": 1,
          "yref": "y2"
         },
         {
          "line": {
           "color": "chocolate",
           "width": 5
          },
          "name": "Cost optimal",
          "showlegend": false,
          "type": "line",
          "x0": -0.13486329360057492,
          "x1": -0.13486329360057492,
          "xref": "x2",
          "y0": 0.6,
          "y1": 1.4,
          "yref": "y2"
         },
         {
          "line": {
           "color": "black",
           "width": 5
          },
          "name": "Least-stringent fair target",
          "showlegend": false,
          "type": "line",
          "x0": -4.392337615202273,
          "x1": -4.392337615202273,
          "xref": "x2",
          "y0": 0.6,
          "y1": 1.4,
          "yref": "y2"
         },
         {
          "fillcolor": "grey",
          "line": {
           "color": "black",
           "width": 0
          },
          "name": "Receive mitigation payment from abroad",
          "opacity": 0.3,
          "showlegend": false,
          "type": "rect",
          "x0": -0.6010054293183189,
          "x1": -0.13486329360057492,
          "xref": "x2",
          "y0": 0.6,
          "y1": 1.4,
          "yref": "y2"
         },
         {
          "line": {
           "color": "forestgreen",
           "width": 5
          },
          "name": "NDC",
          "showlegend": false,
          "type": "line",
          "x0": -0.07828080974467899,
          "x1": -0.07828080974467899,
          "xref": "x2",
          "y0": 1.6,
          "y1": 2.4,
          "yref": "y2"
         },
         {
          "line": {
           "color": "forestgreen",
           "width": 5
          },
          "type": "line",
          "x0": -0.07828080974467899,
          "x1": -0.07828080974467899,
          "xref": "x2",
          "y0": 1.6,
          "y1": 2.4,
          "yref": "y2"
         },
         {
          "line": {
           "color": "forestgreen",
           "width": 5
          },
          "type": "line",
          "x0": -0.07828080974467899,
          "x1": -0.07828080974467899,
          "xref": "x2",
          "y0": 2,
          "y1": 2,
          "yref": "y2"
         },
         {
          "line": {
           "color": "chocolate",
           "width": 5
          },
          "name": "Cost optimal",
          "showlegend": false,
          "type": "line",
          "x0": 0.2626701318474416,
          "x1": 0.2626701318474416,
          "xref": "x2",
          "y0": 1.6,
          "y1": 2.4,
          "yref": "y2"
         },
         {
          "line": {
           "color": "black",
           "width": 5
          },
          "name": "Least-stringent fair target",
          "showlegend": false,
          "type": "line",
          "x0": 0.35673865907230806,
          "x1": 0.35673865907230806,
          "xref": "x2",
          "y0": 1.6,
          "y1": 2.4,
          "yref": "y2"
         },
         {
          "fillcolor": "forestgreen",
          "line": {
           "color": "black",
           "width": 0
          },
          "name": "Increase domestic ambition",
          "opacity": 0.5,
          "showlegend": false,
          "type": "rect",
          "x0": -0.07828080974467899,
          "x1": 0.2626701318474416,
          "xref": "x2",
          "y0": 1.6,
          "y1": 2.4,
          "yref": "y2"
         },
         {
          "fillcolor": "tomato",
          "line": {
           "color": "black",
           "width": 0
          },
          "opacity": 0.5,
          "type": "rect",
          "x0": 0.2626701318474416,
          "x1": 0.35673865907230806,
          "xref": "x2",
          "y0": 1.6,
          "y1": 2.4,
          "yref": "y2"
         },
         {
          "line": {
           "color": "forestgreen",
           "width": 5
          },
          "name": "NDC",
          "showlegend": false,
          "type": "line",
          "x0": -0.03901099438406197,
          "x1": -0.03901099438406197,
          "xref": "x2",
          "y0": 2.6,
          "y1": 3.4,
          "yref": "y2"
         },
         {
          "line": {
           "color": "forestgreen",
           "width": 5
          },
          "type": "line",
          "x0": -0.2121794934480723,
          "x1": -0.2121794934480723,
          "xref": "x2",
          "y0": 2.6,
          "y1": 3.4,
          "yref": "y2"
         },
         {
          "line": {
           "color": "forestgreen",
           "width": 5
          },
          "type": "line",
          "x0": -0.03901099438406197,
          "x1": -0.2121794934480723,
          "xref": "x2",
          "y0": 3,
          "y1": 3,
          "yref": "y2"
         },
         {
          "line": {
           "color": "chocolate",
           "width": 5
          },
          "name": "Cost optimal",
          "showlegend": false,
          "type": "line",
          "x0": 0.2947562764893733,
          "x1": 0.2947562764893733,
          "xref": "x2",
          "y0": 2.6,
          "y1": 3.4,
          "yref": "y2"
         },
         {
          "line": {
           "color": "black",
           "width": 5
          },
          "name": "Least-stringent fair target",
          "showlegend": false,
          "type": "line",
          "x0": 0.4241371339314485,
          "x1": 0.4241371339314485,
          "xref": "x2",
          "y0": 2.6,
          "y1": 3.4,
          "yref": "y2"
         },
         {
          "fillcolor": "forestgreen",
          "line": {
           "color": "black",
           "width": 0
          },
          "name": "Increase domestic ambition",
          "opacity": 0.5,
          "showlegend": false,
          "type": "rect",
          "x0": -0.03901099438406197,
          "x1": 0.2947562764893733,
          "xref": "x2",
          "y0": 2.6,
          "y1": 3.4,
          "yref": "y2"
         },
         {
          "fillcolor": "tomato",
          "line": {
           "color": "black",
           "width": 0
          },
          "opacity": 0.5,
          "type": "rect",
          "x0": 0.2947562764893733,
          "x1": 0.4241371339314485,
          "xref": "x2",
          "y0": 2.6,
          "y1": 3.4,
          "yref": "y2"
         },
         {
          "line": {
           "color": "forestgreen",
           "width": 5
          },
          "name": "NDC",
          "showlegend": false,
          "type": "line",
          "x0": 0.32853216641737837,
          "x1": 0.32853216641737837,
          "xref": "x2",
          "y0": 3.6,
          "y1": 4.4,
          "yref": "y2"
         },
         {
          "line": {
           "color": "forestgreen",
           "width": 5
          },
          "type": "line",
          "x0": 0.19482968054027539,
          "x1": 0.19482968054027539,
          "xref": "x2",
          "y0": 3.6,
          "y1": 4.4,
          "yref": "y2"
         },
         {
          "line": {
           "color": "forestgreen",
           "width": 5
          },
          "type": "line",
          "x0": 0.32853216641737837,
          "x1": 0.19482968054027539,
          "xref": "x2",
          "y0": 4,
          "y1": 4,
          "yref": "y2"
         },
         {
          "line": {
           "color": "chocolate",
           "width": 5
          },
          "name": "Cost optimal",
          "showlegend": false,
          "type": "line",
          "x0": 0.5501310356246374,
          "x1": 0.5501310356246374,
          "xref": "x2",
          "y0": 3.6,
          "y1": 4.4,
          "yref": "y2"
         },
         {
          "line": {
           "color": "black",
           "width": 5
          },
          "name": "Least-stringent fair target",
          "showlegend": false,
          "type": "line",
          "x0": 0.36522306380981984,
          "x1": 0.36522306380981984,
          "xref": "x2",
          "y0": 3.6,
          "y1": 4.4,
          "yref": "y2"
         },
         {
          "fillcolor": "forestgreen",
          "line": {
           "color": "black",
           "width": 0
          },
          "opacity": 0.5,
          "type": "rect",
          "x0": 0.32853216641737837,
          "x1": 0.36522306380981984,
          "xref": "x2",
          "y0": 3.6,
          "y1": 4.4,
          "yref": "y2"
         },
         {
          "fillcolor": "grey",
          "line": {
           "color": "black",
           "width": 0
          },
          "name": "Receive mitigation payment from abroad",
          "opacity": 0.3,
          "showlegend": false,
          "type": "rect",
          "x0": 0.32853216641737837,
          "x1": 0.5501310356246374,
          "xref": "x2",
          "y0": 3.6,
          "y1": 4.4,
          "yref": "y2"
         },
         {
          "line": {
           "color": "forestgreen",
           "width": 5
          },
          "name": "NDC",
          "showlegend": false,
          "type": "line",
          "x0": 0.30596348315421995,
          "x1": 0.30596348315421995,
          "xref": "x2",
          "y0": 4.6,
          "y1": 5.4,
          "yref": "y2"
         },
         {
          "line": {
           "color": "forestgreen",
           "width": 5
          },
          "type": "line",
          "x0": 0.16975079243167923,
          "x1": 0.16975079243167923,
          "xref": "x2",
          "y0": 4.6,
          "y1": 5.4,
          "yref": "y2"
         },
         {
          "line": {
           "color": "forestgreen",
           "width": 5
          },
          "type": "line",
          "x0": 0.30596348315421995,
          "x1": 0.16975079243167923,
          "xref": "x2",
          "y0": 5,
          "y1": 5,
          "yref": "y2"
         },
         {
          "line": {
           "color": "chocolate",
           "width": 5
          },
          "name": "Cost optimal",
          "showlegend": false,
          "type": "line",
          "x0": 0.4138984686534134,
          "x1": 0.4138984686534134,
          "xref": "x2",
          "y0": 4.6,
          "y1": 5.4,
          "yref": "y2"
         },
         {
          "line": {
           "color": "black",
           "width": 5
          },
          "name": "Least-stringent fair target",
          "showlegend": false,
          "type": "line",
          "x0": 0.43568031861727685,
          "x1": 0.43568031861727685,
          "xref": "x2",
          "y0": 4.6,
          "y1": 5.4,
          "yref": "y2"
         },
         {
          "fillcolor": "forestgreen",
          "line": {
           "color": "black",
           "width": 0
          },
          "name": "Increase domestic ambition",
          "opacity": 0.5,
          "showlegend": false,
          "type": "rect",
          "x0": 0.30596348315421995,
          "x1": 0.4138984686534134,
          "xref": "x2",
          "y0": 4.6,
          "y1": 5.4,
          "yref": "y2"
         },
         {
          "fillcolor": "tomato",
          "line": {
           "color": "black",
           "width": 0
          },
          "opacity": 0.5,
          "type": "rect",
          "x0": 0.4138984686534134,
          "x1": 0.43568031861727685,
          "xref": "x2",
          "y0": 4.6,
          "y1": 5.4,
          "yref": "y2"
         },
         {
          "line": {
           "color": "black",
           "width": 3
          },
          "type": "line",
          "x0": 0,
          "x1": 0,
          "xref": "x2",
          "y0": -0.5,
          "y1": 5.5,
          "yref": "y2"
         }
        ],
        "template": {
         "data": {
          "bar": [
           {
            "error_x": {
             "color": "#2a3f5f"
            },
            "error_y": {
             "color": "#2a3f5f"
            },
            "marker": {
             "line": {
              "color": "#E5ECF6",
              "width": 0.5
             },
             "pattern": {
              "fillmode": "overlay",
              "size": 10,
              "solidity": 0.2
             }
            },
            "type": "bar"
           }
          ],
          "barpolar": [
           {
            "marker": {
             "line": {
              "color": "#E5ECF6",
              "width": 0.5
             },
             "pattern": {
              "fillmode": "overlay",
              "size": 10,
              "solidity": 0.2
             }
            },
            "type": "barpolar"
           }
          ],
          "carpet": [
           {
            "aaxis": {
             "endlinecolor": "#2a3f5f",
             "gridcolor": "white",
             "linecolor": "white",
             "minorgridcolor": "white",
             "startlinecolor": "#2a3f5f"
            },
            "baxis": {
             "endlinecolor": "#2a3f5f",
             "gridcolor": "white",
             "linecolor": "white",
             "minorgridcolor": "white",
             "startlinecolor": "#2a3f5f"
            },
            "type": "carpet"
           }
          ],
          "choropleth": [
           {
            "colorbar": {
             "outlinewidth": 0,
             "ticks": ""
            },
            "type": "choropleth"
           }
          ],
          "contour": [
           {
            "colorbar": {
             "outlinewidth": 0,
             "ticks": ""
            },
            "colorscale": [
             [
              0,
              "#0d0887"
             ],
             [
              0.1111111111111111,
              "#46039f"
             ],
             [
              0.2222222222222222,
              "#7201a8"
             ],
             [
              0.3333333333333333,
              "#9c179e"
             ],
             [
              0.4444444444444444,
              "#bd3786"
             ],
             [
              0.5555555555555556,
              "#d8576b"
             ],
             [
              0.6666666666666666,
              "#ed7953"
             ],
             [
              0.7777777777777778,
              "#fb9f3a"
             ],
             [
              0.8888888888888888,
              "#fdca26"
             ],
             [
              1,
              "#f0f921"
             ]
            ],
            "type": "contour"
           }
          ],
          "contourcarpet": [
           {
            "colorbar": {
             "outlinewidth": 0,
             "ticks": ""
            },
            "type": "contourcarpet"
           }
          ],
          "heatmap": [
           {
            "colorbar": {
             "outlinewidth": 0,
             "ticks": ""
            },
            "colorscale": [
             [
              0,
              "#0d0887"
             ],
             [
              0.1111111111111111,
              "#46039f"
             ],
             [
              0.2222222222222222,
              "#7201a8"
             ],
             [
              0.3333333333333333,
              "#9c179e"
             ],
             [
              0.4444444444444444,
              "#bd3786"
             ],
             [
              0.5555555555555556,
              "#d8576b"
             ],
             [
              0.6666666666666666,
              "#ed7953"
             ],
             [
              0.7777777777777778,
              "#fb9f3a"
             ],
             [
              0.8888888888888888,
              "#fdca26"
             ],
             [
              1,
              "#f0f921"
             ]
            ],
            "type": "heatmap"
           }
          ],
          "heatmapgl": [
           {
            "colorbar": {
             "outlinewidth": 0,
             "ticks": ""
            },
            "colorscale": [
             [
              0,
              "#0d0887"
             ],
             [
              0.1111111111111111,
              "#46039f"
             ],
             [
              0.2222222222222222,
              "#7201a8"
             ],
             [
              0.3333333333333333,
              "#9c179e"
             ],
             [
              0.4444444444444444,
              "#bd3786"
             ],
             [
              0.5555555555555556,
              "#d8576b"
             ],
             [
              0.6666666666666666,
              "#ed7953"
             ],
             [
              0.7777777777777778,
              "#fb9f3a"
             ],
             [
              0.8888888888888888,
              "#fdca26"
             ],
             [
              1,
              "#f0f921"
             ]
            ],
            "type": "heatmapgl"
           }
          ],
          "histogram": [
           {
            "marker": {
             "pattern": {
              "fillmode": "overlay",
              "size": 10,
              "solidity": 0.2
             }
            },
            "type": "histogram"
           }
          ],
          "histogram2d": [
           {
            "colorbar": {
             "outlinewidth": 0,
             "ticks": ""
            },
            "colorscale": [
             [
              0,
              "#0d0887"
             ],
             [
              0.1111111111111111,
              "#46039f"
             ],
             [
              0.2222222222222222,
              "#7201a8"
             ],
             [
              0.3333333333333333,
              "#9c179e"
             ],
             [
              0.4444444444444444,
              "#bd3786"
             ],
             [
              0.5555555555555556,
              "#d8576b"
             ],
             [
              0.6666666666666666,
              "#ed7953"
             ],
             [
              0.7777777777777778,
              "#fb9f3a"
             ],
             [
              0.8888888888888888,
              "#fdca26"
             ],
             [
              1,
              "#f0f921"
             ]
            ],
            "type": "histogram2d"
           }
          ],
          "histogram2dcontour": [
           {
            "colorbar": {
             "outlinewidth": 0,
             "ticks": ""
            },
            "colorscale": [
             [
              0,
              "#0d0887"
             ],
             [
              0.1111111111111111,
              "#46039f"
             ],
             [
              0.2222222222222222,
              "#7201a8"
             ],
             [
              0.3333333333333333,
              "#9c179e"
             ],
             [
              0.4444444444444444,
              "#bd3786"
             ],
             [
              0.5555555555555556,
              "#d8576b"
             ],
             [
              0.6666666666666666,
              "#ed7953"
             ],
             [
              0.7777777777777778,
              "#fb9f3a"
             ],
             [
              0.8888888888888888,
              "#fdca26"
             ],
             [
              1,
              "#f0f921"
             ]
            ],
            "type": "histogram2dcontour"
           }
          ],
          "mesh3d": [
           {
            "colorbar": {
             "outlinewidth": 0,
             "ticks": ""
            },
            "type": "mesh3d"
           }
          ],
          "parcoords": [
           {
            "line": {
             "colorbar": {
              "outlinewidth": 0,
              "ticks": ""
             }
            },
            "type": "parcoords"
           }
          ],
          "pie": [
           {
            "automargin": true,
            "type": "pie"
           }
          ],
          "scatter": [
           {
            "fillpattern": {
             "fillmode": "overlay",
             "size": 10,
             "solidity": 0.2
            },
            "type": "scatter"
           }
          ],
          "scatter3d": [
           {
            "line": {
             "colorbar": {
              "outlinewidth": 0,
              "ticks": ""
             }
            },
            "marker": {
             "colorbar": {
              "outlinewidth": 0,
              "ticks": ""
             }
            },
            "type": "scatter3d"
           }
          ],
          "scattercarpet": [
           {
            "marker": {
             "colorbar": {
              "outlinewidth": 0,
              "ticks": ""
             }
            },
            "type": "scattercarpet"
           }
          ],
          "scattergeo": [
           {
            "marker": {
             "colorbar": {
              "outlinewidth": 0,
              "ticks": ""
             }
            },
            "type": "scattergeo"
           }
          ],
          "scattergl": [
           {
            "marker": {
             "colorbar": {
              "outlinewidth": 0,
              "ticks": ""
             }
            },
            "type": "scattergl"
           }
          ],
          "scattermapbox": [
           {
            "marker": {
             "colorbar": {
              "outlinewidth": 0,
              "ticks": ""
             }
            },
            "type": "scattermapbox"
           }
          ],
          "scatterpolar": [
           {
            "marker": {
             "colorbar": {
              "outlinewidth": 0,
              "ticks": ""
             }
            },
            "type": "scatterpolar"
           }
          ],
          "scatterpolargl": [
           {
            "marker": {
             "colorbar": {
              "outlinewidth": 0,
              "ticks": ""
             }
            },
            "type": "scatterpolargl"
           }
          ],
          "scatterternary": [
           {
            "marker": {
             "colorbar": {
              "outlinewidth": 0,
              "ticks": ""
             }
            },
            "type": "scatterternary"
           }
          ],
          "surface": [
           {
            "colorbar": {
             "outlinewidth": 0,
             "ticks": ""
            },
            "colorscale": [
             [
              0,
              "#0d0887"
             ],
             [
              0.1111111111111111,
              "#46039f"
             ],
             [
              0.2222222222222222,
              "#7201a8"
             ],
             [
              0.3333333333333333,
              "#9c179e"
             ],
             [
              0.4444444444444444,
              "#bd3786"
             ],
             [
              0.5555555555555556,
              "#d8576b"
             ],
             [
              0.6666666666666666,
              "#ed7953"
             ],
             [
              0.7777777777777778,
              "#fb9f3a"
             ],
             [
              0.8888888888888888,
              "#fdca26"
             ],
             [
              1,
              "#f0f921"
             ]
            ],
            "type": "surface"
           }
          ],
          "table": [
           {
            "cells": {
             "fill": {
              "color": "#EBF0F8"
             },
             "line": {
              "color": "white"
             }
            },
            "header": {
             "fill": {
              "color": "#C8D4E3"
             },
             "line": {
              "color": "white"
             }
            },
            "type": "table"
           }
          ]
         },
         "layout": {
          "annotationdefaults": {
           "arrowcolor": "#2a3f5f",
           "arrowhead": 0,
           "arrowwidth": 1
          },
          "autotypenumbers": "strict",
          "coloraxis": {
           "colorbar": {
            "outlinewidth": 0,
            "ticks": ""
           }
          },
          "colorscale": {
           "diverging": [
            [
             0,
             "#8e0152"
            ],
            [
             0.1,
             "#c51b7d"
            ],
            [
             0.2,
             "#de77ae"
            ],
            [
             0.3,
             "#f1b6da"
            ],
            [
             0.4,
             "#fde0ef"
            ],
            [
             0.5,
             "#f7f7f7"
            ],
            [
             0.6,
             "#e6f5d0"
            ],
            [
             0.7,
             "#b8e186"
            ],
            [
             0.8,
             "#7fbc41"
            ],
            [
             0.9,
             "#4d9221"
            ],
            [
             1,
             "#276419"
            ]
           ],
           "sequential": [
            [
             0,
             "#0d0887"
            ],
            [
             0.1111111111111111,
             "#46039f"
            ],
            [
             0.2222222222222222,
             "#7201a8"
            ],
            [
             0.3333333333333333,
             "#9c179e"
            ],
            [
             0.4444444444444444,
             "#bd3786"
            ],
            [
             0.5555555555555556,
             "#d8576b"
            ],
            [
             0.6666666666666666,
             "#ed7953"
            ],
            [
             0.7777777777777778,
             "#fb9f3a"
            ],
            [
             0.8888888888888888,
             "#fdca26"
            ],
            [
             1,
             "#f0f921"
            ]
           ],
           "sequentialminus": [
            [
             0,
             "#0d0887"
            ],
            [
             0.1111111111111111,
             "#46039f"
            ],
            [
             0.2222222222222222,
             "#7201a8"
            ],
            [
             0.3333333333333333,
             "#9c179e"
            ],
            [
             0.4444444444444444,
             "#bd3786"
            ],
            [
             0.5555555555555556,
             "#d8576b"
            ],
            [
             0.6666666666666666,
             "#ed7953"
            ],
            [
             0.7777777777777778,
             "#fb9f3a"
            ],
            [
             0.8888888888888888,
             "#fdca26"
            ],
            [
             1,
             "#f0f921"
            ]
           ]
          },
          "colorway": [
           "#636efa",
           "#EF553B",
           "#00cc96",
           "#ab63fa",
           "#FFA15A",
           "#19d3f3",
           "#FF6692",
           "#B6E880",
           "#FF97FF",
           "#FECB52"
          ],
          "font": {
           "color": "#2a3f5f"
          },
          "geo": {
           "bgcolor": "white",
           "lakecolor": "white",
           "landcolor": "#E5ECF6",
           "showlakes": true,
           "showland": true,
           "subunitcolor": "white"
          },
          "hoverlabel": {
           "align": "left"
          },
          "hovermode": "closest",
          "mapbox": {
           "style": "light"
          },
          "paper_bgcolor": "white",
          "plot_bgcolor": "#E5ECF6",
          "polar": {
           "angularaxis": {
            "gridcolor": "white",
            "linecolor": "white",
            "ticks": ""
           },
           "bgcolor": "#E5ECF6",
           "radialaxis": {
            "gridcolor": "white",
            "linecolor": "white",
            "ticks": ""
           }
          },
          "scene": {
           "xaxis": {
            "backgroundcolor": "#E5ECF6",
            "gridcolor": "white",
            "gridwidth": 2,
            "linecolor": "white",
            "showbackground": true,
            "ticks": "",
            "zerolinecolor": "white"
           },
           "yaxis": {
            "backgroundcolor": "#E5ECF6",
            "gridcolor": "white",
            "gridwidth": 2,
            "linecolor": "white",
            "showbackground": true,
            "ticks": "",
            "zerolinecolor": "white"
           },
           "zaxis": {
            "backgroundcolor": "#E5ECF6",
            "gridcolor": "white",
            "gridwidth": 2,
            "linecolor": "white",
            "showbackground": true,
            "ticks": "",
            "zerolinecolor": "white"
           }
          },
          "shapedefaults": {
           "line": {
            "color": "#2a3f5f"
           }
          },
          "ternary": {
           "aaxis": {
            "gridcolor": "white",
            "linecolor": "white",
            "ticks": ""
           },
           "baxis": {
            "gridcolor": "white",
            "linecolor": "white",
            "ticks": ""
           },
           "bgcolor": "#E5ECF6",
           "caxis": {
            "gridcolor": "white",
            "linecolor": "white",
            "ticks": ""
           }
          },
          "title": {
           "x": 0.05
          },
          "xaxis": {
           "automargin": true,
           "gridcolor": "white",
           "linecolor": "white",
           "ticks": "",
           "title": {
            "standoff": 15
           },
           "zerolinecolor": "white",
           "zerolinewidth": 2
          },
          "yaxis": {
           "automargin": true,
           "gridcolor": "white",
           "linecolor": "white",
           "ticks": "",
           "title": {
            "standoff": 15
           },
           "zerolinecolor": "white",
           "zerolinewidth": 2
          }
         }
        },
        "width": 1700,
        "xaxis": {
         "anchor": "y",
         "domain": [
          0,
          0.5
         ],
         "range": [
          -1,
          3
         ],
         "tickfont": {
          "size": 16
         },
         "ticktext": [
          "-100%",
          "-50%",
          "No<br>reduction",
          "50%",
          "100%",
          "150%",
          "200%",
          "250%"
         ],
         "tickvals": [
          -1,
          -0.5,
          0,
          0.5,
          1,
          1.5,
          2,
          2.5
         ]
        },
        "xaxis2": {
         "anchor": "y2",
         "domain": [
          0.5,
          1
         ],
         "range": [
          -1.5,
          1.5
         ],
         "tickfont": {
          "size": 16
         },
         "ticktext": [
          "-200%",
          "-150%",
          "-100%",
          "-50%",
          "No<br>reduction",
          "50%",
          "100%",
          "150%"
         ],
         "tickvals": [
          -2,
          -1.5,
          -1,
          -0.5,
          0,
          0.5,
          1,
          1.5
         ]
        },
        "yaxis": {
         "anchor": "x",
         "domain": [
          0,
          0.32
         ],
         "tickfont": {
          "size": 16
         }
        },
        "yaxis2": {
         "anchor": "x2",
         "domain": [
          0,
          0.32
         ],
         "tickfont": {
          "size": 16
         }
        }
       }
      }
     },
     "metadata": {},
     "output_type": "display_data"
    }
   ],
   "source": [
    "fig = make_subplots(rows=3, cols=2,\n",
    "                    specs=[[{'type': 'choropleth'}, {'type': 'choropleth'}],\n",
    "                           [{'type': 'choropleth'}, {'type': 'choropleth'}],\n",
    "                           [{}, {}]],\n",
    "                    horizontal_spacing = 0., vertical_spacing=0.02)\n",
    "for i in range(4):\n",
    "    dath = [(ndcs-data_def)/data_def,\n",
    "            (ndcs-data_max)/data_max,\n",
    "            (costopts.Value)/data_def-1,\n",
    "            (costopts.Value)/data_max-1][i]\n",
    "    dat = np.array(dath)\n",
    "    # if i>2:\n",
    "    #     dat[dat < 0] = 0\n",
    "    #scale = ['RdBu_r', 'RdBu_r', 'PuOr_r', 'PuOr_r'][i]\n",
    "    scale = ['RdYlBu_r', 'RdYlBu_r', 'Earth_r', 'Earth_r'][i]\n",
    "    dc = [dict(orientation='h', x=0.5, y=0.675, xanchor='center', yanchor='bottom', title='NDC deviation from emission allocation in 2030', tickvals=[-1, -0.5, 0, 0.5, 1],\n",
    "                        ticktext=['100%<br>NDC sufficient <', '50%', '0%', '50%', '100%<br>> NDC insufficient'],\n",
    "                        tickfont=dict(size=14),\n",
    "                        len=0.4, lenmode='fraction', thickness=20, thicknessmode='pixels', titlefont=dict(size=14)),\n",
    "          dict(orientation='h', x=0.5, y=0.675, xanchor='center', yanchor='bottom', title='NDC deviation from emission allocation in 2030', tickvals=[-1, -0.5, 0, 0.5, 1],\n",
    "                        ticktext=['100%<br>NDC sufficient <', '50%', '0%', '50%', '100%<br>> NDC insufficient'],\n",
    "                        tickfont=dict(size=14),\n",
    "                        len=0.4, lenmode='fraction', thickness=20, thicknessmode='pixels', titlefont=dict(size=14)),\n",
    "        dict(orientation='h', x=0.5, y=0.34, xanchor='center', yanchor='bottom', title='Fraction of mitigation in 2030 non-domestic', tickvals=[-1, -0.5, 0, 0.5, 1],\n",
    "                        ticktext=['100%<br>More allocated than cost-optimal', '50%', '0%', '50%', '100%<br>Less allocated than cost-optimal'],\n",
    "                        tickfont=dict(size=14),\n",
    "                        len=0.4, lenmode='fraction', thickness=20, thicknessmode='pixels', titlefont=dict(size=14)),\n",
    "        dict(orientation='h', x=0.5, y=0.34, xanchor='center', yanchor='bottom', title='Fraction of mitigation in 2030 non-domestic', tickvals=[-1, -0.5, 0, 0.5, 1],\n",
    "                        ticktext=['100%<br>More allocated than cost-optimal', '50%', '0%', '50%', '100%<br>Less allocated than cost-optimal'],\n",
    "                        tickfont=dict(size=14),\n",
    "                        len=0.4, lenmode='fraction', thickness=20, thicknessmode='pixels', titlefont=dict(size=14))][i]\n",
    "    \n",
    "    # Grey out nans\n",
    "    if i < 2:\n",
    "        wh = np.where(np.isnan(dat))[0]\n",
    "        fig.add_trace(go.Choropleth(\n",
    "                locations=list(np.array(dath.Region)[wh])+['GRL'],\n",
    "                z = [-0.5]*(len(dat[wh])+1),\n",
    "                locationmode = 'ISO-3',\n",
    "                colorscale ='Greys',\n",
    "                zmax = 1,\n",
    "                zmin = -1,\n",
    "                hovertemplate  = '%{text}',\n",
    "                name=\"\",\n",
    "                marker_line_color='black', \n",
    "                marker_line_width=0,\n",
    "                showscale=False,\n",
    "            ), [1, 1, 2, 2][i], [1, 2, 1, 2][i])\n",
    "    else:\n",
    "        fig.add_trace(go.Choropleth(\n",
    "                locations=list(np.array(data_def.Region))+['GRL'],\n",
    "                z = [-0.5]*(len(np.array(data_def.Region))+1),\n",
    "                locationmode = 'ISO-3',\n",
    "                colorscale ='Greys',\n",
    "                zmax = 1,\n",
    "                zmin = -1,\n",
    "                hovertemplate  = '%{text}',\n",
    "                name=\"\",\n",
    "                marker_line_color='black', \n",
    "                marker_line_width=0,\n",
    "                showscale=False,\n",
    "            ), [1, 1, 2, 2][i], [1, 2, 1, 2][i])\n",
    "    \n",
    "    fig.add_trace(go.Choropleth(\n",
    "            locations=np.array((dath).Region),\n",
    "            z = dat,\n",
    "            locationmode = 'ISO-3',\n",
    "            colorscale = scale,\n",
    "            zmax = 1,\n",
    "            zmin = -1,\n",
    "            text = [str(r)+\": \"+str(np.round(100*dat[r_i], 1))+\" %\" for r_i, r in enumerate(np.array((dath).Region))],\n",
    "            hovertemplate  = '%{text}',\n",
    "            name=\"\",\n",
    "            colorbar=dc,\n",
    "            marker_line_color='black', \n",
    "            marker_line_width=0.1,\n",
    "            showscale=True,\n",
    "        ), [1, 1, 2, 2][i], [1, 2, 1, 2][i])\n",
    "    \n",
    "    # EU\n",
    "    fig.add_trace(go.Choropleth(\n",
    "            locations=group_eu,\n",
    "            z = [dat[np.where(np.array((dath).Region) == 'EU')[0][0]]]*len(group_eu),\n",
    "            locationmode = 'ISO-3',\n",
    "            colorscale =scale,\n",
    "            zmax = 1,\n",
    "            zmin = -1,\n",
    "            #text = [str(r)+\": \"+str(np.round(100*dat[r_i], 1))+\" %\" for r_i, r in enumerate(group_eu)],\n",
    "            hovertemplate  = '%{text}',\n",
    "            name=\"\",\n",
    "            marker_line_color='black', \n",
    "            marker_line_width=0.1,\n",
    "            showscale=False,\n",
    "        ), [1, 1, 2, 2][i], [1, 2, 1, 2][i])\n",
    "    \n",
    "    # Emphasize >0\n",
    "    wh = np.where(np.array(dath) > 0)[0]\n",
    "    fig.add_trace(go.Choropleth(\n",
    "            locations=np.array((dath).Region)[wh],\n",
    "            z = dat[wh],\n",
    "            locationmode = 'ISO-3',\n",
    "            colorscale =scale,\n",
    "            zmax = 1,\n",
    "            zmin = -1,\n",
    "            text = [str(r)+\": \"+str(np.round(100*dat[wh][r_i], 1))+\" %\" for r_i, r in enumerate(np.array((dath).Region)[wh])],\n",
    "            hovertemplate  = '%{text}',\n",
    "            name=\"\",\n",
    "            marker_line_color='black', \n",
    "            marker_line_width=2,\n",
    "            showscale=False,\n",
    "        ), [1, 1, 2, 2][i], [1, 2, 1, 2][i])\n",
    "    \n",
    "    if 'EU' in np.array((dath).Region)[wh]:\n",
    "        fig.add_trace(go.Choropleth(\n",
    "                locations=group_eu,\n",
    "                z = [dat[np.where(np.array((dath).Region) == 'EU')[0][0]]]*len(group_eu),\n",
    "                locationmode = 'ISO-3',\n",
    "                colorscale =scale,\n",
    "                zmax = 1,\n",
    "                zmin = -1,\n",
    "                #text = [str(r)+\": \"+str(np.round(100*dat[r_i], 1))+\" %\" for r_i, r in enumerate(group_eu)],\n",
    "                hovertemplate  = '%{text}',\n",
    "                name=\"\",\n",
    "                marker_line_color='black', \n",
    "                marker_line_width=2,\n",
    "                showscale=False,\n",
    "        ), [1, 1, 2, 2][i], [1, 2, 1, 2][i])\n",
    "\n",
    "fs=20\n",
    "fig['layout'].update(\n",
    "    annotations=[dict(x=0.03, y=1.02, text='<b>(a) Comparison with NDCs</b>', xref='paper', yref='paper', showarrow=False, font=dict(color='black', size=fs)),\n",
    "                 dict(x=0.53, y=1.02, text='<b>(b) Comparison with NDCs', xref='paper', yref='paper', xanchor='left', showarrow=False, font=dict(color='black', size=fs)),\n",
    "                 dict(x=0.03, y=0.68, text='<b>(c) Comparison with cost-optimal pathways', xref='paper', yref='paper', xanchor='left', showarrow=False, font=dict(color='black', size=fs)),\n",
    "                 dict(x=0.53, y=0.68, text='<b>(d) Comparison with cost-optimal pathways', xref='paper', yref='paper', xanchor='left', showarrow=False, font=dict(color='black', size=fs)),\n",
    "                 dict(x=0.03, y=0.325, text='<b>(e) Domestic mitigation and international mitigation financing', xref='paper', yref='paper', xanchor='left', showarrow=False, font=dict(color='black', size=fs)),\n",
    "                # dict(x=0.53, y=0.325, text='<b>(f) Current debt or inequality', xref='paper', yref='paper', xanchor='left', showarrow=False, font=dict(color='black', size=fs)),\n",
    "                 dict(x=0.5, y=-0.05, text='Emissions reductions by 2030 w.r.t. 2015', xref='paper', yref='paper', xanchor='center', showarrow=False, font=dict(color='black', size=18)),\n",
    "\n",
    "                 dict(x=0.03, y=1.07, text='<i>Default allocation settings: gap is {} Gt CO<sub>2</sub>e (+{}%) in 2030'.format(np.round(gap_default/1e3, 1), int(np.round(gap_default_perc*100, 0))), xref='paper', yref='paper', xanchor='left', showarrow=False, font=dict(color='black', size=fs)),\n",
    "                 dict(x=0.53, y=1.07, text='<i>Maximum allocation settings: gap is {} Gt CO<sub>2</sub>e (+{}%) in 2030'.format(np.round(gap_max/1e3, 1), int(np.round(gap_max_perc*100, 0))), xref='paper', yref='paper', xanchor='left', showarrow=False, font=dict(color='black', size=fs)),\n",
    "\n",
    "                 dict(x=0.03, y=0.984, text='(default)', xref='paper', yref='paper', xanchor='left', showarrow=False, font=dict(color='black', size=fs/1.5)),\n",
    "                 dict(x=0.03, y=0.47, text='(default)', xref='paper', yref='paper', xanchor='left', showarrow=False, font=dict(color='black', size=fs/1.5)),\n",
    "                 dict(x=0.53, y=0.984, text='(maximum)', xref='paper', yref='paper', xanchor='left', showarrow=False, font=dict(color='black', size=fs/1.5)),\n",
    "                 dict(x=0.53, y=0.47, text='(maximum)', xref='paper', yref='paper', xanchor='left', showarrow=False, font=dict(color='black', size=fs/1.5)),\n",
    "\n",
    "                #  dict(x=0.0, y=0.12, text='<b>United States</b> has 53% more<br>cost-optimal emissions (in 2030)<br>than would be fair to emit<br>on default settings', xref='paper', yref='paper', xanchor='left', showarrow=False, font=dict(color='black', size=14)),\n",
    "                #  dict(x=0.99, y=0.04, text='When looking at the highest potentially<br>fair allocation for <b>Australia</b>,<br>this country is allocated equal emissions<br>as would be cost-optimal to emit here', xref='paper', yref='paper', xanchor='right', showarrow=False, font=dict(color='black', size=14)),\n",
    "                #  dict(x=0.83, y=0.25, text='<b>Russia</b> is always allocated less<br>than is cost-optimal to emit there', xref='paper', yref='paper', xanchor='right', showarrow=False, font=dict(color='black', size=14)),\n",
    "                #  dict(x=0.95, y=0.59, text='All reddish/bold countries here have<br>insufficient NDCs, even when looking<br>at the highest potentially fair allocation', xref='paper', yref='paper', xanchor='right', showarrow=False, font=dict(color='black', size=14)),\n",
    "                #  dict(x=0.0, y=0.59, text='Most of the Global North together<br>with countries like Australia and Argentina<br>have insufficient NDCs when compared<br>to default fair share allocations', xref='paper', yref='paper', xanchor='left', showarrow=False, font=dict(color='black', size=14)),\n",
    "                 ])\n",
    "\n",
    "fig.update_geos(visible=False,\n",
    "                showlakes=False,\n",
    "                lakecolor='rgb(255, 255, 255)',\n",
    "                projection_type='natural earth',\n",
    "                resolution=110,\n",
    "                showcoastlines=False,)\n",
    "fig.update_traces(colorbar=dict(\n",
    "    title=dict(\n",
    "        side=\"bottom\"\n",
    "    )\n",
    "))\n",
    "fig.update_geos(landcolor=\"grey\")\n",
    "args = dict(xref=\"paper\", yref=\"paper\", type='line')\n",
    "# fig.add_shape(x0=0.08, y0=0.20, x1=0.12, y1=0.35, **args, line=dict(color='black', width=2))\n",
    "# fig.add_shape(x0=0.75, y0=0.29, x1=0.85, y1=0.40, **args, line=dict(color='black', width=2))\n",
    "# fig.add_shape(x0=0.90, y0=0.12, x1=0.93, y1=0.18, **args, line=dict(color='black', width=2))\n",
    "\n",
    "# fig.add_shape(x0=0.08, y0=0.63, x1=0.12, y1=0.85, **args, line=dict(color='black', width=2))\n",
    "# fig.add_shape(x0=0.87, y0=0.62, x1=0.85, y1=0.90, **args, line=dict(color='black', width=2))\n",
    "\n",
    "\n",
    "fig.add_shape(x0=0., y0=1.03, x1=0.495, y1=1.03, **args, line=dict(color='black', width=2))\n",
    "fig.add_shape(x0=0., y0=1.01, x1=0., y1=1.03, **args, line=dict(color='black', width=2))\n",
    "fig.add_shape(x0=0.495, y0=1.01, x1=0.495, y1=1.03, **args, line=dict(color='black', width=2))\n",
    "\n",
    "fig.add_shape(x0=0.505, y0=1.03, x1=1, y1=1.03, **args, line=dict(color='black', width=2))\n",
    "fig.add_shape(x0=0.505, y0=1.01, x1=0.505, y1=1.03, **args, line=dict(color='black', width=2))\n",
    "fig.add_shape(x0=1, y0=1.01, x1=1, y1=1.03, **args, line=dict(color='black', width=2))\n",
    "\n",
    "fig.update_layout(height=1500, width=1700)\n",
    "\n",
    "a = 0 \n",
    "b = 0\n",
    "# Bar plot\n",
    "for col_i, col in enumerate([1, 2]):\n",
    "    categories = [['JPN', 'RUS', 'SAU', 'EU', 'BRA', 'USA'],\n",
    "                   ['PAK', 'IND', 'CHN', 'MEX', 'IDN', 'ZAF']][col_i]\n",
    "    names = categories# [all_countries_names[np.where(all_countries_iso == i)[0][0]] for i in categories]\n",
    "    emis_2015 = xr_dataread.GHG_hist.sel(Time=2015, Region=names)\n",
    "    sub_values_1 = np.array(1-xr_alloc_2030.sel(Region=names, Temperature=1.6, Risk=0.5, Timing='Immediate', NonCO2red=0.5, NegEmis=0.5, Scenario='SSP2', Convergence_year=2050, Discount_factor=0, Historical_startyear=1990).PCC/emis_2015)    # Equality\n",
    "    sub_values_2 = np.array(1-xr_alloc_2030.sel(Region=names, Temperature=1.6, Risk=0.5, Timing='Immediate', NonCO2red=0.5, NegEmis=0.5, Scenario='SSP2', Convergence_year=2050, Discount_factor=0, Historical_startyear=1990).AP/emis_2015)    # Second set of values\n",
    "    sub_values_3 = np.array(1-xr_alloc_2030.sel(Region=names, Temperature=1.6, Risk=0.5, Timing='Immediate', NonCO2red=0.5, NegEmis=0.5, Scenario='SSP2', Convergence_year=2050, Discount_factor=0, Historical_startyear=1990).ECPC/emis_2015)    # Third set of values\n",
    "\n",
    "    # Create a horizontal bar chart\n",
    "    fig.add_trace(go.Bar(\n",
    "        x=sub_values_1,\n",
    "        y=names,\n",
    "        name='Per capita convergence<br>(Equality)',\n",
    "        orientation='h',\n",
    "        marker_color='steelblue',\n",
    "        showlegend=[True, False][col_i],\n",
    "        opacity=0.3\n",
    "    ), 3, col)\n",
    "\n",
    "    # Add the second set of bars\n",
    "    fig.add_trace(go.Bar(\n",
    "        x=sub_values_2,\n",
    "        y=names,\n",
    "        name='Ability to pay<br>(Capability)',\n",
    "        orientation='h',\n",
    "        marker_color='goldenrod',\n",
    "        showlegend=[True, False][col_i],\n",
    "        opacity=0.3\n",
    "    ), 3, col)\n",
    "\n",
    "    # Add the third set of bars\n",
    "    fig.add_trace(go.Bar(\n",
    "        x=sub_values_3,\n",
    "        y=names,\n",
    "        name='Equal cumulative per capita<br>(Responsibility)',\n",
    "        orientation='h',\n",
    "        marker_color='purple',\n",
    "        showlegend=[True, False][col_i],\n",
    "        opacity=0.3\n",
    "    ), 3, col)\n",
    "\n",
    "    for i, category in enumerate(names):\n",
    "        # Calculate the x-position for the vertical line (sum of all subcategory values for this category)\n",
    "        total_min = float(1-(xr_dataread.GHG_ndc / emis_2015).sel(Region=category).min())\n",
    "        total_max = float(1-(xr_dataread.GHG_ndc / emis_2015).sel(Region=category).max())\n",
    "        costopt = float(1-costopts.sel(Region=category).Value/emis_2015.sel(Region=category))\n",
    "        min_fairshare = np.min([sub_values_1[i], sub_values_2[i], sub_values_3[i]])\n",
    "        wd = 0.4\n",
    "        # Add a vertical line at the total position\n",
    "        fig.add_shape(\n",
    "            type=\"line\",\n",
    "        col=col, row=3,\n",
    "            x0=total_min, x1=total_min,\n",
    "            y0=-wd + i, y1=wd + i,\n",
    "            name='NDC',\n",
    "            showlegend=[[True, False, False, False, False, False, False][i], False][col_i],\n",
    "            line=dict(color=\"forestgreen\", width=5)\n",
    "        )\n",
    "        fig.add_shape(\n",
    "            type=\"line\",\n",
    "        col=col, row=3,\n",
    "            x0=total_max, x1=total_max,\n",
    "            y0=-wd + i, y1=wd + i,\n",
    "            line=dict(color=\"forestgreen\", width=5)\n",
    "        )\n",
    "        fig.add_shape(\n",
    "        col=col, row=3,\n",
    "            type=\"line\",\n",
    "            x0=total_min, x1=total_max,\n",
    "            y0=i, y1=i,\n",
    "            line=dict(color=\"forestgreen\", width=5)\n",
    "        )\n",
    "\n",
    "        fig.add_shape(\n",
    "            type=\"line\",\n",
    "        col=col, row=3,\n",
    "            x0=costopt, x1=costopt,\n",
    "            y0=-wd + i, y1=wd + i,\n",
    "            name='Cost optimal',\n",
    "            showlegend=[[True, False, False, False, False, False, False][i], False][col_i],\n",
    "            line=dict(color=\"chocolate\", width=5)\n",
    "        )\n",
    "\n",
    "        fig.add_shape(\n",
    "            type=\"line\",\n",
    "            col=col, row=3,\n",
    "            x0=min_fairshare, x1=min_fairshare,\n",
    "            y0=-wd + i, y1=wd + i,\n",
    "            name='Least-stringent fair target',\n",
    "            showlegend=[[True, False, False, False, False, False, False][i], False][col_i],\n",
    "            line=dict(color=\"black\", width=5)\n",
    "        )\n",
    "\n",
    "        # Increase ambition\n",
    "        if min_fairshare > total_min:\n",
    "            if costopt < min_fairshare and costopt > total_min:\n",
    "                fig.add_shape(\n",
    "                    row = 3, col=col,\n",
    "                    type='rect',  # Draw a rectangle\n",
    "                    x0=total_min, x1=costopt,  # The range of the box (between min and max values)\n",
    "                    y0=i - 0.4, y1=i + 0.4,  # Position the box on the y-axis (with some vertical padding)\n",
    "                    line=dict(color='black', width=0),  # Border color and width of the box\n",
    "                    name='Increase domestic ambition',\n",
    "                    showlegend=[[True, False, False, False, False, False, False][i], False][col_i],\n",
    "                    opacity = 0.5,\n",
    "                    fillcolor='forestgreen',  # Transparent fill color (adjust alpha for transparency)\n",
    "                )\n",
    "            elif costopt > min_fairshare:\n",
    "                fig.add_shape(\n",
    "                    row = 3, col=col,\n",
    "                    type='rect',  # Draw a rectangle\n",
    "                    x0=total_min, x1=min_fairshare,  # The range of the box (between min and max values)\n",
    "                    y0=i - 0.4, y1=i + 0.4,  # Position the box on the y-axis (with some vertical padding)\n",
    "                    line=dict(color='black', width=0),  # Border color and width of the box\n",
    "                    opacity = 0.5,\n",
    "                    fillcolor='forestgreen',  # Transparent fill color (adjust alpha for transparency)\n",
    "                )\n",
    "        # Pay abroad\n",
    "        if min_fairshare > total_min:\n",
    "            if costopt < total_min:\n",
    "                fig.add_shape(\n",
    "                    row = 3, col=col,\n",
    "                    type='rect',  # Draw a rectangle\n",
    "                    x0=total_min, x1=min_fairshare,  # The range of the box (between min and max values)\n",
    "                    y0=i - 0.4, y1=i + 0.4,  # Position the box on the y-axis (with some vertical padding)\n",
    "                    line=dict(color='black', width=0),  # Border color and width of the box\n",
    "                    name='Pay for mitigation abroad',\n",
    "                    showlegend=[True, False, False, False, False, False, False, False, False, False][a],\n",
    "                    opacity = 0.5,\n",
    "                    fillcolor='tomato',  # Transparent fill color (adjust alpha for transparency)\n",
    "                )\n",
    "                a+=1\n",
    "            elif costopt < min_fairshare:\n",
    "                fig.add_shape(\n",
    "                    row = 3, col=col,\n",
    "                    type='rect',  # Draw a rectangle\n",
    "                    x0=costopt, x1=min_fairshare,  # The range of the box (between min and max values)\n",
    "                    y0=i - 0.4, y1=i + 0.4,  # Position the box on the y-axis (with some vertical padding)\n",
    "                    line=dict(color='black', width=0),  # Border color and width of the box\n",
    "                    opacity = 0.5,\n",
    "                    fillcolor='tomato',  # Transparent fill color (adjust alpha for transparency)\n",
    "                )\n",
    "        # Receive from abroad\n",
    "        if min_fairshare < costopt:\n",
    "            fig.add_shape(\n",
    "                row = 3, col=col,\n",
    "                type='rect',  # Draw a rectangle\n",
    "                x0=total_min, x1=costopt,  # The range of the box (between min and max values)\n",
    "                y0=i - 0.4, y1=i + 0.4,  # Position the box on the y-axis (with some vertical padding)\n",
    "                line=dict(color='black', width=0),  # Border color and width of the box\n",
    "                name='Receive mitigation payment from abroad',\n",
    "                showlegend=[True, False, False, False, False, False, False, False, False, False][b],\n",
    "                opacity = 0.3,\n",
    "                fillcolor='grey',  # Transparent fill color (adjust alpha for transparency)\n",
    "            )\n",
    "            b+=1\n",
    "\n",
    "            # elif costopt > min_fairshare:\n",
    "            #     fig.add_shape(\n",
    "            #         row = 3, col=col,\n",
    "            #         type='rect',  # Draw a rectangle\n",
    "            #         x0=total_min, x1=min_fairshare,  # The range of the box (between min and max values)\n",
    "            #         y0=i - 0.4, y1=i + 0.4,  # Position the box on the y-axis (with some vertical padding)\n",
    "            #         line=dict(color='black', width=1),  # Border color and width of the box\n",
    "            #         opacity = 0.3,\n",
    "            #         fillcolor='forestgreen',  # Transparent fill color (adjust alpha for transparency)\n",
    "            #     )\n",
    "    fig.update_yaxes(row=3, col=col,tickfont=dict(size=16))\n",
    "    fig.update_layout(\n",
    "        plot_bgcolor='white',  # Background of the plot area\n",
    "        paper_bgcolor='white',  # Background of the entire figure\n",
    "        barmode='group',  # Ensures the bars are grouped\n",
    "        # yaxis=dict(\n",
    "        #     categoryorder='array',  # Fix the order of the categories\n",
    "        #     categoryarray=categories  # Set the desired order of the categories explicitly\n",
    "        # ),,\n",
    "       \n",
    "        \n",
    "        legend=dict(\n",
    "            x=0.6,  # Horizontal position (right side)\n",
    "            y=0.3,  # Vertical position (bottom)\n",
    "            xanchor='center',  # Anchor horizontally at the center of the legend box\n",
    "            yanchor='top',     # Anchor vertically at the top of the legend box\n",
    "        )\n",
    "    )\n",
    "    fig.update_xaxes(row=3, col=col, range=[(-1, 3), (-1.5, 1.5)][col_i], tickfont=dict(size=16),\n",
    "                     tickvals=[[-1, -0.5, 0, 0.5, 1, 1.5, 2, 2.5], [-2, -1.5, -1, -0.5, 0, 0.5, 1, 1.5]][col_i],\n",
    "                     ticktext=[['-100%', '-50%', 'No<br>reduction', '50%', '100%', '150%', '200%', '250%'], ['-200%', '-150%', '-100%', '-50%', 'No<br>reduction', '50%', '100%', '150%']][col_i])\n",
    "    fig.add_shape(\n",
    "        col=col, row=3,\n",
    "        type=\"line\",\n",
    "        x0=0, x1=0,\n",
    "        y0=-0.5, y1=len(names)-0.5,\n",
    "        line=dict(color=\"black\", width=3)\n",
    "    )\n",
    "#fig.write_image(\"K:/Code/effort-sharing/Figures/Paper_FairShares/V2/Figure_4.png\", scale=5)\n",
    "fig.show()"
   ]
  },
  {
   "cell_type": "code",
   "execution_count": null,
   "metadata": {},
   "outputs": [],
   "source": []
  }
 ],
 "metadata": {
  "kernelspec": {
   "display_name": "Python 3",
   "language": "python",
   "name": "python3"
  },
  "language_info": {
   "codemirror_mode": {
    "name": "ipython",
    "version": 3
   },
   "file_extension": ".py",
   "mimetype": "text/x-python",
   "name": "python",
   "nbconvert_exporter": "python",
   "pygments_lexer": "ipython3",
   "version": "3.12.5"
  },
  "orig_nbformat": 4
 },
 "nbformat": 4,
 "nbformat_minor": 2
}
