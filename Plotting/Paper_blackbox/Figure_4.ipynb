{
 "cells": [
  {
   "attachments": {},
   "cell_type": "markdown",
   "metadata": {},
   "source": [
    "## Preambule"
   ]
  },
  {
   "cell_type": "code",
   "execution_count": 145,
   "metadata": {},
   "outputs": [],
   "source": [
    "# General packages\n",
    "import numpy as np\n",
    "import pandas as pd\n",
    "from tqdm import tqdm\n",
    "from pathlib import Path\n",
    "import xarray as xr\n",
    "import pandas as pd\n",
    "import json\n",
    "import plotly\n",
    "\n",
    "# Plotting\n",
    "import matplotlib.pyplot as plt\n",
    "import plotly.express as px\n",
    "import plotly.graph_objects as go\n",
    "from plotly.subplots import make_subplots\n",
    "from plotly.colors import n_colors"
   ]
  },
  {
   "attachments": {},
   "cell_type": "markdown",
   "metadata": {},
   "source": [
    "## Parameters"
   ]
  },
  {
   "cell_type": "code",
   "execution_count": 146,
   "metadata": {},
   "outputs": [],
   "source": [
    "rules = ['PCC', 'ECPC', 'AP']\n",
    "rulecolors = ['goldenrod', 'tomato', 'forestgreen']"
   ]
  },
  {
   "attachments": {},
   "cell_type": "markdown",
   "metadata": {},
   "source": [
    "## Paths"
   ]
  },
  {
   "cell_type": "code",
   "execution_count": 147,
   "metadata": {},
   "outputs": [],
   "source": [
    "path_main = Path(\"K:/Code/effort-sharing/\")\n",
    "path_data = Path(\"K:/Data/Data_effortsharing/DataUpdate_ongoing/\")\n",
    "path_figs = path_main / \"Figures\" / \"Paper_FairShares\""
   ]
  },
  {
   "attachments": {},
   "cell_type": "markdown",
   "metadata": {},
   "source": [
    "## Read data files"
   ]
  },
  {
   "cell_type": "code",
   "execution_count": 148,
   "metadata": {},
   "outputs": [],
   "source": [
    "xr_dataread = xr.open_dataset(path_data / \"startyear_2021/xr_dataread.nc\")\n",
    "xr_traj_2030 = xr.open_dataset(path_data / \"startyear_2021/Aggregated_files/xr_alloc_2030_GHG_incl.nc\")\n",
    "xr_traj_2040 = xr.open_dataset(path_data / \"startyear_2021/Aggregated_files/xr_alloc_2040_GHG_incl.nc\")\n",
    "xr_total = xr.open_dataset(path_data / \"xr_policyscen.nc\")\n",
    "\n",
    "all_regions_iso = np.load(path_data / \"all_regions.npy\")\n",
    "all_regions_names = np.load(path_data / \"all_regions_names.npy\")\n",
    "all_countries_iso = np.load(path_data / \"all_countries.npy\", allow_pickle=True)\n",
    "all_countries_names = np.load(path_data / \"all_countries_names.npy\", allow_pickle=True)"
   ]
  },
  {
   "cell_type": "markdown",
   "metadata": {},
   "source": [
    "## Get Cost-optimal output"
   ]
  },
  {
   "cell_type": "code",
   "execution_count": 149,
   "metadata": {},
   "outputs": [],
   "source": [
    "df_ar6 = pd.read_csv(\"X:/user/dekkerm/Data/IPCC/AR6_ISO3/AR6_Scenarios_Database_ISO3_v1.1.csv\")\n",
    "df_ar6 = df_ar6[df_ar6.Variable.isin(['Emissions|Kyoto Gases', 'Policy Cost|Consumption Loss'])]\n",
    "df_ar6 = df_ar6.reset_index(drop=True)\n",
    "\n",
    "df_ar6_meta = pd.read_excel(\"X:/user/dekkerm/Data/IPCC/AR6_ISO3/AR6_Scenarios_Database_metadata_indicators_v1.1.xlsx\", sheet_name='meta_Ch3vetted_withclimate')\n",
    "mods = np.array(df_ar6_meta.Model)\n",
    "scens = np.array(df_ar6_meta.Scenario)\n",
    "modscens_meta = np.array([mods[i]+'|'+scens[i] for i in range(len(scens))])\n",
    "df_ar6_meta['ModelScenario'] = modscens_meta\n",
    "df_ar6_meta = df_ar6_meta[['ModelScenario', 'Category', 'Policy_category']]\n",
    "df_ar6_meta = df_ar6_meta[df_ar6_meta.Category.isin(['C1'])]\n",
    "df_ar6_meta = df_ar6_meta.reset_index(drop=True)\n",
    "ms_meta_refined = np.array(df_ar6_meta.ModelScenario)\n",
    "\n",
    "mods = np.array(df_ar6.Model)\n",
    "scens = np.array(df_ar6.Scenario)\n",
    "modscens = np.array([mods[i]+'|'+scens[i] for i in range(len(scens))])\n",
    "df_ar6['ModelScenario'] = modscens\n",
    "df_ar6 = df_ar6.drop(['Model', 'Scenario', 'Unit'], axis=1)\n",
    "df_ar6 = df_ar6[df_ar6.ModelScenario.isin(np.array(ms_meta_refined))]\n",
    "\n",
    "dummy = df_ar6.melt(id_vars=[\"Variable\", \"Region\", \"ModelScenario\"], var_name=\"Time\", value_name=\"Value\")\n",
    "dummy['Time'] = np.array(dummy['Time'].astype(int))\n",
    "dummy = dummy.set_index([\"Variable\", \"Region\", \"ModelScenario\", \"Time\"])\n",
    "xr_scen_r = xr.Dataset.from_dataframe(dummy)\n",
    "xr_scen_r = xr_scen_r.reindex(Time = np.arange(1850, 2101))\n",
    "xr_scen_r = xr_scen_r.interpolate_na(dim=\"Time\", method=\"linear\")"
   ]
  },
  {
   "cell_type": "code",
   "execution_count": 150,
   "metadata": {},
   "outputs": [],
   "source": [
    "cost_opt = xr_scen_r.sel(Variable='Emissions|Kyoto Gases', Time=2040)/xr_scen_r.sel(Variable='Emissions|Kyoto Gases', Time=2040)*xr_scen_r.sel(Variable='Emissions|Kyoto Gases', Time=2040)"
   ]
  },
  {
   "cell_type": "markdown",
   "metadata": {},
   "source": [
    "## Compute fractions"
   ]
  },
  {
   "cell_type": "code",
   "execution_count": 151,
   "metadata": {},
   "outputs": [],
   "source": [
    "xr_larger_than_costopt = xr_traj_2040.sel(Temperature=1.5, Convergence_year=2050, Risk=0.5, NegEmis=0.5, NonCO2red=0.5, Timing='Immediate').median(dim=['Scenario']) > cost_opt.mean(dim='ModelScenario').Value"
   ]
  },
  {
   "cell_type": "markdown",
   "metadata": {},
   "source": [
    "World"
   ]
  },
  {
   "cell_type": "code",
   "execution_count": 152,
   "metadata": {},
   "outputs": [],
   "source": [
    "df_ar6 = pd.read_csv(\"X:/user/dekkerm/Data/IPCC/AR6_Scenarios_Database_World_v1.1.csv\")\n",
    "df_ar6 = df_ar6[df_ar6.Variable.isin(['Emissions|Kyoto Gases', 'Policy Cost|Consumption Loss', 'Price|Carbon'])]\n",
    "df_ar6 = df_ar6.reset_index(drop=True)\n",
    "\n",
    "df_ar6_meta = pd.read_excel(\"X:/user/dekkerm/Data/IPCC/AR6_Scenarios_Database_metadata_indicators_v1.1.xlsx\", sheet_name='meta_Ch3vetted_withclimate')\n",
    "mods = np.array(df_ar6_meta.Model)\n",
    "scens = np.array(df_ar6_meta.Scenario)\n",
    "modscens_meta = np.array([mods[i]+'|'+scens[i] for i in range(len(scens))])\n",
    "df_ar6_meta['ModelScenario'] = modscens_meta\n",
    "df_ar6_meta = df_ar6_meta[['ModelScenario', 'Category', 'Policy_category']]\n",
    "df_ar6_meta = df_ar6_meta[df_ar6_meta.Category.isin(['C1'])]\n",
    "df_ar6_meta = df_ar6_meta.reset_index(drop=True)\n",
    "ms_meta_refined = np.array(df_ar6_meta.ModelScenario)\n",
    "\n",
    "mods = np.array(df_ar6.Model)\n",
    "scens = np.array(df_ar6.Scenario)\n",
    "modscens = np.array([mods[i]+'|'+scens[i] for i in range(len(scens))])\n",
    "df_ar6['ModelScenario'] = modscens\n",
    "df_ar6['Region'] = 'WORLD'\n",
    "df_ar6 = df_ar6.drop(['Model', 'Scenario', 'Unit'], axis=1)\n",
    "df_ar6 = df_ar6[df_ar6.ModelScenario.isin(np.array(ms_meta_refined))]\n",
    "\n",
    "dummy = df_ar6.melt(id_vars=[\"Variable\", \"Region\", \"ModelScenario\"], var_name=\"Time\", value_name=\"Value\")\n",
    "dummy['Time'] = np.array(dummy['Time'].astype(int))\n",
    "dummy = dummy.set_index([\"Variable\", \"Region\", \"ModelScenario\", \"Time\"])\n",
    "xr_scen = xr.Dataset.from_dataframe(dummy)\n",
    "xr_scen = xr_scen.reindex(Time = np.arange(1850, 2101))\n",
    "xr_scen = xr_scen.interpolate_na(dim=\"Time\", method=\"linear\")"
   ]
  },
  {
   "cell_type": "markdown",
   "metadata": {},
   "source": [
    "Regional"
   ]
  },
  {
   "cell_type": "code",
   "execution_count": 153,
   "metadata": {},
   "outputs": [],
   "source": [
    "df_ar6 = pd.read_csv(\"X:/user/dekkerm/Data/IPCC/AR6_ISO3/AR6_Scenarios_Database_ISO3_v1.1.csv\")\n",
    "df_ar6 = df_ar6[df_ar6.Variable.isin(['Emissions|Kyoto Gases', 'Policy Cost|Consumption Loss', 'Price|Carbon'])]\n",
    "df_ar6 = df_ar6.reset_index(drop=True)\n",
    "\n",
    "df_ar6_meta = pd.read_excel(\"X:/user/dekkerm/Data/IPCC/AR6_ISO3/AR6_Scenarios_Database_metadata_indicators_v1.1.xlsx\", sheet_name='meta_Ch3vetted_withclimate')\n",
    "mods = np.array(df_ar6_meta.Model)\n",
    "scens = np.array(df_ar6_meta.Scenario)\n",
    "modscens_meta = np.array([mods[i]+'|'+scens[i] for i in range(len(scens))])\n",
    "df_ar6_meta['ModelScenario'] = modscens_meta\n",
    "df_ar6_meta = df_ar6_meta[['ModelScenario', 'Category', 'Policy_category']]\n",
    "df_ar6_meta = df_ar6_meta[df_ar6_meta.Category.isin(['C1'])]\n",
    "df_ar6_meta = df_ar6_meta.reset_index(drop=True)\n",
    "ms_meta_refined = np.array(df_ar6_meta.ModelScenario)\n",
    "\n",
    "mods = np.array(df_ar6.Model)\n",
    "scens = np.array(df_ar6.Scenario)\n",
    "modscens = np.array([mods[i]+'|'+scens[i] for i in range(len(scens))])\n",
    "df_ar6['ModelScenario'] = modscens\n",
    "df_ar6 = df_ar6.drop(['Model', 'Scenario', 'Unit'], axis=1)\n",
    "df_ar6 = df_ar6[df_ar6.ModelScenario.isin(np.array(ms_meta_refined))]\n",
    "\n",
    "dummy = df_ar6.melt(id_vars=[\"Variable\", \"Region\", \"ModelScenario\"], var_name=\"Time\", value_name=\"Value\")\n",
    "dummy['Time'] = np.array(dummy['Time'].astype(int))\n",
    "dummy = dummy.set_index([\"Variable\", \"Region\", \"ModelScenario\", \"Time\"])\n",
    "xr_scen_r = xr.Dataset.from_dataframe(dummy)\n",
    "xr_scen_r = xr_scen_r.reindex(Time = np.arange(1850, 2101))\n",
    "xr_scen_r = xr_scen_r.interpolate_na(dim=\"Time\", method=\"linear\")"
   ]
  },
  {
   "cell_type": "markdown",
   "metadata": {},
   "source": [
    "R-10 regions"
   ]
  },
  {
   "cell_type": "code",
   "execution_count": 154,
   "metadata": {},
   "outputs": [],
   "source": [
    "df_ar6 = pd.read_csv(\"X:/user/dekkerm/Data/IPCC/AR6_R10/AR6_Scenarios_Database_R10_regions_v1.1.csv\")\n",
    "df_ar6 = df_ar6[df_ar6.Variable.isin(['Emissions|Kyoto Gases', 'Policy Cost|Consumption Loss', 'Price|Carbon'])]\n",
    "df_ar6 = df_ar6.reset_index(drop=True)\n",
    "\n",
    "df_ar6_meta = pd.read_excel(\"X:/user/dekkerm/Data/IPCC/AR6_R10/AR6_Scenarios_Database_metadata_indicators_v1.1.xlsx\", sheet_name='meta_Ch3vetted_withclimate')\n",
    "mods = np.array(df_ar6_meta.Model)\n",
    "scens = np.array(df_ar6_meta.Scenario)\n",
    "modscens_meta = np.array([mods[i]+'|'+scens[i] for i in range(len(scens))])\n",
    "df_ar6_meta['ModelScenario'] = modscens_meta\n",
    "df_ar6_meta = df_ar6_meta[['ModelScenario', 'Category', 'Policy_category']]\n",
    "df_ar6_meta = df_ar6_meta[df_ar6_meta.Category.isin(['C1'])]\n",
    "df_ar6_meta = df_ar6_meta.reset_index(drop=True)\n",
    "ms_meta_refined = np.array(df_ar6_meta.ModelScenario)\n",
    "\n",
    "mods = np.array(df_ar6.Model)\n",
    "scens = np.array(df_ar6.Scenario)\n",
    "modscens = np.array([mods[i]+'|'+scens[i] for i in range(len(scens))])\n",
    "df_ar6['ModelScenario'] = modscens\n",
    "df_ar6 = df_ar6.drop(['Model', 'Scenario', 'Unit'], axis=1)\n",
    "df_ar6 = df_ar6[df_ar6.ModelScenario.isin(np.array(ms_meta_refined))]\n",
    "\n",
    "dummy = df_ar6.melt(id_vars=[\"Variable\", \"Region\", \"ModelScenario\"], var_name=\"Time\", value_name=\"Value\")\n",
    "dummy['Time'] = np.array(dummy['Time'].astype(int))\n",
    "dummy = dummy.set_index([\"Variable\", \"Region\", \"ModelScenario\", \"Time\"])\n",
    "xr_scen_r10 = xr.Dataset.from_dataframe(dummy)\n",
    "xr_scen_r10 = xr_scen_r10.reindex(Time = np.arange(1850, 2101))\n",
    "xr_scen_r10 = xr_scen_r10.interpolate_na(dim=\"Time\", method=\"linear\")"
   ]
  },
  {
   "cell_type": "code",
   "execution_count": 155,
   "metadata": {},
   "outputs": [],
   "source": [
    "df_conv = pd.read_excel(\"X:/user/dekkerm/Data/AR6_regionclasses.xlsx\", sheet_name = 'Sheet1')[['ISO', 'region_ar6_10']]\n",
    "regs = np.array(df_conv.region_ar6_10)\n",
    "regs[regs == 'Africa'] =            'R10AFRICA'\n",
    "regs[regs == 'Eastern Asia'] =      'R10CHINA+'\n",
    "regs[regs == 'Europe'] =            'R10EUROPE'\n",
    "regs[regs == 'Southern Asia'] =     'R10INDIA+'\n",
    "regs[regs == 'Latin America and Caribbean'] = 'R10LATIN_AM'\n",
    "regs[regs == 'Middle East'] =       'R10MIDDLE_EAST'\n",
    "regs[regs == 'North America'] =     'R10NORTH_AM'\n",
    "regs[regs == 'Asia-Pacific Developed'] = 'R10PAC_OECD'\n",
    "regs[regs == 'Eurasia'] =           'R10REF_ECON'\n",
    "regs[regs == 'South-East Asia and developing Pacific'] = 'R10REST_ASIA'\n",
    "df_conv['region_ar6_10'] = regs"
   ]
  },
  {
   "cell_type": "code",
   "execution_count": 156,
   "metadata": {},
   "outputs": [],
   "source": [
    "native_regions = np.array(xr_scen_r.Region)\n",
    "xrs = []\n",
    "for cty in all_countries_iso:\n",
    "    if cty not in native_regions:\n",
    "        which_group = np.array(df_conv[df_conv.ISO == cty].region_ar6_10)[0]\n",
    "        group_members = np.array(df_conv[df_conv.region_ar6_10 == which_group].ISO)\n",
    "        emis_total = float(xr_dataread.GHG_hist.sel(Region=np.intersect1d(group_members,all_countries_iso), Time=2021).sum(dim='Region'))\n",
    "        emis_frac = xr_dataread.GHG_hist.sel(Region=cty, Time=2021) / emis_total\n",
    "        xrry = xr.merge([xr_scen_r10.sel(Region=which_group, Variable=['Emissions|Kyoto Gases'])*emis_frac,\n",
    "                         xr_scen_r10.sel(Region=which_group, Variable=['Price|Carbon'])]).expand_dims({'Region': [cty]})\n",
    "        xrs.append(xrry)\n",
    "xr_scen_infilled_r = xr.concat(xrs, dim='Region')"
   ]
  },
  {
   "cell_type": "markdown",
   "metadata": {},
   "source": [
    "Concatenate"
   ]
  },
  {
   "cell_type": "code",
   "execution_count": 157,
   "metadata": {},
   "outputs": [],
   "source": [
    "xr_scen_all = xr.merge([xr_scen, xr_scen_r, xr_scen_infilled_r])"
   ]
  },
  {
   "cell_type": "markdown",
   "metadata": {},
   "source": [
    "## Data for plots"
   ]
  },
  {
   "cell_type": "code",
   "execution_count": 158,
   "metadata": {},
   "outputs": [],
   "source": [
    "settings_default = {'Temperature': 1.6,\n",
    "                   'Risk': 0.5,\n",
    "                   'NegEmis': 0.5,\n",
    "                   'NonCO2red': 0.5,\n",
    "                   'Timing': \"Immediate\",\n",
    "                   'Convergence_year': 2050,\n",
    "                   'Scenario': 'SSP2',\n",
    "                   'Discount_factor': 0,\n",
    "                   'Historical_startyear': 1990,}\n",
    "                   #'Capability_threshold': \"Th\",\n",
    "                   #'RCI_weight': \"Half\"}\n",
    "settings_ranges = {'Temperature': [1.6, 2.0],\n",
    "                   'Risk': [0.5, 0.33],\n",
    "                   'Convergence_year': [2050, 2080],\n",
    "                    'NonCO2red':[0.33, 0.5, 0.67],\n",
    "                   'Timing': [\"Immediate\"],\n",
    "                   }\n",
    "settings_ranges2 = {'Temperature': [1.6, 2.0],\n",
    "                   'Risk': [0.5, 0.33],\n",
    "                   'Convergence_year': [2050, 2080],\n",
    "                    'NonCO2red':[0.33, 0.5, 0.67],\n",
    "                   'Timing': [\"Immediate\"],\n",
    "                   }\n",
    "                   #'Capability_threshold': \"Th\",\n",
    "                   #'RCI_weight': \"Half\"}"
   ]
  },
  {
   "cell_type": "code",
   "execution_count": 159,
   "metadata": {},
   "outputs": [],
   "source": [
    "ndcs = xr_dataread.GHG_ndc.mean(dim=['Conditionality', 'Ambition'])\n",
    "data = xr_traj_2030.sel(**settings_ranges)[['ECPC', 'AP', 'PCC']]\n",
    "data_max = xr.concat([data.ECPC, data.AP.expand_dims({'Convergence_year': [2050, 2080]}), data.PCC], dim='variable2').max(dim=list(settings_default.keys())+['variable2'])\n",
    "data = xr_traj_2030.sel(**settings_default)[['ECPC', 'AP', 'PCC']]\n",
    "data_def = xr.concat([data.ECPC, data.AP, data.PCC], dim='variable2').max(dim='variable2')"
   ]
  },
  {
   "cell_type": "code",
   "execution_count": 160,
   "metadata": {},
   "outputs": [
    {
     "name": "stdout",
     "output_type": "stream",
     "text": [
      "Preferences on default settings\n",
      "-----\n"
     ]
    }
   ],
   "source": [
    "print(\"Preferences on default settings\")\n",
    "print('-----')\n",
    "data = xr_traj_2030.sel(**settings_default)[['ECPC', 'AP', 'PCC']]\n",
    "data_def = xr.concat([data.ECPC, data.AP, data.PCC], dim='variable2').max(dim='variable2')\n",
    "argmax_default = xr.concat([data.ECPC, data.AP, data.PCC], dim='variable2').fillna(-9e99).argmax(dim='variable2')\n",
    "\n",
    "data = xr_traj_2030.sel(**settings_ranges)[['ECPC', 'AP', 'PCC']]\n",
    "data_max = xr.concat([data.ECPC, data.AP.expand_dims({'Convergence_year': [2050, 2080]}), data.PCC], dim='variable2').max(dim=list(settings_default.keys())+['variable2'])\n",
    "argmax_maximum = xr.concat([data.ECPC, data.AP.expand_dims({'Convergence_year': [2050, 2080]}), data.PCC], dim='variable2').fillna(-9e99).argmax(dim=list(settings_default.keys())+['variable2'])\n",
    "x = xr.concat([data.ECPC, data.AP.expand_dims({'Convergence_year': [2050, 2080]}), data.PCC], dim='variable2').fillna(-9e99)\n",
    "argmax_max = []\n",
    "maxs = x.max(dim=list(settings_default.keys())+['variable2'])\n",
    "for cty in x.Region:\n",
    "    mx = float(maxs.sel(Region=cty).values)\n",
    "    wh = np.where(x.sel(Region=cty).values == mx)\n",
    "    wh = np.array(wh)[:, 0]\n",
    "    argmax_max.append(wh[0])\n",
    "argmax_max = np.array(argmax_max)\n",
    "\n",
    "df_c = []\n",
    "df_r_d = []\n",
    "df_r_m = []\n",
    "for cty_i, cty in enumerate(all_countries_iso):\n",
    "    df_c.append(all_countries_names[cty_i])\n",
    "    df_r_d.append(['ECPC', 'AP', 'PCC'][argmax_default.sel(Region=cty).values])\n",
    "    df_r_m.append(['ECPC', 'AP', 'PCC'][argmax_max[cty_i]])\n",
    "df_dict = {'Region': df_c, 'Default': df_r_d, 'Maximum': df_r_m}\n",
    "df = pd.DataFrame(df_dict)\n",
    "df.to_csv(path_data / \"preferences_default_max.csv\")"
   ]
  },
  {
   "cell_type": "code",
   "execution_count": 161,
   "metadata": {},
   "outputs": [],
   "source": [
    "xr_policyscen = xr.open_dataset(path_data / \"xr_policyscen.nc\")\n",
    "curpols = xr_policyscen.CurPol.sel(Time=2030).mean(dim='Model')\n",
    "nzs = xr_policyscen.NetZero.sel(Time=2030).mean(dim='Model')"
   ]
  },
  {
   "cell_type": "code",
   "execution_count": 162,
   "metadata": {},
   "outputs": [],
   "source": [
    "path_ctygroups = \"X:/user/dekkerm/Data/\" + \"UNFCCC_Parties_Groups_noeu.xlsx\"\n",
    "df = pd.read_excel(path_ctygroups, sheet_name = \"Country groups\")\n",
    "countries_iso = np.array(df[\"Country ISO Code\"])\n",
    "countries_name = np.array(df[\"Name\"])\n",
    "countries_iso = np.array(df[\"Country ISO Code\"])\n",
    "group_eu = countries_iso[np.array(df[\"EU\"]) == 1]"
   ]
  },
  {
   "cell_type": "code",
   "execution_count": 163,
   "metadata": {},
   "outputs": [],
   "source": [
    "costopts = xr_scen_all.sel(Time=2030, Variable='Emissions|Kyoto Gases').mean(dim='ModelScenario')"
   ]
  },
  {
   "cell_type": "markdown",
   "metadata": {},
   "source": [
    "## Gaps"
   ]
  },
  {
   "cell_type": "code",
   "execution_count": 164,
   "metadata": {},
   "outputs": [],
   "source": [
    "nec = xr_dataread.GHG_globe.sel(Time=2030, Temperature=1.6, Risk=0.5, NonCO2red=0.5, NegEmis=0.5, Timing='Immediate').values\n",
    "gap_default = float(data_def.sel(Region=countries_iso).sum() - nec)\n",
    "gap_default_perc = float((data_def.sel(Region=countries_iso).sum() - nec)/nec)\n",
    "\n",
    "gap_max = float(data_max.sel(Region=countries_iso).sum() - nec)\n",
    "gap_max_perc = float((data_max.sel(Region=countries_iso).sum() - nec)/nec)"
   ]
  },
  {
   "cell_type": "code",
   "execution_count": 165,
   "metadata": {},
   "outputs": [],
   "source": [
    "xr_alloc_2030 = xr.open_dataset(path_data / \"startyear_2021/Aggregated_files/xr_alloc_2030_GHG_incl.nc\")"
   ]
  },
  {
   "cell_type": "markdown",
   "metadata": {},
   "source": [
    "## Gaps"
   ]
  },
  {
   "cell_type": "code",
   "execution_count": 246,
   "metadata": {},
   "outputs": [],
   "source": [
    "wd = 0.4"
   ]
  },
  {
   "cell_type": "code",
   "execution_count": 395,
   "metadata": {},
   "outputs": [],
   "source": [
    "co = costopts.Value\n",
    "ndc = xr_dataread.GHG_ndc.mean(dim='Ambition').min(dim='Conditionality')\n",
    "ndc = ndc.where(ndc.Region!='ZMB', np.nan)\n",
    "ndc = ndc.where(ndc.Region!='COM', np.nan)\n",
    "fair = xr_alloc_2030.sel(Temperature=1.6,\n",
    "                                Risk=0.5,\n",
    "                                Timing='Immediate',\n",
    "                                NonCO2red=0.5,\n",
    "                                NegEmis=0.5,\n",
    "                                Scenario='SSP2',\n",
    "                                Convergence_year=2050,\n",
    "                                Discount_factor=0,\n",
    "                                Historical_startyear=1990)[['PCC', 'AP', 'ECPC']]\n",
    "\n",
    "totaldev = fair - co # If positive, receive funds, if negative, pay funds (or partially domestic)\n",
    "ndcdev = ndc - co # If positive, more domestic action needed, and vice versa\n",
    "grey = (ndcdev - totaldev.where(totaldev > 0, 0)).where(ndcdev - totaldev.where(totaldev > 0, 0) > 0, 0)\n",
    "red = -totaldev.where(totaldev < 0, 0)\n",
    "green = totaldev.where(totaldev > 0, 0)\n",
    "grey_super = (co-ndc).where(fair < co, 0)#-(ndcdev - totaldev.where(totaldev > 0, 0)).where(ndcdev - totaldev.where(totaldev > 0, 0) < 0, 0)\n",
    "grey_super = grey_super.where(grey_super > 0, 0)"
   ]
  },
  {
   "cell_type": "code",
   "execution_count": 404,
   "metadata": {},
   "outputs": [
    {
     "data": {
      "text/html": [
       "<div><svg style=\"position: absolute; width: 0; height: 0; overflow: hidden\">\n",
       "<defs>\n",
       "<symbol id=\"icon-database\" viewBox=\"0 0 32 32\">\n",
       "<path d=\"M16 0c-8.837 0-16 2.239-16 5v4c0 2.761 7.163 5 16 5s16-2.239 16-5v-4c0-2.761-7.163-5-16-5z\"></path>\n",
       "<path d=\"M16 17c-8.837 0-16-2.239-16-5v6c0 2.761 7.163 5 16 5s16-2.239 16-5v-6c0 2.761-7.163 5-16 5z\"></path>\n",
       "<path d=\"M16 26c-8.837 0-16-2.239-16-5v6c0 2.761 7.163 5 16 5s16-2.239 16-5v-6c0 2.761-7.163 5-16 5z\"></path>\n",
       "</symbol>\n",
       "<symbol id=\"icon-file-text2\" viewBox=\"0 0 32 32\">\n",
       "<path d=\"M28.681 7.159c-0.694-0.947-1.662-2.053-2.724-3.116s-2.169-2.030-3.116-2.724c-1.612-1.182-2.393-1.319-2.841-1.319h-15.5c-1.378 0-2.5 1.121-2.5 2.5v27c0 1.378 1.122 2.5 2.5 2.5h23c1.378 0 2.5-1.122 2.5-2.5v-19.5c0-0.448-0.137-1.23-1.319-2.841zM24.543 5.457c0.959 0.959 1.712 1.825 2.268 2.543h-4.811v-4.811c0.718 0.556 1.584 1.309 2.543 2.268zM28 29.5c0 0.271-0.229 0.5-0.5 0.5h-23c-0.271 0-0.5-0.229-0.5-0.5v-27c0-0.271 0.229-0.5 0.5-0.5 0 0 15.499-0 15.5 0v7c0 0.552 0.448 1 1 1h7v19.5z\"></path>\n",
       "<path d=\"M23 26h-14c-0.552 0-1-0.448-1-1s0.448-1 1-1h14c0.552 0 1 0.448 1 1s-0.448 1-1 1z\"></path>\n",
       "<path d=\"M23 22h-14c-0.552 0-1-0.448-1-1s0.448-1 1-1h14c0.552 0 1 0.448 1 1s-0.448 1-1 1z\"></path>\n",
       "<path d=\"M23 18h-14c-0.552 0-1-0.448-1-1s0.448-1 1-1h14c0.552 0 1 0.448 1 1s-0.448 1-1 1z\"></path>\n",
       "</symbol>\n",
       "</defs>\n",
       "</svg>\n",
       "<style>/* CSS stylesheet for displaying xarray objects in jupyterlab.\n",
       " *\n",
       " */\n",
       "\n",
       ":root {\n",
       "  --xr-font-color0: var(--jp-content-font-color0, rgba(0, 0, 0, 1));\n",
       "  --xr-font-color2: var(--jp-content-font-color2, rgba(0, 0, 0, 0.54));\n",
       "  --xr-font-color3: var(--jp-content-font-color3, rgba(0, 0, 0, 0.38));\n",
       "  --xr-border-color: var(--jp-border-color2, #e0e0e0);\n",
       "  --xr-disabled-color: var(--jp-layout-color3, #bdbdbd);\n",
       "  --xr-background-color: var(--jp-layout-color0, white);\n",
       "  --xr-background-color-row-even: var(--jp-layout-color1, white);\n",
       "  --xr-background-color-row-odd: var(--jp-layout-color2, #eeeeee);\n",
       "}\n",
       "\n",
       "html[theme=dark],\n",
       "html[data-theme=dark],\n",
       "body[data-theme=dark],\n",
       "body.vscode-dark {\n",
       "  --xr-font-color0: rgba(255, 255, 255, 1);\n",
       "  --xr-font-color2: rgba(255, 255, 255, 0.54);\n",
       "  --xr-font-color3: rgba(255, 255, 255, 0.38);\n",
       "  --xr-border-color: #1F1F1F;\n",
       "  --xr-disabled-color: #515151;\n",
       "  --xr-background-color: #111111;\n",
       "  --xr-background-color-row-even: #111111;\n",
       "  --xr-background-color-row-odd: #313131;\n",
       "}\n",
       "\n",
       ".xr-wrap {\n",
       "  display: block !important;\n",
       "  min-width: 300px;\n",
       "  max-width: 700px;\n",
       "}\n",
       "\n",
       ".xr-text-repr-fallback {\n",
       "  /* fallback to plain text repr when CSS is not injected (untrusted notebook) */\n",
       "  display: none;\n",
       "}\n",
       "\n",
       ".xr-header {\n",
       "  padding-top: 6px;\n",
       "  padding-bottom: 6px;\n",
       "  margin-bottom: 4px;\n",
       "  border-bottom: solid 1px var(--xr-border-color);\n",
       "}\n",
       "\n",
       ".xr-header > div,\n",
       ".xr-header > ul {\n",
       "  display: inline;\n",
       "  margin-top: 0;\n",
       "  margin-bottom: 0;\n",
       "}\n",
       "\n",
       ".xr-obj-type,\n",
       ".xr-array-name {\n",
       "  margin-left: 2px;\n",
       "  margin-right: 10px;\n",
       "}\n",
       "\n",
       ".xr-obj-type {\n",
       "  color: var(--xr-font-color2);\n",
       "}\n",
       "\n",
       ".xr-sections {\n",
       "  padding-left: 0 !important;\n",
       "  display: grid;\n",
       "  grid-template-columns: 150px auto auto 1fr 20px 20px;\n",
       "}\n",
       "\n",
       ".xr-section-item {\n",
       "  display: contents;\n",
       "}\n",
       "\n",
       ".xr-section-item input {\n",
       "  display: none;\n",
       "}\n",
       "\n",
       ".xr-section-item input + label {\n",
       "  color: var(--xr-disabled-color);\n",
       "}\n",
       "\n",
       ".xr-section-item input:enabled + label {\n",
       "  cursor: pointer;\n",
       "  color: var(--xr-font-color2);\n",
       "}\n",
       "\n",
       ".xr-section-item input:enabled + label:hover {\n",
       "  color: var(--xr-font-color0);\n",
       "}\n",
       "\n",
       ".xr-section-summary {\n",
       "  grid-column: 1;\n",
       "  color: var(--xr-font-color2);\n",
       "  font-weight: 500;\n",
       "}\n",
       "\n",
       ".xr-section-summary > span {\n",
       "  display: inline-block;\n",
       "  padding-left: 0.5em;\n",
       "}\n",
       "\n",
       ".xr-section-summary-in:disabled + label {\n",
       "  color: var(--xr-font-color2);\n",
       "}\n",
       "\n",
       ".xr-section-summary-in + label:before {\n",
       "  display: inline-block;\n",
       "  content: '►';\n",
       "  font-size: 11px;\n",
       "  width: 15px;\n",
       "  text-align: center;\n",
       "}\n",
       "\n",
       ".xr-section-summary-in:disabled + label:before {\n",
       "  color: var(--xr-disabled-color);\n",
       "}\n",
       "\n",
       ".xr-section-summary-in:checked + label:before {\n",
       "  content: '▼';\n",
       "}\n",
       "\n",
       ".xr-section-summary-in:checked + label > span {\n",
       "  display: none;\n",
       "}\n",
       "\n",
       ".xr-section-summary,\n",
       ".xr-section-inline-details {\n",
       "  padding-top: 4px;\n",
       "  padding-bottom: 4px;\n",
       "}\n",
       "\n",
       ".xr-section-inline-details {\n",
       "  grid-column: 2 / -1;\n",
       "}\n",
       "\n",
       ".xr-section-details {\n",
       "  display: none;\n",
       "  grid-column: 1 / -1;\n",
       "  margin-bottom: 5px;\n",
       "}\n",
       "\n",
       ".xr-section-summary-in:checked ~ .xr-section-details {\n",
       "  display: contents;\n",
       "}\n",
       "\n",
       ".xr-array-wrap {\n",
       "  grid-column: 1 / -1;\n",
       "  display: grid;\n",
       "  grid-template-columns: 20px auto;\n",
       "}\n",
       "\n",
       ".xr-array-wrap > label {\n",
       "  grid-column: 1;\n",
       "  vertical-align: top;\n",
       "}\n",
       "\n",
       ".xr-preview {\n",
       "  color: var(--xr-font-color3);\n",
       "}\n",
       "\n",
       ".xr-array-preview,\n",
       ".xr-array-data {\n",
       "  padding: 0 5px !important;\n",
       "  grid-column: 2;\n",
       "}\n",
       "\n",
       ".xr-array-data,\n",
       ".xr-array-in:checked ~ .xr-array-preview {\n",
       "  display: none;\n",
       "}\n",
       "\n",
       ".xr-array-in:checked ~ .xr-array-data,\n",
       ".xr-array-preview {\n",
       "  display: inline-block;\n",
       "}\n",
       "\n",
       ".xr-dim-list {\n",
       "  display: inline-block !important;\n",
       "  list-style: none;\n",
       "  padding: 0 !important;\n",
       "  margin: 0;\n",
       "}\n",
       "\n",
       ".xr-dim-list li {\n",
       "  display: inline-block;\n",
       "  padding: 0;\n",
       "  margin: 0;\n",
       "}\n",
       "\n",
       ".xr-dim-list:before {\n",
       "  content: '(';\n",
       "}\n",
       "\n",
       ".xr-dim-list:after {\n",
       "  content: ')';\n",
       "}\n",
       "\n",
       ".xr-dim-list li:not(:last-child):after {\n",
       "  content: ',';\n",
       "  padding-right: 5px;\n",
       "}\n",
       "\n",
       ".xr-has-index {\n",
       "  font-weight: bold;\n",
       "}\n",
       "\n",
       ".xr-var-list,\n",
       ".xr-var-item {\n",
       "  display: contents;\n",
       "}\n",
       "\n",
       ".xr-var-item > div,\n",
       ".xr-var-item label,\n",
       ".xr-var-item > .xr-var-name span {\n",
       "  background-color: var(--xr-background-color-row-even);\n",
       "  margin-bottom: 0;\n",
       "}\n",
       "\n",
       ".xr-var-item > .xr-var-name:hover span {\n",
       "  padding-right: 5px;\n",
       "}\n",
       "\n",
       ".xr-var-list > li:nth-child(odd) > div,\n",
       ".xr-var-list > li:nth-child(odd) > label,\n",
       ".xr-var-list > li:nth-child(odd) > .xr-var-name span {\n",
       "  background-color: var(--xr-background-color-row-odd);\n",
       "}\n",
       "\n",
       ".xr-var-name {\n",
       "  grid-column: 1;\n",
       "}\n",
       "\n",
       ".xr-var-dims {\n",
       "  grid-column: 2;\n",
       "}\n",
       "\n",
       ".xr-var-dtype {\n",
       "  grid-column: 3;\n",
       "  text-align: right;\n",
       "  color: var(--xr-font-color2);\n",
       "}\n",
       "\n",
       ".xr-var-preview {\n",
       "  grid-column: 4;\n",
       "}\n",
       "\n",
       ".xr-index-preview {\n",
       "  grid-column: 2 / 5;\n",
       "  color: var(--xr-font-color2);\n",
       "}\n",
       "\n",
       ".xr-var-name,\n",
       ".xr-var-dims,\n",
       ".xr-var-dtype,\n",
       ".xr-preview,\n",
       ".xr-attrs dt {\n",
       "  white-space: nowrap;\n",
       "  overflow: hidden;\n",
       "  text-overflow: ellipsis;\n",
       "  padding-right: 10px;\n",
       "}\n",
       "\n",
       ".xr-var-name:hover,\n",
       ".xr-var-dims:hover,\n",
       ".xr-var-dtype:hover,\n",
       ".xr-attrs dt:hover {\n",
       "  overflow: visible;\n",
       "  width: auto;\n",
       "  z-index: 1;\n",
       "}\n",
       "\n",
       ".xr-var-attrs,\n",
       ".xr-var-data,\n",
       ".xr-index-data {\n",
       "  display: none;\n",
       "  background-color: var(--xr-background-color) !important;\n",
       "  padding-bottom: 5px !important;\n",
       "}\n",
       "\n",
       ".xr-var-attrs-in:checked ~ .xr-var-attrs,\n",
       ".xr-var-data-in:checked ~ .xr-var-data,\n",
       ".xr-index-data-in:checked ~ .xr-index-data {\n",
       "  display: block;\n",
       "}\n",
       "\n",
       ".xr-var-data > table {\n",
       "  float: right;\n",
       "}\n",
       "\n",
       ".xr-var-name span,\n",
       ".xr-var-data,\n",
       ".xr-index-name div,\n",
       ".xr-index-data,\n",
       ".xr-attrs {\n",
       "  padding-left: 25px !important;\n",
       "}\n",
       "\n",
       ".xr-attrs,\n",
       ".xr-var-attrs,\n",
       ".xr-var-data,\n",
       ".xr-index-data {\n",
       "  grid-column: 1 / -1;\n",
       "}\n",
       "\n",
       "dl.xr-attrs {\n",
       "  padding: 0;\n",
       "  margin: 0;\n",
       "  display: grid;\n",
       "  grid-template-columns: 125px auto;\n",
       "}\n",
       "\n",
       ".xr-attrs dt,\n",
       ".xr-attrs dd {\n",
       "  padding: 0;\n",
       "  margin: 0;\n",
       "  float: left;\n",
       "  padding-right: 10px;\n",
       "  width: auto;\n",
       "}\n",
       "\n",
       ".xr-attrs dt {\n",
       "  font-weight: normal;\n",
       "  grid-column: 1;\n",
       "}\n",
       "\n",
       ".xr-attrs dt:hover span {\n",
       "  display: inline-block;\n",
       "  background: var(--xr-background-color);\n",
       "  padding-right: 10px;\n",
       "}\n",
       "\n",
       ".xr-attrs dd {\n",
       "  grid-column: 2;\n",
       "  white-space: pre-wrap;\n",
       "  word-break: break-all;\n",
       "}\n",
       "\n",
       ".xr-icon-database,\n",
       ".xr-icon-file-text2,\n",
       ".xr-no-icon {\n",
       "  display: inline-block;\n",
       "  vertical-align: middle;\n",
       "  width: 1em;\n",
       "  height: 1.5em !important;\n",
       "  stroke-width: 0;\n",
       "  stroke: currentColor;\n",
       "  fill: currentColor;\n",
       "}\n",
       "</style><pre class='xr-text-repr-fallback'>&lt;xarray.Dataset&gt; Size: 216B\n",
       "Dimensions:               ()\n",
       "Coordinates:\n",
       "    Scenario              &lt;U4 16B &#x27;SSP2&#x27;\n",
       "    Temperature           float64 8B 1.6\n",
       "    Risk                  float64 8B 0.5\n",
       "    NonCO2red             float64 8B 0.5\n",
       "    NegEmis               float64 8B 0.5\n",
       "    Timing                &lt;U9 36B &#x27;Immediate&#x27;\n",
       "    Convergence_year      int32 4B 2050\n",
       "    Discount_factor       float64 8B 0.0\n",
       "    Historical_startyear  int64 8B 1990\n",
       "    Time                  int32 4B 2030\n",
       "    Variable              &lt;U21 84B &#x27;Emissions|Kyoto Gases&#x27;\n",
       "Data variables:\n",
       "    PCC                   float64 8B 3.61e+03\n",
       "    AP                    float64 8B 6.268e+03\n",
       "    ECPC                  float64 8B 3.76e+04</pre><div class='xr-wrap' style='display:none'><div class='xr-header'><div class='xr-obj-type'>xarray.Dataset</div></div><ul class='xr-sections'><li class='xr-section-item'><input id='section-5c41f111-b9af-473b-a151-85f20d0c9a43' class='xr-section-summary-in' type='checkbox' disabled ><label for='section-5c41f111-b9af-473b-a151-85f20d0c9a43' class='xr-section-summary'  title='Expand/collapse section'>Dimensions:</label><div class='xr-section-inline-details'></div><div class='xr-section-details'></div></li><li class='xr-section-item'><input id='section-219206ef-a822-4dca-9f9e-3c97a44f6f04' class='xr-section-summary-in' type='checkbox'  checked><label for='section-219206ef-a822-4dca-9f9e-3c97a44f6f04' class='xr-section-summary' >Coordinates: <span>(11)</span></label><div class='xr-section-inline-details'></div><div class='xr-section-details'><ul class='xr-var-list'><li class='xr-var-item'><div class='xr-var-name'><span>Scenario</span></div><div class='xr-var-dims'>()</div><div class='xr-var-dtype'>&lt;U4</div><div class='xr-var-preview xr-preview'>&#x27;SSP2&#x27;</div><input id='attrs-06818586-377b-4f05-a79f-6a1aca93ebad' class='xr-var-attrs-in' type='checkbox' disabled><label for='attrs-06818586-377b-4f05-a79f-6a1aca93ebad' title='Show/Hide attributes'><svg class='icon xr-icon-file-text2'><use xlink:href='#icon-file-text2'></use></svg></label><input id='data-5f15364f-91dd-47fa-b5f2-110aeaea4b68' class='xr-var-data-in' type='checkbox'><label for='data-5f15364f-91dd-47fa-b5f2-110aeaea4b68' title='Show/Hide data repr'><svg class='icon xr-icon-database'><use xlink:href='#icon-database'></use></svg></label><div class='xr-var-attrs'><dl class='xr-attrs'></dl></div><div class='xr-var-data'><pre>array(&#x27;SSP2&#x27;, dtype=&#x27;&lt;U4&#x27;)</pre></div></li><li class='xr-var-item'><div class='xr-var-name'><span>Temperature</span></div><div class='xr-var-dims'>()</div><div class='xr-var-dtype'>float64</div><div class='xr-var-preview xr-preview'>1.6</div><input id='attrs-969a2f1d-d084-4edc-b33e-3668c7df76c3' class='xr-var-attrs-in' type='checkbox' disabled><label for='attrs-969a2f1d-d084-4edc-b33e-3668c7df76c3' title='Show/Hide attributes'><svg class='icon xr-icon-file-text2'><use xlink:href='#icon-file-text2'></use></svg></label><input id='data-0683c081-64de-4d02-a716-a593534b7a25' class='xr-var-data-in' type='checkbox'><label for='data-0683c081-64de-4d02-a716-a593534b7a25' title='Show/Hide data repr'><svg class='icon xr-icon-database'><use xlink:href='#icon-database'></use></svg></label><div class='xr-var-attrs'><dl class='xr-attrs'></dl></div><div class='xr-var-data'><pre>array(1.6)</pre></div></li><li class='xr-var-item'><div class='xr-var-name'><span>Risk</span></div><div class='xr-var-dims'>()</div><div class='xr-var-dtype'>float64</div><div class='xr-var-preview xr-preview'>0.5</div><input id='attrs-0e1285aa-17a4-4da9-a90c-d837bf9a7cce' class='xr-var-attrs-in' type='checkbox' disabled><label for='attrs-0e1285aa-17a4-4da9-a90c-d837bf9a7cce' title='Show/Hide attributes'><svg class='icon xr-icon-file-text2'><use xlink:href='#icon-file-text2'></use></svg></label><input id='data-b18c4cbd-6513-46cc-a875-8a4c48c2ba8b' class='xr-var-data-in' type='checkbox'><label for='data-b18c4cbd-6513-46cc-a875-8a4c48c2ba8b' title='Show/Hide data repr'><svg class='icon xr-icon-database'><use xlink:href='#icon-database'></use></svg></label><div class='xr-var-attrs'><dl class='xr-attrs'></dl></div><div class='xr-var-data'><pre>array(0.5)</pre></div></li><li class='xr-var-item'><div class='xr-var-name'><span>NonCO2red</span></div><div class='xr-var-dims'>()</div><div class='xr-var-dtype'>float64</div><div class='xr-var-preview xr-preview'>0.5</div><input id='attrs-b700b74d-f737-4bf9-adfc-ae40195b1722' class='xr-var-attrs-in' type='checkbox' disabled><label for='attrs-b700b74d-f737-4bf9-adfc-ae40195b1722' title='Show/Hide attributes'><svg class='icon xr-icon-file-text2'><use xlink:href='#icon-file-text2'></use></svg></label><input id='data-d60fdfb6-0347-4226-bdbd-793c9b7fe7af' class='xr-var-data-in' type='checkbox'><label for='data-d60fdfb6-0347-4226-bdbd-793c9b7fe7af' title='Show/Hide data repr'><svg class='icon xr-icon-database'><use xlink:href='#icon-database'></use></svg></label><div class='xr-var-attrs'><dl class='xr-attrs'></dl></div><div class='xr-var-data'><pre>array(0.5)</pre></div></li><li class='xr-var-item'><div class='xr-var-name'><span>NegEmis</span></div><div class='xr-var-dims'>()</div><div class='xr-var-dtype'>float64</div><div class='xr-var-preview xr-preview'>0.5</div><input id='attrs-beaa9054-2aee-48ef-959b-4d525756ca9f' class='xr-var-attrs-in' type='checkbox' disabled><label for='attrs-beaa9054-2aee-48ef-959b-4d525756ca9f' title='Show/Hide attributes'><svg class='icon xr-icon-file-text2'><use xlink:href='#icon-file-text2'></use></svg></label><input id='data-ea201189-9e24-432e-8b07-07724e767ab4' class='xr-var-data-in' type='checkbox'><label for='data-ea201189-9e24-432e-8b07-07724e767ab4' title='Show/Hide data repr'><svg class='icon xr-icon-database'><use xlink:href='#icon-database'></use></svg></label><div class='xr-var-attrs'><dl class='xr-attrs'></dl></div><div class='xr-var-data'><pre>array(0.5)</pre></div></li><li class='xr-var-item'><div class='xr-var-name'><span>Timing</span></div><div class='xr-var-dims'>()</div><div class='xr-var-dtype'>&lt;U9</div><div class='xr-var-preview xr-preview'>&#x27;Immediate&#x27;</div><input id='attrs-e5051d87-76de-4665-be5d-4e4909bd8e7e' class='xr-var-attrs-in' type='checkbox' disabled><label for='attrs-e5051d87-76de-4665-be5d-4e4909bd8e7e' title='Show/Hide attributes'><svg class='icon xr-icon-file-text2'><use xlink:href='#icon-file-text2'></use></svg></label><input id='data-63b0c42d-e7a2-4e7e-a513-15e1a240f966' class='xr-var-data-in' type='checkbox'><label for='data-63b0c42d-e7a2-4e7e-a513-15e1a240f966' title='Show/Hide data repr'><svg class='icon xr-icon-database'><use xlink:href='#icon-database'></use></svg></label><div class='xr-var-attrs'><dl class='xr-attrs'></dl></div><div class='xr-var-data'><pre>array(&#x27;Immediate&#x27;, dtype=&#x27;&lt;U9&#x27;)</pre></div></li><li class='xr-var-item'><div class='xr-var-name'><span>Convergence_year</span></div><div class='xr-var-dims'>()</div><div class='xr-var-dtype'>int32</div><div class='xr-var-preview xr-preview'>2050</div><input id='attrs-f2e2a330-33ee-42e4-a9bb-8acdcf1d5432' class='xr-var-attrs-in' type='checkbox' disabled><label for='attrs-f2e2a330-33ee-42e4-a9bb-8acdcf1d5432' title='Show/Hide attributes'><svg class='icon xr-icon-file-text2'><use xlink:href='#icon-file-text2'></use></svg></label><input id='data-3ca0b50b-0415-4047-a824-7f86b6e78bc6' class='xr-var-data-in' type='checkbox'><label for='data-3ca0b50b-0415-4047-a824-7f86b6e78bc6' title='Show/Hide data repr'><svg class='icon xr-icon-database'><use xlink:href='#icon-database'></use></svg></label><div class='xr-var-attrs'><dl class='xr-attrs'></dl></div><div class='xr-var-data'><pre>array(2050)</pre></div></li><li class='xr-var-item'><div class='xr-var-name'><span>Discount_factor</span></div><div class='xr-var-dims'>()</div><div class='xr-var-dtype'>float64</div><div class='xr-var-preview xr-preview'>0.0</div><input id='attrs-db2f845e-bd70-4331-ac5f-9a776ee5105e' class='xr-var-attrs-in' type='checkbox' disabled><label for='attrs-db2f845e-bd70-4331-ac5f-9a776ee5105e' title='Show/Hide attributes'><svg class='icon xr-icon-file-text2'><use xlink:href='#icon-file-text2'></use></svg></label><input id='data-874f70d5-0039-479f-b16e-f59889668e45' class='xr-var-data-in' type='checkbox'><label for='data-874f70d5-0039-479f-b16e-f59889668e45' title='Show/Hide data repr'><svg class='icon xr-icon-database'><use xlink:href='#icon-database'></use></svg></label><div class='xr-var-attrs'><dl class='xr-attrs'></dl></div><div class='xr-var-data'><pre>array(0.)</pre></div></li><li class='xr-var-item'><div class='xr-var-name'><span>Historical_startyear</span></div><div class='xr-var-dims'>()</div><div class='xr-var-dtype'>int64</div><div class='xr-var-preview xr-preview'>1990</div><input id='attrs-6e44d81f-154d-4078-a34e-d2634cf8c0a9' class='xr-var-attrs-in' type='checkbox' disabled><label for='attrs-6e44d81f-154d-4078-a34e-d2634cf8c0a9' title='Show/Hide attributes'><svg class='icon xr-icon-file-text2'><use xlink:href='#icon-file-text2'></use></svg></label><input id='data-63d70be6-1fa2-43e7-81f1-cde4c9150278' class='xr-var-data-in' type='checkbox'><label for='data-63d70be6-1fa2-43e7-81f1-cde4c9150278' title='Show/Hide data repr'><svg class='icon xr-icon-database'><use xlink:href='#icon-database'></use></svg></label><div class='xr-var-attrs'><dl class='xr-attrs'></dl></div><div class='xr-var-data'><pre>array(1990, dtype=int64)</pre></div></li><li class='xr-var-item'><div class='xr-var-name'><span>Time</span></div><div class='xr-var-dims'>()</div><div class='xr-var-dtype'>int32</div><div class='xr-var-preview xr-preview'>2030</div><input id='attrs-fb7ce997-2094-4943-b4e6-9f1e38c2e540' class='xr-var-attrs-in' type='checkbox' disabled><label for='attrs-fb7ce997-2094-4943-b4e6-9f1e38c2e540' title='Show/Hide attributes'><svg class='icon xr-icon-file-text2'><use xlink:href='#icon-file-text2'></use></svg></label><input id='data-810e145e-86e9-41ab-a792-4a57a42aead0' class='xr-var-data-in' type='checkbox'><label for='data-810e145e-86e9-41ab-a792-4a57a42aead0' title='Show/Hide data repr'><svg class='icon xr-icon-database'><use xlink:href='#icon-database'></use></svg></label><div class='xr-var-attrs'><dl class='xr-attrs'></dl></div><div class='xr-var-data'><pre>array(2030)</pre></div></li><li class='xr-var-item'><div class='xr-var-name'><span>Variable</span></div><div class='xr-var-dims'>()</div><div class='xr-var-dtype'>&lt;U21</div><div class='xr-var-preview xr-preview'>&#x27;Emissions|Kyoto Gases&#x27;</div><input id='attrs-caad59ad-4385-4e24-aaab-39e3830d72b5' class='xr-var-attrs-in' type='checkbox' disabled><label for='attrs-caad59ad-4385-4e24-aaab-39e3830d72b5' title='Show/Hide attributes'><svg class='icon xr-icon-file-text2'><use xlink:href='#icon-file-text2'></use></svg></label><input id='data-b7057df4-5f24-4534-b5a6-db272e65436c' class='xr-var-data-in' type='checkbox'><label for='data-b7057df4-5f24-4534-b5a6-db272e65436c' title='Show/Hide data repr'><svg class='icon xr-icon-database'><use xlink:href='#icon-database'></use></svg></label><div class='xr-var-attrs'><dl class='xr-attrs'></dl></div><div class='xr-var-data'><pre>array(&#x27;Emissions|Kyoto Gases&#x27;, dtype=&#x27;&lt;U21&#x27;)</pre></div></li></ul></div></li><li class='xr-section-item'><input id='section-fba46ebb-c163-447f-8e88-7846ffccdc21' class='xr-section-summary-in' type='checkbox'  checked><label for='section-fba46ebb-c163-447f-8e88-7846ffccdc21' class='xr-section-summary' >Data variables: <span>(3)</span></label><div class='xr-section-inline-details'></div><div class='xr-section-details'><ul class='xr-var-list'><li class='xr-var-item'><div class='xr-var-name'><span>PCC</span></div><div class='xr-var-dims'>()</div><div class='xr-var-dtype'>float64</div><div class='xr-var-preview xr-preview'>3.61e+03</div><input id='attrs-bec49fe0-4e84-412e-b09f-830ef5ea32cd' class='xr-var-attrs-in' type='checkbox' disabled><label for='attrs-bec49fe0-4e84-412e-b09f-830ef5ea32cd' title='Show/Hide attributes'><svg class='icon xr-icon-file-text2'><use xlink:href='#icon-file-text2'></use></svg></label><input id='data-0ad5024c-61f1-4ddc-ae1a-b88c351ec571' class='xr-var-data-in' type='checkbox'><label for='data-0ad5024c-61f1-4ddc-ae1a-b88c351ec571' title='Show/Hide data repr'><svg class='icon xr-icon-database'><use xlink:href='#icon-database'></use></svg></label><div class='xr-var-attrs'><dl class='xr-attrs'></dl></div><div class='xr-var-data'><pre>array(3609.56945032)</pre></div></li><li class='xr-var-item'><div class='xr-var-name'><span>AP</span></div><div class='xr-var-dims'>()</div><div class='xr-var-dtype'>float64</div><div class='xr-var-preview xr-preview'>6.268e+03</div><input id='attrs-8b000eff-920d-43f1-9273-99f6186135b0' class='xr-var-attrs-in' type='checkbox' disabled><label for='attrs-8b000eff-920d-43f1-9273-99f6186135b0' title='Show/Hide attributes'><svg class='icon xr-icon-file-text2'><use xlink:href='#icon-file-text2'></use></svg></label><input id='data-4ee66a90-d145-4606-bbf2-27d02386dacd' class='xr-var-data-in' type='checkbox'><label for='data-4ee66a90-d145-4606-bbf2-27d02386dacd' title='Show/Hide data repr'><svg class='icon xr-icon-database'><use xlink:href='#icon-database'></use></svg></label><div class='xr-var-attrs'><dl class='xr-attrs'></dl></div><div class='xr-var-data'><pre>array(6267.70893005)</pre></div></li><li class='xr-var-item'><div class='xr-var-name'><span>ECPC</span></div><div class='xr-var-dims'>()</div><div class='xr-var-dtype'>float64</div><div class='xr-var-preview xr-preview'>3.76e+04</div><input id='attrs-76be19aa-085a-46b4-81f3-144a9ca54c06' class='xr-var-attrs-in' type='checkbox' disabled><label for='attrs-76be19aa-085a-46b4-81f3-144a9ca54c06' title='Show/Hide attributes'><svg class='icon xr-icon-file-text2'><use xlink:href='#icon-file-text2'></use></svg></label><input id='data-cbb9489b-2bab-41a7-ba75-57aec9d83017' class='xr-var-data-in' type='checkbox'><label for='data-cbb9489b-2bab-41a7-ba75-57aec9d83017' title='Show/Hide data repr'><svg class='icon xr-icon-database'><use xlink:href='#icon-database'></use></svg></label><div class='xr-var-attrs'><dl class='xr-attrs'></dl></div><div class='xr-var-data'><pre>array(37597.91364983)</pre></div></li></ul></div></li><li class='xr-section-item'><input id='section-9e561fe5-96b2-4579-9882-d10fef7cd9ec' class='xr-section-summary-in' type='checkbox' disabled ><label for='section-9e561fe5-96b2-4579-9882-d10fef7cd9ec' class='xr-section-summary'  title='Expand/collapse section'>Indexes: <span>(0)</span></label><div class='xr-section-inline-details'></div><div class='xr-section-details'><ul class='xr-var-list'></ul></div></li><li class='xr-section-item'><input id='section-bb18db32-4c54-476b-b988-3b70c99c5dda' class='xr-section-summary-in' type='checkbox' disabled ><label for='section-bb18db32-4c54-476b-b988-3b70c99c5dda' class='xr-section-summary'  title='Expand/collapse section'>Attributes: <span>(0)</span></label><div class='xr-section-inline-details'></div><div class='xr-section-details'><dl class='xr-attrs'></dl></div></li></ul></div></div>"
      ],
      "text/plain": [
       "<xarray.Dataset> Size: 216B\n",
       "Dimensions:               ()\n",
       "Coordinates:\n",
       "    Scenario              <U4 16B 'SSP2'\n",
       "    Temperature           float64 8B 1.6\n",
       "    Risk                  float64 8B 0.5\n",
       "    NonCO2red             float64 8B 0.5\n",
       "    NegEmis               float64 8B 0.5\n",
       "    Timing                <U9 36B 'Immediate'\n",
       "    Convergence_year      int32 4B 2050\n",
       "    Discount_factor       float64 8B 0.0\n",
       "    Historical_startyear  int64 8B 1990\n",
       "    Time                  int32 4B 2030\n",
       "    Variable              <U21 84B 'Emissions|Kyoto Gases'\n",
       "Data variables:\n",
       "    PCC                   float64 8B 3.61e+03\n",
       "    AP                    float64 8B 6.268e+03\n",
       "    ECPC                  float64 8B 3.76e+04"
      ]
     },
     "execution_count": 404,
     "metadata": {},
     "output_type": "execute_result"
    }
   ],
   "source": [
    "green.sel(Region=all_countries_iso).sum(dim='Region')"
   ]
  },
  {
   "cell_type": "code",
   "execution_count": 403,
   "metadata": {},
   "outputs": [
    {
     "data": {
      "text/html": [
       "<div><svg style=\"position: absolute; width: 0; height: 0; overflow: hidden\">\n",
       "<defs>\n",
       "<symbol id=\"icon-database\" viewBox=\"0 0 32 32\">\n",
       "<path d=\"M16 0c-8.837 0-16 2.239-16 5v4c0 2.761 7.163 5 16 5s16-2.239 16-5v-4c0-2.761-7.163-5-16-5z\"></path>\n",
       "<path d=\"M16 17c-8.837 0-16-2.239-16-5v6c0 2.761 7.163 5 16 5s16-2.239 16-5v-6c0 2.761-7.163 5-16 5z\"></path>\n",
       "<path d=\"M16 26c-8.837 0-16-2.239-16-5v6c0 2.761 7.163 5 16 5s16-2.239 16-5v-6c0 2.761-7.163 5-16 5z\"></path>\n",
       "</symbol>\n",
       "<symbol id=\"icon-file-text2\" viewBox=\"0 0 32 32\">\n",
       "<path d=\"M28.681 7.159c-0.694-0.947-1.662-2.053-2.724-3.116s-2.169-2.030-3.116-2.724c-1.612-1.182-2.393-1.319-2.841-1.319h-15.5c-1.378 0-2.5 1.121-2.5 2.5v27c0 1.378 1.122 2.5 2.5 2.5h23c1.378 0 2.5-1.122 2.5-2.5v-19.5c0-0.448-0.137-1.23-1.319-2.841zM24.543 5.457c0.959 0.959 1.712 1.825 2.268 2.543h-4.811v-4.811c0.718 0.556 1.584 1.309 2.543 2.268zM28 29.5c0 0.271-0.229 0.5-0.5 0.5h-23c-0.271 0-0.5-0.229-0.5-0.5v-27c0-0.271 0.229-0.5 0.5-0.5 0 0 15.499-0 15.5 0v7c0 0.552 0.448 1 1 1h7v19.5z\"></path>\n",
       "<path d=\"M23 26h-14c-0.552 0-1-0.448-1-1s0.448-1 1-1h14c0.552 0 1 0.448 1 1s-0.448 1-1 1z\"></path>\n",
       "<path d=\"M23 22h-14c-0.552 0-1-0.448-1-1s0.448-1 1-1h14c0.552 0 1 0.448 1 1s-0.448 1-1 1z\"></path>\n",
       "<path d=\"M23 18h-14c-0.552 0-1-0.448-1-1s0.448-1 1-1h14c0.552 0 1 0.448 1 1s-0.448 1-1 1z\"></path>\n",
       "</symbol>\n",
       "</defs>\n",
       "</svg>\n",
       "<style>/* CSS stylesheet for displaying xarray objects in jupyterlab.\n",
       " *\n",
       " */\n",
       "\n",
       ":root {\n",
       "  --xr-font-color0: var(--jp-content-font-color0, rgba(0, 0, 0, 1));\n",
       "  --xr-font-color2: var(--jp-content-font-color2, rgba(0, 0, 0, 0.54));\n",
       "  --xr-font-color3: var(--jp-content-font-color3, rgba(0, 0, 0, 0.38));\n",
       "  --xr-border-color: var(--jp-border-color2, #e0e0e0);\n",
       "  --xr-disabled-color: var(--jp-layout-color3, #bdbdbd);\n",
       "  --xr-background-color: var(--jp-layout-color0, white);\n",
       "  --xr-background-color-row-even: var(--jp-layout-color1, white);\n",
       "  --xr-background-color-row-odd: var(--jp-layout-color2, #eeeeee);\n",
       "}\n",
       "\n",
       "html[theme=dark],\n",
       "html[data-theme=dark],\n",
       "body[data-theme=dark],\n",
       "body.vscode-dark {\n",
       "  --xr-font-color0: rgba(255, 255, 255, 1);\n",
       "  --xr-font-color2: rgba(255, 255, 255, 0.54);\n",
       "  --xr-font-color3: rgba(255, 255, 255, 0.38);\n",
       "  --xr-border-color: #1F1F1F;\n",
       "  --xr-disabled-color: #515151;\n",
       "  --xr-background-color: #111111;\n",
       "  --xr-background-color-row-even: #111111;\n",
       "  --xr-background-color-row-odd: #313131;\n",
       "}\n",
       "\n",
       ".xr-wrap {\n",
       "  display: block !important;\n",
       "  min-width: 300px;\n",
       "  max-width: 700px;\n",
       "}\n",
       "\n",
       ".xr-text-repr-fallback {\n",
       "  /* fallback to plain text repr when CSS is not injected (untrusted notebook) */\n",
       "  display: none;\n",
       "}\n",
       "\n",
       ".xr-header {\n",
       "  padding-top: 6px;\n",
       "  padding-bottom: 6px;\n",
       "  margin-bottom: 4px;\n",
       "  border-bottom: solid 1px var(--xr-border-color);\n",
       "}\n",
       "\n",
       ".xr-header > div,\n",
       ".xr-header > ul {\n",
       "  display: inline;\n",
       "  margin-top: 0;\n",
       "  margin-bottom: 0;\n",
       "}\n",
       "\n",
       ".xr-obj-type,\n",
       ".xr-array-name {\n",
       "  margin-left: 2px;\n",
       "  margin-right: 10px;\n",
       "}\n",
       "\n",
       ".xr-obj-type {\n",
       "  color: var(--xr-font-color2);\n",
       "}\n",
       "\n",
       ".xr-sections {\n",
       "  padding-left: 0 !important;\n",
       "  display: grid;\n",
       "  grid-template-columns: 150px auto auto 1fr 20px 20px;\n",
       "}\n",
       "\n",
       ".xr-section-item {\n",
       "  display: contents;\n",
       "}\n",
       "\n",
       ".xr-section-item input {\n",
       "  display: none;\n",
       "}\n",
       "\n",
       ".xr-section-item input + label {\n",
       "  color: var(--xr-disabled-color);\n",
       "}\n",
       "\n",
       ".xr-section-item input:enabled + label {\n",
       "  cursor: pointer;\n",
       "  color: var(--xr-font-color2);\n",
       "}\n",
       "\n",
       ".xr-section-item input:enabled + label:hover {\n",
       "  color: var(--xr-font-color0);\n",
       "}\n",
       "\n",
       ".xr-section-summary {\n",
       "  grid-column: 1;\n",
       "  color: var(--xr-font-color2);\n",
       "  font-weight: 500;\n",
       "}\n",
       "\n",
       ".xr-section-summary > span {\n",
       "  display: inline-block;\n",
       "  padding-left: 0.5em;\n",
       "}\n",
       "\n",
       ".xr-section-summary-in:disabled + label {\n",
       "  color: var(--xr-font-color2);\n",
       "}\n",
       "\n",
       ".xr-section-summary-in + label:before {\n",
       "  display: inline-block;\n",
       "  content: '►';\n",
       "  font-size: 11px;\n",
       "  width: 15px;\n",
       "  text-align: center;\n",
       "}\n",
       "\n",
       ".xr-section-summary-in:disabled + label:before {\n",
       "  color: var(--xr-disabled-color);\n",
       "}\n",
       "\n",
       ".xr-section-summary-in:checked + label:before {\n",
       "  content: '▼';\n",
       "}\n",
       "\n",
       ".xr-section-summary-in:checked + label > span {\n",
       "  display: none;\n",
       "}\n",
       "\n",
       ".xr-section-summary,\n",
       ".xr-section-inline-details {\n",
       "  padding-top: 4px;\n",
       "  padding-bottom: 4px;\n",
       "}\n",
       "\n",
       ".xr-section-inline-details {\n",
       "  grid-column: 2 / -1;\n",
       "}\n",
       "\n",
       ".xr-section-details {\n",
       "  display: none;\n",
       "  grid-column: 1 / -1;\n",
       "  margin-bottom: 5px;\n",
       "}\n",
       "\n",
       ".xr-section-summary-in:checked ~ .xr-section-details {\n",
       "  display: contents;\n",
       "}\n",
       "\n",
       ".xr-array-wrap {\n",
       "  grid-column: 1 / -1;\n",
       "  display: grid;\n",
       "  grid-template-columns: 20px auto;\n",
       "}\n",
       "\n",
       ".xr-array-wrap > label {\n",
       "  grid-column: 1;\n",
       "  vertical-align: top;\n",
       "}\n",
       "\n",
       ".xr-preview {\n",
       "  color: var(--xr-font-color3);\n",
       "}\n",
       "\n",
       ".xr-array-preview,\n",
       ".xr-array-data {\n",
       "  padding: 0 5px !important;\n",
       "  grid-column: 2;\n",
       "}\n",
       "\n",
       ".xr-array-data,\n",
       ".xr-array-in:checked ~ .xr-array-preview {\n",
       "  display: none;\n",
       "}\n",
       "\n",
       ".xr-array-in:checked ~ .xr-array-data,\n",
       ".xr-array-preview {\n",
       "  display: inline-block;\n",
       "}\n",
       "\n",
       ".xr-dim-list {\n",
       "  display: inline-block !important;\n",
       "  list-style: none;\n",
       "  padding: 0 !important;\n",
       "  margin: 0;\n",
       "}\n",
       "\n",
       ".xr-dim-list li {\n",
       "  display: inline-block;\n",
       "  padding: 0;\n",
       "  margin: 0;\n",
       "}\n",
       "\n",
       ".xr-dim-list:before {\n",
       "  content: '(';\n",
       "}\n",
       "\n",
       ".xr-dim-list:after {\n",
       "  content: ')';\n",
       "}\n",
       "\n",
       ".xr-dim-list li:not(:last-child):after {\n",
       "  content: ',';\n",
       "  padding-right: 5px;\n",
       "}\n",
       "\n",
       ".xr-has-index {\n",
       "  font-weight: bold;\n",
       "}\n",
       "\n",
       ".xr-var-list,\n",
       ".xr-var-item {\n",
       "  display: contents;\n",
       "}\n",
       "\n",
       ".xr-var-item > div,\n",
       ".xr-var-item label,\n",
       ".xr-var-item > .xr-var-name span {\n",
       "  background-color: var(--xr-background-color-row-even);\n",
       "  margin-bottom: 0;\n",
       "}\n",
       "\n",
       ".xr-var-item > .xr-var-name:hover span {\n",
       "  padding-right: 5px;\n",
       "}\n",
       "\n",
       ".xr-var-list > li:nth-child(odd) > div,\n",
       ".xr-var-list > li:nth-child(odd) > label,\n",
       ".xr-var-list > li:nth-child(odd) > .xr-var-name span {\n",
       "  background-color: var(--xr-background-color-row-odd);\n",
       "}\n",
       "\n",
       ".xr-var-name {\n",
       "  grid-column: 1;\n",
       "}\n",
       "\n",
       ".xr-var-dims {\n",
       "  grid-column: 2;\n",
       "}\n",
       "\n",
       ".xr-var-dtype {\n",
       "  grid-column: 3;\n",
       "  text-align: right;\n",
       "  color: var(--xr-font-color2);\n",
       "}\n",
       "\n",
       ".xr-var-preview {\n",
       "  grid-column: 4;\n",
       "}\n",
       "\n",
       ".xr-index-preview {\n",
       "  grid-column: 2 / 5;\n",
       "  color: var(--xr-font-color2);\n",
       "}\n",
       "\n",
       ".xr-var-name,\n",
       ".xr-var-dims,\n",
       ".xr-var-dtype,\n",
       ".xr-preview,\n",
       ".xr-attrs dt {\n",
       "  white-space: nowrap;\n",
       "  overflow: hidden;\n",
       "  text-overflow: ellipsis;\n",
       "  padding-right: 10px;\n",
       "}\n",
       "\n",
       ".xr-var-name:hover,\n",
       ".xr-var-dims:hover,\n",
       ".xr-var-dtype:hover,\n",
       ".xr-attrs dt:hover {\n",
       "  overflow: visible;\n",
       "  width: auto;\n",
       "  z-index: 1;\n",
       "}\n",
       "\n",
       ".xr-var-attrs,\n",
       ".xr-var-data,\n",
       ".xr-index-data {\n",
       "  display: none;\n",
       "  background-color: var(--xr-background-color) !important;\n",
       "  padding-bottom: 5px !important;\n",
       "}\n",
       "\n",
       ".xr-var-attrs-in:checked ~ .xr-var-attrs,\n",
       ".xr-var-data-in:checked ~ .xr-var-data,\n",
       ".xr-index-data-in:checked ~ .xr-index-data {\n",
       "  display: block;\n",
       "}\n",
       "\n",
       ".xr-var-data > table {\n",
       "  float: right;\n",
       "}\n",
       "\n",
       ".xr-var-name span,\n",
       ".xr-var-data,\n",
       ".xr-index-name div,\n",
       ".xr-index-data,\n",
       ".xr-attrs {\n",
       "  padding-left: 25px !important;\n",
       "}\n",
       "\n",
       ".xr-attrs,\n",
       ".xr-var-attrs,\n",
       ".xr-var-data,\n",
       ".xr-index-data {\n",
       "  grid-column: 1 / -1;\n",
       "}\n",
       "\n",
       "dl.xr-attrs {\n",
       "  padding: 0;\n",
       "  margin: 0;\n",
       "  display: grid;\n",
       "  grid-template-columns: 125px auto;\n",
       "}\n",
       "\n",
       ".xr-attrs dt,\n",
       ".xr-attrs dd {\n",
       "  padding: 0;\n",
       "  margin: 0;\n",
       "  float: left;\n",
       "  padding-right: 10px;\n",
       "  width: auto;\n",
       "}\n",
       "\n",
       ".xr-attrs dt {\n",
       "  font-weight: normal;\n",
       "  grid-column: 1;\n",
       "}\n",
       "\n",
       ".xr-attrs dt:hover span {\n",
       "  display: inline-block;\n",
       "  background: var(--xr-background-color);\n",
       "  padding-right: 10px;\n",
       "}\n",
       "\n",
       ".xr-attrs dd {\n",
       "  grid-column: 2;\n",
       "  white-space: pre-wrap;\n",
       "  word-break: break-all;\n",
       "}\n",
       "\n",
       ".xr-icon-database,\n",
       ".xr-icon-file-text2,\n",
       ".xr-no-icon {\n",
       "  display: inline-block;\n",
       "  vertical-align: middle;\n",
       "  width: 1em;\n",
       "  height: 1.5em !important;\n",
       "  stroke-width: 0;\n",
       "  stroke: currentColor;\n",
       "  fill: currentColor;\n",
       "}\n",
       "</style><pre class='xr-text-repr-fallback'>&lt;xarray.Dataset&gt; Size: 216B\n",
       "Dimensions:               ()\n",
       "Coordinates:\n",
       "    Scenario              &lt;U4 16B &#x27;SSP2&#x27;\n",
       "    Temperature           float64 8B 1.6\n",
       "    Risk                  float64 8B 0.5\n",
       "    NonCO2red             float64 8B 0.5\n",
       "    NegEmis               float64 8B 0.5\n",
       "    Timing                &lt;U9 36B &#x27;Immediate&#x27;\n",
       "    Convergence_year      int32 4B 2050\n",
       "    Discount_factor       float64 8B 0.0\n",
       "    Historical_startyear  int64 8B 1990\n",
       "    Time                  int32 4B 2030\n",
       "    Variable              &lt;U21 84B &#x27;Emissions|Kyoto Gases&#x27;\n",
       "Data variables:\n",
       "    PCC                   float64 8B 3.634e+03\n",
       "    AP                    float64 8B 6.179e+03\n",
       "    ECPC                  float64 8B 3.755e+04</pre><div class='xr-wrap' style='display:none'><div class='xr-header'><div class='xr-obj-type'>xarray.Dataset</div></div><ul class='xr-sections'><li class='xr-section-item'><input id='section-6323ef82-26f5-4b4f-8fc0-097784747a47' class='xr-section-summary-in' type='checkbox' disabled ><label for='section-6323ef82-26f5-4b4f-8fc0-097784747a47' class='xr-section-summary'  title='Expand/collapse section'>Dimensions:</label><div class='xr-section-inline-details'></div><div class='xr-section-details'></div></li><li class='xr-section-item'><input id='section-e7c0494a-c8d8-49da-a4ee-9763c6780cac' class='xr-section-summary-in' type='checkbox'  checked><label for='section-e7c0494a-c8d8-49da-a4ee-9763c6780cac' class='xr-section-summary' >Coordinates: <span>(11)</span></label><div class='xr-section-inline-details'></div><div class='xr-section-details'><ul class='xr-var-list'><li class='xr-var-item'><div class='xr-var-name'><span>Scenario</span></div><div class='xr-var-dims'>()</div><div class='xr-var-dtype'>&lt;U4</div><div class='xr-var-preview xr-preview'>&#x27;SSP2&#x27;</div><input id='attrs-a32ee9b2-622e-4642-bd73-1ef5c7e1df6b' class='xr-var-attrs-in' type='checkbox' disabled><label for='attrs-a32ee9b2-622e-4642-bd73-1ef5c7e1df6b' title='Show/Hide attributes'><svg class='icon xr-icon-file-text2'><use xlink:href='#icon-file-text2'></use></svg></label><input id='data-f37ce40f-c08a-4a30-a1d5-6339e6895600' class='xr-var-data-in' type='checkbox'><label for='data-f37ce40f-c08a-4a30-a1d5-6339e6895600' title='Show/Hide data repr'><svg class='icon xr-icon-database'><use xlink:href='#icon-database'></use></svg></label><div class='xr-var-attrs'><dl class='xr-attrs'></dl></div><div class='xr-var-data'><pre>array(&#x27;SSP2&#x27;, dtype=&#x27;&lt;U4&#x27;)</pre></div></li><li class='xr-var-item'><div class='xr-var-name'><span>Temperature</span></div><div class='xr-var-dims'>()</div><div class='xr-var-dtype'>float64</div><div class='xr-var-preview xr-preview'>1.6</div><input id='attrs-d154544f-0a1a-423f-b687-a4ab4d8d4e9c' class='xr-var-attrs-in' type='checkbox' disabled><label for='attrs-d154544f-0a1a-423f-b687-a4ab4d8d4e9c' title='Show/Hide attributes'><svg class='icon xr-icon-file-text2'><use xlink:href='#icon-file-text2'></use></svg></label><input id='data-ef5b694a-2f8c-4bfa-9189-59408c918454' class='xr-var-data-in' type='checkbox'><label for='data-ef5b694a-2f8c-4bfa-9189-59408c918454' title='Show/Hide data repr'><svg class='icon xr-icon-database'><use xlink:href='#icon-database'></use></svg></label><div class='xr-var-attrs'><dl class='xr-attrs'></dl></div><div class='xr-var-data'><pre>array(1.6)</pre></div></li><li class='xr-var-item'><div class='xr-var-name'><span>Risk</span></div><div class='xr-var-dims'>()</div><div class='xr-var-dtype'>float64</div><div class='xr-var-preview xr-preview'>0.5</div><input id='attrs-b7e5c99a-58e3-4f18-9693-6b4f216ca62e' class='xr-var-attrs-in' type='checkbox' disabled><label for='attrs-b7e5c99a-58e3-4f18-9693-6b4f216ca62e' title='Show/Hide attributes'><svg class='icon xr-icon-file-text2'><use xlink:href='#icon-file-text2'></use></svg></label><input id='data-6521cbf7-93ee-4a4c-b173-4075c8e962f6' class='xr-var-data-in' type='checkbox'><label for='data-6521cbf7-93ee-4a4c-b173-4075c8e962f6' title='Show/Hide data repr'><svg class='icon xr-icon-database'><use xlink:href='#icon-database'></use></svg></label><div class='xr-var-attrs'><dl class='xr-attrs'></dl></div><div class='xr-var-data'><pre>array(0.5)</pre></div></li><li class='xr-var-item'><div class='xr-var-name'><span>NonCO2red</span></div><div class='xr-var-dims'>()</div><div class='xr-var-dtype'>float64</div><div class='xr-var-preview xr-preview'>0.5</div><input id='attrs-8eb7899d-6ed1-469c-8797-65a9099eac7c' class='xr-var-attrs-in' type='checkbox' disabled><label for='attrs-8eb7899d-6ed1-469c-8797-65a9099eac7c' title='Show/Hide attributes'><svg class='icon xr-icon-file-text2'><use xlink:href='#icon-file-text2'></use></svg></label><input id='data-ca61cd53-e610-4ecf-ae51-7348deee131f' class='xr-var-data-in' type='checkbox'><label for='data-ca61cd53-e610-4ecf-ae51-7348deee131f' title='Show/Hide data repr'><svg class='icon xr-icon-database'><use xlink:href='#icon-database'></use></svg></label><div class='xr-var-attrs'><dl class='xr-attrs'></dl></div><div class='xr-var-data'><pre>array(0.5)</pre></div></li><li class='xr-var-item'><div class='xr-var-name'><span>NegEmis</span></div><div class='xr-var-dims'>()</div><div class='xr-var-dtype'>float64</div><div class='xr-var-preview xr-preview'>0.5</div><input id='attrs-939a8c54-efa2-44c2-921e-18fa6197bbc5' class='xr-var-attrs-in' type='checkbox' disabled><label for='attrs-939a8c54-efa2-44c2-921e-18fa6197bbc5' title='Show/Hide attributes'><svg class='icon xr-icon-file-text2'><use xlink:href='#icon-file-text2'></use></svg></label><input id='data-f322955c-fb25-4540-a836-1381e2454c4d' class='xr-var-data-in' type='checkbox'><label for='data-f322955c-fb25-4540-a836-1381e2454c4d' title='Show/Hide data repr'><svg class='icon xr-icon-database'><use xlink:href='#icon-database'></use></svg></label><div class='xr-var-attrs'><dl class='xr-attrs'></dl></div><div class='xr-var-data'><pre>array(0.5)</pre></div></li><li class='xr-var-item'><div class='xr-var-name'><span>Timing</span></div><div class='xr-var-dims'>()</div><div class='xr-var-dtype'>&lt;U9</div><div class='xr-var-preview xr-preview'>&#x27;Immediate&#x27;</div><input id='attrs-2cc03129-b12b-4bc9-be51-e1a86706e88e' class='xr-var-attrs-in' type='checkbox' disabled><label for='attrs-2cc03129-b12b-4bc9-be51-e1a86706e88e' title='Show/Hide attributes'><svg class='icon xr-icon-file-text2'><use xlink:href='#icon-file-text2'></use></svg></label><input id='data-0469953b-dc1c-45c3-bac7-5a5e6e696817' class='xr-var-data-in' type='checkbox'><label for='data-0469953b-dc1c-45c3-bac7-5a5e6e696817' title='Show/Hide data repr'><svg class='icon xr-icon-database'><use xlink:href='#icon-database'></use></svg></label><div class='xr-var-attrs'><dl class='xr-attrs'></dl></div><div class='xr-var-data'><pre>array(&#x27;Immediate&#x27;, dtype=&#x27;&lt;U9&#x27;)</pre></div></li><li class='xr-var-item'><div class='xr-var-name'><span>Convergence_year</span></div><div class='xr-var-dims'>()</div><div class='xr-var-dtype'>int32</div><div class='xr-var-preview xr-preview'>2050</div><input id='attrs-060dd347-6c83-4466-a5d5-c55dd82f54cb' class='xr-var-attrs-in' type='checkbox' disabled><label for='attrs-060dd347-6c83-4466-a5d5-c55dd82f54cb' title='Show/Hide attributes'><svg class='icon xr-icon-file-text2'><use xlink:href='#icon-file-text2'></use></svg></label><input id='data-676aea90-7006-4f5d-a0af-c4bf9bf94d04' class='xr-var-data-in' type='checkbox'><label for='data-676aea90-7006-4f5d-a0af-c4bf9bf94d04' title='Show/Hide data repr'><svg class='icon xr-icon-database'><use xlink:href='#icon-database'></use></svg></label><div class='xr-var-attrs'><dl class='xr-attrs'></dl></div><div class='xr-var-data'><pre>array(2050)</pre></div></li><li class='xr-var-item'><div class='xr-var-name'><span>Discount_factor</span></div><div class='xr-var-dims'>()</div><div class='xr-var-dtype'>float64</div><div class='xr-var-preview xr-preview'>0.0</div><input id='attrs-53c1ba9f-e55f-4a4e-8e74-cefc80f974af' class='xr-var-attrs-in' type='checkbox' disabled><label for='attrs-53c1ba9f-e55f-4a4e-8e74-cefc80f974af' title='Show/Hide attributes'><svg class='icon xr-icon-file-text2'><use xlink:href='#icon-file-text2'></use></svg></label><input id='data-f42a2966-fede-4550-8ffb-88881bf3675c' class='xr-var-data-in' type='checkbox'><label for='data-f42a2966-fede-4550-8ffb-88881bf3675c' title='Show/Hide data repr'><svg class='icon xr-icon-database'><use xlink:href='#icon-database'></use></svg></label><div class='xr-var-attrs'><dl class='xr-attrs'></dl></div><div class='xr-var-data'><pre>array(0.)</pre></div></li><li class='xr-var-item'><div class='xr-var-name'><span>Historical_startyear</span></div><div class='xr-var-dims'>()</div><div class='xr-var-dtype'>int64</div><div class='xr-var-preview xr-preview'>1990</div><input id='attrs-58539886-23c3-4f03-83f5-c5316d90c2f1' class='xr-var-attrs-in' type='checkbox' disabled><label for='attrs-58539886-23c3-4f03-83f5-c5316d90c2f1' title='Show/Hide attributes'><svg class='icon xr-icon-file-text2'><use xlink:href='#icon-file-text2'></use></svg></label><input id='data-4a52200d-5cb2-46de-b48f-306f560dfb26' class='xr-var-data-in' type='checkbox'><label for='data-4a52200d-5cb2-46de-b48f-306f560dfb26' title='Show/Hide data repr'><svg class='icon xr-icon-database'><use xlink:href='#icon-database'></use></svg></label><div class='xr-var-attrs'><dl class='xr-attrs'></dl></div><div class='xr-var-data'><pre>array(1990, dtype=int64)</pre></div></li><li class='xr-var-item'><div class='xr-var-name'><span>Time</span></div><div class='xr-var-dims'>()</div><div class='xr-var-dtype'>int32</div><div class='xr-var-preview xr-preview'>2030</div><input id='attrs-5f4f7ea2-f300-4184-832f-b8f34a1cdcc3' class='xr-var-attrs-in' type='checkbox' disabled><label for='attrs-5f4f7ea2-f300-4184-832f-b8f34a1cdcc3' title='Show/Hide attributes'><svg class='icon xr-icon-file-text2'><use xlink:href='#icon-file-text2'></use></svg></label><input id='data-6146c598-8379-47aa-8b63-4f32bfc7b8f7' class='xr-var-data-in' type='checkbox'><label for='data-6146c598-8379-47aa-8b63-4f32bfc7b8f7' title='Show/Hide data repr'><svg class='icon xr-icon-database'><use xlink:href='#icon-database'></use></svg></label><div class='xr-var-attrs'><dl class='xr-attrs'></dl></div><div class='xr-var-data'><pre>array(2030)</pre></div></li><li class='xr-var-item'><div class='xr-var-name'><span>Variable</span></div><div class='xr-var-dims'>()</div><div class='xr-var-dtype'>&lt;U21</div><div class='xr-var-preview xr-preview'>&#x27;Emissions|Kyoto Gases&#x27;</div><input id='attrs-b19c0ad9-e985-49af-a9ee-98bc347c97ab' class='xr-var-attrs-in' type='checkbox' disabled><label for='attrs-b19c0ad9-e985-49af-a9ee-98bc347c97ab' title='Show/Hide attributes'><svg class='icon xr-icon-file-text2'><use xlink:href='#icon-file-text2'></use></svg></label><input id='data-a26b6157-5f4e-4e14-bb9e-f1a1119757f3' class='xr-var-data-in' type='checkbox'><label for='data-a26b6157-5f4e-4e14-bb9e-f1a1119757f3' title='Show/Hide data repr'><svg class='icon xr-icon-database'><use xlink:href='#icon-database'></use></svg></label><div class='xr-var-attrs'><dl class='xr-attrs'></dl></div><div class='xr-var-data'><pre>array(&#x27;Emissions|Kyoto Gases&#x27;, dtype=&#x27;&lt;U21&#x27;)</pre></div></li></ul></div></li><li class='xr-section-item'><input id='section-53fe2ab4-7171-46ec-919d-4da93d83656f' class='xr-section-summary-in' type='checkbox'  checked><label for='section-53fe2ab4-7171-46ec-919d-4da93d83656f' class='xr-section-summary' >Data variables: <span>(3)</span></label><div class='xr-section-inline-details'></div><div class='xr-section-details'><ul class='xr-var-list'><li class='xr-var-item'><div class='xr-var-name'><span>PCC</span></div><div class='xr-var-dims'>()</div><div class='xr-var-dtype'>float64</div><div class='xr-var-preview xr-preview'>3.634e+03</div><input id='attrs-3b0a1156-c1a7-4594-bc80-796c2797e1c0' class='xr-var-attrs-in' type='checkbox' disabled><label for='attrs-3b0a1156-c1a7-4594-bc80-796c2797e1c0' title='Show/Hide attributes'><svg class='icon xr-icon-file-text2'><use xlink:href='#icon-file-text2'></use></svg></label><input id='data-96087493-5965-4776-bd72-6aa2d7898803' class='xr-var-data-in' type='checkbox'><label for='data-96087493-5965-4776-bd72-6aa2d7898803' title='Show/Hide data repr'><svg class='icon xr-icon-database'><use xlink:href='#icon-database'></use></svg></label><div class='xr-var-attrs'><dl class='xr-attrs'></dl></div><div class='xr-var-data'><pre>array(3634.16494849)</pre></div></li><li class='xr-var-item'><div class='xr-var-name'><span>AP</span></div><div class='xr-var-dims'>()</div><div class='xr-var-dtype'>float64</div><div class='xr-var-preview xr-preview'>6.179e+03</div><input id='attrs-32064f7d-2c53-4133-aeb0-94913f53c8c3' class='xr-var-attrs-in' type='checkbox' disabled><label for='attrs-32064f7d-2c53-4133-aeb0-94913f53c8c3' title='Show/Hide attributes'><svg class='icon xr-icon-file-text2'><use xlink:href='#icon-file-text2'></use></svg></label><input id='data-b8a3af38-bb69-4830-98ec-423782ef8d87' class='xr-var-data-in' type='checkbox'><label for='data-b8a3af38-bb69-4830-98ec-423782ef8d87' title='Show/Hide data repr'><svg class='icon xr-icon-database'><use xlink:href='#icon-database'></use></svg></label><div class='xr-var-attrs'><dl class='xr-attrs'></dl></div><div class='xr-var-data'><pre>array(6178.95504864)</pre></div></li><li class='xr-var-item'><div class='xr-var-name'><span>ECPC</span></div><div class='xr-var-dims'>()</div><div class='xr-var-dtype'>float64</div><div class='xr-var-preview xr-preview'>3.755e+04</div><input id='attrs-a99e1157-37a5-48ad-a61f-c0e4820c0e97' class='xr-var-attrs-in' type='checkbox' disabled><label for='attrs-a99e1157-37a5-48ad-a61f-c0e4820c0e97' title='Show/Hide attributes'><svg class='icon xr-icon-file-text2'><use xlink:href='#icon-file-text2'></use></svg></label><input id='data-b9ac0da0-4b54-477c-9c9b-e8b9b3375513' class='xr-var-data-in' type='checkbox'><label for='data-b9ac0da0-4b54-477c-9c9b-e8b9b3375513' title='Show/Hide data repr'><svg class='icon xr-icon-database'><use xlink:href='#icon-database'></use></svg></label><div class='xr-var-attrs'><dl class='xr-attrs'></dl></div><div class='xr-var-data'><pre>array(37547.29547022)</pre></div></li></ul></div></li><li class='xr-section-item'><input id='section-48591cf8-8d00-4fca-ba09-433680ac6e79' class='xr-section-summary-in' type='checkbox' disabled ><label for='section-48591cf8-8d00-4fca-ba09-433680ac6e79' class='xr-section-summary'  title='Expand/collapse section'>Indexes: <span>(0)</span></label><div class='xr-section-inline-details'></div><div class='xr-section-details'><ul class='xr-var-list'></ul></div></li><li class='xr-section-item'><input id='section-0f1826c6-ef4c-4a67-ad12-1c9fcabbca7f' class='xr-section-summary-in' type='checkbox' disabled ><label for='section-0f1826c6-ef4c-4a67-ad12-1c9fcabbca7f' class='xr-section-summary'  title='Expand/collapse section'>Attributes: <span>(0)</span></label><div class='xr-section-inline-details'></div><div class='xr-section-details'><dl class='xr-attrs'></dl></div></li></ul></div></div>"
      ],
      "text/plain": [
       "<xarray.Dataset> Size: 216B\n",
       "Dimensions:               ()\n",
       "Coordinates:\n",
       "    Scenario              <U4 16B 'SSP2'\n",
       "    Temperature           float64 8B 1.6\n",
       "    Risk                  float64 8B 0.5\n",
       "    NonCO2red             float64 8B 0.5\n",
       "    NegEmis               float64 8B 0.5\n",
       "    Timing                <U9 36B 'Immediate'\n",
       "    Convergence_year      int32 4B 2050\n",
       "    Discount_factor       float64 8B 0.0\n",
       "    Historical_startyear  int64 8B 1990\n",
       "    Time                  int32 4B 2030\n",
       "    Variable              <U21 84B 'Emissions|Kyoto Gases'\n",
       "Data variables:\n",
       "    PCC                   float64 8B 3.634e+03\n",
       "    AP                    float64 8B 6.179e+03\n",
       "    ECPC                  float64 8B 3.755e+04"
      ]
     },
     "execution_count": 403,
     "metadata": {},
     "output_type": "execute_result"
    }
   ],
   "source": [
    "red.sel(Region=all_countries_iso).sum(dim='Region')"
   ]
  },
  {
   "cell_type": "code",
   "execution_count": 166,
   "metadata": {},
   "outputs": [],
   "source": [
    "costopt_mt = costopts.Value\n",
    "ndc_est_mt = xr_dataread.GHG_ndc.mean(dim='Ambition').min(dim='Conditionality')\n",
    "red_mt = xr_alloc_2030.sel(Temperature=1.6,\n",
    "                                 Risk=0.5,\n",
    "                                 Timing='Immediate',\n",
    "                                 NonCO2red=0.5,\n",
    "                                 NegEmis=0.5,\n",
    "                                 Scenario='SSP2',\n",
    "                                 Convergence_year=2050,\n",
    "                                 Discount_factor=0,\n",
    "                                 Historical_startyear=1990)\n",
    "\n",
    "emis_2015 = xr_dataread.GHG_hist.sel(Time=2015)\n",
    "reductions = 1-red_mt/emis_2015\n",
    "ndc_est = 1-(ndc_est_mt / emis_2015)\n",
    "costopt = 1-costopt_mt/emis_2015\n",
    "\n",
    "def data(reg): # Reduction targets\n",
    "    return float(ndc_est.sel(Region=reg)), np.array(reductions.sel(Region=reg)[['PCC', 'AP', 'ECPC']].to_array()), float(costopt.sel(Region=reg))\n",
    "def data_mt(reg): # Absolute emissions levels\n",
    "    return float(ndc_est_mt.sel(Region=reg)), np.array(red_mt.sel(Region=reg)[['PCC', 'AP', 'ECPC']].to_array()), float(costopt_mt.sel(Region=reg))"
   ]
  },
  {
   "cell_type": "code",
   "execution_count": 196,
   "metadata": {},
   "outputs": [],
   "source": [
    "def gaps(reg):\n",
    "    ndc_estimate, reductions_i, costopt_i = data_mt(reg)\n",
    "\n",
    "    domestic = []\n",
    "    payabroad = []\n",
    "    receivepay = []\n",
    "    domoverspend = []\n",
    "    for i in range(3):\n",
    "        if reductions_i[i] < ndc_estimate:\n",
    "            if costopt_i > reductions_i[i]:\n",
    "                if costopt_i < ndc_estimate: # eg BRA ECPC\n",
    "                    domestic.append(costopt_i - ndc_estimate)\n",
    "                    payabroad.append(reductions_i[i] - costopt_i)\n",
    "                    receivepay.append(0)\n",
    "                    domoverspend.append(0)\n",
    "                else: # eg USA\n",
    "                    domestic.append(0)\n",
    "                    payabroad.append(reductions_i[i] - ndc_estimate)\n",
    "                    receivepay.append(0)\n",
    "                    domoverspend.append(ndc_estimate - costopt_i)\n",
    "            else:\n",
    "                if costopt_i < ndc_estimate: \n",
    "                    domestic.append(reductions_i[i] - ndc_estimate)\n",
    "                    payabroad.append(0)\n",
    "                    receivepay.append(costopt_i - reductions_i[i])\n",
    "                    domoverspend.append(0)\n",
    "                else:\n",
    "                    print('not possible!')\n",
    "        else:\n",
    "            if costopt_i > reductions_i[i]:\n",
    "                if costopt_i < ndc_estimate: \n",
    "                    print('not possible!')\n",
    "                else: # Rare, but possible I guess.\n",
    "                    domestic.append(0)\n",
    "                    payabroad.append(reductions_i[i] - costopt_i)\n",
    "                    receivepay.append(0)\n",
    "                    domoverspend.append(0)\n",
    "            else:\n",
    "                if costopt_i < ndc_estimate: \n",
    "                    domestic.append(0)\n",
    "                    payabroad.append(0)\n",
    "                    receivepay.append((costopt_i-ndc_estimate) + (ndc_estimate - reductions_i[i]))\n",
    "                    domoverspend.append(0)\n",
    "                else:\n",
    "                    domestic.append(0)\n",
    "                    payabroad.append(0)\n",
    "                    receivepay.append((ndc_estimate - reductions_i[i]))\n",
    "                    domoverspend.append(0)\n",
    "\n",
    "    return -np.array([domestic, receivepay, payabroad, domoverspend])"
   ]
  },
  {
   "cell_type": "code",
   "execution_count": 308,
   "metadata": {},
   "outputs": [],
   "source": [
    "c_dom = np.zeros(shape=(len(all_countries_iso), 3))\n",
    "c_rec = np.zeros(shape=(len(all_countries_iso), 3))\n",
    "c_pay = np.zeros(shape=(len(all_countries_iso), 3))\n",
    "c_spe = np.zeros(shape=(len(all_countries_iso), 3))\n",
    "\n",
    "for cty_i, cty in enumerate(all_countries_iso):\n",
    "    domestic, receivepay, payabroad, domoverspend = gaps(cty)\n",
    "    c_dom[cty_i] = domestic\n",
    "    c_rec[cty_i] = receivepay\n",
    "    c_pay[cty_i] = payabroad\n",
    "    c_spe[cty_i] = domoverspend"
   ]
  },
  {
   "cell_type": "code",
   "execution_count": 312,
   "metadata": {},
   "outputs": [
    {
     "data": {
      "text/plain": [
       "array([[-0., -0., -0.]])"
      ]
     },
     "execution_count": 312,
     "metadata": {},
     "output_type": "execute_result"
    }
   ],
   "source": [
    "c_spe[all_countries_iso == 'ZMB']"
   ]
  },
  {
   "cell_type": "code",
   "execution_count": 222,
   "metadata": {},
   "outputs": [
    {
     "data": {
      "text/plain": [
       "array([ 1108.88217826,   788.67254448, -2538.73965443])"
      ]
     },
     "execution_count": 222,
     "metadata": {},
     "output_type": "execute_result"
    }
   ],
   "source": [
    "(np.nansum(c_rec ,axis=0) - np.nansum(c_pay ,axis=0) - np.nansum(c_spe ,axis=0))"
   ]
  },
  {
   "cell_type": "code",
   "execution_count": 219,
   "metadata": {},
   "outputs": [
    {
     "data": {
      "text/html": [
       "<div><svg style=\"position: absolute; width: 0; height: 0; overflow: hidden\">\n",
       "<defs>\n",
       "<symbol id=\"icon-database\" viewBox=\"0 0 32 32\">\n",
       "<path d=\"M16 0c-8.837 0-16 2.239-16 5v4c0 2.761 7.163 5 16 5s16-2.239 16-5v-4c0-2.761-7.163-5-16-5z\"></path>\n",
       "<path d=\"M16 17c-8.837 0-16-2.239-16-5v6c0 2.761 7.163 5 16 5s16-2.239 16-5v-6c0 2.761-7.163 5-16 5z\"></path>\n",
       "<path d=\"M16 26c-8.837 0-16-2.239-16-5v6c0 2.761 7.163 5 16 5s16-2.239 16-5v-6c0 2.761-7.163 5-16 5z\"></path>\n",
       "</symbol>\n",
       "<symbol id=\"icon-file-text2\" viewBox=\"0 0 32 32\">\n",
       "<path d=\"M28.681 7.159c-0.694-0.947-1.662-2.053-2.724-3.116s-2.169-2.030-3.116-2.724c-1.612-1.182-2.393-1.319-2.841-1.319h-15.5c-1.378 0-2.5 1.121-2.5 2.5v27c0 1.378 1.122 2.5 2.5 2.5h23c1.378 0 2.5-1.122 2.5-2.5v-19.5c0-0.448-0.137-1.23-1.319-2.841zM24.543 5.457c0.959 0.959 1.712 1.825 2.268 2.543h-4.811v-4.811c0.718 0.556 1.584 1.309 2.543 2.268zM28 29.5c0 0.271-0.229 0.5-0.5 0.5h-23c-0.271 0-0.5-0.229-0.5-0.5v-27c0-0.271 0.229-0.5 0.5-0.5 0 0 15.499-0 15.5 0v7c0 0.552 0.448 1 1 1h7v19.5z\"></path>\n",
       "<path d=\"M23 26h-14c-0.552 0-1-0.448-1-1s0.448-1 1-1h14c0.552 0 1 0.448 1 1s-0.448 1-1 1z\"></path>\n",
       "<path d=\"M23 22h-14c-0.552 0-1-0.448-1-1s0.448-1 1-1h14c0.552 0 1 0.448 1 1s-0.448 1-1 1z\"></path>\n",
       "<path d=\"M23 18h-14c-0.552 0-1-0.448-1-1s0.448-1 1-1h14c0.552 0 1 0.448 1 1s-0.448 1-1 1z\"></path>\n",
       "</symbol>\n",
       "</defs>\n",
       "</svg>\n",
       "<style>/* CSS stylesheet for displaying xarray objects in jupyterlab.\n",
       " *\n",
       " */\n",
       "\n",
       ":root {\n",
       "  --xr-font-color0: var(--jp-content-font-color0, rgba(0, 0, 0, 1));\n",
       "  --xr-font-color2: var(--jp-content-font-color2, rgba(0, 0, 0, 0.54));\n",
       "  --xr-font-color3: var(--jp-content-font-color3, rgba(0, 0, 0, 0.38));\n",
       "  --xr-border-color: var(--jp-border-color2, #e0e0e0);\n",
       "  --xr-disabled-color: var(--jp-layout-color3, #bdbdbd);\n",
       "  --xr-background-color: var(--jp-layout-color0, white);\n",
       "  --xr-background-color-row-even: var(--jp-layout-color1, white);\n",
       "  --xr-background-color-row-odd: var(--jp-layout-color2, #eeeeee);\n",
       "}\n",
       "\n",
       "html[theme=dark],\n",
       "html[data-theme=dark],\n",
       "body[data-theme=dark],\n",
       "body.vscode-dark {\n",
       "  --xr-font-color0: rgba(255, 255, 255, 1);\n",
       "  --xr-font-color2: rgba(255, 255, 255, 0.54);\n",
       "  --xr-font-color3: rgba(255, 255, 255, 0.38);\n",
       "  --xr-border-color: #1F1F1F;\n",
       "  --xr-disabled-color: #515151;\n",
       "  --xr-background-color: #111111;\n",
       "  --xr-background-color-row-even: #111111;\n",
       "  --xr-background-color-row-odd: #313131;\n",
       "}\n",
       "\n",
       ".xr-wrap {\n",
       "  display: block !important;\n",
       "  min-width: 300px;\n",
       "  max-width: 700px;\n",
       "}\n",
       "\n",
       ".xr-text-repr-fallback {\n",
       "  /* fallback to plain text repr when CSS is not injected (untrusted notebook) */\n",
       "  display: none;\n",
       "}\n",
       "\n",
       ".xr-header {\n",
       "  padding-top: 6px;\n",
       "  padding-bottom: 6px;\n",
       "  margin-bottom: 4px;\n",
       "  border-bottom: solid 1px var(--xr-border-color);\n",
       "}\n",
       "\n",
       ".xr-header > div,\n",
       ".xr-header > ul {\n",
       "  display: inline;\n",
       "  margin-top: 0;\n",
       "  margin-bottom: 0;\n",
       "}\n",
       "\n",
       ".xr-obj-type,\n",
       ".xr-array-name {\n",
       "  margin-left: 2px;\n",
       "  margin-right: 10px;\n",
       "}\n",
       "\n",
       ".xr-obj-type {\n",
       "  color: var(--xr-font-color2);\n",
       "}\n",
       "\n",
       ".xr-sections {\n",
       "  padding-left: 0 !important;\n",
       "  display: grid;\n",
       "  grid-template-columns: 150px auto auto 1fr 20px 20px;\n",
       "}\n",
       "\n",
       ".xr-section-item {\n",
       "  display: contents;\n",
       "}\n",
       "\n",
       ".xr-section-item input {\n",
       "  display: none;\n",
       "}\n",
       "\n",
       ".xr-section-item input + label {\n",
       "  color: var(--xr-disabled-color);\n",
       "}\n",
       "\n",
       ".xr-section-item input:enabled + label {\n",
       "  cursor: pointer;\n",
       "  color: var(--xr-font-color2);\n",
       "}\n",
       "\n",
       ".xr-section-item input:enabled + label:hover {\n",
       "  color: var(--xr-font-color0);\n",
       "}\n",
       "\n",
       ".xr-section-summary {\n",
       "  grid-column: 1;\n",
       "  color: var(--xr-font-color2);\n",
       "  font-weight: 500;\n",
       "}\n",
       "\n",
       ".xr-section-summary > span {\n",
       "  display: inline-block;\n",
       "  padding-left: 0.5em;\n",
       "}\n",
       "\n",
       ".xr-section-summary-in:disabled + label {\n",
       "  color: var(--xr-font-color2);\n",
       "}\n",
       "\n",
       ".xr-section-summary-in + label:before {\n",
       "  display: inline-block;\n",
       "  content: '►';\n",
       "  font-size: 11px;\n",
       "  width: 15px;\n",
       "  text-align: center;\n",
       "}\n",
       "\n",
       ".xr-section-summary-in:disabled + label:before {\n",
       "  color: var(--xr-disabled-color);\n",
       "}\n",
       "\n",
       ".xr-section-summary-in:checked + label:before {\n",
       "  content: '▼';\n",
       "}\n",
       "\n",
       ".xr-section-summary-in:checked + label > span {\n",
       "  display: none;\n",
       "}\n",
       "\n",
       ".xr-section-summary,\n",
       ".xr-section-inline-details {\n",
       "  padding-top: 4px;\n",
       "  padding-bottom: 4px;\n",
       "}\n",
       "\n",
       ".xr-section-inline-details {\n",
       "  grid-column: 2 / -1;\n",
       "}\n",
       "\n",
       ".xr-section-details {\n",
       "  display: none;\n",
       "  grid-column: 1 / -1;\n",
       "  margin-bottom: 5px;\n",
       "}\n",
       "\n",
       ".xr-section-summary-in:checked ~ .xr-section-details {\n",
       "  display: contents;\n",
       "}\n",
       "\n",
       ".xr-array-wrap {\n",
       "  grid-column: 1 / -1;\n",
       "  display: grid;\n",
       "  grid-template-columns: 20px auto;\n",
       "}\n",
       "\n",
       ".xr-array-wrap > label {\n",
       "  grid-column: 1;\n",
       "  vertical-align: top;\n",
       "}\n",
       "\n",
       ".xr-preview {\n",
       "  color: var(--xr-font-color3);\n",
       "}\n",
       "\n",
       ".xr-array-preview,\n",
       ".xr-array-data {\n",
       "  padding: 0 5px !important;\n",
       "  grid-column: 2;\n",
       "}\n",
       "\n",
       ".xr-array-data,\n",
       ".xr-array-in:checked ~ .xr-array-preview {\n",
       "  display: none;\n",
       "}\n",
       "\n",
       ".xr-array-in:checked ~ .xr-array-data,\n",
       ".xr-array-preview {\n",
       "  display: inline-block;\n",
       "}\n",
       "\n",
       ".xr-dim-list {\n",
       "  display: inline-block !important;\n",
       "  list-style: none;\n",
       "  padding: 0 !important;\n",
       "  margin: 0;\n",
       "}\n",
       "\n",
       ".xr-dim-list li {\n",
       "  display: inline-block;\n",
       "  padding: 0;\n",
       "  margin: 0;\n",
       "}\n",
       "\n",
       ".xr-dim-list:before {\n",
       "  content: '(';\n",
       "}\n",
       "\n",
       ".xr-dim-list:after {\n",
       "  content: ')';\n",
       "}\n",
       "\n",
       ".xr-dim-list li:not(:last-child):after {\n",
       "  content: ',';\n",
       "  padding-right: 5px;\n",
       "}\n",
       "\n",
       ".xr-has-index {\n",
       "  font-weight: bold;\n",
       "}\n",
       "\n",
       ".xr-var-list,\n",
       ".xr-var-item {\n",
       "  display: contents;\n",
       "}\n",
       "\n",
       ".xr-var-item > div,\n",
       ".xr-var-item label,\n",
       ".xr-var-item > .xr-var-name span {\n",
       "  background-color: var(--xr-background-color-row-even);\n",
       "  margin-bottom: 0;\n",
       "}\n",
       "\n",
       ".xr-var-item > .xr-var-name:hover span {\n",
       "  padding-right: 5px;\n",
       "}\n",
       "\n",
       ".xr-var-list > li:nth-child(odd) > div,\n",
       ".xr-var-list > li:nth-child(odd) > label,\n",
       ".xr-var-list > li:nth-child(odd) > .xr-var-name span {\n",
       "  background-color: var(--xr-background-color-row-odd);\n",
       "}\n",
       "\n",
       ".xr-var-name {\n",
       "  grid-column: 1;\n",
       "}\n",
       "\n",
       ".xr-var-dims {\n",
       "  grid-column: 2;\n",
       "}\n",
       "\n",
       ".xr-var-dtype {\n",
       "  grid-column: 3;\n",
       "  text-align: right;\n",
       "  color: var(--xr-font-color2);\n",
       "}\n",
       "\n",
       ".xr-var-preview {\n",
       "  grid-column: 4;\n",
       "}\n",
       "\n",
       ".xr-index-preview {\n",
       "  grid-column: 2 / 5;\n",
       "  color: var(--xr-font-color2);\n",
       "}\n",
       "\n",
       ".xr-var-name,\n",
       ".xr-var-dims,\n",
       ".xr-var-dtype,\n",
       ".xr-preview,\n",
       ".xr-attrs dt {\n",
       "  white-space: nowrap;\n",
       "  overflow: hidden;\n",
       "  text-overflow: ellipsis;\n",
       "  padding-right: 10px;\n",
       "}\n",
       "\n",
       ".xr-var-name:hover,\n",
       ".xr-var-dims:hover,\n",
       ".xr-var-dtype:hover,\n",
       ".xr-attrs dt:hover {\n",
       "  overflow: visible;\n",
       "  width: auto;\n",
       "  z-index: 1;\n",
       "}\n",
       "\n",
       ".xr-var-attrs,\n",
       ".xr-var-data,\n",
       ".xr-index-data {\n",
       "  display: none;\n",
       "  background-color: var(--xr-background-color) !important;\n",
       "  padding-bottom: 5px !important;\n",
       "}\n",
       "\n",
       ".xr-var-attrs-in:checked ~ .xr-var-attrs,\n",
       ".xr-var-data-in:checked ~ .xr-var-data,\n",
       ".xr-index-data-in:checked ~ .xr-index-data {\n",
       "  display: block;\n",
       "}\n",
       "\n",
       ".xr-var-data > table {\n",
       "  float: right;\n",
       "}\n",
       "\n",
       ".xr-var-name span,\n",
       ".xr-var-data,\n",
       ".xr-index-name div,\n",
       ".xr-index-data,\n",
       ".xr-attrs {\n",
       "  padding-left: 25px !important;\n",
       "}\n",
       "\n",
       ".xr-attrs,\n",
       ".xr-var-attrs,\n",
       ".xr-var-data,\n",
       ".xr-index-data {\n",
       "  grid-column: 1 / -1;\n",
       "}\n",
       "\n",
       "dl.xr-attrs {\n",
       "  padding: 0;\n",
       "  margin: 0;\n",
       "  display: grid;\n",
       "  grid-template-columns: 125px auto;\n",
       "}\n",
       "\n",
       ".xr-attrs dt,\n",
       ".xr-attrs dd {\n",
       "  padding: 0;\n",
       "  margin: 0;\n",
       "  float: left;\n",
       "  padding-right: 10px;\n",
       "  width: auto;\n",
       "}\n",
       "\n",
       ".xr-attrs dt {\n",
       "  font-weight: normal;\n",
       "  grid-column: 1;\n",
       "}\n",
       "\n",
       ".xr-attrs dt:hover span {\n",
       "  display: inline-block;\n",
       "  background: var(--xr-background-color);\n",
       "  padding-right: 10px;\n",
       "}\n",
       "\n",
       ".xr-attrs dd {\n",
       "  grid-column: 2;\n",
       "  white-space: pre-wrap;\n",
       "  word-break: break-all;\n",
       "}\n",
       "\n",
       ".xr-icon-database,\n",
       ".xr-icon-file-text2,\n",
       ".xr-no-icon {\n",
       "  display: inline-block;\n",
       "  vertical-align: middle;\n",
       "  width: 1em;\n",
       "  height: 1.5em !important;\n",
       "  stroke-width: 0;\n",
       "  stroke: currentColor;\n",
       "  fill: currentColor;\n",
       "}\n",
       "</style><pre class='xr-text-repr-fallback'>&lt;xarray.DataArray ()&gt; Size: 8B\n",
       "array(-122.79022703)\n",
       "Coordinates:\n",
       "    Scenario              &lt;U4 16B &#x27;SSP2&#x27;\n",
       "    Temperature           float64 8B 1.6\n",
       "    Risk                  float64 8B 0.5\n",
       "    NonCO2red             float64 8B 0.5\n",
       "    NegEmis               float64 8B 0.5\n",
       "    Timing                &lt;U9 36B &#x27;Immediate&#x27;\n",
       "    Convergence_year      int32 4B 2050\n",
       "    Discount_factor       float64 8B 0.0\n",
       "    Historical_startyear  int64 8B 1990\n",
       "    Time                  int32 4B 2030\n",
       "    Variable              &lt;U21 84B &#x27;Emissions|Kyoto Gases&#x27;</pre><div class='xr-wrap' style='display:none'><div class='xr-header'><div class='xr-obj-type'>xarray.DataArray</div><div class='xr-array-name'></div></div><ul class='xr-sections'><li class='xr-section-item'><div class='xr-array-wrap'><input id='section-eab915f8-8bf6-48fd-82a1-e4de2eac8126' class='xr-array-in' type='checkbox' checked><label for='section-eab915f8-8bf6-48fd-82a1-e4de2eac8126' title='Show/hide data repr'><svg class='icon xr-icon-database'><use xlink:href='#icon-database'></use></svg></label><div class='xr-array-preview xr-preview'><span>-122.8</span></div><div class='xr-array-data'><pre>array(-122.79022703)</pre></div></div></li><li class='xr-section-item'><input id='section-7e13313e-71da-4379-83e9-8de3774adce0' class='xr-section-summary-in' type='checkbox'  checked><label for='section-7e13313e-71da-4379-83e9-8de3774adce0' class='xr-section-summary' >Coordinates: <span>(11)</span></label><div class='xr-section-inline-details'></div><div class='xr-section-details'><ul class='xr-var-list'><li class='xr-var-item'><div class='xr-var-name'><span>Scenario</span></div><div class='xr-var-dims'>()</div><div class='xr-var-dtype'>&lt;U4</div><div class='xr-var-preview xr-preview'>&#x27;SSP2&#x27;</div><input id='attrs-f68a24f5-4684-49e6-80a7-4094b7f4b004' class='xr-var-attrs-in' type='checkbox' disabled><label for='attrs-f68a24f5-4684-49e6-80a7-4094b7f4b004' title='Show/Hide attributes'><svg class='icon xr-icon-file-text2'><use xlink:href='#icon-file-text2'></use></svg></label><input id='data-fc0f08df-ba74-4c60-a38f-6e3adb0a661b' class='xr-var-data-in' type='checkbox'><label for='data-fc0f08df-ba74-4c60-a38f-6e3adb0a661b' title='Show/Hide data repr'><svg class='icon xr-icon-database'><use xlink:href='#icon-database'></use></svg></label><div class='xr-var-attrs'><dl class='xr-attrs'></dl></div><div class='xr-var-data'><pre>array(&#x27;SSP2&#x27;, dtype=&#x27;&lt;U4&#x27;)</pre></div></li><li class='xr-var-item'><div class='xr-var-name'><span>Temperature</span></div><div class='xr-var-dims'>()</div><div class='xr-var-dtype'>float64</div><div class='xr-var-preview xr-preview'>1.6</div><input id='attrs-92ca93f5-7568-4e50-b65e-b3479adba0d9' class='xr-var-attrs-in' type='checkbox' disabled><label for='attrs-92ca93f5-7568-4e50-b65e-b3479adba0d9' title='Show/Hide attributes'><svg class='icon xr-icon-file-text2'><use xlink:href='#icon-file-text2'></use></svg></label><input id='data-dcfbe7bb-8cb2-4bb9-834e-e5a2aec26071' class='xr-var-data-in' type='checkbox'><label for='data-dcfbe7bb-8cb2-4bb9-834e-e5a2aec26071' title='Show/Hide data repr'><svg class='icon xr-icon-database'><use xlink:href='#icon-database'></use></svg></label><div class='xr-var-attrs'><dl class='xr-attrs'></dl></div><div class='xr-var-data'><pre>array(1.6)</pre></div></li><li class='xr-var-item'><div class='xr-var-name'><span>Risk</span></div><div class='xr-var-dims'>()</div><div class='xr-var-dtype'>float64</div><div class='xr-var-preview xr-preview'>0.5</div><input id='attrs-d1daa899-884c-4d1d-9a4b-932ee99329c9' class='xr-var-attrs-in' type='checkbox' disabled><label for='attrs-d1daa899-884c-4d1d-9a4b-932ee99329c9' title='Show/Hide attributes'><svg class='icon xr-icon-file-text2'><use xlink:href='#icon-file-text2'></use></svg></label><input id='data-365e1936-09da-4ce0-8b17-c05956dc8c77' class='xr-var-data-in' type='checkbox'><label for='data-365e1936-09da-4ce0-8b17-c05956dc8c77' title='Show/Hide data repr'><svg class='icon xr-icon-database'><use xlink:href='#icon-database'></use></svg></label><div class='xr-var-attrs'><dl class='xr-attrs'></dl></div><div class='xr-var-data'><pre>array(0.5)</pre></div></li><li class='xr-var-item'><div class='xr-var-name'><span>NonCO2red</span></div><div class='xr-var-dims'>()</div><div class='xr-var-dtype'>float64</div><div class='xr-var-preview xr-preview'>0.5</div><input id='attrs-91edf970-12c2-433c-8b18-4758198ea179' class='xr-var-attrs-in' type='checkbox' disabled><label for='attrs-91edf970-12c2-433c-8b18-4758198ea179' title='Show/Hide attributes'><svg class='icon xr-icon-file-text2'><use xlink:href='#icon-file-text2'></use></svg></label><input id='data-4b3ef9df-9b68-44a4-9b4f-7493df4eb2c5' class='xr-var-data-in' type='checkbox'><label for='data-4b3ef9df-9b68-44a4-9b4f-7493df4eb2c5' title='Show/Hide data repr'><svg class='icon xr-icon-database'><use xlink:href='#icon-database'></use></svg></label><div class='xr-var-attrs'><dl class='xr-attrs'></dl></div><div class='xr-var-data'><pre>array(0.5)</pre></div></li><li class='xr-var-item'><div class='xr-var-name'><span>NegEmis</span></div><div class='xr-var-dims'>()</div><div class='xr-var-dtype'>float64</div><div class='xr-var-preview xr-preview'>0.5</div><input id='attrs-be4372c1-e2ac-435f-89b3-59c41970bbdf' class='xr-var-attrs-in' type='checkbox' disabled><label for='attrs-be4372c1-e2ac-435f-89b3-59c41970bbdf' title='Show/Hide attributes'><svg class='icon xr-icon-file-text2'><use xlink:href='#icon-file-text2'></use></svg></label><input id='data-37251bc3-6583-4479-97a7-c86b28b39750' class='xr-var-data-in' type='checkbox'><label for='data-37251bc3-6583-4479-97a7-c86b28b39750' title='Show/Hide data repr'><svg class='icon xr-icon-database'><use xlink:href='#icon-database'></use></svg></label><div class='xr-var-attrs'><dl class='xr-attrs'></dl></div><div class='xr-var-data'><pre>array(0.5)</pre></div></li><li class='xr-var-item'><div class='xr-var-name'><span>Timing</span></div><div class='xr-var-dims'>()</div><div class='xr-var-dtype'>&lt;U9</div><div class='xr-var-preview xr-preview'>&#x27;Immediate&#x27;</div><input id='attrs-59571d16-39f6-464e-872a-ca5459a207b3' class='xr-var-attrs-in' type='checkbox' disabled><label for='attrs-59571d16-39f6-464e-872a-ca5459a207b3' title='Show/Hide attributes'><svg class='icon xr-icon-file-text2'><use xlink:href='#icon-file-text2'></use></svg></label><input id='data-46b28391-ac63-481c-a862-e2da873394d0' class='xr-var-data-in' type='checkbox'><label for='data-46b28391-ac63-481c-a862-e2da873394d0' title='Show/Hide data repr'><svg class='icon xr-icon-database'><use xlink:href='#icon-database'></use></svg></label><div class='xr-var-attrs'><dl class='xr-attrs'></dl></div><div class='xr-var-data'><pre>array(&#x27;Immediate&#x27;, dtype=&#x27;&lt;U9&#x27;)</pre></div></li><li class='xr-var-item'><div class='xr-var-name'><span>Convergence_year</span></div><div class='xr-var-dims'>()</div><div class='xr-var-dtype'>int32</div><div class='xr-var-preview xr-preview'>2050</div><input id='attrs-259994b3-c332-4d86-9c2b-b112ea94c185' class='xr-var-attrs-in' type='checkbox' disabled><label for='attrs-259994b3-c332-4d86-9c2b-b112ea94c185' title='Show/Hide attributes'><svg class='icon xr-icon-file-text2'><use xlink:href='#icon-file-text2'></use></svg></label><input id='data-c8b1fa59-f8bb-4ce6-bd20-ae2a044482d8' class='xr-var-data-in' type='checkbox'><label for='data-c8b1fa59-f8bb-4ce6-bd20-ae2a044482d8' title='Show/Hide data repr'><svg class='icon xr-icon-database'><use xlink:href='#icon-database'></use></svg></label><div class='xr-var-attrs'><dl class='xr-attrs'></dl></div><div class='xr-var-data'><pre>array(2050)</pre></div></li><li class='xr-var-item'><div class='xr-var-name'><span>Discount_factor</span></div><div class='xr-var-dims'>()</div><div class='xr-var-dtype'>float64</div><div class='xr-var-preview xr-preview'>0.0</div><input id='attrs-136e2668-2ad4-4d36-a1f4-4950483a9cb0' class='xr-var-attrs-in' type='checkbox' disabled><label for='attrs-136e2668-2ad4-4d36-a1f4-4950483a9cb0' title='Show/Hide attributes'><svg class='icon xr-icon-file-text2'><use xlink:href='#icon-file-text2'></use></svg></label><input id='data-b257cff2-e6d7-444a-85e2-058f1f071e49' class='xr-var-data-in' type='checkbox'><label for='data-b257cff2-e6d7-444a-85e2-058f1f071e49' title='Show/Hide data repr'><svg class='icon xr-icon-database'><use xlink:href='#icon-database'></use></svg></label><div class='xr-var-attrs'><dl class='xr-attrs'></dl></div><div class='xr-var-data'><pre>array(0.)</pre></div></li><li class='xr-var-item'><div class='xr-var-name'><span>Historical_startyear</span></div><div class='xr-var-dims'>()</div><div class='xr-var-dtype'>int64</div><div class='xr-var-preview xr-preview'>1990</div><input id='attrs-ca994144-5add-412d-8270-6c70a65a4284' class='xr-var-attrs-in' type='checkbox' disabled><label for='attrs-ca994144-5add-412d-8270-6c70a65a4284' title='Show/Hide attributes'><svg class='icon xr-icon-file-text2'><use xlink:href='#icon-file-text2'></use></svg></label><input id='data-d198b6ce-cdae-402d-a264-07080e5a1d81' class='xr-var-data-in' type='checkbox'><label for='data-d198b6ce-cdae-402d-a264-07080e5a1d81' title='Show/Hide data repr'><svg class='icon xr-icon-database'><use xlink:href='#icon-database'></use></svg></label><div class='xr-var-attrs'><dl class='xr-attrs'></dl></div><div class='xr-var-data'><pre>array(1990, dtype=int64)</pre></div></li><li class='xr-var-item'><div class='xr-var-name'><span>Time</span></div><div class='xr-var-dims'>()</div><div class='xr-var-dtype'>int32</div><div class='xr-var-preview xr-preview'>2030</div><input id='attrs-3e39bfef-9d83-42ff-8dbf-a6d905771168' class='xr-var-attrs-in' type='checkbox' disabled><label for='attrs-3e39bfef-9d83-42ff-8dbf-a6d905771168' title='Show/Hide attributes'><svg class='icon xr-icon-file-text2'><use xlink:href='#icon-file-text2'></use></svg></label><input id='data-64ed96a4-078a-4c73-8acd-e07eca201dd1' class='xr-var-data-in' type='checkbox'><label for='data-64ed96a4-078a-4c73-8acd-e07eca201dd1' title='Show/Hide data repr'><svg class='icon xr-icon-database'><use xlink:href='#icon-database'></use></svg></label><div class='xr-var-attrs'><dl class='xr-attrs'></dl></div><div class='xr-var-data'><pre>array(2030)</pre></div></li><li class='xr-var-item'><div class='xr-var-name'><span>Variable</span></div><div class='xr-var-dims'>()</div><div class='xr-var-dtype'>&lt;U21</div><div class='xr-var-preview xr-preview'>&#x27;Emissions|Kyoto Gases&#x27;</div><input id='attrs-9e4d2959-5f50-4091-af8c-8b228f9ba7ad' class='xr-var-attrs-in' type='checkbox' disabled><label for='attrs-9e4d2959-5f50-4091-af8c-8b228f9ba7ad' title='Show/Hide attributes'><svg class='icon xr-icon-file-text2'><use xlink:href='#icon-file-text2'></use></svg></label><input id='data-2ef3df6a-7ee3-4458-a53e-add4ff785155' class='xr-var-data-in' type='checkbox'><label for='data-2ef3df6a-7ee3-4458-a53e-add4ff785155' title='Show/Hide data repr'><svg class='icon xr-icon-database'><use xlink:href='#icon-database'></use></svg></label><div class='xr-var-attrs'><dl class='xr-attrs'></dl></div><div class='xr-var-data'><pre>array(&#x27;Emissions|Kyoto Gases&#x27;, dtype=&#x27;&lt;U21&#x27;)</pre></div></li></ul></div></li><li class='xr-section-item'><input id='section-62e5fcc5-0663-4458-9f68-8f7c935a0b3d' class='xr-section-summary-in' type='checkbox' disabled ><label for='section-62e5fcc5-0663-4458-9f68-8f7c935a0b3d' class='xr-section-summary'  title='Expand/collapse section'>Indexes: <span>(0)</span></label><div class='xr-section-inline-details'></div><div class='xr-section-details'><ul class='xr-var-list'></ul></div></li><li class='xr-section-item'><input id='section-31316a21-4e06-4029-8c9a-a45c189f3002' class='xr-section-summary-in' type='checkbox' disabled ><label for='section-31316a21-4e06-4029-8c9a-a45c189f3002' class='xr-section-summary'  title='Expand/collapse section'>Attributes: <span>(0)</span></label><div class='xr-section-inline-details'></div><div class='xr-section-details'><dl class='xr-attrs'></dl></div></li></ul></div></div>"
      ],
      "text/plain": [
       "<xarray.DataArray ()> Size: 8B\n",
       "array(-122.79022703)\n",
       "Coordinates:\n",
       "    Scenario              <U4 16B 'SSP2'\n",
       "    Temperature           float64 8B 1.6\n",
       "    Risk                  float64 8B 0.5\n",
       "    NonCO2red             float64 8B 0.5\n",
       "    NegEmis               float64 8B 0.5\n",
       "    Timing                <U9 36B 'Immediate'\n",
       "    Convergence_year      int32 4B 2050\n",
       "    Discount_factor       float64 8B 0.0\n",
       "    Historical_startyear  int64 8B 1990\n",
       "    Time                  int32 4B 2030\n",
       "    Variable              <U21 84B 'Emissions|Kyoto Gases'"
      ]
     },
     "execution_count": 219,
     "metadata": {},
     "output_type": "execute_result"
    }
   ],
   "source": [
    "ndc_cts = ndc_est_mt.sel(Region=all_countries_iso).Region[np.where(ndc_est_mt.sel(Region=all_countries_iso) > -1e9)]\n",
    "red_mt.PCC.sel(Region=ndc_cts).sum()-costopt_mt.sel(Region=ndc_cts).sum()"
   ]
  },
  {
   "cell_type": "markdown",
   "metadata": {},
   "source": [
    "## Finance plot"
   ]
  },
  {
   "cell_type": "code",
   "execution_count": 173,
   "metadata": {},
   "outputs": [],
   "source": [
    "dx = 0.03\n",
    "opac = 0.5\n",
    "def areas(fig, ndc_estimate, reductions_i, costopt_i, row, col, yref=1):\n",
    "    for i in range(3):\n",
    "        ymin = yref + -wd*0.3 + [-wd*0.7, 0, wd*0.7][i]\n",
    "        ymax = yref + wd*0.3+ [-wd*0.7, 0, wd*0.7][i]\n",
    "        if reductions_i[i] > ndc_estimate:\n",
    "            if costopt_i < reductions_i[i] and costopt_i > ndc_estimate:\n",
    "                fig.add_shape(\n",
    "                    row = row, col=col,\n",
    "                    type='rect',  # Draw a rectangle\n",
    "                    x0=ndc_estimate+dx, x1=costopt_i-dx,  # The range of the box (between min and max values)\n",
    "                    y0=ymin, y1=ymax,  # Position the box on the y-axis (with some vertical padding)\n",
    "                    line=dict(color='black', width=0),  # Border color and width of the box\n",
    "                    name='Increase domestic ambition',\n",
    "                    showlegend=False,\n",
    "                    opacity = opac,\n",
    "                    legendgroup=3,\n",
    "                    fillcolor='grey',  # Transparent fill color (adjust alpha for transparency)\n",
    "                )\n",
    "            elif costopt_i > reductions_i[i]:\n",
    "                fig.add_shape(\n",
    "                    row = row, col=col,\n",
    "                    type='rect',  # Draw a rectangle\n",
    "                    x0=ndc_estimate+dx, x1=reductions_i[i]-dx,  # The range of the box (between min and max values)\n",
    "                    y0=ymin, y1=ymax,  # Position the box on the y-axis (with some vertical padding)\n",
    "                    line=dict(color='black', width=0),  # Border color and width of the box\n",
    "                    opacity = opac,\n",
    "                    fillcolor='grey',  # Transparent fill color (adjust alpha for transparency)\n",
    "                )\n",
    "                fig.add_shape(\n",
    "                    row = row, col=col,\n",
    "                    type='rect',  # Draw a rectangle\n",
    "                    x0=reductions_i[i]+dx, x1=costopt_i-dx,  # The range of the box (between min and max values)\n",
    "                    y0=ymin, y1=ymax,  # Position the box on the y-axis (with some vertical padding)\n",
    "                    line=dict(color='black', width=0),  # Border color and width of the box\n",
    "                    opacity = opac,\n",
    "                    fillcolor='forestgreen',  # Transparent fill color (adjust alpha for transparency)\n",
    "                )\n",
    "            elif costopt_i < ndc_estimate:\n",
    "                fig.add_shape(\n",
    "                    row = row, col=col,\n",
    "                    type='rect',  # Draw a rectangle\n",
    "                    x0=costopt_i+dx, x1=ndc_estimate-dx,  # The range of the box (between min and max values)\n",
    "                    y0=ymin, y1=ymax,  # Position the box on the y-axis (with some vertical padding)\n",
    "                    line=dict(color='black', width=0),  # Border color and width of the box\n",
    "                    opacity = opac,\n",
    "                    fillcolor='rosybrown',  # Transparent fill color (adjust alpha for transparency)\n",
    "                )\n",
    "        # Pay abroad\n",
    "        if reductions_i[i] > ndc_estimate:\n",
    "            if costopt_i < ndc_estimate:\n",
    "                fig.add_shape(\n",
    "                    row = row, col=col,\n",
    "                    type='rect',  # Draw a rectangle\n",
    "                    x0=ndc_estimate+dx, x1=reductions_i[i]-dx,  # The range of the box (between min and max values)\n",
    "                    y0=ymin, y1=ymax,  # Position the box on the y-axis (with some vertical padding)\n",
    "                    line=dict(color='black', width=0),  # Border color and width of the box\n",
    "                    name='Pay for mitigation abroad',\n",
    "                    showlegend=False,\n",
    "                    opacity = opac,\n",
    "                    legendgroup=3,\n",
    "                    fillcolor='tomato',  # Transparent fill color (adjust alpha for transparency)\n",
    "                )\n",
    "            elif costopt_i < reductions_i[i]:\n",
    "                fig.add_shape(\n",
    "                    row = row, col=col,\n",
    "                    type='rect',  # Draw a rectangle\n",
    "                    x0=costopt_i+dx, x1=reductions_i[i]-dx,  # The range of the box (between min and max values)\n",
    "                    y0=ymin, y1=ymax,  # Position the box on the y-axis (with some vertical padding)\n",
    "                    line=dict(color='black', width=0),  # Border color and width of the box\n",
    "                    opacity = opac,\n",
    "                    fillcolor='tomato',  # Transparent fill color (adjust alpha for transparency)\n",
    "                )\n",
    "        # Receive from abroad\n",
    "        if reductions_i[i] < ndc_estimate:\n",
    "            fig.add_shape(\n",
    "                row = row, col=col,\n",
    "                type='rect',  # Draw a rectangle\n",
    "                x0=reductions_i[i]+dx, x1=ndc_estimate-dx,  # The range of the box (between min and max values)\n",
    "                y0=ymin, y1=ymax,  # Position the box on the y-axis (with some vertical padding)\n",
    "                line=dict(color='black', width=0),  # Border color and width of the box\n",
    "                name='Receive mitigation payment from abroad',\n",
    "                showlegend=False,\n",
    "                    opacity = opac,\n",
    "                legendgroup=3,\n",
    "                fillcolor='forestgreen',  # Transparent fill color (adjust alpha for transparency)\n",
    "            )\n",
    "            fig.add_shape(\n",
    "                row = row, col=col,\n",
    "                type='rect',  # Draw a rectangle\n",
    "                x0=ndc_estimate+dx, x1=costopt_i-dx,  # The range of the box (between min and max values)\n",
    "                y0=ymin, y1=ymax,  # Position the box on the y-axis (with some vertical padding)\n",
    "                line=dict(color='black', width=0),  # Border color and width of the box\n",
    "                name='Receive mitigation payment from abroad',\n",
    "                showlegend=False,\n",
    "                opacity = opac,\n",
    "                legendgroup=3,\n",
    "                fillcolor='forestgreen',  # Transparent fill color (adjust alpha for transparency)\n",
    "            )"
   ]
  },
  {
   "cell_type": "code",
   "execution_count": 174,
   "metadata": {},
   "outputs": [
    {
     "data": {
      "application/vnd.plotly.v1+json": {
       "config": {
        "plotlyServerURL": "https://plot.ly"
       },
       "data": [],
       "layout": {
        "annotations": [
         {
          "font": {
           "color": "black",
           "size": 18
          },
          "showarrow": false,
          "text": "<b>NDC",
          "x": 0.05,
          "xref": "paper",
          "y": 1.08,
          "yref": "paper"
         },
         {
          "font": {
           "color": "saddlebrown",
           "size": 18
          },
          "showarrow": false,
          "text": "<b>Cost<br>optimal",
          "x": 0.17,
          "xref": "paper",
          "y": 1.1,
          "yref": "paper"
         },
         {
          "font": {
           "color": "black",
           "size": 18
          },
          "showarrow": false,
          "text": "<b>Fair targets<br>according to<br><span style='color: purple;'>ECPC</span>, <span style='color: goldenrod;'>AP</span> and <span style='color: steelblue;'>PCC</span>",
          "x": 0.45,
          "xref": "paper",
          "y": 1.1,
          "yref": "paper"
         },
         {
          "align": "left",
          "font": {
           "color": "black",
           "size": 16
          },
          "showarrow": false,
          "text": "<b>Example<br>country",
          "x": -0.05,
          "xref": "paper",
          "y": 0.94,
          "yref": "paper"
         },
         {
          "align": "center",
          "font": {
           "color": "grey",
           "size": 18
          },
          "showarrow": false,
          "text": "<b>Fund<br>domestic<br>mitigation",
          "x": 0.76,
          "xref": "paper",
          "y": 1.1,
          "yref": "paper"
         },
         {
          "align": "center",
          "font": {
           "color": "forestgreen",
           "size": 18
          },
          "showarrow": false,
          "text": "<b>Receive<br>finance",
          "x": 0.88,
          "xref": "paper",
          "y": 1.1,
          "yref": "paper"
         },
         {
          "align": "center",
          "font": {
           "color": "tomato",
           "size": 18
          },
          "showarrow": false,
          "text": "<b>Provide<br>finance",
          "x": 1.01,
          "xref": "paper",
          "y": 1.1,
          "yref": "paper"
         },
         {
          "align": "center",
          "font": {
           "color": "grey",
           "size": 15
          },
          "showarrow": false,
          "text": "(Gt CO<sub>2</sub>e)",
          "x": 0.75,
          "xref": "paper",
          "y": 1.01,
          "yref": "paper"
         },
         {
          "align": "center",
          "font": {
           "color": "forestgreen",
           "size": 15
          },
          "showarrow": false,
          "text": "(Gt CO<sub>2</sub>e)",
          "x": 0.88,
          "xref": "paper",
          "y": 1.01,
          "yref": "paper"
         },
         {
          "align": "center",
          "font": {
           "color": "tomato",
           "size": 15
          },
          "showarrow": false,
          "text": "(Gt CO<sub>2</sub>e)",
          "x": 1.01,
          "xref": "paper",
          "y": 1.01,
          "yref": "paper"
         },
         {
          "font": {
           "color": "black",
           "size": 15
          },
          "showarrow": false,
          "text": "Emissions reductions by 2030 w.r.t. 2015",
          "x": 0.25,
          "xanchor": "center",
          "xref": "paper",
          "y": -0.08,
          "yref": "paper"
         },
         {
          "font": {
           "color": "grey",
           "size": 17
          },
          "showarrow": false,
          "text": "1.0",
          "x": 0.1,
          "xref": "x3",
          "y": 0.8,
          "yref": "y3"
         },
         {
          "font": {
           "color": "grey",
           "size": 17
          },
          "showarrow": false,
          "text": "0.5",
          "x": 0.1,
          "xref": "x3",
          "y": 0.5,
          "yref": "y3"
         },
         {
          "font": {
           "color": "grey",
           "size": 17
          },
          "showarrow": false,
          "text": "0",
          "x": 0.1,
          "xref": "x3",
          "y": 0.2,
          "yref": "y3"
         },
         {
          "font": {
           "color": "forestgreen",
           "size": 17
          },
          "showarrow": false,
          "text": "0",
          "x": 0.5,
          "xref": "x3",
          "y": 0.8,
          "yref": "y3"
         },
         {
          "font": {
           "color": "forestgreen",
           "size": 17
          },
          "showarrow": false,
          "text": "0.5",
          "x": 0.5,
          "xref": "x3",
          "y": 0.5,
          "yref": "y3"
         },
         {
          "font": {
           "color": "forestgreen",
           "size": 17
          },
          "showarrow": false,
          "text": "1.0",
          "x": 0.5,
          "xref": "x3",
          "y": 0.2,
          "yref": "y3"
         },
         {
          "font": {
           "color": "tomato",
           "size": 17
          },
          "showarrow": false,
          "text": "4.0",
          "x": 0.9,
          "xref": "x3",
          "y": 0.8,
          "yref": "y3"
         },
         {
          "font": {
           "color": "tomato",
           "size": 17
          },
          "showarrow": false,
          "text": "0",
          "x": 0.9,
          "xref": "x3",
          "y": 0.5,
          "yref": "y3"
         },
         {
          "font": {
           "color": "tomato",
           "size": 17
          },
          "showarrow": false,
          "text": "0",
          "x": 0.9,
          "xref": "x3",
          "y": 0.2,
          "yref": "y3"
         },
         {
          "align": "left",
          "font": {
           "color": "black",
           "size": 16
          },
          "showarrow": false,
          "text": "Nigeria",
          "x": -0.05,
          "xref": "paper",
          "y": 0,
          "yref": "y4"
         },
         {
          "font": {
           "color": "grey",
           "size": 17
          },
          "showarrow": false,
          "text": "0",
          "x": 0.1,
          "xref": "x6",
          "y": 0,
          "yref": "y6"
         },
         {
          "font": {
           "color": "forestgreen",
           "size": 17
          },
          "showarrow": false,
          "text": "0.2-2.1",
          "x": 0.5,
          "xref": "x6",
          "y": 0,
          "yref": "y6"
         },
         {
          "font": {
           "color": "tomato",
           "size": 17
          },
          "showarrow": false,
          "text": "0",
          "x": 0.9,
          "xref": "x6",
          "y": 0,
          "yref": "y6"
         },
         {
          "align": "left",
          "font": {
           "color": "black",
           "size": 16
          },
          "showarrow": false,
          "text": "India",
          "x": -0.05,
          "xref": "paper",
          "y": 1.25,
          "yref": "y4"
         },
         {
          "font": {
           "color": "grey",
           "size": 17
          },
          "showarrow": false,
          "text": "0.0-2.5",
          "x": 0.1,
          "xref": "x6",
          "y": 1.25,
          "yref": "y6"
         },
         {
          "font": {
           "color": "forestgreen",
           "size": 17
          },
          "showarrow": false,
          "text": "0.1-15.3",
          "x": 0.5,
          "xref": "x6",
          "y": 1.25,
          "yref": "y6"
         },
         {
          "font": {
           "color": "tomato",
           "size": 17
          },
          "showarrow": false,
          "text": "0",
          "x": 0.9,
          "xref": "x6",
          "y": 1.25,
          "yref": "y6"
         },
         {
          "align": "left",
          "font": {
           "color": "black",
           "size": 16
          },
          "showarrow": false,
          "text": "China",
          "x": -0.05,
          "xref": "paper",
          "y": 2.5,
          "yref": "y4"
         },
         {
          "font": {
           "color": "grey",
           "size": 17
          },
          "showarrow": false,
          "text": "5.2-6.5",
          "x": 0.1,
          "xref": "x6",
          "y": 2.5,
          "yref": "y6"
         },
         {
          "font": {
           "color": "forestgreen",
           "size": 17
          },
          "showarrow": false,
          "text": "0.0-1.3",
          "x": 0.5,
          "xref": "x6",
          "y": 2.5,
          "yref": "y6"
         },
         {
          "font": {
           "color": "tomato",
           "size": 17
          },
          "showarrow": false,
          "text": "0.0-0.4",
          "x": 0.9,
          "xref": "x6",
          "y": 2.5,
          "yref": "y6"
         },
         {
          "align": "left",
          "font": {
           "color": "black",
           "size": 16
          },
          "showarrow": false,
          "text": "Mexico",
          "x": -0.05,
          "xref": "paper",
          "y": 3.75,
          "yref": "y4"
         },
         {
          "font": {
           "color": "grey",
           "size": 17
          },
          "showarrow": false,
          "text": "0.4-0.5",
          "x": 0.1,
          "xref": "x6",
          "y": 3.75,
          "yref": "y6"
         },
         {
          "font": {
           "color": "forestgreen",
           "size": 17
          },
          "showarrow": false,
          "text": "0.0-0.1",
          "x": 0.5,
          "xref": "x6",
          "y": 3.75,
          "yref": "y6"
         },
         {
          "font": {
           "color": "tomato",
           "size": 17
          },
          "showarrow": false,
          "text": "0",
          "x": 0.9,
          "xref": "x6",
          "y": 3.75,
          "yref": "y6"
         },
         {
          "align": "left",
          "font": {
           "color": "black",
           "size": 16
          },
          "showarrow": false,
          "text": "Indonesia",
          "x": -0.05,
          "xref": "paper",
          "y": 5,
          "yref": "y4"
         },
         {
          "font": {
           "color": "grey",
           "size": 17
          },
          "showarrow": false,
          "text": "0.1-0.6",
          "x": 0.1,
          "xref": "x6",
          "y": 5,
          "yref": "y6"
         },
         {
          "font": {
           "color": "forestgreen",
           "size": 17
          },
          "showarrow": false,
          "text": "0.0-0.5",
          "x": 0.5,
          "xref": "x6",
          "y": 5,
          "yref": "y6"
         },
         {
          "font": {
           "color": "tomato",
           "size": 17
          },
          "showarrow": false,
          "text": "0.0-0.3",
          "x": 0.9,
          "xref": "x6",
          "y": 5,
          "yref": "y6"
         },
         {
          "align": "left",
          "font": {
           "color": "black",
           "size": 16
          },
          "showarrow": false,
          "text": "South<br>Africa",
          "x": -0.05,
          "xref": "paper",
          "y": 6.25,
          "yref": "y4"
         },
         {
          "font": {
           "color": "grey",
           "size": 17
          },
          "showarrow": false,
          "text": "0.1-0.2",
          "x": 0.1,
          "xref": "x6",
          "y": 6.25,
          "yref": "y6"
         },
         {
          "font": {
           "color": "forestgreen",
           "size": 17
          },
          "showarrow": false,
          "text": "0.0-0.1",
          "x": 0.5,
          "xref": "x6",
          "y": 6.25,
          "yref": "y6"
         },
         {
          "font": {
           "color": "tomato",
           "size": 17
          },
          "showarrow": false,
          "text": "0.0-0.5",
          "x": 0.9,
          "xref": "x6",
          "y": 6.25,
          "yref": "y6"
         },
         {
          "align": "left",
          "font": {
           "color": "black",
           "size": 16
          },
          "showarrow": false,
          "text": "Japan",
          "x": -0.05,
          "xref": "paper",
          "y": 7.5,
          "yref": "y4"
         },
         {
          "font": {
           "color": "grey",
           "size": 17
          },
          "showarrow": false,
          "text": "0.2",
          "x": 0.1,
          "xref": "x6",
          "y": 7.5,
          "yref": "y6"
         },
         {
          "font": {
           "color": "forestgreen",
           "size": 17
          },
          "showarrow": false,
          "text": "0",
          "x": 0.5,
          "xref": "x6",
          "y": 7.5,
          "yref": "y6"
         },
         {
          "font": {
           "color": "tomato",
           "size": 17
          },
          "showarrow": false,
          "text": "0.1-1.2",
          "x": 0.9,
          "xref": "x6",
          "y": 7.5,
          "yref": "y6"
         },
         {
          "align": "left",
          "font": {
           "color": "black",
           "size": 16
          },
          "showarrow": false,
          "text": "Russian<br>Federation",
          "x": -0.05,
          "xref": "paper",
          "y": 8.75,
          "yref": "y4"
         },
         {
          "font": {
           "color": "grey",
           "size": 17
          },
          "showarrow": false,
          "text": "1.6",
          "x": 0.1,
          "xref": "x6",
          "y": 8.75,
          "yref": "y6"
         },
         {
          "font": {
           "color": "forestgreen",
           "size": 17
          },
          "showarrow": false,
          "text": "0",
          "x": 0.5,
          "xref": "x6",
          "y": 8.75,
          "yref": "y6"
         },
         {
          "font": {
           "color": "tomato",
           "size": 17
          },
          "showarrow": false,
          "text": "0.8-4.2",
          "x": 0.9,
          "xref": "x6",
          "y": 8.75,
          "yref": "y6"
         },
         {
          "align": "left",
          "font": {
           "color": "black",
           "size": 16
          },
          "showarrow": false,
          "text": "Saudi<br>Arabia",
          "x": -0.05,
          "xref": "paper",
          "y": 10,
          "yref": "y4"
         },
         {
          "font": {
           "color": "grey",
           "size": 17
          },
          "showarrow": false,
          "text": "0.4",
          "x": 0.1,
          "xref": "x6",
          "y": 10,
          "yref": "y6"
         },
         {
          "font": {
           "color": "forestgreen",
           "size": 17
          },
          "showarrow": false,
          "text": "0",
          "x": 0.5,
          "xref": "x6",
          "y": 10,
          "yref": "y6"
         },
         {
          "font": {
           "color": "tomato",
           "size": 17
          },
          "showarrow": false,
          "text": "0.3-1.5",
          "x": 0.9,
          "xref": "x6",
          "y": 10,
          "yref": "y6"
         },
         {
          "align": "left",
          "font": {
           "color": "black",
           "size": 16
          },
          "showarrow": false,
          "text": "European<br>Union",
          "x": -0.05,
          "xref": "paper",
          "y": 11.25,
          "yref": "y4"
         },
         {
          "font": {
           "color": "grey",
           "size": 17
          },
          "showarrow": false,
          "text": "0",
          "x": 0.1,
          "xref": "x6",
          "y": 11.25,
          "yref": "y6"
         },
         {
          "font": {
           "color": "forestgreen",
           "size": 17
          },
          "showarrow": false,
          "text": "0",
          "x": 0.5,
          "xref": "x6",
          "y": 11.25,
          "yref": "y6"
         },
         {
          "font": {
           "color": "tomato",
           "size": 17
          },
          "showarrow": false,
          "text": "0.4-3.5",
          "x": 0.9,
          "xref": "x6",
          "y": 11.25,
          "yref": "y6"
         },
         {
          "align": "left",
          "font": {
           "color": "black",
           "size": 16
          },
          "showarrow": false,
          "text": "Brazil",
          "x": -0.05,
          "xref": "paper",
          "y": 12.5,
          "yref": "y4"
         },
         {
          "font": {
           "color": "grey",
           "size": 17
          },
          "showarrow": false,
          "text": "0.6-1.4",
          "x": 0.1,
          "xref": "x6",
          "y": 12.5,
          "yref": "y6"
         },
         {
          "font": {
           "color": "forestgreen",
           "size": 17
          },
          "showarrow": false,
          "text": "0.0-0.8",
          "x": 0.5,
          "xref": "x6",
          "y": 12.5,
          "yref": "y6"
         },
         {
          "font": {
           "color": "tomato",
           "size": 17
          },
          "showarrow": false,
          "text": "0.0-2.6",
          "x": 0.9,
          "xref": "x6",
          "y": 12.5,
          "yref": "y6"
         },
         {
          "align": "left",
          "font": {
           "color": "black",
           "size": 16
          },
          "showarrow": false,
          "text": "United<br>States",
          "x": -0.05,
          "xref": "paper",
          "y": 13.75,
          "yref": "y4"
         },
         {
          "font": {
           "color": "grey",
           "size": 17
          },
          "showarrow": false,
          "text": "0",
          "x": 0.1,
          "xref": "x6",
          "y": 13.75,
          "yref": "y6"
         },
         {
          "font": {
           "color": "forestgreen",
           "size": 17
          },
          "showarrow": false,
          "text": "0",
          "x": 0.5,
          "xref": "x6",
          "y": 13.75,
          "yref": "y6"
         },
         {
          "font": {
           "color": "tomato",
           "size": 17
          },
          "showarrow": false,
          "text": "0.7-12.9",
          "x": 0.9,
          "xref": "x6",
          "y": 13.75,
          "yref": "y6"
         }
        ],
        "barmode": "group",
        "height": 1000,
        "paper_bgcolor": "white",
        "plot_bgcolor": "white",
        "shapes": [
         {
          "line": {
           "color": "black",
           "width": 2
          },
          "type": "line",
          "x0": 0.08,
          "x1": 0.11,
          "xref": "paper",
          "y0": 1.04,
          "y1": 0.99,
          "yref": "paper"
         },
         {
          "line": {
           "color": "black",
           "width": 2
          },
          "type": "line",
          "x0": 0.22,
          "x1": 0.19,
          "xref": "paper",
          "y0": 1.04,
          "y1": 0.99,
          "yref": "paper"
         },
         {
          "line": {
           "color": "black",
           "width": 2
          },
          "type": "line",
          "x0": 0.45,
          "x1": 0.5,
          "xref": "paper",
          "y0": 1.01,
          "y1": 0.99,
          "yref": "paper"
         },
         {
          "legendgroup": "2",
          "line": {
           "color": "black",
           "width": 5
          },
          "name": "NDC",
          "showlegend": false,
          "type": "line",
          "x0": -0.3347268317589993,
          "x1": -0.3347268317589993,
          "xref": "x",
          "y0": 0.6,
          "y1": 1.4,
          "yref": "y"
         },
         {
          "legendgroup": "2",
          "line": {
           "color": "steelblue",
           "width": 5
          },
          "name": "Per capita convergence",
          "showlegend": false,
          "type": "line",
          "x0": -0.5,
          "x1": -0.5,
          "xref": "x",
          "y0": 0.6000000000000001,
          "y1": 0.8400000000000001,
          "yref": "y"
         },
         {
          "legendgroup": "2",
          "line": {
           "color": "goldenrod",
           "width": 5
          },
          "name": "Ability to pay",
          "showlegend": false,
          "type": "line",
          "x0": -0.1,
          "x1": -0.1,
          "xref": "x",
          "y0": 0.88,
          "y1": 1.12,
          "yref": "y"
         },
         {
          "legendgroup": "2",
          "line": {
           "color": "purple",
           "width": 5
          },
          "name": "Equal cumulative per capita",
          "showlegend": false,
          "type": "line",
          "x0": 1.9842099769142156,
          "x1": 1.9842099769142156,
          "xref": "x",
          "y0": 1.16,
          "y1": 1.4000000000000001,
          "yref": "y"
         },
         {
          "fillcolor": "forestgreen",
          "legendgroup": "3",
          "line": {
           "color": "black",
           "width": 0
          },
          "name": "Receive mitigation payment from abroad",
          "opacity": 0.5,
          "showlegend": false,
          "type": "rect",
          "x0": -0.47,
          "x1": -0.36472683175899934,
          "xref": "x",
          "y0": 0.6000000000000001,
          "y1": 0.8400000000000001,
          "yref": "y"
         },
         {
          "fillcolor": "forestgreen",
          "legendgroup": "3",
          "line": {
           "color": "black",
           "width": 0
          },
          "name": "Receive mitigation payment from abroad",
          "opacity": 0.5,
          "showlegend": false,
          "type": "rect",
          "x0": -0.3047268317589993,
          "x1": 0.15294348463407273,
          "xref": "x",
          "y0": 0.6000000000000001,
          "y1": 0.8400000000000001,
          "yref": "y"
         },
         {
          "fillcolor": "grey",
          "line": {
           "color": "black",
           "width": 0
          },
          "opacity": 0.5,
          "type": "rect",
          "x0": -0.3047268317589993,
          "x1": -0.13,
          "xref": "x",
          "y0": 0.88,
          "y1": 1.12,
          "yref": "y"
         },
         {
          "fillcolor": "forestgreen",
          "line": {
           "color": "black",
           "width": 0
          },
          "opacity": 0.5,
          "type": "rect",
          "x0": -0.07,
          "x1": 0.15294348463407273,
          "xref": "x",
          "y0": 0.88,
          "y1": 1.12,
          "yref": "y"
         },
         {
          "fillcolor": "grey",
          "legendgroup": "3",
          "line": {
           "color": "black",
           "width": 0
          },
          "name": "Increase domestic ambition",
          "opacity": 0.5,
          "showlegend": false,
          "type": "rect",
          "x0": -0.3047268317589993,
          "x1": 0.15294348463407273,
          "xref": "x",
          "y0": 1.16,
          "y1": 1.4000000000000001,
          "yref": "y"
         },
         {
          "fillcolor": "tomato",
          "line": {
           "color": "black",
           "width": 0
          },
          "opacity": 0.5,
          "type": "rect",
          "x0": 0.21294348463407273,
          "x1": 1.9542099769142156,
          "xref": "x",
          "y0": 1.16,
          "y1": 1.4000000000000001,
          "yref": "y"
         },
         {
          "legendgroup": "2",
          "line": {
           "color": "saddlebrown",
           "width": 5
          },
          "name": "Cost optimal",
          "showlegend": false,
          "type": "line",
          "x0": 0.18294348463407273,
          "x1": 0.18294348463407273,
          "xref": "x",
          "y0": 0.6,
          "y1": 1.4,
          "yref": "y"
         },
         {
          "line": {
           "color": "black",
           "dash": "dash",
           "width": 3
          },
          "type": "line",
          "x0": 0,
          "x1": 0,
          "xref": "x",
          "y0": 0.5,
          "y1": 2,
          "yref": "y"
         },
         {
          "legendgroup": "2",
          "line": {
           "color": "black",
           "width": 5
          },
          "name": "NDC",
          "showlegend": false,
          "type": "line",
          "x0": 0.32253579909722796,
          "x1": 0.32253579909722796,
          "xref": "x4",
          "y0": -0.4,
          "y1": 0.4,
          "yref": "y4"
         },
         {
          "legendgroup": "2",
          "line": {
           "color": "saddlebrown",
           "width": 5
          },
          "name": "Cost optimal",
          "showlegend": false,
          "type": "line",
          "x0": 0.5688546663338927,
          "x1": 0.5688546663338927,
          "xref": "x4",
          "y0": -0.4,
          "y1": 0.4,
          "yref": "y4"
         },
         {
          "legendgroup": "2",
          "line": {
           "color": "steelblue",
           "width": 5
          },
          "name": "Per capita convergence",
          "showlegend": false,
          "type": "line",
          "x0": 0.023878864181894444,
          "x1": 0.023878864181894444,
          "xref": "x4",
          "y0": -0.39999999999999997,
          "y1": -0.15999999999999998,
          "yref": "y4"
         },
         {
          "legendgroup": "2",
          "line": {
           "color": "goldenrod",
           "width": 5
          },
          "name": "Ability to pay",
          "showlegend": false,
          "type": "line",
          "x0": -0.11688441814016137,
          "x1": -0.11688441814016137,
          "xref": "x4",
          "y0": -0.12,
          "y1": 0.12,
          "yref": "y4"
         },
         {
          "legendgroup": "2",
          "line": {
           "color": "purple",
           "width": 5
          },
          "name": "Equal cumulative per capita",
          "showlegend": false,
          "type": "line",
          "x0": -4.498595592906884,
          "x1": -4.498595592906884,
          "xref": "x4",
          "y0": 0.15999999999999998,
          "y1": 0.39999999999999997,
          "yref": "y4"
         },
         {
          "fillcolor": "forestgreen",
          "legendgroup": "3",
          "line": {
           "color": "black",
           "width": 0
          },
          "name": "Receive mitigation payment from abroad",
          "opacity": 0.5,
          "showlegend": false,
          "type": "rect",
          "x0": 0.05387886418189444,
          "x1": 0.29253579909722793,
          "xref": "x4",
          "y0": -0.39999999999999997,
          "y1": -0.15999999999999998,
          "yref": "y4"
         },
         {
          "fillcolor": "forestgreen",
          "legendgroup": "3",
          "line": {
           "color": "black",
           "width": 0
          },
          "name": "Receive mitigation payment from abroad",
          "opacity": 0.5,
          "showlegend": false,
          "type": "rect",
          "x0": 0.352535799097228,
          "x1": 0.5388546663338927,
          "xref": "x4",
          "y0": -0.39999999999999997,
          "y1": -0.15999999999999998,
          "yref": "y4"
         },
         {
          "fillcolor": "forestgreen",
          "legendgroup": "3",
          "line": {
           "color": "black",
           "width": 0
          },
          "name": "Receive mitigation payment from abroad",
          "opacity": 0.5,
          "showlegend": false,
          "type": "rect",
          "x0": -0.08688441814016137,
          "x1": 0.29253579909722793,
          "xref": "x4",
          "y0": -0.12,
          "y1": 0.12,
          "yref": "y4"
         },
         {
          "fillcolor": "forestgreen",
          "legendgroup": "3",
          "line": {
           "color": "black",
           "width": 0
          },
          "name": "Receive mitigation payment from abroad",
          "opacity": 0.5,
          "showlegend": false,
          "type": "rect",
          "x0": 0.352535799097228,
          "x1": 0.5388546663338927,
          "xref": "x4",
          "y0": -0.12,
          "y1": 0.12,
          "yref": "y4"
         },
         {
          "fillcolor": "forestgreen",
          "legendgroup": "3",
          "line": {
           "color": "black",
           "width": 0
          },
          "name": "Receive mitigation payment from abroad",
          "opacity": 0.5,
          "showlegend": false,
          "type": "rect",
          "x0": -4.468595592906884,
          "x1": 0.29253579909722793,
          "xref": "x4",
          "y0": 0.15999999999999998,
          "y1": 0.39999999999999997,
          "yref": "y4"
         },
         {
          "fillcolor": "forestgreen",
          "legendgroup": "3",
          "line": {
           "color": "black",
           "width": 0
          },
          "name": "Receive mitigation payment from abroad",
          "opacity": 0.5,
          "showlegend": false,
          "type": "rect",
          "x0": 0.352535799097228,
          "x1": 0.5388546663338927,
          "xref": "x4",
          "y0": 0.15999999999999998,
          "y1": 0.39999999999999997,
          "yref": "y4"
         },
         {
          "legendgroup": "2",
          "line": {
           "color": "black",
           "width": 5
          },
          "name": "NDC",
          "showlegend": false,
          "type": "line",
          "x0": -0.6478785441383472,
          "x1": -0.6478785441383472,
          "xref": "x4",
          "y0": 0.85,
          "y1": 1.65,
          "yref": "y4"
         },
         {
          "legendgroup": "2",
          "line": {
           "color": "saddlebrown",
           "width": 5
          },
          "name": "Cost optimal",
          "showlegend": false,
          "type": "line",
          "x0": 0.10214196133763287,
          "x1": 0.10214196133763287,
          "xref": "x4",
          "y0": 0.85,
          "y1": 1.65,
          "yref": "y4"
         },
         {
          "legendgroup": "2",
          "line": {
           "color": "steelblue",
           "width": 5
          },
          "name": "Per capita convergence",
          "showlegend": false,
          "type": "line",
          "x0": 0.07403006642894316,
          "x1": 0.07403006642894316,
          "xref": "x4",
          "y0": 0.8499999999999999,
          "y1": 1.09,
          "yref": "y4"
         },
         {
          "legendgroup": "2",
          "line": {
           "color": "goldenrod",
           "width": 5
          },
          "name": "Ability to pay",
          "showlegend": false,
          "type": "line",
          "x0": -0.047594298815953895,
          "x1": -0.047594298815953895,
          "xref": "x4",
          "y0": 1.13,
          "y1": 1.37,
          "yref": "y4"
         },
         {
          "legendgroup": "2",
          "line": {
           "color": "purple",
           "width": 5
          },
          "name": "Equal cumulative per capita",
          "showlegend": false,
          "type": "line",
          "x0": -4.392337615202273,
          "x1": -4.392337615202273,
          "xref": "x4",
          "y0": 1.41,
          "y1": 1.6500000000000001,
          "yref": "y4"
         },
         {
          "fillcolor": "grey",
          "line": {
           "color": "black",
           "width": 0
          },
          "opacity": 0.5,
          "type": "rect",
          "x0": -0.6178785441383472,
          "x1": 0.044030066428943165,
          "xref": "x4",
          "y0": 0.8499999999999999,
          "y1": 1.09,
          "yref": "y4"
         },
         {
          "fillcolor": "forestgreen",
          "line": {
           "color": "black",
           "width": 0
          },
          "opacity": 0.5,
          "type": "rect",
          "x0": 0.10403006642894316,
          "x1": 0.07214196133763287,
          "xref": "x4",
          "y0": 0.8499999999999999,
          "y1": 1.09,
          "yref": "y4"
         },
         {
          "fillcolor": "grey",
          "line": {
           "color": "black",
           "width": 0
          },
          "opacity": 0.5,
          "type": "rect",
          "x0": -0.6178785441383472,
          "x1": -0.0775942988159539,
          "xref": "x4",
          "y0": 1.13,
          "y1": 1.37,
          "yref": "y4"
         },
         {
          "fillcolor": "forestgreen",
          "line": {
           "color": "black",
           "width": 0
          },
          "opacity": 0.5,
          "type": "rect",
          "x0": -0.017594298815953896,
          "x1": 0.07214196133763287,
          "xref": "x4",
          "y0": 1.13,
          "y1": 1.37,
          "yref": "y4"
         },
         {
          "fillcolor": "forestgreen",
          "legendgroup": "3",
          "line": {
           "color": "black",
           "width": 0
          },
          "name": "Receive mitigation payment from abroad",
          "opacity": 0.5,
          "showlegend": false,
          "type": "rect",
          "x0": -4.362337615202272,
          "x1": -0.6778785441383472,
          "xref": "x4",
          "y0": 1.41,
          "y1": 1.6500000000000001,
          "yref": "y4"
         },
         {
          "fillcolor": "forestgreen",
          "legendgroup": "3",
          "line": {
           "color": "black",
           "width": 0
          },
          "name": "Receive mitigation payment from abroad",
          "opacity": 0.5,
          "showlegend": false,
          "type": "rect",
          "x0": -0.6178785441383472,
          "x1": 0.07214196133763287,
          "xref": "x4",
          "y0": 1.41,
          "y1": 1.6500000000000001,
          "yref": "y4"
         },
         {
          "legendgroup": "2",
          "line": {
           "color": "black",
           "width": 5
          },
          "name": "NDC",
          "showlegend": false,
          "type": "line",
          "x0": -0.07828080974467899,
          "x1": -0.07828080974467899,
          "xref": "x4",
          "y0": 2.1,
          "y1": 2.9,
          "yref": "y4"
         },
         {
          "legendgroup": "2",
          "line": {
           "color": "saddlebrown",
           "width": 5
          },
          "name": "Cost optimal",
          "showlegend": false,
          "type": "line",
          "x0": 0.46119496366668744,
          "x1": 0.46119496366668744,
          "xref": "x4",
          "y0": 2.1,
          "y1": 2.9,
          "yref": "y4"
         },
         {
          "legendgroup": "2",
          "line": {
           "color": "steelblue",
           "width": 5
          },
          "name": "Per capita convergence",
          "showlegend": false,
          "type": "line",
          "x0": 0.4198389553549805,
          "x1": 0.4198389553549805,
          "xref": "x4",
          "y0": 2.1,
          "y1": 2.3400000000000003,
          "yref": "y4"
         },
         {
          "legendgroup": "2",
          "line": {
           "color": "goldenrod",
           "width": 5
          },
          "name": "Ability to pay",
          "showlegend": false,
          "type": "line",
          "x0": 0.35673865907230806,
          "x1": 0.35673865907230806,
          "xref": "x4",
          "y0": 2.38,
          "y1": 2.62,
          "yref": "y4"
         },
         {
          "legendgroup": "2",
          "line": {
           "color": "purple",
           "width": 5
          },
          "name": "Equal cumulative per capita",
          "showlegend": false,
          "type": "line",
          "x0": 0.4911274760984322,
          "x1": 0.4911274760984322,
          "xref": "x4",
          "y0": 2.6599999999999997,
          "y1": 2.9,
          "yref": "y4"
         },
         {
          "fillcolor": "grey",
          "line": {
           "color": "black",
           "width": 0
          },
          "opacity": 0.5,
          "type": "rect",
          "x0": -0.04828080974467899,
          "x1": 0.3898389553549805,
          "xref": "x4",
          "y0": 2.1,
          "y1": 2.3400000000000003,
          "yref": "y4"
         },
         {
          "fillcolor": "forestgreen",
          "line": {
           "color": "black",
           "width": 0
          },
          "opacity": 0.5,
          "type": "rect",
          "x0": 0.44983895535498053,
          "x1": 0.4311949636666874,
          "xref": "x4",
          "y0": 2.1,
          "y1": 2.3400000000000003,
          "yref": "y4"
         },
         {
          "fillcolor": "grey",
          "line": {
           "color": "black",
           "width": 0
          },
          "opacity": 0.5,
          "type": "rect",
          "x0": -0.04828080974467899,
          "x1": 0.32673865907230804,
          "xref": "x4",
          "y0": 2.38,
          "y1": 2.62,
          "yref": "y4"
         },
         {
          "fillcolor": "forestgreen",
          "line": {
           "color": "black",
           "width": 0
          },
          "opacity": 0.5,
          "type": "rect",
          "x0": 0.3867386590723081,
          "x1": 0.4311949636666874,
          "xref": "x4",
          "y0": 2.38,
          "y1": 2.62,
          "yref": "y4"
         },
         {
          "fillcolor": "grey",
          "legendgroup": "3",
          "line": {
           "color": "black",
           "width": 0
          },
          "name": "Increase domestic ambition",
          "opacity": 0.5,
          "showlegend": false,
          "type": "rect",
          "x0": -0.04828080974467899,
          "x1": 0.4311949636666874,
          "xref": "x4",
          "y0": 2.6599999999999997,
          "y1": 2.9,
          "yref": "y4"
         },
         {
          "fillcolor": "tomato",
          "line": {
           "color": "black",
           "width": 0
          },
          "opacity": 0.5,
          "type": "rect",
          "x0": 0.49119496366668747,
          "x1": 0.4611274760984322,
          "xref": "x4",
          "y0": 2.6599999999999997,
          "y1": 2.9,
          "yref": "y4"
         },
         {
          "legendgroup": "2",
          "line": {
           "color": "black",
           "width": 5
          },
          "name": "NDC",
          "showlegend": false,
          "type": "line",
          "x0": -0.03901099438406197,
          "x1": -0.03901099438406197,
          "xref": "x4",
          "y0": 3.35,
          "y1": 4.15,
          "yref": "y4"
         },
         {
          "legendgroup": "2",
          "line": {
           "color": "saddlebrown",
           "width": 5
          },
          "name": "Cost optimal",
          "showlegend": false,
          "type": "line",
          "x0": 0.5463644044749681,
          "x1": 0.5463644044749681,
          "xref": "x4",
          "y0": 3.35,
          "y1": 4.15,
          "yref": "y4"
         },
         {
          "legendgroup": "2",
          "line": {
           "color": "steelblue",
           "width": 5
          },
          "name": "Per capita convergence",
          "showlegend": false,
          "type": "line",
          "x0": 0.4241371339314485,
          "x1": 0.4241371339314485,
          "xref": "x4",
          "y0": 3.35,
          "y1": 3.5900000000000003,
          "yref": "y4"
         },
         {
          "legendgroup": "2",
          "line": {
           "color": "goldenrod",
           "width": 5
          },
          "name": "Ability to pay",
          "showlegend": false,
          "type": "line",
          "x0": 0.47629430941876627,
          "x1": 0.47629430941876627,
          "xref": "x4",
          "y0": 3.63,
          "y1": 3.87,
          "yref": "y4"
         },
         {
          "legendgroup": "2",
          "line": {
           "color": "purple",
           "width": 5
          },
          "name": "Equal cumulative per capita",
          "showlegend": false,
          "type": "line",
          "x0": 0.5012355130520478,
          "x1": 0.5012355130520478,
          "xref": "x4",
          "y0": 3.9099999999999997,
          "y1": 4.15,
          "yref": "y4"
         },
         {
          "fillcolor": "grey",
          "line": {
           "color": "black",
           "width": 0
          },
          "opacity": 0.5,
          "type": "rect",
          "x0": -0.009010994384061971,
          "x1": 0.39413713393144845,
          "xref": "x4",
          "y0": 3.35,
          "y1": 3.5900000000000003,
          "yref": "y4"
         },
         {
          "fillcolor": "forestgreen",
          "line": {
           "color": "black",
           "width": 0
          },
          "opacity": 0.5,
          "type": "rect",
          "x0": 0.4541371339314485,
          "x1": 0.5163644044749681,
          "xref": "x4",
          "y0": 3.35,
          "y1": 3.5900000000000003,
          "yref": "y4"
         },
         {
          "fillcolor": "grey",
          "line": {
           "color": "black",
           "width": 0
          },
          "opacity": 0.5,
          "type": "rect",
          "x0": -0.009010994384061971,
          "x1": 0.44629430941876624,
          "xref": "x4",
          "y0": 3.63,
          "y1": 3.87,
          "yref": "y4"
         },
         {
          "fillcolor": "forestgreen",
          "line": {
           "color": "black",
           "width": 0
          },
          "opacity": 0.5,
          "type": "rect",
          "x0": 0.5062943094187663,
          "x1": 0.5163644044749681,
          "xref": "x4",
          "y0": 3.63,
          "y1": 3.87,
          "yref": "y4"
         },
         {
          "fillcolor": "grey",
          "line": {
           "color": "black",
           "width": 0
          },
          "opacity": 0.5,
          "type": "rect",
          "x0": -0.009010994384061971,
          "x1": 0.4712355130520478,
          "xref": "x4",
          "y0": 3.9099999999999997,
          "y1": 4.15,
          "yref": "y4"
         },
         {
          "fillcolor": "forestgreen",
          "line": {
           "color": "black",
           "width": 0
          },
          "opacity": 0.5,
          "type": "rect",
          "x0": 0.5312355130520479,
          "x1": 0.5163644044749681,
          "xref": "x4",
          "y0": 3.9099999999999997,
          "y1": 4.15,
          "yref": "y4"
         },
         {
          "legendgroup": "2",
          "line": {
           "color": "black",
           "width": 5
          },
          "name": "NDC",
          "showlegend": false,
          "type": "line",
          "x0": 0.32853216641737837,
          "x1": 0.32853216641737837,
          "xref": "x4",
          "y0": 4.6,
          "y1": 5.4,
          "yref": "y4"
         },
         {
          "legendgroup": "2",
          "line": {
           "color": "saddlebrown",
           "width": 5
          },
          "name": "Cost optimal",
          "showlegend": false,
          "type": "line",
          "x0": 0.5878095195705997,
          "x1": 0.5878095195705997,
          "xref": "x4",
          "y0": 4.6,
          "y1": 5.4,
          "yref": "y4"
         },
         {
          "legendgroup": "2",
          "line": {
           "color": "steelblue",
           "width": 5
          },
          "name": "Per capita convergence",
          "showlegend": false,
          "type": "line",
          "x0": 0.5628887841080839,
          "x1": 0.5628887841080839,
          "xref": "x4",
          "y0": 4.6,
          "y1": 4.84,
          "yref": "y4"
         },
         {
          "legendgroup": "2",
          "line": {
           "color": "goldenrod",
           "width": 5
          },
          "name": "Ability to pay",
          "showlegend": false,
          "type": "line",
          "x0": 0.36522306380981984,
          "x1": 0.36522306380981984,
          "xref": "x4",
          "y0": 4.88,
          "y1": 5.12,
          "yref": "y4"
         },
         {
          "legendgroup": "2",
          "line": {
           "color": "purple",
           "width": 5
          },
          "name": "Equal cumulative per capita",
          "showlegend": false,
          "type": "line",
          "x0": 0.7205201086615995,
          "x1": 0.7205201086615995,
          "xref": "x4",
          "y0": 5.16,
          "y1": 5.4,
          "yref": "y4"
         },
         {
          "fillcolor": "grey",
          "line": {
           "color": "black",
           "width": 0
          },
          "opacity": 0.5,
          "type": "rect",
          "x0": 0.3585321664173784,
          "x1": 0.5328887841080838,
          "xref": "x4",
          "y0": 4.6,
          "y1": 4.84,
          "yref": "y4"
         },
         {
          "fillcolor": "forestgreen",
          "line": {
           "color": "black",
           "width": 0
          },
          "opacity": 0.5,
          "type": "rect",
          "x0": 0.5928887841080839,
          "x1": 0.5578095195705997,
          "xref": "x4",
          "y0": 4.6,
          "y1": 4.84,
          "yref": "y4"
         },
         {
          "fillcolor": "grey",
          "line": {
           "color": "black",
           "width": 0
          },
          "opacity": 0.5,
          "type": "rect",
          "x0": 0.3585321664173784,
          "x1": 0.3352230638098198,
          "xref": "x4",
          "y0": 4.88,
          "y1": 5.12,
          "yref": "y4"
         },
         {
          "fillcolor": "forestgreen",
          "line": {
           "color": "black",
           "width": 0
          },
          "opacity": 0.5,
          "type": "rect",
          "x0": 0.39522306380981986,
          "x1": 0.5578095195705997,
          "xref": "x4",
          "y0": 4.88,
          "y1": 5.12,
          "yref": "y4"
         },
         {
          "fillcolor": "grey",
          "legendgroup": "3",
          "line": {
           "color": "black",
           "width": 0
          },
          "name": "Increase domestic ambition",
          "opacity": 0.5,
          "showlegend": false,
          "type": "rect",
          "x0": 0.3585321664173784,
          "x1": 0.5578095195705997,
          "xref": "x4",
          "y0": 5.16,
          "y1": 5.4,
          "yref": "y4"
         },
         {
          "fillcolor": "tomato",
          "line": {
           "color": "black",
           "width": 0
          },
          "opacity": 0.5,
          "type": "rect",
          "x0": 0.6178095195705997,
          "x1": 0.6905201086615995,
          "xref": "x4",
          "y0": 5.16,
          "y1": 5.4,
          "yref": "y4"
         },
         {
          "legendgroup": "2",
          "line": {
           "color": "black",
           "width": 5
          },
          "name": "NDC",
          "showlegend": false,
          "type": "line",
          "x0": 0.30596348315421995,
          "x1": 0.30596348315421995,
          "xref": "x4",
          "y0": 5.85,
          "y1": 6.65,
          "yref": "y4"
         },
         {
          "legendgroup": "2",
          "line": {
           "color": "saddlebrown",
           "width": 5
          },
          "name": "Cost optimal",
          "showlegend": false,
          "type": "line",
          "x0": 0.6057478503709319,
          "x1": 0.6057478503709319,
          "xref": "x4",
          "y0": 5.85,
          "y1": 6.65,
          "yref": "y4"
         },
         {
          "legendgroup": "2",
          "line": {
           "color": "steelblue",
           "width": 5
          },
          "name": "Per capita convergence",
          "showlegend": false,
          "type": "line",
          "x0": 0.5048375102619649,
          "x1": 0.5048375102619649,
          "xref": "x4",
          "y0": 5.85,
          "y1": 6.09,
          "yref": "y4"
         },
         {
          "legendgroup": "2",
          "line": {
           "color": "goldenrod",
           "width": 5
          },
          "name": "Ability to pay",
          "showlegend": false,
          "type": "line",
          "x0": 0.43568031861727685,
          "x1": 0.43568031861727685,
          "xref": "x4",
          "y0": 6.13,
          "y1": 6.37,
          "yref": "y4"
         },
         {
          "legendgroup": "2",
          "line": {
           "color": "purple",
           "width": 5
          },
          "name": "Equal cumulative per capita",
          "showlegend": false,
          "type": "line",
          "x0": 1.4383578773155437,
          "x1": 1.4383578773155437,
          "xref": "x4",
          "y0": 6.41,
          "y1": 6.65,
          "yref": "y4"
         },
         {
          "fillcolor": "grey",
          "line": {
           "color": "black",
           "width": 0
          },
          "opacity": 0.5,
          "type": "rect",
          "x0": 0.33596348315422,
          "x1": 0.47483751026196486,
          "xref": "x4",
          "y0": 5.85,
          "y1": 6.09,
          "yref": "y4"
         },
         {
          "fillcolor": "forestgreen",
          "line": {
           "color": "black",
           "width": 0
          },
          "opacity": 0.5,
          "type": "rect",
          "x0": 0.5348375102619649,
          "x1": 0.5757478503709319,
          "xref": "x4",
          "y0": 5.85,
          "y1": 6.09,
          "yref": "y4"
         },
         {
          "fillcolor": "grey",
          "line": {
           "color": "black",
           "width": 0
          },
          "opacity": 0.5,
          "type": "rect",
          "x0": 0.33596348315422,
          "x1": 0.4056803186172768,
          "xref": "x4",
          "y0": 6.13,
          "y1": 6.37,
          "yref": "y4"
         },
         {
          "fillcolor": "forestgreen",
          "line": {
           "color": "black",
           "width": 0
          },
          "opacity": 0.5,
          "type": "rect",
          "x0": 0.4656803186172769,
          "x1": 0.5757478503709319,
          "xref": "x4",
          "y0": 6.13,
          "y1": 6.37,
          "yref": "y4"
         },
         {
          "fillcolor": "grey",
          "legendgroup": "3",
          "line": {
           "color": "black",
           "width": 0
          },
          "name": "Increase domestic ambition",
          "opacity": 0.5,
          "showlegend": false,
          "type": "rect",
          "x0": 0.33596348315422,
          "x1": 0.5757478503709319,
          "xref": "x4",
          "y0": 6.41,
          "y1": 6.65,
          "yref": "y4"
         },
         {
          "fillcolor": "tomato",
          "line": {
           "color": "black",
           "width": 0
          },
          "opacity": 0.5,
          "type": "rect",
          "x0": 0.635747850370932,
          "x1": 1.4083578773155436,
          "xref": "x4",
          "y0": 6.41,
          "y1": 6.65,
          "yref": "y4"
         },
         {
          "legendgroup": "2",
          "line": {
           "color": "black",
           "width": 5
          },
          "name": "NDC",
          "showlegend": false,
          "type": "line",
          "x0": 0.3339927301500951,
          "x1": 0.3339927301500951,
          "xref": "x4",
          "y0": 7.1,
          "y1": 7.9,
          "yref": "y4"
         },
         {
          "legendgroup": "2",
          "line": {
           "color": "saddlebrown",
           "width": 5
          },
          "name": "Cost optimal",
          "showlegend": false,
          "type": "line",
          "x0": 0.5060034842114282,
          "x1": 0.5060034842114282,
          "xref": "x4",
          "y0": 7.1,
          "y1": 7.9,
          "yref": "y4"
         },
         {
          "legendgroup": "2",
          "line": {
           "color": "steelblue",
           "width": 5
          },
          "name": "Per capita convergence",
          "showlegend": false,
          "type": "line",
          "x0": 0.5462617010543509,
          "x1": 0.5462617010543509,
          "xref": "x4",
          "y0": 7.1,
          "y1": 7.34,
          "yref": "y4"
         },
         {
          "legendgroup": "2",
          "line": {
           "color": "goldenrod",
           "width": 5
          },
          "name": "Ability to pay",
          "showlegend": false,
          "type": "line",
          "x0": 0.7332137218781719,
          "x1": 0.7332137218781719,
          "xref": "x4",
          "y0": 7.38,
          "y1": 7.62,
          "yref": "y4"
         },
         {
          "legendgroup": "2",
          "line": {
           "color": "purple",
           "width": 5
          },
          "name": "Equal cumulative per capita",
          "showlegend": false,
          "type": "line",
          "x0": 1.4269330731830168,
          "x1": 1.4269330731830168,
          "xref": "x4",
          "y0": 7.66,
          "y1": 7.9,
          "yref": "y4"
         },
         {
          "fillcolor": "grey",
          "legendgroup": "3",
          "line": {
           "color": "black",
           "width": 0
          },
          "name": "Increase domestic ambition",
          "opacity": 0.5,
          "showlegend": false,
          "type": "rect",
          "x0": 0.36399273015009515,
          "x1": 0.47600348421142813,
          "xref": "x4",
          "y0": 7.1,
          "y1": 7.34,
          "yref": "y4"
         },
         {
          "fillcolor": "tomato",
          "line": {
           "color": "black",
           "width": 0
          },
          "opacity": 0.5,
          "type": "rect",
          "x0": 0.5360034842114282,
          "x1": 0.5162617010543509,
          "xref": "x4",
          "y0": 7.1,
          "y1": 7.34,
          "yref": "y4"
         },
         {
          "fillcolor": "grey",
          "legendgroup": "3",
          "line": {
           "color": "black",
           "width": 0
          },
          "name": "Increase domestic ambition",
          "opacity": 0.5,
          "showlegend": false,
          "type": "rect",
          "x0": 0.36399273015009515,
          "x1": 0.47600348421142813,
          "xref": "x4",
          "y0": 7.38,
          "y1": 7.62,
          "yref": "y4"
         },
         {
          "fillcolor": "tomato",
          "line": {
           "color": "black",
           "width": 0
          },
          "opacity": 0.5,
          "type": "rect",
          "x0": 0.5360034842114282,
          "x1": 0.7032137218781719,
          "xref": "x4",
          "y0": 7.38,
          "y1": 7.62,
          "yref": "y4"
         },
         {
          "fillcolor": "grey",
          "legendgroup": "3",
          "line": {
           "color": "black",
           "width": 0
          },
          "name": "Increase domestic ambition",
          "opacity": 0.5,
          "showlegend": false,
          "type": "rect",
          "x0": 0.36399273015009515,
          "x1": 0.47600348421142813,
          "xref": "x4",
          "y0": 7.66,
          "y1": 7.9,
          "yref": "y4"
         },
         {
          "fillcolor": "tomato",
          "line": {
           "color": "black",
           "width": 0
          },
          "opacity": 0.5,
          "type": "rect",
          "x0": 0.5360034842114282,
          "x1": 1.3969330731830167,
          "xref": "x4",
          "y0": 7.66,
          "y1": 7.9,
          "yref": "y4"
         },
         {
          "legendgroup": "2",
          "line": {
           "color": "black",
           "width": 5
          },
          "name": "NDC",
          "showlegend": false,
          "type": "line",
          "x0": -0.49000860157303383,
          "x1": -0.49000860157303383,
          "xref": "x4",
          "y0": 8.35,
          "y1": 9.15,
          "yref": "y4"
         },
         {
          "legendgroup": "2",
          "line": {
           "color": "saddlebrown",
           "width": 5
          },
          "name": "Cost optimal",
          "showlegend": false,
          "type": "line",
          "x0": 0.2129471320792714,
          "x1": 0.2129471320792714,
          "xref": "x4",
          "y0": 8.35,
          "y1": 9.15,
          "yref": "y4"
         },
         {
          "legendgroup": "2",
          "line": {
           "color": "steelblue",
           "width": 5
          },
          "name": "Per capita convergence",
          "showlegend": false,
          "type": "line",
          "x0": 0.5405274276123609,
          "x1": 0.5405274276123609,
          "xref": "x4",
          "y0": 8.350000000000001,
          "y1": 8.59,
          "yref": "y4"
         },
         {
          "legendgroup": "2",
          "line": {
           "color": "goldenrod",
           "width": 5
          },
          "name": "Ability to pay",
          "showlegend": false,
          "type": "line",
          "x0": 0.5776812392641135,
          "x1": 0.5776812392641135,
          "xref": "x4",
          "y0": 8.63,
          "y1": 8.87,
          "yref": "y4"
         },
         {
          "legendgroup": "2",
          "line": {
           "color": "purple",
           "width": 5
          },
          "name": "Equal cumulative per capita",
          "showlegend": false,
          "type": "line",
          "x0": 2.0101562895494194,
          "x1": 2.0101562895494194,
          "xref": "x4",
          "y0": 8.91,
          "y1": 9.149999999999999,
          "yref": "y4"
         },
         {
          "fillcolor": "grey",
          "legendgroup": "3",
          "line": {
           "color": "black",
           "width": 0
          },
          "name": "Increase domestic ambition",
          "opacity": 0.5,
          "showlegend": false,
          "type": "rect",
          "x0": -0.4600086015730338,
          "x1": 0.1829471320792714,
          "xref": "x4",
          "y0": 8.350000000000001,
          "y1": 8.59,
          "yref": "y4"
         },
         {
          "fillcolor": "tomato",
          "line": {
           "color": "black",
           "width": 0
          },
          "opacity": 0.5,
          "type": "rect",
          "x0": 0.2429471320792714,
          "x1": 0.5105274276123609,
          "xref": "x4",
          "y0": 8.350000000000001,
          "y1": 8.59,
          "yref": "y4"
         },
         {
          "fillcolor": "grey",
          "legendgroup": "3",
          "line": {
           "color": "black",
           "width": 0
          },
          "name": "Increase domestic ambition",
          "opacity": 0.5,
          "showlegend": false,
          "type": "rect",
          "x0": -0.4600086015730338,
          "x1": 0.1829471320792714,
          "xref": "x4",
          "y0": 8.63,
          "y1": 8.87,
          "yref": "y4"
         },
         {
          "fillcolor": "tomato",
          "line": {
           "color": "black",
           "width": 0
          },
          "opacity": 0.5,
          "type": "rect",
          "x0": 0.2429471320792714,
          "x1": 0.5476812392641135,
          "xref": "x4",
          "y0": 8.63,
          "y1": 8.87,
          "yref": "y4"
         },
         {
          "fillcolor": "grey",
          "legendgroup": "3",
          "line": {
           "color": "black",
           "width": 0
          },
          "name": "Increase domestic ambition",
          "opacity": 0.5,
          "showlegend": false,
          "type": "rect",
          "x0": -0.4600086015730338,
          "x1": 0.1829471320792714,
          "xref": "x4",
          "y0": 8.91,
          "y1": 9.149999999999999,
          "yref": "y4"
         },
         {
          "fillcolor": "tomato",
          "line": {
           "color": "black",
           "width": 0
          },
          "opacity": 0.5,
          "type": "rect",
          "x0": 0.2429471320792714,
          "x1": 1.9801562895494194,
          "xref": "x4",
          "y0": 8.91,
          "y1": 9.149999999999999,
          "yref": "y4"
         },
         {
          "legendgroup": "2",
          "line": {
           "color": "black",
           "width": 5
          },
          "name": "NDC",
          "showlegend": false,
          "type": "line",
          "x0": -0.3347268317589993,
          "x1": -0.3347268317589993,
          "xref": "x4",
          "y0": 9.6,
          "y1": 10.4,
          "yref": "y4"
         },
         {
          "legendgroup": "2",
          "line": {
           "color": "saddlebrown",
           "width": 5
          },
          "name": "Cost optimal",
          "showlegend": false,
          "type": "line",
          "x0": 0.18294348463407273,
          "x1": 0.18294348463407273,
          "xref": "x4",
          "y0": 9.6,
          "y1": 10.4,
          "yref": "y4"
         },
         {
          "legendgroup": "2",
          "line": {
           "color": "steelblue",
           "width": 5
          },
          "name": "Per capita convergence",
          "showlegend": false,
          "type": "line",
          "x0": 0.5802481955371062,
          "x1": 0.5802481955371062,
          "xref": "x4",
          "y0": 9.600000000000001,
          "y1": 9.84,
          "yref": "y4"
         },
         {
          "legendgroup": "2",
          "line": {
           "color": "goldenrod",
           "width": 5
          },
          "name": "Ability to pay",
          "showlegend": false,
          "type": "line",
          "x0": 0.6800116996472467,
          "x1": 0.6800116996472467,
          "xref": "x4",
          "y0": 9.88,
          "y1": 10.12,
          "yref": "y4"
         },
         {
          "legendgroup": "2",
          "line": {
           "color": "purple",
           "width": 5
          },
          "name": "Equal cumulative per capita",
          "showlegend": false,
          "type": "line",
          "x0": 1.9842099769142156,
          "x1": 1.9842099769142156,
          "xref": "x4",
          "y0": 10.16,
          "y1": 10.399999999999999,
          "yref": "y4"
         },
         {
          "fillcolor": "grey",
          "legendgroup": "3",
          "line": {
           "color": "black",
           "width": 0
          },
          "name": "Increase domestic ambition",
          "opacity": 0.5,
          "showlegend": false,
          "type": "rect",
          "x0": -0.3047268317589993,
          "x1": 0.15294348463407273,
          "xref": "x4",
          "y0": 9.600000000000001,
          "y1": 9.84,
          "yref": "y4"
         },
         {
          "fillcolor": "tomato",
          "line": {
           "color": "black",
           "width": 0
          },
          "opacity": 0.5,
          "type": "rect",
          "x0": 0.21294348463407273,
          "x1": 0.5502481955371061,
          "xref": "x4",
          "y0": 9.600000000000001,
          "y1": 9.84,
          "yref": "y4"
         },
         {
          "fillcolor": "grey",
          "legendgroup": "3",
          "line": {
           "color": "black",
           "width": 0
          },
          "name": "Increase domestic ambition",
          "opacity": 0.5,
          "showlegend": false,
          "type": "rect",
          "x0": -0.3047268317589993,
          "x1": 0.15294348463407273,
          "xref": "x4",
          "y0": 9.88,
          "y1": 10.12,
          "yref": "y4"
         },
         {
          "fillcolor": "tomato",
          "line": {
           "color": "black",
           "width": 0
          },
          "opacity": 0.5,
          "type": "rect",
          "x0": 0.21294348463407273,
          "x1": 0.6500116996472467,
          "xref": "x4",
          "y0": 9.88,
          "y1": 10.12,
          "yref": "y4"
         },
         {
          "fillcolor": "grey",
          "legendgroup": "3",
          "line": {
           "color": "black",
           "width": 0
          },
          "name": "Increase domestic ambition",
          "opacity": 0.5,
          "showlegend": false,
          "type": "rect",
          "x0": -0.3047268317589993,
          "x1": 0.15294348463407273,
          "xref": "x4",
          "y0": 10.16,
          "y1": 10.399999999999999,
          "yref": "y4"
         },
         {
          "fillcolor": "tomato",
          "line": {
           "color": "black",
           "width": 0
          },
          "opacity": 0.5,
          "type": "rect",
          "x0": 0.21294348463407273,
          "x1": 1.9542099769142156,
          "xref": "x4",
          "y0": 10.16,
          "y1": 10.399999999999999,
          "yref": "y4"
         },
         {
          "legendgroup": "2",
          "line": {
           "color": "black",
           "width": 5
          },
          "name": "NDC",
          "showlegend": false,
          "type": "line",
          "x0": 0.3908938196584818,
          "x1": 0.3908938196584818,
          "xref": "x4",
          "y0": 10.85,
          "y1": 11.65,
          "yref": "y4"
         },
         {
          "legendgroup": "2",
          "line": {
           "color": "saddlebrown",
           "width": 5
          },
          "name": "Cost optimal",
          "showlegend": false,
          "type": "line",
          "x0": 0.38163347632802536,
          "x1": 0.38163347632802536,
          "xref": "x4",
          "y0": 10.85,
          "y1": 11.65,
          "yref": "y4"
         },
         {
          "legendgroup": "2",
          "line": {
           "color": "steelblue",
           "width": 5
          },
          "name": "Per capita convergence",
          "showlegend": false,
          "type": "line",
          "x0": 0.5002138069395987,
          "x1": 0.5002138069395987,
          "xref": "x4",
          "y0": 10.850000000000001,
          "y1": 11.09,
          "yref": "y4"
         },
         {
          "legendgroup": "2",
          "line": {
           "color": "goldenrod",
           "width": 5
          },
          "name": "Ability to pay",
          "showlegend": false,
          "type": "line",
          "x0": 0.7237676822090766,
          "x1": 0.7237676822090766,
          "xref": "x4",
          "y0": 11.13,
          "y1": 11.37,
          "yref": "y4"
         },
         {
          "legendgroup": "2",
          "line": {
           "color": "purple",
           "width": 5
          },
          "name": "Equal cumulative per capita",
          "showlegend": false,
          "type": "line",
          "x0": 1.3318487072602312,
          "x1": 1.3318487072602312,
          "xref": "x4",
          "y0": 11.41,
          "y1": 11.649999999999999,
          "yref": "y4"
         },
         {
          "fillcolor": "rosybrown",
          "line": {
           "color": "black",
           "width": 0
          },
          "opacity": 0.5,
          "type": "rect",
          "x0": 0.4116334763280254,
          "x1": 0.3608938196584818,
          "xref": "x4",
          "y0": 10.850000000000001,
          "y1": 11.09,
          "yref": "y4"
         },
         {
          "fillcolor": "tomato",
          "legendgroup": "3",
          "line": {
           "color": "black",
           "width": 0
          },
          "name": "Pay for mitigation abroad",
          "opacity": 0.5,
          "showlegend": false,
          "type": "rect",
          "x0": 0.4208938196584818,
          "x1": 0.4702138069395987,
          "xref": "x4",
          "y0": 10.850000000000001,
          "y1": 11.09,
          "yref": "y4"
         },
         {
          "fillcolor": "rosybrown",
          "line": {
           "color": "black",
           "width": 0
          },
          "opacity": 0.5,
          "type": "rect",
          "x0": 0.4116334763280254,
          "x1": 0.3608938196584818,
          "xref": "x4",
          "y0": 11.13,
          "y1": 11.37,
          "yref": "y4"
         },
         {
          "fillcolor": "tomato",
          "legendgroup": "3",
          "line": {
           "color": "black",
           "width": 0
          },
          "name": "Pay for mitigation abroad",
          "opacity": 0.5,
          "showlegend": false,
          "type": "rect",
          "x0": 0.4208938196584818,
          "x1": 0.6937676822090766,
          "xref": "x4",
          "y0": 11.13,
          "y1": 11.37,
          "yref": "y4"
         },
         {
          "fillcolor": "rosybrown",
          "line": {
           "color": "black",
           "width": 0
          },
          "opacity": 0.5,
          "type": "rect",
          "x0": 0.4116334763280254,
          "x1": 0.3608938196584818,
          "xref": "x4",
          "y0": 11.41,
          "y1": 11.649999999999999,
          "yref": "y4"
         },
         {
          "fillcolor": "tomato",
          "legendgroup": "3",
          "line": {
           "color": "black",
           "width": 0
          },
          "name": "Pay for mitigation abroad",
          "opacity": 0.5,
          "showlegend": false,
          "type": "rect",
          "x0": 0.4208938196584818,
          "x1": 1.3018487072602312,
          "xref": "x4",
          "y0": 11.41,
          "y1": 11.649999999999999,
          "yref": "y4"
         },
         {
          "legendgroup": "2",
          "line": {
           "color": "black",
           "width": 5
          },
          "name": "NDC",
          "showlegend": false,
          "type": "line",
          "x0": 0.21737683180626877,
          "x1": 0.21737683180626877,
          "xref": "x4",
          "y0": 12.1,
          "y1": 12.9,
          "yref": "y4"
         },
         {
          "legendgroup": "2",
          "line": {
           "color": "saddlebrown",
           "width": 5
          },
          "name": "Cost optimal",
          "showlegend": false,
          "type": "line",
          "x0": 0.797267192397054,
          "x1": 0.797267192397054,
          "xref": "x4",
          "y0": 12.1,
          "y1": 12.9,
          "yref": "y4"
         },
         {
          "legendgroup": "2",
          "line": {
           "color": "steelblue",
           "width": 5
          },
          "name": "Per capita convergence",
          "showlegend": false,
          "type": "line",
          "x0": 0.5483708609184663,
          "x1": 0.5483708609184663,
          "xref": "x4",
          "y0": 12.100000000000001,
          "y1": 12.34,
          "yref": "y4"
         },
         {
          "legendgroup": "2",
          "line": {
           "color": "goldenrod",
           "width": 5
          },
          "name": "Ability to pay",
          "showlegend": false,
          "type": "line",
          "x0": 0.4707364084418988,
          "x1": 0.4707364084418988,
          "xref": "x4",
          "y0": 12.38,
          "y1": 12.62,
          "yref": "y4"
         },
         {
          "legendgroup": "2",
          "line": {
           "color": "purple",
           "width": 5
          },
          "name": "Equal cumulative per capita",
          "showlegend": false,
          "type": "line",
          "x0": 1.8494242135373757,
          "x1": 1.8494242135373757,
          "xref": "x4",
          "y0": 12.66,
          "y1": 12.899999999999999,
          "yref": "y4"
         },
         {
          "fillcolor": "grey",
          "line": {
           "color": "black",
           "width": 0
          },
          "opacity": 0.5,
          "type": "rect",
          "x0": 0.24737683180626877,
          "x1": 0.5183708609184663,
          "xref": "x4",
          "y0": 12.100000000000001,
          "y1": 12.34,
          "yref": "y4"
         },
         {
          "fillcolor": "forestgreen",
          "line": {
           "color": "black",
           "width": 0
          },
          "opacity": 0.5,
          "type": "rect",
          "x0": 0.5783708609184663,
          "x1": 0.767267192397054,
          "xref": "x4",
          "y0": 12.100000000000001,
          "y1": 12.34,
          "yref": "y4"
         },
         {
          "fillcolor": "grey",
          "line": {
           "color": "black",
           "width": 0
          },
          "opacity": 0.5,
          "type": "rect",
          "x0": 0.24737683180626877,
          "x1": 0.44073640844189876,
          "xref": "x4",
          "y0": 12.38,
          "y1": 12.62,
          "yref": "y4"
         },
         {
          "fillcolor": "forestgreen",
          "line": {
           "color": "black",
           "width": 0
          },
          "opacity": 0.5,
          "type": "rect",
          "x0": 0.5007364084418988,
          "x1": 0.767267192397054,
          "xref": "x4",
          "y0": 12.38,
          "y1": 12.62,
          "yref": "y4"
         },
         {
          "fillcolor": "grey",
          "legendgroup": "3",
          "line": {
           "color": "black",
           "width": 0
          },
          "name": "Increase domestic ambition",
          "opacity": 0.5,
          "showlegend": false,
          "type": "rect",
          "x0": 0.24737683180626877,
          "x1": 0.767267192397054,
          "xref": "x4",
          "y0": 12.66,
          "y1": 12.899999999999999,
          "yref": "y4"
         },
         {
          "fillcolor": "tomato",
          "line": {
           "color": "black",
           "width": 0
          },
          "opacity": 0.5,
          "type": "rect",
          "x0": 0.827267192397054,
          "x1": 1.8194242135373757,
          "xref": "x4",
          "y0": 12.66,
          "y1": 12.899999999999999,
          "yref": "y4"
         },
         {
          "legendgroup": "2",
          "line": {
           "color": "black",
           "width": 5
          },
          "name": "NDC",
          "showlegend": false,
          "type": "line",
          "x0": 0.45588116855527694,
          "x1": 0.45588116855527694,
          "xref": "x4",
          "y0": 13.35,
          "y1": 14.15,
          "yref": "y4"
         },
         {
          "legendgroup": "2",
          "line": {
           "color": "saddlebrown",
           "width": 5
          },
          "name": "Cost optimal",
          "showlegend": false,
          "type": "line",
          "x0": 0.44146470019882855,
          "x1": 0.44146470019882855,
          "xref": "x4",
          "y0": 13.35,
          "y1": 14.15,
          "yref": "y4"
         },
         {
          "legendgroup": "2",
          "line": {
           "color": "steelblue",
           "width": 5
          },
          "name": "Per capita convergence",
          "showlegend": false,
          "type": "line",
          "x0": 0.5654269077331511,
          "x1": 0.5654269077331511,
          "xref": "x4",
          "y0": 13.350000000000001,
          "y1": 13.59,
          "yref": "y4"
         },
         {
          "legendgroup": "2",
          "line": {
           "color": "goldenrod",
           "width": 5
          },
          "name": "Ability to pay",
          "showlegend": false,
          "type": "line",
          "x0": 0.7661361136757805,
          "x1": 0.7661361136757805,
          "xref": "x4",
          "y0": 13.63,
          "y1": 13.87,
          "yref": "y4"
         },
         {
          "legendgroup": "2",
          "line": {
           "color": "purple",
           "width": 5
          },
          "name": "Equal cumulative per capita",
          "showlegend": false,
          "type": "line",
          "x0": 2.542131805129821,
          "x1": 2.542131805129821,
          "xref": "x4",
          "y0": 13.91,
          "y1": 14.149999999999999,
          "yref": "y4"
         },
         {
          "fillcolor": "rosybrown",
          "line": {
           "color": "black",
           "width": 0
          },
          "opacity": 0.5,
          "type": "rect",
          "x0": 0.4714647001988286,
          "x1": 0.4258811685552769,
          "xref": "x4",
          "y0": 13.350000000000001,
          "y1": 13.59,
          "yref": "y4"
         },
         {
          "fillcolor": "tomato",
          "legendgroup": "3",
          "line": {
           "color": "black",
           "width": 0
          },
          "name": "Pay for mitigation abroad",
          "opacity": 0.5,
          "showlegend": false,
          "type": "rect",
          "x0": 0.48588116855527697,
          "x1": 0.535426907733151,
          "xref": "x4",
          "y0": 13.350000000000001,
          "y1": 13.59,
          "yref": "y4"
         },
         {
          "fillcolor": "rosybrown",
          "line": {
           "color": "black",
           "width": 0
          },
          "opacity": 0.5,
          "type": "rect",
          "x0": 0.4714647001988286,
          "x1": 0.4258811685552769,
          "xref": "x4",
          "y0": 13.63,
          "y1": 13.87,
          "yref": "y4"
         },
         {
          "fillcolor": "tomato",
          "legendgroup": "3",
          "line": {
           "color": "black",
           "width": 0
          },
          "name": "Pay for mitigation abroad",
          "opacity": 0.5,
          "showlegend": false,
          "type": "rect",
          "x0": 0.48588116855527697,
          "x1": 0.7361361136757805,
          "xref": "x4",
          "y0": 13.63,
          "y1": 13.87,
          "yref": "y4"
         },
         {
          "fillcolor": "rosybrown",
          "line": {
           "color": "black",
           "width": 0
          },
          "opacity": 0.5,
          "type": "rect",
          "x0": 0.4714647001988286,
          "x1": 0.4258811685552769,
          "xref": "x4",
          "y0": 13.91,
          "y1": 14.149999999999999,
          "yref": "y4"
         },
         {
          "fillcolor": "tomato",
          "legendgroup": "3",
          "line": {
           "color": "black",
           "width": 0
          },
          "name": "Pay for mitigation abroad",
          "opacity": 0.5,
          "showlegend": false,
          "type": "rect",
          "x0": 0.48588116855527697,
          "x1": 2.512131805129821,
          "xref": "x4",
          "y0": 13.91,
          "y1": 14.149999999999999,
          "yref": "y4"
         },
         {
          "line": {
           "color": "black",
           "dash": "dash",
           "width": 3
          },
          "type": "line",
          "x0": 0,
          "x1": 0,
          "xref": "x4",
          "y0": -1000,
          "y1": 1000,
          "yref": "y4"
         }
        ],
        "template": {
         "data": {
          "bar": [
           {
            "error_x": {
             "color": "#2a3f5f"
            },
            "error_y": {
             "color": "#2a3f5f"
            },
            "marker": {
             "line": {
              "color": "#E5ECF6",
              "width": 0.5
             },
             "pattern": {
              "fillmode": "overlay",
              "size": 10,
              "solidity": 0.2
             }
            },
            "type": "bar"
           }
          ],
          "barpolar": [
           {
            "marker": {
             "line": {
              "color": "#E5ECF6",
              "width": 0.5
             },
             "pattern": {
              "fillmode": "overlay",
              "size": 10,
              "solidity": 0.2
             }
            },
            "type": "barpolar"
           }
          ],
          "carpet": [
           {
            "aaxis": {
             "endlinecolor": "#2a3f5f",
             "gridcolor": "white",
             "linecolor": "white",
             "minorgridcolor": "white",
             "startlinecolor": "#2a3f5f"
            },
            "baxis": {
             "endlinecolor": "#2a3f5f",
             "gridcolor": "white",
             "linecolor": "white",
             "minorgridcolor": "white",
             "startlinecolor": "#2a3f5f"
            },
            "type": "carpet"
           }
          ],
          "choropleth": [
           {
            "colorbar": {
             "outlinewidth": 0,
             "ticks": ""
            },
            "type": "choropleth"
           }
          ],
          "contour": [
           {
            "colorbar": {
             "outlinewidth": 0,
             "ticks": ""
            },
            "colorscale": [
             [
              0,
              "#0d0887"
             ],
             [
              0.1111111111111111,
              "#46039f"
             ],
             [
              0.2222222222222222,
              "#7201a8"
             ],
             [
              0.3333333333333333,
              "#9c179e"
             ],
             [
              0.4444444444444444,
              "#bd3786"
             ],
             [
              0.5555555555555556,
              "#d8576b"
             ],
             [
              0.6666666666666666,
              "#ed7953"
             ],
             [
              0.7777777777777778,
              "#fb9f3a"
             ],
             [
              0.8888888888888888,
              "#fdca26"
             ],
             [
              1,
              "#f0f921"
             ]
            ],
            "type": "contour"
           }
          ],
          "contourcarpet": [
           {
            "colorbar": {
             "outlinewidth": 0,
             "ticks": ""
            },
            "type": "contourcarpet"
           }
          ],
          "heatmap": [
           {
            "colorbar": {
             "outlinewidth": 0,
             "ticks": ""
            },
            "colorscale": [
             [
              0,
              "#0d0887"
             ],
             [
              0.1111111111111111,
              "#46039f"
             ],
             [
              0.2222222222222222,
              "#7201a8"
             ],
             [
              0.3333333333333333,
              "#9c179e"
             ],
             [
              0.4444444444444444,
              "#bd3786"
             ],
             [
              0.5555555555555556,
              "#d8576b"
             ],
             [
              0.6666666666666666,
              "#ed7953"
             ],
             [
              0.7777777777777778,
              "#fb9f3a"
             ],
             [
              0.8888888888888888,
              "#fdca26"
             ],
             [
              1,
              "#f0f921"
             ]
            ],
            "type": "heatmap"
           }
          ],
          "heatmapgl": [
           {
            "colorbar": {
             "outlinewidth": 0,
             "ticks": ""
            },
            "colorscale": [
             [
              0,
              "#0d0887"
             ],
             [
              0.1111111111111111,
              "#46039f"
             ],
             [
              0.2222222222222222,
              "#7201a8"
             ],
             [
              0.3333333333333333,
              "#9c179e"
             ],
             [
              0.4444444444444444,
              "#bd3786"
             ],
             [
              0.5555555555555556,
              "#d8576b"
             ],
             [
              0.6666666666666666,
              "#ed7953"
             ],
             [
              0.7777777777777778,
              "#fb9f3a"
             ],
             [
              0.8888888888888888,
              "#fdca26"
             ],
             [
              1,
              "#f0f921"
             ]
            ],
            "type": "heatmapgl"
           }
          ],
          "histogram": [
           {
            "marker": {
             "pattern": {
              "fillmode": "overlay",
              "size": 10,
              "solidity": 0.2
             }
            },
            "type": "histogram"
           }
          ],
          "histogram2d": [
           {
            "colorbar": {
             "outlinewidth": 0,
             "ticks": ""
            },
            "colorscale": [
             [
              0,
              "#0d0887"
             ],
             [
              0.1111111111111111,
              "#46039f"
             ],
             [
              0.2222222222222222,
              "#7201a8"
             ],
             [
              0.3333333333333333,
              "#9c179e"
             ],
             [
              0.4444444444444444,
              "#bd3786"
             ],
             [
              0.5555555555555556,
              "#d8576b"
             ],
             [
              0.6666666666666666,
              "#ed7953"
             ],
             [
              0.7777777777777778,
              "#fb9f3a"
             ],
             [
              0.8888888888888888,
              "#fdca26"
             ],
             [
              1,
              "#f0f921"
             ]
            ],
            "type": "histogram2d"
           }
          ],
          "histogram2dcontour": [
           {
            "colorbar": {
             "outlinewidth": 0,
             "ticks": ""
            },
            "colorscale": [
             [
              0,
              "#0d0887"
             ],
             [
              0.1111111111111111,
              "#46039f"
             ],
             [
              0.2222222222222222,
              "#7201a8"
             ],
             [
              0.3333333333333333,
              "#9c179e"
             ],
             [
              0.4444444444444444,
              "#bd3786"
             ],
             [
              0.5555555555555556,
              "#d8576b"
             ],
             [
              0.6666666666666666,
              "#ed7953"
             ],
             [
              0.7777777777777778,
              "#fb9f3a"
             ],
             [
              0.8888888888888888,
              "#fdca26"
             ],
             [
              1,
              "#f0f921"
             ]
            ],
            "type": "histogram2dcontour"
           }
          ],
          "mesh3d": [
           {
            "colorbar": {
             "outlinewidth": 0,
             "ticks": ""
            },
            "type": "mesh3d"
           }
          ],
          "parcoords": [
           {
            "line": {
             "colorbar": {
              "outlinewidth": 0,
              "ticks": ""
             }
            },
            "type": "parcoords"
           }
          ],
          "pie": [
           {
            "automargin": true,
            "type": "pie"
           }
          ],
          "scatter": [
           {
            "fillpattern": {
             "fillmode": "overlay",
             "size": 10,
             "solidity": 0.2
            },
            "type": "scatter"
           }
          ],
          "scatter3d": [
           {
            "line": {
             "colorbar": {
              "outlinewidth": 0,
              "ticks": ""
             }
            },
            "marker": {
             "colorbar": {
              "outlinewidth": 0,
              "ticks": ""
             }
            },
            "type": "scatter3d"
           }
          ],
          "scattercarpet": [
           {
            "marker": {
             "colorbar": {
              "outlinewidth": 0,
              "ticks": ""
             }
            },
            "type": "scattercarpet"
           }
          ],
          "scattergeo": [
           {
            "marker": {
             "colorbar": {
              "outlinewidth": 0,
              "ticks": ""
             }
            },
            "type": "scattergeo"
           }
          ],
          "scattergl": [
           {
            "marker": {
             "colorbar": {
              "outlinewidth": 0,
              "ticks": ""
             }
            },
            "type": "scattergl"
           }
          ],
          "scattermapbox": [
           {
            "marker": {
             "colorbar": {
              "outlinewidth": 0,
              "ticks": ""
             }
            },
            "type": "scattermapbox"
           }
          ],
          "scatterpolar": [
           {
            "marker": {
             "colorbar": {
              "outlinewidth": 0,
              "ticks": ""
             }
            },
            "type": "scatterpolar"
           }
          ],
          "scatterpolargl": [
           {
            "marker": {
             "colorbar": {
              "outlinewidth": 0,
              "ticks": ""
             }
            },
            "type": "scatterpolargl"
           }
          ],
          "scatterternary": [
           {
            "marker": {
             "colorbar": {
              "outlinewidth": 0,
              "ticks": ""
             }
            },
            "type": "scatterternary"
           }
          ],
          "surface": [
           {
            "colorbar": {
             "outlinewidth": 0,
             "ticks": ""
            },
            "colorscale": [
             [
              0,
              "#0d0887"
             ],
             [
              0.1111111111111111,
              "#46039f"
             ],
             [
              0.2222222222222222,
              "#7201a8"
             ],
             [
              0.3333333333333333,
              "#9c179e"
             ],
             [
              0.4444444444444444,
              "#bd3786"
             ],
             [
              0.5555555555555556,
              "#d8576b"
             ],
             [
              0.6666666666666666,
              "#ed7953"
             ],
             [
              0.7777777777777778,
              "#fb9f3a"
             ],
             [
              0.8888888888888888,
              "#fdca26"
             ],
             [
              1,
              "#f0f921"
             ]
            ],
            "type": "surface"
           }
          ],
          "table": [
           {
            "cells": {
             "fill": {
              "color": "#EBF0F8"
             },
             "line": {
              "color": "white"
             }
            },
            "header": {
             "fill": {
              "color": "#C8D4E3"
             },
             "line": {
              "color": "white"
             }
            },
            "type": "table"
           }
          ]
         },
         "layout": {
          "annotationdefaults": {
           "arrowcolor": "#2a3f5f",
           "arrowhead": 0,
           "arrowwidth": 1
          },
          "autotypenumbers": "strict",
          "coloraxis": {
           "colorbar": {
            "outlinewidth": 0,
            "ticks": ""
           }
          },
          "colorscale": {
           "diverging": [
            [
             0,
             "#8e0152"
            ],
            [
             0.1,
             "#c51b7d"
            ],
            [
             0.2,
             "#de77ae"
            ],
            [
             0.3,
             "#f1b6da"
            ],
            [
             0.4,
             "#fde0ef"
            ],
            [
             0.5,
             "#f7f7f7"
            ],
            [
             0.6,
             "#e6f5d0"
            ],
            [
             0.7,
             "#b8e186"
            ],
            [
             0.8,
             "#7fbc41"
            ],
            [
             0.9,
             "#4d9221"
            ],
            [
             1,
             "#276419"
            ]
           ],
           "sequential": [
            [
             0,
             "#0d0887"
            ],
            [
             0.1111111111111111,
             "#46039f"
            ],
            [
             0.2222222222222222,
             "#7201a8"
            ],
            [
             0.3333333333333333,
             "#9c179e"
            ],
            [
             0.4444444444444444,
             "#bd3786"
            ],
            [
             0.5555555555555556,
             "#d8576b"
            ],
            [
             0.6666666666666666,
             "#ed7953"
            ],
            [
             0.7777777777777778,
             "#fb9f3a"
            ],
            [
             0.8888888888888888,
             "#fdca26"
            ],
            [
             1,
             "#f0f921"
            ]
           ],
           "sequentialminus": [
            [
             0,
             "#0d0887"
            ],
            [
             0.1111111111111111,
             "#46039f"
            ],
            [
             0.2222222222222222,
             "#7201a8"
            ],
            [
             0.3333333333333333,
             "#9c179e"
            ],
            [
             0.4444444444444444,
             "#bd3786"
            ],
            [
             0.5555555555555556,
             "#d8576b"
            ],
            [
             0.6666666666666666,
             "#ed7953"
            ],
            [
             0.7777777777777778,
             "#fb9f3a"
            ],
            [
             0.8888888888888888,
             "#fdca26"
            ],
            [
             1,
             "#f0f921"
            ]
           ]
          },
          "colorway": [
           "#636efa",
           "#EF553B",
           "#00cc96",
           "#ab63fa",
           "#FFA15A",
           "#19d3f3",
           "#FF6692",
           "#B6E880",
           "#FF97FF",
           "#FECB52"
          ],
          "font": {
           "color": "#2a3f5f"
          },
          "geo": {
           "bgcolor": "white",
           "lakecolor": "white",
           "landcolor": "#E5ECF6",
           "showlakes": true,
           "showland": true,
           "subunitcolor": "white"
          },
          "hoverlabel": {
           "align": "left"
          },
          "hovermode": "closest",
          "mapbox": {
           "style": "light"
          },
          "paper_bgcolor": "white",
          "plot_bgcolor": "#E5ECF6",
          "polar": {
           "angularaxis": {
            "gridcolor": "white",
            "linecolor": "white",
            "ticks": ""
           },
           "bgcolor": "#E5ECF6",
           "radialaxis": {
            "gridcolor": "white",
            "linecolor": "white",
            "ticks": ""
           }
          },
          "scene": {
           "xaxis": {
            "backgroundcolor": "#E5ECF6",
            "gridcolor": "white",
            "gridwidth": 2,
            "linecolor": "white",
            "showbackground": true,
            "ticks": "",
            "zerolinecolor": "white"
           },
           "yaxis": {
            "backgroundcolor": "#E5ECF6",
            "gridcolor": "white",
            "gridwidth": 2,
            "linecolor": "white",
            "showbackground": true,
            "ticks": "",
            "zerolinecolor": "white"
           },
           "zaxis": {
            "backgroundcolor": "#E5ECF6",
            "gridcolor": "white",
            "gridwidth": 2,
            "linecolor": "white",
            "showbackground": true,
            "ticks": "",
            "zerolinecolor": "white"
           }
          },
          "shapedefaults": {
           "line": {
            "color": "#2a3f5f"
           }
          },
          "ternary": {
           "aaxis": {
            "gridcolor": "white",
            "linecolor": "white",
            "ticks": ""
           },
           "baxis": {
            "gridcolor": "white",
            "linecolor": "white",
            "ticks": ""
           },
           "bgcolor": "#E5ECF6",
           "caxis": {
            "gridcolor": "white",
            "linecolor": "white",
            "ticks": ""
           }
          },
          "title": {
           "x": 0.05
          },
          "xaxis": {
           "automargin": true,
           "gridcolor": "white",
           "linecolor": "white",
           "ticks": "",
           "title": {
            "standoff": 15
           },
           "zerolinecolor": "white",
           "zerolinewidth": 2
          },
          "yaxis": {
           "automargin": true,
           "gridcolor": "white",
           "linecolor": "white",
           "ticks": "",
           "title": {
            "standoff": 15
           },
           "zerolinecolor": "white",
           "zerolinewidth": 2
          }
         }
        },
        "width": 1000,
        "xaxis": {
         "anchor": "y",
         "domain": [
          0,
          0.6666666666666666
         ],
         "range": [
          -1,
          3
         ],
         "showticklabels": false
        },
        "xaxis10": {
         "anchor": "y10",
         "domain": [
          0,
          0.3333333333333333
         ]
        },
        "xaxis11": {
         "anchor": "y11",
         "domain": [
          0.3333333333333333,
          0.6666666666666666
         ]
        },
        "xaxis12": {
         "anchor": "y12",
         "domain": [
          0.6666666666666666,
          1
         ]
        },
        "xaxis13": {
         "anchor": "y13",
         "domain": [
          0,
          0.3333333333333333
         ]
        },
        "xaxis14": {
         "anchor": "y14",
         "domain": [
          0.3333333333333333,
          0.6666666666666666
         ]
        },
        "xaxis15": {
         "anchor": "y15",
         "domain": [
          0.6666666666666666,
          1
         ]
        },
        "xaxis2": {
         "anchor": "y2",
         "domain": [
          0.3333333333333333,
          0.6666666666666666
         ]
        },
        "xaxis3": {
         "anchor": "y3",
         "domain": [
          0.6666666666666666,
          1
         ],
         "range": [
          0,
          1
         ],
         "showticklabels": false
        },
        "xaxis4": {
         "anchor": "y4",
         "domain": [
          0,
          0.6666666666666666
         ],
         "range": [
          -1,
          3
         ],
         "tickfont": {
          "size": 16
         },
         "ticktext": [
          "-100%",
          "-50%",
          "No<br>reduction",
          "50%",
          "100%",
          "150%",
          "200%",
          "250%"
         ],
         "tickvals": [
          -1,
          -0.5,
          0,
          0.5,
          1,
          1.5,
          2,
          2.5
         ]
        },
        "xaxis5": {
         "anchor": "y5",
         "domain": [
          0.3333333333333333,
          0.6666666666666666
         ]
        },
        "xaxis6": {
         "anchor": "y6",
         "domain": [
          0.6666666666666666,
          1
         ],
         "range": [
          0,
          1
         ],
         "showticklabels": false
        },
        "xaxis7": {
         "anchor": "y7",
         "domain": [
          0,
          0.3333333333333333
         ]
        },
        "xaxis8": {
         "anchor": "y8",
         "domain": [
          0.3333333333333333,
          0.6666666666666666
         ]
        },
        "xaxis9": {
         "anchor": "y9",
         "domain": [
          0.6666666666666666,
          1
         ]
        },
        "yaxis": {
         "anchor": "x",
         "domain": [
          0.816,
          1
         ],
         "range": [
          0.5,
          1.5
         ],
         "showticklabels": false
        },
        "yaxis10": {
         "anchor": "x10",
         "domain": [
          0.204,
          0.388
         ]
        },
        "yaxis11": {
         "anchor": "x11",
         "domain": [
          0.204,
          0.388
         ]
        },
        "yaxis12": {
         "anchor": "x12",
         "domain": [
          0.204,
          0.388
         ]
        },
        "yaxis13": {
         "anchor": "x13",
         "domain": [
          0,
          0.184
         ]
        },
        "yaxis14": {
         "anchor": "x14",
         "domain": [
          0,
          0.184
         ]
        },
        "yaxis15": {
         "anchor": "x15",
         "domain": [
          0,
          0.184
         ]
        },
        "yaxis2": {
         "anchor": "x2",
         "domain": [
          0.816,
          1
         ]
        },
        "yaxis3": {
         "anchor": "x3",
         "domain": [
          0.816,
          1
         ],
         "range": [
          0,
          1
         ],
         "showticklabels": false
        },
        "yaxis4": {
         "anchor": "x4",
         "domain": [
          0,
          0.796
         ],
         "range": [
          -0.5,
          15
         ],
         "showticklabels": false
        },
        "yaxis5": {
         "anchor": "x5",
         "domain": [
          0.6120000000000001,
          0.796
         ]
        },
        "yaxis6": {
         "anchor": "x6",
         "domain": [
          0,
          0.796
         ],
         "range": [
          -0.5,
          15
         ],
         "showticklabels": false
        },
        "yaxis7": {
         "anchor": "x7",
         "domain": [
          0.408,
          0.592
         ]
        },
        "yaxis8": {
         "anchor": "x8",
         "domain": [
          0.408,
          0.592
         ]
        },
        "yaxis9": {
         "anchor": "x9",
         "domain": [
          0.408,
          0.592
         ]
        }
       }
      }
     },
     "metadata": {},
     "output_type": "display_data"
    }
   ],
   "source": [
    "fig = make_subplots(rows=5, cols=3,\n",
    "                    specs=[[{'colspan':2}, {}, {}],\n",
    "                           [{'rowspan': 4, 'colspan':2}, {}, {'rowspan': 4}],\n",
    "                           [{}, {}, {}],\n",
    "                           [{}, {}, {}],\n",
    "                           [{}, {}, {}]],\n",
    "                    horizontal_spacing = 0., vertical_spacing=0.02)\n",
    "\n",
    "fig.update_layout(height=1000, width=1000)\n",
    "fs=20\n",
    "fig['layout'].update(\n",
    "    annotations=[dict(x=0.05, y=1.08, text='<b>NDC', xref='paper', yref='paper', showarrow=False, font=dict(color='black', size=18)),\n",
    "                 dict(x=0.17, y=1.1, text='<b>Cost<br>optimal', xref='paper', yref='paper', showarrow=False, font=dict(color='saddlebrown', size=18)),\n",
    "                 dict(x=0.45, y=1.1, text=\"<b>Fair targets<br>according to<br><span style='color: purple;'>ECPC</span>, \"\n",
    "                                            \"<span style='color: goldenrod;'>AP</span> and \"\n",
    "                                            \"<span style='color: steelblue;'>PCC</span>\",\n",
    "                                            xref='paper', yref='paper', showarrow=False, font=dict(color='black', size=18)),\n",
    "                #  dict(x=0.01, y=0.98, text='<b>ECPC', xref='paper', yref='paper', showarrow=False, font=dict(color='purple', size=fs)),\n",
    "                dict(x=-0.05, y=0.94, text='<b>Example<br>country', xref='paper', yref='paper', align = 'left',showarrow=False, font=dict(color='black', size=16)),\n",
    "                #  dict(x=0.01, y=0.87, text='<b>PCC', xref='paper', yref='paper', showarrow=False, font=dict(color='steelblue', size=fs)),\n",
    "\n",
    "                 dict(x=0.76, y=1.1, text='<b>Fund<br>domestic<br>mitigation', xref='paper', yref='paper', align='center', showarrow=False, font=dict(color='grey', size=18)),\n",
    "                 dict(x=0.88, y=1.1, text='<b>Receive<br>finance', xref='paper', yref='paper', showarrow=False, align='center', font=dict(color='forestgreen', size=18)),\n",
    "                 dict(x=1.01, y=1.1, text='<b>Provide<br>finance', xref='paper', yref='paper', showarrow=False, align='center', font=dict(color='tomato', size=18)),\n",
    "                 dict(x=0.75, y=1.01, text='(Gt CO<sub>2</sub>e)', xref='paper', yref='paper', align='center', showarrow=False, font=dict(color='grey', size=15)),\n",
    "                 dict(x=0.88, y=1.01, text='(Gt CO<sub>2</sub>e)', xref='paper', yref='paper', showarrow=False, align='center', font=dict(color='forestgreen', size=15)),\n",
    "                 dict(x=1.01, y=1.01, text='(Gt CO<sub>2</sub>e)', xref='paper', yref='paper', showarrow=False, align='center', font=dict(color='tomato', size=15)),\n",
    "                 dict(x=0.25, y=-0.08, text='Emissions reductions by 2030 w.r.t. 2015', xref='paper', yref='paper', xanchor='center', showarrow=False, font=dict(color='black', size=15)),\n",
    "                 ])\n",
    "\n",
    "for i in range(3):\n",
    "    fig.add_shape(\n",
    "        type=\"line\",\n",
    "        x0=[0.08, 0.22, 0.45][i], x1=[0.11, 0.19, 0.5][i],  # Line spans horizontally across the paper\n",
    "        y0=[1.04, 1.04, 1.01][i], y1=[0.99, 0.99, 0.99][i],  # Line fixed at y=5 in subplot data coordinates\n",
    "        xref=\"paper\",  # Reference x-coordinates relative to the paper\n",
    "        yref=\"paper\",     # Reference y-axis of the first subplot\n",
    "        line=dict(color=\"black\", width=2)  # Line style\n",
    "    )\n",
    "\n",
    "\n",
    "# ============ #\n",
    "# Panel (a) Explainer\n",
    "# ============ #\n",
    "\n",
    "reg = 'SAU'\n",
    "ndc_estimate, reductions_i, costopt_i = data(reg)\n",
    "reductions_i[1] = -0.1\n",
    "reductions_i[0] = -0.5\n",
    "\n",
    "fig.add_shape(\n",
    "    type=\"line\",\n",
    "    col=1, row=1,\n",
    "    x0=ndc_estimate, x1=ndc_estimate,\n",
    "    y0=1 + -wd, y1=1 + wd,\n",
    "    name='NDC',\n",
    "    legendgroup=2,\n",
    "    showlegend=False,\n",
    "    line=dict(color=\"black\", width=5)\n",
    ")\n",
    "for i in range(3):\n",
    "    fig.add_shape(\n",
    "        type=\"line\",\n",
    "        col=1, row=1,\n",
    "        x0=reductions_i[i], x1=reductions_i[i],\n",
    "        y0=1 + -wd*0.3 + [-wd*0.7, 0, wd*0.7][i], y1=1 + wd*0.3+ [-wd*0.7, 0, wd*0.7][i],\n",
    "        name=['Per capita convergence', 'Ability to pay', 'Equal cumulative per capita'][i],\n",
    "        legendgroup=2,\n",
    "        showlegend=False,\n",
    "        line=dict(color=[\"steelblue\", 'goldenrod', 'purple'][i], width=5)\n",
    "    )\n",
    "areas(fig, ndc_estimate, reductions_i, costopt_i, 1, 1)\n",
    "fig.add_shape(\n",
    "    type=\"line\",\n",
    "    col=1, row=1,\n",
    "    x0=costopt_i, x1=costopt_i,\n",
    "    y0=-wd + 1, y1=wd + 1,\n",
    "    name='Cost optimal',\n",
    "    legendgroup=2,\n",
    "    showlegend=False,\n",
    "    line=dict(color=\"saddlebrown\", width=5)\n",
    ")\n",
    "\n",
    "fig.add_shape(\n",
    "    col=1, row=1,\n",
    "    type=\"line\",\n",
    "    x0=0, x1=0,\n",
    "    y0=0.5, y1=2,\n",
    "    line=dict(color=\"black\",  dash='dash',width=3)\n",
    ")\n",
    "fig.update_yaxes(row=1, col=1, range=(0.5, 1.5), showticklabels=False)\n",
    "\n",
    "fig.update_layout(\n",
    "    plot_bgcolor='white',  # Background of the plot area\n",
    "    paper_bgcolor='white',  # Background of the entire figure\n",
    "    barmode='group',  # Ensures the bars are grouped\n",
    ")\n",
    "fig.update_xaxes(row=1, col=1, range=(-1, 3), showticklabels=False)\n",
    "                #  tickfont=dict(size=16),\n",
    "                #     tickvals=[-1, -0.5, 0, 0.5, 1, 1.5, 2, 2.5],\n",
    "                #     ticktext=['-100%', '-50%', 'No<br>reduction', '50%', '100%', '150%', '200%', '250%'])\n",
    "\n",
    "# Annotation\n",
    "for i in range(3):\n",
    "    fig.add_annotation(text=[\"1.0\", \"0\", \"4.0\"][i], x=[0.1, 0.5, 0.9][i], y=0.8, showarrow=False, row=1, col=3, font=dict(size=17, color=['grey', 'forestgreen', 'tomato'][i]))\n",
    "    fig.add_annotation(text=[\"0.5\", \"0.5\", \"0\"][i], x=[0.1, 0.5, 0.9][i], y=0.5, showarrow=False, row=1, col=3, font=dict(size=17, color=['grey', 'forestgreen', 'tomato'][i]))\n",
    "    fig.add_annotation(text=[\"0\", \"1.0\", \"0\"][i], x=[0.1, 0.5, 0.9][i], y=0.2, showarrow=False, row=1, col=3, font=dict(size=17, color=['grey', 'forestgreen', 'tomato'][i]))\n",
    "fig.update_xaxes(row=1, col=3, range=(0, 1), showticklabels=False)\n",
    "fig.update_yaxes(row=1, col=3, range=(0, 1), showticklabels=False)\n",
    "\n",
    "# ============ #\n",
    "# Actual data\n",
    "# ============ #\n",
    "\n",
    "for reg_i, reg in enumerate(['USA', 'BRA', 'EU', 'SAU', 'RUS', 'JPN', 'ZAF', 'IDN', 'MEX', 'CHN', 'IND', 'NGA'][::-1]):\n",
    "    ndc_estimate, reductions_i, costopt_i = data(reg)\n",
    "\n",
    "    fig.add_shape(\n",
    "        type=\"line\",\n",
    "        col=1, row=2,\n",
    "        x0=ndc_estimate, x1=ndc_estimate,\n",
    "        y0=reg_i*1.25 + -wd, y1=reg_i*1.25 + wd,\n",
    "        name='NDC',\n",
    "        legendgroup=2,\n",
    "        showlegend=False,\n",
    "        line=dict(color=\"black\", width=5)\n",
    "    )\n",
    "\n",
    "    fig.add_shape(\n",
    "        type=\"line\",\n",
    "        col=1, row=2,\n",
    "        x0=costopt_i, x1=costopt_i,\n",
    "        y0=-wd + reg_i*1.25 , y1=wd + reg_i*1.25,\n",
    "        name='Cost optimal',\n",
    "        legendgroup=2,\n",
    "        showlegend=False,\n",
    "        line=dict(color=\"saddlebrown\", width=5)\n",
    "    )\n",
    "\n",
    "    for i in range(3):\n",
    "        fig.add_shape(\n",
    "            type=\"line\",\n",
    "            col=1, row=2,\n",
    "            x0=reductions_i[i], x1=reductions_i[i],\n",
    "            y0=reg_i*1.25 + -wd*0.3 + [-wd*0.7, 0, wd*0.7][i], y1=reg_i*1.25 + wd*0.3+ [-wd*0.7, 0, wd*0.7][i],\n",
    "            name=['Per capita convergence', 'Ability to pay', 'Equal cumulative per capita'][i],\n",
    "            legendgroup=2,\n",
    "            showlegend=False,\n",
    "            line=dict(color=[\"steelblue\", 'goldenrod', 'purple'][i], width=5)\n",
    "        )\n",
    "    areas(fig, ndc_estimate, reductions_i, costopt_i, 2, 1, yref=reg_i*1.25)\n",
    "    cty = all_regions_names[all_regions_iso==reg][0].replace(' ', '<br>')\n",
    "    if reg == 'USA': cty = 'United<br>States'\n",
    "    fig.add_annotation(x=-0.05, y=reg_i*1.25, align = 'left',\n",
    "                       text=cty, xref='paper', yref='y4', showarrow=False, font=dict(color='black', size=16))\n",
    "    \n",
    "    domestic, receivepay, payabroad, domoverspend = np.array(gaps(reg))\n",
    "    d0, d1 = (np.min(domestic)/1e3, np.max(domestic)/1e3)\n",
    "    r0, r1 = (np.min(receivepay)/1e3, np.max(receivepay)/1e3)\n",
    "    p0, p1 = (np.min(payabroad)/1e3, np.max(payabroad)/1e3)\n",
    "    o0, o1 = (np.min(domoverspend)/1e3, np.max(domoverspend)/1e3)\n",
    "\n",
    "    if p0 == 0: p0 = int(0)\n",
    "    if r0 == 0: r0 = int(0)\n",
    "    if d0 == 0: d0 = int(0)\n",
    "    if o0 == 0: o0 = int(0)\n",
    "\n",
    "    s_d = f\"{d0:.1f}-{d1:.1f}\"\n",
    "    s_r = f\"{r0:.1f}-{r1:.1f}\"\n",
    "    s_p = f\"{p0:.1f}-{p1:.1f}\"\n",
    "    s_o = f\"{o0:.1f}-{o1:.1f}\"\n",
    "\n",
    "    if d0 == d1:\n",
    "        if d0 != 0:\n",
    "            s_d = f\"{d0:.1f}\"\n",
    "        else:\n",
    "            s_d = \"0\"\n",
    "    if r0 == r1:\n",
    "        if r0 != 0:\n",
    "            s_r = f\"{r0:.1f}\"\n",
    "        else:\n",
    "            s_r = \"0\"\n",
    "    if p0 == p1:\n",
    "        if p0 != 0:\n",
    "            s_p = f\"{p0:.1f}\"\n",
    "        else:\n",
    "            s_p = \"0\"\n",
    "    if o0 == o1:\n",
    "        if o0 != 0:\n",
    "            s_o = f\"{o0:.1f}\"\n",
    "        else:\n",
    "            s_o = \"0\"\n",
    "\n",
    "    stringy = [s_d, s_r, s_p, s_o]\n",
    "    for i in range(3):\n",
    "        fig.add_annotation(text=stringy[i], x=[0.1, 0.5, 0.9][i], y=reg_i*1.25, showarrow=False, row=2, col=3, font=dict(size=17, color=['grey', 'forestgreen', 'tomato'][i]))\n",
    "\n",
    "fig.update_xaxes(row=2, col=3, range=(0, 1), showticklabels=False)\n",
    "fig.update_yaxes(row=2, col=3, range=(-0.5, 15), showticklabels=False)\n",
    "\n",
    "fig.add_shape(\n",
    "    col=1, row=2,\n",
    "    type=\"line\",\n",
    "    x0=0, x1=0,\n",
    "    y0=-1e3, y1=1e3,\n",
    "    line=dict(color=\"black\",  dash='dash',width=3)\n",
    ")\n",
    "fig.update_xaxes(row=2, col=1, range=(-1, 3), tickfont=dict(size=16),\n",
    "                    tickvals=[-1, -0.5, 0, 0.5, 1, 1.5, 2, 2.5],\n",
    "                    ticktext=['-100%', '-50%', 'No<br>reduction', '50%', '100%', '150%', '200%', '250%'])\n",
    "fig.update_yaxes(row=2, col=1, range=(-0.5, 15\n",
    "                                      ), showticklabels=False)\n",
    "\n",
    "#fig.write_image(\"K:/Code/effort-sharing/Figures/Paper_FairShares/V2/Figure_4.png\", scale=5) # THINK ABOUT THE CHOICE ON < NDC FAIR ALLOCATIONS\n",
    "fig.show()"
   ]
  },
  {
   "cell_type": "code",
   "execution_count": 175,
   "metadata": {},
   "outputs": [
    {
     "data": {
      "text/plain": [
       "array([ 2921.86706768,  4961.14776137, 31987.55056396])"
      ]
     },
     "execution_count": 175,
     "metadata": {},
     "output_type": "execute_result"
    }
   ],
   "source": [
    "c_pay.sum(axis=0)"
   ]
  },
  {
   "cell_type": "code",
   "execution_count": 176,
   "metadata": {},
   "outputs": [
    {
     "data": {
      "text/plain": [
       "array([nan, nan, nan])"
      ]
     },
     "execution_count": 176,
     "metadata": {},
     "output_type": "execute_result"
    }
   ],
   "source": [
    "c_rec.sum(axis=0) + c_dom.sum(axis=0)"
   ]
  },
  {
   "cell_type": "code",
   "execution_count": 177,
   "metadata": {},
   "outputs": [
    {
     "data": {
      "text/plain": [
       "array([nan, nan, nan])"
      ]
     },
     "execution_count": 177,
     "metadata": {},
     "output_type": "execute_result"
    }
   ],
   "source": [
    "c_pay.sum(axis=0) / c_rec.sum(axis=0)"
   ]
  },
  {
   "cell_type": "code",
   "execution_count": 178,
   "metadata": {},
   "outputs": [
    {
     "data": {
      "text/plain": [
       "array([3.85105158e+12, 3.45231024e+12, 3.22027604e+12])"
      ]
     },
     "execution_count": 178,
     "metadata": {},
     "output_type": "execute_result"
    }
   ],
   "source": [
    "c_dom.sum(axis=0)*200*1e6"
   ]
  }
 ],
 "metadata": {
  "kernelspec": {
   "display_name": "Python 3",
   "language": "python",
   "name": "python3"
  },
  "language_info": {
   "codemirror_mode": {
    "name": "ipython",
    "version": 3
   },
   "file_extension": ".py",
   "mimetype": "text/x-python",
   "name": "python",
   "nbconvert_exporter": "python",
   "pygments_lexer": "ipython3",
   "version": "3.12.5"
  },
  "orig_nbformat": 4
 },
 "nbformat": 4,
 "nbformat_minor": 2
}
