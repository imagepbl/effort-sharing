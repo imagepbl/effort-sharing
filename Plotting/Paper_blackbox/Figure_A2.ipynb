{
 "cells": [
  {
   "cell_type": "markdown",
   "metadata": {},
   "source": [
    "##  Preambule"
   ]
  },
  {
   "cell_type": "code",
   "execution_count": 1,
   "metadata": {},
   "outputs": [],
   "source": [
    "import numpy as np\n",
    "from tqdm import tqdm\n",
    "from importlib import reload\n",
    "import xarray as xr\n",
    "import pandas as pd\n",
    "import scipy\n",
    "import matplotlib.pyplot as plt\n",
    "import matplotlib.colors as clr\n",
    "from scipy.optimize import curve_fit\n",
    "from scipy.signal import savgol_filter\n",
    "import warnings\n",
    "warnings.simplefilter(action='ignore', category=FutureWarning)\n",
    "\n",
    "import plotly.graph_objects as go\n",
    "import plotly.express as px\n",
    "from plotly.subplots import make_subplots\n",
    "from plotly.colors import n_colors"
   ]
  },
  {
   "cell_type": "markdown",
   "metadata": {},
   "source": [
    "## Read data"
   ]
  },
  {
   "cell_type": "code",
   "execution_count": 2,
   "metadata": {},
   "outputs": [],
   "source": [
    "path_data = \"K:/Data/Data_EffortSharing/DataUpdate_ongoing/startyear_2021/\""
   ]
  },
  {
   "cell_type": "code",
   "execution_count": 3,
   "metadata": {},
   "outputs": [],
   "source": [
    "xr_dataread = xr.open_dataset(path_data+ 'xr_dataread.nc').copy()\n",
    "all_countries_iso = np.load(path_data + \"../all_countries.npy\", allow_pickle=True)\n",
    "all_regions_iso = np.load(path_data + \"../all_regions.npy\", allow_pickle=True)"
   ]
  },
  {
   "cell_type": "code",
   "execution_count": 4,
   "metadata": {},
   "outputs": [],
   "source": [
    "settings_default = {'Temperature': 1.6,\n",
    "                   'Risk': 0.5,\n",
    "                   'NegEmis': 0.5,\n",
    "                   'NonCO2red': 0.5,\n",
    "                   'Timing': \"Immediate\",\n",
    "                   'Convergence_year': 2050,\n",
    "                   'Scenario': 'SSP2',\n",
    "                   'Discount_factor': 0,\n",
    "                   'Historical_startyear': 1990,}\n",
    "                   #'Capability_threshold': \"Th\",\n",
    "                   #'RCI_weight': \"Half\"}"
   ]
  },
  {
   "cell_type": "markdown",
   "metadata": {},
   "source": [
    "## Plot"
   ]
  },
  {
   "cell_type": "code",
   "execution_count": 5,
   "metadata": {},
   "outputs": [
    {
     "name": "stderr",
     "output_type": "stream",
     "text": [
      "197it [00:14, 13.60it/s]\n"
     ]
    }
   ],
   "source": [
    "ctys = all_countries_iso\n",
    "dataset = xr.open_dataset(path_data + 'Aggregated_files/xr_alloc_2040_GHG_incl.nc').sel(Temperature=[1.5, 1.6, 1.7, 1.8, 1.9, 2.0]).copy()[['PCC', 'ECPC', 'AP']]\n",
    "\n",
    "titles = ['Default', '1.5°C', '1.8°C', '2.0°C', 'Delayed', 'High','Low',\n",
    "          'SSP1', 'SSP3', '83th<br>percentile', '17th<br>percentile', '83th<br>percentile', '17th<br>percentile',\n",
    "          'Converged<br>in 2040', 'Converged<br>in 2050', 'Converged<br>in 2080', 'Capability',\n",
    "          '0%,<br>>1850', '1.6%,<br>>1950', '2.8%,<br>>1990']\n",
    "vals = np.zeros((len(ctys), len(titles)))\n",
    "fullmedian = np.zeros(len(ctys))\n",
    "for cty_i, cty in tqdm(enumerate(ctys)):\n",
    "    data = dataset.sel(Region=cty)\n",
    "    emis_2015 = float(xr_dataread.sel(Time=2015, Region=cty).GHG_hist)\n",
    "    fullmedian[cty_i] = (float(data.sel(**settings_default).to_array().median())-emis_2015)/emis_2015\n",
    "\n",
    "    vals[cty_i, 0] = (float(data.sel(**settings_default).to_array().median())-emis_2015)/emis_2015\n",
    "    vals[cty_i, 1] = (float(data.sel(**{key: settings_default[key] for key in settings_default if key != 'Temperature'}).sel(Temperature=1.5).to_array().median())-emis_2015)/emis_2015\n",
    "    vals[cty_i, 2] = (float(data.sel(**{key: settings_default[key] for key in settings_default if key != 'Temperature'}).sel(Temperature=1.8).to_array().median())-emis_2015)/emis_2015\n",
    "    vals[cty_i, 3] = (float(data.sel(**{key: settings_default[key] for key in settings_default if key != 'Temperature'}).sel(Temperature=2.0).to_array().median())-emis_2015)/emis_2015\n",
    "    vals[cty_i, 4] = (float(data.sel(**{key: settings_default[key] for key in settings_default if key != 'Timing'}).sel(Timing='Delayed').to_array().median())-emis_2015)/emis_2015\n",
    "    vals[cty_i, 5] = (float(data.sel(**{key: settings_default[key] for key in settings_default if key != 'NegEmis'}).sel(NegEmis=0.83).to_array().median())-emis_2015)/emis_2015\n",
    "    #vals[cty_i, 7] = (float(data.sel(Time=year, **{key: settings_default[key] for key in settings_default if key != 'NegEmis'}).sel(NegEmis=0.5).to_array().median())-emis_2015)/emis_2015\n",
    "    vals[cty_i, 6] = (float(data.sel(**{key: settings_default[key] for key in settings_default if key != 'NegEmis'}).sel(NegEmis=0.17).to_array().median())-emis_2015)/emis_2015\n",
    "\n",
    "    vals[cty_i, 7] = (float(data.sel(**{key: settings_default[key] for key in settings_default if key != 'NonCO2red'}).sel(NonCO2red=0.83).to_array().median())-emis_2015)/emis_2015\n",
    "    #vals[cty_i, 13] = (float(data.sel(Time=year, **{key: settings_default[key] for key in settings_default if key != 'NonCO2red'}).sel(NonCO2red=0.5).to_array().median())-emis_2015)/emis_2015\n",
    "    vals[cty_i, 8] = (float(data.sel(**{key: settings_default[key] for key in settings_default if key != 'NonCO2red'}).sel(NonCO2red=0.17).to_array().median())-emis_2015)/emis_2015\n",
    "\n",
    "    vals[cty_i, 9] = (float(data.sel(**{key: settings_default[key] for key in settings_default if key != 'Scenario'}).sel(Scenario='SSP1').to_array().median())-emis_2015)/emis_2015\n",
    "    #vals[cty_i, 10] = (float(data.sel(Time=year, **{key: settings_default[key] for key in settings_default if key != 'Scenario'}).sel(Scenario='SSP2').to_array().median())-emis_2015)/emis_2015\n",
    "    vals[cty_i, 10] = (float(data.sel(**{key: settings_default[key] for key in settings_default if key != 'Scenario'}).sel(Scenario='SSP3').to_array().median())-emis_2015)/emis_2015\n",
    "\n",
    "    vals[cty_i, 11] = (float(data.sel(**{key: settings_default[key] for key in settings_default if key != 'Risk'}).sel(Risk=0.17).to_array().median())-emis_2015)/emis_2015\n",
    "   # vals[cty_i, 16] = (float(data.sel(Time=year, **{key: settings_default[key] for key in settings_default if key != 'Risk'}).sel(Risk=0.5).to_array().median())-emis_2015)/emis_2015\n",
    "    vals[cty_i, 12] = (float(data.sel(**{key: settings_default[key] for key in settings_default if key != 'Risk'}).sel(Risk=0.83).to_array().median())-emis_2015)/emis_2015\n",
    "\n",
    "    vals[cty_i, 13] = (float(data.sel(**{key: settings_default[key] for key in settings_default if key != 'Convergence_year'})[['PCC']].sel(Convergence_year=2040).to_array().median())-emis_2015)/emis_2015\n",
    "    vals[cty_i, 14] = (float(data.sel(**{key: settings_default[key] for key in settings_default if key != 'Convergence_year'})[['PCC']].sel(Convergence_year=2050).to_array().median())-emis_2015)/emis_2015\n",
    "    vals[cty_i, 15] = (float(data.sel(**{key: settings_default[key] for key in settings_default if key != 'Convergence_year'})[['PCC']].sel(Convergence_year=2080).to_array().median())-emis_2015)/emis_2015\n",
    "    \n",
    "    vals[cty_i, 16] = (float(data.sel(**settings_default)[['AP']].to_array().median())-emis_2015)/emis_2015\n",
    "\n",
    "    vals[cty_i, 17] = (float(data.sel(**{key: settings_default[key] for key in settings_default if key not in ['Discount_factor', 'Historical_startyear']})[['ECPC']].sel(Discount_factor=0, Historical_startyear=1850).to_array().median())-emis_2015)/emis_2015\n",
    "    vals[cty_i, 18] = (float(data.sel(**{key: settings_default[key] for key in settings_default if key not in ['Discount_factor', 'Historical_startyear']})[['ECPC']].sel(Discount_factor=1.6, Historical_startyear=1950).to_array().median())-emis_2015)/emis_2015\n",
    "    vals[cty_i, 19] = (float(data.sel(**{key: settings_default[key] for key in settings_default if key not in ['Discount_factor', 'Historical_startyear']})[['ECPC']].sel(Discount_factor=2.8, Historical_startyear=1990).to_array().median())-emis_2015)/emis_2015\n",
    "vals_dev_all = np.round(100*(vals.T-fullmedian),1).T\n",
    "vals_all = np.round(100*vals, 1)"
   ]
  },
  {
   "cell_type": "code",
   "execution_count": 6,
   "metadata": {},
   "outputs": [],
   "source": [
    "titles = ['Default', '1.5°C', '1.8°C', '2.0°C', 'Delayed', 'High','Low',\n",
    "          '83<sup>th</sup> perc', '17<sup>th</sup> perc', 'SSP1', 'SSP3', '83<sup>th</sup> perc', '17<sup>th</sup> perc',\n",
    "          'Converged<br>in 2040', 'Converged<br>in 2050', 'Converged<br>in 2080', 'Capability',\n",
    "          '0%,<br>>1850', '1.6%,<br>>1950', '2.8%,<br>>1990']"
   ]
  },
  {
   "cell_type": "code",
   "execution_count": 7,
   "metadata": {},
   "outputs": [],
   "source": [
    "ctys = ['USA', 'EU', 'RUS', 'BRA', 'IND', 'CHN', 'ZAF', 'UGA', 'VNM', 'HND']\n",
    "year = 2040\n",
    "datasets = [xr.open_dataset(path_data+ 'Allocations_GHG_incl/xr_alloc_'+cty+'.nc').sel(Temperature=[1.5, 1.6, 1.7, 1.8, 1.9, 2.0]).copy()[['PCC', 'ECPC', 'AP']] for cty in ctys]\n",
    "\n",
    "vals = np.zeros((len(ctys), len(titles)))\n",
    "fullmedian = np.zeros(len(ctys))\n",
    "for cty_i, cty in enumerate(ctys):\n",
    "    data = datasets[cty_i]\n",
    "    emis_2015 = float(xr_dataread.sel(Time=2015, Region=cty).GHG_hist)\n",
    "    fullmedian[cty_i] = (float(data.sel(Time=year, **settings_default).to_array().median())-emis_2015)/emis_2015\n",
    "\n",
    "    vals[cty_i, 0] = (float(data.sel(Time=year, **settings_default).to_array().median())-emis_2015)/emis_2015\n",
    "    vals[cty_i, 1] = (float(data.sel(Time=year, **{key: settings_default[key] for key in settings_default if key != 'Temperature'}).sel(Temperature=1.5).to_array().median())-emis_2015)/emis_2015\n",
    "    vals[cty_i, 2] = (float(data.sel(Time=year, **{key: settings_default[key] for key in settings_default if key != 'Temperature'}).sel(Temperature=1.8).to_array().median())-emis_2015)/emis_2015\n",
    "    vals[cty_i, 3] = (float(data.sel(Time=year, **{key: settings_default[key] for key in settings_default if key != 'Temperature'}).sel(Temperature=2.0).to_array().median())-emis_2015)/emis_2015\n",
    "    \n",
    "    #vals[cty_i, 4] = (float(data.sel(Time=year, **{key: settings_default[key] for key in settings_default if key != 'Timing'}).sel(Timing='Immediate').to_array().median())-emis_2015)/emis_2015\n",
    "    vals[cty_i, 4] = (float(data.sel(Time=year, **{key: settings_default[key] for key in settings_default if key != 'Timing'}).sel(Timing='Delayed').to_array().median())-emis_2015)/emis_2015\n",
    "\n",
    "    vals[cty_i, 5] = (float(data.sel(Time=year, **{key: settings_default[key] for key in settings_default if key != 'NegEmis'}).sel(NegEmis=0.83).to_array().median())-emis_2015)/emis_2015\n",
    "    #vals[cty_i, 7] = (float(data.sel(Time=year, **{key: settings_default[key] for key in settings_default if key != 'NegEmis'}).sel(NegEmis=0.5).to_array().median())-emis_2015)/emis_2015\n",
    "    vals[cty_i, 6] = (float(data.sel(Time=year, **{key: settings_default[key] for key in settings_default if key != 'NegEmis'}).sel(NegEmis=0.17).to_array().median())-emis_2015)/emis_2015\n",
    "\n",
    "    vals[cty_i, 7] = (float(data.sel(Time=year, **{key: settings_default[key] for key in settings_default if key != 'NonCO2red'}).sel(NonCO2red=0.83).to_array().median())-emis_2015)/emis_2015\n",
    "    #vals[cty_i, 13] = (float(data.sel(Time=year, **{key: settings_default[key] for key in settings_default if key != 'NonCO2red'}).sel(NonCO2red=0.5).to_array().median())-emis_2015)/emis_2015\n",
    "    vals[cty_i, 8] = (float(data.sel(Time=year, **{key: settings_default[key] for key in settings_default if key != 'NonCO2red'}).sel(NonCO2red=0.17).to_array().median())-emis_2015)/emis_2015\n",
    "\n",
    "    vals[cty_i, 9] = (float(data.sel(Time=year, **{key: settings_default[key] for key in settings_default if key != 'Scenario'}).sel(Scenario='SSP1').to_array().median())-emis_2015)/emis_2015\n",
    "    #vals[cty_i, 10] = (float(data.sel(Time=year, **{key: settings_default[key] for key in settings_default if key != 'Scenario'}).sel(Scenario='SSP2').to_array().median())-emis_2015)/emis_2015\n",
    "    vals[cty_i, 10] = (float(data.sel(Time=year, **{key: settings_default[key] for key in settings_default if key != 'Scenario'}).sel(Scenario='SSP3').to_array().median())-emis_2015)/emis_2015\n",
    "\n",
    "    vals[cty_i, 11] = (float(data.sel(Time=year, **{key: settings_default[key] for key in settings_default if key != 'Risk'}).sel(Risk=0.17).to_array().median())-emis_2015)/emis_2015\n",
    "   # vals[cty_i, 16] = (float(data.sel(Time=year, **{key: settings_default[key] for key in settings_default if key != 'Risk'}).sel(Risk=0.5).to_array().median())-emis_2015)/emis_2015\n",
    "    vals[cty_i, 12] = (float(data.sel(Time=year, **{key: settings_default[key] for key in settings_default if key != 'Risk'}).sel(Risk=0.83).to_array().median())-emis_2015)/emis_2015\n",
    "\n",
    "    vals[cty_i, 13] = (float(data.sel(Time=year, **{key: settings_default[key] for key in settings_default if key != 'Convergence_year'})[['PCC']].sel(Convergence_year=2040).to_array().median())-emis_2015)/emis_2015\n",
    "    vals[cty_i, 14] = (float(data.sel(Time=year, **{key: settings_default[key] for key in settings_default if key != 'Convergence_year'})[['PCC']].sel(Convergence_year=2050).to_array().median())-emis_2015)/emis_2015\n",
    "    vals[cty_i, 15] = (float(data.sel(Time=year, **{key: settings_default[key] for key in settings_default if key != 'Convergence_year'})[['PCC']].sel(Convergence_year=2080).to_array().median())-emis_2015)/emis_2015\n",
    "    \n",
    "    vals[cty_i, 16] = (float(data.sel(Time=year, **settings_default)[['AP']].to_array().median())-emis_2015)/emis_2015\n",
    "\n",
    "    vals[cty_i, 17] = (float(data.sel(Time=year, **{key: settings_default[key] for key in settings_default if key not in ['Discount_factor', 'Historical_startyear']})[['ECPC']].sel(Discount_factor=0, Historical_startyear=1850).to_array().median())-emis_2015)/emis_2015\n",
    "    vals[cty_i, 18] = (float(data.sel(Time=year, **{key: settings_default[key] for key in settings_default if key not in ['Discount_factor', 'Historical_startyear']})[['ECPC']].sel(Discount_factor=1.6, Historical_startyear=1950).to_array().median())-emis_2015)/emis_2015\n",
    "    vals[cty_i, 19] = (float(data.sel(Time=year, **{key: settings_default[key] for key in settings_default if key not in ['Discount_factor', 'Historical_startyear']})[['ECPC']].sel(Discount_factor=2.8, Historical_startyear=1990).to_array().median())-emis_2015)/emis_2015\n",
    "vals_dev = np.round(100*(vals.T-fullmedian),1).T\n",
    "vals = np.round(100*vals, 1)"
   ]
  },
  {
   "cell_type": "code",
   "execution_count": 8,
   "metadata": {},
   "outputs": [],
   "source": [
    "cols = np.zeros((len(vals_dev)+1, len(vals_dev[0]))).astype(str)\n",
    "cols = np.array(['rgba(0,0,0,0.20000000000000000000)']*(len(vals_dev)+1)*(1+len(vals_dev[0]))).reshape((len(vals_dev)+1, 1+len(vals_dev[0])))\n",
    "norm = (vals_dev+25)/(50)\n",
    "for i in range(1, 1+norm.shape[0]):\n",
    "    for j in range(norm.shape[1]):\n",
    "        vally = np.round(plt.cm.coolwarm_r(norm[i-1,j]), 2)\n",
    "        cols[i,j] = 'rgba('+str(vally[0]*256)+','+str(vally[1]*256)+','+str(vally[2]*256)+', 0.4)'\n",
    "# cols[:, 0]= ['rgba(0,0,0,0.5)']*len(cols)\n",
    "# cols[0, :]= ['rgba(0,0,0,0.5)']*len(cols[0])"
   ]
  },
  {
   "cell_type": "code",
   "execution_count": 9,
   "metadata": {},
   "outputs": [
    {
     "name": "stderr",
     "output_type": "stream",
     "text": [
      "C:\\Users\\dekkerm\\AppData\\Local\\Temp\\3\\ipykernel_9344\\3882284600.py:2: RuntimeWarning: All-NaN slice encountered\n",
      "  vals_dev_all_summ[:, 0] = np.nanmax(np.abs(vals_dev_all[:, :9]), axis=1)\n",
      "C:\\Users\\dekkerm\\AppData\\Local\\Temp\\3\\ipykernel_9344\\3882284600.py:3: RuntimeWarning: All-NaN slice encountered\n",
      "  vals_dev_all_summ[:, 1] = np.nanmax(np.abs(vals_dev_all[:, 9:13]), axis=1)\n",
      "C:\\Users\\dekkerm\\AppData\\Local\\Temp\\3\\ipykernel_9344\\3882284600.py:4: RuntimeWarning: All-NaN slice encountered\n",
      "  vals_dev_all_summ[:, 2] = np.nanmax(np.abs(vals_dev_all[:, 13:]), axis=1)\n",
      "C:\\Users\\dekkerm\\AppData\\Local\\Temp\\3\\ipykernel_9344\\3882284600.py:7: RuntimeWarning: All-NaN slice encountered\n",
      "  vals_dev_all_m[:, 0] = np.nanmax(np.abs(vals_dev_all[:, :9]), axis=1)\n",
      "C:\\Users\\dekkerm\\AppData\\Local\\Temp\\3\\ipykernel_9344\\3882284600.py:8: RuntimeWarning: All-NaN slice encountered\n",
      "  vals_dev_all_m[:, 1] = np.nanmax(np.abs(vals_dev_all[:, 9:13]), axis=1)\n",
      "C:\\Users\\dekkerm\\AppData\\Local\\Temp\\3\\ipykernel_9344\\3882284600.py:9: RuntimeWarning: All-NaN slice encountered\n",
      "  vals_dev_all_m[:, 2] = np.nanmax(np.abs(vals_dev_all[:, 13:]), axis=1)\n",
      "k:\\Environments\\MyEnv\\Lib\\site-packages\\numpy\\lib\\nanfunctions.py:1879: RuntimeWarning: Degrees of freedom <= 0 for slice.\n",
      "  var = nanvar(a, axis=axis, dtype=dtype, out=out, ddof=ddof,\n"
     ]
    }
   ],
   "source": [
    "vals_dev_all_summ = np.zeros((len(all_countries_iso), 3))\n",
    "vals_dev_all_summ[:, 0] = np.nanmax(np.abs(vals_dev_all[:, :9]), axis=1)\n",
    "vals_dev_all_summ[:, 1] = np.nanmax(np.abs(vals_dev_all[:, 9:13]), axis=1)\n",
    "vals_dev_all_summ[:, 2] = np.nanmax(np.abs(vals_dev_all[:, 13:]), axis=1)\n",
    "\n",
    "vals_dev_all_m = np.zeros((len(all_countries_iso), 3))\n",
    "vals_dev_all_m[:, 0] = np.nanmax(np.abs(vals_dev_all[:, :9]), axis=1)\n",
    "vals_dev_all_m[:, 1] = np.nanmax(np.abs(vals_dev_all[:, 9:13]), axis=1)\n",
    "vals_dev_all_m[:, 2] = np.nanmax(np.abs(vals_dev_all[:, 13:]), axis=1)\n",
    "means = np.nanmean(vals_dev_all_m, axis=0)\n",
    "vals_rel_i = (vals_dev_all_m - means) / means\n",
    "vals_rel = (vals_rel_i[:, 0] - vals_rel_i[:, 2])/vals_rel_i[:, 2]\n",
    "\n",
    "vals_std = np.nanstd(vals_dev_all/100, axis=1)\n",
    "vals_std2 = np.nanstd(vals_dev_all[:, 13:]/100, axis=1)"
   ]
  },
  {
   "cell_type": "code",
   "execution_count": 10,
   "metadata": {},
   "outputs": [
    {
     "name": "stderr",
     "output_type": "stream",
     "text": [
      "C:\\Users\\dekkerm\\AppData\\Local\\Temp\\3\\ipykernel_9344\\623404264.py:21: RuntimeWarning: Mean of empty slice\n",
      "  z = np.nanmean(np.abs(vals_dev_all[:, [9, 10]]), axis=1),\n",
      "C:\\Users\\dekkerm\\AppData\\Local\\Temp\\3\\ipykernel_9344\\623404264.py:38: RuntimeWarning: Mean of empty slice\n",
      "  z = np.nanmean(np.abs(vals_dev_all[:, [9, 10]]), axis=1)\n"
     ]
    }
   ],
   "source": [
    "traces_a = []\n",
    "\n",
    "# Grey out nans\n",
    "dat = vals_dev_all_summ.argmax(axis=1)\n",
    "wh = np.where(np.isnan(dat))[0]\n",
    "traces_a.append(go.Choropleth(\n",
    "       locations=['GRL'],\n",
    "       z = [-0.5],\n",
    "       locationmode = 'ISO-3',\n",
    "       colorscale ='Greys',\n",
    "       zmax = 1,\n",
    "       zmin = -1,\n",
    "       hovertemplate  = '%{text}',\n",
    "       name=\"\",\n",
    "       marker_line_color='black', \n",
    "       marker_line_width=0.5,\n",
    "       showscale=False,\n",
    "))\n",
    "traces_a.append(go.Choropleth(\n",
    "        locations=all_countries_iso,\n",
    "        z = np.nanmean(np.abs(vals_dev_all[:, [9, 10]]), axis=1),\n",
    "        locationmode = 'ISO-3',\n",
    "        colorscale = 'Purples',#Magma_r\n",
    "        zmax = 12,\n",
    "        zmin = 0,\n",
    "        text = [str(r)+\": \"+str(np.round(3, 2))+\" C\" for r_i, r in enumerate(all_countries_iso)],\n",
    "        hovertemplate  = '%{text}',\n",
    "        name=\"\",\n",
    "        colorbar=dict(orientation='h', x=0.02, y=0.58, xanchor='left', yanchor='bottom', title='Deviation from default reduction<br>(SSP-average, in %)', tickvals=[0, 4, 8, 12],\n",
    "                      ticktext=['0%-point', '4%-point', '8%-point', '12%-point'],\n",
    "                      tickfont=dict(size=17),\n",
    "                      len=0.4, lenmode='fraction', thickness=20, thicknessmode='pixels', titlefont=dict(size=17)),\n",
    "        marker_line_color='black', \n",
    "        marker_line_width=0.5,\n",
    "        showscale=True,\n",
    "    ))\n",
    "\n",
    "z = np.nanmean(np.abs(vals_dev_all[:, [9, 10]]), axis=1)\n",
    "whichreg = ['IND', 'USA', 'CHN', 'RUS', 'BRA', 'ETH', 'ZAF', 'DEU', 'AUS']\n",
    "traces_a.append(go.Scattergeo(\n",
    "    locations=whichreg,\n",
    "    mode='text',\n",
    "    #text=df['ST_NM'].str.title(),\n",
    "    text=['<b>'+str(int(np.round(z[all_countries_iso==r][0],0)))+'%' for r in whichreg],\n",
    "    textfont={'color': 'forestgreen',\n",
    "              'size': 25},\n",
    "    name='',\n",
    "))"
   ]
  },
  {
   "cell_type": "code",
   "execution_count": 11,
   "metadata": {},
   "outputs": [],
   "source": [
    "traces_b = []\n",
    "\n",
    "# Grey out nans\n",
    "dat = vals_dev_all_summ.argmax(axis=1)\n",
    "wh = np.where(np.isnan(dat))[0]\n",
    "traces_b.append(go.Choropleth(\n",
    "       locations=['GRL'],\n",
    "       z = [-0.5],\n",
    "       locationmode = 'ISO-3',\n",
    "       colorscale ='Greys',\n",
    "       zmax = 1,\n",
    "       zmin = -1,\n",
    "       hovertemplate  = '%{text}',\n",
    "       name=\"\",\n",
    "       marker_line_color='black', \n",
    "       marker_line_width=0.5,\n",
    "       showscale=False,\n",
    "))\n",
    "\n",
    "traces_b.append(go.Choropleth(\n",
    "        locations=all_countries_iso,\n",
    "        z = vals_std2, #vals_dev_all_summ.argmax(axis=1),\n",
    "        locationmode = 'ISO-3',\n",
    "        colorscale = 'Purples', #['forestgreen', 'steelblue', 'tomato'],\n",
    "        zmax = 0.75,\n",
    "        zmin = 0,\n",
    "        #text = [str(r)+\": \"+str(np.round(3, 2))+\" C\" for r_i, r in enumerate(all_countries_iso)],\n",
    "        #hovertemplate  = '%{text}',\n",
    "        name=\"\",\n",
    "        colorbar=dict(orientation='h', x=0.02, y=0.045, xanchor='left', yanchor='bottom', title='Standard deviation<br>of 2040 reduction target<br>(w.r.t. 2015)', tickvals=[0,0.25, 0.5, 0.75],\n",
    "                      ticktext=['0%', '25%', '50%', '75%'],\n",
    "                      tickfont=dict(size=17),\n",
    "                      len=0.4, lenmode='fraction', thickness=20, thicknessmode='pixels', titlefont=dict(size=17)),\n",
    "        marker_line_color='black', \n",
    "        marker_line_width=0.5,\n",
    "        showscale=True,\n",
    "    ))\n",
    "\n",
    "traces_b.append(go.Scattergeo(\n",
    "    locations=whichreg,\n",
    "    mode='text',\n",
    "    #text=df['ST_NM'].str.title(),\n",
    "    text=['<b>'+str(int(np.round(vals_std2[all_countries_iso==r][0]*100,0)))+'%' for r in whichreg],\n",
    "    textfont={'color': 'purple',\n",
    "              'size': 25},\n",
    "    name='',\n",
    "))"
   ]
  },
  {
   "cell_type": "code",
   "execution_count": 12,
   "metadata": {},
   "outputs": [
    {
     "data": {
      "application/vnd.plotly.v1+json": {
       "config": {
        "plotlyServerURL": "https://plot.ly"
       },
       "data": [
        {
         "cells": {
          "align": "center",
          "fill": {
           "color": [
            [
             "rgba(0,0,0,0.20000000000000000000)",
             "rgba(0,0,0,0.20000000000000000000)",
             "rgba(0,0,0,0.20000000000000000000)",
             "rgba(0,0,0,0.20000000000000000000)",
             "rgba(0,0,0,0.20000000000000000000)",
             "rgba(0,0,0,0.20000000000000000000)",
             "rgba(0,0,0,0.20000000000000000000)",
             "rgba(0,0,0,0.20000000000000000000)",
             "rgba(0,0,0,0.20000000000000000000)",
             "rgba(0,0,0,0.20000000000000000000)",
             "rgba(0,0,0,0.20000000000000000000)",
             "rgba(0,0,0,0.20000000000000000000)",
             "rgba(0,0,0,0.20000000000000000000)",
             "rgba(0,0,0,0.20000000000000000000)",
             "rgba(0,0,0,0.20000000000000000000)",
             "rgba(0,0,0,0.20000000000000000000)",
             "rgba(0,0,0,0.20000000000000000000)",
             "rgba(0,0,0,0.20000000000000000000)",
             "rgba(0,0,0,0.20000000000000000000)",
             "rgba(0,0,0,0.20000000000000000000)",
             "rgba(0,0,0,0.20000000000000000000)"
            ],
            [
             "rgba(220.16,222.72,222.72, 0.4)",
             "rgba(238.08,130.56,102.4, 0.4)",
             "rgba(84.48,115.2,222.72, 0.4)",
             "rgba(58.88,76.8,192.0, 0.4)",
             "rgba(220.16,222.72,222.72, 0.4)",
             "rgba(225.28,220.16,217.6, 0.4)",
             "rgba(220.16,222.72,222.72, 0.4)",
             "rgba(197.12,215.04,243.2, 0.4)",
             "rgba(245.76,194.56,171.52, 0.4)",
             "rgba(199.68,215.04,243.2, 0.4)",
             "rgba(220.16,222.72,222.72, 0.4)",
             "rgba(181.76,5.12,38.4, 0.4)",
             "rgba(110.08,143.36,243.2, 0.4)",
             "rgba(89.6,120.32,227.84, 0.4)",
             "rgba(58.88,76.8,192.0, 0.4)",
             "rgba(58.88,76.8,192.0, 0.4)",
             "rgba(220.16,222.72,222.72, 0.4)",
             "rgba(181.76,5.12,38.4, 0.4)",
             "rgba(181.76,5.12,38.4, 0.4)",
             "rgba(181.76,5.12,38.4, 0.4)",
             "rgba(0,0,0,0.20000000000000000000)"
            ],
            [
             "rgba(220.16,222.72,222.72, 0.4)",
             "rgba(245.76,153.6,122.88, 0.4)",
             "rgba(110.08,143.36,243.2, 0.4)",
             "rgba(58.88,76.8,192.0, 0.4)",
             "rgba(220.16,222.72,222.72, 0.4)",
             "rgba(225.28,220.16,217.6, 0.4)",
             "rgba(220.16,222.72,222.72, 0.4)",
             "rgba(202.24,217.6,240.64, 0.4)",
             "rgba(243.2,202.24,179.2, 0.4)",
             "rgba(215.04,220.16,227.84, 0.4)",
             "rgba(220.16,220.16,225.28, 0.4)",
             "rgba(212.48,76.8,64.0, 0.4)",
             "rgba(130.56,166.4,253.44, 0.4)",
             "rgba(66.56,87.04,202.24, 0.4)",
             "rgba(58.88,79.36,194.56, 0.4)",
             "rgba(58.88,76.8,192.0, 0.4)",
             "rgba(220.16,222.72,222.72, 0.4)",
             "rgba(181.76,5.12,38.4, 0.4)",
             "rgba(243.2,151.04,120.32, 0.4)",
             "rgba(202.24,215.04,240.64, 0.4)",
             "rgba(0,0,0,0.20000000000000000000)"
            ],
            [
             "rgba(220.16,222.72,222.72, 0.4)",
             "rgba(243.2,143.36,112.64, 0.4)",
             "rgba(115.2,148.48,245.76, 0.4)",
             "rgba(58.88,76.8,192.0, 0.4)",
             "rgba(220.16,222.72,222.72, 0.4)",
             "rgba(225.28,220.16,217.6, 0.4)",
             "rgba(220.16,222.72,222.72, 0.4)",
             "rgba(199.68,215.04,240.64, 0.4)",
             "rgba(243.2,199.68,176.64, 0.4)",
             "rgba(220.16,222.72,222.72, 0.4)",
             "rgba(222.72,220.16,220.16, 0.4)",
             "rgba(197.12,48.64,51.2, 0.4)",
             "rgba(130.56,166.4,253.44, 0.4)",
             "rgba(235.52,212.48,199.68, 0.4)",
             "rgba(204.8,217.6,238.08, 0.4)",
             "rgba(168.96,197.12,253.44, 0.4)",
             "rgba(220.16,222.72,222.72, 0.4)",
             "rgba(181.76,5.12,38.4, 0.4)",
             "rgba(181.76,5.12,38.4, 0.4)",
             "rgba(181.76,5.12,38.4, 0.4)",
             "rgba(0,0,0,0.20000000000000000000)"
            ],
            [
             "rgba(220.16,222.72,222.72, 0.4)",
             "rgba(248.32,166.4,135.68, 0.4)",
             "rgba(122.88,158.72,248.32, 0.4)",
             "rgba(58.88,76.8,192.0, 0.4)",
             "rgba(220.16,222.72,222.72, 0.4)",
             "rgba(222.72,220.16,220.16, 0.4)",
             "rgba(220.16,222.72,222.72, 0.4)",
             "rgba(204.8,217.6,238.08, 0.4)",
             "rgba(243.2,204.8,184.32, 0.4)",
             "rgba(220.16,222.72,222.72, 0.4)",
             "rgba(220.16,222.72,222.72, 0.4)",
             "rgba(225.28,99.84,79.36, 0.4)",
             "rgba(143.36,176.64,256.0, 0.4)",
             "rgba(238.08,212.48,197.12, 0.4)",
             "rgba(220.16,222.72,222.72, 0.4)",
             "rgba(204.8,217.6,238.08, 0.4)",
             "rgba(130.56,166.4,253.44, 0.4)",
             "rgba(181.76,5.12,38.4, 0.4)",
             "rgba(181.76,5.12,38.4, 0.4)",
             "rgba(181.76,5.12,38.4, 0.4)",
             "rgba(0,0,0,0.20000000000000000000)"
            ],
            [
             "rgba(220.16,222.72,222.72, 0.4)",
             "rgba(192.0,35.84,46.08, 0.4)",
             "rgba(58.88,76.8,192.0, 0.4)",
             "rgba(58.88,76.8,192.0, 0.4)",
             "rgba(220.16,222.72,222.72, 0.4)",
             "rgba(225.28,220.16,217.6, 0.4)",
             "rgba(220.16,220.16,222.72, 0.4)",
             "rgba(181.76,207.36,250.88, 0.4)",
             "rgba(248.32,171.52,143.36, 0.4)",
             "rgba(240.64,204.8,186.88, 0.4)",
             "rgba(235.52,212.48,199.68, 0.4)",
             "rgba(181.76,5.12,38.4, 0.4)",
             "rgba(58.88,76.8,192.0, 0.4)",
             "rgba(238.08,209.92,197.12, 0.4)",
             "rgba(215.04,79.36,66.56, 0.4)",
             "rgba(181.76,5.12,38.4, 0.4)",
             "rgba(220.16,222.72,222.72, 0.4)",
             "rgba(58.88,76.8,192.0, 0.4)",
             "rgba(58.88,76.8,192.0, 0.4)",
             "rgba(58.88,76.8,192.0, 0.4)",
             "rgba(0,0,0,0.20000000000000000000)"
            ],
            [
             "rgba(220.16,222.72,222.72, 0.4)",
             "rgba(230.4,110.08,87.04, 0.4)",
             "rgba(66.56,87.04,202.24, 0.4)",
             "rgba(58.88,76.8,192.0, 0.4)",
             "rgba(220.16,222.72,222.72, 0.4)",
             "rgba(225.28,220.16,217.6, 0.4)",
             "rgba(220.16,220.16,222.72, 0.4)",
             "rgba(194.56,212.48,245.76, 0.4)",
             "rgba(245.76,189.44,163.84, 0.4)",
             "rgba(225.28,220.16,217.6, 0.4)",
             "rgba(204.8,217.6,238.08, 0.4)",
             "rgba(189.44,25.6,43.52, 0.4)",
             "rgba(92.16,122.88,230.4, 0.4)",
             "rgba(215.04,220.16,227.84, 0.4)",
             "rgba(197.12,215.04,243.2, 0.4)",
             "rgba(174.08,202.24,253.44, 0.4)",
             "rgba(220.16,222.72,222.72, 0.4)",
             "rgba(58.88,76.8,192.0, 0.4)",
             "rgba(217.6,220.16,225.28, 0.4)",
             "rgba(245.76,156.16,125.44, 0.4)",
             "rgba(0,0,0,0.20000000000000000000)"
            ],
            [
             "rgba(220.16,222.72,222.72, 0.4)",
             "rgba(243.2,151.04,120.32, 0.4)",
             "rgba(107.52,140.8,240.64, 0.4)",
             "rgba(58.88,76.8,192.0, 0.4)",
             "rgba(220.16,222.72,222.72, 0.4)",
             "rgba(225.28,220.16,217.6, 0.4)",
             "rgba(220.16,222.72,222.72, 0.4)",
             "rgba(202.24,217.6,240.64, 0.4)",
             "rgba(243.2,202.24,179.2, 0.4)",
             "rgba(220.16,222.72,222.72, 0.4)",
             "rgba(220.16,222.72,222.72, 0.4)",
             "rgba(209.92,71.68,61.44, 0.4)",
             "rgba(130.56,163.84,250.88, 0.4)",
             "rgba(232.96,215.04,202.24, 0.4)",
             "rgba(220.16,222.72,222.72, 0.4)",
             "rgba(207.36,217.6,235.52, 0.4)",
             "rgba(145.92,179.2,256.0, 0.4)",
             "rgba(181.76,5.12,38.4, 0.4)",
             "rgba(181.76,5.12,38.4, 0.4)",
             "rgba(189.44,25.6,43.52, 0.4)",
             "rgba(0,0,0,0.20000000000000000000)"
            ],
            [
             "rgba(220.16,222.72,222.72, 0.4)",
             "rgba(235.52,122.88,94.72, 0.4)",
             "rgba(58.88,76.8,192.0, 0.4)",
             "rgba(58.88,76.8,192.0, 0.4)",
             "rgba(220.16,222.72,222.72, 0.4)",
             "rgba(225.28,220.16,217.6, 0.4)",
             "rgba(220.16,222.72,222.72, 0.4)",
             "rgba(194.56,215.04,245.76, 0.4)",
             "rgba(245.76,192.0,168.96, 0.4)",
             "rgba(245.76,156.16,125.44, 0.4)",
             "rgba(248.32,186.88,158.72, 0.4)",
             "rgba(181.76,5.12,38.4, 0.4)",
             "rgba(81.92,110.08,220.16, 0.4)",
             "rgba(232.96,215.04,207.36, 0.4)",
             "rgba(181.76,5.12,38.4, 0.4)",
             "rgba(181.76,5.12,38.4, 0.4)",
             "rgba(220.16,222.72,222.72, 0.4)",
             "rgba(58.88,76.8,192.0, 0.4)",
             "rgba(58.88,76.8,192.0, 0.4)",
             "rgba(58.88,76.8,192.0, 0.4)",
             "rgba(0,0,0,0.20000000000000000000)"
            ],
            [
             "rgba(220.16,222.72,222.72, 0.4)",
             "rgba(181.76,5.12,38.4, 0.4)",
             "rgba(58.88,76.8,192.0, 0.4)",
             "rgba(58.88,76.8,192.0, 0.4)",
             "rgba(220.16,222.72,222.72, 0.4)",
             "rgba(225.28,220.16,215.04, 0.4)",
             "rgba(220.16,220.16,222.72, 0.4)",
             "rgba(174.08,202.24,253.44, 0.4)",
             "rgba(245.76,158.72,128.0, 0.4)",
             "rgba(222.72,220.16,220.16, 0.4)",
             "rgba(220.16,222.72,222.72, 0.4)",
             "rgba(181.76,5.12,38.4, 0.4)",
             "rgba(58.88,76.8,192.0, 0.4)",
             "rgba(248.32,168.96,138.24, 0.4)",
             "rgba(245.76,163.84,133.12, 0.4)",
             "rgba(245.76,158.72,128.0, 0.4)",
             "rgba(220.16,222.72,222.72, 0.4)",
             "rgba(58.88,76.8,192.0, 0.4)",
             "rgba(58.88,76.8,192.0, 0.4)",
             "rgba(174.08,202.24,253.44, 0.4)",
             "rgba(0,0,0,0.20000000000000000000)"
            ],
            [
             "rgba(220.16,222.72,222.72, 0.4)",
             "rgba(238.08,133.12,104.96, 0.4)",
             "rgba(87.04,115.2,225.28, 0.4)",
             "rgba(58.88,76.8,192.0, 0.4)",
             "rgba(220.16,222.72,222.72, 0.4)",
             "rgba(225.28,220.16,217.6, 0.4)",
             "rgba(220.16,222.72,222.72, 0.4)",
             "rgba(197.12,215.04,243.2, 0.4)",
             "rgba(245.76,197.12,171.52, 0.4)",
             "rgba(248.32,186.88,158.72, 0.4)",
             "rgba(176.64,204.8,253.44, 0.4)",
             "rgba(181.76,7.68,38.4, 0.4)",
             "rgba(112.64,145.92,243.2, 0.4)",
             "rgba(209.92,74.24,64.0, 0.4)",
             "rgba(181.76,5.12,38.4, 0.4)",
             "rgba(181.76,5.12,38.4, 0.4)",
             "rgba(220.16,222.72,222.72, 0.4)",
             "rgba(232.96,117.76,92.16, 0.4)",
             "rgba(58.88,76.8,192.0, 0.4)",
             "rgba(58.88,76.8,192.0, 0.4)",
             "rgba(0,0,0,0.20000000000000000000)"
            ]
           ]
          },
          "font": {
           "size": 14
          },
          "values": [
           [
            "<b>Default",
            "<b>1.5°C",
            "<b>1.8°C",
            "<b>2.0°C",
            "<b>Delayed",
            "<b>High",
            "<b>Low",
            "<b>83<sup>th</sup> perc",
            "<b>17<sup>th</sup> perc",
            "<b>SSP1",
            "<b>SSP3",
            "<b>83<sup>th</sup> perc",
            "<b>17<sup>th</sup> perc",
            "<b>Converged<br>in 2040",
            "<b>Converged<br>in 2050",
            "<b>Converged<br>in 2080",
            "<b>Capability",
            "<b>0%,<br>>1850",
            "<b>1.6%,<br>>1950",
            "<b>2.8%,<br>>1990"
           ],
           [
            "<span style='font-size:15px;'><b>-109%</b></span><br>(<span style='font-size:11px;'>+0%)</span>",
            "<span style='font-size:15px;'>-124%</b></span><br>(<span style='font-size:11px;'>-15%)</span>",
            "<span style='font-size:15px;'>-88%</b></span><br>(<span style='font-size:11px;'>+21%)</span>",
            "<span style='font-size:15px;'>-72%</b></span><br>(<span style='font-size:11px;'>+37%)</span>",
            "<span style='font-size:15px;'>-109%</b></span><br>(<span style='font-size:11px;'>+0%)</span>",
            "<span style='font-size:15px;'>-110%</b></span><br>(<span style='font-size:11px;'>-0%)</span>",
            "<span style='font-size:15px;'>-109%</b></span><br>(<span style='font-size:11px;'>+0%)</span>",
            "<span style='font-size:15px;'>-105%</b></span><br>(<span style='font-size:11px;'>+4%)</span>",
            "<span style='font-size:15px;'>-116%</b></span><br>(<span style='font-size:11px;'>-6%)</span>",
            "<span style='font-size:15px;'>-105%</b></span><br>(<span style='font-size:11px;'>+4%)</span>",
            "<span style='font-size:15px;'>-109%</b></span><br>(<span style='font-size:11px;'>+0%)</span>",
            "<span style='font-size:15px;'>-134%</b></span><br>(<span style='font-size:11px;'>-25%)</span>",
            "<span style='font-size:15px;'>-92%</b></span><br>(<span style='font-size:11px;'>+17%)</span>",
            "<span style='font-size:15px;'>-89%</b></span><br>(<span style='font-size:11px;'>+20%)</span>",
            "<span style='font-size:15px;'>-83%</b></span><br>(<span style='font-size:11px;'>+26%)</span>",
            "<span style='font-size:15px;'>-77%</b></span><br>(<span style='font-size:11px;'>+32%)</span>",
            "<span style='font-size:15px;'>-109%</b></span><br>(<span style='font-size:11px;'>+0%)</span>",
            "<span style='font-size:15px;'>-258%</b></span><br>(<span style='font-size:11px;'>-149%)</span>",
            "<span style='font-size:15px;'>-162%</b></span><br>(<span style='font-size:11px;'>-53%)</span>",
            "<span style='font-size:15px;'>-135%</b></span><br>(<span style='font-size:11px;'>-26%)</span>"
           ],
           [
            "<span style='font-size:15px;'><b>-99%</b></span><br>(<span style='font-size:11px;'>+0%)</span>",
            "<span style='font-size:15px;'>-112%</b></span><br>(<span style='font-size:11px;'>-12%)</span>",
            "<span style='font-size:15px;'>-82%</b></span><br>(<span style='font-size:11px;'>+17%)</span>",
            "<span style='font-size:15px;'>-69%</b></span><br>(<span style='font-size:11px;'>+31%)</span>",
            "<span style='font-size:15px;'>-99%</b></span><br>(<span style='font-size:11px;'>+0%)</span>",
            "<span style='font-size:15px;'>-100%</b></span><br>(<span style='font-size:11px;'>-0%)</span>",
            "<span style='font-size:15px;'>-99%</b></span><br>(<span style='font-size:11px;'>+0%)</span>",
            "<span style='font-size:15px;'>-96%</b></span><br>(<span style='font-size:11px;'>+4%)</span>",
            "<span style='font-size:15px;'>-105%</b></span><br>(<span style='font-size:11px;'>-5%)</span>",
            "<span style='font-size:15px;'>-98%</b></span><br>(<span style='font-size:11px;'>+1%)</span>",
            "<span style='font-size:15px;'>-99%</b></span><br>(<span style='font-size:11px;'>+0%)</span>",
            "<span style='font-size:15px;'>-120%</b></span><br>(<span style='font-size:11px;'>-21%)</span>",
            "<span style='font-size:15px;'>-85%</b></span><br>(<span style='font-size:11px;'>+14%)</span>",
            "<span style='font-size:15px;'>-76%</b></span><br>(<span style='font-size:11px;'>+24%)</span>",
            "<span style='font-size:15px;'>-75%</b></span><br>(<span style='font-size:11px;'>+25%)</span>",
            "<span style='font-size:15px;'>-74%</b></span><br>(<span style='font-size:11px;'>+26%)</span>",
            "<span style='font-size:15px;'>-99%</b></span><br>(<span style='font-size:11px;'>+0%)</span>",
            "<span style='font-size:15px;'>-126%</b></span><br>(<span style='font-size:11px;'>-26%)</span>",
            "<span style='font-size:15px;'>-112%</b></span><br>(<span style='font-size:11px;'>-13%)</span>",
            "<span style='font-size:15px;'>-96%</b></span><br>(<span style='font-size:11px;'>+4%)</span>"
           ],
           [
            "<span style='font-size:15px;'><b>-85%</b></span><br>(<span style='font-size:11px;'>+0%)</span>",
            "<span style='font-size:15px;'>-98%</b></span><br>(<span style='font-size:11px;'>-14%)</span>",
            "<span style='font-size:15px;'>-68%</b></span><br>(<span style='font-size:11px;'>+16%)</span>",
            "<span style='font-size:15px;'>-57%</b></span><br>(<span style='font-size:11px;'>+27%)</span>",
            "<span style='font-size:15px;'>-85%</b></span><br>(<span style='font-size:11px;'>+0%)</span>",
            "<span style='font-size:15px;'>-85%</b></span><br>(<span style='font-size:11px;'>-0%)</span>",
            "<span style='font-size:15px;'>-84%</b></span><br>(<span style='font-size:11px;'>+0%)</span>",
            "<span style='font-size:15px;'>-81%</b></span><br>(<span style='font-size:11px;'>+4%)</span>",
            "<span style='font-size:15px;'>-90%</b></span><br>(<span style='font-size:11px;'>-6%)</span>",
            "<span style='font-size:15px;'>-85%</b></span><br>(<span style='font-size:11px;'>-0%)</span>",
            "<span style='font-size:15px;'>-85%</b></span><br>(<span style='font-size:11px;'>-0%)</span>",
            "<span style='font-size:15px;'>-107%</b></span><br>(<span style='font-size:11px;'>-23%)</span>",
            "<span style='font-size:15px;'>-71%</b></span><br>(<span style='font-size:11px;'>+14%)</span>",
            "<span style='font-size:15px;'>-88%</b></span><br>(<span style='font-size:11px;'>-3%)</span>",
            "<span style='font-size:15px;'>-82%</b></span><br>(<span style='font-size:11px;'>+3%)</span>",
            "<span style='font-size:15px;'>-76%</b></span><br>(<span style='font-size:11px;'>+9%)</span>",
            "<span style='font-size:15px;'>-85%</b></span><br>(<span style='font-size:11px;'>+0%)</span>",
            "<span style='font-size:15px;'>-220%</b></span><br>(<span style='font-size:11px;'>-136%)</span>",
            "<span style='font-size:15px;'>-153%</b></span><br>(<span style='font-size:11px;'>-68%)</span>",
            "<span style='font-size:15px;'>-126%</b></span><br>(<span style='font-size:11px;'>-41%)</span>"
           ],
           [
            "<span style='font-size:15px;'><b>-80%</b></span><br>(<span style='font-size:11px;'>+0%)</span>",
            "<span style='font-size:15px;'>-90%</b></span><br>(<span style='font-size:11px;'>-11%)</span>",
            "<span style='font-size:15px;'>-64%</b></span><br>(<span style='font-size:11px;'>+15%)</span>",
            "<span style='font-size:15px;'>-52%</b></span><br>(<span style='font-size:11px;'>+27%)</span>",
            "<span style='font-size:15px;'>-80%</b></span><br>(<span style='font-size:11px;'>+0%)</span>",
            "<span style='font-size:15px;'>-80%</b></span><br>(<span style='font-size:11px;'>-0%)</span>",
            "<span style='font-size:15px;'>-79%</b></span><br>(<span style='font-size:11px;'>+0%)</span>",
            "<span style='font-size:15px;'>-76%</b></span><br>(<span style='font-size:11px;'>+3%)</span>",
            "<span style='font-size:15px;'>-84%</b></span><br>(<span style='font-size:11px;'>-5%)</span>",
            "<span style='font-size:15px;'>-80%</b></span><br>(<span style='font-size:11px;'>+0%)</span>",
            "<span style='font-size:15px;'>-80%</b></span><br>(<span style='font-size:11px;'>-0%)</span>",
            "<span style='font-size:15px;'>-98%</b></span><br>(<span style='font-size:11px;'>-18%)</span>",
            "<span style='font-size:15px;'>-67%</b></span><br>(<span style='font-size:11px;'>+12%)</span>",
            "<span style='font-size:15px;'>-83%</b></span><br>(<span style='font-size:11px;'>-3%)</span>",
            "<span style='font-size:15px;'>-80%</b></span><br>(<span style='font-size:11px;'>+0%)</span>",
            "<span style='font-size:15px;'>-76%</b></span><br>(<span style='font-size:11px;'>+3%)</span>",
            "<span style='font-size:15px;'>-66%</b></span><br>(<span style='font-size:11px;'>+14%)</span>",
            "<span style='font-size:15px;'>-156%</b></span><br>(<span style='font-size:11px;'>-76%)</span>",
            "<span style='font-size:15px;'>-127%</b></span><br>(<span style='font-size:11px;'>-48%)</span>",
            "<span style='font-size:15px;'>-113%</b></span><br>(<span style='font-size:11px;'>-34%)</span>"
           ],
           [
            "<span style='font-size:15px;'><b>-14%</b></span><br>(<span style='font-size:11px;'>+0%)</span>",
            "<span style='font-size:15px;'>-37%</b></span><br>(<span style='font-size:11px;'>-24%)</span>",
            "<span style='font-size:15px;'>+18%</b></span><br>(<span style='font-size:11px;'>+32%)</span>",
            "<span style='font-size:15px;'>+52%</b></span><br>(<span style='font-size:11px;'>+66%)</span>",
            "<span style='font-size:15px;'>-14%</b></span><br>(<span style='font-size:11px;'>+0%)</span>",
            "<span style='font-size:15px;'>-15%</b></span><br>(<span style='font-size:11px;'>-1%)</span>",
            "<span style='font-size:15px;'>-14%</b></span><br>(<span style='font-size:11px;'>+0%)</span>",
            "<span style='font-size:15px;'>-7%</b></span><br>(<span style='font-size:11px;'>+7%)</span>",
            "<span style='font-size:15px;'>-24%</b></span><br>(<span style='font-size:11px;'>-10%)</span>",
            "<span style='font-size:15px;'>-18%</b></span><br>(<span style='font-size:11px;'>-4%)</span>",
            "<span style='font-size:15px;'>-17%</b></span><br>(<span style='font-size:11px;'>-3%)</span>",
            "<span style='font-size:15px;'>-53%</b></span><br>(<span style='font-size:11px;'>-39%)</span>",
            "<span style='font-size:15px;'>+12%</b></span><br>(<span style='font-size:11px;'>+26%)</span>",
            "<span style='font-size:15px;'>-17%</b></span><br>(<span style='font-size:11px;'>-4%)</span>",
            "<span style='font-size:15px;'>-34%</b></span><br>(<span style='font-size:11px;'>-20%)</span>",
            "<span style='font-size:15px;'>-50%</b></span><br>(<span style='font-size:11px;'>-37%)</span>",
            "<span style='font-size:15px;'>-14%</b></span><br>(<span style='font-size:11px;'>+0%)</span>",
            "<span style='font-size:15px;'>+258%</b></span><br>(<span style='font-size:11px;'>+272%)</span>",
            "<span style='font-size:15px;'>+136%</b></span><br>(<span style='font-size:11px;'>+150%)</span>",
            "<span style='font-size:15px;'>+89%</b></span><br>(<span style='font-size:11px;'>+103%)</span>"
           ],
           [
            "<span style='font-size:15px;'><b>-77%</b></span><br>(<span style='font-size:11px;'>+0%)</span>",
            "<span style='font-size:15px;'>-94%</b></span><br>(<span style='font-size:11px;'>-17%)</span>",
            "<span style='font-size:15px;'>-54%</b></span><br>(<span style='font-size:11px;'>+24%)</span>",
            "<span style='font-size:15px;'>-37%</b></span><br>(<span style='font-size:11px;'>+40%)</span>",
            "<span style='font-size:15px;'>-77%</b></span><br>(<span style='font-size:11px;'>+0%)</span>",
            "<span style='font-size:15px;'>-78%</b></span><br>(<span style='font-size:11px;'>-0%)</span>",
            "<span style='font-size:15px;'>-77%</b></span><br>(<span style='font-size:11px;'>+0%)</span>",
            "<span style='font-size:15px;'>-72%</b></span><br>(<span style='font-size:11px;'>+5%)</span>",
            "<span style='font-size:15px;'>-85%</b></span><br>(<span style='font-size:11px;'>-7%)</span>",
            "<span style='font-size:15px;'>-78%</b></span><br>(<span style='font-size:11px;'>-1%)</span>",
            "<span style='font-size:15px;'>-74%</b></span><br>(<span style='font-size:11px;'>+3%)</span>",
            "<span style='font-size:15px;'>-101%</b></span><br>(<span style='font-size:11px;'>-24%)</span>",
            "<span style='font-size:15px;'>-58%</b></span><br>(<span style='font-size:11px;'>+19%)</span>",
            "<span style='font-size:15px;'>-76%</b></span><br>(<span style='font-size:11px;'>+1%)</span>",
            "<span style='font-size:15px;'>-73%</b></span><br>(<span style='font-size:11px;'>+4%)</span>",
            "<span style='font-size:15px;'>-70%</b></span><br>(<span style='font-size:11px;'>+8%)</span>",
            "<span style='font-size:15px;'>-77%</b></span><br>(<span style='font-size:11px;'>+0%)</span>",
            "<span style='font-size:15px;'>-32%</b></span><br>(<span style='font-size:11px;'>+45%)</span>",
            "<span style='font-size:15px;'>-76%</b></span><br>(<span style='font-size:11px;'>+1%)</span>",
            "<span style='font-size:15px;'>-90%</b></span><br>(<span style='font-size:11px;'>-12%)</span>"
           ],
           [
            "<span style='font-size:15px;'><b>-76%</b></span><br>(<span style='font-size:11px;'>+0%)</span>",
            "<span style='font-size:15px;'>-89%</b></span><br>(<span style='font-size:11px;'>-13%)</span>",
            "<span style='font-size:15px;'>-59%</b></span><br>(<span style='font-size:11px;'>+17%)</span>",
            "<span style='font-size:15px;'>-45%</b></span><br>(<span style='font-size:11px;'>+31%)</span>",
            "<span style='font-size:15px;'>-76%</b></span><br>(<span style='font-size:11px;'>+0%)</span>",
            "<span style='font-size:15px;'>-77%</b></span><br>(<span style='font-size:11px;'>-0%)</span>",
            "<span style='font-size:15px;'>-76%</b></span><br>(<span style='font-size:11px;'>+0%)</span>",
            "<span style='font-size:15px;'>-73%</b></span><br>(<span style='font-size:11px;'>+4%)</span>",
            "<span style='font-size:15px;'>-82%</b></span><br>(<span style='font-size:11px;'>-5%)</span>",
            "<span style='font-size:15px;'>-76%</b></span><br>(<span style='font-size:11px;'>+0%)</span>",
            "<span style='font-size:15px;'>-76%</b></span><br>(<span style='font-size:11px;'>-0%)</span>",
            "<span style='font-size:15px;'>-97%</b></span><br>(<span style='font-size:11px;'>-21%)</span>",
            "<span style='font-size:15px;'>-62%</b></span><br>(<span style='font-size:11px;'>+14%)</span>",
            "<span style='font-size:15px;'>-79%</b></span><br>(<span style='font-size:11px;'>-2%)</span>",
            "<span style='font-size:15px;'>-76%</b></span><br>(<span style='font-size:11px;'>+0%)</span>",
            "<span style='font-size:15px;'>-74%</b></span><br>(<span style='font-size:11px;'>+2%)</span>",
            "<span style='font-size:15px;'>-64%</b></span><br>(<span style='font-size:11px;'>+12%)</span>",
            "<span style='font-size:15px;'>-131%</b></span><br>(<span style='font-size:11px;'>-54%)</span>",
            "<span style='font-size:15px;'>-111%</b></span><br>(<span style='font-size:11px;'>-34%)</span>",
            "<span style='font-size:15px;'>-100%</b></span><br>(<span style='font-size:11px;'>-24%)</span>"
           ],
           [
            "<span style='font-size:15px;'><b>+42%</b></span><br>(<span style='font-size:11px;'>+0%)</span>",
            "<span style='font-size:15px;'>+26%</b></span><br>(<span style='font-size:11px;'>-16%)</span>",
            "<span style='font-size:15px;'>+76%</b></span><br>(<span style='font-size:11px;'>+35%)</span>",
            "<span style='font-size:15px;'>+136%</b></span><br>(<span style='font-size:11px;'>+94%)</span>",
            "<span style='font-size:15px;'>+42%</b></span><br>(<span style='font-size:11px;'>+0%)</span>",
            "<span style='font-size:15px;'>+41%</b></span><br>(<span style='font-size:11px;'>-0%)</span>",
            "<span style='font-size:15px;'>+42%</b></span><br>(<span style='font-size:11px;'>+0%)</span>",
            "<span style='font-size:15px;'>+46%</b></span><br>(<span style='font-size:11px;'>+4%)</span>",
            "<span style='font-size:15px;'>+35%</b></span><br>(<span style='font-size:11px;'>-7%)</span>",
            "<span style='font-size:15px;'>+29%</b></span><br>(<span style='font-size:11px;'>-12%)</span>",
            "<span style='font-size:15px;'>+34%</b></span><br>(<span style='font-size:11px;'>-8%)</span>",
            "<span style='font-size:15px;'>+15%</b></span><br>(<span style='font-size:11px;'>-27%)</span>",
            "<span style='font-size:15px;'>+63%</b></span><br>(<span style='font-size:11px;'>+21%)</span>",
            "<span style='font-size:15px;'>+40%</b></span><br>(<span style='font-size:11px;'>-2%)</span>",
            "<span style='font-size:15px;'>+2%</b></span><br>(<span style='font-size:11px;'>-40%)</span>",
            "<span style='font-size:15px;'>-35%</b></span><br>(<span style='font-size:11px;'>-76%)</span>",
            "<span style='font-size:15px;'>+42%</b></span><br>(<span style='font-size:11px;'>+0%)</span>",
            "<span style='font-size:15px;'>+408%</b></span><br>(<span style='font-size:11px;'>+366%)</span>",
            "<span style='font-size:15px;'>+342%</b></span><br>(<span style='font-size:11px;'>+300%)</span>",
            "<span style='font-size:15px;'>+310%</b></span><br>(<span style='font-size:11px;'>+269%)</span>"
           ],
           [
            "<span style='font-size:15px;'><b>-50%</b></span><br>(<span style='font-size:11px;'>+0%)</span>",
            "<span style='font-size:15px;'>-77%</b></span><br>(<span style='font-size:11px;'>-28%)</span>",
            "<span style='font-size:15px;'>-12%</b></span><br>(<span style='font-size:11px;'>+38%)</span>",
            "<span style='font-size:15px;'>+18%</b></span><br>(<span style='font-size:11px;'>+68%)</span>",
            "<span style='font-size:15px;'>-50%</b></span><br>(<span style='font-size:11px;'>+0%)</span>",
            "<span style='font-size:15px;'>-50%</b></span><br>(<span style='font-size:11px;'>-1%)</span>",
            "<span style='font-size:15px;'>-49%</b></span><br>(<span style='font-size:11px;'>+0%)</span>",
            "<span style='font-size:15px;'>-42%</b></span><br>(<span style='font-size:11px;'>+8%)</span>",
            "<span style='font-size:15px;'>-61%</b></span><br>(<span style='font-size:11px;'>-12%)</span>",
            "<span style='font-size:15px;'>-50%</b></span><br>(<span style='font-size:11px;'>-0%)</span>",
            "<span style='font-size:15px;'>-50%</b></span><br>(<span style='font-size:11px;'>+0%)</span>",
            "<span style='font-size:15px;'>-96%</b></span><br>(<span style='font-size:11px;'>-46%)</span>",
            "<span style='font-size:15px;'>-19%</b></span><br>(<span style='font-size:11px;'>+31%)</span>",
            "<span style='font-size:15px;'>-60%</b></span><br>(<span style='font-size:11px;'>-11%)</span>",
            "<span style='font-size:15px;'>-61%</b></span><br>(<span style='font-size:11px;'>-11%)</span>",
            "<span style='font-size:15px;'>-62%</b></span><br>(<span style='font-size:11px;'>-12%)</span>",
            "<span style='font-size:15px;'>-50%</b></span><br>(<span style='font-size:11px;'>+0%)</span>",
            "<span style='font-size:15px;'>+9%</b></span><br>(<span style='font-size:11px;'>+59%)</span>",
            "<span style='font-size:15px;'>-22%</b></span><br>(<span style='font-size:11px;'>+28%)</span>",
            "<span style='font-size:15px;'>-42%</b></span><br>(<span style='font-size:11px;'>+8%)</span>"
           ],
           [
            "<span style='font-size:15px;'><b>-18%</b></span><br>(<span style='font-size:11px;'>+0%)</span>",
            "<span style='font-size:15px;'>-33%</b></span><br>(<span style='font-size:11px;'>-15%)</span>",
            "<span style='font-size:15px;'>+3%</b></span><br>(<span style='font-size:11px;'>+20%)</span>",
            "<span style='font-size:15px;'>+19%</b></span><br>(<span style='font-size:11px;'>+37%)</span>",
            "<span style='font-size:15px;'>-18%</b></span><br>(<span style='font-size:11px;'>+0%)</span>",
            "<span style='font-size:15px;'>-18%</b></span><br>(<span style='font-size:11px;'>-0%)</span>",
            "<span style='font-size:15px;'>-18%</b></span><br>(<span style='font-size:11px;'>+0%)</span>",
            "<span style='font-size:15px;'>-14%</b></span><br>(<span style='font-size:11px;'>+4%)</span>",
            "<span style='font-size:15px;'>-24%</b></span><br>(<span style='font-size:11px;'>-6%)</span>",
            "<span style='font-size:15px;'>-26%</b></span><br>(<span style='font-size:11px;'>-8%)</span>",
            "<span style='font-size:15px;'>-10%</b></span><br>(<span style='font-size:11px;'>+7%)</span>",
            "<span style='font-size:15px;'>-43%</b></span><br>(<span style='font-size:11px;'>-25%)</span>",
            "<span style='font-size:15px;'>-1%</b></span><br>(<span style='font-size:11px;'>+17%)</span>",
            "<span style='font-size:15px;'>-39%</b></span><br>(<span style='font-size:11px;'>-21%)</span>",
            "<span style='font-size:15px;'>-49%</b></span><br>(<span style='font-size:11px;'>-31%)</span>",
            "<span style='font-size:15px;'>-59%</b></span><br>(<span style='font-size:11px;'>-42%)</span>",
            "<span style='font-size:15px;'>-18%</b></span><br>(<span style='font-size:11px;'>+0%)</span>",
            "<span style='font-size:15px;'>-34%</b></span><br>(<span style='font-size:11px;'>-16%)</span>",
            "<span style='font-size:15px;'>+23%</b></span><br>(<span style='font-size:11px;'>+41%)</span>",
            "<span style='font-size:15px;'>+26%</b></span><br>(<span style='font-size:11px;'>+44%)</span>"
           ]
          ]
         },
         "columnwidth": [
          0.2,
          0.1,
          0.1,
          0.1,
          0.1,
          0.1,
          0.1,
          0.1,
          0.1,
          0.1,
          0.1
         ],
         "domain": {
          "x": [
           0.5349999999999999,
           0.9999999999999999
          ],
          "y": [
           0,
           1
          ]
         },
         "header": {
          "fill": {
           "color": "grey"
          },
          "values": [
           "",
           "<b>USA</b>",
           "<b>EU</b>",
           "<b>RUS</b>",
           "<b>BRA</b>",
           "<b>IND</b>",
           "<b>CHN</b>",
           "<b>ZAF</b>",
           "<b>UGA</b>",
           "<b>VNM</b>",
           "<b>HND</b>"
          ]
         },
         "type": "table"
        },
        {
         "colorscale": [
          [
           0,
           "rgb(255,255,255)"
          ],
          [
           0.125,
           "rgb(240,240,240)"
          ],
          [
           0.25,
           "rgb(217,217,217)"
          ],
          [
           0.375,
           "rgb(189,189,189)"
          ],
          [
           0.5,
           "rgb(150,150,150)"
          ],
          [
           0.625,
           "rgb(115,115,115)"
          ],
          [
           0.75,
           "rgb(82,82,82)"
          ],
          [
           0.875,
           "rgb(37,37,37)"
          ],
          [
           1,
           "rgb(0,0,0)"
          ]
         ],
         "geo": "geo2",
         "hovertemplate": "%{text}",
         "locationmode": "ISO-3",
         "locations": [
          "GRL"
         ],
         "marker": {
          "line": {
           "color": "black",
           "width": 0.5
          }
         },
         "name": "",
         "showscale": false,
         "type": "choropleth",
         "z": [
          -0.5
         ],
         "zmax": 1,
         "zmin": -1
        },
        {
         "colorscale": [
          [
           0,
           "rgb(255,255,255)"
          ],
          [
           0.125,
           "rgb(240,240,240)"
          ],
          [
           0.25,
           "rgb(217,217,217)"
          ],
          [
           0.375,
           "rgb(189,189,189)"
          ],
          [
           0.5,
           "rgb(150,150,150)"
          ],
          [
           0.625,
           "rgb(115,115,115)"
          ],
          [
           0.75,
           "rgb(82,82,82)"
          ],
          [
           0.875,
           "rgb(37,37,37)"
          ],
          [
           1,
           "rgb(0,0,0)"
          ]
         ],
         "geo": "geo",
         "hovertemplate": "%{text}",
         "locationmode": "ISO-3",
         "locations": [
          "GRL"
         ],
         "marker": {
          "line": {
           "color": "black",
           "width": 0.5
          }
         },
         "name": "",
         "showscale": false,
         "type": "choropleth",
         "z": [
          -0.5
         ],
         "zmax": 1,
         "zmin": -1
        },
        {
         "colorbar": {
          "len": 0.4,
          "lenmode": "fraction",
          "orientation": "h",
          "thickness": 20,
          "thicknessmode": "pixels",
          "tickfont": {
           "size": 17
          },
          "ticktext": [
           "0%",
           "25%",
           "50%",
           "75%"
          ],
          "tickvals": [
           0,
           0.25,
           0.5,
           0.75
          ],
          "title": {
           "font": {
            "size": 17
           },
           "text": "Standard deviation<br>of 2040 reduction target<br>(w.r.t. 2015)"
          },
          "x": 0.02,
          "xanchor": "left",
          "y": 0.045,
          "yanchor": "bottom"
         },
         "colorscale": [
          [
           0,
           "rgb(252,251,253)"
          ],
          [
           0.125,
           "rgb(239,237,245)"
          ],
          [
           0.25,
           "rgb(218,218,235)"
          ],
          [
           0.375,
           "rgb(188,189,220)"
          ],
          [
           0.5,
           "rgb(158,154,200)"
          ],
          [
           0.625,
           "rgb(128,125,186)"
          ],
          [
           0.75,
           "rgb(106,81,163)"
          ],
          [
           0.875,
           "rgb(84,39,143)"
          ],
          [
           1,
           "rgb(63,0,125)"
          ]
         ],
         "geo": "geo2",
         "locationmode": "ISO-3",
         "locations": [
          "AFG",
          "ALB",
          "DZA",
          "AND",
          "AGO",
          "ATG",
          "ARG",
          "ARM",
          "AUS",
          "AUT",
          "AZE",
          "BHR",
          "BGD",
          "BRB",
          "BLR",
          "BEL",
          "BLZ",
          "BEN",
          "BTN",
          "BOL",
          "BIH",
          "BWA",
          "BRA",
          "BRN",
          "BGR",
          "BFA",
          "BDI",
          "KHM",
          "CMR",
          "CAN",
          "CPV",
          "CAF",
          "TCD",
          "CHL",
          "CHN",
          "COL",
          "COM",
          "COG",
          "COK",
          "CRI",
          "CIV",
          "HRV",
          "CUB",
          "CYP",
          "CZE",
          "COD",
          "DNK",
          "DJI",
          "DMA",
          "DOM",
          "ECU",
          "EGY",
          "SLV",
          "GNQ",
          "ERI",
          "EST",
          "SWZ",
          "ETH",
          "FJI",
          "FIN",
          "FRA",
          "GAB",
          "GEO",
          "DEU",
          "GHA",
          "GRC",
          "GRD",
          "GTM",
          "GIN",
          "GNB",
          "GUY",
          "HTI",
          "VAT",
          "HND",
          "HUN",
          "ISL",
          "IND",
          "IDN",
          "IRN",
          "IRQ",
          "IRL",
          "ISR",
          "ITA",
          "JAM",
          "JPN",
          "JOR",
          "KAZ",
          "KEN",
          "KIR",
          "KWT",
          "KGZ",
          "LAO",
          "LVA",
          "LBN",
          "LSO",
          "LBR",
          "LBY",
          "LIE",
          "LTU",
          "LUX",
          "MKD",
          "MDG",
          "MWI",
          "MYS",
          "MDV",
          "MLI",
          "MLT",
          "MHL",
          "MRT",
          "MUS",
          "MEX",
          "FSM",
          "MDA",
          "MCO",
          "MNG",
          "MNE",
          "MAR",
          "MOZ",
          "MMR",
          "NAM",
          "NRU",
          "NPL",
          "NLD",
          "NZL",
          "NIC",
          "NER",
          "NGA",
          "NIU",
          "PRK",
          "NOR",
          "OMN",
          "PAK",
          "PLW",
          "PSE",
          "PAN",
          "PNG",
          "PRY",
          "PER",
          "PHL",
          "POL",
          "PRT",
          "QAT",
          "ROU",
          "RUS",
          "RWA",
          "KNA",
          "LCA",
          "VCT",
          "WSM",
          "SMR",
          "STP",
          "SAU",
          "SEN",
          "SRB",
          "SYC",
          "SLE",
          "SGP",
          "SVK",
          "SVN",
          "SLB",
          "SOM",
          "ZAF",
          "KOR",
          "SSD",
          "ESP",
          "LKA",
          "SDN",
          "SUR",
          "SWE",
          "CHE",
          "SYR",
          "TJK",
          "TZA",
          "THA",
          "BHS",
          "GMB",
          "TLS",
          "TGO",
          "TON",
          "TTO",
          "TUN",
          "TUR",
          "TKM",
          "TUV",
          "UGA",
          "UKR",
          "ARE",
          "GBR",
          "USA",
          "URY",
          "UZB",
          "VUT",
          "VEN",
          "VNM",
          "YEM",
          "ZMB",
          "ZWE"
         ],
         "marker": {
          "line": {
           "color": "black",
           "width": 0.5
          }
         },
         "name": "",
         "showscale": true,
         "type": "choropleth",
         "z": [
          3.613196849359612,
          0.828121947048666,
          0.15221775487097156,
          null,
          0.20627710706222147,
          0.23604025080481505,
          0.3428626190038863,
          0.9595588271998454,
          0.5452602823516527,
          0.11902803648463564,
          0.0356799835270393,
          0.3776420938142465,
          2.463024878278823,
          0.44041529566201626,
          0.48157462812006574,
          0.45861615269220957,
          0.37685459763030893,
          0.8851713082211597,
          0.8466181222357335,
          0.3633357361213691,
          0.15943177160126634,
          0.4128772610026632,
          0.3043348048932093,
          0.4905081080692068,
          0.12407420426206774,
          1.1790178375344835,
          3.9097627048407,
          0.15375902163676078,
          0.6460163642332467,
          0.5546197447120773,
          2.7708637642439227,
          0.3040058404379892,
          0.3637674745083789,
          0.025612496949731396,
          0.16712771604191737,
          0.2865386678325724,
          3.102480791435217,
          0.27090429839500313,
          null,
          0.4081777323966727,
          0.34142174148046806,
          0.4511432642719596,
          0.3038102925800096,
          0.19462543827693696,
          0.38855294073665436,
          0.2843412723887854,
          0.40063118567926725,
          1.280420562286677,
          null,
          0.4568734473995786,
          0.1377522176568775,
          0.7732921141958911,
          1.4097817894545066,
          0.37006204664535236,
          0.9488619821789099,
          0.5111630595704152,
          1.5875806191252846,
          1.0378460819388964,
          0.5332203281640217,
          0.3951256064822415,
          0.17739774289340174,
          0.46843499755972073,
          2.103470320150751,
          0.4020813198285914,
          1.7827202328384082,
          0.125556394354351,
          1.9546474248711851,
          0.33567410093841965,
          0.48272935756287005,
          0.910859002507512,
          0.6051100085513207,
          1.9658302083759078,
          null,
          0.31547489307909327,
          0.15974150036473148,
          0.3733982390129327,
          1.0552571405364009,
          0.0927865665857699,
          0.14263983472010752,
          0.08261738711107501,
          0.4947791508979186,
          0.13984685501341407,
          0.24480354472556987,
          0.5745469910268082,
          0.12229105462304397,
          0.5649433419307079,
          0.5112088514451978,
          1.078319516466171,
          5.4942026719079085,
          0.3677197801787305,
          0.44832782284249756,
          0.2206579216056993,
          0.225510215162988,
          0.28372162269321927,
          0.793086684919069,
          0.3335500452002087,
          0.44297740302620037,
          null,
          0.5104327095909981,
          0.4592870251036615,
          0.3942340545867624,
          0.7101822416299429,
          2.263118626667048,
          0.2393209782117834,
          0.7811911888068042,
          1.3108016553208335,
          0.8258537944430105,
          null,
          0.4782231568578649,
          0.7565242756130411,
          0.02657526853973791,
          10.178005743595682,
          0.7973873153068368,
          null,
          0.7814116738836402,
          0.8933385216622611,
          0.8733292387087892,
          0.7477359568888537,
          0.1882215368622186,
          0.2677151242554332,
          null,
          1.6556679027152856,
          0.2952090922774319,
          0.9877364351415426,
          0.4160073586476321,
          1.0084821490229559,
          1.0828905761894874,
          null,
          0.6135759354565893,
          0.26064308225335775,
          0.24895577838611566,
          1.2804733977904346,
          null,
          null,
          0.28536092434469223,
          0.23611308255812943,
          0.33944745017244043,
          0.21219321191704854,
          0.8593452182223584,
          0.3054672566707587,
          0.4212374384973832,
          0.3215062128450385,
          0.17304806457473376,
          0.4908807577888411,
          3.933264946943842,
          null,
          1.0519781948543323,
          1.4537867232626298,
          0.8060223068772188,
          null,
          3.2206957861522367,
          0.2364407851830119,
          1.5946143030558217,
          0.07855090641080588,
          0.35450125371977015,
          0.7035207378403486,
          0.21328375274191297,
          0.25866945874781755,
          0.12461909310914977,
          0.20760264242744395,
          0.6834300943604628,
          0.22087663931687831,
          0.13752684339088578,
          0.0424686158631681,
          0.2085061541694408,
          1.5143591626392294,
          0.478740524497267,
          0.2156938495523085,
          0.18009158667699257,
          0.24560579000022098,
          0.9766773179168918,
          1.4737898113921353,
          0.3764738655319535,
          0.026761989493172083,
          0.1352697984302,
          1.5893001026636002,
          0.33670370914960535,
          2.0548924198465612,
          0.902074344191752,
          0.30856832009016305,
          0.5187660791705248,
          0.21429619022011834,
          0.40042278676826737,
          null,
          1.7252609622184993,
          0.48422115035279034,
          0.2933261053531251,
          0.7070039113132578,
          0.5930633376368663,
          0.45620421492384944,
          0.1102253720930949,
          1.2737572574946956,
          0.2824598299857089,
          0.24372198949472182,
          2.9732870630303547,
          0.29875448933523857,
          0.6575321207332143
         ],
         "zmax": 0.75,
         "zmin": 0
        },
        {
         "colorbar": {
          "len": 0.4,
          "lenmode": "fraction",
          "orientation": "h",
          "thickness": 20,
          "thicknessmode": "pixels",
          "tickfont": {
           "size": 17
          },
          "ticktext": [
           "0%-point",
           "4%-point",
           "8%-point",
           "12%-point"
          ],
          "tickvals": [
           0,
           4,
           8,
           12
          ],
          "title": {
           "font": {
            "size": 17
           },
           "text": "Deviation from default reduction<br>(SSP-average, in %)"
          },
          "x": 0.02,
          "xanchor": "left",
          "y": 0.58,
          "yanchor": "bottom"
         },
         "colorscale": [
          [
           0,
           "rgb(252,251,253)"
          ],
          [
           0.125,
           "rgb(239,237,245)"
          ],
          [
           0.25,
           "rgb(218,218,235)"
          ],
          [
           0.375,
           "rgb(188,189,220)"
          ],
          [
           0.5,
           "rgb(158,154,200)"
          ],
          [
           0.625,
           "rgb(128,125,186)"
          ],
          [
           0.75,
           "rgb(106,81,163)"
          ],
          [
           0.875,
           "rgb(84,39,143)"
          ],
          [
           1,
           "rgb(63,0,125)"
          ]
         ],
         "geo": "geo",
         "hovertemplate": "%{text}",
         "locationmode": "ISO-3",
         "locations": [
          "AFG",
          "ALB",
          "DZA",
          "AND",
          "AGO",
          "ATG",
          "ARG",
          "ARM",
          "AUS",
          "AUT",
          "AZE",
          "BHR",
          "BGD",
          "BRB",
          "BLR",
          "BEL",
          "BLZ",
          "BEN",
          "BTN",
          "BOL",
          "BIH",
          "BWA",
          "BRA",
          "BRN",
          "BGR",
          "BFA",
          "BDI",
          "KHM",
          "CMR",
          "CAN",
          "CPV",
          "CAF",
          "TCD",
          "CHL",
          "CHN",
          "COL",
          "COM",
          "COG",
          "COK",
          "CRI",
          "CIV",
          "HRV",
          "CUB",
          "CYP",
          "CZE",
          "COD",
          "DNK",
          "DJI",
          "DMA",
          "DOM",
          "ECU",
          "EGY",
          "SLV",
          "GNQ",
          "ERI",
          "EST",
          "SWZ",
          "ETH",
          "FJI",
          "FIN",
          "FRA",
          "GAB",
          "GEO",
          "DEU",
          "GHA",
          "GRC",
          "GRD",
          "GTM",
          "GIN",
          "GNB",
          "GUY",
          "HTI",
          "VAT",
          "HND",
          "HUN",
          "ISL",
          "IND",
          "IDN",
          "IRN",
          "IRQ",
          "IRL",
          "ISR",
          "ITA",
          "JAM",
          "JPN",
          "JOR",
          "KAZ",
          "KEN",
          "KIR",
          "KWT",
          "KGZ",
          "LAO",
          "LVA",
          "LBN",
          "LSO",
          "LBR",
          "LBY",
          "LIE",
          "LTU",
          "LUX",
          "MKD",
          "MDG",
          "MWI",
          "MYS",
          "MDV",
          "MLI",
          "MLT",
          "MHL",
          "MRT",
          "MUS",
          "MEX",
          "FSM",
          "MDA",
          "MCO",
          "MNG",
          "MNE",
          "MAR",
          "MOZ",
          "MMR",
          "NAM",
          "NRU",
          "NPL",
          "NLD",
          "NZL",
          "NIC",
          "NER",
          "NGA",
          "NIU",
          "PRK",
          "NOR",
          "OMN",
          "PAK",
          "PLW",
          "PSE",
          "PAN",
          "PNG",
          "PRY",
          "PER",
          "PHL",
          "POL",
          "PRT",
          "QAT",
          "ROU",
          "RUS",
          "RWA",
          "KNA",
          "LCA",
          "VCT",
          "WSM",
          "SMR",
          "STP",
          "SAU",
          "SEN",
          "SRB",
          "SYC",
          "SLE",
          "SGP",
          "SVK",
          "SVN",
          "SLB",
          "SOM",
          "ZAF",
          "KOR",
          "SSD",
          "ESP",
          "LKA",
          "SDN",
          "SUR",
          "SWE",
          "CHE",
          "SYR",
          "TJK",
          "TZA",
          "THA",
          "BHS",
          "GMB",
          "TLS",
          "TGO",
          "TON",
          "TTO",
          "TUN",
          "TUR",
          "TKM",
          "TUV",
          "UGA",
          "UKR",
          "ARE",
          "GBR",
          "USA",
          "URY",
          "UZB",
          "VUT",
          "VEN",
          "VNM",
          "YEM",
          "ZMB",
          "ZWE"
         ],
         "marker": {
          "line": {
           "color": "black",
           "width": 0.5
          }
         },
         "name": "",
         "showscale": true,
         "text": [
          "AFG: 3 C",
          "ALB: 3 C",
          "DZA: 3 C",
          "AND: 3 C",
          "AGO: 3 C",
          "ATG: 3 C",
          "ARG: 3 C",
          "ARM: 3 C",
          "AUS: 3 C",
          "AUT: 3 C",
          "AZE: 3 C",
          "BHR: 3 C",
          "BGD: 3 C",
          "BRB: 3 C",
          "BLR: 3 C",
          "BEL: 3 C",
          "BLZ: 3 C",
          "BEN: 3 C",
          "BTN: 3 C",
          "BOL: 3 C",
          "BIH: 3 C",
          "BWA: 3 C",
          "BRA: 3 C",
          "BRN: 3 C",
          "BGR: 3 C",
          "BFA: 3 C",
          "BDI: 3 C",
          "KHM: 3 C",
          "CMR: 3 C",
          "CAN: 3 C",
          "CPV: 3 C",
          "CAF: 3 C",
          "TCD: 3 C",
          "CHL: 3 C",
          "CHN: 3 C",
          "COL: 3 C",
          "COM: 3 C",
          "COG: 3 C",
          "COK: 3 C",
          "CRI: 3 C",
          "CIV: 3 C",
          "HRV: 3 C",
          "CUB: 3 C",
          "CYP: 3 C",
          "CZE: 3 C",
          "COD: 3 C",
          "DNK: 3 C",
          "DJI: 3 C",
          "DMA: 3 C",
          "DOM: 3 C",
          "ECU: 3 C",
          "EGY: 3 C",
          "SLV: 3 C",
          "GNQ: 3 C",
          "ERI: 3 C",
          "EST: 3 C",
          "SWZ: 3 C",
          "ETH: 3 C",
          "FJI: 3 C",
          "FIN: 3 C",
          "FRA: 3 C",
          "GAB: 3 C",
          "GEO: 3 C",
          "DEU: 3 C",
          "GHA: 3 C",
          "GRC: 3 C",
          "GRD: 3 C",
          "GTM: 3 C",
          "GIN: 3 C",
          "GNB: 3 C",
          "GUY: 3 C",
          "HTI: 3 C",
          "VAT: 3 C",
          "HND: 3 C",
          "HUN: 3 C",
          "ISL: 3 C",
          "IND: 3 C",
          "IDN: 3 C",
          "IRN: 3 C",
          "IRQ: 3 C",
          "IRL: 3 C",
          "ISR: 3 C",
          "ITA: 3 C",
          "JAM: 3 C",
          "JPN: 3 C",
          "JOR: 3 C",
          "KAZ: 3 C",
          "KEN: 3 C",
          "KIR: 3 C",
          "KWT: 3 C",
          "KGZ: 3 C",
          "LAO: 3 C",
          "LVA: 3 C",
          "LBN: 3 C",
          "LSO: 3 C",
          "LBR: 3 C",
          "LBY: 3 C",
          "LIE: 3 C",
          "LTU: 3 C",
          "LUX: 3 C",
          "MKD: 3 C",
          "MDG: 3 C",
          "MWI: 3 C",
          "MYS: 3 C",
          "MDV: 3 C",
          "MLI: 3 C",
          "MLT: 3 C",
          "MHL: 3 C",
          "MRT: 3 C",
          "MUS: 3 C",
          "MEX: 3 C",
          "FSM: 3 C",
          "MDA: 3 C",
          "MCO: 3 C",
          "MNG: 3 C",
          "MNE: 3 C",
          "MAR: 3 C",
          "MOZ: 3 C",
          "MMR: 3 C",
          "NAM: 3 C",
          "NRU: 3 C",
          "NPL: 3 C",
          "NLD: 3 C",
          "NZL: 3 C",
          "NIC: 3 C",
          "NER: 3 C",
          "NGA: 3 C",
          "NIU: 3 C",
          "PRK: 3 C",
          "NOR: 3 C",
          "OMN: 3 C",
          "PAK: 3 C",
          "PLW: 3 C",
          "PSE: 3 C",
          "PAN: 3 C",
          "PNG: 3 C",
          "PRY: 3 C",
          "PER: 3 C",
          "PHL: 3 C",
          "POL: 3 C",
          "PRT: 3 C",
          "QAT: 3 C",
          "ROU: 3 C",
          "RUS: 3 C",
          "RWA: 3 C",
          "KNA: 3 C",
          "LCA: 3 C",
          "VCT: 3 C",
          "WSM: 3 C",
          "SMR: 3 C",
          "STP: 3 C",
          "SAU: 3 C",
          "SEN: 3 C",
          "SRB: 3 C",
          "SYC: 3 C",
          "SLE: 3 C",
          "SGP: 3 C",
          "SVK: 3 C",
          "SVN: 3 C",
          "SLB: 3 C",
          "SOM: 3 C",
          "ZAF: 3 C",
          "KOR: 3 C",
          "SSD: 3 C",
          "ESP: 3 C",
          "LKA: 3 C",
          "SDN: 3 C",
          "SUR: 3 C",
          "SWE: 3 C",
          "CHE: 3 C",
          "SYR: 3 C",
          "TJK: 3 C",
          "TZA: 3 C",
          "THA: 3 C",
          "BHS: 3 C",
          "GMB: 3 C",
          "TLS: 3 C",
          "TGO: 3 C",
          "TON: 3 C",
          "TTO: 3 C",
          "TUN: 3 C",
          "TUR: 3 C",
          "TKM: 3 C",
          "TUV: 3 C",
          "UGA: 3 C",
          "UKR: 3 C",
          "ARE: 3 C",
          "GBR: 3 C",
          "USA: 3 C",
          "URY: 3 C",
          "UZB: 3 C",
          "VUT: 3 C",
          "VEN: 3 C",
          "VNM: 3 C",
          "YEM: 3 C",
          "ZMB: 3 C",
          "ZWE: 3 C"
         ],
         "type": "choropleth",
         "z": [
          5.65,
          0.05,
          0.45,
          null,
          2.2,
          0.4,
          0,
          0.05,
          1.2,
          1.1,
          0.9,
          2.55,
          0.05,
          0.9500000000000001,
          0,
          1,
          0,
          1.8,
          0,
          0,
          0.75,
          0,
          0,
          3.25,
          0.25,
          3.0999999999999996,
          0.25,
          1,
          12.55,
          1.2,
          0.05,
          2.9,
          3.5500000000000003,
          0,
          1.7999999999999998,
          1.25,
          9.35,
          0.4,
          null,
          0,
          1.2,
          0,
          5,
          1.7999999999999998,
          0.75,
          2.8,
          1.4,
          5.2,
          null,
          0,
          1.35,
          0,
          0.1,
          0,
          12.8,
          0.95,
          0.95,
          9.75,
          0.05,
          0.8500000000000001,
          0.9,
          0,
          0.1,
          1.05,
          19.95,
          0.25,
          0.75,
          5.5,
          2.9,
          1.85,
          0.6000000000000001,
          1.6500000000000001,
          null,
          7.6,
          1.25,
          2.4,
          3.75,
          0,
          0,
          1.15,
          7.3999999999999995,
          0.35,
          1.25,
          4.25,
          0.7,
          1.75,
          0,
          5.75,
          5.65,
          2.95,
          17.35,
          0,
          0.55,
          4.9,
          4.449999999999999,
          2,
          0,
          null,
          1.6,
          4.55,
          0,
          10.9,
          6,
          1,
          0.05,
          3.8,
          0.05,
          null,
          2.8,
          4.4,
          0.3,
          23.55,
          0.05,
          null,
          0,
          0,
          0,
          5.8,
          0.45,
          0,
          null,
          10.649999999999999,
          1.65,
          0.85,
          0,
          1.2000000000000002,
          20.4,
          null,
          9.95,
          1.7,
          2.25,
          3.55,
          null,
          null,
          0,
          0.9,
          0,
          0,
          0,
          1.35,
          0,
          10,
          0,
          0.15,
          222.15,
          null,
          0,
          0.1,
          0.1,
          null,
          0.2,
          1.8499999999999999,
          2.35,
          1.05,
          0.15000000000000002,
          2,
          1.15,
          0.4,
          0.8999999999999999,
          6.550000000000001,
          10.25,
          0,
          1.35,
          1.9,
          1.5,
          0,
          9.3,
          0,
          1.1,
          0,
          1.15,
          26.15,
          6.85,
          0,
          0.45,
          2.4,
          1.7,
          8.649999999999999,
          0.1,
          0,
          4.05,
          0,
          0,
          null,
          10.100000000000001,
          0,
          8.05,
          0.7,
          2.05,
          1.55,
          0.5,
          0.15000000000000002,
          0.05,
          0.15,
          0.1,
          1.2,
          14.600000000000001
         ],
         "zmax": 12,
         "zmin": 0
        }
       ],
       "layout": {
        "annotations": [
         {
          "font": {
           "color": "black",
           "size": 20
          },
          "showarrow": false,
          "text": "<b>(a) Impact of socio-economic pathways on reduction target</b>",
          "x": 0.01,
          "xref": "paper",
          "y": 1.05,
          "yref": "paper"
         },
         {
          "font": {
           "color": "black",
           "size": 20
          },
          "showarrow": false,
          "text": "<b>(b) GHG reduction targets in 2040 with respect to 2015",
          "x": 0.95,
          "xanchor": "right",
          "xref": "paper",
          "y": 1.05,
          "yref": "paper"
         },
         {
          "font": {
           "color": "black",
           "size": 13.333333333333334
          },
          "showarrow": false,
          "text": "(in brackets and colours deviation from default in percentage-points)",
          "x": 0.85,
          "xanchor": "right",
          "xref": "paper",
          "y": 1.025,
          "yref": "paper"
         },
         {
          "font": {
           "color": "black",
           "size": 20
          },
          "showarrow": false,
          "text": "<b>(c) Impact of equity considerations on reduction target",
          "x": 0.01,
          "xanchor": "left",
          "xref": "paper",
          "y": 0.5,
          "yref": "paper"
         },
         {
          "font": {
           "color": "forestgreen",
           "size": 14
          },
          "showarrow": false,
          "text": "Peak<br>temperature",
          "textangle": -90,
          "x": 0.51,
          "xref": "paper",
          "y": 0.9,
          "yref": "paper"
         },
         {
          "font": {
           "color": "forestgreen",
           "size": 14
          },
          "showarrow": false,
          "text": "Timing<br>of action",
          "textangle": -90,
          "x": 0.51,
          "xref": "paper",
          "y": 0.79,
          "yref": "paper"
         },
         {
          "font": {
           "color": "forestgreen",
           "size": 14
          },
          "showarrow": false,
          "text": "Negative<br>emissions",
          "textangle": -90,
          "x": 0.51,
          "xref": "paper",
          "y": 0.73,
          "yref": "paper"
         },
         {
          "font": {
           "color": "forestgreen",
           "size": 14
          },
          "showarrow": false,
          "text": "Non-CO<sub>2</sub><br>reduction",
          "textangle": -90,
          "x": 0.51,
          "xref": "paper",
          "y": 0.6,
          "yref": "paper"
         },
         {
          "font": {
           "color": "steelblue",
           "size": 14
          },
          "showarrow": false,
          "text": "Socio-economic<br>scenario",
          "textangle": -90,
          "x": 0.51,
          "xref": "paper",
          "y": 0.51,
          "yref": "paper"
         },
         {
          "font": {
           "color": "steelblue",
           "size": 14
          },
          "showarrow": false,
          "text": "Climate</sub><br>sensitivity",
          "textangle": -90,
          "x": 0.51,
          "xref": "paper",
          "y": 0.42,
          "yref": "paper"
         },
         {
          "font": {
           "color": "tomato",
           "size": 14
          },
          "showarrow": false,
          "text": "Equality",
          "textangle": -90,
          "x": 0.51,
          "xref": "paper",
          "y": 0.28,
          "yref": "paper"
         },
         {
          "font": {
           "color": "tomato",
           "size": 14
          },
          "showarrow": false,
          "text": "Capability",
          "textangle": -90,
          "x": 0.51,
          "xref": "paper",
          "y": 0.17,
          "yref": "paper"
         },
         {
          "font": {
           "color": "tomato",
           "size": 14
          },
          "showarrow": false,
          "text": "Responsibility",
          "textangle": -90,
          "x": 0.51,
          "xref": "paper",
          "y": 0.07,
          "yref": "paper"
         },
         {
          "font": {
           "color": "forestgreen",
           "size": 14
          },
          "showarrow": false,
          "text": "Global strategies",
          "textangle": -90,
          "x": 0.478,
          "xref": "paper",
          "y": 0.79,
          "yref": "paper"
         },
         {
          "font": {
           "color": "steelblue",
           "size": 14
          },
          "showarrow": false,
          "text": "Physical/social uncertainties",
          "textangle": -90,
          "x": 0.478,
          "xref": "paper",
          "y": 0.46,
          "yref": "paper"
         },
         {
          "font": {
           "color": "tomato",
           "size": 14
          },
          "showarrow": false,
          "text": "Equity",
          "textangle": -90,
          "x": 0.478,
          "xref": "paper",
          "y": 0.18,
          "yref": "paper"
         }
        ],
        "geo": {
         "domain": {
          "x": [
           0,
           0.46499999999999997
          ],
          "y": [
           0.53,
           1
          ]
         },
         "lakecolor": "rgb(255, 255, 255)",
         "projection": {
          "type": "natural earth"
         },
         "resolution": 110,
         "showcoastlines": false,
         "showlakes": true,
         "visible": false
        },
        "geo2": {
         "domain": {
          "x": [
           0,
           0.46499999999999997
          ],
          "y": [
           0,
           0.47
          ]
         },
         "lakecolor": "rgb(255, 255, 255)",
         "projection": {
          "type": "natural earth"
         },
         "resolution": 110,
         "showcoastlines": false,
         "showlakes": true,
         "visible": false
        },
        "height": 1300,
        "shapes": [
         {
          "line": {
           "color": "forestgreen",
           "width": 3
          },
          "type": "line",
          "x0": 0.525,
          "x1": 0.525,
          "xref": "paper",
          "y0": 0.79,
          "y1": 0.922,
          "yref": "paper"
         },
         {
          "line": {
           "color": "forestgreen",
           "width": 3
          },
          "type": "line",
          "x0": 0.525,
          "x1": 0.533,
          "xref": "paper",
          "y0": 0.79,
          "y1": 0.79,
          "yref": "paper"
         },
         {
          "line": {
           "color": "forestgreen",
           "width": 3
          },
          "type": "line",
          "x0": 0.525,
          "x1": 0.533,
          "xref": "paper",
          "y0": 0.922,
          "y1": 0.922,
          "yref": "paper"
         },
         {
          "line": {
           "color": "forestgreen",
           "width": 3
          },
          "type": "line",
          "x0": 0.525,
          "x1": 0.525,
          "xref": "paper",
          "y0": 0.741,
          "y1": 0.785,
          "yref": "paper"
         },
         {
          "line": {
           "color": "forestgreen",
           "width": 3
          },
          "type": "line",
          "x0": 0.525,
          "x1": 0.533,
          "xref": "paper",
          "y0": 0.741,
          "y1": 0.741,
          "yref": "paper"
         },
         {
          "line": {
           "color": "forestgreen",
           "width": 3
          },
          "type": "line",
          "x0": 0.525,
          "x1": 0.533,
          "xref": "paper",
          "y0": 0.785,
          "y1": 0.785,
          "yref": "paper"
         },
         {
          "line": {
           "color": "forestgreen",
           "width": 3
          },
          "type": "line",
          "x0": 0.525,
          "x1": 0.525,
          "xref": "paper",
          "y0": 0.648,
          "y1": 0.736,
          "yref": "paper"
         },
         {
          "line": {
           "color": "forestgreen",
           "width": 3
          },
          "type": "line",
          "x0": 0.525,
          "x1": 0.533,
          "xref": "paper",
          "y0": 0.648,
          "y1": 0.648,
          "yref": "paper"
         },
         {
          "line": {
           "color": "forestgreen",
           "width": 3
          },
          "type": "line",
          "x0": 0.525,
          "x1": 0.533,
          "xref": "paper",
          "y0": 0.736,
          "y1": 0.736,
          "yref": "paper"
         },
         {
          "line": {
           "color": "forestgreen",
           "width": 3
          },
          "type": "line",
          "x0": 0.525,
          "x1": 0.525,
          "xref": "paper",
          "y0": 0.555,
          "y1": 0.643,
          "yref": "paper"
         },
         {
          "line": {
           "color": "forestgreen",
           "width": 3
          },
          "type": "line",
          "x0": 0.525,
          "x1": 0.533,
          "xref": "paper",
          "y0": 0.555,
          "y1": 0.555,
          "yref": "paper"
         },
         {
          "line": {
           "color": "forestgreen",
           "width": 3
          },
          "type": "line",
          "x0": 0.525,
          "x1": 0.533,
          "xref": "paper",
          "y0": 0.643,
          "y1": 0.643,
          "yref": "paper"
         },
         {
          "line": {
           "color": "steelblue",
           "width": 3
          },
          "type": "line",
          "x0": 0.525,
          "x1": 0.525,
          "xref": "paper",
          "y0": 0.462,
          "y1": 0.55,
          "yref": "paper"
         },
         {
          "line": {
           "color": "steelblue",
           "width": 3
          },
          "type": "line",
          "x0": 0.525,
          "x1": 0.533,
          "xref": "paper",
          "y0": 0.462,
          "y1": 0.462,
          "yref": "paper"
         },
         {
          "line": {
           "color": "steelblue",
           "width": 3
          },
          "type": "line",
          "x0": 0.525,
          "x1": 0.533,
          "xref": "paper",
          "y0": 0.55,
          "y1": 0.55,
          "yref": "paper"
         },
         {
          "line": {
           "color": "steelblue",
           "width": 3
          },
          "type": "line",
          "x0": 0.525,
          "x1": 0.525,
          "xref": "paper",
          "y0": 0.36900000000000005,
          "y1": 0.4570000000000001,
          "yref": "paper"
         },
         {
          "line": {
           "color": "steelblue",
           "width": 3
          },
          "type": "line",
          "x0": 0.525,
          "x1": 0.533,
          "xref": "paper",
          "y0": 0.36900000000000005,
          "y1": 0.36900000000000005,
          "yref": "paper"
         },
         {
          "line": {
           "color": "steelblue",
           "width": 3
          },
          "type": "line",
          "x0": 0.525,
          "x1": 0.533,
          "xref": "paper",
          "y0": 0.4570000000000001,
          "y1": 0.4570000000000001,
          "yref": "paper"
         },
         {
          "line": {
           "color": "tomato",
           "width": 3
          },
          "type": "line",
          "x0": 0.525,
          "x1": 0.525,
          "xref": "paper",
          "y0": 0.232,
          "y1": 0.364,
          "yref": "paper"
         },
         {
          "line": {
           "color": "tomato",
           "width": 3
          },
          "type": "line",
          "x0": 0.525,
          "x1": 0.533,
          "xref": "paper",
          "y0": 0.232,
          "y1": 0.232,
          "yref": "paper"
         },
         {
          "line": {
           "color": "tomato",
           "width": 3
          },
          "type": "line",
          "x0": 0.525,
          "x1": 0.533,
          "xref": "paper",
          "y0": 0.364,
          "y1": 0.364,
          "yref": "paper"
         },
         {
          "line": {
           "color": "tomato",
           "width": 3
          },
          "type": "line",
          "x0": 0.525,
          "x1": 0.525,
          "xref": "paper",
          "y0": 0.18300000000000008,
          "y1": 0.2270000000000001,
          "yref": "paper"
         },
         {
          "line": {
           "color": "tomato",
           "width": 3
          },
          "type": "line",
          "x0": 0.525,
          "x1": 0.533,
          "xref": "paper",
          "y0": 0.18300000000000008,
          "y1": 0.18300000000000008,
          "yref": "paper"
         },
         {
          "line": {
           "color": "tomato",
           "width": 3
          },
          "type": "line",
          "x0": 0.525,
          "x1": 0.533,
          "xref": "paper",
          "y0": 0.2270000000000001,
          "y1": 0.2270000000000001,
          "yref": "paper"
         },
         {
          "line": {
           "color": "tomato",
           "width": 3
          },
          "type": "line",
          "x0": 0.525,
          "x1": 0.525,
          "xref": "paper",
          "y0": 0.046000000000000076,
          "y1": 0.17800000000000007,
          "yref": "paper"
         },
         {
          "line": {
           "color": "tomato",
           "width": 3
          },
          "type": "line",
          "x0": 0.525,
          "x1": 0.533,
          "xref": "paper",
          "y0": 0.046000000000000076,
          "y1": 0.046000000000000076,
          "yref": "paper"
         },
         {
          "line": {
           "color": "tomato",
           "width": 3
          },
          "type": "line",
          "x0": 0.525,
          "x1": 0.533,
          "xref": "paper",
          "y0": 0.17800000000000007,
          "y1": 0.17800000000000007,
          "yref": "paper"
         },
         {
          "line": {
           "color": "forestgreen",
           "width": 3
          },
          "type": "line",
          "x0": 0.49,
          "x1": 0.49,
          "xref": "paper",
          "y0": 0.5556000000000001,
          "y1": 0.9256000000000001,
          "yref": "paper"
         },
         {
          "line": {
           "color": "forestgreen",
           "width": 3
          },
          "type": "line",
          "x0": 0.49,
          "x1": 0.498,
          "xref": "paper",
          "y0": 0.5556000000000001,
          "y1": 0.5556000000000001,
          "yref": "paper"
         },
         {
          "line": {
           "color": "forestgreen",
           "width": 3
          },
          "type": "line",
          "x0": 0.49,
          "x1": 0.498,
          "xref": "paper",
          "y0": 0.9256000000000001,
          "y1": 0.9256000000000001,
          "yref": "paper"
         },
         {
          "line": {
           "color": "steelblue",
           "width": 3
          },
          "type": "line",
          "x0": 0.49,
          "x1": 0.49,
          "xref": "paper",
          "y0": 0.36900000000000005,
          "y1": 0.549,
          "yref": "paper"
         },
         {
          "line": {
           "color": "steelblue",
           "width": 3
          },
          "type": "line",
          "x0": 0.49,
          "x1": 0.498,
          "xref": "paper",
          "y0": 0.36900000000000005,
          "y1": 0.36900000000000005,
          "yref": "paper"
         },
         {
          "line": {
           "color": "steelblue",
           "width": 3
          },
          "type": "line",
          "x0": 0.49,
          "x1": 0.498,
          "xref": "paper",
          "y0": 0.549,
          "y1": 0.549,
          "yref": "paper"
         },
         {
          "line": {
           "color": "tomato",
           "width": 3
          },
          "type": "line",
          "x0": 0.49,
          "x1": 0.49,
          "xref": "paper",
          "y0": 0.046000000000000076,
          "y1": 0.3660000000000001,
          "yref": "paper"
         },
         {
          "line": {
           "color": "tomato",
           "width": 3
          },
          "type": "line",
          "x0": 0.49,
          "x1": 0.498,
          "xref": "paper",
          "y0": 0.046000000000000076,
          "y1": 0.046000000000000076,
          "yref": "paper"
         },
         {
          "line": {
           "color": "tomato",
           "width": 3
          },
          "type": "line",
          "x0": 0.49,
          "x1": 0.498,
          "xref": "paper",
          "y0": 0.3660000000000001,
          "y1": 0.3660000000000001,
          "yref": "paper"
         }
        ],
        "template": {
         "data": {
          "bar": [
           {
            "error_x": {
             "color": "#2a3f5f"
            },
            "error_y": {
             "color": "#2a3f5f"
            },
            "marker": {
             "line": {
              "color": "#E5ECF6",
              "width": 0.5
             },
             "pattern": {
              "fillmode": "overlay",
              "size": 10,
              "solidity": 0.2
             }
            },
            "type": "bar"
           }
          ],
          "barpolar": [
           {
            "marker": {
             "line": {
              "color": "#E5ECF6",
              "width": 0.5
             },
             "pattern": {
              "fillmode": "overlay",
              "size": 10,
              "solidity": 0.2
             }
            },
            "type": "barpolar"
           }
          ],
          "carpet": [
           {
            "aaxis": {
             "endlinecolor": "#2a3f5f",
             "gridcolor": "white",
             "linecolor": "white",
             "minorgridcolor": "white",
             "startlinecolor": "#2a3f5f"
            },
            "baxis": {
             "endlinecolor": "#2a3f5f",
             "gridcolor": "white",
             "linecolor": "white",
             "minorgridcolor": "white",
             "startlinecolor": "#2a3f5f"
            },
            "type": "carpet"
           }
          ],
          "choropleth": [
           {
            "colorbar": {
             "outlinewidth": 0,
             "ticks": ""
            },
            "type": "choropleth"
           }
          ],
          "contour": [
           {
            "colorbar": {
             "outlinewidth": 0,
             "ticks": ""
            },
            "colorscale": [
             [
              0,
              "#0d0887"
             ],
             [
              0.1111111111111111,
              "#46039f"
             ],
             [
              0.2222222222222222,
              "#7201a8"
             ],
             [
              0.3333333333333333,
              "#9c179e"
             ],
             [
              0.4444444444444444,
              "#bd3786"
             ],
             [
              0.5555555555555556,
              "#d8576b"
             ],
             [
              0.6666666666666666,
              "#ed7953"
             ],
             [
              0.7777777777777778,
              "#fb9f3a"
             ],
             [
              0.8888888888888888,
              "#fdca26"
             ],
             [
              1,
              "#f0f921"
             ]
            ],
            "type": "contour"
           }
          ],
          "contourcarpet": [
           {
            "colorbar": {
             "outlinewidth": 0,
             "ticks": ""
            },
            "type": "contourcarpet"
           }
          ],
          "heatmap": [
           {
            "colorbar": {
             "outlinewidth": 0,
             "ticks": ""
            },
            "colorscale": [
             [
              0,
              "#0d0887"
             ],
             [
              0.1111111111111111,
              "#46039f"
             ],
             [
              0.2222222222222222,
              "#7201a8"
             ],
             [
              0.3333333333333333,
              "#9c179e"
             ],
             [
              0.4444444444444444,
              "#bd3786"
             ],
             [
              0.5555555555555556,
              "#d8576b"
             ],
             [
              0.6666666666666666,
              "#ed7953"
             ],
             [
              0.7777777777777778,
              "#fb9f3a"
             ],
             [
              0.8888888888888888,
              "#fdca26"
             ],
             [
              1,
              "#f0f921"
             ]
            ],
            "type": "heatmap"
           }
          ],
          "heatmapgl": [
           {
            "colorbar": {
             "outlinewidth": 0,
             "ticks": ""
            },
            "colorscale": [
             [
              0,
              "#0d0887"
             ],
             [
              0.1111111111111111,
              "#46039f"
             ],
             [
              0.2222222222222222,
              "#7201a8"
             ],
             [
              0.3333333333333333,
              "#9c179e"
             ],
             [
              0.4444444444444444,
              "#bd3786"
             ],
             [
              0.5555555555555556,
              "#d8576b"
             ],
             [
              0.6666666666666666,
              "#ed7953"
             ],
             [
              0.7777777777777778,
              "#fb9f3a"
             ],
             [
              0.8888888888888888,
              "#fdca26"
             ],
             [
              1,
              "#f0f921"
             ]
            ],
            "type": "heatmapgl"
           }
          ],
          "histogram": [
           {
            "marker": {
             "pattern": {
              "fillmode": "overlay",
              "size": 10,
              "solidity": 0.2
             }
            },
            "type": "histogram"
           }
          ],
          "histogram2d": [
           {
            "colorbar": {
             "outlinewidth": 0,
             "ticks": ""
            },
            "colorscale": [
             [
              0,
              "#0d0887"
             ],
             [
              0.1111111111111111,
              "#46039f"
             ],
             [
              0.2222222222222222,
              "#7201a8"
             ],
             [
              0.3333333333333333,
              "#9c179e"
             ],
             [
              0.4444444444444444,
              "#bd3786"
             ],
             [
              0.5555555555555556,
              "#d8576b"
             ],
             [
              0.6666666666666666,
              "#ed7953"
             ],
             [
              0.7777777777777778,
              "#fb9f3a"
             ],
             [
              0.8888888888888888,
              "#fdca26"
             ],
             [
              1,
              "#f0f921"
             ]
            ],
            "type": "histogram2d"
           }
          ],
          "histogram2dcontour": [
           {
            "colorbar": {
             "outlinewidth": 0,
             "ticks": ""
            },
            "colorscale": [
             [
              0,
              "#0d0887"
             ],
             [
              0.1111111111111111,
              "#46039f"
             ],
             [
              0.2222222222222222,
              "#7201a8"
             ],
             [
              0.3333333333333333,
              "#9c179e"
             ],
             [
              0.4444444444444444,
              "#bd3786"
             ],
             [
              0.5555555555555556,
              "#d8576b"
             ],
             [
              0.6666666666666666,
              "#ed7953"
             ],
             [
              0.7777777777777778,
              "#fb9f3a"
             ],
             [
              0.8888888888888888,
              "#fdca26"
             ],
             [
              1,
              "#f0f921"
             ]
            ],
            "type": "histogram2dcontour"
           }
          ],
          "mesh3d": [
           {
            "colorbar": {
             "outlinewidth": 0,
             "ticks": ""
            },
            "type": "mesh3d"
           }
          ],
          "parcoords": [
           {
            "line": {
             "colorbar": {
              "outlinewidth": 0,
              "ticks": ""
             }
            },
            "type": "parcoords"
           }
          ],
          "pie": [
           {
            "automargin": true,
            "type": "pie"
           }
          ],
          "scatter": [
           {
            "fillpattern": {
             "fillmode": "overlay",
             "size": 10,
             "solidity": 0.2
            },
            "type": "scatter"
           }
          ],
          "scatter3d": [
           {
            "line": {
             "colorbar": {
              "outlinewidth": 0,
              "ticks": ""
             }
            },
            "marker": {
             "colorbar": {
              "outlinewidth": 0,
              "ticks": ""
             }
            },
            "type": "scatter3d"
           }
          ],
          "scattercarpet": [
           {
            "marker": {
             "colorbar": {
              "outlinewidth": 0,
              "ticks": ""
             }
            },
            "type": "scattercarpet"
           }
          ],
          "scattergeo": [
           {
            "marker": {
             "colorbar": {
              "outlinewidth": 0,
              "ticks": ""
             }
            },
            "type": "scattergeo"
           }
          ],
          "scattergl": [
           {
            "marker": {
             "colorbar": {
              "outlinewidth": 0,
              "ticks": ""
             }
            },
            "type": "scattergl"
           }
          ],
          "scattermapbox": [
           {
            "marker": {
             "colorbar": {
              "outlinewidth": 0,
              "ticks": ""
             }
            },
            "type": "scattermapbox"
           }
          ],
          "scatterpolar": [
           {
            "marker": {
             "colorbar": {
              "outlinewidth": 0,
              "ticks": ""
             }
            },
            "type": "scatterpolar"
           }
          ],
          "scatterpolargl": [
           {
            "marker": {
             "colorbar": {
              "outlinewidth": 0,
              "ticks": ""
             }
            },
            "type": "scatterpolargl"
           }
          ],
          "scatterternary": [
           {
            "marker": {
             "colorbar": {
              "outlinewidth": 0,
              "ticks": ""
             }
            },
            "type": "scatterternary"
           }
          ],
          "surface": [
           {
            "colorbar": {
             "outlinewidth": 0,
             "ticks": ""
            },
            "colorscale": [
             [
              0,
              "#0d0887"
             ],
             [
              0.1111111111111111,
              "#46039f"
             ],
             [
              0.2222222222222222,
              "#7201a8"
             ],
             [
              0.3333333333333333,
              "#9c179e"
             ],
             [
              0.4444444444444444,
              "#bd3786"
             ],
             [
              0.5555555555555556,
              "#d8576b"
             ],
             [
              0.6666666666666666,
              "#ed7953"
             ],
             [
              0.7777777777777778,
              "#fb9f3a"
             ],
             [
              0.8888888888888888,
              "#fdca26"
             ],
             [
              1,
              "#f0f921"
             ]
            ],
            "type": "surface"
           }
          ],
          "table": [
           {
            "cells": {
             "fill": {
              "color": "#EBF0F8"
             },
             "line": {
              "color": "white"
             }
            },
            "header": {
             "fill": {
              "color": "#C8D4E3"
             },
             "line": {
              "color": "white"
             }
            },
            "type": "table"
           }
          ]
         },
         "layout": {
          "annotationdefaults": {
           "arrowcolor": "#2a3f5f",
           "arrowhead": 0,
           "arrowwidth": 1
          },
          "autotypenumbers": "strict",
          "coloraxis": {
           "colorbar": {
            "outlinewidth": 0,
            "ticks": ""
           }
          },
          "colorscale": {
           "diverging": [
            [
             0,
             "#8e0152"
            ],
            [
             0.1,
             "#c51b7d"
            ],
            [
             0.2,
             "#de77ae"
            ],
            [
             0.3,
             "#f1b6da"
            ],
            [
             0.4,
             "#fde0ef"
            ],
            [
             0.5,
             "#f7f7f7"
            ],
            [
             0.6,
             "#e6f5d0"
            ],
            [
             0.7,
             "#b8e186"
            ],
            [
             0.8,
             "#7fbc41"
            ],
            [
             0.9,
             "#4d9221"
            ],
            [
             1,
             "#276419"
            ]
           ],
           "sequential": [
            [
             0,
             "#0d0887"
            ],
            [
             0.1111111111111111,
             "#46039f"
            ],
            [
             0.2222222222222222,
             "#7201a8"
            ],
            [
             0.3333333333333333,
             "#9c179e"
            ],
            [
             0.4444444444444444,
             "#bd3786"
            ],
            [
             0.5555555555555556,
             "#d8576b"
            ],
            [
             0.6666666666666666,
             "#ed7953"
            ],
            [
             0.7777777777777778,
             "#fb9f3a"
            ],
            [
             0.8888888888888888,
             "#fdca26"
            ],
            [
             1,
             "#f0f921"
            ]
           ],
           "sequentialminus": [
            [
             0,
             "#0d0887"
            ],
            [
             0.1111111111111111,
             "#46039f"
            ],
            [
             0.2222222222222222,
             "#7201a8"
            ],
            [
             0.3333333333333333,
             "#9c179e"
            ],
            [
             0.4444444444444444,
             "#bd3786"
            ],
            [
             0.5555555555555556,
             "#d8576b"
            ],
            [
             0.6666666666666666,
             "#ed7953"
            ],
            [
             0.7777777777777778,
             "#fb9f3a"
            ],
            [
             0.8888888888888888,
             "#fdca26"
            ],
            [
             1,
             "#f0f921"
            ]
           ]
          },
          "colorway": [
           "#636efa",
           "#EF553B",
           "#00cc96",
           "#ab63fa",
           "#FFA15A",
           "#19d3f3",
           "#FF6692",
           "#B6E880",
           "#FF97FF",
           "#FECB52"
          ],
          "font": {
           "color": "#2a3f5f"
          },
          "geo": {
           "bgcolor": "white",
           "lakecolor": "white",
           "landcolor": "#E5ECF6",
           "showlakes": true,
           "showland": true,
           "subunitcolor": "white"
          },
          "hoverlabel": {
           "align": "left"
          },
          "hovermode": "closest",
          "mapbox": {
           "style": "light"
          },
          "paper_bgcolor": "white",
          "plot_bgcolor": "#E5ECF6",
          "polar": {
           "angularaxis": {
            "gridcolor": "white",
            "linecolor": "white",
            "ticks": ""
           },
           "bgcolor": "#E5ECF6",
           "radialaxis": {
            "gridcolor": "white",
            "linecolor": "white",
            "ticks": ""
           }
          },
          "scene": {
           "xaxis": {
            "backgroundcolor": "#E5ECF6",
            "gridcolor": "white",
            "gridwidth": 2,
            "linecolor": "white",
            "showbackground": true,
            "ticks": "",
            "zerolinecolor": "white"
           },
           "yaxis": {
            "backgroundcolor": "#E5ECF6",
            "gridcolor": "white",
            "gridwidth": 2,
            "linecolor": "white",
            "showbackground": true,
            "ticks": "",
            "zerolinecolor": "white"
           },
           "zaxis": {
            "backgroundcolor": "#E5ECF6",
            "gridcolor": "white",
            "gridwidth": 2,
            "linecolor": "white",
            "showbackground": true,
            "ticks": "",
            "zerolinecolor": "white"
           }
          },
          "shapedefaults": {
           "line": {
            "color": "#2a3f5f"
           }
          },
          "ternary": {
           "aaxis": {
            "gridcolor": "white",
            "linecolor": "white",
            "ticks": ""
           },
           "baxis": {
            "gridcolor": "white",
            "linecolor": "white",
            "ticks": ""
           },
           "bgcolor": "#E5ECF6",
           "caxis": {
            "gridcolor": "white",
            "linecolor": "white",
            "ticks": ""
           }
          },
          "title": {
           "x": 0.05
          },
          "xaxis": {
           "automargin": true,
           "gridcolor": "white",
           "linecolor": "white",
           "ticks": "",
           "title": {
            "standoff": 15
           },
           "zerolinecolor": "white",
           "zerolinewidth": 2
          },
          "yaxis": {
           "automargin": true,
           "gridcolor": "white",
           "linecolor": "white",
           "ticks": "",
           "title": {
            "standoff": 15
           },
           "zerolinecolor": "white",
           "zerolinewidth": 2
          }
         }
        },
        "width": 1700,
        "xaxis": {
         "anchor": "y",
         "domain": [
          0.5349999999999999,
          0.9999999999999999
         ]
        },
        "yaxis": {
         "anchor": "x",
         "domain": [
          0,
          0.47
         ]
        }
       }
      }
     },
     "metadata": {},
     "output_type": "display_data"
    }
   ],
   "source": [
    "fig = make_subplots(rows=2, cols=2,\n",
    "                    specs=[[{'type': 'choropleth'}, {'type': 'table', 'rowspan': 2}],\n",
    "                           [{'type': 'choropleth'}, {}]],\n",
    "                    horizontal_spacing = 0.07, vertical_spacing=0.06)\n",
    "fig.add_trace(go.Table(header=dict(values=['']+['<b>'+cty+'</b>'  for cty in ctys], fill_color='grey'),\n",
    "                     cells=dict(values=np.array([['<b>'+titles[k]]+list([([\"<span style='font-size:15px;'>\"+'<b>']+[\"<span style='font-size:15px;'>\"+'']*len(vals[0]))[k]+\"{0:+.00f}\".format(vals[i, k])+\n",
    "                                                                         '%</b></span><br>('+\"<span style='font-size:11px;'>\"+\"{0:+.00f}\".format(vals_dev[i, k])+'%)</span>' for i in range(len(ctys))]) for k in range(len(titles))]).T,\n",
    "                                fill_color=cols,\n",
    "                                align='center'),\n",
    "                     columnwidth=[0.2]+[0.1]*len(ctys)\n",
    "                     ), 1, 2)\n",
    "\n",
    "fs=20\n",
    "fs2 = 14\n",
    "fig['layout'].update(\n",
    "    annotations=[dict(x=0.01, y=1.05, text='<b>(a) Impact of socio-economic pathways on reduction target</b>', xref='paper', yref='paper', showarrow=False, font=dict(color='black', size=fs)),\n",
    "                 dict(x=0.95, y=1.05, text='<b>(b) GHG reduction targets in 2040 with respect to 2015', xref='paper', yref='paper', xanchor='right', showarrow=False, font=dict(color='black', size=fs)),\n",
    "                 dict(x=0.85, y=1.025, text='(in brackets and colours deviation from default in percentage-points)', xref='paper', yref='paper', xanchor='right', showarrow=False, font=dict(color='black', size=fs/1.5)),\n",
    "                 dict(x=0.01, y=0.5, text='<b>(c) Impact of equity considerations on reduction target', xref='paper', yref='paper', xanchor='left', showarrow=False, font=dict(color='black', size=fs)),\n",
    "                 #dict(x=0.05, y=0.475, text='in allocations in 2040', xref='paper', yref='paper', xanchor='left', showarrow=False, font=dict(color='black', size=fs/1.5)),\n",
    "\n",
    "                 dict(x=0.51, y=0.90, text='Peak<br>temperature', xref='paper', yref='paper', showarrow=False, textangle=-90, font=dict(color='forestgreen',  size=fs2)),\n",
    "                 dict(x=0.51, y=0.79, text='Timing<br>of action', xref='paper', yref='paper', showarrow=False, textangle=-90, font=dict(color='forestgreen',  size=fs2)),\n",
    "                 dict(x=0.51, y=0.73, text='Negative<br>emissions', xref='paper', yref='paper', showarrow=False, textangle=-90, font=dict(color='forestgreen',  size=fs2)),\n",
    "                 dict(x=0.51, y=0.60, text='Non-CO<sub>2</sub><br>reduction', xref='paper', yref='paper', showarrow=False, textangle=-90, font=dict(color='forestgreen',  size=fs2)),\n",
    "                 dict(x=0.51, y=0.51, text='Socio-economic<br>scenario', xref='paper', yref='paper', showarrow=False, textangle=-90, font=dict(color='steelblue',  size=fs2)),\n",
    "                 dict(x=0.51, y=0.42, text='Climate</sub><br>sensitivity', xref='paper', yref='paper', showarrow=False, textangle=-90, font=dict(color='steelblue',  size=fs2)),\n",
    "                 dict(x=0.51, y=0.28, text='Equality', xref='paper', yref='paper', showarrow=False, textangle=-90, font=dict(color='tomato',  size=fs2)),\n",
    "                 dict(x=0.51, y=0.17, text='Capability', xref='paper', yref='paper', showarrow=False, textangle=-90, font=dict(color='tomato',  size=fs2)),\n",
    "                 dict(x=0.51, y=0.07, text='Responsibility', xref='paper', yref='paper', showarrow=False, textangle=-90, font=dict(color='tomato',  size=fs2)),\n",
    "                 \n",
    "                 dict(x=0.478, y=0.79, text='Global strategies', xref='paper', yref='paper', showarrow=False, textangle=-90, font=dict(color='forestgreen',  size=fs2)),\n",
    "                 dict(x=0.478, y=0.46, text='Physical/social uncertainties', xref='paper', yref='paper', showarrow=False, textangle=-90, font=dict(color='steelblue',  size=fs2)),\n",
    "                 dict(x=0.478, y=0.18, text='Equity', xref='paper', yref='paper', showarrow=False, textangle=-90, font=dict(color='tomato',  size=fs2)),\n",
    "\n",
    "              #    dict(x=0.01, y=0.44, text='<b>United States</b>: many developed countries<br>are affected by equity due to high sensitivity for responsibility', xref='paper', yref='paper', showarrow=False, font=dict(color='tomato',  size=fs2)),\n",
    "              #    dict(x=0.05, y=0.0, text='<b>Uganda</b>: the significant difference<br>between equality and responsibility makes<br>many African countries most affected by equity discussions', xref='paper', yref='paper', showarrow=False, font=dict(color='tomato',  size=fs2)),\n",
    "              #    dict(x=-0.02, y=0.15, text='<b>Honduras</b>: only a few are mostly<br>affected by physical and<br>socio-economic uncertainties', xref='paper', yref='paper', showarrow=False, font=dict(color='steelblue',  size=fs2)),\n",
    "              #    dict(x=0.18, y=0.06, text='<b>India</b>: various countries are<br>disproportionally affected by<br>discussions on peak temperature', xref='paper', yref='paper', showarrow=False, font=dict(color='forestgreen',  size=fs2)),\n",
    "              #    dict(x=0.33, y=0.08, text='<b>China</b>: others are less<br>impacted by equity discussions<br>making peak temperature the<br>most important discussion', xref='paper', yref='paper', showarrow=False, font=dict(color='forestgreen',  size=fs2)),\n",
    "])\n",
    "args = dict(xref=\"paper\", yref=\"paper\", type='line')\n",
    "dy = 0.044\n",
    "x0 = 0.79\n",
    "for l_i in range(9):\n",
    "       y0 = [x0, x0-1*dy-0.005, x0-3*dy-0.01,\n",
    "             x0-5*dy-0.015,x0-7*dy-0.02,x0-9*dy-0.025,\n",
    "            x0 -12*dy-0.03,x0-13*dy-0.035,x0-16*dy-0.04,][l_i]\n",
    "       y1 = y0+dy*[3, 1, 2, 2, 2, 2, 3, 1, 3][l_i]\n",
    "       col = ['forestgreen', 'forestgreen', 'forestgreen', 'forestgreen', 'steelblue', 'steelblue', 'tomato', 'tomato', 'tomato'][l_i]\n",
    "       fig.add_shape(x0=0.525, y0=y0, x1=0.525, y1=y1, line=dict(color=col, width=3), **args)\n",
    "       fig.add_shape(x0=0.525, y0=y0, x1=0.533, y1=y0, **args, line=dict(color=col, width=3))\n",
    "       fig.add_shape(x0=0.525, y0=y1, x1=0.533, y1=y1, **args, line=dict(color=col, width=3))\n",
    "\n",
    "# Major titles\n",
    "for l_i in range(3):\n",
    "       y0 = [0.79-5.1*dy-0.01, 0.79-9*dy-0.025, 0.79-16*dy-0.04][l_i]\n",
    "       y1 = y0+[0.37, 0.18, 0.32][l_i]\n",
    "       col = ['forestgreen', 'steelblue', 'tomato'][l_i]\n",
    "       fig.add_shape(x0=0.49, y0=y0, x1=0.49, y1=y1, line=dict(color=col, width=3), **args)\n",
    "       fig.add_shape(x0=0.49, y0=y0, x1=0.498, y1=y0, **args, line=dict(color=col, width=3))\n",
    "       fig.add_shape(x0=0.49, y0=y1, x1=0.498, y1=y1, **args, line=dict(color=col, width=3))\n",
    "\n",
    "# Annotation in map\n",
    "# fig.add_shape(x0=0.08, y0=0.20, x1=0.12, y1=0.27, **args, line=dict(color='steelblue', width=3))\n",
    "# fig.add_shape(x0=0.10, y0=0.415, x1=0.12, y1=0.30, **args, line=dict(color='tomato', width=3))\n",
    "# fig.add_shape(x0=0.12, y0=0.05, x1=0.25, y1=0.20, **args, line=dict(color='tomato', width=3))\n",
    "# fig.add_shape(x0=0.25, y0=0.11, x1=0.33, y1=0.28, **args, line=dict(color='forestgreen', width=3))\n",
    "# fig.add_shape(x0=0.35, y0=0.16, x1=0.36, y1=0.29, **args, line=dict(color='forestgreen', width=3))\n",
    "\n",
    "fig.update_geos(visible=False,\n",
    "                showlakes=True,\n",
    "                lakecolor='rgb(255, 255, 255)',\n",
    "                projection_type='natural earth',\n",
    "                resolution=110,\n",
    "                showcoastlines=False,)\n",
    "fig.update_layout(height=1300, width=1700)#, template='simple_white')\n",
    "fig.update_traces(cells_font=dict(size = 14))\n",
    "fig.add_trace(traces_b[0], 2, 1)\n",
    "fig.add_trace(traces_a[0], 1, 1)\n",
    "fig.add_trace(traces_b[1], 2, 1)\n",
    "fig.add_trace(traces_a[1], 1, 1)\n",
    "#fig.add_trace(traces_b[2], 2, 1)\n",
    "#fig.add_trace(traces_a[2], 1, 1)\n",
    "fig.show()"
   ]
  },
  {
   "cell_type": "code",
   "execution_count": 15,
   "metadata": {},
   "outputs": [],
   "source": [
    "fig.write_image(\"K:/Code/effort-sharing/Figures/Paper_FairShares/V2/Figure_SI1.png\", scale=5)"
   ]
  }
 ],
 "metadata": {
  "kernelspec": {
   "display_name": "Python 3",
   "language": "python",
   "name": "python3"
  },
  "language_info": {
   "codemirror_mode": {
    "name": "ipython",
    "version": 3
   },
   "file_extension": ".py",
   "mimetype": "text/x-python",
   "name": "python",
   "nbconvert_exporter": "python",
   "pygments_lexer": "ipython3",
   "version": "3.12.5"
  }
 },
 "nbformat": 4,
 "nbformat_minor": 2
}
