{
 "cells": [
  {
   "attachments": {},
   "cell_type": "markdown",
   "metadata": {},
   "source": [
    "## Preambule"
   ]
  },
  {
   "cell_type": "code",
   "execution_count": 26,
   "metadata": {},
   "outputs": [],
   "source": [
    "# General packages\n",
    "import numpy as np\n",
    "import pandas as pd\n",
    "from tqdm import tqdm\n",
    "from pathlib import Path\n",
    "import xarray as xr\n",
    "import pandas as pd\n",
    "import json\n",
    "import plotly\n",
    "\n",
    "# Plotting\n",
    "import matplotlib.pyplot as plt\n",
    "import plotly.express as px\n",
    "import plotly.graph_objects as go\n",
    "from plotly.subplots import make_subplots\n",
    "from plotly.colors import n_colors"
   ]
  },
  {
   "attachments": {},
   "cell_type": "markdown",
   "metadata": {},
   "source": [
    "## Parameters"
   ]
  },
  {
   "cell_type": "code",
   "execution_count": 27,
   "metadata": {},
   "outputs": [],
   "source": [
    "rules = ['PCC', 'ECPC', 'AP']\n",
    "rulecolors = ['goldenrod', 'tomato', 'forestgreen']"
   ]
  },
  {
   "attachments": {},
   "cell_type": "markdown",
   "metadata": {},
   "source": [
    "## Paths"
   ]
  },
  {
   "cell_type": "code",
   "execution_count": 28,
   "metadata": {},
   "outputs": [],
   "source": [
    "path_main = Path(\"K:/Code/effort-sharing/\")\n",
    "path_data = Path(\"K:/Data/Data_effortsharing/DataUpdate_ongoing/\")\n",
    "path_figs = path_main / \"Figures\" / \"Paper_FairShares\""
   ]
  },
  {
   "attachments": {},
   "cell_type": "markdown",
   "metadata": {},
   "source": [
    "## Read data files"
   ]
  },
  {
   "cell_type": "code",
   "execution_count": 29,
   "metadata": {},
   "outputs": [],
   "source": [
    "xr_dataread = xr.open_dataset(path_data / \"startyear_2021/xr_dataread.nc\")\n",
    "xr_traj_2035 = xr.open_dataset(path_data / \"startyear_2021/Aggregated_files/xr_alloc_2035_GHG_incl.nc\")\n",
    "xr_total = xr.open_dataset(path_data / \"xr_policyscen.nc\")\n",
    "\n",
    "all_regions_iso = np.load(path_data / \"all_regions.npy\")\n",
    "all_regions_names = np.load(path_data / \"all_regions_names.npy\")\n",
    "all_countries_iso = np.load(path_data / \"all_countries.npy\", allow_pickle=True)\n",
    "all_countries_names = np.load(path_data / \"all_countries_names.npy\", allow_pickle=True)"
   ]
  },
  {
   "cell_type": "markdown",
   "metadata": {},
   "source": [
    "## Get Cost-optimal output"
   ]
  },
  {
   "cell_type": "code",
   "execution_count": 30,
   "metadata": {},
   "outputs": [],
   "source": [
    "df_ar6 = pd.read_csv(\"X:/user/dekkerm/Data/IPCC/AR6_ISO3/AR6_Scenarios_Database_ISO3_v1.1.csv\")\n",
    "df_ar6 = df_ar6[df_ar6.Variable.isin(['Emissions|Kyoto Gases', 'Policy Cost|Consumption Loss'])]\n",
    "df_ar6 = df_ar6.reset_index(drop=True)\n",
    "\n",
    "df_ar6_meta = pd.read_excel(\"X:/user/dekkerm/Data/IPCC/AR6_ISO3/AR6_Scenarios_Database_metadata_indicators_v1.1.xlsx\", sheet_name='meta_Ch3vetted_withclimate')\n",
    "mods = np.array(df_ar6_meta.Model)\n",
    "scens = np.array(df_ar6_meta.Scenario)\n",
    "modscens_meta = np.array([mods[i]+'|'+scens[i] for i in range(len(scens))])\n",
    "df_ar6_meta['ModelScenario'] = modscens_meta\n",
    "df_ar6_meta = df_ar6_meta[['ModelScenario', 'Category', 'Policy_category']]\n",
    "df_ar6_meta = df_ar6_meta[df_ar6_meta.Category.isin(['C1'])]\n",
    "df_ar6_meta = df_ar6_meta.reset_index(drop=True)\n",
    "ms_meta_refined = np.array(df_ar6_meta.ModelScenario)\n",
    "\n",
    "mods = np.array(df_ar6.Model)\n",
    "scens = np.array(df_ar6.Scenario)\n",
    "modscens = np.array([mods[i]+'|'+scens[i] for i in range(len(scens))])\n",
    "df_ar6['ModelScenario'] = modscens\n",
    "df_ar6 = df_ar6.drop(['Model', 'Scenario', 'Unit'], axis=1)\n",
    "df_ar6 = df_ar6[df_ar6.ModelScenario.isin(np.array(ms_meta_refined))]\n",
    "\n",
    "dummy = df_ar6.melt(id_vars=[\"Variable\", \"Region\", \"ModelScenario\"], var_name=\"Time\", value_name=\"Value\")\n",
    "dummy['Time'] = np.array(dummy['Time'].astype(int))\n",
    "dummy = dummy.set_index([\"Variable\", \"Region\", \"ModelScenario\", \"Time\"])\n",
    "xr_scen_r = xr.Dataset.from_dataframe(dummy)\n",
    "xr_scen_r = xr_scen_r.reindex(Time = np.arange(1850, 2101))\n",
    "xr_scen_r = xr_scen_r.interpolate_na(dim=\"Time\", method=\"linear\")"
   ]
  },
  {
   "cell_type": "markdown",
   "metadata": {},
   "source": [
    "## Compute fractions"
   ]
  },
  {
   "cell_type": "markdown",
   "metadata": {},
   "source": [
    "World"
   ]
  },
  {
   "cell_type": "code",
   "execution_count": 31,
   "metadata": {},
   "outputs": [],
   "source": [
    "df_ar6 = pd.read_csv(\"X:/user/dekkerm/Data/IPCC/AR6_Scenarios_Database_World_v1.1.csv\")\n",
    "df_ar6 = df_ar6[df_ar6.Variable.isin(['Emissions|Kyoto Gases', 'Policy Cost|Consumption Loss', 'Price|Carbon'])]\n",
    "df_ar6 = df_ar6.reset_index(drop=True)\n",
    "\n",
    "df_ar6_meta = pd.read_excel(\"X:/user/dekkerm/Data/IPCC/AR6_Scenarios_Database_metadata_indicators_v1.1.xlsx\", sheet_name='meta_Ch3vetted_withclimate')\n",
    "mods = np.array(df_ar6_meta.Model)\n",
    "scens = np.array(df_ar6_meta.Scenario)\n",
    "modscens_meta = np.array([mods[i]+'|'+scens[i] for i in range(len(scens))])\n",
    "df_ar6_meta['ModelScenario'] = modscens_meta\n",
    "df_ar6_meta = df_ar6_meta[['ModelScenario', 'Category', 'Policy_category']]\n",
    "df_ar6_meta = df_ar6_meta[df_ar6_meta.Category.isin(['C1'])]\n",
    "df_ar6_meta = df_ar6_meta.reset_index(drop=True)\n",
    "ms_meta_refined = np.array(df_ar6_meta.ModelScenario)\n",
    "\n",
    "mods = np.array(df_ar6.Model)\n",
    "scens = np.array(df_ar6.Scenario)\n",
    "modscens = np.array([mods[i]+'|'+scens[i] for i in range(len(scens))])\n",
    "df_ar6['ModelScenario'] = modscens\n",
    "df_ar6['Region'] = 'WORLD'\n",
    "df_ar6 = df_ar6.drop(['Model', 'Scenario', 'Unit'], axis=1)\n",
    "df_ar6 = df_ar6[df_ar6.ModelScenario.isin(np.array(ms_meta_refined))]\n",
    "\n",
    "dummy = df_ar6.melt(id_vars=[\"Variable\", \"Region\", \"ModelScenario\"], var_name=\"Time\", value_name=\"Value\")\n",
    "dummy['Time'] = np.array(dummy['Time'].astype(int))\n",
    "dummy = dummy.set_index([\"Variable\", \"Region\", \"ModelScenario\", \"Time\"])\n",
    "xr_scen = xr.Dataset.from_dataframe(dummy)\n",
    "xr_scen = xr_scen.reindex(Time = np.arange(1850, 2101))\n",
    "xr_scen = xr_scen.interpolate_na(dim=\"Time\", method=\"linear\")"
   ]
  },
  {
   "cell_type": "markdown",
   "metadata": {},
   "source": [
    "Regional"
   ]
  },
  {
   "cell_type": "code",
   "execution_count": 32,
   "metadata": {},
   "outputs": [],
   "source": [
    "df_ar6 = pd.read_csv(\"X:/user/dekkerm/Data/IPCC/AR6_ISO3/AR6_Scenarios_Database_ISO3_v1.1.csv\")\n",
    "df_ar6 = df_ar6[df_ar6.Variable.isin(['Emissions|Kyoto Gases', 'Policy Cost|Consumption Loss', 'Price|Carbon'])]\n",
    "df_ar6 = df_ar6.reset_index(drop=True)\n",
    "\n",
    "df_ar6_meta = pd.read_excel(\"X:/user/dekkerm/Data/IPCC/AR6_ISO3/AR6_Scenarios_Database_metadata_indicators_v1.1.xlsx\", sheet_name='meta_Ch3vetted_withclimate')\n",
    "mods = np.array(df_ar6_meta.Model)\n",
    "scens = np.array(df_ar6_meta.Scenario)\n",
    "modscens_meta = np.array([mods[i]+'|'+scens[i] for i in range(len(scens))])\n",
    "df_ar6_meta['ModelScenario'] = modscens_meta\n",
    "df_ar6_meta = df_ar6_meta[['ModelScenario', 'Category', 'Policy_category']]\n",
    "df_ar6_meta = df_ar6_meta[df_ar6_meta.Category.isin(['C1'])]\n",
    "df_ar6_meta = df_ar6_meta.reset_index(drop=True)\n",
    "ms_meta_refined = np.array(df_ar6_meta.ModelScenario)\n",
    "\n",
    "mods = np.array(df_ar6.Model)\n",
    "scens = np.array(df_ar6.Scenario)\n",
    "modscens = np.array([mods[i]+'|'+scens[i] for i in range(len(scens))])\n",
    "df_ar6['ModelScenario'] = modscens\n",
    "df_ar6 = df_ar6.drop(['Model', 'Scenario', 'Unit'], axis=1)\n",
    "df_ar6 = df_ar6[df_ar6.ModelScenario.isin(np.array(ms_meta_refined))]\n",
    "\n",
    "dummy = df_ar6.melt(id_vars=[\"Variable\", \"Region\", \"ModelScenario\"], var_name=\"Time\", value_name=\"Value\")\n",
    "dummy['Time'] = np.array(dummy['Time'].astype(int))\n",
    "dummy = dummy.set_index([\"Variable\", \"Region\", \"ModelScenario\", \"Time\"])\n",
    "xr_scen_r = xr.Dataset.from_dataframe(dummy)\n",
    "xr_scen_r = xr_scen_r.reindex(Time = np.arange(1850, 2101))\n",
    "xr_scen_r = xr_scen_r.interpolate_na(dim=\"Time\", method=\"linear\")"
   ]
  },
  {
   "cell_type": "markdown",
   "metadata": {},
   "source": [
    "R-10 regions"
   ]
  },
  {
   "cell_type": "code",
   "execution_count": 33,
   "metadata": {},
   "outputs": [],
   "source": [
    "df_ar6 = pd.read_csv(\"X:/user/dekkerm/Data/IPCC/AR6_R10/AR6_Scenarios_Database_R10_regions_v1.1.csv\")\n",
    "df_ar6 = df_ar6[df_ar6.Variable.isin(['Emissions|Kyoto Gases', 'Policy Cost|Consumption Loss', 'Price|Carbon'])]\n",
    "df_ar6 = df_ar6.reset_index(drop=True)\n",
    "\n",
    "df_ar6_meta = pd.read_excel(\"X:/user/dekkerm/Data/IPCC/AR6_R10/AR6_Scenarios_Database_metadata_indicators_v1.1.xlsx\", sheet_name='meta_Ch3vetted_withclimate')\n",
    "mods = np.array(df_ar6_meta.Model)\n",
    "scens = np.array(df_ar6_meta.Scenario)\n",
    "modscens_meta = np.array([mods[i]+'|'+scens[i] for i in range(len(scens))])\n",
    "df_ar6_meta['ModelScenario'] = modscens_meta\n",
    "df_ar6_meta = df_ar6_meta[['ModelScenario', 'Category', 'Policy_category']]\n",
    "df_ar6_meta = df_ar6_meta[df_ar6_meta.Category.isin(['C1'])]\n",
    "df_ar6_meta = df_ar6_meta.reset_index(drop=True)\n",
    "ms_meta_refined = np.array(df_ar6_meta.ModelScenario)\n",
    "\n",
    "mods = np.array(df_ar6.Model)\n",
    "scens = np.array(df_ar6.Scenario)\n",
    "modscens = np.array([mods[i]+'|'+scens[i] for i in range(len(scens))])\n",
    "df_ar6['ModelScenario'] = modscens\n",
    "df_ar6 = df_ar6.drop(['Model', 'Scenario', 'Unit'], axis=1)\n",
    "df_ar6 = df_ar6[df_ar6.ModelScenario.isin(np.array(ms_meta_refined))]\n",
    "\n",
    "dummy = df_ar6.melt(id_vars=[\"Variable\", \"Region\", \"ModelScenario\"], var_name=\"Time\", value_name=\"Value\")\n",
    "dummy['Time'] = np.array(dummy['Time'].astype(int))\n",
    "dummy = dummy.set_index([\"Variable\", \"Region\", \"ModelScenario\", \"Time\"])\n",
    "xr_scen_r10 = xr.Dataset.from_dataframe(dummy)\n",
    "xr_scen_r10 = xr_scen_r10.reindex(Time = np.arange(1850, 2101))\n",
    "xr_scen_r10 = xr_scen_r10.interpolate_na(dim=\"Time\", method=\"linear\")"
   ]
  },
  {
   "cell_type": "code",
   "execution_count": 34,
   "metadata": {},
   "outputs": [],
   "source": [
    "df_conv = pd.read_excel(\"X:/user/dekkerm/Data/AR6_regionclasses.xlsx\", sheet_name = 'Sheet1')[['ISO', 'region_ar6_10']]\n",
    "regs = np.array(df_conv.region_ar6_10)\n",
    "regs[regs == 'Africa'] =            'R10AFRICA'\n",
    "regs[regs == 'Eastern Asia'] =      'R10CHINA+'\n",
    "regs[regs == 'Europe'] =            'R10EUROPE'\n",
    "regs[regs == 'Southern Asia'] =     'R10INDIA+'\n",
    "regs[regs == 'Latin America and Caribbean'] = 'R10LATIN_AM'\n",
    "regs[regs == 'Middle East'] =       'R10MIDDLE_EAST'\n",
    "regs[regs == 'North America'] =     'R10NORTH_AM'\n",
    "regs[regs == 'Asia-Pacific Developed'] = 'R10PAC_OECD'\n",
    "regs[regs == 'Eurasia'] =           'R10REF_ECON'\n",
    "regs[regs == 'South-East Asia and developing Pacific'] = 'R10REST_ASIA'\n",
    "df_conv['region_ar6_10'] = regs"
   ]
  },
  {
   "cell_type": "code",
   "execution_count": 35,
   "metadata": {},
   "outputs": [],
   "source": [
    "native_regions = np.array(xr_scen_r.Region)\n",
    "xrs = []\n",
    "for cty in all_countries_iso:\n",
    "    if cty not in native_regions:\n",
    "        which_group = np.array(df_conv[df_conv.ISO == cty].region_ar6_10)[0]\n",
    "        group_members = np.array(df_conv[df_conv.region_ar6_10 == which_group].ISO)\n",
    "        emis_total = float(xr_dataread.GHG_hist.sel(Region=np.intersect1d(group_members,all_countries_iso), Time=2021).sum(dim='Region'))\n",
    "        emis_frac = xr_dataread.GHG_hist.sel(Region=cty, Time=2021) / emis_total\n",
    "        xrry = xr.merge([xr_scen_r10.sel(Region=which_group, Variable=['Emissions|Kyoto Gases'])*emis_frac,\n",
    "                         xr_scen_r10.sel(Region=which_group, Variable=['Price|Carbon'])]).expand_dims({'Region': [cty]})\n",
    "        xrs.append(xrry)\n",
    "xr_scen_infilled_r = xr.concat(xrs, dim='Region')"
   ]
  },
  {
   "cell_type": "markdown",
   "metadata": {},
   "source": [
    "Concatenate"
   ]
  },
  {
   "cell_type": "code",
   "execution_count": 36,
   "metadata": {},
   "outputs": [],
   "source": [
    "xr_scen_all = xr.merge([xr_scen, xr_scen_r, xr_scen_infilled_r])"
   ]
  },
  {
   "cell_type": "markdown",
   "metadata": {},
   "source": [
    "## Data for plots"
   ]
  },
  {
   "cell_type": "code",
   "execution_count": 37,
   "metadata": {},
   "outputs": [],
   "source": [
    "settings_default = {'Temperature': 1.6,\n",
    "                   'Risk': 0.5,\n",
    "                   'NegEmis': 0.5,\n",
    "                   'NonCO2red': 0.5,\n",
    "                   'Timing': \"Immediate\",\n",
    "                   'Convergence_year': 2050,\n",
    "                   'Scenario': 'SSP2',\n",
    "                   'Discount_factor': 0,\n",
    "                   'Historical_startyear': 1990,}\n",
    "                   #'Capability_threshold': \"Th\",\n",
    "                   #'RCI_weight': \"Half\"}\n",
    "settings_ranges = {'Temperature': [1.6, 2.0],\n",
    "                   'Risk': [0.5, 0.33],\n",
    "                   'Convergence_year': [2050, 2080],\n",
    "                    'NonCO2red':[0.33, 0.5, 0.67],\n",
    "                   'Timing': [\"Immediate\"],\n",
    "                   }\n",
    "settings_ranges2 = {'Temperature': [1.6, 2.0],\n",
    "                   'Risk': [0.5, 0.33],\n",
    "                   'Convergence_year': [2050, 2080],\n",
    "                    'NonCO2red':[0.33, 0.5, 0.67],\n",
    "                   'Timing': [\"Immediate\"],\n",
    "                   }\n",
    "                   #'Capability_threshold': \"Th\",\n",
    "                   #'RCI_weight': \"Half\"}"
   ]
  },
  {
   "cell_type": "code",
   "execution_count": 38,
   "metadata": {},
   "outputs": [],
   "source": [
    "ndcs = xr_dataread.GHG_ndc.mean(dim=['Conditionality', 'Ambition'])\n",
    "data = xr_traj_2035.sel(**settings_ranges)[['ECPC', 'AP', 'PCC']]\n",
    "data_max = xr.concat([data.ECPC, data.AP.expand_dims({'Convergence_year': [2050, 2080]}), data.PCC], dim='variable2').max(dim=list(settings_default.keys())+['variable2'])\n",
    "data = xr_traj_2035.sel(**settings_default)[['ECPC', 'AP', 'PCC']]\n",
    "data_def = xr.concat([data.ECPC, data.AP, data.PCC], dim='variable2').max(dim='variable2')"
   ]
  },
  {
   "cell_type": "code",
   "execution_count": 39,
   "metadata": {},
   "outputs": [
    {
     "name": "stdout",
     "output_type": "stream",
     "text": [
      "Preferences on default settings\n",
      "-----\n"
     ]
    }
   ],
   "source": [
    "print(\"Preferences on default settings\")\n",
    "print('-----')\n",
    "data = xr_traj_2035.sel(**settings_default)[['ECPC', 'AP', 'PCC']]\n",
    "data_def = xr.concat([data.ECPC, data.AP, data.PCC], dim='variable2').max(dim='variable2')\n",
    "argmax_default = xr.concat([data.ECPC, data.AP, data.PCC], dim='variable2').fillna(-9e99).argmax(dim='variable2')\n",
    "\n",
    "data = xr_traj_2035.sel(**settings_ranges)[['ECPC', 'AP', 'PCC']]\n",
    "data_max = xr.concat([data.ECPC, data.AP.expand_dims({'Convergence_year': [2050, 2080]}), data.PCC], dim='variable2').max(dim=list(settings_default.keys())+['variable2'])\n",
    "argmax_maximum = xr.concat([data.ECPC, data.AP.expand_dims({'Convergence_year': [2050, 2080]}), data.PCC], dim='variable2').fillna(-9e99).argmax(dim=list(settings_default.keys())+['variable2'])\n",
    "x = xr.concat([data.ECPC, data.AP.expand_dims({'Convergence_year': [2050, 2080]}), data.PCC], dim='variable2').fillna(-9e99)\n",
    "argmax_max = []\n",
    "maxs = x.max(dim=list(settings_default.keys())+['variable2'])\n",
    "for cty in x.Region:\n",
    "    mx = float(maxs.sel(Region=cty).values)\n",
    "    wh = np.where(x.sel(Region=cty).values == mx)\n",
    "    wh = np.array(wh)[:, 0]\n",
    "    argmax_max.append(wh[0])\n",
    "argmax_max = np.array(argmax_max)\n",
    "\n",
    "df_c = []\n",
    "df_r_d = []\n",
    "df_r_m = []\n",
    "for cty_i, cty in enumerate(all_countries_iso):\n",
    "    df_c.append(all_countries_names[cty_i])\n",
    "    df_r_d.append(['ECPC', 'AP', 'PCC'][argmax_default.sel(Region=cty).values])\n",
    "    df_r_m.append(['ECPC', 'AP', 'PCC'][argmax_max[cty_i]])\n",
    "df_dict = {'Region': df_c, 'Default': df_r_d, 'Maximum': df_r_m}\n",
    "df = pd.DataFrame(df_dict)\n",
    "df.to_csv(path_data / \"preferences_default_max.csv\")"
   ]
  },
  {
   "cell_type": "code",
   "execution_count": 40,
   "metadata": {},
   "outputs": [],
   "source": [
    "xr_policyscen = xr.open_dataset(path_data / \"xr_policyscen.nc\")\n",
    "curpols = xr_policyscen.CurPol.sel(Time=2035).mean(dim='Model')\n",
    "nzs = xr_policyscen.NetZero.sel(Time=2035).mean(dim='Model')"
   ]
  },
  {
   "cell_type": "code",
   "execution_count": 41,
   "metadata": {},
   "outputs": [],
   "source": [
    "path_ctygroups = \"X:/user/dekkerm/Data/\" + \"UNFCCC_Parties_Groups_noeu.xlsx\"\n",
    "df = pd.read_excel(path_ctygroups, sheet_name = \"Country groups\")\n",
    "countries_iso = np.array(df[\"Country ISO Code\"])\n",
    "countries_name = np.array(df[\"Name\"])\n",
    "countries_iso = np.array(df[\"Country ISO Code\"])\n",
    "group_eu = countries_iso[np.array(df[\"EU\"]) == 1]"
   ]
  },
  {
   "cell_type": "code",
   "execution_count": 42,
   "metadata": {},
   "outputs": [],
   "source": [
    "costopts = xr_scen_all.sel(Time=2035, Variable='Emissions|Kyoto Gases').mean(dim='ModelScenario')"
   ]
  },
  {
   "cell_type": "markdown",
   "metadata": {},
   "source": [
    "## Gaps"
   ]
  },
  {
   "cell_type": "code",
   "execution_count": 43,
   "metadata": {},
   "outputs": [],
   "source": [
    "nec = xr_dataread.GHG_globe.sel(Time=2035, Temperature=1.6, Risk=0.5, NonCO2red=0.5, NegEmis=0.5, Timing='Immediate').values\n",
    "gap_default = float(data_def.sel(Region=countries_iso).sum() - nec)\n",
    "gap_default_perc = float((data_def.sel(Region=countries_iso).sum() - nec)/nec)\n",
    "\n",
    "gap_max = float(data_max.sel(Region=countries_iso).sum() - nec)\n",
    "gap_max_perc = float((data_max.sel(Region=countries_iso).sum() - nec)/nec)"
   ]
  },
  {
   "cell_type": "code",
   "execution_count": 44,
   "metadata": {},
   "outputs": [],
   "source": [
    "xr_alloc_2035 = xr.open_dataset(path_data / \"startyear_2021/Aggregated_files/xr_alloc_2035_GHG_incl.nc\")"
   ]
  },
  {
   "cell_type": "markdown",
   "metadata": {},
   "source": [
    "## Gaps"
   ]
  },
  {
   "cell_type": "code",
   "execution_count": 45,
   "metadata": {},
   "outputs": [],
   "source": [
    "wd = 0.4\n",
    "q0 = 0.1\n",
    "q1 = 0.9"
   ]
  },
  {
   "cell_type": "code",
   "execution_count": 46,
   "metadata": {},
   "outputs": [
    {
     "name": "stderr",
     "output_type": "stream",
     "text": [
      "k:\\Environments\\MyEnv\\Lib\\site-packages\\numpy\\lib\\nanfunctions.py:1563: RuntimeWarning:\n",
      "\n",
      "All-NaN slice encountered\n",
      "\n",
      "k:\\Environments\\MyEnv\\Lib\\site-packages\\numpy\\lib\\nanfunctions.py:1563: RuntimeWarning:\n",
      "\n",
      "All-NaN slice encountered\n",
      "\n"
     ]
    }
   ],
   "source": [
    "co = costopts.Value\n",
    "co_0 = xr_scen_all.sel(Time=2035, Variable='Emissions|Kyoto Gases').quantile(q0, dim='ModelScenario')\n",
    "co_1 = xr_scen_all.sel(Time=2035, Variable='Emissions|Kyoto Gases').quantile(q1, dim='ModelScenario')\n",
    "ndc = xr_dataread.GHG_ndc.mean(dim='Ambition').min(dim='Conditionality')\n",
    "ndc = ndc.where(ndc.Region!='ZMB', np.nan)\n",
    "ndc = ndc.where(ndc.Region!='COM', np.nan)\n",
    "fair = xr_traj_2035.sel(Temperature=1.6,\n",
    "                                Risk=0.5,\n",
    "                                Timing='Immediate',\n",
    "                                NonCO2red=0.5,\n",
    "                                NegEmis=0.5,\n",
    "                                Scenario='SSP2',\n",
    "                                Convergence_year=2050,\n",
    "                                Discount_factor=0,\n",
    "                                Historical_startyear=1990)[['PCC', 'AP', 'ECPC']]\n",
    "fair_0 = xr_traj_2035.sel(Temperature=1.6,\n",
    "                            Risk=0.5,\n",
    "                            Convergence_year=[2050, 2080])[['PCC', 'AP', 'ECPC']].quantile(0, dim=['Convergence_year', 'NegEmis', 'NonCO2red', 'Timing', 'Scenario', 'Discount_factor', 'Historical_startyear'])\n",
    "fair_1 = xr_traj_2035.sel(Temperature=1.6,\n",
    "                            Risk=0.5,\n",
    "                            Convergence_year=[2050, 2080])[['PCC', 'AP', 'ECPC']].quantile(1, dim=['Convergence_year', 'NegEmis', 'NonCO2red', 'Timing', 'Scenario', 'Discount_factor', 'Historical_startyear'])\n",
    "\n",
    "totaldev = fair - co # If positive, receive funds, if negative, pay funds (or partially domestic)\n",
    "ndcdev = ndc - co # If positive, more domestic action needed, and vice versa\n",
    "grey = (ndcdev - totaldev.where(totaldev > 0, 0)).where(ndcdev - totaldev.where(totaldev > 0, 0) > 0, 0)\n",
    "red = -totaldev.where(totaldev < 0, 0)\n",
    "green = totaldev.where(totaldev > 0, 0)\n",
    "grey_super = (co-ndc).where(fair < co, 0)#-(ndcdev - totaldev.where(totaldev > 0, 0)).where(ndcdev - totaldev.where(totaldev > 0, 0) < 0, 0)\n",
    "grey_super = grey_super.where(grey_super > 0, 0)\n",
    "\n",
    "for cty in group_eu: # To avoid double counting!\n",
    "    grey.loc[{'Region': cty}] = np.nan\n",
    "    red.loc[{'Region': cty}] = np.nan\n",
    "    green.loc[{'Region': cty}] = np.nan\n",
    "    grey_super.loc[{'Region': cty}] = np.nan"
   ]
  },
  {
   "cell_type": "code",
   "execution_count": 51,
   "metadata": {},
   "outputs": [],
   "source": [
    "costopt_mt = costopts.Value\n",
    "ndc_est_mt = xr_dataread.GHG_ndc.mean(dim='Ambition').min(dim='Conditionality')\n",
    "red_mt = xr_traj_2035.sel(Temperature=1.6,\n",
    "                                 Risk=0.5,\n",
    "                                 Timing='Immediate',\n",
    "                                 NonCO2red=0.5,\n",
    "                                 NegEmis=0.5,\n",
    "                                 Scenario='SSP2',\n",
    "                                 Convergence_year=2050,\n",
    "                                 Discount_factor=0,\n",
    "                                 Historical_startyear=1990)\n",
    "\n",
    "emis_2015 = xr_dataread.GHG_hist.sel(Time=2015)\n",
    "reductions = 1-red_mt/emis_2015\n",
    "ndc_est = 1-(ndc_est_mt / emis_2015)\n",
    "costopt = 1-costopt_mt/emis_2015\n",
    "\n",
    "red_0 = 1-fair_0/emis_2015\n",
    "red_1 = 1-fair_1/emis_2015\n",
    "costopt_0 = 1-co_0/emis_2015\n",
    "costopt_1 = 1-co_1/emis_2015\n",
    "\n",
    "def data(reg): # Reduction targets\n",
    "    return float(ndc_est.sel(Region=reg)), np.array(reductions.sel(Region=reg)[['PCC', 'AP', 'ECPC']].to_array()), float(costopt.sel(Region=reg))\n",
    "def data_mt(reg): # Absolute emissions levels\n",
    "    return float(ndc_est_mt.sel(Region=reg)), np.array(red_mt.sel(Region=reg)[['PCC', 'AP', 'ECPC']].to_array()), float(costopt_mt.sel(Region=reg))"
   ]
  },
  {
   "cell_type": "markdown",
   "metadata": {},
   "source": [
    "## Finance plot"
   ]
  },
  {
   "cell_type": "code",
   "execution_count": 52,
   "metadata": {},
   "outputs": [],
   "source": [
    "dx = 0.03\n",
    "opac = 0.5\n",
    "def areas(fig, ndc_estimate, reductions_i, costopt_i, row, col, yref=1):\n",
    "    for i in range(3):\n",
    "        ymin = yref + -wd*0.3 + [-wd*0.7, 0, wd*0.7][i]\n",
    "        ymax = yref + wd*0.3+ [-wd*0.7, 0, wd*0.7][i]\n",
    "        if reductions_i[i] > ndc_estimate:\n",
    "            if costopt_i < reductions_i[i] and costopt_i > ndc_estimate:\n",
    "                fig.add_shape(\n",
    "                    row = row, col=col,\n",
    "                    type='rect',  # Draw a rectangle\n",
    "                    x0=ndc_estimate+dx, x1=costopt_i-dx,  # The range of the box (between min and max values)\n",
    "                    y0=ymin, y1=ymax,  # Position the box on the y-axis (with some vertical padding)\n",
    "                    line=dict(color='black', width=0),  # Border color and width of the box\n",
    "                    name='Increase domestic ambition',\n",
    "                    showlegend=False,\n",
    "                    opacity = opac,\n",
    "                    legendgroup=3,\n",
    "                    fillcolor='grey',  # Transparent fill color (adjust alpha for transparency)\n",
    "                )\n",
    "            elif costopt_i > reductions_i[i]:\n",
    "                fig.add_shape(\n",
    "                    row = row, col=col,\n",
    "                    type='rect',  # Draw a rectangle\n",
    "                    x0=ndc_estimate+dx, x1=reductions_i[i]-dx,  # The range of the box (between min and max values)\n",
    "                    y0=ymin, y1=ymax,  # Position the box on the y-axis (with some vertical padding)\n",
    "                    line=dict(color='black', width=0),  # Border color and width of the box\n",
    "                    opacity = opac,\n",
    "                    fillcolor='grey',  # Transparent fill color (adjust alpha for transparency)\n",
    "                )\n",
    "                fig.add_shape(\n",
    "                    row = row, col=col,\n",
    "                    type='rect',  # Draw a rectangle\n",
    "                    x0=reductions_i[i]+dx, x1=costopt_i-dx,  # The range of the box (between min and max values)\n",
    "                    y0=ymin, y1=ymax,  # Position the box on the y-axis (with some vertical padding)\n",
    "                    line=dict(color='black', width=0),  # Border color and width of the box\n",
    "                    opacity = opac,\n",
    "                    fillcolor='forestgreen',  # Transparent fill color (adjust alpha for transparency)\n",
    "                )\n",
    "            elif costopt_i < ndc_estimate-0.0425:\n",
    "                fig.add_shape(\n",
    "                    row = row, col=col,\n",
    "                    type='rect',  # Draw a rectangle\n",
    "                    x0=costopt_i+dx, x1=ndc_estimate-dx,  # The range of the box (between min and max values)\n",
    "                    y0=ymin, y1=ymax,  # Position the box on the y-axis (with some vertical padding)\n",
    "                    line=dict(color='black', width=0),  # Border color and width of the box\n",
    "                    opacity = opac,\n",
    "                    fillcolor='rosybrown',  # Transparent fill color (adjust alpha for transparency)\n",
    "                )\n",
    "        # Pay abroad\n",
    "        if reductions_i[i] > ndc_estimate:\n",
    "            if costopt_i < ndc_estimate:\n",
    "                fig.add_shape(\n",
    "                    row = row, col=col,\n",
    "                    type='rect',  # Draw a rectangle\n",
    "                    x0=ndc_estimate+dx, x1=reductions_i[i]-dx,  # The range of the box (between min and max values)\n",
    "                    y0=ymin, y1=ymax,  # Position the box on the y-axis (with some vertical padding)\n",
    "                    line=dict(color='black', width=0),  # Border color and width of the box\n",
    "                    name='Pay for mitigation abroad',\n",
    "                    showlegend=False,\n",
    "                    opacity = opac,\n",
    "                    legendgroup=3,\n",
    "                    fillcolor='tomato',  # Transparent fill color (adjust alpha for transparency)\n",
    "                )\n",
    "            elif costopt_i < reductions_i[i]:\n",
    "                fig.add_shape(\n",
    "                    row = row, col=col,\n",
    "                    type='rect',  # Draw a rectangle\n",
    "                    x0=costopt_i+dx, x1=reductions_i[i]-dx,  # The range of the box (between min and max values)\n",
    "                    y0=ymin, y1=ymax,  # Position the box on the y-axis (with some vertical padding)\n",
    "                    line=dict(color='black', width=0),  # Border color and width of the box\n",
    "                    opacity = opac,\n",
    "                    fillcolor='tomato',  # Transparent fill color (adjust alpha for transparency)\n",
    "                )\n",
    "        # Receive from abroad\n",
    "        if reductions_i[i] < ndc_estimate:\n",
    "            fig.add_shape(\n",
    "                row = row, col=col,\n",
    "                type='rect',  # Draw a rectangle\n",
    "                x0=reductions_i[i]+dx, x1=ndc_estimate-dx,  # The range of the box (between min and max values)\n",
    "                y0=ymin, y1=ymax,  # Position the box on the y-axis (with some vertical padding)\n",
    "                line=dict(color='black', width=0),  # Border color and width of the box\n",
    "                name='Receive mitigation payment from abroad',\n",
    "                showlegend=False,\n",
    "                    opacity = opac,\n",
    "                legendgroup=3,\n",
    "                fillcolor='forestgreen',  # Transparent fill color (adjust alpha for transparency)\n",
    "            )\n",
    "            fig.add_shape(\n",
    "                row = row, col=col,\n",
    "                type='rect',  # Draw a rectangle\n",
    "                x0=ndc_estimate+dx, x1=costopt_i-dx,  # The range of the box (between min and max values)\n",
    "                y0=ymin, y1=ymax,  # Position the box on the y-axis (with some vertical padding)\n",
    "                line=dict(color='black', width=0),  # Border color and width of the box\n",
    "                name='Receive mitigation payment from abroad',\n",
    "                showlegend=False,\n",
    "                opacity = opac,\n",
    "                legendgroup=3,\n",
    "                fillcolor='forestgreen',  # Transparent fill color (adjust alpha for transparency)\n",
    "            )"
   ]
  },
  {
   "cell_type": "code",
   "execution_count": 57,
   "metadata": {},
   "outputs": [
    {
     "data": {
      "application/vnd.plotly.v1+json": {
       "config": {
        "plotlyServerURL": "https://plot.ly"
       },
       "data": [],
       "layout": {
        "annotations": [
         {
          "font": {
           "color": "black",
           "size": 18
          },
          "showarrow": false,
          "text": "<b>NDC<br>2030",
          "x": 0.05,
          "xref": "paper",
          "y": 1.1,
          "yref": "paper"
         },
         {
          "font": {
           "color": "saddlebrown",
           "size": 18
          },
          "showarrow": false,
          "text": "<b>Cost<br>optimal",
          "x": 0.17,
          "xref": "paper",
          "y": 1.1,
          "yref": "paper"
         },
         {
          "font": {
           "color": "black",
           "size": 18
          },
          "showarrow": false,
          "text": "<b>Fair targets<br>according to<br><span style='color: purple;'>ECPC</span>, <span style='color: goldenrod;'>AP</span> and <span style='color: steelblue;'>PCC</span>",
          "x": 0.45,
          "xref": "paper",
          "y": 1.1,
          "yref": "paper"
         },
         {
          "align": "left",
          "font": {
           "color": "black",
           "size": 16
          },
          "showarrow": false,
          "text": "<b>Example<br>country",
          "x": -0.05,
          "xref": "paper",
          "y": 0.94,
          "yref": "paper"
         },
         {
          "align": "center",
          "font": {
           "color": "grey",
           "size": 18
          },
          "showarrow": false,
          "text": "<b>Fund<br>domestic<br>mitigation",
          "x": 0.76,
          "xref": "paper",
          "y": 1.1,
          "yref": "paper"
         },
         {
          "align": "center",
          "font": {
           "color": "forestgreen",
           "size": 18
          },
          "showarrow": false,
          "text": "<b>Receive<br>finance",
          "x": 0.88,
          "xref": "paper",
          "y": 1.1,
          "yref": "paper"
         },
         {
          "align": "center",
          "font": {
           "color": "tomato",
           "size": 18
          },
          "showarrow": false,
          "text": "<b>Provide<br>finance",
          "x": 1.01,
          "xref": "paper",
          "y": 1.1,
          "yref": "paper"
         },
         {
          "align": "center",
          "font": {
           "color": "grey",
           "size": 15
          },
          "showarrow": false,
          "text": "(Gt CO<sub>2</sub>e)",
          "x": 0.75,
          "xref": "paper",
          "y": 1.01,
          "yref": "paper"
         },
         {
          "align": "center",
          "font": {
           "color": "forestgreen",
           "size": 15
          },
          "showarrow": false,
          "text": "(Gt CO<sub>2</sub>e)",
          "x": 0.88,
          "xref": "paper",
          "y": 1.01,
          "yref": "paper"
         },
         {
          "align": "center",
          "font": {
           "color": "tomato",
           "size": 15
          },
          "showarrow": false,
          "text": "(Gt CO<sub>2</sub>e)",
          "x": 1.01,
          "xref": "paper",
          "y": 1.01,
          "yref": "paper"
         },
         {
          "font": {
           "color": "black",
           "size": 15
          },
          "showarrow": false,
          "text": "Emissions reductions by 2035 w.r.t. 2015",
          "x": 0.25,
          "xanchor": "center",
          "xref": "paper",
          "y": -0.08,
          "yref": "paper"
         },
         {
          "font": {
           "color": "grey",
           "size": 17
          },
          "showarrow": false,
          "text": "1.0",
          "x": 0.1,
          "xref": "x3",
          "y": 0.8,
          "yref": "y3"
         },
         {
          "font": {
           "color": "grey",
           "size": 17
          },
          "showarrow": false,
          "text": "0.5",
          "x": 0.1,
          "xref": "x3",
          "y": 0.5,
          "yref": "y3"
         },
         {
          "font": {
           "color": "grey",
           "size": 17
          },
          "showarrow": false,
          "text": "0",
          "x": 0.1,
          "xref": "x3",
          "y": 0.2,
          "yref": "y3"
         },
         {
          "font": {
           "color": "forestgreen",
           "size": 17
          },
          "showarrow": false,
          "text": "0",
          "x": 0.5,
          "xref": "x3",
          "y": 0.8,
          "yref": "y3"
         },
         {
          "font": {
           "color": "forestgreen",
           "size": 17
          },
          "showarrow": false,
          "text": "0.5",
          "x": 0.5,
          "xref": "x3",
          "y": 0.5,
          "yref": "y3"
         },
         {
          "font": {
           "color": "forestgreen",
           "size": 17
          },
          "showarrow": false,
          "text": "1.0",
          "x": 0.5,
          "xref": "x3",
          "y": 0.2,
          "yref": "y3"
         },
         {
          "font": {
           "color": "tomato",
           "size": 17
          },
          "showarrow": false,
          "text": "4.0",
          "x": 0.9,
          "xref": "x3",
          "y": 0.8,
          "yref": "y3"
         },
         {
          "font": {
           "color": "tomato",
           "size": 17
          },
          "showarrow": false,
          "text": "0",
          "x": 0.9,
          "xref": "x3",
          "y": 0.5,
          "yref": "y3"
         },
         {
          "font": {
           "color": "tomato",
           "size": 17
          },
          "showarrow": false,
          "text": "0",
          "x": 0.9,
          "xref": "x3",
          "y": 0.2,
          "yref": "y3"
         },
         {
          "align": "left",
          "font": {
           "color": "black",
           "size": 16
          },
          "showarrow": false,
          "text": "Nigeria",
          "x": -0.05,
          "xref": "paper",
          "y": 0,
          "yref": "y4"
         },
         {
          "font": {
           "color": "grey",
           "size": 17
          },
          "showarrow": false,
          "text": "0",
          "x": 0.1,
          "xref": "x6",
          "y": 0,
          "yref": "y6"
         },
         {
          "font": {
           "color": "forestgreen",
           "size": 17
          },
          "showarrow": false,
          "text": "0.2-1.9",
          "x": 0.5,
          "xref": "x6",
          "y": 0,
          "yref": "y6"
         },
         {
          "font": {
           "color": "tomato",
           "size": 17
          },
          "showarrow": false,
          "text": "0",
          "x": 0.9,
          "xref": "x6",
          "y": 0,
          "yref": "y6"
         },
         {
          "align": "left",
          "font": {
           "color": "black",
           "size": 16
          },
          "showarrow": false,
          "text": "India",
          "x": -0.05,
          "xref": "paper",
          "y": 1.25,
          "yref": "y4"
         },
         {
          "font": {
           "color": "grey",
           "size": 17
          },
          "showarrow": false,
          "text": "0.0-2.8",
          "x": 0.1,
          "xref": "x6",
          "y": 1.25,
          "yref": "y6"
         },
         {
          "font": {
           "color": "forestgreen",
           "size": 17
          },
          "showarrow": false,
          "text": "0.4-12.4",
          "x": 0.5,
          "xref": "x6",
          "y": 1.25,
          "yref": "y6"
         },
         {
          "font": {
           "color": "tomato",
           "size": 17
          },
          "showarrow": false,
          "text": "0",
          "x": 0.9,
          "xref": "x6",
          "y": 1.25,
          "yref": "y6"
         },
         {
          "align": "left",
          "font": {
           "color": "black",
           "size": 16
          },
          "showarrow": false,
          "text": "China",
          "x": -0.05,
          "xref": "paper",
          "y": 2.5,
          "yref": "y4"
         },
         {
          "font": {
           "color": "grey",
           "size": 17
          },
          "showarrow": false,
          "text": "7.9-8.3",
          "x": 0.1,
          "xref": "x6",
          "y": 2.5,
          "yref": "y6"
         },
         {
          "font": {
           "color": "forestgreen",
           "size": 17
          },
          "showarrow": false,
          "text": "0.0-0.4",
          "x": 0.5,
          "xref": "x6",
          "y": 2.5,
          "yref": "y6"
         },
         {
          "font": {
           "color": "tomato",
           "size": 17
          },
          "showarrow": false,
          "text": "0.0-1.5",
          "x": 0.9,
          "xref": "x6",
          "y": 2.5,
          "yref": "y6"
         },
         {
          "align": "left",
          "font": {
           "color": "black",
           "size": 16
          },
          "showarrow": false,
          "text": "Mexico",
          "x": -0.05,
          "xref": "paper",
          "y": 3.75,
          "yref": "y4"
         },
         {
          "font": {
           "color": "grey",
           "size": 17
          },
          "showarrow": false,
          "text": "0.5-0.6",
          "x": 0.1,
          "xref": "x6",
          "y": 3.75,
          "yref": "y6"
         },
         {
          "font": {
           "color": "forestgreen",
           "size": 17
          },
          "showarrow": false,
          "text": "0.1-0.2",
          "x": 0.5,
          "xref": "x6",
          "y": 3.75,
          "yref": "y6"
         },
         {
          "font": {
           "color": "tomato",
           "size": 17
          },
          "showarrow": false,
          "text": "0",
          "x": 0.9,
          "xref": "x6",
          "y": 3.75,
          "yref": "y6"
         },
         {
          "align": "left",
          "font": {
           "color": "black",
           "size": 16
          },
          "showarrow": false,
          "text": "Indonesia",
          "x": -0.05,
          "xref": "paper",
          "y": 5,
          "yref": "y4"
         },
         {
          "font": {
           "color": "grey",
           "size": 17
          },
          "showarrow": false,
          "text": "0.3-0.9",
          "x": 0.1,
          "xref": "x6",
          "y": 5,
          "yref": "y6"
         },
         {
          "font": {
           "color": "forestgreen",
           "size": 17
          },
          "showarrow": false,
          "text": "0.0-0.6",
          "x": 0.5,
          "xref": "x6",
          "y": 5,
          "yref": "y6"
         },
         {
          "font": {
           "color": "tomato",
           "size": 17
          },
          "showarrow": false,
          "text": "0.0-0.3",
          "x": 0.9,
          "xref": "x6",
          "y": 5,
          "yref": "y6"
         },
         {
          "align": "left",
          "font": {
           "color": "black",
           "size": 16
          },
          "showarrow": false,
          "text": "South<br>Africa",
          "x": -0.05,
          "xref": "paper",
          "y": 6.25,
          "yref": "y4"
         },
         {
          "font": {
           "color": "grey",
           "size": 17
          },
          "showarrow": false,
          "text": "0.1-0.2",
          "x": 0.1,
          "xref": "x6",
          "y": 6.25,
          "yref": "y6"
         },
         {
          "font": {
           "color": "forestgreen",
           "size": 17
          },
          "showarrow": false,
          "text": "0.0-0.1",
          "x": 0.5,
          "xref": "x6",
          "y": 6.25,
          "yref": "y6"
         },
         {
          "font": {
           "color": "tomato",
           "size": 17
          },
          "showarrow": false,
          "text": "0.0-0.3",
          "x": 0.9,
          "xref": "x6",
          "y": 6.25,
          "yref": "y6"
         },
         {
          "align": "left",
          "font": {
           "color": "black",
           "size": 16
          },
          "showarrow": false,
          "text": "Japan",
          "x": -0.05,
          "xref": "paper",
          "y": 7.5,
          "yref": "y4"
         },
         {
          "font": {
           "color": "grey",
           "size": 17
          },
          "showarrow": false,
          "text": "0.4-0.4",
          "x": 0.1,
          "xref": "x6",
          "y": 7.5,
          "yref": "y6"
         },
         {
          "font": {
           "color": "forestgreen",
           "size": 17
          },
          "showarrow": false,
          "text": "0.0-0.0",
          "x": 0.5,
          "xref": "x6",
          "y": 7.5,
          "yref": "y6"
         },
         {
          "font": {
           "color": "tomato",
           "size": 17
          },
          "showarrow": false,
          "text": "0.0-0.9",
          "x": 0.9,
          "xref": "x6",
          "y": 7.5,
          "yref": "y6"
         },
         {
          "align": "left",
          "font": {
           "color": "black",
           "size": 16
          },
          "showarrow": false,
          "text": "Russian<br>Federation",
          "x": -0.05,
          "xref": "paper",
          "y": 8.75,
          "yref": "y4"
         },
         {
          "font": {
           "color": "grey",
           "size": 17
          },
          "showarrow": false,
          "text": "2.2",
          "x": 0.1,
          "xref": "x6",
          "y": 8.75,
          "yref": "y6"
         },
         {
          "font": {
           "color": "forestgreen",
           "size": 17
          },
          "showarrow": false,
          "text": "0",
          "x": 0.5,
          "xref": "x6",
          "y": 8.75,
          "yref": "y6"
         },
         {
          "font": {
           "color": "tomato",
           "size": 17
          },
          "showarrow": false,
          "text": "0.5-3.3",
          "x": 0.9,
          "xref": "x6",
          "y": 8.75,
          "yref": "y6"
         },
         {
          "align": "left",
          "font": {
           "color": "black",
           "size": 16
          },
          "showarrow": false,
          "text": "Saudi<br>Arabia",
          "x": -0.05,
          "xref": "paper",
          "y": 10,
          "yref": "y4"
         },
         {
          "font": {
           "color": "grey",
           "size": 17
          },
          "showarrow": false,
          "text": "0.5",
          "x": 0.1,
          "xref": "x6",
          "y": 10,
          "yref": "y6"
         },
         {
          "font": {
           "color": "forestgreen",
           "size": 17
          },
          "showarrow": false,
          "text": "0",
          "x": 0.5,
          "xref": "x6",
          "y": 10,
          "yref": "y6"
         },
         {
          "font": {
           "color": "tomato",
           "size": 17
          },
          "showarrow": false,
          "text": "0.3-1.2",
          "x": 0.9,
          "xref": "x6",
          "y": 10,
          "yref": "y6"
         },
         {
          "align": "left",
          "font": {
           "color": "black",
           "size": 16
          },
          "showarrow": false,
          "text": "European<br>Union",
          "x": -0.05,
          "xref": "paper",
          "y": 11.25,
          "yref": "y4"
         },
         {
          "font": {
           "color": "grey",
           "size": 17
          },
          "showarrow": false,
          "text": "0.7",
          "x": 0.1,
          "xref": "x6",
          "y": 11.25,
          "yref": "y6"
         },
         {
          "font": {
           "color": "forestgreen",
           "size": 17
          },
          "showarrow": false,
          "text": "0",
          "x": 0.5,
          "xref": "x6",
          "y": 11.25,
          "yref": "y6"
         },
         {
          "font": {
           "color": "tomato",
           "size": 17
          },
          "showarrow": false,
          "text": "0.2-2.6",
          "x": 0.9,
          "xref": "x6",
          "y": 11.25,
          "yref": "y6"
         },
         {
          "align": "left",
          "font": {
           "color": "black",
           "size": 16
          },
          "showarrow": false,
          "text": "Brazil",
          "x": -0.05,
          "xref": "paper",
          "y": 12.5,
          "yref": "y4"
         },
         {
          "font": {
           "color": "grey",
           "size": 17
          },
          "showarrow": false,
          "text": "0.9-1.8",
          "x": 0.1,
          "xref": "x6",
          "y": 12.5,
          "yref": "y6"
         },
         {
          "font": {
           "color": "forestgreen",
           "size": 17
          },
          "showarrow": false,
          "text": "0.0-0.9",
          "x": 0.5,
          "xref": "x6",
          "y": 12.5,
          "yref": "y6"
         },
         {
          "font": {
           "color": "tomato",
           "size": 17
          },
          "showarrow": false,
          "text": "0.0-1.9",
          "x": 0.9,
          "xref": "x6",
          "y": 12.5,
          "yref": "y6"
         },
         {
          "align": "left",
          "font": {
           "color": "black",
           "size": 16
          },
          "showarrow": false,
          "text": "United<br>States",
          "x": -0.05,
          "xref": "paper",
          "y": 13.75,
          "yref": "y4"
         },
         {
          "font": {
           "color": "grey",
           "size": 17
          },
          "showarrow": false,
          "text": "0.9",
          "x": 0.1,
          "xref": "x6",
          "y": 13.75,
          "yref": "y6"
         },
         {
          "font": {
           "color": "forestgreen",
           "size": 17
          },
          "showarrow": false,
          "text": "0",
          "x": 0.5,
          "xref": "x6",
          "y": 13.75,
          "yref": "y6"
         },
         {
          "font": {
           "color": "tomato",
           "size": 17
          },
          "showarrow": false,
          "text": "0.7-10.2",
          "x": 0.9,
          "xref": "x6",
          "y": 13.75,
          "yref": "y6"
         }
        ],
        "barmode": "group",
        "height": 1000,
        "paper_bgcolor": "white",
        "plot_bgcolor": "white",
        "shapes": [
         {
          "line": {
           "color": "black",
           "width": 2
          },
          "type": "line",
          "x0": 0.08,
          "x1": 0.11,
          "xref": "paper",
          "y0": 1.04,
          "y1": 0.99,
          "yref": "paper"
         },
         {
          "line": {
           "color": "black",
           "width": 2
          },
          "type": "line",
          "x0": 0.22,
          "x1": 0.19,
          "xref": "paper",
          "y0": 1.04,
          "y1": 0.99,
          "yref": "paper"
         },
         {
          "line": {
           "color": "black",
           "width": 2
          },
          "type": "line",
          "x0": 0.45,
          "x1": 0.5,
          "xref": "paper",
          "y0": 1.01,
          "y1": 0.99,
          "yref": "paper"
         },
         {
          "legendgroup": "2",
          "line": {
           "color": "black",
           "dash": "dot",
           "width": 5
          },
          "name": "NDC",
          "showlegend": false,
          "type": "line",
          "x0": -0.3347268317589993,
          "x1": -0.3347268317589993,
          "xref": "x",
          "y0": 0.6,
          "y1": 1.4,
          "yref": "y"
         },
         {
          "legendgroup": "2",
          "line": {
           "color": "steelblue",
           "width": 5
          },
          "name": "Per capita convergence",
          "showlegend": false,
          "type": "line",
          "x0": -0.5,
          "x1": -0.5,
          "xref": "x",
          "y0": 0.6000000000000001,
          "y1": 0.8400000000000001,
          "yref": "y"
         },
         {
          "legendgroup": "2",
          "line": {
           "color": "goldenrod",
           "width": 5
          },
          "name": "Ability to pay",
          "showlegend": false,
          "type": "line",
          "x0": -0.1,
          "x1": -0.1,
          "xref": "x",
          "y0": 0.88,
          "y1": 1.12,
          "yref": "y"
         },
         {
          "legendgroup": "2",
          "line": {
           "color": "purple",
           "width": 5
          },
          "name": "Equal cumulative per capita",
          "showlegend": false,
          "type": "line",
          "x0": 1.8595503326023348,
          "x1": 1.8595503326023348,
          "xref": "x",
          "y0": 1.16,
          "y1": 1.4000000000000001,
          "yref": "y"
         },
         {
          "fillcolor": "forestgreen",
          "legendgroup": "3",
          "line": {
           "color": "black",
           "width": 0
          },
          "name": "Receive mitigation payment from abroad",
          "opacity": 0.5,
          "showlegend": false,
          "type": "rect",
          "x0": -0.47,
          "x1": -0.36472683175899934,
          "xref": "x",
          "y0": 0.6000000000000001,
          "y1": 0.8400000000000001,
          "yref": "y"
         },
         {
          "fillcolor": "forestgreen",
          "legendgroup": "3",
          "line": {
           "color": "black",
           "width": 0
          },
          "name": "Receive mitigation payment from abroad",
          "opacity": 0.5,
          "showlegend": false,
          "type": "rect",
          "x0": -0.3047268317589993,
          "x1": 0.31425918445794787,
          "xref": "x",
          "y0": 0.6000000000000001,
          "y1": 0.8400000000000001,
          "yref": "y"
         },
         {
          "fillcolor": "grey",
          "line": {
           "color": "black",
           "width": 0
          },
          "opacity": 0.5,
          "type": "rect",
          "x0": -0.3047268317589993,
          "x1": -0.13,
          "xref": "x",
          "y0": 0.88,
          "y1": 1.12,
          "yref": "y"
         },
         {
          "fillcolor": "forestgreen",
          "line": {
           "color": "black",
           "width": 0
          },
          "opacity": 0.5,
          "type": "rect",
          "x0": -0.07,
          "x1": 0.31425918445794787,
          "xref": "x",
          "y0": 0.88,
          "y1": 1.12,
          "yref": "y"
         },
         {
          "fillcolor": "grey",
          "legendgroup": "3",
          "line": {
           "color": "black",
           "width": 0
          },
          "name": "Increase domestic ambition",
          "opacity": 0.5,
          "showlegend": false,
          "type": "rect",
          "x0": -0.3047268317589993,
          "x1": 0.31425918445794787,
          "xref": "x",
          "y0": 1.16,
          "y1": 1.4000000000000001,
          "yref": "y"
         },
         {
          "fillcolor": "tomato",
          "line": {
           "color": "black",
           "width": 0
          },
          "opacity": 0.5,
          "type": "rect",
          "x0": 0.3742591844579479,
          "x1": 1.8295503326023348,
          "xref": "x",
          "y0": 1.16,
          "y1": 1.4000000000000001,
          "yref": "y"
         },
         {
          "legendgroup": "2",
          "line": {
           "color": "saddlebrown",
           "width": 5
          },
          "name": "Cost optimal",
          "showlegend": false,
          "type": "line",
          "x0": 0.3442591844579479,
          "x1": 0.3442591844579479,
          "xref": "x",
          "y0": 0.6,
          "y1": 1.4,
          "yref": "y"
         },
         {
          "line": {
           "color": "black",
           "dash": "dash",
           "width": 3
          },
          "type": "line",
          "x0": 0,
          "x1": 0,
          "xref": "x",
          "y0": 0.5,
          "y1": 2,
          "yref": "y"
         },
         {
          "line": {
           "color": "grey",
           "width": 2
          },
          "showlegend": false,
          "type": "line",
          "x0": 0.7857959367469505,
          "x1": 0.7857959367469505,
          "xref": "x4",
          "y0": -0.4,
          "y1": 0.4,
          "yref": "y4"
         },
         {
          "line": {
           "color": "grey",
           "width": 2
          },
          "showlegend": false,
          "type": "line",
          "x0": 0.4864075183939459,
          "x1": 0.4864075183939459,
          "xref": "x4",
          "y0": -0.4,
          "y1": 0.4,
          "yref": "y4"
         },
         {
          "line": {
           "color": "grey",
           "width": 2
          },
          "showlegend": false,
          "type": "line",
          "x0": 0.7857959367469505,
          "x1": 0.4864075183939459,
          "xref": "x4",
          "y0": 0.08,
          "y1": 0.08,
          "yref": "y4"
         },
         {
          "line": {
           "color": "grey",
           "width": 2
          },
          "showlegend": false,
          "type": "line",
          "x0": 0.4467106264393472,
          "x1": 0.4467106264393472,
          "xref": "x4",
          "y0": -0.39999999999999997,
          "y1": -0.15999999999999998,
          "yref": "y4"
         },
         {
          "line": {
           "color": "grey",
           "width": 2
          },
          "showlegend": false,
          "type": "line",
          "x0": -0.05472265009434807,
          "x1": -0.05472265009434807,
          "xref": "x4",
          "y0": -0.39999999999999997,
          "y1": -0.15999999999999998,
          "yref": "y4"
         },
         {
          "line": {
           "color": "grey",
           "width": 2
          },
          "showlegend": false,
          "type": "line",
          "x0": 0.4467106264393472,
          "x1": -0.05472265009434807,
          "xref": "x4",
          "y0": -0.27999999999999997,
          "y1": -0.27999999999999997,
          "yref": "y4"
         },
         {
          "line": {
           "color": "grey",
           "width": 2
          },
          "showlegend": false,
          "type": "line",
          "x0": 0.018418761582871812,
          "x1": 0.018418761582871812,
          "xref": "x4",
          "y0": -0.12,
          "y1": 0.12,
          "yref": "y4"
         },
         {
          "line": {
           "color": "grey",
           "width": 2
          },
          "showlegend": false,
          "type": "line",
          "x0": -0.5171418172930957,
          "x1": -0.5171418172930957,
          "xref": "x4",
          "y0": -0.12,
          "y1": 0.12,
          "yref": "y4"
         },
         {
          "line": {
           "color": "grey",
           "width": 2
          },
          "showlegend": false,
          "type": "line",
          "x0": 0.018418761582871812,
          "x1": -0.5171418172930957,
          "xref": "x4",
          "y0": 0,
          "y1": 0,
          "yref": "y4"
         },
         {
          "line": {
           "color": "grey",
           "width": 2
          },
          "showlegend": false,
          "type": "line",
          "x0": -1.386901884913423,
          "x1": -1.386901884913423,
          "xref": "x4",
          "y0": 0.15999999999999998,
          "y1": 0.39999999999999997,
          "yref": "y4"
         },
         {
          "line": {
           "color": "grey",
           "width": 2
          },
          "showlegend": false,
          "type": "line",
          "x0": -5.7062141156742365,
          "x1": -5.7062141156742365,
          "xref": "x4",
          "y0": 0.15999999999999998,
          "y1": 0.39999999999999997,
          "yref": "y4"
         },
         {
          "line": {
           "color": "grey",
           "width": 2
          },
          "showlegend": false,
          "type": "line",
          "x0": -1.386901884913423,
          "x1": -5.7062141156742365,
          "xref": "x4",
          "y0": 0.27999999999999997,
          "y1": 0.27999999999999997,
          "yref": "y4"
         },
         {
          "legendgroup": "2",
          "line": {
           "color": "black",
           "dash": "dot",
           "width": 5
          },
          "name": "NDC",
          "showlegend": false,
          "type": "line",
          "x0": 0.32253579909722796,
          "x1": 0.32253579909722796,
          "xref": "x4",
          "y0": -0.4,
          "y1": 0.4,
          "yref": "y4"
         },
         {
          "legendgroup": "2",
          "line": {
           "color": "saddlebrown",
           "width": 5
          },
          "name": "Cost optimal",
          "showlegend": false,
          "type": "line",
          "x0": 0.6288249060055309,
          "x1": 0.6288249060055309,
          "xref": "x4",
          "y0": -0.4,
          "y1": 0.4,
          "yref": "y4"
         },
         {
          "legendgroup": "2",
          "line": {
           "color": "steelblue",
           "width": 5
          },
          "name": "Per capita convergence",
          "showlegend": false,
          "type": "line",
          "x0": 0.08641632934842025,
          "x1": 0.08641632934842025,
          "xref": "x4",
          "y0": -0.39999999999999997,
          "y1": -0.15999999999999998,
          "yref": "y4"
         },
         {
          "legendgroup": "2",
          "line": {
           "color": "goldenrod",
           "width": 5
          },
          "name": "Ability to pay",
          "showlegend": false,
          "type": "line",
          "x0": -0.2202603481044878,
          "x1": -0.2202603481044878,
          "xref": "x4",
          "y0": -0.12,
          "y1": 0.12,
          "yref": "y4"
         },
         {
          "legendgroup": "2",
          "line": {
           "color": "purple",
           "width": 5
          },
          "name": "Equal cumulative per capita",
          "showlegend": false,
          "type": "line",
          "x0": -3.8727705669154506,
          "x1": -3.8727705669154506,
          "xref": "x4",
          "y0": 0.15999999999999998,
          "y1": 0.39999999999999997,
          "yref": "y4"
         },
         {
          "fillcolor": "forestgreen",
          "legendgroup": "3",
          "line": {
           "color": "black",
           "width": 0
          },
          "name": "Receive mitigation payment from abroad",
          "opacity": 0.5,
          "showlegend": false,
          "type": "rect",
          "x0": 0.11641632934842025,
          "x1": 0.29253579909722793,
          "xref": "x4",
          "y0": -0.39999999999999997,
          "y1": -0.15999999999999998,
          "yref": "y4"
         },
         {
          "fillcolor": "forestgreen",
          "legendgroup": "3",
          "line": {
           "color": "black",
           "width": 0
          },
          "name": "Receive mitigation payment from abroad",
          "opacity": 0.5,
          "showlegend": false,
          "type": "rect",
          "x0": 0.352535799097228,
          "x1": 0.5988249060055308,
          "xref": "x4",
          "y0": -0.39999999999999997,
          "y1": -0.15999999999999998,
          "yref": "y4"
         },
         {
          "fillcolor": "forestgreen",
          "legendgroup": "3",
          "line": {
           "color": "black",
           "width": 0
          },
          "name": "Receive mitigation payment from abroad",
          "opacity": 0.5,
          "showlegend": false,
          "type": "rect",
          "x0": -0.1902603481044878,
          "x1": 0.29253579909722793,
          "xref": "x4",
          "y0": -0.12,
          "y1": 0.12,
          "yref": "y4"
         },
         {
          "fillcolor": "forestgreen",
          "legendgroup": "3",
          "line": {
           "color": "black",
           "width": 0
          },
          "name": "Receive mitigation payment from abroad",
          "opacity": 0.5,
          "showlegend": false,
          "type": "rect",
          "x0": 0.352535799097228,
          "x1": 0.5988249060055308,
          "xref": "x4",
          "y0": -0.12,
          "y1": 0.12,
          "yref": "y4"
         },
         {
          "fillcolor": "forestgreen",
          "legendgroup": "3",
          "line": {
           "color": "black",
           "width": 0
          },
          "name": "Receive mitigation payment from abroad",
          "opacity": 0.5,
          "showlegend": false,
          "type": "rect",
          "x0": -3.842770566915451,
          "x1": 0.29253579909722793,
          "xref": "x4",
          "y0": 0.15999999999999998,
          "y1": 0.39999999999999997,
          "yref": "y4"
         },
         {
          "fillcolor": "forestgreen",
          "legendgroup": "3",
          "line": {
           "color": "black",
           "width": 0
          },
          "name": "Receive mitigation payment from abroad",
          "opacity": 0.5,
          "showlegend": false,
          "type": "rect",
          "x0": 0.352535799097228,
          "x1": 0.5988249060055308,
          "xref": "x4",
          "y0": 0.15999999999999998,
          "y1": 0.39999999999999997,
          "yref": "y4"
         },
         {
          "line": {
           "color": "grey",
           "width": 2
          },
          "showlegend": false,
          "type": "line",
          "x0": 0.5015777069947522,
          "x1": 0.5015777069947522,
          "xref": "x4",
          "y0": 0.85,
          "y1": 1.65,
          "yref": "y4"
         },
         {
          "line": {
           "color": "grey",
           "width": 2
          },
          "showlegend": false,
          "type": "line",
          "x0": 0.06163846932990358,
          "x1": 0.06163846932990358,
          "xref": "x4",
          "y0": 0.85,
          "y1": 1.65,
          "yref": "y4"
         },
         {
          "line": {
           "color": "grey",
           "width": 2
          },
          "showlegend": false,
          "type": "line",
          "x0": 0.5015777069947522,
          "x1": 0.06163846932990358,
          "xref": "x4",
          "y0": 1.33,
          "y1": 1.33,
          "yref": "y4"
         },
         {
          "line": {
           "color": "grey",
           "width": 2
          },
          "showlegend": false,
          "type": "line",
          "x0": 0.4590537347818754,
          "x1": 0.4590537347818754,
          "xref": "x4",
          "y0": 0.8499999999999999,
          "y1": 1.09,
          "yref": "y4"
         },
         {
          "line": {
           "color": "grey",
           "width": 2
          },
          "showlegend": false,
          "type": "line",
          "x0": 0.05155421795016912,
          "x1": 0.05155421795016912,
          "xref": "x4",
          "y0": 0.8499999999999999,
          "y1": 1.09,
          "yref": "y4"
         },
         {
          "line": {
           "color": "grey",
           "width": 2
          },
          "showlegend": false,
          "type": "line",
          "x0": 0.4590537347818754,
          "x1": 0.05155421795016912,
          "xref": "x4",
          "y0": 0.97,
          "y1": 0.97,
          "yref": "y4"
         },
         {
          "line": {
           "color": "grey",
           "width": 2
          },
          "showlegend": false,
          "type": "line",
          "x0": 0.15102017337585372,
          "x1": 0.15102017337585372,
          "xref": "x4",
          "y0": 1.13,
          "y1": 1.37,
          "yref": "y4"
         },
         {
          "line": {
           "color": "grey",
           "width": 2
          },
          "showlegend": false,
          "type": "line",
          "x0": -0.06823283558666149,
          "x1": -0.06823283558666149,
          "xref": "x4",
          "y0": 1.13,
          "y1": 1.37,
          "yref": "y4"
         },
         {
          "line": {
           "color": "grey",
           "width": 2
          },
          "showlegend": false,
          "type": "line",
          "x0": 0.15102017337585372,
          "x1": -0.06823283558666149,
          "xref": "x4",
          "y0": 1.25,
          "y1": 1.25,
          "yref": "y4"
         },
         {
          "line": {
           "color": "grey",
           "width": 2
          },
          "showlegend": false,
          "type": "line",
          "x0": -1.097132272463074,
          "x1": -1.097132272463074,
          "xref": "x4",
          "y0": 1.41,
          "y1": 1.6500000000000001,
          "yref": "y4"
         },
         {
          "line": {
           "color": "grey",
           "width": 2
          },
          "showlegend": false,
          "type": "line",
          "x0": -6.9895780963623,
          "x1": -6.9895780963623,
          "xref": "x4",
          "y0": 1.41,
          "y1": 1.6500000000000001,
          "yref": "y4"
         },
         {
          "line": {
           "color": "grey",
           "width": 2
          },
          "showlegend": false,
          "type": "line",
          "x0": -1.097132272463074,
          "x1": -6.9895780963623,
          "xref": "x4",
          "y0": 1.53,
          "y1": 1.53,
          "yref": "y4"
         },
         {
          "legendgroup": "2",
          "line": {
           "color": "black",
           "dash": "dot",
           "width": 5
          },
          "name": "NDC",
          "showlegend": false,
          "type": "line",
          "x0": -0.6478785441383472,
          "x1": -0.6478785441383472,
          "xref": "x4",
          "y0": 0.85,
          "y1": 1.65,
          "yref": "y4"
         },
         {
          "legendgroup": "2",
          "line": {
           "color": "saddlebrown",
           "width": 5
          },
          "name": "Cost optimal",
          "showlegend": false,
          "type": "line",
          "x0": 0.3010494452091198,
          "x1": 0.3010494452091198,
          "xref": "x4",
          "y0": 0.85,
          "y1": 1.65,
          "yref": "y4"
         },
         {
          "legendgroup": "2",
          "line": {
           "color": "steelblue",
           "width": 5
          },
          "name": "Per capita convergence",
          "showlegend": false,
          "type": "line",
          "x0": 0.17791231633291515,
          "x1": 0.17791231633291515,
          "xref": "x4",
          "y0": 0.8499999999999999,
          "y1": 1.09,
          "yref": "y4"
         },
         {
          "legendgroup": "2",
          "line": {
           "color": "goldenrod",
           "width": 5
          },
          "name": "Ability to pay",
          "showlegend": false,
          "type": "line",
          "x0": 0.01772005107613761,
          "x1": 0.01772005107613761,
          "xref": "x4",
          "y0": 1.13,
          "y1": 1.37,
          "yref": "y4"
         },
         {
          "legendgroup": "2",
          "line": {
           "color": "purple",
           "width": 5
          },
          "name": "Equal cumulative per capita",
          "showlegend": false,
          "type": "line",
          "x0": -3.347844282283601,
          "x1": -3.347844282283601,
          "xref": "x4",
          "y0": 1.41,
          "y1": 1.6500000000000001,
          "yref": "y4"
         },
         {
          "fillcolor": "grey",
          "line": {
           "color": "black",
           "width": 0
          },
          "opacity": 0.5,
          "type": "rect",
          "x0": -0.6178785441383472,
          "x1": 0.14791231633291516,
          "xref": "x4",
          "y0": 0.8499999999999999,
          "y1": 1.09,
          "yref": "y4"
         },
         {
          "fillcolor": "forestgreen",
          "line": {
           "color": "black",
           "width": 0
          },
          "opacity": 0.5,
          "type": "rect",
          "x0": 0.20791231633291515,
          "x1": 0.2710494452091198,
          "xref": "x4",
          "y0": 0.8499999999999999,
          "y1": 1.09,
          "yref": "y4"
         },
         {
          "fillcolor": "grey",
          "line": {
           "color": "black",
           "width": 0
          },
          "opacity": 0.5,
          "type": "rect",
          "x0": -0.6178785441383472,
          "x1": -0.012279948923862388,
          "xref": "x4",
          "y0": 1.13,
          "y1": 1.37,
          "yref": "y4"
         },
         {
          "fillcolor": "forestgreen",
          "line": {
           "color": "black",
           "width": 0
          },
          "opacity": 0.5,
          "type": "rect",
          "x0": 0.04772005107613761,
          "x1": 0.2710494452091198,
          "xref": "x4",
          "y0": 1.13,
          "y1": 1.37,
          "yref": "y4"
         },
         {
          "fillcolor": "forestgreen",
          "legendgroup": "3",
          "line": {
           "color": "black",
           "width": 0
          },
          "name": "Receive mitigation payment from abroad",
          "opacity": 0.5,
          "showlegend": false,
          "type": "rect",
          "x0": -3.3178442822836014,
          "x1": -0.6778785441383472,
          "xref": "x4",
          "y0": 1.41,
          "y1": 1.6500000000000001,
          "yref": "y4"
         },
         {
          "fillcolor": "forestgreen",
          "legendgroup": "3",
          "line": {
           "color": "black",
           "width": 0
          },
          "name": "Receive mitigation payment from abroad",
          "opacity": 0.5,
          "showlegend": false,
          "type": "rect",
          "x0": -0.6178785441383472,
          "x1": 0.2710494452091198,
          "xref": "x4",
          "y0": 1.41,
          "y1": 1.6500000000000001,
          "yref": "y4"
         },
         {
          "line": {
           "color": "grey",
           "width": 2
          },
          "showlegend": false,
          "type": "line",
          "x0": 0.6807685556412986,
          "x1": 0.6807685556412986,
          "xref": "x4",
          "y0": 2.1,
          "y1": 2.9,
          "yref": "y4"
         },
         {
          "line": {
           "color": "grey",
           "width": 2
          },
          "showlegend": false,
          "type": "line",
          "x0": 0.5267456468130196,
          "x1": 0.5267456468130196,
          "xref": "x4",
          "y0": 2.1,
          "y1": 2.9,
          "yref": "y4"
         },
         {
          "line": {
           "color": "grey",
           "width": 2
          },
          "showlegend": false,
          "type": "line",
          "x0": 0.6807685556412986,
          "x1": 0.5267456468130196,
          "xref": "x4",
          "y0": 2.58,
          "y1": 2.58,
          "yref": "y4"
         },
         {
          "line": {
           "color": "grey",
           "width": 2
          },
          "showlegend": false,
          "type": "line",
          "x0": 0.6547415427901444,
          "x1": 0.6547415427901444,
          "xref": "x4",
          "y0": 2.1,
          "y1": 2.3400000000000003,
          "yref": "y4"
         },
         {
          "line": {
           "color": "grey",
           "width": 2
          },
          "showlegend": false,
          "type": "line",
          "x0": 0.4813735638695462,
          "x1": 0.4813735638695462,
          "xref": "x4",
          "y0": 2.1,
          "y1": 2.3400000000000003,
          "yref": "y4"
         },
         {
          "line": {
           "color": "grey",
           "width": 2
          },
          "showlegend": false,
          "type": "line",
          "x0": 0.6547415427901444,
          "x1": 0.4813735638695462,
          "xref": "x4",
          "y0": 2.22,
          "y1": 2.22,
          "yref": "y4"
         },
         {
          "line": {
           "color": "grey",
           "width": 2
          },
          "showlegend": false,
          "type": "line",
          "x0": 0.6756058953032691,
          "x1": 0.6756058953032691,
          "xref": "x4",
          "y0": 2.38,
          "y1": 2.62,
          "yref": "y4"
         },
         {
          "line": {
           "color": "grey",
           "width": 2
          },
          "showlegend": false,
          "type": "line",
          "x0": 0.4706699721747596,
          "x1": 0.4706699721747596,
          "xref": "x4",
          "y0": 2.38,
          "y1": 2.62,
          "yref": "y4"
         },
         {
          "line": {
           "color": "grey",
           "width": 2
          },
          "showlegend": false,
          "type": "line",
          "x0": 0.6756058953032691,
          "x1": 0.4706699721747596,
          "xref": "x4",
          "y0": 2.5,
          "y1": 2.5,
          "yref": "y4"
         },
         {
          "line": {
           "color": "grey",
           "width": 2
          },
          "showlegend": false,
          "type": "line",
          "x0": 0.8778689610931711,
          "x1": 0.8778689610931711,
          "xref": "x4",
          "y0": 2.6599999999999997,
          "y1": 2.9,
          "yref": "y4"
         },
         {
          "line": {
           "color": "grey",
           "width": 2
          },
          "showlegend": false,
          "type": "line",
          "x0": -0.6789260718690653,
          "x1": -0.6789260718690653,
          "xref": "x4",
          "y0": 2.6599999999999997,
          "y1": 2.9,
          "yref": "y4"
         },
         {
          "line": {
           "color": "grey",
           "width": 2
          },
          "showlegend": false,
          "type": "line",
          "x0": 0.8778689610931711,
          "x1": -0.6789260718690653,
          "xref": "x4",
          "y0": 2.78,
          "y1": 2.78,
          "yref": "y4"
         },
         {
          "legendgroup": "2",
          "line": {
           "color": "black",
           "dash": "dot",
           "width": 5
          },
          "name": "NDC",
          "showlegend": false,
          "type": "line",
          "x0": -0.07828080974467899,
          "x1": -0.07828080974467899,
          "xref": "x4",
          "y0": 2.1,
          "y1": 2.9,
          "yref": "y4"
         },
         {
          "legendgroup": "2",
          "line": {
           "color": "saddlebrown",
           "width": 5
          },
          "name": "Cost optimal",
          "showlegend": false,
          "type": "line",
          "x0": 0.6138622036511122,
          "x1": 0.6138622036511122,
          "xref": "x4",
          "y0": 2.1,
          "y1": 2.9,
          "yref": "y4"
         },
         {
          "legendgroup": "2",
          "line": {
           "color": "steelblue",
           "width": 5
          },
          "name": "Per capita convergence",
          "showlegend": false,
          "type": "line",
          "x0": 0.5852044397347591,
          "x1": 0.5852044397347591,
          "xref": "x4",
          "y0": 2.1,
          "y1": 2.3400000000000003,
          "yref": "y4"
         },
         {
          "legendgroup": "2",
          "line": {
           "color": "goldenrod",
           "width": 5
          },
          "name": "Ability to pay",
          "showlegend": false,
          "type": "line",
          "x0": 0.5788183568363761,
          "x1": 0.5788183568363761,
          "xref": "x4",
          "y0": 2.38,
          "y1": 2.62,
          "yref": "y4"
         },
         {
          "legendgroup": "2",
          "line": {
           "color": "purple",
           "width": 5
          },
          "name": "Equal cumulative per capita",
          "showlegend": false,
          "type": "line",
          "x0": 0.7346823890722953,
          "x1": 0.7346823890722953,
          "xref": "x4",
          "y0": 2.6599999999999997,
          "y1": 2.9,
          "yref": "y4"
         },
         {
          "fillcolor": "grey",
          "line": {
           "color": "black",
           "width": 0
          },
          "opacity": 0.5,
          "type": "rect",
          "x0": -0.04828080974467899,
          "x1": 0.5552044397347591,
          "xref": "x4",
          "y0": 2.1,
          "y1": 2.3400000000000003,
          "yref": "y4"
         },
         {
          "fillcolor": "forestgreen",
          "line": {
           "color": "black",
           "width": 0
          },
          "opacity": 0.5,
          "type": "rect",
          "x0": 0.6152044397347591,
          "x1": 0.5838622036511122,
          "xref": "x4",
          "y0": 2.1,
          "y1": 2.3400000000000003,
          "yref": "y4"
         },
         {
          "fillcolor": "grey",
          "line": {
           "color": "black",
           "width": 0
          },
          "opacity": 0.5,
          "type": "rect",
          "x0": -0.04828080974467899,
          "x1": 0.548818356836376,
          "xref": "x4",
          "y0": 2.38,
          "y1": 2.62,
          "yref": "y4"
         },
         {
          "fillcolor": "forestgreen",
          "line": {
           "color": "black",
           "width": 0
          },
          "opacity": 0.5,
          "type": "rect",
          "x0": 0.6088183568363761,
          "x1": 0.5838622036511122,
          "xref": "x4",
          "y0": 2.38,
          "y1": 2.62,
          "yref": "y4"
         },
         {
          "fillcolor": "grey",
          "legendgroup": "3",
          "line": {
           "color": "black",
           "width": 0
          },
          "name": "Increase domestic ambition",
          "opacity": 0.5,
          "showlegend": false,
          "type": "rect",
          "x0": -0.04828080974467899,
          "x1": 0.5838622036511122,
          "xref": "x4",
          "y0": 2.6599999999999997,
          "y1": 2.9,
          "yref": "y4"
         },
         {
          "fillcolor": "tomato",
          "line": {
           "color": "black",
           "width": 0
          },
          "opacity": 0.5,
          "type": "rect",
          "x0": 0.6438622036511122,
          "x1": 0.7046823890722953,
          "xref": "x4",
          "y0": 2.6599999999999997,
          "y1": 2.9,
          "yref": "y4"
         },
         {
          "line": {
           "color": "grey",
           "width": 2
          },
          "showlegend": false,
          "type": "line",
          "x0": 0.9978780968311136,
          "x1": 0.9978780968311136,
          "xref": "x4",
          "y0": 3.35,
          "y1": 4.15,
          "yref": "y4"
         },
         {
          "line": {
           "color": "grey",
           "width": 2
          },
          "showlegend": false,
          "type": "line",
          "x0": 0.5608183533632594,
          "x1": 0.5608183533632594,
          "xref": "x4",
          "y0": 3.35,
          "y1": 4.15,
          "yref": "y4"
         },
         {
          "line": {
           "color": "grey",
           "width": 2
          },
          "showlegend": false,
          "type": "line",
          "x0": 0.9978780968311136,
          "x1": 0.5608183533632594,
          "xref": "x4",
          "y0": 3.83,
          "y1": 3.83,
          "yref": "y4"
         },
         {
          "line": {
           "color": "grey",
           "width": 2
          },
          "showlegend": false,
          "type": "line",
          "x0": 0.6396964573717844,
          "x1": 0.6396964573717844,
          "xref": "x4",
          "y0": 3.35,
          "y1": 3.5900000000000003,
          "yref": "y4"
         },
         {
          "line": {
           "color": "grey",
           "width": 2
          },
          "showlegend": false,
          "type": "line",
          "x0": 0.49558949997737434,
          "x1": 0.49558949997737434,
          "xref": "x4",
          "y0": 3.35,
          "y1": 3.5900000000000003,
          "yref": "y4"
         },
         {
          "line": {
           "color": "grey",
           "width": 2
          },
          "showlegend": false,
          "type": "line",
          "x0": 0.6396964573717844,
          "x1": 0.49558949997737434,
          "xref": "x4",
          "y0": 3.47,
          "y1": 3.47,
          "yref": "y4"
         },
         {
          "line": {
           "color": "grey",
           "width": 2
          },
          "showlegend": false,
          "type": "line",
          "x0": 0.7138504391470131,
          "x1": 0.7138504391470131,
          "xref": "x4",
          "y0": 3.63,
          "y1": 3.87,
          "yref": "y4"
         },
         {
          "line": {
           "color": "grey",
           "width": 2
          },
          "showlegend": false,
          "type": "line",
          "x0": 0.5303444144962148,
          "x1": 0.5303444144962148,
          "xref": "x4",
          "y0": 3.63,
          "y1": 3.87,
          "yref": "y4"
         },
         {
          "line": {
           "color": "grey",
           "width": 2
          },
          "showlegend": false,
          "type": "line",
          "x0": 0.7138504391470131,
          "x1": 0.5303444144962148,
          "xref": "x4",
          "y0": 3.75,
          "y1": 3.75,
          "yref": "y4"
         },
         {
          "line": {
           "color": "grey",
           "width": 2
          },
          "showlegend": false,
          "type": "line",
          "x0": 0.7102948620758929,
          "x1": 0.7102948620758929,
          "xref": "x4",
          "y0": 3.9099999999999997,
          "y1": 4.15,
          "yref": "y4"
         },
         {
          "line": {
           "color": "grey",
           "width": 2
          },
          "showlegend": false,
          "type": "line",
          "x0": 0.4179276132561638,
          "x1": 0.4179276132561638,
          "xref": "x4",
          "y0": 3.9099999999999997,
          "y1": 4.15,
          "yref": "y4"
         },
         {
          "line": {
           "color": "grey",
           "width": 2
          },
          "showlegend": false,
          "type": "line",
          "x0": 0.7102948620758929,
          "x1": 0.4179276132561638,
          "xref": "x4",
          "y0": 4.03,
          "y1": 4.03,
          "yref": "y4"
         },
         {
          "legendgroup": "2",
          "line": {
           "color": "black",
           "dash": "dot",
           "width": 5
          },
          "name": "NDC",
          "showlegend": false,
          "type": "line",
          "x0": -0.03901099438406197,
          "x1": -0.03901099438406197,
          "xref": "x4",
          "y0": 3.35,
          "y1": 4.15,
          "yref": "y4"
         },
         {
          "legendgroup": "2",
          "line": {
           "color": "saddlebrown",
           "width": 5
          },
          "name": "Cost optimal",
          "showlegend": false,
          "type": "line",
          "x0": 0.7602402947980821,
          "x1": 0.7602402947980821,
          "xref": "x4",
          "y0": 3.35,
          "y1": 4.15,
          "yref": "y4"
         },
         {
          "legendgroup": "2",
          "line": {
           "color": "steelblue",
           "width": 5
          },
          "name": "Per capita convergence",
          "showlegend": false,
          "type": "line",
          "x0": 0.56706310098109,
          "x1": 0.56706310098109,
          "xref": "x4",
          "y0": 3.35,
          "y1": 3.5900000000000003,
          "yref": "y4"
         },
         {
          "legendgroup": "2",
          "line": {
           "color": "goldenrod",
           "width": 5
          },
          "name": "Ability to pay",
          "showlegend": false,
          "type": "line",
          "x0": 0.6284129181035609,
          "x1": 0.6284129181035609,
          "xref": "x4",
          "y0": 3.63,
          "y1": 3.87,
          "yref": "y4"
         },
         {
          "legendgroup": "2",
          "line": {
           "color": "purple",
           "width": 5
          },
          "name": "Equal cumulative per capita",
          "showlegend": false,
          "type": "line",
          "x0": 0.6353959522998057,
          "x1": 0.6353959522998057,
          "xref": "x4",
          "y0": 3.9099999999999997,
          "y1": 4.15,
          "yref": "y4"
         },
         {
          "fillcolor": "grey",
          "line": {
           "color": "black",
           "width": 0
          },
          "opacity": 0.5,
          "type": "rect",
          "x0": -0.009010994384061971,
          "x1": 0.53706310098109,
          "xref": "x4",
          "y0": 3.35,
          "y1": 3.5900000000000003,
          "yref": "y4"
         },
         {
          "fillcolor": "forestgreen",
          "line": {
           "color": "black",
           "width": 0
          },
          "opacity": 0.5,
          "type": "rect",
          "x0": 0.5970631009810901,
          "x1": 0.7302402947980821,
          "xref": "x4",
          "y0": 3.35,
          "y1": 3.5900000000000003,
          "yref": "y4"
         },
         {
          "fillcolor": "grey",
          "line": {
           "color": "black",
           "width": 0
          },
          "opacity": 0.5,
          "type": "rect",
          "x0": -0.009010994384061971,
          "x1": 0.5984129181035609,
          "xref": "x4",
          "y0": 3.63,
          "y1": 3.87,
          "yref": "y4"
         },
         {
          "fillcolor": "forestgreen",
          "line": {
           "color": "black",
           "width": 0
          },
          "opacity": 0.5,
          "type": "rect",
          "x0": 0.658412918103561,
          "x1": 0.7302402947980821,
          "xref": "x4",
          "y0": 3.63,
          "y1": 3.87,
          "yref": "y4"
         },
         {
          "fillcolor": "grey",
          "line": {
           "color": "black",
           "width": 0
          },
          "opacity": 0.5,
          "type": "rect",
          "x0": -0.009010994384061971,
          "x1": 0.6053959522998057,
          "xref": "x4",
          "y0": 3.9099999999999997,
          "y1": 4.15,
          "yref": "y4"
         },
         {
          "fillcolor": "forestgreen",
          "line": {
           "color": "black",
           "width": 0
          },
          "opacity": 0.5,
          "type": "rect",
          "x0": 0.6653959522998057,
          "x1": 0.7302402947980821,
          "xref": "x4",
          "y0": 3.9099999999999997,
          "y1": 4.15,
          "yref": "y4"
         },
         {
          "line": {
           "color": "grey",
           "width": 2
          },
          "showlegend": false,
          "type": "line",
          "x0": 0.7825493691127384,
          "x1": 0.7825493691127384,
          "xref": "x4",
          "y0": 4.6,
          "y1": 5.4,
          "yref": "y4"
         },
         {
          "line": {
           "color": "grey",
           "width": 2
          },
          "showlegend": false,
          "type": "line",
          "x0": 0.5916497947954165,
          "x1": 0.5916497947954165,
          "xref": "x4",
          "y0": 4.6,
          "y1": 5.4,
          "yref": "y4"
         },
         {
          "line": {
           "color": "grey",
           "width": 2
          },
          "showlegend": false,
          "type": "line",
          "x0": 0.7825493691127384,
          "x1": 0.5916497947954165,
          "xref": "x4",
          "y0": 5.08,
          "y1": 5.08,
          "yref": "y4"
         },
         {
          "line": {
           "color": "grey",
           "width": 2
          },
          "showlegend": false,
          "type": "line",
          "x0": 0.7270401901638739,
          "x1": 0.7270401901638739,
          "xref": "x4",
          "y0": 4.6,
          "y1": 4.84,
          "yref": "y4"
         },
         {
          "line": {
           "color": "grey",
           "width": 2
          },
          "showlegend": false,
          "type": "line",
          "x0": 0.6167741576594163,
          "x1": 0.6167741576594163,
          "xref": "x4",
          "y0": 4.6,
          "y1": 4.84,
          "yref": "y4"
         },
         {
          "line": {
           "color": "grey",
           "width": 2
          },
          "showlegend": false,
          "type": "line",
          "x0": 0.7270401901638739,
          "x1": 0.6167741576594163,
          "xref": "x4",
          "y0": 4.72,
          "y1": 4.72,
          "yref": "y4"
         },
         {
          "line": {
           "color": "grey",
           "width": 2
          },
          "showlegend": false,
          "type": "line",
          "x0": 0.539943671417031,
          "x1": 0.539943671417031,
          "xref": "x4",
          "y0": 4.88,
          "y1": 5.12,
          "yref": "y4"
         },
         {
          "line": {
           "color": "grey",
           "width": 2
          },
          "showlegend": false,
          "type": "line",
          "x0": 0.3174914511122827,
          "x1": 0.3174914511122827,
          "xref": "x4",
          "y0": 4.88,
          "y1": 5.12,
          "yref": "y4"
         },
         {
          "line": {
           "color": "grey",
           "width": 2
          },
          "showlegend": false,
          "type": "line",
          "x0": 0.539943671417031,
          "x1": 0.3174914511122827,
          "xref": "x4",
          "y0": 5,
          "y1": 5,
          "yref": "y4"
         },
         {
          "line": {
           "color": "grey",
           "width": 2
          },
          "showlegend": false,
          "type": "line",
          "x0": 0.9953008440189558,
          "x1": 0.9953008440189558,
          "xref": "x4",
          "y0": 5.16,
          "y1": 5.4,
          "yref": "y4"
         },
         {
          "line": {
           "color": "grey",
           "width": 2
          },
          "showlegend": false,
          "type": "line",
          "x0": 0.6072266362613393,
          "x1": 0.6072266362613393,
          "xref": "x4",
          "y0": 5.16,
          "y1": 5.4,
          "yref": "y4"
         },
         {
          "line": {
           "color": "grey",
           "width": 2
          },
          "showlegend": false,
          "type": "line",
          "x0": 0.9953008440189558,
          "x1": 0.6072266362613393,
          "xref": "x4",
          "y0": 5.28,
          "y1": 5.28,
          "yref": "y4"
         },
         {
          "legendgroup": "2",
          "line": {
           "color": "black",
           "dash": "dot",
           "width": 5
          },
          "name": "NDC",
          "showlegend": false,
          "type": "line",
          "x0": 0.32853216641737837,
          "x1": 0.32853216641737837,
          "xref": "x4",
          "y0": 4.6,
          "y1": 5.4,
          "yref": "y4"
         },
         {
          "legendgroup": "2",
          "line": {
           "color": "saddlebrown",
           "width": 5
          },
          "name": "Cost optimal",
          "showlegend": false,
          "type": "line",
          "x0": 0.6924000999328459,
          "x1": 0.6924000999328459,
          "xref": "x4",
          "y0": 4.6,
          "y1": 5.4,
          "yref": "y4"
         },
         {
          "legendgroup": "2",
          "line": {
           "color": "steelblue",
           "width": 5
          },
          "name": "Per capita convergence",
          "showlegend": false,
          "type": "line",
          "x0": 0.6721550329669568,
          "x1": 0.6721550329669568,
          "xref": "x4",
          "y0": 4.6,
          "y1": 4.84,
          "yref": "y4"
         },
         {
          "legendgroup": "2",
          "line": {
           "color": "goldenrod",
           "width": 5
          },
          "name": "Ability to pay",
          "showlegend": false,
          "type": "line",
          "x0": 0.4387706096161996,
          "x1": 0.4387706096161996,
          "xref": "x4",
          "y0": 4.88,
          "y1": 5.12,
          "yref": "y4"
         },
         {
          "legendgroup": "2",
          "line": {
           "color": "purple",
           "width": 5
          },
          "name": "Equal cumulative per capita",
          "showlegend": false,
          "type": "line",
          "x0": 0.799729189753679,
          "x1": 0.799729189753679,
          "xref": "x4",
          "y0": 5.16,
          "y1": 5.4,
          "yref": "y4"
         },
         {
          "fillcolor": "grey",
          "line": {
           "color": "black",
           "width": 0
          },
          "opacity": 0.5,
          "type": "rect",
          "x0": 0.3585321664173784,
          "x1": 0.6421550329669568,
          "xref": "x4",
          "y0": 4.6,
          "y1": 4.84,
          "yref": "y4"
         },
         {
          "fillcolor": "forestgreen",
          "line": {
           "color": "black",
           "width": 0
          },
          "opacity": 0.5,
          "type": "rect",
          "x0": 0.7021550329669568,
          "x1": 0.6624000999328459,
          "xref": "x4",
          "y0": 4.6,
          "y1": 4.84,
          "yref": "y4"
         },
         {
          "fillcolor": "grey",
          "line": {
           "color": "black",
           "width": 0
          },
          "opacity": 0.5,
          "type": "rect",
          "x0": 0.3585321664173784,
          "x1": 0.4087706096161996,
          "xref": "x4",
          "y0": 4.88,
          "y1": 5.12,
          "yref": "y4"
         },
         {
          "fillcolor": "forestgreen",
          "line": {
           "color": "black",
           "width": 0
          },
          "opacity": 0.5,
          "type": "rect",
          "x0": 0.46877060961619965,
          "x1": 0.6624000999328459,
          "xref": "x4",
          "y0": 4.88,
          "y1": 5.12,
          "yref": "y4"
         },
         {
          "fillcolor": "grey",
          "legendgroup": "3",
          "line": {
           "color": "black",
           "width": 0
          },
          "name": "Increase domestic ambition",
          "opacity": 0.5,
          "showlegend": false,
          "type": "rect",
          "x0": 0.3585321664173784,
          "x1": 0.6624000999328459,
          "xref": "x4",
          "y0": 5.16,
          "y1": 5.4,
          "yref": "y4"
         },
         {
          "fillcolor": "tomato",
          "line": {
           "color": "black",
           "width": 0
          },
          "opacity": 0.5,
          "type": "rect",
          "x0": 0.7224000999328459,
          "x1": 0.769729189753679,
          "xref": "x4",
          "y0": 5.16,
          "y1": 5.4,
          "yref": "y4"
         },
         {
          "line": {
           "color": "grey",
           "width": 2
          },
          "showlegend": false,
          "type": "line",
          "x0": 0.9751290285616702,
          "x1": 0.9751290285616702,
          "xref": "x4",
          "y0": 5.85,
          "y1": 6.65,
          "yref": "y4"
         },
         {
          "line": {
           "color": "grey",
           "width": 2
          },
          "showlegend": false,
          "type": "line",
          "x0": 0.5477107167906181,
          "x1": 0.5477107167906181,
          "xref": "x4",
          "y0": 5.85,
          "y1": 6.65,
          "yref": "y4"
         },
         {
          "line": {
           "color": "grey",
           "width": 2
          },
          "showlegend": false,
          "type": "line",
          "x0": 0.9751290285616702,
          "x1": 0.5477107167906181,
          "xref": "x4",
          "y0": 6.33,
          "y1": 6.33,
          "yref": "y4"
         },
         {
          "line": {
           "color": "grey",
           "width": 2
          },
          "showlegend": false,
          "type": "line",
          "x0": 0.7028161696778011,
          "x1": 0.7028161696778011,
          "xref": "x4",
          "y0": 5.85,
          "y1": 6.09,
          "yref": "y4"
         },
         {
          "line": {
           "color": "grey",
           "width": 2
          },
          "showlegend": false,
          "type": "line",
          "x0": 0.5588358593276099,
          "x1": 0.5588358593276099,
          "xref": "x4",
          "y0": 5.85,
          "y1": 6.09,
          "yref": "y4"
         },
         {
          "line": {
           "color": "grey",
           "width": 2
          },
          "showlegend": false,
          "type": "line",
          "x0": 0.7028161696778011,
          "x1": 0.5588358593276099,
          "xref": "x4",
          "y0": 5.97,
          "y1": 5.97,
          "yref": "y4"
         },
         {
          "line": {
           "color": "grey",
           "width": 2
          },
          "showlegend": false,
          "type": "line",
          "x0": 0.6110990931757411,
          "x1": 0.6110990931757411,
          "xref": "x4",
          "y0": 6.13,
          "y1": 6.37,
          "yref": "y4"
         },
         {
          "line": {
           "color": "grey",
           "width": 2
          },
          "showlegend": false,
          "type": "line",
          "x0": 0.48978101607200974,
          "x1": 0.48978101607200974,
          "xref": "x4",
          "y0": 6.13,
          "y1": 6.37,
          "yref": "y4"
         },
         {
          "line": {
           "color": "grey",
           "width": 2
          },
          "showlegend": false,
          "type": "line",
          "x0": 0.6110990931757411,
          "x1": 0.48978101607200974,
          "xref": "x4",
          "y0": 6.25,
          "y1": 6.25,
          "yref": "y4"
         },
         {
          "line": {
           "color": "grey",
           "width": 2
          },
          "showlegend": false,
          "type": "line",
          "x0": 1.991806313299665,
          "x1": 1.991806313299665,
          "xref": "x4",
          "y0": 6.41,
          "y1": 6.65,
          "yref": "y4"
         },
         {
          "line": {
           "color": "grey",
           "width": 2
          },
          "showlegend": false,
          "type": "line",
          "x0": 0.8779670001415877,
          "x1": 0.8779670001415877,
          "xref": "x4",
          "y0": 6.41,
          "y1": 6.65,
          "yref": "y4"
         },
         {
          "line": {
           "color": "grey",
           "width": 2
          },
          "showlegend": false,
          "type": "line",
          "x0": 1.991806313299665,
          "x1": 0.8779670001415877,
          "xref": "x4",
          "y0": 6.53,
          "y1": 6.53,
          "yref": "y4"
         },
         {
          "legendgroup": "2",
          "line": {
           "color": "black",
           "dash": "dot",
           "width": 5
          },
          "name": "NDC",
          "showlegend": false,
          "type": "line",
          "x0": 0.30596348315421995,
          "x1": 0.30596348315421995,
          "xref": "x4",
          "y0": 5.85,
          "y1": 6.65,
          "yref": "y4"
         },
         {
          "legendgroup": "2",
          "line": {
           "color": "saddlebrown",
           "width": 5
          },
          "name": "Cost optimal",
          "showlegend": false,
          "type": "line",
          "x0": 0.7495944878356353,
          "x1": 0.7495944878356353,
          "xref": "x4",
          "y0": 5.85,
          "y1": 6.65,
          "yref": "y4"
         },
         {
          "legendgroup": "2",
          "line": {
           "color": "steelblue",
           "width": 5
          },
          "name": "Per capita convergence",
          "showlegend": false,
          "type": "line",
          "x0": 0.6429356153168074,
          "x1": 0.6429356153168074,
          "xref": "x4",
          "y0": 5.85,
          "y1": 6.09,
          "yref": "y4"
         },
         {
          "legendgroup": "2",
          "line": {
           "color": "goldenrod",
           "width": 5
          },
          "name": "Ability to pay",
          "showlegend": false,
          "type": "line",
          "x0": 0.5362752642865933,
          "x1": 0.5362752642865933,
          "xref": "x4",
          "y0": 6.13,
          "y1": 6.37,
          "yref": "y4"
         },
         {
          "legendgroup": "2",
          "line": {
           "color": "purple",
           "width": 5
          },
          "name": "Equal cumulative per capita",
          "showlegend": false,
          "type": "line",
          "x0": 1.3652963145109378,
          "x1": 1.3652963145109378,
          "xref": "x4",
          "y0": 6.41,
          "y1": 6.65,
          "yref": "y4"
         },
         {
          "fillcolor": "grey",
          "line": {
           "color": "black",
           "width": 0
          },
          "opacity": 0.5,
          "type": "rect",
          "x0": 0.33596348315422,
          "x1": 0.6129356153168074,
          "xref": "x4",
          "y0": 5.85,
          "y1": 6.09,
          "yref": "y4"
         },
         {
          "fillcolor": "forestgreen",
          "line": {
           "color": "black",
           "width": 0
          },
          "opacity": 0.5,
          "type": "rect",
          "x0": 0.6729356153168075,
          "x1": 0.7195944878356353,
          "xref": "x4",
          "y0": 5.85,
          "y1": 6.09,
          "yref": "y4"
         },
         {
          "fillcolor": "grey",
          "line": {
           "color": "black",
           "width": 0
          },
          "opacity": 0.5,
          "type": "rect",
          "x0": 0.33596348315422,
          "x1": 0.5062752642865933,
          "xref": "x4",
          "y0": 6.13,
          "y1": 6.37,
          "yref": "y4"
         },
         {
          "fillcolor": "forestgreen",
          "line": {
           "color": "black",
           "width": 0
          },
          "opacity": 0.5,
          "type": "rect",
          "x0": 0.5662752642865934,
          "x1": 0.7195944878356353,
          "xref": "x4",
          "y0": 6.13,
          "y1": 6.37,
          "yref": "y4"
         },
         {
          "fillcolor": "grey",
          "legendgroup": "3",
          "line": {
           "color": "black",
           "width": 0
          },
          "name": "Increase domestic ambition",
          "opacity": 0.5,
          "showlegend": false,
          "type": "rect",
          "x0": 0.33596348315422,
          "x1": 0.7195944878356353,
          "xref": "x4",
          "y0": 6.41,
          "y1": 6.65,
          "yref": "y4"
         },
         {
          "fillcolor": "tomato",
          "line": {
           "color": "black",
           "width": 0
          },
          "opacity": 0.5,
          "type": "rect",
          "x0": 0.7795944878356353,
          "x1": 1.3352963145109378,
          "xref": "x4",
          "y0": 6.41,
          "y1": 6.65,
          "yref": "y4"
         },
         {
          "line": {
           "color": "grey",
           "width": 2
          },
          "showlegend": false,
          "type": "line",
          "x0": 0.7796487406164461,
          "x1": 0.7796487406164461,
          "xref": "x4",
          "y0": 7.1,
          "y1": 7.9,
          "yref": "y4"
         },
         {
          "line": {
           "color": "grey",
           "width": 2
          },
          "showlegend": false,
          "type": "line",
          "x0": 0.5621963173954657,
          "x1": 0.5621963173954657,
          "xref": "x4",
          "y0": 7.1,
          "y1": 7.9,
          "yref": "y4"
         },
         {
          "line": {
           "color": "grey",
           "width": 2
          },
          "showlegend": false,
          "type": "line",
          "x0": 0.7796487406164461,
          "x1": 0.5621963173954657,
          "xref": "x4",
          "y0": 7.58,
          "y1": 7.58,
          "yref": "y4"
         },
         {
          "line": {
           "color": "grey",
           "width": 2
          },
          "showlegend": false,
          "type": "line",
          "x0": 0.72617696964308,
          "x1": 0.72617696964308,
          "xref": "x4",
          "y0": 7.1,
          "y1": 7.34,
          "yref": "y4"
         },
         {
          "line": {
           "color": "grey",
           "width": 2
          },
          "showlegend": false,
          "type": "line",
          "x0": 0.5965703064558037,
          "x1": 0.5965703064558037,
          "xref": "x4",
          "y0": 7.1,
          "y1": 7.34,
          "yref": "y4"
         },
         {
          "line": {
           "color": "grey",
           "width": 2
          },
          "showlegend": false,
          "type": "line",
          "x0": 0.72617696964308,
          "x1": 0.5965703064558037,
          "xref": "x4",
          "y0": 7.22,
          "y1": 7.22,
          "yref": "y4"
         },
         {
          "line": {
           "color": "grey",
           "width": 2
          },
          "showlegend": false,
          "type": "line",
          "x0": 0.9307838489305362,
          "x1": 0.9307838489305362,
          "xref": "x4",
          "y0": 7.38,
          "y1": 7.62,
          "yref": "y4"
         },
         {
          "line": {
           "color": "grey",
           "width": 2
          },
          "showlegend": false,
          "type": "line",
          "x0": 0.8180565832925699,
          "x1": 0.8180565832925699,
          "xref": "x4",
          "y0": 7.38,
          "y1": 7.62,
          "yref": "y4"
         },
         {
          "line": {
           "color": "grey",
           "width": 2
          },
          "showlegend": false,
          "type": "line",
          "x0": 0.9307838489305362,
          "x1": 0.8180565832925699,
          "xref": "x4",
          "y0": 7.5,
          "y1": 7.5,
          "yref": "y4"
         },
         {
          "line": {
           "color": "grey",
           "width": 2
          },
          "showlegend": false,
          "type": "line",
          "x0": 1.4201849952943557,
          "x1": 1.4201849952943557,
          "xref": "x4",
          "y0": 7.66,
          "y1": 7.9,
          "yref": "y4"
         },
         {
          "line": {
           "color": "grey",
           "width": 2
          },
          "showlegend": false,
          "type": "line",
          "x0": 0.5324367880419987,
          "x1": 0.5324367880419987,
          "xref": "x4",
          "y0": 7.66,
          "y1": 7.9,
          "yref": "y4"
         },
         {
          "line": {
           "color": "grey",
           "width": 2
          },
          "showlegend": false,
          "type": "line",
          "x0": 1.4201849952943557,
          "x1": 0.5324367880419987,
          "xref": "x4",
          "y0": 7.78,
          "y1": 7.78,
          "yref": "y4"
         },
         {
          "legendgroup": "2",
          "line": {
           "color": "black",
           "dash": "dot",
           "width": 5
          },
          "name": "NDC",
          "showlegend": false,
          "type": "line",
          "x0": 0.3339927301500951,
          "x1": 0.3339927301500951,
          "xref": "x4",
          "y0": 7.1,
          "y1": 7.9,
          "yref": "y4"
         },
         {
          "legendgroup": "2",
          "line": {
           "color": "saddlebrown",
           "width": 5
          },
          "name": "Cost optimal",
          "showlegend": false,
          "type": "line",
          "x0": 0.6763773574617609,
          "x1": 0.6763773574617609,
          "xref": "x4",
          "y0": 7.1,
          "y1": 7.9,
          "yref": "y4"
         },
         {
          "legendgroup": "2",
          "line": {
           "color": "steelblue",
           "width": 5
          },
          "name": "Per capita convergence",
          "showlegend": false,
          "type": "line",
          "x0": 0.67099017491665,
          "x1": 0.67099017491665,
          "xref": "x4",
          "y0": 7.1,
          "y1": 7.34,
          "yref": "y4"
         },
         {
          "legendgroup": "2",
          "line": {
           "color": "goldenrod",
           "width": 5
          },
          "name": "Ability to pay",
          "showlegend": false,
          "type": "line",
          "x0": 0.8792801300384863,
          "x1": 0.8792801300384863,
          "xref": "x4",
          "y0": 7.38,
          "y1": 7.62,
          "yref": "y4"
         },
         {
          "legendgroup": "2",
          "line": {
           "color": "purple",
           "width": 5
          },
          "name": "Equal cumulative per capita",
          "showlegend": false,
          "type": "line",
          "x0": 1.3766880575637195,
          "x1": 1.3766880575637195,
          "xref": "x4",
          "y0": 7.66,
          "y1": 7.9,
          "yref": "y4"
         },
         {
          "fillcolor": "grey",
          "line": {
           "color": "black",
           "width": 0
          },
          "opacity": 0.5,
          "type": "rect",
          "x0": 0.36399273015009515,
          "x1": 0.64099017491665,
          "xref": "x4",
          "y0": 7.1,
          "y1": 7.34,
          "yref": "y4"
         },
         {
          "fillcolor": "forestgreen",
          "line": {
           "color": "black",
           "width": 0
          },
          "opacity": 0.5,
          "type": "rect",
          "x0": 0.70099017491665,
          "x1": 0.6463773574617608,
          "xref": "x4",
          "y0": 7.1,
          "y1": 7.34,
          "yref": "y4"
         },
         {
          "fillcolor": "grey",
          "legendgroup": "3",
          "line": {
           "color": "black",
           "width": 0
          },
          "name": "Increase domestic ambition",
          "opacity": 0.5,
          "showlegend": false,
          "type": "rect",
          "x0": 0.36399273015009515,
          "x1": 0.6463773574617608,
          "xref": "x4",
          "y0": 7.38,
          "y1": 7.62,
          "yref": "y4"
         },
         {
          "fillcolor": "tomato",
          "line": {
           "color": "black",
           "width": 0
          },
          "opacity": 0.5,
          "type": "rect",
          "x0": 0.7063773574617609,
          "x1": 0.8492801300384862,
          "xref": "x4",
          "y0": 7.38,
          "y1": 7.62,
          "yref": "y4"
         },
         {
          "fillcolor": "grey",
          "legendgroup": "3",
          "line": {
           "color": "black",
           "width": 0
          },
          "name": "Increase domestic ambition",
          "opacity": 0.5,
          "showlegend": false,
          "type": "rect",
          "x0": 0.36399273015009515,
          "x1": 0.6463773574617608,
          "xref": "x4",
          "y0": 7.66,
          "y1": 7.9,
          "yref": "y4"
         },
         {
          "fillcolor": "tomato",
          "line": {
           "color": "black",
           "width": 0
          },
          "opacity": 0.5,
          "type": "rect",
          "x0": 0.7063773574617609,
          "x1": 1.3466880575637195,
          "xref": "x4",
          "y0": 7.66,
          "y1": 7.9,
          "yref": "y4"
         },
         {
          "line": {
           "color": "grey",
           "width": 2
          },
          "showlegend": false,
          "type": "line",
          "x0": 0.7182205579385927,
          "x1": 0.7182205579385927,
          "xref": "x4",
          "y0": 8.35,
          "y1": 9.15,
          "yref": "y4"
         },
         {
          "line": {
           "color": "grey",
           "width": 2
          },
          "showlegend": false,
          "type": "line",
          "x0": 0.31573671271336146,
          "x1": 0.31573671271336146,
          "xref": "x4",
          "y0": 8.35,
          "y1": 9.15,
          "yref": "y4"
         },
         {
          "line": {
           "color": "grey",
           "width": 2
          },
          "showlegend": false,
          "type": "line",
          "x0": 0.7182205579385927,
          "x1": 0.31573671271336146,
          "xref": "x4",
          "y0": 8.83,
          "y1": 8.83,
          "yref": "y4"
         },
         {
          "line": {
           "color": "grey",
           "width": 2
          },
          "showlegend": false,
          "type": "line",
          "x0": 0.7454478995651229,
          "x1": 0.7454478995651229,
          "xref": "x4",
          "y0": 8.350000000000001,
          "y1": 8.59,
          "yref": "y4"
         },
         {
          "line": {
           "color": "grey",
           "width": 2
          },
          "showlegend": false,
          "type": "line",
          "x0": 0.5781210829485173,
          "x1": 0.5781210829485173,
          "xref": "x4",
          "y0": 8.350000000000001,
          "y1": 8.59,
          "yref": "y4"
         },
         {
          "line": {
           "color": "grey",
           "width": 2
          },
          "showlegend": false,
          "type": "line",
          "x0": 0.7454478995651229,
          "x1": 0.5781210829485173,
          "xref": "x4",
          "y0": 8.47,
          "y1": 8.47,
          "yref": "y4"
         },
         {
          "line": {
           "color": "grey",
           "width": 2
          },
          "showlegend": false,
          "type": "line",
          "x0": 0.7853823067934962,
          "x1": 0.7853823067934962,
          "xref": "x4",
          "y0": 8.63,
          "y1": 8.87,
          "yref": "y4"
         },
         {
          "line": {
           "color": "grey",
           "width": 2
          },
          "showlegend": false,
          "type": "line",
          "x0": 0.6585466890564453,
          "x1": 0.6585466890564453,
          "xref": "x4",
          "y0": 8.63,
          "y1": 8.87,
          "yref": "y4"
         },
         {
          "line": {
           "color": "grey",
           "width": 2
          },
          "showlegend": false,
          "type": "line",
          "x0": 0.7853823067934962,
          "x1": 0.6585466890564453,
          "xref": "x4",
          "y0": 8.75,
          "y1": 8.75,
          "yref": "y4"
         },
         {
          "line": {
           "color": "grey",
           "width": 2
          },
          "showlegend": false,
          "type": "line",
          "x0": 4.015447924203801,
          "x1": 4.015447924203801,
          "xref": "x4",
          "y0": 8.91,
          "y1": 9.149999999999999,
          "yref": "y4"
         },
         {
          "line": {
           "color": "grey",
           "width": 2
          },
          "showlegend": false,
          "type": "line",
          "x0": 1.123433031167287,
          "x1": 1.123433031167287,
          "xref": "x4",
          "y0": 8.91,
          "y1": 9.149999999999999,
          "yref": "y4"
         },
         {
          "line": {
           "color": "grey",
           "width": 2
          },
          "showlegend": false,
          "type": "line",
          "x0": 4.015447924203801,
          "x1": 1.123433031167287,
          "xref": "x4",
          "y0": 9.03,
          "y1": 9.03,
          "yref": "y4"
         },
         {
          "legendgroup": "2",
          "line": {
           "color": "black",
           "dash": "dot",
           "width": 5
          },
          "name": "NDC",
          "showlegend": false,
          "type": "line",
          "x0": -0.49000860157303383,
          "x1": -0.49000860157303383,
          "xref": "x4",
          "y0": 8.35,
          "y1": 9.15,
          "yref": "y4"
         },
         {
          "legendgroup": "2",
          "line": {
           "color": "saddlebrown",
           "width": 5
          },
          "name": "Cost optimal",
          "showlegend": false,
          "type": "line",
          "x0": 0.4681064477653669,
          "x1": 0.4681064477653669,
          "xref": "x4",
          "y0": 8.35,
          "y1": 9.15,
          "yref": "y4"
         },
         {
          "legendgroup": "2",
          "line": {
           "color": "steelblue",
           "width": 5
          },
          "name": "Per capita convergence",
          "showlegend": false,
          "type": "line",
          "x0": 0.6941684012204076,
          "x1": 0.6941684012204076,
          "xref": "x4",
          "y0": 8.350000000000001,
          "y1": 8.59,
          "yref": "y4"
         },
         {
          "legendgroup": "2",
          "line": {
           "color": "goldenrod",
           "width": 5
          },
          "name": "Ability to pay",
          "showlegend": false,
          "type": "line",
          "x0": 0.7252884933152256,
          "x1": 0.7252884933152256,
          "xref": "x4",
          "y0": 8.63,
          "y1": 8.87,
          "yref": "y4"
         },
         {
          "legendgroup": "2",
          "line": {
           "color": "purple",
           "width": 5
          },
          "name": "Equal cumulative per capita",
          "showlegend": false,
          "type": "line",
          "x0": 1.8820730131222714,
          "x1": 1.8820730131222714,
          "xref": "x4",
          "y0": 8.91,
          "y1": 9.149999999999999,
          "yref": "y4"
         },
         {
          "fillcolor": "grey",
          "legendgroup": "3",
          "line": {
           "color": "black",
           "width": 0
          },
          "name": "Increase domestic ambition",
          "opacity": 0.5,
          "showlegend": false,
          "type": "rect",
          "x0": -0.4600086015730338,
          "x1": 0.4381064477653669,
          "xref": "x4",
          "y0": 8.350000000000001,
          "y1": 8.59,
          "yref": "y4"
         },
         {
          "fillcolor": "tomato",
          "line": {
           "color": "black",
           "width": 0
          },
          "opacity": 0.5,
          "type": "rect",
          "x0": 0.49810644776536694,
          "x1": 0.6641684012204075,
          "xref": "x4",
          "y0": 8.350000000000001,
          "y1": 8.59,
          "yref": "y4"
         },
         {
          "fillcolor": "grey",
          "legendgroup": "3",
          "line": {
           "color": "black",
           "width": 0
          },
          "name": "Increase domestic ambition",
          "opacity": 0.5,
          "showlegend": false,
          "type": "rect",
          "x0": -0.4600086015730338,
          "x1": 0.4381064477653669,
          "xref": "x4",
          "y0": 8.63,
          "y1": 8.87,
          "yref": "y4"
         },
         {
          "fillcolor": "tomato",
          "line": {
           "color": "black",
           "width": 0
          },
          "opacity": 0.5,
          "type": "rect",
          "x0": 0.49810644776536694,
          "x1": 0.6952884933152256,
          "xref": "x4",
          "y0": 8.63,
          "y1": 8.87,
          "yref": "y4"
         },
         {
          "fillcolor": "grey",
          "legendgroup": "3",
          "line": {
           "color": "black",
           "width": 0
          },
          "name": "Increase domestic ambition",
          "opacity": 0.5,
          "showlegend": false,
          "type": "rect",
          "x0": -0.4600086015730338,
          "x1": 0.4381064477653669,
          "xref": "x4",
          "y0": 8.91,
          "y1": 9.149999999999999,
          "yref": "y4"
         },
         {
          "fillcolor": "tomato",
          "line": {
           "color": "black",
           "width": 0
          },
          "opacity": 0.5,
          "type": "rect",
          "x0": 0.49810644776536694,
          "x1": 1.8520730131222713,
          "xref": "x4",
          "y0": 8.91,
          "y1": 9.149999999999999,
          "yref": "y4"
         },
         {
          "line": {
           "color": "grey",
           "width": 2
          },
          "showlegend": false,
          "type": "line",
          "x0": 0.3700682433654925,
          "x1": 0.3700682433654925,
          "xref": "x4",
          "y0": 9.6,
          "y1": 10.4,
          "yref": "y4"
         },
         {
          "line": {
           "color": "grey",
           "width": 2
          },
          "showlegend": false,
          "type": "line",
          "x0": 0.3184501255504034,
          "x1": 0.3184501255504034,
          "xref": "x4",
          "y0": 9.6,
          "y1": 10.4,
          "yref": "y4"
         },
         {
          "line": {
           "color": "grey",
           "width": 2
          },
          "showlegend": false,
          "type": "line",
          "x0": 0.3700682433654925,
          "x1": 0.3184501255504034,
          "xref": "x4",
          "y0": 10.08,
          "y1": 10.08,
          "yref": "y4"
         },
         {
          "line": {
           "color": "grey",
           "width": 2
          },
          "showlegend": false,
          "type": "line",
          "x0": 0.774223834228036,
          "x1": 0.774223834228036,
          "xref": "x4",
          "y0": 9.600000000000001,
          "y1": 9.84,
          "yref": "y4"
         },
         {
          "line": {
           "color": "grey",
           "width": 2
          },
          "showlegend": false,
          "type": "line",
          "x0": 0.6106397807530057,
          "x1": 0.6106397807530057,
          "xref": "x4",
          "y0": 9.600000000000001,
          "y1": 9.84,
          "yref": "y4"
         },
         {
          "line": {
           "color": "grey",
           "width": 2
          },
          "showlegend": false,
          "type": "line",
          "x0": 0.774223834228036,
          "x1": 0.6106397807530057,
          "xref": "x4",
          "y0": 9.72,
          "y1": 9.72,
          "yref": "y4"
         },
         {
          "line": {
           "color": "grey",
           "width": 2
          },
          "showlegend": false,
          "type": "line",
          "x0": 0.9633436077519354,
          "x1": 0.9633436077519354,
          "xref": "x4",
          "y0": 9.88,
          "y1": 10.12,
          "yref": "y4"
         },
         {
          "line": {
           "color": "grey",
           "width": 2
          },
          "showlegend": false,
          "type": "line",
          "x0": 0.7646608178574013,
          "x1": 0.7646608178574013,
          "xref": "x4",
          "y0": 9.88,
          "y1": 10.12,
          "yref": "y4"
         },
         {
          "line": {
           "color": "grey",
           "width": 2
          },
          "showlegend": false,
          "type": "line",
          "x0": 0.9633436077519354,
          "x1": 0.7646608178574013,
          "xref": "x4",
          "y0": 10,
          "y1": 10,
          "yref": "y4"
         },
         {
          "line": {
           "color": "grey",
           "width": 2
          },
          "showlegend": false,
          "type": "line",
          "x0": 2.0627791120834456,
          "x1": 2.0627791120834456,
          "xref": "x4",
          "y0": 10.16,
          "y1": 10.399999999999999,
          "yref": "y4"
         },
         {
          "line": {
           "color": "grey",
           "width": 2
          },
          "showlegend": false,
          "type": "line",
          "x0": 1.1624124216295064,
          "x1": 1.1624124216295064,
          "xref": "x4",
          "y0": 10.16,
          "y1": 10.399999999999999,
          "yref": "y4"
         },
         {
          "line": {
           "color": "grey",
           "width": 2
          },
          "showlegend": false,
          "type": "line",
          "x0": 2.0627791120834456,
          "x1": 1.1624124216295064,
          "xref": "x4",
          "y0": 10.28,
          "y1": 10.28,
          "yref": "y4"
         },
         {
          "legendgroup": "2",
          "line": {
           "color": "black",
           "dash": "dot",
           "width": 5
          },
          "name": "NDC",
          "showlegend": false,
          "type": "line",
          "x0": -0.3347268317589993,
          "x1": -0.3347268317589993,
          "xref": "x4",
          "y0": 9.6,
          "y1": 10.4,
          "yref": "y4"
         },
         {
          "legendgroup": "2",
          "line": {
           "color": "saddlebrown",
           "width": 5
          },
          "name": "Cost optimal",
          "showlegend": false,
          "type": "line",
          "x0": 0.3442591844579479,
          "x1": 0.3442591844579479,
          "xref": "x4",
          "y0": 9.6,
          "y1": 10.4,
          "yref": "y4"
         },
         {
          "legendgroup": "2",
          "line": {
           "color": "steelblue",
           "width": 5
          },
          "name": "Per capita convergence",
          "showlegend": false,
          "type": "line",
          "x0": 0.7287855064069304,
          "x1": 0.7287855064069304,
          "xref": "x4",
          "y0": 9.600000000000001,
          "y1": 9.84,
          "yref": "y4"
         },
         {
          "legendgroup": "2",
          "line": {
           "color": "goldenrod",
           "width": 5
          },
          "name": "Ability to pay",
          "showlegend": false,
          "type": "line",
          "x0": 0.8674790708202964,
          "x1": 0.8674790708202964,
          "xref": "x4",
          "y0": 9.88,
          "y1": 10.12,
          "yref": "y4"
         },
         {
          "legendgroup": "2",
          "line": {
           "color": "purple",
           "width": 5
          },
          "name": "Equal cumulative per capita",
          "showlegend": false,
          "type": "line",
          "x0": 1.8595503326023348,
          "x1": 1.8595503326023348,
          "xref": "x4",
          "y0": 10.16,
          "y1": 10.399999999999999,
          "yref": "y4"
         },
         {
          "fillcolor": "grey",
          "legendgroup": "3",
          "line": {
           "color": "black",
           "width": 0
          },
          "name": "Increase domestic ambition",
          "opacity": 0.5,
          "showlegend": false,
          "type": "rect",
          "x0": -0.3047268317589993,
          "x1": 0.31425918445794787,
          "xref": "x4",
          "y0": 9.600000000000001,
          "y1": 9.84,
          "yref": "y4"
         },
         {
          "fillcolor": "tomato",
          "line": {
           "color": "black",
           "width": 0
          },
          "opacity": 0.5,
          "type": "rect",
          "x0": 0.3742591844579479,
          "x1": 0.6987855064069304,
          "xref": "x4",
          "y0": 9.600000000000001,
          "y1": 9.84,
          "yref": "y4"
         },
         {
          "fillcolor": "grey",
          "legendgroup": "3",
          "line": {
           "color": "black",
           "width": 0
          },
          "name": "Increase domestic ambition",
          "opacity": 0.5,
          "showlegend": false,
          "type": "rect",
          "x0": -0.3047268317589993,
          "x1": 0.31425918445794787,
          "xref": "x4",
          "y0": 9.88,
          "y1": 10.12,
          "yref": "y4"
         },
         {
          "fillcolor": "tomato",
          "line": {
           "color": "black",
           "width": 0
          },
          "opacity": 0.5,
          "type": "rect",
          "x0": 0.3742591844579479,
          "x1": 0.8374790708202964,
          "xref": "x4",
          "y0": 9.88,
          "y1": 10.12,
          "yref": "y4"
         },
         {
          "fillcolor": "grey",
          "legendgroup": "3",
          "line": {
           "color": "black",
           "width": 0
          },
          "name": "Increase domestic ambition",
          "opacity": 0.5,
          "showlegend": false,
          "type": "rect",
          "x0": -0.3047268317589993,
          "x1": 0.31425918445794787,
          "xref": "x4",
          "y0": 10.16,
          "y1": 10.399999999999999,
          "yref": "y4"
         },
         {
          "fillcolor": "tomato",
          "line": {
           "color": "black",
           "width": 0
          },
          "opacity": 0.5,
          "type": "rect",
          "x0": 0.3742591844579479,
          "x1": 1.8295503326023348,
          "xref": "x4",
          "y0": 10.16,
          "y1": 10.399999999999999,
          "yref": "y4"
         },
         {
          "line": {
           "color": "grey",
           "width": 2
          },
          "showlegend": false,
          "type": "line",
          "x0": 0.7198094926094367,
          "x1": 0.7198094926094367,
          "xref": "x4",
          "y0": 10.85,
          "y1": 11.65,
          "yref": "y4"
         },
         {
          "line": {
           "color": "grey",
           "width": 2
          },
          "showlegend": false,
          "type": "line",
          "x0": 0.38254946361168396,
          "x1": 0.38254946361168396,
          "xref": "x4",
          "y0": 10.85,
          "y1": 11.65,
          "yref": "y4"
         },
         {
          "line": {
           "color": "grey",
           "width": 2
          },
          "showlegend": false,
          "type": "line",
          "x0": 0.7198094926094367,
          "x1": 0.38254946361168396,
          "xref": "x4",
          "y0": 11.33,
          "y1": 11.33,
          "yref": "y4"
         },
         {
          "line": {
           "color": "grey",
           "width": 2
          },
          "showlegend": false,
          "type": "line",
          "x0": 0.6912220399222826,
          "x1": 0.6912220399222826,
          "xref": "x4",
          "y0": 10.850000000000001,
          "y1": 11.09,
          "yref": "y4"
         },
         {
          "line": {
           "color": "grey",
           "width": 2
          },
          "showlegend": false,
          "type": "line",
          "x0": 0.5597915215374891,
          "x1": 0.5597915215374891,
          "xref": "x4",
          "y0": 10.850000000000001,
          "y1": 11.09,
          "yref": "y4"
         },
         {
          "line": {
           "color": "grey",
           "width": 2
          },
          "showlegend": false,
          "type": "line",
          "x0": 0.6912220399222826,
          "x1": 0.5597915215374891,
          "xref": "x4",
          "y0": 10.97,
          "y1": 10.97,
          "yref": "y4"
         },
         {
          "line": {
           "color": "grey",
           "width": 2
          },
          "showlegend": false,
          "type": "line",
          "x0": 0.9311790217704079,
          "x1": 0.9311790217704079,
          "xref": "x4",
          "y0": 11.13,
          "y1": 11.37,
          "yref": "y4"
         },
         {
          "line": {
           "color": "grey",
           "width": 2
          },
          "showlegend": false,
          "type": "line",
          "x0": 0.8203013734341957,
          "x1": 0.8203013734341957,
          "xref": "x4",
          "y0": 11.13,
          "y1": 11.37,
          "yref": "y4"
         },
         {
          "line": {
           "color": "grey",
           "width": 2
          },
          "showlegend": false,
          "type": "line",
          "x0": 0.9311790217704079,
          "x1": 0.8203013734341957,
          "xref": "x4",
          "y0": 11.25,
          "y1": 11.25,
          "yref": "y4"
         },
         {
          "line": {
           "color": "grey",
           "width": 2
          },
          "showlegend": false,
          "type": "line",
          "x0": 2.016890439508047,
          "x1": 2.016890439508047,
          "xref": "x4",
          "y0": 11.41,
          "y1": 11.649999999999999,
          "yref": "y4"
         },
         {
          "line": {
           "color": "grey",
           "width": 2
          },
          "showlegend": false,
          "type": "line",
          "x0": 0.8139997447792535,
          "x1": 0.8139997447792535,
          "xref": "x4",
          "y0": 11.41,
          "y1": 11.649999999999999,
          "yref": "y4"
         },
         {
          "line": {
           "color": "grey",
           "width": 2
          },
          "showlegend": false,
          "type": "line",
          "x0": 2.016890439508047,
          "x1": 0.8139997447792535,
          "xref": "x4",
          "y0": 11.53,
          "y1": 11.53,
          "yref": "y4"
         },
         {
          "legendgroup": "2",
          "line": {
           "color": "black",
           "dash": "dot",
           "width": 5
          },
          "name": "NDC",
          "showlegend": false,
          "type": "line",
          "x0": 0.3908938196584818,
          "x1": 0.3908938196584818,
          "xref": "x4",
          "y0": 10.85,
          "y1": 11.65,
          "yref": "y4"
         },
         {
          "legendgroup": "2",
          "line": {
           "color": "saddlebrown",
           "width": 5
          },
          "name": "Cost optimal",
          "showlegend": false,
          "type": "line",
          "x0": 0.5714551879598119,
          "x1": 0.5714551879598119,
          "xref": "x4",
          "y0": 10.85,
          "y1": 11.65,
          "yref": "y4"
         },
         {
          "legendgroup": "2",
          "line": {
           "color": "steelblue",
           "width": 5
          },
          "name": "Per capita convergence",
          "showlegend": false,
          "type": "line",
          "x0": 0.6289672150509152,
          "x1": 0.6289672150509152,
          "xref": "x4",
          "y0": 10.850000000000001,
          "y1": 11.09,
          "yref": "y4"
         },
         {
          "legendgroup": "2",
          "line": {
           "color": "goldenrod",
           "width": 5
          },
          "name": "Ability to pay",
          "showlegend": false,
          "type": "line",
          "x0": 0.8733219636995624,
          "x1": 0.8733219636995624,
          "xref": "x4",
          "y0": 11.13,
          "y1": 11.37,
          "yref": "y4"
         },
         {
          "legendgroup": "2",
          "line": {
           "color": "purple",
           "width": 5
          },
          "name": "Equal cumulative per capita",
          "showlegend": false,
          "type": "line",
          "x0": 1.2738264603815548,
          "x1": 1.2738264603815548,
          "xref": "x4",
          "y0": 11.41,
          "y1": 11.649999999999999,
          "yref": "y4"
         },
         {
          "fillcolor": "grey",
          "legendgroup": "3",
          "line": {
           "color": "black",
           "width": 0
          },
          "name": "Increase domestic ambition",
          "opacity": 0.5,
          "showlegend": false,
          "type": "rect",
          "x0": 0.4208938196584818,
          "x1": 0.5414551879598118,
          "xref": "x4",
          "y0": 10.850000000000001,
          "y1": 11.09,
          "yref": "y4"
         },
         {
          "fillcolor": "tomato",
          "line": {
           "color": "black",
           "width": 0
          },
          "opacity": 0.5,
          "type": "rect",
          "x0": 0.6014551879598119,
          "x1": 0.5989672150509152,
          "xref": "x4",
          "y0": 10.850000000000001,
          "y1": 11.09,
          "yref": "y4"
         },
         {
          "fillcolor": "grey",
          "legendgroup": "3",
          "line": {
           "color": "black",
           "width": 0
          },
          "name": "Increase domestic ambition",
          "opacity": 0.5,
          "showlegend": false,
          "type": "rect",
          "x0": 0.4208938196584818,
          "x1": 0.5414551879598118,
          "xref": "x4",
          "y0": 11.13,
          "y1": 11.37,
          "yref": "y4"
         },
         {
          "fillcolor": "tomato",
          "line": {
           "color": "black",
           "width": 0
          },
          "opacity": 0.5,
          "type": "rect",
          "x0": 0.6014551879598119,
          "x1": 0.8433219636995624,
          "xref": "x4",
          "y0": 11.13,
          "y1": 11.37,
          "yref": "y4"
         },
         {
          "fillcolor": "grey",
          "legendgroup": "3",
          "line": {
           "color": "black",
           "width": 0
          },
          "name": "Increase domestic ambition",
          "opacity": 0.5,
          "showlegend": false,
          "type": "rect",
          "x0": 0.4208938196584818,
          "x1": 0.5414551879598118,
          "xref": "x4",
          "y0": 11.41,
          "y1": 11.649999999999999,
          "yref": "y4"
         },
         {
          "fillcolor": "tomato",
          "line": {
           "color": "black",
           "width": 0
          },
          "opacity": 0.5,
          "type": "rect",
          "x0": 0.6014551879598119,
          "x1": 1.2438264603815548,
          "xref": "x4",
          "y0": 11.41,
          "y1": 11.649999999999999,
          "yref": "y4"
         },
         {
          "line": {
           "color": "grey",
           "width": 2
          },
          "showlegend": false,
          "type": "line",
          "x0": 1.1758817693615975,
          "x1": 1.1758817693615975,
          "xref": "x4",
          "y0": 12.1,
          "y1": 12.9,
          "yref": "y4"
         },
         {
          "line": {
           "color": "grey",
           "width": 2
          },
          "showlegend": false,
          "type": "line",
          "x0": 0.707408900633116,
          "x1": 0.707408900633116,
          "xref": "x4",
          "y0": 12.1,
          "y1": 12.9,
          "yref": "y4"
         },
         {
          "line": {
           "color": "grey",
           "width": 2
          },
          "showlegend": false,
          "type": "line",
          "x0": 1.1758817693615975,
          "x1": 0.707408900633116,
          "xref": "x4",
          "y0": 12.58,
          "y1": 12.58,
          "yref": "y4"
         },
         {
          "line": {
           "color": "grey",
           "width": 2
          },
          "showlegend": false,
          "type": "line",
          "x0": 0.7350951538503376,
          "x1": 0.7350951538503376,
          "xref": "x4",
          "y0": 12.100000000000001,
          "y1": 12.34,
          "yref": "y4"
         },
         {
          "line": {
           "color": "grey",
           "width": 2
          },
          "showlegend": false,
          "type": "line",
          "x0": 0.5940061056132284,
          "x1": 0.5940061056132284,
          "xref": "x4",
          "y0": 12.100000000000001,
          "y1": 12.34,
          "yref": "y4"
         },
         {
          "line": {
           "color": "grey",
           "width": 2
          },
          "showlegend": false,
          "type": "line",
          "x0": 0.7350951538503376,
          "x1": 0.5940061056132284,
          "xref": "x4",
          "y0": 12.22,
          "y1": 12.22,
          "yref": "y4"
         },
         {
          "line": {
           "color": "grey",
           "width": 2
          },
          "showlegend": false,
          "type": "line",
          "x0": 0.6379896077175642,
          "x1": 0.6379896077175642,
          "xref": "x4",
          "y0": 12.38,
          "y1": 12.62,
          "yref": "y4"
         },
         {
          "line": {
           "color": "grey",
           "width": 2
          },
          "showlegend": false,
          "type": "line",
          "x0": 0.5103161792838552,
          "x1": 0.5103161792838552,
          "xref": "x4",
          "y0": 12.38,
          "y1": 12.62,
          "yref": "y4"
         },
         {
          "line": {
           "color": "grey",
           "width": 2
          },
          "showlegend": false,
          "type": "line",
          "x0": 0.6379896077175642,
          "x1": 0.5103161792838552,
          "xref": "x4",
          "y0": 12.5,
          "y1": 12.5,
          "yref": "y4"
         },
         {
          "line": {
           "color": "grey",
           "width": 2
          },
          "showlegend": false,
          "type": "line",
          "x0": 2.5234795026903636,
          "x1": 2.5234795026903636,
          "xref": "x4",
          "y0": 12.66,
          "y1": 12.899999999999999,
          "yref": "y4"
         },
         {
          "line": {
           "color": "grey",
           "width": 2
          },
          "showlegend": false,
          "type": "line",
          "x0": 1.0366358154718287,
          "x1": 1.0366358154718287,
          "xref": "x4",
          "y0": 12.66,
          "y1": 12.899999999999999,
          "yref": "y4"
         },
         {
          "line": {
           "color": "grey",
           "width": 2
          },
          "showlegend": false,
          "type": "line",
          "x0": 2.5234795026903636,
          "x1": 1.0366358154718287,
          "xref": "x4",
          "y0": 12.78,
          "y1": 12.78,
          "yref": "y4"
         },
         {
          "legendgroup": "2",
          "line": {
           "color": "black",
           "dash": "dot",
           "width": 5
          },
          "name": "NDC",
          "showlegend": false,
          "type": "line",
          "x0": 0.21737683180626877,
          "x1": 0.21737683180626877,
          "xref": "x4",
          "y0": 12.1,
          "y1": 12.9,
          "yref": "y4"
         },
         {
          "legendgroup": "2",
          "line": {
           "color": "saddlebrown",
           "width": 5
          },
          "name": "Cost optimal",
          "showlegend": false,
          "type": "line",
          "x0": 0.9265434095215856,
          "x1": 0.9265434095215856,
          "xref": "x4",
          "y0": 12.1,
          "y1": 12.9,
          "yref": "y4"
         },
         {
          "legendgroup": "2",
          "line": {
           "color": "steelblue",
           "width": 5
          },
          "name": "Per capita convergence",
          "showlegend": false,
          "type": "line",
          "x0": 0.6818188644450225,
          "x1": 0.6818188644450225,
          "xref": "x4",
          "y0": 12.100000000000001,
          "y1": 12.34,
          "yref": "y4"
         },
         {
          "legendgroup": "2",
          "line": {
           "color": "goldenrod",
           "width": 5
          },
          "name": "Ability to pay",
          "showlegend": false,
          "type": "line",
          "x0": 0.5613764269047234,
          "x1": 0.5613764269047234,
          "xref": "x4",
          "y0": 12.38,
          "y1": 12.62,
          "yref": "y4"
         },
         {
          "legendgroup": "2",
          "line": {
           "color": "purple",
           "width": 5
          },
          "name": "Equal cumulative per capita",
          "showlegend": false,
          "type": "line",
          "x0": 1.6911130276113298,
          "x1": 1.6911130276113298,
          "xref": "x4",
          "y0": 12.66,
          "y1": 12.899999999999999,
          "yref": "y4"
         },
         {
          "fillcolor": "grey",
          "line": {
           "color": "black",
           "width": 0
          },
          "opacity": 0.5,
          "type": "rect",
          "x0": 0.24737683180626877,
          "x1": 0.6518188644450225,
          "xref": "x4",
          "y0": 12.100000000000001,
          "y1": 12.34,
          "yref": "y4"
         },
         {
          "fillcolor": "forestgreen",
          "line": {
           "color": "black",
           "width": 0
          },
          "opacity": 0.5,
          "type": "rect",
          "x0": 0.7118188644450225,
          "x1": 0.8965434095215856,
          "xref": "x4",
          "y0": 12.100000000000001,
          "y1": 12.34,
          "yref": "y4"
         },
         {
          "fillcolor": "grey",
          "line": {
           "color": "black",
           "width": 0
          },
          "opacity": 0.5,
          "type": "rect",
          "x0": 0.24737683180626877,
          "x1": 0.5313764269047234,
          "xref": "x4",
          "y0": 12.38,
          "y1": 12.62,
          "yref": "y4"
         },
         {
          "fillcolor": "forestgreen",
          "line": {
           "color": "black",
           "width": 0
          },
          "opacity": 0.5,
          "type": "rect",
          "x0": 0.5913764269047235,
          "x1": 0.8965434095215856,
          "xref": "x4",
          "y0": 12.38,
          "y1": 12.62,
          "yref": "y4"
         },
         {
          "fillcolor": "grey",
          "legendgroup": "3",
          "line": {
           "color": "black",
           "width": 0
          },
          "name": "Increase domestic ambition",
          "opacity": 0.5,
          "showlegend": false,
          "type": "rect",
          "x0": 0.24737683180626877,
          "x1": 0.8965434095215856,
          "xref": "x4",
          "y0": 12.66,
          "y1": 12.899999999999999,
          "yref": "y4"
         },
         {
          "fillcolor": "tomato",
          "line": {
           "color": "black",
           "width": 0
          },
          "opacity": 0.5,
          "type": "rect",
          "x0": 0.9565434095215857,
          "x1": 1.6611130276113297,
          "xref": "x4",
          "y0": 12.66,
          "y1": 12.899999999999999,
          "yref": "y4"
         },
         {
          "line": {
           "color": "grey",
           "width": 2
          },
          "showlegend": false,
          "type": "line",
          "x0": 0.7471355961330035,
          "x1": 0.7471355961330035,
          "xref": "x4",
          "y0": 13.35,
          "y1": 14.15,
          "yref": "y4"
         },
         {
          "line": {
           "color": "grey",
           "width": 2
          },
          "showlegend": false,
          "type": "line",
          "x0": 0.49985158323757406,
          "x1": 0.49985158323757406,
          "xref": "x4",
          "y0": 13.35,
          "y1": 14.15,
          "yref": "y4"
         },
         {
          "line": {
           "color": "grey",
           "width": 2
          },
          "showlegend": false,
          "type": "line",
          "x0": 0.7471355961330035,
          "x1": 0.49985158323757406,
          "xref": "x4",
          "y0": 13.83,
          "y1": 13.83,
          "yref": "y4"
         },
         {
          "line": {
           "color": "grey",
           "width": 2
          },
          "showlegend": false,
          "type": "line",
          "x0": 0.7620299153941322,
          "x1": 0.7620299153941322,
          "xref": "x4",
          "y0": 13.350000000000001,
          "y1": 13.59,
          "yref": "y4"
         },
         {
          "line": {
           "color": "grey",
           "width": 2
          },
          "showlegend": false,
          "type": "line",
          "x0": 0.5993346720559586,
          "x1": 0.5993346720559586,
          "xref": "x4",
          "y0": 13.350000000000001,
          "y1": 13.59,
          "yref": "y4"
         },
         {
          "line": {
           "color": "grey",
           "width": 2
          },
          "showlegend": false,
          "type": "line",
          "x0": 0.7620299153941322,
          "x1": 0.5993346720559586,
          "xref": "x4",
          "y0": 13.47,
          "y1": 13.47,
          "yref": "y4"
         },
         {
          "line": {
           "color": "grey",
           "width": 2
          },
          "showlegend": false,
          "type": "line",
          "x0": 1.020060633437231,
          "x1": 1.020060633437231,
          "xref": "x4",
          "y0": 13.63,
          "y1": 13.87,
          "yref": "y4"
         },
         {
          "line": {
           "color": "grey",
           "width": 2
          },
          "showlegend": false,
          "type": "line",
          "x0": 0.8699539632967825,
          "x1": 0.8699539632967825,
          "xref": "x4",
          "y0": 13.63,
          "y1": 13.87,
          "yref": "y4"
         },
         {
          "line": {
           "color": "grey",
           "width": 2
          },
          "showlegend": false,
          "type": "line",
          "x0": 1.020060633437231,
          "x1": 0.8699539632967825,
          "xref": "x4",
          "y0": 13.75,
          "y1": 13.75,
          "yref": "y4"
         },
         {
          "line": {
           "color": "grey",
           "width": 2
          },
          "showlegend": false,
          "type": "line",
          "x0": 4.989166242427765,
          "x1": 4.989166242427765,
          "xref": "x4",
          "y0": 13.91,
          "y1": 14.149999999999999,
          "yref": "y4"
         },
         {
          "line": {
           "color": "grey",
           "width": 2
          },
          "showlegend": false,
          "type": "line",
          "x0": 1.2832709376364053,
          "x1": 1.2832709376364053,
          "xref": "x4",
          "y0": 13.91,
          "y1": 14.149999999999999,
          "yref": "y4"
         },
         {
          "line": {
           "color": "grey",
           "width": 2
          },
          "showlegend": false,
          "type": "line",
          "x0": 4.989166242427765,
          "x1": 1.2832709376364053,
          "xref": "x4",
          "y0": 14.03,
          "y1": 14.03,
          "yref": "y4"
         },
         {
          "legendgroup": "2",
          "line": {
           "color": "black",
           "dash": "dot",
           "width": 5
          },
          "name": "NDC",
          "showlegend": false,
          "type": "line",
          "x0": 0.45588116855527694,
          "x1": 0.45588116855527694,
          "xref": "x4",
          "y0": 13.35,
          "y1": 14.15,
          "yref": "y4"
         },
         {
          "legendgroup": "2",
          "line": {
           "color": "saddlebrown",
           "width": 5
          },
          "name": "Cost optimal",
          "showlegend": false,
          "type": "line",
          "x0": 0.607844416284325,
          "x1": 0.607844416284325,
          "xref": "x4",
          "y0": 13.35,
          "y1": 14.15,
          "yref": "y4"
         },
         {
          "legendgroup": "2",
          "line": {
           "color": "steelblue",
           "width": 5
          },
          "name": "Per capita convergence",
          "showlegend": false,
          "type": "line",
          "x0": 0.7140764329313765,
          "x1": 0.7140764329313765,
          "xref": "x4",
          "y0": 13.350000000000001,
          "y1": 13.59,
          "yref": "y4"
         },
         {
          "legendgroup": "2",
          "line": {
           "color": "goldenrod",
           "width": 5
          },
          "name": "Ability to pay",
          "showlegend": false,
          "type": "line",
          "x0": 0.9464731565660223,
          "x1": 0.9464731565660223,
          "xref": "x4",
          "y0": 13.63,
          "y1": 13.87,
          "yref": "y4"
         },
         {
          "legendgroup": "2",
          "line": {
           "color": "purple",
           "width": 5
          },
          "name": "Equal cumulative per capita",
          "showlegend": false,
          "type": "line",
          "x0": 2.2576550766028394,
          "x1": 2.2576550766028394,
          "xref": "x4",
          "y0": 13.91,
          "y1": 14.149999999999999,
          "yref": "y4"
         },
         {
          "fillcolor": "grey",
          "legendgroup": "3",
          "line": {
           "color": "black",
           "width": 0
          },
          "name": "Increase domestic ambition",
          "opacity": 0.5,
          "showlegend": false,
          "type": "rect",
          "x0": 0.48588116855527697,
          "x1": 0.5778444162843249,
          "xref": "x4",
          "y0": 13.350000000000001,
          "y1": 13.59,
          "yref": "y4"
         },
         {
          "fillcolor": "tomato",
          "line": {
           "color": "black",
           "width": 0
          },
          "opacity": 0.5,
          "type": "rect",
          "x0": 0.637844416284325,
          "x1": 0.6840764329313764,
          "xref": "x4",
          "y0": 13.350000000000001,
          "y1": 13.59,
          "yref": "y4"
         },
         {
          "fillcolor": "grey",
          "legendgroup": "3",
          "line": {
           "color": "black",
           "width": 0
          },
          "name": "Increase domestic ambition",
          "opacity": 0.5,
          "showlegend": false,
          "type": "rect",
          "x0": 0.48588116855527697,
          "x1": 0.5778444162843249,
          "xref": "x4",
          "y0": 13.63,
          "y1": 13.87,
          "yref": "y4"
         },
         {
          "fillcolor": "tomato",
          "line": {
           "color": "black",
           "width": 0
          },
          "opacity": 0.5,
          "type": "rect",
          "x0": 0.637844416284325,
          "x1": 0.9164731565660222,
          "xref": "x4",
          "y0": 13.63,
          "y1": 13.87,
          "yref": "y4"
         },
         {
          "fillcolor": "grey",
          "legendgroup": "3",
          "line": {
           "color": "black",
           "width": 0
          },
          "name": "Increase domestic ambition",
          "opacity": 0.5,
          "showlegend": false,
          "type": "rect",
          "x0": 0.48588116855527697,
          "x1": 0.5778444162843249,
          "xref": "x4",
          "y0": 13.91,
          "y1": 14.149999999999999,
          "yref": "y4"
         },
         {
          "fillcolor": "tomato",
          "line": {
           "color": "black",
           "width": 0
          },
          "opacity": 0.5,
          "type": "rect",
          "x0": 0.637844416284325,
          "x1": 2.2276550766028396,
          "xref": "x4",
          "y0": 13.91,
          "y1": 14.149999999999999,
          "yref": "y4"
         },
         {
          "line": {
           "color": "black",
           "dash": "dash",
           "width": 3
          },
          "type": "line",
          "x0": 0,
          "x1": 0,
          "xref": "x4",
          "y0": -1000,
          "y1": 1000,
          "yref": "y4"
         }
        ],
        "template": {
         "data": {
          "bar": [
           {
            "error_x": {
             "color": "#2a3f5f"
            },
            "error_y": {
             "color": "#2a3f5f"
            },
            "marker": {
             "line": {
              "color": "#E5ECF6",
              "width": 0.5
             },
             "pattern": {
              "fillmode": "overlay",
              "size": 10,
              "solidity": 0.2
             }
            },
            "type": "bar"
           }
          ],
          "barpolar": [
           {
            "marker": {
             "line": {
              "color": "#E5ECF6",
              "width": 0.5
             },
             "pattern": {
              "fillmode": "overlay",
              "size": 10,
              "solidity": 0.2
             }
            },
            "type": "barpolar"
           }
          ],
          "carpet": [
           {
            "aaxis": {
             "endlinecolor": "#2a3f5f",
             "gridcolor": "white",
             "linecolor": "white",
             "minorgridcolor": "white",
             "startlinecolor": "#2a3f5f"
            },
            "baxis": {
             "endlinecolor": "#2a3f5f",
             "gridcolor": "white",
             "linecolor": "white",
             "minorgridcolor": "white",
             "startlinecolor": "#2a3f5f"
            },
            "type": "carpet"
           }
          ],
          "choropleth": [
           {
            "colorbar": {
             "outlinewidth": 0,
             "ticks": ""
            },
            "type": "choropleth"
           }
          ],
          "contour": [
           {
            "colorbar": {
             "outlinewidth": 0,
             "ticks": ""
            },
            "colorscale": [
             [
              0,
              "#0d0887"
             ],
             [
              0.1111111111111111,
              "#46039f"
             ],
             [
              0.2222222222222222,
              "#7201a8"
             ],
             [
              0.3333333333333333,
              "#9c179e"
             ],
             [
              0.4444444444444444,
              "#bd3786"
             ],
             [
              0.5555555555555556,
              "#d8576b"
             ],
             [
              0.6666666666666666,
              "#ed7953"
             ],
             [
              0.7777777777777778,
              "#fb9f3a"
             ],
             [
              0.8888888888888888,
              "#fdca26"
             ],
             [
              1,
              "#f0f921"
             ]
            ],
            "type": "contour"
           }
          ],
          "contourcarpet": [
           {
            "colorbar": {
             "outlinewidth": 0,
             "ticks": ""
            },
            "type": "contourcarpet"
           }
          ],
          "heatmap": [
           {
            "colorbar": {
             "outlinewidth": 0,
             "ticks": ""
            },
            "colorscale": [
             [
              0,
              "#0d0887"
             ],
             [
              0.1111111111111111,
              "#46039f"
             ],
             [
              0.2222222222222222,
              "#7201a8"
             ],
             [
              0.3333333333333333,
              "#9c179e"
             ],
             [
              0.4444444444444444,
              "#bd3786"
             ],
             [
              0.5555555555555556,
              "#d8576b"
             ],
             [
              0.6666666666666666,
              "#ed7953"
             ],
             [
              0.7777777777777778,
              "#fb9f3a"
             ],
             [
              0.8888888888888888,
              "#fdca26"
             ],
             [
              1,
              "#f0f921"
             ]
            ],
            "type": "heatmap"
           }
          ],
          "heatmapgl": [
           {
            "colorbar": {
             "outlinewidth": 0,
             "ticks": ""
            },
            "colorscale": [
             [
              0,
              "#0d0887"
             ],
             [
              0.1111111111111111,
              "#46039f"
             ],
             [
              0.2222222222222222,
              "#7201a8"
             ],
             [
              0.3333333333333333,
              "#9c179e"
             ],
             [
              0.4444444444444444,
              "#bd3786"
             ],
             [
              0.5555555555555556,
              "#d8576b"
             ],
             [
              0.6666666666666666,
              "#ed7953"
             ],
             [
              0.7777777777777778,
              "#fb9f3a"
             ],
             [
              0.8888888888888888,
              "#fdca26"
             ],
             [
              1,
              "#f0f921"
             ]
            ],
            "type": "heatmapgl"
           }
          ],
          "histogram": [
           {
            "marker": {
             "pattern": {
              "fillmode": "overlay",
              "size": 10,
              "solidity": 0.2
             }
            },
            "type": "histogram"
           }
          ],
          "histogram2d": [
           {
            "colorbar": {
             "outlinewidth": 0,
             "ticks": ""
            },
            "colorscale": [
             [
              0,
              "#0d0887"
             ],
             [
              0.1111111111111111,
              "#46039f"
             ],
             [
              0.2222222222222222,
              "#7201a8"
             ],
             [
              0.3333333333333333,
              "#9c179e"
             ],
             [
              0.4444444444444444,
              "#bd3786"
             ],
             [
              0.5555555555555556,
              "#d8576b"
             ],
             [
              0.6666666666666666,
              "#ed7953"
             ],
             [
              0.7777777777777778,
              "#fb9f3a"
             ],
             [
              0.8888888888888888,
              "#fdca26"
             ],
             [
              1,
              "#f0f921"
             ]
            ],
            "type": "histogram2d"
           }
          ],
          "histogram2dcontour": [
           {
            "colorbar": {
             "outlinewidth": 0,
             "ticks": ""
            },
            "colorscale": [
             [
              0,
              "#0d0887"
             ],
             [
              0.1111111111111111,
              "#46039f"
             ],
             [
              0.2222222222222222,
              "#7201a8"
             ],
             [
              0.3333333333333333,
              "#9c179e"
             ],
             [
              0.4444444444444444,
              "#bd3786"
             ],
             [
              0.5555555555555556,
              "#d8576b"
             ],
             [
              0.6666666666666666,
              "#ed7953"
             ],
             [
              0.7777777777777778,
              "#fb9f3a"
             ],
             [
              0.8888888888888888,
              "#fdca26"
             ],
             [
              1,
              "#f0f921"
             ]
            ],
            "type": "histogram2dcontour"
           }
          ],
          "mesh3d": [
           {
            "colorbar": {
             "outlinewidth": 0,
             "ticks": ""
            },
            "type": "mesh3d"
           }
          ],
          "parcoords": [
           {
            "line": {
             "colorbar": {
              "outlinewidth": 0,
              "ticks": ""
             }
            },
            "type": "parcoords"
           }
          ],
          "pie": [
           {
            "automargin": true,
            "type": "pie"
           }
          ],
          "scatter": [
           {
            "fillpattern": {
             "fillmode": "overlay",
             "size": 10,
             "solidity": 0.2
            },
            "type": "scatter"
           }
          ],
          "scatter3d": [
           {
            "line": {
             "colorbar": {
              "outlinewidth": 0,
              "ticks": ""
             }
            },
            "marker": {
             "colorbar": {
              "outlinewidth": 0,
              "ticks": ""
             }
            },
            "type": "scatter3d"
           }
          ],
          "scattercarpet": [
           {
            "marker": {
             "colorbar": {
              "outlinewidth": 0,
              "ticks": ""
             }
            },
            "type": "scattercarpet"
           }
          ],
          "scattergeo": [
           {
            "marker": {
             "colorbar": {
              "outlinewidth": 0,
              "ticks": ""
             }
            },
            "type": "scattergeo"
           }
          ],
          "scattergl": [
           {
            "marker": {
             "colorbar": {
              "outlinewidth": 0,
              "ticks": ""
             }
            },
            "type": "scattergl"
           }
          ],
          "scattermapbox": [
           {
            "marker": {
             "colorbar": {
              "outlinewidth": 0,
              "ticks": ""
             }
            },
            "type": "scattermapbox"
           }
          ],
          "scatterpolar": [
           {
            "marker": {
             "colorbar": {
              "outlinewidth": 0,
              "ticks": ""
             }
            },
            "type": "scatterpolar"
           }
          ],
          "scatterpolargl": [
           {
            "marker": {
             "colorbar": {
              "outlinewidth": 0,
              "ticks": ""
             }
            },
            "type": "scatterpolargl"
           }
          ],
          "scatterternary": [
           {
            "marker": {
             "colorbar": {
              "outlinewidth": 0,
              "ticks": ""
             }
            },
            "type": "scatterternary"
           }
          ],
          "surface": [
           {
            "colorbar": {
             "outlinewidth": 0,
             "ticks": ""
            },
            "colorscale": [
             [
              0,
              "#0d0887"
             ],
             [
              0.1111111111111111,
              "#46039f"
             ],
             [
              0.2222222222222222,
              "#7201a8"
             ],
             [
              0.3333333333333333,
              "#9c179e"
             ],
             [
              0.4444444444444444,
              "#bd3786"
             ],
             [
              0.5555555555555556,
              "#d8576b"
             ],
             [
              0.6666666666666666,
              "#ed7953"
             ],
             [
              0.7777777777777778,
              "#fb9f3a"
             ],
             [
              0.8888888888888888,
              "#fdca26"
             ],
             [
              1,
              "#f0f921"
             ]
            ],
            "type": "surface"
           }
          ],
          "table": [
           {
            "cells": {
             "fill": {
              "color": "#EBF0F8"
             },
             "line": {
              "color": "white"
             }
            },
            "header": {
             "fill": {
              "color": "#C8D4E3"
             },
             "line": {
              "color": "white"
             }
            },
            "type": "table"
           }
          ]
         },
         "layout": {
          "annotationdefaults": {
           "arrowcolor": "#2a3f5f",
           "arrowhead": 0,
           "arrowwidth": 1
          },
          "autotypenumbers": "strict",
          "coloraxis": {
           "colorbar": {
            "outlinewidth": 0,
            "ticks": ""
           }
          },
          "colorscale": {
           "diverging": [
            [
             0,
             "#8e0152"
            ],
            [
             0.1,
             "#c51b7d"
            ],
            [
             0.2,
             "#de77ae"
            ],
            [
             0.3,
             "#f1b6da"
            ],
            [
             0.4,
             "#fde0ef"
            ],
            [
             0.5,
             "#f7f7f7"
            ],
            [
             0.6,
             "#e6f5d0"
            ],
            [
             0.7,
             "#b8e186"
            ],
            [
             0.8,
             "#7fbc41"
            ],
            [
             0.9,
             "#4d9221"
            ],
            [
             1,
             "#276419"
            ]
           ],
           "sequential": [
            [
             0,
             "#0d0887"
            ],
            [
             0.1111111111111111,
             "#46039f"
            ],
            [
             0.2222222222222222,
             "#7201a8"
            ],
            [
             0.3333333333333333,
             "#9c179e"
            ],
            [
             0.4444444444444444,
             "#bd3786"
            ],
            [
             0.5555555555555556,
             "#d8576b"
            ],
            [
             0.6666666666666666,
             "#ed7953"
            ],
            [
             0.7777777777777778,
             "#fb9f3a"
            ],
            [
             0.8888888888888888,
             "#fdca26"
            ],
            [
             1,
             "#f0f921"
            ]
           ],
           "sequentialminus": [
            [
             0,
             "#0d0887"
            ],
            [
             0.1111111111111111,
             "#46039f"
            ],
            [
             0.2222222222222222,
             "#7201a8"
            ],
            [
             0.3333333333333333,
             "#9c179e"
            ],
            [
             0.4444444444444444,
             "#bd3786"
            ],
            [
             0.5555555555555556,
             "#d8576b"
            ],
            [
             0.6666666666666666,
             "#ed7953"
            ],
            [
             0.7777777777777778,
             "#fb9f3a"
            ],
            [
             0.8888888888888888,
             "#fdca26"
            ],
            [
             1,
             "#f0f921"
            ]
           ]
          },
          "colorway": [
           "#636efa",
           "#EF553B",
           "#00cc96",
           "#ab63fa",
           "#FFA15A",
           "#19d3f3",
           "#FF6692",
           "#B6E880",
           "#FF97FF",
           "#FECB52"
          ],
          "font": {
           "color": "#2a3f5f"
          },
          "geo": {
           "bgcolor": "white",
           "lakecolor": "white",
           "landcolor": "#E5ECF6",
           "showlakes": true,
           "showland": true,
           "subunitcolor": "white"
          },
          "hoverlabel": {
           "align": "left"
          },
          "hovermode": "closest",
          "mapbox": {
           "style": "light"
          },
          "paper_bgcolor": "white",
          "plot_bgcolor": "#E5ECF6",
          "polar": {
           "angularaxis": {
            "gridcolor": "white",
            "linecolor": "white",
            "ticks": ""
           },
           "bgcolor": "#E5ECF6",
           "radialaxis": {
            "gridcolor": "white",
            "linecolor": "white",
            "ticks": ""
           }
          },
          "scene": {
           "xaxis": {
            "backgroundcolor": "#E5ECF6",
            "gridcolor": "white",
            "gridwidth": 2,
            "linecolor": "white",
            "showbackground": true,
            "ticks": "",
            "zerolinecolor": "white"
           },
           "yaxis": {
            "backgroundcolor": "#E5ECF6",
            "gridcolor": "white",
            "gridwidth": 2,
            "linecolor": "white",
            "showbackground": true,
            "ticks": "",
            "zerolinecolor": "white"
           },
           "zaxis": {
            "backgroundcolor": "#E5ECF6",
            "gridcolor": "white",
            "gridwidth": 2,
            "linecolor": "white",
            "showbackground": true,
            "ticks": "",
            "zerolinecolor": "white"
           }
          },
          "shapedefaults": {
           "line": {
            "color": "#2a3f5f"
           }
          },
          "ternary": {
           "aaxis": {
            "gridcolor": "white",
            "linecolor": "white",
            "ticks": ""
           },
           "baxis": {
            "gridcolor": "white",
            "linecolor": "white",
            "ticks": ""
           },
           "bgcolor": "#E5ECF6",
           "caxis": {
            "gridcolor": "white",
            "linecolor": "white",
            "ticks": ""
           }
          },
          "title": {
           "x": 0.05
          },
          "xaxis": {
           "automargin": true,
           "gridcolor": "white",
           "linecolor": "white",
           "ticks": "",
           "title": {
            "standoff": 15
           },
           "zerolinecolor": "white",
           "zerolinewidth": 2
          },
          "yaxis": {
           "automargin": true,
           "gridcolor": "white",
           "linecolor": "white",
           "ticks": "",
           "title": {
            "standoff": 15
           },
           "zerolinecolor": "white",
           "zerolinewidth": 2
          }
         }
        },
        "width": 1000,
        "xaxis": {
         "anchor": "y",
         "domain": [
          0,
          0.6666666666666666
         ],
         "range": [
          -1,
          3
         ],
         "showticklabels": false
        },
        "xaxis10": {
         "anchor": "y10",
         "domain": [
          0,
          0.3333333333333333
         ]
        },
        "xaxis11": {
         "anchor": "y11",
         "domain": [
          0.3333333333333333,
          0.6666666666666666
         ]
        },
        "xaxis12": {
         "anchor": "y12",
         "domain": [
          0.6666666666666666,
          1
         ]
        },
        "xaxis13": {
         "anchor": "y13",
         "domain": [
          0,
          0.3333333333333333
         ]
        },
        "xaxis14": {
         "anchor": "y14",
         "domain": [
          0.3333333333333333,
          0.6666666666666666
         ]
        },
        "xaxis15": {
         "anchor": "y15",
         "domain": [
          0.6666666666666666,
          1
         ]
        },
        "xaxis2": {
         "anchor": "y2",
         "domain": [
          0.3333333333333333,
          0.6666666666666666
         ]
        },
        "xaxis3": {
         "anchor": "y3",
         "domain": [
          0.6666666666666666,
          1
         ],
         "range": [
          0,
          1
         ],
         "showticklabels": false
        },
        "xaxis4": {
         "anchor": "y4",
         "domain": [
          0,
          0.6666666666666666
         ],
         "range": [
          -1,
          3
         ],
         "tickfont": {
          "size": 16
         },
         "ticktext": [
          "-100%",
          "-50%",
          "No<br>reduction",
          "50%",
          "100%",
          "150%",
          "200%",
          "250%"
         ],
         "tickvals": [
          -1,
          -0.5,
          0,
          0.5,
          1,
          1.5,
          2,
          2.5
         ]
        },
        "xaxis5": {
         "anchor": "y5",
         "domain": [
          0.3333333333333333,
          0.6666666666666666
         ]
        },
        "xaxis6": {
         "anchor": "y6",
         "domain": [
          0.6666666666666666,
          1
         ],
         "range": [
          0,
          1
         ],
         "showticklabels": false
        },
        "xaxis7": {
         "anchor": "y7",
         "domain": [
          0,
          0.3333333333333333
         ]
        },
        "xaxis8": {
         "anchor": "y8",
         "domain": [
          0.3333333333333333,
          0.6666666666666666
         ]
        },
        "xaxis9": {
         "anchor": "y9",
         "domain": [
          0.6666666666666666,
          1
         ]
        },
        "yaxis": {
         "anchor": "x",
         "domain": [
          0.816,
          1
         ],
         "range": [
          0.5,
          1.5
         ],
         "showticklabels": false
        },
        "yaxis10": {
         "anchor": "x10",
         "domain": [
          0.204,
          0.388
         ]
        },
        "yaxis11": {
         "anchor": "x11",
         "domain": [
          0.204,
          0.388
         ]
        },
        "yaxis12": {
         "anchor": "x12",
         "domain": [
          0.204,
          0.388
         ]
        },
        "yaxis13": {
         "anchor": "x13",
         "domain": [
          0,
          0.184
         ]
        },
        "yaxis14": {
         "anchor": "x14",
         "domain": [
          0,
          0.184
         ]
        },
        "yaxis15": {
         "anchor": "x15",
         "domain": [
          0,
          0.184
         ]
        },
        "yaxis2": {
         "anchor": "x2",
         "domain": [
          0.816,
          1
         ]
        },
        "yaxis3": {
         "anchor": "x3",
         "domain": [
          0.816,
          1
         ],
         "range": [
          0,
          1
         ],
         "showticklabels": false
        },
        "yaxis4": {
         "anchor": "x4",
         "domain": [
          0,
          0.796
         ],
         "range": [
          -0.5,
          15
         ],
         "showticklabels": false
        },
        "yaxis5": {
         "anchor": "x5",
         "domain": [
          0.6120000000000001,
          0.796
         ]
        },
        "yaxis6": {
         "anchor": "x6",
         "domain": [
          0,
          0.796
         ],
         "range": [
          -0.5,
          15
         ],
         "showticklabels": false
        },
        "yaxis7": {
         "anchor": "x7",
         "domain": [
          0.408,
          0.592
         ]
        },
        "yaxis8": {
         "anchor": "x8",
         "domain": [
          0.408,
          0.592
         ]
        },
        "yaxis9": {
         "anchor": "x9",
         "domain": [
          0.408,
          0.592
         ]
        }
       }
      }
     },
     "metadata": {},
     "output_type": "display_data"
    }
   ],
   "source": [
    "fig = make_subplots(rows=5, cols=3,\n",
    "                    specs=[[{'colspan':2}, {}, {}],\n",
    "                           [{'rowspan': 4, 'colspan':2}, {}, {'rowspan': 4}],\n",
    "                           [{}, {}, {}],\n",
    "                           [{}, {}, {}],\n",
    "                           [{}, {}, {}]],\n",
    "                    horizontal_spacing = 0., vertical_spacing=0.02)\n",
    "\n",
    "fig.update_layout(height=1000, width=1000)\n",
    "fs=20\n",
    "fig['layout'].update(\n",
    "    annotations=[dict(x=0.05, y=1.1, text='<b>NDC<br>2030', xref='paper', yref='paper', showarrow=False, font=dict(color='black', size=18)),\n",
    "                 dict(x=0.17, y=1.1, text='<b>Cost<br>optimal', xref='paper', yref='paper', showarrow=False, font=dict(color='saddlebrown', size=18)),\n",
    "                 dict(x=0.45, y=1.1, text=\"<b>Fair targets<br>according to<br><span style='color: purple;'>ECPC</span>, \"\n",
    "                                            \"<span style='color: goldenrod;'>AP</span> and \"\n",
    "                                            \"<span style='color: steelblue;'>PCC</span>\",\n",
    "                                            xref='paper', yref='paper', showarrow=False, font=dict(color='black', size=18)),\n",
    "                #  dict(x=0.01, y=0.98, text='<b>ECPC', xref='paper', yref='paper', showarrow=False, font=dict(color='purple', size=fs)),\n",
    "                dict(x=-0.05, y=0.94, text='<b>Example<br>country', xref='paper', yref='paper', align = 'left',showarrow=False, font=dict(color='black', size=16)),\n",
    "                #  dict(x=0.01, y=0.87, text='<b>PCC', xref='paper', yref='paper', showarrow=False, font=dict(color='steelblue', size=fs)),\n",
    "\n",
    "                 dict(x=0.76, y=1.1, text='<b>Fund<br>domestic<br>mitigation', xref='paper', yref='paper', align='center', showarrow=False, font=dict(color='grey', size=18)),\n",
    "                 dict(x=0.88, y=1.1, text='<b>Receive<br>finance', xref='paper', yref='paper', showarrow=False, align='center', font=dict(color='forestgreen', size=18)),\n",
    "                 dict(x=1.01, y=1.1, text='<b>Provide<br>finance', xref='paper', yref='paper', showarrow=False, align='center', font=dict(color='tomato', size=18)),\n",
    "                 dict(x=0.75, y=1.01, text='(Gt CO<sub>2</sub>e)', xref='paper', yref='paper', align='center', showarrow=False, font=dict(color='grey', size=15)),\n",
    "                 dict(x=0.88, y=1.01, text='(Gt CO<sub>2</sub>e)', xref='paper', yref='paper', showarrow=False, align='center', font=dict(color='forestgreen', size=15)),\n",
    "                 dict(x=1.01, y=1.01, text='(Gt CO<sub>2</sub>e)', xref='paper', yref='paper', showarrow=False, align='center', font=dict(color='tomato', size=15)),\n",
    "                 dict(x=0.25, y=-0.08, text='Emissions reductions by 2035 w.r.t. 2015', xref='paper', yref='paper', xanchor='center', showarrow=False, font=dict(color='black', size=15)),\n",
    "                 ])\n",
    "\n",
    "for i in range(3):\n",
    "    fig.add_shape(\n",
    "        type=\"line\",\n",
    "        x0=[0.08, 0.22, 0.45][i], x1=[0.11, 0.19, 0.5][i],  # Line spans horizontally across the paper\n",
    "        y0=[1.04, 1.04, 1.01][i], y1=[0.99, 0.99, 0.99][i],  # Line fixed at y=5 in subplot data coordinates\n",
    "        xref=\"paper\",  # Reference x-coordinates relative to the paper\n",
    "        yref=\"paper\",     # Reference y-axis of the first subplot\n",
    "        line=dict(color=\"black\", width=2)  # Line style\n",
    "    )\n",
    "\n",
    "\n",
    "# ============ #\n",
    "# Panel (a) Explainer\n",
    "# ============ #\n",
    "\n",
    "reg = 'SAU'\n",
    "ndc_estimate, reductions_i, costopt_i = data(reg)\n",
    "reductions_i[1] = -0.1\n",
    "reductions_i[0] = -0.5\n",
    "\n",
    "fig.add_shape(\n",
    "    type=\"line\",\n",
    "    col=1, row=1,\n",
    "    x0=ndc_estimate, x1=ndc_estimate,\n",
    "    y0=1 + -wd, y1=1 + wd,\n",
    "    name='NDC',\n",
    "    legendgroup=2,\n",
    "    showlegend=False,\n",
    "    line=dict(color=\"black\", width=5, dash='dot')\n",
    ")\n",
    "for i in range(3):\n",
    "    fig.add_shape(\n",
    "        type=\"line\",\n",
    "        col=1, row=1,\n",
    "        x0=reductions_i[i], x1=reductions_i[i],\n",
    "        y0=1 + -wd*0.3 + [-wd*0.7, 0, wd*0.7][i], y1=1 + wd*0.3+ [-wd*0.7, 0, wd*0.7][i],\n",
    "        name=['Per capita convergence', 'Ability to pay', 'Equal cumulative per capita'][i],\n",
    "        legendgroup=2,\n",
    "        showlegend=False,\n",
    "        line=dict(color=[\"steelblue\", 'goldenrod', 'purple'][i], width=5)\n",
    "    )\n",
    "areas(fig, ndc_estimate, reductions_i, costopt_i, 1, 1)\n",
    "fig.add_shape(\n",
    "    type=\"line\",\n",
    "    col=1, row=1,\n",
    "    x0=costopt_i, x1=costopt_i,\n",
    "    y0=-wd + 1, y1=wd + 1,\n",
    "    name='Cost optimal',\n",
    "    legendgroup=2,\n",
    "    showlegend=False,\n",
    "    line=dict(color=\"saddlebrown\", width=5)\n",
    ")\n",
    "\n",
    "fig.add_shape(\n",
    "    col=1, row=1,\n",
    "    type=\"line\",\n",
    "    x0=0, x1=0,\n",
    "    y0=0.5, y1=2,\n",
    "    line=dict(color=\"black\",  dash='dash',width=3)\n",
    ")\n",
    "fig.update_yaxes(row=1, col=1, range=(0.5, 1.5), showticklabels=False)\n",
    "\n",
    "fig.update_layout(\n",
    "    plot_bgcolor='white',  # Background of the plot area\n",
    "    paper_bgcolor='white',  # Background of the entire figure\n",
    "    barmode='group',  # Ensures the bars are grouped\n",
    ")\n",
    "fig.update_xaxes(row=1, col=1, range=(-1, 3), showticklabels=False)\n",
    "                #  tickfont=dict(size=16),\n",
    "                #     tickvals=[-1, -0.5, 0, 0.5, 1, 1.5, 2, 2.5],\n",
    "                #     ticktext=['-100%', '-50%', 'No<br>reduction', '50%', '100%', '150%', '200%', '250%'])\n",
    "\n",
    "# Annotation\n",
    "for i in range(3):\n",
    "    fig.add_annotation(text=[\"1.0\", \"0\", \"4.0\"][i], x=[0.1, 0.5, 0.9][i], y=0.8, showarrow=False, row=1, col=3, font=dict(size=17, color=['grey', 'forestgreen', 'tomato'][i]))\n",
    "    fig.add_annotation(text=[\"0.5\", \"0.5\", \"0\"][i], x=[0.1, 0.5, 0.9][i], y=0.5, showarrow=False, row=1, col=3, font=dict(size=17, color=['grey', 'forestgreen', 'tomato'][i]))\n",
    "    fig.add_annotation(text=[\"0\", \"1.0\", \"0\"][i], x=[0.1, 0.5, 0.9][i], y=0.2, showarrow=False, row=1, col=3, font=dict(size=17, color=['grey', 'forestgreen', 'tomato'][i]))\n",
    "fig.update_xaxes(row=1, col=3, range=(0, 1), showticklabels=False)\n",
    "fig.update_yaxes(row=1, col=3, range=(0, 1), showticklabels=False)\n",
    "\n",
    "# ============ #\n",
    "# Actual data\n",
    "# ============ #\n",
    "\n",
    "for reg_i, reg in enumerate(['USA', 'BRA', 'EU', 'SAU', 'RUS', 'JPN', 'ZAF', 'IDN', 'MEX', 'CHN', 'IND', 'NGA'][::-1]):\n",
    "    ndc_estimate, reductions_i, costopt_i = data(reg)\n",
    "\n",
    "    # WHISKERS\n",
    "    c0 = float(costopt_0.sel(Region=reg).Value)\n",
    "    c1 = float(costopt_1.sel(Region=reg).Value)\n",
    "    for c in [c0, c1]:\n",
    "        fig.add_shape(type=\"line\", col=1, row=2, showlegend=False,\n",
    "                    line=dict(color=\"grey\", width=2),\n",
    "                    x0=c, x1=c,\n",
    "                    y0=-wd + reg_i*1.25 , y1=wd + reg_i*1.25,\n",
    "        )\n",
    "    fig.add_shape(type=\"line\", col=1, row=2, showlegend=False,\n",
    "                line=dict(color=\"grey\", width=2),\n",
    "                x0=c0, x1=c1,\n",
    "                y0= reg_i*1.25 +wd/5, y1= reg_i*1.25+wd/5,\n",
    "    )\n",
    "    for i in range(3):\n",
    "        f0 = float(red_0.sel(Region=reg)[['PCC', 'AP', 'ECPC'][i]])\n",
    "        f1 = float(red_1.sel(Region=reg)[['PCC', 'AP', 'ECPC'][i]])\n",
    "        for f in [f0, f1]:\n",
    "            fig.add_shape(type=\"line\", col=1, row=2, showlegend=False,\n",
    "                        line=dict(color=\"grey\", width=2),\n",
    "                        x0=f, x1=f,\n",
    "                        y0=reg_i*1.25 + -wd*0.3 + [-wd*0.7, 0, wd*0.7][i], y1=reg_i*1.25 + wd*0.3+ [-wd*0.7, 0, wd*0.7][i],)\n",
    "        fig.add_shape(type=\"line\", col=1, row=2, showlegend=False,\n",
    "                    line=dict(color=\"grey\", width=2),\n",
    "                    x0=f0, x1=f1,\n",
    "                    y0=reg_i*1.25 + [-wd*0.7, 0, wd*0.7][i], y1=reg_i*1.25 + [-wd*0.7, 0, wd*0.7][i],)\n",
    "\n",
    "\n",
    "    # ACTUAL DATA\n",
    "    fig.add_shape(\n",
    "        type=\"line\",\n",
    "        col=1, row=2,\n",
    "        x0=ndc_estimate, x1=ndc_estimate,\n",
    "        y0=reg_i*1.25 + -wd, y1=reg_i*1.25 + wd,\n",
    "        name='NDC',\n",
    "        legendgroup=2,\n",
    "        showlegend=False,\n",
    "        line=dict(color=\"black\", width=5, dash='dot')\n",
    "    )\n",
    "\n",
    "    if np.abs(ndc_estimate - costopt_i) < 0.0425:\n",
    "        costopt_plot = ndc_estimate - 0.0425\n",
    "    else: costopt_plot = costopt_i\n",
    "    fig.add_shape(\n",
    "        type=\"line\",\n",
    "        col=1, row=2,\n",
    "        x0=costopt_plot, x1=costopt_plot,\n",
    "        y0=-wd + reg_i*1.25 , y1=wd + reg_i*1.25,\n",
    "        name='Cost optimal',\n",
    "        legendgroup=2,\n",
    "        showlegend=False,\n",
    "        line=dict(color=\"saddlebrown\", width=5)\n",
    "    )\n",
    "\n",
    "    for i in range(3):\n",
    "        fig.add_shape(\n",
    "            type=\"line\",\n",
    "            col=1, row=2,\n",
    "            x0=reductions_i[i], x1=reductions_i[i],\n",
    "            y0=reg_i*1.25 + -wd*0.3 + [-wd*0.7, 0, wd*0.7][i], y1=reg_i*1.25 + wd*0.3+ [-wd*0.7, 0, wd*0.7][i],\n",
    "            name=['Per capita convergence', 'Ability to pay', 'Equal cumulative per capita'][i],\n",
    "            legendgroup=2,\n",
    "            showlegend=False,\n",
    "            line=dict(color=[\"steelblue\", 'goldenrod', 'purple'][i], width=5)\n",
    "        )\n",
    "\n",
    "    areas(fig, ndc_estimate, reductions_i, costopt_i, 2, 1, yref=reg_i*1.25)\n",
    "    cty = all_regions_names[all_regions_iso==reg][0].replace(' ', '<br>')\n",
    "    if reg == 'USA': cty = 'United<br>States'\n",
    "    fig.add_annotation(x=-0.05, y=reg_i*1.25, align = 'left',\n",
    "                       text=cty, xref='paper', yref='y4', showarrow=False, font=dict(color='black', size=16))\n",
    "    \n",
    "    domestic = np.array(grey.sel(Region=reg)[['PCC', 'AP', 'ECPC']].to_array())\n",
    "    receivepay = np.array(green.sel(Region=reg)[['PCC', 'AP', 'ECPC']].to_array())\n",
    "    domoverspend = np.array(grey_super.sel(Region=reg)[['PCC', 'AP', 'ECPC']].to_array())\n",
    "    payabroad = np.array(red.sel(Region=reg)[['PCC', 'AP', 'ECPC']].to_array()) - domoverspend # Some payments are done 'domestically' if NDC reductions > CO\n",
    "    \n",
    "    d0, d1 = (np.min(domestic)/1e3, np.max(domestic)/1e3)\n",
    "    r0, r1 = (np.min(receivepay)/1e3, np.max(receivepay)/1e3)\n",
    "    p0, p1 = (np.min(payabroad)/1e3, np.max(payabroad)/1e3)\n",
    "    o0, o1 = (np.min(domoverspend)/1e3, np.max(domoverspend)/1e3)\n",
    "\n",
    "    if p0 == 0: p0 = int(0)\n",
    "    if r0 == 0: r0 = int(0)\n",
    "    if d0 == 0: d0 = int(0)\n",
    "    if o0 == 0: o0 = int(0)\n",
    "\n",
    "    s_d = f\"{d0:.1f}-{d1:.1f}\"\n",
    "    s_r = f\"{r0:.1f}-{r1:.1f}\"\n",
    "    s_p = f\"{p0:.1f}-{p1:.1f}\"\n",
    "    s_o = f\"{o0:.1f}-{o1:.1f}\"\n",
    "\n",
    "    if d0 == d1:\n",
    "        if d0 != 0:\n",
    "            s_d = f\"{d0:.1f}\"\n",
    "        else:\n",
    "            s_d = \"0\"\n",
    "    if r0 == r1:\n",
    "        if r0 != 0:\n",
    "            s_r = f\"{r0:.1f}\"\n",
    "        else:\n",
    "            s_r = \"0\"\n",
    "    if p0 == p1:\n",
    "        if p0 != 0:\n",
    "            s_p = f\"{p0:.1f}\"\n",
    "        else:\n",
    "            s_p = \"0\"\n",
    "    if o0 == o1:\n",
    "        if o0 != 0:\n",
    "            s_o = f\"{o0:.1f}\"\n",
    "        else:\n",
    "            s_o = \"0\"\n",
    "\n",
    "    stringy = [s_d, s_r, s_p, s_o]\n",
    "    for i in range(3):\n",
    "        fig.add_annotation(text=stringy[i], x=[0.1, 0.5, 0.9][i], y=reg_i*1.25, showarrow=False, row=2, col=3, font=dict(size=17, color=['grey', 'forestgreen', 'tomato'][i]))\n",
    "\n",
    "        \n",
    "\n",
    "fig.update_xaxes(row=2, col=3, range=(0, 1), showticklabels=False)\n",
    "fig.update_yaxes(row=2, col=3, range=(-0.5, 15), showticklabels=False)\n",
    "\n",
    "fig.add_shape(\n",
    "    col=1, row=2,\n",
    "    type=\"line\",\n",
    "    x0=0, x1=0,\n",
    "    y0=-1e3, y1=1e3,\n",
    "    line=dict(color=\"black\",  dash='dash',width=3)\n",
    ")\n",
    "fig.update_xaxes(row=2, col=1, range=(-1, 3), tickfont=dict(size=16),\n",
    "                    tickvals=[-1, -0.5, 0, 0.5, 1, 1.5, 2, 2.5],\n",
    "                    ticktext=['-100%', '-50%', 'No<br>reduction', '50%', '100%', '150%', '200%', '250%'])\n",
    "fig.update_yaxes(row=2, col=1, range=(-0.5, 15\n",
    "                                      ), showticklabels=False)\n",
    "\n",
    "fig.write_image(\"K:/Code/effort-sharing/Figures/Presentations/ECEMFevent/Figure_2035.png\", scale=5) # THINK ABOUT THE CHOICE ON < NDC FAIR ALLOCATIONS\n",
    "fig.show()"
   ]
  },
  {
   "cell_type": "code",
   "execution_count": 50,
   "metadata": {},
   "outputs": [],
   "source": [
    "#xr_dataread.GHG_hist.to_dataframe().to_csv(\"X:/user/dekkerm/Data/Historical_Emissions_UitdraaiJones.csv\")"
   ]
  }
 ],
 "metadata": {
  "kernelspec": {
   "display_name": "Python 3",
   "language": "python",
   "name": "python3"
  },
  "language_info": {
   "codemirror_mode": {
    "name": "ipython",
    "version": 3
   },
   "file_extension": ".py",
   "mimetype": "text/x-python",
   "name": "python",
   "nbconvert_exporter": "python",
   "pygments_lexer": "ipython3",
   "version": "3.12.5"
  },
  "orig_nbformat": 4
 },
 "nbformat": 4,
 "nbformat_minor": 2
}
