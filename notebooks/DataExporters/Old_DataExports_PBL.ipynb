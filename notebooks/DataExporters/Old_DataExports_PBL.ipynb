{
 "cells": [
  {
   "cell_type": "markdown",
   "metadata": {},
   "source": [
    "## Preambule"
   ]
  },
  {
   "cell_type": "code",
   "execution_count": 1,
   "metadata": {},
   "outputs": [],
   "source": [
    "import xarray as xr\n",
    "import numpy as np\n",
    "import matplotlib.pyplot as plt\n",
    "import pandas as pd"
   ]
  },
  {
   "cell_type": "code",
   "execution_count": 2,
   "metadata": {},
   "outputs": [],
   "source": [
    "path_to_save = \"K:/ECEMF/T5.2/Exports_for_figures/\""
   ]
  },
  {
   "cell_type": "markdown",
   "metadata": {},
   "source": [
    "## Read in general data"
   ]
  },
  {
   "cell_type": "code",
   "execution_count": 3,
   "metadata": {},
   "outputs": [],
   "source": [
    "xr_2030 = xr.open_dataset(\"K:/ECEMF/T5.2/PBL/xr_alloc_2030.nc\").load()\n",
    "xr_2040 = xr.open_dataset(\"K:/ECEMF/T5.2/PBL/xr_alloc_2040.nc\").load()\n",
    "xr_dataread = xr.open_dataset(\"K:/ECEMF/T5.2/PBL/xr_dataread.nc\").load()\n",
    "xr_nld = xr.open_dataset(\"K:/ECEMF/T5.2/Allocations/PBL/xr_alloc_NLD.nc\").load()\n",
    "xr_usa = xr.open_dataset(\"K:/ECEMF/T5.2/Allocations/PBL/xr_alloc_USA.nc\").load()\n",
    "xr_engage = xr.open_dataset(\"K:/ECEMF/T5.2/xr_policyscen.nc\").load()\n",
    "xr_engage_co2 = xr.open_dataset(\"K:/ECEMF/T5.2/xr_policyscen_co2.nc\").load()"
   ]
  },
  {
   "cell_type": "code",
   "execution_count": 4,
   "metadata": {},
   "outputs": [],
   "source": [
    "rules = ['GF', 'PC', 'PCC', 'AP', 'ECPC', 'GDR', 'PCB', 'PCB_lin']"
   ]
  },
  {
   "cell_type": "markdown",
   "metadata": {},
   "source": [
    "## Exports"
   ]
  },
  {
   "cell_type": "code",
   "execution_count": 5,
   "metadata": {},
   "outputs": [],
   "source": [
    "standard_settings = {}\n",
    "median_settings = {\"NonCO2red\": 0.5, \"Convergence_year\": 2050, \"Discount_factor\": 0, \"Historical_startyear\": 1990, \"Capability_threshold\": 'Th', \"RCI_weight\": \"Half\", \"Scenario\": \"SSP2\"}"
   ]
  },
  {
   "cell_type": "markdown",
   "metadata": {},
   "source": [
    "#### Schema 1 (general infographic)"
   ]
  },
  {
   "cell_type": "code",
   "execution_count": 6,
   "metadata": {},
   "outputs": [],
   "source": [
    "emis_1990 = float(xr_dataread.GHG_hist.sel(Region='NLD', Time=1990))\n",
    "dict_schema_1_h = {}\n",
    "list_var = list(np.array(xr_dataread.GHG_hist.sel(Region='NLD', Time=np.arange(1990, 2021.5))))\n",
    "list_time = list(np.arange(1990, 2021.5))\n",
    "dict_schema_1_h['Time'] = list_time\n",
    "dict_schema_1_h['GHG_historical'] = list_var\n",
    "dict_schema_1_h['Red_wrt_1990'] = (emis_1990-np.array(list_var))/emis_1990\n",
    "\n",
    "df_schema_1_h = pd.DataFrame(dict_schema_1_h)\n",
    "df_schema_1_h.to_excel(\"K:/ECEMF/T5.2/Exports_for_figures/data_sch1_hist.xlsx\", index=False)"
   ]
  },
  {
   "cell_type": "code",
   "execution_count": 7,
   "metadata": {},
   "outputs": [],
   "source": [
    "emis_2021 = float(xr_dataread.GHG_hist.sel(Region='NLD', Time=2021))\n",
    "emis_2030_high = 123\n",
    "emis_2030_low = 97\n",
    "time = np.arange(2021, 2031)\n",
    "interp_high = np.interp(time, [2021, 2030], [emis_2021, emis_2030_high])\n",
    "interp_low = np.interp(time, [2021, 2030], [emis_2021, emis_2030_low])"
   ]
  },
  {
   "cell_type": "code",
   "execution_count": 8,
   "metadata": {},
   "outputs": [],
   "source": [
    "dict_schema_1_kev = {}\n",
    "list_time = list(np.arange(2021, 2031))\n",
    "dict_schema_1_kev['Time'] = list_time\n",
    "dict_schema_1_kev['GHG_kev_high'] = interp_high\n",
    "dict_schema_1_kev['GHG_kev_low'] = interp_low\n",
    "\n",
    "dict_schema_1_kev['GHG_kev_high_red_wrt_1990'] = (emis_1990-interp_high)/emis_1990\n",
    "dict_schema_1_kev['GHG_kev_low_red_wrt_1990'] = (emis_1990-interp_low)/emis_1990\n",
    "\n",
    "df_schema_1_kev = pd.DataFrame(dict_schema_1_kev)\n",
    "df_schema_1_kev.to_excel(\"K:/ECEMF/T5.2/Exports_for_figures/data_sch1_kev.xlsx\", index=False)"
   ]
  },
  {
   "cell_type": "code",
   "execution_count": 9,
   "metadata": {},
   "outputs": [],
   "source": [
    "dict_schema_1_effortsharing = {}\n",
    "dict_schema_1_effortsharing['Fairness_15_GHG'] = np.array(xr_nld.sel(Temperature=1.56, Time=2040, Timing='Immediate', NegEmis=0.3, Risk=0.5, **median_settings)[rules].to_array())\n",
    "dict_schema_1_effortsharing['Fairness_20_GHG'] = np.array(xr_nld.sel(Time=2040, Temperature=2.0, Timing='Immediate', Risk=0.33, NegEmis=0.6, **median_settings)[rules].to_array())\n",
    "dict_schema_1_effortsharing['Fairness_15_red_1990'] = (emis_1990-np.array(xr_nld.sel(Time=2040, Temperature=1.56, Timing='Immediate', NegEmis=0.3, Risk=0.33, **median_settings)[rules].to_array()))/emis_1990\n",
    "dict_schema_1_effortsharing['Fairness_20_red_1990'] = (emis_1990-np.array(xr_nld.sel(Time=2040, Temperature=2, Timing='Immediate', Risk=0.33, NegEmis=0.6, **median_settings)[rules].to_array()))/emis_1990\n",
    "dict_schema_1_effortsharing['Allocation'] = rules\n",
    "\n",
    "df_schema_1_effortsharing = pd.DataFrame(dict_schema_1_effortsharing)\n",
    "df_schema_1_effortsharing.to_excel(\"K:/ECEMF/T5.2/Exports_for_figures/data_sch1_es.xlsx\", index=False)"
   ]
  },
  {
   "cell_type": "markdown",
   "metadata": {},
   "source": [
    "#### Schema 2 (outline of report)"
   ]
  },
  {
   "cell_type": "code",
   "execution_count": 10,
   "metadata": {},
   "outputs": [],
   "source": [
    "emis_1990 = float(xr_dataread.GHG_hist.sel(Region='EARTH', Time=1990))\n",
    "dict_schema_2_h = {}\n",
    "list_var = list(np.array(xr_dataread.GHG_hist.sel(Region='EARTH', Time=np.arange(1990, 2021.5))))\n",
    "list_time = list(np.arange(1990, 2021.5))\n",
    "\n",
    "dict_schema_2_h['Time'] = list_time\n",
    "dict_schema_2_h['GHG_historical_globe'] = list_var\n",
    "\n",
    "df_schema_2_h = pd.DataFrame(dict_schema_2_h)\n",
    "df_schema_2_h.to_excel(\"K:/ECEMF/T5.2/Exports_for_figures/data_sch2_hist.xlsx\", index=False)"
   ]
  },
  {
   "cell_type": "code",
   "execution_count": 11,
   "metadata": {},
   "outputs": [],
   "source": [
    "emis_1990 = float(xr_dataread.GHG_hist.sel(Region='EARTH', Time=1990))\n",
    "dict_schema_2_h = {}\n",
    "list_time = list(np.arange(2021, 2101))\n",
    "list_var_15 = list(np.array(xr_dataread.GHG_globe.sel(NegEmis=0.4, NonCO2red=0.5, Temperature=1.5, Risk=0.5, Timing='Immediate', Time=np.arange(2021, 2101))))\n",
    "list_var_20 = list(np.array(xr_dataread.GHG_globe.sel(NegEmis=0.4, NonCO2red=0.5, Temperature=2.0, Risk=0.5, Timing='Immediate', Time=np.arange(2021, 2101))))\n",
    "list_var_23 = list(np.array(xr_dataread.GHG_globe.sel(NegEmis=0.4, NonCO2red=0.5, Temperature=2.3, Risk=0.5, Timing='Immediate', Time=np.arange(2021, 2101))))\n",
    "\n",
    "dict_schema_2_h['Time'] = list_time\n",
    "dict_schema_2_h['GHG_projection_15'] = list_var_15\n",
    "dict_schema_2_h['GHG_projection_20'] = list_var_20\n",
    "dict_schema_2_h['GHG_projection_23'] = list_var_23\n",
    "\n",
    "df_schema_2_h = pd.DataFrame(dict_schema_2_h)\n",
    "df_schema_2_h.to_excel(\"K:/ECEMF/T5.2/Exports_for_figures/data_sch2_proj.xlsx\", index=False)"
   ]
  },
  {
   "cell_type": "markdown",
   "metadata": {},
   "source": [
    "#### Figure 2.2 (global pathways)"
   ]
  },
  {
   "cell_type": "code",
   "execution_count": 12,
   "metadata": {},
   "outputs": [],
   "source": [
    "emis_1990 = float(xr_dataread.GHG_hist.sel(Region='EARTH', Time=1990))\n",
    "dict_schema_2_h = {}\n",
    "list_time = list(np.arange(2021, 2101))\n",
    "list_ghg_15 = list(np.array(xr_dataread.GHG_globe.sel(NegEmis=0.3, NonCO2red=0.5, Temperature=1.56, Risk=0.5, Timing='Immediate', Time=np.arange(2021, 2101))))\n",
    "list_ghg_20 = list(np.array(xr_dataread.GHG_globe.sel(NegEmis=0.6, NonCO2red=0.5, Temperature=2.0, Risk=0.33, Timing='Immediate', Time=np.arange(2021, 2101))))\n",
    "list_co2_15 = list(np.array(xr_dataread.CO2_globe.sel(NegEmis=0.3, NonCO2red=0.5, Temperature=1.56, Risk=0.5, Timing='Immediate', Time=np.arange(2021, 2101))))\n",
    "list_co2_20 = list(np.array(xr_dataread.CO2_globe.sel(NegEmis=0.6, NonCO2red=0.5, Temperature=2.0, Risk=0.33, Timing='Immediate', Time=np.arange(2021, 2101))))\n",
    "\n",
    "dict_schema_2_h['Time'] = list_time\n",
    "\n",
    "dict_schema_2_h['GHG_15_low'] = list(np.array(xr_dataread.GHG_globe.sel(Temperature=1.56, Risk=0.5, NegEmis=[0.2, 0.3, 0.4], Time=np.arange(2021, 2101)).min(dim=['NonCO2red', 'Timing', 'NegEmis'])))\n",
    "dict_schema_2_h['GHG_15_med'] = list_ghg_15\n",
    "dict_schema_2_h['GHG_15_high'] = list(np.array(xr_dataread.GHG_globe.sel(Temperature=1.56, Risk=0.5, NegEmis=[0.2, 0.3, 0.4], Time=np.arange(2021, 2101)).max(dim=['NonCO2red', 'Timing', 'NegEmis'])))\n",
    "dict_schema_2_h['CO2_15_low'] = list(np.array(xr_dataread.CO2_globe.sel(Temperature=1.56, Risk=0.5, NegEmis=[0.2, 0.3, 0.4], Time=np.arange(2021, 2101)).min(dim=['NonCO2red', 'Timing', 'NegEmis'])))\n",
    "dict_schema_2_h['CO2_15_med'] = list_co2_15\n",
    "dict_schema_2_h['CO2_15_high'] = list(np.array(xr_dataread.CO2_globe.sel(Temperature=1.56, Risk=0.5, NegEmis=[0.2, 0.3, 0.4], Time=np.arange(2021, 2101)).max(dim=['NonCO2red', 'Timing', 'NegEmis'])))\n",
    "\n",
    "dict_schema_2_h['GHG_20_low'] = list(np.array(xr_dataread.GHG_globe.sel(Temperature=2.0, Risk=0.33, NegEmis=[0.5, 0.6, 0.7], Time=np.arange(2021, 2101)).min(dim=['NonCO2red', 'Timing', 'NegEmis'])))\n",
    "dict_schema_2_h['GHG_20_med'] = list_ghg_20\n",
    "dict_schema_2_h['GHG_20_high'] = list(np.array(xr_dataread.GHG_globe.sel(Temperature=2, Risk=0.33, NegEmis=[0.5, 0.6, 0.7], Time=np.arange(2021, 2101)).max(dim=['NonCO2red', 'Timing', 'NegEmis'])))\n",
    "dict_schema_2_h['CO2_20_low'] = list(np.array(xr_dataread.CO2_globe.sel(Temperature=2, Risk=0.33, NegEmis=[0.5, 0.6, 0.7], Time=np.arange(2021, 2101)).min(dim=['NonCO2red', 'Timing', 'NegEmis'])))\n",
    "dict_schema_2_h['CO2_20_med'] = list_co2_20\n",
    "dict_schema_2_h['CO2_20_high'] = list(np.array(xr_dataread.CO2_globe.sel(Temperature=2, Risk=0.33, NegEmis=[0.5, 0.6, 0.7], Time=np.arange(2021, 2101)).max(dim=['NonCO2red', 'Timing', 'NegEmis'])))\n",
    "\n",
    "df_schema_2_h = pd.DataFrame(dict_schema_2_h)\n",
    "df_schema_2_h.to_excel(\"K:/ECEMF/T5.2/Exports_for_figures/data_fig_2_2.xlsx\", index=False)"
   ]
  },
  {
   "cell_type": "code",
   "execution_count": 13,
   "metadata": {},
   "outputs": [],
   "source": [
    "xr_use = xr_engage.CurPol.sel(Region='EARTH')\n",
    "xr_use_co2 = xr_engage_co2.CurPol.sel(Region='EARTH')\n",
    "\n",
    "dict_eng = {}\n",
    "dict_eng['Time'] = np.array(xr_use.Time)\n",
    "dict_eng['Mean_GHG'] = np.array(xr_use.mean(dim='Model'))\n",
    "dict_eng['Max_GHG'] = np.array(xr_use.max(dim='Model'))\n",
    "dict_eng['Min_GHG'] = np.array(xr_use.min(dim='Model'))\n",
    "dict_eng['Mean_CO2'] = np.array(xr_use_co2.mean(dim='Model'))\n",
    "dict_eng['Max_CO2'] = np.array(xr_use_co2.max(dim='Model'))\n",
    "dict_eng['Min_CO2'] = np.array(xr_use_co2.min(dim='Model'))\n",
    "df_global_pathways = pd.DataFrame(dict_eng)\n",
    "df_global_pathways.to_excel(\"K:/ECEMF/T5.2/Exports_for_figures/data_fig_2_2_curpol.xlsx\", index=False)"
   ]
  },
  {
   "cell_type": "code",
   "execution_count": 14,
   "metadata": {},
   "outputs": [],
   "source": [
    "xr_use = xr_dataread.GHG_hist.sel(Region='EARTH')\n",
    "xr_use_co2 = xr_dataread.CO2_hist.sel(Region='EARTH')\n",
    "\n",
    "dict_eng = {}\n",
    "dict_eng['Time'] = np.array(xr_use.Time)\n",
    "dict_eng['GHG_hist'] = np.array(xr_use)\n",
    "dict_eng['CO2_hist'] = np.array(xr_use_co2)\n",
    "df_global_pathways = pd.DataFrame(dict_eng)\n",
    "df_global_pathways.to_excel(\"K:/ECEMF/T5.2/Exports_for_figures/data_fig_2_2_hist.xlsx\", index=False)"
   ]
  },
  {
   "cell_type": "markdown",
   "metadata": {},
   "source": [
    "#### Figure 4.1 (Netherlands zoom)"
   ]
  },
  {
   "cell_type": "code",
   "execution_count": 15,
   "metadata": {},
   "outputs": [],
   "source": [
    "dict_fig_4_1 = {}\n",
    "list_rule = []\n",
    "list_med = []\n",
    "list_min = []\n",
    "list_max = []\n",
    "list_med2 = []\n",
    "list_min2 = []\n",
    "list_max2 = []\n",
    "list_time = []\n",
    "for rule_i, rule in enumerate(rules):\n",
    "    val_med = np.array(xr_nld.sel(Temperature=1.56, Risk=0.5, NegEmis=0.3, Timing='Immediate', **median_settings, **standard_settings)[rule])\n",
    "    val_min = np.array(xr_nld.sel(Temperature=1.56, Risk=0.5, NegEmis=0.3, **standard_settings).min(dim=median_settings.keys()).min(dim='Timing')[rule])\n",
    "    val_max = np.array(xr_nld.sel(Temperature=1.56, Risk=0.5, NegEmis=0.3, **standard_settings).max(dim=median_settings.keys()).max(dim='Timing')[rule])\n",
    "    val_med2 = np.array(xr_nld.sel(Temperature=2, Risk=0.33, NegEmis=0.6, Timing='Immediate', **median_settings, **standard_settings)[rule])\n",
    "    val_min2 = np.array(xr_nld.sel(Temperature=2, Risk=0.33, NegEmis=0.6, **standard_settings).min(dim=median_settings.keys()).min(dim='Timing')[rule])\n",
    "    val_max2 = np.array(xr_nld.sel(Temperature=2, Risk=0.33, NegEmis=0.6, **standard_settings).max(dim=median_settings.keys()).max(dim='Timing')[rule])\n",
    "    list_rule += [rule]*len(val_med)\n",
    "    list_med += list(val_med)\n",
    "    list_max += list(val_max)\n",
    "    list_min += list(val_min)\n",
    "    list_med2 += list(val_med2)\n",
    "    list_max2 += list(val_max2)\n",
    "    list_min2 += list(val_min2)\n",
    "    list_time += list(np.array(xr_nld.Time))\n",
    "dict_fig_4_1['Rule'] = list_rule\n",
    "dict_fig_4_1['Median_15'] = list_med\n",
    "dict_fig_4_1['Minimum_15'] = list_min\n",
    "dict_fig_4_1['Maximum_15'] = list_max\n",
    "dict_fig_4_1['Median_20'] = list_med2\n",
    "dict_fig_4_1['Minimum_20'] = list_min2\n",
    "dict_fig_4_1['Maximum_20'] = list_max2\n",
    "dict_fig_4_1['Time'] = list_time\n",
    "\n",
    "df_fig_4_1 = pd.DataFrame(dict_fig_4_1)\n",
    "df_fig_4_1.to_excel(\"K:/ECEMF/T5.2/Exports_for_figures/data_fig_4_1.xlsx\", index=False)"
   ]
  },
  {
   "cell_type": "markdown",
   "metadata": {},
   "source": [
    "#### Figure 4.2 (temperature levels on horizontal)"
   ]
  },
  {
   "cell_type": "markdown",
   "metadata": {},
   "source": [
    "(The diagonal is used to obtain specific values of NegEmis per temperature level)"
   ]
  },
  {
   "cell_type": "code",
   "execution_count": 16,
   "metadata": {},
   "outputs": [],
   "source": [
    "emis_1990 = float(xr_dataread.GHG_hist.sel(Region='NLD', Time=1990))\n",
    "\n",
    "dict_fig_4_2 = {}\n",
    "list_rule = []\n",
    "list_med = []\n",
    "list_min = []\n",
    "list_max = []\n",
    "list_temp = []\n",
    "for rule_i, rule in enumerate(rules):\n",
    "    val_med = -(np.diag(xr_nld.sel(Time=2040, Risk=0.5, Timing='Immediate', NegEmis=[0.3, 0.3, 0.4, 0.4, 0.5, 0.6, 0.6, 0.6, 0.6, 0.6, 0.6], **median_settings, **standard_settings)[rule])-emis_1990)/emis_1990  # This of course means that the 2.0 deg does not fully fit the other figures!\n",
    "    val_min = -(np.diag(xr_nld.sel(Time=2040, Risk=0.5, NonCO2red=[0.33, 0.5, 0.67], **standard_settings).min(dim=median_settings.keys())[rule].min(dim='Timing').sel(NegEmis=[0.3, 0.3, 0.4, 0.4, 0.5, 0.6, 0.6, 0.6, 0.6, 0.6, 0.6]))-emis_1990)/emis_1990\n",
    "    val_max = -(np.diag(xr_nld.sel(Time=2040, Risk=0.5, NonCO2red=[0.33, 0.5, 0.67], **standard_settings).max(dim=median_settings.keys())[rule].max(dim='Timing').sel(NegEmis=[0.3, 0.3, 0.4, 0.4, 0.5, 0.6, 0.6, 0.6, 0.6, 0.6, 0.6]))-emis_1990)/emis_1990\n",
    "    list_rule += [rule]*len(val_med)\n",
    "    list_med += list(val_med)\n",
    "    list_max += list(val_max)\n",
    "    list_min += list(val_min)\n",
    "    list_temp += list(np.array(xr_nld.Temperature))\n",
    "dict_fig_4_2['Rule'] = list_rule\n",
    "dict_fig_4_2['Median'] = list_med\n",
    "dict_fig_4_2['Minimum'] = list_min\n",
    "dict_fig_4_2['Maximum'] = list_max\n",
    "dict_fig_4_2['Temperature'] = list_temp\n",
    "\n",
    "df_fig_4_2 = pd.DataFrame(dict_fig_4_2)\n",
    "df_fig_4_2.to_excel(\"K:/ECEMF/T5.2/Exports_for_figures/data_fig_4_2.xlsx\", index=False)"
   ]
  },
  {
   "cell_type": "markdown",
   "metadata": {},
   "source": [
    "#### Figure 4.3 (global scale)"
   ]
  },
  {
   "cell_type": "code",
   "execution_count": 17,
   "metadata": {},
   "outputs": [],
   "source": [
    "emis_2021_all = xr_dataread.GHG_hist.sel(Time=2021)\n",
    "emis_1990_all = xr_dataread.GHG_hist.sel(Time=1990)\n",
    "\n",
    "red_2040_2021 = (-(xr_2040-emis_2021_all)/emis_2021_all).sel(Temperature=1.56, Risk=0.5, NegEmis=0.3, **standard_settings)\n",
    "red_2021_1990 = (-(emis_2021_all-emis_1990_all)/emis_1990_all)\n",
    "median_settings = {\"NonCO2red\": 0.5, \"Convergence_year\": 2050, \"Discount_factor\": 0, \"Historical_startyear\": 1990, \"Capability_threshold\": 'Th', \"RCI_weight\": \"Half\", \"Scenario\": \"SSP2\", \"Timing\": 'Immediate'}"
   ]
  },
  {
   "cell_type": "code",
   "execution_count": 18,
   "metadata": {},
   "outputs": [],
   "source": [
    "dict_fig_4_3 = {}\n",
    "list_rule = []\n",
    "list_med = []\n",
    "list_min = []\n",
    "list_max = []\n",
    "list_region = []\n",
    "for rule_i, rule in enumerate(rules):\n",
    "    val_med = np.array(red_2040_2021.sel(**median_settings)[rule])\n",
    "    val_min = np.array(red_2040_2021.min(dim=median_settings.keys())[rule])\n",
    "    val_max = np.array(red_2040_2021.max(dim=median_settings.keys())[rule])\n",
    "    list_rule += [rule]*len(val_med)\n",
    "    list_med += list(val_med)\n",
    "    list_max += list(val_max)\n",
    "    list_min += list(val_min)\n",
    "    list_region += list(np.array(red_2040_2021.Region))\n",
    "dict_fig_4_3['Rule'] = list_rule\n",
    "dict_fig_4_3['Median'] = list_med\n",
    "dict_fig_4_3['Minimum'] = list_min\n",
    "dict_fig_4_3['Maximum'] = list_max\n",
    "dict_fig_4_3['Region'] = list_region\n",
    "\n",
    "df_fig_4_3 = pd.DataFrame(dict_fig_4_3)\n",
    "df_fig_4_3.to_excel(\"K:/ECEMF/T5.2/Exports_for_figures/data_fig_4_3_2040red.xlsx\", index=False)"
   ]
  },
  {
   "cell_type": "code",
   "execution_count": 19,
   "metadata": {},
   "outputs": [],
   "source": [
    "dict_fig_4_3 = {}\n",
    "list_rule = []\n",
    "list_med = []\n",
    "list_region = []\n",
    "val_med = np.array(red_2021_1990)\n",
    "list_med += list(val_med)\n",
    "list_region += list(np.array(red_2021_1990.Region))\n",
    "dict_fig_4_3['GHG_wrt_1990'] = list_med\n",
    "dict_fig_4_3['Region'] = list_region\n",
    "\n",
    "df_fig_4_3 = pd.DataFrame(dict_fig_4_3)\n",
    "df_fig_4_3.to_excel(\"K:/ECEMF/T5.2/Exports_for_figures/data_fig_4_3_2021red.xlsx\", index=False)"
   ]
  },
  {
   "cell_type": "code",
   "execution_count": 29,
   "metadata": {},
   "outputs": [],
   "source": [
    "emis_2021_pc = (1e6*emis_2021_all) / (1e6*xr_dataread.Population.sel(Time=2021, Scenario='SSP2'))\n",
    "\n",
    "dict_fig_4_3 = {}\n",
    "list_rule = []\n",
    "list_med = []\n",
    "list_region = []\n",
    "val_med = np.array(emis_2021_pc)\n",
    "list_med += list(val_med)\n",
    "list_region += list(np.array(emis_2021_pc.Region))\n",
    "dict_fig_4_3['GHGpc'] = list_med\n",
    "dict_fig_4_3['Region'] = list_region\n",
    "\n",
    "df_fig_4_3 = pd.DataFrame(dict_fig_4_3)\n",
    "df_fig_4_3.to_excel(\"K:/ECEMF/T5.2/Exports_for_figures/data_fig_4_3_2021pc.xlsx\", index=False)"
   ]
  }
 ],
 "metadata": {
  "kernelspec": {
   "display_name": "Python 3",
   "language": "python",
   "name": "python3"
  },
  "language_info": {
   "codemirror_mode": {
    "name": "ipython",
    "version": 3
   },
   "file_extension": ".py",
   "mimetype": "text/x-python",
   "name": "python",
   "nbconvert_exporter": "python",
   "pygments_lexer": "ipython3",
   "version": "3.12.1"
  }
 },
 "nbformat": 4,
 "nbformat_minor": 2
}
