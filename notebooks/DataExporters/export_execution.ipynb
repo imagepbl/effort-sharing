{
 "cells": [
  {
   "cell_type": "markdown",
   "metadata": {},
   "source": [
    "## Preambule"
   ]
  },
  {
   "cell_type": "code",
   "execution_count": null,
   "metadata": {},
   "outputs": [],
   "source": [
    "import warnings\n",
    "\n",
    "import numpy as np\n",
    "import xarray as xr\n",
    "\n",
    "warnings.simplefilter(action=\"ignore\", category=FutureWarning)\n",
    "\n",
    "%load_ext autoreload\n",
    "%autoreload all"
   ]
  },
  {
   "cell_type": "markdown",
   "metadata": {},
   "source": [
    "## Run class"
   ]
  },
  {
   "cell_type": "code",
   "execution_count": null,
   "metadata": {},
   "outputs": [
    {
     "name": "stdout",
     "output_type": "stream",
     "text": [
      "# ==================================== #\n",
      "# DATAREADING class                    #\n",
      "# startyear:  2021\n",
      "# ==================================== #\n"
     ]
    }
   ],
   "source": [
    "from effortsharing.exports import dataexportcl\n",
    "\n",
    "dataexporter = dataexportcl()\n",
    "\n",
    "# Global pathways\n",
    "# dataexporter.global_all()\n",
    "# dataexporter.negative_nonlulucf_emissions()\n",
    "# dataexporter.global_default()\n",
    "\n",
    "# Input data\n",
    "# dataexporter.ndcdata()\n",
    "# dataexporter.sspdata()\n",
    "# dataexporter.emisdata()\n",
    "\n",
    "# Allocations\n",
    "# dataexporter.reduce_country_files()\n",
    "dataexporter.allocations_default()\n",
    "\n",
    "# Project-specific exports\n",
    "# dataexporter.project_COMMITTED()\n",
    "# dataexporter.project_DGIS()\n",
    "\n",
    "# Budgets\n",
    "# dataexporter.budgets_key_variables(lulucf='incl')\n",
    "# dataexporter.co2_budgets_pc()\n",
    "# dataexporter.co2_budgets_ap()\n",
    "# dataexporter.co2_budgets_ecpc()\n",
    "# dataexporter.concat_co2budgets(lulucf='incl')\n",
    "\n",
    "# Country-specific exports\n",
    "# for lulucf in ['excl', 'incl']:\n",
    "#     for adapt in ['_adapt', '']:\n",
    "#         for gas in ['CO2', 'GHG']:\n",
    "#             dataexporter.countr_to_csv('NOR', adapt=adapt, lulucf=lulucf, gas=gas)"
   ]
  },
  {
   "cell_type": "markdown",
   "metadata": {},
   "source": [
    "## Compress into ZIP folders for Zenodo"
   ]
  },
  {
   "cell_type": "markdown",
   "metadata": {},
   "source": [
    "Before running this for the first time, create new folders in the path `mydir` with the name `ZIPs` and `Allocations_GHG_incl_reduced`.\n",
    "\n",
    "To successfully run the ZIP compression, `dataexporter.reduce_country_files()` needs to be run before to create reduced country files in `Allocations_GHG_incl_reduced`."
   ]
  },
  {
   "cell_type": "code",
   "execution_count": 23,
   "metadata": {},
   "outputs": [
    {
     "name": "stderr",
     "output_type": "stream",
     "text": [
      "A subdirectory or file K:/Data/Data_effortsharing/EffortSharingExports/startyear_2021/ZIPs already exists.\n",
      "A subdirectory or file K:/Data/Data_effortsharing/EffortSharingExports/startyear_2021/Allocations_GHG_incl_reduced already exists.\n"
     ]
    }
   ],
   "source": [
    "! mkdir \"K:/Data/Data_effortsharing/EffortSharingExports/startyear_2021/ZIPs\"\n",
    "! mkdir \"K:/Data/Data_effortsharing/EffortSharingExports/startyear_2021/Allocations_GHG_incl_reduced\""
   ]
  },
  {
   "cell_type": "code",
   "execution_count": 27,
   "metadata": {},
   "outputs": [],
   "source": [
    "import zipfile\n",
    "from os.path import basename\n",
    "\n",
    "mydir = \"K:/Data/Data_effortsharing/EffortSharingExports/startyear_2021/\"\n",
    "\n",
    "# Allocations.zip\n",
    "zip = zipfile.ZipFile(mydir + \"ZIPs/\" + \"Allocations.zip\", \"w\", zipfile.ZIP_DEFLATED)\n",
    "for reg in np.array(dataexporter.xr_dataread.Region):\n",
    "    zip.write(\n",
    "        mydir + \"Allocations_GHG_incl_reduced/reduced_allocations_\" + reg + \".nc\",\n",
    "        basename(mydir + \"Allocations_GHG_incl_reduced/reduced_allocations_\" + reg + \".nc\"),\n",
    "    )\n",
    "zip.close()\n",
    "\n",
    "# DefaultAllocations.zip\n",
    "zip = zipfile.ZipFile(mydir + \"ZIPs/\" + \"DefaultAllocations.zip\", \"w\", zipfile.ZIP_DEFLATED)\n",
    "zip.write(\n",
    "    mydir + \"allocations_default_15overshoot.csv\",\n",
    "    basename(mydir + \"allocations_default_15overshoot.csv\"),\n",
    ")\n",
    "zip.write(mydir + \"allocations_default_20.csv\", basename(mydir + \"allocations_default_20.csv\"))\n",
    "zip.close()\n",
    "\n",
    "# DefaultReductions.zip\n",
    "zip = zipfile.ZipFile(mydir + \"ZIPs/\" + \"DefaultReductions.zip\", \"w\", zipfile.ZIP_DEFLATED)\n",
    "zip.write(\n",
    "    mydir + \"reductions_default_15overshoot.csv\",\n",
    "    basename(mydir + \"reductions_default_15overshoot.csv\"),\n",
    ")\n",
    "zip.write(mydir + \"reductions_default_20.csv\", basename(mydir + \"reductions_default_20.csv\"))\n",
    "zip.close()\n",
    "\n",
    "# GlobalPathways.zip\n",
    "zip = zipfile.ZipFile(mydir + \"ZIPs/\" + \"GlobalPathways.zip\", \"w\", zipfile.ZIP_DEFLATED)\n",
    "zip.write(mydir + \"emissionspathways_all.csv\", basename(mydir + \"emissionspathways_all.csv\"))\n",
    "zip.write(\n",
    "    mydir + \"emissionspathways_default.csv\", basename(mydir + \"emissionspathways_default.csv\")\n",
    ")\n",
    "zip.close()\n",
    "\n",
    "# GlobalPathways.zip\n",
    "zip = zipfile.ZipFile(mydir + \"ZIPs/\" + \"Inputdata.zip\", \"w\", zipfile.ZIP_DEFLATED)\n",
    "zip.write(mydir + \"inputdata_histemis.csv\", basename(mydir + \"inputdata_histemis.csv\"))\n",
    "zip.write(mydir + \"inputdata_ndc.csv\", basename(mydir + \"inputdata_ndc.csv\"))\n",
    "zip.write(mydir + \"inputdata_ssp.csv\", basename(mydir + \"inputdata_ssp.csv\"))\n",
    "zip.close()"
   ]
  },
  {
   "cell_type": "markdown",
   "metadata": {},
   "source": [
    "## Exports for Robiou paper"
   ]
  },
  {
   "cell_type": "code",
   "execution_count": null,
   "metadata": {},
   "outputs": [
    {
     "name": "stdout",
     "output_type": "stream",
     "text": [
      "# ==================================== #\n",
      "# DATAREADING class                    #\n",
      "# startyear:  2021\n",
      "# ==================================== #\n"
     ]
    }
   ],
   "source": [
    "from effortsharing.exports import dataexportcl\n",
    "\n",
    "dataexporter = dataexportcl()\n",
    "self = dataexporter"
   ]
  },
  {
   "cell_type": "code",
   "execution_count": 27,
   "metadata": {},
   "outputs": [],
   "source": [
    "xr_approaches = xr.open_dataset(\n",
    "    self.settings[\"paths\"][\"data\"][\"datadrive\"]\n",
    "    + \"startyear_\"\n",
    "    + str(self.settings[\"params\"][\"start_year_analysis\"])\n",
    "    + \"/\"\n",
    "    + \"xr_comb.nc\"\n",
    ").load()\n",
    "xr_approaches = xr_approaches[[\"Approach1_gdp\", \"Approach1_hdi\", \"Approach2\", \"Approach2t\"]].sel(\n",
    "    Convergence_year=2040, Time=np.arange(2020, 2101, 5)\n",
    ")\n",
    "xr_approaches = xr_approaches.drop_vars([\"Convergence_year\", \"NonCO2red\", \"NegEmis\", \"Timing\"])\n",
    "xr_warmings = xr.open_dataset(\n",
    "    self.settings[\"paths\"][\"data\"][\"datadrive\"]\n",
    "    + \"startyear_\"\n",
    "    + str(self.settings[\"params\"][\"start_year_analysis\"])\n",
    "    + \"/\"\n",
    "    + \"xr_combtemps.nc\"\n",
    ").load()\n",
    "xr_warmings = xr_warmings[[\"Approach1_gdp\", \"Approach1_hdi\", \"Approach2\", \"Approach2t\"]].sel(\n",
    "    Convergence_year=2040, Time=np.arange(2020, 2101, 5)\n",
    ")\n",
    "xr_warmings = xr_warmings.drop_vars(\n",
    "    [\"Convergence_year\", \"NonCO2red\", \"NegEmis\", \"Timing\", \"Hot_air\", \"Conditionality\"]\n",
    ")"
   ]
  },
  {
   "cell_type": "code",
   "execution_count": 38,
   "metadata": {},
   "outputs": [],
   "source": [
    "xr_approaches.to_dataframe().to_csv(\n",
    "    self.settings[\"paths\"][\"data\"][\"export\"] + \"/Paper_Robiou2025/\" + \"xr_approaches.csv\"\n",
    ")\n",
    "# xr_warmings.to_dataframe().to_csv(self.settings['paths']['data']['export'] + \"/Paper_Robiou2025/\" + \"xr_warmingalignments.csv\") # If needed; this needs to be converted to discrete C-categories first."
   ]
  }
 ],
 "metadata": {
  "kernelspec": {
   "display_name": "Python 3",
   "language": "python",
   "name": "python3"
  },
  "language_info": {
   "codemirror_mode": {
    "name": "ipython",
    "version": 3
   },
   "file_extension": ".py",
   "mimetype": "text/x-python",
   "name": "python",
   "nbconvert_exporter": "python",
   "pygments_lexer": "ipython3",
   "version": "3.12.5"
  }
 },
 "nbformat": 4,
 "nbformat_minor": 2
}
