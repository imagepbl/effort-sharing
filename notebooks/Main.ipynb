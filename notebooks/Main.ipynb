{
 "cells": [
  {
   "cell_type": "markdown",
   "metadata": {},
   "source": [
    "## Preambule"
   ]
  },
  {
   "cell_type": "code",
   "execution_count": 1,
   "metadata": {},
   "outputs": [],
   "source": [
    "import warnings\n",
    "\n",
    "import numpy as np\n",
    "from tqdm import tqdm\n",
    "\n",
    "warnings.simplefilter(action=\"ignore\", category=FutureWarning)\n",
    "\n",
    "%load_ext autoreload\n",
    "%autoreload all"
   ]
  },
  {
   "cell_type": "markdown",
   "metadata": {},
   "source": [
    "## Run classes"
   ]
  },
  {
   "cell_type": "markdown",
   "metadata": {},
   "source": [
    "Data reader class"
   ]
  },
  {
   "cell_type": "code",
   "execution_count": 16,
   "metadata": {},
   "outputs": [
    {
     "name": "stdout",
     "output_type": "stream",
     "text": [
      "- Reading unfccc country data\n",
      "- Reading GDP and population data from SSPs\n",
      "- Reading GDP and population data from SSPs\n"
     ]
    }
   ],
   "source": [
    "# from effortsharing.datareading import datareading\n",
    "from effortsharing.config import Config\n",
    "from effortsharing import datareading\n",
    "\n",
    "config = Config.from_file('config.yml')\n",
    "general = datareading.read_general(config)\n",
    "ssps = datareading.read_ssps(config, regions=general.regions)\n",
    "ssps_ref = datareading.read_ssps_refactor(config, regions=general.regions)\n",
    "# datareader.read_undata()\n",
    "# datareader.read_hdi()\n",
    "# datareader.read_historicalemis_jones()\n",
    "# datareader.read_ar6()\n",
    "# datareader.nonco2variation()\n",
    "# datareader.determine_global_nonco2_trajectories()\n",
    "# datareader.determine_global_budgets()\n",
    "# datareader.determine_global_co2_trajectories()\n",
    "# datareader.read_baseline()\n",
    "# datareader.read_ndc()\n",
    "# datareader.read_ndc_climateresource()\n",
    "# datareader.merge_xr()\n",
    "# datareader.add_country_groups()\n",
    "# datareader.save()\n",
    "# datareader.country_specific_datareaders()"
   ]
  },
  {
   "cell_type": "code",
   "execution_count": null,
   "metadata": {},
   "outputs": [
    {
     "name": "stdout",
     "output_type": "stream",
     "text": [
      "- Reading GDP and population data from SSPs\n",
      "- Reading GDP and population data from SSPs\n"
     ]
    },
    {
     "data": {
      "text/plain": [
       "[('SSP1', np.str_('ABW'), np.int64(1990)),\n",
       " ('SSP1', np.str_('ABW'), np.int64(1995)),\n",
       " ('SSP1', np.str_('ABW'), np.int64(2000)),\n",
       " ('SSP1', np.str_('ABW'), np.int64(2005)),\n",
       " ('SSP1', np.str_('ABW'), np.int64(2010)),\n",
       " ('SSP1', np.str_('ABW'), np.int64(2015)),\n",
       " ('SSP1', np.str_('AGO'), np.int64(1990)),\n",
       " ('SSP1', np.str_('AGO'), np.int64(1995)),\n",
       " ('SSP1', np.str_('AGO'), np.int64(2000)),\n",
       " ('SSP1', np.str_('AGO'), np.int64(2005)),\n",
       " ('SSP1', np.str_('AGO'), np.int64(2010)),\n",
       " ('SSP1', np.str_('AGO'), np.int64(2015)),\n",
       " ('SSP1', np.str_('ALB'), np.int64(1980)),\n",
       " ('SSP1', np.str_('ALB'), np.int64(1985)),\n",
       " ('SSP1', np.str_('ALB'), np.int64(1990)),\n",
       " ('SSP1', np.str_('ALB'), np.int64(1995)),\n",
       " ('SSP1', np.str_('ALB'), np.int64(2000)),\n",
       " ('SSP1', np.str_('ALB'), np.int64(2005)),\n",
       " ('SSP1', np.str_('ALB'), np.int64(2010)),\n",
       " ('SSP1', np.str_('ALB'), np.int64(2015)),\n",
       " ('SSP1', np.str_('ARE'), np.int64(1980)),\n",
       " ('SSP1', np.str_('ARE'), np.int64(1985)),\n",
       " ('SSP1', np.str_('ARE'), np.int64(1990)),\n",
       " ('SSP1', np.str_('ARE'), np.int64(1995)),\n",
       " ('SSP1', np.str_('ARE'), np.int64(2000)),\n",
       " ('SSP1', np.str_('ARE'), np.int64(2005)),\n",
       " ('SSP1', np.str_('ARE'), np.int64(2010)),\n",
       " ('SSP1', np.str_('ARE'), np.int64(2015)),\n",
       " ('SSP1', np.str_('ARG'), np.int64(1980)),\n",
       " ('SSP1', np.str_('ARG'), np.int64(1985)),\n",
       " ('SSP1', np.str_('ARG'), np.int64(1990)),\n",
       " ('SSP1', np.str_('ARG'), np.int64(1995)),\n",
       " ('SSP1', np.str_('ARG'), np.int64(2000)),\n",
       " ('SSP1', np.str_('ARG'), np.int64(2005)),\n",
       " ('SSP1', np.str_('ARG'), np.int64(2010)),\n",
       " ('SSP1', np.str_('ARG'), np.int64(2015)),\n",
       " ('SSP1', np.str_('ARM'), np.int64(1990)),\n",
       " ('SSP1', np.str_('ARM'), np.int64(1995)),\n",
       " ('SSP1', np.str_('ARM'), np.int64(2000)),\n",
       " ('SSP1', np.str_('ARM'), np.int64(2005)),\n",
       " ('SSP1', np.str_('ARM'), np.int64(2010)),\n",
       " ('SSP1', np.str_('ARM'), np.int64(2015)),\n",
       " ('SSP1', np.str_('ATG'), np.int64(1980)),\n",
       " ('SSP1', np.str_('ATG'), np.int64(1985)),\n",
       " ('SSP1', np.str_('ATG'), np.int64(1990)),\n",
       " ('SSP1', np.str_('ATG'), np.int64(1995)),\n",
       " ('SSP1', np.str_('ATG'), np.int64(2000)),\n",
       " ('SSP1', np.str_('ATG'), np.int64(2005)),\n",
       " ('SSP1', np.str_('ATG'), np.int64(2010)),\n",
       " ('SSP1', np.str_('ATG'), np.int64(2015)),\n",
       " ('SSP1', np.str_('AUS'), np.int64(1980)),\n",
       " ('SSP1', np.str_('AUS'), np.int64(1985)),\n",
       " ('SSP1', np.str_('AUS'), np.int64(1990)),\n",
       " ('SSP1', np.str_('AUS'), np.int64(1995)),\n",
       " ('SSP1', np.str_('AUS'), np.int64(2000)),\n",
       " ('SSP1', np.str_('AUS'), np.int64(2005)),\n",
       " ('SSP1', np.str_('AUS'), np.int64(2010)),\n",
       " ('SSP1', np.str_('AUS'), np.int64(2015)),\n",
       " ('SSP1', np.str_('AUT'), np.int64(1980)),\n",
       " ('SSP1', np.str_('AUT'), np.int64(1985)),\n",
       " ('SSP1', np.str_('AUT'), np.int64(1990)),\n",
       " ('SSP1', np.str_('AUT'), np.int64(1995)),\n",
       " ('SSP1', np.str_('AUT'), np.int64(2000)),\n",
       " ('SSP1', np.str_('AUT'), np.int64(2005)),\n",
       " ('SSP1', np.str_('AUT'), np.int64(2010)),\n",
       " ('SSP1', np.str_('AUT'), np.int64(2015)),\n",
       " ('SSP1', np.str_('AZE'), np.int64(1990)),\n",
       " ('SSP1', np.str_('AZE'), np.int64(1995)),\n",
       " ('SSP1', np.str_('AZE'), np.int64(2000)),\n",
       " ('SSP1', np.str_('AZE'), np.int64(2005)),\n",
       " ('SSP1', np.str_('AZE'), np.int64(2010)),\n",
       " ('SSP1', np.str_('AZE'), np.int64(2015)),\n",
       " ('SSP1', np.str_('BDI'), np.int64(1980)),\n",
       " ('SSP1', np.str_('BDI'), np.int64(1985)),\n",
       " ('SSP1', np.str_('BDI'), np.int64(1990)),\n",
       " ('SSP1', np.str_('BDI'), np.int64(1995)),\n",
       " ('SSP1', np.str_('BDI'), np.int64(2000)),\n",
       " ('SSP1', np.str_('BDI'), np.int64(2005)),\n",
       " ('SSP1', np.str_('BDI'), np.int64(2010)),\n",
       " ('SSP1', np.str_('BDI'), np.int64(2015)),\n",
       " ('SSP1', np.str_('BEL'), np.int64(1980)),\n",
       " ('SSP1', np.str_('BEL'), np.int64(1985)),\n",
       " ('SSP1', np.str_('BEL'), np.int64(1990)),\n",
       " ('SSP1', np.str_('BEL'), np.int64(1995)),\n",
       " ('SSP1', np.str_('BEL'), np.int64(2000)),\n",
       " ('SSP1', np.str_('BEL'), np.int64(2005)),\n",
       " ('SSP1', np.str_('BEL'), np.int64(2010)),\n",
       " ('SSP1', np.str_('BEL'), np.int64(2015)),\n",
       " ('SSP1', np.str_('BEN'), np.int64(1980)),\n",
       " ('SSP1', np.str_('BEN'), np.int64(1985)),\n",
       " ('SSP1', np.str_('BEN'), np.int64(1990)),\n",
       " ('SSP1', np.str_('BEN'), np.int64(1995)),\n",
       " ('SSP1', np.str_('BEN'), np.int64(2000)),\n",
       " ('SSP1', np.str_('BEN'), np.int64(2005)),\n",
       " ('SSP1', np.str_('BEN'), np.int64(2010)),\n",
       " ('SSP1', np.str_('BEN'), np.int64(2015)),\n",
       " ('SSP1', np.str_('BFA'), np.int64(1980)),\n",
       " ('SSP1', np.str_('BFA'), np.int64(1985)),\n",
       " ('SSP1', np.str_('BFA'), np.int64(1990)),\n",
       " ('SSP1', np.str_('BFA'), np.int64(1995)),\n",
       " ('SSP1', np.str_('BFA'), np.int64(2000)),\n",
       " ('SSP1', np.str_('BFA'), np.int64(2005)),\n",
       " ('SSP1', np.str_('BFA'), np.int64(2010)),\n",
       " ('SSP1', np.str_('BFA'), np.int64(2015)),\n",
       " ('SSP1', np.str_('BGD'), np.int64(1980)),\n",
       " ('SSP1', np.str_('BGD'), np.int64(1985)),\n",
       " ('SSP1', np.str_('BGD'), np.int64(1990)),\n",
       " ('SSP1', np.str_('BGD'), np.int64(1995)),\n",
       " ('SSP1', np.str_('BGD'), np.int64(2000)),\n",
       " ('SSP1', np.str_('BGD'), np.int64(2005)),\n",
       " ('SSP1', np.str_('BGD'), np.int64(2010)),\n",
       " ('SSP1', np.str_('BGD'), np.int64(2015)),\n",
       " ('SSP1', np.str_('BGR'), np.int64(1980)),\n",
       " ('SSP1', np.str_('BGR'), np.int64(1985)),\n",
       " ('SSP1', np.str_('BGR'), np.int64(1990)),\n",
       " ('SSP1', np.str_('BGR'), np.int64(1995)),\n",
       " ('SSP1', np.str_('BGR'), np.int64(2000)),\n",
       " ('SSP1', np.str_('BGR'), np.int64(2005)),\n",
       " ('SSP1', np.str_('BGR'), np.int64(2010)),\n",
       " ('SSP1', np.str_('BGR'), np.int64(2015)),\n",
       " ('SSP1', np.str_('BHR'), np.int64(1980)),\n",
       " ('SSP1', np.str_('BHR'), np.int64(1985)),\n",
       " ('SSP1', np.str_('BHR'), np.int64(1990)),\n",
       " ('SSP1', np.str_('BHR'), np.int64(1995)),\n",
       " ('SSP1', np.str_('BHR'), np.int64(2000)),\n",
       " ('SSP1', np.str_('BHR'), np.int64(2005)),\n",
       " ('SSP1', np.str_('BHR'), np.int64(2010)),\n",
       " ('SSP1', np.str_('BHR'), np.int64(2015)),\n",
       " ('SSP1', np.str_('BHS'), np.int64(1980)),\n",
       " ('SSP1', np.str_('BHS'), np.int64(1985)),\n",
       " ('SSP1', np.str_('BHS'), np.int64(1990)),\n",
       " ('SSP1', np.str_('BHS'), np.int64(1995)),\n",
       " ('SSP1', np.str_('BHS'), np.int64(2000)),\n",
       " ('SSP1', np.str_('BHS'), np.int64(2005)),\n",
       " ('SSP1', np.str_('BHS'), np.int64(2010)),\n",
       " ('SSP1', np.str_('BHS'), np.int64(2015)),\n",
       " ('SSP1', np.str_('BIH'), np.int64(1995)),\n",
       " ('SSP1', np.str_('BIH'), np.int64(2000)),\n",
       " ('SSP1', np.str_('BIH'), np.int64(2005)),\n",
       " ('SSP1', np.str_('BIH'), np.int64(2010)),\n",
       " ('SSP1', np.str_('BIH'), np.int64(2015)),\n",
       " ('SSP1', np.str_('BLR'), np.int64(1990)),\n",
       " ('SSP1', np.str_('BLR'), np.int64(1995)),\n",
       " ('SSP1', np.str_('BLR'), np.int64(2000)),\n",
       " ('SSP1', np.str_('BLR'), np.int64(2005)),\n",
       " ('SSP1', np.str_('BLR'), np.int64(2010)),\n",
       " ('SSP1', np.str_('BLR'), np.int64(2015)),\n",
       " ('SSP1', np.str_('BLZ'), np.int64(1980)),\n",
       " ('SSP1', np.str_('BLZ'), np.int64(1985)),\n",
       " ('SSP1', np.str_('BLZ'), np.int64(1990)),\n",
       " ('SSP1', np.str_('BLZ'), np.int64(1995)),\n",
       " ('SSP1', np.str_('BLZ'), np.int64(2000)),\n",
       " ('SSP1', np.str_('BLZ'), np.int64(2005)),\n",
       " ('SSP1', np.str_('BLZ'), np.int64(2010)),\n",
       " ('SSP1', np.str_('BLZ'), np.int64(2015)),\n",
       " ('SSP1', np.str_('BOL'), np.int64(1980)),\n",
       " ('SSP1', np.str_('BOL'), np.int64(1985)),\n",
       " ('SSP1', np.str_('BOL'), np.int64(1990)),\n",
       " ('SSP1', np.str_('BOL'), np.int64(1995)),\n",
       " ('SSP1', np.str_('BOL'), np.int64(2000)),\n",
       " ('SSP1', np.str_('BOL'), np.int64(2005)),\n",
       " ('SSP1', np.str_('BOL'), np.int64(2010)),\n",
       " ('SSP1', np.str_('BOL'), np.int64(2015)),\n",
       " ('SSP1', np.str_('BRA'), np.int64(1980)),\n",
       " ('SSP1', np.str_('BRA'), np.int64(1985)),\n",
       " ('SSP1', np.str_('BRA'), np.int64(1990)),\n",
       " ('SSP1', np.str_('BRA'), np.int64(1995)),\n",
       " ('SSP1', np.str_('BRA'), np.int64(2000)),\n",
       " ('SSP1', np.str_('BRA'), np.int64(2005)),\n",
       " ('SSP1', np.str_('BRA'), np.int64(2010)),\n",
       " ('SSP1', np.str_('BRA'), np.int64(2015)),\n",
       " ('SSP1', np.str_('BRB'), np.int64(1980)),\n",
       " ('SSP1', np.str_('BRB'), np.int64(1985)),\n",
       " ('SSP1', np.str_('BRB'), np.int64(1990)),\n",
       " ('SSP1', np.str_('BRB'), np.int64(1995)),\n",
       " ('SSP1', np.str_('BRB'), np.int64(2000)),\n",
       " ('SSP1', np.str_('BRB'), np.int64(2005)),\n",
       " ('SSP1', np.str_('BRB'), np.int64(2010)),\n",
       " ('SSP1', np.str_('BRB'), np.int64(2015)),\n",
       " ('SSP1', np.str_('BRN'), np.int64(1985)),\n",
       " ('SSP1', np.str_('BRN'), np.int64(1990)),\n",
       " ('SSP1', np.str_('BRN'), np.int64(1995)),\n",
       " ('SSP1', np.str_('BRN'), np.int64(2000)),\n",
       " ('SSP1', np.str_('BRN'), np.int64(2005)),\n",
       " ('SSP1', np.str_('BRN'), np.int64(2010)),\n",
       " ('SSP1', np.str_('BRN'), np.int64(2015)),\n",
       " ('SSP1', np.str_('BTN'), np.int64(1980)),\n",
       " ('SSP1', np.str_('BTN'), np.int64(1985)),\n",
       " ('SSP1', np.str_('BTN'), np.int64(1990)),\n",
       " ('SSP1', np.str_('BTN'), np.int64(1995)),\n",
       " ('SSP1', np.str_('BTN'), np.int64(2000)),\n",
       " ('SSP1', np.str_('BTN'), np.int64(2005)),\n",
       " ('SSP1', np.str_('BTN'), np.int64(2010)),\n",
       " ('SSP1', np.str_('BTN'), np.int64(2015)),\n",
       " ('SSP1', np.str_('BWA'), np.int64(1980)),\n",
       " ('SSP1', np.str_('BWA'), np.int64(1985)),\n",
       " ('SSP1', np.str_('BWA'), np.int64(1990)),\n",
       " ('SSP1', np.str_('BWA'), np.int64(1995)),\n",
       " ('SSP1', np.str_('BWA'), np.int64(2000)),\n",
       " ('SSP1', np.str_('BWA'), np.int64(2005)),\n",
       " ('SSP1', np.str_('BWA'), np.int64(2010)),\n",
       " ('SSP1', np.str_('BWA'), np.int64(2015)),\n",
       " ('SSP1', np.str_('CAF'), np.int64(1980)),\n",
       " ('SSP1', np.str_('CAF'), np.int64(1985)),\n",
       " ('SSP1', np.str_('CAF'), np.int64(1990)),\n",
       " ('SSP1', np.str_('CAF'), np.int64(1995)),\n",
       " ('SSP1', np.str_('CAF'), np.int64(2000)),\n",
       " ('SSP1', np.str_('CAF'), np.int64(2005)),\n",
       " ('SSP1', np.str_('CAF'), np.int64(2010)),\n",
       " ('SSP1', np.str_('CAF'), np.int64(2015)),\n",
       " ('SSP1', np.str_('CAN'), np.int64(1980)),\n",
       " ('SSP1', np.str_('CAN'), np.int64(1985)),\n",
       " ('SSP1', np.str_('CAN'), np.int64(1990)),\n",
       " ('SSP1', np.str_('CAN'), np.int64(1995)),\n",
       " ('SSP1', np.str_('CAN'), np.int64(2000)),\n",
       " ('SSP1', np.str_('CAN'), np.int64(2005)),\n",
       " ('SSP1', np.str_('CAN'), np.int64(2010)),\n",
       " ('SSP1', np.str_('CAN'), np.int64(2015)),\n",
       " ('SSP1', np.str_('CHE'), np.int64(1980)),\n",
       " ('SSP1', np.str_('CHE'), np.int64(1985)),\n",
       " ('SSP1', np.str_('CHE'), np.int64(1990)),\n",
       " ('SSP1', np.str_('CHE'), np.int64(1995)),\n",
       " ('SSP1', np.str_('CHE'), np.int64(2000)),\n",
       " ('SSP1', np.str_('CHE'), np.int64(2005)),\n",
       " ('SSP1', np.str_('CHE'), np.int64(2010)),\n",
       " ('SSP1', np.str_('CHE'), np.int64(2015)),\n",
       " ('SSP1', np.str_('CHL'), np.int64(1980)),\n",
       " ('SSP1', np.str_('CHL'), np.int64(1985)),\n",
       " ('SSP1', np.str_('CHL'), np.int64(1990)),\n",
       " ('SSP1', np.str_('CHL'), np.int64(1995)),\n",
       " ('SSP1', np.str_('CHL'), np.int64(2000)),\n",
       " ('SSP1', np.str_('CHL'), np.int64(2005)),\n",
       " ('SSP1', np.str_('CHL'), np.int64(2010)),\n",
       " ('SSP1', np.str_('CHL'), np.int64(2015)),\n",
       " ('SSP1', np.str_('CHN'), np.int64(1980)),\n",
       " ('SSP1', np.str_('CHN'), np.int64(1985)),\n",
       " ('SSP1', np.str_('CHN'), np.int64(1990)),\n",
       " ('SSP1', np.str_('CHN'), np.int64(1995)),\n",
       " ('SSP1', np.str_('CHN'), np.int64(2000)),\n",
       " ('SSP1', np.str_('CHN'), np.int64(2005)),\n",
       " ('SSP1', np.str_('CHN'), np.int64(2010)),\n",
       " ('SSP1', np.str_('CHN'), np.int64(2015)),\n",
       " ('SSP1', np.str_('CIV'), np.int64(1980)),\n",
       " ('SSP1', np.str_('CIV'), np.int64(1985)),\n",
       " ('SSP1', np.str_('CIV'), np.int64(1990)),\n",
       " ('SSP1', np.str_('CIV'), np.int64(1995)),\n",
       " ('SSP1', np.str_('CIV'), np.int64(2000)),\n",
       " ('SSP1', np.str_('CIV'), np.int64(2005)),\n",
       " ('SSP1', np.str_('CIV'), np.int64(2010)),\n",
       " ('SSP1', np.str_('CIV'), np.int64(2015)),\n",
       " ('SSP1', np.str_('CMR'), np.int64(1980)),\n",
       " ('SSP1', np.str_('CMR'), np.int64(1985)),\n",
       " ('SSP1', np.str_('CMR'), np.int64(1990)),\n",
       " ('SSP1', np.str_('CMR'), np.int64(1995)),\n",
       " ('SSP1', np.str_('CMR'), np.int64(2000)),\n",
       " ('SSP1', np.str_('CMR'), np.int64(2005)),\n",
       " ('SSP1', np.str_('CMR'), np.int64(2010)),\n",
       " ('SSP1', np.str_('CMR'), np.int64(2015)),\n",
       " ('SSP1', np.str_('COD'), np.int64(1990)),\n",
       " ('SSP1', np.str_('COD'), np.int64(1995)),\n",
       " ('SSP1', np.str_('COD'), np.int64(2000)),\n",
       " ('SSP1', np.str_('COD'), np.int64(2005)),\n",
       " ('SSP1', np.str_('COD'), np.int64(2010)),\n",
       " ('SSP1', np.str_('COD'), np.int64(2015)),\n",
       " ('SSP1', np.str_('COG'), np.int64(1980)),\n",
       " ('SSP1', np.str_('COG'), np.int64(1985)),\n",
       " ('SSP1', np.str_('COG'), np.int64(1990)),\n",
       " ('SSP1', np.str_('COG'), np.int64(1995)),\n",
       " ('SSP1', np.str_('COG'), np.int64(2000)),\n",
       " ('SSP1', np.str_('COG'), np.int64(2005)),\n",
       " ('SSP1', np.str_('COG'), np.int64(2010)),\n",
       " ('SSP1', np.str_('COG'), np.int64(2015)),\n",
       " ('SSP1', np.str_('COL'), np.int64(1980)),\n",
       " ('SSP1', np.str_('COL'), np.int64(1985)),\n",
       " ('SSP1', np.str_('COL'), np.int64(1990)),\n",
       " ('SSP1', np.str_('COL'), np.int64(1995)),\n",
       " ('SSP1', np.str_('COL'), np.int64(2000)),\n",
       " ('SSP1', np.str_('COL'), np.int64(2005)),\n",
       " ('SSP1', np.str_('COL'), np.int64(2010)),\n",
       " ('SSP1', np.str_('COL'), np.int64(2015)),\n",
       " ('SSP1', np.str_('COM'), np.int64(1980)),\n",
       " ('SSP1', np.str_('COM'), np.int64(1985)),\n",
       " ('SSP1', np.str_('COM'), np.int64(1990)),\n",
       " ('SSP1', np.str_('COM'), np.int64(1995)),\n",
       " ('SSP1', np.str_('COM'), np.int64(2000)),\n",
       " ('SSP1', np.str_('COM'), np.int64(2005)),\n",
       " ('SSP1', np.str_('COM'), np.int64(2010)),\n",
       " ('SSP1', np.str_('COM'), np.int64(2015)),\n",
       " ('SSP1', np.str_('CPV'), np.int64(1980)),\n",
       " ('SSP1', np.str_('CPV'), np.int64(1985)),\n",
       " ('SSP1', np.str_('CPV'), np.int64(1990)),\n",
       " ('SSP1', np.str_('CPV'), np.int64(1995)),\n",
       " ('SSP1', np.str_('CPV'), np.int64(2000)),\n",
       " ('SSP1', np.str_('CPV'), np.int64(2005)),\n",
       " ('SSP1', np.str_('CPV'), np.int64(2010)),\n",
       " ('SSP1', np.str_('CPV'), np.int64(2015)),\n",
       " ('SSP1', np.str_('CRI'), np.int64(1980)),\n",
       " ('SSP1', np.str_('CRI'), np.int64(1985)),\n",
       " ('SSP1', np.str_('CRI'), np.int64(1990)),\n",
       " ('SSP1', np.str_('CRI'), np.int64(1995)),\n",
       " ('SSP1', np.str_('CRI'), np.int64(2000)),\n",
       " ('SSP1', np.str_('CRI'), np.int64(2005)),\n",
       " ('SSP1', np.str_('CRI'), np.int64(2010)),\n",
       " ('SSP1', np.str_('CRI'), np.int64(2015)),\n",
       " ('SSP1', np.str_('CUB'), np.int64(1980)),\n",
       " ('SSP1', np.str_('CUB'), np.int64(1985)),\n",
       " ('SSP1', np.str_('CUB'), np.int64(1990)),\n",
       " ('SSP1', np.str_('CUB'), np.int64(1995)),\n",
       " ('SSP1', np.str_('CUB'), np.int64(2000)),\n",
       " ('SSP1', np.str_('CUB'), np.int64(2005)),\n",
       " ('SSP1', np.str_('CUB'), np.int64(2010)),\n",
       " ('SSP1', np.str_('CUB'), np.int64(2015)),\n",
       " ('SSP1', np.str_('CYP'), np.int64(1980)),\n",
       " ('SSP1', np.str_('CYP'), np.int64(1985)),\n",
       " ('SSP1', np.str_('CYP'), np.int64(1990)),\n",
       " ('SSP1', np.str_('CYP'), np.int64(1995)),\n",
       " ('SSP1', np.str_('CYP'), np.int64(2000)),\n",
       " ('SSP1', np.str_('CYP'), np.int64(2005)),\n",
       " ('SSP1', np.str_('CYP'), np.int64(2010)),\n",
       " ('SSP1', np.str_('CYP'), np.int64(2015)),\n",
       " ('SSP1', np.str_('CZE'), np.int64(1990)),\n",
       " ('SSP1', np.str_('CZE'), np.int64(1995)),\n",
       " ('SSP1', np.str_('CZE'), np.int64(2000)),\n",
       " ('SSP1', np.str_('CZE'), np.int64(2005)),\n",
       " ('SSP1', np.str_('CZE'), np.int64(2010)),\n",
       " ('SSP1', np.str_('CZE'), np.int64(2015)),\n",
       " ('SSP1', np.str_('DEU'), np.int64(1980)),\n",
       " ('SSP1', np.str_('DEU'), np.int64(1985)),\n",
       " ('SSP1', np.str_('DEU'), np.int64(1990)),\n",
       " ('SSP1', np.str_('DEU'), np.int64(1995)),\n",
       " ('SSP1', np.str_('DEU'), np.int64(2000)),\n",
       " ('SSP1', np.str_('DEU'), np.int64(2005)),\n",
       " ('SSP1', np.str_('DEU'), np.int64(2010)),\n",
       " ('SSP1', np.str_('DEU'), np.int64(2015)),\n",
       " ('SSP1', np.str_('DJI'), np.int64(1990)),\n",
       " ('SSP1', np.str_('DJI'), np.int64(1995)),\n",
       " ('SSP1', np.str_('DJI'), np.int64(2000)),\n",
       " ('SSP1', np.str_('DJI'), np.int64(2005)),\n",
       " ('SSP1', np.str_('DJI'), np.int64(2010)),\n",
       " ('SSP1', np.str_('DJI'), np.int64(2015)),\n",
       " ('SSP1', np.str_('DNK'), np.int64(1980)),\n",
       " ('SSP1', np.str_('DNK'), np.int64(1985)),\n",
       " ('SSP1', np.str_('DNK'), np.int64(1990)),\n",
       " ('SSP1', np.str_('DNK'), np.int64(1995)),\n",
       " ('SSP1', np.str_('DNK'), np.int64(2000)),\n",
       " ('SSP1', np.str_('DNK'), np.int64(2005)),\n",
       " ('SSP1', np.str_('DNK'), np.int64(2010)),\n",
       " ('SSP1', np.str_('DNK'), np.int64(2015)),\n",
       " ('SSP1', np.str_('DOM'), np.int64(1980)),\n",
       " ('SSP1', np.str_('DOM'), np.int64(1985)),\n",
       " ('SSP1', np.str_('DOM'), np.int64(1990)),\n",
       " ('SSP1', np.str_('DOM'), np.int64(1995)),\n",
       " ('SSP1', np.str_('DOM'), np.int64(2000)),\n",
       " ('SSP1', np.str_('DOM'), np.int64(2005)),\n",
       " ('SSP1', np.str_('DOM'), np.int64(2010)),\n",
       " ('SSP1', np.str_('DOM'), np.int64(2015)),\n",
       " ('SSP1', np.str_('DZA'), np.int64(1980)),\n",
       " ('SSP1', np.str_('DZA'), np.int64(1985)),\n",
       " ('SSP1', np.str_('DZA'), np.int64(1990)),\n",
       " ('SSP1', np.str_('DZA'), np.int64(1995)),\n",
       " ('SSP1', np.str_('DZA'), np.int64(2000)),\n",
       " ('SSP1', np.str_('DZA'), np.int64(2005)),\n",
       " ('SSP1', np.str_('DZA'), np.int64(2010)),\n",
       " ('SSP1', np.str_('DZA'), np.int64(2015)),\n",
       " ('SSP1', np.str_('EARTH'), np.int64(1980)),\n",
       " ('SSP1', np.str_('EARTH'), np.int64(1985)),\n",
       " ('SSP1', np.str_('EARTH'), np.int64(1990)),\n",
       " ('SSP1', np.str_('EARTH'), np.int64(1995)),\n",
       " ('SSP1', np.str_('EARTH'), np.int64(2000)),\n",
       " ('SSP1', np.str_('EARTH'), np.int64(2005)),\n",
       " ('SSP1', np.str_('EARTH'), np.int64(2010)),\n",
       " ('SSP1', np.str_('EARTH'), np.int64(2015)),\n",
       " ('SSP1', np.str_('ECU'), np.int64(1980)),\n",
       " ('SSP1', np.str_('ECU'), np.int64(1985)),\n",
       " ('SSP1', np.str_('ECU'), np.int64(1990)),\n",
       " ('SSP1', np.str_('ECU'), np.int64(1995)),\n",
       " ('SSP1', np.str_('ECU'), np.int64(2000)),\n",
       " ('SSP1', np.str_('ECU'), np.int64(2005)),\n",
       " ('SSP1', np.str_('ECU'), np.int64(2010)),\n",
       " ('SSP1', np.str_('ECU'), np.int64(2015)),\n",
       " ('SSP1', np.str_('EGY'), np.int64(1980)),\n",
       " ('SSP1', np.str_('EGY'), np.int64(1985)),\n",
       " ('SSP1', np.str_('EGY'), np.int64(1990)),\n",
       " ('SSP1', np.str_('EGY'), np.int64(1995)),\n",
       " ('SSP1', np.str_('EGY'), np.int64(2000)),\n",
       " ('SSP1', np.str_('EGY'), np.int64(2005)),\n",
       " ('SSP1', np.str_('EGY'), np.int64(2010)),\n",
       " ('SSP1', np.str_('EGY'), np.int64(2015)),\n",
       " ('SSP1', np.str_('ERI'), np.int64(1995)),\n",
       " ('SSP1', np.str_('ERI'), np.int64(2000)),\n",
       " ('SSP1', np.str_('ERI'), np.int64(2005)),\n",
       " ('SSP1', np.str_('ERI'), np.int64(2010)),\n",
       " ('SSP1', np.str_('ERI'), np.int64(2015)),\n",
       " ('SSP1', np.str_('ESP'), np.int64(1980)),\n",
       " ('SSP1', np.str_('ESP'), np.int64(1985)),\n",
       " ('SSP1', np.str_('ESP'), np.int64(1990)),\n",
       " ('SSP1', np.str_('ESP'), np.int64(1995)),\n",
       " ('SSP1', np.str_('ESP'), np.int64(2000)),\n",
       " ('SSP1', np.str_('ESP'), np.int64(2005)),\n",
       " ('SSP1', np.str_('ESP'), np.int64(2010)),\n",
       " ('SSP1', np.str_('ESP'), np.int64(2015)),\n",
       " ('SSP1', np.str_('EST'), np.int64(1995)),\n",
       " ('SSP1', np.str_('EST'), np.int64(2000)),\n",
       " ('SSP1', np.str_('EST'), np.int64(2005)),\n",
       " ('SSP1', np.str_('EST'), np.int64(2010)),\n",
       " ('SSP1', np.str_('EST'), np.int64(2015)),\n",
       " ('SSP1', np.str_('ETH'), np.int64(1980)),\n",
       " ('SSP1', np.str_('ETH'), np.int64(1985)),\n",
       " ('SSP1', np.str_('ETH'), np.int64(1990)),\n",
       " ('SSP1', np.str_('ETH'), np.int64(1995)),\n",
       " ('SSP1', np.str_('ETH'), np.int64(2000)),\n",
       " ('SSP1', np.str_('ETH'), np.int64(2005)),\n",
       " ('SSP1', np.str_('ETH'), np.int64(2010)),\n",
       " ('SSP1', np.str_('ETH'), np.int64(2015)),\n",
       " ('SSP1', np.str_('FIN'), np.int64(1980)),\n",
       " ('SSP1', np.str_('FIN'), np.int64(1985)),\n",
       " ('SSP1', np.str_('FIN'), np.int64(1990)),\n",
       " ('SSP1', np.str_('FIN'), np.int64(1995)),\n",
       " ('SSP1', np.str_('FIN'), np.int64(2000)),\n",
       " ('SSP1', np.str_('FIN'), np.int64(2005)),\n",
       " ('SSP1', np.str_('FIN'), np.int64(2010)),\n",
       " ('SSP1', np.str_('FIN'), np.int64(2015)),\n",
       " ('SSP1', np.str_('FJI'), np.int64(1980)),\n",
       " ('SSP1', np.str_('FJI'), np.int64(1985)),\n",
       " ('SSP1', np.str_('FJI'), np.int64(1990)),\n",
       " ('SSP1', np.str_('FJI'), np.int64(1995)),\n",
       " ('SSP1', np.str_('FJI'), np.int64(2000)),\n",
       " ('SSP1', np.str_('FJI'), np.int64(2005)),\n",
       " ('SSP1', np.str_('FJI'), np.int64(2010)),\n",
       " ('SSP1', np.str_('FJI'), np.int64(2015)),\n",
       " ('SSP1', np.str_('FRA'), np.int64(1980)),\n",
       " ('SSP1', np.str_('FRA'), np.int64(1985)),\n",
       " ('SSP1', np.str_('FRA'), np.int64(1990)),\n",
       " ('SSP1', np.str_('FRA'), np.int64(1995)),\n",
       " ('SSP1', np.str_('FRA'), np.int64(2000)),\n",
       " ('SSP1', np.str_('FRA'), np.int64(2005)),\n",
       " ('SSP1', np.str_('FRA'), np.int64(2010)),\n",
       " ('SSP1', np.str_('FRA'), np.int64(2015)),\n",
       " ('SSP1', np.str_('FSM'), np.int64(1990)),\n",
       " ('SSP1', np.str_('FSM'), np.int64(1995)),\n",
       " ('SSP1', np.str_('FSM'), np.int64(2000)),\n",
       " ('SSP1', np.str_('FSM'), np.int64(2005)),\n",
       " ('SSP1', np.str_('FSM'), np.int64(2010)),\n",
       " ('SSP1', np.str_('FSM'), np.int64(2015)),\n",
       " ('SSP1', np.str_('GAB'), np.int64(1980)),\n",
       " ('SSP1', np.str_('GAB'), np.int64(1985)),\n",
       " ('SSP1', np.str_('GAB'), np.int64(1990)),\n",
       " ('SSP1', np.str_('GAB'), np.int64(1995)),\n",
       " ('SSP1', np.str_('GAB'), np.int64(2000)),\n",
       " ('SSP1', np.str_('GAB'), np.int64(2005)),\n",
       " ('SSP1', np.str_('GAB'), np.int64(2010)),\n",
       " ('SSP1', np.str_('GAB'), np.int64(2015)),\n",
       " ('SSP1', np.str_('GBR'), np.int64(1980)),\n",
       " ('SSP1', np.str_('GBR'), np.int64(1985)),\n",
       " ('SSP1', np.str_('GBR'), np.int64(1990)),\n",
       " ('SSP1', np.str_('GBR'), np.int64(1995)),\n",
       " ('SSP1', np.str_('GBR'), np.int64(2000)),\n",
       " ('SSP1', np.str_('GBR'), np.int64(2005)),\n",
       " ('SSP1', np.str_('GBR'), np.int64(2010)),\n",
       " ('SSP1', np.str_('GBR'), np.int64(2015)),\n",
       " ('SSP1', np.str_('GEO'), np.int64(1990)),\n",
       " ('SSP1', np.str_('GEO'), np.int64(1995)),\n",
       " ('SSP1', np.str_('GEO'), np.int64(2000)),\n",
       " ('SSP1', np.str_('GEO'), np.int64(2005)),\n",
       " ('SSP1', np.str_('GEO'), np.int64(2010)),\n",
       " ('SSP1', np.str_('GEO'), np.int64(2015)),\n",
       " ('SSP1', np.str_('GHA'), np.int64(1980)),\n",
       " ('SSP1', np.str_('GHA'), np.int64(1985)),\n",
       " ('SSP1', np.str_('GHA'), np.int64(1990)),\n",
       " ('SSP1', np.str_('GHA'), np.int64(1995)),\n",
       " ('SSP1', np.str_('GHA'), np.int64(2000)),\n",
       " ('SSP1', np.str_('GHA'), np.int64(2005)),\n",
       " ('SSP1', np.str_('GHA'), np.int64(2010)),\n",
       " ('SSP1', np.str_('GHA'), np.int64(2015)),\n",
       " ('SSP1', np.str_('GIN'), np.int64(1980)),\n",
       " ('SSP1', np.str_('GIN'), np.int64(1985)),\n",
       " ('SSP1', np.str_('GIN'), np.int64(1990)),\n",
       " ('SSP1', np.str_('GIN'), np.int64(1995)),\n",
       " ('SSP1', np.str_('GIN'), np.int64(2000)),\n",
       " ('SSP1', np.str_('GIN'), np.int64(2005)),\n",
       " ('SSP1', np.str_('GIN'), np.int64(2010)),\n",
       " ('SSP1', np.str_('GIN'), np.int64(2015)),\n",
       " ('SSP1', np.str_('GMB'), np.int64(1980)),\n",
       " ('SSP1', np.str_('GMB'), np.int64(1985)),\n",
       " ('SSP1', np.str_('GMB'), np.int64(1990)),\n",
       " ('SSP1', np.str_('GMB'), np.int64(1995)),\n",
       " ('SSP1', np.str_('GMB'), np.int64(2000)),\n",
       " ('SSP1', np.str_('GMB'), np.int64(2005)),\n",
       " ('SSP1', np.str_('GMB'), np.int64(2010)),\n",
       " ('SSP1', np.str_('GMB'), np.int64(2015)),\n",
       " ('SSP1', np.str_('GNB'), np.int64(1980)),\n",
       " ('SSP1', np.str_('GNB'), np.int64(1985)),\n",
       " ('SSP1', np.str_('GNB'), np.int64(1990)),\n",
       " ('SSP1', np.str_('GNB'), np.int64(1995)),\n",
       " ('SSP1', np.str_('GNB'), np.int64(2000)),\n",
       " ('SSP1', np.str_('GNB'), np.int64(2005)),\n",
       " ('SSP1', np.str_('GNB'), np.int64(2010)),\n",
       " ('SSP1', np.str_('GNB'), np.int64(2015)),\n",
       " ('SSP1', np.str_('GNQ'), np.int64(1980)),\n",
       " ('SSP1', np.str_('GNQ'), np.int64(1985)),\n",
       " ('SSP1', np.str_('GNQ'), np.int64(1990)),\n",
       " ('SSP1', np.str_('GNQ'), np.int64(1995)),\n",
       " ('SSP1', np.str_('GNQ'), np.int64(2000)),\n",
       " ('SSP1', np.str_('GNQ'), np.int64(2005)),\n",
       " ('SSP1', np.str_('GNQ'), np.int64(2010)),\n",
       " ('SSP1', np.str_('GNQ'), np.int64(2015)),\n",
       " ('SSP1', np.str_('GRC'), np.int64(1980)),\n",
       " ('SSP1', np.str_('GRC'), np.int64(1985)),\n",
       " ('SSP1', np.str_('GRC'), np.int64(1990)),\n",
       " ('SSP1', np.str_('GRC'), np.int64(1995)),\n",
       " ('SSP1', np.str_('GRC'), np.int64(2000)),\n",
       " ('SSP1', np.str_('GRC'), np.int64(2005)),\n",
       " ('SSP1', np.str_('GRC'), np.int64(2010)),\n",
       " ('SSP1', np.str_('GRC'), np.int64(2015)),\n",
       " ('SSP1', np.str_('GRD'), np.int64(1980)),\n",
       " ('SSP1', np.str_('GRD'), np.int64(1985)),\n",
       " ('SSP1', np.str_('GRD'), np.int64(1990)),\n",
       " ('SSP1', np.str_('GRD'), np.int64(1995)),\n",
       " ('SSP1', np.str_('GRD'), np.int64(2000)),\n",
       " ('SSP1', np.str_('GRD'), np.int64(2005)),\n",
       " ('SSP1', np.str_('GRD'), np.int64(2010)),\n",
       " ('SSP1', np.str_('GRD'), np.int64(2015)),\n",
       " ('SSP1', np.str_('GTM'), np.int64(1980)),\n",
       " ('SSP1', np.str_('GTM'), np.int64(1985)),\n",
       " ('SSP1', np.str_('GTM'), np.int64(1990)),\n",
       " ('SSP1', np.str_('GTM'), np.int64(1995)),\n",
       " ('SSP1', np.str_('GTM'), np.int64(2000)),\n",
       " ('SSP1', np.str_('GTM'), np.int64(2005)),\n",
       " ('SSP1', np.str_('GTM'), np.int64(2010)),\n",
       " ('SSP1', np.str_('GTM'), np.int64(2015)),\n",
       " ('SSP1', np.str_('GUY'), np.int64(1980)),\n",
       " ('SSP1', np.str_('GUY'), np.int64(1985)),\n",
       " ('SSP1', np.str_('GUY'), np.int64(1990)),\n",
       " ('SSP1', np.str_('GUY'), np.int64(1995)),\n",
       " ('SSP1', np.str_('GUY'), np.int64(2000)),\n",
       " ('SSP1', np.str_('GUY'), np.int64(2005)),\n",
       " ('SSP1', np.str_('GUY'), np.int64(2010)),\n",
       " ('SSP1', np.str_('GUY'), np.int64(2015)),\n",
       " ('SSP1', np.str_('HKG'), np.int64(1980)),\n",
       " ('SSP1', np.str_('HKG'), np.int64(1985)),\n",
       " ('SSP1', np.str_('HKG'), np.int64(1990)),\n",
       " ('SSP1', np.str_('HKG'), np.int64(1995)),\n",
       " ('SSP1', np.str_('HKG'), np.int64(2000)),\n",
       " ('SSP1', np.str_('HKG'), np.int64(2005)),\n",
       " ('SSP1', np.str_('HKG'), np.int64(2010)),\n",
       " ('SSP1', np.str_('HKG'), np.int64(2015)),\n",
       " ('SSP1', np.str_('HND'), np.int64(1980)),\n",
       " ('SSP1', np.str_('HND'), np.int64(1985)),\n",
       " ('SSP1', np.str_('HND'), np.int64(1990)),\n",
       " ('SSP1', np.str_('HND'), np.int64(1995)),\n",
       " ('SSP1', np.str_('HND'), np.int64(2000)),\n",
       " ('SSP1', np.str_('HND'), np.int64(2005)),\n",
       " ('SSP1', np.str_('HND'), np.int64(2010)),\n",
       " ('SSP1', np.str_('HND'), np.int64(2015)),\n",
       " ('SSP1', np.str_('HRV'), np.int64(1995)),\n",
       " ('SSP1', np.str_('HRV'), np.int64(2000)),\n",
       " ('SSP1', np.str_('HRV'), np.int64(2005)),\n",
       " ('SSP1', np.str_('HRV'), np.int64(2010)),\n",
       " ('SSP1', np.str_('HRV'), np.int64(2015)),\n",
       " ('SSP1', np.str_('HTI'), np.int64(1980)),\n",
       " ('SSP1', np.str_('HTI'), np.int64(1985)),\n",
       " ('SSP1', np.str_('HTI'), np.int64(1990)),\n",
       " ('SSP1', np.str_('HTI'), np.int64(1995)),\n",
       " ('SSP1', np.str_('HTI'), np.int64(2000)),\n",
       " ('SSP1', np.str_('HTI'), np.int64(2005)),\n",
       " ('SSP1', np.str_('HTI'), np.int64(2010)),\n",
       " ('SSP1', np.str_('HTI'), np.int64(2015)),\n",
       " ('SSP1', np.str_('HUN'), np.int64(1980)),\n",
       " ('SSP1', np.str_('HUN'), np.int64(1985)),\n",
       " ('SSP1', np.str_('HUN'), np.int64(1990)),\n",
       " ('SSP1', np.str_('HUN'), np.int64(1995)),\n",
       " ('SSP1', np.str_('HUN'), np.int64(2000)),\n",
       " ('SSP1', np.str_('HUN'), np.int64(2005)),\n",
       " ('SSP1', np.str_('HUN'), np.int64(2010)),\n",
       " ('SSP1', np.str_('HUN'), np.int64(2015)),\n",
       " ('SSP1', np.str_('IDN'), np.int64(1980)),\n",
       " ('SSP1', np.str_('IDN'), np.int64(1985)),\n",
       " ('SSP1', np.str_('IDN'), np.int64(1990)),\n",
       " ('SSP1', np.str_('IDN'), np.int64(1995)),\n",
       " ('SSP1', np.str_('IDN'), np.int64(2000)),\n",
       " ('SSP1', np.str_('IDN'), np.int64(2005)),\n",
       " ('SSP1', np.str_('IDN'), np.int64(2010)),\n",
       " ('SSP1', np.str_('IDN'), np.int64(2015)),\n",
       " ('SSP1', np.str_('IND'), np.int64(1980)),\n",
       " ('SSP1', np.str_('IND'), np.int64(1985)),\n",
       " ('SSP1', np.str_('IND'), np.int64(1990)),\n",
       " ('SSP1', np.str_('IND'), np.int64(1995)),\n",
       " ('SSP1', np.str_('IND'), np.int64(2000)),\n",
       " ('SSP1', np.str_('IND'), np.int64(2005)),\n",
       " ('SSP1', np.str_('IND'), np.int64(2010)),\n",
       " ('SSP1', np.str_('IND'), np.int64(2015)),\n",
       " ('SSP1', np.str_('IRL'), np.int64(1980)),\n",
       " ('SSP1', np.str_('IRL'), np.int64(1985)),\n",
       " ('SSP1', np.str_('IRL'), np.int64(1990)),\n",
       " ('SSP1', np.str_('IRL'), np.int64(1995)),\n",
       " ('SSP1', np.str_('IRL'), np.int64(2000)),\n",
       " ('SSP1', np.str_('IRL'), np.int64(2005)),\n",
       " ('SSP1', np.str_('IRL'), np.int64(2010)),\n",
       " ('SSP1', np.str_('IRL'), np.int64(2015)),\n",
       " ('SSP1', np.str_('IRN'), np.int64(1980)),\n",
       " ('SSP1', np.str_('IRN'), np.int64(1985)),\n",
       " ('SSP1', np.str_('IRN'), np.int64(1990)),\n",
       " ('SSP1', np.str_('IRN'), np.int64(1995)),\n",
       " ('SSP1', np.str_('IRN'), np.int64(2000)),\n",
       " ('SSP1', np.str_('IRN'), np.int64(2005)),\n",
       " ('SSP1', np.str_('IRN'), np.int64(2010)),\n",
       " ('SSP1', np.str_('IRN'), np.int64(2015)),\n",
       " ('SSP1', np.str_('IRQ'), np.int64(1990)),\n",
       " ('SSP1', np.str_('IRQ'), np.int64(1995)),\n",
       " ('SSP1', np.str_('IRQ'), np.int64(2000)),\n",
       " ('SSP1', np.str_('IRQ'), np.int64(2005)),\n",
       " ('SSP1', np.str_('IRQ'), np.int64(2010)),\n",
       " ('SSP1', np.str_('IRQ'), np.int64(2015)),\n",
       " ('SSP1', np.str_('ISL'), np.int64(1980)),\n",
       " ('SSP1', np.str_('ISL'), np.int64(1985)),\n",
       " ('SSP1', np.str_('ISL'), np.int64(1990)),\n",
       " ('SSP1', np.str_('ISL'), np.int64(1995)),\n",
       " ('SSP1', np.str_('ISL'), np.int64(2000)),\n",
       " ('SSP1', np.str_('ISL'), np.int64(2005)),\n",
       " ('SSP1', np.str_('ISL'), np.int64(2010)),\n",
       " ('SSP1', np.str_('ISL'), np.int64(2015)),\n",
       " ('SSP1', np.str_('ISR'), np.int64(1980)),\n",
       " ('SSP1', np.str_('ISR'), np.int64(1985)),\n",
       " ('SSP1', np.str_('ISR'), np.int64(1990)),\n",
       " ('SSP1', np.str_('ISR'), np.int64(1995)),\n",
       " ('SSP1', np.str_('ISR'), np.int64(2000)),\n",
       " ('SSP1', np.str_('ISR'), np.int64(2005)),\n",
       " ('SSP1', np.str_('ISR'), np.int64(2010)),\n",
       " ('SSP1', np.str_('ISR'), np.int64(2015)),\n",
       " ('SSP1', np.str_('ITA'), np.int64(1980)),\n",
       " ('SSP1', np.str_('ITA'), np.int64(1985)),\n",
       " ('SSP1', np.str_('ITA'), np.int64(1990)),\n",
       " ('SSP1', np.str_('ITA'), np.int64(1995)),\n",
       " ('SSP1', np.str_('ITA'), np.int64(2000)),\n",
       " ('SSP1', np.str_('ITA'), np.int64(2005)),\n",
       " ('SSP1', np.str_('ITA'), np.int64(2010)),\n",
       " ('SSP1', np.str_('ITA'), np.int64(2015)),\n",
       " ('SSP1', np.str_('JAM'), np.int64(1980)),\n",
       " ('SSP1', np.str_('JAM'), np.int64(1985)),\n",
       " ('SSP1', np.str_('JAM'), np.int64(1990)),\n",
       " ('SSP1', np.str_('JAM'), np.int64(1995)),\n",
       " ('SSP1', np.str_('JAM'), np.int64(2000)),\n",
       " ('SSP1', np.str_('JAM'), np.int64(2005)),\n",
       " ('SSP1', np.str_('JAM'), np.int64(2010)),\n",
       " ('SSP1', np.str_('JAM'), np.int64(2015)),\n",
       " ('SSP1', np.str_('JOR'), np.int64(1980)),\n",
       " ('SSP1', np.str_('JOR'), np.int64(1985)),\n",
       " ('SSP1', np.str_('JOR'), np.int64(1990)),\n",
       " ('SSP1', np.str_('JOR'), np.int64(1995)),\n",
       " ('SSP1', np.str_('JOR'), np.int64(2000)),\n",
       " ('SSP1', np.str_('JOR'), np.int64(2005)),\n",
       " ('SSP1', np.str_('JOR'), np.int64(2010)),\n",
       " ('SSP1', np.str_('JOR'), np.int64(2015)),\n",
       " ('SSP1', np.str_('JPN'), np.int64(1980)),\n",
       " ('SSP1', np.str_('JPN'), np.int64(1985)),\n",
       " ('SSP1', np.str_('JPN'), np.int64(1990)),\n",
       " ('SSP1', np.str_('JPN'), np.int64(1995)),\n",
       " ('SSP1', np.str_('JPN'), np.int64(2000)),\n",
       " ('SSP1', np.str_('JPN'), np.int64(2005)),\n",
       " ('SSP1', np.str_('JPN'), np.int64(2010)),\n",
       " ('SSP1', np.str_('JPN'), np.int64(2015)),\n",
       " ('SSP1', np.str_('KAZ'), np.int64(1990)),\n",
       " ('SSP1', np.str_('KAZ'), np.int64(1995)),\n",
       " ('SSP1', np.str_('KAZ'), np.int64(2000)),\n",
       " ('SSP1', np.str_('KAZ'), np.int64(2005)),\n",
       " ('SSP1', np.str_('KAZ'), np.int64(2010)),\n",
       " ('SSP1', np.str_('KAZ'), np.int64(2015)),\n",
       " ('SSP1', np.str_('KEN'), np.int64(1980)),\n",
       " ('SSP1', np.str_('KEN'), np.int64(1985)),\n",
       " ('SSP1', np.str_('KEN'), np.int64(1990)),\n",
       " ('SSP1', np.str_('KEN'), np.int64(1995)),\n",
       " ('SSP1', np.str_('KEN'), np.int64(2000)),\n",
       " ('SSP1', np.str_('KEN'), np.int64(2005)),\n",
       " ('SSP1', np.str_('KEN'), np.int64(2010)),\n",
       " ('SSP1', np.str_('KEN'), np.int64(2015)),\n",
       " ('SSP1', np.str_('KGZ'), np.int64(1990)),\n",
       " ('SSP1', np.str_('KGZ'), np.int64(1995)),\n",
       " ('SSP1', np.str_('KGZ'), np.int64(2000)),\n",
       " ('SSP1', np.str_('KGZ'), np.int64(2005)),\n",
       " ('SSP1', np.str_('KGZ'), np.int64(2010)),\n",
       " ('SSP1', np.str_('KGZ'), np.int64(2015)),\n",
       " ('SSP1', np.str_('KHM'), np.int64(1990)),\n",
       " ('SSP1', np.str_('KHM'), np.int64(1995)),\n",
       " ('SSP1', np.str_('KHM'), np.int64(2000)),\n",
       " ('SSP1', np.str_('KHM'), np.int64(2005)),\n",
       " ('SSP1', np.str_('KHM'), np.int64(2010)),\n",
       " ('SSP1', np.str_('KHM'), np.int64(2015)),\n",
       " ('SSP1', np.str_('KIR'), np.int64(1980)),\n",
       " ('SSP1', np.str_('KIR'), np.int64(1985)),\n",
       " ('SSP1', np.str_('KIR'), np.int64(1990)),\n",
       " ('SSP1', np.str_('KIR'), np.int64(1995)),\n",
       " ('SSP1', np.str_('KIR'), np.int64(2000)),\n",
       " ('SSP1', np.str_('KIR'), np.int64(2005)),\n",
       " ('SSP1', np.str_('KIR'), np.int64(2010)),\n",
       " ('SSP1', np.str_('KIR'), np.int64(2015)),\n",
       " ('SSP1', np.str_('KOR'), np.int64(1980)),\n",
       " ('SSP1', np.str_('KOR'), np.int64(1985)),\n",
       " ('SSP1', np.str_('KOR'), np.int64(1990)),\n",
       " ('SSP1', np.str_('KOR'), np.int64(1995)),\n",
       " ('SSP1', np.str_('KOR'), np.int64(2000)),\n",
       " ('SSP1', np.str_('KOR'), np.int64(2005)),\n",
       " ('SSP1', np.str_('KOR'), np.int64(2010)),\n",
       " ('SSP1', np.str_('KOR'), np.int64(2015)),\n",
       " ('SSP1', np.str_('KWT'), np.int64(1980)),\n",
       " ('SSP1', np.str_('KWT'), np.int64(1985)),\n",
       " ('SSP1', np.str_('KWT'), np.int64(1990)),\n",
       " ('SSP1', np.str_('KWT'), np.int64(1995)),\n",
       " ('SSP1', np.str_('KWT'), np.int64(2000)),\n",
       " ('SSP1', np.str_('KWT'), np.int64(2005)),\n",
       " ('SSP1', np.str_('KWT'), np.int64(2010)),\n",
       " ('SSP1', np.str_('KWT'), np.int64(2015)),\n",
       " ('SSP1', np.str_('LAO'), np.int64(1980)),\n",
       " ('SSP1', np.str_('LAO'), np.int64(1985)),\n",
       " ('SSP1', np.str_('LAO'), np.int64(1990)),\n",
       " ('SSP1', np.str_('LAO'), np.int64(1995)),\n",
       " ('SSP1', np.str_('LAO'), np.int64(2000)),\n",
       " ('SSP1', np.str_('LAO'), np.int64(2005)),\n",
       " ('SSP1', np.str_('LAO'), np.int64(2010)),\n",
       " ('SSP1', np.str_('LAO'), np.int64(2015)),\n",
       " ('SSP1', np.str_('LBN'), np.int64(1980)),\n",
       " ('SSP1', np.str_('LBN'), np.int64(1985)),\n",
       " ('SSP1', np.str_('LBN'), np.int64(1990)),\n",
       " ('SSP1', np.str_('LBN'), np.int64(1995)),\n",
       " ('SSP1', np.str_('LBN'), np.int64(2000)),\n",
       " ('SSP1', np.str_('LBN'), np.int64(2005)),\n",
       " ('SSP1', np.str_('LBN'), np.int64(2010)),\n",
       " ('SSP1', np.str_('LBN'), np.int64(2015)),\n",
       " ('SSP1', np.str_('LBR'), np.int64(2000)),\n",
       " ('SSP1', np.str_('LBR'), np.int64(2005)),\n",
       " ('SSP1', np.str_('LBR'), np.int64(2010)),\n",
       " ('SSP1', np.str_('LBR'), np.int64(2015)),\n",
       " ('SSP1', np.str_('LBY'), np.int64(1980)),\n",
       " ('SSP1', np.str_('LBY'), np.int64(1985)),\n",
       " ('SSP1', np.str_('LBY'), np.int64(1990)),\n",
       " ('SSP1', np.str_('LBY'), np.int64(1995)),\n",
       " ('SSP1', np.str_('LBY'), np.int64(2000)),\n",
       " ('SSP1', np.str_('LBY'), np.int64(2005)),\n",
       " ('SSP1', np.str_('LBY'), np.int64(2010)),\n",
       " ('SSP1', np.str_('LBY'), np.int64(2015)),\n",
       " ('SSP1', np.str_('LCA'), np.int64(1980)),\n",
       " ('SSP1', np.str_('LCA'), np.int64(1985)),\n",
       " ('SSP1', np.str_('LCA'), np.int64(1990)),\n",
       " ('SSP1', np.str_('LCA'), np.int64(1995)),\n",
       " ('SSP1', np.str_('LCA'), np.int64(2000)),\n",
       " ('SSP1', np.str_('LCA'), np.int64(2005)),\n",
       " ('SSP1', np.str_('LCA'), np.int64(2010)),\n",
       " ('SSP1', np.str_('LCA'), np.int64(2015)),\n",
       " ('SSP1', np.str_('LKA'), np.int64(1980)),\n",
       " ('SSP1', np.str_('LKA'), np.int64(1985)),\n",
       " ('SSP1', np.str_('LKA'), np.int64(1990)),\n",
       " ('SSP1', np.str_('LKA'), np.int64(1995)),\n",
       " ('SSP1', np.str_('LKA'), np.int64(2000)),\n",
       " ('SSP1', np.str_('LKA'), np.int64(2005)),\n",
       " ('SSP1', np.str_('LKA'), np.int64(2010)),\n",
       " ('SSP1', np.str_('LKA'), np.int64(2015)),\n",
       " ('SSP1', np.str_('LSO'), np.int64(1980)),\n",
       " ('SSP1', np.str_('LSO'), np.int64(1985)),\n",
       " ('SSP1', np.str_('LSO'), np.int64(1990)),\n",
       " ('SSP1', np.str_('LSO'), np.int64(1995)),\n",
       " ('SSP1', np.str_('LSO'), np.int64(2000)),\n",
       " ('SSP1', np.str_('LSO'), np.int64(2005)),\n",
       " ('SSP1', np.str_('LSO'), np.int64(2010)),\n",
       " ('SSP1', np.str_('LSO'), np.int64(2015)),\n",
       " ('SSP1', np.str_('LTU'), np.int64(1995)),\n",
       " ('SSP1', np.str_('LTU'), np.int64(2000)),\n",
       " ('SSP1', np.str_('LTU'), np.int64(2005)),\n",
       " ('SSP1', np.str_('LTU'), np.int64(2010)),\n",
       " ('SSP1', np.str_('LTU'), np.int64(2015)),\n",
       " ('SSP1', np.str_('LUX'), np.int64(1980)),\n",
       " ('SSP1', np.str_('LUX'), np.int64(1985)),\n",
       " ('SSP1', np.str_('LUX'), np.int64(1990)),\n",
       " ('SSP1', np.str_('LUX'), np.int64(1995)),\n",
       " ('SSP1', np.str_('LUX'), np.int64(2000)),\n",
       " ('SSP1', np.str_('LUX'), np.int64(2005)),\n",
       " ('SSP1', np.str_('LUX'), np.int64(2010)),\n",
       " ('SSP1', np.str_('LUX'), np.int64(2015)),\n",
       " ('SSP1', np.str_('LVA'), np.int64(1995)),\n",
       " ('SSP1', np.str_('LVA'), np.int64(2000)),\n",
       " ('SSP1', np.str_('LVA'), np.int64(2005)),\n",
       " ('SSP1', np.str_('LVA'), np.int64(2010)),\n",
       " ('SSP1', np.str_('LVA'), np.int64(2015)),\n",
       " ('SSP1', np.str_('MAC'), np.int64(1990)),\n",
       " ('SSP1', np.str_('MAC'), np.int64(1995)),\n",
       " ('SSP1', np.str_('MAC'), np.int64(2000)),\n",
       " ('SSP1', np.str_('MAC'), np.int64(2005)),\n",
       " ('SSP1', np.str_('MAC'), np.int64(2010)),\n",
       " ('SSP1', np.str_('MAC'), np.int64(2015)),\n",
       " ('SSP1', np.str_('MAR'), np.int64(1980)),\n",
       " ('SSP1', np.str_('MAR'), np.int64(1985)),\n",
       " ('SSP1', np.str_('MAR'), np.int64(1990)),\n",
       " ('SSP1', np.str_('MAR'), np.int64(1995)),\n",
       " ('SSP1', np.str_('MAR'), np.int64(2000)),\n",
       " ('SSP1', np.str_('MAR'), np.int64(2005)),\n",
       " ('SSP1', np.str_('MAR'), np.int64(2010)),\n",
       " ('SSP1', np.str_('MAR'), np.int64(2015)),\n",
       " ('SSP1', np.str_('MDA'), np.int64(1995)),\n",
       " ('SSP1', np.str_('MDA'), np.int64(2000)),\n",
       " ('SSP1', np.str_('MDA'), np.int64(2005)),\n",
       " ('SSP1', np.str_('MDA'), np.int64(2010)),\n",
       " ('SSP1', np.str_('MDA'), np.int64(2015)),\n",
       " ('SSP1', np.str_('MDG'), np.int64(1980)),\n",
       " ('SSP1', np.str_('MDG'), np.int64(1985)),\n",
       " ('SSP1', np.str_('MDG'), np.int64(1990)),\n",
       " ('SSP1', np.str_('MDG'), np.int64(1995)),\n",
       " ('SSP1', np.str_('MDG'), np.int64(2000)),\n",
       " ('SSP1', np.str_('MDG'), np.int64(2005)),\n",
       " ('SSP1', np.str_('MDG'), np.int64(2010)),\n",
       " ('SSP1', np.str_('MDG'), np.int64(2015)),\n",
       " ('SSP1', np.str_('MDV'), np.int64(1980)),\n",
       " ('SSP1', np.str_('MDV'), np.int64(1985)),\n",
       " ('SSP1', np.str_('MDV'), np.int64(1990)),\n",
       " ('SSP1', np.str_('MDV'), np.int64(1995)),\n",
       " ('SSP1', np.str_('MDV'), np.int64(2000)),\n",
       " ('SSP1', np.str_('MDV'), np.int64(2005)),\n",
       " ('SSP1', np.str_('MDV'), np.int64(2010)),\n",
       " ('SSP1', np.str_('MDV'), np.int64(2015)),\n",
       " ('SSP1', np.str_('MEX'), np.int64(1980)),\n",
       " ('SSP1', np.str_('MEX'), np.int64(1985)),\n",
       " ('SSP1', np.str_('MEX'), np.int64(1990)),\n",
       " ('SSP1', np.str_('MEX'), np.int64(1995)),\n",
       " ('SSP1', np.str_('MEX'), np.int64(2000)),\n",
       " ('SSP1', np.str_('MEX'), np.int64(2005)),\n",
       " ('SSP1', np.str_('MEX'), np.int64(2010)),\n",
       " ('SSP1', np.str_('MEX'), np.int64(2015)),\n",
       " ('SSP1', np.str_('MKD'), np.int64(1990)),\n",
       " ('SSP1', np.str_('MKD'), np.int64(1995)),\n",
       " ('SSP1', np.str_('MKD'), np.int64(2000)),\n",
       " ('SSP1', np.str_('MKD'), np.int64(2005)),\n",
       " ('SSP1', np.str_('MKD'), np.int64(2010)),\n",
       " ('SSP1', np.str_('MKD'), np.int64(2015)),\n",
       " ('SSP1', np.str_('MLI'), np.int64(1980)),\n",
       " ('SSP1', np.str_('MLI'), np.int64(1985)),\n",
       " ('SSP1', np.str_('MLI'), np.int64(1990)),\n",
       " ('SSP1', np.str_('MLI'), np.int64(1995)),\n",
       " ('SSP1', np.str_('MLI'), np.int64(2000)),\n",
       " ('SSP1', np.str_('MLI'), np.int64(2005)),\n",
       " ('SSP1', np.str_('MLI'), np.int64(2010)),\n",
       " ('SSP1', np.str_('MLI'), np.int64(2015)),\n",
       " ('SSP1', np.str_('MLT'), np.int64(1980)),\n",
       " ('SSP1', np.str_('MLT'), np.int64(1985)),\n",
       " ('SSP1', np.str_('MLT'), np.int64(1990)),\n",
       " ('SSP1', np.str_('MLT'), np.int64(1995)),\n",
       " ('SSP1', np.str_('MLT'), np.int64(2000)),\n",
       " ('SSP1', np.str_('MLT'), np.int64(2005)),\n",
       " ('SSP1', np.str_('MLT'), np.int64(2010)),\n",
       " ('SSP1', np.str_('MLT'), np.int64(2015)),\n",
       " ('SSP1', np.str_('MMR'), np.int64(1990)),\n",
       " ('SSP1', np.str_('MMR'), np.int64(1995)),\n",
       " ('SSP1', np.str_('MMR'), np.int64(2000)),\n",
       " ('SSP1', np.str_('MMR'), np.int64(2005)),\n",
       " ('SSP1', np.str_('MMR'), np.int64(2010)),\n",
       " ('SSP1', np.str_('MMR'), np.int64(2015)),\n",
       " ('SSP1', np.str_('MNE'), np.int64(2000)),\n",
       " ('SSP1', np.str_('MNE'), np.int64(2005)),\n",
       " ('SSP1', np.str_('MNE'), np.int64(2010)),\n",
       " ('SSP1', np.str_('MNE'), np.int64(2015)),\n",
       " ('SSP1', np.str_('MNG'), np.int64(1980)),\n",
       " ('SSP1', np.str_('MNG'), np.int64(1985)),\n",
       " ('SSP1', np.str_('MNG'), np.int64(1990)),\n",
       " ('SSP1', np.str_('MNG'), np.int64(1995)),\n",
       " ('SSP1', np.str_('MNG'), np.int64(2000)),\n",
       " ('SSP1', np.str_('MNG'), np.int64(2005)),\n",
       " ('SSP1', np.str_('MNG'), np.int64(2010)),\n",
       " ('SSP1', np.str_('MNG'), np.int64(2015)),\n",
       " ('SSP1', np.str_('MOZ'), np.int64(1980)),\n",
       " ('SSP1', np.str_('MOZ'), np.int64(1985)),\n",
       " ('SSP1', np.str_('MOZ'), np.int64(1990)),\n",
       " ('SSP1', np.str_('MOZ'), np.int64(1995)),\n",
       " ('SSP1', np.str_('MOZ'), np.int64(2000)),\n",
       " ('SSP1', np.str_('MOZ'), np.int64(2005)),\n",
       " ('SSP1', np.str_('MOZ'), np.int64(2010)),\n",
       " ('SSP1', np.str_('MOZ'), np.int64(2015)),\n",
       " ('SSP1', np.str_('MRT'), np.int64(1990)),\n",
       " ('SSP1', np.str_('MRT'), np.int64(1995)),\n",
       " ('SSP1', np.str_('MRT'), np.int64(2000)),\n",
       " ('SSP1', np.str_('MRT'), np.int64(2005)),\n",
       " ('SSP1', np.str_('MRT'), np.int64(2010)),\n",
       " ('SSP1', np.str_('MRT'), np.int64(2015)),\n",
       " ('SSP1', np.str_('MUS'), np.int64(1980)),\n",
       " ('SSP1', np.str_('MUS'), np.int64(1985)),\n",
       " ('SSP1', np.str_('MUS'), np.int64(1990)),\n",
       " ('SSP1', np.str_('MUS'), np.int64(1995)),\n",
       " ('SSP1', np.str_('MUS'), np.int64(2000)),\n",
       " ('SSP1', np.str_('MUS'), np.int64(2005)),\n",
       " ('SSP1', np.str_('MUS'), np.int64(2010)),\n",
       " ('SSP1', np.str_('MUS'), np.int64(2015)),\n",
       " ('SSP1', np.str_('MWI'), np.int64(1980)),\n",
       " ('SSP1', np.str_('MWI'), np.int64(1985)),\n",
       " ('SSP1', np.str_('MWI'), np.int64(1990)),\n",
       " ('SSP1', np.str_('MWI'), np.int64(1995)),\n",
       " ('SSP1', np.str_('MWI'), np.int64(2000)),\n",
       " ('SSP1', np.str_('MWI'), np.int64(2005)),\n",
       " ('SSP1', np.str_('MWI'), np.int64(2010)),\n",
       " ('SSP1', np.str_('MWI'), np.int64(2015)),\n",
       " ('SSP1', np.str_('MYS'), np.int64(1980)),\n",
       " ('SSP1', np.str_('MYS'), np.int64(1985)),\n",
       " ('SSP1', np.str_('MYS'), np.int64(1990)),\n",
       " ('SSP1', np.str_('MYS'), np.int64(1995)),\n",
       " ('SSP1', np.str_('MYS'), np.int64(2000)),\n",
       " ('SSP1', np.str_('MYS'), np.int64(2005)),\n",
       " ('SSP1', np.str_('MYS'), np.int64(2010)),\n",
       " ('SSP1', np.str_('MYS'), np.int64(2015)),\n",
       " ('SSP1', np.str_('NAM'), np.int64(1990)),\n",
       " ('SSP1', np.str_('NAM'), np.int64(1995)),\n",
       " ('SSP1', np.str_('NAM'), np.int64(2000)),\n",
       " ('SSP1', np.str_('NAM'), np.int64(2005)),\n",
       " ('SSP1', np.str_('NAM'), np.int64(2010)),\n",
       " ('SSP1', np.str_('NAM'), np.int64(2015)),\n",
       " ('SSP1', np.str_('NER'), np.int64(1980)),\n",
       " ('SSP1', np.str_('NER'), np.int64(1985)),\n",
       " ('SSP1', np.str_('NER'), np.int64(1990)),\n",
       " ('SSP1', np.str_('NER'), np.int64(1995)),\n",
       " ('SSP1', np.str_('NER'), np.int64(2000)),\n",
       " ('SSP1', np.str_('NER'), np.int64(2005)),\n",
       " ('SSP1', np.str_('NER'), np.int64(2010)),\n",
       " ('SSP1', np.str_('NER'), np.int64(2015)),\n",
       " ('SSP1', np.str_('NGA'), np.int64(1990)),\n",
       " ('SSP1', np.str_('NGA'), np.int64(1995)),\n",
       " ('SSP1', np.str_('NGA'), np.int64(2000)),\n",
       " ('SSP1', np.str_('NGA'), np.int64(2005)),\n",
       " ('SSP1', np.str_('NGA'), np.int64(2010)),\n",
       " ('SSP1', np.str_('NGA'), np.int64(2015)),\n",
       " ('SSP1', np.str_('NIC'), np.int64(1990)),\n",
       " ('SSP1', np.str_('NIC'), np.int64(1995)),\n",
       " ('SSP1', np.str_('NIC'), np.int64(2000)),\n",
       " ('SSP1', np.str_('NIC'), np.int64(2005)),\n",
       " ('SSP1', np.str_('NIC'), np.int64(2010)),\n",
       " ('SSP1', np.str_('NIC'), np.int64(2015)),\n",
       " ('SSP1', np.str_('NLD'), np.int64(1980)),\n",
       " ('SSP1', np.str_('NLD'), np.int64(1985)),\n",
       " ('SSP1', np.str_('NLD'), np.int64(1990)),\n",
       " ('SSP1', np.str_('NLD'), np.int64(1995)),\n",
       " ('SSP1', np.str_('NLD'), np.int64(2000)),\n",
       " ('SSP1', np.str_('NLD'), np.int64(2005)),\n",
       " ('SSP1', np.str_('NLD'), np.int64(2010)),\n",
       " ('SSP1', np.str_('NLD'), np.int64(2015)),\n",
       " ('SSP1', np.str_('NOR'), np.int64(1980)),\n",
       " ('SSP1', np.str_('NOR'), np.int64(1985)),\n",
       " ('SSP1', np.str_('NOR'), np.int64(1990)),\n",
       " ('SSP1', np.str_('NOR'), np.int64(1995)),\n",
       " ('SSP1', np.str_('NOR'), np.int64(2000)),\n",
       " ('SSP1', np.str_('NOR'), np.int64(2005)),\n",
       " ('SSP1', np.str_('NOR'), np.int64(2010)),\n",
       " ('SSP1', np.str_('NOR'), np.int64(2015)),\n",
       " ('SSP1', np.str_('NPL'), np.int64(1980)),\n",
       " ('SSP1', np.str_('NPL'), np.int64(1985)),\n",
       " ('SSP1', np.str_('NPL'), np.int64(1990)),\n",
       " ('SSP1', np.str_('NPL'), np.int64(1995)),\n",
       " ('SSP1', np.str_('NPL'), np.int64(2000)),\n",
       " ('SSP1', np.str_('NPL'), np.int64(2005)),\n",
       " ('SSP1', np.str_('NPL'), np.int64(2010)),\n",
       " ('SSP1', np.str_('NPL'), np.int64(2015)),\n",
       " ('SSP1', np.str_('NZL'), np.int64(1980)),\n",
       " ('SSP1', np.str_('NZL'), np.int64(1985)),\n",
       " ('SSP1', np.str_('NZL'), np.int64(1990)),\n",
       " ('SSP1', np.str_('NZL'), np.int64(1995)),\n",
       " ('SSP1', np.str_('NZL'), np.int64(2000)),\n",
       " ('SSP1', np.str_('NZL'), np.int64(2005)),\n",
       " ('SSP1', np.str_('NZL'), np.int64(2010)),\n",
       " ('SSP1', np.str_('NZL'), np.int64(2015)),\n",
       " ('SSP1', np.str_('OMN'), np.int64(1980)),\n",
       " ('SSP1', np.str_('OMN'), np.int64(1985)),\n",
       " ('SSP1', np.str_('OMN'), np.int64(1990)),\n",
       " ('SSP1', np.str_('OMN'), np.int64(1995)),\n",
       " ('SSP1', np.str_('OMN'), np.int64(2000)),\n",
       " ('SSP1', np.str_('OMN'), np.int64(2005)),\n",
       " ('SSP1', np.str_('OMN'), np.int64(2010)),\n",
       " ('SSP1', np.str_('OMN'), np.int64(2015)),\n",
       " ('SSP1', np.str_('PAK'), np.int64(1980)),\n",
       " ('SSP1', np.str_('PAK'), np.int64(1985)),\n",
       " ('SSP1', np.str_('PAK'), np.int64(1990)),\n",
       " ('SSP1', np.str_('PAK'), np.int64(1995)),\n",
       " ('SSP1', np.str_('PAK'), np.int64(2000)),\n",
       " ('SSP1', np.str_('PAK'), np.int64(2005)),\n",
       " ('SSP1', np.str_('PAK'), np.int64(2010)),\n",
       " ('SSP1', np.str_('PAK'), np.int64(2015)),\n",
       " ('SSP1', np.str_('PAN'), np.int64(1980)),\n",
       " ('SSP1', np.str_('PAN'), np.int64(1985)),\n",
       " ('SSP1', np.str_('PAN'), np.int64(1990)),\n",
       " ('SSP1', np.str_('PAN'), np.int64(1995)),\n",
       " ('SSP1', np.str_('PAN'), np.int64(2000)),\n",
       " ('SSP1', np.str_('PAN'), np.int64(2005)),\n",
       " ('SSP1', np.str_('PAN'), np.int64(2010)),\n",
       " ('SSP1', np.str_('PAN'), np.int64(2015)),\n",
       " ('SSP1', np.str_('PER'), np.int64(1980)),\n",
       " ('SSP1', np.str_('PER'), np.int64(1985)),\n",
       " ('SSP1', np.str_('PER'), np.int64(1990)),\n",
       " ('SSP1', np.str_('PER'), np.int64(1995)),\n",
       " ('SSP1', np.str_('PER'), np.int64(2000)),\n",
       " ('SSP1', np.str_('PER'), np.int64(2005)),\n",
       " ('SSP1', np.str_('PER'), np.int64(2010)),\n",
       " ('SSP1', np.str_('PER'), np.int64(2015)),\n",
       " ('SSP1', np.str_('PHL'), np.int64(1980)),\n",
       " ('SSP1', np.str_('PHL'), np.int64(1985)),\n",
       " ('SSP1', np.str_('PHL'), np.int64(1990)),\n",
       " ('SSP1', np.str_('PHL'), np.int64(1995)),\n",
       " ('SSP1', np.str_('PHL'), np.int64(2000)),\n",
       " ('SSP1', np.str_('PHL'), np.int64(2005)),\n",
       " ('SSP1', np.str_('PHL'), np.int64(2010)),\n",
       " ('SSP1', np.str_('PHL'), np.int64(2015)),\n",
       " ...]"
      ]
     },
     "execution_count": 21,
     "metadata": {},
     "output_type": "execute_result"
    }
   ],
   "source": [
    "# Testing alternative implementation of read_ssps\n",
    "import numpy as np\n",
    "import xarray as xr\n",
    "\n",
    "ssps_old = datareading.read_ssps(config, regions=general.regions)\n",
    "ssps_new = datareading.read_ssps_refactor(config, regions=general.regions)\n",
    "\n",
    "# This fails:\n",
    "# xr.testing.assert_equal(ssps_new, ssps_old)\n",
    "\n",
    "# Get the elements that are not the same. \n",
    "mismatch1 = ssps_new.GDP.where(ssps_old.GDP != ssps_new.GDP)\n",
    "\n",
    "# Looks like old version has more NaNs; this yields the same mismatch as above\n",
    "old_is_nan = np.isnan(ssps_old.GDP)\n",
    "new_is_not_nan = ~np.isnan(ssps_new.GDP)\n",
    "mismatch2 = ssps_new.GDP.where((old_is_nan) & (new_is_not_nan))\n",
    "xr.testing.assert_equal(mismatch1, mismatch2)  # passes, so these are indeed the same\n",
    "\n",
    "# Inspect which entries are missing in old but present in new version\n",
    "mismatch_coords = mismatch1.stack(coords=mismatch1.dims).dropna(\"coords\")\n",
    "np.unique(mismatch_coords.Time)  # Only historical\n",
    "np.unique(mismatch_coords.Region) # Almost all (186 / 201) regions\n",
    "np.unique(mismatch_coords.Scenario)  # All scenarios\n",
    "list(zip(*[mismatch_coords[dim].values for dim in mismatch1.dims]))\n",
    "# These entries do seem to be present in excel sheet\n"
   ]
  },
  {
   "cell_type": "code",
   "execution_count": 9,
   "metadata": {},
   "outputs": [],
   "source": [
    "from effortsharing.allocation import allocation\n",
    "\n",
    "allocator = allocation(\"USA\", lulucf=\"incl\", gas=\"GHG\")\n",
    "allocator.gf()\n",
    "allocator.pc()\n",
    "allocator.pcc()\n",
    "allocator.pcb()\n",
    "allocator.ecpc()\n",
    "allocator.ap()\n",
    "allocator.gdr()\n",
    "allocator.save()"
   ]
  },
  {
   "cell_type": "markdown",
   "metadata": {},
   "source": [
    "Allocations specifically for Norway and Netherlands if you want to harmonize to national data"
   ]
  },
  {
   "cell_type": "code",
   "execution_count": null,
   "metadata": {},
   "outputs": [
    {
     "name": "stdout",
     "output_type": "stream",
     "text": [
      "NOR incl GHG xr_dataread.nc done\n",
      "NOR incl GHG xr_dataread_nor.nc done\n",
      "NOR incl CO2 xr_dataread.nc done\n",
      "NOR incl CO2 xr_dataread_nor.nc done\n",
      "NOR excl GHG xr_dataread.nc done\n",
      "NOR excl GHG xr_dataread_nor.nc done\n",
      "NOR excl CO2 xr_dataread.nc done\n",
      "NOR excl CO2 xr_dataread_nor.nc done\n"
     ]
    }
   ],
   "source": [
    "from effortsharing.allocation import allocation\n",
    "\n",
    "for lulucf in [\"incl\", \"excl\"]:\n",
    "    for gas in [\"GHG\", \"CO2\"]:\n",
    "        for dataread_file in [\n",
    "            \"xr_dataread.nc\",\n",
    "            \"xr_dataread_nor.nc\",\n",
    "        ]:  # This is only necessary if for a country a specific historical emissions profile is required beyond what is in Jones (e.g. Norway was requested)\n",
    "            allocator = allocation(\"NOR\", lulucf=lulucf, gas=gas, dataread_file=dataread_file)\n",
    "            allocator.gf()\n",
    "            allocator.pc()\n",
    "            allocator.pcc()\n",
    "            allocator.pcb()\n",
    "            allocator.ecpc()\n",
    "            allocator.ap()\n",
    "            allocator.gdr()\n",
    "            allocator.save()\n",
    "            print(\"NOR\", lulucf, gas, dataread_file, \"done\")"
   ]
  },
  {
   "cell_type": "markdown",
   "metadata": {},
   "source": [
    "Allocation class (run all 207 countries)"
   ]
  },
  {
   "cell_type": "code",
   "execution_count": null,
   "metadata": {},
   "outputs": [
    {
     "name": "stderr",
     "output_type": "stream",
     "text": [
      "100%|██████████| 207/207 [2:42:29<00:00, 47.10s/it]  \n"
     ]
    }
   ],
   "source": [
    "from effortsharing.allocation import allocation\n",
    "\n",
    "regions_iso = np.load(\n",
    "    \"K:/Data/Data_effortsharing/DataUpdate_ongoing/all_regions.npy\", allow_pickle=True\n",
    ")\n",
    "for cty in tqdm(regions_iso):\n",
    "    allocator = allocation(cty, lulucf=\"incl\", gas=\"GHG\")\n",
    "    allocator.gf()\n",
    "    allocator.pc()\n",
    "    allocator.pcc()\n",
    "    allocator.pcb()\n",
    "    allocator.ecpc()\n",
    "    allocator.ap()\n",
    "    allocator.gdr()\n",
    "    allocator.save()"
   ]
  },
  {
   "cell_type": "markdown",
   "metadata": {},
   "source": [
    "Allocation rules combining approaches (Robiou paper)"
   ]
  },
  {
   "cell_type": "code",
   "execution_count": null,
   "metadata": {},
   "outputs": [],
   "source": [
    "from effortsharing.allocation_combinedapproaches import allocation_comb\n",
    "\n",
    "allocator = allocation_comb()\n",
    "allocator.ecpc()\n",
    "allocator.pc()\n",
    "allocator.discounting_historical_emissions()\n",
    "allocator.approach1gdp()\n",
    "allocator.approach1hdi()\n",
    "allocator.approach2()\n",
    "allocator.approach2_transition()\n",
    "allocator.combine()\n",
    "# allocator.get_relation_2030emis_temp()\n",
    "allocator.determine_tempoutcomes_discrete()\n",
    "allocator.save()"
   ]
  },
  {
   "cell_type": "markdown",
   "metadata": {},
   "source": [
    "Temperature NDC-alignment metric"
   ]
  },
  {
   "cell_type": "code",
   "execution_count": null,
   "metadata": {},
   "outputs": [
    {
     "name": "stdout",
     "output_type": "stream",
     "text": [
      "# ==================================== #\n",
      "# Initializing tempaligning class        #\n",
      "# ==================================== #\n",
      "- Determine relation between 2030-emissions and temperature outcome\n",
      "- Determine temperature metric\n"
     ]
    },
    {
     "name": "stderr",
     "output_type": "stream",
     "text": [
      "100%|██████████| 6/6 [00:11<00:00,  1.96s/it]\n"
     ]
    },
    {
     "name": "stdout",
     "output_type": "stream",
     "text": [
      "- Save\n"
     ]
    }
   ],
   "source": [
    "from effortsharing.tempalign import tempaligning\n",
    "\n",
    "tempaligner = tempaligning()  # FIRST RUN AGGREGATOR FOR THIS!! (2030 alloc)\n",
    "tempaligner.get_relation_2030emis_temp()\n",
    "tempaligner.determine_tempoutcomes()\n",
    "tempaligner.save()"
   ]
  },
  {
   "cell_type": "markdown",
   "metadata": {},
   "source": [
    "Reading policy scenarios from ENGAGE"
   ]
  },
  {
   "cell_type": "code",
   "execution_count": 21,
   "metadata": {},
   "outputs": [
    {
     "name": "stdout",
     "output_type": "stream",
     "text": [
      "# ==================================== #\n",
      "# Initializing policyscenadding class  #\n",
      "# ==================================== #\n",
      "- Read ENGAGE scenarios and change region namings\n",
      "- Filter correct scenarios and convert to xarray object\n",
      "- Add to overall xrobject\n"
     ]
    }
   ],
   "source": [
    "from effortsharing.policyscens import policyscenadding\n",
    "\n",
    "policyscenner = policyscenadding()\n",
    "policyscenner.read_engage_data()\n",
    "policyscenner.filter_and_convert()\n",
    "policyscenner.add_to_xr()"
   ]
  },
  {
   "cell_type": "markdown",
   "metadata": {},
   "source": [
    "Variance decomposition"
   ]
  },
  {
   "cell_type": "code",
   "execution_count": null,
   "metadata": {},
   "outputs": [
    {
     "name": "stdout",
     "output_type": "stream",
     "text": [
      "# ==================================== #\n",
      "# Initializing vardecomposing class    #\n",
      "# ==================================== #\n",
      "- Starting sobols for fixed years, over many countries\n",
      "  Starting with 2025\n"
     ]
    },
    {
     "name": "stderr",
     "output_type": "stream",
     "text": [
      "207it [02:33,  1.35it/s]\n"
     ]
    },
    {
     "name": "stdout",
     "output_type": "stream",
     "text": [
      "  Starting with 2026\n"
     ]
    },
    {
     "name": "stderr",
     "output_type": "stream",
     "text": [
      "207it [02:33,  1.35it/s]\n"
     ]
    },
    {
     "name": "stdout",
     "output_type": "stream",
     "text": [
      "  Starting with 2027\n"
     ]
    },
    {
     "name": "stderr",
     "output_type": "stream",
     "text": [
      "207it [02:40,  1.29it/s]\n"
     ]
    },
    {
     "name": "stdout",
     "output_type": "stream",
     "text": [
      "  Starting with 2028\n"
     ]
    },
    {
     "name": "stderr",
     "output_type": "stream",
     "text": [
      "207it [03:26,  1.00it/s]\n"
     ]
    },
    {
     "name": "stdout",
     "output_type": "stream",
     "text": [
      "  Starting with 2029\n"
     ]
    },
    {
     "name": "stderr",
     "output_type": "stream",
     "text": [
      "207it [02:43,  1.27it/s]\n"
     ]
    },
    {
     "name": "stdout",
     "output_type": "stream",
     "text": [
      "  Starting with 2030\n"
     ]
    },
    {
     "name": "stderr",
     "output_type": "stream",
     "text": [
      "207it [02:35,  1.33it/s]\n"
     ]
    },
    {
     "name": "stdout",
     "output_type": "stream",
     "text": [
      "  Starting with 2031\n"
     ]
    },
    {
     "name": "stderr",
     "output_type": "stream",
     "text": [
      "207it [03:12,  1.08it/s]\n"
     ]
    },
    {
     "name": "stdout",
     "output_type": "stream",
     "text": [
      "  Starting with 2032\n"
     ]
    },
    {
     "name": "stderr",
     "output_type": "stream",
     "text": [
      "207it [02:45,  1.25it/s]\n"
     ]
    },
    {
     "name": "stdout",
     "output_type": "stream",
     "text": [
      "  Starting with 2033\n"
     ]
    },
    {
     "name": "stderr",
     "output_type": "stream",
     "text": [
      "207it [04:11,  1.21s/it]\n"
     ]
    },
    {
     "name": "stdout",
     "output_type": "stream",
     "text": [
      "  Starting with 2034\n"
     ]
    },
    {
     "name": "stderr",
     "output_type": "stream",
     "text": [
      "207it [03:07,  1.10it/s]\n"
     ]
    },
    {
     "name": "stdout",
     "output_type": "stream",
     "text": [
      "  Starting with 2035\n"
     ]
    },
    {
     "name": "stderr",
     "output_type": "stream",
     "text": [
      "207it [02:34,  1.34it/s]\n"
     ]
    },
    {
     "name": "stdout",
     "output_type": "stream",
     "text": [
      "  Starting with 2036\n"
     ]
    },
    {
     "name": "stderr",
     "output_type": "stream",
     "text": [
      "207it [02:32,  1.35it/s]\n"
     ]
    },
    {
     "name": "stdout",
     "output_type": "stream",
     "text": [
      "  Starting with 2037\n"
     ]
    },
    {
     "name": "stderr",
     "output_type": "stream",
     "text": [
      "207it [02:31,  1.37it/s]\n"
     ]
    },
    {
     "name": "stdout",
     "output_type": "stream",
     "text": [
      "  Starting with 2038\n"
     ]
    },
    {
     "name": "stderr",
     "output_type": "stream",
     "text": [
      "207it [02:33,  1.35it/s]\n"
     ]
    },
    {
     "name": "stdout",
     "output_type": "stream",
     "text": [
      "  Starting with 2039\n"
     ]
    },
    {
     "name": "stderr",
     "output_type": "stream",
     "text": [
      "207it [02:46,  1.24it/s]\n"
     ]
    },
    {
     "name": "stdout",
     "output_type": "stream",
     "text": [
      "  Starting with 2040\n"
     ]
    },
    {
     "name": "stderr",
     "output_type": "stream",
     "text": [
      "207it [02:43,  1.27it/s]\n"
     ]
    },
    {
     "name": "stdout",
     "output_type": "stream",
     "text": [
      "  Starting with 2041\n"
     ]
    },
    {
     "name": "stderr",
     "output_type": "stream",
     "text": [
      "207it [03:00,  1.15it/s]\n"
     ]
    },
    {
     "name": "stdout",
     "output_type": "stream",
     "text": [
      "  Starting with 2042\n"
     ]
    },
    {
     "name": "stderr",
     "output_type": "stream",
     "text": [
      "207it [03:47,  1.10s/it]\n"
     ]
    },
    {
     "name": "stdout",
     "output_type": "stream",
     "text": [
      "  Starting with 2043\n"
     ]
    },
    {
     "name": "stderr",
     "output_type": "stream",
     "text": [
      "207it [02:46,  1.24it/s]\n"
     ]
    },
    {
     "name": "stdout",
     "output_type": "stream",
     "text": [
      "  Starting with 2044\n"
     ]
    },
    {
     "name": "stderr",
     "output_type": "stream",
     "text": [
      "207it [02:40,  1.29it/s]\n"
     ]
    },
    {
     "name": "stdout",
     "output_type": "stream",
     "text": [
      "  Starting with 2045\n"
     ]
    },
    {
     "name": "stderr",
     "output_type": "stream",
     "text": [
      "207it [02:45,  1.25it/s]\n"
     ]
    },
    {
     "name": "stdout",
     "output_type": "stream",
     "text": [
      "  Starting with 2046\n"
     ]
    },
    {
     "name": "stderr",
     "output_type": "stream",
     "text": [
      "207it [02:53,  1.19it/s]\n"
     ]
    },
    {
     "name": "stdout",
     "output_type": "stream",
     "text": [
      "  Starting with 2047\n"
     ]
    },
    {
     "name": "stderr",
     "output_type": "stream",
     "text": [
      "207it [02:35,  1.33it/s]\n"
     ]
    },
    {
     "name": "stdout",
     "output_type": "stream",
     "text": [
      "  Starting with 2048\n"
     ]
    },
    {
     "name": "stderr",
     "output_type": "stream",
     "text": [
      "207it [02:49,  1.22it/s]\n"
     ]
    },
    {
     "name": "stdout",
     "output_type": "stream",
     "text": [
      "  Starting with 2049\n"
     ]
    },
    {
     "name": "stderr",
     "output_type": "stream",
     "text": [
      "207it [02:32,  1.35it/s]\n"
     ]
    },
    {
     "name": "stdout",
     "output_type": "stream",
     "text": [
      "  Starting with 2050\n"
     ]
    },
    {
     "name": "stderr",
     "output_type": "stream",
     "text": [
      "207it [02:27,  1.41it/s]\n"
     ]
    },
    {
     "name": "stdout",
     "output_type": "stream",
     "text": [
      "  Starting with 2051\n"
     ]
    },
    {
     "name": "stderr",
     "output_type": "stream",
     "text": [
      "207it [02:37,  1.31it/s]\n"
     ]
    },
    {
     "name": "stdout",
     "output_type": "stream",
     "text": [
      "  Starting with 2052\n"
     ]
    },
    {
     "name": "stderr",
     "output_type": "stream",
     "text": [
      "207it [02:33,  1.35it/s]\n"
     ]
    },
    {
     "name": "stdout",
     "output_type": "stream",
     "text": [
      "  Starting with 2053\n"
     ]
    },
    {
     "name": "stderr",
     "output_type": "stream",
     "text": [
      "207it [02:30,  1.38it/s]\n"
     ]
    },
    {
     "name": "stdout",
     "output_type": "stream",
     "text": [
      "  Starting with 2054\n"
     ]
    },
    {
     "name": "stderr",
     "output_type": "stream",
     "text": [
      "207it [02:36,  1.32it/s]\n"
     ]
    },
    {
     "name": "stdout",
     "output_type": "stream",
     "text": [
      "  Starting with 2055\n"
     ]
    },
    {
     "name": "stderr",
     "output_type": "stream",
     "text": [
      "207it [02:26,  1.42it/s]\n"
     ]
    },
    {
     "name": "stdout",
     "output_type": "stream",
     "text": [
      "  Starting with 2056\n"
     ]
    },
    {
     "name": "stderr",
     "output_type": "stream",
     "text": [
      "207it [04:10,  1.21s/it]\n"
     ]
    },
    {
     "name": "stdout",
     "output_type": "stream",
     "text": [
      "  Starting with 2057\n"
     ]
    },
    {
     "name": "stderr",
     "output_type": "stream",
     "text": [
      "207it [02:48,  1.23it/s]\n"
     ]
    },
    {
     "name": "stdout",
     "output_type": "stream",
     "text": [
      "  Starting with 2058\n"
     ]
    },
    {
     "name": "stderr",
     "output_type": "stream",
     "text": [
      "207it [02:27,  1.41it/s]\n"
     ]
    },
    {
     "name": "stdout",
     "output_type": "stream",
     "text": [
      "  Starting with 2059\n"
     ]
    },
    {
     "name": "stderr",
     "output_type": "stream",
     "text": [
      "207it [02:22,  1.46it/s]\n"
     ]
    },
    {
     "name": "stdout",
     "output_type": "stream",
     "text": [
      "  Starting with 2060\n"
     ]
    },
    {
     "name": "stderr",
     "output_type": "stream",
     "text": [
      "207it [02:30,  1.38it/s]\n"
     ]
    },
    {
     "name": "stdout",
     "output_type": "stream",
     "text": [
      "  Starting with 2061\n"
     ]
    },
    {
     "name": "stderr",
     "output_type": "stream",
     "text": [
      "207it [02:21,  1.46it/s]\n"
     ]
    },
    {
     "name": "stdout",
     "output_type": "stream",
     "text": [
      "  Starting with 2062\n"
     ]
    },
    {
     "name": "stderr",
     "output_type": "stream",
     "text": [
      "207it [02:29,  1.38it/s]\n"
     ]
    },
    {
     "name": "stdout",
     "output_type": "stream",
     "text": [
      "  Starting with 2063\n"
     ]
    },
    {
     "name": "stderr",
     "output_type": "stream",
     "text": [
      "207it [02:28,  1.39it/s]\n"
     ]
    },
    {
     "name": "stdout",
     "output_type": "stream",
     "text": [
      "  Starting with 2064\n"
     ]
    },
    {
     "name": "stderr",
     "output_type": "stream",
     "text": [
      "207it [02:23,  1.44it/s]\n"
     ]
    },
    {
     "name": "stdout",
     "output_type": "stream",
     "text": [
      "  Starting with 2065\n"
     ]
    },
    {
     "name": "stderr",
     "output_type": "stream",
     "text": [
      "207it [02:34,  1.34it/s]\n"
     ]
    },
    {
     "name": "stdout",
     "output_type": "stream",
     "text": [
      "  Starting with 2066\n"
     ]
    },
    {
     "name": "stderr",
     "output_type": "stream",
     "text": [
      "207it [02:24,  1.44it/s]\n"
     ]
    },
    {
     "name": "stdout",
     "output_type": "stream",
     "text": [
      "  Starting with 2067\n"
     ]
    },
    {
     "name": "stderr",
     "output_type": "stream",
     "text": [
      "207it [02:23,  1.45it/s]\n"
     ]
    },
    {
     "name": "stdout",
     "output_type": "stream",
     "text": [
      "  Starting with 2068\n"
     ]
    },
    {
     "name": "stderr",
     "output_type": "stream",
     "text": [
      "207it [02:22,  1.45it/s]\n"
     ]
    },
    {
     "name": "stdout",
     "output_type": "stream",
     "text": [
      "  Starting with 2069\n"
     ]
    },
    {
     "name": "stderr",
     "output_type": "stream",
     "text": [
      "207it [02:22,  1.46it/s]\n"
     ]
    },
    {
     "name": "stdout",
     "output_type": "stream",
     "text": [
      "  Starting with 2070\n"
     ]
    },
    {
     "name": "stderr",
     "output_type": "stream",
     "text": [
      "207it [02:26,  1.41it/s]\n"
     ]
    },
    {
     "name": "stdout",
     "output_type": "stream",
     "text": [
      "  Starting with 2071\n"
     ]
    },
    {
     "name": "stderr",
     "output_type": "stream",
     "text": [
      "207it [02:24,  1.43it/s]\n"
     ]
    },
    {
     "name": "stdout",
     "output_type": "stream",
     "text": [
      "  Starting with 2072\n"
     ]
    },
    {
     "name": "stderr",
     "output_type": "stream",
     "text": [
      "207it [02:57,  1.17it/s]\n"
     ]
    },
    {
     "name": "stdout",
     "output_type": "stream",
     "text": [
      "  Starting with 2073\n"
     ]
    },
    {
     "name": "stderr",
     "output_type": "stream",
     "text": [
      "207it [02:27,  1.41it/s]\n"
     ]
    },
    {
     "name": "stdout",
     "output_type": "stream",
     "text": [
      "  Starting with 2074\n"
     ]
    },
    {
     "name": "stderr",
     "output_type": "stream",
     "text": [
      "207it [02:26,  1.41it/s]\n"
     ]
    },
    {
     "name": "stdout",
     "output_type": "stream",
     "text": [
      "  Starting with 2075\n"
     ]
    },
    {
     "name": "stderr",
     "output_type": "stream",
     "text": [
      "207it [02:26,  1.41it/s]\n"
     ]
    },
    {
     "name": "stdout",
     "output_type": "stream",
     "text": [
      "  Starting with 2076\n"
     ]
    },
    {
     "name": "stderr",
     "output_type": "stream",
     "text": [
      "207it [02:26,  1.41it/s]\n"
     ]
    },
    {
     "name": "stdout",
     "output_type": "stream",
     "text": [
      "  Starting with 2077\n"
     ]
    },
    {
     "name": "stderr",
     "output_type": "stream",
     "text": [
      "207it [02:38,  1.30it/s]\n"
     ]
    },
    {
     "name": "stdout",
     "output_type": "stream",
     "text": [
      "  Starting with 2078\n"
     ]
    },
    {
     "name": "stderr",
     "output_type": "stream",
     "text": [
      "207it [02:25,  1.42it/s]\n"
     ]
    },
    {
     "name": "stdout",
     "output_type": "stream",
     "text": [
      "  Starting with 2079\n"
     ]
    },
    {
     "name": "stderr",
     "output_type": "stream",
     "text": [
      "207it [02:26,  1.42it/s]\n"
     ]
    },
    {
     "name": "stdout",
     "output_type": "stream",
     "text": [
      "  Starting with 2080\n"
     ]
    },
    {
     "name": "stderr",
     "output_type": "stream",
     "text": [
      "207it [02:24,  1.43it/s]\n"
     ]
    },
    {
     "name": "stdout",
     "output_type": "stream",
     "text": [
      "  Starting with 2081\n"
     ]
    },
    {
     "name": "stderr",
     "output_type": "stream",
     "text": [
      "207it [02:23,  1.44it/s]\n"
     ]
    },
    {
     "name": "stdout",
     "output_type": "stream",
     "text": [
      "  Starting with 2082\n"
     ]
    },
    {
     "name": "stderr",
     "output_type": "stream",
     "text": [
      "207it [02:23,  1.44it/s]\n"
     ]
    },
    {
     "name": "stdout",
     "output_type": "stream",
     "text": [
      "  Starting with 2083\n"
     ]
    },
    {
     "name": "stderr",
     "output_type": "stream",
     "text": [
      "207it [03:34,  1.03s/it]\n"
     ]
    },
    {
     "name": "stdout",
     "output_type": "stream",
     "text": [
      "  Starting with 2084\n"
     ]
    },
    {
     "name": "stderr",
     "output_type": "stream",
     "text": [
      "207it [02:42,  1.28it/s]\n"
     ]
    },
    {
     "name": "stdout",
     "output_type": "stream",
     "text": [
      "  Starting with 2085\n"
     ]
    },
    {
     "name": "stderr",
     "output_type": "stream",
     "text": [
      "207it [02:33,  1.35it/s]\n"
     ]
    },
    {
     "name": "stdout",
     "output_type": "stream",
     "text": [
      "  Starting with 2086\n"
     ]
    },
    {
     "name": "stderr",
     "output_type": "stream",
     "text": [
      "207it [02:35,  1.33it/s]\n"
     ]
    },
    {
     "name": "stdout",
     "output_type": "stream",
     "text": [
      "  Starting with 2087\n"
     ]
    },
    {
     "name": "stderr",
     "output_type": "stream",
     "text": [
      "207it [02:26,  1.41it/s]\n"
     ]
    },
    {
     "name": "stdout",
     "output_type": "stream",
     "text": [
      "  Starting with 2088\n"
     ]
    },
    {
     "name": "stderr",
     "output_type": "stream",
     "text": [
      "207it [02:36,  1.32it/s]\n"
     ]
    },
    {
     "name": "stdout",
     "output_type": "stream",
     "text": [
      "  Starting with 2089\n"
     ]
    },
    {
     "name": "stderr",
     "output_type": "stream",
     "text": [
      "207it [02:28,  1.40it/s]\n"
     ]
    },
    {
     "name": "stdout",
     "output_type": "stream",
     "text": [
      "  Starting with 2090\n"
     ]
    },
    {
     "name": "stderr",
     "output_type": "stream",
     "text": [
      "207it [02:25,  1.42it/s]\n"
     ]
    },
    {
     "name": "stdout",
     "output_type": "stream",
     "text": [
      "  Starting with 2091\n"
     ]
    },
    {
     "name": "stderr",
     "output_type": "stream",
     "text": [
      "207it [02:30,  1.37it/s]\n"
     ]
    },
    {
     "name": "stdout",
     "output_type": "stream",
     "text": [
      "  Starting with 2092\n"
     ]
    },
    {
     "name": "stderr",
     "output_type": "stream",
     "text": [
      "207it [02:33,  1.35it/s]\n"
     ]
    },
    {
     "name": "stdout",
     "output_type": "stream",
     "text": [
      "  Starting with 2093\n"
     ]
    },
    {
     "name": "stderr",
     "output_type": "stream",
     "text": [
      "207it [02:29,  1.38it/s]\n"
     ]
    },
    {
     "name": "stdout",
     "output_type": "stream",
     "text": [
      "  Starting with 2094\n"
     ]
    },
    {
     "name": "stderr",
     "output_type": "stream",
     "text": [
      "207it [02:25,  1.43it/s]\n"
     ]
    },
    {
     "name": "stdout",
     "output_type": "stream",
     "text": [
      "  Starting with 2095\n"
     ]
    },
    {
     "name": "stderr",
     "output_type": "stream",
     "text": [
      "207it [02:27,  1.41it/s]\n"
     ]
    },
    {
     "name": "stdout",
     "output_type": "stream",
     "text": [
      "  Starting with 2096\n"
     ]
    },
    {
     "name": "stderr",
     "output_type": "stream",
     "text": [
      "207it [02:27,  1.40it/s]\n"
     ]
    },
    {
     "name": "stdout",
     "output_type": "stream",
     "text": [
      "  Starting with 2097\n"
     ]
    },
    {
     "name": "stderr",
     "output_type": "stream",
     "text": [
      "207it [02:25,  1.42it/s]\n"
     ]
    },
    {
     "name": "stdout",
     "output_type": "stream",
     "text": [
      "  Starting with 2098\n"
     ]
    },
    {
     "name": "stderr",
     "output_type": "stream",
     "text": [
      "207it [02:29,  1.38it/s]\n"
     ]
    },
    {
     "name": "stdout",
     "output_type": "stream",
     "text": [
      "  Starting with 2099\n"
     ]
    },
    {
     "name": "stderr",
     "output_type": "stream",
     "text": [
      "207it [02:25,  1.42it/s]\n"
     ]
    },
    {
     "name": "stdout",
     "output_type": "stream",
     "text": [
      "  Starting with 2100\n"
     ]
    },
    {
     "name": "stderr",
     "output_type": "stream",
     "text": [
      "207it [02:24,  1.43it/s]"
     ]
    },
    {
     "name": "stdout",
     "output_type": "stream",
     "text": [
      "- Save global results\n"
     ]
    },
    {
     "name": "stderr",
     "output_type": "stream",
     "text": [
      "\n"
     ]
    }
   ],
   "source": [
    "from effortsharing.variancedecomp import vardecomposing\n",
    "\n",
    "vardecomposer = vardecomposing(startyear=2021, gas=\"GHG\", lulucf=\"incl\")\n",
    "vardecomposer.sobolindices = {}\n",
    "print(\"- Starting sobols for fixed years, over many countries\")\n",
    "timeseries = np.arange(2025, 2101, 1)\n",
    "for year in timeseries:\n",
    "    print(\"  Starting with\", year)\n",
    "    xr_cty, ar_time, array_dims, array_inputs, problem, samples = (\n",
    "        vardecomposer.prepare_global_sobol(year)\n",
    "    )\n",
    "    vardecomposer.sobolindices[year] = vardecomposer.apply_decomposition(\n",
    "        xr_cty, ar_time, array_dims, array_inputs, problem, samples\n",
    "    )\n",
    "vardecomposer.save(array_dims, timeseries)"
   ]
  },
  {
   "cell_type": "code",
   "execution_count": 9,
   "metadata": {},
   "outputs": [
    {
     "name": "stdout",
     "output_type": "stream",
     "text": [
      "- Save global results\n"
     ]
    }
   ],
   "source": [
    "vardecomposer.save(array_dims, timeseries)"
   ]
  }
 ],
 "metadata": {
  "kernelspec": {
   "display_name": "effortsharing_env",
   "language": "python",
   "name": "python3"
  },
  "language_info": {
   "codemirror_mode": {
    "name": "ipython",
    "version": 3
   },
   "file_extension": ".py",
   "mimetype": "text/x-python",
   "name": "python",
   "nbconvert_exporter": "python",
   "pygments_lexer": "ipython3",
   "version": "3.11.12"
  },
  "orig_nbformat": 4
 },
 "nbformat": 4,
 "nbformat_minor": 2
}
