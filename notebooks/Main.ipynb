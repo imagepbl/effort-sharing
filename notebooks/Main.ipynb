{
 "cells": [
  {
   "cell_type": "markdown",
   "metadata": {},
   "source": [
    "## Preambule"
   ]
  },
  {
   "cell_type": "code",
   "execution_count": 1,
   "metadata": {},
   "outputs": [],
   "source": [
    "import warnings\n",
    "\n",
    "import numpy as np\n",
    "from tqdm import tqdm\n",
    "\n",
    "warnings.simplefilter(action=\"ignore\", category=FutureWarning)\n",
    "\n",
    "%load_ext autoreload\n",
    "%autoreload all"
   ]
  },
  {
   "cell_type": "markdown",
   "metadata": {},
   "source": [
    "## Run classes"
   ]
  },
  {
   "cell_type": "markdown",
   "metadata": {},
   "source": [
    "Data reader class"
   ]
  },
  {
   "cell_type": "code",
   "execution_count": 2,
   "metadata": {},
   "outputs": [
    {
     "name": "stdout",
     "output_type": "stream",
     "text": [
      "- Reading unfccc country data\n",
      "- Reading GDP and population data from SSPs\n",
      "- Reading GDP and population data from SSPs\n",
      "- Reading UN population data and gapminder, processed by OWID (for past population)\n",
      "- Read Human Development Index data\n"
     ]
    }
   ],
   "source": [
    "# from effortsharing.datareading import datareading\n",
    "from effortsharing.config import Config\n",
    "from effortsharing import datareading\n",
    "\n",
    "config = Config.from_file('config.yml')\n",
    "general = datareading.read_general(config)  # TODO combine with un_population?\n",
    "ssps = datareading.read_ssps(config, regions=general.regions)\n",
    "ssps_ref = datareading.read_ssps_refactor(config, regions=general.regions)\n",
    "un_pop = datareading.read_un_population(config, countries=general.countries)\n",
    "hdi = datareading.read_hdi(config, general.countries, un_pop)\n",
    "# datareader.read_historicalemis_jones()\n",
    "# datareader.read_ar6()\n",
    "# datareader.nonco2variation()\n",
    "# datareader.determine_global_nonco2_trajectories()\n",
    "# datareader.determine_global_budgets()\n",
    "# datareader.determine_global_co2_trajectories()\n",
    "# datareader.read_baseline()\n",
    "# datareader.read_ndc()\n",
    "# datareader.read_ndc_climateresource()\n",
    "# datareader.merge_xr()\n",
    "# datareader.add_country_groups()\n",
    "# datareader.save()\n",
    "# datareader.country_specific_datareaders()"
   ]
  },
  {
   "cell_type": "code",
   "execution_count": 3,
   "metadata": {},
   "outputs": [
    {
     "name": "stdout",
     "output_type": "stream",
     "text": [
      "- Reading GDP and population data from SSPs\n",
      "- Reading GDP and population data from SSPs\n"
     ]
    },
    {
     "data": {
      "text/plain": [
       "[('SSP1', np.str_('ABW'), np.int64(1990)),\n",
       " ('SSP1', np.str_('ABW'), np.int64(1995)),\n",
       " ('SSP1', np.str_('ABW'), np.int64(2000)),\n",
       " ('SSP1', np.str_('ABW'), np.int64(2005)),\n",
       " ('SSP1', np.str_('ABW'), np.int64(2010)),\n",
       " ('SSP1', np.str_('ABW'), np.int64(2015)),\n",
       " ('SSP1', np.str_('AGO'), np.int64(1990)),\n",
       " ('SSP1', np.str_('AGO'), np.int64(1995)),\n",
       " ('SSP1', np.str_('AGO'), np.int64(2000)),\n",
       " ('SSP1', np.str_('AGO'), np.int64(2005)),\n",
       " ('SSP1', np.str_('AGO'), np.int64(2010)),\n",
       " ('SSP1', np.str_('AGO'), np.int64(2015)),\n",
       " ('SSP1', np.str_('ALB'), np.int64(1980)),\n",
       " ('SSP1', np.str_('ALB'), np.int64(1985)),\n",
       " ('SSP1', np.str_('ALB'), np.int64(1990)),\n",
       " ('SSP1', np.str_('ALB'), np.int64(1995)),\n",
       " ('SSP1', np.str_('ALB'), np.int64(2000)),\n",
       " ('SSP1', np.str_('ALB'), np.int64(2005)),\n",
       " ('SSP1', np.str_('ALB'), np.int64(2010)),\n",
       " ('SSP1', np.str_('ALB'), np.int64(2015)),\n",
       " ('SSP1', np.str_('ARE'), np.int64(1980)),\n",
       " ('SSP1', np.str_('ARE'), np.int64(1985)),\n",
       " ('SSP1', np.str_('ARE'), np.int64(1990)),\n",
       " ('SSP1', np.str_('ARE'), np.int64(1995)),\n",
       " ('SSP1', np.str_('ARE'), np.int64(2000)),\n",
       " ('SSP1', np.str_('ARE'), np.int64(2005)),\n",
       " ('SSP1', np.str_('ARE'), np.int64(2010)),\n",
       " ('SSP1', np.str_('ARE'), np.int64(2015)),\n",
       " ('SSP1', np.str_('ARG'), np.int64(1980)),\n",
       " ('SSP1', np.str_('ARG'), np.int64(1985)),\n",
       " ('SSP1', np.str_('ARG'), np.int64(1990)),\n",
       " ('SSP1', np.str_('ARG'), np.int64(1995)),\n",
       " ('SSP1', np.str_('ARG'), np.int64(2000)),\n",
       " ('SSP1', np.str_('ARG'), np.int64(2005)),\n",
       " ('SSP1', np.str_('ARG'), np.int64(2010)),\n",
       " ('SSP1', np.str_('ARG'), np.int64(2015)),\n",
       " ('SSP1', np.str_('ARM'), np.int64(1990)),\n",
       " ('SSP1', np.str_('ARM'), np.int64(1995)),\n",
       " ('SSP1', np.str_('ARM'), np.int64(2000)),\n",
       " ('SSP1', np.str_('ARM'), np.int64(2005)),\n",
       " ('SSP1', np.str_('ARM'), np.int64(2010)),\n",
       " ('SSP1', np.str_('ARM'), np.int64(2015)),\n",
       " ('SSP1', np.str_('ATG'), np.int64(1980)),\n",
       " ('SSP1', np.str_('ATG'), np.int64(1985)),\n",
       " ('SSP1', np.str_('ATG'), np.int64(1990)),\n",
       " ('SSP1', np.str_('ATG'), np.int64(1995)),\n",
       " ('SSP1', np.str_('ATG'), np.int64(2000)),\n",
       " ('SSP1', np.str_('ATG'), np.int64(2005)),\n",
       " ('SSP1', np.str_('ATG'), np.int64(2010)),\n",
       " ('SSP1', np.str_('ATG'), np.int64(2015)),\n",
       " ('SSP1', np.str_('AUS'), np.int64(1980)),\n",
       " ('SSP1', np.str_('AUS'), np.int64(1985)),\n",
       " ('SSP1', np.str_('AUS'), np.int64(1990)),\n",
       " ('SSP1', np.str_('AUS'), np.int64(1995)),\n",
       " ('SSP1', np.str_('AUS'), np.int64(2000)),\n",
       " ('SSP1', np.str_('AUS'), np.int64(2005)),\n",
       " ('SSP1', np.str_('AUS'), np.int64(2010)),\n",
       " ('SSP1', np.str_('AUS'), np.int64(2015)),\n",
       " ('SSP1', np.str_('AUT'), np.int64(1980)),\n",
       " ('SSP1', np.str_('AUT'), np.int64(1985)),\n",
       " ('SSP1', np.str_('AUT'), np.int64(1990)),\n",
       " ('SSP1', np.str_('AUT'), np.int64(1995)),\n",
       " ('SSP1', np.str_('AUT'), np.int64(2000)),\n",
       " ('SSP1', np.str_('AUT'), np.int64(2005)),\n",
       " ('SSP1', np.str_('AUT'), np.int64(2010)),\n",
       " ('SSP1', np.str_('AUT'), np.int64(2015)),\n",
       " ('SSP1', np.str_('AZE'), np.int64(1990)),\n",
       " ('SSP1', np.str_('AZE'), np.int64(1995)),\n",
       " ('SSP1', np.str_('AZE'), np.int64(2000)),\n",
       " ('SSP1', np.str_('AZE'), np.int64(2005)),\n",
       " ('SSP1', np.str_('AZE'), np.int64(2010)),\n",
       " ('SSP1', np.str_('AZE'), np.int64(2015)),\n",
       " ('SSP1', np.str_('BDI'), np.int64(1980)),\n",
       " ('SSP1', np.str_('BDI'), np.int64(1985)),\n",
       " ('SSP1', np.str_('BDI'), np.int64(1990)),\n",
       " ('SSP1', np.str_('BDI'), np.int64(1995)),\n",
       " ('SSP1', np.str_('BDI'), np.int64(2000)),\n",
       " ('SSP1', np.str_('BDI'), np.int64(2005)),\n",
       " ('SSP1', np.str_('BDI'), np.int64(2010)),\n",
       " ('SSP1', np.str_('BDI'), np.int64(2015)),\n",
       " ('SSP1', np.str_('BEL'), np.int64(1980)),\n",
       " ('SSP1', np.str_('BEL'), np.int64(1985)),\n",
       " ('SSP1', np.str_('BEL'), np.int64(1990)),\n",
       " ('SSP1', np.str_('BEL'), np.int64(1995)),\n",
       " ('SSP1', np.str_('BEL'), np.int64(2000)),\n",
       " ('SSP1', np.str_('BEL'), np.int64(2005)),\n",
       " ('SSP1', np.str_('BEL'), np.int64(2010)),\n",
       " ('SSP1', np.str_('BEL'), np.int64(2015)),\n",
       " ('SSP1', np.str_('BEN'), np.int64(1980)),\n",
       " ('SSP1', np.str_('BEN'), np.int64(1985)),\n",
       " ('SSP1', np.str_('BEN'), np.int64(1990)),\n",
       " ('SSP1', np.str_('BEN'), np.int64(1995)),\n",
       " ('SSP1', np.str_('BEN'), np.int64(2000)),\n",
       " ('SSP1', np.str_('BEN'), np.int64(2005)),\n",
       " ('SSP1', np.str_('BEN'), np.int64(2010)),\n",
       " ('SSP1', np.str_('BEN'), np.int64(2015)),\n",
       " ('SSP1', np.str_('BFA'), np.int64(1980)),\n",
       " ('SSP1', np.str_('BFA'), np.int64(1985)),\n",
       " ('SSP1', np.str_('BFA'), np.int64(1990)),\n",
       " ('SSP1', np.str_('BFA'), np.int64(1995)),\n",
       " ('SSP1', np.str_('BFA'), np.int64(2000)),\n",
       " ('SSP1', np.str_('BFA'), np.int64(2005)),\n",
       " ('SSP1', np.str_('BFA'), np.int64(2010)),\n",
       " ('SSP1', np.str_('BFA'), np.int64(2015)),\n",
       " ('SSP1', np.str_('BGD'), np.int64(1980)),\n",
       " ('SSP1', np.str_('BGD'), np.int64(1985)),\n",
       " ('SSP1', np.str_('BGD'), np.int64(1990)),\n",
       " ('SSP1', np.str_('BGD'), np.int64(1995)),\n",
       " ('SSP1', np.str_('BGD'), np.int64(2000)),\n",
       " ('SSP1', np.str_('BGD'), np.int64(2005)),\n",
       " ('SSP1', np.str_('BGD'), np.int64(2010)),\n",
       " ('SSP1', np.str_('BGD'), np.int64(2015)),\n",
       " ('SSP1', np.str_('BGR'), np.int64(1980)),\n",
       " ('SSP1', np.str_('BGR'), np.int64(1985)),\n",
       " ('SSP1', np.str_('BGR'), np.int64(1990)),\n",
       " ('SSP1', np.str_('BGR'), np.int64(1995)),\n",
       " ('SSP1', np.str_('BGR'), np.int64(2000)),\n",
       " ('SSP1', np.str_('BGR'), np.int64(2005)),\n",
       " ('SSP1', np.str_('BGR'), np.int64(2010)),\n",
       " ('SSP1', np.str_('BGR'), np.int64(2015)),\n",
       " ('SSP1', np.str_('BHR'), np.int64(1980)),\n",
       " ('SSP1', np.str_('BHR'), np.int64(1985)),\n",
       " ('SSP1', np.str_('BHR'), np.int64(1990)),\n",
       " ('SSP1', np.str_('BHR'), np.int64(1995)),\n",
       " ('SSP1', np.str_('BHR'), np.int64(2000)),\n",
       " ('SSP1', np.str_('BHR'), np.int64(2005)),\n",
       " ('SSP1', np.str_('BHR'), np.int64(2010)),\n",
       " ('SSP1', np.str_('BHR'), np.int64(2015)),\n",
       " ('SSP1', np.str_('BHS'), np.int64(1980)),\n",
       " ('SSP1', np.str_('BHS'), np.int64(1985)),\n",
       " ('SSP1', np.str_('BHS'), np.int64(1990)),\n",
       " ('SSP1', np.str_('BHS'), np.int64(1995)),\n",
       " ('SSP1', np.str_('BHS'), np.int64(2000)),\n",
       " ('SSP1', np.str_('BHS'), np.int64(2005)),\n",
       " ('SSP1', np.str_('BHS'), np.int64(2010)),\n",
       " ('SSP1', np.str_('BHS'), np.int64(2015)),\n",
       " ('SSP1', np.str_('BIH'), np.int64(1995)),\n",
       " ('SSP1', np.str_('BIH'), np.int64(2000)),\n",
       " ('SSP1', np.str_('BIH'), np.int64(2005)),\n",
       " ('SSP1', np.str_('BIH'), np.int64(2010)),\n",
       " ('SSP1', np.str_('BIH'), np.int64(2015)),\n",
       " ('SSP1', np.str_('BLR'), np.int64(1990)),\n",
       " ('SSP1', np.str_('BLR'), np.int64(1995)),\n",
       " ('SSP1', np.str_('BLR'), np.int64(2000)),\n",
       " ('SSP1', np.str_('BLR'), np.int64(2005)),\n",
       " ('SSP1', np.str_('BLR'), np.int64(2010)),\n",
       " ('SSP1', np.str_('BLR'), np.int64(2015)),\n",
       " ('SSP1', np.str_('BLZ'), np.int64(1980)),\n",
       " ('SSP1', np.str_('BLZ'), np.int64(1985)),\n",
       " ('SSP1', np.str_('BLZ'), np.int64(1990)),\n",
       " ('SSP1', np.str_('BLZ'), np.int64(1995)),\n",
       " ('SSP1', np.str_('BLZ'), np.int64(2000)),\n",
       " ('SSP1', np.str_('BLZ'), np.int64(2005)),\n",
       " ('SSP1', np.str_('BLZ'), np.int64(2010)),\n",
       " ('SSP1', np.str_('BLZ'), np.int64(2015)),\n",
       " ('SSP1', np.str_('BOL'), np.int64(1980)),\n",
       " ('SSP1', np.str_('BOL'), np.int64(1985)),\n",
       " ('SSP1', np.str_('BOL'), np.int64(1990)),\n",
       " ('SSP1', np.str_('BOL'), np.int64(1995)),\n",
       " ('SSP1', np.str_('BOL'), np.int64(2000)),\n",
       " ('SSP1', np.str_('BOL'), np.int64(2005)),\n",
       " ('SSP1', np.str_('BOL'), np.int64(2010)),\n",
       " ('SSP1', np.str_('BOL'), np.int64(2015)),\n",
       " ('SSP1', np.str_('BRA'), np.int64(1980)),\n",
       " ('SSP1', np.str_('BRA'), np.int64(1985)),\n",
       " ('SSP1', np.str_('BRA'), np.int64(1990)),\n",
       " ('SSP1', np.str_('BRA'), np.int64(1995)),\n",
       " ('SSP1', np.str_('BRA'), np.int64(2000)),\n",
       " ('SSP1', np.str_('BRA'), np.int64(2005)),\n",
       " ('SSP1', np.str_('BRA'), np.int64(2010)),\n",
       " ('SSP1', np.str_('BRA'), np.int64(2015)),\n",
       " ('SSP1', np.str_('BRB'), np.int64(1980)),\n",
       " ('SSP1', np.str_('BRB'), np.int64(1985)),\n",
       " ('SSP1', np.str_('BRB'), np.int64(1990)),\n",
       " ('SSP1', np.str_('BRB'), np.int64(1995)),\n",
       " ('SSP1', np.str_('BRB'), np.int64(2000)),\n",
       " ('SSP1', np.str_('BRB'), np.int64(2005)),\n",
       " ('SSP1', np.str_('BRB'), np.int64(2010)),\n",
       " ('SSP1', np.str_('BRB'), np.int64(2015)),\n",
       " ('SSP1', np.str_('BRN'), np.int64(1985)),\n",
       " ('SSP1', np.str_('BRN'), np.int64(1990)),\n",
       " ('SSP1', np.str_('BRN'), np.int64(1995)),\n",
       " ('SSP1', np.str_('BRN'), np.int64(2000)),\n",
       " ('SSP1', np.str_('BRN'), np.int64(2005)),\n",
       " ('SSP1', np.str_('BRN'), np.int64(2010)),\n",
       " ('SSP1', np.str_('BRN'), np.int64(2015)),\n",
       " ('SSP1', np.str_('BTN'), np.int64(1980)),\n",
       " ('SSP1', np.str_('BTN'), np.int64(1985)),\n",
       " ('SSP1', np.str_('BTN'), np.int64(1990)),\n",
       " ('SSP1', np.str_('BTN'), np.int64(1995)),\n",
       " ('SSP1', np.str_('BTN'), np.int64(2000)),\n",
       " ('SSP1', np.str_('BTN'), np.int64(2005)),\n",
       " ('SSP1', np.str_('BTN'), np.int64(2010)),\n",
       " ('SSP1', np.str_('BTN'), np.int64(2015)),\n",
       " ('SSP1', np.str_('BWA'), np.int64(1980)),\n",
       " ('SSP1', np.str_('BWA'), np.int64(1985)),\n",
       " ('SSP1', np.str_('BWA'), np.int64(1990)),\n",
       " ('SSP1', np.str_('BWA'), np.int64(1995)),\n",
       " ('SSP1', np.str_('BWA'), np.int64(2000)),\n",
       " ('SSP1', np.str_('BWA'), np.int64(2005)),\n",
       " ('SSP1', np.str_('BWA'), np.int64(2010)),\n",
       " ('SSP1', np.str_('BWA'), np.int64(2015)),\n",
       " ('SSP1', np.str_('CAF'), np.int64(1980)),\n",
       " ('SSP1', np.str_('CAF'), np.int64(1985)),\n",
       " ('SSP1', np.str_('CAF'), np.int64(1990)),\n",
       " ('SSP1', np.str_('CAF'), np.int64(1995)),\n",
       " ('SSP1', np.str_('CAF'), np.int64(2000)),\n",
       " ('SSP1', np.str_('CAF'), np.int64(2005)),\n",
       " ('SSP1', np.str_('CAF'), np.int64(2010)),\n",
       " ('SSP1', np.str_('CAF'), np.int64(2015)),\n",
       " ('SSP1', np.str_('CAN'), np.int64(1980)),\n",
       " ('SSP1', np.str_('CAN'), np.int64(1985)),\n",
       " ('SSP1', np.str_('CAN'), np.int64(1990)),\n",
       " ('SSP1', np.str_('CAN'), np.int64(1995)),\n",
       " ('SSP1', np.str_('CAN'), np.int64(2000)),\n",
       " ('SSP1', np.str_('CAN'), np.int64(2005)),\n",
       " ('SSP1', np.str_('CAN'), np.int64(2010)),\n",
       " ('SSP1', np.str_('CAN'), np.int64(2015)),\n",
       " ('SSP1', np.str_('CHE'), np.int64(1980)),\n",
       " ('SSP1', np.str_('CHE'), np.int64(1985)),\n",
       " ('SSP1', np.str_('CHE'), np.int64(1990)),\n",
       " ('SSP1', np.str_('CHE'), np.int64(1995)),\n",
       " ('SSP1', np.str_('CHE'), np.int64(2000)),\n",
       " ('SSP1', np.str_('CHE'), np.int64(2005)),\n",
       " ('SSP1', np.str_('CHE'), np.int64(2010)),\n",
       " ('SSP1', np.str_('CHE'), np.int64(2015)),\n",
       " ('SSP1', np.str_('CHL'), np.int64(1980)),\n",
       " ('SSP1', np.str_('CHL'), np.int64(1985)),\n",
       " ('SSP1', np.str_('CHL'), np.int64(1990)),\n",
       " ('SSP1', np.str_('CHL'), np.int64(1995)),\n",
       " ('SSP1', np.str_('CHL'), np.int64(2000)),\n",
       " ('SSP1', np.str_('CHL'), np.int64(2005)),\n",
       " ('SSP1', np.str_('CHL'), np.int64(2010)),\n",
       " ('SSP1', np.str_('CHL'), np.int64(2015)),\n",
       " ('SSP1', np.str_('CHN'), np.int64(1980)),\n",
       " ('SSP1', np.str_('CHN'), np.int64(1985)),\n",
       " ('SSP1', np.str_('CHN'), np.int64(1990)),\n",
       " ('SSP1', np.str_('CHN'), np.int64(1995)),\n",
       " ('SSP1', np.str_('CHN'), np.int64(2000)),\n",
       " ('SSP1', np.str_('CHN'), np.int64(2005)),\n",
       " ('SSP1', np.str_('CHN'), np.int64(2010)),\n",
       " ('SSP1', np.str_('CHN'), np.int64(2015)),\n",
       " ('SSP1', np.str_('CIV'), np.int64(1980)),\n",
       " ('SSP1', np.str_('CIV'), np.int64(1985)),\n",
       " ('SSP1', np.str_('CIV'), np.int64(1990)),\n",
       " ('SSP1', np.str_('CIV'), np.int64(1995)),\n",
       " ('SSP1', np.str_('CIV'), np.int64(2000)),\n",
       " ('SSP1', np.str_('CIV'), np.int64(2005)),\n",
       " ('SSP1', np.str_('CIV'), np.int64(2010)),\n",
       " ('SSP1', np.str_('CIV'), np.int64(2015)),\n",
       " ('SSP1', np.str_('CMR'), np.int64(1980)),\n",
       " ('SSP1', np.str_('CMR'), np.int64(1985)),\n",
       " ('SSP1', np.str_('CMR'), np.int64(1990)),\n",
       " ('SSP1', np.str_('CMR'), np.int64(1995)),\n",
       " ('SSP1', np.str_('CMR'), np.int64(2000)),\n",
       " ('SSP1', np.str_('CMR'), np.int64(2005)),\n",
       " ('SSP1', np.str_('CMR'), np.int64(2010)),\n",
       " ('SSP1', np.str_('CMR'), np.int64(2015)),\n",
       " ('SSP1', np.str_('COD'), np.int64(1990)),\n",
       " ('SSP1', np.str_('COD'), np.int64(1995)),\n",
       " ('SSP1', np.str_('COD'), np.int64(2000)),\n",
       " ('SSP1', np.str_('COD'), np.int64(2005)),\n",
       " ('SSP1', np.str_('COD'), np.int64(2010)),\n",
       " ('SSP1', np.str_('COD'), np.int64(2015)),\n",
       " ('SSP1', np.str_('COG'), np.int64(1980)),\n",
       " ('SSP1', np.str_('COG'), np.int64(1985)),\n",
       " ('SSP1', np.str_('COG'), np.int64(1990)),\n",
       " ('SSP1', np.str_('COG'), np.int64(1995)),\n",
       " ('SSP1', np.str_('COG'), np.int64(2000)),\n",
       " ('SSP1', np.str_('COG'), np.int64(2005)),\n",
       " ('SSP1', np.str_('COG'), np.int64(2010)),\n",
       " ('SSP1', np.str_('COG'), np.int64(2015)),\n",
       " ('SSP1', np.str_('COL'), np.int64(1980)),\n",
       " ('SSP1', np.str_('COL'), np.int64(1985)),\n",
       " ('SSP1', np.str_('COL'), np.int64(1990)),\n",
       " ('SSP1', np.str_('COL'), np.int64(1995)),\n",
       " ('SSP1', np.str_('COL'), np.int64(2000)),\n",
       " ('SSP1', np.str_('COL'), np.int64(2005)),\n",
       " ('SSP1', np.str_('COL'), np.int64(2010)),\n",
       " ('SSP1', np.str_('COL'), np.int64(2015)),\n",
       " ('SSP1', np.str_('COM'), np.int64(1980)),\n",
       " ('SSP1', np.str_('COM'), np.int64(1985)),\n",
       " ('SSP1', np.str_('COM'), np.int64(1990)),\n",
       " ('SSP1', np.str_('COM'), np.int64(1995)),\n",
       " ('SSP1', np.str_('COM'), np.int64(2000)),\n",
       " ('SSP1', np.str_('COM'), np.int64(2005)),\n",
       " ('SSP1', np.str_('COM'), np.int64(2010)),\n",
       " ('SSP1', np.str_('COM'), np.int64(2015)),\n",
       " ('SSP1', np.str_('CPV'), np.int64(1980)),\n",
       " ('SSP1', np.str_('CPV'), np.int64(1985)),\n",
       " ('SSP1', np.str_('CPV'), np.int64(1990)),\n",
       " ('SSP1', np.str_('CPV'), np.int64(1995)),\n",
       " ('SSP1', np.str_('CPV'), np.int64(2000)),\n",
       " ('SSP1', np.str_('CPV'), np.int64(2005)),\n",
       " ('SSP1', np.str_('CPV'), np.int64(2010)),\n",
       " ('SSP1', np.str_('CPV'), np.int64(2015)),\n",
       " ('SSP1', np.str_('CRI'), np.int64(1980)),\n",
       " ('SSP1', np.str_('CRI'), np.int64(1985)),\n",
       " ('SSP1', np.str_('CRI'), np.int64(1990)),\n",
       " ('SSP1', np.str_('CRI'), np.int64(1995)),\n",
       " ('SSP1', np.str_('CRI'), np.int64(2000)),\n",
       " ('SSP1', np.str_('CRI'), np.int64(2005)),\n",
       " ('SSP1', np.str_('CRI'), np.int64(2010)),\n",
       " ('SSP1', np.str_('CRI'), np.int64(2015)),\n",
       " ('SSP1', np.str_('CUB'), np.int64(1980)),\n",
       " ('SSP1', np.str_('CUB'), np.int64(1985)),\n",
       " ('SSP1', np.str_('CUB'), np.int64(1990)),\n",
       " ('SSP1', np.str_('CUB'), np.int64(1995)),\n",
       " ('SSP1', np.str_('CUB'), np.int64(2000)),\n",
       " ('SSP1', np.str_('CUB'), np.int64(2005)),\n",
       " ('SSP1', np.str_('CUB'), np.int64(2010)),\n",
       " ('SSP1', np.str_('CUB'), np.int64(2015)),\n",
       " ('SSP1', np.str_('CYP'), np.int64(1980)),\n",
       " ('SSP1', np.str_('CYP'), np.int64(1985)),\n",
       " ('SSP1', np.str_('CYP'), np.int64(1990)),\n",
       " ('SSP1', np.str_('CYP'), np.int64(1995)),\n",
       " ('SSP1', np.str_('CYP'), np.int64(2000)),\n",
       " ('SSP1', np.str_('CYP'), np.int64(2005)),\n",
       " ('SSP1', np.str_('CYP'), np.int64(2010)),\n",
       " ('SSP1', np.str_('CYP'), np.int64(2015)),\n",
       " ('SSP1', np.str_('CZE'), np.int64(1990)),\n",
       " ('SSP1', np.str_('CZE'), np.int64(1995)),\n",
       " ('SSP1', np.str_('CZE'), np.int64(2000)),\n",
       " ('SSP1', np.str_('CZE'), np.int64(2005)),\n",
       " ('SSP1', np.str_('CZE'), np.int64(2010)),\n",
       " ('SSP1', np.str_('CZE'), np.int64(2015)),\n",
       " ('SSP1', np.str_('DEU'), np.int64(1980)),\n",
       " ('SSP1', np.str_('DEU'), np.int64(1985)),\n",
       " ('SSP1', np.str_('DEU'), np.int64(1990)),\n",
       " ('SSP1', np.str_('DEU'), np.int64(1995)),\n",
       " ('SSP1', np.str_('DEU'), np.int64(2000)),\n",
       " ('SSP1', np.str_('DEU'), np.int64(2005)),\n",
       " ('SSP1', np.str_('DEU'), np.int64(2010)),\n",
       " ('SSP1', np.str_('DEU'), np.int64(2015)),\n",
       " ('SSP1', np.str_('DJI'), np.int64(1990)),\n",
       " ('SSP1', np.str_('DJI'), np.int64(1995)),\n",
       " ('SSP1', np.str_('DJI'), np.int64(2000)),\n",
       " ('SSP1', np.str_('DJI'), np.int64(2005)),\n",
       " ('SSP1', np.str_('DJI'), np.int64(2010)),\n",
       " ('SSP1', np.str_('DJI'), np.int64(2015)),\n",
       " ('SSP1', np.str_('DNK'), np.int64(1980)),\n",
       " ('SSP1', np.str_('DNK'), np.int64(1985)),\n",
       " ('SSP1', np.str_('DNK'), np.int64(1990)),\n",
       " ('SSP1', np.str_('DNK'), np.int64(1995)),\n",
       " ('SSP1', np.str_('DNK'), np.int64(2000)),\n",
       " ('SSP1', np.str_('DNK'), np.int64(2005)),\n",
       " ('SSP1', np.str_('DNK'), np.int64(2010)),\n",
       " ('SSP1', np.str_('DNK'), np.int64(2015)),\n",
       " ('SSP1', np.str_('DOM'), np.int64(1980)),\n",
       " ('SSP1', np.str_('DOM'), np.int64(1985)),\n",
       " ('SSP1', np.str_('DOM'), np.int64(1990)),\n",
       " ('SSP1', np.str_('DOM'), np.int64(1995)),\n",
       " ('SSP1', np.str_('DOM'), np.int64(2000)),\n",
       " ('SSP1', np.str_('DOM'), np.int64(2005)),\n",
       " ('SSP1', np.str_('DOM'), np.int64(2010)),\n",
       " ('SSP1', np.str_('DOM'), np.int64(2015)),\n",
       " ('SSP1', np.str_('DZA'), np.int64(1980)),\n",
       " ('SSP1', np.str_('DZA'), np.int64(1985)),\n",
       " ('SSP1', np.str_('DZA'), np.int64(1990)),\n",
       " ('SSP1', np.str_('DZA'), np.int64(1995)),\n",
       " ('SSP1', np.str_('DZA'), np.int64(2000)),\n",
       " ('SSP1', np.str_('DZA'), np.int64(2005)),\n",
       " ('SSP1', np.str_('DZA'), np.int64(2010)),\n",
       " ('SSP1', np.str_('DZA'), np.int64(2015)),\n",
       " ('SSP1', np.str_('EARTH'), np.int64(1980)),\n",
       " ('SSP1', np.str_('EARTH'), np.int64(1985)),\n",
       " ('SSP1', np.str_('EARTH'), np.int64(1990)),\n",
       " ('SSP1', np.str_('EARTH'), np.int64(1995)),\n",
       " ('SSP1', np.str_('EARTH'), np.int64(2000)),\n",
       " ('SSP1', np.str_('EARTH'), np.int64(2005)),\n",
       " ('SSP1', np.str_('EARTH'), np.int64(2010)),\n",
       " ('SSP1', np.str_('EARTH'), np.int64(2015)),\n",
       " ('SSP1', np.str_('ECU'), np.int64(1980)),\n",
       " ('SSP1', np.str_('ECU'), np.int64(1985)),\n",
       " ('SSP1', np.str_('ECU'), np.int64(1990)),\n",
       " ('SSP1', np.str_('ECU'), np.int64(1995)),\n",
       " ('SSP1', np.str_('ECU'), np.int64(2000)),\n",
       " ('SSP1', np.str_('ECU'), np.int64(2005)),\n",
       " ('SSP1', np.str_('ECU'), np.int64(2010)),\n",
       " ('SSP1', np.str_('ECU'), np.int64(2015)),\n",
       " ('SSP1', np.str_('EGY'), np.int64(1980)),\n",
       " ('SSP1', np.str_('EGY'), np.int64(1985)),\n",
       " ('SSP1', np.str_('EGY'), np.int64(1990)),\n",
       " ('SSP1', np.str_('EGY'), np.int64(1995)),\n",
       " ('SSP1', np.str_('EGY'), np.int64(2000)),\n",
       " ('SSP1', np.str_('EGY'), np.int64(2005)),\n",
       " ('SSP1', np.str_('EGY'), np.int64(2010)),\n",
       " ('SSP1', np.str_('EGY'), np.int64(2015)),\n",
       " ('SSP1', np.str_('ERI'), np.int64(1995)),\n",
       " ('SSP1', np.str_('ERI'), np.int64(2000)),\n",
       " ('SSP1', np.str_('ERI'), np.int64(2005)),\n",
       " ('SSP1', np.str_('ERI'), np.int64(2010)),\n",
       " ('SSP1', np.str_('ERI'), np.int64(2015)),\n",
       " ('SSP1', np.str_('ESP'), np.int64(1980)),\n",
       " ('SSP1', np.str_('ESP'), np.int64(1985)),\n",
       " ('SSP1', np.str_('ESP'), np.int64(1990)),\n",
       " ('SSP1', np.str_('ESP'), np.int64(1995)),\n",
       " ('SSP1', np.str_('ESP'), np.int64(2000)),\n",
       " ('SSP1', np.str_('ESP'), np.int64(2005)),\n",
       " ('SSP1', np.str_('ESP'), np.int64(2010)),\n",
       " ('SSP1', np.str_('ESP'), np.int64(2015)),\n",
       " ('SSP1', np.str_('EST'), np.int64(1995)),\n",
       " ('SSP1', np.str_('EST'), np.int64(2000)),\n",
       " ('SSP1', np.str_('EST'), np.int64(2005)),\n",
       " ('SSP1', np.str_('EST'), np.int64(2010)),\n",
       " ('SSP1', np.str_('EST'), np.int64(2015)),\n",
       " ('SSP1', np.str_('ETH'), np.int64(1980)),\n",
       " ('SSP1', np.str_('ETH'), np.int64(1985)),\n",
       " ('SSP1', np.str_('ETH'), np.int64(1990)),\n",
       " ('SSP1', np.str_('ETH'), np.int64(1995)),\n",
       " ('SSP1', np.str_('ETH'), np.int64(2000)),\n",
       " ('SSP1', np.str_('ETH'), np.int64(2005)),\n",
       " ('SSP1', np.str_('ETH'), np.int64(2010)),\n",
       " ('SSP1', np.str_('ETH'), np.int64(2015)),\n",
       " ('SSP1', np.str_('FIN'), np.int64(1980)),\n",
       " ('SSP1', np.str_('FIN'), np.int64(1985)),\n",
       " ('SSP1', np.str_('FIN'), np.int64(1990)),\n",
       " ('SSP1', np.str_('FIN'), np.int64(1995)),\n",
       " ('SSP1', np.str_('FIN'), np.int64(2000)),\n",
       " ('SSP1', np.str_('FIN'), np.int64(2005)),\n",
       " ('SSP1', np.str_('FIN'), np.int64(2010)),\n",
       " ('SSP1', np.str_('FIN'), np.int64(2015)),\n",
       " ('SSP1', np.str_('FJI'), np.int64(1980)),\n",
       " ('SSP1', np.str_('FJI'), np.int64(1985)),\n",
       " ('SSP1', np.str_('FJI'), np.int64(1990)),\n",
       " ('SSP1', np.str_('FJI'), np.int64(1995)),\n",
       " ('SSP1', np.str_('FJI'), np.int64(2000)),\n",
       " ('SSP1', np.str_('FJI'), np.int64(2005)),\n",
       " ('SSP1', np.str_('FJI'), np.int64(2010)),\n",
       " ('SSP1', np.str_('FJI'), np.int64(2015)),\n",
       " ('SSP1', np.str_('FRA'), np.int64(1980)),\n",
       " ('SSP1', np.str_('FRA'), np.int64(1985)),\n",
       " ('SSP1', np.str_('FRA'), np.int64(1990)),\n",
       " ('SSP1', np.str_('FRA'), np.int64(1995)),\n",
       " ('SSP1', np.str_('FRA'), np.int64(2000)),\n",
       " ('SSP1', np.str_('FRA'), np.int64(2005)),\n",
       " ('SSP1', np.str_('FRA'), np.int64(2010)),\n",
       " ('SSP1', np.str_('FRA'), np.int64(2015)),\n",
       " ('SSP1', np.str_('FSM'), np.int64(1990)),\n",
       " ('SSP1', np.str_('FSM'), np.int64(1995)),\n",
       " ('SSP1', np.str_('FSM'), np.int64(2000)),\n",
       " ('SSP1', np.str_('FSM'), np.int64(2005)),\n",
       " ('SSP1', np.str_('FSM'), np.int64(2010)),\n",
       " ('SSP1', np.str_('FSM'), np.int64(2015)),\n",
       " ('SSP1', np.str_('GAB'), np.int64(1980)),\n",
       " ('SSP1', np.str_('GAB'), np.int64(1985)),\n",
       " ('SSP1', np.str_('GAB'), np.int64(1990)),\n",
       " ('SSP1', np.str_('GAB'), np.int64(1995)),\n",
       " ('SSP1', np.str_('GAB'), np.int64(2000)),\n",
       " ('SSP1', np.str_('GAB'), np.int64(2005)),\n",
       " ('SSP1', np.str_('GAB'), np.int64(2010)),\n",
       " ('SSP1', np.str_('GAB'), np.int64(2015)),\n",
       " ('SSP1', np.str_('GBR'), np.int64(1980)),\n",
       " ('SSP1', np.str_('GBR'), np.int64(1985)),\n",
       " ('SSP1', np.str_('GBR'), np.int64(1990)),\n",
       " ('SSP1', np.str_('GBR'), np.int64(1995)),\n",
       " ('SSP1', np.str_('GBR'), np.int64(2000)),\n",
       " ('SSP1', np.str_('GBR'), np.int64(2005)),\n",
       " ('SSP1', np.str_('GBR'), np.int64(2010)),\n",
       " ('SSP1', np.str_('GBR'), np.int64(2015)),\n",
       " ('SSP1', np.str_('GEO'), np.int64(1990)),\n",
       " ('SSP1', np.str_('GEO'), np.int64(1995)),\n",
       " ('SSP1', np.str_('GEO'), np.int64(2000)),\n",
       " ('SSP1', np.str_('GEO'), np.int64(2005)),\n",
       " ('SSP1', np.str_('GEO'), np.int64(2010)),\n",
       " ('SSP1', np.str_('GEO'), np.int64(2015)),\n",
       " ('SSP1', np.str_('GHA'), np.int64(1980)),\n",
       " ('SSP1', np.str_('GHA'), np.int64(1985)),\n",
       " ('SSP1', np.str_('GHA'), np.int64(1990)),\n",
       " ('SSP1', np.str_('GHA'), np.int64(1995)),\n",
       " ('SSP1', np.str_('GHA'), np.int64(2000)),\n",
       " ('SSP1', np.str_('GHA'), np.int64(2005)),\n",
       " ('SSP1', np.str_('GHA'), np.int64(2010)),\n",
       " ('SSP1', np.str_('GHA'), np.int64(2015)),\n",
       " ('SSP1', np.str_('GIN'), np.int64(1980)),\n",
       " ('SSP1', np.str_('GIN'), np.int64(1985)),\n",
       " ('SSP1', np.str_('GIN'), np.int64(1990)),\n",
       " ('SSP1', np.str_('GIN'), np.int64(1995)),\n",
       " ('SSP1', np.str_('GIN'), np.int64(2000)),\n",
       " ('SSP1', np.str_('GIN'), np.int64(2005)),\n",
       " ('SSP1', np.str_('GIN'), np.int64(2010)),\n",
       " ('SSP1', np.str_('GIN'), np.int64(2015)),\n",
       " ('SSP1', np.str_('GMB'), np.int64(1980)),\n",
       " ('SSP1', np.str_('GMB'), np.int64(1985)),\n",
       " ('SSP1', np.str_('GMB'), np.int64(1990)),\n",
       " ('SSP1', np.str_('GMB'), np.int64(1995)),\n",
       " ('SSP1', np.str_('GMB'), np.int64(2000)),\n",
       " ('SSP1', np.str_('GMB'), np.int64(2005)),\n",
       " ('SSP1', np.str_('GMB'), np.int64(2010)),\n",
       " ('SSP1', np.str_('GMB'), np.int64(2015)),\n",
       " ('SSP1', np.str_('GNB'), np.int64(1980)),\n",
       " ('SSP1', np.str_('GNB'), np.int64(1985)),\n",
       " ('SSP1', np.str_('GNB'), np.int64(1990)),\n",
       " ('SSP1', np.str_('GNB'), np.int64(1995)),\n",
       " ('SSP1', np.str_('GNB'), np.int64(2000)),\n",
       " ('SSP1', np.str_('GNB'), np.int64(2005)),\n",
       " ('SSP1', np.str_('GNB'), np.int64(2010)),\n",
       " ('SSP1', np.str_('GNB'), np.int64(2015)),\n",
       " ('SSP1', np.str_('GNQ'), np.int64(1980)),\n",
       " ('SSP1', np.str_('GNQ'), np.int64(1985)),\n",
       " ('SSP1', np.str_('GNQ'), np.int64(1990)),\n",
       " ('SSP1', np.str_('GNQ'), np.int64(1995)),\n",
       " ('SSP1', np.str_('GNQ'), np.int64(2000)),\n",
       " ('SSP1', np.str_('GNQ'), np.int64(2005)),\n",
       " ('SSP1', np.str_('GNQ'), np.int64(2010)),\n",
       " ('SSP1', np.str_('GNQ'), np.int64(2015)),\n",
       " ('SSP1', np.str_('GRC'), np.int64(1980)),\n",
       " ('SSP1', np.str_('GRC'), np.int64(1985)),\n",
       " ('SSP1', np.str_('GRC'), np.int64(1990)),\n",
       " ('SSP1', np.str_('GRC'), np.int64(1995)),\n",
       " ('SSP1', np.str_('GRC'), np.int64(2000)),\n",
       " ('SSP1', np.str_('GRC'), np.int64(2005)),\n",
       " ('SSP1', np.str_('GRC'), np.int64(2010)),\n",
       " ('SSP1', np.str_('GRC'), np.int64(2015)),\n",
       " ('SSP1', np.str_('GRD'), np.int64(1980)),\n",
       " ('SSP1', np.str_('GRD'), np.int64(1985)),\n",
       " ('SSP1', np.str_('GRD'), np.int64(1990)),\n",
       " ('SSP1', np.str_('GRD'), np.int64(1995)),\n",
       " ('SSP1', np.str_('GRD'), np.int64(2000)),\n",
       " ('SSP1', np.str_('GRD'), np.int64(2005)),\n",
       " ('SSP1', np.str_('GRD'), np.int64(2010)),\n",
       " ('SSP1', np.str_('GRD'), np.int64(2015)),\n",
       " ('SSP1', np.str_('GTM'), np.int64(1980)),\n",
       " ('SSP1', np.str_('GTM'), np.int64(1985)),\n",
       " ('SSP1', np.str_('GTM'), np.int64(1990)),\n",
       " ('SSP1', np.str_('GTM'), np.int64(1995)),\n",
       " ('SSP1', np.str_('GTM'), np.int64(2000)),\n",
       " ('SSP1', np.str_('GTM'), np.int64(2005)),\n",
       " ('SSP1', np.str_('GTM'), np.int64(2010)),\n",
       " ('SSP1', np.str_('GTM'), np.int64(2015)),\n",
       " ('SSP1', np.str_('GUY'), np.int64(1980)),\n",
       " ('SSP1', np.str_('GUY'), np.int64(1985)),\n",
       " ('SSP1', np.str_('GUY'), np.int64(1990)),\n",
       " ('SSP1', np.str_('GUY'), np.int64(1995)),\n",
       " ('SSP1', np.str_('GUY'), np.int64(2000)),\n",
       " ('SSP1', np.str_('GUY'), np.int64(2005)),\n",
       " ('SSP1', np.str_('GUY'), np.int64(2010)),\n",
       " ('SSP1', np.str_('GUY'), np.int64(2015)),\n",
       " ('SSP1', np.str_('HKG'), np.int64(1980)),\n",
       " ('SSP1', np.str_('HKG'), np.int64(1985)),\n",
       " ('SSP1', np.str_('HKG'), np.int64(1990)),\n",
       " ('SSP1', np.str_('HKG'), np.int64(1995)),\n",
       " ('SSP1', np.str_('HKG'), np.int64(2000)),\n",
       " ('SSP1', np.str_('HKG'), np.int64(2005)),\n",
       " ('SSP1', np.str_('HKG'), np.int64(2010)),\n",
       " ('SSP1', np.str_('HKG'), np.int64(2015)),\n",
       " ('SSP1', np.str_('HND'), np.int64(1980)),\n",
       " ('SSP1', np.str_('HND'), np.int64(1985)),\n",
       " ('SSP1', np.str_('HND'), np.int64(1990)),\n",
       " ('SSP1', np.str_('HND'), np.int64(1995)),\n",
       " ('SSP1', np.str_('HND'), np.int64(2000)),\n",
       " ('SSP1', np.str_('HND'), np.int64(2005)),\n",
       " ('SSP1', np.str_('HND'), np.int64(2010)),\n",
       " ('SSP1', np.str_('HND'), np.int64(2015)),\n",
       " ('SSP1', np.str_('HRV'), np.int64(1995)),\n",
       " ('SSP1', np.str_('HRV'), np.int64(2000)),\n",
       " ('SSP1', np.str_('HRV'), np.int64(2005)),\n",
       " ('SSP1', np.str_('HRV'), np.int64(2010)),\n",
       " ('SSP1', np.str_('HRV'), np.int64(2015)),\n",
       " ('SSP1', np.str_('HTI'), np.int64(1980)),\n",
       " ('SSP1', np.str_('HTI'), np.int64(1985)),\n",
       " ('SSP1', np.str_('HTI'), np.int64(1990)),\n",
       " ('SSP1', np.str_('HTI'), np.int64(1995)),\n",
       " ('SSP1', np.str_('HTI'), np.int64(2000)),\n",
       " ('SSP1', np.str_('HTI'), np.int64(2005)),\n",
       " ('SSP1', np.str_('HTI'), np.int64(2010)),\n",
       " ('SSP1', np.str_('HTI'), np.int64(2015)),\n",
       " ('SSP1', np.str_('HUN'), np.int64(1980)),\n",
       " ('SSP1', np.str_('HUN'), np.int64(1985)),\n",
       " ('SSP1', np.str_('HUN'), np.int64(1990)),\n",
       " ('SSP1', np.str_('HUN'), np.int64(1995)),\n",
       " ('SSP1', np.str_('HUN'), np.int64(2000)),\n",
       " ('SSP1', np.str_('HUN'), np.int64(2005)),\n",
       " ('SSP1', np.str_('HUN'), np.int64(2010)),\n",
       " ('SSP1', np.str_('HUN'), np.int64(2015)),\n",
       " ('SSP1', np.str_('IDN'), np.int64(1980)),\n",
       " ('SSP1', np.str_('IDN'), np.int64(1985)),\n",
       " ('SSP1', np.str_('IDN'), np.int64(1990)),\n",
       " ('SSP1', np.str_('IDN'), np.int64(1995)),\n",
       " ('SSP1', np.str_('IDN'), np.int64(2000)),\n",
       " ('SSP1', np.str_('IDN'), np.int64(2005)),\n",
       " ('SSP1', np.str_('IDN'), np.int64(2010)),\n",
       " ('SSP1', np.str_('IDN'), np.int64(2015)),\n",
       " ('SSP1', np.str_('IND'), np.int64(1980)),\n",
       " ('SSP1', np.str_('IND'), np.int64(1985)),\n",
       " ('SSP1', np.str_('IND'), np.int64(1990)),\n",
       " ('SSP1', np.str_('IND'), np.int64(1995)),\n",
       " ('SSP1', np.str_('IND'), np.int64(2000)),\n",
       " ('SSP1', np.str_('IND'), np.int64(2005)),\n",
       " ('SSP1', np.str_('IND'), np.int64(2010)),\n",
       " ('SSP1', np.str_('IND'), np.int64(2015)),\n",
       " ('SSP1', np.str_('IRL'), np.int64(1980)),\n",
       " ('SSP1', np.str_('IRL'), np.int64(1985)),\n",
       " ('SSP1', np.str_('IRL'), np.int64(1990)),\n",
       " ('SSP1', np.str_('IRL'), np.int64(1995)),\n",
       " ('SSP1', np.str_('IRL'), np.int64(2000)),\n",
       " ('SSP1', np.str_('IRL'), np.int64(2005)),\n",
       " ('SSP1', np.str_('IRL'), np.int64(2010)),\n",
       " ('SSP1', np.str_('IRL'), np.int64(2015)),\n",
       " ('SSP1', np.str_('IRN'), np.int64(1980)),\n",
       " ('SSP1', np.str_('IRN'), np.int64(1985)),\n",
       " ('SSP1', np.str_('IRN'), np.int64(1990)),\n",
       " ('SSP1', np.str_('IRN'), np.int64(1995)),\n",
       " ('SSP1', np.str_('IRN'), np.int64(2000)),\n",
       " ('SSP1', np.str_('IRN'), np.int64(2005)),\n",
       " ('SSP1', np.str_('IRN'), np.int64(2010)),\n",
       " ('SSP1', np.str_('IRN'), np.int64(2015)),\n",
       " ('SSP1', np.str_('IRQ'), np.int64(1990)),\n",
       " ('SSP1', np.str_('IRQ'), np.int64(1995)),\n",
       " ('SSP1', np.str_('IRQ'), np.int64(2000)),\n",
       " ('SSP1', np.str_('IRQ'), np.int64(2005)),\n",
       " ('SSP1', np.str_('IRQ'), np.int64(2010)),\n",
       " ('SSP1', np.str_('IRQ'), np.int64(2015)),\n",
       " ('SSP1', np.str_('ISL'), np.int64(1980)),\n",
       " ('SSP1', np.str_('ISL'), np.int64(1985)),\n",
       " ('SSP1', np.str_('ISL'), np.int64(1990)),\n",
       " ('SSP1', np.str_('ISL'), np.int64(1995)),\n",
       " ('SSP1', np.str_('ISL'), np.int64(2000)),\n",
       " ('SSP1', np.str_('ISL'), np.int64(2005)),\n",
       " ('SSP1', np.str_('ISL'), np.int64(2010)),\n",
       " ('SSP1', np.str_('ISL'), np.int64(2015)),\n",
       " ('SSP1', np.str_('ISR'), np.int64(1980)),\n",
       " ('SSP1', np.str_('ISR'), np.int64(1985)),\n",
       " ('SSP1', np.str_('ISR'), np.int64(1990)),\n",
       " ('SSP1', np.str_('ISR'), np.int64(1995)),\n",
       " ('SSP1', np.str_('ISR'), np.int64(2000)),\n",
       " ('SSP1', np.str_('ISR'), np.int64(2005)),\n",
       " ('SSP1', np.str_('ISR'), np.int64(2010)),\n",
       " ('SSP1', np.str_('ISR'), np.int64(2015)),\n",
       " ('SSP1', np.str_('ITA'), np.int64(1980)),\n",
       " ('SSP1', np.str_('ITA'), np.int64(1985)),\n",
       " ('SSP1', np.str_('ITA'), np.int64(1990)),\n",
       " ('SSP1', np.str_('ITA'), np.int64(1995)),\n",
       " ('SSP1', np.str_('ITA'), np.int64(2000)),\n",
       " ('SSP1', np.str_('ITA'), np.int64(2005)),\n",
       " ('SSP1', np.str_('ITA'), np.int64(2010)),\n",
       " ('SSP1', np.str_('ITA'), np.int64(2015)),\n",
       " ('SSP1', np.str_('JAM'), np.int64(1980)),\n",
       " ('SSP1', np.str_('JAM'), np.int64(1985)),\n",
       " ('SSP1', np.str_('JAM'), np.int64(1990)),\n",
       " ('SSP1', np.str_('JAM'), np.int64(1995)),\n",
       " ('SSP1', np.str_('JAM'), np.int64(2000)),\n",
       " ('SSP1', np.str_('JAM'), np.int64(2005)),\n",
       " ('SSP1', np.str_('JAM'), np.int64(2010)),\n",
       " ('SSP1', np.str_('JAM'), np.int64(2015)),\n",
       " ('SSP1', np.str_('JOR'), np.int64(1980)),\n",
       " ('SSP1', np.str_('JOR'), np.int64(1985)),\n",
       " ('SSP1', np.str_('JOR'), np.int64(1990)),\n",
       " ('SSP1', np.str_('JOR'), np.int64(1995)),\n",
       " ('SSP1', np.str_('JOR'), np.int64(2000)),\n",
       " ('SSP1', np.str_('JOR'), np.int64(2005)),\n",
       " ('SSP1', np.str_('JOR'), np.int64(2010)),\n",
       " ('SSP1', np.str_('JOR'), np.int64(2015)),\n",
       " ('SSP1', np.str_('JPN'), np.int64(1980)),\n",
       " ('SSP1', np.str_('JPN'), np.int64(1985)),\n",
       " ('SSP1', np.str_('JPN'), np.int64(1990)),\n",
       " ('SSP1', np.str_('JPN'), np.int64(1995)),\n",
       " ('SSP1', np.str_('JPN'), np.int64(2000)),\n",
       " ('SSP1', np.str_('JPN'), np.int64(2005)),\n",
       " ('SSP1', np.str_('JPN'), np.int64(2010)),\n",
       " ('SSP1', np.str_('JPN'), np.int64(2015)),\n",
       " ('SSP1', np.str_('KAZ'), np.int64(1990)),\n",
       " ('SSP1', np.str_('KAZ'), np.int64(1995)),\n",
       " ('SSP1', np.str_('KAZ'), np.int64(2000)),\n",
       " ('SSP1', np.str_('KAZ'), np.int64(2005)),\n",
       " ('SSP1', np.str_('KAZ'), np.int64(2010)),\n",
       " ('SSP1', np.str_('KAZ'), np.int64(2015)),\n",
       " ('SSP1', np.str_('KEN'), np.int64(1980)),\n",
       " ('SSP1', np.str_('KEN'), np.int64(1985)),\n",
       " ('SSP1', np.str_('KEN'), np.int64(1990)),\n",
       " ('SSP1', np.str_('KEN'), np.int64(1995)),\n",
       " ('SSP1', np.str_('KEN'), np.int64(2000)),\n",
       " ('SSP1', np.str_('KEN'), np.int64(2005)),\n",
       " ('SSP1', np.str_('KEN'), np.int64(2010)),\n",
       " ('SSP1', np.str_('KEN'), np.int64(2015)),\n",
       " ('SSP1', np.str_('KGZ'), np.int64(1990)),\n",
       " ('SSP1', np.str_('KGZ'), np.int64(1995)),\n",
       " ('SSP1', np.str_('KGZ'), np.int64(2000)),\n",
       " ('SSP1', np.str_('KGZ'), np.int64(2005)),\n",
       " ('SSP1', np.str_('KGZ'), np.int64(2010)),\n",
       " ('SSP1', np.str_('KGZ'), np.int64(2015)),\n",
       " ('SSP1', np.str_('KHM'), np.int64(1990)),\n",
       " ('SSP1', np.str_('KHM'), np.int64(1995)),\n",
       " ('SSP1', np.str_('KHM'), np.int64(2000)),\n",
       " ('SSP1', np.str_('KHM'), np.int64(2005)),\n",
       " ('SSP1', np.str_('KHM'), np.int64(2010)),\n",
       " ('SSP1', np.str_('KHM'), np.int64(2015)),\n",
       " ('SSP1', np.str_('KIR'), np.int64(1980)),\n",
       " ('SSP1', np.str_('KIR'), np.int64(1985)),\n",
       " ('SSP1', np.str_('KIR'), np.int64(1990)),\n",
       " ('SSP1', np.str_('KIR'), np.int64(1995)),\n",
       " ('SSP1', np.str_('KIR'), np.int64(2000)),\n",
       " ('SSP1', np.str_('KIR'), np.int64(2005)),\n",
       " ('SSP1', np.str_('KIR'), np.int64(2010)),\n",
       " ('SSP1', np.str_('KIR'), np.int64(2015)),\n",
       " ('SSP1', np.str_('KOR'), np.int64(1980)),\n",
       " ('SSP1', np.str_('KOR'), np.int64(1985)),\n",
       " ('SSP1', np.str_('KOR'), np.int64(1990)),\n",
       " ('SSP1', np.str_('KOR'), np.int64(1995)),\n",
       " ('SSP1', np.str_('KOR'), np.int64(2000)),\n",
       " ('SSP1', np.str_('KOR'), np.int64(2005)),\n",
       " ('SSP1', np.str_('KOR'), np.int64(2010)),\n",
       " ('SSP1', np.str_('KOR'), np.int64(2015)),\n",
       " ('SSP1', np.str_('KWT'), np.int64(1980)),\n",
       " ('SSP1', np.str_('KWT'), np.int64(1985)),\n",
       " ('SSP1', np.str_('KWT'), np.int64(1990)),\n",
       " ('SSP1', np.str_('KWT'), np.int64(1995)),\n",
       " ('SSP1', np.str_('KWT'), np.int64(2000)),\n",
       " ('SSP1', np.str_('KWT'), np.int64(2005)),\n",
       " ('SSP1', np.str_('KWT'), np.int64(2010)),\n",
       " ('SSP1', np.str_('KWT'), np.int64(2015)),\n",
       " ('SSP1', np.str_('LAO'), np.int64(1980)),\n",
       " ('SSP1', np.str_('LAO'), np.int64(1985)),\n",
       " ('SSP1', np.str_('LAO'), np.int64(1990)),\n",
       " ('SSP1', np.str_('LAO'), np.int64(1995)),\n",
       " ('SSP1', np.str_('LAO'), np.int64(2000)),\n",
       " ('SSP1', np.str_('LAO'), np.int64(2005)),\n",
       " ('SSP1', np.str_('LAO'), np.int64(2010)),\n",
       " ('SSP1', np.str_('LAO'), np.int64(2015)),\n",
       " ('SSP1', np.str_('LBN'), np.int64(1980)),\n",
       " ('SSP1', np.str_('LBN'), np.int64(1985)),\n",
       " ('SSP1', np.str_('LBN'), np.int64(1990)),\n",
       " ('SSP1', np.str_('LBN'), np.int64(1995)),\n",
       " ('SSP1', np.str_('LBN'), np.int64(2000)),\n",
       " ('SSP1', np.str_('LBN'), np.int64(2005)),\n",
       " ('SSP1', np.str_('LBN'), np.int64(2010)),\n",
       " ('SSP1', np.str_('LBN'), np.int64(2015)),\n",
       " ('SSP1', np.str_('LBR'), np.int64(2000)),\n",
       " ('SSP1', np.str_('LBR'), np.int64(2005)),\n",
       " ('SSP1', np.str_('LBR'), np.int64(2010)),\n",
       " ('SSP1', np.str_('LBR'), np.int64(2015)),\n",
       " ('SSP1', np.str_('LBY'), np.int64(1980)),\n",
       " ('SSP1', np.str_('LBY'), np.int64(1985)),\n",
       " ('SSP1', np.str_('LBY'), np.int64(1990)),\n",
       " ('SSP1', np.str_('LBY'), np.int64(1995)),\n",
       " ('SSP1', np.str_('LBY'), np.int64(2000)),\n",
       " ('SSP1', np.str_('LBY'), np.int64(2005)),\n",
       " ('SSP1', np.str_('LBY'), np.int64(2010)),\n",
       " ('SSP1', np.str_('LBY'), np.int64(2015)),\n",
       " ('SSP1', np.str_('LCA'), np.int64(1980)),\n",
       " ('SSP1', np.str_('LCA'), np.int64(1985)),\n",
       " ('SSP1', np.str_('LCA'), np.int64(1990)),\n",
       " ('SSP1', np.str_('LCA'), np.int64(1995)),\n",
       " ('SSP1', np.str_('LCA'), np.int64(2000)),\n",
       " ('SSP1', np.str_('LCA'), np.int64(2005)),\n",
       " ('SSP1', np.str_('LCA'), np.int64(2010)),\n",
       " ('SSP1', np.str_('LCA'), np.int64(2015)),\n",
       " ('SSP1', np.str_('LKA'), np.int64(1980)),\n",
       " ('SSP1', np.str_('LKA'), np.int64(1985)),\n",
       " ('SSP1', np.str_('LKA'), np.int64(1990)),\n",
       " ('SSP1', np.str_('LKA'), np.int64(1995)),\n",
       " ('SSP1', np.str_('LKA'), np.int64(2000)),\n",
       " ('SSP1', np.str_('LKA'), np.int64(2005)),\n",
       " ('SSP1', np.str_('LKA'), np.int64(2010)),\n",
       " ('SSP1', np.str_('LKA'), np.int64(2015)),\n",
       " ('SSP1', np.str_('LSO'), np.int64(1980)),\n",
       " ('SSP1', np.str_('LSO'), np.int64(1985)),\n",
       " ('SSP1', np.str_('LSO'), np.int64(1990)),\n",
       " ('SSP1', np.str_('LSO'), np.int64(1995)),\n",
       " ('SSP1', np.str_('LSO'), np.int64(2000)),\n",
       " ('SSP1', np.str_('LSO'), np.int64(2005)),\n",
       " ('SSP1', np.str_('LSO'), np.int64(2010)),\n",
       " ('SSP1', np.str_('LSO'), np.int64(2015)),\n",
       " ('SSP1', np.str_('LTU'), np.int64(1995)),\n",
       " ('SSP1', np.str_('LTU'), np.int64(2000)),\n",
       " ('SSP1', np.str_('LTU'), np.int64(2005)),\n",
       " ('SSP1', np.str_('LTU'), np.int64(2010)),\n",
       " ('SSP1', np.str_('LTU'), np.int64(2015)),\n",
       " ('SSP1', np.str_('LUX'), np.int64(1980)),\n",
       " ('SSP1', np.str_('LUX'), np.int64(1985)),\n",
       " ('SSP1', np.str_('LUX'), np.int64(1990)),\n",
       " ('SSP1', np.str_('LUX'), np.int64(1995)),\n",
       " ('SSP1', np.str_('LUX'), np.int64(2000)),\n",
       " ('SSP1', np.str_('LUX'), np.int64(2005)),\n",
       " ('SSP1', np.str_('LUX'), np.int64(2010)),\n",
       " ('SSP1', np.str_('LUX'), np.int64(2015)),\n",
       " ('SSP1', np.str_('LVA'), np.int64(1995)),\n",
       " ('SSP1', np.str_('LVA'), np.int64(2000)),\n",
       " ('SSP1', np.str_('LVA'), np.int64(2005)),\n",
       " ('SSP1', np.str_('LVA'), np.int64(2010)),\n",
       " ('SSP1', np.str_('LVA'), np.int64(2015)),\n",
       " ('SSP1', np.str_('MAC'), np.int64(1990)),\n",
       " ('SSP1', np.str_('MAC'), np.int64(1995)),\n",
       " ('SSP1', np.str_('MAC'), np.int64(2000)),\n",
       " ('SSP1', np.str_('MAC'), np.int64(2005)),\n",
       " ('SSP1', np.str_('MAC'), np.int64(2010)),\n",
       " ('SSP1', np.str_('MAC'), np.int64(2015)),\n",
       " ('SSP1', np.str_('MAR'), np.int64(1980)),\n",
       " ('SSP1', np.str_('MAR'), np.int64(1985)),\n",
       " ('SSP1', np.str_('MAR'), np.int64(1990)),\n",
       " ('SSP1', np.str_('MAR'), np.int64(1995)),\n",
       " ('SSP1', np.str_('MAR'), np.int64(2000)),\n",
       " ('SSP1', np.str_('MAR'), np.int64(2005)),\n",
       " ('SSP1', np.str_('MAR'), np.int64(2010)),\n",
       " ('SSP1', np.str_('MAR'), np.int64(2015)),\n",
       " ('SSP1', np.str_('MDA'), np.int64(1995)),\n",
       " ('SSP1', np.str_('MDA'), np.int64(2000)),\n",
       " ('SSP1', np.str_('MDA'), np.int64(2005)),\n",
       " ('SSP1', np.str_('MDA'), np.int64(2010)),\n",
       " ('SSP1', np.str_('MDA'), np.int64(2015)),\n",
       " ('SSP1', np.str_('MDG'), np.int64(1980)),\n",
       " ('SSP1', np.str_('MDG'), np.int64(1985)),\n",
       " ('SSP1', np.str_('MDG'), np.int64(1990)),\n",
       " ('SSP1', np.str_('MDG'), np.int64(1995)),\n",
       " ('SSP1', np.str_('MDG'), np.int64(2000)),\n",
       " ('SSP1', np.str_('MDG'), np.int64(2005)),\n",
       " ('SSP1', np.str_('MDG'), np.int64(2010)),\n",
       " ('SSP1', np.str_('MDG'), np.int64(2015)),\n",
       " ('SSP1', np.str_('MDV'), np.int64(1980)),\n",
       " ('SSP1', np.str_('MDV'), np.int64(1985)),\n",
       " ('SSP1', np.str_('MDV'), np.int64(1990)),\n",
       " ('SSP1', np.str_('MDV'), np.int64(1995)),\n",
       " ('SSP1', np.str_('MDV'), np.int64(2000)),\n",
       " ('SSP1', np.str_('MDV'), np.int64(2005)),\n",
       " ('SSP1', np.str_('MDV'), np.int64(2010)),\n",
       " ('SSP1', np.str_('MDV'), np.int64(2015)),\n",
       " ('SSP1', np.str_('MEX'), np.int64(1980)),\n",
       " ('SSP1', np.str_('MEX'), np.int64(1985)),\n",
       " ('SSP1', np.str_('MEX'), np.int64(1990)),\n",
       " ('SSP1', np.str_('MEX'), np.int64(1995)),\n",
       " ('SSP1', np.str_('MEX'), np.int64(2000)),\n",
       " ('SSP1', np.str_('MEX'), np.int64(2005)),\n",
       " ('SSP1', np.str_('MEX'), np.int64(2010)),\n",
       " ('SSP1', np.str_('MEX'), np.int64(2015)),\n",
       " ('SSP1', np.str_('MKD'), np.int64(1990)),\n",
       " ('SSP1', np.str_('MKD'), np.int64(1995)),\n",
       " ('SSP1', np.str_('MKD'), np.int64(2000)),\n",
       " ('SSP1', np.str_('MKD'), np.int64(2005)),\n",
       " ('SSP1', np.str_('MKD'), np.int64(2010)),\n",
       " ('SSP1', np.str_('MKD'), np.int64(2015)),\n",
       " ('SSP1', np.str_('MLI'), np.int64(1980)),\n",
       " ('SSP1', np.str_('MLI'), np.int64(1985)),\n",
       " ('SSP1', np.str_('MLI'), np.int64(1990)),\n",
       " ('SSP1', np.str_('MLI'), np.int64(1995)),\n",
       " ('SSP1', np.str_('MLI'), np.int64(2000)),\n",
       " ('SSP1', np.str_('MLI'), np.int64(2005)),\n",
       " ('SSP1', np.str_('MLI'), np.int64(2010)),\n",
       " ('SSP1', np.str_('MLI'), np.int64(2015)),\n",
       " ('SSP1', np.str_('MLT'), np.int64(1980)),\n",
       " ('SSP1', np.str_('MLT'), np.int64(1985)),\n",
       " ('SSP1', np.str_('MLT'), np.int64(1990)),\n",
       " ('SSP1', np.str_('MLT'), np.int64(1995)),\n",
       " ('SSP1', np.str_('MLT'), np.int64(2000)),\n",
       " ('SSP1', np.str_('MLT'), np.int64(2005)),\n",
       " ('SSP1', np.str_('MLT'), np.int64(2010)),\n",
       " ('SSP1', np.str_('MLT'), np.int64(2015)),\n",
       " ('SSP1', np.str_('MMR'), np.int64(1990)),\n",
       " ('SSP1', np.str_('MMR'), np.int64(1995)),\n",
       " ('SSP1', np.str_('MMR'), np.int64(2000)),\n",
       " ('SSP1', np.str_('MMR'), np.int64(2005)),\n",
       " ('SSP1', np.str_('MMR'), np.int64(2010)),\n",
       " ('SSP1', np.str_('MMR'), np.int64(2015)),\n",
       " ('SSP1', np.str_('MNE'), np.int64(2000)),\n",
       " ('SSP1', np.str_('MNE'), np.int64(2005)),\n",
       " ('SSP1', np.str_('MNE'), np.int64(2010)),\n",
       " ('SSP1', np.str_('MNE'), np.int64(2015)),\n",
       " ('SSP1', np.str_('MNG'), np.int64(1980)),\n",
       " ('SSP1', np.str_('MNG'), np.int64(1985)),\n",
       " ('SSP1', np.str_('MNG'), np.int64(1990)),\n",
       " ('SSP1', np.str_('MNG'), np.int64(1995)),\n",
       " ('SSP1', np.str_('MNG'), np.int64(2000)),\n",
       " ('SSP1', np.str_('MNG'), np.int64(2005)),\n",
       " ('SSP1', np.str_('MNG'), np.int64(2010)),\n",
       " ('SSP1', np.str_('MNG'), np.int64(2015)),\n",
       " ('SSP1', np.str_('MOZ'), np.int64(1980)),\n",
       " ('SSP1', np.str_('MOZ'), np.int64(1985)),\n",
       " ('SSP1', np.str_('MOZ'), np.int64(1990)),\n",
       " ('SSP1', np.str_('MOZ'), np.int64(1995)),\n",
       " ('SSP1', np.str_('MOZ'), np.int64(2000)),\n",
       " ('SSP1', np.str_('MOZ'), np.int64(2005)),\n",
       " ('SSP1', np.str_('MOZ'), np.int64(2010)),\n",
       " ('SSP1', np.str_('MOZ'), np.int64(2015)),\n",
       " ('SSP1', np.str_('MRT'), np.int64(1990)),\n",
       " ('SSP1', np.str_('MRT'), np.int64(1995)),\n",
       " ('SSP1', np.str_('MRT'), np.int64(2000)),\n",
       " ('SSP1', np.str_('MRT'), np.int64(2005)),\n",
       " ('SSP1', np.str_('MRT'), np.int64(2010)),\n",
       " ('SSP1', np.str_('MRT'), np.int64(2015)),\n",
       " ('SSP1', np.str_('MUS'), np.int64(1980)),\n",
       " ('SSP1', np.str_('MUS'), np.int64(1985)),\n",
       " ('SSP1', np.str_('MUS'), np.int64(1990)),\n",
       " ('SSP1', np.str_('MUS'), np.int64(1995)),\n",
       " ('SSP1', np.str_('MUS'), np.int64(2000)),\n",
       " ('SSP1', np.str_('MUS'), np.int64(2005)),\n",
       " ('SSP1', np.str_('MUS'), np.int64(2010)),\n",
       " ('SSP1', np.str_('MUS'), np.int64(2015)),\n",
       " ('SSP1', np.str_('MWI'), np.int64(1980)),\n",
       " ('SSP1', np.str_('MWI'), np.int64(1985)),\n",
       " ('SSP1', np.str_('MWI'), np.int64(1990)),\n",
       " ('SSP1', np.str_('MWI'), np.int64(1995)),\n",
       " ('SSP1', np.str_('MWI'), np.int64(2000)),\n",
       " ('SSP1', np.str_('MWI'), np.int64(2005)),\n",
       " ('SSP1', np.str_('MWI'), np.int64(2010)),\n",
       " ('SSP1', np.str_('MWI'), np.int64(2015)),\n",
       " ('SSP1', np.str_('MYS'), np.int64(1980)),\n",
       " ('SSP1', np.str_('MYS'), np.int64(1985)),\n",
       " ('SSP1', np.str_('MYS'), np.int64(1990)),\n",
       " ('SSP1', np.str_('MYS'), np.int64(1995)),\n",
       " ('SSP1', np.str_('MYS'), np.int64(2000)),\n",
       " ('SSP1', np.str_('MYS'), np.int64(2005)),\n",
       " ('SSP1', np.str_('MYS'), np.int64(2010)),\n",
       " ('SSP1', np.str_('MYS'), np.int64(2015)),\n",
       " ('SSP1', np.str_('NAM'), np.int64(1990)),\n",
       " ('SSP1', np.str_('NAM'), np.int64(1995)),\n",
       " ('SSP1', np.str_('NAM'), np.int64(2000)),\n",
       " ('SSP1', np.str_('NAM'), np.int64(2005)),\n",
       " ('SSP1', np.str_('NAM'), np.int64(2010)),\n",
       " ('SSP1', np.str_('NAM'), np.int64(2015)),\n",
       " ('SSP1', np.str_('NER'), np.int64(1980)),\n",
       " ('SSP1', np.str_('NER'), np.int64(1985)),\n",
       " ('SSP1', np.str_('NER'), np.int64(1990)),\n",
       " ('SSP1', np.str_('NER'), np.int64(1995)),\n",
       " ('SSP1', np.str_('NER'), np.int64(2000)),\n",
       " ('SSP1', np.str_('NER'), np.int64(2005)),\n",
       " ('SSP1', np.str_('NER'), np.int64(2010)),\n",
       " ('SSP1', np.str_('NER'), np.int64(2015)),\n",
       " ('SSP1', np.str_('NGA'), np.int64(1990)),\n",
       " ('SSP1', np.str_('NGA'), np.int64(1995)),\n",
       " ('SSP1', np.str_('NGA'), np.int64(2000)),\n",
       " ('SSP1', np.str_('NGA'), np.int64(2005)),\n",
       " ('SSP1', np.str_('NGA'), np.int64(2010)),\n",
       " ('SSP1', np.str_('NGA'), np.int64(2015)),\n",
       " ('SSP1', np.str_('NIC'), np.int64(1990)),\n",
       " ('SSP1', np.str_('NIC'), np.int64(1995)),\n",
       " ('SSP1', np.str_('NIC'), np.int64(2000)),\n",
       " ('SSP1', np.str_('NIC'), np.int64(2005)),\n",
       " ('SSP1', np.str_('NIC'), np.int64(2010)),\n",
       " ('SSP1', np.str_('NIC'), np.int64(2015)),\n",
       " ('SSP1', np.str_('NLD'), np.int64(1980)),\n",
       " ('SSP1', np.str_('NLD'), np.int64(1985)),\n",
       " ('SSP1', np.str_('NLD'), np.int64(1990)),\n",
       " ('SSP1', np.str_('NLD'), np.int64(1995)),\n",
       " ('SSP1', np.str_('NLD'), np.int64(2000)),\n",
       " ('SSP1', np.str_('NLD'), np.int64(2005)),\n",
       " ('SSP1', np.str_('NLD'), np.int64(2010)),\n",
       " ('SSP1', np.str_('NLD'), np.int64(2015)),\n",
       " ('SSP1', np.str_('NOR'), np.int64(1980)),\n",
       " ('SSP1', np.str_('NOR'), np.int64(1985)),\n",
       " ('SSP1', np.str_('NOR'), np.int64(1990)),\n",
       " ('SSP1', np.str_('NOR'), np.int64(1995)),\n",
       " ('SSP1', np.str_('NOR'), np.int64(2000)),\n",
       " ('SSP1', np.str_('NOR'), np.int64(2005)),\n",
       " ('SSP1', np.str_('NOR'), np.int64(2010)),\n",
       " ('SSP1', np.str_('NOR'), np.int64(2015)),\n",
       " ('SSP1', np.str_('NPL'), np.int64(1980)),\n",
       " ('SSP1', np.str_('NPL'), np.int64(1985)),\n",
       " ('SSP1', np.str_('NPL'), np.int64(1990)),\n",
       " ('SSP1', np.str_('NPL'), np.int64(1995)),\n",
       " ('SSP1', np.str_('NPL'), np.int64(2000)),\n",
       " ('SSP1', np.str_('NPL'), np.int64(2005)),\n",
       " ('SSP1', np.str_('NPL'), np.int64(2010)),\n",
       " ('SSP1', np.str_('NPL'), np.int64(2015)),\n",
       " ('SSP1', np.str_('NZL'), np.int64(1980)),\n",
       " ('SSP1', np.str_('NZL'), np.int64(1985)),\n",
       " ('SSP1', np.str_('NZL'), np.int64(1990)),\n",
       " ('SSP1', np.str_('NZL'), np.int64(1995)),\n",
       " ('SSP1', np.str_('NZL'), np.int64(2000)),\n",
       " ('SSP1', np.str_('NZL'), np.int64(2005)),\n",
       " ('SSP1', np.str_('NZL'), np.int64(2010)),\n",
       " ('SSP1', np.str_('NZL'), np.int64(2015)),\n",
       " ('SSP1', np.str_('OMN'), np.int64(1980)),\n",
       " ('SSP1', np.str_('OMN'), np.int64(1985)),\n",
       " ('SSP1', np.str_('OMN'), np.int64(1990)),\n",
       " ('SSP1', np.str_('OMN'), np.int64(1995)),\n",
       " ('SSP1', np.str_('OMN'), np.int64(2000)),\n",
       " ('SSP1', np.str_('OMN'), np.int64(2005)),\n",
       " ('SSP1', np.str_('OMN'), np.int64(2010)),\n",
       " ('SSP1', np.str_('OMN'), np.int64(2015)),\n",
       " ('SSP1', np.str_('PAK'), np.int64(1980)),\n",
       " ('SSP1', np.str_('PAK'), np.int64(1985)),\n",
       " ('SSP1', np.str_('PAK'), np.int64(1990)),\n",
       " ('SSP1', np.str_('PAK'), np.int64(1995)),\n",
       " ('SSP1', np.str_('PAK'), np.int64(2000)),\n",
       " ('SSP1', np.str_('PAK'), np.int64(2005)),\n",
       " ('SSP1', np.str_('PAK'), np.int64(2010)),\n",
       " ('SSP1', np.str_('PAK'), np.int64(2015)),\n",
       " ('SSP1', np.str_('PAN'), np.int64(1980)),\n",
       " ('SSP1', np.str_('PAN'), np.int64(1985)),\n",
       " ('SSP1', np.str_('PAN'), np.int64(1990)),\n",
       " ('SSP1', np.str_('PAN'), np.int64(1995)),\n",
       " ('SSP1', np.str_('PAN'), np.int64(2000)),\n",
       " ('SSP1', np.str_('PAN'), np.int64(2005)),\n",
       " ('SSP1', np.str_('PAN'), np.int64(2010)),\n",
       " ('SSP1', np.str_('PAN'), np.int64(2015)),\n",
       " ('SSP1', np.str_('PER'), np.int64(1980)),\n",
       " ('SSP1', np.str_('PER'), np.int64(1985)),\n",
       " ('SSP1', np.str_('PER'), np.int64(1990)),\n",
       " ('SSP1', np.str_('PER'), np.int64(1995)),\n",
       " ('SSP1', np.str_('PER'), np.int64(2000)),\n",
       " ('SSP1', np.str_('PER'), np.int64(2005)),\n",
       " ('SSP1', np.str_('PER'), np.int64(2010)),\n",
       " ('SSP1', np.str_('PER'), np.int64(2015)),\n",
       " ('SSP1', np.str_('PHL'), np.int64(1980)),\n",
       " ('SSP1', np.str_('PHL'), np.int64(1985)),\n",
       " ('SSP1', np.str_('PHL'), np.int64(1990)),\n",
       " ('SSP1', np.str_('PHL'), np.int64(1995)),\n",
       " ('SSP1', np.str_('PHL'), np.int64(2000)),\n",
       " ('SSP1', np.str_('PHL'), np.int64(2005)),\n",
       " ('SSP1', np.str_('PHL'), np.int64(2010)),\n",
       " ('SSP1', np.str_('PHL'), np.int64(2015)),\n",
       " ...]"
      ]
     },
     "execution_count": 3,
     "metadata": {},
     "output_type": "execute_result"
    }
   ],
   "source": [
    "# Testing alternative implementation of read_ssps\n",
    "import numpy as np\n",
    "import xarray as xr\n",
    "\n",
    "ssps_old = datareading.read_ssps(config, regions=general.regions)\n",
    "ssps_new = datareading.read_ssps_refactor(config, regions=general.regions)\n",
    "\n",
    "# This fails:\n",
    "# xr.testing.assert_equal(ssps_new, ssps_old)\n",
    "\n",
    "# Get the elements that are not the same. \n",
    "mismatch1 = ssps_new.GDP.where(ssps_old.GDP != ssps_new.GDP)\n",
    "\n",
    "# Looks like old version has more NaNs; this yields the same mismatch as above\n",
    "old_is_nan = np.isnan(ssps_old.GDP)\n",
    "new_is_not_nan = ~np.isnan(ssps_new.GDP)\n",
    "mismatch2 = ssps_new.GDP.where((old_is_nan) & (new_is_not_nan))\n",
    "xr.testing.assert_equal(mismatch1, mismatch2)  # passes, so these are indeed the same\n",
    "\n",
    "# Inspect which entries are missing in old but present in new version\n",
    "mismatch_coords = mismatch1.stack(coords=mismatch1.dims).dropna(\"coords\")\n",
    "np.unique(mismatch_coords.Time)  # Only historical\n",
    "np.unique(mismatch_coords.Region) # Almost all (186 / 201) regions\n",
    "np.unique(mismatch_coords.Scenario)  # All scenarios\n",
    "list(zip(*[mismatch_coords[dim].values for dim in mismatch1.dims]))\n",
    "# These entries do seem to be present in excel sheet\n"
   ]
  },
  {
   "cell_type": "code",
   "execution_count": 4,
   "metadata": {},
   "outputs": [
    {
     "data": {
      "text/html": [
       "<div><svg style=\"position: absolute; width: 0; height: 0; overflow: hidden\">\n",
       "<defs>\n",
       "<symbol id=\"icon-database\" viewBox=\"0 0 32 32\">\n",
       "<path d=\"M16 0c-8.837 0-16 2.239-16 5v4c0 2.761 7.163 5 16 5s16-2.239 16-5v-4c0-2.761-7.163-5-16-5z\"></path>\n",
       "<path d=\"M16 17c-8.837 0-16-2.239-16-5v6c0 2.761 7.163 5 16 5s16-2.239 16-5v-6c0 2.761-7.163 5-16 5z\"></path>\n",
       "<path d=\"M16 26c-8.837 0-16-2.239-16-5v6c0 2.761 7.163 5 16 5s16-2.239 16-5v-6c0 2.761-7.163 5-16 5z\"></path>\n",
       "</symbol>\n",
       "<symbol id=\"icon-file-text2\" viewBox=\"0 0 32 32\">\n",
       "<path d=\"M28.681 7.159c-0.694-0.947-1.662-2.053-2.724-3.116s-2.169-2.030-3.116-2.724c-1.612-1.182-2.393-1.319-2.841-1.319h-15.5c-1.378 0-2.5 1.121-2.5 2.5v27c0 1.378 1.122 2.5 2.5 2.5h23c1.378 0 2.5-1.122 2.5-2.5v-19.5c0-0.448-0.137-1.23-1.319-2.841zM24.543 5.457c0.959 0.959 1.712 1.825 2.268 2.543h-4.811v-4.811c0.718 0.556 1.584 1.309 2.543 2.268zM28 29.5c0 0.271-0.229 0.5-0.5 0.5h-23c-0.271 0-0.5-0.229-0.5-0.5v-27c0-0.271 0.229-0.5 0.5-0.5 0 0 15.499-0 15.5 0v7c0 0.552 0.448 1 1 1h7v19.5z\"></path>\n",
       "<path d=\"M23 26h-14c-0.552 0-1-0.448-1-1s0.448-1 1-1h14c0.552 0 1 0.448 1 1s-0.448 1-1 1z\"></path>\n",
       "<path d=\"M23 22h-14c-0.552 0-1-0.448-1-1s0.448-1 1-1h14c0.552 0 1 0.448 1 1s-0.448 1-1 1z\"></path>\n",
       "<path d=\"M23 18h-14c-0.552 0-1-0.448-1-1s0.448-1 1-1h14c0.552 0 1 0.448 1 1s-0.448 1-1 1z\"></path>\n",
       "</symbol>\n",
       "</defs>\n",
       "</svg>\n",
       "<style>/* CSS stylesheet for displaying xarray objects in jupyterlab.\n",
       " *\n",
       " */\n",
       "\n",
       ":root {\n",
       "  --xr-font-color0: var(--jp-content-font-color0, rgba(0, 0, 0, 1));\n",
       "  --xr-font-color2: var(--jp-content-font-color2, rgba(0, 0, 0, 0.54));\n",
       "  --xr-font-color3: var(--jp-content-font-color3, rgba(0, 0, 0, 0.38));\n",
       "  --xr-border-color: var(--jp-border-color2, #e0e0e0);\n",
       "  --xr-disabled-color: var(--jp-layout-color3, #bdbdbd);\n",
       "  --xr-background-color: var(--jp-layout-color0, white);\n",
       "  --xr-background-color-row-even: var(--jp-layout-color1, white);\n",
       "  --xr-background-color-row-odd: var(--jp-layout-color2, #eeeeee);\n",
       "}\n",
       "\n",
       "html[theme=\"dark\"],\n",
       "html[data-theme=\"dark\"],\n",
       "body[data-theme=\"dark\"],\n",
       "body.vscode-dark {\n",
       "  --xr-font-color0: rgba(255, 255, 255, 1);\n",
       "  --xr-font-color2: rgba(255, 255, 255, 0.54);\n",
       "  --xr-font-color3: rgba(255, 255, 255, 0.38);\n",
       "  --xr-border-color: #1f1f1f;\n",
       "  --xr-disabled-color: #515151;\n",
       "  --xr-background-color: #111111;\n",
       "  --xr-background-color-row-even: #111111;\n",
       "  --xr-background-color-row-odd: #313131;\n",
       "}\n",
       "\n",
       ".xr-wrap {\n",
       "  display: block !important;\n",
       "  min-width: 300px;\n",
       "  max-width: 700px;\n",
       "}\n",
       "\n",
       ".xr-text-repr-fallback {\n",
       "  /* fallback to plain text repr when CSS is not injected (untrusted notebook) */\n",
       "  display: none;\n",
       "}\n",
       "\n",
       ".xr-header {\n",
       "  padding-top: 6px;\n",
       "  padding-bottom: 6px;\n",
       "  margin-bottom: 4px;\n",
       "  border-bottom: solid 1px var(--xr-border-color);\n",
       "}\n",
       "\n",
       ".xr-header > div,\n",
       ".xr-header > ul {\n",
       "  display: inline;\n",
       "  margin-top: 0;\n",
       "  margin-bottom: 0;\n",
       "}\n",
       "\n",
       ".xr-obj-type,\n",
       ".xr-array-name {\n",
       "  margin-left: 2px;\n",
       "  margin-right: 10px;\n",
       "}\n",
       "\n",
       ".xr-obj-type {\n",
       "  color: var(--xr-font-color2);\n",
       "}\n",
       "\n",
       ".xr-sections {\n",
       "  padding-left: 0 !important;\n",
       "  display: grid;\n",
       "  grid-template-columns: 150px auto auto 1fr 0 20px 0 20px;\n",
       "}\n",
       "\n",
       ".xr-section-item {\n",
       "  display: contents;\n",
       "}\n",
       "\n",
       ".xr-section-item input {\n",
       "  display: inline-block;\n",
       "  opacity: 0;\n",
       "  height: 0;\n",
       "}\n",
       "\n",
       ".xr-section-item input + label {\n",
       "  color: var(--xr-disabled-color);\n",
       "}\n",
       "\n",
       ".xr-section-item input:enabled + label {\n",
       "  cursor: pointer;\n",
       "  color: var(--xr-font-color2);\n",
       "}\n",
       "\n",
       ".xr-section-item input:focus + label {\n",
       "  border: 2px solid var(--xr-font-color0);\n",
       "}\n",
       "\n",
       ".xr-section-item input:enabled + label:hover {\n",
       "  color: var(--xr-font-color0);\n",
       "}\n",
       "\n",
       ".xr-section-summary {\n",
       "  grid-column: 1;\n",
       "  color: var(--xr-font-color2);\n",
       "  font-weight: 500;\n",
       "}\n",
       "\n",
       ".xr-section-summary > span {\n",
       "  display: inline-block;\n",
       "  padding-left: 0.5em;\n",
       "}\n",
       "\n",
       ".xr-section-summary-in:disabled + label {\n",
       "  color: var(--xr-font-color2);\n",
       "}\n",
       "\n",
       ".xr-section-summary-in + label:before {\n",
       "  display: inline-block;\n",
       "  content: \"►\";\n",
       "  font-size: 11px;\n",
       "  width: 15px;\n",
       "  text-align: center;\n",
       "}\n",
       "\n",
       ".xr-section-summary-in:disabled + label:before {\n",
       "  color: var(--xr-disabled-color);\n",
       "}\n",
       "\n",
       ".xr-section-summary-in:checked + label:before {\n",
       "  content: \"▼\";\n",
       "}\n",
       "\n",
       ".xr-section-summary-in:checked + label > span {\n",
       "  display: none;\n",
       "}\n",
       "\n",
       ".xr-section-summary,\n",
       ".xr-section-inline-details {\n",
       "  padding-top: 4px;\n",
       "  padding-bottom: 4px;\n",
       "}\n",
       "\n",
       ".xr-section-inline-details {\n",
       "  grid-column: 2 / -1;\n",
       "}\n",
       "\n",
       ".xr-section-details {\n",
       "  display: none;\n",
       "  grid-column: 1 / -1;\n",
       "  margin-bottom: 5px;\n",
       "}\n",
       "\n",
       ".xr-section-summary-in:checked ~ .xr-section-details {\n",
       "  display: contents;\n",
       "}\n",
       "\n",
       ".xr-array-wrap {\n",
       "  grid-column: 1 / -1;\n",
       "  display: grid;\n",
       "  grid-template-columns: 20px auto;\n",
       "}\n",
       "\n",
       ".xr-array-wrap > label {\n",
       "  grid-column: 1;\n",
       "  vertical-align: top;\n",
       "}\n",
       "\n",
       ".xr-preview {\n",
       "  color: var(--xr-font-color3);\n",
       "}\n",
       "\n",
       ".xr-array-preview,\n",
       ".xr-array-data {\n",
       "  padding: 0 5px !important;\n",
       "  grid-column: 2;\n",
       "}\n",
       "\n",
       ".xr-array-data,\n",
       ".xr-array-in:checked ~ .xr-array-preview {\n",
       "  display: none;\n",
       "}\n",
       "\n",
       ".xr-array-in:checked ~ .xr-array-data,\n",
       ".xr-array-preview {\n",
       "  display: inline-block;\n",
       "}\n",
       "\n",
       ".xr-dim-list {\n",
       "  display: inline-block !important;\n",
       "  list-style: none;\n",
       "  padding: 0 !important;\n",
       "  margin: 0;\n",
       "}\n",
       "\n",
       ".xr-dim-list li {\n",
       "  display: inline-block;\n",
       "  padding: 0;\n",
       "  margin: 0;\n",
       "}\n",
       "\n",
       ".xr-dim-list:before {\n",
       "  content: \"(\";\n",
       "}\n",
       "\n",
       ".xr-dim-list:after {\n",
       "  content: \")\";\n",
       "}\n",
       "\n",
       ".xr-dim-list li:not(:last-child):after {\n",
       "  content: \",\";\n",
       "  padding-right: 5px;\n",
       "}\n",
       "\n",
       ".xr-has-index {\n",
       "  font-weight: bold;\n",
       "}\n",
       "\n",
       ".xr-var-list,\n",
       ".xr-var-item {\n",
       "  display: contents;\n",
       "}\n",
       "\n",
       ".xr-var-item > div,\n",
       ".xr-var-item label,\n",
       ".xr-var-item > .xr-var-name span {\n",
       "  background-color: var(--xr-background-color-row-even);\n",
       "  margin-bottom: 0;\n",
       "}\n",
       "\n",
       ".xr-var-item > .xr-var-name:hover span {\n",
       "  padding-right: 5px;\n",
       "}\n",
       "\n",
       ".xr-var-list > li:nth-child(odd) > div,\n",
       ".xr-var-list > li:nth-child(odd) > label,\n",
       ".xr-var-list > li:nth-child(odd) > .xr-var-name span {\n",
       "  background-color: var(--xr-background-color-row-odd);\n",
       "}\n",
       "\n",
       ".xr-var-name {\n",
       "  grid-column: 1;\n",
       "}\n",
       "\n",
       ".xr-var-dims {\n",
       "  grid-column: 2;\n",
       "}\n",
       "\n",
       ".xr-var-dtype {\n",
       "  grid-column: 3;\n",
       "  text-align: right;\n",
       "  color: var(--xr-font-color2);\n",
       "}\n",
       "\n",
       ".xr-var-preview {\n",
       "  grid-column: 4;\n",
       "}\n",
       "\n",
       ".xr-index-preview {\n",
       "  grid-column: 2 / 5;\n",
       "  color: var(--xr-font-color2);\n",
       "}\n",
       "\n",
       ".xr-var-name,\n",
       ".xr-var-dims,\n",
       ".xr-var-dtype,\n",
       ".xr-preview,\n",
       ".xr-attrs dt {\n",
       "  white-space: nowrap;\n",
       "  overflow: hidden;\n",
       "  text-overflow: ellipsis;\n",
       "  padding-right: 10px;\n",
       "}\n",
       "\n",
       ".xr-var-name:hover,\n",
       ".xr-var-dims:hover,\n",
       ".xr-var-dtype:hover,\n",
       ".xr-attrs dt:hover {\n",
       "  overflow: visible;\n",
       "  width: auto;\n",
       "  z-index: 1;\n",
       "}\n",
       "\n",
       ".xr-var-attrs,\n",
       ".xr-var-data,\n",
       ".xr-index-data {\n",
       "  display: none;\n",
       "  background-color: var(--xr-background-color) !important;\n",
       "  padding-bottom: 5px !important;\n",
       "}\n",
       "\n",
       ".xr-var-attrs-in:checked ~ .xr-var-attrs,\n",
       ".xr-var-data-in:checked ~ .xr-var-data,\n",
       ".xr-index-data-in:checked ~ .xr-index-data {\n",
       "  display: block;\n",
       "}\n",
       "\n",
       ".xr-var-data > table {\n",
       "  float: right;\n",
       "}\n",
       "\n",
       ".xr-var-name span,\n",
       ".xr-var-data,\n",
       ".xr-index-name div,\n",
       ".xr-index-data,\n",
       ".xr-attrs {\n",
       "  padding-left: 25px !important;\n",
       "}\n",
       "\n",
       ".xr-attrs,\n",
       ".xr-var-attrs,\n",
       ".xr-var-data,\n",
       ".xr-index-data {\n",
       "  grid-column: 1 / -1;\n",
       "}\n",
       "\n",
       "dl.xr-attrs {\n",
       "  padding: 0;\n",
       "  margin: 0;\n",
       "  display: grid;\n",
       "  grid-template-columns: 125px auto;\n",
       "}\n",
       "\n",
       ".xr-attrs dt,\n",
       ".xr-attrs dd {\n",
       "  padding: 0;\n",
       "  margin: 0;\n",
       "  float: left;\n",
       "  padding-right: 10px;\n",
       "  width: auto;\n",
       "}\n",
       "\n",
       ".xr-attrs dt {\n",
       "  font-weight: normal;\n",
       "  grid-column: 1;\n",
       "}\n",
       "\n",
       ".xr-attrs dt:hover span {\n",
       "  display: inline-block;\n",
       "  background: var(--xr-background-color);\n",
       "  padding-right: 10px;\n",
       "}\n",
       "\n",
       ".xr-attrs dd {\n",
       "  grid-column: 2;\n",
       "  white-space: pre-wrap;\n",
       "  word-break: break-all;\n",
       "}\n",
       "\n",
       ".xr-icon-database,\n",
       ".xr-icon-file-text2,\n",
       ".xr-no-icon {\n",
       "  display: inline-block;\n",
       "  vertical-align: middle;\n",
       "  width: 1em;\n",
       "  height: 1.5em !important;\n",
       "  stroke-width: 0;\n",
       "  stroke: currentColor;\n",
       "  fill: currentColor;\n",
       "}\n",
       "</style><pre class='xr-text-repr-fallback'>&lt;xarray.Dataset&gt; Size: 60B\n",
       "Dimensions:     ()\n",
       "Coordinates:\n",
       "    Scenario    &lt;U4 16B &#x27;SSP1&#x27;\n",
       "    Region      &lt;U5 20B &#x27;ABW&#x27;\n",
       "    Time        int64 8B 1990\n",
       "Data variables:\n",
       "    GDP         float64 8B 2.117\n",
       "    Population  float64 8B nan</pre><div class='xr-wrap' style='display:none'><div class='xr-header'><div class='xr-obj-type'>xarray.Dataset</div></div><ul class='xr-sections'><li class='xr-section-item'><input id='section-791244e4-9154-45ff-8e5f-2a87f3202b24' class='xr-section-summary-in' type='checkbox' disabled ><label for='section-791244e4-9154-45ff-8e5f-2a87f3202b24' class='xr-section-summary'  title='Expand/collapse section'>Dimensions:</label><div class='xr-section-inline-details'></div><div class='xr-section-details'></div></li><li class='xr-section-item'><input id='section-b34a3025-ebdd-4200-a47f-ad434224fb48' class='xr-section-summary-in' type='checkbox'  checked><label for='section-b34a3025-ebdd-4200-a47f-ad434224fb48' class='xr-section-summary' >Coordinates: <span>(3)</span></label><div class='xr-section-inline-details'></div><div class='xr-section-details'><ul class='xr-var-list'><li class='xr-var-item'><div class='xr-var-name'><span>Scenario</span></div><div class='xr-var-dims'>()</div><div class='xr-var-dtype'>&lt;U4</div><div class='xr-var-preview xr-preview'>&#x27;SSP1&#x27;</div><input id='attrs-48f8b862-65e1-47b8-90e6-c0058c8f51f4' class='xr-var-attrs-in' type='checkbox' disabled><label for='attrs-48f8b862-65e1-47b8-90e6-c0058c8f51f4' title='Show/Hide attributes'><svg class='icon xr-icon-file-text2'><use xlink:href='#icon-file-text2'></use></svg></label><input id='data-c711d90b-0ee9-4abe-88e7-9212f00cdf67' class='xr-var-data-in' type='checkbox'><label for='data-c711d90b-0ee9-4abe-88e7-9212f00cdf67' title='Show/Hide data repr'><svg class='icon xr-icon-database'><use xlink:href='#icon-database'></use></svg></label><div class='xr-var-attrs'><dl class='xr-attrs'></dl></div><div class='xr-var-data'><pre>array(&#x27;SSP1&#x27;, dtype=&#x27;&lt;U4&#x27;)</pre></div></li><li class='xr-var-item'><div class='xr-var-name'><span>Region</span></div><div class='xr-var-dims'>()</div><div class='xr-var-dtype'>&lt;U5</div><div class='xr-var-preview xr-preview'>&#x27;ABW&#x27;</div><input id='attrs-0510188d-28d7-4164-a49a-59e2df764e9e' class='xr-var-attrs-in' type='checkbox' disabled><label for='attrs-0510188d-28d7-4164-a49a-59e2df764e9e' title='Show/Hide attributes'><svg class='icon xr-icon-file-text2'><use xlink:href='#icon-file-text2'></use></svg></label><input id='data-47b63b4e-e4a6-41ab-810c-f0232465ab0f' class='xr-var-data-in' type='checkbox'><label for='data-47b63b4e-e4a6-41ab-810c-f0232465ab0f' title='Show/Hide data repr'><svg class='icon xr-icon-database'><use xlink:href='#icon-database'></use></svg></label><div class='xr-var-attrs'><dl class='xr-attrs'></dl></div><div class='xr-var-data'><pre>array(&#x27;ABW&#x27;, dtype=&#x27;&lt;U5&#x27;)</pre></div></li><li class='xr-var-item'><div class='xr-var-name'><span>Time</span></div><div class='xr-var-dims'>()</div><div class='xr-var-dtype'>int64</div><div class='xr-var-preview xr-preview'>1990</div><input id='attrs-d992d055-a78e-421b-9e0e-f4c324e44d56' class='xr-var-attrs-in' type='checkbox' disabled><label for='attrs-d992d055-a78e-421b-9e0e-f4c324e44d56' title='Show/Hide attributes'><svg class='icon xr-icon-file-text2'><use xlink:href='#icon-file-text2'></use></svg></label><input id='data-bbca546e-7217-474b-9822-f7ee2e9c302f' class='xr-var-data-in' type='checkbox'><label for='data-bbca546e-7217-474b-9822-f7ee2e9c302f' title='Show/Hide data repr'><svg class='icon xr-icon-database'><use xlink:href='#icon-database'></use></svg></label><div class='xr-var-attrs'><dl class='xr-attrs'></dl></div><div class='xr-var-data'><pre>array(1990)</pre></div></li></ul></div></li><li class='xr-section-item'><input id='section-3f503993-7d61-4262-aaaa-15cd77e794f2' class='xr-section-summary-in' type='checkbox'  checked><label for='section-3f503993-7d61-4262-aaaa-15cd77e794f2' class='xr-section-summary' >Data variables: <span>(2)</span></label><div class='xr-section-inline-details'></div><div class='xr-section-details'><ul class='xr-var-list'><li class='xr-var-item'><div class='xr-var-name'><span>GDP</span></div><div class='xr-var-dims'>()</div><div class='xr-var-dtype'>float64</div><div class='xr-var-preview xr-preview'>2.117</div><input id='attrs-aa204df5-e2c5-4a10-b830-3d25091f7886' class='xr-var-attrs-in' type='checkbox' disabled><label for='attrs-aa204df5-e2c5-4a10-b830-3d25091f7886' title='Show/Hide attributes'><svg class='icon xr-icon-file-text2'><use xlink:href='#icon-file-text2'></use></svg></label><input id='data-e3a92d26-5d70-4326-9cce-a229b8232aaa' class='xr-var-data-in' type='checkbox'><label for='data-e3a92d26-5d70-4326-9cce-a229b8232aaa' title='Show/Hide data repr'><svg class='icon xr-icon-database'><use xlink:href='#icon-database'></use></svg></label><div class='xr-var-attrs'><dl class='xr-attrs'></dl></div><div class='xr-var-data'><pre>array(2.11677)</pre></div></li><li class='xr-var-item'><div class='xr-var-name'><span>Population</span></div><div class='xr-var-dims'>()</div><div class='xr-var-dtype'>float64</div><div class='xr-var-preview xr-preview'>nan</div><input id='attrs-f5917503-a08d-445d-b822-9ef97a7d0766' class='xr-var-attrs-in' type='checkbox' disabled><label for='attrs-f5917503-a08d-445d-b822-9ef97a7d0766' title='Show/Hide attributes'><svg class='icon xr-icon-file-text2'><use xlink:href='#icon-file-text2'></use></svg></label><input id='data-3ad3dc1b-1f57-46c8-bd99-adebc0e38348' class='xr-var-data-in' type='checkbox'><label for='data-3ad3dc1b-1f57-46c8-bd99-adebc0e38348' title='Show/Hide data repr'><svg class='icon xr-icon-database'><use xlink:href='#icon-database'></use></svg></label><div class='xr-var-attrs'><dl class='xr-attrs'></dl></div><div class='xr-var-data'><pre>array(nan)</pre></div></li></ul></div></li><li class='xr-section-item'><input id='section-39c5fb4f-4f21-4484-af53-23035a3a7123' class='xr-section-summary-in' type='checkbox' disabled ><label for='section-39c5fb4f-4f21-4484-af53-23035a3a7123' class='xr-section-summary'  title='Expand/collapse section'>Indexes: <span>(0)</span></label><div class='xr-section-inline-details'></div><div class='xr-section-details'><ul class='xr-var-list'></ul></div></li><li class='xr-section-item'><input id='section-5d708ca9-b6d2-4f1b-9ea0-68aca8fd967d' class='xr-section-summary-in' type='checkbox' disabled ><label for='section-5d708ca9-b6d2-4f1b-9ea0-68aca8fd967d' class='xr-section-summary'  title='Expand/collapse section'>Attributes: <span>(0)</span></label><div class='xr-section-inline-details'></div><div class='xr-section-details'><dl class='xr-attrs'></dl></div></li></ul></div></div>"
      ],
      "text/plain": [
       "<xarray.Dataset> Size: 60B\n",
       "Dimensions:     ()\n",
       "Coordinates:\n",
       "    Scenario    <U4 16B 'SSP1'\n",
       "    Region      <U5 20B 'ABW'\n",
       "    Time        int64 8B 1990\n",
       "Data variables:\n",
       "    GDP         float64 8B 2.117\n",
       "    Population  float64 8B nan"
      ]
     },
     "execution_count": 4,
     "metadata": {},
     "output_type": "execute_result"
    }
   ],
   "source": [
    "# year    1990, 1995, ...., 2040, 2050, ...\n",
    "# hist    x,    x,    ...., NaN,  NaN, ...\n",
    "# ssp1    Nan,  Nan,  ...., x,    x\n",
    "# ssp2    Nan,  Nan,  ...., x,    x\n",
    "# ssp3    Nan,  Nan,  ...., x,    x\n",
    "\n",
    "ssps_new.sel(Scenario='SSP1', Region='ABW', Time=1990)"
   ]
  },
  {
   "cell_type": "code",
   "execution_count": null,
   "metadata": {},
   "outputs": [
    {
     "name": "stdout",
     "output_type": "stream",
     "text": [
      "- Read Human Development Index data\n",
      "- Read Human Development Index data\n",
      "Regions is new but not old:\n",
      "['HKG', 'TWN']\n",
      "Regions in old but not new:\n",
      "['COK', 'VAT', 'NIU', 'PRK', 'NRU', 'CHN', 'MCO', 'SOM']\n",
      "<xarray.Dataset> Size: 32B\n",
      "Dimensions:  (Region: 2)\n",
      "Coordinates:\n",
      "  * Region   (Region) object 16B 'HKG' 'TWN'\n",
      "Data variables:\n",
      "    HDI      (Region) object 16B 0.952 0.768\n",
      "<xarray.Dataset> Size: 128B\n",
      "Dimensions:  (Region: 8)\n",
      "Coordinates:\n",
      "  * Region   (Region) object 64B 'COK' 'VAT' 'NIU' 'PRK' 'NRU' 'CHN' 'MCO' 'SOM'\n",
      "Data variables:\n",
      "    HDI      (Region) float64 64B nan nan nan 0.535 nan 0.768 nan nan\n"
     ]
    }
   ],
   "source": [
    "# Testing alternative implementation of HDI\n",
    "\n",
    "hdi, hdi_sh = datareading.read_hdi(config, general.countries, un_pop)\n",
    "hdi_new, hdi_sh_new = datareading.read_hdi_refactor(config, general.countries, un_pop)\n",
    "\n",
    "added = list(set(hdi_new.Region.values) - set(hdi.Region.values))\n",
    "print(\"Regions is new but not old:\")\n",
    "print(added)\n",
    "\n",
    "missing = list(set(hdi.Region.values) - set(hdi_new.Region.values))\n",
    "print(\"Regions in old but not new:\")\n",
    "print(missing)\n",
    "\n",
    "print(hdi_new.sel(Region=added))  # TWN and HKG;\n",
    "# China is mapped to CHN or TWN. Pick the right one in regions.py\n",
    "# HKG is not in original countries list so that if block is never reached in old code.\n",
    "\n",
    "print(hdi.sel(Region=missing))  # PRK and CHN only ones with values\n",
    "# PRK value of 0.535 must be wrong since excel file has '..'; 0.535 corresponds to haiti or nigeria\n",
    "# China is mapped to CHN or TWN. Pick the right one in regions.py\n"
   ]
  },
  {
   "cell_type": "code",
   "execution_count": 6,
   "metadata": {},
   "outputs": [
    {
     "ename": "FileNotFoundError",
     "evalue": "[Errno 2] No such file or directory: 'input.yml'",
     "output_type": "error",
     "traceback": [
      "\u001b[31m---------------------------------------------------------------------------\u001b[39m",
      "\u001b[31mFileNotFoundError\u001b[39m                         Traceback (most recent call last)",
      "\u001b[36mCell\u001b[39m\u001b[36m \u001b[39m\u001b[32mIn[6]\u001b[39m\u001b[32m, line 3\u001b[39m\n\u001b[32m      1\u001b[39m \u001b[38;5;28;01mfrom\u001b[39;00m\u001b[38;5;250m \u001b[39m\u001b[34;01meffortsharing\u001b[39;00m\u001b[34;01m.\u001b[39;00m\u001b[34;01mallocation\u001b[39;00m\u001b[38;5;250m \u001b[39m\u001b[38;5;28;01mimport\u001b[39;00m allocation\n\u001b[32m----> \u001b[39m\u001b[32m3\u001b[39m allocator = \u001b[43mallocation\u001b[49m\u001b[43m(\u001b[49m\u001b[33;43m\"\u001b[39;49m\u001b[33;43mUSA\u001b[39;49m\u001b[33;43m\"\u001b[39;49m\u001b[43m,\u001b[49m\u001b[43m \u001b[49m\u001b[43mlulucf\u001b[49m\u001b[43m=\u001b[49m\u001b[33;43m\"\u001b[39;49m\u001b[33;43mincl\u001b[39;49m\u001b[33;43m\"\u001b[39;49m\u001b[43m,\u001b[49m\u001b[43m \u001b[49m\u001b[43mgas\u001b[49m\u001b[43m=\u001b[49m\u001b[33;43m\"\u001b[39;49m\u001b[33;43mGHG\u001b[39;49m\u001b[33;43m\"\u001b[39;49m\u001b[43m)\u001b[49m\n\u001b[32m      4\u001b[39m allocator.gf()\n\u001b[32m      5\u001b[39m allocator.pc()\n",
      "\u001b[36mFile \u001b[39m\u001b[32m~/pbl/effort-sharing/src/effortsharing/allocation.py:39\u001b[39m, in \u001b[36mallocation.__init__\u001b[39m\u001b[34m(self, reg, lulucf, dataread_file, gas, input_file)\u001b[39m\n\u001b[32m     30\u001b[39m \u001b[38;5;28;01mdef\u001b[39;00m\u001b[38;5;250m \u001b[39m\u001b[34m__init__\u001b[39m(\n\u001b[32m     31\u001b[39m     \u001b[38;5;28mself\u001b[39m,\n\u001b[32m     32\u001b[39m     reg,\n\u001b[32m   (...)\u001b[39m\u001b[32m     37\u001b[39m ):\n\u001b[32m     38\u001b[39m     \u001b[38;5;66;03m# Read in Input YAML file\u001b[39;00m\n\u001b[32m---> \u001b[39m\u001b[32m39\u001b[39m     \u001b[38;5;28;01mwith\u001b[39;00m \u001b[38;5;28;43mopen\u001b[39;49m\u001b[43m(\u001b[49m\u001b[43minput_file\u001b[49m\u001b[43m)\u001b[49m \u001b[38;5;28;01mas\u001b[39;00m file:\n\u001b[32m     40\u001b[39m         \u001b[38;5;28mself\u001b[39m.settings = yaml.load(file, Loader=yaml.FullLoader)\n\u001b[32m     41\u001b[39m     \u001b[38;5;28mself\u001b[39m.countries_iso = np.load(\n\u001b[32m     42\u001b[39m         \u001b[38;5;28mself\u001b[39m.settings[\u001b[33m\"\u001b[39m\u001b[33mpaths\u001b[39m\u001b[33m\"\u001b[39m][\u001b[33m\"\u001b[39m\u001b[33mdata\u001b[39m\u001b[33m\"\u001b[39m][\u001b[33m\"\u001b[39m\u001b[33mdatadrive\u001b[39m\u001b[33m\"\u001b[39m] + \u001b[33m\"\u001b[39m\u001b[33mall_countries.npy\u001b[39m\u001b[33m\"\u001b[39m, allow_pickle=\u001b[38;5;28;01mTrue\u001b[39;00m\n\u001b[32m     43\u001b[39m     )\n",
      "\u001b[31mFileNotFoundError\u001b[39m: [Errno 2] No such file or directory: 'input.yml'"
     ]
    }
   ],
   "source": [
    "from effortsharing.allocation import allocation\n",
    "\n",
    "allocator = allocation(\"USA\", lulucf=\"incl\", gas=\"GHG\")\n",
    "allocator.gf()\n",
    "allocator.pc()\n",
    "allocator.pcc()\n",
    "allocator.pcb()\n",
    "allocator.ecpc()\n",
    "allocator.ap()\n",
    "allocator.gdr()\n",
    "allocator.save()"
   ]
  },
  {
   "cell_type": "markdown",
   "metadata": {},
   "source": [
    "Allocations specifically for Norway and Netherlands if you want to harmonize to national data"
   ]
  },
  {
   "cell_type": "code",
   "execution_count": null,
   "metadata": {},
   "outputs": [
    {
     "name": "stdout",
     "output_type": "stream",
     "text": [
      "NOR incl GHG xr_dataread.nc done\n",
      "NOR incl GHG xr_dataread_nor.nc done\n",
      "NOR incl CO2 xr_dataread.nc done\n",
      "NOR incl CO2 xr_dataread_nor.nc done\n",
      "NOR excl GHG xr_dataread.nc done\n",
      "NOR excl GHG xr_dataread_nor.nc done\n",
      "NOR excl CO2 xr_dataread.nc done\n",
      "NOR excl CO2 xr_dataread_nor.nc done\n"
     ]
    }
   ],
   "source": [
    "from effortsharing.allocation import allocation\n",
    "\n",
    "for lulucf in [\"incl\", \"excl\"]:\n",
    "    for gas in [\"GHG\", \"CO2\"]:\n",
    "        for dataread_file in [\n",
    "            \"xr_dataread.nc\",\n",
    "            \"xr_dataread_nor.nc\",\n",
    "        ]:  # This is only necessary if for a country a specific historical emissions profile is required beyond what is in Jones (e.g. Norway was requested)\n",
    "            allocator = allocation(\"NOR\", lulucf=lulucf, gas=gas, dataread_file=dataread_file)\n",
    "            allocator.gf()\n",
    "            allocator.pc()\n",
    "            allocator.pcc()\n",
    "            allocator.pcb()\n",
    "            allocator.ecpc()\n",
    "            allocator.ap()\n",
    "            allocator.gdr()\n",
    "            allocator.save()\n",
    "            print(\"NOR\", lulucf, gas, dataread_file, \"done\")"
   ]
  },
  {
   "cell_type": "markdown",
   "metadata": {},
   "source": [
    "Allocation class (run all 207 countries)"
   ]
  },
  {
   "cell_type": "code",
   "execution_count": null,
   "metadata": {},
   "outputs": [
    {
     "name": "stderr",
     "output_type": "stream",
     "text": [
      "100%|██████████| 207/207 [2:42:29<00:00, 47.10s/it]  \n"
     ]
    }
   ],
   "source": [
    "from effortsharing.allocation import allocation\n",
    "\n",
    "regions_iso = np.load(\n",
    "    \"K:/Data/Data_effortsharing/DataUpdate_ongoing/all_regions.npy\", allow_pickle=True\n",
    ")\n",
    "for cty in tqdm(regions_iso):\n",
    "    allocator = allocation(cty, lulucf=\"incl\", gas=\"GHG\")\n",
    "    allocator.gf()\n",
    "    allocator.pc()\n",
    "    allocator.pcc()\n",
    "    allocator.pcb()\n",
    "    allocator.ecpc()\n",
    "    allocator.ap()\n",
    "    allocator.gdr()\n",
    "    allocator.save()"
   ]
  },
  {
   "cell_type": "markdown",
   "metadata": {},
   "source": [
    "Allocation rules combining approaches (Robiou paper)"
   ]
  },
  {
   "cell_type": "code",
   "execution_count": null,
   "metadata": {},
   "outputs": [],
   "source": [
    "from effortsharing.allocation_combinedapproaches import allocation_comb\n",
    "\n",
    "allocator = allocation_comb()\n",
    "allocator.ecpc()\n",
    "allocator.pc()\n",
    "allocator.discounting_historical_emissions()\n",
    "allocator.approach1gdp()\n",
    "allocator.approach1hdi()\n",
    "allocator.approach2()\n",
    "allocator.approach2_transition()\n",
    "allocator.combine()\n",
    "# allocator.get_relation_2030emis_temp()\n",
    "allocator.determine_tempoutcomes_discrete()\n",
    "allocator.save()"
   ]
  },
  {
   "cell_type": "markdown",
   "metadata": {},
   "source": [
    "Temperature NDC-alignment metric"
   ]
  },
  {
   "cell_type": "code",
   "execution_count": null,
   "metadata": {},
   "outputs": [
    {
     "name": "stdout",
     "output_type": "stream",
     "text": [
      "# ==================================== #\n",
      "# Initializing tempaligning class        #\n",
      "# ==================================== #\n",
      "- Determine relation between 2030-emissions and temperature outcome\n",
      "- Determine temperature metric\n"
     ]
    },
    {
     "name": "stderr",
     "output_type": "stream",
     "text": [
      "100%|██████████| 6/6 [00:11<00:00,  1.96s/it]\n"
     ]
    },
    {
     "name": "stdout",
     "output_type": "stream",
     "text": [
      "- Save\n"
     ]
    }
   ],
   "source": [
    "from effortsharing.tempalign import tempaligning\n",
    "\n",
    "tempaligner = tempaligning()  # FIRST RUN AGGREGATOR FOR THIS!! (2030 alloc)\n",
    "tempaligner.get_relation_2030emis_temp()\n",
    "tempaligner.determine_tempoutcomes()\n",
    "tempaligner.save()"
   ]
  },
  {
   "cell_type": "markdown",
   "metadata": {},
   "source": [
    "Reading policy scenarios from ENGAGE"
   ]
  },
  {
   "cell_type": "code",
   "execution_count": null,
   "metadata": {},
   "outputs": [
    {
     "name": "stdout",
     "output_type": "stream",
     "text": [
      "# ==================================== #\n",
      "# Initializing policyscenadding class  #\n",
      "# ==================================== #\n",
      "- Read ENGAGE scenarios and change region namings\n",
      "- Filter correct scenarios and convert to xarray object\n",
      "- Add to overall xrobject\n"
     ]
    }
   ],
   "source": [
    "from effortsharing.policyscens import policyscenadding\n",
    "\n",
    "policyscenner = policyscenadding()\n",
    "policyscenner.read_engage_data()\n",
    "policyscenner.filter_and_convert()\n",
    "policyscenner.add_to_xr()"
   ]
  },
  {
   "cell_type": "markdown",
   "metadata": {},
   "source": [
    "Variance decomposition"
   ]
  },
  {
   "cell_type": "code",
   "execution_count": null,
   "metadata": {},
   "outputs": [
    {
     "name": "stdout",
     "output_type": "stream",
     "text": [
      "# ==================================== #\n",
      "# Initializing vardecomposing class    #\n",
      "# ==================================== #\n",
      "- Starting sobols for fixed years, over many countries\n",
      "  Starting with 2025\n"
     ]
    },
    {
     "name": "stderr",
     "output_type": "stream",
     "text": [
      "207it [02:33,  1.35it/s]\n"
     ]
    },
    {
     "name": "stdout",
     "output_type": "stream",
     "text": [
      "  Starting with 2026\n"
     ]
    },
    {
     "name": "stderr",
     "output_type": "stream",
     "text": [
      "207it [02:33,  1.35it/s]\n"
     ]
    },
    {
     "name": "stdout",
     "output_type": "stream",
     "text": [
      "  Starting with 2027\n"
     ]
    },
    {
     "name": "stderr",
     "output_type": "stream",
     "text": [
      "207it [02:40,  1.29it/s]\n"
     ]
    },
    {
     "name": "stdout",
     "output_type": "stream",
     "text": [
      "  Starting with 2028\n"
     ]
    },
    {
     "name": "stderr",
     "output_type": "stream",
     "text": [
      "207it [03:26,  1.00it/s]\n"
     ]
    },
    {
     "name": "stdout",
     "output_type": "stream",
     "text": [
      "  Starting with 2029\n"
     ]
    },
    {
     "name": "stderr",
     "output_type": "stream",
     "text": [
      "207it [02:43,  1.27it/s]\n"
     ]
    },
    {
     "name": "stdout",
     "output_type": "stream",
     "text": [
      "  Starting with 2030\n"
     ]
    },
    {
     "name": "stderr",
     "output_type": "stream",
     "text": [
      "207it [02:35,  1.33it/s]\n"
     ]
    },
    {
     "name": "stdout",
     "output_type": "stream",
     "text": [
      "  Starting with 2031\n"
     ]
    },
    {
     "name": "stderr",
     "output_type": "stream",
     "text": [
      "207it [03:12,  1.08it/s]\n"
     ]
    },
    {
     "name": "stdout",
     "output_type": "stream",
     "text": [
      "  Starting with 2032\n"
     ]
    },
    {
     "name": "stderr",
     "output_type": "stream",
     "text": [
      "207it [02:45,  1.25it/s]\n"
     ]
    },
    {
     "name": "stdout",
     "output_type": "stream",
     "text": [
      "  Starting with 2033\n"
     ]
    },
    {
     "name": "stderr",
     "output_type": "stream",
     "text": [
      "207it [04:11,  1.21s/it]\n"
     ]
    },
    {
     "name": "stdout",
     "output_type": "stream",
     "text": [
      "  Starting with 2034\n"
     ]
    },
    {
     "name": "stderr",
     "output_type": "stream",
     "text": [
      "207it [03:07,  1.10it/s]\n"
     ]
    },
    {
     "name": "stdout",
     "output_type": "stream",
     "text": [
      "  Starting with 2035\n"
     ]
    },
    {
     "name": "stderr",
     "output_type": "stream",
     "text": [
      "207it [02:34,  1.34it/s]\n"
     ]
    },
    {
     "name": "stdout",
     "output_type": "stream",
     "text": [
      "  Starting with 2036\n"
     ]
    },
    {
     "name": "stderr",
     "output_type": "stream",
     "text": [
      "207it [02:32,  1.35it/s]\n"
     ]
    },
    {
     "name": "stdout",
     "output_type": "stream",
     "text": [
      "  Starting with 2037\n"
     ]
    },
    {
     "name": "stderr",
     "output_type": "stream",
     "text": [
      "207it [02:31,  1.37it/s]\n"
     ]
    },
    {
     "name": "stdout",
     "output_type": "stream",
     "text": [
      "  Starting with 2038\n"
     ]
    },
    {
     "name": "stderr",
     "output_type": "stream",
     "text": [
      "207it [02:33,  1.35it/s]\n"
     ]
    },
    {
     "name": "stdout",
     "output_type": "stream",
     "text": [
      "  Starting with 2039\n"
     ]
    },
    {
     "name": "stderr",
     "output_type": "stream",
     "text": [
      "207it [02:46,  1.24it/s]\n"
     ]
    },
    {
     "name": "stdout",
     "output_type": "stream",
     "text": [
      "  Starting with 2040\n"
     ]
    },
    {
     "name": "stderr",
     "output_type": "stream",
     "text": [
      "207it [02:43,  1.27it/s]\n"
     ]
    },
    {
     "name": "stdout",
     "output_type": "stream",
     "text": [
      "  Starting with 2041\n"
     ]
    },
    {
     "name": "stderr",
     "output_type": "stream",
     "text": [
      "207it [03:00,  1.15it/s]\n"
     ]
    },
    {
     "name": "stdout",
     "output_type": "stream",
     "text": [
      "  Starting with 2042\n"
     ]
    },
    {
     "name": "stderr",
     "output_type": "stream",
     "text": [
      "207it [03:47,  1.10s/it]\n"
     ]
    },
    {
     "name": "stdout",
     "output_type": "stream",
     "text": [
      "  Starting with 2043\n"
     ]
    },
    {
     "name": "stderr",
     "output_type": "stream",
     "text": [
      "207it [02:46,  1.24it/s]\n"
     ]
    },
    {
     "name": "stdout",
     "output_type": "stream",
     "text": [
      "  Starting with 2044\n"
     ]
    },
    {
     "name": "stderr",
     "output_type": "stream",
     "text": [
      "207it [02:40,  1.29it/s]\n"
     ]
    },
    {
     "name": "stdout",
     "output_type": "stream",
     "text": [
      "  Starting with 2045\n"
     ]
    },
    {
     "name": "stderr",
     "output_type": "stream",
     "text": [
      "207it [02:45,  1.25it/s]\n"
     ]
    },
    {
     "name": "stdout",
     "output_type": "stream",
     "text": [
      "  Starting with 2046\n"
     ]
    },
    {
     "name": "stderr",
     "output_type": "stream",
     "text": [
      "207it [02:53,  1.19it/s]\n"
     ]
    },
    {
     "name": "stdout",
     "output_type": "stream",
     "text": [
      "  Starting with 2047\n"
     ]
    },
    {
     "name": "stderr",
     "output_type": "stream",
     "text": [
      "207it [02:35,  1.33it/s]\n"
     ]
    },
    {
     "name": "stdout",
     "output_type": "stream",
     "text": [
      "  Starting with 2048\n"
     ]
    },
    {
     "name": "stderr",
     "output_type": "stream",
     "text": [
      "207it [02:49,  1.22it/s]\n"
     ]
    },
    {
     "name": "stdout",
     "output_type": "stream",
     "text": [
      "  Starting with 2049\n"
     ]
    },
    {
     "name": "stderr",
     "output_type": "stream",
     "text": [
      "207it [02:32,  1.35it/s]\n"
     ]
    },
    {
     "name": "stdout",
     "output_type": "stream",
     "text": [
      "  Starting with 2050\n"
     ]
    },
    {
     "name": "stderr",
     "output_type": "stream",
     "text": [
      "207it [02:27,  1.41it/s]\n"
     ]
    },
    {
     "name": "stdout",
     "output_type": "stream",
     "text": [
      "  Starting with 2051\n"
     ]
    },
    {
     "name": "stderr",
     "output_type": "stream",
     "text": [
      "207it [02:37,  1.31it/s]\n"
     ]
    },
    {
     "name": "stdout",
     "output_type": "stream",
     "text": [
      "  Starting with 2052\n"
     ]
    },
    {
     "name": "stderr",
     "output_type": "stream",
     "text": [
      "207it [02:33,  1.35it/s]\n"
     ]
    },
    {
     "name": "stdout",
     "output_type": "stream",
     "text": [
      "  Starting with 2053\n"
     ]
    },
    {
     "name": "stderr",
     "output_type": "stream",
     "text": [
      "207it [02:30,  1.38it/s]\n"
     ]
    },
    {
     "name": "stdout",
     "output_type": "stream",
     "text": [
      "  Starting with 2054\n"
     ]
    },
    {
     "name": "stderr",
     "output_type": "stream",
     "text": [
      "207it [02:36,  1.32it/s]\n"
     ]
    },
    {
     "name": "stdout",
     "output_type": "stream",
     "text": [
      "  Starting with 2055\n"
     ]
    },
    {
     "name": "stderr",
     "output_type": "stream",
     "text": [
      "207it [02:26,  1.42it/s]\n"
     ]
    },
    {
     "name": "stdout",
     "output_type": "stream",
     "text": [
      "  Starting with 2056\n"
     ]
    },
    {
     "name": "stderr",
     "output_type": "stream",
     "text": [
      "207it [04:10,  1.21s/it]\n"
     ]
    },
    {
     "name": "stdout",
     "output_type": "stream",
     "text": [
      "  Starting with 2057\n"
     ]
    },
    {
     "name": "stderr",
     "output_type": "stream",
     "text": [
      "207it [02:48,  1.23it/s]\n"
     ]
    },
    {
     "name": "stdout",
     "output_type": "stream",
     "text": [
      "  Starting with 2058\n"
     ]
    },
    {
     "name": "stderr",
     "output_type": "stream",
     "text": [
      "207it [02:27,  1.41it/s]\n"
     ]
    },
    {
     "name": "stdout",
     "output_type": "stream",
     "text": [
      "  Starting with 2059\n"
     ]
    },
    {
     "name": "stderr",
     "output_type": "stream",
     "text": [
      "207it [02:22,  1.46it/s]\n"
     ]
    },
    {
     "name": "stdout",
     "output_type": "stream",
     "text": [
      "  Starting with 2060\n"
     ]
    },
    {
     "name": "stderr",
     "output_type": "stream",
     "text": [
      "207it [02:30,  1.38it/s]\n"
     ]
    },
    {
     "name": "stdout",
     "output_type": "stream",
     "text": [
      "  Starting with 2061\n"
     ]
    },
    {
     "name": "stderr",
     "output_type": "stream",
     "text": [
      "207it [02:21,  1.46it/s]\n"
     ]
    },
    {
     "name": "stdout",
     "output_type": "stream",
     "text": [
      "  Starting with 2062\n"
     ]
    },
    {
     "name": "stderr",
     "output_type": "stream",
     "text": [
      "207it [02:29,  1.38it/s]\n"
     ]
    },
    {
     "name": "stdout",
     "output_type": "stream",
     "text": [
      "  Starting with 2063\n"
     ]
    },
    {
     "name": "stderr",
     "output_type": "stream",
     "text": [
      "207it [02:28,  1.39it/s]\n"
     ]
    },
    {
     "name": "stdout",
     "output_type": "stream",
     "text": [
      "  Starting with 2064\n"
     ]
    },
    {
     "name": "stderr",
     "output_type": "stream",
     "text": [
      "207it [02:23,  1.44it/s]\n"
     ]
    },
    {
     "name": "stdout",
     "output_type": "stream",
     "text": [
      "  Starting with 2065\n"
     ]
    },
    {
     "name": "stderr",
     "output_type": "stream",
     "text": [
      "207it [02:34,  1.34it/s]\n"
     ]
    },
    {
     "name": "stdout",
     "output_type": "stream",
     "text": [
      "  Starting with 2066\n"
     ]
    },
    {
     "name": "stderr",
     "output_type": "stream",
     "text": [
      "207it [02:24,  1.44it/s]\n"
     ]
    },
    {
     "name": "stdout",
     "output_type": "stream",
     "text": [
      "  Starting with 2067\n"
     ]
    },
    {
     "name": "stderr",
     "output_type": "stream",
     "text": [
      "207it [02:23,  1.45it/s]\n"
     ]
    },
    {
     "name": "stdout",
     "output_type": "stream",
     "text": [
      "  Starting with 2068\n"
     ]
    },
    {
     "name": "stderr",
     "output_type": "stream",
     "text": [
      "207it [02:22,  1.45it/s]\n"
     ]
    },
    {
     "name": "stdout",
     "output_type": "stream",
     "text": [
      "  Starting with 2069\n"
     ]
    },
    {
     "name": "stderr",
     "output_type": "stream",
     "text": [
      "207it [02:22,  1.46it/s]\n"
     ]
    },
    {
     "name": "stdout",
     "output_type": "stream",
     "text": [
      "  Starting with 2070\n"
     ]
    },
    {
     "name": "stderr",
     "output_type": "stream",
     "text": [
      "207it [02:26,  1.41it/s]\n"
     ]
    },
    {
     "name": "stdout",
     "output_type": "stream",
     "text": [
      "  Starting with 2071\n"
     ]
    },
    {
     "name": "stderr",
     "output_type": "stream",
     "text": [
      "207it [02:24,  1.43it/s]\n"
     ]
    },
    {
     "name": "stdout",
     "output_type": "stream",
     "text": [
      "  Starting with 2072\n"
     ]
    },
    {
     "name": "stderr",
     "output_type": "stream",
     "text": [
      "207it [02:57,  1.17it/s]\n"
     ]
    },
    {
     "name": "stdout",
     "output_type": "stream",
     "text": [
      "  Starting with 2073\n"
     ]
    },
    {
     "name": "stderr",
     "output_type": "stream",
     "text": [
      "207it [02:27,  1.41it/s]\n"
     ]
    },
    {
     "name": "stdout",
     "output_type": "stream",
     "text": [
      "  Starting with 2074\n"
     ]
    },
    {
     "name": "stderr",
     "output_type": "stream",
     "text": [
      "207it [02:26,  1.41it/s]\n"
     ]
    },
    {
     "name": "stdout",
     "output_type": "stream",
     "text": [
      "  Starting with 2075\n"
     ]
    },
    {
     "name": "stderr",
     "output_type": "stream",
     "text": [
      "207it [02:26,  1.41it/s]\n"
     ]
    },
    {
     "name": "stdout",
     "output_type": "stream",
     "text": [
      "  Starting with 2076\n"
     ]
    },
    {
     "name": "stderr",
     "output_type": "stream",
     "text": [
      "207it [02:26,  1.41it/s]\n"
     ]
    },
    {
     "name": "stdout",
     "output_type": "stream",
     "text": [
      "  Starting with 2077\n"
     ]
    },
    {
     "name": "stderr",
     "output_type": "stream",
     "text": [
      "207it [02:38,  1.30it/s]\n"
     ]
    },
    {
     "name": "stdout",
     "output_type": "stream",
     "text": [
      "  Starting with 2078\n"
     ]
    },
    {
     "name": "stderr",
     "output_type": "stream",
     "text": [
      "207it [02:25,  1.42it/s]\n"
     ]
    },
    {
     "name": "stdout",
     "output_type": "stream",
     "text": [
      "  Starting with 2079\n"
     ]
    },
    {
     "name": "stderr",
     "output_type": "stream",
     "text": [
      "207it [02:26,  1.42it/s]\n"
     ]
    },
    {
     "name": "stdout",
     "output_type": "stream",
     "text": [
      "  Starting with 2080\n"
     ]
    },
    {
     "name": "stderr",
     "output_type": "stream",
     "text": [
      "207it [02:24,  1.43it/s]\n"
     ]
    },
    {
     "name": "stdout",
     "output_type": "stream",
     "text": [
      "  Starting with 2081\n"
     ]
    },
    {
     "name": "stderr",
     "output_type": "stream",
     "text": [
      "207it [02:23,  1.44it/s]\n"
     ]
    },
    {
     "name": "stdout",
     "output_type": "stream",
     "text": [
      "  Starting with 2082\n"
     ]
    },
    {
     "name": "stderr",
     "output_type": "stream",
     "text": [
      "207it [02:23,  1.44it/s]\n"
     ]
    },
    {
     "name": "stdout",
     "output_type": "stream",
     "text": [
      "  Starting with 2083\n"
     ]
    },
    {
     "name": "stderr",
     "output_type": "stream",
     "text": [
      "207it [03:34,  1.03s/it]\n"
     ]
    },
    {
     "name": "stdout",
     "output_type": "stream",
     "text": [
      "  Starting with 2084\n"
     ]
    },
    {
     "name": "stderr",
     "output_type": "stream",
     "text": [
      "207it [02:42,  1.28it/s]\n"
     ]
    },
    {
     "name": "stdout",
     "output_type": "stream",
     "text": [
      "  Starting with 2085\n"
     ]
    },
    {
     "name": "stderr",
     "output_type": "stream",
     "text": [
      "207it [02:33,  1.35it/s]\n"
     ]
    },
    {
     "name": "stdout",
     "output_type": "stream",
     "text": [
      "  Starting with 2086\n"
     ]
    },
    {
     "name": "stderr",
     "output_type": "stream",
     "text": [
      "207it [02:35,  1.33it/s]\n"
     ]
    },
    {
     "name": "stdout",
     "output_type": "stream",
     "text": [
      "  Starting with 2087\n"
     ]
    },
    {
     "name": "stderr",
     "output_type": "stream",
     "text": [
      "207it [02:26,  1.41it/s]\n"
     ]
    },
    {
     "name": "stdout",
     "output_type": "stream",
     "text": [
      "  Starting with 2088\n"
     ]
    },
    {
     "name": "stderr",
     "output_type": "stream",
     "text": [
      "207it [02:36,  1.32it/s]\n"
     ]
    },
    {
     "name": "stdout",
     "output_type": "stream",
     "text": [
      "  Starting with 2089\n"
     ]
    },
    {
     "name": "stderr",
     "output_type": "stream",
     "text": [
      "207it [02:28,  1.40it/s]\n"
     ]
    },
    {
     "name": "stdout",
     "output_type": "stream",
     "text": [
      "  Starting with 2090\n"
     ]
    },
    {
     "name": "stderr",
     "output_type": "stream",
     "text": [
      "207it [02:25,  1.42it/s]\n"
     ]
    },
    {
     "name": "stdout",
     "output_type": "stream",
     "text": [
      "  Starting with 2091\n"
     ]
    },
    {
     "name": "stderr",
     "output_type": "stream",
     "text": [
      "207it [02:30,  1.37it/s]\n"
     ]
    },
    {
     "name": "stdout",
     "output_type": "stream",
     "text": [
      "  Starting with 2092\n"
     ]
    },
    {
     "name": "stderr",
     "output_type": "stream",
     "text": [
      "207it [02:33,  1.35it/s]\n"
     ]
    },
    {
     "name": "stdout",
     "output_type": "stream",
     "text": [
      "  Starting with 2093\n"
     ]
    },
    {
     "name": "stderr",
     "output_type": "stream",
     "text": [
      "207it [02:29,  1.38it/s]\n"
     ]
    },
    {
     "name": "stdout",
     "output_type": "stream",
     "text": [
      "  Starting with 2094\n"
     ]
    },
    {
     "name": "stderr",
     "output_type": "stream",
     "text": [
      "207it [02:25,  1.43it/s]\n"
     ]
    },
    {
     "name": "stdout",
     "output_type": "stream",
     "text": [
      "  Starting with 2095\n"
     ]
    },
    {
     "name": "stderr",
     "output_type": "stream",
     "text": [
      "207it [02:27,  1.41it/s]\n"
     ]
    },
    {
     "name": "stdout",
     "output_type": "stream",
     "text": [
      "  Starting with 2096\n"
     ]
    },
    {
     "name": "stderr",
     "output_type": "stream",
     "text": [
      "207it [02:27,  1.40it/s]\n"
     ]
    },
    {
     "name": "stdout",
     "output_type": "stream",
     "text": [
      "  Starting with 2097\n"
     ]
    },
    {
     "name": "stderr",
     "output_type": "stream",
     "text": [
      "207it [02:25,  1.42it/s]\n"
     ]
    },
    {
     "name": "stdout",
     "output_type": "stream",
     "text": [
      "  Starting with 2098\n"
     ]
    },
    {
     "name": "stderr",
     "output_type": "stream",
     "text": [
      "207it [02:29,  1.38it/s]\n"
     ]
    },
    {
     "name": "stdout",
     "output_type": "stream",
     "text": [
      "  Starting with 2099\n"
     ]
    },
    {
     "name": "stderr",
     "output_type": "stream",
     "text": [
      "207it [02:25,  1.42it/s]\n"
     ]
    },
    {
     "name": "stdout",
     "output_type": "stream",
     "text": [
      "  Starting with 2100\n"
     ]
    },
    {
     "name": "stderr",
     "output_type": "stream",
     "text": [
      "207it [02:24,  1.43it/s]"
     ]
    },
    {
     "name": "stdout",
     "output_type": "stream",
     "text": [
      "- Save global results\n"
     ]
    },
    {
     "name": "stderr",
     "output_type": "stream",
     "text": [
      "\n"
     ]
    }
   ],
   "source": [
    "from effortsharing.variancedecomp import vardecomposing\n",
    "\n",
    "vardecomposer = vardecomposing(startyear=2021, gas=\"GHG\", lulucf=\"incl\")\n",
    "vardecomposer.sobolindices = {}\n",
    "print(\"- Starting sobols for fixed years, over many countries\")\n",
    "timeseries = np.arange(2025, 2101, 1)\n",
    "for year in timeseries:\n",
    "    print(\"  Starting with\", year)\n",
    "    xr_cty, ar_time, array_dims, array_inputs, problem, samples = (\n",
    "        vardecomposer.prepare_global_sobol(year)\n",
    "    )\n",
    "    vardecomposer.sobolindices[year] = vardecomposer.apply_decomposition(\n",
    "        xr_cty, ar_time, array_dims, array_inputs, problem, samples\n",
    "    )\n",
    "vardecomposer.save(array_dims, timeseries)"
   ]
  },
  {
   "cell_type": "code",
   "execution_count": null,
   "metadata": {},
   "outputs": [
    {
     "name": "stdout",
     "output_type": "stream",
     "text": [
      "- Save global results\n"
     ]
    }
   ],
   "source": [
    "vardecomposer.save(array_dims, timeseries)"
   ]
  }
 ],
 "metadata": {
  "kernelspec": {
   "display_name": "effortsharing_env",
   "language": "python",
   "name": "python3"
  },
  "language_info": {
   "codemirror_mode": {
    "name": "ipython",
    "version": 3
   },
   "file_extension": ".py",
   "mimetype": "text/x-python",
   "name": "python",
   "nbconvert_exporter": "python",
   "pygments_lexer": "ipython3",
   "version": "3.11.12"
  },
  "orig_nbformat": 4
 },
 "nbformat": 4,
 "nbformat_minor": 2
}
