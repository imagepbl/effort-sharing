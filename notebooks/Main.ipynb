{
 "cells": [
  {
   "cell_type": "markdown",
   "metadata": {},
   "source": [
    "## Preambule"
   ]
  },
  {
   "cell_type": "code",
   "execution_count": 2,
   "metadata": {},
   "outputs": [],
   "source": [
    "import logging\n",
    "import warnings\n",
    "\n",
    "import numpy as np\n",
    "from tqdm import tqdm\n",
    "\n",
    "warnings.simplefilter(action=\"ignore\", category=FutureWarning)\n",
    "\n",
    "logging.basicConfig(level=\"INFO\", format=\"%(message)s\")\n",
    "# See https://github.com/Textualize/rich/pull/3329 for nicer logs in notebooks\n",
    "\n",
    "%load_ext autoreload\n",
    "%autoreload all"
   ]
  },
  {
   "cell_type": "markdown",
   "metadata": {},
   "source": [
    "## Run classes"
   ]
  },
  {
   "cell_type": "markdown",
   "metadata": {},
   "source": [
    "Data reader class"
   ]
  },
  {
   "cell_type": "code",
   "execution_count": 1,
   "metadata": {},
   "outputs": [],
   "source": [
    "import effortsharing as es\n",
    "\n",
    "# Load configuration\n",
    "config = es.Config.from_file('config.yml')\n"
   ]
  },
  {
   "cell_type": "code",
   "execution_count": null,
   "metadata": {},
   "outputs": [],
   "source": [
    "\n",
    "# Read input data\n",
    "countries, regions = es.input.socioeconomics.read_general(config)\n",
    "socioeconomic_data = es.input.socioeconomics.load_socioeconomics(config)\n",
    "modelscenarios = es.input.emissions.read_modelscenarios(config)\n",
    "emission_data = es.input.emissions.load_emissions(config)\n",
    "primap_data = es.input.emissions.read_primap(config)\n",
    "ndc_data = es.input.ndcs.load_ndcs(config, emission_data)\n",
    "\n",
    "# Calculate global budgets and pathways\n",
    "xr_temperatures, xr_nonco2warming_wrt_start = es.pathways.nonco2.nonco2variation(config)\n",
    "xr_traj_nonco2 = es.pathways.nonco2.determine_global_nonco2_trajectories(config)\n",
    "xr_co2_budgets = es.pathways.global_budgets.determine_global_budgets(config)\n",
    "all_projected_gases = es.pathways.co2_trajectories.determine_global_co2_trajectories(config)\n",
    "\n",
    "# Merge all data into a single xrarray object\n",
    "xr_total = (\n",
    "    es.main.merge_data(\n",
    "        xr_co2_budgets,\n",
    "        all_projected_gases,\n",
    "        emission_data,  # TODO: already stored elsewhere. Skip?\n",
    "        ndc_data,  # TODO: already stored elsewhere. Skip?\n",
    "        socioeconomic_data,  # TODO: already stored elsewhere. Skip?\n",
    "    )\n",
    "    .reindex(Region=list(regions.values()))\n",
    "    .reindex(Time=np.arange(1850, 2101))\n",
    "    .interpolate_na(dim=\"Time\", method=\"linear\")\n",
    ")\n",
    "\n",
    "# Add country groups\n",
    "new_total, new_regions = es.main.add_country_groups(config, regions, xr_total)\n",
    "\n",
    "# Save the data\n",
    "save_temp = np.array(config.dimension_ranges.peak_temperature_saved).astype(float).round(2)\n",
    "xr_version = new_total.sel(Temperature=save_temp)\n",
    "\n",
    "es.main.save_regions(config, new_regions, countries)\n",
    "es.main.save_total(config, xr_version)\n",
    "es.main.save_rbw(config, xr_version, countries)\n",
    "es.main.load_rci(config)\n",
    "\n",
    "# Country-specific data readers\n",
    "es.country_specific.netherlands.datareader_netherlands(config, new_total)\n",
    "es.country_specific.norway.datareader_norway(config, new_total, primap_data)"
   ]
  },
  {
   "cell_type": "code",
   "execution_count": 3,
   "metadata": {},
   "outputs": [
    {
     "name": "stderr",
     "output_type": "stream",
     "text": [
      "Computing Grandfathering allocation for USA\n",
      "Computing data for emissions_all.nc\n",
      "Processing emission input data\n",
      "Reading unfccc country data\n",
      "Computing data for emissions_history.nc\n",
      "Reading historical emissions (jones)\n",
      "Computing data for primap.nc\n",
      "Reading PRIMAP data\n",
      "Saving intermediate data to /home/stefanv/git/pbl-cabe/effort-sharing/data/intermediate/primap.nc\n",
      "Saving intermediate data to /home/stefanv/git/pbl-cabe/effort-sharing/data/intermediate/emissions_history.nc\n",
      "Computing data for emissions_baseline.nc\n",
      "Reading baseline emissions\n",
      "Saving intermediate data to /home/stefanv/git/pbl-cabe/effort-sharing/data/intermediate/emissions_baseline.nc\n",
      "Computing data for AR6.nc\n",
      "Read AR6 data\n",
      "Reading AR6 metadata\n",
      "Saving intermediate data to /home/stefanv/git/pbl-cabe/effort-sharing/data/intermediate/AR6.nc\n",
      "Saving intermediate data to /home/stefanv/git/pbl-cabe/effort-sharing/data/intermediate/emissions_all.nc\n",
      "Computing data for ar6_modelscenarios.json\n",
      "Reading AR6 metadata\n",
      "Saving intermediate data to /home/stefanv/git/pbl-cabe/effort-sharing/data/intermediate/ar6_modelscenarios.json\n",
      "Computing global nonco2 trajectories\n",
      "Computing data for global_co2_budgets.nc\n",
      "Get global CO2 budgets\n",
      "Saving intermediate data to /home/stefanv/git/pbl-cabe/effort-sharing/data/intermediate/global_co2_budgets.nc\n",
      "Computing global co2 trajectories\n",
      "Computed Grandfathering allocation for USA\n",
      "Computing Per Capita allocation for USA\n",
      "Computing data for emissions_all.nc\n",
      "Processing emission input data\n",
      "Reading unfccc country data\n",
      "Computing data for emissions_history.nc\n",
      "Reading historical emissions (jones)\n",
      "Computing data for primap.nc\n",
      "Reading PRIMAP data\n",
      "Saving intermediate data to /home/stefanv/git/pbl-cabe/effort-sharing/data/intermediate/primap.nc\n",
      "Saving intermediate data to /home/stefanv/git/pbl-cabe/effort-sharing/data/intermediate/emissions_history.nc\n",
      "Computing data for emissions_baseline.nc\n",
      "Reading baseline emissions\n",
      "Saving intermediate data to /home/stefanv/git/pbl-cabe/effort-sharing/data/intermediate/emissions_baseline.nc\n",
      "Computing data for AR6.nc\n",
      "Read AR6 data\n",
      "Reading AR6 metadata\n",
      "Saving intermediate data to /home/stefanv/git/pbl-cabe/effort-sharing/data/intermediate/AR6.nc\n",
      "Saving intermediate data to /home/stefanv/git/pbl-cabe/effort-sharing/data/intermediate/emissions_all.nc\n",
      "Computing data for ar6_modelscenarios.json\n",
      "Reading AR6 metadata\n",
      "Saving intermediate data to /home/stefanv/git/pbl-cabe/effort-sharing/data/intermediate/ar6_modelscenarios.json\n",
      "Computing global nonco2 trajectories\n",
      "Computing data for global_co2_budgets.nc\n",
      "Get global CO2 budgets\n",
      "Saving intermediate data to /home/stefanv/git/pbl-cabe/effort-sharing/data/intermediate/global_co2_budgets.nc\n",
      "Computing global co2 trajectories\n",
      "Computed Per Capita allocation for USA\n",
      "Computing Per Capita Convergence allocation for USA\n",
      "Computed Per Capita Convergence allocation for USA\n",
      "Computing Per Capita Budget allocation for USA\n",
      "Computing data for emissions_all.nc\n",
      "Processing emission input data\n",
      "Reading unfccc country data\n",
      "Computing data for emissions_history.nc\n",
      "Reading historical emissions (jones)\n",
      "Computing data for primap.nc\n",
      "Reading PRIMAP data\n",
      "Saving intermediate data to /home/stefanv/git/pbl-cabe/effort-sharing/data/intermediate/primap.nc\n",
      "Saving intermediate data to /home/stefanv/git/pbl-cabe/effort-sharing/data/intermediate/emissions_history.nc\n",
      "Computing data for emissions_baseline.nc\n",
      "Reading baseline emissions\n",
      "Saving intermediate data to /home/stefanv/git/pbl-cabe/effort-sharing/data/intermediate/emissions_baseline.nc\n",
      "Computing data for AR6.nc\n",
      "Read AR6 data\n",
      "Reading AR6 metadata\n",
      "Saving intermediate data to /home/stefanv/git/pbl-cabe/effort-sharing/data/intermediate/AR6.nc\n",
      "Saving intermediate data to /home/stefanv/git/pbl-cabe/effort-sharing/data/intermediate/emissions_all.nc\n",
      "Computing data for ar6_modelscenarios.json\n",
      "Reading AR6 metadata\n",
      "Saving intermediate data to /home/stefanv/git/pbl-cabe/effort-sharing/data/intermediate/ar6_modelscenarios.json\n",
      "Computing global nonco2 trajectories\n",
      "Computing data for global_co2_budgets.nc\n",
      "Get global CO2 budgets\n",
      "Saving intermediate data to /home/stefanv/git/pbl-cabe/effort-sharing/data/intermediate/global_co2_budgets.nc\n",
      "Computing global co2 trajectories\n",
      "Computing global nonco2 trajectories\n",
      "Computing data for global_co2_budgets.nc\n",
      "Get global CO2 budgets\n",
      "Saving intermediate data to /home/stefanv/git/pbl-cabe/effort-sharing/data/intermediate/global_co2_budgets.nc\n",
      "Computing global co2 trajectories\n",
      "Computed Per Capita Budget allocation for USA\n",
      "Computing Equal Cumulative per Capita allocation for USA\n",
      "Computing data for emissions_all.nc\n",
      "Processing emission input data\n",
      "Reading unfccc country data\n",
      "Computing data for emissions_history.nc\n",
      "Reading historical emissions (jones)\n",
      "Computing data for primap.nc\n",
      "Reading PRIMAP data\n",
      "Saving intermediate data to /home/stefanv/git/pbl-cabe/effort-sharing/data/intermediate/primap.nc\n",
      "Saving intermediate data to /home/stefanv/git/pbl-cabe/effort-sharing/data/intermediate/emissions_history.nc\n",
      "Computing data for emissions_baseline.nc\n",
      "Reading baseline emissions\n",
      "Saving intermediate data to /home/stefanv/git/pbl-cabe/effort-sharing/data/intermediate/emissions_baseline.nc\n",
      "Computing data for AR6.nc\n",
      "Read AR6 data\n",
      "Reading AR6 metadata\n",
      "Saving intermediate data to /home/stefanv/git/pbl-cabe/effort-sharing/data/intermediate/AR6.nc\n",
      "Saving intermediate data to /home/stefanv/git/pbl-cabe/effort-sharing/data/intermediate/emissions_all.nc\n",
      "Computing data for ar6_modelscenarios.json\n",
      "Reading AR6 metadata\n",
      "Saving intermediate data to /home/stefanv/git/pbl-cabe/effort-sharing/data/intermediate/ar6_modelscenarios.json\n",
      "Computing global nonco2 trajectories\n",
      "Computing data for global_co2_budgets.nc\n",
      "Get global CO2 budgets\n",
      "Saving intermediate data to /home/stefanv/git/pbl-cabe/effort-sharing/data/intermediate/global_co2_budgets.nc\n",
      "Computing global co2 trajectories\n",
      "Computed Equal Cumulative per Capita allocation for USA\n",
      "Computing Ability to Pay allocation for USA\n",
      "Computing data for emissions_all.nc\n",
      "Processing emission input data\n",
      "Reading unfccc country data\n",
      "Computing data for emissions_history.nc\n",
      "Reading historical emissions (jones)\n",
      "Computing data for primap.nc\n",
      "Reading PRIMAP data\n",
      "Saving intermediate data to /home/stefanv/git/pbl-cabe/effort-sharing/data/intermediate/primap.nc\n",
      "Saving intermediate data to /home/stefanv/git/pbl-cabe/effort-sharing/data/intermediate/emissions_history.nc\n",
      "Computing data for emissions_baseline.nc\n",
      "Reading baseline emissions\n",
      "Saving intermediate data to /home/stefanv/git/pbl-cabe/effort-sharing/data/intermediate/emissions_baseline.nc\n",
      "Computing data for AR6.nc\n",
      "Read AR6 data\n",
      "Reading AR6 metadata\n",
      "Saving intermediate data to /home/stefanv/git/pbl-cabe/effort-sharing/data/intermediate/AR6.nc\n",
      "Saving intermediate data to /home/stefanv/git/pbl-cabe/effort-sharing/data/intermediate/emissions_all.nc\n",
      "Computing data for ar6_modelscenarios.json\n",
      "Reading AR6 metadata\n",
      "Saving intermediate data to /home/stefanv/git/pbl-cabe/effort-sharing/data/intermediate/ar6_modelscenarios.json\n",
      "Computing global nonco2 trajectories\n",
      "Computing data for global_co2_budgets.nc\n",
      "Get global CO2 budgets\n",
      "Saving intermediate data to /home/stefanv/git/pbl-cabe/effort-sharing/data/intermediate/global_co2_budgets.nc\n",
      "Computing global co2 trajectories\n",
      "Computed Ability to Pay allocation for USA\n",
      "Computing Greenhouse Development Rights allocation for USA\n",
      "Computing data for xr_rci.nc\n",
      "Saving intermediate data to /home/stefanv/git/pbl-cabe/effort-sharing/data/intermediate/xr_rci.nc\n",
      "Computing data for emissions_all.nc\n",
      "Processing emission input data\n",
      "Reading unfccc country data\n",
      "Computing data for emissions_history.nc\n",
      "Reading historical emissions (jones)\n",
      "Computing data for primap.nc\n",
      "Reading PRIMAP data\n",
      "Saving intermediate data to /home/stefanv/git/pbl-cabe/effort-sharing/data/intermediate/primap.nc\n",
      "Saving intermediate data to /home/stefanv/git/pbl-cabe/effort-sharing/data/intermediate/emissions_history.nc\n",
      "Computing data for emissions_baseline.nc\n",
      "Reading baseline emissions\n",
      "Saving intermediate data to /home/stefanv/git/pbl-cabe/effort-sharing/data/intermediate/emissions_baseline.nc\n",
      "Computing data for AR6.nc\n",
      "Read AR6 data\n",
      "Reading AR6 metadata\n",
      "Saving intermediate data to /home/stefanv/git/pbl-cabe/effort-sharing/data/intermediate/AR6.nc\n",
      "Saving intermediate data to /home/stefanv/git/pbl-cabe/effort-sharing/data/intermediate/emissions_all.nc\n",
      "Computing data for ar6_modelscenarios.json\n",
      "Reading AR6 metadata\n",
      "Saving intermediate data to /home/stefanv/git/pbl-cabe/effort-sharing/data/intermediate/ar6_modelscenarios.json\n",
      "Computing global nonco2 trajectories\n",
      "Computing data for global_co2_budgets.nc\n",
      "Get global CO2 budgets\n",
      "Saving intermediate data to /home/stefanv/git/pbl-cabe/effort-sharing/data/intermediate/global_co2_budgets.nc\n",
      "Computing global co2 trajectories\n",
      "Computed Greenhouse Development Rights allocation for USA\n",
      "Saving allocations to /home/stefanv/git/pbl-cabe/effort-sharing/data/output/Allocations_GHG_incl/xr_alloc_USA.nc\n"
     ]
    }
   ],
   "source": [
    "from effortsharing.allocation import LULUCF, Gas, determine_allocations, save_allocations\n",
    "\n",
    "region = \"USA\"\n",
    "gas: Gas = \"GHG\"\n",
    "lulucf: LULUCF = \"incl\"\n",
    "allocations = determine_allocations(config, region, lulucf=lulucf, gas=gas)\n",
    "save_allocations(config, region, allocations, lulucf=lulucf, gas=gas)"
   ]
  },
  {
   "cell_type": "markdown",
   "metadata": {},
   "source": [
    "Allocations specifically for Norway and Netherlands if you want to harmonize to national data"
   ]
  },
  {
   "cell_type": "code",
   "execution_count": 4,
   "metadata": {},
   "outputs": [
    {
     "name": "stderr",
     "output_type": "stream",
     "text": [
      "Computing Grandfathering allocation for NOR\n",
      "Loading intermediate data from /home/stefanv/git/pbl-cabe/effort-sharing/data/intermediate/emissions_all.nc\n",
      "Loading intermediate data from /home/stefanv/git/pbl-cabe/effort-sharing/data/intermediate/ar6_modelscenarios.json\n",
      "Computing global nonco2 trajectories\n",
      "Loading intermediate data from /home/stefanv/git/pbl-cabe/effort-sharing/data/intermediate/global_co2_budgets.nc\n",
      "Computing global co2 trajectories\n",
      "Computed Grandfathering allocation for NOR\n",
      "Computing Per Capita allocation for NOR\n",
      "Loading intermediate data from /home/stefanv/git/pbl-cabe/effort-sharing/data/intermediate/emissions_all.nc\n",
      "Loading intermediate data from /home/stefanv/git/pbl-cabe/effort-sharing/data/intermediate/ar6_modelscenarios.json\n",
      "Computing global nonco2 trajectories\n",
      "Loading intermediate data from /home/stefanv/git/pbl-cabe/effort-sharing/data/intermediate/global_co2_budgets.nc\n",
      "Computing global co2 trajectories\n",
      "Computed Per Capita allocation for NOR\n",
      "Computing Per Capita Convergence allocation for NOR\n",
      "Computed Per Capita Convergence allocation for NOR\n",
      "Computing Per Capita Budget allocation for NOR\n",
      "Loading intermediate data from /home/stefanv/git/pbl-cabe/effort-sharing/data/intermediate/emissions_all.nc\n",
      "Loading intermediate data from /home/stefanv/git/pbl-cabe/effort-sharing/data/intermediate/ar6_modelscenarios.json\n",
      "Computing global nonco2 trajectories\n",
      "Loading intermediate data from /home/stefanv/git/pbl-cabe/effort-sharing/data/intermediate/global_co2_budgets.nc\n",
      "Computing global co2 trajectories\n",
      "Computing global nonco2 trajectories\n",
      "Loading intermediate data from /home/stefanv/git/pbl-cabe/effort-sharing/data/intermediate/global_co2_budgets.nc\n",
      "Computing global co2 trajectories\n",
      "Computed Per Capita Budget allocation for NOR\n",
      "Computing Equal Cumulative per Capita allocation for NOR\n",
      "Loading intermediate data from /home/stefanv/git/pbl-cabe/effort-sharing/data/intermediate/emissions_all.nc\n",
      "Loading intermediate data from /home/stefanv/git/pbl-cabe/effort-sharing/data/intermediate/ar6_modelscenarios.json\n",
      "Computing global nonco2 trajectories\n",
      "Loading intermediate data from /home/stefanv/git/pbl-cabe/effort-sharing/data/intermediate/global_co2_budgets.nc\n",
      "Computing global co2 trajectories\n",
      "Computed Equal Cumulative per Capita allocation for NOR\n",
      "Computing Ability to Pay allocation for NOR\n",
      "Loading intermediate data from /home/stefanv/git/pbl-cabe/effort-sharing/data/intermediate/emissions_all.nc\n",
      "Loading intermediate data from /home/stefanv/git/pbl-cabe/effort-sharing/data/intermediate/ar6_modelscenarios.json\n",
      "Computing global nonco2 trajectories\n",
      "Loading intermediate data from /home/stefanv/git/pbl-cabe/effort-sharing/data/intermediate/global_co2_budgets.nc\n",
      "Computing global co2 trajectories\n",
      "Computed Ability to Pay allocation for NOR\n",
      "Computing Greenhouse Development Rights allocation for NOR\n",
      "Loading intermediate data from /home/stefanv/git/pbl-cabe/effort-sharing/data/intermediate/xr_rci.nc\n",
      "Loading intermediate data from /home/stefanv/git/pbl-cabe/effort-sharing/data/intermediate/emissions_all.nc\n",
      "Loading intermediate data from /home/stefanv/git/pbl-cabe/effort-sharing/data/intermediate/ar6_modelscenarios.json\n",
      "Computing global nonco2 trajectories\n",
      "Loading intermediate data from /home/stefanv/git/pbl-cabe/effort-sharing/data/intermediate/global_co2_budgets.nc\n",
      "Computing global co2 trajectories\n",
      "Computed Greenhouse Development Rights allocation for NOR\n",
      "Saving allocations to /home/stefanv/git/pbl-cabe/effort-sharing/data/output/Allocations_GHG_incl/xr_alloc_NOR.nc\n",
      "Computing Grandfathering allocation for NOR\n",
      "Loading intermediate data from /home/stefanv/git/pbl-cabe/effort-sharing/data/intermediate/emissions_all.nc\n",
      "Loading intermediate data from /home/stefanv/git/pbl-cabe/effort-sharing/data/intermediate/ar6_modelscenarios.json\n"
     ]
    },
    {
     "name": "stdout",
     "output_type": "stream",
     "text": [
      "NOR incl GHG xr_dataread.nc done\n"
     ]
    },
    {
     "name": "stderr",
     "output_type": "stream",
     "text": [
      "Computing global nonco2 trajectories\n",
      "Loading intermediate data from /home/stefanv/git/pbl-cabe/effort-sharing/data/intermediate/global_co2_budgets.nc\n",
      "Computing global co2 trajectories\n",
      "Computed Grandfathering allocation for NOR\n",
      "Computing Per Capita allocation for NOR\n",
      "Loading intermediate data from /home/stefanv/git/pbl-cabe/effort-sharing/data/intermediate/emissions_all.nc\n",
      "Loading intermediate data from /home/stefanv/git/pbl-cabe/effort-sharing/data/intermediate/ar6_modelscenarios.json\n",
      "Computing global nonco2 trajectories\n",
      "Loading intermediate data from /home/stefanv/git/pbl-cabe/effort-sharing/data/intermediate/global_co2_budgets.nc\n",
      "Computing global co2 trajectories\n",
      "Computed Per Capita allocation for NOR\n",
      "Computing Per Capita Convergence allocation for NOR\n",
      "Computed Per Capita Convergence allocation for NOR\n",
      "Computing Per Capita Budget allocation for NOR\n",
      "Loading intermediate data from /home/stefanv/git/pbl-cabe/effort-sharing/data/intermediate/emissions_all.nc\n",
      "Loading intermediate data from /home/stefanv/git/pbl-cabe/effort-sharing/data/intermediate/ar6_modelscenarios.json\n",
      "Computing global nonco2 trajectories\n",
      "Loading intermediate data from /home/stefanv/git/pbl-cabe/effort-sharing/data/intermediate/global_co2_budgets.nc\n",
      "Computing global co2 trajectories\n",
      "Computing global nonco2 trajectories\n",
      "Loading intermediate data from /home/stefanv/git/pbl-cabe/effort-sharing/data/intermediate/global_co2_budgets.nc\n",
      "Computing global co2 trajectories\n",
      "Computed Per Capita Budget allocation for NOR\n",
      "Computing Equal Cumulative per Capita allocation for NOR\n",
      "Loading intermediate data from /home/stefanv/git/pbl-cabe/effort-sharing/data/intermediate/emissions_all.nc\n",
      "Loading intermediate data from /home/stefanv/git/pbl-cabe/effort-sharing/data/intermediate/ar6_modelscenarios.json\n",
      "Computing global nonco2 trajectories\n",
      "Loading intermediate data from /home/stefanv/git/pbl-cabe/effort-sharing/data/intermediate/global_co2_budgets.nc\n",
      "Computing global co2 trajectories\n",
      "Computed Equal Cumulative per Capita allocation for NOR\n",
      "Computing Ability to Pay allocation for NOR\n",
      "Loading intermediate data from /home/stefanv/git/pbl-cabe/effort-sharing/data/intermediate/emissions_all.nc\n",
      "Loading intermediate data from /home/stefanv/git/pbl-cabe/effort-sharing/data/intermediate/ar6_modelscenarios.json\n",
      "Computing global nonco2 trajectories\n",
      "Loading intermediate data from /home/stefanv/git/pbl-cabe/effort-sharing/data/intermediate/global_co2_budgets.nc\n",
      "Computing global co2 trajectories\n",
      "Computed Ability to Pay allocation for NOR\n",
      "Computing Greenhouse Development Rights allocation for NOR\n",
      "Loading intermediate data from /home/stefanv/git/pbl-cabe/effort-sharing/data/intermediate/xr_rci.nc\n",
      "Loading intermediate data from /home/stefanv/git/pbl-cabe/effort-sharing/data/intermediate/emissions_all.nc\n",
      "Loading intermediate data from /home/stefanv/git/pbl-cabe/effort-sharing/data/intermediate/ar6_modelscenarios.json\n",
      "Computing global nonco2 trajectories\n",
      "Loading intermediate data from /home/stefanv/git/pbl-cabe/effort-sharing/data/intermediate/global_co2_budgets.nc\n",
      "Computing global co2 trajectories\n",
      "Computed Greenhouse Development Rights allocation for NOR\n",
      "Saving allocations to /home/stefanv/git/pbl-cabe/effort-sharing/data/output/Allocations_GHG_incl/xr_alloc_NOR.nc\n",
      "Computing Grandfathering allocation for NOR\n",
      "Loading intermediate data from /home/stefanv/git/pbl-cabe/effort-sharing/data/intermediate/emissions_all.nc\n",
      "Loading intermediate data from /home/stefanv/git/pbl-cabe/effort-sharing/data/intermediate/ar6_modelscenarios.json\n"
     ]
    },
    {
     "name": "stdout",
     "output_type": "stream",
     "text": [
      "NOR incl GHG xr_dataread_nor.nc done\n"
     ]
    },
    {
     "name": "stderr",
     "output_type": "stream",
     "text": [
      "Computing global nonco2 trajectories\n",
      "Loading intermediate data from /home/stefanv/git/pbl-cabe/effort-sharing/data/intermediate/global_co2_budgets.nc\n",
      "Computing global co2 trajectories\n",
      "Computed Grandfathering allocation for NOR\n",
      "Computing Per Capita allocation for NOR\n",
      "Loading intermediate data from /home/stefanv/git/pbl-cabe/effort-sharing/data/intermediate/emissions_all.nc\n",
      "Loading intermediate data from /home/stefanv/git/pbl-cabe/effort-sharing/data/intermediate/ar6_modelscenarios.json\n",
      "Computing global nonco2 trajectories\n",
      "Loading intermediate data from /home/stefanv/git/pbl-cabe/effort-sharing/data/intermediate/global_co2_budgets.nc\n",
      "Computing global co2 trajectories\n",
      "Computed Per Capita allocation for NOR\n",
      "Computing Per Capita Convergence allocation for NOR\n",
      "Computed Per Capita Convergence allocation for NOR\n",
      "Computing Per Capita Budget allocation for NOR\n",
      "Loading intermediate data from /home/stefanv/git/pbl-cabe/effort-sharing/data/intermediate/emissions_all.nc\n",
      "Loading intermediate data from /home/stefanv/git/pbl-cabe/effort-sharing/data/intermediate/ar6_modelscenarios.json\n",
      "Computing global nonco2 trajectories\n",
      "Loading intermediate data from /home/stefanv/git/pbl-cabe/effort-sharing/data/intermediate/global_co2_budgets.nc\n",
      "Computing global co2 trajectories\n",
      "Computed Per Capita Budget allocation for NOR\n",
      "Computing Equal Cumulative per Capita allocation for NOR\n",
      "Loading intermediate data from /home/stefanv/git/pbl-cabe/effort-sharing/data/intermediate/emissions_all.nc\n",
      "Loading intermediate data from /home/stefanv/git/pbl-cabe/effort-sharing/data/intermediate/ar6_modelscenarios.json\n",
      "Computing global nonco2 trajectories\n",
      "Loading intermediate data from /home/stefanv/git/pbl-cabe/effort-sharing/data/intermediate/global_co2_budgets.nc\n",
      "Computing global co2 trajectories\n",
      "Computed Equal Cumulative per Capita allocation for NOR\n",
      "Computing Ability to Pay allocation for NOR\n",
      "Loading intermediate data from /home/stefanv/git/pbl-cabe/effort-sharing/data/intermediate/emissions_all.nc\n",
      "Loading intermediate data from /home/stefanv/git/pbl-cabe/effort-sharing/data/intermediate/ar6_modelscenarios.json\n",
      "Computing global nonco2 trajectories\n",
      "Loading intermediate data from /home/stefanv/git/pbl-cabe/effort-sharing/data/intermediate/global_co2_budgets.nc\n",
      "Computing global co2 trajectories\n",
      "Computed Ability to Pay allocation for NOR\n",
      "Computing Greenhouse Development Rights allocation for NOR\n",
      "Loading intermediate data from /home/stefanv/git/pbl-cabe/effort-sharing/data/intermediate/xr_rci.nc\n",
      "Loading intermediate data from /home/stefanv/git/pbl-cabe/effort-sharing/data/intermediate/emissions_all.nc\n",
      "Loading intermediate data from /home/stefanv/git/pbl-cabe/effort-sharing/data/intermediate/ar6_modelscenarios.json\n",
      "Computing global nonco2 trajectories\n",
      "Loading intermediate data from /home/stefanv/git/pbl-cabe/effort-sharing/data/intermediate/global_co2_budgets.nc\n",
      "Computing global co2 trajectories\n",
      "Computed Greenhouse Development Rights allocation for NOR\n",
      "Saving allocations to /home/stefanv/git/pbl-cabe/effort-sharing/data/output/Allocations_CO2_incl/xr_alloc_NOR.nc\n",
      "Computing Grandfathering allocation for NOR\n",
      "Loading intermediate data from /home/stefanv/git/pbl-cabe/effort-sharing/data/intermediate/emissions_all.nc\n",
      "Loading intermediate data from /home/stefanv/git/pbl-cabe/effort-sharing/data/intermediate/ar6_modelscenarios.json\n"
     ]
    },
    {
     "name": "stdout",
     "output_type": "stream",
     "text": [
      "NOR incl CO2 xr_dataread.nc done\n"
     ]
    },
    {
     "name": "stderr",
     "output_type": "stream",
     "text": [
      "Computing global nonco2 trajectories\n",
      "Loading intermediate data from /home/stefanv/git/pbl-cabe/effort-sharing/data/intermediate/global_co2_budgets.nc\n",
      "Computing global co2 trajectories\n",
      "Computed Grandfathering allocation for NOR\n",
      "Computing Per Capita allocation for NOR\n",
      "Loading intermediate data from /home/stefanv/git/pbl-cabe/effort-sharing/data/intermediate/emissions_all.nc\n",
      "Loading intermediate data from /home/stefanv/git/pbl-cabe/effort-sharing/data/intermediate/ar6_modelscenarios.json\n",
      "Computing global nonco2 trajectories\n",
      "Loading intermediate data from /home/stefanv/git/pbl-cabe/effort-sharing/data/intermediate/global_co2_budgets.nc\n",
      "Computing global co2 trajectories\n",
      "Computed Per Capita allocation for NOR\n",
      "Computing Per Capita Convergence allocation for NOR\n",
      "Computed Per Capita Convergence allocation for NOR\n",
      "Computing Per Capita Budget allocation for NOR\n",
      "Loading intermediate data from /home/stefanv/git/pbl-cabe/effort-sharing/data/intermediate/emissions_all.nc\n",
      "Loading intermediate data from /home/stefanv/git/pbl-cabe/effort-sharing/data/intermediate/ar6_modelscenarios.json\n",
      "Computing global nonco2 trajectories\n",
      "Loading intermediate data from /home/stefanv/git/pbl-cabe/effort-sharing/data/intermediate/global_co2_budgets.nc\n",
      "Computing global co2 trajectories\n",
      "Computed Per Capita Budget allocation for NOR\n",
      "Computing Equal Cumulative per Capita allocation for NOR\n",
      "Loading intermediate data from /home/stefanv/git/pbl-cabe/effort-sharing/data/intermediate/emissions_all.nc\n",
      "Loading intermediate data from /home/stefanv/git/pbl-cabe/effort-sharing/data/intermediate/ar6_modelscenarios.json\n",
      "Computing global nonco2 trajectories\n",
      "Loading intermediate data from /home/stefanv/git/pbl-cabe/effort-sharing/data/intermediate/global_co2_budgets.nc\n",
      "Computing global co2 trajectories\n",
      "Computed Equal Cumulative per Capita allocation for NOR\n",
      "Computing Ability to Pay allocation for NOR\n",
      "Loading intermediate data from /home/stefanv/git/pbl-cabe/effort-sharing/data/intermediate/emissions_all.nc\n",
      "Loading intermediate data from /home/stefanv/git/pbl-cabe/effort-sharing/data/intermediate/ar6_modelscenarios.json\n",
      "Computing global nonco2 trajectories\n",
      "Loading intermediate data from /home/stefanv/git/pbl-cabe/effort-sharing/data/intermediate/global_co2_budgets.nc\n",
      "Computing global co2 trajectories\n",
      "Computed Ability to Pay allocation for NOR\n",
      "Computing Greenhouse Development Rights allocation for NOR\n",
      "Loading intermediate data from /home/stefanv/git/pbl-cabe/effort-sharing/data/intermediate/xr_rci.nc\n",
      "Loading intermediate data from /home/stefanv/git/pbl-cabe/effort-sharing/data/intermediate/emissions_all.nc\n",
      "Loading intermediate data from /home/stefanv/git/pbl-cabe/effort-sharing/data/intermediate/ar6_modelscenarios.json\n",
      "Computing global nonco2 trajectories\n",
      "Loading intermediate data from /home/stefanv/git/pbl-cabe/effort-sharing/data/intermediate/global_co2_budgets.nc\n",
      "Computing global co2 trajectories\n",
      "Computed Greenhouse Development Rights allocation for NOR\n",
      "Saving allocations to /home/stefanv/git/pbl-cabe/effort-sharing/data/output/Allocations_CO2_incl/xr_alloc_NOR.nc\n",
      "Computing Grandfathering allocation for NOR\n",
      "Loading intermediate data from /home/stefanv/git/pbl-cabe/effort-sharing/data/intermediate/emissions_all.nc\n",
      "Loading intermediate data from /home/stefanv/git/pbl-cabe/effort-sharing/data/intermediate/ar6_modelscenarios.json\n"
     ]
    },
    {
     "name": "stdout",
     "output_type": "stream",
     "text": [
      "NOR incl CO2 xr_dataread_nor.nc done\n"
     ]
    },
    {
     "name": "stderr",
     "output_type": "stream",
     "text": [
      "Computing global nonco2 trajectories\n",
      "Loading intermediate data from /home/stefanv/git/pbl-cabe/effort-sharing/data/intermediate/global_co2_budgets.nc\n",
      "Computing global co2 trajectories\n",
      "Computed Grandfathering allocation for NOR\n",
      "Computing Per Capita allocation for NOR\n",
      "Loading intermediate data from /home/stefanv/git/pbl-cabe/effort-sharing/data/intermediate/emissions_all.nc\n",
      "Loading intermediate data from /home/stefanv/git/pbl-cabe/effort-sharing/data/intermediate/ar6_modelscenarios.json\n",
      "Computing global nonco2 trajectories\n",
      "Loading intermediate data from /home/stefanv/git/pbl-cabe/effort-sharing/data/intermediate/global_co2_budgets.nc\n",
      "Computing global co2 trajectories\n",
      "Computed Per Capita allocation for NOR\n",
      "Computing Per Capita Convergence allocation for NOR\n",
      "Computed Per Capita Convergence allocation for NOR\n",
      "Computing Per Capita Budget allocation for NOR\n",
      "Loading intermediate data from /home/stefanv/git/pbl-cabe/effort-sharing/data/intermediate/emissions_all.nc\n",
      "Loading intermediate data from /home/stefanv/git/pbl-cabe/effort-sharing/data/intermediate/ar6_modelscenarios.json\n",
      "Computing global nonco2 trajectories\n",
      "Loading intermediate data from /home/stefanv/git/pbl-cabe/effort-sharing/data/intermediate/global_co2_budgets.nc\n",
      "Computing global co2 trajectories\n",
      "Computing global nonco2 trajectories\n",
      "Loading intermediate data from /home/stefanv/git/pbl-cabe/effort-sharing/data/intermediate/global_co2_budgets.nc\n",
      "Computing global co2 trajectories\n",
      "Computed Per Capita Budget allocation for NOR\n",
      "Computing Equal Cumulative per Capita allocation for NOR\n",
      "Loading intermediate data from /home/stefanv/git/pbl-cabe/effort-sharing/data/intermediate/emissions_all.nc\n",
      "Loading intermediate data from /home/stefanv/git/pbl-cabe/effort-sharing/data/intermediate/ar6_modelscenarios.json\n",
      "Computing global nonco2 trajectories\n",
      "Loading intermediate data from /home/stefanv/git/pbl-cabe/effort-sharing/data/intermediate/global_co2_budgets.nc\n",
      "Computing global co2 trajectories\n",
      "Computed Equal Cumulative per Capita allocation for NOR\n",
      "Computing Ability to Pay allocation for NOR\n",
      "Loading intermediate data from /home/stefanv/git/pbl-cabe/effort-sharing/data/intermediate/emissions_all.nc\n",
      "Loading intermediate data from /home/stefanv/git/pbl-cabe/effort-sharing/data/intermediate/ar6_modelscenarios.json\n",
      "Computing global nonco2 trajectories\n",
      "Loading intermediate data from /home/stefanv/git/pbl-cabe/effort-sharing/data/intermediate/global_co2_budgets.nc\n",
      "Computing global co2 trajectories\n",
      "Computed Ability to Pay allocation for NOR\n",
      "Computing Greenhouse Development Rights allocation for NOR\n",
      "Loading intermediate data from /home/stefanv/git/pbl-cabe/effort-sharing/data/intermediate/xr_rci.nc\n",
      "Loading intermediate data from /home/stefanv/git/pbl-cabe/effort-sharing/data/intermediate/emissions_all.nc\n",
      "Loading intermediate data from /home/stefanv/git/pbl-cabe/effort-sharing/data/intermediate/ar6_modelscenarios.json\n",
      "Computing global nonco2 trajectories\n",
      "Loading intermediate data from /home/stefanv/git/pbl-cabe/effort-sharing/data/intermediate/global_co2_budgets.nc\n",
      "Computing global co2 trajectories\n",
      "Computed Greenhouse Development Rights allocation for NOR\n",
      "Saving allocations to /home/stefanv/git/pbl-cabe/effort-sharing/data/output/Allocations_GHG_excl/xr_alloc_NOR.nc\n",
      "Computing Grandfathering allocation for NOR\n",
      "Loading intermediate data from /home/stefanv/git/pbl-cabe/effort-sharing/data/intermediate/emissions_all.nc\n",
      "Loading intermediate data from /home/stefanv/git/pbl-cabe/effort-sharing/data/intermediate/ar6_modelscenarios.json\n"
     ]
    },
    {
     "name": "stdout",
     "output_type": "stream",
     "text": [
      "NOR excl GHG xr_dataread.nc done\n"
     ]
    },
    {
     "name": "stderr",
     "output_type": "stream",
     "text": [
      "Computing global nonco2 trajectories\n",
      "Loading intermediate data from /home/stefanv/git/pbl-cabe/effort-sharing/data/intermediate/global_co2_budgets.nc\n",
      "Computing global co2 trajectories\n",
      "Computed Grandfathering allocation for NOR\n",
      "Computing Per Capita allocation for NOR\n",
      "Loading intermediate data from /home/stefanv/git/pbl-cabe/effort-sharing/data/intermediate/emissions_all.nc\n",
      "Loading intermediate data from /home/stefanv/git/pbl-cabe/effort-sharing/data/intermediate/ar6_modelscenarios.json\n",
      "Computing global nonco2 trajectories\n",
      "Loading intermediate data from /home/stefanv/git/pbl-cabe/effort-sharing/data/intermediate/global_co2_budgets.nc\n",
      "Computing global co2 trajectories\n",
      "Computed Per Capita allocation for NOR\n",
      "Computing Per Capita Convergence allocation for NOR\n",
      "Computed Per Capita Convergence allocation for NOR\n",
      "Computing Per Capita Budget allocation for NOR\n",
      "Loading intermediate data from /home/stefanv/git/pbl-cabe/effort-sharing/data/intermediate/emissions_all.nc\n",
      "Loading intermediate data from /home/stefanv/git/pbl-cabe/effort-sharing/data/intermediate/ar6_modelscenarios.json\n",
      "Computing global nonco2 trajectories\n",
      "Loading intermediate data from /home/stefanv/git/pbl-cabe/effort-sharing/data/intermediate/global_co2_budgets.nc\n",
      "Computing global co2 trajectories\n",
      "Computing global nonco2 trajectories\n",
      "Loading intermediate data from /home/stefanv/git/pbl-cabe/effort-sharing/data/intermediate/global_co2_budgets.nc\n",
      "Computing global co2 trajectories\n",
      "Computed Per Capita Budget allocation for NOR\n",
      "Computing Equal Cumulative per Capita allocation for NOR\n",
      "Loading intermediate data from /home/stefanv/git/pbl-cabe/effort-sharing/data/intermediate/emissions_all.nc\n",
      "Loading intermediate data from /home/stefanv/git/pbl-cabe/effort-sharing/data/intermediate/ar6_modelscenarios.json\n",
      "Computing global nonco2 trajectories\n",
      "Loading intermediate data from /home/stefanv/git/pbl-cabe/effort-sharing/data/intermediate/global_co2_budgets.nc\n",
      "Computing global co2 trajectories\n",
      "Computed Equal Cumulative per Capita allocation for NOR\n",
      "Computing Ability to Pay allocation for NOR\n",
      "Loading intermediate data from /home/stefanv/git/pbl-cabe/effort-sharing/data/intermediate/emissions_all.nc\n",
      "Loading intermediate data from /home/stefanv/git/pbl-cabe/effort-sharing/data/intermediate/ar6_modelscenarios.json\n",
      "Computing global nonco2 trajectories\n",
      "Loading intermediate data from /home/stefanv/git/pbl-cabe/effort-sharing/data/intermediate/global_co2_budgets.nc\n",
      "Computing global co2 trajectories\n",
      "Computed Ability to Pay allocation for NOR\n",
      "Computing Greenhouse Development Rights allocation for NOR\n",
      "Loading intermediate data from /home/stefanv/git/pbl-cabe/effort-sharing/data/intermediate/xr_rci.nc\n",
      "Loading intermediate data from /home/stefanv/git/pbl-cabe/effort-sharing/data/intermediate/emissions_all.nc\n",
      "Loading intermediate data from /home/stefanv/git/pbl-cabe/effort-sharing/data/intermediate/ar6_modelscenarios.json\n",
      "Computing global nonco2 trajectories\n",
      "Loading intermediate data from /home/stefanv/git/pbl-cabe/effort-sharing/data/intermediate/global_co2_budgets.nc\n",
      "Computing global co2 trajectories\n",
      "Computed Greenhouse Development Rights allocation for NOR\n",
      "Saving allocations to /home/stefanv/git/pbl-cabe/effort-sharing/data/output/Allocations_GHG_excl/xr_alloc_NOR.nc\n",
      "Computing Grandfathering allocation for NOR\n",
      "Loading intermediate data from /home/stefanv/git/pbl-cabe/effort-sharing/data/intermediate/emissions_all.nc\n",
      "Loading intermediate data from /home/stefanv/git/pbl-cabe/effort-sharing/data/intermediate/ar6_modelscenarios.json\n"
     ]
    },
    {
     "name": "stdout",
     "output_type": "stream",
     "text": [
      "NOR excl GHG xr_dataread_nor.nc done\n"
     ]
    },
    {
     "name": "stderr",
     "output_type": "stream",
     "text": [
      "Computing global nonco2 trajectories\n",
      "Loading intermediate data from /home/stefanv/git/pbl-cabe/effort-sharing/data/intermediate/global_co2_budgets.nc\n",
      "Computing global co2 trajectories\n",
      "Computed Grandfathering allocation for NOR\n",
      "Computing Per Capita allocation for NOR\n",
      "Loading intermediate data from /home/stefanv/git/pbl-cabe/effort-sharing/data/intermediate/emissions_all.nc\n",
      "Loading intermediate data from /home/stefanv/git/pbl-cabe/effort-sharing/data/intermediate/ar6_modelscenarios.json\n",
      "Computing global nonco2 trajectories\n",
      "Loading intermediate data from /home/stefanv/git/pbl-cabe/effort-sharing/data/intermediate/global_co2_budgets.nc\n",
      "Computing global co2 trajectories\n",
      "Computed Per Capita allocation for NOR\n",
      "Computing Per Capita Convergence allocation for NOR\n",
      "Computed Per Capita Convergence allocation for NOR\n",
      "Computing Per Capita Budget allocation for NOR\n",
      "Loading intermediate data from /home/stefanv/git/pbl-cabe/effort-sharing/data/intermediate/emissions_all.nc\n",
      "Loading intermediate data from /home/stefanv/git/pbl-cabe/effort-sharing/data/intermediate/ar6_modelscenarios.json\n",
      "Computing global nonco2 trajectories\n",
      "Loading intermediate data from /home/stefanv/git/pbl-cabe/effort-sharing/data/intermediate/global_co2_budgets.nc\n",
      "Computing global co2 trajectories\n",
      "Computed Per Capita Budget allocation for NOR\n",
      "Computing Equal Cumulative per Capita allocation for NOR\n",
      "Loading intermediate data from /home/stefanv/git/pbl-cabe/effort-sharing/data/intermediate/emissions_all.nc\n",
      "Loading intermediate data from /home/stefanv/git/pbl-cabe/effort-sharing/data/intermediate/ar6_modelscenarios.json\n",
      "Computing global nonco2 trajectories\n",
      "Loading intermediate data from /home/stefanv/git/pbl-cabe/effort-sharing/data/intermediate/global_co2_budgets.nc\n",
      "Computing global co2 trajectories\n",
      "Computed Equal Cumulative per Capita allocation for NOR\n",
      "Computing Ability to Pay allocation for NOR\n",
      "Loading intermediate data from /home/stefanv/git/pbl-cabe/effort-sharing/data/intermediate/emissions_all.nc\n",
      "Loading intermediate data from /home/stefanv/git/pbl-cabe/effort-sharing/data/intermediate/ar6_modelscenarios.json\n",
      "Computing global nonco2 trajectories\n",
      "Loading intermediate data from /home/stefanv/git/pbl-cabe/effort-sharing/data/intermediate/global_co2_budgets.nc\n",
      "Computing global co2 trajectories\n",
      "Computed Ability to Pay allocation for NOR\n",
      "Computing Greenhouse Development Rights allocation for NOR\n",
      "Loading intermediate data from /home/stefanv/git/pbl-cabe/effort-sharing/data/intermediate/xr_rci.nc\n",
      "Loading intermediate data from /home/stefanv/git/pbl-cabe/effort-sharing/data/intermediate/emissions_all.nc\n",
      "Loading intermediate data from /home/stefanv/git/pbl-cabe/effort-sharing/data/intermediate/ar6_modelscenarios.json\n",
      "Computing global nonco2 trajectories\n",
      "Loading intermediate data from /home/stefanv/git/pbl-cabe/effort-sharing/data/intermediate/global_co2_budgets.nc\n",
      "Computing global co2 trajectories\n",
      "Computed Greenhouse Development Rights allocation for NOR\n",
      "Saving allocations to /home/stefanv/git/pbl-cabe/effort-sharing/data/output/Allocations_CO2_excl/xr_alloc_NOR.nc\n",
      "Computing Grandfathering allocation for NOR\n",
      "Loading intermediate data from /home/stefanv/git/pbl-cabe/effort-sharing/data/intermediate/emissions_all.nc\n",
      "Loading intermediate data from /home/stefanv/git/pbl-cabe/effort-sharing/data/intermediate/ar6_modelscenarios.json\n"
     ]
    },
    {
     "name": "stdout",
     "output_type": "stream",
     "text": [
      "NOR excl CO2 xr_dataread.nc done\n"
     ]
    },
    {
     "name": "stderr",
     "output_type": "stream",
     "text": [
      "Computing global nonco2 trajectories\n",
      "Loading intermediate data from /home/stefanv/git/pbl-cabe/effort-sharing/data/intermediate/global_co2_budgets.nc\n",
      "Computing global co2 trajectories\n",
      "Computed Grandfathering allocation for NOR\n",
      "Computing Per Capita allocation for NOR\n",
      "Loading intermediate data from /home/stefanv/git/pbl-cabe/effort-sharing/data/intermediate/emissions_all.nc\n",
      "Loading intermediate data from /home/stefanv/git/pbl-cabe/effort-sharing/data/intermediate/ar6_modelscenarios.json\n",
      "Computing global nonco2 trajectories\n",
      "Loading intermediate data from /home/stefanv/git/pbl-cabe/effort-sharing/data/intermediate/global_co2_budgets.nc\n",
      "Computing global co2 trajectories\n",
      "Computed Per Capita allocation for NOR\n",
      "Computing Per Capita Convergence allocation for NOR\n",
      "Computed Per Capita Convergence allocation for NOR\n",
      "Computing Per Capita Budget allocation for NOR\n",
      "Loading intermediate data from /home/stefanv/git/pbl-cabe/effort-sharing/data/intermediate/emissions_all.nc\n",
      "Loading intermediate data from /home/stefanv/git/pbl-cabe/effort-sharing/data/intermediate/ar6_modelscenarios.json\n",
      "Computing global nonco2 trajectories\n",
      "Loading intermediate data from /home/stefanv/git/pbl-cabe/effort-sharing/data/intermediate/global_co2_budgets.nc\n",
      "Computing global co2 trajectories\n",
      "Computed Per Capita Budget allocation for NOR\n",
      "Computing Equal Cumulative per Capita allocation for NOR\n",
      "Loading intermediate data from /home/stefanv/git/pbl-cabe/effort-sharing/data/intermediate/emissions_all.nc\n",
      "Loading intermediate data from /home/stefanv/git/pbl-cabe/effort-sharing/data/intermediate/ar6_modelscenarios.json\n",
      "Computing global nonco2 trajectories\n",
      "Loading intermediate data from /home/stefanv/git/pbl-cabe/effort-sharing/data/intermediate/global_co2_budgets.nc\n",
      "Computing global co2 trajectories\n",
      "Computed Equal Cumulative per Capita allocation for NOR\n",
      "Computing Ability to Pay allocation for NOR\n",
      "Loading intermediate data from /home/stefanv/git/pbl-cabe/effort-sharing/data/intermediate/emissions_all.nc\n",
      "Loading intermediate data from /home/stefanv/git/pbl-cabe/effort-sharing/data/intermediate/ar6_modelscenarios.json\n",
      "Computing global nonco2 trajectories\n",
      "Loading intermediate data from /home/stefanv/git/pbl-cabe/effort-sharing/data/intermediate/global_co2_budgets.nc\n",
      "Computing global co2 trajectories\n",
      "Computed Ability to Pay allocation for NOR\n",
      "Computing Greenhouse Development Rights allocation for NOR\n",
      "Loading intermediate data from /home/stefanv/git/pbl-cabe/effort-sharing/data/intermediate/xr_rci.nc\n",
      "Loading intermediate data from /home/stefanv/git/pbl-cabe/effort-sharing/data/intermediate/emissions_all.nc\n",
      "Loading intermediate data from /home/stefanv/git/pbl-cabe/effort-sharing/data/intermediate/ar6_modelscenarios.json\n",
      "Computing global nonco2 trajectories\n",
      "Loading intermediate data from /home/stefanv/git/pbl-cabe/effort-sharing/data/intermediate/global_co2_budgets.nc\n",
      "Computing global co2 trajectories\n",
      "Computed Greenhouse Development Rights allocation for NOR\n",
      "Saving allocations to /home/stefanv/git/pbl-cabe/effort-sharing/data/output/Allocations_CO2_excl/xr_alloc_NOR.nc\n"
     ]
    },
    {
     "name": "stdout",
     "output_type": "stream",
     "text": [
      "NOR excl CO2 xr_dataread_nor.nc done\n"
     ]
    }
   ],
   "source": [
    "from effortsharing.allocation import LULUCF, Gas, determine_allocations, save_allocations\n",
    "\n",
    "lulucfs: list[LULUCF] = [\"incl\", \"excl\"]\n",
    "gases: list[Gas] = [\"GHG\", \"CO2\"]\n",
    "for lulucf in lulucfs:\n",
    "    for gas in gases:\n",
    "        for dataread_file in [\n",
    "            \"xr_dataread.nc\",\n",
    "            \"xr_dataread_nor.nc\",\n",
    "        ]:  # This is only necessary if for a country a specific historical emissions profile is required beyond what is in Jones (e.g. Norway was requested)\n",
    "            allocations = determine_allocations(config, \"NOR\", lulucf=lulucf, gas=gas)\n",
    "            save_allocations(config, \"NOR\", allocations, lulucf=lulucf, gas=gas)\n",
    "            print(\"NOR\", lulucf, gas, dataread_file, \"done\")"
   ]
  },
  {
   "cell_type": "markdown",
   "metadata": {},
   "source": [
    "Allocation class (run all 207 countries)"
   ]
  },
  {
   "cell_type": "code",
   "execution_count": null,
   "metadata": {},
   "outputs": [
    {
     "name": "stderr",
     "output_type": "stream",
     "text": [
      "  0%|          | 0/3 [00:00<?, ?it/s]Computing Grandfathering allocation for AFG\n",
      "Loading intermediate data from /home/stefanv/git/pbl-cabe/effort-sharing/data/intermediate/emissions_all.nc\n",
      "Loading intermediate data from /home/stefanv/git/pbl-cabe/effort-sharing/data/intermediate/ar6_modelscenarios.json\n",
      "Computing global nonco2 trajectories\n",
      "Loading intermediate data from /home/stefanv/git/pbl-cabe/effort-sharing/data/intermediate/global_co2_budgets.nc\n",
      "Computing global co2 trajectories\n",
      "Computed Grandfathering allocation for AFG\n",
      "Computing Per Capita allocation for AFG\n",
      "Loading intermediate data from /home/stefanv/git/pbl-cabe/effort-sharing/data/intermediate/emissions_all.nc\n",
      "Loading intermediate data from /home/stefanv/git/pbl-cabe/effort-sharing/data/intermediate/ar6_modelscenarios.json\n",
      "Computing global nonco2 trajectories\n",
      "Loading intermediate data from /home/stefanv/git/pbl-cabe/effort-sharing/data/intermediate/global_co2_budgets.nc\n",
      "Computing global co2 trajectories\n",
      "Computed Per Capita allocation for AFG\n",
      "Computing Per Capita Convergence allocation for AFG\n",
      "Computed Per Capita Convergence allocation for AFG\n",
      "Computing Per Capita Budget allocation for AFG\n",
      "Loading intermediate data from /home/stefanv/git/pbl-cabe/effort-sharing/data/intermediate/emissions_all.nc\n",
      "Loading intermediate data from /home/stefanv/git/pbl-cabe/effort-sharing/data/intermediate/ar6_modelscenarios.json\n",
      "Computing global nonco2 trajectories\n",
      "Loading intermediate data from /home/stefanv/git/pbl-cabe/effort-sharing/data/intermediate/global_co2_budgets.nc\n",
      "Computing global co2 trajectories\n",
      "Computing global nonco2 trajectories\n",
      "Loading intermediate data from /home/stefanv/git/pbl-cabe/effort-sharing/data/intermediate/global_co2_budgets.nc\n",
      "Computing global co2 trajectories\n",
      "Computed Per Capita Budget allocation for AFG\n",
      "Computing Equal Cumulative per Capita allocation for AFG\n",
      "Loading intermediate data from /home/stefanv/git/pbl-cabe/effort-sharing/data/intermediate/emissions_all.nc\n",
      "Loading intermediate data from /home/stefanv/git/pbl-cabe/effort-sharing/data/intermediate/ar6_modelscenarios.json\n",
      "Computing global nonco2 trajectories\n",
      "Loading intermediate data from /home/stefanv/git/pbl-cabe/effort-sharing/data/intermediate/global_co2_budgets.nc\n",
      "Computing global co2 trajectories\n",
      "Computed Equal Cumulative per Capita allocation for AFG\n",
      "Computing Ability to Pay allocation for AFG\n",
      "Loading intermediate data from /home/stefanv/git/pbl-cabe/effort-sharing/data/intermediate/emissions_all.nc\n",
      "Loading intermediate data from /home/stefanv/git/pbl-cabe/effort-sharing/data/intermediate/ar6_modelscenarios.json\n",
      "Computing global nonco2 trajectories\n",
      "Loading intermediate data from /home/stefanv/git/pbl-cabe/effort-sharing/data/intermediate/global_co2_budgets.nc\n",
      "Computing global co2 trajectories\n",
      "Computed Ability to Pay allocation for AFG\n",
      "Computing Greenhouse Development Rights allocation for AFG\n",
      "Loading intermediate data from /home/stefanv/git/pbl-cabe/effort-sharing/data/intermediate/xr_rci.nc\n",
      "Loading intermediate data from /home/stefanv/git/pbl-cabe/effort-sharing/data/intermediate/emissions_all.nc\n",
      "Loading intermediate data from /home/stefanv/git/pbl-cabe/effort-sharing/data/intermediate/ar6_modelscenarios.json\n",
      "Computing global nonco2 trajectories\n",
      "Loading intermediate data from /home/stefanv/git/pbl-cabe/effort-sharing/data/intermediate/global_co2_budgets.nc\n",
      "Computing global co2 trajectories\n",
      "Computed Greenhouse Development Rights allocation for AFG\n",
      "Saving allocations to /home/stefanv/git/pbl-cabe/effort-sharing/data/output/Allocations_GHG_incl/xr_alloc_AFG.nc\n",
      " 33%|███▎      | 1/3 [02:35<05:11, 155.71s/it]Computing Grandfathering allocation for ALB\n",
      "Loading intermediate data from /home/stefanv/git/pbl-cabe/effort-sharing/data/intermediate/emissions_all.nc\n",
      "Loading intermediate data from /home/stefanv/git/pbl-cabe/effort-sharing/data/intermediate/ar6_modelscenarios.json\n",
      "Computing global nonco2 trajectories\n",
      "Loading intermediate data from /home/stefanv/git/pbl-cabe/effort-sharing/data/intermediate/global_co2_budgets.nc\n",
      "Computing global co2 trajectories\n",
      "Computed Grandfathering allocation for ALB\n",
      "Computing Per Capita allocation for ALB\n",
      "Loading intermediate data from /home/stefanv/git/pbl-cabe/effort-sharing/data/intermediate/emissions_all.nc\n",
      "Loading intermediate data from /home/stefanv/git/pbl-cabe/effort-sharing/data/intermediate/ar6_modelscenarios.json\n",
      "Computing global nonco2 trajectories\n",
      "Loading intermediate data from /home/stefanv/git/pbl-cabe/effort-sharing/data/intermediate/global_co2_budgets.nc\n",
      "Computing global co2 trajectories\n",
      "Computed Per Capita allocation for ALB\n",
      "Computing Per Capita Convergence allocation for ALB\n",
      "Computed Per Capita Convergence allocation for ALB\n",
      "Computing Per Capita Budget allocation for ALB\n",
      "Loading intermediate data from /home/stefanv/git/pbl-cabe/effort-sharing/data/intermediate/emissions_all.nc\n",
      "Loading intermediate data from /home/stefanv/git/pbl-cabe/effort-sharing/data/intermediate/ar6_modelscenarios.json\n",
      "Computing global nonco2 trajectories\n",
      "Loading intermediate data from /home/stefanv/git/pbl-cabe/effort-sharing/data/intermediate/global_co2_budgets.nc\n",
      "Computing global co2 trajectories\n",
      "Computing global nonco2 trajectories\n",
      "Loading intermediate data from /home/stefanv/git/pbl-cabe/effort-sharing/data/intermediate/global_co2_budgets.nc\n",
      "Computing global co2 trajectories\n",
      "Computed Per Capita Budget allocation for ALB\n",
      "Computing Equal Cumulative per Capita allocation for ALB\n",
      "Loading intermediate data from /home/stefanv/git/pbl-cabe/effort-sharing/data/intermediate/emissions_all.nc\n",
      "Loading intermediate data from /home/stefanv/git/pbl-cabe/effort-sharing/data/intermediate/ar6_modelscenarios.json\n",
      "Computing global nonco2 trajectories\n",
      "Loading intermediate data from /home/stefanv/git/pbl-cabe/effort-sharing/data/intermediate/global_co2_budgets.nc\n",
      "Computing global co2 trajectories\n",
      "Computed Equal Cumulative per Capita allocation for ALB\n",
      "Computing Ability to Pay allocation for ALB\n",
      "Loading intermediate data from /home/stefanv/git/pbl-cabe/effort-sharing/data/intermediate/emissions_all.nc\n",
      "Loading intermediate data from /home/stefanv/git/pbl-cabe/effort-sharing/data/intermediate/ar6_modelscenarios.json\n",
      "Computing global nonco2 trajectories\n",
      "Loading intermediate data from /home/stefanv/git/pbl-cabe/effort-sharing/data/intermediate/global_co2_budgets.nc\n",
      "Computing global co2 trajectories\n",
      "Computed Ability to Pay allocation for ALB\n",
      "Computing Greenhouse Development Rights allocation for ALB\n",
      "Loading intermediate data from /home/stefanv/git/pbl-cabe/effort-sharing/data/intermediate/xr_rci.nc\n",
      "Loading intermediate data from /home/stefanv/git/pbl-cabe/effort-sharing/data/intermediate/emissions_all.nc\n",
      "Loading intermediate data from /home/stefanv/git/pbl-cabe/effort-sharing/data/intermediate/ar6_modelscenarios.json\n",
      "Computing global nonco2 trajectories\n",
      "Loading intermediate data from /home/stefanv/git/pbl-cabe/effort-sharing/data/intermediate/global_co2_budgets.nc\n",
      "Computing global co2 trajectories\n",
      "Computed Greenhouse Development Rights allocation for ALB\n",
      "Saving allocations to /home/stefanv/git/pbl-cabe/effort-sharing/data/output/Allocations_GHG_incl/xr_alloc_ALB.nc\n",
      " 67%|██████▋   | 2/3 [05:11<02:36, 156.02s/it]Computing Grandfathering allocation for DZA\n",
      "Loading intermediate data from /home/stefanv/git/pbl-cabe/effort-sharing/data/intermediate/emissions_all.nc\n",
      "Loading intermediate data from /home/stefanv/git/pbl-cabe/effort-sharing/data/intermediate/ar6_modelscenarios.json\n",
      "Computing global nonco2 trajectories\n",
      "Loading intermediate data from /home/stefanv/git/pbl-cabe/effort-sharing/data/intermediate/global_co2_budgets.nc\n",
      "Computing global co2 trajectories\n",
      "Computed Grandfathering allocation for DZA\n",
      "Computing Per Capita allocation for DZA\n",
      "Loading intermediate data from /home/stefanv/git/pbl-cabe/effort-sharing/data/intermediate/emissions_all.nc\n",
      "Loading intermediate data from /home/stefanv/git/pbl-cabe/effort-sharing/data/intermediate/ar6_modelscenarios.json\n",
      "Computing global nonco2 trajectories\n",
      "Loading intermediate data from /home/stefanv/git/pbl-cabe/effort-sharing/data/intermediate/global_co2_budgets.nc\n",
      "Computing global co2 trajectories\n",
      "Computed Per Capita allocation for DZA\n",
      "Computing Per Capita Convergence allocation for DZA\n",
      "Computed Per Capita Convergence allocation for DZA\n",
      "Computing Per Capita Budget allocation for DZA\n",
      "Loading intermediate data from /home/stefanv/git/pbl-cabe/effort-sharing/data/intermediate/emissions_all.nc\n",
      "Loading intermediate data from /home/stefanv/git/pbl-cabe/effort-sharing/data/intermediate/ar6_modelscenarios.json\n",
      "Computing global nonco2 trajectories\n",
      "Loading intermediate data from /home/stefanv/git/pbl-cabe/effort-sharing/data/intermediate/global_co2_budgets.nc\n",
      "Computing global co2 trajectories\n",
      "Computing global nonco2 trajectories\n",
      "Loading intermediate data from /home/stefanv/git/pbl-cabe/effort-sharing/data/intermediate/global_co2_budgets.nc\n",
      "Computing global co2 trajectories\n",
      "Computed Per Capita Budget allocation for DZA\n",
      "Computing Equal Cumulative per Capita allocation for DZA\n",
      "Loading intermediate data from /home/stefanv/git/pbl-cabe/effort-sharing/data/intermediate/emissions_all.nc\n",
      "Loading intermediate data from /home/stefanv/git/pbl-cabe/effort-sharing/data/intermediate/ar6_modelscenarios.json\n",
      "Computing global nonco2 trajectories\n",
      "Loading intermediate data from /home/stefanv/git/pbl-cabe/effort-sharing/data/intermediate/global_co2_budgets.nc\n",
      "Computing global co2 trajectories\n",
      "Computed Equal Cumulative per Capita allocation for DZA\n",
      "Computing Ability to Pay allocation for DZA\n",
      "Loading intermediate data from /home/stefanv/git/pbl-cabe/effort-sharing/data/intermediate/emissions_all.nc\n",
      "Loading intermediate data from /home/stefanv/git/pbl-cabe/effort-sharing/data/intermediate/ar6_modelscenarios.json\n",
      "Computing global nonco2 trajectories\n",
      "Loading intermediate data from /home/stefanv/git/pbl-cabe/effort-sharing/data/intermediate/global_co2_budgets.nc\n",
      "Computing global co2 trajectories\n",
      "Computed Ability to Pay allocation for DZA\n",
      "Computing Greenhouse Development Rights allocation for DZA\n",
      "Loading intermediate data from /home/stefanv/git/pbl-cabe/effort-sharing/data/intermediate/xr_rci.nc\n",
      "Loading intermediate data from /home/stefanv/git/pbl-cabe/effort-sharing/data/intermediate/emissions_all.nc\n",
      "Loading intermediate data from /home/stefanv/git/pbl-cabe/effort-sharing/data/intermediate/ar6_modelscenarios.json\n",
      "Computing global nonco2 trajectories\n",
      "Loading intermediate data from /home/stefanv/git/pbl-cabe/effort-sharing/data/intermediate/global_co2_budgets.nc\n",
      "Computing global co2 trajectories\n",
      "Computed Greenhouse Development Rights allocation for DZA\n",
      "Saving allocations to /home/stefanv/git/pbl-cabe/effort-sharing/data/output/Allocations_GHG_incl/xr_alloc_DZA.nc\n",
      "100%|██████████| 3/3 [07:52<00:00, 157.42s/it]\n"
     ]
    }
   ],
   "source": [
    "from effortsharing.allocation import determine_allocations\n",
    "\n",
    "regions_iso = np.load(config.paths.output / \"all_regions.npy\", allow_pickle=True)\n",
    "for cty in tqdm(regions_iso):\n",
    "    allocations = determine_allocations(config, cty)  # lulucf=\"incl\", gas=\"GHG\" are the defaults\n",
    "    save_allocations(config, cty, allocations)"
   ]
  },
  {
   "cell_type": "markdown",
   "metadata": {},
   "source": [
    "Allocation rules combining approaches (Robiou paper)"
   ]
  },
  {
   "cell_type": "code",
   "execution_count": null,
   "metadata": {},
   "outputs": [],
   "source": [
    "from effortsharing.allocation_combinedapproaches import allocation_comb\n",
    "\n",
    "allocator = allocation_comb()\n",
    "allocator.ecpc()\n",
    "allocator.pc()\n",
    "allocator.discounting_historical_emissions()\n",
    "allocator.approach1gdp()\n",
    "allocator.approach1hdi()\n",
    "allocator.approach2()\n",
    "allocator.approach2_transition()\n",
    "allocator.combine()\n",
    "# allocator.get_relation_2030emis_temp()\n",
    "allocator.determine_tempoutcomes_discrete()\n",
    "allocator.save()"
   ]
  },
  {
   "cell_type": "markdown",
   "metadata": {},
   "source": [
    "Temperature NDC-alignment metric"
   ]
  },
  {
   "cell_type": "code",
   "execution_count": null,
   "metadata": {},
   "outputs": [
    {
     "name": "stdout",
     "output_type": "stream",
     "text": [
      "# ==================================== #\n",
      "# Initializing tempaligning class        #\n",
      "# ==================================== #\n",
      "- Determine relation between 2030-emissions and temperature outcome\n",
      "- Determine temperature metric\n"
     ]
    },
    {
     "name": "stderr",
     "output_type": "stream",
     "text": [
      "100%|██████████| 6/6 [00:11<00:00,  1.96s/it]\n"
     ]
    },
    {
     "name": "stdout",
     "output_type": "stream",
     "text": [
      "- Save\n"
     ]
    }
   ],
   "source": [
    "from effortsharing.tempalign import tempaligning\n",
    "\n",
    "tempaligner = tempaligning()  # FIRST RUN AGGREGATOR FOR THIS!! (2030 alloc)\n",
    "tempaligner.get_relation_2030emis_temp()\n",
    "tempaligner.determine_tempoutcomes()\n",
    "tempaligner.save()"
   ]
  },
  {
   "cell_type": "markdown",
   "metadata": {},
   "source": [
    "Reading policy scenarios from ENGAGE"
   ]
  },
  {
   "cell_type": "code",
   "execution_count": null,
   "metadata": {},
   "outputs": [
    {
     "name": "stdout",
     "output_type": "stream",
     "text": [
      "# ==================================== #\n",
      "# Initializing policyscenadding class  #\n",
      "# ==================================== #\n",
      "- Read ENGAGE scenarios and change region namings\n",
      "- Filter correct scenarios and convert to xarray object\n",
      "- Add to overall xrobject\n"
     ]
    }
   ],
   "source": [
    "from effortsharing.policyscens import policyscenadding\n",
    "\n",
    "policyscenner = policyscenadding()\n",
    "policyscenner.read_engage_data()\n",
    "policyscenner.filter_and_convert()\n",
    "policyscenner.add_to_xr()"
   ]
  },
  {
   "cell_type": "markdown",
   "metadata": {},
   "source": [
    "Variance decomposition"
   ]
  },
  {
   "cell_type": "code",
   "execution_count": null,
   "metadata": {},
   "outputs": [
    {
     "name": "stdout",
     "output_type": "stream",
     "text": [
      "# ==================================== #\n",
      "# Initializing vardecomposing class    #\n",
      "# ==================================== #\n",
      "- Starting sobols for fixed years, over many countries\n",
      "  Starting with 2025\n"
     ]
    },
    {
     "name": "stderr",
     "output_type": "stream",
     "text": [
      "207it [02:33,  1.35it/s]\n"
     ]
    },
    {
     "name": "stdout",
     "output_type": "stream",
     "text": [
      "  Starting with 2026\n"
     ]
    },
    {
     "name": "stderr",
     "output_type": "stream",
     "text": [
      "207it [02:33,  1.35it/s]\n"
     ]
    },
    {
     "name": "stdout",
     "output_type": "stream",
     "text": [
      "  Starting with 2027\n"
     ]
    },
    {
     "name": "stderr",
     "output_type": "stream",
     "text": [
      "207it [02:40,  1.29it/s]\n"
     ]
    },
    {
     "name": "stdout",
     "output_type": "stream",
     "text": [
      "  Starting with 2028\n"
     ]
    },
    {
     "name": "stderr",
     "output_type": "stream",
     "text": [
      "207it [03:26,  1.00it/s]\n"
     ]
    },
    {
     "name": "stdout",
     "output_type": "stream",
     "text": [
      "  Starting with 2029\n"
     ]
    },
    {
     "name": "stderr",
     "output_type": "stream",
     "text": [
      "207it [02:43,  1.27it/s]\n"
     ]
    },
    {
     "name": "stdout",
     "output_type": "stream",
     "text": [
      "  Starting with 2030\n"
     ]
    },
    {
     "name": "stderr",
     "output_type": "stream",
     "text": [
      "207it [02:35,  1.33it/s]\n"
     ]
    },
    {
     "name": "stdout",
     "output_type": "stream",
     "text": [
      "  Starting with 2031\n"
     ]
    },
    {
     "name": "stderr",
     "output_type": "stream",
     "text": [
      "207it [03:12,  1.08it/s]\n"
     ]
    },
    {
     "name": "stdout",
     "output_type": "stream",
     "text": [
      "  Starting with 2032\n"
     ]
    },
    {
     "name": "stderr",
     "output_type": "stream",
     "text": [
      "207it [02:45,  1.25it/s]\n"
     ]
    },
    {
     "name": "stdout",
     "output_type": "stream",
     "text": [
      "  Starting with 2033\n"
     ]
    },
    {
     "name": "stderr",
     "output_type": "stream",
     "text": [
      "207it [04:11,  1.21s/it]\n"
     ]
    },
    {
     "name": "stdout",
     "output_type": "stream",
     "text": [
      "  Starting with 2034\n"
     ]
    },
    {
     "name": "stderr",
     "output_type": "stream",
     "text": [
      "207it [03:07,  1.10it/s]\n"
     ]
    },
    {
     "name": "stdout",
     "output_type": "stream",
     "text": [
      "  Starting with 2035\n"
     ]
    },
    {
     "name": "stderr",
     "output_type": "stream",
     "text": [
      "207it [02:34,  1.34it/s]\n"
     ]
    },
    {
     "name": "stdout",
     "output_type": "stream",
     "text": [
      "  Starting with 2036\n"
     ]
    },
    {
     "name": "stderr",
     "output_type": "stream",
     "text": [
      "207it [02:32,  1.35it/s]\n"
     ]
    },
    {
     "name": "stdout",
     "output_type": "stream",
     "text": [
      "  Starting with 2037\n"
     ]
    },
    {
     "name": "stderr",
     "output_type": "stream",
     "text": [
      "207it [02:31,  1.37it/s]\n"
     ]
    },
    {
     "name": "stdout",
     "output_type": "stream",
     "text": [
      "  Starting with 2038\n"
     ]
    },
    {
     "name": "stderr",
     "output_type": "stream",
     "text": [
      "207it [02:33,  1.35it/s]\n"
     ]
    },
    {
     "name": "stdout",
     "output_type": "stream",
     "text": [
      "  Starting with 2039\n"
     ]
    },
    {
     "name": "stderr",
     "output_type": "stream",
     "text": [
      "207it [02:46,  1.24it/s]\n"
     ]
    },
    {
     "name": "stdout",
     "output_type": "stream",
     "text": [
      "  Starting with 2040\n"
     ]
    },
    {
     "name": "stderr",
     "output_type": "stream",
     "text": [
      "207it [02:43,  1.27it/s]\n"
     ]
    },
    {
     "name": "stdout",
     "output_type": "stream",
     "text": [
      "  Starting with 2041\n"
     ]
    },
    {
     "name": "stderr",
     "output_type": "stream",
     "text": [
      "207it [03:00,  1.15it/s]\n"
     ]
    },
    {
     "name": "stdout",
     "output_type": "stream",
     "text": [
      "  Starting with 2042\n"
     ]
    },
    {
     "name": "stderr",
     "output_type": "stream",
     "text": [
      "207it [03:47,  1.10s/it]\n"
     ]
    },
    {
     "name": "stdout",
     "output_type": "stream",
     "text": [
      "  Starting with 2043\n"
     ]
    },
    {
     "name": "stderr",
     "output_type": "stream",
     "text": [
      "207it [02:46,  1.24it/s]\n"
     ]
    },
    {
     "name": "stdout",
     "output_type": "stream",
     "text": [
      "  Starting with 2044\n"
     ]
    },
    {
     "name": "stderr",
     "output_type": "stream",
     "text": [
      "207it [02:40,  1.29it/s]\n"
     ]
    },
    {
     "name": "stdout",
     "output_type": "stream",
     "text": [
      "  Starting with 2045\n"
     ]
    },
    {
     "name": "stderr",
     "output_type": "stream",
     "text": [
      "207it [02:45,  1.25it/s]\n"
     ]
    },
    {
     "name": "stdout",
     "output_type": "stream",
     "text": [
      "  Starting with 2046\n"
     ]
    },
    {
     "name": "stderr",
     "output_type": "stream",
     "text": [
      "207it [02:53,  1.19it/s]\n"
     ]
    },
    {
     "name": "stdout",
     "output_type": "stream",
     "text": [
      "  Starting with 2047\n"
     ]
    },
    {
     "name": "stderr",
     "output_type": "stream",
     "text": [
      "207it [02:35,  1.33it/s]\n"
     ]
    },
    {
     "name": "stdout",
     "output_type": "stream",
     "text": [
      "  Starting with 2048\n"
     ]
    },
    {
     "name": "stderr",
     "output_type": "stream",
     "text": [
      "207it [02:49,  1.22it/s]\n"
     ]
    },
    {
     "name": "stdout",
     "output_type": "stream",
     "text": [
      "  Starting with 2049\n"
     ]
    },
    {
     "name": "stderr",
     "output_type": "stream",
     "text": [
      "207it [02:32,  1.35it/s]\n"
     ]
    },
    {
     "name": "stdout",
     "output_type": "stream",
     "text": [
      "  Starting with 2050\n"
     ]
    },
    {
     "name": "stderr",
     "output_type": "stream",
     "text": [
      "207it [02:27,  1.41it/s]\n"
     ]
    },
    {
     "name": "stdout",
     "output_type": "stream",
     "text": [
      "  Starting with 2051\n"
     ]
    },
    {
     "name": "stderr",
     "output_type": "stream",
     "text": [
      "207it [02:37,  1.31it/s]\n"
     ]
    },
    {
     "name": "stdout",
     "output_type": "stream",
     "text": [
      "  Starting with 2052\n"
     ]
    },
    {
     "name": "stderr",
     "output_type": "stream",
     "text": [
      "207it [02:33,  1.35it/s]\n"
     ]
    },
    {
     "name": "stdout",
     "output_type": "stream",
     "text": [
      "  Starting with 2053\n"
     ]
    },
    {
     "name": "stderr",
     "output_type": "stream",
     "text": [
      "207it [02:30,  1.38it/s]\n"
     ]
    },
    {
     "name": "stdout",
     "output_type": "stream",
     "text": [
      "  Starting with 2054\n"
     ]
    },
    {
     "name": "stderr",
     "output_type": "stream",
     "text": [
      "207it [02:36,  1.32it/s]\n"
     ]
    },
    {
     "name": "stdout",
     "output_type": "stream",
     "text": [
      "  Starting with 2055\n"
     ]
    },
    {
     "name": "stderr",
     "output_type": "stream",
     "text": [
      "207it [02:26,  1.42it/s]\n"
     ]
    },
    {
     "name": "stdout",
     "output_type": "stream",
     "text": [
      "  Starting with 2056\n"
     ]
    },
    {
     "name": "stderr",
     "output_type": "stream",
     "text": [
      "207it [04:10,  1.21s/it]\n"
     ]
    },
    {
     "name": "stdout",
     "output_type": "stream",
     "text": [
      "  Starting with 2057\n"
     ]
    },
    {
     "name": "stderr",
     "output_type": "stream",
     "text": [
      "207it [02:48,  1.23it/s]\n"
     ]
    },
    {
     "name": "stdout",
     "output_type": "stream",
     "text": [
      "  Starting with 2058\n"
     ]
    },
    {
     "name": "stderr",
     "output_type": "stream",
     "text": [
      "207it [02:27,  1.41it/s]\n"
     ]
    },
    {
     "name": "stdout",
     "output_type": "stream",
     "text": [
      "  Starting with 2059\n"
     ]
    },
    {
     "name": "stderr",
     "output_type": "stream",
     "text": [
      "207it [02:22,  1.46it/s]\n"
     ]
    },
    {
     "name": "stdout",
     "output_type": "stream",
     "text": [
      "  Starting with 2060\n"
     ]
    },
    {
     "name": "stderr",
     "output_type": "stream",
     "text": [
      "207it [02:30,  1.38it/s]\n"
     ]
    },
    {
     "name": "stdout",
     "output_type": "stream",
     "text": [
      "  Starting with 2061\n"
     ]
    },
    {
     "name": "stderr",
     "output_type": "stream",
     "text": [
      "207it [02:21,  1.46it/s]\n"
     ]
    },
    {
     "name": "stdout",
     "output_type": "stream",
     "text": [
      "  Starting with 2062\n"
     ]
    },
    {
     "name": "stderr",
     "output_type": "stream",
     "text": [
      "207it [02:29,  1.38it/s]\n"
     ]
    },
    {
     "name": "stdout",
     "output_type": "stream",
     "text": [
      "  Starting with 2063\n"
     ]
    },
    {
     "name": "stderr",
     "output_type": "stream",
     "text": [
      "207it [02:28,  1.39it/s]\n"
     ]
    },
    {
     "name": "stdout",
     "output_type": "stream",
     "text": [
      "  Starting with 2064\n"
     ]
    },
    {
     "name": "stderr",
     "output_type": "stream",
     "text": [
      "207it [02:23,  1.44it/s]\n"
     ]
    },
    {
     "name": "stdout",
     "output_type": "stream",
     "text": [
      "  Starting with 2065\n"
     ]
    },
    {
     "name": "stderr",
     "output_type": "stream",
     "text": [
      "207it [02:34,  1.34it/s]\n"
     ]
    },
    {
     "name": "stdout",
     "output_type": "stream",
     "text": [
      "  Starting with 2066\n"
     ]
    },
    {
     "name": "stderr",
     "output_type": "stream",
     "text": [
      "207it [02:24,  1.44it/s]\n"
     ]
    },
    {
     "name": "stdout",
     "output_type": "stream",
     "text": [
      "  Starting with 2067\n"
     ]
    },
    {
     "name": "stderr",
     "output_type": "stream",
     "text": [
      "207it [02:23,  1.45it/s]\n"
     ]
    },
    {
     "name": "stdout",
     "output_type": "stream",
     "text": [
      "  Starting with 2068\n"
     ]
    },
    {
     "name": "stderr",
     "output_type": "stream",
     "text": [
      "207it [02:22,  1.45it/s]\n"
     ]
    },
    {
     "name": "stdout",
     "output_type": "stream",
     "text": [
      "  Starting with 2069\n"
     ]
    },
    {
     "name": "stderr",
     "output_type": "stream",
     "text": [
      "207it [02:22,  1.46it/s]\n"
     ]
    },
    {
     "name": "stdout",
     "output_type": "stream",
     "text": [
      "  Starting with 2070\n"
     ]
    },
    {
     "name": "stderr",
     "output_type": "stream",
     "text": [
      "207it [02:26,  1.41it/s]\n"
     ]
    },
    {
     "name": "stdout",
     "output_type": "stream",
     "text": [
      "  Starting with 2071\n"
     ]
    },
    {
     "name": "stderr",
     "output_type": "stream",
     "text": [
      "207it [02:24,  1.43it/s]\n"
     ]
    },
    {
     "name": "stdout",
     "output_type": "stream",
     "text": [
      "  Starting with 2072\n"
     ]
    },
    {
     "name": "stderr",
     "output_type": "stream",
     "text": [
      "207it [02:57,  1.17it/s]\n"
     ]
    },
    {
     "name": "stdout",
     "output_type": "stream",
     "text": [
      "  Starting with 2073\n"
     ]
    },
    {
     "name": "stderr",
     "output_type": "stream",
     "text": [
      "207it [02:27,  1.41it/s]\n"
     ]
    },
    {
     "name": "stdout",
     "output_type": "stream",
     "text": [
      "  Starting with 2074\n"
     ]
    },
    {
     "name": "stderr",
     "output_type": "stream",
     "text": [
      "207it [02:26,  1.41it/s]\n"
     ]
    },
    {
     "name": "stdout",
     "output_type": "stream",
     "text": [
      "  Starting with 2075\n"
     ]
    },
    {
     "name": "stderr",
     "output_type": "stream",
     "text": [
      "207it [02:26,  1.41it/s]\n"
     ]
    },
    {
     "name": "stdout",
     "output_type": "stream",
     "text": [
      "  Starting with 2076\n"
     ]
    },
    {
     "name": "stderr",
     "output_type": "stream",
     "text": [
      "207it [02:26,  1.41it/s]\n"
     ]
    },
    {
     "name": "stdout",
     "output_type": "stream",
     "text": [
      "  Starting with 2077\n"
     ]
    },
    {
     "name": "stderr",
     "output_type": "stream",
     "text": [
      "207it [02:38,  1.30it/s]\n"
     ]
    },
    {
     "name": "stdout",
     "output_type": "stream",
     "text": [
      "  Starting with 2078\n"
     ]
    },
    {
     "name": "stderr",
     "output_type": "stream",
     "text": [
      "207it [02:25,  1.42it/s]\n"
     ]
    },
    {
     "name": "stdout",
     "output_type": "stream",
     "text": [
      "  Starting with 2079\n"
     ]
    },
    {
     "name": "stderr",
     "output_type": "stream",
     "text": [
      "207it [02:26,  1.42it/s]\n"
     ]
    },
    {
     "name": "stdout",
     "output_type": "stream",
     "text": [
      "  Starting with 2080\n"
     ]
    },
    {
     "name": "stderr",
     "output_type": "stream",
     "text": [
      "207it [02:24,  1.43it/s]\n"
     ]
    },
    {
     "name": "stdout",
     "output_type": "stream",
     "text": [
      "  Starting with 2081\n"
     ]
    },
    {
     "name": "stderr",
     "output_type": "stream",
     "text": [
      "207it [02:23,  1.44it/s]\n"
     ]
    },
    {
     "name": "stdout",
     "output_type": "stream",
     "text": [
      "  Starting with 2082\n"
     ]
    },
    {
     "name": "stderr",
     "output_type": "stream",
     "text": [
      "207it [02:23,  1.44it/s]\n"
     ]
    },
    {
     "name": "stdout",
     "output_type": "stream",
     "text": [
      "  Starting with 2083\n"
     ]
    },
    {
     "name": "stderr",
     "output_type": "stream",
     "text": [
      "207it [03:34,  1.03s/it]\n"
     ]
    },
    {
     "name": "stdout",
     "output_type": "stream",
     "text": [
      "  Starting with 2084\n"
     ]
    },
    {
     "name": "stderr",
     "output_type": "stream",
     "text": [
      "207it [02:42,  1.28it/s]\n"
     ]
    },
    {
     "name": "stdout",
     "output_type": "stream",
     "text": [
      "  Starting with 2085\n"
     ]
    },
    {
     "name": "stderr",
     "output_type": "stream",
     "text": [
      "207it [02:33,  1.35it/s]\n"
     ]
    },
    {
     "name": "stdout",
     "output_type": "stream",
     "text": [
      "  Starting with 2086\n"
     ]
    },
    {
     "name": "stderr",
     "output_type": "stream",
     "text": [
      "207it [02:35,  1.33it/s]\n"
     ]
    },
    {
     "name": "stdout",
     "output_type": "stream",
     "text": [
      "  Starting with 2087\n"
     ]
    },
    {
     "name": "stderr",
     "output_type": "stream",
     "text": [
      "207it [02:26,  1.41it/s]\n"
     ]
    },
    {
     "name": "stdout",
     "output_type": "stream",
     "text": [
      "  Starting with 2088\n"
     ]
    },
    {
     "name": "stderr",
     "output_type": "stream",
     "text": [
      "207it [02:36,  1.32it/s]\n"
     ]
    },
    {
     "name": "stdout",
     "output_type": "stream",
     "text": [
      "  Starting with 2089\n"
     ]
    },
    {
     "name": "stderr",
     "output_type": "stream",
     "text": [
      "207it [02:28,  1.40it/s]\n"
     ]
    },
    {
     "name": "stdout",
     "output_type": "stream",
     "text": [
      "  Starting with 2090\n"
     ]
    },
    {
     "name": "stderr",
     "output_type": "stream",
     "text": [
      "207it [02:25,  1.42it/s]\n"
     ]
    },
    {
     "name": "stdout",
     "output_type": "stream",
     "text": [
      "  Starting with 2091\n"
     ]
    },
    {
     "name": "stderr",
     "output_type": "stream",
     "text": [
      "207it [02:30,  1.37it/s]\n"
     ]
    },
    {
     "name": "stdout",
     "output_type": "stream",
     "text": [
      "  Starting with 2092\n"
     ]
    },
    {
     "name": "stderr",
     "output_type": "stream",
     "text": [
      "207it [02:33,  1.35it/s]\n"
     ]
    },
    {
     "name": "stdout",
     "output_type": "stream",
     "text": [
      "  Starting with 2093\n"
     ]
    },
    {
     "name": "stderr",
     "output_type": "stream",
     "text": [
      "207it [02:29,  1.38it/s]\n"
     ]
    },
    {
     "name": "stdout",
     "output_type": "stream",
     "text": [
      "  Starting with 2094\n"
     ]
    },
    {
     "name": "stderr",
     "output_type": "stream",
     "text": [
      "207it [02:25,  1.43it/s]\n"
     ]
    },
    {
     "name": "stdout",
     "output_type": "stream",
     "text": [
      "  Starting with 2095\n"
     ]
    },
    {
     "name": "stderr",
     "output_type": "stream",
     "text": [
      "207it [02:27,  1.41it/s]\n"
     ]
    },
    {
     "name": "stdout",
     "output_type": "stream",
     "text": [
      "  Starting with 2096\n"
     ]
    },
    {
     "name": "stderr",
     "output_type": "stream",
     "text": [
      "207it [02:27,  1.40it/s]\n"
     ]
    },
    {
     "name": "stdout",
     "output_type": "stream",
     "text": [
      "  Starting with 2097\n"
     ]
    },
    {
     "name": "stderr",
     "output_type": "stream",
     "text": [
      "207it [02:25,  1.42it/s]\n"
     ]
    },
    {
     "name": "stdout",
     "output_type": "stream",
     "text": [
      "  Starting with 2098\n"
     ]
    },
    {
     "name": "stderr",
     "output_type": "stream",
     "text": [
      "207it [02:29,  1.38it/s]\n"
     ]
    },
    {
     "name": "stdout",
     "output_type": "stream",
     "text": [
      "  Starting with 2099\n"
     ]
    },
    {
     "name": "stderr",
     "output_type": "stream",
     "text": [
      "207it [02:25,  1.42it/s]\n"
     ]
    },
    {
     "name": "stdout",
     "output_type": "stream",
     "text": [
      "  Starting with 2100\n"
     ]
    },
    {
     "name": "stderr",
     "output_type": "stream",
     "text": [
      "207it [02:24,  1.43it/s]"
     ]
    },
    {
     "name": "stdout",
     "output_type": "stream",
     "text": [
      "- Save global results\n"
     ]
    },
    {
     "name": "stderr",
     "output_type": "stream",
     "text": [
      "\n"
     ]
    }
   ],
   "source": [
    "from effortsharing.variancedecomp import vardecomposing\n",
    "\n",
    "vardecomposer = vardecomposing(startyear=2021, gas=\"GHG\", lulucf=\"incl\")\n",
    "vardecomposer.sobolindices = {}\n",
    "print(\"- Starting sobols for fixed years, over many countries\")\n",
    "timeseries = np.arange(2025, 2101, 1)\n",
    "for year in timeseries:\n",
    "    print(\"  Starting with\", year)\n",
    "    xr_cty, ar_time, array_dims, array_inputs, problem, samples = (\n",
    "        vardecomposer.prepare_global_sobol(year)\n",
    "    )\n",
    "    vardecomposer.sobolindices[year] = vardecomposer.apply_decomposition(\n",
    "        xr_cty, ar_time, array_dims, array_inputs, problem, samples\n",
    "    )\n",
    "vardecomposer.save(array_dims, timeseries)"
   ]
  },
  {
   "cell_type": "code",
   "execution_count": null,
   "metadata": {},
   "outputs": [
    {
     "name": "stdout",
     "output_type": "stream",
     "text": [
      "- Save global results\n"
     ]
    }
   ],
   "source": [
    "vardecomposer.save(array_dims, timeseries)"
   ]
  }
 ],
 "metadata": {
  "kernelspec": {
   "display_name": "effort-sharing",
   "language": "python",
   "name": "python3"
  },
  "language_info": {
   "codemirror_mode": {
    "name": "ipython",
    "version": 3
   },
   "file_extension": ".py",
   "mimetype": "text/x-python",
   "name": "python",
   "nbconvert_exporter": "python",
   "pygments_lexer": "ipython3",
   "version": "3.11.11"
  },
  "orig_nbformat": 4
 },
 "nbformat": 4,
 "nbformat_minor": 2
}
