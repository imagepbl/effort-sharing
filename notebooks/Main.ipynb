{
 "cells": [
  {
   "cell_type": "markdown",
   "metadata": {},
   "source": [
    "## Preambule"
   ]
  },
  {
   "cell_type": "code",
   "execution_count": 1,
   "metadata": {},
   "outputs": [],
   "source": [
    "import warnings\n",
    "\n",
    "import numpy as np\n",
    "from tqdm import tqdm\n",
    "\n",
    "warnings.simplefilter(action=\"ignore\", category=FutureWarning)\n",
    "\n",
    "%load_ext autoreload\n",
    "%autoreload all"
   ]
  },
  {
   "cell_type": "markdown",
   "metadata": {},
   "source": [
    "## Run classes"
   ]
  },
  {
   "cell_type": "markdown",
   "metadata": {},
   "source": [
    "Data reader class"
   ]
  },
  {
   "cell_type": "code",
   "execution_count": 47,
   "metadata": {},
   "outputs": [
    {
     "data": {
      "text/plain": [
       "['BEL', 'FRA', 'sunken']"
      ]
     },
     "execution_count": 47,
     "metadata": {},
     "output_type": "execute_result"
    }
   ],
   "source": [
    "def get_unfccc_countries(input_path):\n",
    "    \"\"\"Load country name and iso as lookup table.\"\"\"\n",
    "\n",
    "    columns = {\"Name\": \"name\", \"Country ISO Code\": \"iso\"}\n",
    "    return (\n",
    "        pd.read_excel(\n",
    "            input_path,\n",
    "            sheet_name=\"Country groups\",\n",
    "            usecols=columns.keys(),\n",
    "        )\n",
    "        .rename(columns=columns)\n",
    "        .set_index(\"name\")[\"iso\"]\n",
    "        .to_dict()\n",
    "    )\n",
    "\n",
    "additional_eu_and_earth = {\"European Union\": \"EU\", \"Earth\": \"EARTH\"}\n",
    "additional_regions_ssps = {\n",
    "    \"Aruba\": \"ABW\",\n",
    "    \"Bahamas\": \"BHS\",\n",
    "    \"C?te d'Ivoire\": \"CIV\",\n",
    "    \"Cabo Verde\": \"CPV\",\n",
    "    \"Cura?ao\": \"CUW\",\n",
    "    \"Czechia\": \"CZE\",\n",
    "    \"Democratic Republic of the Congo\": \"COD\",\n",
    "    \"French Guiana\": \"GUF\",\n",
    "    \"French Polynesia\": \"PYF\",\n",
    "    \"Gambia\": \"GMB\",\n",
    "    \"Guadeloupe\": \"GLP\",\n",
    "    \"Guam\": \"GUM\",\n",
    "    \"Hong Kong\": \"HKG\",\n",
    "    \"Iran\": \"IRN\",\n",
    "    \"Macao\": \"MAC\",\n",
    "    \"Martinique\": \"MTQ\",\n",
    "    \"Mayotte\": \"MYT\",\n",
    "    \"Moldova\": \"MDA\",\n",
    "    \"New Caledonia\": \"NCL\",\n",
    "    \"Palestine\": \"PSE\",\n",
    "    \"Puerto Rico\": \"PRI\",\n",
    "    \"R?union\": \"REU\",\n",
    "    \"Syria\": \"SYR\",\n",
    "    \"Taiwan\": \"TWN\",\n",
    "    \"Tanzania\": \"TZA\",\n",
    "    \"Turkey\": \"TUR\",\n",
    "    \"United States Virgin Islands\": \"VIR\",\n",
    "    \"United States\": \"USA\",\n",
    "    \"Venezuela\": \"VEN\",\n",
    "    \"Viet Nam\": \"VNM\",\n",
    "    \"Western Sahara\": \"ESH\",\n",
    "    \"World\": \"EARTH\",\n",
    "}\n",
    "additional_regions_hdi = {\n",
    "    \"Bahamas\": \"BHS\",\n",
    "    \"Bolivia (Plurinational State of)\": \"BOL\",\n",
    "    \"Cabo Verde\": \"CPV\",\n",
    "    \"China\": \"TWN\",\n",
    "    \"Congo (Democratic Republic of the)\": \"COD\",\n",
    "    \"Congo\": \"COG\",\n",
    "    \"Czechia\": \"CZE\",\n",
    "    \"Egypt\": \"EGY\",\n",
    "    \"Eswatini (Kingdom of)\": \"SWZ\",\n",
    "    \"Gambia\": \"GMB\",\n",
    "    \"Hong Kong, China (SAR)\": \"HKG\",\n",
    "    \"Iran (Islamic Republic of)\": \"IRN\",\n",
    "    \"Korea (Democratic People's Rep. of)\": \"PRK\",\n",
    "    \"Korea (Republic of)\": \"KOR\",\n",
    "    \"Kyrgyzstan\": \"KGZ\",\n",
    "    \"Lao People's Democratic Republic\": \"LAO\",\n",
    "    \"Micronesia (Federated States of)\": \"FSM\",\n",
    "    \"Moldova (Republic of)\": \"MDA\",\n",
    "    \"Palestine, State of\": \"PSE\",\n",
    "    \"Saint Kitts and Nevis\": \"KNA\",\n",
    "    \"Saint Lucia\": \"LCA\",\n",
    "    \"Saint Vincent and the Grenadines\": \"VCT\",\n",
    "    \"Sao Tome and Principe\": \"STP\",\n",
    "    \"Slovakia\": \"SVK\",\n",
    "    \"Tanzania (United Republic of)\": \"TZA\",\n",
    "    \"Türkiye\": \"TUR\",\n",
    "    \"United States\": \"USA\",\n",
    "    \"Venezuela (Bolivarian Republic of)\": \"VEN\",\n",
    "    \"Viet Nam\": \"VNM\",\n",
    "    \"Yemen\": \"YEM\",\n",
    "}\n",
    "\n",
    "# How to use\n",
    "filename = '../data/input/UNFCCC_Parties_Groups_noeu.xlsx'\n",
    "countries = get_unfccc_countries(filename)\n",
    "regions = {**countries, **additional_eu_and_earth}\n",
    "ssp_regions = {**countries, **additional_eu_and_earth, **additional_regions_ssps}\n",
    "hdi_countries = {**countries, **additional_regions_hdi}\n",
    "\n",
    "# Get individual countries' ISO\n",
    "countries.get('Netherlands')  # \"NLD\"\n",
    "ssp_regions.get('World')  # \"EARTH\"\n",
    "hdi_countries.get('Yemen')  # \"YEM\"\n",
    "\n",
    "# Get ISO for a list of countries\n",
    "list(map(countries.get, ['Netherlands', 'Germany']))\n",
    "# ['NLD', 'DEU']\n",
    "\n",
    "# Get ISO for a list of countries with missing data\n",
    "list(map(additional_regions_ssps.get, ['French Guiana', 'French Polynesia', 'French Fries']))\n",
    "# ['GUF', 'PYF', None]\n",
    "\n",
    "# Get ISO for a list of countries with custom default when missing (do we really need this?)\n",
    "list(map(lambda name: countries.get(name, 'oeps'), ['Ireland', 'South Africa', 'Mordor']))\n",
    "# ['IRL', 'ZAF', 'oeps']\n",
    "\n",
    "# The same thing achieved with a convenience function\n",
    "def get_iso(names, lookup_table, default='oeps'):\n",
    "    return list(map(lambda name: lookup_table.get(name, default), names))\n",
    "\n",
    "get_iso(['Belgium', 'France', 'Atlantis'], hdi_countries, default='sunken')\n",
    "# ['BEL', 'FRA', 'sunken']\n"
   ]
  },
  {
   "cell_type": "code",
   "execution_count": null,
   "metadata": {},
   "outputs": [],
   "source": [
    "filename = '../input/data/external/HDR21-22_Statistical_Annex_HDI_Table.xlsx'\n",
    "df = pd.read_excel(filename,sheet_name=\"Rawdata\")"
   ]
  },
  {
   "cell_type": "code",
   "execution_count": 9,
   "metadata": {},
   "outputs": [
    {
     "name": "stdout",
     "output_type": "stream",
     "text": [
      "# ==================================== #\n",
      "# DATAREADING class                    #\n",
      "# startyear:  2021\n",
      "# ==================================== #\n",
      "- Reading unfccc country data\n",
      "- Reading GDP and population data from SSPs\n",
      "- Reading GDP and population data from SSPs\n"
     ]
    },
    {
     "data": {
      "text/plain": [
       "[('SSP1', 'ABW', 1990),\n",
       " ('SSP1', 'ABW', 1995),\n",
       " ('SSP1', 'ABW', 2000),\n",
       " ('SSP1', 'ABW', 2005),\n",
       " ('SSP1', 'ABW', 2010),\n",
       " ('SSP1', 'ABW', 2015),\n",
       " ('SSP1', 'AGO', 1990),\n",
       " ('SSP1', 'AGO', 1995),\n",
       " ('SSP1', 'AGO', 2000),\n",
       " ('SSP1', 'AGO', 2005),\n",
       " ('SSP1', 'AGO', 2010),\n",
       " ('SSP1', 'AGO', 2015),\n",
       " ('SSP1', 'ALB', 1980),\n",
       " ('SSP1', 'ALB', 1985),\n",
       " ('SSP1', 'ALB', 1990),\n",
       " ('SSP1', 'ALB', 1995),\n",
       " ('SSP1', 'ALB', 2000),\n",
       " ('SSP1', 'ALB', 2005),\n",
       " ('SSP1', 'ALB', 2010),\n",
       " ('SSP1', 'ALB', 2015),\n",
       " ('SSP1', 'ARE', 1980),\n",
       " ('SSP1', 'ARE', 1985),\n",
       " ('SSP1', 'ARE', 1990),\n",
       " ('SSP1', 'ARE', 1995),\n",
       " ('SSP1', 'ARE', 2000),\n",
       " ('SSP1', 'ARE', 2005),\n",
       " ('SSP1', 'ARE', 2010),\n",
       " ('SSP1', 'ARE', 2015),\n",
       " ('SSP1', 'ARG', 1980),\n",
       " ('SSP1', 'ARG', 1985),\n",
       " ('SSP1', 'ARG', 1990),\n",
       " ('SSP1', 'ARG', 1995),\n",
       " ('SSP1', 'ARG', 2000),\n",
       " ('SSP1', 'ARG', 2005),\n",
       " ('SSP1', 'ARG', 2010),\n",
       " ('SSP1', 'ARG', 2015),\n",
       " ('SSP1', 'ARM', 1990),\n",
       " ('SSP1', 'ARM', 1995),\n",
       " ('SSP1', 'ARM', 2000),\n",
       " ('SSP1', 'ARM', 2005),\n",
       " ('SSP1', 'ARM', 2010),\n",
       " ('SSP1', 'ARM', 2015),\n",
       " ('SSP1', 'ATG', 1980),\n",
       " ('SSP1', 'ATG', 1985),\n",
       " ('SSP1', 'ATG', 1990),\n",
       " ('SSP1', 'ATG', 1995),\n",
       " ('SSP1', 'ATG', 2000),\n",
       " ('SSP1', 'ATG', 2005),\n",
       " ('SSP1', 'ATG', 2010),\n",
       " ('SSP1', 'ATG', 2015),\n",
       " ('SSP1', 'AUS', 1980),\n",
       " ('SSP1', 'AUS', 1985),\n",
       " ('SSP1', 'AUS', 1990),\n",
       " ('SSP1', 'AUS', 1995),\n",
       " ('SSP1', 'AUS', 2000),\n",
       " ('SSP1', 'AUS', 2005),\n",
       " ('SSP1', 'AUS', 2010),\n",
       " ('SSP1', 'AUS', 2015),\n",
       " ('SSP1', 'AUT', 1980),\n",
       " ('SSP1', 'AUT', 1985),\n",
       " ('SSP1', 'AUT', 1990),\n",
       " ('SSP1', 'AUT', 1995),\n",
       " ('SSP1', 'AUT', 2000),\n",
       " ('SSP1', 'AUT', 2005),\n",
       " ('SSP1', 'AUT', 2010),\n",
       " ('SSP1', 'AUT', 2015),\n",
       " ('SSP1', 'AZE', 1990),\n",
       " ('SSP1', 'AZE', 1995),\n",
       " ('SSP1', 'AZE', 2000),\n",
       " ('SSP1', 'AZE', 2005),\n",
       " ('SSP1', 'AZE', 2010),\n",
       " ('SSP1', 'AZE', 2015),\n",
       " ('SSP1', 'BDI', 1980),\n",
       " ('SSP1', 'BDI', 1985),\n",
       " ('SSP1', 'BDI', 1990),\n",
       " ('SSP1', 'BDI', 1995),\n",
       " ('SSP1', 'BDI', 2000),\n",
       " ('SSP1', 'BDI', 2005),\n",
       " ('SSP1', 'BDI', 2010),\n",
       " ('SSP1', 'BDI', 2015),\n",
       " ('SSP1', 'BEL', 1980),\n",
       " ('SSP1', 'BEL', 1985),\n",
       " ('SSP1', 'BEL', 1990),\n",
       " ('SSP1', 'BEL', 1995),\n",
       " ('SSP1', 'BEL', 2000),\n",
       " ('SSP1', 'BEL', 2005),\n",
       " ('SSP1', 'BEL', 2010),\n",
       " ('SSP1', 'BEL', 2015),\n",
       " ('SSP1', 'BEN', 1980),\n",
       " ('SSP1', 'BEN', 1985),\n",
       " ('SSP1', 'BEN', 1990),\n",
       " ('SSP1', 'BEN', 1995),\n",
       " ('SSP1', 'BEN', 2000),\n",
       " ('SSP1', 'BEN', 2005),\n",
       " ('SSP1', 'BEN', 2010),\n",
       " ('SSP1', 'BEN', 2015),\n",
       " ('SSP1', 'BFA', 1980),\n",
       " ('SSP1', 'BFA', 1985),\n",
       " ('SSP1', 'BFA', 1990),\n",
       " ('SSP1', 'BFA', 1995),\n",
       " ('SSP1', 'BFA', 2000),\n",
       " ('SSP1', 'BFA', 2005),\n",
       " ('SSP1', 'BFA', 2010),\n",
       " ('SSP1', 'BFA', 2015),\n",
       " ('SSP1', 'BGD', 1980),\n",
       " ('SSP1', 'BGD', 1985),\n",
       " ('SSP1', 'BGD', 1990),\n",
       " ('SSP1', 'BGD', 1995),\n",
       " ('SSP1', 'BGD', 2000),\n",
       " ('SSP1', 'BGD', 2005),\n",
       " ('SSP1', 'BGD', 2010),\n",
       " ('SSP1', 'BGD', 2015),\n",
       " ('SSP1', 'BGR', 1980),\n",
       " ('SSP1', 'BGR', 1985),\n",
       " ('SSP1', 'BGR', 1990),\n",
       " ('SSP1', 'BGR', 1995),\n",
       " ('SSP1', 'BGR', 2000),\n",
       " ('SSP1', 'BGR', 2005),\n",
       " ('SSP1', 'BGR', 2010),\n",
       " ('SSP1', 'BGR', 2015),\n",
       " ('SSP1', 'BHR', 1980),\n",
       " ('SSP1', 'BHR', 1985),\n",
       " ('SSP1', 'BHR', 1990),\n",
       " ('SSP1', 'BHR', 1995),\n",
       " ('SSP1', 'BHR', 2000),\n",
       " ('SSP1', 'BHR', 2005),\n",
       " ('SSP1', 'BHR', 2010),\n",
       " ('SSP1', 'BHR', 2015),\n",
       " ('SSP1', 'BHS', 1980),\n",
       " ('SSP1', 'BHS', 1985),\n",
       " ('SSP1', 'BHS', 1990),\n",
       " ('SSP1', 'BHS', 1995),\n",
       " ('SSP1', 'BHS', 2000),\n",
       " ('SSP1', 'BHS', 2005),\n",
       " ('SSP1', 'BHS', 2010),\n",
       " ('SSP1', 'BHS', 2015),\n",
       " ('SSP1', 'BIH', 1995),\n",
       " ('SSP1', 'BIH', 2000),\n",
       " ('SSP1', 'BIH', 2005),\n",
       " ('SSP1', 'BIH', 2010),\n",
       " ('SSP1', 'BIH', 2015),\n",
       " ('SSP1', 'BLR', 1990),\n",
       " ('SSP1', 'BLR', 1995),\n",
       " ('SSP1', 'BLR', 2000),\n",
       " ('SSP1', 'BLR', 2005),\n",
       " ('SSP1', 'BLR', 2010),\n",
       " ('SSP1', 'BLR', 2015),\n",
       " ('SSP1', 'BLZ', 1980),\n",
       " ('SSP1', 'BLZ', 1985),\n",
       " ('SSP1', 'BLZ', 1990),\n",
       " ('SSP1', 'BLZ', 1995),\n",
       " ('SSP1', 'BLZ', 2000),\n",
       " ('SSP1', 'BLZ', 2005),\n",
       " ('SSP1', 'BLZ', 2010),\n",
       " ('SSP1', 'BLZ', 2015),\n",
       " ('SSP1', 'BOL', 1980),\n",
       " ('SSP1', 'BOL', 1985),\n",
       " ('SSP1', 'BOL', 1990),\n",
       " ('SSP1', 'BOL', 1995),\n",
       " ('SSP1', 'BOL', 2000),\n",
       " ('SSP1', 'BOL', 2005),\n",
       " ('SSP1', 'BOL', 2010),\n",
       " ('SSP1', 'BOL', 2015),\n",
       " ('SSP1', 'BRA', 1980),\n",
       " ('SSP1', 'BRA', 1985),\n",
       " ('SSP1', 'BRA', 1990),\n",
       " ('SSP1', 'BRA', 1995),\n",
       " ('SSP1', 'BRA', 2000),\n",
       " ('SSP1', 'BRA', 2005),\n",
       " ('SSP1', 'BRA', 2010),\n",
       " ('SSP1', 'BRA', 2015),\n",
       " ('SSP1', 'BRB', 1980),\n",
       " ('SSP1', 'BRB', 1985),\n",
       " ('SSP1', 'BRB', 1990),\n",
       " ('SSP1', 'BRB', 1995),\n",
       " ('SSP1', 'BRB', 2000),\n",
       " ('SSP1', 'BRB', 2005),\n",
       " ('SSP1', 'BRB', 2010),\n",
       " ('SSP1', 'BRB', 2015),\n",
       " ('SSP1', 'BRN', 1985),\n",
       " ('SSP1', 'BRN', 1990),\n",
       " ('SSP1', 'BRN', 1995),\n",
       " ('SSP1', 'BRN', 2000),\n",
       " ('SSP1', 'BRN', 2005),\n",
       " ('SSP1', 'BRN', 2010),\n",
       " ('SSP1', 'BRN', 2015),\n",
       " ('SSP1', 'BTN', 1980),\n",
       " ('SSP1', 'BTN', 1985),\n",
       " ('SSP1', 'BTN', 1990),\n",
       " ('SSP1', 'BTN', 1995),\n",
       " ('SSP1', 'BTN', 2000),\n",
       " ('SSP1', 'BTN', 2005),\n",
       " ('SSP1', 'BTN', 2010),\n",
       " ('SSP1', 'BTN', 2015),\n",
       " ('SSP1', 'BWA', 1980),\n",
       " ('SSP1', 'BWA', 1985),\n",
       " ('SSP1', 'BWA', 1990),\n",
       " ('SSP1', 'BWA', 1995),\n",
       " ('SSP1', 'BWA', 2000),\n",
       " ('SSP1', 'BWA', 2005),\n",
       " ('SSP1', 'BWA', 2010),\n",
       " ('SSP1', 'BWA', 2015),\n",
       " ('SSP1', 'CAF', 1980),\n",
       " ('SSP1', 'CAF', 1985),\n",
       " ('SSP1', 'CAF', 1990),\n",
       " ('SSP1', 'CAF', 1995),\n",
       " ('SSP1', 'CAF', 2000),\n",
       " ('SSP1', 'CAF', 2005),\n",
       " ('SSP1', 'CAF', 2010),\n",
       " ('SSP1', 'CAF', 2015),\n",
       " ('SSP1', 'CAN', 1980),\n",
       " ('SSP1', 'CAN', 1985),\n",
       " ('SSP1', 'CAN', 1990),\n",
       " ('SSP1', 'CAN', 1995),\n",
       " ('SSP1', 'CAN', 2000),\n",
       " ('SSP1', 'CAN', 2005),\n",
       " ('SSP1', 'CAN', 2010),\n",
       " ('SSP1', 'CAN', 2015),\n",
       " ('SSP1', 'CHE', 1980),\n",
       " ('SSP1', 'CHE', 1985),\n",
       " ('SSP1', 'CHE', 1990),\n",
       " ('SSP1', 'CHE', 1995),\n",
       " ('SSP1', 'CHE', 2000),\n",
       " ('SSP1', 'CHE', 2005),\n",
       " ('SSP1', 'CHE', 2010),\n",
       " ('SSP1', 'CHE', 2015),\n",
       " ('SSP1', 'CHL', 1980),\n",
       " ('SSP1', 'CHL', 1985),\n",
       " ('SSP1', 'CHL', 1990),\n",
       " ('SSP1', 'CHL', 1995),\n",
       " ('SSP1', 'CHL', 2000),\n",
       " ('SSP1', 'CHL', 2005),\n",
       " ('SSP1', 'CHL', 2010),\n",
       " ('SSP1', 'CHL', 2015),\n",
       " ('SSP1', 'CHN', 1980),\n",
       " ('SSP1', 'CHN', 1985),\n",
       " ('SSP1', 'CHN', 1990),\n",
       " ('SSP1', 'CHN', 1995),\n",
       " ('SSP1', 'CHN', 2000),\n",
       " ('SSP1', 'CHN', 2005),\n",
       " ('SSP1', 'CHN', 2010),\n",
       " ('SSP1', 'CHN', 2015),\n",
       " ('SSP1', 'CIV', 1980),\n",
       " ('SSP1', 'CIV', 1985),\n",
       " ('SSP1', 'CIV', 1990),\n",
       " ('SSP1', 'CIV', 1995),\n",
       " ('SSP1', 'CIV', 2000),\n",
       " ('SSP1', 'CIV', 2005),\n",
       " ('SSP1', 'CIV', 2010),\n",
       " ('SSP1', 'CIV', 2015),\n",
       " ('SSP1', 'CMR', 1980),\n",
       " ('SSP1', 'CMR', 1985),\n",
       " ('SSP1', 'CMR', 1990),\n",
       " ('SSP1', 'CMR', 1995),\n",
       " ('SSP1', 'CMR', 2000),\n",
       " ('SSP1', 'CMR', 2005),\n",
       " ('SSP1', 'CMR', 2010),\n",
       " ('SSP1', 'CMR', 2015),\n",
       " ('SSP1', 'COD', 1990),\n",
       " ('SSP1', 'COD', 1995),\n",
       " ('SSP1', 'COD', 2000),\n",
       " ('SSP1', 'COD', 2005),\n",
       " ('SSP1', 'COD', 2010),\n",
       " ('SSP1', 'COD', 2015),\n",
       " ('SSP1', 'COG', 1980),\n",
       " ('SSP1', 'COG', 1985),\n",
       " ('SSP1', 'COG', 1990),\n",
       " ('SSP1', 'COG', 1995),\n",
       " ('SSP1', 'COG', 2000),\n",
       " ('SSP1', 'COG', 2005),\n",
       " ('SSP1', 'COG', 2010),\n",
       " ('SSP1', 'COG', 2015),\n",
       " ('SSP1', 'COL', 1980),\n",
       " ('SSP1', 'COL', 1985),\n",
       " ('SSP1', 'COL', 1990),\n",
       " ('SSP1', 'COL', 1995),\n",
       " ('SSP1', 'COL', 2000),\n",
       " ('SSP1', 'COL', 2005),\n",
       " ('SSP1', 'COL', 2010),\n",
       " ('SSP1', 'COL', 2015),\n",
       " ('SSP1', 'COM', 1980),\n",
       " ('SSP1', 'COM', 1985),\n",
       " ('SSP1', 'COM', 1990),\n",
       " ('SSP1', 'COM', 1995),\n",
       " ('SSP1', 'COM', 2000),\n",
       " ('SSP1', 'COM', 2005),\n",
       " ('SSP1', 'COM', 2010),\n",
       " ('SSP1', 'COM', 2015),\n",
       " ('SSP1', 'CPV', 1980),\n",
       " ('SSP1', 'CPV', 1985),\n",
       " ('SSP1', 'CPV', 1990),\n",
       " ('SSP1', 'CPV', 1995),\n",
       " ('SSP1', 'CPV', 2000),\n",
       " ('SSP1', 'CPV', 2005),\n",
       " ('SSP1', 'CPV', 2010),\n",
       " ('SSP1', 'CPV', 2015),\n",
       " ('SSP1', 'CRI', 1980),\n",
       " ('SSP1', 'CRI', 1985),\n",
       " ('SSP1', 'CRI', 1990),\n",
       " ('SSP1', 'CRI', 1995),\n",
       " ('SSP1', 'CRI', 2000),\n",
       " ('SSP1', 'CRI', 2005),\n",
       " ('SSP1', 'CRI', 2010),\n",
       " ('SSP1', 'CRI', 2015),\n",
       " ('SSP1', 'CUB', 1980),\n",
       " ('SSP1', 'CUB', 1985),\n",
       " ('SSP1', 'CUB', 1990),\n",
       " ('SSP1', 'CUB', 1995),\n",
       " ('SSP1', 'CUB', 2000),\n",
       " ('SSP1', 'CUB', 2005),\n",
       " ('SSP1', 'CUB', 2010),\n",
       " ('SSP1', 'CUB', 2015),\n",
       " ('SSP1', 'CYP', 1980),\n",
       " ('SSP1', 'CYP', 1985),\n",
       " ('SSP1', 'CYP', 1990),\n",
       " ('SSP1', 'CYP', 1995),\n",
       " ('SSP1', 'CYP', 2000),\n",
       " ('SSP1', 'CYP', 2005),\n",
       " ('SSP1', 'CYP', 2010),\n",
       " ('SSP1', 'CYP', 2015),\n",
       " ('SSP1', 'CZE', 1990),\n",
       " ('SSP1', 'CZE', 1995),\n",
       " ('SSP1', 'CZE', 2000),\n",
       " ('SSP1', 'CZE', 2005),\n",
       " ('SSP1', 'CZE', 2010),\n",
       " ('SSP1', 'CZE', 2015),\n",
       " ('SSP1', 'DEU', 1980),\n",
       " ('SSP1', 'DEU', 1985),\n",
       " ('SSP1', 'DEU', 1990),\n",
       " ('SSP1', 'DEU', 1995),\n",
       " ('SSP1', 'DEU', 2000),\n",
       " ('SSP1', 'DEU', 2005),\n",
       " ('SSP1', 'DEU', 2010),\n",
       " ('SSP1', 'DEU', 2015),\n",
       " ('SSP1', 'DJI', 1990),\n",
       " ('SSP1', 'DJI', 1995),\n",
       " ('SSP1', 'DJI', 2000),\n",
       " ('SSP1', 'DJI', 2005),\n",
       " ('SSP1', 'DJI', 2010),\n",
       " ('SSP1', 'DJI', 2015),\n",
       " ('SSP1', 'DNK', 1980),\n",
       " ('SSP1', 'DNK', 1985),\n",
       " ('SSP1', 'DNK', 1990),\n",
       " ('SSP1', 'DNK', 1995),\n",
       " ('SSP1', 'DNK', 2000),\n",
       " ('SSP1', 'DNK', 2005),\n",
       " ('SSP1', 'DNK', 2010),\n",
       " ('SSP1', 'DNK', 2015),\n",
       " ('SSP1', 'DOM', 1980),\n",
       " ('SSP1', 'DOM', 1985),\n",
       " ('SSP1', 'DOM', 1990),\n",
       " ('SSP1', 'DOM', 1995),\n",
       " ('SSP1', 'DOM', 2000),\n",
       " ('SSP1', 'DOM', 2005),\n",
       " ('SSP1', 'DOM', 2010),\n",
       " ('SSP1', 'DOM', 2015),\n",
       " ('SSP1', 'DZA', 1980),\n",
       " ('SSP1', 'DZA', 1985),\n",
       " ('SSP1', 'DZA', 1990),\n",
       " ('SSP1', 'DZA', 1995),\n",
       " ('SSP1', 'DZA', 2000),\n",
       " ('SSP1', 'DZA', 2005),\n",
       " ('SSP1', 'DZA', 2010),\n",
       " ('SSP1', 'DZA', 2015),\n",
       " ('SSP1', 'EARTH', 1980),\n",
       " ('SSP1', 'EARTH', 1985),\n",
       " ('SSP1', 'EARTH', 1990),\n",
       " ('SSP1', 'EARTH', 1995),\n",
       " ('SSP1', 'EARTH', 2000),\n",
       " ('SSP1', 'EARTH', 2005),\n",
       " ('SSP1', 'EARTH', 2010),\n",
       " ('SSP1', 'EARTH', 2015),\n",
       " ('SSP1', 'ECU', 1980),\n",
       " ('SSP1', 'ECU', 1985),\n",
       " ('SSP1', 'ECU', 1990),\n",
       " ('SSP1', 'ECU', 1995),\n",
       " ('SSP1', 'ECU', 2000),\n",
       " ('SSP1', 'ECU', 2005),\n",
       " ('SSP1', 'ECU', 2010),\n",
       " ('SSP1', 'ECU', 2015),\n",
       " ('SSP1', 'EGY', 1980),\n",
       " ('SSP1', 'EGY', 1985),\n",
       " ('SSP1', 'EGY', 1990),\n",
       " ('SSP1', 'EGY', 1995),\n",
       " ('SSP1', 'EGY', 2000),\n",
       " ('SSP1', 'EGY', 2005),\n",
       " ('SSP1', 'EGY', 2010),\n",
       " ('SSP1', 'EGY', 2015),\n",
       " ('SSP1', 'ERI', 1995),\n",
       " ('SSP1', 'ERI', 2000),\n",
       " ('SSP1', 'ERI', 2005),\n",
       " ('SSP1', 'ERI', 2010),\n",
       " ('SSP1', 'ERI', 2015),\n",
       " ('SSP1', 'ESP', 1980),\n",
       " ('SSP1', 'ESP', 1985),\n",
       " ('SSP1', 'ESP', 1990),\n",
       " ('SSP1', 'ESP', 1995),\n",
       " ('SSP1', 'ESP', 2000),\n",
       " ('SSP1', 'ESP', 2005),\n",
       " ('SSP1', 'ESP', 2010),\n",
       " ('SSP1', 'ESP', 2015),\n",
       " ('SSP1', 'EST', 1995),\n",
       " ('SSP1', 'EST', 2000),\n",
       " ('SSP1', 'EST', 2005),\n",
       " ('SSP1', 'EST', 2010),\n",
       " ('SSP1', 'EST', 2015),\n",
       " ('SSP1', 'ETH', 1980),\n",
       " ('SSP1', 'ETH', 1985),\n",
       " ('SSP1', 'ETH', 1990),\n",
       " ('SSP1', 'ETH', 1995),\n",
       " ('SSP1', 'ETH', 2000),\n",
       " ('SSP1', 'ETH', 2005),\n",
       " ('SSP1', 'ETH', 2010),\n",
       " ('SSP1', 'ETH', 2015),\n",
       " ('SSP1', 'FIN', 1980),\n",
       " ('SSP1', 'FIN', 1985),\n",
       " ('SSP1', 'FIN', 1990),\n",
       " ('SSP1', 'FIN', 1995),\n",
       " ('SSP1', 'FIN', 2000),\n",
       " ('SSP1', 'FIN', 2005),\n",
       " ('SSP1', 'FIN', 2010),\n",
       " ('SSP1', 'FIN', 2015),\n",
       " ('SSP1', 'FJI', 1980),\n",
       " ('SSP1', 'FJI', 1985),\n",
       " ('SSP1', 'FJI', 1990),\n",
       " ('SSP1', 'FJI', 1995),\n",
       " ('SSP1', 'FJI', 2000),\n",
       " ('SSP1', 'FJI', 2005),\n",
       " ('SSP1', 'FJI', 2010),\n",
       " ('SSP1', 'FJI', 2015),\n",
       " ('SSP1', 'FRA', 1980),\n",
       " ('SSP1', 'FRA', 1985),\n",
       " ('SSP1', 'FRA', 1990),\n",
       " ('SSP1', 'FRA', 1995),\n",
       " ('SSP1', 'FRA', 2000),\n",
       " ('SSP1', 'FRA', 2005),\n",
       " ('SSP1', 'FRA', 2010),\n",
       " ('SSP1', 'FRA', 2015),\n",
       " ('SSP1', 'FSM', 1990),\n",
       " ('SSP1', 'FSM', 1995),\n",
       " ('SSP1', 'FSM', 2000),\n",
       " ('SSP1', 'FSM', 2005),\n",
       " ('SSP1', 'FSM', 2010),\n",
       " ('SSP1', 'FSM', 2015),\n",
       " ('SSP1', 'GAB', 1980),\n",
       " ('SSP1', 'GAB', 1985),\n",
       " ('SSP1', 'GAB', 1990),\n",
       " ('SSP1', 'GAB', 1995),\n",
       " ('SSP1', 'GAB', 2000),\n",
       " ('SSP1', 'GAB', 2005),\n",
       " ('SSP1', 'GAB', 2010),\n",
       " ('SSP1', 'GAB', 2015),\n",
       " ('SSP1', 'GBR', 1980),\n",
       " ('SSP1', 'GBR', 1985),\n",
       " ('SSP1', 'GBR', 1990),\n",
       " ('SSP1', 'GBR', 1995),\n",
       " ('SSP1', 'GBR', 2000),\n",
       " ('SSP1', 'GBR', 2005),\n",
       " ('SSP1', 'GBR', 2010),\n",
       " ('SSP1', 'GBR', 2015),\n",
       " ('SSP1', 'GEO', 1990),\n",
       " ('SSP1', 'GEO', 1995),\n",
       " ('SSP1', 'GEO', 2000),\n",
       " ('SSP1', 'GEO', 2005),\n",
       " ('SSP1', 'GEO', 2010),\n",
       " ('SSP1', 'GEO', 2015),\n",
       " ('SSP1', 'GHA', 1980),\n",
       " ('SSP1', 'GHA', 1985),\n",
       " ('SSP1', 'GHA', 1990),\n",
       " ('SSP1', 'GHA', 1995),\n",
       " ('SSP1', 'GHA', 2000),\n",
       " ('SSP1', 'GHA', 2005),\n",
       " ('SSP1', 'GHA', 2010),\n",
       " ('SSP1', 'GHA', 2015),\n",
       " ('SSP1', 'GIN', 1980),\n",
       " ('SSP1', 'GIN', 1985),\n",
       " ('SSP1', 'GIN', 1990),\n",
       " ('SSP1', 'GIN', 1995),\n",
       " ('SSP1', 'GIN', 2000),\n",
       " ('SSP1', 'GIN', 2005),\n",
       " ('SSP1', 'GIN', 2010),\n",
       " ('SSP1', 'GIN', 2015),\n",
       " ('SSP1', 'GMB', 1980),\n",
       " ('SSP1', 'GMB', 1985),\n",
       " ('SSP1', 'GMB', 1990),\n",
       " ('SSP1', 'GMB', 1995),\n",
       " ('SSP1', 'GMB', 2000),\n",
       " ('SSP1', 'GMB', 2005),\n",
       " ('SSP1', 'GMB', 2010),\n",
       " ('SSP1', 'GMB', 2015),\n",
       " ('SSP1', 'GNB', 1980),\n",
       " ('SSP1', 'GNB', 1985),\n",
       " ('SSP1', 'GNB', 1990),\n",
       " ('SSP1', 'GNB', 1995),\n",
       " ('SSP1', 'GNB', 2000),\n",
       " ('SSP1', 'GNB', 2005),\n",
       " ('SSP1', 'GNB', 2010),\n",
       " ('SSP1', 'GNB', 2015),\n",
       " ('SSP1', 'GNQ', 1980),\n",
       " ('SSP1', 'GNQ', 1985),\n",
       " ('SSP1', 'GNQ', 1990),\n",
       " ('SSP1', 'GNQ', 1995),\n",
       " ('SSP1', 'GNQ', 2000),\n",
       " ('SSP1', 'GNQ', 2005),\n",
       " ('SSP1', 'GNQ', 2010),\n",
       " ('SSP1', 'GNQ', 2015),\n",
       " ('SSP1', 'GRC', 1980),\n",
       " ('SSP1', 'GRC', 1985),\n",
       " ('SSP1', 'GRC', 1990),\n",
       " ('SSP1', 'GRC', 1995),\n",
       " ('SSP1', 'GRC', 2000),\n",
       " ('SSP1', 'GRC', 2005),\n",
       " ('SSP1', 'GRC', 2010),\n",
       " ('SSP1', 'GRC', 2015),\n",
       " ('SSP1', 'GRD', 1980),\n",
       " ('SSP1', 'GRD', 1985),\n",
       " ('SSP1', 'GRD', 1990),\n",
       " ('SSP1', 'GRD', 1995),\n",
       " ('SSP1', 'GRD', 2000),\n",
       " ('SSP1', 'GRD', 2005),\n",
       " ('SSP1', 'GRD', 2010),\n",
       " ('SSP1', 'GRD', 2015),\n",
       " ('SSP1', 'GTM', 1980),\n",
       " ('SSP1', 'GTM', 1985),\n",
       " ('SSP1', 'GTM', 1990),\n",
       " ('SSP1', 'GTM', 1995),\n",
       " ('SSP1', 'GTM', 2000),\n",
       " ('SSP1', 'GTM', 2005),\n",
       " ('SSP1', 'GTM', 2010),\n",
       " ('SSP1', 'GTM', 2015),\n",
       " ('SSP1', 'GUY', 1980),\n",
       " ('SSP1', 'GUY', 1985),\n",
       " ('SSP1', 'GUY', 1990),\n",
       " ('SSP1', 'GUY', 1995),\n",
       " ('SSP1', 'GUY', 2000),\n",
       " ('SSP1', 'GUY', 2005),\n",
       " ('SSP1', 'GUY', 2010),\n",
       " ('SSP1', 'GUY', 2015),\n",
       " ('SSP1', 'HKG', 1980),\n",
       " ('SSP1', 'HKG', 1985),\n",
       " ('SSP1', 'HKG', 1990),\n",
       " ('SSP1', 'HKG', 1995),\n",
       " ('SSP1', 'HKG', 2000),\n",
       " ('SSP1', 'HKG', 2005),\n",
       " ('SSP1', 'HKG', 2010),\n",
       " ('SSP1', 'HKG', 2015),\n",
       " ('SSP1', 'HND', 1980),\n",
       " ('SSP1', 'HND', 1985),\n",
       " ('SSP1', 'HND', 1990),\n",
       " ('SSP1', 'HND', 1995),\n",
       " ('SSP1', 'HND', 2000),\n",
       " ('SSP1', 'HND', 2005),\n",
       " ('SSP1', 'HND', 2010),\n",
       " ('SSP1', 'HND', 2015),\n",
       " ('SSP1', 'HRV', 1995),\n",
       " ('SSP1', 'HRV', 2000),\n",
       " ('SSP1', 'HRV', 2005),\n",
       " ('SSP1', 'HRV', 2010),\n",
       " ('SSP1', 'HRV', 2015),\n",
       " ('SSP1', 'HTI', 1980),\n",
       " ('SSP1', 'HTI', 1985),\n",
       " ('SSP1', 'HTI', 1990),\n",
       " ('SSP1', 'HTI', 1995),\n",
       " ('SSP1', 'HTI', 2000),\n",
       " ('SSP1', 'HTI', 2005),\n",
       " ('SSP1', 'HTI', 2010),\n",
       " ('SSP1', 'HTI', 2015),\n",
       " ('SSP1', 'HUN', 1980),\n",
       " ('SSP1', 'HUN', 1985),\n",
       " ('SSP1', 'HUN', 1990),\n",
       " ('SSP1', 'HUN', 1995),\n",
       " ('SSP1', 'HUN', 2000),\n",
       " ('SSP1', 'HUN', 2005),\n",
       " ('SSP1', 'HUN', 2010),\n",
       " ('SSP1', 'HUN', 2015),\n",
       " ('SSP1', 'IDN', 1980),\n",
       " ('SSP1', 'IDN', 1985),\n",
       " ('SSP1', 'IDN', 1990),\n",
       " ('SSP1', 'IDN', 1995),\n",
       " ('SSP1', 'IDN', 2000),\n",
       " ('SSP1', 'IDN', 2005),\n",
       " ('SSP1', 'IDN', 2010),\n",
       " ('SSP1', 'IDN', 2015),\n",
       " ('SSP1', 'IND', 1980),\n",
       " ('SSP1', 'IND', 1985),\n",
       " ('SSP1', 'IND', 1990),\n",
       " ('SSP1', 'IND', 1995),\n",
       " ('SSP1', 'IND', 2000),\n",
       " ('SSP1', 'IND', 2005),\n",
       " ('SSP1', 'IND', 2010),\n",
       " ('SSP1', 'IND', 2015),\n",
       " ('SSP1', 'IRL', 1980),\n",
       " ('SSP1', 'IRL', 1985),\n",
       " ('SSP1', 'IRL', 1990),\n",
       " ('SSP1', 'IRL', 1995),\n",
       " ('SSP1', 'IRL', 2000),\n",
       " ('SSP1', 'IRL', 2005),\n",
       " ('SSP1', 'IRL', 2010),\n",
       " ('SSP1', 'IRL', 2015),\n",
       " ('SSP1', 'IRN', 1980),\n",
       " ('SSP1', 'IRN', 1985),\n",
       " ('SSP1', 'IRN', 1990),\n",
       " ('SSP1', 'IRN', 1995),\n",
       " ('SSP1', 'IRN', 2000),\n",
       " ('SSP1', 'IRN', 2005),\n",
       " ('SSP1', 'IRN', 2010),\n",
       " ('SSP1', 'IRN', 2015),\n",
       " ('SSP1', 'IRQ', 1990),\n",
       " ('SSP1', 'IRQ', 1995),\n",
       " ('SSP1', 'IRQ', 2000),\n",
       " ('SSP1', 'IRQ', 2005),\n",
       " ('SSP1', 'IRQ', 2010),\n",
       " ('SSP1', 'IRQ', 2015),\n",
       " ('SSP1', 'ISL', 1980),\n",
       " ('SSP1', 'ISL', 1985),\n",
       " ('SSP1', 'ISL', 1990),\n",
       " ('SSP1', 'ISL', 1995),\n",
       " ('SSP1', 'ISL', 2000),\n",
       " ('SSP1', 'ISL', 2005),\n",
       " ('SSP1', 'ISL', 2010),\n",
       " ('SSP1', 'ISL', 2015),\n",
       " ('SSP1', 'ISR', 1980),\n",
       " ('SSP1', 'ISR', 1985),\n",
       " ('SSP1', 'ISR', 1990),\n",
       " ('SSP1', 'ISR', 1995),\n",
       " ('SSP1', 'ISR', 2000),\n",
       " ('SSP1', 'ISR', 2005),\n",
       " ('SSP1', 'ISR', 2010),\n",
       " ('SSP1', 'ISR', 2015),\n",
       " ('SSP1', 'ITA', 1980),\n",
       " ('SSP1', 'ITA', 1985),\n",
       " ('SSP1', 'ITA', 1990),\n",
       " ('SSP1', 'ITA', 1995),\n",
       " ('SSP1', 'ITA', 2000),\n",
       " ('SSP1', 'ITA', 2005),\n",
       " ('SSP1', 'ITA', 2010),\n",
       " ('SSP1', 'ITA', 2015),\n",
       " ('SSP1', 'JAM', 1980),\n",
       " ('SSP1', 'JAM', 1985),\n",
       " ('SSP1', 'JAM', 1990),\n",
       " ('SSP1', 'JAM', 1995),\n",
       " ('SSP1', 'JAM', 2000),\n",
       " ('SSP1', 'JAM', 2005),\n",
       " ('SSP1', 'JAM', 2010),\n",
       " ('SSP1', 'JAM', 2015),\n",
       " ('SSP1', 'JOR', 1980),\n",
       " ('SSP1', 'JOR', 1985),\n",
       " ('SSP1', 'JOR', 1990),\n",
       " ('SSP1', 'JOR', 1995),\n",
       " ('SSP1', 'JOR', 2000),\n",
       " ('SSP1', 'JOR', 2005),\n",
       " ('SSP1', 'JOR', 2010),\n",
       " ('SSP1', 'JOR', 2015),\n",
       " ('SSP1', 'JPN', 1980),\n",
       " ('SSP1', 'JPN', 1985),\n",
       " ('SSP1', 'JPN', 1990),\n",
       " ('SSP1', 'JPN', 1995),\n",
       " ('SSP1', 'JPN', 2000),\n",
       " ('SSP1', 'JPN', 2005),\n",
       " ('SSP1', 'JPN', 2010),\n",
       " ('SSP1', 'JPN', 2015),\n",
       " ('SSP1', 'KAZ', 1990),\n",
       " ('SSP1', 'KAZ', 1995),\n",
       " ('SSP1', 'KAZ', 2000),\n",
       " ('SSP1', 'KAZ', 2005),\n",
       " ('SSP1', 'KAZ', 2010),\n",
       " ('SSP1', 'KAZ', 2015),\n",
       " ('SSP1', 'KEN', 1980),\n",
       " ('SSP1', 'KEN', 1985),\n",
       " ('SSP1', 'KEN', 1990),\n",
       " ('SSP1', 'KEN', 1995),\n",
       " ('SSP1', 'KEN', 2000),\n",
       " ('SSP1', 'KEN', 2005),\n",
       " ('SSP1', 'KEN', 2010),\n",
       " ('SSP1', 'KEN', 2015),\n",
       " ('SSP1', 'KGZ', 1990),\n",
       " ('SSP1', 'KGZ', 1995),\n",
       " ('SSP1', 'KGZ', 2000),\n",
       " ('SSP1', 'KGZ', 2005),\n",
       " ('SSP1', 'KGZ', 2010),\n",
       " ('SSP1', 'KGZ', 2015),\n",
       " ('SSP1', 'KHM', 1990),\n",
       " ('SSP1', 'KHM', 1995),\n",
       " ('SSP1', 'KHM', 2000),\n",
       " ('SSP1', 'KHM', 2005),\n",
       " ('SSP1', 'KHM', 2010),\n",
       " ('SSP1', 'KHM', 2015),\n",
       " ('SSP1', 'KIR', 1980),\n",
       " ('SSP1', 'KIR', 1985),\n",
       " ('SSP1', 'KIR', 1990),\n",
       " ('SSP1', 'KIR', 1995),\n",
       " ('SSP1', 'KIR', 2000),\n",
       " ('SSP1', 'KIR', 2005),\n",
       " ('SSP1', 'KIR', 2010),\n",
       " ('SSP1', 'KIR', 2015),\n",
       " ('SSP1', 'KOR', 1980),\n",
       " ('SSP1', 'KOR', 1985),\n",
       " ('SSP1', 'KOR', 1990),\n",
       " ('SSP1', 'KOR', 1995),\n",
       " ('SSP1', 'KOR', 2000),\n",
       " ('SSP1', 'KOR', 2005),\n",
       " ('SSP1', 'KOR', 2010),\n",
       " ('SSP1', 'KOR', 2015),\n",
       " ('SSP1', 'KWT', 1980),\n",
       " ('SSP1', 'KWT', 1985),\n",
       " ('SSP1', 'KWT', 1990),\n",
       " ('SSP1', 'KWT', 1995),\n",
       " ('SSP1', 'KWT', 2000),\n",
       " ('SSP1', 'KWT', 2005),\n",
       " ('SSP1', 'KWT', 2010),\n",
       " ('SSP1', 'KWT', 2015),\n",
       " ('SSP1', 'LAO', 1980),\n",
       " ('SSP1', 'LAO', 1985),\n",
       " ('SSP1', 'LAO', 1990),\n",
       " ('SSP1', 'LAO', 1995),\n",
       " ('SSP1', 'LAO', 2000),\n",
       " ('SSP1', 'LAO', 2005),\n",
       " ('SSP1', 'LAO', 2010),\n",
       " ('SSP1', 'LAO', 2015),\n",
       " ('SSP1', 'LBN', 1980),\n",
       " ('SSP1', 'LBN', 1985),\n",
       " ('SSP1', 'LBN', 1990),\n",
       " ('SSP1', 'LBN', 1995),\n",
       " ('SSP1', 'LBN', 2000),\n",
       " ('SSP1', 'LBN', 2005),\n",
       " ('SSP1', 'LBN', 2010),\n",
       " ('SSP1', 'LBN', 2015),\n",
       " ('SSP1', 'LBR', 2000),\n",
       " ('SSP1', 'LBR', 2005),\n",
       " ('SSP1', 'LBR', 2010),\n",
       " ('SSP1', 'LBR', 2015),\n",
       " ('SSP1', 'LBY', 1980),\n",
       " ('SSP1', 'LBY', 1985),\n",
       " ('SSP1', 'LBY', 1990),\n",
       " ('SSP1', 'LBY', 1995),\n",
       " ('SSP1', 'LBY', 2000),\n",
       " ('SSP1', 'LBY', 2005),\n",
       " ('SSP1', 'LBY', 2010),\n",
       " ('SSP1', 'LBY', 2015),\n",
       " ('SSP1', 'LCA', 1980),\n",
       " ('SSP1', 'LCA', 1985),\n",
       " ('SSP1', 'LCA', 1990),\n",
       " ('SSP1', 'LCA', 1995),\n",
       " ('SSP1', 'LCA', 2000),\n",
       " ('SSP1', 'LCA', 2005),\n",
       " ('SSP1', 'LCA', 2010),\n",
       " ('SSP1', 'LCA', 2015),\n",
       " ('SSP1', 'LKA', 1980),\n",
       " ('SSP1', 'LKA', 1985),\n",
       " ('SSP1', 'LKA', 1990),\n",
       " ('SSP1', 'LKA', 1995),\n",
       " ('SSP1', 'LKA', 2000),\n",
       " ('SSP1', 'LKA', 2005),\n",
       " ('SSP1', 'LKA', 2010),\n",
       " ('SSP1', 'LKA', 2015),\n",
       " ('SSP1', 'LSO', 1980),\n",
       " ('SSP1', 'LSO', 1985),\n",
       " ('SSP1', 'LSO', 1990),\n",
       " ('SSP1', 'LSO', 1995),\n",
       " ('SSP1', 'LSO', 2000),\n",
       " ('SSP1', 'LSO', 2005),\n",
       " ('SSP1', 'LSO', 2010),\n",
       " ('SSP1', 'LSO', 2015),\n",
       " ('SSP1', 'LTU', 1995),\n",
       " ('SSP1', 'LTU', 2000),\n",
       " ('SSP1', 'LTU', 2005),\n",
       " ('SSP1', 'LTU', 2010),\n",
       " ('SSP1', 'LTU', 2015),\n",
       " ('SSP1', 'LUX', 1980),\n",
       " ('SSP1', 'LUX', 1985),\n",
       " ('SSP1', 'LUX', 1990),\n",
       " ('SSP1', 'LUX', 1995),\n",
       " ('SSP1', 'LUX', 2000),\n",
       " ('SSP1', 'LUX', 2005),\n",
       " ('SSP1', 'LUX', 2010),\n",
       " ('SSP1', 'LUX', 2015),\n",
       " ('SSP1', 'LVA', 1995),\n",
       " ('SSP1', 'LVA', 2000),\n",
       " ('SSP1', 'LVA', 2005),\n",
       " ('SSP1', 'LVA', 2010),\n",
       " ('SSP1', 'LVA', 2015),\n",
       " ('SSP1', 'MAC', 1990),\n",
       " ('SSP1', 'MAC', 1995),\n",
       " ('SSP1', 'MAC', 2000),\n",
       " ('SSP1', 'MAC', 2005),\n",
       " ('SSP1', 'MAC', 2010),\n",
       " ('SSP1', 'MAC', 2015),\n",
       " ('SSP1', 'MAR', 1980),\n",
       " ('SSP1', 'MAR', 1985),\n",
       " ('SSP1', 'MAR', 1990),\n",
       " ('SSP1', 'MAR', 1995),\n",
       " ('SSP1', 'MAR', 2000),\n",
       " ('SSP1', 'MAR', 2005),\n",
       " ('SSP1', 'MAR', 2010),\n",
       " ('SSP1', 'MAR', 2015),\n",
       " ('SSP1', 'MDA', 1995),\n",
       " ('SSP1', 'MDA', 2000),\n",
       " ('SSP1', 'MDA', 2005),\n",
       " ('SSP1', 'MDA', 2010),\n",
       " ('SSP1', 'MDA', 2015),\n",
       " ('SSP1', 'MDG', 1980),\n",
       " ('SSP1', 'MDG', 1985),\n",
       " ('SSP1', 'MDG', 1990),\n",
       " ('SSP1', 'MDG', 1995),\n",
       " ('SSP1', 'MDG', 2000),\n",
       " ('SSP1', 'MDG', 2005),\n",
       " ('SSP1', 'MDG', 2010),\n",
       " ('SSP1', 'MDG', 2015),\n",
       " ('SSP1', 'MDV', 1980),\n",
       " ('SSP1', 'MDV', 1985),\n",
       " ('SSP1', 'MDV', 1990),\n",
       " ('SSP1', 'MDV', 1995),\n",
       " ('SSP1', 'MDV', 2000),\n",
       " ('SSP1', 'MDV', 2005),\n",
       " ('SSP1', 'MDV', 2010),\n",
       " ('SSP1', 'MDV', 2015),\n",
       " ('SSP1', 'MEX', 1980),\n",
       " ('SSP1', 'MEX', 1985),\n",
       " ('SSP1', 'MEX', 1990),\n",
       " ('SSP1', 'MEX', 1995),\n",
       " ('SSP1', 'MEX', 2000),\n",
       " ('SSP1', 'MEX', 2005),\n",
       " ('SSP1', 'MEX', 2010),\n",
       " ('SSP1', 'MEX', 2015),\n",
       " ('SSP1', 'MKD', 1990),\n",
       " ('SSP1', 'MKD', 1995),\n",
       " ('SSP1', 'MKD', 2000),\n",
       " ('SSP1', 'MKD', 2005),\n",
       " ('SSP1', 'MKD', 2010),\n",
       " ('SSP1', 'MKD', 2015),\n",
       " ('SSP1', 'MLI', 1980),\n",
       " ('SSP1', 'MLI', 1985),\n",
       " ('SSP1', 'MLI', 1990),\n",
       " ('SSP1', 'MLI', 1995),\n",
       " ('SSP1', 'MLI', 2000),\n",
       " ('SSP1', 'MLI', 2005),\n",
       " ('SSP1', 'MLI', 2010),\n",
       " ('SSP1', 'MLI', 2015),\n",
       " ('SSP1', 'MLT', 1980),\n",
       " ('SSP1', 'MLT', 1985),\n",
       " ('SSP1', 'MLT', 1990),\n",
       " ('SSP1', 'MLT', 1995),\n",
       " ('SSP1', 'MLT', 2000),\n",
       " ('SSP1', 'MLT', 2005),\n",
       " ('SSP1', 'MLT', 2010),\n",
       " ('SSP1', 'MLT', 2015),\n",
       " ('SSP1', 'MMR', 1990),\n",
       " ('SSP1', 'MMR', 1995),\n",
       " ('SSP1', 'MMR', 2000),\n",
       " ('SSP1', 'MMR', 2005),\n",
       " ('SSP1', 'MMR', 2010),\n",
       " ('SSP1', 'MMR', 2015),\n",
       " ('SSP1', 'MNE', 2000),\n",
       " ('SSP1', 'MNE', 2005),\n",
       " ('SSP1', 'MNE', 2010),\n",
       " ('SSP1', 'MNE', 2015),\n",
       " ('SSP1', 'MNG', 1980),\n",
       " ('SSP1', 'MNG', 1985),\n",
       " ('SSP1', 'MNG', 1990),\n",
       " ('SSP1', 'MNG', 1995),\n",
       " ('SSP1', 'MNG', 2000),\n",
       " ('SSP1', 'MNG', 2005),\n",
       " ('SSP1', 'MNG', 2010),\n",
       " ('SSP1', 'MNG', 2015),\n",
       " ('SSP1', 'MOZ', 1980),\n",
       " ('SSP1', 'MOZ', 1985),\n",
       " ('SSP1', 'MOZ', 1990),\n",
       " ('SSP1', 'MOZ', 1995),\n",
       " ('SSP1', 'MOZ', 2000),\n",
       " ('SSP1', 'MOZ', 2005),\n",
       " ('SSP1', 'MOZ', 2010),\n",
       " ('SSP1', 'MOZ', 2015),\n",
       " ('SSP1', 'MRT', 1990),\n",
       " ('SSP1', 'MRT', 1995),\n",
       " ('SSP1', 'MRT', 2000),\n",
       " ('SSP1', 'MRT', 2005),\n",
       " ('SSP1', 'MRT', 2010),\n",
       " ('SSP1', 'MRT', 2015),\n",
       " ('SSP1', 'MUS', 1980),\n",
       " ('SSP1', 'MUS', 1985),\n",
       " ('SSP1', 'MUS', 1990),\n",
       " ('SSP1', 'MUS', 1995),\n",
       " ('SSP1', 'MUS', 2000),\n",
       " ('SSP1', 'MUS', 2005),\n",
       " ('SSP1', 'MUS', 2010),\n",
       " ('SSP1', 'MUS', 2015),\n",
       " ('SSP1', 'MWI', 1980),\n",
       " ('SSP1', 'MWI', 1985),\n",
       " ('SSP1', 'MWI', 1990),\n",
       " ('SSP1', 'MWI', 1995),\n",
       " ('SSP1', 'MWI', 2000),\n",
       " ('SSP1', 'MWI', 2005),\n",
       " ('SSP1', 'MWI', 2010),\n",
       " ('SSP1', 'MWI', 2015),\n",
       " ('SSP1', 'MYS', 1980),\n",
       " ('SSP1', 'MYS', 1985),\n",
       " ('SSP1', 'MYS', 1990),\n",
       " ('SSP1', 'MYS', 1995),\n",
       " ('SSP1', 'MYS', 2000),\n",
       " ('SSP1', 'MYS', 2005),\n",
       " ('SSP1', 'MYS', 2010),\n",
       " ('SSP1', 'MYS', 2015),\n",
       " ('SSP1', 'NAM', 1990),\n",
       " ('SSP1', 'NAM', 1995),\n",
       " ('SSP1', 'NAM', 2000),\n",
       " ('SSP1', 'NAM', 2005),\n",
       " ('SSP1', 'NAM', 2010),\n",
       " ('SSP1', 'NAM', 2015),\n",
       " ('SSP1', 'NER', 1980),\n",
       " ('SSP1', 'NER', 1985),\n",
       " ('SSP1', 'NER', 1990),\n",
       " ('SSP1', 'NER', 1995),\n",
       " ('SSP1', 'NER', 2000),\n",
       " ('SSP1', 'NER', 2005),\n",
       " ('SSP1', 'NER', 2010),\n",
       " ('SSP1', 'NER', 2015),\n",
       " ('SSP1', 'NGA', 1990),\n",
       " ('SSP1', 'NGA', 1995),\n",
       " ('SSP1', 'NGA', 2000),\n",
       " ('SSP1', 'NGA', 2005),\n",
       " ('SSP1', 'NGA', 2010),\n",
       " ('SSP1', 'NGA', 2015),\n",
       " ('SSP1', 'NIC', 1990),\n",
       " ('SSP1', 'NIC', 1995),\n",
       " ('SSP1', 'NIC', 2000),\n",
       " ('SSP1', 'NIC', 2005),\n",
       " ('SSP1', 'NIC', 2010),\n",
       " ('SSP1', 'NIC', 2015),\n",
       " ('SSP1', 'NLD', 1980),\n",
       " ('SSP1', 'NLD', 1985),\n",
       " ('SSP1', 'NLD', 1990),\n",
       " ('SSP1', 'NLD', 1995),\n",
       " ('SSP1', 'NLD', 2000),\n",
       " ('SSP1', 'NLD', 2005),\n",
       " ('SSP1', 'NLD', 2010),\n",
       " ('SSP1', 'NLD', 2015),\n",
       " ('SSP1', 'NOR', 1980),\n",
       " ('SSP1', 'NOR', 1985),\n",
       " ('SSP1', 'NOR', 1990),\n",
       " ('SSP1', 'NOR', 1995),\n",
       " ('SSP1', 'NOR', 2000),\n",
       " ('SSP1', 'NOR', 2005),\n",
       " ('SSP1', 'NOR', 2010),\n",
       " ('SSP1', 'NOR', 2015),\n",
       " ('SSP1', 'NPL', 1980),\n",
       " ('SSP1', 'NPL', 1985),\n",
       " ('SSP1', 'NPL', 1990),\n",
       " ('SSP1', 'NPL', 1995),\n",
       " ('SSP1', 'NPL', 2000),\n",
       " ('SSP1', 'NPL', 2005),\n",
       " ('SSP1', 'NPL', 2010),\n",
       " ('SSP1', 'NPL', 2015),\n",
       " ('SSP1', 'NZL', 1980),\n",
       " ('SSP1', 'NZL', 1985),\n",
       " ('SSP1', 'NZL', 1990),\n",
       " ('SSP1', 'NZL', 1995),\n",
       " ('SSP1', 'NZL', 2000),\n",
       " ('SSP1', 'NZL', 2005),\n",
       " ('SSP1', 'NZL', 2010),\n",
       " ('SSP1', 'NZL', 2015),\n",
       " ('SSP1', 'OMN', 1980),\n",
       " ('SSP1', 'OMN', 1985),\n",
       " ('SSP1', 'OMN', 1990),\n",
       " ('SSP1', 'OMN', 1995),\n",
       " ('SSP1', 'OMN', 2000),\n",
       " ('SSP1', 'OMN', 2005),\n",
       " ('SSP1', 'OMN', 2010),\n",
       " ('SSP1', 'OMN', 2015),\n",
       " ('SSP1', 'PAK', 1980),\n",
       " ('SSP1', 'PAK', 1985),\n",
       " ('SSP1', 'PAK', 1990),\n",
       " ('SSP1', 'PAK', 1995),\n",
       " ('SSP1', 'PAK', 2000),\n",
       " ('SSP1', 'PAK', 2005),\n",
       " ('SSP1', 'PAK', 2010),\n",
       " ('SSP1', 'PAK', 2015),\n",
       " ('SSP1', 'PAN', 1980),\n",
       " ('SSP1', 'PAN', 1985),\n",
       " ('SSP1', 'PAN', 1990),\n",
       " ('SSP1', 'PAN', 1995),\n",
       " ('SSP1', 'PAN', 2000),\n",
       " ('SSP1', 'PAN', 2005),\n",
       " ('SSP1', 'PAN', 2010),\n",
       " ('SSP1', 'PAN', 2015),\n",
       " ('SSP1', 'PER', 1980),\n",
       " ('SSP1', 'PER', 1985),\n",
       " ('SSP1', 'PER', 1990),\n",
       " ('SSP1', 'PER', 1995),\n",
       " ('SSP1', 'PER', 2000),\n",
       " ('SSP1', 'PER', 2005),\n",
       " ('SSP1', 'PER', 2010),\n",
       " ('SSP1', 'PER', 2015),\n",
       " ('SSP1', 'PHL', 1980),\n",
       " ('SSP1', 'PHL', 1985),\n",
       " ('SSP1', 'PHL', 1990),\n",
       " ('SSP1', 'PHL', 1995),\n",
       " ('SSP1', 'PHL', 2000),\n",
       " ('SSP1', 'PHL', 2005),\n",
       " ('SSP1', 'PHL', 2010),\n",
       " ('SSP1', 'PHL', 2015),\n",
       " ...]"
      ]
     },
     "execution_count": 9,
     "metadata": {},
     "output_type": "execute_result"
    }
   ],
   "source": [
    "# Testing alternative implementation of read_ssps\n",
    "\n",
    "from effortsharing.class_datareading import datareading\n",
    "import xarray as xr\n",
    "import numpy as np\n",
    "\n",
    "datareader = datareading(\"../input.yml\")\n",
    "countries, regions = datareader.read_unfccc_countries()\n",
    "ssps_old = datareader.read_ssps(regions)\n",
    "ssps_new = datareader.read_ssps_refactor(regions)\n",
    "\n",
    "# This fails:\n",
    "# xr.testing.assert_equal(ssps_new, ssps_old)\n",
    "\n",
    "# Get the elements that are not the same. \n",
    "mismatch1 = ssps_new.GDP.where(ssps_old.GDP != ssps_new.GDP)\n",
    "\n",
    "# Looks like old version has more NaNs; this yields the same mismatch as above\n",
    "old_is_nan = np.isnan(ssps_old.GDP)\n",
    "new_is_not_nan = ~np.isnan(ssps_new.GDP)\n",
    "mismatch2 = ssps_new.GDP.where((old_is_nan) & (new_is_not_nan))\n",
    "xr.testing.assert_equal(mismatch1, mismatch2)  # passes, so these are indeed the same\n",
    "\n",
    "# Inspect which entries are missing in old but present in new version\n",
    "mismatch_coords = mismatch1.stack(coords=mismatch1.dims).dropna(\"coords\")\n",
    "np.unique(mismatch_coords.Time)  # Only historical\n",
    "np.unique(mismatch_coords.Region) # Almost all (186 / 201) regions\n",
    "np.unique(mismatch_coords.Scenario)  # All scenarios\n",
    "list(zip(*[mismatch_coords[dim].values for dim in mismatch1.dims]))\n",
    "# These entries do seem to be present in excel sheet"
   ]
  },
  {
   "cell_type": "code",
   "execution_count": 48,
   "metadata": {},
   "outputs": [
    {
     "name": "stdout",
     "output_type": "stream",
     "text": [
      "# ==================================== #\n",
      "# DATAREADING class                    #\n",
      "# startyear:  2021\n",
      "# ==================================== #\n",
      "- Reading unfccc country data\n",
      "- Reading GDP and population data from SSPs\n",
      "- Reading UN population data and gapminder, processed by OWID (for past population)\n",
      "- Read Human Development Index data\n"
     ]
    },
    {
     "name": "stderr",
     "output_type": "stream",
     "text": [
      "/home/peter/pbl/effort-sharing/src/effortsharing/class_datareading.py:393: RuntimeWarning: invalid value encountered in cast\n",
      "  \"SCG\",\n"
     ]
    },
    {
     "ename": "AttributeError",
     "evalue": "'datareading' object has no attribute 'countries_iso'",
     "output_type": "error",
     "traceback": [
      "\u001b[0;31m---------------------------------------------------------------------------\u001b[0m",
      "\u001b[0;31mAttributeError\u001b[0m                            Traceback (most recent call last)",
      "Cell \u001b[0;32mIn[48], line 7\u001b[0m\n\u001b[1;32m      5\u001b[0m ssp_gdp_population \u001b[38;5;241m=\u001b[39m datareader\u001b[38;5;241m.\u001b[39mread_ssps(regions)\n\u001b[1;32m      6\u001b[0m un_population \u001b[38;5;241m=\u001b[39m datareader\u001b[38;5;241m.\u001b[39mread_un_population(countries)\n\u001b[0;32m----> 7\u001b[0m \u001b[43mdatareader\u001b[49m\u001b[38;5;241;43m.\u001b[39;49m\u001b[43mread_hdi\u001b[49m\u001b[43m(\u001b[49m\u001b[43m)\u001b[49m\n\u001b[1;32m      8\u001b[0m \u001b[38;5;66;03m# datareader.read_historicalemis_jones()\u001b[39;00m\n\u001b[1;32m      9\u001b[0m \u001b[38;5;66;03m# datareader.read_ar6()\u001b[39;00m\n\u001b[1;32m     10\u001b[0m \u001b[38;5;66;03m# datareader.relation_budget_nonco2()\u001b[39;00m\n\u001b[0;32m   (...)\u001b[0m\n\u001b[1;32m     19\u001b[0m \u001b[38;5;66;03m# datareader.save()\u001b[39;00m\n\u001b[1;32m     20\u001b[0m \u001b[38;5;66;03m# datareader.country_specific_datareaders()\u001b[39;00m\n",
      "File \u001b[0;32m~/pbl/effort-sharing/src/effortsharing/class_datareading.py:399\u001b[0m, in \u001b[0;36mdatareading.read_hdi\u001b[0;34m(self)\u001b[0m\n\u001b[1;32m    396\u001b[0m hdi_av \u001b[38;5;241m=\u001b[39m np\u001b[38;5;241m.\u001b[39mnanmean(hdi_values_raw)\n\u001b[1;32m    398\u001b[0m \u001b[38;5;66;03m# Construct new hdi object\u001b[39;00m\n\u001b[0;32m--> 399\u001b[0m hdi_values \u001b[38;5;241m=\u001b[39m np\u001b[38;5;241m.\u001b[39mzeros(\u001b[38;5;28mlen\u001b[39m(\u001b[38;5;28;43mself\u001b[39;49m\u001b[38;5;241;43m.\u001b[39;49m\u001b[43mcountries_iso\u001b[49m)) \u001b[38;5;241m+\u001b[39m np\u001b[38;5;241m.\u001b[39mnan\n\u001b[1;32m    400\u001b[0m hdi_sh_values \u001b[38;5;241m=\u001b[39m np\u001b[38;5;241m.\u001b[39mzeros(\u001b[38;5;28mlen\u001b[39m(\u001b[38;5;28mself\u001b[39m\u001b[38;5;241m.\u001b[39mcountries_iso)) \u001b[38;5;241m+\u001b[39m np\u001b[38;5;241m.\u001b[39mnan\n\u001b[1;32m    401\u001b[0m \u001b[38;5;28;01mfor\u001b[39;00m r_i, r \u001b[38;5;129;01min\u001b[39;00m \u001b[38;5;28menumerate\u001b[39m(\u001b[38;5;28mself\u001b[39m\u001b[38;5;241m.\u001b[39mcountries_iso):\n",
      "\u001b[0;31mAttributeError\u001b[0m: 'datareading' object has no attribute 'countries_iso'"
     ]
    }
   ],
   "source": [
    "from effortsharing.class_datareading import datareading\n",
    "\n",
    "datareader = datareading(\"../input.yml\")\n",
    "countries, regions = datareader.read_unfccc_countries()\n",
    "ssp_gdp_population = datareader.read_ssps(regions)\n",
    "un_population = datareader.read_un_population(countries)\n",
    "datareader.read_hdi()\n",
    "# datareader.read_historicalemis_jones()\n",
    "# datareader.read_ar6()\n",
    "# datareader.relation_budget_nonco2()\n",
    "# datareader.determine_global_nonco2_trajectories()\n",
    "# datareader.determine_global_budgets()\n",
    "# datareader.determine_global_co2_trajectories()\n",
    "# datareader.read_baseline()\n",
    "# datareader.read_ndc()\n",
    "# datareader.read_ndc_climateresource()\n",
    "# datareader.merge_xr()\n",
    "# datareader.add_country_groups()\n",
    "# datareader.save()\n",
    "# datareader.country_specific_datareaders()"
   ]
  },
  {
   "cell_type": "code",
   "execution_count": null,
   "metadata": {},
   "outputs": [],
   "source": [
    "from effortsharing.class_allocation import allocation\n",
    "\n",
    "allocator = allocation(\"USA\", lulucf=\"incl\", gas=\"GHG\")\n",
    "allocator.gf()\n",
    "allocator.pc()\n",
    "allocator.pcc()\n",
    "allocator.pcb()\n",
    "allocator.ecpc()\n",
    "allocator.ap()\n",
    "allocator.gdr()\n",
    "allocator.save()"
   ]
  },
  {
   "cell_type": "markdown",
   "metadata": {},
   "source": [
    "Allocations specifically for Norway and Netherlands if you want to harmonize to national data"
   ]
  },
  {
   "cell_type": "code",
   "execution_count": null,
   "metadata": {},
   "outputs": [
    {
     "name": "stdout",
     "output_type": "stream",
     "text": [
      "NOR incl GHG xr_dataread.nc done\n",
      "NOR incl GHG xr_dataread_nor.nc done\n",
      "NOR incl CO2 xr_dataread.nc done\n",
      "NOR incl CO2 xr_dataread_nor.nc done\n",
      "NOR excl GHG xr_dataread.nc done\n",
      "NOR excl GHG xr_dataread_nor.nc done\n",
      "NOR excl CO2 xr_dataread.nc done\n",
      "NOR excl CO2 xr_dataread_nor.nc done\n"
     ]
    }
   ],
   "source": [
    "from effortsharing.class_allocation import allocation\n",
    "\n",
    "for lulucf in [\"incl\", \"excl\"]:\n",
    "    for gas in [\"GHG\", \"CO2\"]:\n",
    "        for dataread_file in [\n",
    "            \"xr_dataread.nc\",\n",
    "            \"xr_dataread_nor.nc\",\n",
    "        ]:  # This is only necessary if for a country a specific historical emissions profile is required beyond what is in Jones (e.g. Norway was requested)\n",
    "            allocator = allocation(\n",
    "                \"NOR\", lulucf=lulucf, gas=gas, dataread_file=dataread_file\n",
    "            )\n",
    "            allocator.gf()\n",
    "            allocator.pc()\n",
    "            allocator.pcc()\n",
    "            allocator.pcb()\n",
    "            allocator.ecpc()\n",
    "            allocator.ap()\n",
    "            allocator.gdr()\n",
    "            allocator.save()\n",
    "            print(\"NOR\", lulucf, gas, dataread_file, \"done\")"
   ]
  },
  {
   "cell_type": "markdown",
   "metadata": {},
   "source": [
    "Allocation class (run all 207 countries)"
   ]
  },
  {
   "cell_type": "code",
   "execution_count": null,
   "metadata": {},
   "outputs": [],
   "source": [
    "from effortsharing.class_allocation import allocation\n",
    "\n",
    "regions_iso = np.load(\n",
    "    \"K:/Data/Data_effortsharing/DataUpdate_ongoing/all_regions.npy\", allow_pickle=True\n",
    ")\n",
    "for cty in tqdm(regions_iso):\n",
    "    allocator = allocation(cty, lulucf=\"incl\", gas=\"GHG\")\n",
    "    allocator.gf()\n",
    "    allocator.pc()\n",
    "    allocator.pcc()\n",
    "    allocator.pcb()\n",
    "    allocator.ecpc()\n",
    "    allocator.ap()\n",
    "    allocator.gdr()\n",
    "    allocator.save()"
   ]
  },
  {
   "cell_type": "markdown",
   "metadata": {},
   "source": [
    "Allocation rules combining approaches (Robiou paper)"
   ]
  },
  {
   "cell_type": "code",
   "execution_count": null,
   "metadata": {},
   "outputs": [],
   "source": [
    "from effortsharing.class_allocation_combinedapproaches import allocation_comb\n",
    "\n",
    "allocator = allocation_comb()\n",
    "allocator.ecpc()\n",
    "allocator.pc()\n",
    "allocator.discounting_historical_emissions()\n",
    "allocator.approach1gdp()\n",
    "allocator.approach1hdi()\n",
    "allocator.approach2()\n",
    "allocator.approach2_transition()\n",
    "allocator.combine()\n",
    "# allocator.get_relation_2030emis_temp()\n",
    "allocator.determine_tempoutcomes_discrete()\n",
    "allocator.save()"
   ]
  },
  {
   "cell_type": "markdown",
   "metadata": {},
   "source": [
    "Temperature NDC-alignment metric"
   ]
  },
  {
   "cell_type": "code",
   "execution_count": null,
   "metadata": {},
   "outputs": [
    {
     "name": "stdout",
     "output_type": "stream",
     "text": [
      "# ==================================== #\n",
      "# Initializing tempaligning class        #\n",
      "# ==================================== #\n",
      "- Determine relation between 2030-emissions and temperature outcome\n",
      "- Determine temperature metric\n"
     ]
    },
    {
     "name": "stderr",
     "output_type": "stream",
     "text": [
      "100%|██████████| 6/6 [00:11<00:00,  1.96s/it]\n"
     ]
    },
    {
     "name": "stdout",
     "output_type": "stream",
     "text": [
      "- Save\n"
     ]
    }
   ],
   "source": [
    "from effortsharing.class_tempalign import tempaligning\n",
    "\n",
    "tempaligner = tempaligning()  # FIRST RUN AGGREGATOR FOR THIS!! (2030 alloc)\n",
    "tempaligner.get_relation_2030emis_temp()\n",
    "tempaligner.determine_tempoutcomes()\n",
    "tempaligner.save()"
   ]
  },
  {
   "cell_type": "markdown",
   "metadata": {},
   "source": [
    "Reading policy scenarios from ENGAGE"
   ]
  },
  {
   "cell_type": "code",
   "execution_count": null,
   "metadata": {},
   "outputs": [
    {
     "name": "stdout",
     "output_type": "stream",
     "text": [
      "# ==================================== #\n",
      "# Initializing policyscenadding class  #\n",
      "# ==================================== #\n",
      "- Read ENGAGE scenarios and change region namings\n",
      "- Filter correct scenarios and convert to xarray object\n",
      "- Add to overall xrobject\n"
     ]
    }
   ],
   "source": [
    "from effortsharing.class_policyscens import policyscenadding\n",
    "\n",
    "policyscenner = policyscenadding()\n",
    "policyscenner.read_engage_data()\n",
    "policyscenner.filter_and_convert()\n",
    "policyscenner.add_to_xr()"
   ]
  },
  {
   "cell_type": "markdown",
   "metadata": {},
   "source": [
    "Variance decomposition"
   ]
  },
  {
   "cell_type": "code",
   "execution_count": null,
   "metadata": {},
   "outputs": [
    {
     "name": "stdout",
     "output_type": "stream",
     "text": [
      "# ==================================== #\n",
      "# Initializing vardecomposing class    #\n",
      "# ==================================== #\n",
      "- Starting sobols for fixed years, over many countries\n",
      "  Starting with 2025\n"
     ]
    },
    {
     "name": "stderr",
     "output_type": "stream",
     "text": [
      "207it [03:02,  1.13it/s]\n"
     ]
    },
    {
     "name": "stdout",
     "output_type": "stream",
     "text": [
      "  Starting with 2026\n"
     ]
    },
    {
     "name": "stderr",
     "output_type": "stream",
     "text": [
      "207it [02:56,  1.17it/s]\n"
     ]
    },
    {
     "name": "stdout",
     "output_type": "stream",
     "text": [
      "  Starting with 2027\n"
     ]
    },
    {
     "name": "stderr",
     "output_type": "stream",
     "text": [
      "207it [03:09,  1.09it/s]\n"
     ]
    },
    {
     "name": "stdout",
     "output_type": "stream",
     "text": [
      "  Starting with 2028\n"
     ]
    },
    {
     "name": "stderr",
     "output_type": "stream",
     "text": [
      "207it [02:53,  1.19it/s]\n"
     ]
    },
    {
     "name": "stdout",
     "output_type": "stream",
     "text": [
      "  Starting with 2029\n"
     ]
    },
    {
     "name": "stderr",
     "output_type": "stream",
     "text": [
      "207it [02:58,  1.16it/s]\n"
     ]
    },
    {
     "name": "stdout",
     "output_type": "stream",
     "text": [
      "  Starting with 2030\n"
     ]
    },
    {
     "name": "stderr",
     "output_type": "stream",
     "text": [
      "207it [03:47,  1.10s/it]\n"
     ]
    },
    {
     "name": "stdout",
     "output_type": "stream",
     "text": [
      "  Starting with 2031\n"
     ]
    },
    {
     "name": "stderr",
     "output_type": "stream",
     "text": [
      "207it [03:54,  1.13s/it]\n"
     ]
    },
    {
     "name": "stdout",
     "output_type": "stream",
     "text": [
      "  Starting with 2032\n"
     ]
    },
    {
     "name": "stderr",
     "output_type": "stream",
     "text": [
      "207it [03:09,  1.09it/s]\n"
     ]
    },
    {
     "name": "stdout",
     "output_type": "stream",
     "text": [
      "  Starting with 2033\n"
     ]
    },
    {
     "name": "stderr",
     "output_type": "stream",
     "text": [
      "207it [02:35,  1.33it/s]\n"
     ]
    },
    {
     "name": "stdout",
     "output_type": "stream",
     "text": [
      "  Starting with 2034\n"
     ]
    },
    {
     "name": "stderr",
     "output_type": "stream",
     "text": [
      "207it [02:34,  1.34it/s]\n"
     ]
    },
    {
     "name": "stdout",
     "output_type": "stream",
     "text": [
      "  Starting with 2035\n"
     ]
    },
    {
     "name": "stderr",
     "output_type": "stream",
     "text": [
      "207it [02:30,  1.38it/s]\n"
     ]
    },
    {
     "name": "stdout",
     "output_type": "stream",
     "text": [
      "  Starting with 2036\n"
     ]
    },
    {
     "name": "stderr",
     "output_type": "stream",
     "text": [
      "207it [02:32,  1.36it/s]\n"
     ]
    },
    {
     "name": "stdout",
     "output_type": "stream",
     "text": [
      "  Starting with 2037\n"
     ]
    },
    {
     "name": "stderr",
     "output_type": "stream",
     "text": [
      "207it [02:30,  1.37it/s]\n"
     ]
    },
    {
     "name": "stdout",
     "output_type": "stream",
     "text": [
      "  Starting with 2038\n"
     ]
    },
    {
     "name": "stderr",
     "output_type": "stream",
     "text": [
      "207it [02:31,  1.37it/s]\n"
     ]
    },
    {
     "name": "stdout",
     "output_type": "stream",
     "text": [
      "  Starting with 2039\n"
     ]
    },
    {
     "name": "stderr",
     "output_type": "stream",
     "text": [
      "207it [02:25,  1.42it/s]\n"
     ]
    },
    {
     "name": "stdout",
     "output_type": "stream",
     "text": [
      "  Starting with 2040\n"
     ]
    },
    {
     "name": "stderr",
     "output_type": "stream",
     "text": [
      "207it [03:19,  1.04it/s]\n"
     ]
    },
    {
     "name": "stdout",
     "output_type": "stream",
     "text": [
      "  Starting with 2041\n"
     ]
    },
    {
     "name": "stderr",
     "output_type": "stream",
     "text": [
      "207it [02:29,  1.39it/s]\n"
     ]
    },
    {
     "name": "stdout",
     "output_type": "stream",
     "text": [
      "  Starting with 2042\n"
     ]
    },
    {
     "name": "stderr",
     "output_type": "stream",
     "text": [
      "207it [02:31,  1.37it/s]\n"
     ]
    },
    {
     "name": "stdout",
     "output_type": "stream",
     "text": [
      "  Starting with 2043\n"
     ]
    },
    {
     "name": "stderr",
     "output_type": "stream",
     "text": [
      "207it [02:26,  1.41it/s]\n"
     ]
    },
    {
     "name": "stdout",
     "output_type": "stream",
     "text": [
      "  Starting with 2044\n"
     ]
    },
    {
     "name": "stderr",
     "output_type": "stream",
     "text": [
      "207it [02:47,  1.24it/s]\n"
     ]
    },
    {
     "name": "stdout",
     "output_type": "stream",
     "text": [
      "  Starting with 2045\n"
     ]
    },
    {
     "name": "stderr",
     "output_type": "stream",
     "text": [
      "207it [02:25,  1.42it/s]\n"
     ]
    },
    {
     "name": "stdout",
     "output_type": "stream",
     "text": [
      "  Starting with 2046\n"
     ]
    },
    {
     "name": "stderr",
     "output_type": "stream",
     "text": [
      "207it [02:33,  1.35it/s]\n"
     ]
    },
    {
     "name": "stdout",
     "output_type": "stream",
     "text": [
      "  Starting with 2047\n"
     ]
    },
    {
     "name": "stderr",
     "output_type": "stream",
     "text": [
      "207it [02:31,  1.37it/s]\n"
     ]
    },
    {
     "name": "stdout",
     "output_type": "stream",
     "text": [
      "  Starting with 2048\n"
     ]
    },
    {
     "name": "stderr",
     "output_type": "stream",
     "text": [
      "207it [02:33,  1.34it/s]\n"
     ]
    },
    {
     "name": "stdout",
     "output_type": "stream",
     "text": [
      "  Starting with 2049\n"
     ]
    },
    {
     "name": "stderr",
     "output_type": "stream",
     "text": [
      "207it [02:25,  1.42it/s]\n"
     ]
    },
    {
     "name": "stdout",
     "output_type": "stream",
     "text": [
      "  Starting with 2050\n"
     ]
    },
    {
     "name": "stderr",
     "output_type": "stream",
     "text": [
      "207it [02:30,  1.37it/s]\n"
     ]
    },
    {
     "name": "stdout",
     "output_type": "stream",
     "text": [
      "  Starting with 2051\n"
     ]
    },
    {
     "name": "stderr",
     "output_type": "stream",
     "text": [
      "207it [02:25,  1.42it/s]\n"
     ]
    },
    {
     "name": "stdout",
     "output_type": "stream",
     "text": [
      "  Starting with 2052\n"
     ]
    },
    {
     "name": "stderr",
     "output_type": "stream",
     "text": [
      "207it [02:30,  1.37it/s]\n"
     ]
    },
    {
     "name": "stdout",
     "output_type": "stream",
     "text": [
      "  Starting with 2053\n"
     ]
    },
    {
     "name": "stderr",
     "output_type": "stream",
     "text": [
      "207it [02:23,  1.44it/s]\n"
     ]
    },
    {
     "name": "stdout",
     "output_type": "stream",
     "text": [
      "  Starting with 2054\n"
     ]
    },
    {
     "name": "stderr",
     "output_type": "stream",
     "text": [
      "207it [02:30,  1.38it/s]\n"
     ]
    },
    {
     "name": "stdout",
     "output_type": "stream",
     "text": [
      "  Starting with 2055\n"
     ]
    },
    {
     "name": "stderr",
     "output_type": "stream",
     "text": [
      "207it [02:24,  1.44it/s]\n"
     ]
    },
    {
     "name": "stdout",
     "output_type": "stream",
     "text": [
      "  Starting with 2056\n"
     ]
    },
    {
     "name": "stderr",
     "output_type": "stream",
     "text": [
      "207it [02:30,  1.38it/s]\n"
     ]
    },
    {
     "name": "stdout",
     "output_type": "stream",
     "text": [
      "  Starting with 2057\n"
     ]
    },
    {
     "name": "stderr",
     "output_type": "stream",
     "text": [
      "207it [02:25,  1.42it/s]\n"
     ]
    },
    {
     "name": "stdout",
     "output_type": "stream",
     "text": [
      "  Starting with 2058\n"
     ]
    },
    {
     "name": "stderr",
     "output_type": "stream",
     "text": [
      "207it [02:30,  1.37it/s]\n"
     ]
    },
    {
     "name": "stdout",
     "output_type": "stream",
     "text": [
      "  Starting with 2059\n"
     ]
    },
    {
     "name": "stderr",
     "output_type": "stream",
     "text": [
      "207it [02:24,  1.43it/s]\n"
     ]
    },
    {
     "name": "stdout",
     "output_type": "stream",
     "text": [
      "  Starting with 2060\n"
     ]
    },
    {
     "name": "stderr",
     "output_type": "stream",
     "text": [
      "207it [02:33,  1.35it/s]\n"
     ]
    },
    {
     "name": "stdout",
     "output_type": "stream",
     "text": [
      "  Starting with 2061\n"
     ]
    },
    {
     "name": "stderr",
     "output_type": "stream",
     "text": [
      "207it [02:24,  1.43it/s]\n"
     ]
    },
    {
     "name": "stdout",
     "output_type": "stream",
     "text": [
      "  Starting with 2062\n"
     ]
    },
    {
     "name": "stderr",
     "output_type": "stream",
     "text": [
      "207it [02:30,  1.38it/s]\n"
     ]
    },
    {
     "name": "stdout",
     "output_type": "stream",
     "text": [
      "  Starting with 2063\n"
     ]
    },
    {
     "name": "stderr",
     "output_type": "stream",
     "text": [
      "207it [02:24,  1.43it/s]\n"
     ]
    },
    {
     "name": "stdout",
     "output_type": "stream",
     "text": [
      "  Starting with 2064\n"
     ]
    },
    {
     "name": "stderr",
     "output_type": "stream",
     "text": [
      "207it [02:29,  1.39it/s]\n"
     ]
    },
    {
     "name": "stdout",
     "output_type": "stream",
     "text": [
      "  Starting with 2065\n"
     ]
    },
    {
     "name": "stderr",
     "output_type": "stream",
     "text": [
      "207it [02:23,  1.44it/s]\n"
     ]
    },
    {
     "name": "stdout",
     "output_type": "stream",
     "text": [
      "  Starting with 2066\n"
     ]
    },
    {
     "name": "stderr",
     "output_type": "stream",
     "text": [
      "207it [02:28,  1.39it/s]\n"
     ]
    },
    {
     "name": "stdout",
     "output_type": "stream",
     "text": [
      "  Starting with 2067\n"
     ]
    },
    {
     "name": "stderr",
     "output_type": "stream",
     "text": [
      "207it [02:23,  1.44it/s]\n"
     ]
    },
    {
     "name": "stdout",
     "output_type": "stream",
     "text": [
      "  Starting with 2068\n"
     ]
    },
    {
     "name": "stderr",
     "output_type": "stream",
     "text": [
      "207it [02:27,  1.41it/s]\n"
     ]
    },
    {
     "name": "stdout",
     "output_type": "stream",
     "text": [
      "  Starting with 2069\n"
     ]
    },
    {
     "name": "stderr",
     "output_type": "stream",
     "text": [
      "207it [02:22,  1.45it/s]\n"
     ]
    },
    {
     "name": "stdout",
     "output_type": "stream",
     "text": [
      "  Starting with 2070\n"
     ]
    },
    {
     "name": "stderr",
     "output_type": "stream",
     "text": [
      "207it [02:28,  1.39it/s]\n"
     ]
    },
    {
     "name": "stdout",
     "output_type": "stream",
     "text": [
      "  Starting with 2071\n"
     ]
    },
    {
     "name": "stderr",
     "output_type": "stream",
     "text": [
      "207it [02:27,  1.41it/s]\n"
     ]
    },
    {
     "name": "stdout",
     "output_type": "stream",
     "text": [
      "  Starting with 2072\n"
     ]
    },
    {
     "name": "stderr",
     "output_type": "stream",
     "text": [
      "207it [02:39,  1.30it/s]\n"
     ]
    },
    {
     "name": "stdout",
     "output_type": "stream",
     "text": [
      "  Starting with 2073\n"
     ]
    },
    {
     "name": "stderr",
     "output_type": "stream",
     "text": [
      "207it [02:28,  1.39it/s]\n"
     ]
    },
    {
     "name": "stdout",
     "output_type": "stream",
     "text": [
      "  Starting with 2074\n"
     ]
    },
    {
     "name": "stderr",
     "output_type": "stream",
     "text": [
      "207it [02:28,  1.39it/s]\n"
     ]
    },
    {
     "name": "stdout",
     "output_type": "stream",
     "text": [
      "  Starting with 2075\n"
     ]
    },
    {
     "name": "stderr",
     "output_type": "stream",
     "text": [
      "207it [02:29,  1.39it/s]\n"
     ]
    },
    {
     "name": "stdout",
     "output_type": "stream",
     "text": [
      "  Starting with 2076\n"
     ]
    },
    {
     "name": "stderr",
     "output_type": "stream",
     "text": [
      "207it [02:29,  1.39it/s]\n"
     ]
    },
    {
     "name": "stdout",
     "output_type": "stream",
     "text": [
      "  Starting with 2077\n"
     ]
    },
    {
     "name": "stderr",
     "output_type": "stream",
     "text": [
      "207it [02:27,  1.40it/s]\n"
     ]
    },
    {
     "name": "stdout",
     "output_type": "stream",
     "text": [
      "  Starting with 2078\n"
     ]
    },
    {
     "name": "stderr",
     "output_type": "stream",
     "text": [
      "207it [02:28,  1.39it/s]\n"
     ]
    },
    {
     "name": "stdout",
     "output_type": "stream",
     "text": [
      "  Starting with 2079\n"
     ]
    },
    {
     "name": "stderr",
     "output_type": "stream",
     "text": [
      "207it [02:30,  1.38it/s]\n"
     ]
    },
    {
     "name": "stdout",
     "output_type": "stream",
     "text": [
      "  Starting with 2080\n"
     ]
    },
    {
     "name": "stderr",
     "output_type": "stream",
     "text": [
      "207it [02:28,  1.39it/s]\n"
     ]
    },
    {
     "name": "stdout",
     "output_type": "stream",
     "text": [
      "  Starting with 2081\n"
     ]
    },
    {
     "name": "stderr",
     "output_type": "stream",
     "text": [
      "207it [02:28,  1.39it/s]\n"
     ]
    },
    {
     "name": "stdout",
     "output_type": "stream",
     "text": [
      "  Starting with 2082\n"
     ]
    },
    {
     "name": "stderr",
     "output_type": "stream",
     "text": [
      "207it [02:30,  1.38it/s]\n"
     ]
    },
    {
     "name": "stdout",
     "output_type": "stream",
     "text": [
      "  Starting with 2083\n"
     ]
    },
    {
     "name": "stderr",
     "output_type": "stream",
     "text": [
      "207it [02:27,  1.40it/s]\n"
     ]
    },
    {
     "name": "stdout",
     "output_type": "stream",
     "text": [
      "  Starting with 2084\n"
     ]
    },
    {
     "name": "stderr",
     "output_type": "stream",
     "text": [
      "207it [02:33,  1.35it/s]\n"
     ]
    },
    {
     "name": "stdout",
     "output_type": "stream",
     "text": [
      "  Starting with 2085\n"
     ]
    },
    {
     "name": "stderr",
     "output_type": "stream",
     "text": [
      "207it [02:26,  1.41it/s]\n"
     ]
    },
    {
     "name": "stdout",
     "output_type": "stream",
     "text": [
      "  Starting with 2086\n"
     ]
    },
    {
     "name": "stderr",
     "output_type": "stream",
     "text": [
      "207it [02:26,  1.41it/s]\n"
     ]
    },
    {
     "name": "stdout",
     "output_type": "stream",
     "text": [
      "  Starting with 2087\n"
     ]
    },
    {
     "name": "stderr",
     "output_type": "stream",
     "text": [
      "207it [02:26,  1.41it/s]\n"
     ]
    },
    {
     "name": "stdout",
     "output_type": "stream",
     "text": [
      "  Starting with 2088\n"
     ]
    },
    {
     "name": "stderr",
     "output_type": "stream",
     "text": [
      "207it [02:25,  1.42it/s]\n"
     ]
    },
    {
     "name": "stdout",
     "output_type": "stream",
     "text": [
      "  Starting with 2089\n"
     ]
    },
    {
     "name": "stderr",
     "output_type": "stream",
     "text": [
      "207it [02:25,  1.42it/s]\n"
     ]
    },
    {
     "name": "stdout",
     "output_type": "stream",
     "text": [
      "  Starting with 2090\n"
     ]
    },
    {
     "name": "stderr",
     "output_type": "stream",
     "text": [
      "207it [02:24,  1.43it/s]\n"
     ]
    },
    {
     "name": "stdout",
     "output_type": "stream",
     "text": [
      "  Starting with 2091\n"
     ]
    },
    {
     "name": "stderr",
     "output_type": "stream",
     "text": [
      "207it [02:25,  1.42it/s]\n"
     ]
    },
    {
     "name": "stdout",
     "output_type": "stream",
     "text": [
      "  Starting with 2092\n"
     ]
    },
    {
     "name": "stderr",
     "output_type": "stream",
     "text": [
      "207it [02:24,  1.43it/s]\n"
     ]
    },
    {
     "name": "stdout",
     "output_type": "stream",
     "text": [
      "  Starting with 2093\n"
     ]
    },
    {
     "name": "stderr",
     "output_type": "stream",
     "text": [
      "207it [02:29,  1.38it/s]\n"
     ]
    },
    {
     "name": "stdout",
     "output_type": "stream",
     "text": [
      "  Starting with 2094\n"
     ]
    },
    {
     "name": "stderr",
     "output_type": "stream",
     "text": [
      "207it [02:24,  1.43it/s]\n"
     ]
    },
    {
     "name": "stdout",
     "output_type": "stream",
     "text": [
      "  Starting with 2095\n"
     ]
    },
    {
     "name": "stderr",
     "output_type": "stream",
     "text": [
      "207it [02:29,  1.39it/s]\n"
     ]
    },
    {
     "name": "stdout",
     "output_type": "stream",
     "text": [
      "  Starting with 2096\n"
     ]
    },
    {
     "name": "stderr",
     "output_type": "stream",
     "text": [
      "207it [02:28,  1.39it/s]\n"
     ]
    },
    {
     "name": "stdout",
     "output_type": "stream",
     "text": [
      "  Starting with 2097\n"
     ]
    },
    {
     "name": "stderr",
     "output_type": "stream",
     "text": [
      "207it [02:27,  1.41it/s]\n"
     ]
    },
    {
     "name": "stdout",
     "output_type": "stream",
     "text": [
      "  Starting with 2098\n"
     ]
    },
    {
     "name": "stderr",
     "output_type": "stream",
     "text": [
      "207it [02:27,  1.41it/s]\n"
     ]
    },
    {
     "name": "stdout",
     "output_type": "stream",
     "text": [
      "  Starting with 2099\n"
     ]
    },
    {
     "name": "stderr",
     "output_type": "stream",
     "text": [
      "207it [02:28,  1.39it/s]\n"
     ]
    },
    {
     "name": "stdout",
     "output_type": "stream",
     "text": [
      "  Starting with 2100\n"
     ]
    },
    {
     "name": "stderr",
     "output_type": "stream",
     "text": [
      "207it [02:27,  1.41it/s]\n"
     ]
    },
    {
     "name": "stdout",
     "output_type": "stream",
     "text": [
      "- Save global results\n"
     ]
    },
    {
     "ename": "PermissionError",
     "evalue": "[Errno 13] Permission denied: 'K:\\\\Data\\\\Data_effortsharing\\\\DataUpdate_ongoing\\\\startyear_2021\\\\xr_sobol_GHG_incl.nc'",
     "output_type": "error",
     "traceback": [
      "\u001b[1;31m---------------------------------------------------------------------------\u001b[0m",
      "\u001b[1;31mKeyError\u001b[0m                                  Traceback (most recent call last)",
      "File \u001b[1;32mk:\\Environments\\MyEnv\\Lib\\site-packages\\xarray\\backends\\file_manager.py:211\u001b[0m, in \u001b[0;36mCachingFileManager._acquire_with_cache_info\u001b[1;34m(self, needs_lock)\u001b[0m\n\u001b[0;32m    210\u001b[0m \u001b[38;5;28;01mtry\u001b[39;00m:\n\u001b[1;32m--> 211\u001b[0m     file \u001b[38;5;241m=\u001b[39m \u001b[38;5;28;43mself\u001b[39;49m\u001b[38;5;241;43m.\u001b[39;49m\u001b[43m_cache\u001b[49m\u001b[43m[\u001b[49m\u001b[38;5;28;43mself\u001b[39;49m\u001b[38;5;241;43m.\u001b[39;49m\u001b[43m_key\u001b[49m\u001b[43m]\u001b[49m\n\u001b[0;32m    212\u001b[0m \u001b[38;5;28;01mexcept\u001b[39;00m \u001b[38;5;167;01mKeyError\u001b[39;00m:\n",
      "File \u001b[1;32mk:\\Environments\\MyEnv\\Lib\\site-packages\\xarray\\backends\\lru_cache.py:56\u001b[0m, in \u001b[0;36mLRUCache.__getitem__\u001b[1;34m(self, key)\u001b[0m\n\u001b[0;32m     55\u001b[0m \u001b[38;5;28;01mwith\u001b[39;00m \u001b[38;5;28mself\u001b[39m\u001b[38;5;241m.\u001b[39m_lock:\n\u001b[1;32m---> 56\u001b[0m     value \u001b[38;5;241m=\u001b[39m \u001b[38;5;28;43mself\u001b[39;49m\u001b[38;5;241;43m.\u001b[39;49m\u001b[43m_cache\u001b[49m\u001b[43m[\u001b[49m\u001b[43mkey\u001b[49m\u001b[43m]\u001b[49m\n\u001b[0;32m     57\u001b[0m     \u001b[38;5;28mself\u001b[39m\u001b[38;5;241m.\u001b[39m_cache\u001b[38;5;241m.\u001b[39mmove_to_end(key)\n",
      "\u001b[1;31mKeyError\u001b[0m: [<class 'netCDF4._netCDF4.Dataset'>, ('K:\\\\Data\\\\Data_effortsharing\\\\DataUpdate_ongoing\\\\startyear_2021\\\\xr_sobol_GHG_incl.nc',), 'a', (('clobber', True), ('diskless', False), ('format', 'NETCDF4'), ('persist', False)), '9ffb4c84-8e6b-49c1-96e5-9a04c753323f']",
      "\nDuring handling of the above exception, another exception occurred:\n",
      "\u001b[1;31mPermissionError\u001b[0m                           Traceback (most recent call last)",
      "Cell \u001b[1;32mIn[8], line 13\u001b[0m\n\u001b[0;32m     11\u001b[0m     xr_cty, ar_time, array_dims, array_inputs, problem, samples \u001b[38;5;241m=\u001b[39m vardecomposer\u001b[38;5;241m.\u001b[39mprepare_global_sobol(year)\n\u001b[0;32m     12\u001b[0m     vardecomposer\u001b[38;5;241m.\u001b[39msobolindices[year] \u001b[38;5;241m=\u001b[39m vardecomposer\u001b[38;5;241m.\u001b[39mapply_decomposition(xr_cty, ar_time, array_dims, array_inputs, problem, samples)\n\u001b[1;32m---> 13\u001b[0m \u001b[43mvardecomposer\u001b[49m\u001b[38;5;241;43m.\u001b[39;49m\u001b[43msave\u001b[49m\u001b[43m(\u001b[49m\u001b[43marray_dims\u001b[49m\u001b[43m,\u001b[49m\u001b[43m \u001b[49m\u001b[43mtimeseries\u001b[49m\u001b[43m)\u001b[49m\n",
      "File \u001b[1;32mk:\\Code\\effort-sharing\\class_variancedecomp.py:146\u001b[0m, in \u001b[0;36mvardecomposing.save\u001b[1;34m(self, dims_, times_)\u001b[0m\n\u001b[0;32m    144\u001b[0m     sobol_data[\u001b[38;5;124m'\u001b[39m\u001b[38;5;124mSobol_index\u001b[39m\u001b[38;5;124m'\u001b[39m][Time_i, :, :] \u001b[38;5;241m=\u001b[39m \u001b[38;5;28mself\u001b[39m\u001b[38;5;241m.\u001b[39msobolindices[Time]\u001b[38;5;241m.\u001b[39mT\n\u001b[0;32m    145\u001b[0m \u001b[38;5;28mself\u001b[39m\u001b[38;5;241m.\u001b[39mxr_sobol \u001b[38;5;241m=\u001b[39m xr_sobol\u001b[38;5;241m.\u001b[39mupdate(sobol_data)\n\u001b[1;32m--> 146\u001b[0m \u001b[38;5;28;43mself\u001b[39;49m\u001b[38;5;241;43m.\u001b[39;49m\u001b[43mxr_sobol\u001b[49m\u001b[38;5;241;43m.\u001b[39;49m\u001b[43mto_netcdf\u001b[49m\u001b[43m(\u001b[49m\u001b[38;5;28;43mself\u001b[39;49m\u001b[38;5;241;43m.\u001b[39;49m\u001b[43msettings\u001b[49m\u001b[43m[\u001b[49m\u001b[38;5;124;43m'\u001b[39;49m\u001b[38;5;124;43mpaths\u001b[39;49m\u001b[38;5;124;43m'\u001b[39;49m\u001b[43m]\u001b[49m\u001b[43m[\u001b[49m\u001b[38;5;124;43m'\u001b[39;49m\u001b[38;5;124;43mdata\u001b[39;49m\u001b[38;5;124;43m'\u001b[39;49m\u001b[43m]\u001b[49m\u001b[43m[\u001b[49m\u001b[38;5;124;43m'\u001b[39;49m\u001b[38;5;124;43mdatadrive\u001b[39;49m\u001b[38;5;124;43m'\u001b[39;49m\u001b[43m]\u001b[49m\u001b[38;5;241;43m+\u001b[39;49m\u001b[38;5;124;43m'\u001b[39;49m\u001b[38;5;124;43m/startyear_\u001b[39;49m\u001b[38;5;124;43m'\u001b[39;49m\u001b[38;5;241;43m+\u001b[39;49m\u001b[38;5;28;43mstr\u001b[39;49m\u001b[43m(\u001b[49m\u001b[38;5;28;43mself\u001b[39;49m\u001b[38;5;241;43m.\u001b[39;49m\u001b[43mstartyear\u001b[49m\u001b[43m)\u001b[49m\u001b[38;5;241;43m+\u001b[39;49m\u001b[38;5;124;43m'\u001b[39;49m\u001b[38;5;124;43m/xr_sobol_\u001b[39;49m\u001b[38;5;124;43m'\u001b[39;49m\u001b[38;5;241;43m+\u001b[39;49m\u001b[38;5;28;43mself\u001b[39;49m\u001b[38;5;241;43m.\u001b[39;49m\u001b[43mgas\u001b[49m\u001b[38;5;241;43m+\u001b[39;49m\u001b[38;5;124;43m'\u001b[39;49m\u001b[38;5;124;43m_\u001b[39;49m\u001b[38;5;124;43m'\u001b[39;49m\u001b[38;5;241;43m+\u001b[39;49m\u001b[38;5;28;43mself\u001b[39;49m\u001b[38;5;241;43m.\u001b[39;49m\u001b[43mlulucf\u001b[49m\u001b[38;5;241;43m+\u001b[39;49m\u001b[38;5;124;43m'\u001b[39;49m\u001b[38;5;124;43m.nc\u001b[39;49m\u001b[38;5;124;43m'\u001b[39;49m\u001b[43m,\u001b[49m\n\u001b[0;32m    147\u001b[0m \u001b[43m                                    \u001b[49m\u001b[38;5;28;43mformat\u001b[39;49m\u001b[38;5;241;43m=\u001b[39;49m\u001b[38;5;124;43m\"\u001b[39;49m\u001b[38;5;124;43mNETCDF4\u001b[39;49m\u001b[38;5;124;43m\"\u001b[39;49m\u001b[43m,\u001b[49m\n\u001b[0;32m    148\u001b[0m \u001b[43m                                    \u001b[49m\u001b[43mengine\u001b[49m\u001b[38;5;241;43m=\u001b[39;49m\u001b[38;5;124;43m\"\u001b[39;49m\u001b[38;5;124;43mnetcdf4\u001b[39;49m\u001b[38;5;124;43m\"\u001b[39;49m\u001b[43m,\u001b[49m\n\u001b[0;32m    149\u001b[0m \u001b[43m\u001b[49m\u001b[43m)\u001b[49m\n",
      "File \u001b[1;32mk:\\Environments\\MyEnv\\Lib\\site-packages\\xarray\\core\\dataset.py:2329\u001b[0m, in \u001b[0;36mDataset.to_netcdf\u001b[1;34m(self, path, mode, format, group, engine, encoding, unlimited_dims, compute, invalid_netcdf)\u001b[0m\n\u001b[0;32m   2326\u001b[0m     encoding \u001b[38;5;241m=\u001b[39m {}\n\u001b[0;32m   2327\u001b[0m \u001b[38;5;28;01mfrom\u001b[39;00m \u001b[38;5;21;01mxarray\u001b[39;00m\u001b[38;5;21;01m.\u001b[39;00m\u001b[38;5;21;01mbackends\u001b[39;00m\u001b[38;5;21;01m.\u001b[39;00m\u001b[38;5;21;01mapi\u001b[39;00m \u001b[38;5;28;01mimport\u001b[39;00m to_netcdf\n\u001b[1;32m-> 2329\u001b[0m \u001b[38;5;28;01mreturn\u001b[39;00m \u001b[43mto_netcdf\u001b[49m\u001b[43m(\u001b[49m\u001b[43m  \u001b[49m\u001b[38;5;66;43;03m# type: ignore  # mypy cannot resolve the overloads:(\u001b[39;49;00m\n\u001b[0;32m   2330\u001b[0m \u001b[43m    \u001b[49m\u001b[38;5;28;43mself\u001b[39;49m\u001b[43m,\u001b[49m\n\u001b[0;32m   2331\u001b[0m \u001b[43m    \u001b[49m\u001b[43mpath\u001b[49m\u001b[43m,\u001b[49m\n\u001b[0;32m   2332\u001b[0m \u001b[43m    \u001b[49m\u001b[43mmode\u001b[49m\u001b[38;5;241;43m=\u001b[39;49m\u001b[43mmode\u001b[49m\u001b[43m,\u001b[49m\n\u001b[0;32m   2333\u001b[0m \u001b[43m    \u001b[49m\u001b[38;5;28;43mformat\u001b[39;49m\u001b[38;5;241;43m=\u001b[39;49m\u001b[38;5;28;43mformat\u001b[39;49m\u001b[43m,\u001b[49m\n\u001b[0;32m   2334\u001b[0m \u001b[43m    \u001b[49m\u001b[43mgroup\u001b[49m\u001b[38;5;241;43m=\u001b[39;49m\u001b[43mgroup\u001b[49m\u001b[43m,\u001b[49m\n\u001b[0;32m   2335\u001b[0m \u001b[43m    \u001b[49m\u001b[43mengine\u001b[49m\u001b[38;5;241;43m=\u001b[39;49m\u001b[43mengine\u001b[49m\u001b[43m,\u001b[49m\n\u001b[0;32m   2336\u001b[0m \u001b[43m    \u001b[49m\u001b[43mencoding\u001b[49m\u001b[38;5;241;43m=\u001b[39;49m\u001b[43mencoding\u001b[49m\u001b[43m,\u001b[49m\n\u001b[0;32m   2337\u001b[0m \u001b[43m    \u001b[49m\u001b[43munlimited_dims\u001b[49m\u001b[38;5;241;43m=\u001b[39;49m\u001b[43munlimited_dims\u001b[49m\u001b[43m,\u001b[49m\n\u001b[0;32m   2338\u001b[0m \u001b[43m    \u001b[49m\u001b[43mcompute\u001b[49m\u001b[38;5;241;43m=\u001b[39;49m\u001b[43mcompute\u001b[49m\u001b[43m,\u001b[49m\n\u001b[0;32m   2339\u001b[0m \u001b[43m    \u001b[49m\u001b[43mmultifile\u001b[49m\u001b[38;5;241;43m=\u001b[39;49m\u001b[38;5;28;43;01mFalse\u001b[39;49;00m\u001b[43m,\u001b[49m\n\u001b[0;32m   2340\u001b[0m \u001b[43m    \u001b[49m\u001b[43minvalid_netcdf\u001b[49m\u001b[38;5;241;43m=\u001b[39;49m\u001b[43minvalid_netcdf\u001b[49m\u001b[43m,\u001b[49m\n\u001b[0;32m   2341\u001b[0m \u001b[43m\u001b[49m\u001b[43m)\u001b[49m\n",
      "File \u001b[1;32mk:\\Environments\\MyEnv\\Lib\\site-packages\\xarray\\backends\\api.py:1343\u001b[0m, in \u001b[0;36mto_netcdf\u001b[1;34m(dataset, path_or_file, mode, format, group, engine, encoding, unlimited_dims, compute, multifile, invalid_netcdf)\u001b[0m\n\u001b[0;32m   1339\u001b[0m     \u001b[38;5;28;01melse\u001b[39;00m:\n\u001b[0;32m   1340\u001b[0m         \u001b[38;5;28;01mraise\u001b[39;00m \u001b[38;5;167;01mValueError\u001b[39;00m(\n\u001b[0;32m   1341\u001b[0m             \u001b[38;5;124mf\u001b[39m\u001b[38;5;124m\"\u001b[39m\u001b[38;5;124munrecognized option \u001b[39m\u001b[38;5;124m'\u001b[39m\u001b[38;5;124minvalid_netcdf\u001b[39m\u001b[38;5;124m'\u001b[39m\u001b[38;5;124m for engine \u001b[39m\u001b[38;5;132;01m{\u001b[39;00mengine\u001b[38;5;132;01m}\u001b[39;00m\u001b[38;5;124m\"\u001b[39m\n\u001b[0;32m   1342\u001b[0m         )\n\u001b[1;32m-> 1343\u001b[0m store \u001b[38;5;241m=\u001b[39m \u001b[43mstore_open\u001b[49m\u001b[43m(\u001b[49m\u001b[43mtarget\u001b[49m\u001b[43m,\u001b[49m\u001b[43m \u001b[49m\u001b[43mmode\u001b[49m\u001b[43m,\u001b[49m\u001b[43m \u001b[49m\u001b[38;5;28;43mformat\u001b[39;49m\u001b[43m,\u001b[49m\u001b[43m \u001b[49m\u001b[43mgroup\u001b[49m\u001b[43m,\u001b[49m\u001b[43m \u001b[49m\u001b[38;5;241;43m*\u001b[39;49m\u001b[38;5;241;43m*\u001b[39;49m\u001b[43mkwargs\u001b[49m\u001b[43m)\u001b[49m\n\u001b[0;32m   1345\u001b[0m \u001b[38;5;28;01mif\u001b[39;00m unlimited_dims \u001b[38;5;129;01mis\u001b[39;00m \u001b[38;5;28;01mNone\u001b[39;00m:\n\u001b[0;32m   1346\u001b[0m     unlimited_dims \u001b[38;5;241m=\u001b[39m dataset\u001b[38;5;241m.\u001b[39mencoding\u001b[38;5;241m.\u001b[39mget(\u001b[38;5;124m\"\u001b[39m\u001b[38;5;124munlimited_dims\u001b[39m\u001b[38;5;124m\"\u001b[39m, \u001b[38;5;28;01mNone\u001b[39;00m)\n",
      "File \u001b[1;32mk:\\Environments\\MyEnv\\Lib\\site-packages\\xarray\\backends\\netCDF4_.py:408\u001b[0m, in \u001b[0;36mNetCDF4DataStore.open\u001b[1;34m(cls, filename, mode, format, group, clobber, diskless, persist, lock, lock_maker, autoclose)\u001b[0m\n\u001b[0;32m    402\u001b[0m kwargs \u001b[38;5;241m=\u001b[39m \u001b[38;5;28mdict\u001b[39m(\n\u001b[0;32m    403\u001b[0m     clobber\u001b[38;5;241m=\u001b[39mclobber, diskless\u001b[38;5;241m=\u001b[39mdiskless, persist\u001b[38;5;241m=\u001b[39mpersist, \u001b[38;5;28mformat\u001b[39m\u001b[38;5;241m=\u001b[39m\u001b[38;5;28mformat\u001b[39m\n\u001b[0;32m    404\u001b[0m )\n\u001b[0;32m    405\u001b[0m manager \u001b[38;5;241m=\u001b[39m CachingFileManager(\n\u001b[0;32m    406\u001b[0m     netCDF4\u001b[38;5;241m.\u001b[39mDataset, filename, mode\u001b[38;5;241m=\u001b[39mmode, kwargs\u001b[38;5;241m=\u001b[39mkwargs\n\u001b[0;32m    407\u001b[0m )\n\u001b[1;32m--> 408\u001b[0m \u001b[38;5;28;01mreturn\u001b[39;00m \u001b[38;5;28;43mcls\u001b[39;49m\u001b[43m(\u001b[49m\u001b[43mmanager\u001b[49m\u001b[43m,\u001b[49m\u001b[43m \u001b[49m\u001b[43mgroup\u001b[49m\u001b[38;5;241;43m=\u001b[39;49m\u001b[43mgroup\u001b[49m\u001b[43m,\u001b[49m\u001b[43m \u001b[49m\u001b[43mmode\u001b[49m\u001b[38;5;241;43m=\u001b[39;49m\u001b[43mmode\u001b[49m\u001b[43m,\u001b[49m\u001b[43m \u001b[49m\u001b[43mlock\u001b[49m\u001b[38;5;241;43m=\u001b[39;49m\u001b[43mlock\u001b[49m\u001b[43m,\u001b[49m\u001b[43m \u001b[49m\u001b[43mautoclose\u001b[49m\u001b[38;5;241;43m=\u001b[39;49m\u001b[43mautoclose\u001b[49m\u001b[43m)\u001b[49m\n",
      "File \u001b[1;32mk:\\Environments\\MyEnv\\Lib\\site-packages\\xarray\\backends\\netCDF4_.py:355\u001b[0m, in \u001b[0;36mNetCDF4DataStore.__init__\u001b[1;34m(self, manager, group, mode, lock, autoclose)\u001b[0m\n\u001b[0;32m    353\u001b[0m \u001b[38;5;28mself\u001b[39m\u001b[38;5;241m.\u001b[39m_group \u001b[38;5;241m=\u001b[39m group\n\u001b[0;32m    354\u001b[0m \u001b[38;5;28mself\u001b[39m\u001b[38;5;241m.\u001b[39m_mode \u001b[38;5;241m=\u001b[39m mode\n\u001b[1;32m--> 355\u001b[0m \u001b[38;5;28mself\u001b[39m\u001b[38;5;241m.\u001b[39mformat \u001b[38;5;241m=\u001b[39m \u001b[38;5;28;43mself\u001b[39;49m\u001b[38;5;241;43m.\u001b[39;49m\u001b[43mds\u001b[49m\u001b[38;5;241m.\u001b[39mdata_model\n\u001b[0;32m    356\u001b[0m \u001b[38;5;28mself\u001b[39m\u001b[38;5;241m.\u001b[39m_filename \u001b[38;5;241m=\u001b[39m \u001b[38;5;28mself\u001b[39m\u001b[38;5;241m.\u001b[39mds\u001b[38;5;241m.\u001b[39mfilepath()\n\u001b[0;32m    357\u001b[0m \u001b[38;5;28mself\u001b[39m\u001b[38;5;241m.\u001b[39mis_remote \u001b[38;5;241m=\u001b[39m is_remote_uri(\u001b[38;5;28mself\u001b[39m\u001b[38;5;241m.\u001b[39m_filename)\n",
      "File \u001b[1;32mk:\\Environments\\MyEnv\\Lib\\site-packages\\xarray\\backends\\netCDF4_.py:417\u001b[0m, in \u001b[0;36mNetCDF4DataStore.ds\u001b[1;34m(self)\u001b[0m\n\u001b[0;32m    415\u001b[0m \u001b[38;5;129m@property\u001b[39m\n\u001b[0;32m    416\u001b[0m \u001b[38;5;28;01mdef\u001b[39;00m \u001b[38;5;21mds\u001b[39m(\u001b[38;5;28mself\u001b[39m):\n\u001b[1;32m--> 417\u001b[0m     \u001b[38;5;28;01mreturn\u001b[39;00m \u001b[38;5;28;43mself\u001b[39;49m\u001b[38;5;241;43m.\u001b[39;49m\u001b[43m_acquire\u001b[49m\u001b[43m(\u001b[49m\u001b[43m)\u001b[49m\n",
      "File \u001b[1;32mk:\\Environments\\MyEnv\\Lib\\site-packages\\xarray\\backends\\netCDF4_.py:411\u001b[0m, in \u001b[0;36mNetCDF4DataStore._acquire\u001b[1;34m(self, needs_lock)\u001b[0m\n\u001b[0;32m    410\u001b[0m \u001b[38;5;28;01mdef\u001b[39;00m \u001b[38;5;21m_acquire\u001b[39m(\u001b[38;5;28mself\u001b[39m, needs_lock\u001b[38;5;241m=\u001b[39m\u001b[38;5;28;01mTrue\u001b[39;00m):\n\u001b[1;32m--> 411\u001b[0m \u001b[43m    \u001b[49m\u001b[38;5;28;43;01mwith\u001b[39;49;00m\u001b[43m \u001b[49m\u001b[38;5;28;43mself\u001b[39;49m\u001b[38;5;241;43m.\u001b[39;49m\u001b[43m_manager\u001b[49m\u001b[38;5;241;43m.\u001b[39;49m\u001b[43macquire_context\u001b[49m\u001b[43m(\u001b[49m\u001b[43mneeds_lock\u001b[49m\u001b[43m)\u001b[49m\u001b[43m \u001b[49m\u001b[38;5;28;43;01mas\u001b[39;49;00m\u001b[43m \u001b[49m\u001b[43mroot\u001b[49m\u001b[43m:\u001b[49m\n\u001b[0;32m    412\u001b[0m \u001b[43m        \u001b[49m\u001b[43mds\u001b[49m\u001b[43m \u001b[49m\u001b[38;5;241;43m=\u001b[39;49m\u001b[43m \u001b[49m\u001b[43m_nc4_require_group\u001b[49m\u001b[43m(\u001b[49m\u001b[43mroot\u001b[49m\u001b[43m,\u001b[49m\u001b[43m \u001b[49m\u001b[38;5;28;43mself\u001b[39;49m\u001b[38;5;241;43m.\u001b[39;49m\u001b[43m_group\u001b[49m\u001b[43m,\u001b[49m\u001b[43m \u001b[49m\u001b[38;5;28;43mself\u001b[39;49m\u001b[38;5;241;43m.\u001b[39;49m\u001b[43m_mode\u001b[49m\u001b[43m)\u001b[49m\n\u001b[0;32m    413\u001b[0m     \u001b[38;5;28;01mreturn\u001b[39;00m ds\n",
      "File \u001b[1;32mk:\\Environments\\MyEnv\\Lib\\contextlib.py:137\u001b[0m, in \u001b[0;36m_GeneratorContextManager.__enter__\u001b[1;34m(self)\u001b[0m\n\u001b[0;32m    135\u001b[0m \u001b[38;5;28;01mdel\u001b[39;00m \u001b[38;5;28mself\u001b[39m\u001b[38;5;241m.\u001b[39margs, \u001b[38;5;28mself\u001b[39m\u001b[38;5;241m.\u001b[39mkwds, \u001b[38;5;28mself\u001b[39m\u001b[38;5;241m.\u001b[39mfunc\n\u001b[0;32m    136\u001b[0m \u001b[38;5;28;01mtry\u001b[39;00m:\n\u001b[1;32m--> 137\u001b[0m     \u001b[38;5;28;01mreturn\u001b[39;00m \u001b[38;5;28;43mnext\u001b[39;49m\u001b[43m(\u001b[49m\u001b[38;5;28;43mself\u001b[39;49m\u001b[38;5;241;43m.\u001b[39;49m\u001b[43mgen\u001b[49m\u001b[43m)\u001b[49m\n\u001b[0;32m    138\u001b[0m \u001b[38;5;28;01mexcept\u001b[39;00m \u001b[38;5;167;01mStopIteration\u001b[39;00m:\n\u001b[0;32m    139\u001b[0m     \u001b[38;5;28;01mraise\u001b[39;00m \u001b[38;5;167;01mRuntimeError\u001b[39;00m(\u001b[38;5;124m\"\u001b[39m\u001b[38;5;124mgenerator didn\u001b[39m\u001b[38;5;124m'\u001b[39m\u001b[38;5;124mt yield\u001b[39m\u001b[38;5;124m\"\u001b[39m) \u001b[38;5;28;01mfrom\u001b[39;00m \u001b[38;5;28;01mNone\u001b[39;00m\n",
      "File \u001b[1;32mk:\\Environments\\MyEnv\\Lib\\site-packages\\xarray\\backends\\file_manager.py:199\u001b[0m, in \u001b[0;36mCachingFileManager.acquire_context\u001b[1;34m(self, needs_lock)\u001b[0m\n\u001b[0;32m    196\u001b[0m \u001b[38;5;129m@contextlib\u001b[39m\u001b[38;5;241m.\u001b[39mcontextmanager\n\u001b[0;32m    197\u001b[0m \u001b[38;5;28;01mdef\u001b[39;00m \u001b[38;5;21macquire_context\u001b[39m(\u001b[38;5;28mself\u001b[39m, needs_lock\u001b[38;5;241m=\u001b[39m\u001b[38;5;28;01mTrue\u001b[39;00m):\n\u001b[0;32m    198\u001b[0m \u001b[38;5;250m    \u001b[39m\u001b[38;5;124;03m\"\"\"Context manager for acquiring a file.\"\"\"\u001b[39;00m\n\u001b[1;32m--> 199\u001b[0m     file, cached \u001b[38;5;241m=\u001b[39m \u001b[38;5;28;43mself\u001b[39;49m\u001b[38;5;241;43m.\u001b[39;49m\u001b[43m_acquire_with_cache_info\u001b[49m\u001b[43m(\u001b[49m\u001b[43mneeds_lock\u001b[49m\u001b[43m)\u001b[49m\n\u001b[0;32m    200\u001b[0m     \u001b[38;5;28;01mtry\u001b[39;00m:\n\u001b[0;32m    201\u001b[0m         \u001b[38;5;28;01myield\u001b[39;00m file\n",
      "File \u001b[1;32mk:\\Environments\\MyEnv\\Lib\\site-packages\\xarray\\backends\\file_manager.py:217\u001b[0m, in \u001b[0;36mCachingFileManager._acquire_with_cache_info\u001b[1;34m(self, needs_lock)\u001b[0m\n\u001b[0;32m    215\u001b[0m     kwargs \u001b[38;5;241m=\u001b[39m kwargs\u001b[38;5;241m.\u001b[39mcopy()\n\u001b[0;32m    216\u001b[0m     kwargs[\u001b[38;5;124m\"\u001b[39m\u001b[38;5;124mmode\u001b[39m\u001b[38;5;124m\"\u001b[39m] \u001b[38;5;241m=\u001b[39m \u001b[38;5;28mself\u001b[39m\u001b[38;5;241m.\u001b[39m_mode\n\u001b[1;32m--> 217\u001b[0m file \u001b[38;5;241m=\u001b[39m \u001b[38;5;28;43mself\u001b[39;49m\u001b[38;5;241;43m.\u001b[39;49m\u001b[43m_opener\u001b[49m\u001b[43m(\u001b[49m\u001b[38;5;241;43m*\u001b[39;49m\u001b[38;5;28;43mself\u001b[39;49m\u001b[38;5;241;43m.\u001b[39;49m\u001b[43m_args\u001b[49m\u001b[43m,\u001b[49m\u001b[43m \u001b[49m\u001b[38;5;241;43m*\u001b[39;49m\u001b[38;5;241;43m*\u001b[39;49m\u001b[43mkwargs\u001b[49m\u001b[43m)\u001b[49m\n\u001b[0;32m    218\u001b[0m \u001b[38;5;28;01mif\u001b[39;00m \u001b[38;5;28mself\u001b[39m\u001b[38;5;241m.\u001b[39m_mode \u001b[38;5;241m==\u001b[39m \u001b[38;5;124m\"\u001b[39m\u001b[38;5;124mw\u001b[39m\u001b[38;5;124m\"\u001b[39m:\n\u001b[0;32m    219\u001b[0m     \u001b[38;5;66;03m# ensure file doesn't get overridden when opened again\u001b[39;00m\n\u001b[0;32m    220\u001b[0m     \u001b[38;5;28mself\u001b[39m\u001b[38;5;241m.\u001b[39m_mode \u001b[38;5;241m=\u001b[39m \u001b[38;5;124m\"\u001b[39m\u001b[38;5;124ma\u001b[39m\u001b[38;5;124m\"\u001b[39m\n",
      "File \u001b[1;32msrc\\\\netCDF4\\\\_netCDF4.pyx:2470\u001b[0m, in \u001b[0;36mnetCDF4._netCDF4.Dataset.__init__\u001b[1;34m()\u001b[0m\n",
      "File \u001b[1;32msrc\\\\netCDF4\\\\_netCDF4.pyx:2107\u001b[0m, in \u001b[0;36mnetCDF4._netCDF4._ensure_nc_success\u001b[1;34m()\u001b[0m\n",
      "\u001b[1;31mPermissionError\u001b[0m: [Errno 13] Permission denied: 'K:\\\\Data\\\\Data_effortsharing\\\\DataUpdate_ongoing\\\\startyear_2021\\\\xr_sobol_GHG_incl.nc'"
     ]
    }
   ],
   "source": [
    "from effortsharing.class_variancedecomp import vardecomposing\n",
    "\n",
    "vardecomposer = vardecomposing(startyear=2021, gas=\"GHG\", lulucf=\"incl\")\n",
    "vardecomposer.sobolindices = {}\n",
    "print(\"- Starting sobols for fixed years, over many countries\")\n",
    "timeseries = np.arange(2025, 2101, 1)\n",
    "for year in timeseries:\n",
    "    print(\"  Starting with\", year)\n",
    "    xr_cty, ar_time, array_dims, array_inputs, problem, samples = (\n",
    "        vardecomposer.prepare_global_sobol(year)\n",
    "    )\n",
    "    vardecomposer.sobolindices[year] = vardecomposer.apply_decomposition(\n",
    "        xr_cty, ar_time, array_dims, array_inputs, problem, samples\n",
    "    )\n",
    "vardecomposer.save(array_dims, timeseries)"
   ]
  },
  {
   "cell_type": "code",
   "execution_count": 9,
   "metadata": {},
   "outputs": [
    {
     "name": "stdout",
     "output_type": "stream",
     "text": [
      "- Save global results\n"
     ]
    }
   ],
   "source": [
    "vardecomposer.save(array_dims, timeseries)"
   ]
  }
 ],
 "metadata": {
  "kernelspec": {
   "display_name": "venv",
   "language": "python",
   "name": "python3"
  },
  "language_info": {
   "codemirror_mode": {
    "name": "ipython",
    "version": 3
   },
   "file_extension": ".py",
   "mimetype": "text/x-python",
   "name": "python",
   "nbconvert_exporter": "python",
   "pygments_lexer": "ipython3",
   "version": "3.11.11"
  },
  "orig_nbformat": 4
 },
 "nbformat": 4,
 "nbformat_minor": 2
}
