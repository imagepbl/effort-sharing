{
 "cells": [
  {
   "cell_type": "markdown",
   "metadata": {},
   "source": [
    "## Preambule"
   ]
  },
  {
   "cell_type": "code",
   "execution_count": 4,
   "metadata": {},
   "outputs": [],
   "source": [
    "import numpy as np\n",
    "import pandas as pd\n",
    "import xarray as xr\n",
    "from tqdm import tqdm\n",
    "\n",
    "# Plotting\n",
    "import matplotlib.pyplot as plt\n",
    "import plotly.express as px\n",
    "import plotly.graph_objects as go\n",
    "from plotly.subplots import make_subplots\n",
    "from plotly.colors import n_colors"
   ]
  },
  {
   "cell_type": "markdown",
   "metadata": {},
   "source": [
    "## Input"
   ]
  },
  {
   "cell_type": "code",
   "execution_count": 5,
   "metadata": {},
   "outputs": [],
   "source": [
    "rules_b = ['GF', 'PC', 'PCC', 'AP', 'GDR', 'ECPC']\n",
    "rules_a = rules_b"
   ]
  },
  {
   "cell_type": "markdown",
   "metadata": {},
   "source": [
    "## Read data"
   ]
  },
  {
   "cell_type": "code",
   "execution_count": 6,
   "metadata": {},
   "outputs": [],
   "source": [
    "xr_dataread = xr.open_dataset(\"K:/Data/Data_effortsharing/DataUpdate_ongoing/startyear_2021/xr_dataread.nc\")\n",
    "#xr_temps = xr.open_dataset(\"K:/Data/Data_effortsharing/DataUpdate_ongoing/startyear_2021/xr_temps.nc\")\n",
    "#xr_2030 = xr.open_dataset(\"X:/user/dekkerm/Projects/ECEMF_T5.2/Data/xr_alloc_2030.nc\")"
   ]
  },
  {
   "cell_type": "code",
   "execution_count": 7,
   "metadata": {},
   "outputs": [],
   "source": [
    "df_eng = pd.read_csv('X:/user/dekkerm/Data/ENGAGE/PolicyScenarios/engage-internal_snapshot_1695642798.csv')\n",
    "df_eng = df_eng[df_eng.Variable == 'Emissions|Kyoto Gases']\n",
    "df_eng = df_eng.reset_index(drop=True)\n",
    "regions_df = np.array(df_eng.Region)\n",
    "regions_df[regions_df == \"Argentine Republic\"] = 'ARG'\n",
    "regions_df[regions_df == \"Canada\"] = 'CAN'\n",
    "regions_df[regions_df == \"Commonwealth of Australia\"] = 'AUS'\n",
    "regions_df[regions_df == \"Federative Republic of Brazil\"] = 'BRA'\n",
    "regions_df[regions_df == \"People's Repulic of China\"] = 'CHN'\n",
    "regions_df[regions_df == \"European Union (28 member countries)\"] = 'EU'\n",
    "regions_df[regions_df == \"Republic of India\"] = 'IND'\n",
    "regions_df[regions_df == \"Republic of Indonesia\"] = 'IDN'\n",
    "regions_df[regions_df == \"State of Japan\"] = 'JPN'\n",
    "regions_df[regions_df == \"Russian Federation\"] = 'RUS'\n",
    "regions_df[regions_df == \"Kingdom of Saudi Arabia\"] = 'SAU'\n",
    "regions_df[regions_df == \"Republic of South Africa\"] = 'ZAF'\n",
    "regions_df[regions_df == \"Republic of Korea (South Korea)\"] = 'KOR'\n",
    "regions_df[regions_df == \"United Mexican States\"] = 'MEX'\n",
    "regions_df[regions_df == \"Republic of Turkey\"] = 'TUR'\n",
    "regions_df[regions_df == \"United States of America\"] = 'USA'\n",
    "regions_df[regions_df == \"Viet Nam \"] = 'VNM'\n",
    "df_eng.Region = regions_df\n",
    "df = pd.read_excel(\"X:/user/dekkerm/Data//UNFCCC_Parties_Groups_noeu.xlsx\", sheet_name = \"Country groups\")\n",
    "countries_iso = np.array(df[\"Country ISO Code\"])\n",
    "group_eu = countries_iso[np.array(df[\"EU\"]) == 1]"
   ]
  },
  {
   "cell_type": "code",
   "execution_count": 8,
   "metadata": {},
   "outputs": [],
   "source": [
    "curpol = \"GP_CurPol_T45\"\n",
    "ndc = \"GP_NDC2030_T45\"\n",
    "nz = \"GP_Glasgow\"\n",
    "df_eng_ref = df_eng[['Model', 'Scenario', 'Region']+list(df_eng.keys()[5:])]\n",
    "df_eng_ref = df_eng_ref[df_eng_ref.Scenario.isin([curpol, ndc, nz])]\n",
    "scen = np.array(df_eng_ref.Scenario)\n",
    "scen[scen == ndc] = 'NDC'\n",
    "scen[scen == curpol] = 'CurPol'\n",
    "scen[scen == nz] = 'NetZero'\n",
    "reg = np.array(df_eng_ref.Region)\n",
    "reg[reg == 'World'] = 'WORLD'\n",
    "df_eng_ref['Scenario'] = scen\n",
    "df_eng_ref['Region'] = reg\n",
    "dummy = df_eng_ref.melt(id_vars=[\"Scenario\", \"Model\", \"Region\"], var_name=\"Time\", value_name=\"Value\")\n",
    "dummy['Time'] = np.array(dummy['Time'].astype(int))\n",
    "dummy = dummy.set_index([\"Scenario\", \"Model\", \"Region\", \"Time\"])\n",
    "xr_eng = xr.Dataset.from_dataframe(dummy)\n",
    "xr_eng = xr_eng.reindex(Time = np.arange(1850, 2101))\n",
    "xr_eng = xr_eng.interpolate_na(dim=\"Time\", method=\"linear\")"
   ]
  },
  {
   "cell_type": "markdown",
   "metadata": {},
   "source": [
    "## Read memberstate info"
   ]
  },
  {
   "cell_type": "code",
   "execution_count": 9,
   "metadata": {},
   "outputs": [
    {
     "name": "stderr",
     "output_type": "stream",
     "text": [
      "27it [00:48,  1.78s/it]\n"
     ]
    }
   ],
   "source": [
    "for cty_i, cty in tqdm(enumerate(group_eu)):\n",
    "    ds = xr.open_dataset(\"K:/Data/Data_effortsharing/DataUpdate_ongoing/startyear_2021/Allocations_GHG_incl/\" + \"xr_alloc_\"+cty+\".nc\").sel(Temperature=1.5, Risk=0.5).expand_dims(Region=[cty])\n",
    "    if cty_i == 0:\n",
    "        xrt = ds.copy()\n",
    "    else:\n",
    "        xrt = xr.merge([xrt, ds])\n",
    "    ds.close()\n",
    "xrt = xrt.astype(\"float32\")"
   ]
  },
  {
   "cell_type": "code",
   "execution_count": 10,
   "metadata": {},
   "outputs": [
    {
     "data": {
      "text/html": [
       "<div><svg style=\"position: absolute; width: 0; height: 0; overflow: hidden\">\n",
       "<defs>\n",
       "<symbol id=\"icon-database\" viewBox=\"0 0 32 32\">\n",
       "<path d=\"M16 0c-8.837 0-16 2.239-16 5v4c0 2.761 7.163 5 16 5s16-2.239 16-5v-4c0-2.761-7.163-5-16-5z\"></path>\n",
       "<path d=\"M16 17c-8.837 0-16-2.239-16-5v6c0 2.761 7.163 5 16 5s16-2.239 16-5v-6c0 2.761-7.163 5-16 5z\"></path>\n",
       "<path d=\"M16 26c-8.837 0-16-2.239-16-5v6c0 2.761 7.163 5 16 5s16-2.239 16-5v-6c0 2.761-7.163 5-16 5z\"></path>\n",
       "</symbol>\n",
       "<symbol id=\"icon-file-text2\" viewBox=\"0 0 32 32\">\n",
       "<path d=\"M28.681 7.159c-0.694-0.947-1.662-2.053-2.724-3.116s-2.169-2.030-3.116-2.724c-1.612-1.182-2.393-1.319-2.841-1.319h-15.5c-1.378 0-2.5 1.121-2.5 2.5v27c0 1.378 1.122 2.5 2.5 2.5h23c1.378 0 2.5-1.122 2.5-2.5v-19.5c0-0.448-0.137-1.23-1.319-2.841zM24.543 5.457c0.959 0.959 1.712 1.825 2.268 2.543h-4.811v-4.811c0.718 0.556 1.584 1.309 2.543 2.268zM28 29.5c0 0.271-0.229 0.5-0.5 0.5h-23c-0.271 0-0.5-0.229-0.5-0.5v-27c0-0.271 0.229-0.5 0.5-0.5 0 0 15.499-0 15.5 0v7c0 0.552 0.448 1 1 1h7v19.5z\"></path>\n",
       "<path d=\"M23 26h-14c-0.552 0-1-0.448-1-1s0.448-1 1-1h14c0.552 0 1 0.448 1 1s-0.448 1-1 1z\"></path>\n",
       "<path d=\"M23 22h-14c-0.552 0-1-0.448-1-1s0.448-1 1-1h14c0.552 0 1 0.448 1 1s-0.448 1-1 1z\"></path>\n",
       "<path d=\"M23 18h-14c-0.552 0-1-0.448-1-1s0.448-1 1-1h14c0.552 0 1 0.448 1 1s-0.448 1-1 1z\"></path>\n",
       "</symbol>\n",
       "</defs>\n",
       "</svg>\n",
       "<style>/* CSS stylesheet for displaying xarray objects in jupyterlab.\n",
       " *\n",
       " */\n",
       "\n",
       ":root {\n",
       "  --xr-font-color0: var(--jp-content-font-color0, rgba(0, 0, 0, 1));\n",
       "  --xr-font-color2: var(--jp-content-font-color2, rgba(0, 0, 0, 0.54));\n",
       "  --xr-font-color3: var(--jp-content-font-color3, rgba(0, 0, 0, 0.38));\n",
       "  --xr-border-color: var(--jp-border-color2, #e0e0e0);\n",
       "  --xr-disabled-color: var(--jp-layout-color3, #bdbdbd);\n",
       "  --xr-background-color: var(--jp-layout-color0, white);\n",
       "  --xr-background-color-row-even: var(--jp-layout-color1, white);\n",
       "  --xr-background-color-row-odd: var(--jp-layout-color2, #eeeeee);\n",
       "}\n",
       "\n",
       "html[theme=dark],\n",
       "html[data-theme=dark],\n",
       "body[data-theme=dark],\n",
       "body.vscode-dark {\n",
       "  --xr-font-color0: rgba(255, 255, 255, 1);\n",
       "  --xr-font-color2: rgba(255, 255, 255, 0.54);\n",
       "  --xr-font-color3: rgba(255, 255, 255, 0.38);\n",
       "  --xr-border-color: #1F1F1F;\n",
       "  --xr-disabled-color: #515151;\n",
       "  --xr-background-color: #111111;\n",
       "  --xr-background-color-row-even: #111111;\n",
       "  --xr-background-color-row-odd: #313131;\n",
       "}\n",
       "\n",
       ".xr-wrap {\n",
       "  display: block !important;\n",
       "  min-width: 300px;\n",
       "  max-width: 700px;\n",
       "}\n",
       "\n",
       ".xr-text-repr-fallback {\n",
       "  /* fallback to plain text repr when CSS is not injected (untrusted notebook) */\n",
       "  display: none;\n",
       "}\n",
       "\n",
       ".xr-header {\n",
       "  padding-top: 6px;\n",
       "  padding-bottom: 6px;\n",
       "  margin-bottom: 4px;\n",
       "  border-bottom: solid 1px var(--xr-border-color);\n",
       "}\n",
       "\n",
       ".xr-header > div,\n",
       ".xr-header > ul {\n",
       "  display: inline;\n",
       "  margin-top: 0;\n",
       "  margin-bottom: 0;\n",
       "}\n",
       "\n",
       ".xr-obj-type,\n",
       ".xr-array-name {\n",
       "  margin-left: 2px;\n",
       "  margin-right: 10px;\n",
       "}\n",
       "\n",
       ".xr-obj-type {\n",
       "  color: var(--xr-font-color2);\n",
       "}\n",
       "\n",
       ".xr-sections {\n",
       "  padding-left: 0 !important;\n",
       "  display: grid;\n",
       "  grid-template-columns: 150px auto auto 1fr 20px 20px;\n",
       "}\n",
       "\n",
       ".xr-section-item {\n",
       "  display: contents;\n",
       "}\n",
       "\n",
       ".xr-section-item input {\n",
       "  display: none;\n",
       "}\n",
       "\n",
       ".xr-section-item input + label {\n",
       "  color: var(--xr-disabled-color);\n",
       "}\n",
       "\n",
       ".xr-section-item input:enabled + label {\n",
       "  cursor: pointer;\n",
       "  color: var(--xr-font-color2);\n",
       "}\n",
       "\n",
       ".xr-section-item input:enabled + label:hover {\n",
       "  color: var(--xr-font-color0);\n",
       "}\n",
       "\n",
       ".xr-section-summary {\n",
       "  grid-column: 1;\n",
       "  color: var(--xr-font-color2);\n",
       "  font-weight: 500;\n",
       "}\n",
       "\n",
       ".xr-section-summary > span {\n",
       "  display: inline-block;\n",
       "  padding-left: 0.5em;\n",
       "}\n",
       "\n",
       ".xr-section-summary-in:disabled + label {\n",
       "  color: var(--xr-font-color2);\n",
       "}\n",
       "\n",
       ".xr-section-summary-in + label:before {\n",
       "  display: inline-block;\n",
       "  content: '►';\n",
       "  font-size: 11px;\n",
       "  width: 15px;\n",
       "  text-align: center;\n",
       "}\n",
       "\n",
       ".xr-section-summary-in:disabled + label:before {\n",
       "  color: var(--xr-disabled-color);\n",
       "}\n",
       "\n",
       ".xr-section-summary-in:checked + label:before {\n",
       "  content: '▼';\n",
       "}\n",
       "\n",
       ".xr-section-summary-in:checked + label > span {\n",
       "  display: none;\n",
       "}\n",
       "\n",
       ".xr-section-summary,\n",
       ".xr-section-inline-details {\n",
       "  padding-top: 4px;\n",
       "  padding-bottom: 4px;\n",
       "}\n",
       "\n",
       ".xr-section-inline-details {\n",
       "  grid-column: 2 / -1;\n",
       "}\n",
       "\n",
       ".xr-section-details {\n",
       "  display: none;\n",
       "  grid-column: 1 / -1;\n",
       "  margin-bottom: 5px;\n",
       "}\n",
       "\n",
       ".xr-section-summary-in:checked ~ .xr-section-details {\n",
       "  display: contents;\n",
       "}\n",
       "\n",
       ".xr-array-wrap {\n",
       "  grid-column: 1 / -1;\n",
       "  display: grid;\n",
       "  grid-template-columns: 20px auto;\n",
       "}\n",
       "\n",
       ".xr-array-wrap > label {\n",
       "  grid-column: 1;\n",
       "  vertical-align: top;\n",
       "}\n",
       "\n",
       ".xr-preview {\n",
       "  color: var(--xr-font-color3);\n",
       "}\n",
       "\n",
       ".xr-array-preview,\n",
       ".xr-array-data {\n",
       "  padding: 0 5px !important;\n",
       "  grid-column: 2;\n",
       "}\n",
       "\n",
       ".xr-array-data,\n",
       ".xr-array-in:checked ~ .xr-array-preview {\n",
       "  display: none;\n",
       "}\n",
       "\n",
       ".xr-array-in:checked ~ .xr-array-data,\n",
       ".xr-array-preview {\n",
       "  display: inline-block;\n",
       "}\n",
       "\n",
       ".xr-dim-list {\n",
       "  display: inline-block !important;\n",
       "  list-style: none;\n",
       "  padding: 0 !important;\n",
       "  margin: 0;\n",
       "}\n",
       "\n",
       ".xr-dim-list li {\n",
       "  display: inline-block;\n",
       "  padding: 0;\n",
       "  margin: 0;\n",
       "}\n",
       "\n",
       ".xr-dim-list:before {\n",
       "  content: '(';\n",
       "}\n",
       "\n",
       ".xr-dim-list:after {\n",
       "  content: ')';\n",
       "}\n",
       "\n",
       ".xr-dim-list li:not(:last-child):after {\n",
       "  content: ',';\n",
       "  padding-right: 5px;\n",
       "}\n",
       "\n",
       ".xr-has-index {\n",
       "  font-weight: bold;\n",
       "}\n",
       "\n",
       ".xr-var-list,\n",
       ".xr-var-item {\n",
       "  display: contents;\n",
       "}\n",
       "\n",
       ".xr-var-item > div,\n",
       ".xr-var-item label,\n",
       ".xr-var-item > .xr-var-name span {\n",
       "  background-color: var(--xr-background-color-row-even);\n",
       "  margin-bottom: 0;\n",
       "}\n",
       "\n",
       ".xr-var-item > .xr-var-name:hover span {\n",
       "  padding-right: 5px;\n",
       "}\n",
       "\n",
       ".xr-var-list > li:nth-child(odd) > div,\n",
       ".xr-var-list > li:nth-child(odd) > label,\n",
       ".xr-var-list > li:nth-child(odd) > .xr-var-name span {\n",
       "  background-color: var(--xr-background-color-row-odd);\n",
       "}\n",
       "\n",
       ".xr-var-name {\n",
       "  grid-column: 1;\n",
       "}\n",
       "\n",
       ".xr-var-dims {\n",
       "  grid-column: 2;\n",
       "}\n",
       "\n",
       ".xr-var-dtype {\n",
       "  grid-column: 3;\n",
       "  text-align: right;\n",
       "  color: var(--xr-font-color2);\n",
       "}\n",
       "\n",
       ".xr-var-preview {\n",
       "  grid-column: 4;\n",
       "}\n",
       "\n",
       ".xr-index-preview {\n",
       "  grid-column: 2 / 5;\n",
       "  color: var(--xr-font-color2);\n",
       "}\n",
       "\n",
       ".xr-var-name,\n",
       ".xr-var-dims,\n",
       ".xr-var-dtype,\n",
       ".xr-preview,\n",
       ".xr-attrs dt {\n",
       "  white-space: nowrap;\n",
       "  overflow: hidden;\n",
       "  text-overflow: ellipsis;\n",
       "  padding-right: 10px;\n",
       "}\n",
       "\n",
       ".xr-var-name:hover,\n",
       ".xr-var-dims:hover,\n",
       ".xr-var-dtype:hover,\n",
       ".xr-attrs dt:hover {\n",
       "  overflow: visible;\n",
       "  width: auto;\n",
       "  z-index: 1;\n",
       "}\n",
       "\n",
       ".xr-var-attrs,\n",
       ".xr-var-data,\n",
       ".xr-index-data {\n",
       "  display: none;\n",
       "  background-color: var(--xr-background-color) !important;\n",
       "  padding-bottom: 5px !important;\n",
       "}\n",
       "\n",
       ".xr-var-attrs-in:checked ~ .xr-var-attrs,\n",
       ".xr-var-data-in:checked ~ .xr-var-data,\n",
       ".xr-index-data-in:checked ~ .xr-index-data {\n",
       "  display: block;\n",
       "}\n",
       "\n",
       ".xr-var-data > table {\n",
       "  float: right;\n",
       "}\n",
       "\n",
       ".xr-var-name span,\n",
       ".xr-var-data,\n",
       ".xr-index-name div,\n",
       ".xr-index-data,\n",
       ".xr-attrs {\n",
       "  padding-left: 25px !important;\n",
       "}\n",
       "\n",
       ".xr-attrs,\n",
       ".xr-var-attrs,\n",
       ".xr-var-data,\n",
       ".xr-index-data {\n",
       "  grid-column: 1 / -1;\n",
       "}\n",
       "\n",
       "dl.xr-attrs {\n",
       "  padding: 0;\n",
       "  margin: 0;\n",
       "  display: grid;\n",
       "  grid-template-columns: 125px auto;\n",
       "}\n",
       "\n",
       ".xr-attrs dt,\n",
       ".xr-attrs dd {\n",
       "  padding: 0;\n",
       "  margin: 0;\n",
       "  float: left;\n",
       "  padding-right: 10px;\n",
       "  width: auto;\n",
       "}\n",
       "\n",
       ".xr-attrs dt {\n",
       "  font-weight: normal;\n",
       "  grid-column: 1;\n",
       "}\n",
       "\n",
       ".xr-attrs dt:hover span {\n",
       "  display: inline-block;\n",
       "  background: var(--xr-background-color);\n",
       "  padding-right: 10px;\n",
       "}\n",
       "\n",
       ".xr-attrs dd {\n",
       "  grid-column: 2;\n",
       "  white-space: pre-wrap;\n",
       "  word-break: break-all;\n",
       "}\n",
       "\n",
       ".xr-icon-database,\n",
       ".xr-icon-file-text2,\n",
       ".xr-no-icon {\n",
       "  display: inline-block;\n",
       "  vertical-align: middle;\n",
       "  width: 1em;\n",
       "  height: 1.5em !important;\n",
       "  stroke-width: 0;\n",
       "  stroke: currentColor;\n",
       "  fill: currentColor;\n",
       "}\n",
       "</style><pre class='xr-text-repr-fallback'>&lt;xarray.Dataset&gt; Size: 165MB\n",
       "Dimensions:               (Region: 27, NegEmis: 7, NonCO2red: 5, Timing: 2,\n",
       "                           Time: 80, Scenario: 5, Convergence_year: 13,\n",
       "                           Discount_factor: 4, Historical_startyear: 3,\n",
       "                           Capability_threshold: 3, RCI_weight: 3)\n",
       "Coordinates: (12/14)\n",
       "  * Scenario              (Scenario) &lt;U4 80B &#x27;SSP1&#x27; &#x27;SSP2&#x27; &#x27;SSP3&#x27; &#x27;SSP4&#x27; &#x27;SSP5&#x27;\n",
       "  * Time                  (Time) int32 320B 2021 2022 2023 ... 2098 2099 2100\n",
       "  * NonCO2red             (NonCO2red) float64 40B 0.1 0.33 0.5 0.67 0.9\n",
       "  * NegEmis               (NegEmis) float64 56B 0.2 0.3 0.4 0.5 0.6 0.7 0.8\n",
       "  * Timing                (Timing) &lt;U9 72B &#x27;Immediate&#x27; &#x27;Delayed&#x27;\n",
       "  * Convergence_year      (Convergence_year) int32 52B 2040 2045 ... 2095 2100\n",
       "    ...                    ...\n",
       "  * Capability_threshold  (Capability_threshold) &lt;U4 48B &#x27;No&#x27; &#x27;PrTh&#x27; &#x27;Th&#x27;\n",
       "  * RCI_weight            (RCI_weight) &lt;U4 48B &#x27;Cap&#x27; &#x27;Half&#x27; &#x27;Resp&#x27;\n",
       "  * Region                (Region) object 216B &#x27;AUT&#x27; &#x27;BEL&#x27; &#x27;BGR&#x27; ... &#x27;SVN&#x27; &#x27;SWE&#x27;\n",
       "    Temperature           float64 8B 1.5\n",
       "    Risk                  float64 8B 0.5\n",
       "    Variable              &lt;U24 96B &#x27;Emissions|N2O|AFOLU|Land&#x27;\n",
       "Data variables:\n",
       "    GF                    (Region, NegEmis, NonCO2red, Timing, Time) float32 605kB ...\n",
       "    PC                    (Region, Scenario, NegEmis, NonCO2red, Timing, Time) float32 3MB ...\n",
       "    PCC                   (Region, Time, Convergence_year, NegEmis, NonCO2red, Timing, Scenario) float32 39MB ...\n",
       "    ECPC                  (Region, Discount_factor, Historical_startyear, NegEmis, NonCO2red, Timing, Time, Scenario) float32 36MB ...\n",
       "    AP                    (Region, Scenario, Time, NegEmis, NonCO2red, Timing) float32 3MB ...\n",
       "    GDR                   (Region, Scenario, Time, NegEmis, NonCO2red, Timing, Historical_startyear, Capability_threshold, RCI_weight) float32 82MB ...\n",
       "    PCB                   (Region, NegEmis, NonCO2red, Timing, Time) float32 605kB ...\n",
       "    PCB_lin               (Region, NegEmis, NonCO2red, Timing, Time) float32 605kB ...</pre><div class='xr-wrap' style='display:none'><div class='xr-header'><div class='xr-obj-type'>xarray.Dataset</div></div><ul class='xr-sections'><li class='xr-section-item'><input id='section-c39ad6fc-3d1b-48a1-aeb0-61aed278ddc9' class='xr-section-summary-in' type='checkbox' disabled ><label for='section-c39ad6fc-3d1b-48a1-aeb0-61aed278ddc9' class='xr-section-summary'  title='Expand/collapse section'>Dimensions:</label><div class='xr-section-inline-details'><ul class='xr-dim-list'><li><span class='xr-has-index'>Region</span>: 27</li><li><span class='xr-has-index'>NegEmis</span>: 7</li><li><span class='xr-has-index'>NonCO2red</span>: 5</li><li><span class='xr-has-index'>Timing</span>: 2</li><li><span class='xr-has-index'>Time</span>: 80</li><li><span class='xr-has-index'>Scenario</span>: 5</li><li><span class='xr-has-index'>Convergence_year</span>: 13</li><li><span class='xr-has-index'>Discount_factor</span>: 4</li><li><span class='xr-has-index'>Historical_startyear</span>: 3</li><li><span class='xr-has-index'>Capability_threshold</span>: 3</li><li><span class='xr-has-index'>RCI_weight</span>: 3</li></ul></div><div class='xr-section-details'></div></li><li class='xr-section-item'><input id='section-ac78227b-b10b-40fe-906f-f24858de9af9' class='xr-section-summary-in' type='checkbox'  checked><label for='section-ac78227b-b10b-40fe-906f-f24858de9af9' class='xr-section-summary' >Coordinates: <span>(14)</span></label><div class='xr-section-inline-details'></div><div class='xr-section-details'><ul class='xr-var-list'><li class='xr-var-item'><div class='xr-var-name'><span class='xr-has-index'>Scenario</span></div><div class='xr-var-dims'>(Scenario)</div><div class='xr-var-dtype'>&lt;U4</div><div class='xr-var-preview xr-preview'>&#x27;SSP1&#x27; &#x27;SSP2&#x27; &#x27;SSP3&#x27; &#x27;SSP4&#x27; &#x27;SSP5&#x27;</div><input id='attrs-ef48fc9d-0359-4e1d-8a5a-b30a7834666c' class='xr-var-attrs-in' type='checkbox' disabled><label for='attrs-ef48fc9d-0359-4e1d-8a5a-b30a7834666c' title='Show/Hide attributes'><svg class='icon xr-icon-file-text2'><use xlink:href='#icon-file-text2'></use></svg></label><input id='data-07d8832d-bde6-4585-b339-ee71d8b08199' class='xr-var-data-in' type='checkbox'><label for='data-07d8832d-bde6-4585-b339-ee71d8b08199' title='Show/Hide data repr'><svg class='icon xr-icon-database'><use xlink:href='#icon-database'></use></svg></label><div class='xr-var-attrs'><dl class='xr-attrs'></dl></div><div class='xr-var-data'><pre>array([&#x27;SSP1&#x27;, &#x27;SSP2&#x27;, &#x27;SSP3&#x27;, &#x27;SSP4&#x27;, &#x27;SSP5&#x27;], dtype=&#x27;&lt;U4&#x27;)</pre></div></li><li class='xr-var-item'><div class='xr-var-name'><span class='xr-has-index'>Time</span></div><div class='xr-var-dims'>(Time)</div><div class='xr-var-dtype'>int32</div><div class='xr-var-preview xr-preview'>2021 2022 2023 ... 2098 2099 2100</div><input id='attrs-dbd198be-7066-4dbb-a06f-49c1dd6bc4e5' class='xr-var-attrs-in' type='checkbox' disabled><label for='attrs-dbd198be-7066-4dbb-a06f-49c1dd6bc4e5' title='Show/Hide attributes'><svg class='icon xr-icon-file-text2'><use xlink:href='#icon-file-text2'></use></svg></label><input id='data-c43bfacc-4230-4255-8233-f49095bde1ca' class='xr-var-data-in' type='checkbox'><label for='data-c43bfacc-4230-4255-8233-f49095bde1ca' title='Show/Hide data repr'><svg class='icon xr-icon-database'><use xlink:href='#icon-database'></use></svg></label><div class='xr-var-attrs'><dl class='xr-attrs'></dl></div><div class='xr-var-data'><pre>array([2021, 2022, 2023, 2024, 2025, 2026, 2027, 2028, 2029, 2030, 2031, 2032,\n",
       "       2033, 2034, 2035, 2036, 2037, 2038, 2039, 2040, 2041, 2042, 2043, 2044,\n",
       "       2045, 2046, 2047, 2048, 2049, 2050, 2051, 2052, 2053, 2054, 2055, 2056,\n",
       "       2057, 2058, 2059, 2060, 2061, 2062, 2063, 2064, 2065, 2066, 2067, 2068,\n",
       "       2069, 2070, 2071, 2072, 2073, 2074, 2075, 2076, 2077, 2078, 2079, 2080,\n",
       "       2081, 2082, 2083, 2084, 2085, 2086, 2087, 2088, 2089, 2090, 2091, 2092,\n",
       "       2093, 2094, 2095, 2096, 2097, 2098, 2099, 2100])</pre></div></li><li class='xr-var-item'><div class='xr-var-name'><span class='xr-has-index'>NonCO2red</span></div><div class='xr-var-dims'>(NonCO2red)</div><div class='xr-var-dtype'>float64</div><div class='xr-var-preview xr-preview'>0.1 0.33 0.5 0.67 0.9</div><input id='attrs-a219ccbc-8730-414f-98cd-9ac62b2bf70e' class='xr-var-attrs-in' type='checkbox' disabled><label for='attrs-a219ccbc-8730-414f-98cd-9ac62b2bf70e' title='Show/Hide attributes'><svg class='icon xr-icon-file-text2'><use xlink:href='#icon-file-text2'></use></svg></label><input id='data-1b17ac3a-4a96-482e-929f-631dbbe0d4af' class='xr-var-data-in' type='checkbox'><label for='data-1b17ac3a-4a96-482e-929f-631dbbe0d4af' title='Show/Hide data repr'><svg class='icon xr-icon-database'><use xlink:href='#icon-database'></use></svg></label><div class='xr-var-attrs'><dl class='xr-attrs'></dl></div><div class='xr-var-data'><pre>array([0.1 , 0.33, 0.5 , 0.67, 0.9 ])</pre></div></li><li class='xr-var-item'><div class='xr-var-name'><span class='xr-has-index'>NegEmis</span></div><div class='xr-var-dims'>(NegEmis)</div><div class='xr-var-dtype'>float64</div><div class='xr-var-preview xr-preview'>0.2 0.3 0.4 0.5 0.6 0.7 0.8</div><input id='attrs-fd1af495-16f2-4c12-a39f-647668d6671d' class='xr-var-attrs-in' type='checkbox' disabled><label for='attrs-fd1af495-16f2-4c12-a39f-647668d6671d' title='Show/Hide attributes'><svg class='icon xr-icon-file-text2'><use xlink:href='#icon-file-text2'></use></svg></label><input id='data-bae2d967-14cb-4a4b-8795-c48d6ee85385' class='xr-var-data-in' type='checkbox'><label for='data-bae2d967-14cb-4a4b-8795-c48d6ee85385' title='Show/Hide data repr'><svg class='icon xr-icon-database'><use xlink:href='#icon-database'></use></svg></label><div class='xr-var-attrs'><dl class='xr-attrs'></dl></div><div class='xr-var-data'><pre>array([0.2, 0.3, 0.4, 0.5, 0.6, 0.7, 0.8])</pre></div></li><li class='xr-var-item'><div class='xr-var-name'><span class='xr-has-index'>Timing</span></div><div class='xr-var-dims'>(Timing)</div><div class='xr-var-dtype'>&lt;U9</div><div class='xr-var-preview xr-preview'>&#x27;Immediate&#x27; &#x27;Delayed&#x27;</div><input id='attrs-85b2f59f-ec7d-4b5b-a512-a1693dda461b' class='xr-var-attrs-in' type='checkbox' disabled><label for='attrs-85b2f59f-ec7d-4b5b-a512-a1693dda461b' title='Show/Hide attributes'><svg class='icon xr-icon-file-text2'><use xlink:href='#icon-file-text2'></use></svg></label><input id='data-5ed08651-4a38-4b8d-9b1e-0e7c27073a9a' class='xr-var-data-in' type='checkbox'><label for='data-5ed08651-4a38-4b8d-9b1e-0e7c27073a9a' title='Show/Hide data repr'><svg class='icon xr-icon-database'><use xlink:href='#icon-database'></use></svg></label><div class='xr-var-attrs'><dl class='xr-attrs'></dl></div><div class='xr-var-data'><pre>array([&#x27;Immediate&#x27;, &#x27;Delayed&#x27;], dtype=&#x27;&lt;U9&#x27;)</pre></div></li><li class='xr-var-item'><div class='xr-var-name'><span class='xr-has-index'>Convergence_year</span></div><div class='xr-var-dims'>(Convergence_year)</div><div class='xr-var-dtype'>int32</div><div class='xr-var-preview xr-preview'>2040 2045 2050 ... 2090 2095 2100</div><input id='attrs-8babb22e-ac8a-4df1-adfb-8d0f3aebee31' class='xr-var-attrs-in' type='checkbox' disabled><label for='attrs-8babb22e-ac8a-4df1-adfb-8d0f3aebee31' title='Show/Hide attributes'><svg class='icon xr-icon-file-text2'><use xlink:href='#icon-file-text2'></use></svg></label><input id='data-b79c06ee-5403-4c59-a50b-1d5ec7cbda6b' class='xr-var-data-in' type='checkbox'><label for='data-b79c06ee-5403-4c59-a50b-1d5ec7cbda6b' title='Show/Hide data repr'><svg class='icon xr-icon-database'><use xlink:href='#icon-database'></use></svg></label><div class='xr-var-attrs'><dl class='xr-attrs'></dl></div><div class='xr-var-data'><pre>array([2040, 2045, 2050, 2055, 2060, 2065, 2070, 2075, 2080, 2085, 2090, 2095,\n",
       "       2100])</pre></div></li><li class='xr-var-item'><div class='xr-var-name'><span class='xr-has-index'>Discount_factor</span></div><div class='xr-var-dims'>(Discount_factor)</div><div class='xr-var-dtype'>float64</div><div class='xr-var-preview xr-preview'>0.0 1.6 2.0 2.8</div><input id='attrs-d97d9464-fab4-49c5-badb-9298f78c8d81' class='xr-var-attrs-in' type='checkbox' disabled><label for='attrs-d97d9464-fab4-49c5-badb-9298f78c8d81' title='Show/Hide attributes'><svg class='icon xr-icon-file-text2'><use xlink:href='#icon-file-text2'></use></svg></label><input id='data-0784333b-4291-442b-81c0-8e06b0093ea5' class='xr-var-data-in' type='checkbox'><label for='data-0784333b-4291-442b-81c0-8e06b0093ea5' title='Show/Hide data repr'><svg class='icon xr-icon-database'><use xlink:href='#icon-database'></use></svg></label><div class='xr-var-attrs'><dl class='xr-attrs'></dl></div><div class='xr-var-data'><pre>array([0. , 1.6, 2. , 2.8])</pre></div></li><li class='xr-var-item'><div class='xr-var-name'><span class='xr-has-index'>Historical_startyear</span></div><div class='xr-var-dims'>(Historical_startyear)</div><div class='xr-var-dtype'>int64</div><div class='xr-var-preview xr-preview'>1850 1950 1990</div><input id='attrs-1b32c79a-cea9-4b4e-b405-6f6ff5ac55ee' class='xr-var-attrs-in' type='checkbox' disabled><label for='attrs-1b32c79a-cea9-4b4e-b405-6f6ff5ac55ee' title='Show/Hide attributes'><svg class='icon xr-icon-file-text2'><use xlink:href='#icon-file-text2'></use></svg></label><input id='data-edad537a-0ba9-433b-850a-855bfcc06f57' class='xr-var-data-in' type='checkbox'><label for='data-edad537a-0ba9-433b-850a-855bfcc06f57' title='Show/Hide data repr'><svg class='icon xr-icon-database'><use xlink:href='#icon-database'></use></svg></label><div class='xr-var-attrs'><dl class='xr-attrs'></dl></div><div class='xr-var-data'><pre>array([1850, 1950, 1990], dtype=int64)</pre></div></li><li class='xr-var-item'><div class='xr-var-name'><span class='xr-has-index'>Capability_threshold</span></div><div class='xr-var-dims'>(Capability_threshold)</div><div class='xr-var-dtype'>&lt;U4</div><div class='xr-var-preview xr-preview'>&#x27;No&#x27; &#x27;PrTh&#x27; &#x27;Th&#x27;</div><input id='attrs-9de0deae-2c44-48f2-84cb-a6509dbaa7ec' class='xr-var-attrs-in' type='checkbox' disabled><label for='attrs-9de0deae-2c44-48f2-84cb-a6509dbaa7ec' title='Show/Hide attributes'><svg class='icon xr-icon-file-text2'><use xlink:href='#icon-file-text2'></use></svg></label><input id='data-b4dce0c9-ea3a-44ae-bb9f-7f1b13481f35' class='xr-var-data-in' type='checkbox'><label for='data-b4dce0c9-ea3a-44ae-bb9f-7f1b13481f35' title='Show/Hide data repr'><svg class='icon xr-icon-database'><use xlink:href='#icon-database'></use></svg></label><div class='xr-var-attrs'><dl class='xr-attrs'></dl></div><div class='xr-var-data'><pre>array([&#x27;No&#x27;, &#x27;PrTh&#x27;, &#x27;Th&#x27;], dtype=&#x27;&lt;U4&#x27;)</pre></div></li><li class='xr-var-item'><div class='xr-var-name'><span class='xr-has-index'>RCI_weight</span></div><div class='xr-var-dims'>(RCI_weight)</div><div class='xr-var-dtype'>&lt;U4</div><div class='xr-var-preview xr-preview'>&#x27;Cap&#x27; &#x27;Half&#x27; &#x27;Resp&#x27;</div><input id='attrs-08e2ffaf-5f64-4252-a0fb-7b3d863a7710' class='xr-var-attrs-in' type='checkbox' disabled><label for='attrs-08e2ffaf-5f64-4252-a0fb-7b3d863a7710' title='Show/Hide attributes'><svg class='icon xr-icon-file-text2'><use xlink:href='#icon-file-text2'></use></svg></label><input id='data-ec4c265f-53b0-4f3c-9b64-74d001468726' class='xr-var-data-in' type='checkbox'><label for='data-ec4c265f-53b0-4f3c-9b64-74d001468726' title='Show/Hide data repr'><svg class='icon xr-icon-database'><use xlink:href='#icon-database'></use></svg></label><div class='xr-var-attrs'><dl class='xr-attrs'></dl></div><div class='xr-var-data'><pre>array([&#x27;Cap&#x27;, &#x27;Half&#x27;, &#x27;Resp&#x27;], dtype=&#x27;&lt;U4&#x27;)</pre></div></li><li class='xr-var-item'><div class='xr-var-name'><span class='xr-has-index'>Region</span></div><div class='xr-var-dims'>(Region)</div><div class='xr-var-dtype'>object</div><div class='xr-var-preview xr-preview'>&#x27;AUT&#x27; &#x27;BEL&#x27; &#x27;BGR&#x27; ... &#x27;SVN&#x27; &#x27;SWE&#x27;</div><input id='attrs-e36b3b83-f062-4472-9304-ea59807da4ad' class='xr-var-attrs-in' type='checkbox' disabled><label for='attrs-e36b3b83-f062-4472-9304-ea59807da4ad' title='Show/Hide attributes'><svg class='icon xr-icon-file-text2'><use xlink:href='#icon-file-text2'></use></svg></label><input id='data-268b198c-ea62-45f0-84aa-8277f7f385b9' class='xr-var-data-in' type='checkbox'><label for='data-268b198c-ea62-45f0-84aa-8277f7f385b9' title='Show/Hide data repr'><svg class='icon xr-icon-database'><use xlink:href='#icon-database'></use></svg></label><div class='xr-var-attrs'><dl class='xr-attrs'></dl></div><div class='xr-var-data'><pre>array([&#x27;AUT&#x27;, &#x27;BEL&#x27;, &#x27;BGR&#x27;, &#x27;CYP&#x27;, &#x27;CZE&#x27;, &#x27;DEU&#x27;, &#x27;DNK&#x27;, &#x27;ESP&#x27;, &#x27;EST&#x27;, &#x27;FIN&#x27;,\n",
       "       &#x27;FRA&#x27;, &#x27;GRC&#x27;, &#x27;HRV&#x27;, &#x27;HUN&#x27;, &#x27;IRL&#x27;, &#x27;ITA&#x27;, &#x27;LTU&#x27;, &#x27;LUX&#x27;, &#x27;LVA&#x27;, &#x27;MLT&#x27;,\n",
       "       &#x27;NLD&#x27;, &#x27;POL&#x27;, &#x27;PRT&#x27;, &#x27;ROU&#x27;, &#x27;SVK&#x27;, &#x27;SVN&#x27;, &#x27;SWE&#x27;], dtype=object)</pre></div></li><li class='xr-var-item'><div class='xr-var-name'><span>Temperature</span></div><div class='xr-var-dims'>()</div><div class='xr-var-dtype'>float64</div><div class='xr-var-preview xr-preview'>1.5</div><input id='attrs-8c3a0169-6442-4283-af59-a82686967a90' class='xr-var-attrs-in' type='checkbox' disabled><label for='attrs-8c3a0169-6442-4283-af59-a82686967a90' title='Show/Hide attributes'><svg class='icon xr-icon-file-text2'><use xlink:href='#icon-file-text2'></use></svg></label><input id='data-b81d025c-dca1-4357-a2de-2b1374d45bea' class='xr-var-data-in' type='checkbox'><label for='data-b81d025c-dca1-4357-a2de-2b1374d45bea' title='Show/Hide data repr'><svg class='icon xr-icon-database'><use xlink:href='#icon-database'></use></svg></label><div class='xr-var-attrs'><dl class='xr-attrs'></dl></div><div class='xr-var-data'><pre>array(1.5)</pre></div></li><li class='xr-var-item'><div class='xr-var-name'><span>Risk</span></div><div class='xr-var-dims'>()</div><div class='xr-var-dtype'>float64</div><div class='xr-var-preview xr-preview'>0.5</div><input id='attrs-1d199c8f-7c51-485d-9d4f-e1e15ea52815' class='xr-var-attrs-in' type='checkbox' disabled><label for='attrs-1d199c8f-7c51-485d-9d4f-e1e15ea52815' title='Show/Hide attributes'><svg class='icon xr-icon-file-text2'><use xlink:href='#icon-file-text2'></use></svg></label><input id='data-c03f41ff-bdef-4675-99e7-d9196a5fe3a1' class='xr-var-data-in' type='checkbox'><label for='data-c03f41ff-bdef-4675-99e7-d9196a5fe3a1' title='Show/Hide data repr'><svg class='icon xr-icon-database'><use xlink:href='#icon-database'></use></svg></label><div class='xr-var-attrs'><dl class='xr-attrs'></dl></div><div class='xr-var-data'><pre>array(0.5)</pre></div></li><li class='xr-var-item'><div class='xr-var-name'><span>Variable</span></div><div class='xr-var-dims'>()</div><div class='xr-var-dtype'>&lt;U24</div><div class='xr-var-preview xr-preview'>&#x27;Emissions|N2O|AFOLU|Land&#x27;</div><input id='attrs-03f510c3-8e92-455a-a138-8797de9d0fc2' class='xr-var-attrs-in' type='checkbox' disabled><label for='attrs-03f510c3-8e92-455a-a138-8797de9d0fc2' title='Show/Hide attributes'><svg class='icon xr-icon-file-text2'><use xlink:href='#icon-file-text2'></use></svg></label><input id='data-469b1934-470e-4331-bd59-8db780da2a54' class='xr-var-data-in' type='checkbox'><label for='data-469b1934-470e-4331-bd59-8db780da2a54' title='Show/Hide data repr'><svg class='icon xr-icon-database'><use xlink:href='#icon-database'></use></svg></label><div class='xr-var-attrs'><dl class='xr-attrs'></dl></div><div class='xr-var-data'><pre>array(&#x27;Emissions|N2O|AFOLU|Land&#x27;, dtype=&#x27;&lt;U24&#x27;)</pre></div></li></ul></div></li><li class='xr-section-item'><input id='section-94b0a05d-d246-40c5-b469-72bff7ea4662' class='xr-section-summary-in' type='checkbox'  checked><label for='section-94b0a05d-d246-40c5-b469-72bff7ea4662' class='xr-section-summary' >Data variables: <span>(8)</span></label><div class='xr-section-inline-details'></div><div class='xr-section-details'><ul class='xr-var-list'><li class='xr-var-item'><div class='xr-var-name'><span>GF</span></div><div class='xr-var-dims'>(Region, NegEmis, NonCO2red, Timing, Time)</div><div class='xr-var-dtype'>float32</div><div class='xr-var-preview xr-preview'>73.22 63.7 54.18 ... -1.709 -1.787</div><input id='attrs-00bf8aaf-0762-4bc2-abba-2e843f470e6c' class='xr-var-attrs-in' type='checkbox' disabled><label for='attrs-00bf8aaf-0762-4bc2-abba-2e843f470e6c' title='Show/Hide attributes'><svg class='icon xr-icon-file-text2'><use xlink:href='#icon-file-text2'></use></svg></label><input id='data-f1890820-ffa7-4957-900c-7882c8a15ee1' class='xr-var-data-in' type='checkbox'><label for='data-f1890820-ffa7-4957-900c-7882c8a15ee1' title='Show/Hide data repr'><svg class='icon xr-icon-database'><use xlink:href='#icon-database'></use></svg></label><div class='xr-var-attrs'><dl class='xr-attrs'></dl></div><div class='xr-var-data'><pre>array([[[[[ 7.32155685e+01,  6.36997147e+01,  5.41838570e+01, ...,\n",
       "           -3.04582157e+01, -3.05006905e+01, -3.05431671e+01],\n",
       "          [ 7.32155685e+01,  6.36997147e+01,  5.41838570e+01, ...,\n",
       "           -3.04582157e+01, -3.05006905e+01, -3.05431671e+01]],\n",
       "\n",
       "         [[ 7.32155685e+01,  6.69512024e+01,  6.06868362e+01, ...,\n",
       "           -5.19210529e+00, -5.22764730e+00, -5.26318884e+00],\n",
       "          [ 7.32155685e+01,  6.69512024e+01,  6.06868362e+01, ...,\n",
       "           -5.19210529e+00, -5.22764730e+00, -5.26318884e+00]],\n",
       "\n",
       "         [[ 7.32155685e+01,  6.80041580e+01,  6.27927399e+01, ...,\n",
       "            3.00449038e+00,  2.97418904e+00,  2.94388795e+00],\n",
       "          [ 7.32155685e+01,  6.80041580e+01,  6.27927399e+01, ...,\n",
       "            3.00449038e+00,  2.97418904e+00,  2.94388795e+00]],\n",
       "\n",
       "         [[ 7.32155685e+01,  6.84568024e+01,  6.36980400e+01, ...,\n",
       "            7.70098066e+00,  7.68725443e+00,  7.67352819e+00],\n",
       "          [ 7.32155685e+01,  6.84568024e+01,  6.36980400e+01, ...,\n",
       "            7.70098066e+00,  7.68725443e+00,  7.67352819e+00]],\n",
       "\n",
       "...\n",
       "         [[ 7.22527542e+01,  6.60430984e+01,  5.98334465e+01, ...,\n",
       "           -1.76369228e+01, -1.77332439e+01, -1.78295650e+01],\n",
       "          [ 7.22527542e+01,  6.60430984e+01,  5.98334465e+01, ...,\n",
       "           -1.76369228e+01, -1.77332439e+01, -1.78295650e+01]],\n",
       "\n",
       "         [[ 7.22527542e+01,  6.70255203e+01,  6.17982864e+01, ...,\n",
       "           -1.00016022e+01, -1.00927515e+01, -1.01839008e+01],\n",
       "          [ 7.22527542e+01,  6.70255203e+01,  6.17982864e+01, ...,\n",
       "           -1.00016022e+01, -1.00927515e+01, -1.01839008e+01]],\n",
       "\n",
       "         [[ 7.22527542e+01,  6.75285034e+01,  6.28042526e+01, ...,\n",
       "           -4.91658592e+00, -4.99137831e+00, -5.06617117e+00],\n",
       "          [ 7.22527542e+01,  6.75285034e+01,  6.28042526e+01, ...,\n",
       "           -4.91658592e+00, -4.99137831e+00, -5.06617117e+00]],\n",
       "\n",
       "         [[ 7.22527542e+01,  6.79549637e+01,  6.36571693e+01, ...,\n",
       "           -1.63107300e+00, -1.70923185e+00, -1.78739071e+00],\n",
       "          [ 7.22527542e+01,  6.79549637e+01,  6.36571693e+01, ...,\n",
       "           -1.63107300e+00, -1.70923185e+00, -1.78739071e+00]]]]],\n",
       "      dtype=float32)</pre></div></li><li class='xr-var-item'><div class='xr-var-name'><span>PC</span></div><div class='xr-var-dims'>(Region, Scenario, NegEmis, NonCO2red, Timing, Time)</div><div class='xr-var-dtype'>float32</div><div class='xr-var-preview xr-preview'>60.88 52.96 45.05 ... -1.677 -1.753</div><input id='attrs-95b429d0-a1b8-4e41-bb5e-e8bad5b79b31' class='xr-var-attrs-in' type='checkbox' disabled><label for='attrs-95b429d0-a1b8-4e41-bb5e-e8bad5b79b31' title='Show/Hide attributes'><svg class='icon xr-icon-file-text2'><use xlink:href='#icon-file-text2'></use></svg></label><input id='data-d462511c-d3c4-43c0-b89a-b1e68a4f4ec7' class='xr-var-data-in' type='checkbox'><label for='data-d462511c-d3c4-43c0-b89a-b1e68a4f4ec7' title='Show/Hide data repr'><svg class='icon xr-icon-database'><use xlink:href='#icon-database'></use></svg></label><div class='xr-var-attrs'><dl class='xr-attrs'></dl></div><div class='xr-var-data'><pre>array([[[[[[ 6.08758240e+01,  5.29637680e+01,  4.50517120e+01, ...,\n",
       "            -2.53247910e+01, -2.53601074e+01, -2.53954239e+01],\n",
       "           [ 6.08758240e+01,  5.29637680e+01,  4.50517120e+01, ...,\n",
       "            -2.53247910e+01, -2.53601074e+01, -2.53954239e+01]],\n",
       "\n",
       "          [[ 6.08758240e+01,  5.56672516e+01,  5.04586830e+01, ...,\n",
       "            -4.31702805e+00, -4.34658003e+00, -4.37613153e+00],\n",
       "           [ 6.08758240e+01,  5.56672516e+01,  5.04586830e+01, ...,\n",
       "            -4.31702805e+00, -4.34658003e+00, -4.37613153e+00]],\n",
       "\n",
       "          [[ 6.08758240e+01,  5.65427399e+01,  5.22096558e+01, ...,\n",
       "             2.49811387e+00,  2.47291946e+00,  2.44772530e+00],\n",
       "           [ 6.08758240e+01,  5.65427399e+01,  5.22096558e+01, ...,\n",
       "             2.49811387e+00,  2.47291946e+00,  2.44772530e+00]],\n",
       "\n",
       "          [[ 6.08758240e+01,  5.69191017e+01,  5.29623756e+01, ...,\n",
       "             6.40305805e+00,  6.39164495e+00,  6.38023233e+00],\n",
       "           [ 6.08758240e+01,  5.69191017e+01,  5.29623756e+01, ...,\n",
       "             6.40305805e+00,  6.39164495e+00,  6.38023233e+00]],\n",
       "\n",
       "...\n",
       "          [[ 7.08770065e+01,  6.47855911e+01,  5.86941757e+01, ...,\n",
       "            -1.73011036e+01, -1.73955898e+01, -1.74900780e+01],\n",
       "           [ 7.08770065e+01,  6.47855911e+01,  5.86941757e+01, ...,\n",
       "            -1.73011036e+01, -1.73955898e+01, -1.74900780e+01]],\n",
       "\n",
       "          [[ 7.08770065e+01,  6.57493057e+01,  6.06216011e+01, ...,\n",
       "            -9.81116390e+00, -9.90057850e+00, -9.98999214e+00],\n",
       "           [ 7.08770065e+01,  6.57493057e+01,  6.06216011e+01, ...,\n",
       "            -9.81116390e+00, -9.90057850e+00, -9.98999214e+00]],\n",
       "\n",
       "          [[ 7.08770065e+01,  6.62427139e+01,  6.16084137e+01, ...,\n",
       "            -4.82297087e+00, -4.89633894e+00, -4.96970749e+00],\n",
       "           [ 7.08770065e+01,  6.62427139e+01,  6.16084137e+01, ...,\n",
       "            -4.82297087e+00, -4.89633894e+00, -4.96970749e+00]],\n",
       "\n",
       "          [[ 7.08770065e+01,  6.66610489e+01,  6.24450912e+01, ...,\n",
       "            -1.60001624e+00, -1.67668688e+00, -1.75335753e+00],\n",
       "           [ 7.08770065e+01,  6.66610489e+01,  6.24450912e+01, ...,\n",
       "            -1.60001624e+00, -1.67668688e+00, -1.75335753e+00]]]]]],\n",
       "      dtype=float32)</pre></div></li><li class='xr-var-item'><div class='xr-var-name'><span>PCC</span></div><div class='xr-var-dims'>(Region, Time, Convergence_year, NegEmis, NonCO2red, Timing, Scenario)</div><div class='xr-var-dtype'>float32</div><div class='xr-var-preview xr-preview'>73.22 73.22 73.22 ... -1.746 -1.753</div><input id='attrs-c64904fd-11bb-4e43-b785-3b322a2f0e27' class='xr-var-attrs-in' type='checkbox' disabled><label for='attrs-c64904fd-11bb-4e43-b785-3b322a2f0e27' title='Show/Hide attributes'><svg class='icon xr-icon-file-text2'><use xlink:href='#icon-file-text2'></use></svg></label><input id='data-2d4abdb5-e005-439e-96ae-60b5edee1303' class='xr-var-data-in' type='checkbox'><label for='data-2d4abdb5-e005-439e-96ae-60b5edee1303' title='Show/Hide data repr'><svg class='icon xr-icon-database'><use xlink:href='#icon-database'></use></svg></label><div class='xr-var-attrs'><dl class='xr-attrs'></dl></div><div class='xr-var-data'><pre>array([[[[[[[ 7.32155685e+01,  7.32155685e+01,  7.32155685e+01,\n",
       "              7.32155685e+01,  7.32155685e+01],\n",
       "            [ 7.32155685e+01,  7.32155685e+01,  7.32155685e+01,\n",
       "              7.32155685e+01,  7.32155685e+01]],\n",
       "\n",
       "           [[ 7.32155685e+01,  7.32155685e+01,  7.32155685e+01,\n",
       "              7.32155685e+01,  7.32155685e+01],\n",
       "            [ 7.32155685e+01,  7.32155685e+01,  7.32155685e+01,\n",
       "              7.32155685e+01,  7.32155685e+01]],\n",
       "\n",
       "           [[ 7.32155685e+01,  7.32155685e+01,  7.32155685e+01,\n",
       "              7.32155685e+01,  7.32155685e+01],\n",
       "            [ 7.32155685e+01,  7.32155685e+01,  7.32155685e+01,\n",
       "              7.32155685e+01,  7.32155685e+01]],\n",
       "\n",
       "           [[ 7.32155685e+01,  7.32155685e+01,  7.32155685e+01,\n",
       "              7.32155685e+01,  7.32155685e+01],\n",
       "            [ 7.32155685e+01,  7.32155685e+01,  7.32155685e+01,\n",
       "              7.32155685e+01,  7.32155685e+01]],\n",
       "\n",
       "...\n",
       "\n",
       "           [[-1.74464111e+01, -1.74322586e+01, -1.74038868e+01,\n",
       "             -1.74159412e+01, -1.74900780e+01],\n",
       "            [-1.74464111e+01, -1.74322586e+01, -1.74038868e+01,\n",
       "             -1.74159412e+01, -1.74900780e+01]],\n",
       "\n",
       "           [[-9.96505070e+00, -9.95696735e+00, -9.94076252e+00,\n",
       "             -9.94764709e+00, -9.98999214e+00],\n",
       "            [-9.96505070e+00, -9.95696735e+00, -9.94076252e+00,\n",
       "             -9.94764709e+00, -9.98999214e+00]],\n",
       "\n",
       "           [[-4.95729971e+00, -4.95327854e+00, -4.94521713e+00,\n",
       "             -4.94864225e+00, -4.96970749e+00],\n",
       "            [-4.95729971e+00, -4.95327854e+00, -4.94521713e+00,\n",
       "             -4.94864225e+00, -4.96970749e+00]],\n",
       "\n",
       "           [[-1.74897993e+00, -1.74756134e+00, -1.74471712e+00,\n",
       "             -1.74592543e+00, -1.75335753e+00],\n",
       "            [-1.74897993e+00, -1.74756134e+00, -1.74471712e+00,\n",
       "             -1.74592543e+00, -1.75335753e+00]]]]]]], dtype=float32)</pre></div></li><li class='xr-var-item'><div class='xr-var-name'><span>ECPC</span></div><div class='xr-var-dims'>(Region, Discount_factor, Historical_startyear, NegEmis, NonCO2red, Timing, Time, Scenario)</div><div class='xr-var-dtype'>float32</div><div class='xr-var-preview xr-preview'>73.22 73.22 73.22 ... -20.0 -5.787</div><input id='attrs-0d67c81a-58d0-433f-9070-26b4d5203cc5' class='xr-var-attrs-in' type='checkbox' disabled><label for='attrs-0d67c81a-58d0-433f-9070-26b4d5203cc5' title='Show/Hide attributes'><svg class='icon xr-icon-file-text2'><use xlink:href='#icon-file-text2'></use></svg></label><input id='data-1bc6f2dc-e150-4a11-928f-bb99c4e3187e' class='xr-var-data-in' type='checkbox'><label for='data-1bc6f2dc-e150-4a11-928f-bb99c4e3187e' title='Show/Hide data repr'><svg class='icon xr-icon-database'><use xlink:href='#icon-database'></use></svg></label><div class='xr-var-attrs'><dl class='xr-attrs'></dl></div><div class='xr-var-data'><pre>array([[[[[[[[ 7.32155685e+01,  7.32155685e+01,  7.32155685e+01,\n",
       "               7.32155685e+01,  7.32155685e+01],\n",
       "             [ 5.73367348e+01,  5.69671288e+01,  5.64093056e+01,\n",
       "               5.63579521e+01,  5.78818550e+01],\n",
       "             [ 4.51852455e+01,  4.46625404e+01,  4.38736649e+01,\n",
       "               4.38010368e+01,  4.59561615e+01],\n",
       "             ...,\n",
       "             [-8.62931213e+01, -8.95364227e+01, -9.44312744e+01,\n",
       "              -9.48819122e+01, -8.15097198e+01],\n",
       "             [-8.66969910e+01, -8.99612808e+01, -9.48878174e+01,\n",
       "              -9.53413696e+01, -8.18826294e+01],\n",
       "             [-8.70985565e+01, -9.03836975e+01, -9.53417206e+01,\n",
       "              -9.57981644e+01, -8.22534256e+01]],\n",
       "\n",
       "            [[ 7.32155685e+01,  7.32155685e+01,  7.32155685e+01,\n",
       "               7.32155685e+01,  7.32155685e+01],\n",
       "             [ 5.73367348e+01,  5.69671288e+01,  5.64093056e+01,\n",
       "               5.63579521e+01,  5.78818550e+01],\n",
       "             [ 4.51852455e+01,  4.46625404e+01,  4.38736649e+01,\n",
       "               4.38010368e+01,  4.59561615e+01],\n",
       "...\n",
       "             [-1.02666111e+01, -1.31066561e+01, -1.72448044e+01,\n",
       "              -1.96140995e+01, -5.58019400e+00],\n",
       "             [-1.04006643e+01, -1.32590914e+01, -1.74240246e+01,\n",
       "              -1.98086548e+01, -5.68391371e+00],\n",
       "             [-1.05343599e+01, -1.34110527e+01, -1.76025982e+01,\n",
       "              -2.00024662e+01, -5.78747034e+00]],\n",
       "\n",
       "            [[ 7.22527542e+01,  7.22527542e+01,  7.22527542e+01,\n",
       "               7.22527542e+01,  7.22527542e+01],\n",
       "             [ 6.69708481e+01,  6.66471939e+01,  6.61756134e+01,\n",
       "               6.59056015e+01,  6.75049133e+01],\n",
       "             [ 6.22654266e+01,  6.18077087e+01,  6.11407890e+01,\n",
       "               6.07589417e+01,  6.30207100e+01],\n",
       "             ...,\n",
       "             [-1.02666111e+01, -1.31066561e+01, -1.72448044e+01,\n",
       "              -1.96140995e+01, -5.58019400e+00],\n",
       "             [-1.04006643e+01, -1.32590914e+01, -1.74240246e+01,\n",
       "              -1.98086548e+01, -5.68391371e+00],\n",
       "             [-1.05343599e+01, -1.34110527e+01, -1.76025982e+01,\n",
       "              -2.00024662e+01, -5.78747034e+00]]]]]]]], dtype=float32)</pre></div></li><li class='xr-var-item'><div class='xr-var-name'><span>AP</span></div><div class='xr-var-dims'>(Region, Scenario, Time, NegEmis, NonCO2red, Timing)</div><div class='xr-var-dtype'>float32</div><div class='xr-var-preview xr-preview'>74.34 74.34 74.34 ... nan nan nan</div><input id='attrs-5b091a62-4629-4bc9-879f-7449938a08be' class='xr-var-attrs-in' type='checkbox' disabled><label for='attrs-5b091a62-4629-4bc9-879f-7449938a08be' title='Show/Hide attributes'><svg class='icon xr-icon-file-text2'><use xlink:href='#icon-file-text2'></use></svg></label><input id='data-df08d2fb-26d4-4f64-b05d-80b0d872131d' class='xr-var-data-in' type='checkbox'><label for='data-df08d2fb-26d4-4f64-b05d-80b0d872131d' title='Show/Hide data repr'><svg class='icon xr-icon-database'><use xlink:href='#icon-database'></use></svg></label><div class='xr-var-attrs'><dl class='xr-attrs'></dl></div><div class='xr-var-data'><pre>array([[[[[[ 7.43421021e+01,  7.43421021e+01],\n",
       "           [ 7.43421021e+01,  7.43421021e+01],\n",
       "           [ 7.43421021e+01,  7.43421021e+01],\n",
       "           [ 7.43421021e+01,  7.43421021e+01],\n",
       "           [ 7.43421021e+01,  7.43421021e+01]],\n",
       "\n",
       "          [[ 7.43421021e+01,  7.43421021e+01],\n",
       "           [ 7.43421021e+01,  7.43421021e+01],\n",
       "           [ 7.43421021e+01,  7.43421021e+01],\n",
       "           [ 7.43421021e+01,  7.43421021e+01],\n",
       "           [ 7.43421021e+01,  7.43421021e+01]],\n",
       "\n",
       "          [[ 7.43421021e+01,  7.43421021e+01],\n",
       "           [ 7.43421021e+01,  7.43421021e+01],\n",
       "           [ 7.43421021e+01,  7.43421021e+01],\n",
       "           [ 7.43421021e+01,  7.43421021e+01],\n",
       "           [ 7.43421021e+01,  7.43421021e+01]],\n",
       "\n",
       "          ...,\n",
       "\n",
       "...\n",
       "\n",
       "          ...,\n",
       "\n",
       "          [[            nan,             nan],\n",
       "           [            nan,             nan],\n",
       "           [            nan,             nan],\n",
       "           [            nan,             nan],\n",
       "           [            nan,             nan]],\n",
       "\n",
       "          [[            nan,             nan],\n",
       "           [            nan,             nan],\n",
       "           [            nan,             nan],\n",
       "           [            nan,             nan],\n",
       "           [            nan,             nan]],\n",
       "\n",
       "          [[            nan,             nan],\n",
       "           [            nan,             nan],\n",
       "           [            nan,             nan],\n",
       "           [            nan,             nan],\n",
       "           [            nan,             nan]]]]]], dtype=float32)</pre></div></li><li class='xr-var-item'><div class='xr-var-name'><span>GDR</span></div><div class='xr-var-dims'>(Region, Scenario, Time, NegEmis, NonCO2red, Timing, Historical_startyear, Capability_threshold, RCI_weight)</div><div class='xr-var-dtype'>float32</div><div class='xr-var-preview xr-preview'>76.27 75.66 75.05 ... nan nan nan</div><input id='attrs-c4bcb4da-0d46-433a-9769-21fc8655614c' class='xr-var-attrs-in' type='checkbox' disabled><label for='attrs-c4bcb4da-0d46-433a-9769-21fc8655614c' title='Show/Hide attributes'><svg class='icon xr-icon-file-text2'><use xlink:href='#icon-file-text2'></use></svg></label><input id='data-c94186b0-c364-47d0-82de-8e91ecf04cbb' class='xr-var-data-in' type='checkbox'><label for='data-c94186b0-c364-47d0-82de-8e91ecf04cbb' title='Show/Hide data repr'><svg class='icon xr-icon-database'><use xlink:href='#icon-database'></use></svg></label><div class='xr-var-attrs'><dl class='xr-attrs'></dl></div><div class='xr-var-data'><pre>array([[[[[[[[[ 7.62690887e+01,  7.56555557e+01,  7.50497131e+01],\n",
       "              [ 7.70466919e+01,  7.62037964e+01,  7.53922424e+01],\n",
       "              [ 7.68361130e+01,  7.60497360e+01,  7.52829666e+01]],\n",
       "\n",
       "             [[ 7.62690887e+01,  7.54755478e+01,  7.46940002e+01],\n",
       "              [ 7.70466919e+01,  7.62381668e+01,  7.54609222e+01],\n",
       "              [ 7.68361130e+01,  7.60655975e+01,  7.53155518e+01]],\n",
       "\n",
       "             [[ 7.62690887e+01,  7.53548279e+01,  7.44635925e+01],\n",
       "              [ 7.70466919e+01,  7.62312241e+01,  7.54580536e+01],\n",
       "              [ 7.68361130e+01,  7.59729462e+01,  7.51437531e+01]]],\n",
       "\n",
       "\n",
       "            [[[ 7.62690887e+01,  7.56555557e+01,  7.50497131e+01],\n",
       "              [ 7.70466919e+01,  7.62037964e+01,  7.53922424e+01],\n",
       "              [ 7.68361130e+01,  7.60497360e+01,  7.52829666e+01]],\n",
       "\n",
       "             [[ 7.62690887e+01,  7.54755478e+01,  7.46940002e+01],\n",
       "              [ 7.70466919e+01,  7.62381668e+01,  7.54609222e+01],\n",
       "              [ 7.68361130e+01,  7.60655975e+01,  7.53155518e+01]],\n",
       "...\n",
       "              [            nan,             nan,             nan],\n",
       "              [            nan,             nan,             nan]],\n",
       "\n",
       "             [[            nan,             nan,             nan],\n",
       "              [            nan,             nan,             nan],\n",
       "              [            nan,             nan,             nan]]],\n",
       "\n",
       "\n",
       "            [[[            nan,             nan,             nan],\n",
       "              [            nan,             nan,             nan],\n",
       "              [            nan,             nan,             nan]],\n",
       "\n",
       "             [[            nan,             nan,             nan],\n",
       "              [            nan,             nan,             nan],\n",
       "              [            nan,             nan,             nan]],\n",
       "\n",
       "             [[            nan,             nan,             nan],\n",
       "              [            nan,             nan,             nan],\n",
       "              [            nan,             nan,             nan]]]]]]]]],\n",
       "      dtype=float32)</pre></div></li><li class='xr-var-item'><div class='xr-var-name'><span>PCB</span></div><div class='xr-var-dims'>(Region, NegEmis, NonCO2red, Timing, Time)</div><div class='xr-var-dtype'>float32</div><div class='xr-var-preview xr-preview'>73.22 59.2 47.82 ... -2.482 -2.565</div><input id='attrs-2f633312-70dc-4eb2-9f95-a24c1cafcb16' class='xr-var-attrs-in' type='checkbox' disabled><label for='attrs-2f633312-70dc-4eb2-9f95-a24c1cafcb16' title='Show/Hide attributes'><svg class='icon xr-icon-file-text2'><use xlink:href='#icon-file-text2'></use></svg></label><input id='data-68b99fe4-89cb-459e-933e-f024d34befea' class='xr-var-data-in' type='checkbox'><label for='data-68b99fe4-89cb-459e-933e-f024d34befea' title='Show/Hide data repr'><svg class='icon xr-icon-database'><use xlink:href='#icon-database'></use></svg></label><div class='xr-var-attrs'><dl class='xr-attrs'></dl></div><div class='xr-var-data'><pre>array([[[[[ 7.32155685e+01,  5.92013016e+01,  4.78221397e+01, ...,\n",
       "           -6.99316254e+01, -7.02295990e+01, -7.05259323e+01],\n",
       "          [ 7.32155685e+01,  5.92013016e+01,  4.78221397e+01, ...,\n",
       "           -6.99316254e+01, -7.02295990e+01, -7.05259323e+01]],\n",
       "\n",
       "         [[ 7.32155685e+01,  6.50202713e+01,  5.79560890e+01, ...,\n",
       "           -2.21359520e+01, -2.22811642e+01, -2.24256744e+01],\n",
       "          [ 7.32155685e+01,  6.50202713e+01,  5.79560890e+01, ...,\n",
       "           -2.21359520e+01, -2.22811642e+01, -2.24256744e+01]],\n",
       "\n",
       "         [[ 7.32155685e+01,  6.76661377e+01,  6.23147049e+01, ...,\n",
       "            3.83800305e-02, -1.11194793e-02, -6.04963116e-02],\n",
       "          [ 7.32155685e+01,  6.76661377e+01,  6.23147049e+01, ...,\n",
       "            3.83800305e-02, -1.11194793e-02, -6.04963116e-02]],\n",
       "\n",
       "         [[ 7.32155685e+01,  6.80054779e+01,  6.30597649e+01, ...,\n",
       "            3.74059653e+00,  3.70123649e+00,  3.66204047e+00],\n",
       "          [ 7.32155685e+01,  6.80054779e+01,  6.30597649e+01, ...,\n",
       "            3.74059653e+00,  3.70123649e+00,  3.66204047e+00]],\n",
       "\n",
       "...\n",
       "         [[ 7.22527542e+01,  6.58264771e+01,  5.95270996e+01, ...,\n",
       "           -1.95377541e+01, -1.96463776e+01, -1.97549248e+01],\n",
       "          [ 7.22527542e+01,  6.58264771e+01,  5.95270996e+01, ...,\n",
       "           -1.95377541e+01, -1.96463776e+01, -1.97549248e+01]],\n",
       "\n",
       "         [[ 7.22527542e+01,  6.68847961e+01,  6.15992737e+01, ...,\n",
       "           -1.12364368e+01, -1.13355789e+01, -1.14346704e+01],\n",
       "          [ 7.22527542e+01,  6.68847961e+01,  6.15992737e+01, ...,\n",
       "           -1.12364368e+01, -1.13355789e+01, -1.14346704e+01]],\n",
       "\n",
       "         [[ 7.22527542e+01,  6.74269562e+01,  6.26606407e+01, ...,\n",
       "           -5.80766392e+00, -5.88822412e+00, -5.96874762e+00],\n",
       "          [ 7.22527542e+01,  6.74269562e+01,  6.26606407e+01, ...,\n",
       "           -5.80766392e+00, -5.88822412e+00, -5.96874762e+00]],\n",
       "\n",
       "         [[ 7.22527542e+01,  6.78674164e+01,  6.35333633e+01, ...,\n",
       "           -2.39925957e+00, -2.48239064e+00, -2.56548977e+00],\n",
       "          [ 7.22527542e+01,  6.78674164e+01,  6.35333633e+01, ...,\n",
       "           -2.39925957e+00, -2.48239064e+00, -2.56548977e+00]]]]],\n",
       "      dtype=float32)</pre></div></li><li class='xr-var-item'><div class='xr-var-name'><span>PCB_lin</span></div><div class='xr-var-dims'>(Region, NegEmis, NonCO2red, Timing, Time)</div><div class='xr-var-dtype'>float32</div><div class='xr-var-preview xr-preview'>73.22 61.43 49.63 ... 0.0 0.0 0.0</div><input id='attrs-4181357f-6119-4078-9158-5201057e1de1' class='xr-var-attrs-in' type='checkbox' disabled><label for='attrs-4181357f-6119-4078-9158-5201057e1de1' title='Show/Hide attributes'><svg class='icon xr-icon-file-text2'><use xlink:href='#icon-file-text2'></use></svg></label><input id='data-a9a3a44c-694c-4634-a184-c510427e6b2d' class='xr-var-data-in' type='checkbox'><label for='data-a9a3a44c-694c-4634-a184-c510427e6b2d' title='Show/Hide data repr'><svg class='icon xr-icon-database'><use xlink:href='#icon-database'></use></svg></label><div class='xr-var-attrs'><dl class='xr-attrs'></dl></div><div class='xr-var-data'><pre>array([[[[[ 73.21557  ,  61.42517  ,  49.63477  , ...,   0.       ,\n",
       "             0.       ,   0.       ],\n",
       "          [ 73.21557  ,  61.42517  ,  49.63477  , ...,   0.       ,\n",
       "             0.       ,   0.       ]],\n",
       "\n",
       "         [[ 73.21557  ,  66.72983  ,  60.244087 , ...,   0.       ,\n",
       "             0.       ,   0.       ],\n",
       "          [ 73.21557  ,  66.72983  ,  60.244087 , ...,   0.       ,\n",
       "             0.       ,   0.       ]],\n",
       "\n",
       "         [[ 73.21557  ,  69.515015 ,  65.81446  , ...,   0.       ,\n",
       "             0.       ,   0.       ],\n",
       "          [ 73.21557  ,  69.515015 ,  65.81446  , ...,   0.       ,\n",
       "             0.       ,   0.       ]],\n",
       "\n",
       "         [[ 73.21557  ,  70.48006  ,  67.74455  , ...,   0.       ,\n",
       "             0.       ,   0.       ],\n",
       "          [ 73.21557  ,  70.48006  ,  67.74455  , ...,   0.       ,\n",
       "             0.       ,   0.       ]],\n",
       "\n",
       "...\n",
       "\n",
       "         [[ 72.252754 ,  66.995224 ,  61.737698 , ...,   0.       ,\n",
       "             0.       ,   0.       ],\n",
       "          [ 72.252754 ,  66.995224 ,  61.737698 , ...,   0.       ,\n",
       "             0.       ,   0.       ]],\n",
       "\n",
       "         [[ 72.252754 ,  68.42328  ,  64.59381  , ...,   0.       ,\n",
       "             0.       ,   0.       ],\n",
       "          [ 72.252754 ,  68.42328  ,  64.59381  , ...,   0.       ,\n",
       "             0.       ,   0.       ]],\n",
       "\n",
       "         [[ 72.252754 ,  69.16427  ,  66.07578  , ...,   0.       ,\n",
       "             0.       ,   0.       ],\n",
       "          [ 72.252754 ,  69.16427  ,  66.07578  , ...,   0.       ,\n",
       "             0.       ,   0.       ]],\n",
       "\n",
       "         [[ 72.252754 ,  69.69352  ,  67.13429  , ...,   0.       ,\n",
       "             0.       ,   0.       ],\n",
       "          [ 72.252754 ,  69.69352  ,  67.13429  , ...,   0.       ,\n",
       "             0.       ,   0.       ]]]]], dtype=float32)</pre></div></li></ul></div></li><li class='xr-section-item'><input id='section-f9c4892f-cb03-4bfa-b791-f1162784f91d' class='xr-section-summary-in' type='checkbox'  ><label for='section-f9c4892f-cb03-4bfa-b791-f1162784f91d' class='xr-section-summary' >Indexes: <span>(11)</span></label><div class='xr-section-inline-details'></div><div class='xr-section-details'><ul class='xr-var-list'><li class='xr-var-item'><div class='xr-index-name'><div>Scenario</div></div><div class='xr-index-preview'>PandasIndex</div><div></div><input id='index-4744e1f6-d797-4aa9-b425-10f3d96dcafc' class='xr-index-data-in' type='checkbox'/><label for='index-4744e1f6-d797-4aa9-b425-10f3d96dcafc' title='Show/Hide index repr'><svg class='icon xr-icon-database'><use xlink:href='#icon-database'></use></svg></label><div class='xr-index-data'><pre>PandasIndex(Index([&#x27;SSP1&#x27;, &#x27;SSP2&#x27;, &#x27;SSP3&#x27;, &#x27;SSP4&#x27;, &#x27;SSP5&#x27;], dtype=&#x27;object&#x27;, name=&#x27;Scenario&#x27;))</pre></div></li><li class='xr-var-item'><div class='xr-index-name'><div>Time</div></div><div class='xr-index-preview'>PandasIndex</div><div></div><input id='index-1a85aa80-6831-455e-9bbf-42017ca4c3b7' class='xr-index-data-in' type='checkbox'/><label for='index-1a85aa80-6831-455e-9bbf-42017ca4c3b7' title='Show/Hide index repr'><svg class='icon xr-icon-database'><use xlink:href='#icon-database'></use></svg></label><div class='xr-index-data'><pre>PandasIndex(Index([2021, 2022, 2023, 2024, 2025, 2026, 2027, 2028, 2029, 2030, 2031, 2032,\n",
       "       2033, 2034, 2035, 2036, 2037, 2038, 2039, 2040, 2041, 2042, 2043, 2044,\n",
       "       2045, 2046, 2047, 2048, 2049, 2050, 2051, 2052, 2053, 2054, 2055, 2056,\n",
       "       2057, 2058, 2059, 2060, 2061, 2062, 2063, 2064, 2065, 2066, 2067, 2068,\n",
       "       2069, 2070, 2071, 2072, 2073, 2074, 2075, 2076, 2077, 2078, 2079, 2080,\n",
       "       2081, 2082, 2083, 2084, 2085, 2086, 2087, 2088, 2089, 2090, 2091, 2092,\n",
       "       2093, 2094, 2095, 2096, 2097, 2098, 2099, 2100],\n",
       "      dtype=&#x27;int32&#x27;, name=&#x27;Time&#x27;))</pre></div></li><li class='xr-var-item'><div class='xr-index-name'><div>NonCO2red</div></div><div class='xr-index-preview'>PandasIndex</div><div></div><input id='index-21e67b21-539e-48ab-9f83-20e2b9dc6457' class='xr-index-data-in' type='checkbox'/><label for='index-21e67b21-539e-48ab-9f83-20e2b9dc6457' title='Show/Hide index repr'><svg class='icon xr-icon-database'><use xlink:href='#icon-database'></use></svg></label><div class='xr-index-data'><pre>PandasIndex(Index([0.1, 0.33, 0.5, 0.67, 0.9], dtype=&#x27;float64&#x27;, name=&#x27;NonCO2red&#x27;))</pre></div></li><li class='xr-var-item'><div class='xr-index-name'><div>NegEmis</div></div><div class='xr-index-preview'>PandasIndex</div><div></div><input id='index-3bcd56d7-c93b-4973-8406-a5862c0bb287' class='xr-index-data-in' type='checkbox'/><label for='index-3bcd56d7-c93b-4973-8406-a5862c0bb287' title='Show/Hide index repr'><svg class='icon xr-icon-database'><use xlink:href='#icon-database'></use></svg></label><div class='xr-index-data'><pre>PandasIndex(Index([0.2, 0.3, 0.4, 0.5, 0.6, 0.7, 0.8], dtype=&#x27;float64&#x27;, name=&#x27;NegEmis&#x27;))</pre></div></li><li class='xr-var-item'><div class='xr-index-name'><div>Timing</div></div><div class='xr-index-preview'>PandasIndex</div><div></div><input id='index-8192512f-6bd6-443c-ab99-baf3c2e0af89' class='xr-index-data-in' type='checkbox'/><label for='index-8192512f-6bd6-443c-ab99-baf3c2e0af89' title='Show/Hide index repr'><svg class='icon xr-icon-database'><use xlink:href='#icon-database'></use></svg></label><div class='xr-index-data'><pre>PandasIndex(Index([&#x27;Immediate&#x27;, &#x27;Delayed&#x27;], dtype=&#x27;object&#x27;, name=&#x27;Timing&#x27;))</pre></div></li><li class='xr-var-item'><div class='xr-index-name'><div>Convergence_year</div></div><div class='xr-index-preview'>PandasIndex</div><div></div><input id='index-df557a54-03d0-4d66-9f03-784d8545ce8f' class='xr-index-data-in' type='checkbox'/><label for='index-df557a54-03d0-4d66-9f03-784d8545ce8f' title='Show/Hide index repr'><svg class='icon xr-icon-database'><use xlink:href='#icon-database'></use></svg></label><div class='xr-index-data'><pre>PandasIndex(Index([2040, 2045, 2050, 2055, 2060, 2065, 2070, 2075, 2080, 2085, 2090, 2095,\n",
       "       2100],\n",
       "      dtype=&#x27;int32&#x27;, name=&#x27;Convergence_year&#x27;))</pre></div></li><li class='xr-var-item'><div class='xr-index-name'><div>Discount_factor</div></div><div class='xr-index-preview'>PandasIndex</div><div></div><input id='index-316411bf-7338-4123-9366-82b2a2b7dc25' class='xr-index-data-in' type='checkbox'/><label for='index-316411bf-7338-4123-9366-82b2a2b7dc25' title='Show/Hide index repr'><svg class='icon xr-icon-database'><use xlink:href='#icon-database'></use></svg></label><div class='xr-index-data'><pre>PandasIndex(Index([0.0, 1.6, 2.0, 2.8], dtype=&#x27;float64&#x27;, name=&#x27;Discount_factor&#x27;))</pre></div></li><li class='xr-var-item'><div class='xr-index-name'><div>Historical_startyear</div></div><div class='xr-index-preview'>PandasIndex</div><div></div><input id='index-bf3b7203-4df4-4bdf-9954-b65faf556ed3' class='xr-index-data-in' type='checkbox'/><label for='index-bf3b7203-4df4-4bdf-9954-b65faf556ed3' title='Show/Hide index repr'><svg class='icon xr-icon-database'><use xlink:href='#icon-database'></use></svg></label><div class='xr-index-data'><pre>PandasIndex(Index([1850, 1950, 1990], dtype=&#x27;int64&#x27;, name=&#x27;Historical_startyear&#x27;))</pre></div></li><li class='xr-var-item'><div class='xr-index-name'><div>Capability_threshold</div></div><div class='xr-index-preview'>PandasIndex</div><div></div><input id='index-48a00d39-2ca4-4e8f-8c3e-79df43160b4b' class='xr-index-data-in' type='checkbox'/><label for='index-48a00d39-2ca4-4e8f-8c3e-79df43160b4b' title='Show/Hide index repr'><svg class='icon xr-icon-database'><use xlink:href='#icon-database'></use></svg></label><div class='xr-index-data'><pre>PandasIndex(Index([&#x27;No&#x27;, &#x27;PrTh&#x27;, &#x27;Th&#x27;], dtype=&#x27;object&#x27;, name=&#x27;Capability_threshold&#x27;))</pre></div></li><li class='xr-var-item'><div class='xr-index-name'><div>RCI_weight</div></div><div class='xr-index-preview'>PandasIndex</div><div></div><input id='index-524f0463-3900-4f64-93ed-f7cb25babed4' class='xr-index-data-in' type='checkbox'/><label for='index-524f0463-3900-4f64-93ed-f7cb25babed4' title='Show/Hide index repr'><svg class='icon xr-icon-database'><use xlink:href='#icon-database'></use></svg></label><div class='xr-index-data'><pre>PandasIndex(Index([&#x27;Cap&#x27;, &#x27;Half&#x27;, &#x27;Resp&#x27;], dtype=&#x27;object&#x27;, name=&#x27;RCI_weight&#x27;))</pre></div></li><li class='xr-var-item'><div class='xr-index-name'><div>Region</div></div><div class='xr-index-preview'>PandasIndex</div><div></div><input id='index-44c19243-76ab-4d36-8496-32eba9fda830' class='xr-index-data-in' type='checkbox'/><label for='index-44c19243-76ab-4d36-8496-32eba9fda830' title='Show/Hide index repr'><svg class='icon xr-icon-database'><use xlink:href='#icon-database'></use></svg></label><div class='xr-index-data'><pre>PandasIndex(Index([&#x27;AUT&#x27;, &#x27;BEL&#x27;, &#x27;BGR&#x27;, &#x27;CYP&#x27;, &#x27;CZE&#x27;, &#x27;DEU&#x27;, &#x27;DNK&#x27;, &#x27;ESP&#x27;, &#x27;EST&#x27;, &#x27;FIN&#x27;,\n",
       "       &#x27;FRA&#x27;, &#x27;GRC&#x27;, &#x27;HRV&#x27;, &#x27;HUN&#x27;, &#x27;IRL&#x27;, &#x27;ITA&#x27;, &#x27;LTU&#x27;, &#x27;LUX&#x27;, &#x27;LVA&#x27;, &#x27;MLT&#x27;,\n",
       "       &#x27;NLD&#x27;, &#x27;POL&#x27;, &#x27;PRT&#x27;, &#x27;ROU&#x27;, &#x27;SVK&#x27;, &#x27;SVN&#x27;, &#x27;SWE&#x27;],\n",
       "      dtype=&#x27;object&#x27;, name=&#x27;Region&#x27;))</pre></div></li></ul></div></li><li class='xr-section-item'><input id='section-812a1fa4-c20d-4e62-bf89-e63092f0c5cd' class='xr-section-summary-in' type='checkbox' disabled ><label for='section-812a1fa4-c20d-4e62-bf89-e63092f0c5cd' class='xr-section-summary'  title='Expand/collapse section'>Attributes: <span>(0)</span></label><div class='xr-section-inline-details'></div><div class='xr-section-details'><dl class='xr-attrs'></dl></div></li></ul></div></div>"
      ],
      "text/plain": [
       "<xarray.Dataset> Size: 165MB\n",
       "Dimensions:               (Region: 27, NegEmis: 7, NonCO2red: 5, Timing: 2,\n",
       "                           Time: 80, Scenario: 5, Convergence_year: 13,\n",
       "                           Discount_factor: 4, Historical_startyear: 3,\n",
       "                           Capability_threshold: 3, RCI_weight: 3)\n",
       "Coordinates: (12/14)\n",
       "  * Scenario              (Scenario) <U4 80B 'SSP1' 'SSP2' 'SSP3' 'SSP4' 'SSP5'\n",
       "  * Time                  (Time) int32 320B 2021 2022 2023 ... 2098 2099 2100\n",
       "  * NonCO2red             (NonCO2red) float64 40B 0.1 0.33 0.5 0.67 0.9\n",
       "  * NegEmis               (NegEmis) float64 56B 0.2 0.3 0.4 0.5 0.6 0.7 0.8\n",
       "  * Timing                (Timing) <U9 72B 'Immediate' 'Delayed'\n",
       "  * Convergence_year      (Convergence_year) int32 52B 2040 2045 ... 2095 2100\n",
       "    ...                    ...\n",
       "  * Capability_threshold  (Capability_threshold) <U4 48B 'No' 'PrTh' 'Th'\n",
       "  * RCI_weight            (RCI_weight) <U4 48B 'Cap' 'Half' 'Resp'\n",
       "  * Region                (Region) object 216B 'AUT' 'BEL' 'BGR' ... 'SVN' 'SWE'\n",
       "    Temperature           float64 8B 1.5\n",
       "    Risk                  float64 8B 0.5\n",
       "    Variable              <U24 96B 'Emissions|N2O|AFOLU|Land'\n",
       "Data variables:\n",
       "    GF                    (Region, NegEmis, NonCO2red, Timing, Time) float32 605kB ...\n",
       "    PC                    (Region, Scenario, NegEmis, NonCO2red, Timing, Time) float32 3MB ...\n",
       "    PCC                   (Region, Time, Convergence_year, NegEmis, NonCO2red, Timing, Scenario) float32 39MB ...\n",
       "    ECPC                  (Region, Discount_factor, Historical_startyear, NegEmis, NonCO2red, Timing, Time, Scenario) float32 36MB ...\n",
       "    AP                    (Region, Scenario, Time, NegEmis, NonCO2red, Timing) float32 3MB ...\n",
       "    GDR                   (Region, Scenario, Time, NegEmis, NonCO2red, Timing, Historical_startyear, Capability_threshold, RCI_weight) float32 82MB ...\n",
       "    PCB                   (Region, NegEmis, NonCO2red, Timing, Time) float32 605kB ...\n",
       "    PCB_lin               (Region, NegEmis, NonCO2red, Timing, Time) float32 605kB ..."
      ]
     },
     "execution_count": 10,
     "metadata": {},
     "output_type": "execute_result"
    }
   ],
   "source": [
    "xrt"
   ]
  },
  {
   "cell_type": "markdown",
   "metadata": {},
   "source": [
    "## Plot"
   ]
  },
  {
   "cell_type": "code",
   "execution_count": 11,
   "metadata": {},
   "outputs": [],
   "source": [
    "rulecolors = ['sienna', 'goldenrod', 'forestgreen', 'mediumvioletred', 'steelblue', 'tomato', 'silver']\n",
    "rules = ['GF', 'PC', 'PCC', 'ECPC', 'AP', 'GDR']\n",
    "standard_settings = {\"NonCO2red\": 0.5,\n",
    "                     \"Timing\": 'Immediate',\n",
    "                     \"NegEmis\": 0.4,\n",
    "                     \"Convergence_year\":2050,\n",
    "                     \"Discount_factor\":0,\n",
    "                     \"Historical_startyear\": 1990,\n",
    "                     \"Capability_threshold\": \"Th\",\n",
    "                     \"RCI_weight\": \"Half\"}"
   ]
  },
  {
   "cell_type": "code",
   "execution_count": 12,
   "metadata": {},
   "outputs": [
    {
     "name": "stderr",
     "output_type": "stream",
     "text": [
      "C:\\Users\\dekkerm\\AppData\\Local\\Temp\\2\\ipykernel_8640\\1970047442.py:81: RuntimeWarning:\n",
      "\n",
      "invalid value encountered in cast\n",
      "\n"
     ]
    },
    {
     "data": {
      "application/vnd.plotly.v1+json": {
       "config": {
        "plotlyServerURL": "https://plot.ly"
       },
       "data": [
        {
         "colorbar": {
          "len": 1,
          "tickfont": {
           "size": 25
          },
          "ticktext": [
           "30%",
           "40%",
           "50%",
           "60%",
           "70%",
           "80%",
           "90%"
          ],
          "tickvals": [
           0.3,
           0.4,
           0.5,
           0.6000000000000001,
           0.7000000000000002,
           0.8000000000000003,
           0.9000000000000001
          ],
          "title": {
           "text": "Emission<br>reduction<br>in 2030<br>w.r.t. 1990"
          },
          "x": 1
         },
         "colorscale": [
          [
           0,
           "rgb(49,54,149)"
          ],
          [
           0.1,
           "rgb(69,117,180)"
          ],
          [
           0.2,
           "rgb(116,173,209)"
          ],
          [
           0.3,
           "rgb(171,217,233)"
          ],
          [
           0.4,
           "rgb(224,243,248)"
          ],
          [
           0.5,
           "rgb(255,255,191)"
          ],
          [
           0.6,
           "rgb(254,224,144)"
          ],
          [
           0.7,
           "rgb(253,174,97)"
          ],
          [
           0.8,
           "rgb(244,109,67)"
          ],
          [
           0.9,
           "rgb(215,48,39)"
          ],
          [
           1,
           "rgb(165,0,38)"
          ]
         ],
         "geo": "geo",
         "hovertemplate": "%{text}",
         "locationmode": "ISO-3",
         "locations": [
          "AUT",
          "BEL",
          "BGR",
          "HRV",
          "CYP",
          "CZE",
          "DNK",
          "EST",
          "FIN",
          "FRA",
          "DEU",
          "GRC",
          "HUN",
          "IRL",
          "ITA",
          "LVA",
          "LTU",
          "LUX",
          "MLT",
          "NLD",
          "POL",
          "PRT",
          "ROU",
          "SVK",
          "SVN",
          "ESP",
          "SWE"
         ],
         "marker": {
          "line": {
           "color": "grey",
           "width": 0.7
          }
         },
         "name": "",
         "showscale": true,
         "text": [
          "AUT: 0.63 Gt CO<sub>2</sub>e",
          "BEL: 0.69 Gt CO<sub>2</sub>e",
          "BGR: 0.81 Gt CO<sub>2</sub>e",
          "HRV: 0.75 Gt CO<sub>2</sub>e",
          "CYP: 0.22 Gt CO<sub>2</sub>e",
          "CZE: 0.78 Gt CO<sub>2</sub>e",
          "DNK: 0.76 Gt CO<sub>2</sub>e",
          "EST: 0.85 Gt CO<sub>2</sub>e",
          "FIN: 0.69 Gt CO<sub>2</sub>e",
          "FRA: 0.72 Gt CO<sub>2</sub>e",
          "DEU: 0.77 Gt CO<sub>2</sub>e",
          "GRC: 0.78 Gt CO<sub>2</sub>e",
          "HUN: 0.77 Gt CO<sub>2</sub>e",
          "IRL: 0.44 Gt CO<sub>2</sub>e",
          "ITA: 0.71 Gt CO<sub>2</sub>e",
          "LVA: 0.79 Gt CO<sub>2</sub>e",
          "LTU: 0.82 Gt CO<sub>2</sub>e",
          "LUX: 0.72 Gt CO<sub>2</sub>e",
          "MLT: 0.74 Gt CO<sub>2</sub>e",
          "NLD: 0.70 Gt CO<sub>2</sub>e",
          "POL: 0.71 Gt CO<sub>2</sub>e",
          "PRT: 0.69 Gt CO<sub>2</sub>e",
          "ROU: 0.84 Gt CO<sub>2</sub>e",
          "SVK: 0.79 Gt CO<sub>2</sub>e",
          "SVN: 0.68 Gt CO<sub>2</sub>e",
          "ESP: 0.63 Gt CO<sub>2</sub>e",
          "SWE: 0.60 Gt CO<sub>2</sub>e"
         ],
         "type": "choropleth",
         "z": [
          0.6282645735415362,
          0.6895096437589192,
          0.811266682392683,
          0.745472717824931,
          0.22391789424032166,
          0.7841432051673349,
          0.7578914383870342,
          0.8528882353674239,
          0.6869044040038262,
          0.721706126450018,
          0.7672795937508265,
          0.7835757075260664,
          0.7700784401751269,
          0.4432282641454415,
          0.7108095409874658,
          0.7865736880687982,
          0.8206077424756851,
          0.7221009048205349,
          0.737231646783281,
          0.6999350580620856,
          0.7118684561292801,
          0.693968965113997,
          0.8355147841367513,
          0.7871091294693796,
          0.6782795089543845,
          0.6260801930525336,
          0.5997795788493842
         ],
         "zmax": 1.01,
         "zmin": 0.29
        },
        {
         "colorbar": {
          "len": 1,
          "tickfont": {
           "size": 25
          },
          "ticktext": [
           "30%",
           "40%",
           "50%",
           "60%",
           "70%",
           "80%",
           "90%"
          ],
          "tickvals": [
           0.3,
           0.4,
           0.5,
           0.6000000000000001,
           0.7000000000000002,
           0.8000000000000003,
           0.9000000000000001
          ],
          "title": {
           "text": "Emission<br>reduction<br>in 2030<br>w.r.t. 1990"
          },
          "x": 1
         },
         "colorscale": [
          [
           0,
           "rgb(49,54,149)"
          ],
          [
           0.1,
           "rgb(69,117,180)"
          ],
          [
           0.2,
           "rgb(116,173,209)"
          ],
          [
           0.3,
           "rgb(171,217,233)"
          ],
          [
           0.4,
           "rgb(224,243,248)"
          ],
          [
           0.5,
           "rgb(255,255,191)"
          ],
          [
           0.6,
           "rgb(254,224,144)"
          ],
          [
           0.7,
           "rgb(253,174,97)"
          ],
          [
           0.8,
           "rgb(244,109,67)"
          ],
          [
           0.9,
           "rgb(215,48,39)"
          ],
          [
           1,
           "rgb(165,0,38)"
          ]
         ],
         "geo": "geo2",
         "hovertemplate": "%{text}",
         "locationmode": "ISO-3",
         "locations": [
          "AUT",
          "BEL",
          "BGR",
          "HRV",
          "CYP",
          "CZE",
          "DNK",
          "EST",
          "FIN",
          "FRA",
          "DEU",
          "GRC",
          "HUN",
          "IRL",
          "ITA",
          "LVA",
          "LTU",
          "LUX",
          "MLT",
          "NLD",
          "POL",
          "PRT",
          "ROU",
          "SVK",
          "SVN",
          "ESP",
          "SWE"
         ],
         "marker": {
          "line": {
           "color": "grey",
           "width": 0.7
          }
         },
         "name": "",
         "showscale": false,
         "text": [
          "AUT: 0.69 Gt CO<sub>2</sub>e",
          "BEL: 0.80 Gt CO<sub>2</sub>e",
          "BGR: 0.82 Gt CO<sub>2</sub>e",
          "HRV: 0.66 Gt CO<sub>2</sub>e",
          "CYP: 0.18 Gt CO<sub>2</sub>e",
          "CZE: 0.85 Gt CO<sub>2</sub>e",
          "DNK: 0.79 Gt CO<sub>2</sub>e",
          "EST: 0.92 Gt CO<sub>2</sub>e",
          "FIN: 0.84 Gt CO<sub>2</sub>e",
          "FRA: 0.69 Gt CO<sub>2</sub>e",
          "DEU: 0.83 Gt CO<sub>2</sub>e",
          "GRC: 0.74 Gt CO<sub>2</sub>e",
          "HUN: 0.74 Gt CO<sub>2</sub>e",
          "IRL: 0.75 Gt CO<sub>2</sub>e",
          "ITA: 0.69 Gt CO<sub>2</sub>e",
          "LVA: 0.82 Gt CO<sub>2</sub>e",
          "LTU: 0.87 Gt CO<sub>2</sub>e",
          "LUX: 0.87 Gt CO<sub>2</sub>e",
          "MLT: 0.49 Gt CO<sub>2</sub>e",
          "NLD: 0.80 Gt CO<sub>2</sub>e",
          "POL: 0.80 Gt CO<sub>2</sub>e",
          "PRT: 0.57 Gt CO<sub>2</sub>e",
          "ROU: 0.78 Gt CO<sub>2</sub>e",
          "SVK: 0.81 Gt CO<sub>2</sub>e",
          "SVN: 0.74 Gt CO<sub>2</sub>e",
          "ESP: 0.57 Gt CO<sub>2</sub>e",
          "SWE: 0.61 Gt CO<sub>2</sub>e"
         ],
         "type": "choropleth",
         "z": [
          0.6910822532201303,
          0.7952419863285731,
          0.8248844709272072,
          0.6584134832514699,
          0.18469069861129728,
          0.850687506748451,
          0.7874849030576602,
          0.9186424856388956,
          0.8409786483302906,
          0.6854983868336779,
          0.8253653689002661,
          0.7440367591230843,
          0.7370938099857783,
          0.7523481366525492,
          0.6932197574724535,
          0.823837437078263,
          0.865816508252189,
          0.8718479272577049,
          0.48667321600810126,
          0.7996057825098836,
          0.7975754975260193,
          0.5697452403074946,
          0.7848712659264808,
          0.8082219926482109,
          0.7382835652220592,
          0.5745365109935432,
          0.6085754285974947
         ],
         "zmax": 1.01,
         "zmin": 0.29
        },
        {
         "colorbar": {
          "len": 1,
          "tickfont": {
           "size": 25
          },
          "ticktext": [
           "30%",
           "40%",
           "50%",
           "60%",
           "70%",
           "80%",
           "90%"
          ],
          "tickvals": [
           0.3,
           0.4,
           0.5,
           0.6000000000000001,
           0.7000000000000002,
           0.8000000000000003,
           0.9000000000000001
          ],
          "title": {
           "text": "Emission<br>reduction<br>in 2030<br>w.r.t. 1990"
          },
          "x": 1
         },
         "colorscale": [
          [
           0,
           "rgb(49,54,149)"
          ],
          [
           0.1,
           "rgb(69,117,180)"
          ],
          [
           0.2,
           "rgb(116,173,209)"
          ],
          [
           0.3,
           "rgb(171,217,233)"
          ],
          [
           0.4,
           "rgb(224,243,248)"
          ],
          [
           0.5,
           "rgb(255,255,191)"
          ],
          [
           0.6,
           "rgb(254,224,144)"
          ],
          [
           0.7,
           "rgb(253,174,97)"
          ],
          [
           0.8,
           "rgb(244,109,67)"
          ],
          [
           0.9,
           "rgb(215,48,39)"
          ],
          [
           1,
           "rgb(165,0,38)"
          ]
         ],
         "geo": "geo3",
         "hovertemplate": "%{text}",
         "locationmode": "ISO-3",
         "locations": [
          "AUT",
          "BEL",
          "BGR",
          "HRV",
          "CYP",
          "CZE",
          "DNK",
          "EST",
          "FIN",
          "FRA",
          "DEU",
          "GRC",
          "HUN",
          "IRL",
          "ITA",
          "LVA",
          "LTU",
          "LUX",
          "MLT",
          "NLD",
          "POL",
          "PRT",
          "ROU",
          "SVK",
          "SVN",
          "ESP",
          "SWE"
         ],
         "marker": {
          "line": {
           "color": "grey",
           "width": 0.7
          }
         },
         "name": "",
         "showscale": false,
         "text": [
          "AUT: 0.65 Gt CO<sub>2</sub>e",
          "BEL: 0.72 Gt CO<sub>2</sub>e",
          "BGR: 0.82 Gt CO<sub>2</sub>e",
          "HRV: 0.72 Gt CO<sub>2</sub>e",
          "CYP: 0.21 Gt CO<sub>2</sub>e",
          "CZE: 0.80 Gt CO<sub>2</sub>e",
          "DNK: 0.77 Gt CO<sub>2</sub>e",
          "EST: 0.87 Gt CO<sub>2</sub>e",
          "FIN: 0.73 Gt CO<sub>2</sub>e",
          "FRA: 0.71 Gt CO<sub>2</sub>e",
          "DEU: 0.79 Gt CO<sub>2</sub>e",
          "GRC: 0.77 Gt CO<sub>2</sub>e",
          "HUN: 0.76 Gt CO<sub>2</sub>e",
          "IRL: 0.54 Gt CO<sub>2</sub>e",
          "ITA: 0.71 Gt CO<sub>2</sub>e",
          "LVA: 0.80 Gt CO<sub>2</sub>e",
          "LTU: 0.83 Gt CO<sub>2</sub>e",
          "LUX: 0.77 Gt CO<sub>2</sub>e",
          "MLT: 0.66 Gt CO<sub>2</sub>e",
          "NLD: 0.73 Gt CO<sub>2</sub>e",
          "POL: 0.74 Gt CO<sub>2</sub>e",
          "PRT: 0.66 Gt CO<sub>2</sub>e",
          "ROU: 0.82 Gt CO<sub>2</sub>e",
          "SVK: 0.79 Gt CO<sub>2</sub>e",
          "SVN: 0.70 Gt CO<sub>2</sub>e",
          "ESP: 0.61 Gt CO<sub>2</sub>e",
          "SWE: 0.60 Gt CO<sub>2</sub>e"
         ],
         "type": "choropleth",
         "z": [
          0.647759754407323,
          0.7223231393322851,
          0.8154929074370332,
          0.7184543368176686,
          0.2117439432560258,
          0.8047948770485011,
          0.767075605431553,
          0.8732947375582697,
          0.7347205425452216,
          0.710469224815872,
          0.7853061763514452,
          0.7713050099847937,
          0.7598418328767578,
          0.5391620253302153,
          0.7053506289514361,
          0.7981383182700484,
          0.8346380365970297,
          0.7685741374615684,
          0.6594721650616892,
          0.7308673624293921,
          0.7384671845321986,
          0.6554167939155834,
          0.8197978324810444,
          0.7936613991459236,
          0.6969014645638907,
          0.6100838742598262,
          0.6025093156785857
         ],
         "zmax": 1.01,
         "zmin": 0.29
        },
        {
         "colorbar": {
          "len": 1,
          "tickfont": {
           "size": 25
          },
          "ticktext": [
           "30%",
           "40%",
           "50%",
           "60%",
           "70%",
           "80%",
           "90%"
          ],
          "tickvals": [
           0.3,
           0.4,
           0.5,
           0.6000000000000001,
           0.7000000000000002,
           0.8000000000000003,
           0.9000000000000001
          ],
          "title": {
           "text": "Emission<br>reduction<br>in 2030<br>w.r.t. 1990"
          },
          "x": 1
         },
         "colorscale": [
          [
           0,
           "rgb(49,54,149)"
          ],
          [
           0.1,
           "rgb(69,117,180)"
          ],
          [
           0.2,
           "rgb(116,173,209)"
          ],
          [
           0.3,
           "rgb(171,217,233)"
          ],
          [
           0.4,
           "rgb(224,243,248)"
          ],
          [
           0.5,
           "rgb(255,255,191)"
          ],
          [
           0.6,
           "rgb(254,224,144)"
          ],
          [
           0.7,
           "rgb(253,174,97)"
          ],
          [
           0.8,
           "rgb(244,109,67)"
          ],
          [
           0.9,
           "rgb(215,48,39)"
          ],
          [
           1,
           "rgb(165,0,38)"
          ]
         ],
         "geo": "geo4",
         "hovertemplate": "%{text}",
         "locationmode": "ISO-3",
         "locations": [
          "AUT",
          "BEL",
          "BGR",
          "HRV",
          "CYP",
          "CZE",
          "DNK",
          "EST",
          "FIN",
          "FRA",
          "DEU",
          "GRC",
          "HUN",
          "IRL",
          "ITA",
          "LVA",
          "LTU",
          "LUX",
          "MLT",
          "NLD",
          "POL",
          "PRT",
          "ROU",
          "SVK",
          "SVN",
          "ESP",
          "SWE"
         ],
         "marker": {
          "line": {
           "color": "grey",
           "width": 0.7
          }
         },
         "name": "",
         "showscale": false,
         "text": [
          "AUT: 0.74 Gt CO<sub>2</sub>e",
          "BEL: 0.83 Gt CO<sub>2</sub>e",
          "BGR: 0.90 Gt CO<sub>2</sub>e",
          "HRV: 0.81 Gt CO<sub>2</sub>e",
          "CYP: 0.27 Gt CO<sub>2</sub>e",
          "CZE: 0.89 Gt CO<sub>2</sub>e",
          "DNK: 0.88 Gt CO<sub>2</sub>e",
          "EST: 0.95 Gt CO<sub>2</sub>e",
          "FIN: 0.87 Gt CO<sub>2</sub>e",
          "FRA: 0.79 Gt CO<sub>2</sub>e",
          "DEU: 0.89 Gt CO<sub>2</sub>e",
          "GRC: 0.91 Gt CO<sub>2</sub>e",
          "HUN: 0.84 Gt CO<sub>2</sub>e",
          "IRL: 0.64 Gt CO<sub>2</sub>e",
          "ITA: 0.81 Gt CO<sub>2</sub>e",
          "LVA: 0.86 Gt CO<sub>2</sub>e",
          "LTU: 0.91 Gt CO<sub>2</sub>e",
          "LUX: 0.87 Gt CO<sub>2</sub>e",
          "MLT: 0.73 Gt CO<sub>2</sub>e",
          "NLD: 0.85 Gt CO<sub>2</sub>e",
          "POL: 0.84 Gt CO<sub>2</sub>e",
          "PRT: 0.77 Gt CO<sub>2</sub>e",
          "ROU: 0.90 Gt CO<sub>2</sub>e",
          "SVK: 0.87 Gt CO<sub>2</sub>e",
          "SVN: 0.81 Gt CO<sub>2</sub>e",
          "ESP: 0.71 Gt CO<sub>2</sub>e",
          "SWE: 0.68 Gt CO<sub>2</sub>e"
         ],
         "type": "choropleth",
         "z": [
          0.7446368186680817,
          0.8313146483761803,
          0.9023448944450361,
          0.8057602429575225,
          0.26667026094986357,
          0.8947462866267109,
          0.87759134987832,
          0.9490264601841804,
          0.8747572541129203,
          0.785694680158412,
          0.8850033055493102,
          0.9075496806659836,
          0.8422386128550399,
          0.6394478746164651,
          0.8135686665760534,
          0.8599299777380202,
          0.9134976699170407,
          0.8722149405097925,
          0.732000314695345,
          0.8501000918154601,
          0.8395178620794288,
          0.7748093304563157,
          0.8960122069500236,
          0.8712803507276535,
          0.8111213693910665,
          0.7088788679949908,
          0.6839613623653837
         ],
         "zmax": 1.01,
         "zmin": 0.29
        },
        {
         "colorbar": {
          "len": 1,
          "tickfont": {
           "size": 25
          },
          "ticktext": [
           "30%",
           "40%",
           "50%",
           "60%",
           "70%",
           "80%",
           "90%"
          ],
          "tickvals": [
           0.3,
           0.4,
           0.5,
           0.6000000000000001,
           0.7000000000000002,
           0.8000000000000003,
           0.9000000000000001
          ],
          "title": {
           "text": "Emission<br>reduction<br>in 2030<br>w.r.t. 1990"
          },
          "x": 1
         },
         "colorscale": [
          [
           0,
           "rgb(49,54,149)"
          ],
          [
           0.1,
           "rgb(69,117,180)"
          ],
          [
           0.2,
           "rgb(116,173,209)"
          ],
          [
           0.3,
           "rgb(171,217,233)"
          ],
          [
           0.4,
           "rgb(224,243,248)"
          ],
          [
           0.5,
           "rgb(255,255,191)"
          ],
          [
           0.6,
           "rgb(254,224,144)"
          ],
          [
           0.7,
           "rgb(253,174,97)"
          ],
          [
           0.8,
           "rgb(244,109,67)"
          ],
          [
           0.9,
           "rgb(215,48,39)"
          ],
          [
           1,
           "rgb(165,0,38)"
          ]
         ],
         "geo": "geo5",
         "hovertemplate": "%{text}",
         "locationmode": "ISO-3",
         "locations": [
          "AUT",
          "BEL",
          "BGR",
          "HRV",
          "CYP",
          "CZE",
          "DNK",
          "EST",
          "FIN",
          "FRA",
          "DEU",
          "GRC",
          "HUN",
          "IRL",
          "ITA",
          "LVA",
          "LTU",
          "LUX",
          "MLT",
          "NLD",
          "POL",
          "PRT",
          "ROU",
          "SVK",
          "SVN",
          "ESP",
          "SWE"
         ],
         "marker": {
          "line": {
           "color": "grey",
           "width": 0.7
          }
         },
         "name": "",
         "showscale": false,
         "text": [
          "AUT: 0.92 Gt CO<sub>2</sub>e",
          "BEL: 0.92 Gt CO<sub>2</sub>e",
          "BGR: 0.88 Gt CO<sub>2</sub>e",
          "HRV: 0.88 Gt CO<sub>2</sub>e",
          "CYP: 0.66 Gt CO<sub>2</sub>e",
          "CZE: 0.90 Gt CO<sub>2</sub>e",
          "DNK: 0.96 Gt CO<sub>2</sub>e",
          "EST: 0.94 Gt CO<sub>2</sub>e",
          "FIN: 0.92 Gt CO<sub>2</sub>e",
          "FRA: 0.91 Gt CO<sub>2</sub>e",
          "DEU: 0.94 Gt CO<sub>2</sub>e",
          "GRC: 0.89 Gt CO<sub>2</sub>e",
          "HUN: 0.89 Gt CO<sub>2</sub>e",
          "IRL: 1.20 Gt CO<sub>2</sub>e",
          "ITA: 0.88 Gt CO<sub>2</sub>e",
          "LVA: 0.89 Gt CO<sub>2</sub>e",
          "LTU: 0.94 Gt CO<sub>2</sub>e",
          "LUX: 1.11 Gt CO<sub>2</sub>e",
          "MLT: 0.96 Gt CO<sub>2</sub>e",
          "NLD: 0.95 Gt CO<sub>2</sub>e",
          "POL: 0.87 Gt CO<sub>2</sub>e",
          "PRT: 0.86 Gt CO<sub>2</sub>e",
          "ROU: 0.91 Gt CO<sub>2</sub>e",
          "SVK: nan Gt CO<sub>2</sub>e",
          "SVN: 0.87 Gt CO<sub>2</sub>e",
          "ESP: 0.84 Gt CO<sub>2</sub>e",
          "SWE: 0.93 Gt CO<sub>2</sub>e"
         ],
         "type": "choropleth",
         "z": [
          0.9216172020508198,
          0.9216143461899736,
          0.8827685543388476,
          0.8815539420248041,
          0.6603409640879075,
          0.8997382263069362,
          0.9559399888600182,
          0.9436417811621332,
          0.9150205187255417,
          0.9094489554830774,
          0.942689019669945,
          0.891219365366997,
          0.8911833923575668,
          1.1995592622550078,
          0.8827630232288152,
          0.8919472063467845,
          0.9357144490974587,
          1.1132338944646751,
          0.9639233677408068,
          0.9485163970517712,
          0.8706476770478633,
          0.8591321421751105,
          0.9100417291970321,
          null,
          0.8736645905180049,
          0.8399013580856789,
          0.926339680835823
         ],
         "zmax": 1.01,
         "zmin": 0.29
        },
        {
         "colorbar": {
          "len": 1,
          "tickfont": {
           "size": 25
          },
          "ticktext": [
           "30%",
           "40%",
           "50%",
           "60%",
           "70%",
           "80%",
           "90%"
          ],
          "tickvals": [
           0.3,
           0.4,
           0.5,
           0.6000000000000001,
           0.7000000000000002,
           0.8000000000000003,
           0.9000000000000001
          ],
          "title": {
           "text": "Emission<br>reduction<br>in 2030<br>w.r.t. 1990"
          },
          "x": 1
         },
         "colorscale": [
          [
           0,
           "rgb(49,54,149)"
          ],
          [
           0.1,
           "rgb(69,117,180)"
          ],
          [
           0.2,
           "rgb(116,173,209)"
          ],
          [
           0.3,
           "rgb(171,217,233)"
          ],
          [
           0.4,
           "rgb(224,243,248)"
          ],
          [
           0.5,
           "rgb(255,255,191)"
          ],
          [
           0.6,
           "rgb(254,224,144)"
          ],
          [
           0.7,
           "rgb(253,174,97)"
          ],
          [
           0.8,
           "rgb(244,109,67)"
          ],
          [
           0.9,
           "rgb(215,48,39)"
          ],
          [
           1,
           "rgb(165,0,38)"
          ]
         ],
         "geo": "geo6",
         "hovertemplate": "%{text}",
         "locationmode": "ISO-3",
         "locations": [
          "AUT",
          "BEL",
          "BGR",
          "HRV",
          "CYP",
          "CZE",
          "DNK",
          "EST",
          "FIN",
          "FRA",
          "DEU",
          "GRC",
          "HUN",
          "IRL",
          "ITA",
          "LVA",
          "LTU",
          "LUX",
          "MLT",
          "NLD",
          "POL",
          "PRT",
          "ROU",
          "SVK",
          "SVN",
          "ESP",
          "SWE"
         ],
         "marker": {
          "line": {
           "color": "grey",
           "width": 0.7
          }
         },
         "name": "",
         "showscale": false,
         "text": [
          "AUT: 2.48 Gt CO<sub>2</sub>e",
          "BEL: 1.85 Gt CO<sub>2</sub>e",
          "BGR: 0.92 Gt CO<sub>2</sub>e",
          "HRV: 1.33 Gt CO<sub>2</sub>e",
          "CYP: 2.35 Gt CO<sub>2</sub>e",
          "CZE: 1.32 Gt CO<sub>2</sub>e",
          "DNK: 2.48 Gt CO<sub>2</sub>e",
          "EST: 1.18 Gt CO<sub>2</sub>e",
          "FIN: 1.61 Gt CO<sub>2</sub>e",
          "FRA: 2.35 Gt CO<sub>2</sub>e",
          "DEU: 1.89 Gt CO<sub>2</sub>e",
          "GRC: 1.71 Gt CO<sub>2</sub>e",
          "HUN: 1.29 Gt CO<sub>2</sub>e",
          "IRL: 3.46 Gt CO<sub>2</sub>e",
          "ITA: 1.95 Gt CO<sub>2</sub>e",
          "LVA: 0.98 Gt CO<sub>2</sub>e",
          "LTU: 1.06 Gt CO<sub>2</sub>e",
          "LUX: 2.68 Gt CO<sub>2</sub>e",
          "MLT: 2.72 Gt CO<sub>2</sub>e",
          "NLD: 2.16 Gt CO<sub>2</sub>e",
          "POL: 1.07 Gt CO<sub>2</sub>e",
          "PRT: 1.96 Gt CO<sub>2</sub>e",
          "ROU: 1.06 Gt CO<sub>2</sub>e",
          "SVK: nan Gt CO<sub>2</sub>e",
          "SVN: 1.55 Gt CO<sub>2</sub>e",
          "ESP: 2.25 Gt CO<sub>2</sub>e",
          "SWE: 3.09 Gt CO<sub>2</sub>e"
         ],
         "type": "choropleth",
         "z": [
          2.478462936476102,
          1.8475210817404215,
          0.9238149644838631,
          1.326778664798965,
          2.347094319518929,
          1.3225677098976483,
          2.4849284042519777,
          1.175789550550482,
          1.6148103163036915,
          2.3503615407368446,
          1.8867068463135996,
          1.7118158630478155,
          1.2898572326455293,
          3.4648964552623127,
          1.9523466109190946,
          0.9766463403660544,
          1.062226600147979,
          2.680241002132797,
          2.718086964901528,
          2.159290065547746,
          1.072895734892697,
          1.9584622772490876,
          1.056795620893829,
          null,
          1.549837424703385,
          2.2485680397221715,
          3.087523056590246
         ],
         "zmax": 1.01,
         "zmin": 0.29
        },
        {
         "featureidkey": "properties.NAME_3",
         "geo": "geo",
         "hoverinfo": "skip",
         "locations": [
          "AUT",
          "BEL",
          "BGR",
          "HRV",
          "CYP",
          "CZE",
          "DNK",
          "EST",
          "FIN",
          "FRA",
          "DEU",
          "GRC",
          "HUN",
          "IRL",
          "ITA",
          "LVA",
          "LTU",
          "LUX",
          "MLT",
          "NLD",
          "POL",
          "PRT",
          "ROU",
          "SVK",
          "SVN",
          "ESP",
          "SWE"
         ],
         "mode": "text",
         "showlegend": false,
         "text": [
          "62%",
          "68%",
          "81%",
          "74%",
          "22%",
          "78%",
          "75%",
          "85%",
          "68%",
          "72%",
          "76%",
          "78%",
          "77%",
          "44%",
          "71%",
          "78%",
          "82%",
          "72%",
          "73%",
          "69%",
          "71%",
          "69%",
          "83%",
          "78%",
          "67%",
          "62%",
          "59%"
         ],
         "textfont": {
          "color": "black",
          "size": 20
         },
         "type": "scattergeo"
        },
        {
         "featureidkey": "properties.NAME_3",
         "geo": "geo2",
         "hoverinfo": "skip",
         "locations": [
          "AUT",
          "BEL",
          "BGR",
          "HRV",
          "CYP",
          "CZE",
          "DNK",
          "EST",
          "FIN",
          "FRA",
          "DEU",
          "GRC",
          "HUN",
          "IRL",
          "ITA",
          "LVA",
          "LTU",
          "LUX",
          "MLT",
          "NLD",
          "POL",
          "PRT",
          "ROU",
          "SVK",
          "SVN",
          "ESP",
          "SWE"
         ],
         "mode": "text",
         "showlegend": false,
         "text": [
          "69%",
          "79%",
          "82%",
          "65%",
          "18%",
          "85%",
          "78%",
          "91%",
          "84%",
          "68%",
          "82%",
          "74%",
          "73%",
          "75%",
          "69%",
          "82%",
          "86%",
          "87%",
          "48%",
          "79%",
          "79%",
          "56%",
          "78%",
          "80%",
          "73%",
          "57%",
          "60%"
         ],
         "textfont": {
          "color": "black",
          "size": 20
         },
         "type": "scattergeo"
        },
        {
         "featureidkey": "properties.NAME_3",
         "geo": "geo3",
         "hoverinfo": "skip",
         "locations": [
          "AUT",
          "BEL",
          "BGR",
          "HRV",
          "CYP",
          "CZE",
          "DNK",
          "EST",
          "FIN",
          "FRA",
          "DEU",
          "GRC",
          "HUN",
          "IRL",
          "ITA",
          "LVA",
          "LTU",
          "LUX",
          "MLT",
          "NLD",
          "POL",
          "PRT",
          "ROU",
          "SVK",
          "SVN",
          "ESP",
          "SWE"
         ],
         "mode": "text",
         "showlegend": false,
         "text": [
          "64%",
          "72%",
          "81%",
          "71%",
          "21%",
          "80%",
          "76%",
          "87%",
          "73%",
          "71%",
          "78%",
          "77%",
          "75%",
          "53%",
          "70%",
          "79%",
          "83%",
          "76%",
          "65%",
          "73%",
          "73%",
          "65%",
          "81%",
          "79%",
          "69%",
          "61%",
          "60%"
         ],
         "textfont": {
          "color": "black",
          "size": 20
         },
         "type": "scattergeo"
        },
        {
         "featureidkey": "properties.NAME_3",
         "geo": "geo4",
         "hoverinfo": "skip",
         "locations": [
          "AUT",
          "BEL",
          "BGR",
          "HRV",
          "CYP",
          "CZE",
          "DNK",
          "EST",
          "FIN",
          "FRA",
          "DEU",
          "GRC",
          "HUN",
          "IRL",
          "ITA",
          "LVA",
          "LTU",
          "LUX",
          "MLT",
          "NLD",
          "POL",
          "PRT",
          "ROU",
          "SVK",
          "SVN",
          "ESP",
          "SWE"
         ],
         "mode": "text",
         "showlegend": false,
         "text": [
          "74%",
          "83%",
          "90%",
          "80%",
          "26%",
          "89%",
          "87%",
          "94%",
          "87%",
          "78%",
          "88%",
          "90%",
          "84%",
          "63%",
          "81%",
          "85%",
          "91%",
          "87%",
          "73%",
          "85%",
          "83%",
          "77%",
          "89%",
          "87%",
          "81%",
          "70%",
          "68%"
         ],
         "textfont": {
          "color": "black",
          "size": 20
         },
         "type": "scattergeo"
        },
        {
         "featureidkey": "properties.NAME_3",
         "geo": "geo5",
         "hoverinfo": "skip",
         "locations": [
          "AUT",
          "BEL",
          "BGR",
          "HRV",
          "CYP",
          "CZE",
          "DNK",
          "EST",
          "FIN",
          "FRA",
          "DEU",
          "GRC",
          "HUN",
          "IRL",
          "ITA",
          "LVA",
          "LTU",
          "LUX",
          "MLT",
          "NLD",
          "POL",
          "PRT",
          "ROU",
          "SVK",
          "SVN",
          "ESP",
          "SWE"
         ],
         "mode": "text",
         "showlegend": false,
         "text": [
          "92%",
          "92%",
          "88%",
          "88%",
          "66%",
          "89%",
          "95%",
          "94%",
          "91%",
          "90%",
          "94%",
          "89%",
          "89%",
          "119%",
          "88%",
          "89%",
          "93%",
          "111%",
          "96%",
          "94%",
          "87%",
          "85%",
          "91%",
          "91%",
          "87%",
          "83%",
          "92%"
         ],
         "textfont": {
          "color": "black",
          "size": 20
         },
         "type": "scattergeo"
        },
        {
         "featureidkey": "properties.NAME_3",
         "geo": "geo6",
         "hoverinfo": "skip",
         "locations": [
          "AUT",
          "BEL",
          "BGR",
          "HRV",
          "CYP",
          "CZE",
          "DNK",
          "EST",
          "FIN",
          "FRA",
          "DEU",
          "GRC",
          "HUN",
          "IRL",
          "ITA",
          "LVA",
          "LTU",
          "LUX",
          "MLT",
          "NLD",
          "POL",
          "PRT",
          "ROU",
          "SVK",
          "SVN",
          "ESP",
          "SWE"
         ],
         "mode": "text",
         "showlegend": false,
         "text": [
          "247%",
          "184%",
          "92%",
          "132%",
          "234%",
          "132%",
          "248%",
          "117%",
          "161%",
          "235%",
          "188%",
          "171%",
          "128%",
          "346%",
          "195%",
          "97%",
          "106%",
          "268%",
          "271%",
          "215%",
          "107%",
          "195%",
          "105%",
          "187%",
          "154%",
          "224%",
          "308%"
         ],
         "textfont": {
          "color": "black",
          "size": 20
         },
         "type": "scattergeo"
        }
       ],
       "layout": {
        "annotations": [
         {
          "align": "left",
          "ax": 0,
          "ay": 0,
          "font": {
           "color": "black",
           "size": 25
          },
          "showarrow": false,
          "text": "<b>(a) Grandfathering</b>",
          "x": 0.07,
          "xref": "paper",
          "y": 0.96,
          "yref": "paper"
         },
         {
          "align": "left",
          "ax": 0,
          "ay": 0,
          "font": {
           "color": "black",
           "size": 25
          },
          "showarrow": false,
          "text": "<b>(b) Per Capita</b>",
          "x": 0.47,
          "xref": "paper",
          "y": 0.96,
          "yref": "paper"
         },
         {
          "align": "left",
          "ax": 0,
          "ay": 0,
          "font": {
           "color": "black",
           "size": 25
          },
          "showarrow": false,
          "text": "<b>(c) Per Capita Convergence</b>",
          "x": 0.9,
          "xref": "paper",
          "y": 0.96,
          "yref": "paper"
         },
         {
          "align": "left",
          "ax": 0,
          "ay": 0,
          "font": {
           "color": "black",
           "size": 25
          },
          "showarrow": false,
          "text": "<b>(d) Equal Cumulative per Capita</b>",
          "x": 0.07,
          "xref": "paper",
          "y": 0.45,
          "yref": "paper"
         },
         {
          "align": "left",
          "ax": 0,
          "ay": 0,
          "font": {
           "color": "black",
           "size": 25
          },
          "showarrow": false,
          "text": "<b>(e) Ability to Pay</b>",
          "x": 0.48,
          "xref": "paper",
          "y": 0.45,
          "yref": "paper"
         },
         {
          "align": "left",
          "ax": 0,
          "ay": 0,
          "font": {
           "color": "black",
           "size": 25
          },
          "showarrow": false,
          "text": "<b>(f) Greenhouse Development Rights</b>",
          "x": 0.95,
          "xref": "paper",
          "y": 0.45,
          "yref": "paper"
         }
        ],
        "geo": {
         "domain": {
          "x": [
           0,
           0.3333333333333333
          ],
          "y": [
           0.5,
           1
          ]
         },
         "lakecolor": "rgb(255, 255, 255)",
         "lataxis": {
          "range": [
           30,
           75
          ]
         },
         "lonaxis": {
          "range": [
           -20,
           40
          ]
         },
         "projection": {
          "type": "natural earth"
         },
         "resolution": 50,
         "scope": "europe",
         "showcoastlines": false,
         "showcountries": false,
         "showlakes": true,
         "visible": true
        },
        "geo2": {
         "domain": {
          "x": [
           0.3333333333333333,
           0.6666666666666666
          ],
          "y": [
           0.5,
           1
          ]
         },
         "lakecolor": "rgb(255, 255, 255)",
         "lataxis": {
          "range": [
           30,
           75
          ]
         },
         "lonaxis": {
          "range": [
           -20,
           40
          ]
         },
         "projection": {
          "type": "natural earth"
         },
         "resolution": 50,
         "scope": "europe",
         "showcoastlines": false,
         "showcountries": false,
         "showlakes": true,
         "visible": true
        },
        "geo3": {
         "domain": {
          "x": [
           0.6666666666666666,
           1
          ],
          "y": [
           0.5,
           1
          ]
         },
         "lakecolor": "rgb(255, 255, 255)",
         "lataxis": {
          "range": [
           30,
           75
          ]
         },
         "lonaxis": {
          "range": [
           -20,
           40
          ]
         },
         "projection": {
          "type": "natural earth"
         },
         "resolution": 50,
         "scope": "europe",
         "showcoastlines": false,
         "showcountries": false,
         "showlakes": true,
         "visible": true
        },
        "geo4": {
         "domain": {
          "x": [
           0,
           0.3333333333333333
          ],
          "y": [
           0,
           0.5
          ]
         },
         "lakecolor": "rgb(255, 255, 255)",
         "lataxis": {
          "range": [
           30,
           75
          ]
         },
         "lonaxis": {
          "range": [
           -20,
           40
          ]
         },
         "projection": {
          "type": "natural earth"
         },
         "resolution": 50,
         "scope": "europe",
         "showcoastlines": false,
         "showcountries": false,
         "showlakes": true,
         "visible": true
        },
        "geo5": {
         "domain": {
          "x": [
           0.3333333333333333,
           0.6666666666666666
          ],
          "y": [
           0,
           0.5
          ]
         },
         "lakecolor": "rgb(255, 255, 255)",
         "lataxis": {
          "range": [
           30,
           75
          ]
         },
         "lonaxis": {
          "range": [
           -20,
           40
          ]
         },
         "projection": {
          "type": "natural earth"
         },
         "resolution": 50,
         "scope": "europe",
         "showcoastlines": false,
         "showcountries": false,
         "showlakes": true,
         "visible": true
        },
        "geo6": {
         "domain": {
          "x": [
           0.6666666666666666,
           1
          ],
          "y": [
           0,
           0.5
          ]
         },
         "lakecolor": "rgb(255, 255, 255)",
         "lataxis": {
          "range": [
           30,
           75
          ]
         },
         "lonaxis": {
          "range": [
           -20,
           40
          ]
         },
         "projection": {
          "type": "natural earth"
         },
         "resolution": 50,
         "scope": "europe",
         "showcoastlines": false,
         "showcountries": false,
         "showlakes": true,
         "visible": true
        },
        "height": 1200,
        "margin": {
         "b": 0,
         "l": 0,
         "r": 0,
         "t": 0
        },
        "template": {
         "data": {
          "bar": [
           {
            "error_x": {
             "color": "#2a3f5f"
            },
            "error_y": {
             "color": "#2a3f5f"
            },
            "marker": {
             "line": {
              "color": "#E5ECF6",
              "width": 0.5
             },
             "pattern": {
              "fillmode": "overlay",
              "size": 10,
              "solidity": 0.2
             }
            },
            "type": "bar"
           }
          ],
          "barpolar": [
           {
            "marker": {
             "line": {
              "color": "#E5ECF6",
              "width": 0.5
             },
             "pattern": {
              "fillmode": "overlay",
              "size": 10,
              "solidity": 0.2
             }
            },
            "type": "barpolar"
           }
          ],
          "carpet": [
           {
            "aaxis": {
             "endlinecolor": "#2a3f5f",
             "gridcolor": "white",
             "linecolor": "white",
             "minorgridcolor": "white",
             "startlinecolor": "#2a3f5f"
            },
            "baxis": {
             "endlinecolor": "#2a3f5f",
             "gridcolor": "white",
             "linecolor": "white",
             "minorgridcolor": "white",
             "startlinecolor": "#2a3f5f"
            },
            "type": "carpet"
           }
          ],
          "choropleth": [
           {
            "colorbar": {
             "outlinewidth": 0,
             "ticks": ""
            },
            "type": "choropleth"
           }
          ],
          "contour": [
           {
            "colorbar": {
             "outlinewidth": 0,
             "ticks": ""
            },
            "colorscale": [
             [
              0,
              "#0d0887"
             ],
             [
              0.1111111111111111,
              "#46039f"
             ],
             [
              0.2222222222222222,
              "#7201a8"
             ],
             [
              0.3333333333333333,
              "#9c179e"
             ],
             [
              0.4444444444444444,
              "#bd3786"
             ],
             [
              0.5555555555555556,
              "#d8576b"
             ],
             [
              0.6666666666666666,
              "#ed7953"
             ],
             [
              0.7777777777777778,
              "#fb9f3a"
             ],
             [
              0.8888888888888888,
              "#fdca26"
             ],
             [
              1,
              "#f0f921"
             ]
            ],
            "type": "contour"
           }
          ],
          "contourcarpet": [
           {
            "colorbar": {
             "outlinewidth": 0,
             "ticks": ""
            },
            "type": "contourcarpet"
           }
          ],
          "heatmap": [
           {
            "colorbar": {
             "outlinewidth": 0,
             "ticks": ""
            },
            "colorscale": [
             [
              0,
              "#0d0887"
             ],
             [
              0.1111111111111111,
              "#46039f"
             ],
             [
              0.2222222222222222,
              "#7201a8"
             ],
             [
              0.3333333333333333,
              "#9c179e"
             ],
             [
              0.4444444444444444,
              "#bd3786"
             ],
             [
              0.5555555555555556,
              "#d8576b"
             ],
             [
              0.6666666666666666,
              "#ed7953"
             ],
             [
              0.7777777777777778,
              "#fb9f3a"
             ],
             [
              0.8888888888888888,
              "#fdca26"
             ],
             [
              1,
              "#f0f921"
             ]
            ],
            "type": "heatmap"
           }
          ],
          "heatmapgl": [
           {
            "colorbar": {
             "outlinewidth": 0,
             "ticks": ""
            },
            "colorscale": [
             [
              0,
              "#0d0887"
             ],
             [
              0.1111111111111111,
              "#46039f"
             ],
             [
              0.2222222222222222,
              "#7201a8"
             ],
             [
              0.3333333333333333,
              "#9c179e"
             ],
             [
              0.4444444444444444,
              "#bd3786"
             ],
             [
              0.5555555555555556,
              "#d8576b"
             ],
             [
              0.6666666666666666,
              "#ed7953"
             ],
             [
              0.7777777777777778,
              "#fb9f3a"
             ],
             [
              0.8888888888888888,
              "#fdca26"
             ],
             [
              1,
              "#f0f921"
             ]
            ],
            "type": "heatmapgl"
           }
          ],
          "histogram": [
           {
            "marker": {
             "pattern": {
              "fillmode": "overlay",
              "size": 10,
              "solidity": 0.2
             }
            },
            "type": "histogram"
           }
          ],
          "histogram2d": [
           {
            "colorbar": {
             "outlinewidth": 0,
             "ticks": ""
            },
            "colorscale": [
             [
              0,
              "#0d0887"
             ],
             [
              0.1111111111111111,
              "#46039f"
             ],
             [
              0.2222222222222222,
              "#7201a8"
             ],
             [
              0.3333333333333333,
              "#9c179e"
             ],
             [
              0.4444444444444444,
              "#bd3786"
             ],
             [
              0.5555555555555556,
              "#d8576b"
             ],
             [
              0.6666666666666666,
              "#ed7953"
             ],
             [
              0.7777777777777778,
              "#fb9f3a"
             ],
             [
              0.8888888888888888,
              "#fdca26"
             ],
             [
              1,
              "#f0f921"
             ]
            ],
            "type": "histogram2d"
           }
          ],
          "histogram2dcontour": [
           {
            "colorbar": {
             "outlinewidth": 0,
             "ticks": ""
            },
            "colorscale": [
             [
              0,
              "#0d0887"
             ],
             [
              0.1111111111111111,
              "#46039f"
             ],
             [
              0.2222222222222222,
              "#7201a8"
             ],
             [
              0.3333333333333333,
              "#9c179e"
             ],
             [
              0.4444444444444444,
              "#bd3786"
             ],
             [
              0.5555555555555556,
              "#d8576b"
             ],
             [
              0.6666666666666666,
              "#ed7953"
             ],
             [
              0.7777777777777778,
              "#fb9f3a"
             ],
             [
              0.8888888888888888,
              "#fdca26"
             ],
             [
              1,
              "#f0f921"
             ]
            ],
            "type": "histogram2dcontour"
           }
          ],
          "mesh3d": [
           {
            "colorbar": {
             "outlinewidth": 0,
             "ticks": ""
            },
            "type": "mesh3d"
           }
          ],
          "parcoords": [
           {
            "line": {
             "colorbar": {
              "outlinewidth": 0,
              "ticks": ""
             }
            },
            "type": "parcoords"
           }
          ],
          "pie": [
           {
            "automargin": true,
            "type": "pie"
           }
          ],
          "scatter": [
           {
            "fillpattern": {
             "fillmode": "overlay",
             "size": 10,
             "solidity": 0.2
            },
            "type": "scatter"
           }
          ],
          "scatter3d": [
           {
            "line": {
             "colorbar": {
              "outlinewidth": 0,
              "ticks": ""
             }
            },
            "marker": {
             "colorbar": {
              "outlinewidth": 0,
              "ticks": ""
             }
            },
            "type": "scatter3d"
           }
          ],
          "scattercarpet": [
           {
            "marker": {
             "colorbar": {
              "outlinewidth": 0,
              "ticks": ""
             }
            },
            "type": "scattercarpet"
           }
          ],
          "scattergeo": [
           {
            "marker": {
             "colorbar": {
              "outlinewidth": 0,
              "ticks": ""
             }
            },
            "type": "scattergeo"
           }
          ],
          "scattergl": [
           {
            "marker": {
             "colorbar": {
              "outlinewidth": 0,
              "ticks": ""
             }
            },
            "type": "scattergl"
           }
          ],
          "scattermapbox": [
           {
            "marker": {
             "colorbar": {
              "outlinewidth": 0,
              "ticks": ""
             }
            },
            "type": "scattermapbox"
           }
          ],
          "scatterpolar": [
           {
            "marker": {
             "colorbar": {
              "outlinewidth": 0,
              "ticks": ""
             }
            },
            "type": "scatterpolar"
           }
          ],
          "scatterpolargl": [
           {
            "marker": {
             "colorbar": {
              "outlinewidth": 0,
              "ticks": ""
             }
            },
            "type": "scatterpolargl"
           }
          ],
          "scatterternary": [
           {
            "marker": {
             "colorbar": {
              "outlinewidth": 0,
              "ticks": ""
             }
            },
            "type": "scatterternary"
           }
          ],
          "surface": [
           {
            "colorbar": {
             "outlinewidth": 0,
             "ticks": ""
            },
            "colorscale": [
             [
              0,
              "#0d0887"
             ],
             [
              0.1111111111111111,
              "#46039f"
             ],
             [
              0.2222222222222222,
              "#7201a8"
             ],
             [
              0.3333333333333333,
              "#9c179e"
             ],
             [
              0.4444444444444444,
              "#bd3786"
             ],
             [
              0.5555555555555556,
              "#d8576b"
             ],
             [
              0.6666666666666666,
              "#ed7953"
             ],
             [
              0.7777777777777778,
              "#fb9f3a"
             ],
             [
              0.8888888888888888,
              "#fdca26"
             ],
             [
              1,
              "#f0f921"
             ]
            ],
            "type": "surface"
           }
          ],
          "table": [
           {
            "cells": {
             "fill": {
              "color": "#EBF0F8"
             },
             "line": {
              "color": "white"
             }
            },
            "header": {
             "fill": {
              "color": "#C8D4E3"
             },
             "line": {
              "color": "white"
             }
            },
            "type": "table"
           }
          ]
         },
         "layout": {
          "annotationdefaults": {
           "arrowcolor": "#2a3f5f",
           "arrowhead": 0,
           "arrowwidth": 1
          },
          "autotypenumbers": "strict",
          "coloraxis": {
           "colorbar": {
            "outlinewidth": 0,
            "ticks": ""
           }
          },
          "colorscale": {
           "diverging": [
            [
             0,
             "#8e0152"
            ],
            [
             0.1,
             "#c51b7d"
            ],
            [
             0.2,
             "#de77ae"
            ],
            [
             0.3,
             "#f1b6da"
            ],
            [
             0.4,
             "#fde0ef"
            ],
            [
             0.5,
             "#f7f7f7"
            ],
            [
             0.6,
             "#e6f5d0"
            ],
            [
             0.7,
             "#b8e186"
            ],
            [
             0.8,
             "#7fbc41"
            ],
            [
             0.9,
             "#4d9221"
            ],
            [
             1,
             "#276419"
            ]
           ],
           "sequential": [
            [
             0,
             "#0d0887"
            ],
            [
             0.1111111111111111,
             "#46039f"
            ],
            [
             0.2222222222222222,
             "#7201a8"
            ],
            [
             0.3333333333333333,
             "#9c179e"
            ],
            [
             0.4444444444444444,
             "#bd3786"
            ],
            [
             0.5555555555555556,
             "#d8576b"
            ],
            [
             0.6666666666666666,
             "#ed7953"
            ],
            [
             0.7777777777777778,
             "#fb9f3a"
            ],
            [
             0.8888888888888888,
             "#fdca26"
            ],
            [
             1,
             "#f0f921"
            ]
           ],
           "sequentialminus": [
            [
             0,
             "#0d0887"
            ],
            [
             0.1111111111111111,
             "#46039f"
            ],
            [
             0.2222222222222222,
             "#7201a8"
            ],
            [
             0.3333333333333333,
             "#9c179e"
            ],
            [
             0.4444444444444444,
             "#bd3786"
            ],
            [
             0.5555555555555556,
             "#d8576b"
            ],
            [
             0.6666666666666666,
             "#ed7953"
            ],
            [
             0.7777777777777778,
             "#fb9f3a"
            ],
            [
             0.8888888888888888,
             "#fdca26"
            ],
            [
             1,
             "#f0f921"
            ]
           ]
          },
          "colorway": [
           "#636efa",
           "#EF553B",
           "#00cc96",
           "#ab63fa",
           "#FFA15A",
           "#19d3f3",
           "#FF6692",
           "#B6E880",
           "#FF97FF",
           "#FECB52"
          ],
          "font": {
           "color": "#2a3f5f"
          },
          "geo": {
           "bgcolor": "white",
           "lakecolor": "white",
           "landcolor": "#E5ECF6",
           "showlakes": true,
           "showland": true,
           "subunitcolor": "white"
          },
          "hoverlabel": {
           "align": "left"
          },
          "hovermode": "closest",
          "mapbox": {
           "style": "light"
          },
          "paper_bgcolor": "white",
          "plot_bgcolor": "#E5ECF6",
          "polar": {
           "angularaxis": {
            "gridcolor": "white",
            "linecolor": "white",
            "ticks": ""
           },
           "bgcolor": "#E5ECF6",
           "radialaxis": {
            "gridcolor": "white",
            "linecolor": "white",
            "ticks": ""
           }
          },
          "scene": {
           "xaxis": {
            "backgroundcolor": "#E5ECF6",
            "gridcolor": "white",
            "gridwidth": 2,
            "linecolor": "white",
            "showbackground": true,
            "ticks": "",
            "zerolinecolor": "white"
           },
           "yaxis": {
            "backgroundcolor": "#E5ECF6",
            "gridcolor": "white",
            "gridwidth": 2,
            "linecolor": "white",
            "showbackground": true,
            "ticks": "",
            "zerolinecolor": "white"
           },
           "zaxis": {
            "backgroundcolor": "#E5ECF6",
            "gridcolor": "white",
            "gridwidth": 2,
            "linecolor": "white",
            "showbackground": true,
            "ticks": "",
            "zerolinecolor": "white"
           }
          },
          "shapedefaults": {
           "line": {
            "color": "#2a3f5f"
           }
          },
          "ternary": {
           "aaxis": {
            "gridcolor": "white",
            "linecolor": "white",
            "ticks": ""
           },
           "baxis": {
            "gridcolor": "white",
            "linecolor": "white",
            "ticks": ""
           },
           "bgcolor": "#E5ECF6",
           "caxis": {
            "gridcolor": "white",
            "linecolor": "white",
            "ticks": ""
           }
          },
          "title": {
           "x": 0.05
          },
          "xaxis": {
           "automargin": true,
           "gridcolor": "white",
           "linecolor": "white",
           "ticks": "",
           "title": {
            "standoff": 15
           },
           "zerolinecolor": "white",
           "zerolinewidth": 2
          },
          "yaxis": {
           "automargin": true,
           "gridcolor": "white",
           "linecolor": "white",
           "ticks": "",
           "title": {
            "standoff": 15
           },
           "zerolinecolor": "white",
           "zerolinewidth": 2
          }
         }
        },
        "width": 2300
       }
      }
     },
     "metadata": {},
     "output_type": "display_data"
    },
    {
     "name": "stderr",
     "output_type": "stream",
     "text": [
      "C:\\Users\\dekkerm\\AppData\\Local\\Temp\\2\\ipykernel_8640\\1970047442.py:81: RuntimeWarning:\n",
      "\n",
      "invalid value encountered in cast\n",
      "\n"
     ]
    },
    {
     "data": {
      "application/vnd.plotly.v1+json": {
       "config": {
        "plotlyServerURL": "https://plot.ly"
       },
       "data": [
        {
         "colorbar": {
          "len": 1,
          "tickfont": {
           "size": 25
          },
          "ticktext": [
           "30%",
           "40%",
           "50%",
           "60%",
           "70%",
           "80%",
           "90%"
          ],
          "tickvals": [
           0.3,
           0.4,
           0.5,
           0.6000000000000001,
           0.7000000000000002,
           0.8000000000000003,
           0.9000000000000001
          ],
          "title": {
           "text": "Emission<br>reduction<br>in 2040<br>w.r.t. 1990"
          },
          "x": 1
         },
         "colorscale": [
          [
           0,
           "rgb(49,54,149)"
          ],
          [
           0.1,
           "rgb(69,117,180)"
          ],
          [
           0.2,
           "rgb(116,173,209)"
          ],
          [
           0.3,
           "rgb(171,217,233)"
          ],
          [
           0.4,
           "rgb(224,243,248)"
          ],
          [
           0.5,
           "rgb(255,255,191)"
          ],
          [
           0.6,
           "rgb(254,224,144)"
          ],
          [
           0.7,
           "rgb(253,174,97)"
          ],
          [
           0.8,
           "rgb(244,109,67)"
          ],
          [
           0.9,
           "rgb(215,48,39)"
          ],
          [
           1,
           "rgb(165,0,38)"
          ]
         ],
         "geo": "geo",
         "hovertemplate": "%{text}",
         "locationmode": "ISO-3",
         "locations": [
          "AUT",
          "BEL",
          "BGR",
          "HRV",
          "CYP",
          "CZE",
          "DNK",
          "EST",
          "FIN",
          "FRA",
          "DEU",
          "GRC",
          "HUN",
          "IRL",
          "ITA",
          "LVA",
          "LTU",
          "LUX",
          "MLT",
          "NLD",
          "POL",
          "PRT",
          "ROU",
          "SVK",
          "SVN",
          "ESP",
          "SWE"
         ],
         "marker": {
          "line": {
           "color": "grey",
           "width": 0.7
          }
         },
         "name": "",
         "showscale": true,
         "text": [
          "AUT: 0.87 Gt CO<sub>2</sub>e",
          "BEL: 0.89 Gt CO<sub>2</sub>e",
          "BGR: 0.93 Gt CO<sub>2</sub>e",
          "HRV: 0.91 Gt CO<sub>2</sub>e",
          "CYP: 0.72 Gt CO<sub>2</sub>e",
          "CZE: 0.92 Gt CO<sub>2</sub>e",
          "DNK: 0.91 Gt CO<sub>2</sub>e",
          "EST: 0.95 Gt CO<sub>2</sub>e",
          "FIN: 0.89 Gt CO<sub>2</sub>e",
          "FRA: 0.90 Gt CO<sub>2</sub>e",
          "DEU: 0.92 Gt CO<sub>2</sub>e",
          "GRC: 0.92 Gt CO<sub>2</sub>e",
          "HUN: 0.92 Gt CO<sub>2</sub>e",
          "IRL: 0.80 Gt CO<sub>2</sub>e",
          "ITA: 0.90 Gt CO<sub>2</sub>e",
          "LVA: 0.92 Gt CO<sub>2</sub>e",
          "LTU: 0.94 Gt CO<sub>2</sub>e",
          "LUX: 0.90 Gt CO<sub>2</sub>e",
          "MLT: 0.91 Gt CO<sub>2</sub>e",
          "NLD: 0.89 Gt CO<sub>2</sub>e",
          "POL: 0.90 Gt CO<sub>2</sub>e",
          "PRT: 0.89 Gt CO<sub>2</sub>e",
          "ROU: 0.94 Gt CO<sub>2</sub>e",
          "SVK: 0.92 Gt CO<sub>2</sub>e",
          "SVN: 0.88 Gt CO<sub>2</sub>e",
          "ESP: 0.87 Gt CO<sub>2</sub>e",
          "SWE: 0.86 Gt CO<sub>2</sub>e"
         ],
         "type": "choropleth",
         "z": [
          0.8669009947997441,
          0.8888296547913647,
          0.9324244765413892,
          0.9088670991935002,
          0.7221256122994588,
          0.922712984469461,
          0.9133135954258026,
          0.9473269798161098,
          0.8878968499377148,
          0.9003575293584063,
          0.9166750014188202,
          0.9225097885348569,
          0.917677123317322,
          0.8006491691003488,
          0.8964560360101209,
          0.9235832091907242,
          0.9357690228649578,
          0.9004988788069123,
          0.9059164068563705,
          0.8925624455208581,
          0.8968351835327594,
          0.8904263065852893,
          0.9411064540576167,
          0.9237749177612636,
          0.8848087284208984,
          0.8661188838524673,
          0.8567020176532236
         ],
         "zmax": 1.01,
         "zmin": 0.29
        },
        {
         "colorbar": {
          "len": 1,
          "tickfont": {
           "size": 25
          },
          "ticktext": [
           "30%",
           "40%",
           "50%",
           "60%",
           "70%",
           "80%",
           "90%"
          ],
          "tickvals": [
           0.3,
           0.4,
           0.5,
           0.6000000000000001,
           0.7000000000000002,
           0.8000000000000003,
           0.9000000000000001
          ],
          "title": {
           "text": "Emission<br>reduction<br>in 2040<br>w.r.t. 1990"
          },
          "x": 1
         },
         "colorscale": [
          [
           0,
           "rgb(49,54,149)"
          ],
          [
           0.1,
           "rgb(69,117,180)"
          ],
          [
           0.2,
           "rgb(116,173,209)"
          ],
          [
           0.3,
           "rgb(171,217,233)"
          ],
          [
           0.4,
           "rgb(224,243,248)"
          ],
          [
           0.5,
           "rgb(255,255,191)"
          ],
          [
           0.6,
           "rgb(254,224,144)"
          ],
          [
           0.7,
           "rgb(253,174,97)"
          ],
          [
           0.8,
           "rgb(244,109,67)"
          ],
          [
           0.9,
           "rgb(215,48,39)"
          ],
          [
           1,
           "rgb(165,0,38)"
          ]
         ],
         "geo": "geo2",
         "hovertemplate": "%{text}",
         "locationmode": "ISO-3",
         "locations": [
          "AUT",
          "BEL",
          "BGR",
          "HRV",
          "CYP",
          "CZE",
          "DNK",
          "EST",
          "FIN",
          "FRA",
          "DEU",
          "GRC",
          "HUN",
          "IRL",
          "ITA",
          "LVA",
          "LTU",
          "LUX",
          "MLT",
          "NLD",
          "POL",
          "PRT",
          "ROU",
          "SVK",
          "SVN",
          "ESP",
          "SWE"
         ],
         "marker": {
          "line": {
           "color": "grey",
           "width": 0.7
          }
         },
         "name": "",
         "showscale": false,
         "text": [
          "AUT: 0.89 Gt CO<sub>2</sub>e",
          "BEL: 0.93 Gt CO<sub>2</sub>e",
          "BGR: 0.94 Gt CO<sub>2</sub>e",
          "HRV: 0.88 Gt CO<sub>2</sub>e",
          "CYP: 0.71 Gt CO<sub>2</sub>e",
          "CZE: 0.95 Gt CO<sub>2</sub>e",
          "DNK: 0.92 Gt CO<sub>2</sub>e",
          "EST: 0.97 Gt CO<sub>2</sub>e",
          "FIN: 0.94 Gt CO<sub>2</sub>e",
          "FRA: 0.89 Gt CO<sub>2</sub>e",
          "DEU: 0.94 Gt CO<sub>2</sub>e",
          "GRC: 0.91 Gt CO<sub>2</sub>e",
          "HUN: 0.91 Gt CO<sub>2</sub>e",
          "IRL: 0.91 Gt CO<sub>2</sub>e",
          "ITA: 0.89 Gt CO<sub>2</sub>e",
          "LVA: 0.94 Gt CO<sub>2</sub>e",
          "LTU: 0.95 Gt CO<sub>2</sub>e",
          "LUX: 0.95 Gt CO<sub>2</sub>e",
          "MLT: 0.82 Gt CO<sub>2</sub>e",
          "NLD: 0.93 Gt CO<sub>2</sub>e",
          "POL: 0.93 Gt CO<sub>2</sub>e",
          "PRT: 0.85 Gt CO<sub>2</sub>e",
          "ROU: 0.92 Gt CO<sub>2</sub>e",
          "SVK: 0.93 Gt CO<sub>2</sub>e",
          "SVN: 0.91 Gt CO<sub>2</sub>e",
          "ESP: 0.85 Gt CO<sub>2</sub>e",
          "SWE: 0.86 Gt CO<sub>2</sub>e"
         ],
         "type": "choropleth",
         "z": [
          0.8893927217346596,
          0.92668687742063,
          0.9373002971912672,
          0.8776957552607942,
          0.7080804431995885,
          0.9465390114618523,
          0.9239094740619881,
          0.9708701305730472,
          0.9430627748859347,
          0.8873934372176218,
          0.9374724845192609,
          0.9083529614317678,
          0.9058670383900512,
          0.9113288248796326,
          0.8901580467844191,
          0.936925408020677,
          0.9519559179188836,
          0.9541154553757544,
          0.816204564321019,
          0.9282493197581788,
          0.9275223858345494,
          0.8459483015203174,
          0.9229736593911543,
          0.9313343342494526,
          0.9062930514750459,
          0.8476637937439336,
          0.8598513536297622
         ],
         "zmax": 1.01,
         "zmin": 0.29
        },
        {
         "colorbar": {
          "len": 1,
          "tickfont": {
           "size": 25
          },
          "ticktext": [
           "30%",
           "40%",
           "50%",
           "60%",
           "70%",
           "80%",
           "90%"
          ],
          "tickvals": [
           0.3,
           0.4,
           0.5,
           0.6000000000000001,
           0.7000000000000002,
           0.8000000000000003,
           0.9000000000000001
          ],
          "title": {
           "text": "Emission<br>reduction<br>in 2040<br>w.r.t. 1990"
          },
          "x": 1
         },
         "colorscale": [
          [
           0,
           "rgb(49,54,149)"
          ],
          [
           0.1,
           "rgb(69,117,180)"
          ],
          [
           0.2,
           "rgb(116,173,209)"
          ],
          [
           0.3,
           "rgb(171,217,233)"
          ],
          [
           0.4,
           "rgb(224,243,248)"
          ],
          [
           0.5,
           "rgb(255,255,191)"
          ],
          [
           0.6,
           "rgb(254,224,144)"
          ],
          [
           0.7,
           "rgb(253,174,97)"
          ],
          [
           0.8,
           "rgb(244,109,67)"
          ],
          [
           0.9,
           "rgb(215,48,39)"
          ],
          [
           1,
           "rgb(165,0,38)"
          ]
         ],
         "geo": "geo3",
         "hovertemplate": "%{text}",
         "locationmode": "ISO-3",
         "locations": [
          "AUT",
          "BEL",
          "BGR",
          "HRV",
          "CYP",
          "CZE",
          "DNK",
          "EST",
          "FIN",
          "FRA",
          "DEU",
          "GRC",
          "HUN",
          "IRL",
          "ITA",
          "LVA",
          "LTU",
          "LUX",
          "MLT",
          "NLD",
          "POL",
          "PRT",
          "ROU",
          "SVK",
          "SVN",
          "ESP",
          "SWE"
         ],
         "marker": {
          "line": {
           "color": "grey",
           "width": 0.7
          }
         },
         "name": "",
         "showscale": false,
         "text": [
          "AUT: 0.88 Gt CO<sub>2</sub>e",
          "BEL: 0.91 Gt CO<sub>2</sub>e",
          "BGR: 0.94 Gt CO<sub>2</sub>e",
          "HRV: 0.89 Gt CO<sub>2</sub>e",
          "CYP: 0.71 Gt CO<sub>2</sub>e",
          "CZE: 0.94 Gt CO<sub>2</sub>e",
          "DNK: 0.92 Gt CO<sub>2</sub>e",
          "EST: 0.96 Gt CO<sub>2</sub>e",
          "FIN: 0.92 Gt CO<sub>2</sub>e",
          "FRA: 0.89 Gt CO<sub>2</sub>e",
          "DEU: 0.93 Gt CO<sub>2</sub>e",
          "GRC: 0.91 Gt CO<sub>2</sub>e",
          "HUN: 0.91 Gt CO<sub>2</sub>e",
          "IRL: 0.87 Gt CO<sub>2</sub>e",
          "ITA: 0.89 Gt CO<sub>2</sub>e",
          "LVA: 0.93 Gt CO<sub>2</sub>e",
          "LTU: 0.95 Gt CO<sub>2</sub>e",
          "LUX: 0.94 Gt CO<sub>2</sub>e",
          "MLT: 0.85 Gt CO<sub>2</sub>e",
          "NLD: 0.92 Gt CO<sub>2</sub>e",
          "POL: 0.92 Gt CO<sub>2</sub>e",
          "PRT: 0.86 Gt CO<sub>2</sub>e",
          "ROU: 0.93 Gt CO<sub>2</sub>e",
          "SVK: 0.93 Gt CO<sub>2</sub>e",
          "SVN: 0.90 Gt CO<sub>2</sub>e",
          "ESP: 0.85 Gt CO<sub>2</sub>e",
          "SWE: 0.86 Gt CO<sub>2</sub>e"
         ],
         "type": "choropleth",
         "z": [
          0.8816369494060035,
          0.9136326588772217,
          0.9356189802087104,
          0.8884444993544417,
          0.7129235923983962,
          0.9383231379252011,
          0.9202557125593297,
          0.9627518019456611,
          0.9240400428804135,
          0.8918638202894554,
          0.9303009313392598,
          0.9132346278178022,
          0.9099394863001449,
          0.8731634301590946,
          0.8923297611457857,
          0.9323246512905239,
          0.9463742273780084,
          0.9356269761634449,
          0.8471396712088004,
          0.9159435004682565,
          0.9169405924737727,
          0.8612855339468494,
          0.9292263437997482,
          0.9287276368910571,
          0.8988846482115513,
          0.8540276160838142,
          0.8587653742601653
         ],
         "zmax": 1.01,
         "zmin": 0.29
        },
        {
         "colorbar": {
          "len": 1,
          "tickfont": {
           "size": 25
          },
          "ticktext": [
           "30%",
           "40%",
           "50%",
           "60%",
           "70%",
           "80%",
           "90%"
          ],
          "tickvals": [
           0.3,
           0.4,
           0.5,
           0.6000000000000001,
           0.7000000000000002,
           0.8000000000000003,
           0.9000000000000001
          ],
          "title": {
           "text": "Emission<br>reduction<br>in 2040<br>w.r.t. 1990"
          },
          "x": 1
         },
         "colorscale": [
          [
           0,
           "rgb(49,54,149)"
          ],
          [
           0.1,
           "rgb(69,117,180)"
          ],
          [
           0.2,
           "rgb(116,173,209)"
          ],
          [
           0.3,
           "rgb(171,217,233)"
          ],
          [
           0.4,
           "rgb(224,243,248)"
          ],
          [
           0.5,
           "rgb(255,255,191)"
          ],
          [
           0.6,
           "rgb(254,224,144)"
          ],
          [
           0.7,
           "rgb(253,174,97)"
          ],
          [
           0.8,
           "rgb(244,109,67)"
          ],
          [
           0.9,
           "rgb(215,48,39)"
          ],
          [
           1,
           "rgb(165,0,38)"
          ]
         ],
         "geo": "geo4",
         "hovertemplate": "%{text}",
         "locationmode": "ISO-3",
         "locations": [
          "AUT",
          "BEL",
          "BGR",
          "HRV",
          "CYP",
          "CZE",
          "DNK",
          "EST",
          "FIN",
          "FRA",
          "DEU",
          "GRC",
          "HUN",
          "IRL",
          "ITA",
          "LVA",
          "LTU",
          "LUX",
          "MLT",
          "NLD",
          "POL",
          "PRT",
          "ROU",
          "SVK",
          "SVN",
          "ESP",
          "SWE"
         ],
         "marker": {
          "line": {
           "color": "grey",
           "width": 0.7
          }
         },
         "name": "",
         "showscale": false,
         "text": [
          "AUT: 1.04 Gt CO<sub>2</sub>e",
          "BEL: 1.09 Gt CO<sub>2</sub>e",
          "BGR: 1.06 Gt CO<sub>2</sub>e",
          "HRV: 1.00 Gt CO<sub>2</sub>e",
          "CYP: 0.78 Gt CO<sub>2</sub>e",
          "CZE: 1.08 Gt CO<sub>2</sub>e",
          "DNK: 1.09 Gt CO<sub>2</sub>e",
          "EST: 1.09 Gt CO<sub>2</sub>e",
          "FIN: 1.16 Gt CO<sub>2</sub>e",
          "FRA: 0.99 Gt CO<sub>2</sub>e",
          "DEU: 1.09 Gt CO<sub>2</sub>e",
          "GRC: 1.10 Gt CO<sub>2</sub>e",
          "HUN: 1.02 Gt CO<sub>2</sub>e",
          "IRL: 1.09 Gt CO<sub>2</sub>e",
          "ITA: 1.05 Gt CO<sub>2</sub>e",
          "LVA: 1.03 Gt CO<sub>2</sub>e",
          "LTU: 1.07 Gt CO<sub>2</sub>e",
          "LUX: 1.12 Gt CO<sub>2</sub>e",
          "MLT: 0.90 Gt CO<sub>2</sub>e",
          "NLD: 1.11 Gt CO<sub>2</sub>e",
          "POL: 1.08 Gt CO<sub>2</sub>e",
          "PRT: 1.01 Gt CO<sub>2</sub>e",
          "ROU: 1.03 Gt CO<sub>2</sub>e",
          "SVK: 1.05 Gt CO<sub>2</sub>e",
          "SVN: 1.08 Gt CO<sub>2</sub>e",
          "ESP: 0.99 Gt CO<sub>2</sub>e",
          "SWE: 0.98 Gt CO<sub>2</sub>e"
         ],
         "type": "choropleth",
         "z": [
          1.03598594850007,
          1.0948675560358314,
          1.0647580525442741,
          0.9964628559427944,
          0.7842433821969813,
          1.0834155236718888,
          1.0872335305451255,
          1.0870125713017456,
          1.1608407224744937,
          0.9933307455313434,
          1.087723582590687,
          1.102639806260366,
          1.022523420526861,
          1.08574971681393,
          1.0457615875058242,
          1.0301674233038887,
          1.0707349448970656,
          1.118609512203962,
          0.8983154461599474,
          1.1107471865921,
          1.0823054384550157,
          1.0078846188084902,
          1.0290071617855259,
          1.0460728691968821,
          1.077823485802911,
          0.9864225999546756,
          0.9790153351656262
         ],
         "zmax": 1.01,
         "zmin": 0.29
        },
        {
         "colorbar": {
          "len": 1,
          "tickfont": {
           "size": 25
          },
          "ticktext": [
           "30%",
           "40%",
           "50%",
           "60%",
           "70%",
           "80%",
           "90%"
          ],
          "tickvals": [
           0.3,
           0.4,
           0.5,
           0.6000000000000001,
           0.7000000000000002,
           0.8000000000000003,
           0.9000000000000001
          ],
          "title": {
           "text": "Emission<br>reduction<br>in 2040<br>w.r.t. 1990"
          },
          "x": 1
         },
         "colorscale": [
          [
           0,
           "rgb(49,54,149)"
          ],
          [
           0.1,
           "rgb(69,117,180)"
          ],
          [
           0.2,
           "rgb(116,173,209)"
          ],
          [
           0.3,
           "rgb(171,217,233)"
          ],
          [
           0.4,
           "rgb(224,243,248)"
          ],
          [
           0.5,
           "rgb(255,255,191)"
          ],
          [
           0.6,
           "rgb(254,224,144)"
          ],
          [
           0.7,
           "rgb(253,174,97)"
          ],
          [
           0.8,
           "rgb(244,109,67)"
          ],
          [
           0.9,
           "rgb(215,48,39)"
          ],
          [
           1,
           "rgb(165,0,38)"
          ]
         ],
         "geo": "geo5",
         "hovertemplate": "%{text}",
         "locationmode": "ISO-3",
         "locations": [
          "AUT",
          "BEL",
          "BGR",
          "HRV",
          "CYP",
          "CZE",
          "DNK",
          "EST",
          "FIN",
          "FRA",
          "DEU",
          "GRC",
          "HUN",
          "IRL",
          "ITA",
          "LVA",
          "LTU",
          "LUX",
          "MLT",
          "NLD",
          "POL",
          "PRT",
          "ROU",
          "SVK",
          "SVN",
          "ESP",
          "SWE"
         ],
         "marker": {
          "line": {
           "color": "grey",
           "width": 0.7
          }
         },
         "name": "",
         "showscale": false,
         "text": [
          "AUT: 1.15 Gt CO<sub>2</sub>e",
          "BEL: 1.11 Gt CO<sub>2</sub>e",
          "BGR: 1.02 Gt CO<sub>2</sub>e",
          "HRV: 1.06 Gt CO<sub>2</sub>e",
          "CYP: 1.08 Gt CO<sub>2</sub>e",
          "CZE: 1.05 Gt CO<sub>2</sub>e",
          "DNK: 1.10 Gt CO<sub>2</sub>e",
          "EST: 1.03 Gt CO<sub>2</sub>e",
          "FIN: 1.10 Gt CO<sub>2</sub>e",
          "FRA: 1.07 Gt CO<sub>2</sub>e",
          "DEU: 1.09 Gt CO<sub>2</sub>e",
          "GRC: 1.02 Gt CO<sub>2</sub>e",
          "HUN: 1.06 Gt CO<sub>2</sub>e",
          "IRL: 1.65 Gt CO<sub>2</sub>e",
          "ITA: 1.06 Gt CO<sub>2</sub>e",
          "LVA: 1.03 Gt CO<sub>2</sub>e",
          "LTU: 1.06 Gt CO<sub>2</sub>e",
          "LUX: 1.26 Gt CO<sub>2</sub>e",
          "MLT: 1.16 Gt CO<sub>2</sub>e",
          "NLD: 1.15 Gt CO<sub>2</sub>e",
          "POL: 1.09 Gt CO<sub>2</sub>e",
          "PRT: 1.05 Gt CO<sub>2</sub>e",
          "ROU: 1.03 Gt CO<sub>2</sub>e",
          "SVK: nan Gt CO<sub>2</sub>e",
          "SVN: 1.08 Gt CO<sub>2</sub>e",
          "ESP: 1.07 Gt CO<sub>2</sub>e",
          "SWE: 1.16 Gt CO<sub>2</sub>e"
         ],
         "type": "choropleth",
         "z": [
          1.1543714789898145,
          1.1090851340863157,
          1.0199852427376446,
          1.0576676019090065,
          1.07572342325313,
          1.05153940761827,
          1.0999670487297875,
          1.0273931174950444,
          1.1011329377162618,
          1.0716470137172702,
          1.0899667049435628,
          1.0205215789149817,
          1.0585093161957813,
          1.648496872995698,
          1.0639463774840432,
          1.0326261957992395,
          1.0591484646147695,
          1.2622008294504168,
          1.1599566263844077,
          1.1469065308099653,
          1.091368171579581,
          1.052679252306784,
          1.0278976727702387,
          null,
          1.0844230604013452,
          1.0712408129724922,
          1.1646963222262112
         ],
         "zmax": 1.01,
         "zmin": 0.29
        },
        {
         "colorbar": {
          "len": 1,
          "tickfont": {
           "size": 25
          },
          "ticktext": [
           "30%",
           "40%",
           "50%",
           "60%",
           "70%",
           "80%",
           "90%"
          ],
          "tickvals": [
           0.3,
           0.4,
           0.5,
           0.6000000000000001,
           0.7000000000000002,
           0.8000000000000003,
           0.9000000000000001
          ],
          "title": {
           "text": "Emission<br>reduction<br>in 2040<br>w.r.t. 1990"
          },
          "x": 1
         },
         "colorscale": [
          [
           0,
           "rgb(49,54,149)"
          ],
          [
           0.1,
           "rgb(69,117,180)"
          ],
          [
           0.2,
           "rgb(116,173,209)"
          ],
          [
           0.3,
           "rgb(171,217,233)"
          ],
          [
           0.4,
           "rgb(224,243,248)"
          ],
          [
           0.5,
           "rgb(255,255,191)"
          ],
          [
           0.6,
           "rgb(254,224,144)"
          ],
          [
           0.7,
           "rgb(253,174,97)"
          ],
          [
           0.8,
           "rgb(244,109,67)"
          ],
          [
           0.9,
           "rgb(215,48,39)"
          ],
          [
           1,
           "rgb(165,0,38)"
          ]
         ],
         "geo": "geo6",
         "hovertemplate": "%{text}",
         "locationmode": "ISO-3",
         "locations": [
          "AUT",
          "BEL",
          "BGR",
          "HRV",
          "CYP",
          "CZE",
          "DNK",
          "EST",
          "FIN",
          "FRA",
          "DEU",
          "GRC",
          "HUN",
          "IRL",
          "ITA",
          "LVA",
          "LTU",
          "LUX",
          "MLT",
          "NLD",
          "POL",
          "PRT",
          "ROU",
          "SVK",
          "SVN",
          "ESP",
          "SWE"
         ],
         "marker": {
          "line": {
           "color": "grey",
           "width": 0.7
          }
         },
         "name": "",
         "showscale": false,
         "text": [
          "AUT: 3.34 Gt CO<sub>2</sub>e",
          "BEL: 2.48 Gt CO<sub>2</sub>e",
          "BGR: 1.12 Gt CO<sub>2</sub>e",
          "HRV: 1.72 Gt CO<sub>2</sub>e",
          "CYP: 3.77 Gt CO<sub>2</sub>e",
          "CZE: 1.67 Gt CO<sub>2</sub>e",
          "DNK: 3.22 Gt CO<sub>2</sub>e",
          "EST: 1.42 Gt CO<sub>2</sub>e",
          "FIN: 2.08 Gt CO<sub>2</sub>e",
          "FRA: 3.10 Gt CO<sub>2</sub>e",
          "DEU: 2.34 Gt CO<sub>2</sub>e",
          "GRC: 2.17 Gt CO<sub>2</sub>e",
          "HUN: 1.64 Gt CO<sub>2</sub>e",
          "IRL: 4.90 Gt CO<sub>2</sub>e",
          "ITA: 2.58 Gt CO<sub>2</sub>e",
          "LVA: 1.22 Gt CO<sub>2</sub>e",
          "LTU: 1.29 Gt CO<sub>2</sub>e",
          "LUX: 3.63 Gt CO<sub>2</sub>e",
          "MLT: 3.61 Gt CO<sub>2</sub>e",
          "NLD: 2.84 Gt CO<sub>2</sub>e",
          "POL: 1.44 Gt CO<sub>2</sub>e",
          "PRT: 2.68 Gt CO<sub>2</sub>e",
          "ROU: 1.26 Gt CO<sub>2</sub>e",
          "SVK: nan Gt CO<sub>2</sub>e",
          "SVN: 2.11 Gt CO<sub>2</sub>e",
          "ESP: 3.13 Gt CO<sub>2</sub>e",
          "SWE: 4.21 Gt CO<sub>2</sub>e"
         ],
         "type": "choropleth",
         "z": [
          3.338788793084745,
          2.4827660569360015,
          1.1227584210991288,
          1.718665923264746,
          3.769852517738145,
          1.6739693072062647,
          3.2165177709752166,
          1.4169292890451146,
          2.0785273116082843,
          3.10153661453216,
          2.338692378691368,
          2.172387767616629,
          1.6363675466862482,
          4.900540284004925,
          2.580420194344612,
          1.2178125472309766,
          1.2946389171715857,
          3.6329287112316124,
          3.608272047764442,
          2.8379778615146285,
          1.4426701904246115,
          2.6848168994786947,
          1.2627623516761903,
          null,
          2.1076781771335154,
          3.125881811083934,
          4.207272515123665
         ],
         "zmax": 1.01,
         "zmin": 0.29
        },
        {
         "featureidkey": "properties.NAME_3",
         "geo": "geo",
         "hoverinfo": "skip",
         "locations": [
          "AUT",
          "BEL",
          "BGR",
          "HRV",
          "CYP",
          "CZE",
          "DNK",
          "EST",
          "FIN",
          "FRA",
          "DEU",
          "GRC",
          "HUN",
          "IRL",
          "ITA",
          "LVA",
          "LTU",
          "LUX",
          "MLT",
          "NLD",
          "POL",
          "PRT",
          "ROU",
          "SVK",
          "SVN",
          "ESP",
          "SWE"
         ],
         "mode": "text",
         "showlegend": false,
         "text": [
          "86%",
          "88%",
          "93%",
          "90%",
          "72%",
          "92%",
          "91%",
          "94%",
          "88%",
          "90%",
          "91%",
          "92%",
          "91%",
          "80%",
          "89%",
          "92%",
          "93%",
          "90%",
          "90%",
          "89%",
          "89%",
          "89%",
          "94%",
          "92%",
          "88%",
          "86%",
          "85%"
         ],
         "textfont": {
          "color": "black",
          "size": 20
         },
         "type": "scattergeo"
        },
        {
         "featureidkey": "properties.NAME_3",
         "geo": "geo2",
         "hoverinfo": "skip",
         "locations": [
          "AUT",
          "BEL",
          "BGR",
          "HRV",
          "CYP",
          "CZE",
          "DNK",
          "EST",
          "FIN",
          "FRA",
          "DEU",
          "GRC",
          "HUN",
          "IRL",
          "ITA",
          "LVA",
          "LTU",
          "LUX",
          "MLT",
          "NLD",
          "POL",
          "PRT",
          "ROU",
          "SVK",
          "SVN",
          "ESP",
          "SWE"
         ],
         "mode": "text",
         "showlegend": false,
         "text": [
          "88%",
          "92%",
          "93%",
          "87%",
          "70%",
          "94%",
          "92%",
          "97%",
          "94%",
          "88%",
          "93%",
          "90%",
          "90%",
          "91%",
          "89%",
          "93%",
          "95%",
          "95%",
          "81%",
          "92%",
          "92%",
          "84%",
          "92%",
          "93%",
          "90%",
          "84%",
          "85%"
         ],
         "textfont": {
          "color": "black",
          "size": 20
         },
         "type": "scattergeo"
        },
        {
         "featureidkey": "properties.NAME_3",
         "geo": "geo3",
         "hoverinfo": "skip",
         "locations": [
          "AUT",
          "BEL",
          "BGR",
          "HRV",
          "CYP",
          "CZE",
          "DNK",
          "EST",
          "FIN",
          "FRA",
          "DEU",
          "GRC",
          "HUN",
          "IRL",
          "ITA",
          "LVA",
          "LTU",
          "LUX",
          "MLT",
          "NLD",
          "POL",
          "PRT",
          "ROU",
          "SVK",
          "SVN",
          "ESP",
          "SWE"
         ],
         "mode": "text",
         "showlegend": false,
         "text": [
          "88%",
          "91%",
          "93%",
          "88%",
          "71%",
          "93%",
          "92%",
          "96%",
          "92%",
          "89%",
          "93%",
          "91%",
          "90%",
          "87%",
          "89%",
          "93%",
          "94%",
          "93%",
          "84%",
          "91%",
          "91%",
          "86%",
          "92%",
          "92%",
          "89%",
          "85%",
          "85%"
         ],
         "textfont": {
          "color": "black",
          "size": 20
         },
         "type": "scattergeo"
        },
        {
         "featureidkey": "properties.NAME_3",
         "geo": "geo4",
         "hoverinfo": "skip",
         "locations": [
          "AUT",
          "BEL",
          "BGR",
          "HRV",
          "CYP",
          "CZE",
          "DNK",
          "EST",
          "FIN",
          "FRA",
          "DEU",
          "GRC",
          "HUN",
          "IRL",
          "ITA",
          "LVA",
          "LTU",
          "LUX",
          "MLT",
          "NLD",
          "POL",
          "PRT",
          "ROU",
          "SVK",
          "SVN",
          "ESP",
          "SWE"
         ],
         "mode": "text",
         "showlegend": false,
         "text": [
          "103%",
          "109%",
          "106%",
          "99%",
          "78%",
          "108%",
          "108%",
          "108%",
          "116%",
          "99%",
          "108%",
          "110%",
          "102%",
          "108%",
          "104%",
          "103%",
          "107%",
          "111%",
          "89%",
          "111%",
          "108%",
          "100%",
          "102%",
          "104%",
          "107%",
          "98%",
          "97%"
         ],
         "textfont": {
          "color": "black",
          "size": 20
         },
         "type": "scattergeo"
        },
        {
         "featureidkey": "properties.NAME_3",
         "geo": "geo5",
         "hoverinfo": "skip",
         "locations": [
          "AUT",
          "BEL",
          "BGR",
          "HRV",
          "CYP",
          "CZE",
          "DNK",
          "EST",
          "FIN",
          "FRA",
          "DEU",
          "GRC",
          "HUN",
          "IRL",
          "ITA",
          "LVA",
          "LTU",
          "LUX",
          "MLT",
          "NLD",
          "POL",
          "PRT",
          "ROU",
          "SVK",
          "SVN",
          "ESP",
          "SWE"
         ],
         "mode": "text",
         "showlegend": false,
         "text": [
          "115%",
          "110%",
          "101%",
          "105%",
          "107%",
          "105%",
          "109%",
          "102%",
          "110%",
          "107%",
          "108%",
          "102%",
          "105%",
          "164%",
          "106%",
          "103%",
          "105%",
          "126%",
          "115%",
          "114%",
          "109%",
          "105%",
          "102%",
          "110%",
          "108%",
          "107%",
          "116%"
         ],
         "textfont": {
          "color": "black",
          "size": 20
         },
         "type": "scattergeo"
        },
        {
         "featureidkey": "properties.NAME_3",
         "geo": "geo6",
         "hoverinfo": "skip",
         "locations": [
          "AUT",
          "BEL",
          "BGR",
          "HRV",
          "CYP",
          "CZE",
          "DNK",
          "EST",
          "FIN",
          "FRA",
          "DEU",
          "GRC",
          "HUN",
          "IRL",
          "ITA",
          "LVA",
          "LTU",
          "LUX",
          "MLT",
          "NLD",
          "POL",
          "PRT",
          "ROU",
          "SVK",
          "SVN",
          "ESP",
          "SWE"
         ],
         "mode": "text",
         "showlegend": false,
         "text": [
          "333%",
          "248%",
          "112%",
          "171%",
          "376%",
          "167%",
          "321%",
          "141%",
          "207%",
          "310%",
          "233%",
          "217%",
          "163%",
          "490%",
          "258%",
          "121%",
          "129%",
          "363%",
          "360%",
          "283%",
          "144%",
          "268%",
          "126%",
          "249%",
          "210%",
          "312%",
          "420%"
         ],
         "textfont": {
          "color": "black",
          "size": 20
         },
         "type": "scattergeo"
        }
       ],
       "layout": {
        "annotations": [
         {
          "align": "left",
          "ax": 0,
          "ay": 0,
          "font": {
           "color": "black",
           "size": 25
          },
          "showarrow": false,
          "text": "<b>(a) Grandfathering</b>",
          "x": 0.07,
          "xref": "paper",
          "y": 0.96,
          "yref": "paper"
         },
         {
          "align": "left",
          "ax": 0,
          "ay": 0,
          "font": {
           "color": "black",
           "size": 25
          },
          "showarrow": false,
          "text": "<b>(b) Per Capita</b>",
          "x": 0.47,
          "xref": "paper",
          "y": 0.96,
          "yref": "paper"
         },
         {
          "align": "left",
          "ax": 0,
          "ay": 0,
          "font": {
           "color": "black",
           "size": 25
          },
          "showarrow": false,
          "text": "<b>(c) Per Capita Convergence</b>",
          "x": 0.9,
          "xref": "paper",
          "y": 0.96,
          "yref": "paper"
         },
         {
          "align": "left",
          "ax": 0,
          "ay": 0,
          "font": {
           "color": "black",
           "size": 25
          },
          "showarrow": false,
          "text": "<b>(d) Equal Cumulative per Capita</b>",
          "x": 0.07,
          "xref": "paper",
          "y": 0.45,
          "yref": "paper"
         },
         {
          "align": "left",
          "ax": 0,
          "ay": 0,
          "font": {
           "color": "black",
           "size": 25
          },
          "showarrow": false,
          "text": "<b>(e) Ability to Pay</b>",
          "x": 0.48,
          "xref": "paper",
          "y": 0.45,
          "yref": "paper"
         },
         {
          "align": "left",
          "ax": 0,
          "ay": 0,
          "font": {
           "color": "black",
           "size": 25
          },
          "showarrow": false,
          "text": "<b>(f) Greenhouse Development Rights</b>",
          "x": 0.95,
          "xref": "paper",
          "y": 0.45,
          "yref": "paper"
         }
        ],
        "geo": {
         "domain": {
          "x": [
           0,
           0.3333333333333333
          ],
          "y": [
           0.5,
           1
          ]
         },
         "lakecolor": "rgb(255, 255, 255)",
         "lataxis": {
          "range": [
           30,
           75
          ]
         },
         "lonaxis": {
          "range": [
           -20,
           40
          ]
         },
         "projection": {
          "type": "natural earth"
         },
         "resolution": 50,
         "scope": "europe",
         "showcoastlines": false,
         "showcountries": false,
         "showlakes": true,
         "visible": true
        },
        "geo2": {
         "domain": {
          "x": [
           0.3333333333333333,
           0.6666666666666666
          ],
          "y": [
           0.5,
           1
          ]
         },
         "lakecolor": "rgb(255, 255, 255)",
         "lataxis": {
          "range": [
           30,
           75
          ]
         },
         "lonaxis": {
          "range": [
           -20,
           40
          ]
         },
         "projection": {
          "type": "natural earth"
         },
         "resolution": 50,
         "scope": "europe",
         "showcoastlines": false,
         "showcountries": false,
         "showlakes": true,
         "visible": true
        },
        "geo3": {
         "domain": {
          "x": [
           0.6666666666666666,
           1
          ],
          "y": [
           0.5,
           1
          ]
         },
         "lakecolor": "rgb(255, 255, 255)",
         "lataxis": {
          "range": [
           30,
           75
          ]
         },
         "lonaxis": {
          "range": [
           -20,
           40
          ]
         },
         "projection": {
          "type": "natural earth"
         },
         "resolution": 50,
         "scope": "europe",
         "showcoastlines": false,
         "showcountries": false,
         "showlakes": true,
         "visible": true
        },
        "geo4": {
         "domain": {
          "x": [
           0,
           0.3333333333333333
          ],
          "y": [
           0,
           0.5
          ]
         },
         "lakecolor": "rgb(255, 255, 255)",
         "lataxis": {
          "range": [
           30,
           75
          ]
         },
         "lonaxis": {
          "range": [
           -20,
           40
          ]
         },
         "projection": {
          "type": "natural earth"
         },
         "resolution": 50,
         "scope": "europe",
         "showcoastlines": false,
         "showcountries": false,
         "showlakes": true,
         "visible": true
        },
        "geo5": {
         "domain": {
          "x": [
           0.3333333333333333,
           0.6666666666666666
          ],
          "y": [
           0,
           0.5
          ]
         },
         "lakecolor": "rgb(255, 255, 255)",
         "lataxis": {
          "range": [
           30,
           75
          ]
         },
         "lonaxis": {
          "range": [
           -20,
           40
          ]
         },
         "projection": {
          "type": "natural earth"
         },
         "resolution": 50,
         "scope": "europe",
         "showcoastlines": false,
         "showcountries": false,
         "showlakes": true,
         "visible": true
        },
        "geo6": {
         "domain": {
          "x": [
           0.6666666666666666,
           1
          ],
          "y": [
           0,
           0.5
          ]
         },
         "lakecolor": "rgb(255, 255, 255)",
         "lataxis": {
          "range": [
           30,
           75
          ]
         },
         "lonaxis": {
          "range": [
           -20,
           40
          ]
         },
         "projection": {
          "type": "natural earth"
         },
         "resolution": 50,
         "scope": "europe",
         "showcoastlines": false,
         "showcountries": false,
         "showlakes": true,
         "visible": true
        },
        "height": 1200,
        "margin": {
         "b": 0,
         "l": 0,
         "r": 0,
         "t": 0
        },
        "template": {
         "data": {
          "bar": [
           {
            "error_x": {
             "color": "#2a3f5f"
            },
            "error_y": {
             "color": "#2a3f5f"
            },
            "marker": {
             "line": {
              "color": "#E5ECF6",
              "width": 0.5
             },
             "pattern": {
              "fillmode": "overlay",
              "size": 10,
              "solidity": 0.2
             }
            },
            "type": "bar"
           }
          ],
          "barpolar": [
           {
            "marker": {
             "line": {
              "color": "#E5ECF6",
              "width": 0.5
             },
             "pattern": {
              "fillmode": "overlay",
              "size": 10,
              "solidity": 0.2
             }
            },
            "type": "barpolar"
           }
          ],
          "carpet": [
           {
            "aaxis": {
             "endlinecolor": "#2a3f5f",
             "gridcolor": "white",
             "linecolor": "white",
             "minorgridcolor": "white",
             "startlinecolor": "#2a3f5f"
            },
            "baxis": {
             "endlinecolor": "#2a3f5f",
             "gridcolor": "white",
             "linecolor": "white",
             "minorgridcolor": "white",
             "startlinecolor": "#2a3f5f"
            },
            "type": "carpet"
           }
          ],
          "choropleth": [
           {
            "colorbar": {
             "outlinewidth": 0,
             "ticks": ""
            },
            "type": "choropleth"
           }
          ],
          "contour": [
           {
            "colorbar": {
             "outlinewidth": 0,
             "ticks": ""
            },
            "colorscale": [
             [
              0,
              "#0d0887"
             ],
             [
              0.1111111111111111,
              "#46039f"
             ],
             [
              0.2222222222222222,
              "#7201a8"
             ],
             [
              0.3333333333333333,
              "#9c179e"
             ],
             [
              0.4444444444444444,
              "#bd3786"
             ],
             [
              0.5555555555555556,
              "#d8576b"
             ],
             [
              0.6666666666666666,
              "#ed7953"
             ],
             [
              0.7777777777777778,
              "#fb9f3a"
             ],
             [
              0.8888888888888888,
              "#fdca26"
             ],
             [
              1,
              "#f0f921"
             ]
            ],
            "type": "contour"
           }
          ],
          "contourcarpet": [
           {
            "colorbar": {
             "outlinewidth": 0,
             "ticks": ""
            },
            "type": "contourcarpet"
           }
          ],
          "heatmap": [
           {
            "colorbar": {
             "outlinewidth": 0,
             "ticks": ""
            },
            "colorscale": [
             [
              0,
              "#0d0887"
             ],
             [
              0.1111111111111111,
              "#46039f"
             ],
             [
              0.2222222222222222,
              "#7201a8"
             ],
             [
              0.3333333333333333,
              "#9c179e"
             ],
             [
              0.4444444444444444,
              "#bd3786"
             ],
             [
              0.5555555555555556,
              "#d8576b"
             ],
             [
              0.6666666666666666,
              "#ed7953"
             ],
             [
              0.7777777777777778,
              "#fb9f3a"
             ],
             [
              0.8888888888888888,
              "#fdca26"
             ],
             [
              1,
              "#f0f921"
             ]
            ],
            "type": "heatmap"
           }
          ],
          "heatmapgl": [
           {
            "colorbar": {
             "outlinewidth": 0,
             "ticks": ""
            },
            "colorscale": [
             [
              0,
              "#0d0887"
             ],
             [
              0.1111111111111111,
              "#46039f"
             ],
             [
              0.2222222222222222,
              "#7201a8"
             ],
             [
              0.3333333333333333,
              "#9c179e"
             ],
             [
              0.4444444444444444,
              "#bd3786"
             ],
             [
              0.5555555555555556,
              "#d8576b"
             ],
             [
              0.6666666666666666,
              "#ed7953"
             ],
             [
              0.7777777777777778,
              "#fb9f3a"
             ],
             [
              0.8888888888888888,
              "#fdca26"
             ],
             [
              1,
              "#f0f921"
             ]
            ],
            "type": "heatmapgl"
           }
          ],
          "histogram": [
           {
            "marker": {
             "pattern": {
              "fillmode": "overlay",
              "size": 10,
              "solidity": 0.2
             }
            },
            "type": "histogram"
           }
          ],
          "histogram2d": [
           {
            "colorbar": {
             "outlinewidth": 0,
             "ticks": ""
            },
            "colorscale": [
             [
              0,
              "#0d0887"
             ],
             [
              0.1111111111111111,
              "#46039f"
             ],
             [
              0.2222222222222222,
              "#7201a8"
             ],
             [
              0.3333333333333333,
              "#9c179e"
             ],
             [
              0.4444444444444444,
              "#bd3786"
             ],
             [
              0.5555555555555556,
              "#d8576b"
             ],
             [
              0.6666666666666666,
              "#ed7953"
             ],
             [
              0.7777777777777778,
              "#fb9f3a"
             ],
             [
              0.8888888888888888,
              "#fdca26"
             ],
             [
              1,
              "#f0f921"
             ]
            ],
            "type": "histogram2d"
           }
          ],
          "histogram2dcontour": [
           {
            "colorbar": {
             "outlinewidth": 0,
             "ticks": ""
            },
            "colorscale": [
             [
              0,
              "#0d0887"
             ],
             [
              0.1111111111111111,
              "#46039f"
             ],
             [
              0.2222222222222222,
              "#7201a8"
             ],
             [
              0.3333333333333333,
              "#9c179e"
             ],
             [
              0.4444444444444444,
              "#bd3786"
             ],
             [
              0.5555555555555556,
              "#d8576b"
             ],
             [
              0.6666666666666666,
              "#ed7953"
             ],
             [
              0.7777777777777778,
              "#fb9f3a"
             ],
             [
              0.8888888888888888,
              "#fdca26"
             ],
             [
              1,
              "#f0f921"
             ]
            ],
            "type": "histogram2dcontour"
           }
          ],
          "mesh3d": [
           {
            "colorbar": {
             "outlinewidth": 0,
             "ticks": ""
            },
            "type": "mesh3d"
           }
          ],
          "parcoords": [
           {
            "line": {
             "colorbar": {
              "outlinewidth": 0,
              "ticks": ""
             }
            },
            "type": "parcoords"
           }
          ],
          "pie": [
           {
            "automargin": true,
            "type": "pie"
           }
          ],
          "scatter": [
           {
            "fillpattern": {
             "fillmode": "overlay",
             "size": 10,
             "solidity": 0.2
            },
            "type": "scatter"
           }
          ],
          "scatter3d": [
           {
            "line": {
             "colorbar": {
              "outlinewidth": 0,
              "ticks": ""
             }
            },
            "marker": {
             "colorbar": {
              "outlinewidth": 0,
              "ticks": ""
             }
            },
            "type": "scatter3d"
           }
          ],
          "scattercarpet": [
           {
            "marker": {
             "colorbar": {
              "outlinewidth": 0,
              "ticks": ""
             }
            },
            "type": "scattercarpet"
           }
          ],
          "scattergeo": [
           {
            "marker": {
             "colorbar": {
              "outlinewidth": 0,
              "ticks": ""
             }
            },
            "type": "scattergeo"
           }
          ],
          "scattergl": [
           {
            "marker": {
             "colorbar": {
              "outlinewidth": 0,
              "ticks": ""
             }
            },
            "type": "scattergl"
           }
          ],
          "scattermapbox": [
           {
            "marker": {
             "colorbar": {
              "outlinewidth": 0,
              "ticks": ""
             }
            },
            "type": "scattermapbox"
           }
          ],
          "scatterpolar": [
           {
            "marker": {
             "colorbar": {
              "outlinewidth": 0,
              "ticks": ""
             }
            },
            "type": "scatterpolar"
           }
          ],
          "scatterpolargl": [
           {
            "marker": {
             "colorbar": {
              "outlinewidth": 0,
              "ticks": ""
             }
            },
            "type": "scatterpolargl"
           }
          ],
          "scatterternary": [
           {
            "marker": {
             "colorbar": {
              "outlinewidth": 0,
              "ticks": ""
             }
            },
            "type": "scatterternary"
           }
          ],
          "surface": [
           {
            "colorbar": {
             "outlinewidth": 0,
             "ticks": ""
            },
            "colorscale": [
             [
              0,
              "#0d0887"
             ],
             [
              0.1111111111111111,
              "#46039f"
             ],
             [
              0.2222222222222222,
              "#7201a8"
             ],
             [
              0.3333333333333333,
              "#9c179e"
             ],
             [
              0.4444444444444444,
              "#bd3786"
             ],
             [
              0.5555555555555556,
              "#d8576b"
             ],
             [
              0.6666666666666666,
              "#ed7953"
             ],
             [
              0.7777777777777778,
              "#fb9f3a"
             ],
             [
              0.8888888888888888,
              "#fdca26"
             ],
             [
              1,
              "#f0f921"
             ]
            ],
            "type": "surface"
           }
          ],
          "table": [
           {
            "cells": {
             "fill": {
              "color": "#EBF0F8"
             },
             "line": {
              "color": "white"
             }
            },
            "header": {
             "fill": {
              "color": "#C8D4E3"
             },
             "line": {
              "color": "white"
             }
            },
            "type": "table"
           }
          ]
         },
         "layout": {
          "annotationdefaults": {
           "arrowcolor": "#2a3f5f",
           "arrowhead": 0,
           "arrowwidth": 1
          },
          "autotypenumbers": "strict",
          "coloraxis": {
           "colorbar": {
            "outlinewidth": 0,
            "ticks": ""
           }
          },
          "colorscale": {
           "diverging": [
            [
             0,
             "#8e0152"
            ],
            [
             0.1,
             "#c51b7d"
            ],
            [
             0.2,
             "#de77ae"
            ],
            [
             0.3,
             "#f1b6da"
            ],
            [
             0.4,
             "#fde0ef"
            ],
            [
             0.5,
             "#f7f7f7"
            ],
            [
             0.6,
             "#e6f5d0"
            ],
            [
             0.7,
             "#b8e186"
            ],
            [
             0.8,
             "#7fbc41"
            ],
            [
             0.9,
             "#4d9221"
            ],
            [
             1,
             "#276419"
            ]
           ],
           "sequential": [
            [
             0,
             "#0d0887"
            ],
            [
             0.1111111111111111,
             "#46039f"
            ],
            [
             0.2222222222222222,
             "#7201a8"
            ],
            [
             0.3333333333333333,
             "#9c179e"
            ],
            [
             0.4444444444444444,
             "#bd3786"
            ],
            [
             0.5555555555555556,
             "#d8576b"
            ],
            [
             0.6666666666666666,
             "#ed7953"
            ],
            [
             0.7777777777777778,
             "#fb9f3a"
            ],
            [
             0.8888888888888888,
             "#fdca26"
            ],
            [
             1,
             "#f0f921"
            ]
           ],
           "sequentialminus": [
            [
             0,
             "#0d0887"
            ],
            [
             0.1111111111111111,
             "#46039f"
            ],
            [
             0.2222222222222222,
             "#7201a8"
            ],
            [
             0.3333333333333333,
             "#9c179e"
            ],
            [
             0.4444444444444444,
             "#bd3786"
            ],
            [
             0.5555555555555556,
             "#d8576b"
            ],
            [
             0.6666666666666666,
             "#ed7953"
            ],
            [
             0.7777777777777778,
             "#fb9f3a"
            ],
            [
             0.8888888888888888,
             "#fdca26"
            ],
            [
             1,
             "#f0f921"
            ]
           ]
          },
          "colorway": [
           "#636efa",
           "#EF553B",
           "#00cc96",
           "#ab63fa",
           "#FFA15A",
           "#19d3f3",
           "#FF6692",
           "#B6E880",
           "#FF97FF",
           "#FECB52"
          ],
          "font": {
           "color": "#2a3f5f"
          },
          "geo": {
           "bgcolor": "white",
           "lakecolor": "white",
           "landcolor": "#E5ECF6",
           "showlakes": true,
           "showland": true,
           "subunitcolor": "white"
          },
          "hoverlabel": {
           "align": "left"
          },
          "hovermode": "closest",
          "mapbox": {
           "style": "light"
          },
          "paper_bgcolor": "white",
          "plot_bgcolor": "#E5ECF6",
          "polar": {
           "angularaxis": {
            "gridcolor": "white",
            "linecolor": "white",
            "ticks": ""
           },
           "bgcolor": "#E5ECF6",
           "radialaxis": {
            "gridcolor": "white",
            "linecolor": "white",
            "ticks": ""
           }
          },
          "scene": {
           "xaxis": {
            "backgroundcolor": "#E5ECF6",
            "gridcolor": "white",
            "gridwidth": 2,
            "linecolor": "white",
            "showbackground": true,
            "ticks": "",
            "zerolinecolor": "white"
           },
           "yaxis": {
            "backgroundcolor": "#E5ECF6",
            "gridcolor": "white",
            "gridwidth": 2,
            "linecolor": "white",
            "showbackground": true,
            "ticks": "",
            "zerolinecolor": "white"
           },
           "zaxis": {
            "backgroundcolor": "#E5ECF6",
            "gridcolor": "white",
            "gridwidth": 2,
            "linecolor": "white",
            "showbackground": true,
            "ticks": "",
            "zerolinecolor": "white"
           }
          },
          "shapedefaults": {
           "line": {
            "color": "#2a3f5f"
           }
          },
          "ternary": {
           "aaxis": {
            "gridcolor": "white",
            "linecolor": "white",
            "ticks": ""
           },
           "baxis": {
            "gridcolor": "white",
            "linecolor": "white",
            "ticks": ""
           },
           "bgcolor": "#E5ECF6",
           "caxis": {
            "gridcolor": "white",
            "linecolor": "white",
            "ticks": ""
           }
          },
          "title": {
           "x": 0.05
          },
          "xaxis": {
           "automargin": true,
           "gridcolor": "white",
           "linecolor": "white",
           "ticks": "",
           "title": {
            "standoff": 15
           },
           "zerolinecolor": "white",
           "zerolinewidth": 2
          },
          "yaxis": {
           "automargin": true,
           "gridcolor": "white",
           "linecolor": "white",
           "ticks": "",
           "title": {
            "standoff": 15
           },
           "zerolinecolor": "white",
           "zerolinewidth": 2
          }
         }
        },
        "width": 2300
       }
      }
     },
     "metadata": {},
     "output_type": "display_data"
    },
    {
     "name": "stderr",
     "output_type": "stream",
     "text": [
      "C:\\Users\\dekkerm\\AppData\\Local\\Temp\\2\\ipykernel_8640\\1970047442.py:81: RuntimeWarning:\n",
      "\n",
      "invalid value encountered in cast\n",
      "\n"
     ]
    },
    {
     "data": {
      "application/vnd.plotly.v1+json": {
       "config": {
        "plotlyServerURL": "https://plot.ly"
       },
       "data": [
        {
         "colorbar": {
          "len": 1,
          "tickfont": {
           "size": 25
          },
          "ticktext": [
           "30%",
           "40%",
           "50%",
           "60%",
           "70%",
           "80%",
           "90%"
          ],
          "tickvals": [
           0.3,
           0.4,
           0.5,
           0.6000000000000001,
           0.7000000000000002,
           0.8000000000000003,
           0.9000000000000001
          ],
          "title": {
           "text": "Emission<br>reduction<br>in 2030<br>w.r.t. 2021"
          },
          "x": 1
         },
         "colorscale": [
          [
           0,
           "rgb(49,54,149)"
          ],
          [
           0.1,
           "rgb(69,117,180)"
          ],
          [
           0.2,
           "rgb(116,173,209)"
          ],
          [
           0.3,
           "rgb(171,217,233)"
          ],
          [
           0.4,
           "rgb(224,243,248)"
          ],
          [
           0.5,
           "rgb(255,255,191)"
          ],
          [
           0.6,
           "rgb(254,224,144)"
          ],
          [
           0.7,
           "rgb(253,174,97)"
          ],
          [
           0.8,
           "rgb(244,109,67)"
          ],
          [
           0.9,
           "rgb(215,48,39)"
          ],
          [
           1,
           "rgb(165,0,38)"
          ]
         ],
         "geo": "geo",
         "hovertemplate": "%{text}",
         "locationmode": "ISO-3",
         "locations": [
          "AUT",
          "BEL",
          "BGR",
          "HRV",
          "CYP",
          "CZE",
          "DNK",
          "EST",
          "FIN",
          "FRA",
          "DEU",
          "GRC",
          "HUN",
          "IRL",
          "ITA",
          "LVA",
          "LTU",
          "LUX",
          "MLT",
          "NLD",
          "POL",
          "PRT",
          "ROU",
          "SVK",
          "SVN",
          "ESP",
          "SWE"
         ],
         "marker": {
          "line": {
           "color": "grey",
           "width": 0.7
          }
         },
         "name": "",
         "showscale": true,
         "text": [
          "AUT: 0.62 Gt CO<sub>2</sub>e",
          "BEL: 0.62 Gt CO<sub>2</sub>e",
          "BGR: 0.62 Gt CO<sub>2</sub>e",
          "HRV: 0.62 Gt CO<sub>2</sub>e",
          "CYP: 0.62 Gt CO<sub>2</sub>e",
          "CZE: 0.62 Gt CO<sub>2</sub>e",
          "DNK: 0.62 Gt CO<sub>2</sub>e",
          "EST: 0.62 Gt CO<sub>2</sub>e",
          "FIN: 0.62 Gt CO<sub>2</sub>e",
          "FRA: 0.62 Gt CO<sub>2</sub>e",
          "DEU: 0.62 Gt CO<sub>2</sub>e",
          "GRC: 0.62 Gt CO<sub>2</sub>e",
          "HUN: 0.62 Gt CO<sub>2</sub>e",
          "IRL: 0.62 Gt CO<sub>2</sub>e",
          "ITA: 0.62 Gt CO<sub>2</sub>e",
          "LVA: 0.62 Gt CO<sub>2</sub>e",
          "LTU: 0.62 Gt CO<sub>2</sub>e",
          "LUX: 0.62 Gt CO<sub>2</sub>e",
          "MLT: 0.62 Gt CO<sub>2</sub>e",
          "NLD: 0.62 Gt CO<sub>2</sub>e",
          "POL: 0.62 Gt CO<sub>2</sub>e",
          "PRT: 0.62 Gt CO<sub>2</sub>e",
          "ROU: 0.62 Gt CO<sub>2</sub>e",
          "SVK: 0.62 Gt CO<sub>2</sub>e",
          "SVN: 0.62 Gt CO<sub>2</sub>e",
          "ESP: 0.62 Gt CO<sub>2</sub>e",
          "SWE: 0.62 Gt CO<sub>2</sub>e"
         ],
         "type": "choropleth",
         "z": [
          0.6222504337933772,
          0.6222504152943936,
          0.6222504288839391,
          0.6222504347574891,
          0.6222504363781056,
          0.6222504132133813,
          0.6222504282002753,
          0.622250418281805,
          0.6222504322909841,
          0.6222504282792263,
          0.6222504487527877,
          0.6222504355170326,
          0.6222504256951247,
          0.6222504416519257,
          0.6222504209583709,
          0.6222504244597906,
          0.6222504238912983,
          0.6222504303003457,
          0.6222504210961013,
          0.6222504462622742,
          0.6222504129353299,
          0.6222504246255114,
          0.6222504204471502,
          0.6222504376067789,
          0.6222504347087051,
          0.6222504362283585,
          0.6222504345454869
         ],
         "zmax": 1.01,
         "zmin": 0.29
        },
        {
         "colorbar": {
          "len": 1,
          "tickfont": {
           "size": 25
          },
          "ticktext": [
           "30%",
           "40%",
           "50%",
           "60%",
           "70%",
           "80%",
           "90%"
          ],
          "tickvals": [
           0.3,
           0.4,
           0.5,
           0.6000000000000001,
           0.7000000000000002,
           0.8000000000000003,
           0.9000000000000001
          ],
          "title": {
           "text": "Emission<br>reduction<br>in 2030<br>w.r.t. 2021"
          },
          "x": 1
         },
         "colorscale": [
          [
           0,
           "rgb(49,54,149)"
          ],
          [
           0.1,
           "rgb(69,117,180)"
          ],
          [
           0.2,
           "rgb(116,173,209)"
          ],
          [
           0.3,
           "rgb(171,217,233)"
          ],
          [
           0.4,
           "rgb(224,243,248)"
          ],
          [
           0.5,
           "rgb(255,255,191)"
          ],
          [
           0.6,
           "rgb(254,224,144)"
          ],
          [
           0.7,
           "rgb(253,174,97)"
          ],
          [
           0.8,
           "rgb(244,109,67)"
          ],
          [
           0.9,
           "rgb(215,48,39)"
          ],
          [
           1,
           "rgb(165,0,38)"
          ]
         ],
         "geo": "geo2",
         "hovertemplate": "%{text}",
         "locationmode": "ISO-3",
         "locations": [
          "AUT",
          "BEL",
          "BGR",
          "HRV",
          "CYP",
          "CZE",
          "DNK",
          "EST",
          "FIN",
          "FRA",
          "DEU",
          "GRC",
          "HUN",
          "IRL",
          "ITA",
          "LVA",
          "LTU",
          "LUX",
          "MLT",
          "NLD",
          "POL",
          "PRT",
          "ROU",
          "SVK",
          "SVN",
          "ESP",
          "SWE"
         ],
         "marker": {
          "line": {
           "color": "grey",
           "width": 0.7
          }
         },
         "name": "",
         "showscale": false,
         "text": [
          "AUT: 0.69 Gt CO<sub>2</sub>e",
          "BEL: 0.75 Gt CO<sub>2</sub>e",
          "BGR: 0.65 Gt CO<sub>2</sub>e",
          "HRV: 0.49 Gt CO<sub>2</sub>e",
          "CYP: 0.60 Gt CO<sub>2</sub>e",
          "CZE: 0.74 Gt CO<sub>2</sub>e",
          "DNK: 0.67 Gt CO<sub>2</sub>e",
          "EST: 0.79 Gt CO<sub>2</sub>e",
          "FIN: 0.81 Gt CO<sub>2</sub>e",
          "FRA: 0.57 Gt CO<sub>2</sub>e",
          "DEU: 0.72 Gt CO<sub>2</sub>e",
          "GRC: 0.55 Gt CO<sub>2</sub>e",
          "HUN: 0.57 Gt CO<sub>2</sub>e",
          "IRL: 0.83 Gt CO<sub>2</sub>e",
          "ITA: 0.60 Gt CO<sub>2</sub>e",
          "LVA: 0.69 Gt CO<sub>2</sub>e",
          "LTU: 0.72 Gt CO<sub>2</sub>e",
          "LUX: 0.83 Gt CO<sub>2</sub>e",
          "MLT: 0.26 Gt CO<sub>2</sub>e",
          "NLD: 0.75 Gt CO<sub>2</sub>e",
          "POL: 0.73 Gt CO<sub>2</sub>e",
          "PRT: 0.47 Gt CO<sub>2</sub>e",
          "ROU: 0.51 Gt CO<sub>2</sub>e",
          "SVK: 0.66 Gt CO<sub>2</sub>e",
          "SVN: 0.69 Gt CO<sub>2</sub>e",
          "ESP: 0.57 Gt CO<sub>2</sub>e",
          "SWE: 0.63 Gt CO<sub>2</sub>e"
         ],
         "type": "choropleth",
         "z": [
          0.6860844123699306,
          0.7508867728907175,
          0.6495064207971883,
          0.4930439004738651,
          0.6031570235536085,
          0.7387030013506104,
          0.6684235933825535,
          0.7910923909022718,
          0.8081408757647608,
          0.5731028924079659,
          0.7165347268278875,
          0.5532386791720747,
          0.5680583350442058,
          0.8319771353695032,
          0.5992740982231132,
          0.6882046418381039,
          0.7174473534809558,
          0.8258022743713563,
          0.26205353833798506,
          0.7477251899551303,
          0.7346150609055617,
          0.4689148019342592,
          0.5059447232414407,
          0.6597127055133042,
          0.6927044679509169,
          0.5701788341061866,
          0.6305524307569735
         ],
         "zmax": 1.01,
         "zmin": 0.29
        },
        {
         "colorbar": {
          "len": 1,
          "tickfont": {
           "size": 25
          },
          "ticktext": [
           "30%",
           "40%",
           "50%",
           "60%",
           "70%",
           "80%",
           "90%"
          ],
          "tickvals": [
           0.3,
           0.4,
           0.5,
           0.6000000000000001,
           0.7000000000000002,
           0.8000000000000003,
           0.9000000000000001
          ],
          "title": {
           "text": "Emission<br>reduction<br>in 2030<br>w.r.t. 2021"
          },
          "x": 1
         },
         "colorscale": [
          [
           0,
           "rgb(49,54,149)"
          ],
          [
           0.1,
           "rgb(69,117,180)"
          ],
          [
           0.2,
           "rgb(116,173,209)"
          ],
          [
           0.3,
           "rgb(171,217,233)"
          ],
          [
           0.4,
           "rgb(224,243,248)"
          ],
          [
           0.5,
           "rgb(255,255,191)"
          ],
          [
           0.6,
           "rgb(254,224,144)"
          ],
          [
           0.7,
           "rgb(253,174,97)"
          ],
          [
           0.8,
           "rgb(244,109,67)"
          ],
          [
           0.9,
           "rgb(215,48,39)"
          ],
          [
           1,
           "rgb(165,0,38)"
          ]
         ],
         "geo": "geo3",
         "hovertemplate": "%{text}",
         "locationmode": "ISO-3",
         "locations": [
          "AUT",
          "BEL",
          "BGR",
          "HRV",
          "CYP",
          "CZE",
          "DNK",
          "EST",
          "FIN",
          "FRA",
          "DEU",
          "GRC",
          "HUN",
          "IRL",
          "ITA",
          "LVA",
          "LTU",
          "LUX",
          "MLT",
          "NLD",
          "POL",
          "PRT",
          "ROU",
          "SVK",
          "SVN",
          "ESP",
          "SWE"
         ],
         "marker": {
          "line": {
           "color": "grey",
           "width": 0.7
          }
         },
         "name": "",
         "showscale": false,
         "text": [
          "AUT: 0.64 Gt CO<sub>2</sub>e",
          "BEL: 0.66 Gt CO<sub>2</sub>e",
          "BGR: 0.63 Gt CO<sub>2</sub>e",
          "HRV: 0.58 Gt CO<sub>2</sub>e",
          "CYP: 0.62 Gt CO<sub>2</sub>e",
          "CZE: 0.66 Gt CO<sub>2</sub>e",
          "DNK: 0.64 Gt CO<sub>2</sub>e",
          "EST: 0.67 Gt CO<sub>2</sub>e",
          "FIN: 0.68 Gt CO<sub>2</sub>e",
          "FRA: 0.61 Gt CO<sub>2</sub>e",
          "DEU: 0.65 Gt CO<sub>2</sub>e",
          "GRC: 0.60 Gt CO<sub>2</sub>e",
          "HUN: 0.61 Gt CO<sub>2</sub>e",
          "IRL: 0.69 Gt CO<sub>2</sub>e",
          "ITA: 0.62 Gt CO<sub>2</sub>e",
          "LVA: 0.64 Gt CO<sub>2</sub>e",
          "LTU: 0.65 Gt CO<sub>2</sub>e",
          "LUX: 0.69 Gt CO<sub>2</sub>e",
          "MLT: 0.51 Gt CO<sub>2</sub>e",
          "NLD: 0.66 Gt CO<sub>2</sub>e",
          "POL: 0.66 Gt CO<sub>2</sub>e",
          "PRT: 0.57 Gt CO<sub>2</sub>e",
          "ROU: 0.59 Gt CO<sub>2</sub>e",
          "SVK: 0.63 Gt CO<sub>2</sub>e",
          "SVN: 0.64 Gt CO<sub>2</sub>e",
          "ESP: 0.61 Gt CO<sub>2</sub>e",
          "SWE: 0.62 Gt CO<sub>2</sub>e"
         ],
         "type": "choropleth",
         "z": [
          0.6420610183947173,
          0.6621720556172701,
          0.6307092146361446,
          0.582151858322646,
          0.6163248975237203,
          0.6583908577410178,
          0.6365800130166527,
          0.6746496787092507,
          0.6799405623806682,
          0.6069977217585247,
          0.6515110262743545,
          0.600833012365811,
          0.6054321940676494,
          0.6873380414428827,
          0.6151198201402225,
          0.6427190073176059,
          0.6517942722722687,
          0.685421717782823,
          0.5104652265833862,
          0.6611908972705336,
          0.6571221889847999,
          0.5746635310106527,
          0.5861555541174505,
          0.6338766618634966,
          0.6441154878593525,
          0.6060902801370653,
          0.6248269070255057
         ],
         "zmax": 1.01,
         "zmin": 0.29
        },
        {
         "colorbar": {
          "len": 1,
          "tickfont": {
           "size": 25
          },
          "ticktext": [
           "30%",
           "40%",
           "50%",
           "60%",
           "70%",
           "80%",
           "90%"
          ],
          "tickvals": [
           0.3,
           0.4,
           0.5,
           0.6000000000000001,
           0.7000000000000002,
           0.8000000000000003,
           0.9000000000000001
          ],
          "title": {
           "text": "Emission<br>reduction<br>in 2030<br>w.r.t. 2021"
          },
          "x": 1
         },
         "colorscale": [
          [
           0,
           "rgb(49,54,149)"
          ],
          [
           0.1,
           "rgb(69,117,180)"
          ],
          [
           0.2,
           "rgb(116,173,209)"
          ],
          [
           0.3,
           "rgb(171,217,233)"
          ],
          [
           0.4,
           "rgb(224,243,248)"
          ],
          [
           0.5,
           "rgb(255,255,191)"
          ],
          [
           0.6,
           "rgb(254,224,144)"
          ],
          [
           0.7,
           "rgb(253,174,97)"
          ],
          [
           0.8,
           "rgb(244,109,67)"
          ],
          [
           0.9,
           "rgb(215,48,39)"
          ],
          [
           1,
           "rgb(165,0,38)"
          ]
         ],
         "geo": "geo4",
         "hovertemplate": "%{text}",
         "locationmode": "ISO-3",
         "locations": [
          "AUT",
          "BEL",
          "BGR",
          "HRV",
          "CYP",
          "CZE",
          "DNK",
          "EST",
          "FIN",
          "FRA",
          "DEU",
          "GRC",
          "HUN",
          "IRL",
          "ITA",
          "LVA",
          "LTU",
          "LUX",
          "MLT",
          "NLD",
          "POL",
          "PRT",
          "ROU",
          "SVK",
          "SVN",
          "ESP",
          "SWE"
         ],
         "marker": {
          "line": {
           "color": "grey",
           "width": 0.7
          }
         },
         "name": "",
         "showscale": false,
         "text": [
          "AUT: 0.74 Gt CO<sub>2</sub>e",
          "BEL: 0.79 Gt CO<sub>2</sub>e",
          "BGR: 0.80 Gt CO<sub>2</sub>e",
          "HRV: 0.71 Gt CO<sub>2</sub>e",
          "CYP: 0.64 Gt CO<sub>2</sub>e",
          "CZE: 0.82 Gt CO<sub>2</sub>e",
          "DNK: 0.81 Gt CO<sub>2</sub>e",
          "EST: 0.87 Gt CO<sub>2</sub>e",
          "FIN: 0.85 Gt CO<sub>2</sub>e",
          "FRA: 0.71 Gt CO<sub>2</sub>e",
          "DEU: 0.81 Gt CO<sub>2</sub>e",
          "GRC: 0.84 Gt CO<sub>2</sub>e",
          "HUN: 0.74 Gt CO<sub>2</sub>e",
          "IRL: 0.76 Gt CO<sub>2</sub>e",
          "ITA: 0.76 Gt CO<sub>2</sub>e",
          "LVA: 0.75 Gt CO<sub>2</sub>e",
          "LTU: 0.82 Gt CO<sub>2</sub>e",
          "LUX: 0.83 Gt CO<sub>2</sub>e",
          "MLT: 0.61 Gt CO<sub>2</sub>e",
          "NLD: 0.81 Gt CO<sub>2</sub>e",
          "POL: 0.79 Gt CO<sub>2</sub>e",
          "PRT: 0.72 Gt CO<sub>2</sub>e",
          "ROU: 0.76 Gt CO<sub>2</sub>e",
          "SVK: 0.77 Gt CO<sub>2</sub>e",
          "SVN: 0.78 Gt CO<sub>2</sub>e",
          "ESP: 0.71 Gt CO<sub>2</sub>e",
          "SWE: 0.70 Gt CO<sub>2</sub>e"
         ],
         "type": "choropleth",
         "z": [
          0.7405054129699589,
          0.7947735888056345,
          0.8045433911280373,
          0.7117244833300866,
          0.6430596880648513,
          0.8158059061085415,
          0.8090120611184093,
          0.8691115330428321,
          0.8488947346352561,
          0.7091069891155766,
          0.8133384586947232,
          0.8386361001090388,
          0.740805964951059,
          0.7553783761741312,
          0.7564775893314895,
          0.7520859027333677,
          0.8178504525658031,
          0.8263011572409125,
          0.6147299816324706,
          0.8112921054477865,
          0.7896028303032612,
          0.7220357738223817,
          0.7611861655948736,
          0.7716022717984791,
          0.7782273041625333,
          0.705897150735722,
          0.7017057308317989
         ],
         "zmax": 1.01,
         "zmin": 0.29
        },
        {
         "colorbar": {
          "len": 1,
          "tickfont": {
           "size": 25
          },
          "ticktext": [
           "30%",
           "40%",
           "50%",
           "60%",
           "70%",
           "80%",
           "90%"
          ],
          "tickvals": [
           0.3,
           0.4,
           0.5,
           0.6000000000000001,
           0.7000000000000002,
           0.8000000000000003,
           0.9000000000000001
          ],
          "title": {
           "text": "Emission<br>reduction<br>in 2030<br>w.r.t. 2021"
          },
          "x": 1
         },
         "colorscale": [
          [
           0,
           "rgb(49,54,149)"
          ],
          [
           0.1,
           "rgb(69,117,180)"
          ],
          [
           0.2,
           "rgb(116,173,209)"
          ],
          [
           0.3,
           "rgb(171,217,233)"
          ],
          [
           0.4,
           "rgb(224,243,248)"
          ],
          [
           0.5,
           "rgb(255,255,191)"
          ],
          [
           0.6,
           "rgb(254,224,144)"
          ],
          [
           0.7,
           "rgb(253,174,97)"
          ],
          [
           0.8,
           "rgb(244,109,67)"
          ],
          [
           0.9,
           "rgb(215,48,39)"
          ],
          [
           1,
           "rgb(165,0,38)"
          ]
         ],
         "geo": "geo5",
         "hovertemplate": "%{text}",
         "locationmode": "ISO-3",
         "locations": [
          "AUT",
          "BEL",
          "BGR",
          "HRV",
          "CYP",
          "CZE",
          "DNK",
          "EST",
          "FIN",
          "FRA",
          "DEU",
          "GRC",
          "HUN",
          "IRL",
          "ITA",
          "LVA",
          "LTU",
          "LUX",
          "MLT",
          "NLD",
          "POL",
          "PRT",
          "ROU",
          "SVK",
          "SVN",
          "ESP",
          "SWE"
         ],
         "marker": {
          "line": {
           "color": "grey",
           "width": 0.7
          }
         },
         "name": "",
         "showscale": false,
         "text": [
          "AUT: 0.92 Gt CO<sub>2</sub>e",
          "BEL: 0.90 Gt CO<sub>2</sub>e",
          "BGR: 0.77 Gt CO<sub>2</sub>e",
          "HRV: 0.82 Gt CO<sub>2</sub>e",
          "CYP: 0.83 Gt CO<sub>2</sub>e",
          "CZE: 0.82 Gt CO<sub>2</sub>e",
          "DNK: 0.93 Gt CO<sub>2</sub>e",
          "EST: 0.86 Gt CO<sub>2</sub>e",
          "FIN: 0.90 Gt CO<sub>2</sub>e",
          "FRA: 0.88 Gt CO<sub>2</sub>e",
          "DEU: 0.91 Gt CO<sub>2</sub>e",
          "GRC: 0.81 Gt CO<sub>2</sub>e",
          "HUN: 0.82 Gt CO<sub>2</sub>e",
          "IRL: 1.14 Gt CO<sub>2</sub>e",
          "ITA: 0.85 Gt CO<sub>2</sub>e",
          "LVA: 0.81 Gt CO<sub>2</sub>e",
          "LTU: 0.86 Gt CO<sub>2</sub>e",
          "LUX: 1.15 Gt CO<sub>2</sub>e",
          "MLT: 0.95 Gt CO<sub>2</sub>e",
          "NLD: 0.94 Gt CO<sub>2</sub>e",
          "POL: 0.83 Gt CO<sub>2</sub>e",
          "PRT: 0.83 Gt CO<sub>2</sub>e",
          "ROU: 0.79 Gt CO<sub>2</sub>e",
          "SVK: nan Gt CO<sub>2</sub>e",
          "SVN: 0.85 Gt CO<sub>2</sub>e",
          "ESP: 0.84 Gt CO<sub>2</sub>e",
          "SWE: 0.93 Gt CO<sub>2</sub>e"
         ],
         "type": "choropleth",
         "z": [
          0.9203490821269019,
          0.9046342420032395,
          0.7653613634241586,
          0.8242115873690727,
          0.8346746411960727,
          0.8245418050777201,
          0.9312554242991797,
          0.8552849009352957,
          0.8974723288156524,
          0.8770881376265982,
          0.9069733615107379,
          0.8101329712710192,
          0.8212197792780329,
          1.1353937679063302,
          0.8468614117677069,
          0.8087541476535781,
          0.8646327331041147,
          1.1539193745190999,
          0.948137085469568,
          0.9351876699993575,
          0.8304150044642475,
          0.8261196826096815,
          0.7934057550717837,
          null,
          0.8516627092740733,
          0.8382615977546658,
          0.9304754278267147
         ],
         "zmax": 1.01,
         "zmin": 0.29
        },
        {
         "colorbar": {
          "len": 1,
          "tickfont": {
           "size": 25
          },
          "ticktext": [
           "30%",
           "40%",
           "50%",
           "60%",
           "70%",
           "80%",
           "90%"
          ],
          "tickvals": [
           0.3,
           0.4,
           0.5,
           0.6000000000000001,
           0.7000000000000002,
           0.8000000000000003,
           0.9000000000000001
          ],
          "title": {
           "text": "Emission<br>reduction<br>in 2030<br>w.r.t. 2021"
          },
          "x": 1
         },
         "colorscale": [
          [
           0,
           "rgb(49,54,149)"
          ],
          [
           0.1,
           "rgb(69,117,180)"
          ],
          [
           0.2,
           "rgb(116,173,209)"
          ],
          [
           0.3,
           "rgb(171,217,233)"
          ],
          [
           0.4,
           "rgb(224,243,248)"
          ],
          [
           0.5,
           "rgb(255,255,191)"
          ],
          [
           0.6,
           "rgb(254,224,144)"
          ],
          [
           0.7,
           "rgb(253,174,97)"
          ],
          [
           0.8,
           "rgb(244,109,67)"
          ],
          [
           0.9,
           "rgb(215,48,39)"
          ],
          [
           1,
           "rgb(165,0,38)"
          ]
         ],
         "geo": "geo6",
         "hovertemplate": "%{text}",
         "locationmode": "ISO-3",
         "locations": [
          "AUT",
          "BEL",
          "BGR",
          "HRV",
          "CYP",
          "CZE",
          "DNK",
          "EST",
          "FIN",
          "FRA",
          "DEU",
          "GRC",
          "HUN",
          "IRL",
          "ITA",
          "LVA",
          "LTU",
          "LUX",
          "MLT",
          "NLD",
          "POL",
          "PRT",
          "ROU",
          "SVK",
          "SVN",
          "ESP",
          "SWE"
         ],
         "marker": {
          "line": {
           "color": "grey",
           "width": 0.7
          }
         },
         "name": "",
         "showscale": false,
         "text": [
          "AUT: 2.50 Gt CO<sub>2</sub>e",
          "BEL: 2.03 Gt CO<sub>2</sub>e",
          "BGR: 0.85 Gt CO<sub>2</sub>e",
          "HRV: 1.48 Gt CO<sub>2</sub>e",
          "CYP: 1.66 Gt CO<sub>2</sub>e",
          "CZE: 1.56 Gt CO<sub>2</sub>e",
          "DNK: 3.32 Gt CO<sub>2</sub>e",
          "EST: 1.45 Gt CO<sub>2</sub>e",
          "FIN: 1.74 Gt CO<sub>2</sub>e",
          "FRA: 2.83 Gt CO<sub>2</sub>e",
          "DEU: 2.44 Gt CO<sub>2</sub>e",
          "GRC: 2.24 Gt CO<sub>2</sub>e",
          "HUN: 1.48 Gt CO<sub>2</sub>e",
          "IRL: 2.67 Gt CO<sub>2</sub>e",
          "ITA: 2.24 Gt CO<sub>2</sub>e",
          "LVA: 0.96 Gt CO<sub>2</sub>e",
          "LTU: 1.13 Gt CO<sub>2</sub>e",
          "LUX: 3.28 Gt CO<sub>2</sub>e",
          "MLT: 3.47 Gt CO<sub>2</sub>e",
          "NLD: 2.46 Gt CO<sub>2</sub>e",
          "POL: 1.10 Gt CO<sub>2</sub>e",
          "PRT: 2.18 Gt CO<sub>2</sub>e",
          "ROU: 1.13 Gt CO<sub>2</sub>e",
          "SVK: nan Gt CO<sub>2</sub>e",
          "SVN: 1.65 Gt CO<sub>2</sub>e",
          "ESP: 2.26 Gt CO<sub>2</sub>e",
          "SWE: 2.97 Gt CO<sub>2</sub>e"
         ],
         "type": "choropleth",
         "z": [
          2.5023823212846796,
          2.031113302624153,
          0.8475157176457813,
          1.4849794391527442,
          1.6556835772649332,
          1.5644937849605436,
          3.3168576324704127,
          1.4513876191800477,
          1.7417681186726146,
          2.832949059117295,
          2.439294124143799,
          2.242411973188107,
          1.4762208743035536,
          2.6723434172173937,
          2.24398478637505,
          0.9586656634123105,
          1.1310316964231228,
          3.283959633396752,
          3.469881245465505,
          2.4594217574535873,
          1.0955686190570202,
          2.1830784364016402,
          1.1304343481600438,
          null,
          1.6455940915903293,
          2.26135610786333,
          2.970316570144434
         ],
         "zmax": 1.01,
         "zmin": 0.29
        },
        {
         "featureidkey": "properties.NAME_3",
         "geo": "geo",
         "hoverinfo": "skip",
         "locations": [
          "AUT",
          "BEL",
          "BGR",
          "HRV",
          "CYP",
          "CZE",
          "DNK",
          "EST",
          "FIN",
          "FRA",
          "DEU",
          "GRC",
          "HUN",
          "IRL",
          "ITA",
          "LVA",
          "LTU",
          "LUX",
          "MLT",
          "NLD",
          "POL",
          "PRT",
          "ROU",
          "SVK",
          "SVN",
          "ESP",
          "SWE"
         ],
         "mode": "text",
         "showlegend": false,
         "text": [
          "62%",
          "62%",
          "62%",
          "62%",
          "62%",
          "62%",
          "62%",
          "62%",
          "62%",
          "62%",
          "62%",
          "62%",
          "62%",
          "62%",
          "62%",
          "62%",
          "62%",
          "62%",
          "62%",
          "62%",
          "62%",
          "62%",
          "62%",
          "62%",
          "62%",
          "62%",
          "62%"
         ],
         "textfont": {
          "color": "black",
          "size": 20
         },
         "type": "scattergeo"
        },
        {
         "featureidkey": "properties.NAME_3",
         "geo": "geo2",
         "hoverinfo": "skip",
         "locations": [
          "AUT",
          "BEL",
          "BGR",
          "HRV",
          "CYP",
          "CZE",
          "DNK",
          "EST",
          "FIN",
          "FRA",
          "DEU",
          "GRC",
          "HUN",
          "IRL",
          "ITA",
          "LVA",
          "LTU",
          "LUX",
          "MLT",
          "NLD",
          "POL",
          "PRT",
          "ROU",
          "SVK",
          "SVN",
          "ESP",
          "SWE"
         ],
         "mode": "text",
         "showlegend": false,
         "text": [
          "68%",
          "75%",
          "64%",
          "49%",
          "60%",
          "73%",
          "66%",
          "79%",
          "80%",
          "57%",
          "71%",
          "55%",
          "56%",
          "83%",
          "59%",
          "68%",
          "71%",
          "82%",
          "26%",
          "74%",
          "73%",
          "46%",
          "50%",
          "65%",
          "69%",
          "57%",
          "63%"
         ],
         "textfont": {
          "color": "black",
          "size": 20
         },
         "type": "scattergeo"
        },
        {
         "featureidkey": "properties.NAME_3",
         "geo": "geo3",
         "hoverinfo": "skip",
         "locations": [
          "AUT",
          "BEL",
          "BGR",
          "HRV",
          "CYP",
          "CZE",
          "DNK",
          "EST",
          "FIN",
          "FRA",
          "DEU",
          "GRC",
          "HUN",
          "IRL",
          "ITA",
          "LVA",
          "LTU",
          "LUX",
          "MLT",
          "NLD",
          "POL",
          "PRT",
          "ROU",
          "SVK",
          "SVN",
          "ESP",
          "SWE"
         ],
         "mode": "text",
         "showlegend": false,
         "text": [
          "64%",
          "66%",
          "63%",
          "58%",
          "61%",
          "65%",
          "63%",
          "67%",
          "67%",
          "60%",
          "65%",
          "60%",
          "60%",
          "68%",
          "61%",
          "64%",
          "65%",
          "68%",
          "51%",
          "66%",
          "65%",
          "57%",
          "58%",
          "63%",
          "64%",
          "60%",
          "62%"
         ],
         "textfont": {
          "color": "black",
          "size": 20
         },
         "type": "scattergeo"
        },
        {
         "featureidkey": "properties.NAME_3",
         "geo": "geo4",
         "hoverinfo": "skip",
         "locations": [
          "AUT",
          "BEL",
          "BGR",
          "HRV",
          "CYP",
          "CZE",
          "DNK",
          "EST",
          "FIN",
          "FRA",
          "DEU",
          "GRC",
          "HUN",
          "IRL",
          "ITA",
          "LVA",
          "LTU",
          "LUX",
          "MLT",
          "NLD",
          "POL",
          "PRT",
          "ROU",
          "SVK",
          "SVN",
          "ESP",
          "SWE"
         ],
         "mode": "text",
         "showlegend": false,
         "text": [
          "74%",
          "79%",
          "80%",
          "71%",
          "64%",
          "81%",
          "80%",
          "86%",
          "84%",
          "70%",
          "81%",
          "83%",
          "74%",
          "75%",
          "75%",
          "75%",
          "81%",
          "82%",
          "61%",
          "81%",
          "78%",
          "72%",
          "76%",
          "77%",
          "77%",
          "70%",
          "70%"
         ],
         "textfont": {
          "color": "black",
          "size": 20
         },
         "type": "scattergeo"
        },
        {
         "featureidkey": "properties.NAME_3",
         "geo": "geo5",
         "hoverinfo": "skip",
         "locations": [
          "AUT",
          "BEL",
          "BGR",
          "HRV",
          "CYP",
          "CZE",
          "DNK",
          "EST",
          "FIN",
          "FRA",
          "DEU",
          "GRC",
          "HUN",
          "IRL",
          "ITA",
          "LVA",
          "LTU",
          "LUX",
          "MLT",
          "NLD",
          "POL",
          "PRT",
          "ROU",
          "SVK",
          "SVN",
          "ESP",
          "SWE"
         ],
         "mode": "text",
         "showlegend": false,
         "text": [
          "92%",
          "90%",
          "76%",
          "82%",
          "83%",
          "82%",
          "93%",
          "85%",
          "89%",
          "87%",
          "90%",
          "81%",
          "82%",
          "113%",
          "84%",
          "80%",
          "86%",
          "115%",
          "94%",
          "93%",
          "83%",
          "82%",
          "79%",
          "88%",
          "85%",
          "83%",
          "93%"
         ],
         "textfont": {
          "color": "black",
          "size": 20
         },
         "type": "scattergeo"
        },
        {
         "featureidkey": "properties.NAME_3",
         "geo": "geo6",
         "hoverinfo": "skip",
         "locations": [
          "AUT",
          "BEL",
          "BGR",
          "HRV",
          "CYP",
          "CZE",
          "DNK",
          "EST",
          "FIN",
          "FRA",
          "DEU",
          "GRC",
          "HUN",
          "IRL",
          "ITA",
          "LVA",
          "LTU",
          "LUX",
          "MLT",
          "NLD",
          "POL",
          "PRT",
          "ROU",
          "SVK",
          "SVN",
          "ESP",
          "SWE"
         ],
         "mode": "text",
         "showlegend": false,
         "text": [
          "250%",
          "203%",
          "84%",
          "148%",
          "165%",
          "156%",
          "331%",
          "145%",
          "174%",
          "283%",
          "243%",
          "224%",
          "147%",
          "267%",
          "224%",
          "95%",
          "113%",
          "328%",
          "346%",
          "245%",
          "109%",
          "218%",
          "113%",
          "204%",
          "164%",
          "226%",
          "297%"
         ],
         "textfont": {
          "color": "black",
          "size": 20
         },
         "type": "scattergeo"
        }
       ],
       "layout": {
        "annotations": [
         {
          "align": "left",
          "ax": 0,
          "ay": 0,
          "font": {
           "color": "black",
           "size": 25
          },
          "showarrow": false,
          "text": "<b>(a) Grandfathering</b>",
          "x": 0.07,
          "xref": "paper",
          "y": 0.96,
          "yref": "paper"
         },
         {
          "align": "left",
          "ax": 0,
          "ay": 0,
          "font": {
           "color": "black",
           "size": 25
          },
          "showarrow": false,
          "text": "<b>(b) Per Capita</b>",
          "x": 0.47,
          "xref": "paper",
          "y": 0.96,
          "yref": "paper"
         },
         {
          "align": "left",
          "ax": 0,
          "ay": 0,
          "font": {
           "color": "black",
           "size": 25
          },
          "showarrow": false,
          "text": "<b>(c) Per Capita Convergence</b>",
          "x": 0.9,
          "xref": "paper",
          "y": 0.96,
          "yref": "paper"
         },
         {
          "align": "left",
          "ax": 0,
          "ay": 0,
          "font": {
           "color": "black",
           "size": 25
          },
          "showarrow": false,
          "text": "<b>(d) Equal Cumulative per Capita</b>",
          "x": 0.07,
          "xref": "paper",
          "y": 0.45,
          "yref": "paper"
         },
         {
          "align": "left",
          "ax": 0,
          "ay": 0,
          "font": {
           "color": "black",
           "size": 25
          },
          "showarrow": false,
          "text": "<b>(e) Ability to Pay</b>",
          "x": 0.48,
          "xref": "paper",
          "y": 0.45,
          "yref": "paper"
         },
         {
          "align": "left",
          "ax": 0,
          "ay": 0,
          "font": {
           "color": "black",
           "size": 25
          },
          "showarrow": false,
          "text": "<b>(f) Greenhouse Development Rights</b>",
          "x": 0.95,
          "xref": "paper",
          "y": 0.45,
          "yref": "paper"
         }
        ],
        "geo": {
         "domain": {
          "x": [
           0,
           0.3333333333333333
          ],
          "y": [
           0.5,
           1
          ]
         },
         "lakecolor": "rgb(255, 255, 255)",
         "lataxis": {
          "range": [
           30,
           75
          ]
         },
         "lonaxis": {
          "range": [
           -20,
           40
          ]
         },
         "projection": {
          "type": "natural earth"
         },
         "resolution": 50,
         "scope": "europe",
         "showcoastlines": false,
         "showcountries": false,
         "showlakes": true,
         "visible": true
        },
        "geo2": {
         "domain": {
          "x": [
           0.3333333333333333,
           0.6666666666666666
          ],
          "y": [
           0.5,
           1
          ]
         },
         "lakecolor": "rgb(255, 255, 255)",
         "lataxis": {
          "range": [
           30,
           75
          ]
         },
         "lonaxis": {
          "range": [
           -20,
           40
          ]
         },
         "projection": {
          "type": "natural earth"
         },
         "resolution": 50,
         "scope": "europe",
         "showcoastlines": false,
         "showcountries": false,
         "showlakes": true,
         "visible": true
        },
        "geo3": {
         "domain": {
          "x": [
           0.6666666666666666,
           1
          ],
          "y": [
           0.5,
           1
          ]
         },
         "lakecolor": "rgb(255, 255, 255)",
         "lataxis": {
          "range": [
           30,
           75
          ]
         },
         "lonaxis": {
          "range": [
           -20,
           40
          ]
         },
         "projection": {
          "type": "natural earth"
         },
         "resolution": 50,
         "scope": "europe",
         "showcoastlines": false,
         "showcountries": false,
         "showlakes": true,
         "visible": true
        },
        "geo4": {
         "domain": {
          "x": [
           0,
           0.3333333333333333
          ],
          "y": [
           0,
           0.5
          ]
         },
         "lakecolor": "rgb(255, 255, 255)",
         "lataxis": {
          "range": [
           30,
           75
          ]
         },
         "lonaxis": {
          "range": [
           -20,
           40
          ]
         },
         "projection": {
          "type": "natural earth"
         },
         "resolution": 50,
         "scope": "europe",
         "showcoastlines": false,
         "showcountries": false,
         "showlakes": true,
         "visible": true
        },
        "geo5": {
         "domain": {
          "x": [
           0.3333333333333333,
           0.6666666666666666
          ],
          "y": [
           0,
           0.5
          ]
         },
         "lakecolor": "rgb(255, 255, 255)",
         "lataxis": {
          "range": [
           30,
           75
          ]
         },
         "lonaxis": {
          "range": [
           -20,
           40
          ]
         },
         "projection": {
          "type": "natural earth"
         },
         "resolution": 50,
         "scope": "europe",
         "showcoastlines": false,
         "showcountries": false,
         "showlakes": true,
         "visible": true
        },
        "geo6": {
         "domain": {
          "x": [
           0.6666666666666666,
           1
          ],
          "y": [
           0,
           0.5
          ]
         },
         "lakecolor": "rgb(255, 255, 255)",
         "lataxis": {
          "range": [
           30,
           75
          ]
         },
         "lonaxis": {
          "range": [
           -20,
           40
          ]
         },
         "projection": {
          "type": "natural earth"
         },
         "resolution": 50,
         "scope": "europe",
         "showcoastlines": false,
         "showcountries": false,
         "showlakes": true,
         "visible": true
        },
        "height": 1200,
        "margin": {
         "b": 0,
         "l": 0,
         "r": 0,
         "t": 0
        },
        "template": {
         "data": {
          "bar": [
           {
            "error_x": {
             "color": "#2a3f5f"
            },
            "error_y": {
             "color": "#2a3f5f"
            },
            "marker": {
             "line": {
              "color": "#E5ECF6",
              "width": 0.5
             },
             "pattern": {
              "fillmode": "overlay",
              "size": 10,
              "solidity": 0.2
             }
            },
            "type": "bar"
           }
          ],
          "barpolar": [
           {
            "marker": {
             "line": {
              "color": "#E5ECF6",
              "width": 0.5
             },
             "pattern": {
              "fillmode": "overlay",
              "size": 10,
              "solidity": 0.2
             }
            },
            "type": "barpolar"
           }
          ],
          "carpet": [
           {
            "aaxis": {
             "endlinecolor": "#2a3f5f",
             "gridcolor": "white",
             "linecolor": "white",
             "minorgridcolor": "white",
             "startlinecolor": "#2a3f5f"
            },
            "baxis": {
             "endlinecolor": "#2a3f5f",
             "gridcolor": "white",
             "linecolor": "white",
             "minorgridcolor": "white",
             "startlinecolor": "#2a3f5f"
            },
            "type": "carpet"
           }
          ],
          "choropleth": [
           {
            "colorbar": {
             "outlinewidth": 0,
             "ticks": ""
            },
            "type": "choropleth"
           }
          ],
          "contour": [
           {
            "colorbar": {
             "outlinewidth": 0,
             "ticks": ""
            },
            "colorscale": [
             [
              0,
              "#0d0887"
             ],
             [
              0.1111111111111111,
              "#46039f"
             ],
             [
              0.2222222222222222,
              "#7201a8"
             ],
             [
              0.3333333333333333,
              "#9c179e"
             ],
             [
              0.4444444444444444,
              "#bd3786"
             ],
             [
              0.5555555555555556,
              "#d8576b"
             ],
             [
              0.6666666666666666,
              "#ed7953"
             ],
             [
              0.7777777777777778,
              "#fb9f3a"
             ],
             [
              0.8888888888888888,
              "#fdca26"
             ],
             [
              1,
              "#f0f921"
             ]
            ],
            "type": "contour"
           }
          ],
          "contourcarpet": [
           {
            "colorbar": {
             "outlinewidth": 0,
             "ticks": ""
            },
            "type": "contourcarpet"
           }
          ],
          "heatmap": [
           {
            "colorbar": {
             "outlinewidth": 0,
             "ticks": ""
            },
            "colorscale": [
             [
              0,
              "#0d0887"
             ],
             [
              0.1111111111111111,
              "#46039f"
             ],
             [
              0.2222222222222222,
              "#7201a8"
             ],
             [
              0.3333333333333333,
              "#9c179e"
             ],
             [
              0.4444444444444444,
              "#bd3786"
             ],
             [
              0.5555555555555556,
              "#d8576b"
             ],
             [
              0.6666666666666666,
              "#ed7953"
             ],
             [
              0.7777777777777778,
              "#fb9f3a"
             ],
             [
              0.8888888888888888,
              "#fdca26"
             ],
             [
              1,
              "#f0f921"
             ]
            ],
            "type": "heatmap"
           }
          ],
          "heatmapgl": [
           {
            "colorbar": {
             "outlinewidth": 0,
             "ticks": ""
            },
            "colorscale": [
             [
              0,
              "#0d0887"
             ],
             [
              0.1111111111111111,
              "#46039f"
             ],
             [
              0.2222222222222222,
              "#7201a8"
             ],
             [
              0.3333333333333333,
              "#9c179e"
             ],
             [
              0.4444444444444444,
              "#bd3786"
             ],
             [
              0.5555555555555556,
              "#d8576b"
             ],
             [
              0.6666666666666666,
              "#ed7953"
             ],
             [
              0.7777777777777778,
              "#fb9f3a"
             ],
             [
              0.8888888888888888,
              "#fdca26"
             ],
             [
              1,
              "#f0f921"
             ]
            ],
            "type": "heatmapgl"
           }
          ],
          "histogram": [
           {
            "marker": {
             "pattern": {
              "fillmode": "overlay",
              "size": 10,
              "solidity": 0.2
             }
            },
            "type": "histogram"
           }
          ],
          "histogram2d": [
           {
            "colorbar": {
             "outlinewidth": 0,
             "ticks": ""
            },
            "colorscale": [
             [
              0,
              "#0d0887"
             ],
             [
              0.1111111111111111,
              "#46039f"
             ],
             [
              0.2222222222222222,
              "#7201a8"
             ],
             [
              0.3333333333333333,
              "#9c179e"
             ],
             [
              0.4444444444444444,
              "#bd3786"
             ],
             [
              0.5555555555555556,
              "#d8576b"
             ],
             [
              0.6666666666666666,
              "#ed7953"
             ],
             [
              0.7777777777777778,
              "#fb9f3a"
             ],
             [
              0.8888888888888888,
              "#fdca26"
             ],
             [
              1,
              "#f0f921"
             ]
            ],
            "type": "histogram2d"
           }
          ],
          "histogram2dcontour": [
           {
            "colorbar": {
             "outlinewidth": 0,
             "ticks": ""
            },
            "colorscale": [
             [
              0,
              "#0d0887"
             ],
             [
              0.1111111111111111,
              "#46039f"
             ],
             [
              0.2222222222222222,
              "#7201a8"
             ],
             [
              0.3333333333333333,
              "#9c179e"
             ],
             [
              0.4444444444444444,
              "#bd3786"
             ],
             [
              0.5555555555555556,
              "#d8576b"
             ],
             [
              0.6666666666666666,
              "#ed7953"
             ],
             [
              0.7777777777777778,
              "#fb9f3a"
             ],
             [
              0.8888888888888888,
              "#fdca26"
             ],
             [
              1,
              "#f0f921"
             ]
            ],
            "type": "histogram2dcontour"
           }
          ],
          "mesh3d": [
           {
            "colorbar": {
             "outlinewidth": 0,
             "ticks": ""
            },
            "type": "mesh3d"
           }
          ],
          "parcoords": [
           {
            "line": {
             "colorbar": {
              "outlinewidth": 0,
              "ticks": ""
             }
            },
            "type": "parcoords"
           }
          ],
          "pie": [
           {
            "automargin": true,
            "type": "pie"
           }
          ],
          "scatter": [
           {
            "fillpattern": {
             "fillmode": "overlay",
             "size": 10,
             "solidity": 0.2
            },
            "type": "scatter"
           }
          ],
          "scatter3d": [
           {
            "line": {
             "colorbar": {
              "outlinewidth": 0,
              "ticks": ""
             }
            },
            "marker": {
             "colorbar": {
              "outlinewidth": 0,
              "ticks": ""
             }
            },
            "type": "scatter3d"
           }
          ],
          "scattercarpet": [
           {
            "marker": {
             "colorbar": {
              "outlinewidth": 0,
              "ticks": ""
             }
            },
            "type": "scattercarpet"
           }
          ],
          "scattergeo": [
           {
            "marker": {
             "colorbar": {
              "outlinewidth": 0,
              "ticks": ""
             }
            },
            "type": "scattergeo"
           }
          ],
          "scattergl": [
           {
            "marker": {
             "colorbar": {
              "outlinewidth": 0,
              "ticks": ""
             }
            },
            "type": "scattergl"
           }
          ],
          "scattermapbox": [
           {
            "marker": {
             "colorbar": {
              "outlinewidth": 0,
              "ticks": ""
             }
            },
            "type": "scattermapbox"
           }
          ],
          "scatterpolar": [
           {
            "marker": {
             "colorbar": {
              "outlinewidth": 0,
              "ticks": ""
             }
            },
            "type": "scatterpolar"
           }
          ],
          "scatterpolargl": [
           {
            "marker": {
             "colorbar": {
              "outlinewidth": 0,
              "ticks": ""
             }
            },
            "type": "scatterpolargl"
           }
          ],
          "scatterternary": [
           {
            "marker": {
             "colorbar": {
              "outlinewidth": 0,
              "ticks": ""
             }
            },
            "type": "scatterternary"
           }
          ],
          "surface": [
           {
            "colorbar": {
             "outlinewidth": 0,
             "ticks": ""
            },
            "colorscale": [
             [
              0,
              "#0d0887"
             ],
             [
              0.1111111111111111,
              "#46039f"
             ],
             [
              0.2222222222222222,
              "#7201a8"
             ],
             [
              0.3333333333333333,
              "#9c179e"
             ],
             [
              0.4444444444444444,
              "#bd3786"
             ],
             [
              0.5555555555555556,
              "#d8576b"
             ],
             [
              0.6666666666666666,
              "#ed7953"
             ],
             [
              0.7777777777777778,
              "#fb9f3a"
             ],
             [
              0.8888888888888888,
              "#fdca26"
             ],
             [
              1,
              "#f0f921"
             ]
            ],
            "type": "surface"
           }
          ],
          "table": [
           {
            "cells": {
             "fill": {
              "color": "#EBF0F8"
             },
             "line": {
              "color": "white"
             }
            },
            "header": {
             "fill": {
              "color": "#C8D4E3"
             },
             "line": {
              "color": "white"
             }
            },
            "type": "table"
           }
          ]
         },
         "layout": {
          "annotationdefaults": {
           "arrowcolor": "#2a3f5f",
           "arrowhead": 0,
           "arrowwidth": 1
          },
          "autotypenumbers": "strict",
          "coloraxis": {
           "colorbar": {
            "outlinewidth": 0,
            "ticks": ""
           }
          },
          "colorscale": {
           "diverging": [
            [
             0,
             "#8e0152"
            ],
            [
             0.1,
             "#c51b7d"
            ],
            [
             0.2,
             "#de77ae"
            ],
            [
             0.3,
             "#f1b6da"
            ],
            [
             0.4,
             "#fde0ef"
            ],
            [
             0.5,
             "#f7f7f7"
            ],
            [
             0.6,
             "#e6f5d0"
            ],
            [
             0.7,
             "#b8e186"
            ],
            [
             0.8,
             "#7fbc41"
            ],
            [
             0.9,
             "#4d9221"
            ],
            [
             1,
             "#276419"
            ]
           ],
           "sequential": [
            [
             0,
             "#0d0887"
            ],
            [
             0.1111111111111111,
             "#46039f"
            ],
            [
             0.2222222222222222,
             "#7201a8"
            ],
            [
             0.3333333333333333,
             "#9c179e"
            ],
            [
             0.4444444444444444,
             "#bd3786"
            ],
            [
             0.5555555555555556,
             "#d8576b"
            ],
            [
             0.6666666666666666,
             "#ed7953"
            ],
            [
             0.7777777777777778,
             "#fb9f3a"
            ],
            [
             0.8888888888888888,
             "#fdca26"
            ],
            [
             1,
             "#f0f921"
            ]
           ],
           "sequentialminus": [
            [
             0,
             "#0d0887"
            ],
            [
             0.1111111111111111,
             "#46039f"
            ],
            [
             0.2222222222222222,
             "#7201a8"
            ],
            [
             0.3333333333333333,
             "#9c179e"
            ],
            [
             0.4444444444444444,
             "#bd3786"
            ],
            [
             0.5555555555555556,
             "#d8576b"
            ],
            [
             0.6666666666666666,
             "#ed7953"
            ],
            [
             0.7777777777777778,
             "#fb9f3a"
            ],
            [
             0.8888888888888888,
             "#fdca26"
            ],
            [
             1,
             "#f0f921"
            ]
           ]
          },
          "colorway": [
           "#636efa",
           "#EF553B",
           "#00cc96",
           "#ab63fa",
           "#FFA15A",
           "#19d3f3",
           "#FF6692",
           "#B6E880",
           "#FF97FF",
           "#FECB52"
          ],
          "font": {
           "color": "#2a3f5f"
          },
          "geo": {
           "bgcolor": "white",
           "lakecolor": "white",
           "landcolor": "#E5ECF6",
           "showlakes": true,
           "showland": true,
           "subunitcolor": "white"
          },
          "hoverlabel": {
           "align": "left"
          },
          "hovermode": "closest",
          "mapbox": {
           "style": "light"
          },
          "paper_bgcolor": "white",
          "plot_bgcolor": "#E5ECF6",
          "polar": {
           "angularaxis": {
            "gridcolor": "white",
            "linecolor": "white",
            "ticks": ""
           },
           "bgcolor": "#E5ECF6",
           "radialaxis": {
            "gridcolor": "white",
            "linecolor": "white",
            "ticks": ""
           }
          },
          "scene": {
           "xaxis": {
            "backgroundcolor": "#E5ECF6",
            "gridcolor": "white",
            "gridwidth": 2,
            "linecolor": "white",
            "showbackground": true,
            "ticks": "",
            "zerolinecolor": "white"
           },
           "yaxis": {
            "backgroundcolor": "#E5ECF6",
            "gridcolor": "white",
            "gridwidth": 2,
            "linecolor": "white",
            "showbackground": true,
            "ticks": "",
            "zerolinecolor": "white"
           },
           "zaxis": {
            "backgroundcolor": "#E5ECF6",
            "gridcolor": "white",
            "gridwidth": 2,
            "linecolor": "white",
            "showbackground": true,
            "ticks": "",
            "zerolinecolor": "white"
           }
          },
          "shapedefaults": {
           "line": {
            "color": "#2a3f5f"
           }
          },
          "ternary": {
           "aaxis": {
            "gridcolor": "white",
            "linecolor": "white",
            "ticks": ""
           },
           "baxis": {
            "gridcolor": "white",
            "linecolor": "white",
            "ticks": ""
           },
           "bgcolor": "#E5ECF6",
           "caxis": {
            "gridcolor": "white",
            "linecolor": "white",
            "ticks": ""
           }
          },
          "title": {
           "x": 0.05
          },
          "xaxis": {
           "automargin": true,
           "gridcolor": "white",
           "linecolor": "white",
           "ticks": "",
           "title": {
            "standoff": 15
           },
           "zerolinecolor": "white",
           "zerolinewidth": 2
          },
          "yaxis": {
           "automargin": true,
           "gridcolor": "white",
           "linecolor": "white",
           "ticks": "",
           "title": {
            "standoff": 15
           },
           "zerolinecolor": "white",
           "zerolinewidth": 2
          }
         }
        },
        "width": 2300
       }
      }
     },
     "metadata": {},
     "output_type": "display_data"
    },
    {
     "name": "stderr",
     "output_type": "stream",
     "text": [
      "C:\\Users\\dekkerm\\AppData\\Local\\Temp\\2\\ipykernel_8640\\1970047442.py:81: RuntimeWarning:\n",
      "\n",
      "invalid value encountered in cast\n",
      "\n"
     ]
    },
    {
     "data": {
      "application/vnd.plotly.v1+json": {
       "config": {
        "plotlyServerURL": "https://plot.ly"
       },
       "data": [
        {
         "colorbar": {
          "len": 1,
          "tickfont": {
           "size": 25
          },
          "ticktext": [
           "30%",
           "40%",
           "50%",
           "60%",
           "70%",
           "80%",
           "90%"
          ],
          "tickvals": [
           0.3,
           0.4,
           0.5,
           0.6000000000000001,
           0.7000000000000002,
           0.8000000000000003,
           0.9000000000000001
          ],
          "title": {
           "text": "Emission<br>reduction<br>in 2040<br>w.r.t. 2021"
          },
          "x": 1
         },
         "colorscale": [
          [
           0,
           "rgb(49,54,149)"
          ],
          [
           0.1,
           "rgb(69,117,180)"
          ],
          [
           0.2,
           "rgb(116,173,209)"
          ],
          [
           0.3,
           "rgb(171,217,233)"
          ],
          [
           0.4,
           "rgb(224,243,248)"
          ],
          [
           0.5,
           "rgb(255,255,191)"
          ],
          [
           0.6,
           "rgb(254,224,144)"
          ],
          [
           0.7,
           "rgb(253,174,97)"
          ],
          [
           0.8,
           "rgb(244,109,67)"
          ],
          [
           0.9,
           "rgb(215,48,39)"
          ],
          [
           1,
           "rgb(165,0,38)"
          ]
         ],
         "geo": "geo",
         "hovertemplate": "%{text}",
         "locationmode": "ISO-3",
         "locations": [
          "AUT",
          "BEL",
          "BGR",
          "HRV",
          "CYP",
          "CZE",
          "DNK",
          "EST",
          "FIN",
          "FRA",
          "DEU",
          "GRC",
          "HUN",
          "IRL",
          "ITA",
          "LVA",
          "LTU",
          "LUX",
          "MLT",
          "NLD",
          "POL",
          "PRT",
          "ROU",
          "SVK",
          "SVN",
          "ESP",
          "SWE"
         ],
         "marker": {
          "line": {
           "color": "grey",
           "width": 0.7
          }
         },
         "name": "",
         "showscale": true,
         "text": [
          "AUT: 0.86 Gt CO<sub>2</sub>e",
          "BEL: 0.86 Gt CO<sub>2</sub>e",
          "BGR: 0.86 Gt CO<sub>2</sub>e",
          "HRV: 0.86 Gt CO<sub>2</sub>e",
          "CYP: 0.86 Gt CO<sub>2</sub>e",
          "CZE: 0.86 Gt CO<sub>2</sub>e",
          "DNK: 0.86 Gt CO<sub>2</sub>e",
          "EST: 0.86 Gt CO<sub>2</sub>e",
          "FIN: 0.86 Gt CO<sub>2</sub>e",
          "FRA: 0.86 Gt CO<sub>2</sub>e",
          "DEU: 0.86 Gt CO<sub>2</sub>e",
          "GRC: 0.86 Gt CO<sub>2</sub>e",
          "HUN: 0.86 Gt CO<sub>2</sub>e",
          "IRL: 0.86 Gt CO<sub>2</sub>e",
          "ITA: 0.86 Gt CO<sub>2</sub>e",
          "LVA: 0.86 Gt CO<sub>2</sub>e",
          "LTU: 0.86 Gt CO<sub>2</sub>e",
          "LUX: 0.86 Gt CO<sub>2</sub>e",
          "MLT: 0.86 Gt CO<sub>2</sub>e",
          "NLD: 0.86 Gt CO<sub>2</sub>e",
          "POL: 0.86 Gt CO<sub>2</sub>e",
          "PRT: 0.86 Gt CO<sub>2</sub>e",
          "ROU: 0.86 Gt CO<sub>2</sub>e",
          "SVK: 0.86 Gt CO<sub>2</sub>e",
          "SVN: 0.86 Gt CO<sub>2</sub>e",
          "ESP: 0.86 Gt CO<sub>2</sub>e",
          "SWE: 0.86 Gt CO<sub>2</sub>e"
         ],
         "type": "choropleth",
         "z": [
          0.8647476460451167,
          0.864747645490367,
          0.8647476485442551,
          0.8647476476204791,
          0.8647476498729059,
          0.864747652705283,
          0.8647476487795255,
          0.8647476536496349,
          0.8647476457146822,
          0.8647476492029149,
          0.864747654367645,
          0.8647476524097848,
          0.8647476485192572,
          0.8647476452570211,
          0.8647476512778621,
          0.8647476497571956,
          0.8647476500900755,
          0.8647476498941137,
          0.8647476484260644,
          0.8647476509682838,
          0.8647476555444826,
          0.8647476515738356,
          0.8647476485874107,
          0.8647476456491427,
          0.8647476490448739,
          0.8647476483397515,
          0.8647476547888792
         ],
         "zmax": 1.01,
         "zmin": 0.29
        },
        {
         "colorbar": {
          "len": 1,
          "tickfont": {
           "size": 25
          },
          "ticktext": [
           "30%",
           "40%",
           "50%",
           "60%",
           "70%",
           "80%",
           "90%"
          ],
          "tickvals": [
           0.3,
           0.4,
           0.5,
           0.6000000000000001,
           0.7000000000000002,
           0.8000000000000003,
           0.9000000000000001
          ],
          "title": {
           "text": "Emission<br>reduction<br>in 2040<br>w.r.t. 2021"
          },
          "x": 1
         },
         "colorscale": [
          [
           0,
           "rgb(49,54,149)"
          ],
          [
           0.1,
           "rgb(69,117,180)"
          ],
          [
           0.2,
           "rgb(116,173,209)"
          ],
          [
           0.3,
           "rgb(171,217,233)"
          ],
          [
           0.4,
           "rgb(224,243,248)"
          ],
          [
           0.5,
           "rgb(255,255,191)"
          ],
          [
           0.6,
           "rgb(254,224,144)"
          ],
          [
           0.7,
           "rgb(253,174,97)"
          ],
          [
           0.8,
           "rgb(244,109,67)"
          ],
          [
           0.9,
           "rgb(215,48,39)"
          ],
          [
           1,
           "rgb(165,0,38)"
          ]
         ],
         "geo": "geo2",
         "hovertemplate": "%{text}",
         "locationmode": "ISO-3",
         "locations": [
          "AUT",
          "BEL",
          "BGR",
          "HRV",
          "CYP",
          "CZE",
          "DNK",
          "EST",
          "FIN",
          "FRA",
          "DEU",
          "GRC",
          "HUN",
          "IRL",
          "ITA",
          "LVA",
          "LTU",
          "LUX",
          "MLT",
          "NLD",
          "POL",
          "PRT",
          "ROU",
          "SVK",
          "SVN",
          "ESP",
          "SWE"
         ],
         "marker": {
          "line": {
           "color": "grey",
           "width": 0.7
          }
         },
         "name": "",
         "showscale": false,
         "text": [
          "AUT: 0.89 Gt CO<sub>2</sub>e",
          "BEL: 0.91 Gt CO<sub>2</sub>e",
          "BGR: 0.87 Gt CO<sub>2</sub>e",
          "HRV: 0.82 Gt CO<sub>2</sub>e",
          "CYP: 0.86 Gt CO<sub>2</sub>e",
          "CZE: 0.91 Gt CO<sub>2</sub>e",
          "DNK: 0.88 Gt CO<sub>2</sub>e",
          "EST: 0.93 Gt CO<sub>2</sub>e",
          "FIN: 0.93 Gt CO<sub>2</sub>e",
          "FRA: 0.85 Gt CO<sub>2</sub>e",
          "DEU: 0.90 Gt CO<sub>2</sub>e",
          "GRC: 0.84 Gt CO<sub>2</sub>e",
          "HUN: 0.85 Gt CO<sub>2</sub>e",
          "IRL: 0.94 Gt CO<sub>2</sub>e",
          "ITA: 0.86 Gt CO<sub>2</sub>e",
          "LVA: 0.89 Gt CO<sub>2</sub>e",
          "LTU: 0.90 Gt CO<sub>2</sub>e",
          "LUX: 0.94 Gt CO<sub>2</sub>e",
          "MLT: 0.74 Gt CO<sub>2</sub>e",
          "NLD: 0.91 Gt CO<sub>2</sub>e",
          "POL: 0.90 Gt CO<sub>2</sub>e",
          "PRT: 0.81 Gt CO<sub>2</sub>e",
          "ROU: 0.82 Gt CO<sub>2</sub>e",
          "SVK: 0.88 Gt CO<sub>2</sub>e",
          "SVN: 0.89 Gt CO<sub>2</sub>e",
          "ESP: 0.85 Gt CO<sub>2</sub>e",
          "SWE: 0.87 Gt CO<sub>2</sub>e"
         ],
         "type": "choropleth",
         "z": [
          0.8876032564824808,
          0.9108055981412667,
          0.8745065993361998,
          0.818485567115862,
          0.8579113158573466,
          0.9064432215573996,
          0.8812798547907257,
          0.9252011148189271,
          0.9313052867928173,
          0.847150494829876,
          0.8985059312411019,
          0.8400381560241299,
          0.8453442721800439,
          0.9398398031313261,
          0.8565210217170491,
          0.8883624041854706,
          0.8988326927196759,
          0.9376289189553498,
          0.7357800222809472,
          0.9096735951001761,
          0.9049795504697823,
          0.8098462016831208,
          0.8231046624659767,
          0.8781609322933472,
          0.8899735638378836,
          0.8461035377354572,
          0.8677201675187082
         ],
         "zmax": 1.01,
         "zmin": 0.29
        },
        {
         "colorbar": {
          "len": 1,
          "tickfont": {
           "size": 25
          },
          "ticktext": [
           "30%",
           "40%",
           "50%",
           "60%",
           "70%",
           "80%",
           "90%"
          ],
          "tickvals": [
           0.3,
           0.4,
           0.5,
           0.6000000000000001,
           0.7000000000000002,
           0.8000000000000003,
           0.9000000000000001
          ],
          "title": {
           "text": "Emission<br>reduction<br>in 2040<br>w.r.t. 2021"
          },
          "x": 1
         },
         "colorscale": [
          [
           0,
           "rgb(49,54,149)"
          ],
          [
           0.1,
           "rgb(69,117,180)"
          ],
          [
           0.2,
           "rgb(116,173,209)"
          ],
          [
           0.3,
           "rgb(171,217,233)"
          ],
          [
           0.4,
           "rgb(224,243,248)"
          ],
          [
           0.5,
           "rgb(255,255,191)"
          ],
          [
           0.6,
           "rgb(254,224,144)"
          ],
          [
           0.7,
           "rgb(253,174,97)"
          ],
          [
           0.8,
           "rgb(244,109,67)"
          ],
          [
           0.9,
           "rgb(215,48,39)"
          ],
          [
           1,
           "rgb(165,0,38)"
          ]
         ],
         "geo": "geo3",
         "hovertemplate": "%{text}",
         "locationmode": "ISO-3",
         "locations": [
          "AUT",
          "BEL",
          "BGR",
          "HRV",
          "CYP",
          "CZE",
          "DNK",
          "EST",
          "FIN",
          "FRA",
          "DEU",
          "GRC",
          "HUN",
          "IRL",
          "ITA",
          "LVA",
          "LTU",
          "LUX",
          "MLT",
          "NLD",
          "POL",
          "PRT",
          "ROU",
          "SVK",
          "SVN",
          "ESP",
          "SWE"
         ],
         "marker": {
          "line": {
           "color": "grey",
           "width": 0.7
          }
         },
         "name": "",
         "showscale": false,
         "text": [
          "AUT: 0.88 Gt CO<sub>2</sub>e",
          "BEL: 0.89 Gt CO<sub>2</sub>e",
          "BGR: 0.87 Gt CO<sub>2</sub>e",
          "HRV: 0.83 Gt CO<sub>2</sub>e",
          "CYP: 0.86 Gt CO<sub>2</sub>e",
          "CZE: 0.89 Gt CO<sub>2</sub>e",
          "DNK: 0.88 Gt CO<sub>2</sub>e",
          "EST: 0.90 Gt CO<sub>2</sub>e",
          "FIN: 0.91 Gt CO<sub>2</sub>e",
          "FRA: 0.85 Gt CO<sub>2</sub>e",
          "DEU: 0.89 Gt CO<sub>2</sub>e",
          "GRC: 0.85 Gt CO<sub>2</sub>e",
          "HUN: 0.85 Gt CO<sub>2</sub>e",
          "IRL: 0.91 Gt CO<sub>2</sub>e",
          "ITA: 0.86 Gt CO<sub>2</sub>e",
          "LVA: 0.88 Gt CO<sub>2</sub>e",
          "LTU: 0.89 Gt CO<sub>2</sub>e",
          "LUX: 0.91 Gt CO<sub>2</sub>e",
          "MLT: 0.78 Gt CO<sub>2</sub>e",
          "NLD: 0.89 Gt CO<sub>2</sub>e",
          "POL: 0.89 Gt CO<sub>2</sub>e",
          "PRT: 0.83 Gt CO<sub>2</sub>e",
          "ROU: 0.84 Gt CO<sub>2</sub>e",
          "SVK: 0.87 Gt CO<sub>2</sub>e",
          "SVN: 0.88 Gt CO<sub>2</sub>e",
          "ESP: 0.85 Gt CO<sub>2</sub>e",
          "SWE: 0.87 Gt CO<sub>2</sub>e"
         ],
         "type": "choropleth",
         "z": [
          0.8797220070125046,
          0.8949235408267396,
          0.8711414448572624,
          0.8344380158026222,
          0.8602686663011048,
          0.892065435414661,
          0.8755790781065292,
          0.9043550917227782,
          0.9083543769632907,
          0.853218487880789,
          0.8868651342901446,
          0.8485586752791379,
          0.8520350995456394,
          0.9139459581829374,
          0.8593577826136779,
          0.8802193880491128,
          0.887079224287518,
          0.9124974407029982,
          0.7802516013624993,
          0.8941818894876389,
          0.891106483957389,
          0.8287777229214829,
          0.8374643050273284,
          0.8735356574566613,
          0.8812749537394337,
          0.8525325395378354,
          0.8666951617636834
         ],
         "zmax": 1.01,
         "zmin": 0.29
        },
        {
         "colorbar": {
          "len": 1,
          "tickfont": {
           "size": 25
          },
          "ticktext": [
           "30%",
           "40%",
           "50%",
           "60%",
           "70%",
           "80%",
           "90%"
          ],
          "tickvals": [
           0.3,
           0.4,
           0.5,
           0.6000000000000001,
           0.7000000000000002,
           0.8000000000000003,
           0.9000000000000001
          ],
          "title": {
           "text": "Emission<br>reduction<br>in 2040<br>w.r.t. 2021"
          },
          "x": 1
         },
         "colorscale": [
          [
           0,
           "rgb(49,54,149)"
          ],
          [
           0.1,
           "rgb(69,117,180)"
          ],
          [
           0.2,
           "rgb(116,173,209)"
          ],
          [
           0.3,
           "rgb(171,217,233)"
          ],
          [
           0.4,
           "rgb(224,243,248)"
          ],
          [
           0.5,
           "rgb(255,255,191)"
          ],
          [
           0.6,
           "rgb(254,224,144)"
          ],
          [
           0.7,
           "rgb(253,174,97)"
          ],
          [
           0.8,
           "rgb(244,109,67)"
          ],
          [
           0.9,
           "rgb(215,48,39)"
          ],
          [
           1,
           "rgb(165,0,38)"
          ]
         ],
         "geo": "geo4",
         "hovertemplate": "%{text}",
         "locationmode": "ISO-3",
         "locations": [
          "AUT",
          "BEL",
          "BGR",
          "HRV",
          "CYP",
          "CZE",
          "DNK",
          "EST",
          "FIN",
          "FRA",
          "DEU",
          "GRC",
          "HUN",
          "IRL",
          "ITA",
          "LVA",
          "LTU",
          "LUX",
          "MLT",
          "NLD",
          "POL",
          "PRT",
          "ROU",
          "SVK",
          "SVN",
          "ESP",
          "SWE"
         ],
         "marker": {
          "line": {
           "color": "grey",
           "width": 0.7
          }
         },
         "name": "",
         "showscale": false,
         "text": [
          "AUT: 1.04 Gt CO<sub>2</sub>e",
          "BEL: 1.12 Gt CO<sub>2</sub>e",
          "BGR: 1.13 Gt CO<sub>2</sub>e",
          "HRV: 0.99 Gt CO<sub>2</sub>e",
          "CYP: 0.89 Gt CO<sub>2</sub>e",
          "CZE: 1.15 Gt CO<sub>2</sub>e",
          "DNK: 1.14 Gt CO<sub>2</sub>e",
          "EST: 1.22 Gt CO<sub>2</sub>e",
          "FIN: 1.19 Gt CO<sub>2</sub>e",
          "FRA: 0.99 Gt CO<sub>2</sub>e",
          "DEU: 1.14 Gt CO<sub>2</sub>e",
          "GRC: 1.18 Gt CO<sub>2</sub>e",
          "HUN: 1.04 Gt CO<sub>2</sub>e",
          "IRL: 1.06 Gt CO<sub>2</sub>e",
          "ITA: 1.06 Gt CO<sub>2</sub>e",
          "LVA: 1.05 Gt CO<sub>2</sub>e",
          "LTU: 1.15 Gt CO<sub>2</sub>e",
          "LUX: 1.16 Gt CO<sub>2</sub>e",
          "MLT: 0.85 Gt CO<sub>2</sub>e",
          "NLD: 1.14 Gt CO<sub>2</sub>e",
          "POL: 1.11 Gt CO<sub>2</sub>e",
          "PRT: 1.01 Gt CO<sub>2</sub>e",
          "ROU: 1.07 Gt CO<sub>2</sub>e",
          "SVK: 1.08 Gt CO<sub>2</sub>e",
          "SVN: 1.09 Gt CO<sub>2</sub>e",
          "ESP: 0.99 Gt CO<sub>2</sub>e",
          "SWE: 0.98 Gt CO<sub>2</sub>e"
         ],
         "type": "choropleth",
         "z": [
          1.0365681489250103,
          1.1154180127473783,
          1.1296131858700635,
          0.9947504463239012,
          0.8949828019242283,
          1.14597724210198,
          1.1361060038127733,
          1.2234285102592033,
          1.1940541935488875,
          0.9909473105279142,
          1.1423920853848522,
          1.1791487529900977,
          1.037004848620512,
          1.0581780926885915,
          1.0597752099969953,
          1.053394219508695,
          1.1489478744494714,
          1.1612264774320264,
          0.8538206868373115,
          1.1394188206149398,
          1.1079050386913165,
          1.0097323835407945,
          1.0666165838126986,
          1.081750833814262,
          1.0913767967839347,
          0.9862835376757806,
          0.9801935443483777
         ],
         "zmax": 1.01,
         "zmin": 0.29
        },
        {
         "colorbar": {
          "len": 1,
          "tickfont": {
           "size": 25
          },
          "ticktext": [
           "30%",
           "40%",
           "50%",
           "60%",
           "70%",
           "80%",
           "90%"
          ],
          "tickvals": [
           0.3,
           0.4,
           0.5,
           0.6000000000000001,
           0.7000000000000002,
           0.8000000000000003,
           0.9000000000000001
          ],
          "title": {
           "text": "Emission<br>reduction<br>in 2040<br>w.r.t. 2021"
          },
          "x": 1
         },
         "colorscale": [
          [
           0,
           "rgb(49,54,149)"
          ],
          [
           0.1,
           "rgb(69,117,180)"
          ],
          [
           0.2,
           "rgb(116,173,209)"
          ],
          [
           0.3,
           "rgb(171,217,233)"
          ],
          [
           0.4,
           "rgb(224,243,248)"
          ],
          [
           0.5,
           "rgb(255,255,191)"
          ],
          [
           0.6,
           "rgb(254,224,144)"
          ],
          [
           0.7,
           "rgb(253,174,97)"
          ],
          [
           0.8,
           "rgb(244,109,67)"
          ],
          [
           0.9,
           "rgb(215,48,39)"
          ],
          [
           1,
           "rgb(165,0,38)"
          ]
         ],
         "geo": "geo5",
         "hovertemplate": "%{text}",
         "locationmode": "ISO-3",
         "locations": [
          "AUT",
          "BEL",
          "BGR",
          "HRV",
          "CYP",
          "CZE",
          "DNK",
          "EST",
          "FIN",
          "FRA",
          "DEU",
          "GRC",
          "HUN",
          "IRL",
          "ITA",
          "LVA",
          "LTU",
          "LUX",
          "MLT",
          "NLD",
          "POL",
          "PRT",
          "ROU",
          "SVK",
          "SVN",
          "ESP",
          "SWE"
         ],
         "marker": {
          "line": {
           "color": "grey",
           "width": 0.7
          }
         },
         "name": "",
         "showscale": false,
         "text": [
          "AUT: 1.16 Gt CO<sub>2</sub>e",
          "BEL: 1.13 Gt CO<sub>2</sub>e",
          "BGR: 1.04 Gt CO<sub>2</sub>e",
          "HRV: 1.09 Gt CO<sub>2</sub>e",
          "CYP: 1.04 Gt CO<sub>2</sub>e",
          "CZE: 1.09 Gt CO<sub>2</sub>e",
          "DNK: 1.16 Gt CO<sub>2</sub>e",
          "EST: 1.07 Gt CO<sub>2</sub>e",
          "FIN: 1.12 Gt CO<sub>2</sub>e",
          "FRA: 1.10 Gt CO<sub>2</sub>e",
          "DEU: 1.15 Gt CO<sub>2</sub>e",
          "GRC: 1.04 Gt CO<sub>2</sub>e",
          "HUN: 1.10 Gt CO<sub>2</sub>e",
          "IRL: 1.44 Gt CO<sub>2</sub>e",
          "ITA: 1.08 Gt CO<sub>2</sub>e",
          "LVA: 1.06 Gt CO<sub>2</sub>e",
          "LTU: 1.12 Gt CO<sub>2</sub>e",
          "LUX: 1.36 Gt CO<sub>2</sub>e",
          "MLT: 1.23 Gt CO<sub>2</sub>e",
          "NLD: 1.18 Gt CO<sub>2</sub>e",
          "POL: 1.12 Gt CO<sub>2</sub>e",
          "PRT: 1.07 Gt CO<sub>2</sub>e",
          "ROU: 1.06 Gt CO<sub>2</sub>e",
          "SVK: nan Gt CO<sub>2</sub>e",
          "SVN: 1.10 Gt CO<sub>2</sub>e",
          "ESP: 1.07 Gt CO<sub>2</sub>e",
          "SWE: 1.16 Gt CO<sub>2</sub>e"
         ],
         "type": "choropleth",
         "z": [
          1.156868985500345,
          1.1327154395309655,
          1.0400004459652592,
          1.0855857626088272,
          1.0368575565362714,
          1.090194010089519,
          1.1559734591795499,
          1.0703393008815762,
          1.1220168025101431,
          1.0972519746896634,
          1.1460331002655335,
          1.0358186107900567,
          1.0961278677069706,
          1.4399817583919592,
          1.0835287486949472,
          1.0577460740577633,
          1.1245500098167913,
          1.3564108419850165,
          1.22994986846747,
          1.1849395537386833,
          1.1197865690836217,
          1.0650246639114422,
          1.064068579684524,
          null,
          1.0991257170580633,
          1.0719704747464123,
          1.155449249626107
         ],
         "zmax": 1.01,
         "zmin": 0.29
        },
        {
         "colorbar": {
          "len": 1,
          "tickfont": {
           "size": 25
          },
          "ticktext": [
           "30%",
           "40%",
           "50%",
           "60%",
           "70%",
           "80%",
           "90%"
          ],
          "tickvals": [
           0.3,
           0.4,
           0.5,
           0.6000000000000001,
           0.7000000000000002,
           0.8000000000000003,
           0.9000000000000001
          ],
          "title": {
           "text": "Emission<br>reduction<br>in 2040<br>w.r.t. 2021"
          },
          "x": 1
         },
         "colorscale": [
          [
           0,
           "rgb(49,54,149)"
          ],
          [
           0.1,
           "rgb(69,117,180)"
          ],
          [
           0.2,
           "rgb(116,173,209)"
          ],
          [
           0.3,
           "rgb(171,217,233)"
          ],
          [
           0.4,
           "rgb(224,243,248)"
          ],
          [
           0.5,
           "rgb(255,255,191)"
          ],
          [
           0.6,
           "rgb(254,224,144)"
          ],
          [
           0.7,
           "rgb(253,174,97)"
          ],
          [
           0.8,
           "rgb(244,109,67)"
          ],
          [
           0.9,
           "rgb(215,48,39)"
          ],
          [
           1,
           "rgb(165,0,38)"
          ]
         ],
         "geo": "geo6",
         "hovertemplate": "%{text}",
         "locationmode": "ISO-3",
         "locations": [
          "AUT",
          "BEL",
          "BGR",
          "HRV",
          "CYP",
          "CZE",
          "DNK",
          "EST",
          "FIN",
          "FRA",
          "DEU",
          "GRC",
          "HUN",
          "IRL",
          "ITA",
          "LVA",
          "LTU",
          "LUX",
          "MLT",
          "NLD",
          "POL",
          "PRT",
          "ROU",
          "SVK",
          "SVN",
          "ESP",
          "SWE"
         ],
         "marker": {
          "line": {
           "color": "grey",
           "width": 0.7
          }
         },
         "name": "",
         "showscale": false,
         "text": [
          "AUT: 3.38 Gt CO<sub>2</sub>e",
          "BEL: 2.80 Gt CO<sub>2</sub>e",
          "BGR: 1.25 Gt CO<sub>2</sub>e",
          "HRV: 2.07 Gt CO<sub>2</sub>e",
          "CYP: 2.35 Gt CO<sub>2</sub>e",
          "CZE: 2.18 Gt CO<sub>2</sub>e",
          "DNK: 4.46 Gt CO<sub>2</sub>e",
          "EST: 2.07 Gt CO<sub>2</sub>e",
          "FIN: 2.30 Gt CO<sub>2</sub>e",
          "FRA: 3.85 Gt CO<sub>2</sub>e",
          "DEU: 3.17 Gt CO<sub>2</sub>e",
          "GRC: 3.05 Gt CO<sub>2</sub>e",
          "HUN: 2.05 Gt CO<sub>2</sub>e",
          "IRL: 3.65 Gt CO<sub>2</sub>e",
          "ITA: 3.06 Gt CO<sub>2</sub>e",
          "LVA: 1.39 Gt CO<sub>2</sub>e",
          "LTU: 1.62 Gt CO<sub>2</sub>e",
          "LUX: 4.58 Gt CO<sub>2</sub>e",
          "MLT: 4.75 Gt CO<sub>2</sub>e",
          "NLD: 3.31 Gt CO<sub>2</sub>e",
          "POL: 1.58 Gt CO<sub>2</sub>e",
          "PRT: 3.08 Gt CO<sub>2</sub>e",
          "ROU: 1.60 Gt CO<sub>2</sub>e",
          "SVK: nan Gt CO<sub>2</sub>e",
          "SVN: 2.30 Gt CO<sub>2</sub>e",
          "ESP: 3.15 Gt CO<sub>2</sub>e",
          "SWE: 4.03 Gt CO<sub>2</sub>e"
         ],
         "type": "choropleth",
         "z": [
          3.3766270017726963,
          2.8039666964349848,
          1.245700873110085,
          2.066587981248859,
          2.3481957283996318,
          2.1794468990489406,
          4.458319000758246,
          2.0705796707436215,
          2.301242275306151,
          3.8525764723759566,
          3.1729527438487084,
          3.0462997178363405,
          2.045519915771565,
          3.6463760186034753,
          3.0643940507618592,
          1.3855129038183251,
          1.6204265869813679,
          4.578952594557063,
          4.7495902974937785,
          3.313816844057128,
          1.5803546511858633,
          3.079654661818576,
          1.6034485673807997,
          null,
          2.3005853265203196,
          3.147655491488439,
          4.027196351947827
         ],
         "zmax": 1.01,
         "zmin": 0.29
        },
        {
         "featureidkey": "properties.NAME_3",
         "geo": "geo",
         "hoverinfo": "skip",
         "locations": [
          "AUT",
          "BEL",
          "BGR",
          "HRV",
          "CYP",
          "CZE",
          "DNK",
          "EST",
          "FIN",
          "FRA",
          "DEU",
          "GRC",
          "HUN",
          "IRL",
          "ITA",
          "LVA",
          "LTU",
          "LUX",
          "MLT",
          "NLD",
          "POL",
          "PRT",
          "ROU",
          "SVK",
          "SVN",
          "ESP",
          "SWE"
         ],
         "mode": "text",
         "showlegend": false,
         "text": [
          "86%",
          "86%",
          "86%",
          "86%",
          "86%",
          "86%",
          "86%",
          "86%",
          "86%",
          "86%",
          "86%",
          "86%",
          "86%",
          "86%",
          "86%",
          "86%",
          "86%",
          "86%",
          "86%",
          "86%",
          "86%",
          "86%",
          "86%",
          "86%",
          "86%",
          "86%",
          "86%"
         ],
         "textfont": {
          "color": "black",
          "size": 20
         },
         "type": "scattergeo"
        },
        {
         "featureidkey": "properties.NAME_3",
         "geo": "geo2",
         "hoverinfo": "skip",
         "locations": [
          "AUT",
          "BEL",
          "BGR",
          "HRV",
          "CYP",
          "CZE",
          "DNK",
          "EST",
          "FIN",
          "FRA",
          "DEU",
          "GRC",
          "HUN",
          "IRL",
          "ITA",
          "LVA",
          "LTU",
          "LUX",
          "MLT",
          "NLD",
          "POL",
          "PRT",
          "ROU",
          "SVK",
          "SVN",
          "ESP",
          "SWE"
         ],
         "mode": "text",
         "showlegend": false,
         "text": [
          "88%",
          "91%",
          "87%",
          "81%",
          "85%",
          "90%",
          "88%",
          "92%",
          "93%",
          "84%",
          "89%",
          "84%",
          "84%",
          "93%",
          "85%",
          "88%",
          "89%",
          "93%",
          "73%",
          "90%",
          "90%",
          "80%",
          "82%",
          "87%",
          "88%",
          "84%",
          "86%"
         ],
         "textfont": {
          "color": "black",
          "size": 20
         },
         "type": "scattergeo"
        },
        {
         "featureidkey": "properties.NAME_3",
         "geo": "geo3",
         "hoverinfo": "skip",
         "locations": [
          "AUT",
          "BEL",
          "BGR",
          "HRV",
          "CYP",
          "CZE",
          "DNK",
          "EST",
          "FIN",
          "FRA",
          "DEU",
          "GRC",
          "HUN",
          "IRL",
          "ITA",
          "LVA",
          "LTU",
          "LUX",
          "MLT",
          "NLD",
          "POL",
          "PRT",
          "ROU",
          "SVK",
          "SVN",
          "ESP",
          "SWE"
         ],
         "mode": "text",
         "showlegend": false,
         "text": [
          "87%",
          "89%",
          "87%",
          "83%",
          "86%",
          "89%",
          "87%",
          "90%",
          "90%",
          "85%",
          "88%",
          "84%",
          "85%",
          "91%",
          "85%",
          "88%",
          "88%",
          "91%",
          "78%",
          "89%",
          "89%",
          "82%",
          "83%",
          "87%",
          "88%",
          "85%",
          "86%"
         ],
         "textfont": {
          "color": "black",
          "size": 20
         },
         "type": "scattergeo"
        },
        {
         "featureidkey": "properties.NAME_3",
         "geo": "geo4",
         "hoverinfo": "skip",
         "locations": [
          "AUT",
          "BEL",
          "BGR",
          "HRV",
          "CYP",
          "CZE",
          "DNK",
          "EST",
          "FIN",
          "FRA",
          "DEU",
          "GRC",
          "HUN",
          "IRL",
          "ITA",
          "LVA",
          "LTU",
          "LUX",
          "MLT",
          "NLD",
          "POL",
          "PRT",
          "ROU",
          "SVK",
          "SVN",
          "ESP",
          "SWE"
         ],
         "mode": "text",
         "showlegend": false,
         "text": [
          "103%",
          "111%",
          "112%",
          "99%",
          "89%",
          "114%",
          "113%",
          "122%",
          "119%",
          "99%",
          "114%",
          "117%",
          "103%",
          "105%",
          "105%",
          "105%",
          "114%",
          "116%",
          "85%",
          "113%",
          "110%",
          "100%",
          "106%",
          "108%",
          "109%",
          "98%",
          "98%"
         ],
         "textfont": {
          "color": "black",
          "size": 20
         },
         "type": "scattergeo"
        },
        {
         "featureidkey": "properties.NAME_3",
         "geo": "geo5",
         "hoverinfo": "skip",
         "locations": [
          "AUT",
          "BEL",
          "BGR",
          "HRV",
          "CYP",
          "CZE",
          "DNK",
          "EST",
          "FIN",
          "FRA",
          "DEU",
          "GRC",
          "HUN",
          "IRL",
          "ITA",
          "LVA",
          "LTU",
          "LUX",
          "MLT",
          "NLD",
          "POL",
          "PRT",
          "ROU",
          "SVK",
          "SVN",
          "ESP",
          "SWE"
         ],
         "mode": "text",
         "showlegend": false,
         "text": [
          "115%",
          "113%",
          "104%",
          "108%",
          "103%",
          "109%",
          "115%",
          "107%",
          "112%",
          "109%",
          "114%",
          "103%",
          "109%",
          "143%",
          "108%",
          "105%",
          "112%",
          "135%",
          "122%",
          "118%",
          "111%",
          "106%",
          "106%",
          "112%",
          "109%",
          "107%",
          "115%"
         ],
         "textfont": {
          "color": "black",
          "size": 20
         },
         "type": "scattergeo"
        },
        {
         "featureidkey": "properties.NAME_3",
         "geo": "geo6",
         "hoverinfo": "skip",
         "locations": [
          "AUT",
          "BEL",
          "BGR",
          "HRV",
          "CYP",
          "CZE",
          "DNK",
          "EST",
          "FIN",
          "FRA",
          "DEU",
          "GRC",
          "HUN",
          "IRL",
          "ITA",
          "LVA",
          "LTU",
          "LUX",
          "MLT",
          "NLD",
          "POL",
          "PRT",
          "ROU",
          "SVK",
          "SVN",
          "ESP",
          "SWE"
         ],
         "mode": "text",
         "showlegend": false,
         "text": [
          "337%",
          "280%",
          "124%",
          "206%",
          "234%",
          "217%",
          "445%",
          "207%",
          "230%",
          "385%",
          "317%",
          "304%",
          "204%",
          "364%",
          "306%",
          "138%",
          "162%",
          "457%",
          "474%",
          "331%",
          "158%",
          "307%",
          "160%",
          "281%",
          "230%",
          "314%",
          "402%"
         ],
         "textfont": {
          "color": "black",
          "size": 20
         },
         "type": "scattergeo"
        }
       ],
       "layout": {
        "annotations": [
         {
          "align": "left",
          "ax": 0,
          "ay": 0,
          "font": {
           "color": "black",
           "size": 25
          },
          "showarrow": false,
          "text": "<b>(a) Grandfathering</b>",
          "x": 0.07,
          "xref": "paper",
          "y": 0.96,
          "yref": "paper"
         },
         {
          "align": "left",
          "ax": 0,
          "ay": 0,
          "font": {
           "color": "black",
           "size": 25
          },
          "showarrow": false,
          "text": "<b>(b) Per Capita</b>",
          "x": 0.47,
          "xref": "paper",
          "y": 0.96,
          "yref": "paper"
         },
         {
          "align": "left",
          "ax": 0,
          "ay": 0,
          "font": {
           "color": "black",
           "size": 25
          },
          "showarrow": false,
          "text": "<b>(c) Per Capita Convergence</b>",
          "x": 0.9,
          "xref": "paper",
          "y": 0.96,
          "yref": "paper"
         },
         {
          "align": "left",
          "ax": 0,
          "ay": 0,
          "font": {
           "color": "black",
           "size": 25
          },
          "showarrow": false,
          "text": "<b>(d) Equal Cumulative per Capita</b>",
          "x": 0.07,
          "xref": "paper",
          "y": 0.45,
          "yref": "paper"
         },
         {
          "align": "left",
          "ax": 0,
          "ay": 0,
          "font": {
           "color": "black",
           "size": 25
          },
          "showarrow": false,
          "text": "<b>(e) Ability to Pay</b>",
          "x": 0.48,
          "xref": "paper",
          "y": 0.45,
          "yref": "paper"
         },
         {
          "align": "left",
          "ax": 0,
          "ay": 0,
          "font": {
           "color": "black",
           "size": 25
          },
          "showarrow": false,
          "text": "<b>(f) Greenhouse Development Rights</b>",
          "x": 0.95,
          "xref": "paper",
          "y": 0.45,
          "yref": "paper"
         }
        ],
        "geo": {
         "domain": {
          "x": [
           0,
           0.3333333333333333
          ],
          "y": [
           0.5,
           1
          ]
         },
         "lakecolor": "rgb(255, 255, 255)",
         "lataxis": {
          "range": [
           30,
           75
          ]
         },
         "lonaxis": {
          "range": [
           -20,
           40
          ]
         },
         "projection": {
          "type": "natural earth"
         },
         "resolution": 50,
         "scope": "europe",
         "showcoastlines": false,
         "showcountries": false,
         "showlakes": true,
         "visible": true
        },
        "geo2": {
         "domain": {
          "x": [
           0.3333333333333333,
           0.6666666666666666
          ],
          "y": [
           0.5,
           1
          ]
         },
         "lakecolor": "rgb(255, 255, 255)",
         "lataxis": {
          "range": [
           30,
           75
          ]
         },
         "lonaxis": {
          "range": [
           -20,
           40
          ]
         },
         "projection": {
          "type": "natural earth"
         },
         "resolution": 50,
         "scope": "europe",
         "showcoastlines": false,
         "showcountries": false,
         "showlakes": true,
         "visible": true
        },
        "geo3": {
         "domain": {
          "x": [
           0.6666666666666666,
           1
          ],
          "y": [
           0.5,
           1
          ]
         },
         "lakecolor": "rgb(255, 255, 255)",
         "lataxis": {
          "range": [
           30,
           75
          ]
         },
         "lonaxis": {
          "range": [
           -20,
           40
          ]
         },
         "projection": {
          "type": "natural earth"
         },
         "resolution": 50,
         "scope": "europe",
         "showcoastlines": false,
         "showcountries": false,
         "showlakes": true,
         "visible": true
        },
        "geo4": {
         "domain": {
          "x": [
           0,
           0.3333333333333333
          ],
          "y": [
           0,
           0.5
          ]
         },
         "lakecolor": "rgb(255, 255, 255)",
         "lataxis": {
          "range": [
           30,
           75
          ]
         },
         "lonaxis": {
          "range": [
           -20,
           40
          ]
         },
         "projection": {
          "type": "natural earth"
         },
         "resolution": 50,
         "scope": "europe",
         "showcoastlines": false,
         "showcountries": false,
         "showlakes": true,
         "visible": true
        },
        "geo5": {
         "domain": {
          "x": [
           0.3333333333333333,
           0.6666666666666666
          ],
          "y": [
           0,
           0.5
          ]
         },
         "lakecolor": "rgb(255, 255, 255)",
         "lataxis": {
          "range": [
           30,
           75
          ]
         },
         "lonaxis": {
          "range": [
           -20,
           40
          ]
         },
         "projection": {
          "type": "natural earth"
         },
         "resolution": 50,
         "scope": "europe",
         "showcoastlines": false,
         "showcountries": false,
         "showlakes": true,
         "visible": true
        },
        "geo6": {
         "domain": {
          "x": [
           0.6666666666666666,
           1
          ],
          "y": [
           0,
           0.5
          ]
         },
         "lakecolor": "rgb(255, 255, 255)",
         "lataxis": {
          "range": [
           30,
           75
          ]
         },
         "lonaxis": {
          "range": [
           -20,
           40
          ]
         },
         "projection": {
          "type": "natural earth"
         },
         "resolution": 50,
         "scope": "europe",
         "showcoastlines": false,
         "showcountries": false,
         "showlakes": true,
         "visible": true
        },
        "height": 1200,
        "margin": {
         "b": 0,
         "l": 0,
         "r": 0,
         "t": 0
        },
        "template": {
         "data": {
          "bar": [
           {
            "error_x": {
             "color": "#2a3f5f"
            },
            "error_y": {
             "color": "#2a3f5f"
            },
            "marker": {
             "line": {
              "color": "#E5ECF6",
              "width": 0.5
             },
             "pattern": {
              "fillmode": "overlay",
              "size": 10,
              "solidity": 0.2
             }
            },
            "type": "bar"
           }
          ],
          "barpolar": [
           {
            "marker": {
             "line": {
              "color": "#E5ECF6",
              "width": 0.5
             },
             "pattern": {
              "fillmode": "overlay",
              "size": 10,
              "solidity": 0.2
             }
            },
            "type": "barpolar"
           }
          ],
          "carpet": [
           {
            "aaxis": {
             "endlinecolor": "#2a3f5f",
             "gridcolor": "white",
             "linecolor": "white",
             "minorgridcolor": "white",
             "startlinecolor": "#2a3f5f"
            },
            "baxis": {
             "endlinecolor": "#2a3f5f",
             "gridcolor": "white",
             "linecolor": "white",
             "minorgridcolor": "white",
             "startlinecolor": "#2a3f5f"
            },
            "type": "carpet"
           }
          ],
          "choropleth": [
           {
            "colorbar": {
             "outlinewidth": 0,
             "ticks": ""
            },
            "type": "choropleth"
           }
          ],
          "contour": [
           {
            "colorbar": {
             "outlinewidth": 0,
             "ticks": ""
            },
            "colorscale": [
             [
              0,
              "#0d0887"
             ],
             [
              0.1111111111111111,
              "#46039f"
             ],
             [
              0.2222222222222222,
              "#7201a8"
             ],
             [
              0.3333333333333333,
              "#9c179e"
             ],
             [
              0.4444444444444444,
              "#bd3786"
             ],
             [
              0.5555555555555556,
              "#d8576b"
             ],
             [
              0.6666666666666666,
              "#ed7953"
             ],
             [
              0.7777777777777778,
              "#fb9f3a"
             ],
             [
              0.8888888888888888,
              "#fdca26"
             ],
             [
              1,
              "#f0f921"
             ]
            ],
            "type": "contour"
           }
          ],
          "contourcarpet": [
           {
            "colorbar": {
             "outlinewidth": 0,
             "ticks": ""
            },
            "type": "contourcarpet"
           }
          ],
          "heatmap": [
           {
            "colorbar": {
             "outlinewidth": 0,
             "ticks": ""
            },
            "colorscale": [
             [
              0,
              "#0d0887"
             ],
             [
              0.1111111111111111,
              "#46039f"
             ],
             [
              0.2222222222222222,
              "#7201a8"
             ],
             [
              0.3333333333333333,
              "#9c179e"
             ],
             [
              0.4444444444444444,
              "#bd3786"
             ],
             [
              0.5555555555555556,
              "#d8576b"
             ],
             [
              0.6666666666666666,
              "#ed7953"
             ],
             [
              0.7777777777777778,
              "#fb9f3a"
             ],
             [
              0.8888888888888888,
              "#fdca26"
             ],
             [
              1,
              "#f0f921"
             ]
            ],
            "type": "heatmap"
           }
          ],
          "heatmapgl": [
           {
            "colorbar": {
             "outlinewidth": 0,
             "ticks": ""
            },
            "colorscale": [
             [
              0,
              "#0d0887"
             ],
             [
              0.1111111111111111,
              "#46039f"
             ],
             [
              0.2222222222222222,
              "#7201a8"
             ],
             [
              0.3333333333333333,
              "#9c179e"
             ],
             [
              0.4444444444444444,
              "#bd3786"
             ],
             [
              0.5555555555555556,
              "#d8576b"
             ],
             [
              0.6666666666666666,
              "#ed7953"
             ],
             [
              0.7777777777777778,
              "#fb9f3a"
             ],
             [
              0.8888888888888888,
              "#fdca26"
             ],
             [
              1,
              "#f0f921"
             ]
            ],
            "type": "heatmapgl"
           }
          ],
          "histogram": [
           {
            "marker": {
             "pattern": {
              "fillmode": "overlay",
              "size": 10,
              "solidity": 0.2
             }
            },
            "type": "histogram"
           }
          ],
          "histogram2d": [
           {
            "colorbar": {
             "outlinewidth": 0,
             "ticks": ""
            },
            "colorscale": [
             [
              0,
              "#0d0887"
             ],
             [
              0.1111111111111111,
              "#46039f"
             ],
             [
              0.2222222222222222,
              "#7201a8"
             ],
             [
              0.3333333333333333,
              "#9c179e"
             ],
             [
              0.4444444444444444,
              "#bd3786"
             ],
             [
              0.5555555555555556,
              "#d8576b"
             ],
             [
              0.6666666666666666,
              "#ed7953"
             ],
             [
              0.7777777777777778,
              "#fb9f3a"
             ],
             [
              0.8888888888888888,
              "#fdca26"
             ],
             [
              1,
              "#f0f921"
             ]
            ],
            "type": "histogram2d"
           }
          ],
          "histogram2dcontour": [
           {
            "colorbar": {
             "outlinewidth": 0,
             "ticks": ""
            },
            "colorscale": [
             [
              0,
              "#0d0887"
             ],
             [
              0.1111111111111111,
              "#46039f"
             ],
             [
              0.2222222222222222,
              "#7201a8"
             ],
             [
              0.3333333333333333,
              "#9c179e"
             ],
             [
              0.4444444444444444,
              "#bd3786"
             ],
             [
              0.5555555555555556,
              "#d8576b"
             ],
             [
              0.6666666666666666,
              "#ed7953"
             ],
             [
              0.7777777777777778,
              "#fb9f3a"
             ],
             [
              0.8888888888888888,
              "#fdca26"
             ],
             [
              1,
              "#f0f921"
             ]
            ],
            "type": "histogram2dcontour"
           }
          ],
          "mesh3d": [
           {
            "colorbar": {
             "outlinewidth": 0,
             "ticks": ""
            },
            "type": "mesh3d"
           }
          ],
          "parcoords": [
           {
            "line": {
             "colorbar": {
              "outlinewidth": 0,
              "ticks": ""
             }
            },
            "type": "parcoords"
           }
          ],
          "pie": [
           {
            "automargin": true,
            "type": "pie"
           }
          ],
          "scatter": [
           {
            "fillpattern": {
             "fillmode": "overlay",
             "size": 10,
             "solidity": 0.2
            },
            "type": "scatter"
           }
          ],
          "scatter3d": [
           {
            "line": {
             "colorbar": {
              "outlinewidth": 0,
              "ticks": ""
             }
            },
            "marker": {
             "colorbar": {
              "outlinewidth": 0,
              "ticks": ""
             }
            },
            "type": "scatter3d"
           }
          ],
          "scattercarpet": [
           {
            "marker": {
             "colorbar": {
              "outlinewidth": 0,
              "ticks": ""
             }
            },
            "type": "scattercarpet"
           }
          ],
          "scattergeo": [
           {
            "marker": {
             "colorbar": {
              "outlinewidth": 0,
              "ticks": ""
             }
            },
            "type": "scattergeo"
           }
          ],
          "scattergl": [
           {
            "marker": {
             "colorbar": {
              "outlinewidth": 0,
              "ticks": ""
             }
            },
            "type": "scattergl"
           }
          ],
          "scattermapbox": [
           {
            "marker": {
             "colorbar": {
              "outlinewidth": 0,
              "ticks": ""
             }
            },
            "type": "scattermapbox"
           }
          ],
          "scatterpolar": [
           {
            "marker": {
             "colorbar": {
              "outlinewidth": 0,
              "ticks": ""
             }
            },
            "type": "scatterpolar"
           }
          ],
          "scatterpolargl": [
           {
            "marker": {
             "colorbar": {
              "outlinewidth": 0,
              "ticks": ""
             }
            },
            "type": "scatterpolargl"
           }
          ],
          "scatterternary": [
           {
            "marker": {
             "colorbar": {
              "outlinewidth": 0,
              "ticks": ""
             }
            },
            "type": "scatterternary"
           }
          ],
          "surface": [
           {
            "colorbar": {
             "outlinewidth": 0,
             "ticks": ""
            },
            "colorscale": [
             [
              0,
              "#0d0887"
             ],
             [
              0.1111111111111111,
              "#46039f"
             ],
             [
              0.2222222222222222,
              "#7201a8"
             ],
             [
              0.3333333333333333,
              "#9c179e"
             ],
             [
              0.4444444444444444,
              "#bd3786"
             ],
             [
              0.5555555555555556,
              "#d8576b"
             ],
             [
              0.6666666666666666,
              "#ed7953"
             ],
             [
              0.7777777777777778,
              "#fb9f3a"
             ],
             [
              0.8888888888888888,
              "#fdca26"
             ],
             [
              1,
              "#f0f921"
             ]
            ],
            "type": "surface"
           }
          ],
          "table": [
           {
            "cells": {
             "fill": {
              "color": "#EBF0F8"
             },
             "line": {
              "color": "white"
             }
            },
            "header": {
             "fill": {
              "color": "#C8D4E3"
             },
             "line": {
              "color": "white"
             }
            },
            "type": "table"
           }
          ]
         },
         "layout": {
          "annotationdefaults": {
           "arrowcolor": "#2a3f5f",
           "arrowhead": 0,
           "arrowwidth": 1
          },
          "autotypenumbers": "strict",
          "coloraxis": {
           "colorbar": {
            "outlinewidth": 0,
            "ticks": ""
           }
          },
          "colorscale": {
           "diverging": [
            [
             0,
             "#8e0152"
            ],
            [
             0.1,
             "#c51b7d"
            ],
            [
             0.2,
             "#de77ae"
            ],
            [
             0.3,
             "#f1b6da"
            ],
            [
             0.4,
             "#fde0ef"
            ],
            [
             0.5,
             "#f7f7f7"
            ],
            [
             0.6,
             "#e6f5d0"
            ],
            [
             0.7,
             "#b8e186"
            ],
            [
             0.8,
             "#7fbc41"
            ],
            [
             0.9,
             "#4d9221"
            ],
            [
             1,
             "#276419"
            ]
           ],
           "sequential": [
            [
             0,
             "#0d0887"
            ],
            [
             0.1111111111111111,
             "#46039f"
            ],
            [
             0.2222222222222222,
             "#7201a8"
            ],
            [
             0.3333333333333333,
             "#9c179e"
            ],
            [
             0.4444444444444444,
             "#bd3786"
            ],
            [
             0.5555555555555556,
             "#d8576b"
            ],
            [
             0.6666666666666666,
             "#ed7953"
            ],
            [
             0.7777777777777778,
             "#fb9f3a"
            ],
            [
             0.8888888888888888,
             "#fdca26"
            ],
            [
             1,
             "#f0f921"
            ]
           ],
           "sequentialminus": [
            [
             0,
             "#0d0887"
            ],
            [
             0.1111111111111111,
             "#46039f"
            ],
            [
             0.2222222222222222,
             "#7201a8"
            ],
            [
             0.3333333333333333,
             "#9c179e"
            ],
            [
             0.4444444444444444,
             "#bd3786"
            ],
            [
             0.5555555555555556,
             "#d8576b"
            ],
            [
             0.6666666666666666,
             "#ed7953"
            ],
            [
             0.7777777777777778,
             "#fb9f3a"
            ],
            [
             0.8888888888888888,
             "#fdca26"
            ],
            [
             1,
             "#f0f921"
            ]
           ]
          },
          "colorway": [
           "#636efa",
           "#EF553B",
           "#00cc96",
           "#ab63fa",
           "#FFA15A",
           "#19d3f3",
           "#FF6692",
           "#B6E880",
           "#FF97FF",
           "#FECB52"
          ],
          "font": {
           "color": "#2a3f5f"
          },
          "geo": {
           "bgcolor": "white",
           "lakecolor": "white",
           "landcolor": "#E5ECF6",
           "showlakes": true,
           "showland": true,
           "subunitcolor": "white"
          },
          "hoverlabel": {
           "align": "left"
          },
          "hovermode": "closest",
          "mapbox": {
           "style": "light"
          },
          "paper_bgcolor": "white",
          "plot_bgcolor": "#E5ECF6",
          "polar": {
           "angularaxis": {
            "gridcolor": "white",
            "linecolor": "white",
            "ticks": ""
           },
           "bgcolor": "#E5ECF6",
           "radialaxis": {
            "gridcolor": "white",
            "linecolor": "white",
            "ticks": ""
           }
          },
          "scene": {
           "xaxis": {
            "backgroundcolor": "#E5ECF6",
            "gridcolor": "white",
            "gridwidth": 2,
            "linecolor": "white",
            "showbackground": true,
            "ticks": "",
            "zerolinecolor": "white"
           },
           "yaxis": {
            "backgroundcolor": "#E5ECF6",
            "gridcolor": "white",
            "gridwidth": 2,
            "linecolor": "white",
            "showbackground": true,
            "ticks": "",
            "zerolinecolor": "white"
           },
           "zaxis": {
            "backgroundcolor": "#E5ECF6",
            "gridcolor": "white",
            "gridwidth": 2,
            "linecolor": "white",
            "showbackground": true,
            "ticks": "",
            "zerolinecolor": "white"
           }
          },
          "shapedefaults": {
           "line": {
            "color": "#2a3f5f"
           }
          },
          "ternary": {
           "aaxis": {
            "gridcolor": "white",
            "linecolor": "white",
            "ticks": ""
           },
           "baxis": {
            "gridcolor": "white",
            "linecolor": "white",
            "ticks": ""
           },
           "bgcolor": "#E5ECF6",
           "caxis": {
            "gridcolor": "white",
            "linecolor": "white",
            "ticks": ""
           }
          },
          "title": {
           "x": 0.05
          },
          "xaxis": {
           "automargin": true,
           "gridcolor": "white",
           "linecolor": "white",
           "ticks": "",
           "title": {
            "standoff": 15
           },
           "zerolinecolor": "white",
           "zerolinewidth": 2
          },
          "yaxis": {
           "automargin": true,
           "gridcolor": "white",
           "linecolor": "white",
           "ticks": "",
           "title": {
            "standoff": 15
           },
           "zerolinecolor": "white",
           "zerolinewidth": 2
          }
         }
        },
        "width": 2300
       }
      }
     },
     "metadata": {},
     "output_type": "display_data"
    }
   ],
   "source": [
    "for yearprev in [1990, 2021]:\n",
    "    for year in [2030, 2040]:\n",
    "        data_2030 = xrt.sel(**standard_settings, Time=year, Region=group_eu).mean(dim='Scenario')\n",
    "        data_1990 = xr_dataread.sel(Time=yearprev).GHG_hist\n",
    "        data_red = (data_1990 - data_2030) / data_1990\n",
    "\n",
    "        fig = make_subplots(rows=2, cols=3, #subplot_titles=('Grandfathering (GF)',\n",
    "                                                            # 'Per Capita (PC)',\n",
    "                                                            # 'Per Capita Convergence (PCC)',\n",
    "                                                            # 'Equal Cumulative Per Capita',\n",
    "                                                            # 'Ability to pay (AP)',\n",
    "                                                            # 'Greenhouse Development Rights'), \n",
    "                                            specs=[[{'type': 'choropleth'}, {'type': 'choropleth'}, {'type': 'choropleth'}],\n",
    "                                                [{'type': 'choropleth'}, {'type': 'choropleth'}, {'type': 'choropleth'}]],\n",
    "                                            horizontal_spacing = 0,\n",
    "                                            vertical_spacing=0)\n",
    "\n",
    "        colorbar_abs = dict(len=1, x=1, tickvals = [0, 1, 2, 3], ticktext = ['1', '10', '100', '1000'])\n",
    "        colorbar_pc = dict(len=1, x=1)\n",
    "\n",
    "        for var_i, var in enumerate(rules):\n",
    "            if var_i == 0:\n",
    "                cm= True\n",
    "            else:\n",
    "                cm= False\n",
    "            fig.add_trace(\n",
    "                go.Choropleth(\n",
    "                locations=group_eu,\n",
    "                z = data_red[var],\n",
    "                locationmode = 'ISO-3',\n",
    "                colorscale = 'RdYlBu_r',\n",
    "                zmax = 1.01,\n",
    "                zmin = 0.29,\n",
    "                text = [str(r)+\": {:0.2f} Gt CO<sub>2</sub>e\".format(float(data_red.sel(Region=r)[var])) for r_i, r in enumerate(group_eu)],\n",
    "                hovertemplate  = '%{text}',\n",
    "                name=\"\",\n",
    "                marker_line_color='grey', \n",
    "                marker_line_width=0.7,\n",
    "                colorbar=dict(len=1, x=1, tickvals = np.arange(0.3, 1, 0.1), ticktext = [str(int(i*100))+\"%\" for i in np.arange(0.3, 1, 0.1)], title={\"text\":\"Emission<br>reduction<br>in \"+str(year)+\"<br>w.r.t. \"+str(yearprev)}, tickfont={'size': 25}),\n",
    "                showscale=cm\n",
    "            ), [1, 1, 1, 2, 2, 2][var_i], [1, 2, 3, 1, 2, 3][var_i])\n",
    "        # fig.update_geos(showocean=True, oceancolor=\"white\")\n",
    "        # fig.update_geos(showlakes=True, lakecolor=\"white\")\n",
    "\n",
    "        # limite map scope to USA 'africa', 'asia', 'europe', 'north america', 'south america', 'usa', 'world'\n",
    "        fig.update_layout(\n",
    "            geo1 = dict(scope='europe', \n",
    "                        showlakes=False,\n",
    "                        lakecolor='rgb(255, 255, 255)',\n",
    "                        showcoastlines=False,),\n",
    "            geo2 = dict(scope='europe', \n",
    "                        showlakes=False,\n",
    "                        lakecolor='rgb(255, 255, 255)',\n",
    "                        showcoastlines=False,),\n",
    "            geo3 = dict(scope='europe', \n",
    "                        showlakes=False,\n",
    "                        lakecolor='rgb(255, 255, 255)',\n",
    "                        showcoastlines=False,),\n",
    "            geo4 = dict(scope='europe', \n",
    "                        showlakes=False,\n",
    "                        lakecolor='rgb(255, 255, 255)',\n",
    "                        showcoastlines=False,),\n",
    "            geo5 = dict(scope='europe', \n",
    "                        showlakes=False,\n",
    "                        lakecolor='rgb(255, 255, 255)',\n",
    "                        showcoastlines=False,),\n",
    "            geo6 = dict(scope='europe', \n",
    "                        showlakes=False,\n",
    "                        showcoastlines=False,),\n",
    "        )\n",
    "\n",
    "        mn = np.min(np.array([float(data_red[rules].min()[r]) for r in rules]))\n",
    "        mx = np.max(np.array([float(data_red[rules].max()[r]) for r in rules]))\n",
    "        for var_i, var in enumerate(rules):\n",
    "            vals = np.array(data_red[var]).astype(float)\n",
    "            vals_i = (vals + mn)**1.2\n",
    "            vals_n = 14*(vals - mn)/(mx - mn)+7\n",
    "            vals_boolean = np.copy(vals)\n",
    "            vals_boolean[vals >= 0] = 1\n",
    "            vals_boolean[vals < 0] = 0\n",
    "            vals_boolean = vals_boolean.astype(int)\n",
    "            vals[np.isnan(vals)] = np.nanmean(vals)\n",
    "            \n",
    "            fig.add_scattergeo(\n",
    "                        locations = group_eu,\n",
    "                        text = [str(int(vals[r_i]*100))+\"%\" for r_i in range(len(group_eu))],\n",
    "                        featureidkey=\"properties.NAME_3\",\n",
    "                        mode = 'text',\n",
    "                        hoverinfo='skip',\n",
    "                        showlegend=False,\n",
    "                        textfont={'size': 20,\n",
    "                                'color': 'black'},\n",
    "                        row=[1, 1, 1, 2, 2, 2][var_i],\n",
    "                        col=[1, 2, 3, 1, 2, 3][var_i])\n",
    "\n",
    "        fig.update_geos(visible=False,\n",
    "                        showlakes=True,\n",
    "                        lakecolor='rgb(255, 255, 255)',\n",
    "                        projection_type='natural earth',\n",
    "                        resolution=50,\n",
    "                        lataxis_range=[30,75], lonaxis_range=[-20, 40],\n",
    "                        showcoastlines=False,)\n",
    "\n",
    "        #fig.update_traces(showscale=False)\n",
    "        fig.update_layout(height=1200, width=2300)\n",
    "        fig.update_geos(visible=True, showcountries=False)#fitbounds=\"locations\",\n",
    "        fig.update_layout(margin={\"r\":0,\"t\":0,\"l\":0,\"b\":0})\n",
    "\n",
    "        fig.add_annotation(xref='paper', yref='paper',ax=0, align='left', ay=-0, showarrow=False, font=dict(color='black', size=25),\n",
    "                        y=0.96, x=0.07, text=\"<b>(a) Grandfathering</b>\")\n",
    "        fig.add_annotation(xref='paper', yref='paper',ax=0, align='left', ay=-0, showarrow=False, font=dict(color='black', size=25),\n",
    "                        y=0.96, x=0.47, text=\"<b>(b) Per Capita</b>\")\n",
    "        fig.add_annotation(xref='paper', yref='paper',ax=0, align='left', ay=-0, showarrow=False, font=dict(color='black', size=25),\n",
    "                        y=0.96, x=0.90, text=\"<b>(c) Per Capita Convergence</b>\")\n",
    "        fig.add_annotation(xref='paper', yref='paper',ax=0, align='left', ay=-0, showarrow=False, font=dict(color='black', size=25),\n",
    "                        y=0.45, x=0.07, text=\"<b>(d) Equal Cumulative per Capita</b>\")\n",
    "        fig.add_annotation(xref='paper', yref='paper',ax=0, align='left', ay=-0, showarrow=False, font=dict(color='black', size=25),\n",
    "                        y=0.45, x=0.48, text=\"<b>(e) Ability to Pay</b>\")\n",
    "        fig.add_annotation(xref='paper', yref='paper',ax=0, align='left', ay=-0, showarrow=False, font=dict(color='black', size=25),\n",
    "                        y=0.45, x=0.95, text=\"<b>(f) Greenhouse Development Rights</b>\")\n",
    "        fig_europe = fig\n",
    "        fig.show()\n",
    "        fig.write_image(\"K:/Code/EffortSharing/Figures/Paper_Europe/ReductionsMapEurope_\"+str(year)+\"_\"+str(yearprev)+\".png\", scale=3)"
   ]
  },
  {
   "cell_type": "code",
   "execution_count": 40,
   "metadata": {},
   "outputs": [],
   "source": []
  },
  {
   "cell_type": "code",
   "execution_count": 13,
   "metadata": {},
   "outputs": [],
   "source": [
    "fig.write_image(\"K:/Code/EffortSharing/Figures/Paper_Europe/Europe_2040perc.png\", scale=3)"
   ]
  },
  {
   "cell_type": "code",
   "execution_count": 14,
   "metadata": {},
   "outputs": [
    {
     "ename": "NameError",
     "evalue": "name 'xr_temps' is not defined",
     "output_type": "error",
     "traceback": [
      "\u001b[1;31m---------------------------------------------------------------------------\u001b[0m",
      "\u001b[1;31mNameError\u001b[0m                                 Traceback (most recent call last)",
      "Cell \u001b[1;32mIn[14], line 1\u001b[0m\n\u001b[1;32m----> 1\u001b[0m data5\u001b[38;5;241m=\u001b[39m \u001b[43mxr_temps\u001b[49m\u001b[38;5;241m.\u001b[39msel(\u001b[38;5;241m*\u001b[39m\u001b[38;5;241m*\u001b[39mstandard_settings, Risk\u001b[38;5;241m=\u001b[39m\u001b[38;5;241m0.5\u001b[39m, Region\u001b[38;5;241m=\u001b[39mgroup_eu)\u001b[38;5;241m.\u001b[39mmean(dim\u001b[38;5;241m=\u001b[39m[\u001b[38;5;124m'\u001b[39m\u001b[38;5;124mConditionality\u001b[39m\u001b[38;5;124m'\u001b[39m, \u001b[38;5;124m'\u001b[39m\u001b[38;5;124mHot_air\u001b[39m\u001b[38;5;124m'\u001b[39m, \u001b[38;5;124m'\u001b[39m\u001b[38;5;124mAmbition\u001b[39m\u001b[38;5;124m'\u001b[39m, \u001b[38;5;124m'\u001b[39m\u001b[38;5;124mScenario\u001b[39m\u001b[38;5;124m'\u001b[39m])\n",
      "\u001b[1;31mNameError\u001b[0m: name 'xr_temps' is not defined"
     ]
    }
   ],
   "source": [
    "data5= xr_temps.sel(**standard_settings, Risk=0.5, Region=group_eu).mean(dim=['Conditionality', 'Hot_air', 'Ambition', 'Scenario'])"
   ]
  },
  {
   "cell_type": "code",
   "execution_count": null,
   "metadata": {},
   "outputs": [
    {
     "data": {
      "application/vnd.plotly.v1+json": {
       "config": {
        "plotlyServerURL": "https://plotly.com"
       },
       "data": [
        {
         "colorbar": {
          "len": 1,
          "tickfont": {
           "size": 25
          },
          "ticktext": [
           "1.5&deg;C",
           "1.6&deg;C",
           "1.7&deg;C",
           "1.8&deg;C",
           "1.9&deg;C",
           "2.0&deg;C",
           "2.1&deg;C",
           "2.2&deg;C",
           "2.3&deg;C",
           "2.4&deg;C"
          ],
          "tickvals": [
           1.5,
           1.6,
           1.7000000000000002,
           1.8000000000000003,
           1.9000000000000004,
           2.0000000000000004,
           2.1000000000000005,
           2.2000000000000006,
           2.3000000000000007,
           2.400000000000001
          ],
          "title": {
           "text": "Temp-equiv<br>of NDC"
          },
          "x": 1
         },
         "colorscale": [
          [
           0,
           "rgb(0,104,55)"
          ],
          [
           0.1,
           "rgb(26,152,80)"
          ],
          [
           0.2,
           "rgb(102,189,99)"
          ],
          [
           0.3,
           "rgb(166,217,106)"
          ],
          [
           0.4,
           "rgb(217,239,139)"
          ],
          [
           0.5,
           "rgb(255,255,191)"
          ],
          [
           0.6,
           "rgb(254,224,139)"
          ],
          [
           0.7,
           "rgb(253,174,97)"
          ],
          [
           0.8,
           "rgb(244,109,67)"
          ],
          [
           0.9,
           "rgb(215,48,39)"
          ],
          [
           1,
           "rgb(165,0,38)"
          ]
         ],
         "geo": "geo",
         "hovertemplate": "%{text}",
         "locationmode": "ISO-3",
         "locations": [
          "AUT",
          "BEL",
          "BGR",
          "HRV",
          "CYP",
          "CZE",
          "DNK",
          "EST",
          "FIN",
          "FRA",
          "DEU",
          "GRC",
          "HUN",
          "IRL",
          "ITA",
          "LVA",
          "LTU",
          "LUX",
          "MLT",
          "NLD",
          "POL",
          "PRT",
          "ROU",
          "SVK",
          "SVN",
          "ESP",
          "SWE"
         ],
         "marker": {
          "line": {
           "color": "grey",
           "width": 0.7
          }
         },
         "name": "",
         "showscale": true,
         "text": [
          "AUT: 1.58 deg C",
          "BEL: 1.48 deg C",
          "BGR: 4.48 deg C",
          "HRV: 3.17 deg C",
          "CYP: 1.49 deg C",
          "CZE: 1.64 deg C",
          "DNK: 1.65 deg C",
          "EST: 1.39 deg C",
          "FIN: 1.53 deg C",
          "FRA: 1.87 deg C",
          "DEU: 1.50 deg C",
          "GRC: 2.12 deg C",
          "HUN: 1.66 deg C",
          "IRL: 1.59 deg C",
          "ITA: 1.76 deg C",
          "LVA: 4.04 deg C",
          "LTU: 1.56 deg C",
          "LUX: 1.68 deg C",
          "MLT: 1.48 deg C",
          "NLD: 1.49 deg C",
          "POL: 1.53 deg C",
          "PRT: 2.70 deg C",
          "ROU: 2.79 deg C",
          "SVK: 1.52 deg C",
          "SVN: 1.77 deg C",
          "ESP: 1.82 deg C",
          "SWE: 2.83 deg C"
         ],
         "type": "choropleth",
         "z": [
          1.577551500068065,
          1.4834095488923789,
          4.476241104043247,
          3.1713092566505985,
          1.49344591908773,
          1.6354255449214354,
          1.6546237358390423,
          1.3939945980179596,
          1.5300494334354686,
          1.8681379377539369,
          1.5038933447578453,
          2.1229590428617477,
          1.6555202791871781,
          1.5858899648175033,
          1.755670037029553,
          4.037357872732038,
          1.5611440940775487,
          1.6844974384228273,
          1.4808303648691477,
          1.4878239219065446,
          1.5342748923251108,
          2.697730077841509,
          2.7943992176915806,
          1.524276879445505,
          1.7653806864519062,
          1.815575159767807,
          2.8318125122817186
         ],
         "zmax": 2.5,
         "zmin": 1.5
        },
        {
         "colorbar": {
          "len": 1,
          "tickfont": {
           "size": 25
          },
          "ticktext": [
           "1.5&deg;C",
           "1.6&deg;C",
           "1.7&deg;C",
           "1.8&deg;C",
           "1.9&deg;C",
           "2.0&deg;C",
           "2.1&deg;C",
           "2.2&deg;C",
           "2.3&deg;C",
           "2.4&deg;C"
          ],
          "tickvals": [
           1.5,
           1.6,
           1.7000000000000002,
           1.8000000000000003,
           1.9000000000000004,
           2.0000000000000004,
           2.1000000000000005,
           2.2000000000000006,
           2.3000000000000007,
           2.400000000000001
          ],
          "title": {
           "text": "Temp-equiv<br>of NDC"
          },
          "x": 1
         },
         "colorscale": [
          [
           0,
           "rgb(0,104,55)"
          ],
          [
           0.1,
           "rgb(26,152,80)"
          ],
          [
           0.2,
           "rgb(102,189,99)"
          ],
          [
           0.3,
           "rgb(166,217,106)"
          ],
          [
           0.4,
           "rgb(217,239,139)"
          ],
          [
           0.5,
           "rgb(255,255,191)"
          ],
          [
           0.6,
           "rgb(254,224,139)"
          ],
          [
           0.7,
           "rgb(253,174,97)"
          ],
          [
           0.8,
           "rgb(244,109,67)"
          ],
          [
           0.9,
           "rgb(215,48,39)"
          ],
          [
           1,
           "rgb(165,0,38)"
          ]
         ],
         "geo": "geo2",
         "hovertemplate": "%{text}",
         "locationmode": "ISO-3",
         "locations": [
          "AUT",
          "BEL",
          "BGR",
          "HRV",
          "CYP",
          "CZE",
          "DNK",
          "EST",
          "FIN",
          "FRA",
          "DEU",
          "GRC",
          "HUN",
          "IRL",
          "ITA",
          "LVA",
          "LTU",
          "LUX",
          "MLT",
          "NLD",
          "POL",
          "PRT",
          "ROU",
          "SVK",
          "SVN",
          "ESP",
          "SWE"
         ],
         "marker": {
          "line": {
           "color": "grey",
           "width": 0.7
          }
         },
         "name": "",
         "showscale": false,
         "text": [
          "AUT: 1.79 deg C",
          "BEL: 2.20 deg C",
          "BGR: 1.61 deg C",
          "HRV: 1.66 deg C",
          "CYP: 1.45 deg C",
          "CZE: 2.77 deg C",
          "DNK: 1.82 deg C",
          "EST: 3.11 deg C",
          "FIN: 3.82 deg C",
          "FRA: 1.52 deg C",
          "DEU: 1.74 deg C",
          "GRC: 1.95 deg C",
          "HUN: 1.75 deg C",
          "IRL: 3.86 deg C",
          "ITA: 1.59 deg C",
          "LVA: 1.71 deg C",
          "LTU: 1.81 deg C",
          "LUX: 4.48 deg C",
          "MLT: 1.43 deg C",
          "NLD: 2.28 deg C",
          "POL: 2.24 deg C",
          "PRT: 1.63 deg C",
          "ROU: 1.55 deg C",
          "SVK: 1.62 deg C",
          "SVN: 2.31 deg C",
          "ESP: 1.61 deg C",
          "SWE: 1.56 deg C"
         ],
         "type": "choropleth",
         "z": [
          1.7938634148234451,
          2.202378363595828,
          1.6114799886212576,
          1.657054605580744,
          1.4488604174188662,
          2.7697964996854774,
          1.820332220045973,
          3.112922819103352,
          3.8165237584217446,
          1.5200141722271459,
          1.7375979545535292,
          1.9497182164117464,
          1.7522887296491183,
          3.8640707747783525,
          1.589165101213081,
          1.7074200367269445,
          1.811351647749018,
          4.476241104043248,
          1.4269702889512668,
          2.2780021635877348,
          2.238558278896726,
          1.6322638125191997,
          1.5470083938550554,
          1.615301004718113,
          2.3140620772851146,
          1.6117750296553877,
          1.5571646449727512
         ],
         "zmax": 2.5,
         "zmin": 1.5
        },
        {
         "colorbar": {
          "len": 1,
          "tickfont": {
           "size": 25
          },
          "ticktext": [
           "1.5&deg;C",
           "1.6&deg;C",
           "1.7&deg;C",
           "1.8&deg;C",
           "1.9&deg;C",
           "2.0&deg;C",
           "2.1&deg;C",
           "2.2&deg;C",
           "2.3&deg;C",
           "2.4&deg;C"
          ],
          "tickvals": [
           1.5,
           1.6,
           1.7000000000000002,
           1.8000000000000003,
           1.9000000000000004,
           2.0000000000000004,
           2.1000000000000005,
           2.2000000000000006,
           2.3000000000000007,
           2.400000000000001
          ],
          "title": {
           "text": "Temp-equiv<br>of NDC"
          },
          "x": 1
         },
         "colorscale": [
          [
           0,
           "rgb(0,104,55)"
          ],
          [
           0.1,
           "rgb(26,152,80)"
          ],
          [
           0.2,
           "rgb(102,189,99)"
          ],
          [
           0.3,
           "rgb(166,217,106)"
          ],
          [
           0.4,
           "rgb(217,239,139)"
          ],
          [
           0.5,
           "rgb(255,255,191)"
          ],
          [
           0.6,
           "rgb(254,224,139)"
          ],
          [
           0.7,
           "rgb(253,174,97)"
          ],
          [
           0.8,
           "rgb(244,109,67)"
          ],
          [
           0.9,
           "rgb(215,48,39)"
          ],
          [
           1,
           "rgb(165,0,38)"
          ]
         ],
         "geo": "geo3",
         "hovertemplate": "%{text}",
         "locationmode": "ISO-3",
         "locations": [
          "AUT",
          "BEL",
          "BGR",
          "HRV",
          "CYP",
          "CZE",
          "DNK",
          "EST",
          "FIN",
          "FRA",
          "DEU",
          "GRC",
          "HUN",
          "IRL",
          "ITA",
          "LVA",
          "LTU",
          "LUX",
          "MLT",
          "NLD",
          "POL",
          "PRT",
          "ROU",
          "SVK",
          "SVN",
          "ESP",
          "SWE"
         ],
         "marker": {
          "line": {
           "color": "grey",
           "width": 0.7
          }
         },
         "name": "",
         "showscale": false,
         "text": [
          "AUT: 1.62 deg C",
          "BEL: 1.54 deg C",
          "BGR: 3.32 deg C",
          "HRV: 2.34 deg C",
          "CYP: 1.48 deg C",
          "CZE: 1.78 deg C",
          "DNK: 1.69 deg C",
          "EST: 1.45 deg C",
          "FIN: 1.67 deg C",
          "FRA: 1.68 deg C",
          "DEU: 1.54 deg C",
          "GRC: 2.06 deg C",
          "HUN: 1.68 deg C",
          "IRL: 1.77 deg C",
          "ITA: 1.69 deg C",
          "LVA: 2.78 deg C",
          "LTU: 1.61 deg C",
          "LUX: 2.16 deg C",
          "MLT: 1.46 deg C",
          "NLD: 1.55 deg C",
          "POL: 1.61 deg C",
          "PRT: 2.13 deg C",
          "ROU: 2.02 deg C",
          "SVK: 1.54 deg C",
          "SVN: 1.88 deg C",
          "ESP: 1.73 deg C",
          "SWE: 2.05 deg C"
         ],
         "type": "choropleth",
         "z": [
          1.6211391430797386,
          1.5373239283371065,
          3.3155128094818704,
          2.3426171076460767,
          1.4773314186468596,
          1.7829940272587903,
          1.6944401414045898,
          1.4544594711000416,
          1.6651723156025569,
          1.6817546437749626,
          1.5395008527679506,
          2.0625175295352256,
          1.6808162899116803,
          1.7735211559609039,
          1.6870521730268782,
          2.7841796052882075,
          1.607704898132157,
          2.1629999596920184,
          1.4620912245814912,
          1.5459192341580181,
          1.6106100797690044,
          2.1258473283996846,
          2.021649046246329,
          1.5446990537829133,
          1.87831447170485,
          1.730894290363344,
          2.0516113973256473
         ],
         "zmax": 2.5,
         "zmin": 1.5
        },
        {
         "colorbar": {
          "len": 1,
          "tickfont": {
           "size": 25
          },
          "ticktext": [
           "1.5&deg;C",
           "1.6&deg;C",
           "1.7&deg;C",
           "1.8&deg;C",
           "1.9&deg;C",
           "2.0&deg;C",
           "2.1&deg;C",
           "2.2&deg;C",
           "2.3&deg;C",
           "2.4&deg;C"
          ],
          "tickvals": [
           1.5,
           1.6,
           1.7000000000000002,
           1.8000000000000003,
           1.9000000000000004,
           2.0000000000000004,
           2.1000000000000005,
           2.2000000000000006,
           2.3000000000000007,
           2.400000000000001
          ],
          "title": {
           "text": "Temp-equiv<br>of NDC"
          },
          "x": 1
         },
         "colorscale": [
          [
           0,
           "rgb(0,104,55)"
          ],
          [
           0.1,
           "rgb(26,152,80)"
          ],
          [
           0.2,
           "rgb(102,189,99)"
          ],
          [
           0.3,
           "rgb(166,217,106)"
          ],
          [
           0.4,
           "rgb(217,239,139)"
          ],
          [
           0.5,
           "rgb(255,255,191)"
          ],
          [
           0.6,
           "rgb(254,224,139)"
          ],
          [
           0.7,
           "rgb(253,174,97)"
          ],
          [
           0.8,
           "rgb(244,109,67)"
          ],
          [
           0.9,
           "rgb(215,48,39)"
          ],
          [
           1,
           "rgb(165,0,38)"
          ]
         ],
         "geo": "geo4",
         "hovertemplate": "%{text}",
         "locationmode": "ISO-3",
         "locations": [
          "AUT",
          "BEL",
          "BGR",
          "HRV",
          "CYP",
          "CZE",
          "DNK",
          "EST",
          "FIN",
          "FRA",
          "DEU",
          "GRC",
          "HUN",
          "IRL",
          "ITA",
          "LVA",
          "LTU",
          "LUX",
          "MLT",
          "NLD",
          "POL",
          "PRT",
          "ROU",
          "SVK",
          "SVN",
          "ESP",
          "SWE"
         ],
         "marker": {
          "line": {
           "color": "grey",
           "width": 0.7
          }
         },
         "name": "",
         "showscale": false,
         "text": [
          "AUT: 2.08 deg C",
          "BEL: 1.73 deg C",
          "BGR: 4.48 deg C",
          "HRV: 4.48 deg C",
          "CYP: 1.60 deg C",
          "CZE: 2.70 deg C",
          "DNK: 2.77 deg C",
          "EST: 1.50 deg C",
          "FIN: 1.88 deg C",
          "FRA: 2.69 deg C",
          "DEU: 1.92 deg C",
          "GRC: 4.03 deg C",
          "HUN: 2.41 deg C",
          "IRL: 2.28 deg C",
          "ITA: 2.72 deg C",
          "LVA: 4.29 deg C",
          "LTU: 2.04 deg C",
          "LUX: 2.93 deg C",
          "MLT: 1.59 deg C",
          "NLD: 1.80 deg C",
          "POL: 2.00 deg C",
          "PRT: 4.24 deg C",
          "ROU: 3.95 deg C",
          "SVK: 1.80 deg C",
          "SVN: 2.41 deg C",
          "ESP: 2.66 deg C",
          "SWE: 4.05 deg C"
         ],
         "type": "choropleth",
         "z": [
          2.0751612992000887,
          1.7255522172140616,
          4.476241104043248,
          4.476241104043248,
          1.5988108856940706,
          2.700111596608638,
          2.7725048756200015,
          1.4952202406480521,
          1.8811603222661433,
          2.693854659979736,
          1.9201751952938693,
          4.032884441894645,
          2.406273597414412,
          2.27726369039655,
          2.721151578285446,
          4.289223626349182,
          2.0380217230575903,
          2.9347495056361614,
          1.588107096067979,
          1.802965422523457,
          1.9990305102620787,
          4.238142135059372,
          3.9464784308888383,
          1.798913199788473,
          2.4105746504830963,
          2.656243434641642,
          4.046314402103399
         ],
         "zmax": 2.5,
         "zmin": 1.5
        },
        {
         "colorbar": {
          "len": 1,
          "tickfont": {
           "size": 25
          },
          "ticktext": [
           "1.5&deg;C",
           "1.6&deg;C",
           "1.7&deg;C",
           "1.8&deg;C",
           "1.9&deg;C",
           "2.0&deg;C",
           "2.1&deg;C",
           "2.2&deg;C",
           "2.3&deg;C",
           "2.4&deg;C"
          ],
          "tickvals": [
           1.5,
           1.6,
           1.7000000000000002,
           1.8000000000000003,
           1.9000000000000004,
           2.0000000000000004,
           2.1000000000000005,
           2.2000000000000006,
           2.3000000000000007,
           2.400000000000001
          ],
          "title": {
           "text": "Temp-equiv<br>of NDC"
          },
          "x": 1
         },
         "colorscale": [
          [
           0,
           "rgb(0,104,55)"
          ],
          [
           0.1,
           "rgb(26,152,80)"
          ],
          [
           0.2,
           "rgb(102,189,99)"
          ],
          [
           0.3,
           "rgb(166,217,106)"
          ],
          [
           0.4,
           "rgb(217,239,139)"
          ],
          [
           0.5,
           "rgb(255,255,191)"
          ],
          [
           0.6,
           "rgb(254,224,139)"
          ],
          [
           0.7,
           "rgb(253,174,97)"
          ],
          [
           0.8,
           "rgb(244,109,67)"
          ],
          [
           0.9,
           "rgb(215,48,39)"
          ],
          [
           1,
           "rgb(165,0,38)"
          ]
         ],
         "geo": "geo5",
         "hovertemplate": "%{text}",
         "locationmode": "ISO-3",
         "locations": [
          "AUT",
          "BEL",
          "BGR",
          "HRV",
          "CYP",
          "CZE",
          "DNK",
          "EST",
          "FIN",
          "FRA",
          "DEU",
          "GRC",
          "HUN",
          "IRL",
          "ITA",
          "LVA",
          "LTU",
          "LUX",
          "MLT",
          "NLD",
          "POL",
          "PRT",
          "ROU",
          "SVK",
          "SVN",
          "ESP",
          "SWE"
         ],
         "marker": {
          "line": {
           "color": "grey",
           "width": 0.7
          }
         },
         "name": "",
         "showscale": false,
         "text": [
          "AUT: 2.15 deg C",
          "BEL: 1.65 deg C",
          "BGR: 4.48 deg C",
          "HRV: 3.99 deg C",
          "CYP: 1.64 deg C",
          "CZE: 2.30 deg C",
          "DNK: 2.32 deg C",
          "EST: 1.46 deg C",
          "FIN: 1.86 deg C",
          "FRA: 2.86 deg C",
          "DEU: 1.84 deg C",
          "GRC: 3.45 deg C",
          "HUN: 1.83 deg C",
          "IRL: 2.11 deg C",
          "ITA: 2.38 deg C",
          "LVA: 4.47 deg C",
          "LTU: 1.70 deg C",
          "LUX: 3.50 deg C",
          "MLT: 1.83 deg C",
          "NLD: 1.73 deg C",
          "POL: 1.75 deg C",
          "PRT: 4.11 deg C",
          "ROU: 3.37 deg C",
          "SVK: nan deg C",
          "SVN: 2.57 deg C",
          "ESP: 2.59 deg C",
          "SWE: 4.48 deg C"
         ],
         "type": "choropleth",
         "z": [
          2.147474892174602,
          1.654583428713959,
          4.476241104043248,
          3.9907973074321252,
          1.6387486723204163,
          2.2951974252325704,
          2.3193168611620303,
          1.4552546757740266,
          1.8620832929539257,
          2.8606454040000515,
          1.8415349707641477,
          3.4519642656321565,
          1.8288229468284554,
          2.106493207823367,
          2.375295473547929,
          4.470126468142194,
          1.6979718683528808,
          3.4989944209733523,
          1.8332030386513267,
          1.7258997917321701,
          1.7462775246305668,
          4.10856398434713,
          3.3652898568194134,
          null,
          2.5672235984589102,
          2.594300585053179,
          4.476241104043248
         ],
         "zmax": 2.5,
         "zmin": 1.5
        },
        {
         "colorbar": {
          "len": 1,
          "tickfont": {
           "size": 25
          },
          "ticktext": [
           "1.5&deg;C",
           "1.6&deg;C",
           "1.7&deg;C",
           "1.8&deg;C",
           "1.9&deg;C",
           "2.0&deg;C",
           "2.1&deg;C",
           "2.2&deg;C",
           "2.3&deg;C",
           "2.4&deg;C"
          ],
          "tickvals": [
           1.5,
           1.6,
           1.7000000000000002,
           1.8000000000000003,
           1.9000000000000004,
           2.0000000000000004,
           2.1000000000000005,
           2.2000000000000006,
           2.3000000000000007,
           2.400000000000001
          ],
          "title": {
           "text": "Temp-equiv<br>of NDC"
          },
          "x": 1
         },
         "colorscale": [
          [
           0,
           "rgb(0,104,55)"
          ],
          [
           0.1,
           "rgb(26,152,80)"
          ],
          [
           0.2,
           "rgb(102,189,99)"
          ],
          [
           0.3,
           "rgb(166,217,106)"
          ],
          [
           0.4,
           "rgb(217,239,139)"
          ],
          [
           0.5,
           "rgb(255,255,191)"
          ],
          [
           0.6,
           "rgb(254,224,139)"
          ],
          [
           0.7,
           "rgb(253,174,97)"
          ],
          [
           0.8,
           "rgb(244,109,67)"
          ],
          [
           0.9,
           "rgb(215,48,39)"
          ],
          [
           1,
           "rgb(165,0,38)"
          ]
         ],
         "geo": "geo6",
         "hovertemplate": "%{text}",
         "locationmode": "ISO-3",
         "locations": [
          "AUT",
          "BEL",
          "BGR",
          "HRV",
          "CYP",
          "CZE",
          "DNK",
          "EST",
          "FIN",
          "FRA",
          "DEU",
          "GRC",
          "HUN",
          "IRL",
          "ITA",
          "LVA",
          "LTU",
          "LUX",
          "MLT",
          "NLD",
          "POL",
          "PRT",
          "ROU",
          "SVK",
          "SVN",
          "ESP",
          "SWE"
         ],
         "marker": {
          "line": {
           "color": "grey",
           "width": 0.7
          }
         },
         "name": "",
         "showscale": false,
         "text": [
          "AUT: 4.48 deg C",
          "BEL: 4.48 deg C",
          "BGR: 4.48 deg C",
          "HRV: 4.48 deg C",
          "CYP: 4.39 deg C",
          "CZE: 4.48 deg C",
          "DNK: 4.48 deg C",
          "EST: 1.50 deg C",
          "FIN: 4.48 deg C",
          "FRA: 4.48 deg C",
          "DEU: 4.48 deg C",
          "GRC: 4.48 deg C",
          "HUN: 3.28 deg C",
          "IRL: 4.48 deg C",
          "ITA: 4.48 deg C",
          "LVA: 4.48 deg C",
          "LTU: 2.84 deg C",
          "LUX: 4.48 deg C",
          "MLT: 4.48 deg C",
          "NLD: 4.48 deg C",
          "POL: 2.23 deg C",
          "PRT: 4.48 deg C",
          "ROU: 4.48 deg C",
          "SVK: nan deg C",
          "SVN: 4.48 deg C",
          "ESP: 4.48 deg C",
          "SWE: 4.48 deg C"
         ],
         "type": "choropleth",
         "z": [
          4.476241104043248,
          4.476241104043248,
          4.476241104043248,
          4.476241104043248,
          4.385038454325939,
          4.476241104043248,
          4.476241104043248,
          1.5037617005610906,
          4.476241104043248,
          4.476241104043248,
          4.476241104043248,
          4.476241104043248,
          3.2830939926649725,
          4.476241104043248,
          4.476241104043248,
          4.476241104043248,
          2.839582623354048,
          4.476241104043248,
          4.476241104043248,
          4.476241104043248,
          2.234112534294759,
          4.476241104043248,
          4.476241104043248,
          null,
          4.476241104043248,
          4.476241104043248,
          4.476241104043248
         ],
         "zmax": 2.5,
         "zmin": 1.5
        },
        {
         "featureidkey": "properties.NAME_3",
         "geo": "geo",
         "hoverinfo": "skip",
         "locations": [
          "AUT",
          "BEL",
          "BGR",
          "HRV",
          "CYP",
          "CZE",
          "DNK",
          "EST",
          "FIN",
          "FRA",
          "DEU",
          "GRC",
          "HUN",
          "IRL",
          "ITA",
          "LVA",
          "LTU",
          "LUX",
          "MLT",
          "NLD",
          "POL",
          "PRT",
          "ROU",
          "SVK",
          "SVN",
          "ESP",
          "SWE"
         ],
         "mode": "text",
         "showlegend": false,
         "text": [
          "1.6",
          "1.5",
          "4.5",
          "3.2",
          "1.5",
          "1.6",
          "1.7",
          "1.4",
          "1.5",
          "1.9",
          "1.5",
          "2.1",
          "1.7",
          "1.6",
          "1.8",
          "4.0",
          "1.6",
          "1.7",
          "1.5",
          "1.5",
          "1.5",
          "2.7",
          "2.8",
          "1.5",
          "1.8",
          "1.8",
          "2.8"
         ],
         "textfont": {
          "color": "black",
          "size": 20
         },
         "type": "scattergeo"
        },
        {
         "featureidkey": "properties.NAME_3",
         "geo": "geo2",
         "hoverinfo": "skip",
         "locations": [
          "AUT",
          "BEL",
          "BGR",
          "HRV",
          "CYP",
          "CZE",
          "DNK",
          "EST",
          "FIN",
          "FRA",
          "DEU",
          "GRC",
          "HUN",
          "IRL",
          "ITA",
          "LVA",
          "LTU",
          "LUX",
          "MLT",
          "NLD",
          "POL",
          "PRT",
          "ROU",
          "SVK",
          "SVN",
          "ESP",
          "SWE"
         ],
         "mode": "text",
         "showlegend": false,
         "text": [
          "1.8",
          "2.2",
          "1.6",
          "1.7",
          "1.4",
          "2.8",
          "1.8",
          "3.1",
          "3.8",
          "1.5",
          "1.7",
          "1.9",
          "1.8",
          "3.9",
          "1.6",
          "1.7",
          "1.8",
          "4.5",
          "1.4",
          "2.3",
          "2.2",
          "1.6",
          "1.5",
          "1.6",
          "2.3",
          "1.6",
          "1.6"
         ],
         "textfont": {
          "color": "black",
          "size": 20
         },
         "type": "scattergeo"
        },
        {
         "featureidkey": "properties.NAME_3",
         "geo": "geo3",
         "hoverinfo": "skip",
         "locations": [
          "AUT",
          "BEL",
          "BGR",
          "HRV",
          "CYP",
          "CZE",
          "DNK",
          "EST",
          "FIN",
          "FRA",
          "DEU",
          "GRC",
          "HUN",
          "IRL",
          "ITA",
          "LVA",
          "LTU",
          "LUX",
          "MLT",
          "NLD",
          "POL",
          "PRT",
          "ROU",
          "SVK",
          "SVN",
          "ESP",
          "SWE"
         ],
         "mode": "text",
         "showlegend": false,
         "text": [
          "1.6",
          "1.5",
          "3.3",
          "2.3",
          "1.5",
          "1.8",
          "1.7",
          "1.5",
          "1.7",
          "1.7",
          "1.5",
          "2.1",
          "1.7",
          "1.8",
          "1.7",
          "2.8",
          "1.6",
          "2.2",
          "1.5",
          "1.5",
          "1.6",
          "2.1",
          "2.0",
          "1.5",
          "1.9",
          "1.7",
          "2.1"
         ],
         "textfont": {
          "color": "black",
          "size": 20
         },
         "type": "scattergeo"
        },
        {
         "featureidkey": "properties.NAME_3",
         "geo": "geo4",
         "hoverinfo": "skip",
         "locations": [
          "AUT",
          "BEL",
          "BGR",
          "HRV",
          "CYP",
          "CZE",
          "DNK",
          "EST",
          "FIN",
          "FRA",
          "DEU",
          "GRC",
          "HUN",
          "IRL",
          "ITA",
          "LVA",
          "LTU",
          "LUX",
          "MLT",
          "NLD",
          "POL",
          "PRT",
          "ROU",
          "SVK",
          "SVN",
          "ESP",
          "SWE"
         ],
         "mode": "text",
         "showlegend": false,
         "text": [
          "2.1",
          "1.7",
          "4.5",
          "4.5",
          "1.6",
          "2.7",
          "2.8",
          "1.5",
          "1.9",
          "2.7",
          "1.9",
          "4.0",
          "2.4",
          "2.3",
          "2.7",
          "4.3",
          "2.0",
          "2.9",
          "1.6",
          "1.8",
          "2.0",
          "4.2",
          "3.9",
          "1.8",
          "2.4",
          "2.7",
          "4.0"
         ],
         "textfont": {
          "color": "black",
          "size": 20
         },
         "type": "scattergeo"
        },
        {
         "featureidkey": "properties.NAME_3",
         "geo": "geo5",
         "hoverinfo": "skip",
         "locations": [
          "AUT",
          "BEL",
          "BGR",
          "HRV",
          "CYP",
          "CZE",
          "DNK",
          "EST",
          "FIN",
          "FRA",
          "DEU",
          "GRC",
          "HUN",
          "IRL",
          "ITA",
          "LVA",
          "LTU",
          "LUX",
          "MLT",
          "NLD",
          "POL",
          "PRT",
          "ROU",
          "SVK",
          "SVN",
          "ESP",
          "SWE"
         ],
         "mode": "text",
         "showlegend": false,
         "text": [
          "2.1",
          "1.7",
          "4.5",
          "4.0",
          "1.6",
          "2.3",
          "2.3",
          "1.5",
          "1.9",
          "2.9",
          "1.8",
          "3.5",
          "1.8",
          "2.1",
          "2.4",
          "4.5",
          "1.7",
          "3.5",
          "1.8",
          "1.7",
          "1.7",
          "4.1",
          "3.4",
          "nan",
          "2.6",
          "2.6",
          "4.5"
         ],
         "textfont": {
          "color": "black",
          "size": 20
         },
         "type": "scattergeo"
        },
        {
         "featureidkey": "properties.NAME_3",
         "geo": "geo6",
         "hoverinfo": "skip",
         "locations": [
          "AUT",
          "BEL",
          "BGR",
          "HRV",
          "CYP",
          "CZE",
          "DNK",
          "EST",
          "FIN",
          "FRA",
          "DEU",
          "GRC",
          "HUN",
          "IRL",
          "ITA",
          "LVA",
          "LTU",
          "LUX",
          "MLT",
          "NLD",
          "POL",
          "PRT",
          "ROU",
          "SVK",
          "SVN",
          "ESP",
          "SWE"
         ],
         "mode": "text",
         "showlegend": false,
         "text": [
          "4.5",
          "4.5",
          "4.5",
          "4.5",
          "4.4",
          "4.5",
          "4.5",
          "1.5",
          "4.5",
          "4.5",
          "4.5",
          "4.5",
          "3.3",
          "4.5",
          "4.5",
          "4.5",
          "2.8",
          "4.5",
          "4.5",
          "4.5",
          "2.2",
          "4.5",
          "4.5",
          "nan",
          "4.5",
          "4.5",
          "4.5"
         ],
         "textfont": {
          "color": "black",
          "size": 20
         },
         "type": "scattergeo"
        }
       ],
       "layout": {
        "annotations": [
         {
          "align": "left",
          "ax": 0,
          "ay": 0,
          "font": {
           "color": "black",
           "size": 25
          },
          "showarrow": false,
          "text": "<b>(a) Grandfathering</b>",
          "x": 0.07,
          "xref": "paper",
          "y": 0.96,
          "yref": "paper"
         },
         {
          "align": "left",
          "ax": 0,
          "ay": 0,
          "font": {
           "color": "black",
           "size": 25
          },
          "showarrow": false,
          "text": "<b>(b) Per Capita</b>",
          "x": 0.47,
          "xref": "paper",
          "y": 0.96,
          "yref": "paper"
         },
         {
          "align": "left",
          "ax": 0,
          "ay": 0,
          "font": {
           "color": "black",
           "size": 25
          },
          "showarrow": false,
          "text": "<b>(c) Per Capita Convergence</b>",
          "x": 0.9,
          "xref": "paper",
          "y": 0.96,
          "yref": "paper"
         },
         {
          "align": "left",
          "ax": 0,
          "ay": 0,
          "font": {
           "color": "black",
           "size": 25
          },
          "showarrow": false,
          "text": "<b>(d) Equal Cumulative per Capita</b>",
          "x": 0.07,
          "xref": "paper",
          "y": 0.45,
          "yref": "paper"
         },
         {
          "align": "left",
          "ax": 0,
          "ay": 0,
          "font": {
           "color": "black",
           "size": 25
          },
          "showarrow": false,
          "text": "<b>(e) Ability to Pay</b>",
          "x": 0.48,
          "xref": "paper",
          "y": 0.45,
          "yref": "paper"
         },
         {
          "align": "left",
          "ax": 0,
          "ay": 0,
          "font": {
           "color": "black",
           "size": 25
          },
          "showarrow": false,
          "text": "<b>(f) Greenhouse Development Rights</b>",
          "x": 0.95,
          "xref": "paper",
          "y": 0.45,
          "yref": "paper"
         }
        ],
        "geo": {
         "domain": {
          "x": [
           0,
           0.3333333333333333
          ],
          "y": [
           0.5,
           1
          ]
         },
         "lakecolor": "rgb(255, 255, 255)",
         "lataxis": {
          "range": [
           30,
           75
          ]
         },
         "lonaxis": {
          "range": [
           -20,
           40
          ]
         },
         "projection": {
          "type": "natural earth"
         },
         "resolution": 50,
         "scope": "europe",
         "showcoastlines": false,
         "showcountries": false,
         "showlakes": true,
         "visible": true
        },
        "geo2": {
         "domain": {
          "x": [
           0.3333333333333333,
           0.6666666666666666
          ],
          "y": [
           0.5,
           1
          ]
         },
         "lakecolor": "rgb(255, 255, 255)",
         "lataxis": {
          "range": [
           30,
           75
          ]
         },
         "lonaxis": {
          "range": [
           -20,
           40
          ]
         },
         "projection": {
          "type": "natural earth"
         },
         "resolution": 50,
         "scope": "europe",
         "showcoastlines": false,
         "showcountries": false,
         "showlakes": true,
         "visible": true
        },
        "geo3": {
         "domain": {
          "x": [
           0.6666666666666666,
           1
          ],
          "y": [
           0.5,
           1
          ]
         },
         "lakecolor": "rgb(255, 255, 255)",
         "lataxis": {
          "range": [
           30,
           75
          ]
         },
         "lonaxis": {
          "range": [
           -20,
           40
          ]
         },
         "projection": {
          "type": "natural earth"
         },
         "resolution": 50,
         "scope": "europe",
         "showcoastlines": false,
         "showcountries": false,
         "showlakes": true,
         "visible": true
        },
        "geo4": {
         "domain": {
          "x": [
           0,
           0.3333333333333333
          ],
          "y": [
           0,
           0.5
          ]
         },
         "lakecolor": "rgb(255, 255, 255)",
         "lataxis": {
          "range": [
           30,
           75
          ]
         },
         "lonaxis": {
          "range": [
           -20,
           40
          ]
         },
         "projection": {
          "type": "natural earth"
         },
         "resolution": 50,
         "scope": "europe",
         "showcoastlines": false,
         "showcountries": false,
         "showlakes": true,
         "visible": true
        },
        "geo5": {
         "domain": {
          "x": [
           0.3333333333333333,
           0.6666666666666666
          ],
          "y": [
           0,
           0.5
          ]
         },
         "lakecolor": "rgb(255, 255, 255)",
         "lataxis": {
          "range": [
           30,
           75
          ]
         },
         "lonaxis": {
          "range": [
           -20,
           40
          ]
         },
         "projection": {
          "type": "natural earth"
         },
         "resolution": 50,
         "scope": "europe",
         "showcoastlines": false,
         "showcountries": false,
         "showlakes": true,
         "visible": true
        },
        "geo6": {
         "domain": {
          "x": [
           0.6666666666666666,
           1
          ],
          "y": [
           0,
           0.5
          ]
         },
         "lakecolor": "rgb(255, 255, 255)",
         "lataxis": {
          "range": [
           30,
           75
          ]
         },
         "lonaxis": {
          "range": [
           -20,
           40
          ]
         },
         "projection": {
          "type": "natural earth"
         },
         "resolution": 50,
         "scope": "europe",
         "showcoastlines": false,
         "showcountries": false,
         "showlakes": true,
         "visible": true
        },
        "height": 1200,
        "margin": {
         "b": 0,
         "l": 0,
         "r": 0,
         "t": 0
        },
        "template": {
         "data": {
          "bar": [
           {
            "error_x": {
             "color": "#2a3f5f"
            },
            "error_y": {
             "color": "#2a3f5f"
            },
            "marker": {
             "line": {
              "color": "#E5ECF6",
              "width": 0.5
             }
            },
            "type": "bar"
           }
          ],
          "barpolar": [
           {
            "marker": {
             "line": {
              "color": "#E5ECF6",
              "width": 0.5
             }
            },
            "type": "barpolar"
           }
          ],
          "carpet": [
           {
            "aaxis": {
             "endlinecolor": "#2a3f5f",
             "gridcolor": "white",
             "linecolor": "white",
             "minorgridcolor": "white",
             "startlinecolor": "#2a3f5f"
            },
            "baxis": {
             "endlinecolor": "#2a3f5f",
             "gridcolor": "white",
             "linecolor": "white",
             "minorgridcolor": "white",
             "startlinecolor": "#2a3f5f"
            },
            "type": "carpet"
           }
          ],
          "choropleth": [
           {
            "colorbar": {
             "outlinewidth": 0,
             "ticks": ""
            },
            "type": "choropleth"
           }
          ],
          "contour": [
           {
            "colorbar": {
             "outlinewidth": 0,
             "ticks": ""
            },
            "colorscale": [
             [
              0,
              "#0d0887"
             ],
             [
              0.1111111111111111,
              "#46039f"
             ],
             [
              0.2222222222222222,
              "#7201a8"
             ],
             [
              0.3333333333333333,
              "#9c179e"
             ],
             [
              0.4444444444444444,
              "#bd3786"
             ],
             [
              0.5555555555555556,
              "#d8576b"
             ],
             [
              0.6666666666666666,
              "#ed7953"
             ],
             [
              0.7777777777777778,
              "#fb9f3a"
             ],
             [
              0.8888888888888888,
              "#fdca26"
             ],
             [
              1,
              "#f0f921"
             ]
            ],
            "type": "contour"
           }
          ],
          "contourcarpet": [
           {
            "colorbar": {
             "outlinewidth": 0,
             "ticks": ""
            },
            "type": "contourcarpet"
           }
          ],
          "heatmap": [
           {
            "colorbar": {
             "outlinewidth": 0,
             "ticks": ""
            },
            "colorscale": [
             [
              0,
              "#0d0887"
             ],
             [
              0.1111111111111111,
              "#46039f"
             ],
             [
              0.2222222222222222,
              "#7201a8"
             ],
             [
              0.3333333333333333,
              "#9c179e"
             ],
             [
              0.4444444444444444,
              "#bd3786"
             ],
             [
              0.5555555555555556,
              "#d8576b"
             ],
             [
              0.6666666666666666,
              "#ed7953"
             ],
             [
              0.7777777777777778,
              "#fb9f3a"
             ],
             [
              0.8888888888888888,
              "#fdca26"
             ],
             [
              1,
              "#f0f921"
             ]
            ],
            "type": "heatmap"
           }
          ],
          "heatmapgl": [
           {
            "colorbar": {
             "outlinewidth": 0,
             "ticks": ""
            },
            "colorscale": [
             [
              0,
              "#0d0887"
             ],
             [
              0.1111111111111111,
              "#46039f"
             ],
             [
              0.2222222222222222,
              "#7201a8"
             ],
             [
              0.3333333333333333,
              "#9c179e"
             ],
             [
              0.4444444444444444,
              "#bd3786"
             ],
             [
              0.5555555555555556,
              "#d8576b"
             ],
             [
              0.6666666666666666,
              "#ed7953"
             ],
             [
              0.7777777777777778,
              "#fb9f3a"
             ],
             [
              0.8888888888888888,
              "#fdca26"
             ],
             [
              1,
              "#f0f921"
             ]
            ],
            "type": "heatmapgl"
           }
          ],
          "histogram": [
           {
            "marker": {
             "colorbar": {
              "outlinewidth": 0,
              "ticks": ""
             }
            },
            "type": "histogram"
           }
          ],
          "histogram2d": [
           {
            "colorbar": {
             "outlinewidth": 0,
             "ticks": ""
            },
            "colorscale": [
             [
              0,
              "#0d0887"
             ],
             [
              0.1111111111111111,
              "#46039f"
             ],
             [
              0.2222222222222222,
              "#7201a8"
             ],
             [
              0.3333333333333333,
              "#9c179e"
             ],
             [
              0.4444444444444444,
              "#bd3786"
             ],
             [
              0.5555555555555556,
              "#d8576b"
             ],
             [
              0.6666666666666666,
              "#ed7953"
             ],
             [
              0.7777777777777778,
              "#fb9f3a"
             ],
             [
              0.8888888888888888,
              "#fdca26"
             ],
             [
              1,
              "#f0f921"
             ]
            ],
            "type": "histogram2d"
           }
          ],
          "histogram2dcontour": [
           {
            "colorbar": {
             "outlinewidth": 0,
             "ticks": ""
            },
            "colorscale": [
             [
              0,
              "#0d0887"
             ],
             [
              0.1111111111111111,
              "#46039f"
             ],
             [
              0.2222222222222222,
              "#7201a8"
             ],
             [
              0.3333333333333333,
              "#9c179e"
             ],
             [
              0.4444444444444444,
              "#bd3786"
             ],
             [
              0.5555555555555556,
              "#d8576b"
             ],
             [
              0.6666666666666666,
              "#ed7953"
             ],
             [
              0.7777777777777778,
              "#fb9f3a"
             ],
             [
              0.8888888888888888,
              "#fdca26"
             ],
             [
              1,
              "#f0f921"
             ]
            ],
            "type": "histogram2dcontour"
           }
          ],
          "mesh3d": [
           {
            "colorbar": {
             "outlinewidth": 0,
             "ticks": ""
            },
            "type": "mesh3d"
           }
          ],
          "parcoords": [
           {
            "line": {
             "colorbar": {
              "outlinewidth": 0,
              "ticks": ""
             }
            },
            "type": "parcoords"
           }
          ],
          "pie": [
           {
            "automargin": true,
            "type": "pie"
           }
          ],
          "scatter": [
           {
            "marker": {
             "colorbar": {
              "outlinewidth": 0,
              "ticks": ""
             }
            },
            "type": "scatter"
           }
          ],
          "scatter3d": [
           {
            "line": {
             "colorbar": {
              "outlinewidth": 0,
              "ticks": ""
             }
            },
            "marker": {
             "colorbar": {
              "outlinewidth": 0,
              "ticks": ""
             }
            },
            "type": "scatter3d"
           }
          ],
          "scattercarpet": [
           {
            "marker": {
             "colorbar": {
              "outlinewidth": 0,
              "ticks": ""
             }
            },
            "type": "scattercarpet"
           }
          ],
          "scattergeo": [
           {
            "marker": {
             "colorbar": {
              "outlinewidth": 0,
              "ticks": ""
             }
            },
            "type": "scattergeo"
           }
          ],
          "scattergl": [
           {
            "marker": {
             "colorbar": {
              "outlinewidth": 0,
              "ticks": ""
             }
            },
            "type": "scattergl"
           }
          ],
          "scattermapbox": [
           {
            "marker": {
             "colorbar": {
              "outlinewidth": 0,
              "ticks": ""
             }
            },
            "type": "scattermapbox"
           }
          ],
          "scatterpolar": [
           {
            "marker": {
             "colorbar": {
              "outlinewidth": 0,
              "ticks": ""
             }
            },
            "type": "scatterpolar"
           }
          ],
          "scatterpolargl": [
           {
            "marker": {
             "colorbar": {
              "outlinewidth": 0,
              "ticks": ""
             }
            },
            "type": "scatterpolargl"
           }
          ],
          "scatterternary": [
           {
            "marker": {
             "colorbar": {
              "outlinewidth": 0,
              "ticks": ""
             }
            },
            "type": "scatterternary"
           }
          ],
          "surface": [
           {
            "colorbar": {
             "outlinewidth": 0,
             "ticks": ""
            },
            "colorscale": [
             [
              0,
              "#0d0887"
             ],
             [
              0.1111111111111111,
              "#46039f"
             ],
             [
              0.2222222222222222,
              "#7201a8"
             ],
             [
              0.3333333333333333,
              "#9c179e"
             ],
             [
              0.4444444444444444,
              "#bd3786"
             ],
             [
              0.5555555555555556,
              "#d8576b"
             ],
             [
              0.6666666666666666,
              "#ed7953"
             ],
             [
              0.7777777777777778,
              "#fb9f3a"
             ],
             [
              0.8888888888888888,
              "#fdca26"
             ],
             [
              1,
              "#f0f921"
             ]
            ],
            "type": "surface"
           }
          ],
          "table": [
           {
            "cells": {
             "fill": {
              "color": "#EBF0F8"
             },
             "line": {
              "color": "white"
             }
            },
            "header": {
             "fill": {
              "color": "#C8D4E3"
             },
             "line": {
              "color": "white"
             }
            },
            "type": "table"
           }
          ]
         },
         "layout": {
          "annotationdefaults": {
           "arrowcolor": "#2a3f5f",
           "arrowhead": 0,
           "arrowwidth": 1
          },
          "coloraxis": {
           "colorbar": {
            "outlinewidth": 0,
            "ticks": ""
           }
          },
          "colorscale": {
           "diverging": [
            [
             0,
             "#8e0152"
            ],
            [
             0.1,
             "#c51b7d"
            ],
            [
             0.2,
             "#de77ae"
            ],
            [
             0.3,
             "#f1b6da"
            ],
            [
             0.4,
             "#fde0ef"
            ],
            [
             0.5,
             "#f7f7f7"
            ],
            [
             0.6,
             "#e6f5d0"
            ],
            [
             0.7,
             "#b8e186"
            ],
            [
             0.8,
             "#7fbc41"
            ],
            [
             0.9,
             "#4d9221"
            ],
            [
             1,
             "#276419"
            ]
           ],
           "sequential": [
            [
             0,
             "#0d0887"
            ],
            [
             0.1111111111111111,
             "#46039f"
            ],
            [
             0.2222222222222222,
             "#7201a8"
            ],
            [
             0.3333333333333333,
             "#9c179e"
            ],
            [
             0.4444444444444444,
             "#bd3786"
            ],
            [
             0.5555555555555556,
             "#d8576b"
            ],
            [
             0.6666666666666666,
             "#ed7953"
            ],
            [
             0.7777777777777778,
             "#fb9f3a"
            ],
            [
             0.8888888888888888,
             "#fdca26"
            ],
            [
             1,
             "#f0f921"
            ]
           ],
           "sequentialminus": [
            [
             0,
             "#0d0887"
            ],
            [
             0.1111111111111111,
             "#46039f"
            ],
            [
             0.2222222222222222,
             "#7201a8"
            ],
            [
             0.3333333333333333,
             "#9c179e"
            ],
            [
             0.4444444444444444,
             "#bd3786"
            ],
            [
             0.5555555555555556,
             "#d8576b"
            ],
            [
             0.6666666666666666,
             "#ed7953"
            ],
            [
             0.7777777777777778,
             "#fb9f3a"
            ],
            [
             0.8888888888888888,
             "#fdca26"
            ],
            [
             1,
             "#f0f921"
            ]
           ]
          },
          "colorway": [
           "#636efa",
           "#EF553B",
           "#00cc96",
           "#ab63fa",
           "#FFA15A",
           "#19d3f3",
           "#FF6692",
           "#B6E880",
           "#FF97FF",
           "#FECB52"
          ],
          "font": {
           "color": "#2a3f5f"
          },
          "geo": {
           "bgcolor": "white",
           "lakecolor": "white",
           "landcolor": "#E5ECF6",
           "showlakes": true,
           "showland": true,
           "subunitcolor": "white"
          },
          "hoverlabel": {
           "align": "left"
          },
          "hovermode": "closest",
          "mapbox": {
           "style": "light"
          },
          "paper_bgcolor": "white",
          "plot_bgcolor": "#E5ECF6",
          "polar": {
           "angularaxis": {
            "gridcolor": "white",
            "linecolor": "white",
            "ticks": ""
           },
           "bgcolor": "#E5ECF6",
           "radialaxis": {
            "gridcolor": "white",
            "linecolor": "white",
            "ticks": ""
           }
          },
          "scene": {
           "xaxis": {
            "backgroundcolor": "#E5ECF6",
            "gridcolor": "white",
            "gridwidth": 2,
            "linecolor": "white",
            "showbackground": true,
            "ticks": "",
            "zerolinecolor": "white"
           },
           "yaxis": {
            "backgroundcolor": "#E5ECF6",
            "gridcolor": "white",
            "gridwidth": 2,
            "linecolor": "white",
            "showbackground": true,
            "ticks": "",
            "zerolinecolor": "white"
           },
           "zaxis": {
            "backgroundcolor": "#E5ECF6",
            "gridcolor": "white",
            "gridwidth": 2,
            "linecolor": "white",
            "showbackground": true,
            "ticks": "",
            "zerolinecolor": "white"
           }
          },
          "shapedefaults": {
           "line": {
            "color": "#2a3f5f"
           }
          },
          "ternary": {
           "aaxis": {
            "gridcolor": "white",
            "linecolor": "white",
            "ticks": ""
           },
           "baxis": {
            "gridcolor": "white",
            "linecolor": "white",
            "ticks": ""
           },
           "bgcolor": "#E5ECF6",
           "caxis": {
            "gridcolor": "white",
            "linecolor": "white",
            "ticks": ""
           }
          },
          "title": {
           "x": 0.05
          },
          "xaxis": {
           "automargin": true,
           "gridcolor": "white",
           "linecolor": "white",
           "ticks": "",
           "title": {
            "standoff": 15
           },
           "zerolinecolor": "white",
           "zerolinewidth": 2
          },
          "yaxis": {
           "automargin": true,
           "gridcolor": "white",
           "linecolor": "white",
           "ticks": "",
           "title": {
            "standoff": 15
           },
           "zerolinecolor": "white",
           "zerolinewidth": 2
          }
         }
        },
        "width": 2300
       }
      }
     },
     "metadata": {},
     "output_type": "display_data"
    }
   ],
   "source": [
    "fig = make_subplots(rows=2, cols=3, #subplot_titles=('Grandfathering (GF)',\n",
    "                                                    # 'Per Capita (PC)',\n",
    "                                                    # 'Per Capita Convergence (PCC)',\n",
    "                                                    # 'Equal Cumulative Per Capita',\n",
    "                                                    # 'Ability to pay (AP)',\n",
    "                                                    # 'Greenhouse Development Rights'), \n",
    "                                    specs=[[{'type': 'choropleth'}, {'type': 'choropleth'}, {'type': 'choropleth'}],\n",
    "                                           [{'type': 'choropleth'}, {'type': 'choropleth'}, {'type': 'choropleth'}]],\n",
    "                                    horizontal_spacing = 0,\n",
    "                                    vertical_spacing=0)\n",
    "\n",
    "colorbar_abs = dict(len=1, x=1, tickvals = [0, 1, 2, 3], ticktext = ['1', '10', '100', '1000'])\n",
    "colorbar_pc = dict(len=1, x=1)\n",
    "\n",
    "for var_i, var in enumerate(rules):\n",
    "    if var_i == 0:\n",
    "        cm= True\n",
    "    else:\n",
    "        cm= False\n",
    "    fig.add_trace(\n",
    "        go.Choropleth(\n",
    "        locations=group_eu,\n",
    "        z = data5[var],\n",
    "        locationmode = 'ISO-3',\n",
    "        colorscale = 'RdYlGn_r',\n",
    "        zmax = 2.5,\n",
    "        zmin = 1.5,\n",
    "        text = [str(r)+\": {:0.2f} deg C\".format(float(data5.sel(Region=r)[var])) for r_i, r in enumerate(group_eu)],\n",
    "        hovertemplate  = '%{text}',\n",
    "        name=\"\",\n",
    "        marker_line_color='grey', \n",
    "        marker_line_width=0.7,\n",
    "        colorbar=dict(len=1, x=1, tickvals = np.arange(1.5, 2.5, 0.1), ticktext = [str(np.round(i,1))+\"&deg;C\" for i in np.arange(1.5, 2.5, 0.1)], title={\"text\":\"Temp-equiv<br>of NDC\"}, tickfont={'size': 25}),\n",
    "        showscale=cm\n",
    "    ), [1, 1, 1, 2, 2, 2][var_i], [1, 2, 3, 1, 2, 3][var_i])\n",
    "# fig.update_geos(showocean=True, oceancolor=\"white\")\n",
    "# fig.update_geos(showlakes=True, lakecolor=\"white\")\n",
    "\n",
    "# limite map scope to USA 'africa', 'asia', 'europe', 'north america', 'south america', 'usa', 'world'\n",
    "fig.update_layout(\n",
    "    geo1 = dict(scope='europe', \n",
    "                showlakes=False,\n",
    "                lakecolor='rgb(255, 255, 255)',\n",
    "                showcoastlines=False,),\n",
    "    geo2 = dict(scope='europe', \n",
    "                showlakes=False,\n",
    "                lakecolor='rgb(255, 255, 255)',\n",
    "                showcoastlines=False,),\n",
    "    geo3 = dict(scope='europe', \n",
    "                showlakes=False,\n",
    "                lakecolor='rgb(255, 255, 255)',\n",
    "                showcoastlines=False,),\n",
    "    geo4 = dict(scope='europe', \n",
    "                showlakes=False,\n",
    "                lakecolor='rgb(255, 255, 255)',\n",
    "                showcoastlines=False,),\n",
    "    geo5 = dict(scope='europe', \n",
    "                showlakes=False,\n",
    "                lakecolor='rgb(255, 255, 255)',\n",
    "                showcoastlines=False,),\n",
    "    geo6 = dict(scope='europe', \n",
    "                showlakes=False,\n",
    "                showcoastlines=False,),\n",
    ")\n",
    "\n",
    "mn = np.min(np.array([float(data5[rules].min()[r]) for r in rules]))\n",
    "mx = np.max(np.array([float(data5[rules].max()[r]) for r in rules]))\n",
    "for var_i, var in enumerate(rules):\n",
    "    vals = np.array(data5[var]).astype(float)\n",
    "    vals_i = (vals + mn)**1.2\n",
    "    vals_n = 14*(vals - mn)/(mx - mn)+7\n",
    "    vals_boolean = np.copy(vals)\n",
    "    vals_boolean[vals >= 0] = 1\n",
    "    vals_boolean[vals < 0] = 0\n",
    "    vals_boolean = vals_boolean.astype(int)\n",
    "    \n",
    "    fig.add_scattergeo(\n",
    "                locations = group_eu,\n",
    "                text = [str(np.round(vals[r_i], 1)) for r_i in range(len(group_eu))],\n",
    "                featureidkey=\"properties.NAME_3\",\n",
    "                mode = 'text',\n",
    "                hoverinfo='skip',\n",
    "                showlegend=False,\n",
    "                textfont={'size': 20,\n",
    "                        'color': 'black'},\n",
    "                row=[1, 1, 1, 2, 2, 2][var_i],\n",
    "                col=[1, 2, 3, 1, 2, 3][var_i])\n",
    "\n",
    "fig.update_geos(visible=False,\n",
    "                showlakes=True,\n",
    "                lakecolor='rgb(255, 255, 255)',\n",
    "                projection_type='natural earth',\n",
    "                resolution=50,\n",
    "                lataxis_range=[30,75], lonaxis_range=[-20, 40],\n",
    "                showcoastlines=False,)\n",
    "\n",
    "#fig.update_traces(showscale=False)\n",
    "fig.update_layout(height=1200, width=2300)\n",
    "fig.update_geos(visible=True, showcountries=False)#fitbounds=\"locations\",\n",
    "fig.update_layout(margin={\"r\":0,\"t\":0,\"l\":0,\"b\":0})\n",
    "\n",
    "fig.add_annotation(xref='paper', yref='paper',ax=0, align='left', ay=-0, showarrow=False, font=dict(color='black', size=25),\n",
    "                   y=0.96, x=0.07, text=\"<b>(a) Grandfathering</b>\")\n",
    "fig.add_annotation(xref='paper', yref='paper',ax=0, align='left', ay=-0, showarrow=False, font=dict(color='black', size=25),\n",
    "                   y=0.96, x=0.47, text=\"<b>(b) Per Capita</b>\")\n",
    "fig.add_annotation(xref='paper', yref='paper',ax=0, align='left', ay=-0, showarrow=False, font=dict(color='black', size=25),\n",
    "                   y=0.96, x=0.90, text=\"<b>(c) Per Capita Convergence</b>\")\n",
    "fig.add_annotation(xref='paper', yref='paper',ax=0, align='left', ay=-0, showarrow=False, font=dict(color='black', size=25),\n",
    "                   y=0.45, x=0.07, text=\"<b>(d) Equal Cumulative per Capita</b>\")\n",
    "fig.add_annotation(xref='paper', yref='paper',ax=0, align='left', ay=-0, showarrow=False, font=dict(color='black', size=25),\n",
    "                   y=0.45, x=0.48, text=\"<b>(e) Ability to Pay</b>\")\n",
    "fig.add_annotation(xref='paper', yref='paper',ax=0, align='left', ay=-0, showarrow=False, font=dict(color='black', size=25),\n",
    "                   y=0.45, x=0.95, text=\"<b>(f) Greenhouse Development Rights</b>\")\n",
    "fig_europe = fig\n",
    "fig.show()"
   ]
  },
  {
   "cell_type": "code",
   "execution_count": null,
   "metadata": {},
   "outputs": [],
   "source": [
    "fig.write_image(\"K:/Code/EffortSharing/Figures/Paper_Europe/Europe_temp.png\", scale=3)"
   ]
  }
 ],
 "metadata": {
  "kernelspec": {
   "display_name": "MyEnv",
   "language": "python",
   "name": "python3"
  },
  "language_info": {
   "codemirror_mode": {
    "name": "ipython",
    "version": 3
   },
   "file_extension": ".py",
   "mimetype": "text/x-python",
   "name": "python",
   "nbconvert_exporter": "python",
   "pygments_lexer": "ipython3",
   "version": "3.12.5"
  },
  "orig_nbformat": 4
 },
 "nbformat": 4,
 "nbformat_minor": 2
}
