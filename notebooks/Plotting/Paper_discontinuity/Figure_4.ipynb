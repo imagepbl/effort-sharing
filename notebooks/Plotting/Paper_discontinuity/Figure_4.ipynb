{
 "cells": [
  {
   "attachments": {},
   "cell_type": "markdown",
   "metadata": {},
   "source": [
    "## Preambule"
   ]
  },
  {
   "cell_type": "code",
   "execution_count": 1,
   "metadata": {},
   "outputs": [],
   "source": [
    "# General packages\n",
    "from pathlib import Path\n",
    "\n",
    "# Plotting\n",
    "import numpy as np\n",
    "import pandas as pd\n",
    "import plotly.graph_objects as go\n",
    "import xarray as xr\n",
    "from plotly.subplots import make_subplots"
   ]
  },
  {
   "attachments": {},
   "cell_type": "markdown",
   "metadata": {},
   "source": [
    "## Paths"
   ]
  },
  {
   "cell_type": "code",
   "execution_count": 2,
   "metadata": {},
   "outputs": [],
   "source": [
    "path_data = Path(\"K:/Data/Data_effortsharing/DataUpdate_ongoing/startyear_2021/\")\n",
    "path_data_gen = Path(\"K:/Data/Data_effortsharing/DataUpdate_ongoing/\")\n",
    "path_figs = Path(\"K:/Code/EffortSharing/\") / \"Figures\" / \"Paper_Robiou2023\""
   ]
  },
  {
   "attachments": {},
   "cell_type": "markdown",
   "metadata": {},
   "source": [
    "## Read data files"
   ]
  },
  {
   "cell_type": "code",
   "execution_count": 3,
   "metadata": {},
   "outputs": [],
   "source": [
    "xr_dataread = xr.open_dataset(path_data / \"xr_dataread.nc\")\n",
    "xr_combs = xr.open_dataset(path_data / \"xr_comb.nc\")\n",
    "all_regions_iso = np.load(path_data_gen / \"all_regions.npy\")\n",
    "all_regions_names = np.array(\n",
    "    list(np.load(path_data_gen / \"all_regions_names.npy\")[:-1]) + [\"Earth\"]\n",
    ")  # Only in old xr_dataread version, should be updated when reran\n",
    "all_countries_iso = np.load(path_data_gen / \"all_countries.npy\", allow_pickle=True)\n",
    "all_countries_names = np.load(path_data_gen / \"all_countries_names.npy\", allow_pickle=True)\n",
    "only_regions_iso = [\"CVF\", \"G20\", \"EU\", \"G7\", \"NA\", \"AU\", \"AF\", \"SIDS\", \"LDC\", \"WORLD\"]\n",
    "only_regions_names = [\n",
    "    \"Climate Vulnerability Forum\",\n",
    "    \"G20\",\n",
    "    \"European Union\",\n",
    "    \"G7\",\n",
    "    \"Northern America\",\n",
    "    \"Australasia\",\n",
    "    \"African Group\",\n",
    "    \"Small Island Developing States\",\n",
    "    \"Least Developed Countries\",\n",
    "    \"World\",\n",
    "]"
   ]
  },
  {
   "cell_type": "code",
   "execution_count": 4,
   "metadata": {},
   "outputs": [],
   "source": [
    "# xr_budgets_scenario = xr.open_dataset(path_data / \"xr_budgets_scenario.nc\")\n",
    "# df_michel = pd.read_excel(Path(\"X:/user/dekkerm/Data/\") / \"NDC\" / \"NDC_comparison.xlsx\", sheet_name=\"Michel\")"
   ]
  },
  {
   "cell_type": "code",
   "execution_count": 5,
   "metadata": {},
   "outputs": [],
   "source": [
    "df_g = pd.read_excel(\n",
    "    Path(\"X:/user/dekkerm/Data/\") / \"UNFCCC_Parties_Groups_noeu.xlsx\", sheet_name=\"Country groups\"\n",
    ")\n",
    "countries_iso = np.array(df_g[\"Country ISO Code\"])\n",
    "countries_name = np.array(df_g[\"Name\"])\n",
    "group_cvf = countries_iso[np.array(df_g[\"CVF (24/10/22)\"]) == 1]\n",
    "group_g20 = countries_iso[np.array(df_g[\"G20\"]) == 1]\n",
    "group_eu = countries_iso[np.array(df_g[\"EU\"]) == 1]\n",
    "group_g7 = countries_iso[np.array(df_g[\"G7\"]) == 1]\n",
    "group_na = countries_iso[np.array(df_g[\"Northern America\"]) == 1]\n",
    "group_um = countries_iso[np.array(df_g[\"Umbrella\"]) == 1]\n",
    "group_au = countries_iso[np.array(df_g[\"Australasia\"]) == 1]\n",
    "group_af = countries_iso[np.array(df_g[\"African Group\"]) == 1]\n",
    "group_sids = countries_iso[np.array(df_g[\"SIDS\"]) == 1]\n",
    "group_ldc = countries_iso[np.array(df_g[\"LDC\"]) == 1]\n",
    "group_eg = countries_iso[np.array(df_g[\"European Group\"]) == 1]\n",
    "group_world = np.copy(countries_iso)"
   ]
  },
  {
   "attachments": {},
   "cell_type": "markdown",
   "metadata": {},
   "source": [
    "## Preprocess"
   ]
  },
  {
   "cell_type": "code",
   "execution_count": 6,
   "metadata": {},
   "outputs": [],
   "source": [
    "ndc_deviations = []\n",
    "for c_i, c in enumerate([\"C1\", \"C3\", \"C6\", \"C7\"]):\n",
    "    li = []\n",
    "    for a_i, approach in enumerate([\"Approach2\", \"Approach2t\"]):\n",
    "        li.append(\n",
    "            [\n",
    "                float(\n",
    "                    (\n",
    "                        xr_combs.sel(\n",
    "                            Category=c,\n",
    "                            Region=r,\n",
    "                            Discount_factor=0,\n",
    "                            Historical_startyear=1990,\n",
    "                            Scenario=\"SSP2\",\n",
    "                            Time=2030,\n",
    "                        )[approach]\n",
    "                        - xr_dataread.GHG_ndc_excl_CR.sel(\n",
    "                            Region=r, Conditionality=\"unconditional\", Hot_air=\"include\"\n",
    "                        ).mean(dim=\"Ambition\")\n",
    "                    )\n",
    "                    / xr_dataread.GHG_ndc_excl_CR.sel(\n",
    "                        Region=r, Conditionality=\"unconditional\", Hot_air=\"include\"\n",
    "                    ).mean(dim=\"Ambition\")\n",
    "                )\n",
    "                for r in xr_dataread.Region\n",
    "            ]\n",
    "        )\n",
    "    ndc_deviations.append(li)"
   ]
  },
  {
   "cell_type": "code",
   "execution_count": 7,
   "metadata": {},
   "outputs": [],
   "source": [
    "# regs_onlyfew = np.array(['USA', 'CHN', 'TUR', 'AUS', 'IND', 'RUS', 'IDN', 'BRA', 'DEU', 'FRA', 'ESP', 'VEN', 'MEX', 'ZAF'])#np.array(xr_total.ISO.sel(ISO=all_countries_iso))[xr_total.Population.sel(Time=2020, ISO=all_countries_iso) > 5e6]\n",
    "\n",
    "regs_onlyfew = [\n",
    "    \"EU\",\n",
    "    \"ARG\",\n",
    "    \"AUS\",\n",
    "    \"BRA\",\n",
    "    \"CAN\",\n",
    "    \"CHN\",\n",
    "    \"IND\",\n",
    "    \"IDN\",\n",
    "    \"JPN\",\n",
    "    \"MEX\",\n",
    "    \"RUS\",\n",
    "    \"SAU\",\n",
    "    \"ZAF\",\n",
    "    \"KOR\",\n",
    "    \"TUR\",\n",
    "    \"GBR\",\n",
    "    \"USA\",\n",
    "    \"ARE\",\n",
    "]\n",
    "regs_onlyfew = np.array(regs_onlyfew)\n",
    "\n",
    "ndc_deviations_onlyfew = []\n",
    "for c_i, c in enumerate([\"C1\", \"C3\", \"C6\", \"C7\"]):\n",
    "    li = []\n",
    "    for a_i, approach in enumerate([\"Approach2\", \"Approach2t\"]):\n",
    "        li.append(\n",
    "            [\n",
    "                float(\n",
    "                    (\n",
    "                        xr_combs.sel(\n",
    "                            Category=c,\n",
    "                            Region=r,\n",
    "                            Discount_factor=0,\n",
    "                            Historical_startyear=1990,\n",
    "                            Scenario=\"SSP2\",\n",
    "                            Time=2030,\n",
    "                        )[approach]\n",
    "                        - xr_dataread.GHG_ndc_excl_CR.sel(\n",
    "                            Region=r, Conditionality=\"unconditional\", Hot_air=\"include\"\n",
    "                        ).mean(dim=\"Ambition\")\n",
    "                    )\n",
    "                    / xr_dataread.GHG_ndc_excl_CR.sel(\n",
    "                        Region=r, Conditionality=\"unconditional\", Hot_air=\"include\"\n",
    "                    ).mean(dim=\"Ambition\")\n",
    "                )\n",
    "                for r in regs_onlyfew\n",
    "            ]\n",
    "        )\n",
    "    ndc_deviations_onlyfew.append(li)"
   ]
  },
  {
   "cell_type": "code",
   "execution_count": 8,
   "metadata": {},
   "outputs": [],
   "source": [
    "amount = len(regs_onlyfew)\n",
    "sources = regs_onlyfew[np.argsort(ndc_deviations_onlyfew[0])[0][:amount]]\n",
    "targets = regs_onlyfew[np.argsort(ndc_deviations_onlyfew[0])[1][:amount]]\n",
    "\n",
    "targets_numeric = []\n",
    "sources_numeric = []\n",
    "for t_i in range(amount):\n",
    "    s = sources[t_i]\n",
    "    try:\n",
    "        wh = np.where(targets == s)[0][0]\n",
    "    except:\n",
    "        wh = amount\n",
    "    sources_numeric.append(t_i)\n",
    "    targets_numeric.append(wh + amount)\n",
    "\n",
    "for t_i in range(amount):\n",
    "    t = targets[t_i]\n",
    "    try:\n",
    "        wh = np.where(sources == t)[0][0]\n",
    "    except:\n",
    "        sources_numeric.append(amount)\n",
    "        targets_numeric.append(t_i)"
   ]
  },
  {
   "attachments": {},
   "cell_type": "markdown",
   "metadata": {},
   "source": [
    "## Plot"
   ]
  },
  {
   "cell_type": "code",
   "execution_count": 9,
   "metadata": {},
   "outputs": [
    {
     "name": "stderr",
     "output_type": "stream",
     "text": [
      "C:\\Users\\dekkerm\\AppData\\Local\\Temp\\2\\ipykernel_9220\\2454022904.py:19: DeprecationWarning:\n",
      "\n",
      "Conversion of an array with ndim > 0 to a scalar is deprecated, and will error in future. Ensure you extract a single element from your array before performing this operation. (Deprecated NumPy 1.25.)\n",
      "\n",
      "C:\\Users\\dekkerm\\AppData\\Local\\Temp\\2\\ipykernel_9220\\2454022904.py:20: DeprecationWarning:\n",
      "\n",
      "Conversion of an array with ndim > 0 to a scalar is deprecated, and will error in future. Ensure you extract a single element from your array before performing this operation. (Deprecated NumPy 1.25.)\n",
      "\n"
     ]
    },
    {
     "data": {
      "application/vnd.plotly.v1+json": {
       "config": {
        "plotlyServerURL": "https://plot.ly"
       },
       "data": [
        {
         "arrangement": "snap",
         "domain": {
          "x": [
           0,
           1
          ],
          "y": [
           0,
           1
          ]
         },
         "link": {
          "color": [
           "rgba(180,0.0,0, 0.3)",
           "rgba(180,10.0,0, 0.3)",
           "rgba(180,20.0,0, 0.3)",
           "rgba(180,30.0,0, 0.3)",
           "rgba(180,40.0,0, 0.3)",
           "rgba(180,50.0,0, 0.3)",
           "rgba(180,60.0,0, 0.3)",
           "rgba(180,70.0,0, 0.3)",
           "rgba(180,80.0,0, 0.3)",
           "rgba(180,90.0,0, 0.3)",
           "rgba(180,100.0,0, 0.3)",
           "rgba(180,110.0,0, 0.3)",
           "rgba(180,120.0,0, 0.3)",
           "rgba(180,130.0,0, 0.3)",
           "rgba(180,140.0,0, 0.3)",
           "rgba(180,150.0,0, 0.3)",
           "rgba(180,160.0,0, 0.3)",
           "rgba(180,170.0,0, 0.3)"
          ],
          "source": [
           0,
           1,
           2,
           3,
           4,
           5,
           6,
           7,
           8,
           9,
           10,
           11,
           12,
           13,
           14,
           15,
           16,
           17
          ],
          "target": [
           27,
           29,
           30,
           23,
           25,
           31,
           19,
           28,
           24,
           32,
           18,
           21,
           20,
           26,
           22,
           34,
           33,
           35
          ],
          "value": [
           1,
           1,
           1,
           1,
           1,
           1,
           1,
           1,
           1,
           1,
           1,
           1,
           1,
           1,
           1,
           1,
           1,
           1
          ]
         },
         "node": {
          "color": "black",
          "label": [
           "<b>United States of America</b>: -104.3%",
           "<b>Australia</b>: -103.9%",
           "<b>Canada</b>: -102.5%",
           "<b>United Arab Emirates</b>: -102.4%",
           "<b>Saudi Arabia</b>: -100.6%",
           "<b>South Korea</b>: -99.2%",
           "<b>Russian Federation</b>: -98.3%",
           "<b>Japan</b>: -98.1%",
           "<b>European Union</b>: -97.4%",
           "<b>United Kingdom</b>: -95.6%",
           "<b>Turkiye</b>: -95.1%",
           "<b>China</b>: -91.4%",
           "<b>South Africa</b>: -84.4%",
           "<b>Argentina</b>: -82.6%",
           "<b>Mexico</b>: -80.3%",
           "<b>Brazil</b>: -65.5%",
           "<b>Indonesia</b>: -56.9%",
           "<b>India</b>: -20.8%",
           "<b>Turkiye</b>: -80.0%",
           "<b>Russian Federation</b>: -74.3%",
           "<b>South Africa</b>: -71.9%",
           "<b>China</b>: -70.5%",
           "<b>Mexico</b>: -63.1%",
           "<b>United Arab Emirates</b>: -62.5%",
           "<b>European Union</b>: -59.7%",
           "<b>Saudi Arabia</b>: -58.6%",
           "<b>Argentina</b>: -58.1%",
           "<b>United States of America</b>: -57.8%",
           "<b>Japan</b>: -57.2%",
           "<b>Australia</b>: -56.7%",
           "<b>Canada</b>: -55.2%",
           "<b>South Korea</b>: -55.0%",
           "<b>United Kingdom</b>: -52.5%",
           "<b>Indonesia</b>: -52.2%",
           "<b>Brazil</b>: -48.2%",
           "<b>India</b>: -41.9%"
          ],
          "line": {
           "color": "black",
           "width": 0.5
          },
          "pad": 10,
          "thickness": 5,
          "x": [
           0.05,
           0.05,
           0.05,
           0.05,
           0.05,
           0.05,
           0.05,
           0.05,
           0.05,
           0.05,
           0.05,
           0.05,
           0.05,
           0.05,
           0.05,
           0.05,
           0.05,
           0.05,
           0.95,
           0.95,
           0.95,
           0.95,
           0.95,
           0.95,
           0.95,
           0.95,
           0.95,
           0.95,
           0.95,
           0.95,
           0.95,
           0.95,
           0.95,
           0.95,
           0.95,
           0.95
          ],
          "y": [
           0.001,
           0.05970588235294118,
           0.11841176470588236,
           0.17711764705882355,
           0.2358235294117647,
           0.2945294117647059,
           0.3532352941176471,
           0.41194117647058826,
           0.4706470588235294,
           0.5293529411764706,
           0.5880588235294117,
           0.6467647058823529,
           0.7054705882352942,
           0.7641764705882353,
           0.8228823529411765,
           0.8815882352941177,
           0.9402941176470588,
           0.999,
           0.001,
           0.05970588235294118,
           0.11841176470588236,
           0.17711764705882355,
           0.2358235294117647,
           0.2945294117647059,
           0.3532352941176471,
           0.41194117647058826,
           0.4706470588235294,
           0.5293529411764706,
           0.5880588235294117,
           0.6467647058823529,
           0.7054705882352942,
           0.7641764705882353,
           0.8228823529411765,
           0.8815882352941177,
           0.9402941176470588,
           0.999
          ]
         },
         "type": "sankey"
        },
        {
         "marker": {
          "cmax": 1,
          "cmin": -1,
          "colorbar": {
           "len": 1.2,
           "ticktext": [
            "-100%",
            "-75",
            "-50%",
            "-25%",
            "0%",
            "+25%",
            "+50%",
            "+75%",
            "+100%"
           ],
           "tickvals": [
            -1,
            -0.75,
            -0.5,
            -0.25,
            0,
            0.25,
            0.5,
            0.75,
            1
           ],
           "title": {
            "text": "Allocation<br>compared<br>to NDC"
           },
           "y": 0.5
          },
          "colorscale": [
           [
            0,
            "rgb(165,0,38)"
           ],
           [
            0.1,
            "rgb(215,48,39)"
           ],
           [
            0.2,
            "rgb(244,109,67)"
           ],
           [
            0.3,
            "rgb(253,174,97)"
           ],
           [
            0.4,
            "rgb(254,224,139)"
           ],
           [
            0.5,
            "rgb(255,255,191)"
           ],
           [
            0.6,
            "rgb(217,239,139)"
           ],
           [
            0.7,
            "rgb(166,217,106)"
           ],
           [
            0.8,
            "rgb(102,189,99)"
           ],
           [
            0.9,
            "rgb(26,152,80)"
           ],
           [
            1,
            "rgb(0,104,55)"
           ]
          ],
          "showscale": true
         },
         "mode": "markers",
         "type": "scatter",
         "x": [
          null
         ],
         "y": [
          null
         ]
        }
       ],
       "layout": {
        "annotations": [
         {
          "align": "center",
          "ax": 0,
          "ay": 0,
          "font": {
           "color": "black",
           "size": 16
          },
          "showarrow": false,
          "text": "NDC ambitious enough <<<",
          "textangle": 90,
          "x": 1.025,
          "xref": "paper",
          "y": 0.8,
          "yref": "paper"
         },
         {
          "align": "center",
          "ax": 0,
          "ay": 0,
          "font": {
           "color": "black",
           "size": 16
          },
          "showarrow": false,
          "text": ">>> NDC not ambitious enough",
          "textangle": 90,
          "x": 1.025,
          "xref": "paper",
          "y": 0,
          "yref": "paper"
         },
         {
          "align": "left",
          "ax": 0,
          "ay": 0,
          "font": {
           "color": "black",
           "size": 23
          },
          "showarrow": false,
          "text": "<b>Approach 2 without transition period</b>",
          "x": 0.04,
          "xref": "paper",
          "y": 1.05,
          "yref": "paper"
         },
         {
          "align": "left",
          "ax": 0,
          "ay": 0,
          "font": {
           "color": "black",
           "size": 23
          },
          "showarrow": false,
          "text": "<b>Approach 2 with a 20-year transition period</b>",
          "x": 0.95,
          "xref": "paper",
          "y": 1.05,
          "yref": "paper"
         }
        ],
        "font": {
         "size": 18
        },
        "height": 800,
        "paper_bgcolor": "white",
        "plot_bgcolor": "white",
        "template": {
         "data": {
          "bar": [
           {
            "error_x": {
             "color": "#2a3f5f"
            },
            "error_y": {
             "color": "#2a3f5f"
            },
            "marker": {
             "line": {
              "color": "#E5ECF6",
              "width": 0.5
             },
             "pattern": {
              "fillmode": "overlay",
              "size": 10,
              "solidity": 0.2
             }
            },
            "type": "bar"
           }
          ],
          "barpolar": [
           {
            "marker": {
             "line": {
              "color": "#E5ECF6",
              "width": 0.5
             },
             "pattern": {
              "fillmode": "overlay",
              "size": 10,
              "solidity": 0.2
             }
            },
            "type": "barpolar"
           }
          ],
          "carpet": [
           {
            "aaxis": {
             "endlinecolor": "#2a3f5f",
             "gridcolor": "white",
             "linecolor": "white",
             "minorgridcolor": "white",
             "startlinecolor": "#2a3f5f"
            },
            "baxis": {
             "endlinecolor": "#2a3f5f",
             "gridcolor": "white",
             "linecolor": "white",
             "minorgridcolor": "white",
             "startlinecolor": "#2a3f5f"
            },
            "type": "carpet"
           }
          ],
          "choropleth": [
           {
            "colorbar": {
             "outlinewidth": 0,
             "ticks": ""
            },
            "type": "choropleth"
           }
          ],
          "contour": [
           {
            "colorbar": {
             "outlinewidth": 0,
             "ticks": ""
            },
            "colorscale": [
             [
              0,
              "#0d0887"
             ],
             [
              0.1111111111111111,
              "#46039f"
             ],
             [
              0.2222222222222222,
              "#7201a8"
             ],
             [
              0.3333333333333333,
              "#9c179e"
             ],
             [
              0.4444444444444444,
              "#bd3786"
             ],
             [
              0.5555555555555556,
              "#d8576b"
             ],
             [
              0.6666666666666666,
              "#ed7953"
             ],
             [
              0.7777777777777778,
              "#fb9f3a"
             ],
             [
              0.8888888888888888,
              "#fdca26"
             ],
             [
              1,
              "#f0f921"
             ]
            ],
            "type": "contour"
           }
          ],
          "contourcarpet": [
           {
            "colorbar": {
             "outlinewidth": 0,
             "ticks": ""
            },
            "type": "contourcarpet"
           }
          ],
          "heatmap": [
           {
            "colorbar": {
             "outlinewidth": 0,
             "ticks": ""
            },
            "colorscale": [
             [
              0,
              "#0d0887"
             ],
             [
              0.1111111111111111,
              "#46039f"
             ],
             [
              0.2222222222222222,
              "#7201a8"
             ],
             [
              0.3333333333333333,
              "#9c179e"
             ],
             [
              0.4444444444444444,
              "#bd3786"
             ],
             [
              0.5555555555555556,
              "#d8576b"
             ],
             [
              0.6666666666666666,
              "#ed7953"
             ],
             [
              0.7777777777777778,
              "#fb9f3a"
             ],
             [
              0.8888888888888888,
              "#fdca26"
             ],
             [
              1,
              "#f0f921"
             ]
            ],
            "type": "heatmap"
           }
          ],
          "heatmapgl": [
           {
            "colorbar": {
             "outlinewidth": 0,
             "ticks": ""
            },
            "colorscale": [
             [
              0,
              "#0d0887"
             ],
             [
              0.1111111111111111,
              "#46039f"
             ],
             [
              0.2222222222222222,
              "#7201a8"
             ],
             [
              0.3333333333333333,
              "#9c179e"
             ],
             [
              0.4444444444444444,
              "#bd3786"
             ],
             [
              0.5555555555555556,
              "#d8576b"
             ],
             [
              0.6666666666666666,
              "#ed7953"
             ],
             [
              0.7777777777777778,
              "#fb9f3a"
             ],
             [
              0.8888888888888888,
              "#fdca26"
             ],
             [
              1,
              "#f0f921"
             ]
            ],
            "type": "heatmapgl"
           }
          ],
          "histogram": [
           {
            "marker": {
             "pattern": {
              "fillmode": "overlay",
              "size": 10,
              "solidity": 0.2
             }
            },
            "type": "histogram"
           }
          ],
          "histogram2d": [
           {
            "colorbar": {
             "outlinewidth": 0,
             "ticks": ""
            },
            "colorscale": [
             [
              0,
              "#0d0887"
             ],
             [
              0.1111111111111111,
              "#46039f"
             ],
             [
              0.2222222222222222,
              "#7201a8"
             ],
             [
              0.3333333333333333,
              "#9c179e"
             ],
             [
              0.4444444444444444,
              "#bd3786"
             ],
             [
              0.5555555555555556,
              "#d8576b"
             ],
             [
              0.6666666666666666,
              "#ed7953"
             ],
             [
              0.7777777777777778,
              "#fb9f3a"
             ],
             [
              0.8888888888888888,
              "#fdca26"
             ],
             [
              1,
              "#f0f921"
             ]
            ],
            "type": "histogram2d"
           }
          ],
          "histogram2dcontour": [
           {
            "colorbar": {
             "outlinewidth": 0,
             "ticks": ""
            },
            "colorscale": [
             [
              0,
              "#0d0887"
             ],
             [
              0.1111111111111111,
              "#46039f"
             ],
             [
              0.2222222222222222,
              "#7201a8"
             ],
             [
              0.3333333333333333,
              "#9c179e"
             ],
             [
              0.4444444444444444,
              "#bd3786"
             ],
             [
              0.5555555555555556,
              "#d8576b"
             ],
             [
              0.6666666666666666,
              "#ed7953"
             ],
             [
              0.7777777777777778,
              "#fb9f3a"
             ],
             [
              0.8888888888888888,
              "#fdca26"
             ],
             [
              1,
              "#f0f921"
             ]
            ],
            "type": "histogram2dcontour"
           }
          ],
          "mesh3d": [
           {
            "colorbar": {
             "outlinewidth": 0,
             "ticks": ""
            },
            "type": "mesh3d"
           }
          ],
          "parcoords": [
           {
            "line": {
             "colorbar": {
              "outlinewidth": 0,
              "ticks": ""
             }
            },
            "type": "parcoords"
           }
          ],
          "pie": [
           {
            "automargin": true,
            "type": "pie"
           }
          ],
          "scatter": [
           {
            "fillpattern": {
             "fillmode": "overlay",
             "size": 10,
             "solidity": 0.2
            },
            "type": "scatter"
           }
          ],
          "scatter3d": [
           {
            "line": {
             "colorbar": {
              "outlinewidth": 0,
              "ticks": ""
             }
            },
            "marker": {
             "colorbar": {
              "outlinewidth": 0,
              "ticks": ""
             }
            },
            "type": "scatter3d"
           }
          ],
          "scattercarpet": [
           {
            "marker": {
             "colorbar": {
              "outlinewidth": 0,
              "ticks": ""
             }
            },
            "type": "scattercarpet"
           }
          ],
          "scattergeo": [
           {
            "marker": {
             "colorbar": {
              "outlinewidth": 0,
              "ticks": ""
             }
            },
            "type": "scattergeo"
           }
          ],
          "scattergl": [
           {
            "marker": {
             "colorbar": {
              "outlinewidth": 0,
              "ticks": ""
             }
            },
            "type": "scattergl"
           }
          ],
          "scattermapbox": [
           {
            "marker": {
             "colorbar": {
              "outlinewidth": 0,
              "ticks": ""
             }
            },
            "type": "scattermapbox"
           }
          ],
          "scatterpolar": [
           {
            "marker": {
             "colorbar": {
              "outlinewidth": 0,
              "ticks": ""
             }
            },
            "type": "scatterpolar"
           }
          ],
          "scatterpolargl": [
           {
            "marker": {
             "colorbar": {
              "outlinewidth": 0,
              "ticks": ""
             }
            },
            "type": "scatterpolargl"
           }
          ],
          "scatterternary": [
           {
            "marker": {
             "colorbar": {
              "outlinewidth": 0,
              "ticks": ""
             }
            },
            "type": "scatterternary"
           }
          ],
          "surface": [
           {
            "colorbar": {
             "outlinewidth": 0,
             "ticks": ""
            },
            "colorscale": [
             [
              0,
              "#0d0887"
             ],
             [
              0.1111111111111111,
              "#46039f"
             ],
             [
              0.2222222222222222,
              "#7201a8"
             ],
             [
              0.3333333333333333,
              "#9c179e"
             ],
             [
              0.4444444444444444,
              "#bd3786"
             ],
             [
              0.5555555555555556,
              "#d8576b"
             ],
             [
              0.6666666666666666,
              "#ed7953"
             ],
             [
              0.7777777777777778,
              "#fb9f3a"
             ],
             [
              0.8888888888888888,
              "#fdca26"
             ],
             [
              1,
              "#f0f921"
             ]
            ],
            "type": "surface"
           }
          ],
          "table": [
           {
            "cells": {
             "fill": {
              "color": "#EBF0F8"
             },
             "line": {
              "color": "white"
             }
            },
            "header": {
             "fill": {
              "color": "#C8D4E3"
             },
             "line": {
              "color": "white"
             }
            },
            "type": "table"
           }
          ]
         },
         "layout": {
          "annotationdefaults": {
           "arrowcolor": "#2a3f5f",
           "arrowhead": 0,
           "arrowwidth": 1
          },
          "autotypenumbers": "strict",
          "coloraxis": {
           "colorbar": {
            "outlinewidth": 0,
            "ticks": ""
           }
          },
          "colorscale": {
           "diverging": [
            [
             0,
             "#8e0152"
            ],
            [
             0.1,
             "#c51b7d"
            ],
            [
             0.2,
             "#de77ae"
            ],
            [
             0.3,
             "#f1b6da"
            ],
            [
             0.4,
             "#fde0ef"
            ],
            [
             0.5,
             "#f7f7f7"
            ],
            [
             0.6,
             "#e6f5d0"
            ],
            [
             0.7,
             "#b8e186"
            ],
            [
             0.8,
             "#7fbc41"
            ],
            [
             0.9,
             "#4d9221"
            ],
            [
             1,
             "#276419"
            ]
           ],
           "sequential": [
            [
             0,
             "#0d0887"
            ],
            [
             0.1111111111111111,
             "#46039f"
            ],
            [
             0.2222222222222222,
             "#7201a8"
            ],
            [
             0.3333333333333333,
             "#9c179e"
            ],
            [
             0.4444444444444444,
             "#bd3786"
            ],
            [
             0.5555555555555556,
             "#d8576b"
            ],
            [
             0.6666666666666666,
             "#ed7953"
            ],
            [
             0.7777777777777778,
             "#fb9f3a"
            ],
            [
             0.8888888888888888,
             "#fdca26"
            ],
            [
             1,
             "#f0f921"
            ]
           ],
           "sequentialminus": [
            [
             0,
             "#0d0887"
            ],
            [
             0.1111111111111111,
             "#46039f"
            ],
            [
             0.2222222222222222,
             "#7201a8"
            ],
            [
             0.3333333333333333,
             "#9c179e"
            ],
            [
             0.4444444444444444,
             "#bd3786"
            ],
            [
             0.5555555555555556,
             "#d8576b"
            ],
            [
             0.6666666666666666,
             "#ed7953"
            ],
            [
             0.7777777777777778,
             "#fb9f3a"
            ],
            [
             0.8888888888888888,
             "#fdca26"
            ],
            [
             1,
             "#f0f921"
            ]
           ]
          },
          "colorway": [
           "#636efa",
           "#EF553B",
           "#00cc96",
           "#ab63fa",
           "#FFA15A",
           "#19d3f3",
           "#FF6692",
           "#B6E880",
           "#FF97FF",
           "#FECB52"
          ],
          "font": {
           "color": "#2a3f5f"
          },
          "geo": {
           "bgcolor": "white",
           "lakecolor": "white",
           "landcolor": "#E5ECF6",
           "showlakes": true,
           "showland": true,
           "subunitcolor": "white"
          },
          "hoverlabel": {
           "align": "left"
          },
          "hovermode": "closest",
          "mapbox": {
           "style": "light"
          },
          "paper_bgcolor": "white",
          "plot_bgcolor": "#E5ECF6",
          "polar": {
           "angularaxis": {
            "gridcolor": "white",
            "linecolor": "white",
            "ticks": ""
           },
           "bgcolor": "#E5ECF6",
           "radialaxis": {
            "gridcolor": "white",
            "linecolor": "white",
            "ticks": ""
           }
          },
          "scene": {
           "xaxis": {
            "backgroundcolor": "#E5ECF6",
            "gridcolor": "white",
            "gridwidth": 2,
            "linecolor": "white",
            "showbackground": true,
            "ticks": "",
            "zerolinecolor": "white"
           },
           "yaxis": {
            "backgroundcolor": "#E5ECF6",
            "gridcolor": "white",
            "gridwidth": 2,
            "linecolor": "white",
            "showbackground": true,
            "ticks": "",
            "zerolinecolor": "white"
           },
           "zaxis": {
            "backgroundcolor": "#E5ECF6",
            "gridcolor": "white",
            "gridwidth": 2,
            "linecolor": "white",
            "showbackground": true,
            "ticks": "",
            "zerolinecolor": "white"
           }
          },
          "shapedefaults": {
           "line": {
            "color": "#2a3f5f"
           }
          },
          "ternary": {
           "aaxis": {
            "gridcolor": "white",
            "linecolor": "white",
            "ticks": ""
           },
           "baxis": {
            "gridcolor": "white",
            "linecolor": "white",
            "ticks": ""
           },
           "bgcolor": "#E5ECF6",
           "caxis": {
            "gridcolor": "white",
            "linecolor": "white",
            "ticks": ""
           }
          },
          "title": {
           "x": 0.05
          },
          "xaxis": {
           "automargin": true,
           "gridcolor": "white",
           "linecolor": "white",
           "ticks": "",
           "title": {
            "standoff": 15
           },
           "zerolinecolor": "white",
           "zerolinewidth": 2
          },
          "yaxis": {
           "automargin": true,
           "gridcolor": "white",
           "linecolor": "white",
           "ticks": "",
           "title": {
            "standoff": 15
           },
           "zerolinecolor": "white",
           "zerolinewidth": 2
          }
         }
        },
        "width": 1750,
        "xaxis": {
         "showgrid": false,
         "showticklabels": false,
         "zeroline": false
        },
        "yaxis": {
         "showgrid": false,
         "showticklabels": false,
         "zeroline": false
        }
       }
      }
     },
     "metadata": {},
     "output_type": "display_data"
    }
   ],
   "source": [
    "c_i = 0\n",
    "fig = make_subplots(\n",
    "    rows=1,\n",
    "    cols=1,\n",
    "    specs=[[{\"type\": \"sankey\", \"colspan\": 1}]],\n",
    "    horizontal_spacing=0,\n",
    "    vertical_spacing=0.02,\n",
    ")\n",
    "\n",
    "colorbar_abs = dict(len=1, x=1, tickvals=[0, 1, 2, 3], ticktext=[\"1\", \"10\", \"100\", \"1000\"])\n",
    "ts = [\"Below 1.5 degrees\", \"Well below 2 degrees\", \"Below 3 degrees\", \"Below 4 degrees\"]\n",
    "\n",
    "fig.add_trace(\n",
    "    go.Sankey(\n",
    "        arrangement=\"snap\",\n",
    "        node=dict(\n",
    "            pad=10,\n",
    "            x=[0.05] * (amount) + [0.95] * (amount),\n",
    "            y=list(np.linspace(0.001, 0.999, (amount))) + list(np.linspace(0.001, 0.999, (amount))),\n",
    "            #   x = [0.001, 0.001, 0.001, 0.001, 0.999, 0.999, 0.999, 0.999],\n",
    "            #   y = [0.001, 75/285, 160/285, 190/285, 0.001, 75/285, 130/285, 215/285],\n",
    "            thickness=5,\n",
    "            line=dict(color=\"black\", width=0.5),\n",
    "            label=(\n",
    "                [\n",
    "                    \"<b>\"\n",
    "                    + all_regions_names[all_regions_iso == r][0]\n",
    "                    + \"</b>: \"\n",
    "                    + str(\n",
    "                        np.round(\n",
    "                            float(np.array(ndc_deviations_onlyfew[0][0])[regs_onlyfew == r]) * 100,\n",
    "                            1,\n",
    "                        )\n",
    "                    )\n",
    "                    + \"%\"\n",
    "                    for r in regs_onlyfew[np.argsort(ndc_deviations_onlyfew[0])[0][:amount]]\n",
    "                ]  # +['Below top-'+str(amount)] +\n",
    "                + [\n",
    "                    \"<b>\"\n",
    "                    + all_regions_names[all_regions_iso == r][0]\n",
    "                    + \"</b>: \"\n",
    "                    + str(\n",
    "                        np.round(\n",
    "                            float(np.array(ndc_deviations_onlyfew[0][1])[regs_onlyfew == r]) * 100,\n",
    "                            1,\n",
    "                        )\n",
    "                    )\n",
    "                    + \"%\"\n",
    "                    for r in regs_onlyfew[np.argsort(ndc_deviations_onlyfew[0])[1][:amount]]\n",
    "                ]\n",
    "            ),  # +['Below top-'+str(amount)]),\n",
    "            color=\"black\",\n",
    "        ),\n",
    "        link=dict(\n",
    "            source=sources_numeric,  # indices correspond to labels, eg A1, A2, A1, B1, ...\n",
    "            target=targets_numeric,  # np.random.choice(np.arange(amount+1), size=amount+1, replace=False)+amount+1,\n",
    "            value=[1] * len(targets_numeric),\n",
    "            color=[\n",
    "                \"rgba(180,\" + str(0 + i / 1.5) + \",\" + str(0) + \", 0.3)\"\n",
    "                for i in np.linspace(0, 255, len(sources_numeric))\n",
    "            ],\n",
    "        ),\n",
    "    ),\n",
    "    1,\n",
    "    1,\n",
    ")\n",
    "\n",
    "\n",
    "fig.update_layout(\n",
    "    font_size=15,\n",
    ")\n",
    "# fig.update_traces(showscale=False)\n",
    "fig.add_annotation(\n",
    "    xref=\"paper\",\n",
    "    yref=\"paper\",\n",
    "    ax=0,\n",
    "    align=\"center\",\n",
    "    ay=-0,\n",
    "    showarrow=False,\n",
    "    y=0.8,\n",
    "    x=1.025,\n",
    "    textangle=90,\n",
    "    text=\"NDC ambitious enough <<<\",\n",
    "    font=dict(color=\"black\", size=16),\n",
    ")\n",
    "fig.add_annotation(\n",
    "    xref=\"paper\",\n",
    "    yref=\"paper\",\n",
    "    ax=0,\n",
    "    align=\"center\",\n",
    "    ay=-0,\n",
    "    showarrow=False,\n",
    "    y=0.0,\n",
    "    x=1.025,\n",
    "    textangle=90,\n",
    "    text=\">>> NDC not ambitious enough\",\n",
    "    font=dict(color=\"black\", size=16),\n",
    ")\n",
    "\n",
    "fig.add_annotation(\n",
    "    xref=\"paper\",\n",
    "    yref=\"paper\",\n",
    "    ax=0,\n",
    "    align=\"left\",\n",
    "    ay=-0,\n",
    "    showarrow=False,\n",
    "    y=1.05,\n",
    "    x=0.04,\n",
    "    text=\"<b>Approach 2 without transition period</b>\",\n",
    "    font=dict(color=\"black\", size=23),\n",
    ")\n",
    "fig.add_annotation(\n",
    "    xref=\"paper\",\n",
    "    yref=\"paper\",\n",
    "    ax=0,\n",
    "    align=\"left\",\n",
    "    ay=-0,\n",
    "    showarrow=False,\n",
    "    y=1.05,\n",
    "    x=0.95,\n",
    "    text=\"<b>Approach 2 with a 20-year transition period</b>\",\n",
    "    font=dict(color=\"black\", size=23),\n",
    ")\n",
    "\n",
    "# Adding a hidden scatter plot for color bar\n",
    "fig.add_trace(\n",
    "    go.Scatter(\n",
    "        x=[None],\n",
    "        y=[None],\n",
    "        mode=\"markers\",\n",
    "        marker=dict(\n",
    "            colorscale=\"RdYlGn\",\n",
    "            colorbar=dict(\n",
    "                len=1.2,\n",
    "                y=0.5,\n",
    "                title=\"Allocation<br>compared<br>to NDC\",\n",
    "                tickvals=[-1, -0.75, -0.5, -0.25, 0, 0.25, 0.5, 0.75, 1],\n",
    "                ticktext=[\"-100%\", \"-75\", \"-50%\", \"-25%\", \"0%\", \"+25%\", \"+50%\", \"+75%\", \"+100%\"],\n",
    "            ),\n",
    "            cmin=-1,\n",
    "            cmax=1,\n",
    "            showscale=True,  # Display color bar\n",
    "        ),\n",
    "    )\n",
    ")\n",
    "\n",
    "fig.update_layout(\n",
    "    paper_bgcolor=\"white\",  # Set the outer background to white\n",
    "    plot_bgcolor=\"white\",  # Set the inner plot background to white\n",
    "    font_size=18,\n",
    "    xaxis=dict(\n",
    "        showticklabels=False,  # Hide x-axis tick labels\n",
    "        showgrid=False,  # Hide x-axis grid\n",
    "        zeroline=False,  # Hide x-axis zero line\n",
    "    ),\n",
    "    yaxis=dict(\n",
    "        showticklabels=False,  # Hide y-axis tick labels\n",
    "        showgrid=False,  # Hide y-axis grid\n",
    "        zeroline=False,  # Hide y-axis zero line\n",
    "    ),\n",
    ")\n",
    "fig.update_layout(height=800, width=1750)"
   ]
  },
  {
   "cell_type": "code",
   "execution_count": 10,
   "metadata": {},
   "outputs": [],
   "source": [
    "fig.write_image(\"K:/Code/effort-sharing/Figures/Paper_Robiou2023/Figure_4.svg\", scale=2)"
   ]
  }
 ],
 "metadata": {
  "kernelspec": {
   "display_name": "Python 3",
   "language": "python",
   "name": "python3"
  },
  "language_info": {
   "codemirror_mode": {
    "name": "ipython",
    "version": 3
   },
   "file_extension": ".py",
   "mimetype": "text/x-python",
   "name": "python",
   "nbconvert_exporter": "python",
   "pygments_lexer": "ipython3",
   "version": "3.12.5"
  },
  "orig_nbformat": 4
 },
 "nbformat": 4,
 "nbformat_minor": 2
}
