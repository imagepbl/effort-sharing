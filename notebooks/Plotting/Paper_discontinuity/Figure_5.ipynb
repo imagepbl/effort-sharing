{
 "cells": [
  {
   "attachments": {},
   "cell_type": "markdown",
   "metadata": {},
   "source": [
    "## Preambule"
   ]
  },
  {
   "cell_type": "code",
   "execution_count": 1,
   "metadata": {},
   "outputs": [],
   "source": [
    "# General packages\n",
    "import json\n",
    "from pathlib import Path\n",
    "\n",
    "# Plotting\n",
    "import numpy as np\n",
    "import pandas as pd\n",
    "import plotly.graph_objects as go\n",
    "import xarray as xr\n",
    "from plotly.subplots import make_subplots"
   ]
  },
  {
   "cell_type": "code",
   "execution_count": 2,
   "metadata": {},
   "outputs": [],
   "source": [
    "import json\n",
    "\n",
    "f = open(\"X:/user/dekkerm/Data/Maps/Somaliland.json\", encoding=\"utf8\")\n",
    "somaliland_data = json.load(f)"
   ]
  },
  {
   "attachments": {},
   "cell_type": "markdown",
   "metadata": {},
   "source": [
    "## Paths"
   ]
  },
  {
   "cell_type": "code",
   "execution_count": 3,
   "metadata": {},
   "outputs": [],
   "source": [
    "path_data = Path(\"K:/Data/Data_effortsharing/DataUpdate_ongoing/startyear_2021/\")\n",
    "path_data_gen = Path(\"K:/Data/Data_effortsharing/DataUpdate_ongoing/\")\n",
    "path_figs = Path(\"K:/Code/effort-sharing/\") / \"Figures\" / \"Paper_Robiou2023\""
   ]
  },
  {
   "attachments": {},
   "cell_type": "markdown",
   "metadata": {},
   "source": [
    "## Read data files"
   ]
  },
  {
   "cell_type": "code",
   "execution_count": 4,
   "metadata": {},
   "outputs": [],
   "source": [
    "xr_dataread = xr.open_dataset(path_data / \"xr_dataread.nc\")\n",
    "xr_combs = xr.open_dataset(path_data / \"xr_comb.nc\")\n",
    "xr_temps = xr.open_dataset(path_data / \"xr_combtemps.nc\")\n",
    "all_regions_iso = np.load(path_data_gen / \"all_regions.npy\")\n",
    "all_regions_names = np.array(\n",
    "    list(np.load(path_data_gen / \"all_regions_names.npy\")[:-1]) + [\"Earth\"]\n",
    ")  # Only in old xr_dataread version, should be updated when reran\n",
    "all_countries_iso = np.load(path_data_gen / \"all_countries.npy\", allow_pickle=True)\n",
    "all_countries_names = np.load(path_data_gen / \"all_countries_names.npy\", allow_pickle=True)\n",
    "only_regions_iso = [\"CVF\", \"G20\", \"EU\", \"G7\", \"NA\", \"AU\", \"AF\", \"SIDS\", \"LDC\", \"WORLD\"]\n",
    "only_regions_names = [\n",
    "    \"Climate Vulnerability Forum\",\n",
    "    \"G20\",\n",
    "    \"European Union\",\n",
    "    \"G7\",\n",
    "    \"Northern America\",\n",
    "    \"Australasia\",\n",
    "    \"African Group\",\n",
    "    \"Small Island Developing States\",\n",
    "    \"Least Developed Countries\",\n",
    "    \"World\",\n",
    "]"
   ]
  },
  {
   "cell_type": "code",
   "execution_count": 5,
   "metadata": {},
   "outputs": [],
   "source": [
    "df_g = pd.read_excel(\n",
    "    Path(\"X:/user/dekkerm/Data/\") / \"UNFCCC_Parties_Groups_noeu.xlsx\", sheet_name=\"Country groups\"\n",
    ")\n",
    "countries_iso = np.array(df_g[\"Country ISO Code\"])\n",
    "countries_name = np.array(df_g[\"Name\"])\n",
    "countries_iso = np.array(df_g[\"Country ISO Code\"])\n",
    "group_cvf = countries_iso[np.array(df_g[\"CVF (24/10/22)\"]) == 1]\n",
    "group_g20 = countries_iso[np.array(df_g[\"G20\"]) == 1]\n",
    "group_eu = countries_iso[np.array(df_g[\"EU\"]) == 1]\n",
    "group_g7 = countries_iso[np.array(df_g[\"G7\"]) == 1]\n",
    "group_na = countries_iso[np.array(df_g[\"Northern America\"]) == 1]\n",
    "group_um = countries_iso[np.array(df_g[\"Umbrella\"]) == 1]\n",
    "group_au = countries_iso[np.array(df_g[\"Australasia\"]) == 1]\n",
    "group_af = countries_iso[np.array(df_g[\"African Group\"]) == 1]\n",
    "group_sids = countries_iso[np.array(df_g[\"SIDS\"]) == 1]\n",
    "group_ldc = countries_iso[np.array(df_g[\"LDC\"]) == 1]\n",
    "group_eg = countries_iso[np.array(df_g[\"European Group\"]) == 1]\n",
    "group_world = np.copy(countries_iso)"
   ]
  },
  {
   "cell_type": "code",
   "execution_count": 6,
   "metadata": {},
   "outputs": [],
   "source": [
    "# temps_1 = xr_temps.PC.sel(Time=2030, Discount_factor=0, Historical_startyear=1990, Risk=0.5, Scenario='SSP2', Conditionality='unconditional', Hot_air='include').mean(dim='Ambition')\n",
    "temps_1 = xr_temps.PC.sel(Time=2030, Scenario=\"SSP2\")\n",
    "\n",
    "# temps_2 = xr_temps.Approach2.sel(Time=2030, Discount_factor=0, Historical_startyear=1990, Risk=0.5, Scenario='SSP2').mean(dim=['Conditionality', 'Ambition'])"
   ]
  },
  {
   "cell_type": "markdown",
   "metadata": {},
   "source": [
    "## Plot"
   ]
  },
  {
   "cell_type": "code",
   "execution_count": 7,
   "metadata": {},
   "outputs": [
    {
     "data": {
      "application/vnd.plotly.v1+json": {
       "config": {
        "plotlyServerURL": "https://plot.ly"
       },
       "data": [
        {
         "colorbar": {
          "title": {
           "side": "bottom"
          }
         },
         "colorscale": [
          [
           0,
           "rgb(255,255,255)"
          ],
          [
           0.125,
           "rgb(240,240,240)"
          ],
          [
           0.25,
           "rgb(217,217,217)"
          ],
          [
           0.375,
           "rgb(189,189,189)"
          ],
          [
           0.5,
           "rgb(150,150,150)"
          ],
          [
           0.625,
           "rgb(115,115,115)"
          ],
          [
           0.75,
           "rgb(82,82,82)"
          ],
          [
           0.875,
           "rgb(37,37,37)"
          ],
          [
           1,
           "rgb(0,0,0)"
          ]
         ],
         "geo": "geo",
         "hovertemplate": "%{text}",
         "locationmode": "ISO-3",
         "locations": [
          "ATA"
         ],
         "marker": {
          "line": {
           "color": "black",
           "width": 0
          }
         },
         "name": "",
         "showscale": false,
         "text": [
          "hoi"
         ],
         "type": "choropleth",
         "z": [
          0.5
         ],
         "zmax": 5,
         "zmin": 0
        },
        {
         "colorbar": {
          "len": 0.5,
          "lenmode": "fraction",
          "orientation": "h",
          "thickness": 20,
          "thicknessmode": "pixels",
          "tickfont": {
           "size": 14
          },
          "ticktext": [
           "C1<br>(well below 1.5)",
           "C2<br>(1.5 with<br>overshoot)",
           "C3<br>(below 2.0)",
           "C6<br>(below 3.0)",
           "C7<br>(below 4.0)",
           "> C7<br>(above 4.0)"
          ],
          "tickvals": [
           0,
           1,
           2,
           3,
           4,
           5
          ],
          "title": {
           "font": {
            "size": 14
           },
           "side": "bottom",
           "text": "<b>Climate target (in degrees)"
          },
          "x": 0.5,
          "xanchor": "center",
          "y": -0.15,
          "yanchor": "bottom"
         },
         "colorscale": [
          [
           0,
           "rgb(0,104,55)"
          ],
          [
           0.1,
           "rgb(26,152,80)"
          ],
          [
           0.2,
           "rgb(102,189,99)"
          ],
          [
           0.3,
           "rgb(166,217,106)"
          ],
          [
           0.4,
           "rgb(217,239,139)"
          ],
          [
           0.5,
           "rgb(255,255,191)"
          ],
          [
           0.6,
           "rgb(254,224,139)"
          ],
          [
           0.7,
           "rgb(253,174,97)"
          ],
          [
           0.8,
           "rgb(244,109,67)"
          ],
          [
           0.9,
           "rgb(215,48,39)"
          ],
          [
           1,
           "rgb(165,0,38)"
          ]
         ],
         "geo": "geo",
         "hovertemplate": "%{text}",
         "locationmode": "ISO-3",
         "locations": [
          "AFG",
          "ALB",
          "DZA",
          "AND",
          "AGO",
          "ATG",
          "ARG",
          "ARM",
          "AUS",
          "AUT",
          "AZE",
          "BHR",
          "BGD",
          "BRB",
          "BLR",
          "BEL",
          "BLZ",
          "BEN",
          "BTN",
          "BOL",
          "BIH",
          "BWA",
          "BRA",
          "BRN",
          "BGR",
          "BFA",
          "BDI",
          "KHM",
          "CMR",
          "CAN",
          "CPV",
          "CAF",
          "TCD",
          "CHL",
          "CHN",
          "COL",
          "COM",
          "COG",
          "COK",
          "CRI",
          "CIV",
          "HRV",
          "CUB",
          "CYP",
          "CZE",
          "COD",
          "DNK",
          "DJI",
          "DMA",
          "DOM",
          "ECU",
          "EGY",
          "SLV",
          "GNQ",
          "ERI",
          "EST",
          "SWZ",
          "ETH",
          "FJI",
          "FIN",
          "FRA",
          "GAB",
          "GEO",
          "DEU",
          "GHA",
          "GRC",
          "GRD",
          "GTM",
          "GIN",
          "GNB",
          "GUY",
          "HTI",
          "VAT",
          "HND",
          "HUN",
          "ISL",
          "IND",
          "IDN",
          "IRN",
          "IRQ",
          "IRL",
          "ISR",
          "ITA",
          "JAM",
          "JPN",
          "JOR",
          "KAZ",
          "KEN",
          "KIR",
          "KWT",
          "KGZ",
          "LAO",
          "LVA",
          "LBN",
          "LSO",
          "LBR",
          "LBY",
          "LIE",
          "LTU",
          "LUX",
          "MKD",
          "MDG",
          "MWI",
          "MYS",
          "MDV",
          "MLI",
          "MLT",
          "MHL",
          "MRT",
          "MUS",
          "MEX",
          "FSM",
          "MDA",
          "MCO",
          "MNG",
          "MNE",
          "MAR",
          "MOZ",
          "MMR",
          "NAM",
          "NRU",
          "NPL",
          "NLD",
          "NZL",
          "NIC",
          "NER",
          "NGA",
          "NIU",
          "PRK",
          "NOR",
          "OMN",
          "PAK",
          "PLW",
          "PSE",
          "PAN",
          "PNG",
          "PRY",
          "PER",
          "PHL",
          "POL",
          "PRT",
          "QAT",
          "ROU",
          "RUS",
          "RWA",
          "KNA",
          "LCA",
          "VCT",
          "WSM",
          "SMR",
          "STP",
          "SAU",
          "SEN",
          "SRB",
          "SYC",
          "SLE",
          "SGP",
          "SVK",
          "SVN",
          "SLB",
          "SOM",
          "ZAF",
          "KOR",
          "SSD",
          "ESP",
          "LKA",
          "SDN",
          "SUR",
          "SWE",
          "CHE",
          "SYR",
          "TJK",
          "TZA",
          "THA",
          "BHS",
          "GMB",
          "TLS",
          "TGO",
          "TON",
          "TTO",
          "TUN",
          "TUR",
          "TKM",
          "TUV",
          "UGA",
          "UKR",
          "ARE",
          "GBR",
          "USA",
          "URY",
          "UZB",
          "VUT",
          "VEN",
          "VNM",
          "YEM",
          "ZMB",
          "ZWE",
          "EU",
          "EARTH",
          "G20",
          "G7",
          "SIDS",
          "LDC",
          "Northern America",
          "Australasia",
          "African Group",
          "Umbrella"
         ],
         "marker": {
          "line": {
           "color": "black",
           "width": 1
          }
         },
         "name": "",
         "showscale": true,
         "text": [
          "AFG: 0.0 &deg;C",
          "ALB: 1.0 &deg;C",
          "DZA: 3.0 &deg;C",
          "AND: 5.0 &deg;C",
          "AGO: 0.0 &deg;C",
          "ATG: 5.0 &deg;C",
          "ARG: 5.0 &deg;C",
          "ARM: 3.0 &deg;C",
          "AUS: 5.0 &deg;C",
          "AUT: 4.0 &deg;C",
          "AZE: 4.0 &deg;C",
          "BHR: 5.0 &deg;C",
          "BGD: 0.0 &deg;C",
          "BRB: 1.0 &deg;C",
          "BLR: 5.0 &deg;C",
          "BEL: 5.0 &deg;C",
          "BLZ: 1.0 &deg;C",
          "BEN: 0.0 &deg;C",
          "BTN: 3.0 &deg;C",
          "BOL: 5.0 &deg;C",
          "BIH: 5.0 &deg;C",
          "BWA: 5.0 &deg;C",
          "BRA: 3.0 &deg;C",
          "BRN: 5.0 &deg;C",
          "BGR: 4.0 &deg;C",
          "BFA: 1.0 &deg;C",
          "BDI: 0.0 &deg;C",
          "KHM: 1.0 &deg;C",
          "CMR: 1.0 &deg;C",
          "CAN: 5.0 &deg;C",
          "CPV: 0.0 &deg;C",
          "CAF: 0.0 &deg;C",
          "TCD: 1.0 &deg;C",
          "CHL: 2.0 &deg;C",
          "CHN: 5.0 &deg;C",
          "COL: 0.0 &deg;C",
          "COM: 0.0 &deg;C",
          "COG: 0.0 &deg;C",
          "COK: 5.0 &deg;C",
          "CRI: 0.0 &deg;C",
          "CIV: 0.0 &deg;C",
          "HRV: 4.0 &deg;C",
          "CUB: 3.0 &deg;C",
          "CYP: 1.0 &deg;C",
          "CZE: 5.0 &deg;C",
          "COD: 0.0 &deg;C",
          "DNK: 4.0 &deg;C",
          "DJI: 0.0 &deg;C",
          "DMA: 5.0 &deg;C",
          "DOM: 1.0 &deg;C",
          "ECU: 1.0 &deg;C",
          "EGY: 3.0 &deg;C",
          "SLV: 0.0 &deg;C",
          "GNQ: 5.0 &deg;C",
          "ERI: 0.0 &deg;C",
          "EST: 5.0 &deg;C",
          "SWZ: 4.0 &deg;C",
          "ETH: 0.0 &deg;C",
          "FJI: 0.0 &deg;C",
          "FIN: 5.0 &deg;C",
          "FRA: 3.0 &deg;C",
          "GAB: 0.0 &deg;C",
          "GEO: 1.0 &deg;C",
          "DEU: 4.0 &deg;C",
          "GHA: 0.0 &deg;C",
          "GRC: 5.0 &deg;C",
          "GRD: 0.0 &deg;C",
          "GTM: 1.0 &deg;C",
          "GIN: 0.0 &deg;C",
          "GNB: 3.0 &deg;C",
          "GUY: 5.0 &deg;C",
          "HTI: 0.0 &deg;C",
          "VAT: 5.0 &deg;C",
          "HND: 0.0 &deg;C",
          "HUN: 4.0 &deg;C",
          "ISL: 1.0 &deg;C",
          "IND: 1.0 &deg;C",
          "IDN: 1.0 &deg;C",
          "IRN: 5.0 &deg;C",
          "IRQ: 5.0 &deg;C",
          "IRL: 5.0 &deg;C",
          "ISR: 4.0 &deg;C",
          "ITA: 3.0 &deg;C",
          "JAM: 0.0 &deg;C",
          "JPN: 5.0 &deg;C",
          "JOR: 1.0 &deg;C",
          "KAZ: 5.0 &deg;C",
          "KEN: 0.0 &deg;C",
          "KIR: 0.0 &deg;C",
          "KWT: 5.0 &deg;C",
          "KGZ: 1.0 &deg;C",
          "LAO: 1.0 &deg;C",
          "LVA: 5.0 &deg;C",
          "LBN: 3.0 &deg;C",
          "LSO: 0.0 &deg;C",
          "LBR: 0.0 &deg;C",
          "LBY: 0.0 &deg;C",
          "LIE: 5.0 &deg;C",
          "LTU: 5.0 &deg;C",
          "LUX: 5.0 &deg;C",
          "MKD: 1.0 &deg;C",
          "MDG: 0.0 &deg;C",
          "MWI: 0.0 &deg;C",
          "MYS: 5.0 &deg;C",
          "MDV: 4.0 &deg;C",
          "MLI: 1.0 &deg;C",
          "MLT: 0.0 &deg;C",
          "MHL: 5.0 &deg;C",
          "MRT: 0.0 &deg;C",
          "MUS: 4.0 &deg;C",
          "MEX: 4.0 &deg;C",
          "FSM: 0.0 &deg;C",
          "MDA: 1.0 &deg;C",
          "MCO: 5.0 &deg;C",
          "MNG: 5.0 &deg;C",
          "MNE: 3.0 &deg;C",
          "MAR: 0.0 &deg;C",
          "MOZ: 0.0 &deg;C",
          "MMR: 0.0 &deg;C",
          "NAM: 0.0 &deg;C",
          "NRU: 5.0 &deg;C",
          "NPL: 0.0 &deg;C",
          "NLD: 5.0 &deg;C",
          "NZL: 5.0 &deg;C",
          "NIC: 5.0 &deg;C",
          "NER: 0.0 &deg;C",
          "NGA: 0.0 &deg;C",
          "NIU: 5.0 &deg;C",
          "PRK: 5.0 &deg;C",
          "NOR: 5.0 &deg;C",
          "OMN: 5.0 &deg;C",
          "PAK: 3.0 &deg;C",
          "PLW: 5.0 &deg;C",
          "PSE: 0.0 &deg;C",
          "PAN: 5.0 &deg;C",
          "PNG: 0.0 &deg;C",
          "PRY: 5.0 &deg;C",
          "PER: 1.0 &deg;C",
          "PHL: 0.0 &deg;C",
          "POL: 5.0 &deg;C",
          "PRT: 4.0 &deg;C",
          "QAT: 5.0 &deg;C",
          "ROU: 3.0 &deg;C",
          "RUS: 5.0 &deg;C",
          "RWA: 0.0 &deg;C",
          "KNA: 5.0 &deg;C",
          "LCA: 1.0 &deg;C",
          "VCT: 4.0 &deg;C",
          "WSM: 0.0 &deg;C",
          "SMR: 5.0 &deg;C",
          "STP: 0.0 &deg;C",
          "SAU: 5.0 &deg;C",
          "SEN: 0.0 &deg;C",
          "SRB: 5.0 &deg;C",
          "SYC: 5.0 &deg;C",
          "SLE: 0.0 &deg;C",
          "SGP: 5.0 &deg;C",
          "SVK: 3.0 &deg;C",
          "SVN: 5.0 &deg;C",
          "SLB: 0.0 &deg;C",
          "SOM: 3.0 &deg;C",
          "ZAF: 5.0 &deg;C",
          "KOR: 5.0 &deg;C",
          "SSD: 1.0 &deg;C",
          "ESP: 3.0 &deg;C",
          "LKA: 0.0 &deg;C",
          "SDN: 0.0 &deg;C",
          "SUR: 5.0 &deg;C",
          "SWE: 2.0 &deg;C",
          "CHE: 0.0 &deg;C",
          "SYR: 1.0 &deg;C",
          "TJK: 0.0 &deg;C",
          "TZA: 0.0 &deg;C",
          "THA: 3.0 &deg;C",
          "BHS: 5.0 &deg;C",
          "GMB: 0.0 &deg;C",
          "TLS: 0.0 &deg;C",
          "TGO: 0.0 &deg;C",
          "TON: 0.0 &deg;C",
          "TTO: 5.0 &deg;C",
          "TUN: 1.0 &deg;C",
          "TUR: 5.0 &deg;C",
          "TKM: 5.0 &deg;C",
          "TUV: 5.0 &deg;C",
          "UGA: 0.0 &deg;C",
          "UKR: 5.0 &deg;C",
          "ARE: 5.0 &deg;C",
          "GBR: 1.0 &deg;C",
          "USA: 5.0 &deg;C",
          "URY: 5.0 &deg;C",
          "UZB: 5.0 &deg;C",
          "VUT: 0.0 &deg;C",
          "VEN: 5.0 &deg;C",
          "VNM: 5.0 &deg;C",
          "YEM: 0.0 &deg;C",
          "ZMB: 0.0 &deg;C",
          "ZWE: 0.0 &deg;C",
          "EU: 4.0 &deg;C",
          "EARTH: 5.0 &deg;C",
          "G20: 5.0 &deg;C",
          "G7: 5.0 &deg;C",
          "SIDS: 5.0 &deg;C",
          "LDC: 5.0 &deg;C",
          "Northern America: 5.0 &deg;C",
          "Australasia: 5.0 &deg;C",
          "African Group: 0.0 &deg;C",
          "Umbrella: 5.0 &deg;C"
         ],
         "type": "choropleth",
         "z": [
          0.01,
          1.01,
          3.01,
          5.01,
          0.01,
          5.01,
          5.01,
          3.01,
          5.01,
          4.01,
          4.01,
          5.01,
          0.01,
          1.01,
          5.01,
          5.01,
          1.01,
          0.01,
          3.01,
          5.01,
          5.01,
          5.01,
          3.01,
          5.01,
          4.01,
          1.01,
          0.01,
          1.01,
          1.01,
          5.01,
          0.01,
          0.01,
          1.01,
          2.01,
          5.01,
          0.01,
          0.01,
          0.01,
          5.01,
          0.01,
          0.01,
          4.01,
          3.01,
          1.01,
          5.01,
          0.01,
          4.01,
          0.01,
          5.01,
          1.01,
          1.01,
          3.01,
          0.01,
          5.01,
          0.01,
          5.01,
          4.01,
          0.01,
          0.01,
          5.01,
          3.01,
          0.01,
          1.01,
          4.01,
          0.01,
          5.01,
          0.01,
          1.01,
          0.01,
          3.01,
          5.01,
          0.01,
          5.01,
          0.01,
          4.01,
          1.01,
          1.01,
          1.01,
          5.01,
          5.01,
          5.01,
          4.01,
          3.01,
          0.01,
          5.01,
          1.01,
          5.01,
          0.01,
          0.01,
          5.01,
          1.01,
          1.01,
          5.01,
          3.01,
          0.01,
          0.01,
          0.01,
          5.01,
          5.01,
          5.01,
          1.01,
          0.01,
          0.01,
          5.01,
          4.01,
          1.01,
          0.01,
          5.01,
          0.01,
          4.01,
          4.01,
          0.01,
          1.01,
          5.01,
          5.01,
          3.01,
          0.01,
          0.01,
          0.01,
          0.01,
          5.01,
          0.01,
          5.01,
          5.01,
          5.01,
          0.01,
          0.01,
          5.01,
          5.01,
          5.01,
          5.01,
          3.01,
          5.01,
          0.01,
          5.01,
          0.01,
          5.01,
          1.01,
          0.01,
          5.01,
          4.01,
          5.01,
          3.01,
          5.01,
          0.01,
          5.01,
          1.01,
          4.01,
          0.01,
          5.01,
          0.01,
          5.01,
          0.01,
          5.01,
          5.01,
          0.01,
          5.01,
          3.01,
          5.01,
          0.01,
          3.01,
          5.01,
          5.01,
          1.01,
          3.01,
          0.01,
          0.01,
          5.01,
          2.01,
          0.01,
          1.01,
          0.01,
          0.01,
          3.01,
          5.01,
          0.01,
          0.01,
          0.01,
          0.01,
          5.01,
          1.01,
          5.01,
          5.01,
          5.01,
          0.01,
          5.01,
          5.01,
          1.01,
          5.01,
          5.01,
          5.01,
          0.01,
          5.01,
          5.01,
          0.01,
          0.01,
          0.01,
          4.01,
          5.01,
          5.01,
          5.01,
          5.01,
          5.01,
          5.01,
          5.01,
          0.01,
          5.01
         ],
         "zmax": 5,
         "zmin": 0
        },
        {
         "colorbar": {
          "len": 0.5,
          "lenmode": "fraction",
          "orientation": "h",
          "thickness": 20,
          "thicknessmode": "pixels",
          "tickfont": {
           "size": 14
          },
          "ticktext": [
           "C1<br>(well below 1.5)",
           "C2<br>(1.5 with<br>overshoot)",
           "C3<br>(below 2.0)",
           "C6<br>(below 3.0)",
           "C7<br>(below 4.0)",
           "> C7<br>(above 4.0)"
          ],
          "tickvals": [
           0,
           1,
           2,
           3,
           4,
           5
          ],
          "title": {
           "font": {
            "size": 14
           },
           "side": "bottom",
           "text": "<b>Climate target (in degrees)"
          },
          "x": 0.5,
          "xanchor": "center",
          "y": -0.15,
          "yanchor": "bottom"
         },
         "colorscale": [
          [
           0,
           "rgb(0,104,55)"
          ],
          [
           0.1,
           "rgb(26,152,80)"
          ],
          [
           0.2,
           "rgb(102,189,99)"
          ],
          [
           0.3,
           "rgb(166,217,106)"
          ],
          [
           0.4,
           "rgb(217,239,139)"
          ],
          [
           0.5,
           "rgb(255,255,191)"
          ],
          [
           0.6,
           "rgb(254,224,139)"
          ],
          [
           0.7,
           "rgb(253,174,97)"
          ],
          [
           0.8,
           "rgb(244,109,67)"
          ],
          [
           0.9,
           "rgb(215,48,39)"
          ],
          [
           1,
           "rgb(165,0,38)"
          ]
         ],
         "geo": "geo",
         "hovertemplate": "%{text}",
         "locationmode": "ISO-3",
         "locations": [
          "AUT",
          "BEL",
          "BGR",
          "HRV",
          "CYP",
          "CZE",
          "DNK",
          "EST",
          "FIN",
          "FRA",
          "DEU",
          "GRC",
          "HUN",
          "IRL",
          "ITA",
          "LVA",
          "LTU",
          "LUX",
          "MLT",
          "NLD",
          "POL",
          "PRT",
          "ROU",
          "SVK",
          "SVN",
          "ESP",
          "SWE"
         ],
         "marker": {
          "line": {
           "color": "black",
           "width": 1
          }
         },
         "name": "",
         "showscale": true,
         "text": [
          "AUT: 4.0 &deg;C",
          "BEL: 4.0 &deg;C",
          "BGR: 4.0 &deg;C",
          "HRV: 4.0 &deg;C",
          "CYP: 4.0 &deg;C",
          "CZE: 4.0 &deg;C",
          "DNK: 4.0 &deg;C",
          "EST: 4.0 &deg;C",
          "FIN: 4.0 &deg;C",
          "FRA: 4.0 &deg;C",
          "DEU: 4.0 &deg;C",
          "GRC: 4.0 &deg;C",
          "HUN: 4.0 &deg;C",
          "IRL: 4.0 &deg;C",
          "ITA: 4.0 &deg;C",
          "LVA: 4.0 &deg;C",
          "LTU: 4.0 &deg;C",
          "LUX: 4.0 &deg;C",
          "MLT: 4.0 &deg;C",
          "NLD: 4.0 &deg;C",
          "POL: 4.0 &deg;C",
          "PRT: 4.0 &deg;C",
          "ROU: 4.0 &deg;C",
          "SVK: 4.0 &deg;C",
          "SVN: 4.0 &deg;C",
          "ESP: 4.0 &deg;C",
          "SWE: 4.0 &deg;C"
         ],
         "type": "choropleth",
         "z": [
          4.01,
          4.01,
          4.01,
          4.01,
          4.01,
          4.01,
          4.01,
          4.01,
          4.01,
          4.01,
          4.01,
          4.01,
          4.01,
          4.01,
          4.01,
          4.01,
          4.01,
          4.01,
          4.01,
          4.01,
          4.01,
          4.01,
          4.01,
          4.01,
          4.01,
          4.01,
          4.01
         ],
         "zmax": 5,
         "zmin": 0
        }
       ],
       "layout": {
        "annotations": [
         {
          "font": {
           "color": "black",
           "size": 20
          },
          "showarrow": false,
          "text": "<b>NDC alignment of an equal per capita approach</b>",
          "x": 0.5,
          "xref": "paper",
          "y": 1.05,
          "yref": "paper"
         }
        ],
        "geo": {
         "domain": {
          "x": [
           0,
           1
          ],
          "y": [
           0,
           1
          ]
         },
         "lakecolor": "rgb(255, 255, 255)",
         "landcolor": "lightgrey",
         "projection": {
          "type": "natural earth"
         },
         "resolution": 110,
         "showcoastlines": false,
         "showframe": false,
         "showlakes": false,
         "visible": true
        },
        "height": 800,
        "template": {
         "data": {
          "bar": [
           {
            "error_x": {
             "color": "#2a3f5f"
            },
            "error_y": {
             "color": "#2a3f5f"
            },
            "marker": {
             "line": {
              "color": "#E5ECF6",
              "width": 0.5
             },
             "pattern": {
              "fillmode": "overlay",
              "size": 10,
              "solidity": 0.2
             }
            },
            "type": "bar"
           }
          ],
          "barpolar": [
           {
            "marker": {
             "line": {
              "color": "#E5ECF6",
              "width": 0.5
             },
             "pattern": {
              "fillmode": "overlay",
              "size": 10,
              "solidity": 0.2
             }
            },
            "type": "barpolar"
           }
          ],
          "carpet": [
           {
            "aaxis": {
             "endlinecolor": "#2a3f5f",
             "gridcolor": "white",
             "linecolor": "white",
             "minorgridcolor": "white",
             "startlinecolor": "#2a3f5f"
            },
            "baxis": {
             "endlinecolor": "#2a3f5f",
             "gridcolor": "white",
             "linecolor": "white",
             "minorgridcolor": "white",
             "startlinecolor": "#2a3f5f"
            },
            "type": "carpet"
           }
          ],
          "choropleth": [
           {
            "colorbar": {
             "outlinewidth": 0,
             "ticks": ""
            },
            "type": "choropleth"
           }
          ],
          "contour": [
           {
            "colorbar": {
             "outlinewidth": 0,
             "ticks": ""
            },
            "colorscale": [
             [
              0,
              "#0d0887"
             ],
             [
              0.1111111111111111,
              "#46039f"
             ],
             [
              0.2222222222222222,
              "#7201a8"
             ],
             [
              0.3333333333333333,
              "#9c179e"
             ],
             [
              0.4444444444444444,
              "#bd3786"
             ],
             [
              0.5555555555555556,
              "#d8576b"
             ],
             [
              0.6666666666666666,
              "#ed7953"
             ],
             [
              0.7777777777777778,
              "#fb9f3a"
             ],
             [
              0.8888888888888888,
              "#fdca26"
             ],
             [
              1,
              "#f0f921"
             ]
            ],
            "type": "contour"
           }
          ],
          "contourcarpet": [
           {
            "colorbar": {
             "outlinewidth": 0,
             "ticks": ""
            },
            "type": "contourcarpet"
           }
          ],
          "heatmap": [
           {
            "colorbar": {
             "outlinewidth": 0,
             "ticks": ""
            },
            "colorscale": [
             [
              0,
              "#0d0887"
             ],
             [
              0.1111111111111111,
              "#46039f"
             ],
             [
              0.2222222222222222,
              "#7201a8"
             ],
             [
              0.3333333333333333,
              "#9c179e"
             ],
             [
              0.4444444444444444,
              "#bd3786"
             ],
             [
              0.5555555555555556,
              "#d8576b"
             ],
             [
              0.6666666666666666,
              "#ed7953"
             ],
             [
              0.7777777777777778,
              "#fb9f3a"
             ],
             [
              0.8888888888888888,
              "#fdca26"
             ],
             [
              1,
              "#f0f921"
             ]
            ],
            "type": "heatmap"
           }
          ],
          "heatmapgl": [
           {
            "colorbar": {
             "outlinewidth": 0,
             "ticks": ""
            },
            "colorscale": [
             [
              0,
              "#0d0887"
             ],
             [
              0.1111111111111111,
              "#46039f"
             ],
             [
              0.2222222222222222,
              "#7201a8"
             ],
             [
              0.3333333333333333,
              "#9c179e"
             ],
             [
              0.4444444444444444,
              "#bd3786"
             ],
             [
              0.5555555555555556,
              "#d8576b"
             ],
             [
              0.6666666666666666,
              "#ed7953"
             ],
             [
              0.7777777777777778,
              "#fb9f3a"
             ],
             [
              0.8888888888888888,
              "#fdca26"
             ],
             [
              1,
              "#f0f921"
             ]
            ],
            "type": "heatmapgl"
           }
          ],
          "histogram": [
           {
            "marker": {
             "pattern": {
              "fillmode": "overlay",
              "size": 10,
              "solidity": 0.2
             }
            },
            "type": "histogram"
           }
          ],
          "histogram2d": [
           {
            "colorbar": {
             "outlinewidth": 0,
             "ticks": ""
            },
            "colorscale": [
             [
              0,
              "#0d0887"
             ],
             [
              0.1111111111111111,
              "#46039f"
             ],
             [
              0.2222222222222222,
              "#7201a8"
             ],
             [
              0.3333333333333333,
              "#9c179e"
             ],
             [
              0.4444444444444444,
              "#bd3786"
             ],
             [
              0.5555555555555556,
              "#d8576b"
             ],
             [
              0.6666666666666666,
              "#ed7953"
             ],
             [
              0.7777777777777778,
              "#fb9f3a"
             ],
             [
              0.8888888888888888,
              "#fdca26"
             ],
             [
              1,
              "#f0f921"
             ]
            ],
            "type": "histogram2d"
           }
          ],
          "histogram2dcontour": [
           {
            "colorbar": {
             "outlinewidth": 0,
             "ticks": ""
            },
            "colorscale": [
             [
              0,
              "#0d0887"
             ],
             [
              0.1111111111111111,
              "#46039f"
             ],
             [
              0.2222222222222222,
              "#7201a8"
             ],
             [
              0.3333333333333333,
              "#9c179e"
             ],
             [
              0.4444444444444444,
              "#bd3786"
             ],
             [
              0.5555555555555556,
              "#d8576b"
             ],
             [
              0.6666666666666666,
              "#ed7953"
             ],
             [
              0.7777777777777778,
              "#fb9f3a"
             ],
             [
              0.8888888888888888,
              "#fdca26"
             ],
             [
              1,
              "#f0f921"
             ]
            ],
            "type": "histogram2dcontour"
           }
          ],
          "mesh3d": [
           {
            "colorbar": {
             "outlinewidth": 0,
             "ticks": ""
            },
            "type": "mesh3d"
           }
          ],
          "parcoords": [
           {
            "line": {
             "colorbar": {
              "outlinewidth": 0,
              "ticks": ""
             }
            },
            "type": "parcoords"
           }
          ],
          "pie": [
           {
            "automargin": true,
            "type": "pie"
           }
          ],
          "scatter": [
           {
            "fillpattern": {
             "fillmode": "overlay",
             "size": 10,
             "solidity": 0.2
            },
            "type": "scatter"
           }
          ],
          "scatter3d": [
           {
            "line": {
             "colorbar": {
              "outlinewidth": 0,
              "ticks": ""
             }
            },
            "marker": {
             "colorbar": {
              "outlinewidth": 0,
              "ticks": ""
             }
            },
            "type": "scatter3d"
           }
          ],
          "scattercarpet": [
           {
            "marker": {
             "colorbar": {
              "outlinewidth": 0,
              "ticks": ""
             }
            },
            "type": "scattercarpet"
           }
          ],
          "scattergeo": [
           {
            "marker": {
             "colorbar": {
              "outlinewidth": 0,
              "ticks": ""
             }
            },
            "type": "scattergeo"
           }
          ],
          "scattergl": [
           {
            "marker": {
             "colorbar": {
              "outlinewidth": 0,
              "ticks": ""
             }
            },
            "type": "scattergl"
           }
          ],
          "scattermapbox": [
           {
            "marker": {
             "colorbar": {
              "outlinewidth": 0,
              "ticks": ""
             }
            },
            "type": "scattermapbox"
           }
          ],
          "scatterpolar": [
           {
            "marker": {
             "colorbar": {
              "outlinewidth": 0,
              "ticks": ""
             }
            },
            "type": "scatterpolar"
           }
          ],
          "scatterpolargl": [
           {
            "marker": {
             "colorbar": {
              "outlinewidth": 0,
              "ticks": ""
             }
            },
            "type": "scatterpolargl"
           }
          ],
          "scatterternary": [
           {
            "marker": {
             "colorbar": {
              "outlinewidth": 0,
              "ticks": ""
             }
            },
            "type": "scatterternary"
           }
          ],
          "surface": [
           {
            "colorbar": {
             "outlinewidth": 0,
             "ticks": ""
            },
            "colorscale": [
             [
              0,
              "#0d0887"
             ],
             [
              0.1111111111111111,
              "#46039f"
             ],
             [
              0.2222222222222222,
              "#7201a8"
             ],
             [
              0.3333333333333333,
              "#9c179e"
             ],
             [
              0.4444444444444444,
              "#bd3786"
             ],
             [
              0.5555555555555556,
              "#d8576b"
             ],
             [
              0.6666666666666666,
              "#ed7953"
             ],
             [
              0.7777777777777778,
              "#fb9f3a"
             ],
             [
              0.8888888888888888,
              "#fdca26"
             ],
             [
              1,
              "#f0f921"
             ]
            ],
            "type": "surface"
           }
          ],
          "table": [
           {
            "cells": {
             "fill": {
              "color": "#EBF0F8"
             },
             "line": {
              "color": "white"
             }
            },
            "header": {
             "fill": {
              "color": "#C8D4E3"
             },
             "line": {
              "color": "white"
             }
            },
            "type": "table"
           }
          ]
         },
         "layout": {
          "annotationdefaults": {
           "arrowcolor": "#2a3f5f",
           "arrowhead": 0,
           "arrowwidth": 1
          },
          "autotypenumbers": "strict",
          "coloraxis": {
           "colorbar": {
            "outlinewidth": 0,
            "ticks": ""
           }
          },
          "colorscale": {
           "diverging": [
            [
             0,
             "#8e0152"
            ],
            [
             0.1,
             "#c51b7d"
            ],
            [
             0.2,
             "#de77ae"
            ],
            [
             0.3,
             "#f1b6da"
            ],
            [
             0.4,
             "#fde0ef"
            ],
            [
             0.5,
             "#f7f7f7"
            ],
            [
             0.6,
             "#e6f5d0"
            ],
            [
             0.7,
             "#b8e186"
            ],
            [
             0.8,
             "#7fbc41"
            ],
            [
             0.9,
             "#4d9221"
            ],
            [
             1,
             "#276419"
            ]
           ],
           "sequential": [
            [
             0,
             "#0d0887"
            ],
            [
             0.1111111111111111,
             "#46039f"
            ],
            [
             0.2222222222222222,
             "#7201a8"
            ],
            [
             0.3333333333333333,
             "#9c179e"
            ],
            [
             0.4444444444444444,
             "#bd3786"
            ],
            [
             0.5555555555555556,
             "#d8576b"
            ],
            [
             0.6666666666666666,
             "#ed7953"
            ],
            [
             0.7777777777777778,
             "#fb9f3a"
            ],
            [
             0.8888888888888888,
             "#fdca26"
            ],
            [
             1,
             "#f0f921"
            ]
           ],
           "sequentialminus": [
            [
             0,
             "#0d0887"
            ],
            [
             0.1111111111111111,
             "#46039f"
            ],
            [
             0.2222222222222222,
             "#7201a8"
            ],
            [
             0.3333333333333333,
             "#9c179e"
            ],
            [
             0.4444444444444444,
             "#bd3786"
            ],
            [
             0.5555555555555556,
             "#d8576b"
            ],
            [
             0.6666666666666666,
             "#ed7953"
            ],
            [
             0.7777777777777778,
             "#fb9f3a"
            ],
            [
             0.8888888888888888,
             "#fdca26"
            ],
            [
             1,
             "#f0f921"
            ]
           ]
          },
          "colorway": [
           "#636efa",
           "#EF553B",
           "#00cc96",
           "#ab63fa",
           "#FFA15A",
           "#19d3f3",
           "#FF6692",
           "#B6E880",
           "#FF97FF",
           "#FECB52"
          ],
          "font": {
           "color": "#2a3f5f"
          },
          "geo": {
           "bgcolor": "white",
           "lakecolor": "white",
           "landcolor": "#E5ECF6",
           "showlakes": true,
           "showland": true,
           "subunitcolor": "white"
          },
          "hoverlabel": {
           "align": "left"
          },
          "hovermode": "closest",
          "mapbox": {
           "style": "light"
          },
          "paper_bgcolor": "white",
          "plot_bgcolor": "#E5ECF6",
          "polar": {
           "angularaxis": {
            "gridcolor": "white",
            "linecolor": "white",
            "ticks": ""
           },
           "bgcolor": "#E5ECF6",
           "radialaxis": {
            "gridcolor": "white",
            "linecolor": "white",
            "ticks": ""
           }
          },
          "scene": {
           "xaxis": {
            "backgroundcolor": "#E5ECF6",
            "gridcolor": "white",
            "gridwidth": 2,
            "linecolor": "white",
            "showbackground": true,
            "ticks": "",
            "zerolinecolor": "white"
           },
           "yaxis": {
            "backgroundcolor": "#E5ECF6",
            "gridcolor": "white",
            "gridwidth": 2,
            "linecolor": "white",
            "showbackground": true,
            "ticks": "",
            "zerolinecolor": "white"
           },
           "zaxis": {
            "backgroundcolor": "#E5ECF6",
            "gridcolor": "white",
            "gridwidth": 2,
            "linecolor": "white",
            "showbackground": true,
            "ticks": "",
            "zerolinecolor": "white"
           }
          },
          "shapedefaults": {
           "line": {
            "color": "#2a3f5f"
           }
          },
          "ternary": {
           "aaxis": {
            "gridcolor": "white",
            "linecolor": "white",
            "ticks": ""
           },
           "baxis": {
            "gridcolor": "white",
            "linecolor": "white",
            "ticks": ""
           },
           "bgcolor": "#E5ECF6",
           "caxis": {
            "gridcolor": "white",
            "linecolor": "white",
            "ticks": ""
           }
          },
          "title": {
           "x": 0.05
          },
          "xaxis": {
           "automargin": true,
           "gridcolor": "white",
           "linecolor": "white",
           "ticks": "",
           "title": {
            "standoff": 15
           },
           "zerolinecolor": "white",
           "zerolinewidth": 2
          },
          "yaxis": {
           "automargin": true,
           "gridcolor": "white",
           "linecolor": "white",
           "ticks": "",
           "title": {
            "standoff": 15
           },
           "zerolinecolor": "white",
           "zerolinewidth": 2
          }
         }
        },
        "width": 1450
       }
      }
     },
     "metadata": {},
     "output_type": "display_data"
    }
   ],
   "source": [
    "fig = make_subplots(\n",
    "    rows=1, cols=1, specs=[[{\"type\": \"choropleth\"}]], horizontal_spacing=0.0, vertical_spacing=0.0\n",
    ")\n",
    "\n",
    "for i in range(1):\n",
    "    dath = [temps_1][i]\n",
    "    dat = np.array(dath)\n",
    "    scale = \"RdYlGn_r\"\n",
    "    dc = dict(\n",
    "        orientation=\"h\",\n",
    "        x=0.5,\n",
    "        y=-0.15,\n",
    "        xanchor=\"center\",\n",
    "        yanchor=\"bottom\",\n",
    "        title=\"<b>Climate target (in degrees)\",\n",
    "        tickvals=[0, 1, 2, 3, 4, 5],\n",
    "        ticktext=[\n",
    "            \"C1<br>(well below 1.5)\",\n",
    "            \"C2<br>(1.5 with<br>overshoot)\",\n",
    "            \"C3<br>(below 2.0)\",\n",
    "            \"C6<br>(below 3.0)\",\n",
    "            \"C7<br>(below 4.0)\",\n",
    "            \"> C7<br>(above 4.0)\",\n",
    "        ],\n",
    "        tickfont=dict(size=14),\n",
    "        len=0.5,\n",
    "        lenmode=\"fraction\",\n",
    "        thickness=20,\n",
    "        thicknessmode=\"pixels\",\n",
    "        titlefont=dict(size=14),\n",
    "    )\n",
    "    # Grey out nans\n",
    "    fig.add_trace(\n",
    "        go.Choropleth(\n",
    "            locations=[\"ATA\"],\n",
    "            z=[0.5],\n",
    "            locationmode=\"ISO-3\",\n",
    "            colorscale=\"Greys\",\n",
    "            zmax=5.0,\n",
    "            zmin=0,\n",
    "            text=[\"hoi\"],\n",
    "            hovertemplate=\"%{text}\",\n",
    "            name=\"\",\n",
    "            marker_line_color=\"black\",\n",
    "            marker_line_width=0,\n",
    "            showscale=False,\n",
    "        ),\n",
    "        [1, 2][i],\n",
    "        1,\n",
    "    )\n",
    "\n",
    "    # Make somaliland equal to SOM\n",
    "    data = data = [[\"SOM\", float(dath.sel(Region=\"SOM\"))], [\"SOL\", float(dath.sel(Region=\"SOM\"))]]\n",
    "    df = pd.DataFrame(data, columns=[\"sov_a3\", \"population\"])\n",
    "\n",
    "    fig.add_trace(\n",
    "        go.Choropleth(\n",
    "            locations=np.array((dath).Region),\n",
    "            z=dat,\n",
    "            locationmode=\"ISO-3\",\n",
    "            colorscale=scale,\n",
    "            zmax=5.0,\n",
    "            zmin=0,\n",
    "            text=[\n",
    "                str(r) + \": \" + str(np.round(dat[r_i], 1)) + \" &deg;C\"\n",
    "                for r_i, r in enumerate(np.array((dath).Region))\n",
    "            ],\n",
    "            hovertemplate=\"%{text}\",\n",
    "            name=\"\",\n",
    "            colorbar=dc,\n",
    "            marker_line_color=\"black\",\n",
    "            marker_line_width=1,\n",
    "            showscale=[True, False][i],\n",
    "        ),\n",
    "        [1, 2][i],\n",
    "        1,\n",
    "    )\n",
    "\n",
    "    fig.add_trace(\n",
    "        go.Choropleth(\n",
    "            locations=group_eu,\n",
    "            z=np.array([dat[np.where(all_regions_iso == \"EU\")[0][0]]] * len(group_eu)),\n",
    "            locationmode=\"ISO-3\",\n",
    "            colorscale=scale,\n",
    "            zmax=5.0,\n",
    "            zmin=0,\n",
    "            text=[\n",
    "                str(r)\n",
    "                + \": \"\n",
    "                + str(np.round(dat[np.where(all_regions_iso == \"EU\")[0][0]], 1))\n",
    "                + \" &deg;C\"\n",
    "                for r_i, r in enumerate(group_eu)\n",
    "            ],\n",
    "            hovertemplate=\"%{text}\",\n",
    "            name=\"\",\n",
    "            colorbar=dc,\n",
    "            marker_line_color=\"black\",\n",
    "            marker_line_width=1,\n",
    "            showscale=[True, False][i],\n",
    "        ),\n",
    "        [1, 2][i],\n",
    "        1,\n",
    "    )\n",
    "\n",
    "fs = 20\n",
    "fig[\"layout\"].update(\n",
    "    annotations=[\n",
    "        dict(\n",
    "            x=0.5,\n",
    "            y=1.05,\n",
    "            text=\"<b>NDC alignment of an equal per capita approach</b>\",\n",
    "            xref=\"paper\",\n",
    "            yref=\"paper\",\n",
    "            showarrow=False,\n",
    "            font=dict(color=\"black\", size=fs),\n",
    "        ),\n",
    "        # dict(x=0.15, y=0.52, text='<b>(b) NDC alignment of approach 2', xref='paper', yref='paper', xanchor='left', showarrow=False, font=dict(color='black', size=fs)),\n",
    "    ]\n",
    ")\n",
    "\n",
    "fig.update_geos(\n",
    "    visible=True,\n",
    "    showlakes=False,\n",
    "    lakecolor=\"rgb(255, 255, 255)\",\n",
    "    projection_type=\"natural earth\",\n",
    "    showframe=False,\n",
    "    resolution=110,\n",
    "    landcolor=\"lightgrey\",\n",
    "    showcoastlines=False,\n",
    ")\n",
    "fig.update_traces(colorbar=dict(title=dict(side=\"bottom\")))\n",
    "\n",
    "fig.update_layout(height=800, width=1450)\n",
    "fig.write_image(path_figs / \"Figure_5.svg\", scale=5)\n",
    "fig.show()"
   ]
  }
 ],
 "metadata": {
  "kernelspec": {
   "display_name": "Python 3",
   "language": "python",
   "name": "python3"
  },
  "language_info": {
   "codemirror_mode": {
    "name": "ipython",
    "version": 3
   },
   "file_extension": ".py",
   "mimetype": "text/x-python",
   "name": "python",
   "nbconvert_exporter": "python",
   "pygments_lexer": "ipython3",
   "version": "3.12.5"
  },
  "orig_nbformat": 4
 },
 "nbformat": 4,
 "nbformat_minor": 2
}
