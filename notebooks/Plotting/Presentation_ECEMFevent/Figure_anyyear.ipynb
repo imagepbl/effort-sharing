{
 "cells": [
  {
   "attachments": {},
   "cell_type": "markdown",
   "metadata": {},
   "source": [
    "## Preambule"
   ]
  },
  {
   "cell_type": "code",
   "execution_count": 1,
   "metadata": {},
   "outputs": [],
   "source": [
    "# General packages\n",
    "from pathlib import Path\n",
    "\n",
    "# Plotting\n",
    "import numpy as np\n",
    "import pandas as pd\n",
    "import xarray as xr\n",
    "from plotly.subplots import make_subplots"
   ]
  },
  {
   "attachments": {},
   "cell_type": "markdown",
   "metadata": {},
   "source": [
    "## Parameters"
   ]
  },
  {
   "cell_type": "code",
   "execution_count": 2,
   "metadata": {},
   "outputs": [],
   "source": [
    "rules = [\"PCC\", \"ECPC\", \"AP\"]\n",
    "rulecolors = [\"goldenrod\", \"tomato\", \"forestgreen\"]\n",
    "year_of_focus = 2040"
   ]
  },
  {
   "attachments": {},
   "cell_type": "markdown",
   "metadata": {},
   "source": [
    "## Paths"
   ]
  },
  {
   "cell_type": "code",
   "execution_count": 3,
   "metadata": {},
   "outputs": [],
   "source": [
    "path_main = Path(\"K:/Code/effort-sharing/\")\n",
    "path_data = Path(\"K:/Data/Data_effortsharing/DataUpdate_ongoing/\")\n",
    "path_figs = path_main / \"Figures\" / \"Paper_FairShares\""
   ]
  },
  {
   "attachments": {},
   "cell_type": "markdown",
   "metadata": {},
   "source": [
    "## Read data files"
   ]
  },
  {
   "cell_type": "code",
   "execution_count": 4,
   "metadata": {},
   "outputs": [],
   "source": [
    "xr_dataread = xr.open_dataset(path_data / \"startyear_2021/xr_dataread.nc\")\n",
    "xr_traj_yeari = xr.open_dataset(\n",
    "    path_data / (\"startyear_2021/Aggregated_files/xr_alloc_\" + str(year_of_focus) + \"_GHG_incl.nc\")\n",
    ")\n",
    "xr_alloc_yeari = xr.open_dataset(\n",
    "    path_data / (\"startyear_2021/Aggregated_files/xr_alloc_\" + str(year_of_focus) + \"_GHG_incl.nc\")\n",
    ")\n",
    "xr_total = xr.open_dataset(path_data / \"xr_policyscen.nc\")\n",
    "\n",
    "all_regions_iso = np.load(path_data / \"all_regions.npy\")\n",
    "all_regions_names = np.load(path_data / \"all_regions_names.npy\")\n",
    "all_countries_iso = np.load(path_data / \"all_countries.npy\", allow_pickle=True)\n",
    "all_countries_names = np.load(path_data / \"all_countries_names.npy\", allow_pickle=True)"
   ]
  },
  {
   "cell_type": "code",
   "execution_count": 11,
   "metadata": {},
   "outputs": [
    {
     "name": "stdout",
     "output_type": "stream",
     "text": [
      "2015 0.7060261533956329\n",
      "1990 0.7751389715054279\n"
     ]
    }
   ],
   "source": [
    "hist = xr_dataread.GHG_hist.sel(Region=\"EU\", Time=2015)\n",
    "red = (hist - xr_alloc_yeari.sel(Region=\"EU\", **settings_default).PCC.values) / hist\n",
    "print(2015, red.values)\n",
    "hist = xr_dataread.GHG_hist.sel(Region=\"EU\", Time=1990)\n",
    "red = (hist - xr_alloc_yeari.sel(Region=\"EU\", **settings_default).PCC.values) / hist\n",
    "print(1990, red.values)"
   ]
  },
  {
   "cell_type": "markdown",
   "metadata": {},
   "source": [
    "## Get Cost-optimal output"
   ]
  },
  {
   "cell_type": "code",
   "execution_count": 75,
   "metadata": {},
   "outputs": [],
   "source": [
    "df_ar6 = pd.read_csv(\"X:/user/dekkerm/Data/IPCC/AR6_ISO3/AR6_Scenarios_Database_ISO3_v1.1.csv\")\n",
    "df_ar6 = df_ar6[df_ar6.Variable.isin([\"Emissions|Kyoto Gases\", \"Policy Cost|Consumption Loss\"])]\n",
    "df_ar6 = df_ar6.reset_index(drop=True)\n",
    "\n",
    "df_ar6_meta = pd.read_excel(\n",
    "    \"X:/user/dekkerm/Data/IPCC/AR6_ISO3/AR6_Scenarios_Database_metadata_indicators_v1.1.xlsx\",\n",
    "    sheet_name=\"meta_Ch3vetted_withclimate\",\n",
    ")\n",
    "mods = np.array(df_ar6_meta.Model)\n",
    "scens = np.array(df_ar6_meta.Scenario)\n",
    "modscens_meta = np.array([mods[i] + \"|\" + scens[i] for i in range(len(scens))])\n",
    "df_ar6_meta[\"ModelScenario\"] = modscens_meta\n",
    "df_ar6_meta = df_ar6_meta[[\"ModelScenario\", \"Category\", \"Policy_category\"]]\n",
    "df_ar6_meta = df_ar6_meta[df_ar6_meta.Category.isin([\"C1\"])]\n",
    "df_ar6_meta = df_ar6_meta.reset_index(drop=True)\n",
    "ms_meta_refined = np.array(df_ar6_meta.ModelScenario)\n",
    "\n",
    "mods = np.array(df_ar6.Model)\n",
    "scens = np.array(df_ar6.Scenario)\n",
    "modscens = np.array([mods[i] + \"|\" + scens[i] for i in range(len(scens))])\n",
    "df_ar6[\"ModelScenario\"] = modscens\n",
    "df_ar6 = df_ar6.drop([\"Model\", \"Scenario\", \"Unit\"], axis=1)\n",
    "df_ar6 = df_ar6[df_ar6.ModelScenario.isin(np.array(ms_meta_refined))]\n",
    "\n",
    "dummy = df_ar6.melt(\n",
    "    id_vars=[\"Variable\", \"Region\", \"ModelScenario\"], var_name=\"Time\", value_name=\"Value\"\n",
    ")\n",
    "dummy[\"Time\"] = np.array(dummy[\"Time\"].astype(int))\n",
    "dummy = dummy.set_index([\"Variable\", \"Region\", \"ModelScenario\", \"Time\"])\n",
    "xr_scen_r = xr.Dataset.from_dataframe(dummy)\n",
    "xr_scen_r = xr_scen_r.reindex(Time=np.arange(1850, 2101))\n",
    "xr_scen_r = xr_scen_r.interpolate_na(dim=\"Time\", method=\"linear\")"
   ]
  },
  {
   "cell_type": "markdown",
   "metadata": {},
   "source": [
    "## Compute fractions"
   ]
  },
  {
   "cell_type": "markdown",
   "metadata": {},
   "source": [
    "World"
   ]
  },
  {
   "cell_type": "code",
   "execution_count": 76,
   "metadata": {},
   "outputs": [],
   "source": [
    "df_ar6 = pd.read_csv(\"X:/user/dekkerm/Data/IPCC/AR6_Scenarios_Database_World_v1.1.csv\")\n",
    "df_ar6 = df_ar6[\n",
    "    df_ar6.Variable.isin([\"Emissions|Kyoto Gases\", \"Policy Cost|Consumption Loss\", \"Price|Carbon\"])\n",
    "]\n",
    "df_ar6 = df_ar6.reset_index(drop=True)\n",
    "\n",
    "df_ar6_meta = pd.read_excel(\n",
    "    \"X:/user/dekkerm/Data/IPCC/AR6_Scenarios_Database_metadata_indicators_v1.1.xlsx\",\n",
    "    sheet_name=\"meta_Ch3vetted_withclimate\",\n",
    ")\n",
    "mods = np.array(df_ar6_meta.Model)\n",
    "scens = np.array(df_ar6_meta.Scenario)\n",
    "modscens_meta = np.array([mods[i] + \"|\" + scens[i] for i in range(len(scens))])\n",
    "df_ar6_meta[\"ModelScenario\"] = modscens_meta\n",
    "df_ar6_meta = df_ar6_meta[[\"ModelScenario\", \"Category\", \"Policy_category\"]]\n",
    "df_ar6_meta = df_ar6_meta[df_ar6_meta.Category.isin([\"C1\"])]\n",
    "df_ar6_meta = df_ar6_meta.reset_index(drop=True)\n",
    "ms_meta_refined = np.array(df_ar6_meta.ModelScenario)\n",
    "\n",
    "mods = np.array(df_ar6.Model)\n",
    "scens = np.array(df_ar6.Scenario)\n",
    "modscens = np.array([mods[i] + \"|\" + scens[i] for i in range(len(scens))])\n",
    "df_ar6[\"ModelScenario\"] = modscens\n",
    "df_ar6[\"Region\"] = \"WORLD\"\n",
    "df_ar6 = df_ar6.drop([\"Model\", \"Scenario\", \"Unit\"], axis=1)\n",
    "df_ar6 = df_ar6[df_ar6.ModelScenario.isin(np.array(ms_meta_refined))]\n",
    "\n",
    "dummy = df_ar6.melt(\n",
    "    id_vars=[\"Variable\", \"Region\", \"ModelScenario\"], var_name=\"Time\", value_name=\"Value\"\n",
    ")\n",
    "dummy[\"Time\"] = np.array(dummy[\"Time\"].astype(int))\n",
    "dummy = dummy.set_index([\"Variable\", \"Region\", \"ModelScenario\", \"Time\"])\n",
    "xr_scen = xr.Dataset.from_dataframe(dummy)\n",
    "xr_scen = xr_scen.reindex(Time=np.arange(1850, 2101))\n",
    "xr_scen = xr_scen.interpolate_na(dim=\"Time\", method=\"linear\")"
   ]
  },
  {
   "cell_type": "markdown",
   "metadata": {},
   "source": [
    "Regional"
   ]
  },
  {
   "cell_type": "code",
   "execution_count": 77,
   "metadata": {},
   "outputs": [],
   "source": [
    "df_ar6 = pd.read_csv(\"X:/user/dekkerm/Data/IPCC/AR6_ISO3/AR6_Scenarios_Database_ISO3_v1.1.csv\")\n",
    "df_ar6 = df_ar6[\n",
    "    df_ar6.Variable.isin([\"Emissions|Kyoto Gases\", \"Policy Cost|Consumption Loss\", \"Price|Carbon\"])\n",
    "]\n",
    "df_ar6 = df_ar6.reset_index(drop=True)\n",
    "\n",
    "df_ar6_meta = pd.read_excel(\n",
    "    \"X:/user/dekkerm/Data/IPCC/AR6_ISO3/AR6_Scenarios_Database_metadata_indicators_v1.1.xlsx\",\n",
    "    sheet_name=\"meta_Ch3vetted_withclimate\",\n",
    ")\n",
    "mods = np.array(df_ar6_meta.Model)\n",
    "scens = np.array(df_ar6_meta.Scenario)\n",
    "modscens_meta = np.array([mods[i] + \"|\" + scens[i] for i in range(len(scens))])\n",
    "df_ar6_meta[\"ModelScenario\"] = modscens_meta\n",
    "df_ar6_meta = df_ar6_meta[[\"ModelScenario\", \"Category\", \"Policy_category\"]]\n",
    "df_ar6_meta = df_ar6_meta[df_ar6_meta.Category.isin([\"C1\"])]\n",
    "df_ar6_meta = df_ar6_meta.reset_index(drop=True)\n",
    "ms_meta_refined = np.array(df_ar6_meta.ModelScenario)\n",
    "\n",
    "mods = np.array(df_ar6.Model)\n",
    "scens = np.array(df_ar6.Scenario)\n",
    "modscens = np.array([mods[i] + \"|\" + scens[i] for i in range(len(scens))])\n",
    "df_ar6[\"ModelScenario\"] = modscens\n",
    "df_ar6 = df_ar6.drop([\"Model\", \"Scenario\", \"Unit\"], axis=1)\n",
    "df_ar6 = df_ar6[df_ar6.ModelScenario.isin(np.array(ms_meta_refined))]\n",
    "\n",
    "dummy = df_ar6.melt(\n",
    "    id_vars=[\"Variable\", \"Region\", \"ModelScenario\"], var_name=\"Time\", value_name=\"Value\"\n",
    ")\n",
    "dummy[\"Time\"] = np.array(dummy[\"Time\"].astype(int))\n",
    "dummy = dummy.set_index([\"Variable\", \"Region\", \"ModelScenario\", \"Time\"])\n",
    "xr_scen_r = xr.Dataset.from_dataframe(dummy)\n",
    "xr_scen_r = xr_scen_r.reindex(Time=np.arange(1850, 2101))\n",
    "xr_scen_r = xr_scen_r.interpolate_na(dim=\"Time\", method=\"linear\")"
   ]
  },
  {
   "cell_type": "markdown",
   "metadata": {},
   "source": [
    "R-10 regions"
   ]
  },
  {
   "cell_type": "code",
   "execution_count": 78,
   "metadata": {},
   "outputs": [],
   "source": [
    "df_ar6 = pd.read_csv(\n",
    "    \"X:/user/dekkerm/Data/IPCC/AR6_R10/AR6_Scenarios_Database_R10_regions_v1.1.csv\"\n",
    ")\n",
    "df_ar6 = df_ar6[\n",
    "    df_ar6.Variable.isin([\"Emissions|Kyoto Gases\", \"Policy Cost|Consumption Loss\", \"Price|Carbon\"])\n",
    "]\n",
    "df_ar6 = df_ar6.reset_index(drop=True)\n",
    "\n",
    "df_ar6_meta = pd.read_excel(\n",
    "    \"X:/user/dekkerm/Data/IPCC/AR6_R10/AR6_Scenarios_Database_metadata_indicators_v1.1.xlsx\",\n",
    "    sheet_name=\"meta_Ch3vetted_withclimate\",\n",
    ")\n",
    "mods = np.array(df_ar6_meta.Model)\n",
    "scens = np.array(df_ar6_meta.Scenario)\n",
    "modscens_meta = np.array([mods[i] + \"|\" + scens[i] for i in range(len(scens))])\n",
    "df_ar6_meta[\"ModelScenario\"] = modscens_meta\n",
    "df_ar6_meta = df_ar6_meta[[\"ModelScenario\", \"Category\", \"Policy_category\"]]\n",
    "df_ar6_meta = df_ar6_meta[df_ar6_meta.Category.isin([\"C1\"])]\n",
    "df_ar6_meta = df_ar6_meta.reset_index(drop=True)\n",
    "ms_meta_refined = np.array(df_ar6_meta.ModelScenario)\n",
    "\n",
    "mods = np.array(df_ar6.Model)\n",
    "scens = np.array(df_ar6.Scenario)\n",
    "modscens = np.array([mods[i] + \"|\" + scens[i] for i in range(len(scens))])\n",
    "df_ar6[\"ModelScenario\"] = modscens\n",
    "df_ar6 = df_ar6.drop([\"Model\", \"Scenario\", \"Unit\"], axis=1)\n",
    "df_ar6 = df_ar6[df_ar6.ModelScenario.isin(np.array(ms_meta_refined))]\n",
    "\n",
    "dummy = df_ar6.melt(\n",
    "    id_vars=[\"Variable\", \"Region\", \"ModelScenario\"], var_name=\"Time\", value_name=\"Value\"\n",
    ")\n",
    "dummy[\"Time\"] = np.array(dummy[\"Time\"].astype(int))\n",
    "dummy = dummy.set_index([\"Variable\", \"Region\", \"ModelScenario\", \"Time\"])\n",
    "xr_scen_r10 = xr.Dataset.from_dataframe(dummy)\n",
    "xr_scen_r10 = xr_scen_r10.reindex(Time=np.arange(1850, 2101))\n",
    "xr_scen_r10 = xr_scen_r10.interpolate_na(dim=\"Time\", method=\"linear\")"
   ]
  },
  {
   "cell_type": "code",
   "execution_count": 79,
   "metadata": {},
   "outputs": [],
   "source": [
    "df_conv = pd.read_excel(\"X:/user/dekkerm/Data/AR6_regionclasses.xlsx\", sheet_name=\"Sheet1\")[\n",
    "    [\"ISO\", \"region_ar6_10\"]\n",
    "]\n",
    "regs = np.array(df_conv.region_ar6_10)\n",
    "regs[regs == \"Africa\"] = \"R10AFRICA\"\n",
    "regs[regs == \"Eastern Asia\"] = \"R10CHINA+\"\n",
    "regs[regs == \"Europe\"] = \"R10EUROPE\"\n",
    "regs[regs == \"Southern Asia\"] = \"R10INDIA+\"\n",
    "regs[regs == \"Latin America and Caribbean\"] = \"R10LATIN_AM\"\n",
    "regs[regs == \"Middle East\"] = \"R10MIDDLE_EAST\"\n",
    "regs[regs == \"North America\"] = \"R10NORTH_AM\"\n",
    "regs[regs == \"Asia-Pacific Developed\"] = \"R10PAC_OECD\"\n",
    "regs[regs == \"Eurasia\"] = \"R10REF_ECON\"\n",
    "regs[regs == \"South-East Asia and developing Pacific\"] = \"R10REST_ASIA\"\n",
    "df_conv[\"region_ar6_10\"] = regs"
   ]
  },
  {
   "cell_type": "code",
   "execution_count": 80,
   "metadata": {},
   "outputs": [],
   "source": [
    "native_regions = np.array(xr_scen_r.Region)\n",
    "xrs = []\n",
    "for cty in all_countries_iso:\n",
    "    if cty not in native_regions:\n",
    "        which_group = np.array(df_conv[cty == df_conv.ISO].region_ar6_10)[0]\n",
    "        group_members = np.array(df_conv[df_conv.region_ar6_10 == which_group].ISO)\n",
    "        emis_total = float(\n",
    "            xr_dataread.GHG_hist.sel(\n",
    "                Region=np.intersect1d(group_members, all_countries_iso), Time=2021\n",
    "            ).sum(dim=\"Region\")\n",
    "        )\n",
    "        emis_frac = xr_dataread.GHG_hist.sel(Region=cty, Time=2021) / emis_total\n",
    "        xrry = xr.merge(\n",
    "            [\n",
    "                xr_scen_r10.sel(Region=which_group, Variable=[\"Emissions|Kyoto Gases\"]) * emis_frac,\n",
    "                xr_scen_r10.sel(Region=which_group, Variable=[\"Price|Carbon\"]),\n",
    "            ]\n",
    "        ).expand_dims({\"Region\": [cty]})\n",
    "        xrs.append(xrry)\n",
    "xr_scen_infilled_r = xr.concat(xrs, dim=\"Region\")"
   ]
  },
  {
   "cell_type": "markdown",
   "metadata": {},
   "source": [
    "Concatenate"
   ]
  },
  {
   "cell_type": "code",
   "execution_count": 81,
   "metadata": {},
   "outputs": [],
   "source": [
    "xr_scen_all = xr.merge([xr_scen, xr_scen_r, xr_scen_infilled_r])"
   ]
  },
  {
   "cell_type": "markdown",
   "metadata": {},
   "source": [
    "## Data for plots"
   ]
  },
  {
   "cell_type": "code",
   "execution_count": 6,
   "metadata": {},
   "outputs": [],
   "source": [
    "settings_default = {\n",
    "    \"Temperature\": 1.6,\n",
    "    \"Risk\": 0.5,\n",
    "    \"NegEmis\": 0.5,\n",
    "    \"NonCO2red\": 0.5,\n",
    "    \"Timing\": \"Immediate\",\n",
    "    \"Convergence_year\": 2050,\n",
    "    \"Scenario\": \"SSP2\",\n",
    "    \"Discount_factor\": 0,\n",
    "    \"Historical_startyear\": 1990,\n",
    "}\n",
    "#'Capability_threshold': \"Th\",\n",
    "#'RCI_weight': \"Half\"}\n",
    "settings_ranges = {\n",
    "    \"Temperature\": [1.6, 2.0],\n",
    "    \"Risk\": [0.5, 0.33],\n",
    "    \"Convergence_year\": [2050, 2080],\n",
    "    \"NonCO2red\": [0.33, 0.5, 0.67],\n",
    "    \"Timing\": [\"Immediate\"],\n",
    "}\n",
    "settings_ranges2 = {\n",
    "    \"Temperature\": [1.6, 2.0],\n",
    "    \"Risk\": [0.5, 0.33],\n",
    "    \"Convergence_year\": [2050, 2080],\n",
    "    \"NonCO2red\": [0.33, 0.5, 0.67],\n",
    "    \"Timing\": [\"Immediate\"],\n",
    "}\n",
    "#'Capability_threshold': \"Th\",\n",
    "#'RCI_weight': \"Half\"}"
   ]
  },
  {
   "cell_type": "code",
   "execution_count": 83,
   "metadata": {},
   "outputs": [],
   "source": [
    "ndcs = xr_dataread.GHG_ndc.mean(dim=[\"Conditionality\", \"Ambition\"])\n",
    "data = xr_traj_yeari.sel(**settings_ranges)[[\"ECPC\", \"AP\", \"PCC\"]]\n",
    "data_max = xr.concat(\n",
    "    [data.ECPC, data.AP.expand_dims({\"Convergence_year\": [2050, 2080]}), data.PCC], dim=\"variable2\"\n",
    ").max(dim=list(settings_default.keys()) + [\"variable2\"])\n",
    "data = xr_traj_yeari.sel(**settings_default)[[\"ECPC\", \"AP\", \"PCC\"]]\n",
    "data_def = xr.concat([data.ECPC, data.AP, data.PCC], dim=\"variable2\").max(dim=\"variable2\")"
   ]
  },
  {
   "cell_type": "code",
   "execution_count": 84,
   "metadata": {},
   "outputs": [
    {
     "name": "stdout",
     "output_type": "stream",
     "text": [
      "Preferences on default settings\n",
      "-----\n"
     ]
    }
   ],
   "source": [
    "print(\"Preferences on default settings\")\n",
    "print(\"-----\")\n",
    "data = xr_traj_yeari.sel(**settings_default)[[\"ECPC\", \"AP\", \"PCC\"]]\n",
    "data_def = xr.concat([data.ECPC, data.AP, data.PCC], dim=\"variable2\").max(dim=\"variable2\")\n",
    "argmax_default = (\n",
    "    xr.concat([data.ECPC, data.AP, data.PCC], dim=\"variable2\").fillna(-9e99).argmax(dim=\"variable2\")\n",
    ")\n",
    "\n",
    "data = xr_traj_yeari.sel(**settings_ranges)[[\"ECPC\", \"AP\", \"PCC\"]]\n",
    "data_max = xr.concat(\n",
    "    [data.ECPC, data.AP.expand_dims({\"Convergence_year\": [2050, 2080]}), data.PCC], dim=\"variable2\"\n",
    ").max(dim=list(settings_default.keys()) + [\"variable2\"])\n",
    "argmax_maximum = (\n",
    "    xr.concat(\n",
    "        [data.ECPC, data.AP.expand_dims({\"Convergence_year\": [2050, 2080]}), data.PCC],\n",
    "        dim=\"variable2\",\n",
    "    )\n",
    "    .fillna(-9e99)\n",
    "    .argmax(dim=list(settings_default.keys()) + [\"variable2\"])\n",
    ")\n",
    "x = xr.concat(\n",
    "    [data.ECPC, data.AP.expand_dims({\"Convergence_year\": [2050, 2080]}), data.PCC], dim=\"variable2\"\n",
    ").fillna(-9e99)\n",
    "argmax_max = []\n",
    "maxs = x.max(dim=list(settings_default.keys()) + [\"variable2\"])\n",
    "for cty in x.Region:\n",
    "    mx = float(maxs.sel(Region=cty).values)\n",
    "    wh = np.where(x.sel(Region=cty).values == mx)\n",
    "    wh = np.array(wh)[:, 0]\n",
    "    argmax_max.append(wh[0])\n",
    "argmax_max = np.array(argmax_max)\n",
    "\n",
    "df_c = []\n",
    "df_r_d = []\n",
    "df_r_m = []\n",
    "for cty_i, cty in enumerate(all_countries_iso):\n",
    "    df_c.append(all_countries_names[cty_i])\n",
    "    df_r_d.append([\"ECPC\", \"AP\", \"PCC\"][argmax_default.sel(Region=cty).values])\n",
    "    df_r_m.append([\"ECPC\", \"AP\", \"PCC\"][argmax_max[cty_i]])\n",
    "df_dict = {\"Region\": df_c, \"Default\": df_r_d, \"Maximum\": df_r_m}\n",
    "df = pd.DataFrame(df_dict)\n",
    "df.to_csv(path_data / \"preferences_default_max.csv\")"
   ]
  },
  {
   "cell_type": "code",
   "execution_count": 85,
   "metadata": {},
   "outputs": [],
   "source": [
    "xr_policyscen = xr.open_dataset(path_data / \"xr_policyscen.nc\")\n",
    "curpols = xr_policyscen.CurPol.sel(Time=year_of_focus).mean(dim=\"Model\")\n",
    "nzs = xr_policyscen.NetZero.sel(Time=year_of_focus).mean(dim=\"Model\")"
   ]
  },
  {
   "cell_type": "code",
   "execution_count": 86,
   "metadata": {},
   "outputs": [],
   "source": [
    "path_ctygroups = \"X:/user/dekkerm/Data/\" + \"UNFCCC_Parties_Groups_noeu.xlsx\"\n",
    "df = pd.read_excel(path_ctygroups, sheet_name=\"Country groups\")\n",
    "countries_iso = np.array(df[\"Country ISO Code\"])\n",
    "countries_name = np.array(df[\"Name\"])\n",
    "countries_iso = np.array(df[\"Country ISO Code\"])\n",
    "group_eu = countries_iso[np.array(df[\"EU\"]) == 1]"
   ]
  },
  {
   "cell_type": "code",
   "execution_count": 87,
   "metadata": {},
   "outputs": [],
   "source": [
    "costopts = xr_scen_all.sel(Time=year_of_focus, Variable=\"Emissions|Kyoto Gases\").mean(\n",
    "    dim=\"ModelScenario\"\n",
    ")"
   ]
  },
  {
   "cell_type": "markdown",
   "metadata": {},
   "source": [
    "## Gaps"
   ]
  },
  {
   "cell_type": "code",
   "execution_count": 88,
   "metadata": {},
   "outputs": [],
   "source": [
    "nec = xr_dataread.GHG_globe.sel(\n",
    "    Time=year_of_focus, Temperature=1.6, Risk=0.5, NonCO2red=0.5, NegEmis=0.5, Timing=\"Immediate\"\n",
    ").values\n",
    "gap_default = float(data_def.sel(Region=countries_iso).sum() - nec)\n",
    "gap_default_perc = float((data_def.sel(Region=countries_iso).sum() - nec) / nec)\n",
    "\n",
    "gap_max = float(data_max.sel(Region=countries_iso).sum() - nec)\n",
    "gap_max_perc = float((data_max.sel(Region=countries_iso).sum() - nec) / nec)"
   ]
  },
  {
   "cell_type": "markdown",
   "metadata": {},
   "source": [
    "## Gaps"
   ]
  },
  {
   "cell_type": "code",
   "execution_count": 89,
   "metadata": {},
   "outputs": [],
   "source": [
    "wd = 0.4\n",
    "q0 = 0.1\n",
    "q1 = 0.9"
   ]
  },
  {
   "cell_type": "code",
   "execution_count": 90,
   "metadata": {},
   "outputs": [
    {
     "name": "stderr",
     "output_type": "stream",
     "text": [
      "k:\\Environments\\MyEnv\\Lib\\site-packages\\numpy\\lib\\nanfunctions.py:1563: RuntimeWarning:\n",
      "\n",
      "All-NaN slice encountered\n",
      "\n",
      "k:\\Environments\\MyEnv\\Lib\\site-packages\\numpy\\lib\\nanfunctions.py:1563: RuntimeWarning:\n",
      "\n",
      "All-NaN slice encountered\n",
      "\n"
     ]
    }
   ],
   "source": [
    "co = costopts.Value\n",
    "co_0 = xr_scen_all.sel(Time=year_of_focus, Variable=\"Emissions|Kyoto Gases\").quantile(\n",
    "    q0, dim=\"ModelScenario\"\n",
    ")\n",
    "co_1 = xr_scen_all.sel(Time=year_of_focus, Variable=\"Emissions|Kyoto Gases\").quantile(\n",
    "    q1, dim=\"ModelScenario\"\n",
    ")\n",
    "ndc = xr_dataread.GHG_ndc.mean(dim=\"Ambition\").min(dim=\"Conditionality\")\n",
    "ndc = ndc.where(ndc.Region != \"ZMB\", np.nan)\n",
    "ndc = ndc.where(ndc.Region != \"COM\", np.nan)\n",
    "fair = xr_alloc_yeari.sel(\n",
    "    Temperature=1.6,\n",
    "    Risk=0.5,\n",
    "    Timing=\"Immediate\",\n",
    "    NonCO2red=0.5,\n",
    "    NegEmis=0.5,\n",
    "    Scenario=\"SSP2\",\n",
    "    Convergence_year=2050,\n",
    "    Discount_factor=0,\n",
    "    Historical_startyear=1990,\n",
    ")[[\"PCC\", \"AP\", \"ECPC\"]]\n",
    "fair_0 = xr_alloc_yeari.sel(Temperature=1.6, Risk=0.5, Convergence_year=[2050, 2080])[\n",
    "    [\"PCC\", \"AP\", \"ECPC\"]\n",
    "].quantile(\n",
    "    0,\n",
    "    dim=[\n",
    "        \"Convergence_year\",\n",
    "        \"NegEmis\",\n",
    "        \"NonCO2red\",\n",
    "        \"Timing\",\n",
    "        \"Scenario\",\n",
    "        \"Discount_factor\",\n",
    "        \"Historical_startyear\",\n",
    "    ],\n",
    ")\n",
    "fair_1 = xr_alloc_yeari.sel(Temperature=1.6, Risk=0.5, Convergence_year=[2050, 2080])[\n",
    "    [\"PCC\", \"AP\", \"ECPC\"]\n",
    "].quantile(\n",
    "    1,\n",
    "    dim=[\n",
    "        \"Convergence_year\",\n",
    "        \"NegEmis\",\n",
    "        \"NonCO2red\",\n",
    "        \"Timing\",\n",
    "        \"Scenario\",\n",
    "        \"Discount_factor\",\n",
    "        \"Historical_startyear\",\n",
    "    ],\n",
    ")\n",
    "\n",
    "totaldev = fair - co  # If positive, receive funds, if negative, pay funds (or partially domestic)\n",
    "ndcdev = ndc - co  # If positive, more domestic action needed, and vice versa\n",
    "grey = (ndcdev - totaldev.where(totaldev > 0, 0)).where(\n",
    "    ndcdev - totaldev.where(totaldev > 0, 0) > 0, 0\n",
    ")\n",
    "red = -totaldev.where(totaldev < 0, 0)\n",
    "green = totaldev.where(totaldev > 0, 0)\n",
    "grey_super = (co - ndc).where(\n",
    "    fair < co, 0\n",
    ")  # -(ndcdev - totaldev.where(totaldev > 0, 0)).where(ndcdev - totaldev.where(totaldev > 0, 0) < 0, 0)\n",
    "grey_super = grey_super.where(grey_super > 0, 0)\n",
    "\n",
    "for cty in group_eu:  # To avoid double counting!\n",
    "    grey.loc[{\"Region\": cty}] = np.nan\n",
    "    red.loc[{\"Region\": cty}] = np.nan\n",
    "    green.loc[{\"Region\": cty}] = np.nan\n",
    "    grey_super.loc[{\"Region\": cty}] = np.nan"
   ]
  },
  {
   "cell_type": "code",
   "execution_count": 91,
   "metadata": {},
   "outputs": [],
   "source": [
    "costopt_mt = costopts.Value\n",
    "ndc_est_mt = xr_dataread.GHG_ndc.mean(dim=\"Ambition\").min(dim=\"Conditionality\")\n",
    "red_mt = xr_alloc_yeari.sel(\n",
    "    Temperature=1.6,\n",
    "    Risk=0.5,\n",
    "    Timing=\"Immediate\",\n",
    "    NonCO2red=0.5,\n",
    "    NegEmis=0.5,\n",
    "    Scenario=\"SSP2\",\n",
    "    Convergence_year=2050,\n",
    "    Discount_factor=0,\n",
    "    Historical_startyear=1990,\n",
    ")\n",
    "\n",
    "emis_2015 = xr_dataread.GHG_hist.sel(Time=2015)\n",
    "reductions = 1 - red_mt / emis_2015\n",
    "ndc_est = 1 - (ndc_est_mt / emis_2015)\n",
    "costopt = 1 - costopt_mt / emis_2015\n",
    "\n",
    "red_0 = 1 - fair_0 / emis_2015\n",
    "red_1 = 1 - fair_1 / emis_2015\n",
    "costopt_0 = 1 - co_0 / emis_2015\n",
    "costopt_1 = 1 - co_1 / emis_2015\n",
    "\n",
    "\n",
    "def data(reg):  # Reduction targets\n",
    "    return (\n",
    "        float(ndc_est.sel(Region=reg)),\n",
    "        np.array(reductions.sel(Region=reg)[[\"PCC\", \"AP\", \"ECPC\"]].to_array()),\n",
    "        float(costopt.sel(Region=reg)),\n",
    "    )\n",
    "\n",
    "\n",
    "def data_mt(reg):  # Absolute emissions levels\n",
    "    return (\n",
    "        float(ndc_est_mt.sel(Region=reg)),\n",
    "        np.array(red_mt.sel(Region=reg)[[\"PCC\", \"AP\", \"ECPC\"]].to_array()),\n",
    "        float(costopt_mt.sel(Region=reg)),\n",
    "    )"
   ]
  },
  {
   "cell_type": "markdown",
   "metadata": {},
   "source": [
    "## Finance plot"
   ]
  },
  {
   "cell_type": "code",
   "execution_count": 92,
   "metadata": {},
   "outputs": [],
   "source": [
    "col_receive = \"forestgreen\"\n",
    "dx = 0.03\n",
    "opac = 0.5\n",
    "\n",
    "\n",
    "def areas(fig, ndc_estimate, reductions_i, costopt_i, row, col, yref=1):\n",
    "    for i in range(3):\n",
    "        ymin = yref + -wd * 0.3 + [-wd * 0.7, 0, wd * 0.7][i]\n",
    "        ymax = yref + wd * 0.3 + [-wd * 0.7, 0, wd * 0.7][i]\n",
    "        if reductions_i[i] > ndc_estimate:\n",
    "            if costopt_i < reductions_i[i] and costopt_i > ndc_estimate:\n",
    "                fig.add_shape(\n",
    "                    row=row,\n",
    "                    col=col,\n",
    "                    type=\"rect\",  # Draw a rectangle\n",
    "                    x0=ndc_estimate + dx,\n",
    "                    x1=costopt_i - dx,  # The range of the box (between min and max values)\n",
    "                    y0=ymin,\n",
    "                    y1=ymax,  # Position the box on the y-axis (with some vertical padding)\n",
    "                    line=dict(color=\"black\", width=0),  # Border color and width of the box\n",
    "                    name=\"Increase domestic ambition\",\n",
    "                    showlegend=False,\n",
    "                    opacity=opac,\n",
    "                    legendgroup=3,\n",
    "                    fillcolor=\"grey\",  # Transparent fill color (adjust alpha for transparency)\n",
    "                )\n",
    "            elif costopt_i > reductions_i[i]:\n",
    "                fig.add_shape(\n",
    "                    row=row,\n",
    "                    col=col,\n",
    "                    type=\"rect\",  # Draw a rectangle\n",
    "                    x0=ndc_estimate + dx,\n",
    "                    x1=reductions_i[i] - dx,  # The range of the box (between min and max values)\n",
    "                    y0=ymin,\n",
    "                    y1=ymax,  # Position the box on the y-axis (with some vertical padding)\n",
    "                    line=dict(color=\"black\", width=0),  # Border color and width of the box\n",
    "                    opacity=opac,\n",
    "                    fillcolor=\"grey\",  # Transparent fill color (adjust alpha for transparency)\n",
    "                )\n",
    "                fig.add_shape(\n",
    "                    row=row,\n",
    "                    col=col,\n",
    "                    type=\"rect\",  # Draw a rectangle\n",
    "                    x0=reductions_i[i] + dx,\n",
    "                    x1=costopt_i - dx,  # The range of the box (between min and max values)\n",
    "                    y0=ymin,\n",
    "                    y1=ymax,  # Position the box on the y-axis (with some vertical padding)\n",
    "                    line=dict(color=\"black\", width=0),  # Border color and width of the box\n",
    "                    opacity=opac,\n",
    "                    fillcolor=col_receive,  # Transparent fill color (adjust alpha for transparency)\n",
    "                )\n",
    "            elif costopt_i < ndc_estimate - 0.0425:\n",
    "                fig.add_shape(\n",
    "                    row=row,\n",
    "                    col=col,\n",
    "                    type=\"rect\",  # Draw a rectangle\n",
    "                    x0=costopt_i + dx,\n",
    "                    x1=ndc_estimate - dx,  # The range of the box (between min and max values)\n",
    "                    y0=ymin,\n",
    "                    y1=ymax,  # Position the box on the y-axis (with some vertical padding)\n",
    "                    line=dict(color=\"black\", width=0),  # Border color and width of the box\n",
    "                    opacity=opac,\n",
    "                    fillcolor=\"rosybrown\",  # Transparent fill color (adjust alpha for transparency)\n",
    "                )\n",
    "        # Pay abroad\n",
    "        if reductions_i[i] > ndc_estimate:\n",
    "            if costopt_i < ndc_estimate:\n",
    "                fig.add_shape(\n",
    "                    row=row,\n",
    "                    col=col,\n",
    "                    type=\"rect\",  # Draw a rectangle\n",
    "                    x0=ndc_estimate + dx,\n",
    "                    x1=reductions_i[i] - dx,  # The range of the box (between min and max values)\n",
    "                    y0=ymin,\n",
    "                    y1=ymax,  # Position the box on the y-axis (with some vertical padding)\n",
    "                    line=dict(color=\"black\", width=0),  # Border color and width of the box\n",
    "                    name=\"Pay for mitigation abroad\",\n",
    "                    showlegend=False,\n",
    "                    opacity=opac,\n",
    "                    legendgroup=3,\n",
    "                    fillcolor=\"tomato\",  # Transparent fill color (adjust alpha for transparency)\n",
    "                )\n",
    "            elif costopt_i < reductions_i[i]:\n",
    "                fig.add_shape(\n",
    "                    row=row,\n",
    "                    col=col,\n",
    "                    type=\"rect\",  # Draw a rectangle\n",
    "                    x0=costopt_i + dx,\n",
    "                    x1=reductions_i[i] - dx,  # The range of the box (between min and max values)\n",
    "                    y0=ymin,\n",
    "                    y1=ymax,  # Position the box on the y-axis (with some vertical padding)\n",
    "                    line=dict(color=\"black\", width=0),  # Border color and width of the box\n",
    "                    opacity=opac,\n",
    "                    fillcolor=\"tomato\",  # Transparent fill color (adjust alpha for transparency)\n",
    "                )\n",
    "        # Receive from abroad\n",
    "        if reductions_i[i] < ndc_estimate:\n",
    "            fig.add_shape(\n",
    "                row=row,\n",
    "                col=col,\n",
    "                type=\"rect\",  # Draw a rectangle\n",
    "                x0=reductions_i[i] + dx,\n",
    "                x1=ndc_estimate - dx,  # The range of the box (between min and max values)\n",
    "                y0=ymin,\n",
    "                y1=ymax,  # Position the box on the y-axis (with some vertical padding)\n",
    "                line=dict(color=\"black\", width=0),  # Border color and width of the box\n",
    "                name=\"Receive mitigation payment from abroad\",\n",
    "                showlegend=False,\n",
    "                opacity=opac,\n",
    "                legendgroup=3,\n",
    "                fillcolor=col_receive,  # Transparent fill color (adjust alpha for transparency)\n",
    "            )\n",
    "            fig.add_shape(\n",
    "                row=row,\n",
    "                col=col,\n",
    "                type=\"rect\",  # Draw a rectangle\n",
    "                x0=ndc_estimate + dx,\n",
    "                x1=costopt_i - dx,  # The range of the box (between min and max values)\n",
    "                y0=ymin,\n",
    "                y1=ymax,  # Position the box on the y-axis (with some vertical padding)\n",
    "                line=dict(color=\"black\", width=0),  # Border color and width of the box\n",
    "                name=\"Receive mitigation payment from abroad\",\n",
    "                showlegend=False,\n",
    "                opacity=opac,\n",
    "                legendgroup=3,\n",
    "                fillcolor=col_receive,  # Transparent fill color (adjust alpha for transparency)\n",
    "            )"
   ]
  },
  {
   "cell_type": "code",
   "execution_count": 93,
   "metadata": {},
   "outputs": [
    {
     "data": {
      "application/vnd.plotly.v1+json": {
       "config": {
        "plotlyServerURL": "https://plot.ly"
       },
       "data": [],
       "layout": {
        "annotations": [
         {
          "font": {
           "color": "black",
           "size": 18
          },
          "showarrow": false,
          "text": "<b>NDC",
          "x": 0.05,
          "xref": "paper",
          "y": 1.08,
          "yref": "paper"
         },
         {
          "font": {
           "color": "saddlebrown",
           "size": 18
          },
          "showarrow": false,
          "text": "<b>Cost<br>optimal",
          "x": 0.17,
          "xref": "paper",
          "y": 1.1,
          "yref": "paper"
         },
         {
          "font": {
           "color": "black",
           "size": 18
          },
          "showarrow": false,
          "text": "<b>Fair targets<br>according to<br><span style='color: purple;'>ECPC</span>, <span style='color: goldenrod;'>AP</span> and <span style='color: navy;'>PCC</span>",
          "x": 0.45,
          "xref": "paper",
          "y": 1.1,
          "yref": "paper"
         },
         {
          "align": "left",
          "font": {
           "color": "black",
           "size": 16
          },
          "showarrow": false,
          "text": "<b>Example<br>country",
          "x": -0.05,
          "xref": "paper",
          "y": 0.94,
          "yref": "paper"
         },
         {
          "align": "left",
          "font": {
           "color": "darkred",
           "size": 16
          },
          "showarrow": false,
          "text": "<b>Provide finance",
          "x": 0.27,
          "xref": "paper",
          "y": 0.98,
          "yref": "paper"
         },
         {
          "align": "left",
          "font": {
           "color": "forestgreen",
           "size": 16
          },
          "showarrow": false,
          "text": "<b>Receive<br>finance",
          "x": 0.29,
          "xref": "paper",
          "y": 0.91,
          "yref": "paper"
         },
         {
          "align": "center",
          "font": {
           "color": "grey",
           "size": 18
          },
          "showarrow": false,
          "text": "<b>Fund<br>domestic<br>mitigation",
          "x": 0.76,
          "xref": "paper",
          "y": 1.1,
          "yref": "paper"
         },
         {
          "align": "center",
          "font": {
           "color": "forestgreen",
           "size": 18
          },
          "showarrow": false,
          "text": "<b>Receive<br>finance",
          "x": 0.88,
          "xref": "paper",
          "y": 1.1,
          "yref": "paper"
         },
         {
          "align": "center",
          "font": {
           "color": "tomato",
           "size": 18
          },
          "showarrow": false,
          "text": "<b>Provide<br>finance",
          "x": 1.01,
          "xref": "paper",
          "y": 1.1,
          "yref": "paper"
         },
         {
          "align": "center",
          "font": {
           "color": "grey",
           "size": 15
          },
          "showarrow": false,
          "text": "(Gt CO<sub>2</sub>e)",
          "x": 0.75,
          "xref": "paper",
          "y": 1.01,
          "yref": "paper"
         },
         {
          "align": "center",
          "font": {
           "color": "forestgreen",
           "size": 15
          },
          "showarrow": false,
          "text": "(Gt CO<sub>2</sub>e)",
          "x": 0.88,
          "xref": "paper",
          "y": 1.01,
          "yref": "paper"
         },
         {
          "align": "center",
          "font": {
           "color": "tomato",
           "size": 15
          },
          "showarrow": false,
          "text": "(Gt CO<sub>2</sub>e)",
          "x": 1.01,
          "xref": "paper",
          "y": 1.01,
          "yref": "paper"
         },
         {
          "font": {
           "color": "black",
           "size": 15
          },
          "showarrow": false,
          "text": "Emissions reductions by 2040 w.r.t. 2015",
          "x": 0.25,
          "xanchor": "center",
          "xref": "paper",
          "y": -0.08,
          "yref": "paper"
         },
         {
          "font": {
           "color": "grey",
           "size": 17
          },
          "showarrow": false,
          "text": "1.0",
          "x": 0.1,
          "xref": "x3",
          "y": 0.8,
          "yref": "y3"
         },
         {
          "font": {
           "color": "grey",
           "size": 17
          },
          "showarrow": false,
          "text": "0.5",
          "x": 0.1,
          "xref": "x3",
          "y": 0.5,
          "yref": "y3"
         },
         {
          "font": {
           "color": "grey",
           "size": 17
          },
          "showarrow": false,
          "text": "0",
          "x": 0.1,
          "xref": "x3",
          "y": 0.2,
          "yref": "y3"
         },
         {
          "font": {
           "color": "forestgreen",
           "size": 17
          },
          "showarrow": false,
          "text": "0",
          "x": 0.5,
          "xref": "x3",
          "y": 0.8,
          "yref": "y3"
         },
         {
          "font": {
           "color": "forestgreen",
           "size": 17
          },
          "showarrow": false,
          "text": "0.5",
          "x": 0.5,
          "xref": "x3",
          "y": 0.5,
          "yref": "y3"
         },
         {
          "font": {
           "color": "forestgreen",
           "size": 17
          },
          "showarrow": false,
          "text": "1.0",
          "x": 0.5,
          "xref": "x3",
          "y": 0.2,
          "yref": "y3"
         },
         {
          "font": {
           "color": "tomato",
           "size": 17
          },
          "showarrow": false,
          "text": "4.0",
          "x": 0.9,
          "xref": "x3",
          "y": 0.8,
          "yref": "y3"
         },
         {
          "font": {
           "color": "tomato",
           "size": 17
          },
          "showarrow": false,
          "text": "0",
          "x": 0.9,
          "xref": "x3",
          "y": 0.5,
          "yref": "y3"
         },
         {
          "font": {
           "color": "tomato",
           "size": 17
          },
          "showarrow": false,
          "text": "0",
          "x": 0.9,
          "xref": "x3",
          "y": 0.2,
          "yref": "y3"
         },
         {
          "align": "left",
          "font": {
           "color": "black",
           "size": 16
          },
          "showarrow": false,
          "text": "Nigeria",
          "x": -0.05,
          "xref": "paper",
          "y": 0,
          "yref": "y4"
         },
         {
          "font": {
           "color": "grey",
           "size": 17
          },
          "showarrow": false,
          "text": "0",
          "x": 0.1,
          "xref": "x6",
          "y": 0,
          "yref": "y6"
         },
         {
          "font": {
           "color": "forestgreen",
           "size": 17
          },
          "showarrow": false,
          "text": "0.2-1.2",
          "x": 0.5,
          "xref": "x6",
          "y": 0,
          "yref": "y6"
         },
         {
          "font": {
           "color": "tomato",
           "size": 17
          },
          "showarrow": false,
          "text": "0",
          "x": 0.9,
          "xref": "x6",
          "y": 0,
          "yref": "y6"
         },
         {
          "align": "left",
          "font": {
           "color": "black",
           "size": 16
          },
          "showarrow": false,
          "text": "India",
          "x": -0.05,
          "xref": "paper",
          "y": 1.25,
          "yref": "y4"
         },
         {
          "font": {
           "color": "grey",
           "size": 17
          },
          "showarrow": false,
          "text": "0.0-3.0",
          "x": 0.1,
          "xref": "x6",
          "y": 1.25,
          "yref": "y6"
         },
         {
          "font": {
           "color": "forestgreen",
           "size": 17
          },
          "showarrow": false,
          "text": "0.6-6.1",
          "x": 0.5,
          "xref": "x6",
          "y": 1.25,
          "yref": "y6"
         },
         {
          "font": {
           "color": "tomato",
           "size": 17
          },
          "showarrow": false,
          "text": "0",
          "x": 0.9,
          "xref": "x6",
          "y": 1.25,
          "yref": "y6"
         },
         {
          "align": "left",
          "font": {
           "color": "black",
           "size": 16
          },
          "showarrow": false,
          "text": "China",
          "x": -0.05,
          "xref": "paper",
          "y": 2.5,
          "yref": "y4"
         },
         {
          "font": {
           "color": "grey",
           "size": 17
          },
          "showarrow": false,
          "text": "9.2-9.4",
          "x": 0.1,
          "xref": "x6",
          "y": 2.5,
          "yref": "y6"
         },
         {
          "font": {
           "color": "forestgreen",
           "size": 17
          },
          "showarrow": false,
          "text": "0.0-0.2",
          "x": 0.5,
          "xref": "x6",
          "y": 2.5,
          "yref": "y6"
         },
         {
          "font": {
           "color": "tomato",
           "size": 17
          },
          "showarrow": false,
          "text": "0.0-1.6",
          "x": 0.9,
          "xref": "x6",
          "y": 2.5,
          "yref": "y6"
         },
         {
          "align": "left",
          "font": {
           "color": "black",
           "size": 16
          },
          "showarrow": false,
          "text": "Mexico",
          "x": -0.05,
          "xref": "paper",
          "y": 3.75,
          "yref": "y4"
         },
         {
          "font": {
           "color": "grey",
           "size": 17
          },
          "showarrow": false,
          "text": "0.6-0.7",
          "x": 0.1,
          "xref": "x6",
          "y": 3.75,
          "yref": "y6"
         },
         {
          "font": {
           "color": "forestgreen",
           "size": 17
          },
          "showarrow": false,
          "text": "0.2-0.2",
          "x": 0.5,
          "xref": "x6",
          "y": 3.75,
          "yref": "y6"
         },
         {
          "font": {
           "color": "tomato",
           "size": 17
          },
          "showarrow": false,
          "text": "0",
          "x": 0.9,
          "xref": "x6",
          "y": 3.75,
          "yref": "y6"
         },
         {
          "align": "left",
          "font": {
           "color": "black",
           "size": 16
          },
          "showarrow": false,
          "text": "Indonesia",
          "x": -0.05,
          "xref": "paper",
          "y": 5,
          "yref": "y4"
         },
         {
          "font": {
           "color": "grey",
           "size": 17
          },
          "showarrow": false,
          "text": "0.5-1.1",
          "x": 0.1,
          "xref": "x6",
          "y": 5,
          "yref": "y6"
         },
         {
          "font": {
           "color": "forestgreen",
           "size": 17
          },
          "showarrow": false,
          "text": "0.0-0.6",
          "x": 0.5,
          "xref": "x6",
          "y": 5,
          "yref": "y6"
         },
         {
          "font": {
           "color": "tomato",
           "size": 17
          },
          "showarrow": false,
          "text": "0.0-0.1",
          "x": 0.9,
          "xref": "x6",
          "y": 5,
          "yref": "y6"
         },
         {
          "align": "left",
          "font": {
           "color": "black",
           "size": 16
          },
          "showarrow": false,
          "text": "South<br>Africa",
          "x": -0.05,
          "xref": "paper",
          "y": 6.25,
          "yref": "y4"
         },
         {
          "font": {
           "color": "grey",
           "size": 17
          },
          "showarrow": false,
          "text": "0.2-0.3",
          "x": 0.1,
          "xref": "x6",
          "y": 6.25,
          "yref": "y6"
         },
         {
          "font": {
           "color": "forestgreen",
           "size": 17
          },
          "showarrow": false,
          "text": "0.0-0.1",
          "x": 0.5,
          "xref": "x6",
          "y": 6.25,
          "yref": "y6"
         },
         {
          "font": {
           "color": "tomato",
           "size": 17
          },
          "showarrow": false,
          "text": "0.0-0.1",
          "x": 0.9,
          "xref": "x6",
          "y": 6.25,
          "yref": "y6"
         },
         {
          "align": "left",
          "font": {
           "color": "black",
           "size": 16
          },
          "showarrow": false,
          "text": "Brazil",
          "x": -0.05,
          "xref": "paper",
          "y": 7.5,
          "yref": "y4"
         },
         {
          "font": {
           "color": "grey",
           "size": 17
          },
          "showarrow": false,
          "text": "1.0-2.0",
          "x": 0.1,
          "xref": "x6",
          "y": 7.5,
          "yref": "y6"
         },
         {
          "font": {
           "color": "forestgreen",
           "size": 17
          },
          "showarrow": false,
          "text": "0.0-1.0",
          "x": 0.5,
          "xref": "x6",
          "y": 7.5,
          "yref": "y6"
         },
         {
          "font": {
           "color": "tomato",
           "size": 17
          },
          "showarrow": false,
          "text": "0.0-0.5",
          "x": 0.9,
          "xref": "x6",
          "y": 7.5,
          "yref": "y6"
         },
         {
          "align": "left",
          "font": {
           "color": "black",
           "size": 16
          },
          "showarrow": false,
          "text": "Russian<br>Federation",
          "x": -0.05,
          "xref": "paper",
          "y": 8.75,
          "yref": "y4"
         },
         {
          "font": {
           "color": "grey",
           "size": 17
          },
          "showarrow": false,
          "text": "2.7",
          "x": 0.1,
          "xref": "x6",
          "y": 8.75,
          "yref": "y6"
         },
         {
          "font": {
           "color": "forestgreen",
           "size": 17
          },
          "showarrow": false,
          "text": "0",
          "x": 0.5,
          "xref": "x6",
          "y": 8.75,
          "yref": "y6"
         },
         {
          "font": {
           "color": "tomato",
           "size": 17
          },
          "showarrow": false,
          "text": "0.3-1.6",
          "x": 0.9,
          "xref": "x6",
          "y": 8.75,
          "yref": "y6"
         },
         {
          "align": "left",
          "font": {
           "color": "black",
           "size": 16
          },
          "showarrow": false,
          "text": "Saudi<br>Arabia",
          "x": -0.05,
          "xref": "paper",
          "y": 10,
          "yref": "y4"
         },
         {
          "font": {
           "color": "grey",
           "size": 17
          },
          "showarrow": false,
          "text": "0.7",
          "x": 0.1,
          "xref": "x6",
          "y": 10,
          "yref": "y6"
         },
         {
          "font": {
           "color": "forestgreen",
           "size": 17
          },
          "showarrow": false,
          "text": "0",
          "x": 0.5,
          "xref": "x6",
          "y": 10,
          "yref": "y6"
         },
         {
          "font": {
           "color": "tomato",
           "size": 17
          },
          "showarrow": false,
          "text": "0.3-0.7",
          "x": 0.9,
          "xref": "x6",
          "y": 10,
          "yref": "y6"
         },
         {
          "align": "left",
          "font": {
           "color": "black",
           "size": 16
          },
          "showarrow": false,
          "text": "Japan",
          "x": -0.05,
          "xref": "paper",
          "y": 11.25,
          "yref": "y4"
         },
         {
          "font": {
           "color": "grey",
           "size": 17
          },
          "showarrow": false,
          "text": "0.5-0.6",
          "x": 0.1,
          "xref": "x6",
          "y": 11.25,
          "yref": "y6"
         },
         {
          "font": {
           "color": "forestgreen",
           "size": 17
          },
          "showarrow": false,
          "text": "0.0-0.1",
          "x": 0.5,
          "xref": "x6",
          "y": 11.25,
          "yref": "y6"
         },
         {
          "font": {
           "color": "tomato",
           "size": 17
          },
          "showarrow": false,
          "text": "0.0-0.4",
          "x": 0.9,
          "xref": "x6",
          "y": 11.25,
          "yref": "y6"
         },
         {
          "align": "left",
          "font": {
           "color": "black",
           "size": 16
          },
          "showarrow": false,
          "text": "European<br>Union",
          "x": -0.05,
          "xref": "paper",
          "y": 12.5,
          "yref": "y4"
         },
         {
          "font": {
           "color": "grey",
           "size": 17
          },
          "showarrow": false,
          "text": "1.2-1.2",
          "x": 0.1,
          "xref": "x6",
          "y": 12.5,
          "yref": "y6"
         },
         {
          "font": {
           "color": "forestgreen",
           "size": 17
          },
          "showarrow": false,
          "text": "0.0-0.1",
          "x": 0.5,
          "xref": "x6",
          "y": 12.5,
          "yref": "y6"
         },
         {
          "font": {
           "color": "tomato",
           "size": 17
          },
          "showarrow": false,
          "text": "0.0-1.1",
          "x": 0.9,
          "xref": "x6",
          "y": 12.5,
          "yref": "y6"
         },
         {
          "align": "left",
          "font": {
           "color": "black",
           "size": 16
          },
          "showarrow": false,
          "text": "United<br>States",
          "x": -0.05,
          "xref": "paper",
          "y": 13.75,
          "yref": "y4"
         },
         {
          "font": {
           "color": "grey",
           "size": 17
          },
          "showarrow": false,
          "text": "1.8",
          "x": 0.1,
          "xref": "x6",
          "y": 13.75,
          "yref": "y6"
         },
         {
          "font": {
           "color": "forestgreen",
           "size": 17
          },
          "showarrow": false,
          "text": "0",
          "x": 0.5,
          "xref": "x6",
          "y": 13.75,
          "yref": "y6"
         },
         {
          "font": {
           "color": "tomato",
           "size": 17
          },
          "showarrow": false,
          "text": "0.4-4.7",
          "x": 0.9,
          "xref": "x6",
          "y": 13.75,
          "yref": "y6"
         }
        ],
        "barmode": "group",
        "height": 1000,
        "paper_bgcolor": "white",
        "plot_bgcolor": "white",
        "shapes": [
         {
          "line": {
           "color": "black",
           "width": 2
          },
          "type": "line",
          "x0": 0.08,
          "x1": 0.11,
          "xref": "paper",
          "y0": 1.04,
          "y1": 0.99,
          "yref": "paper"
         },
         {
          "line": {
           "color": "black",
           "width": 2
          },
          "type": "line",
          "x0": 0.22,
          "x1": 0.2,
          "xref": "paper",
          "y0": 1.04,
          "y1": 0.99,
          "yref": "paper"
         },
         {
          "line": {
           "color": "black",
           "width": 2
          },
          "type": "line",
          "x0": 0.45,
          "x1": 0.49,
          "xref": "paper",
          "y0": 1.01,
          "y1": 0.99,
          "yref": "paper"
         },
         {
          "line": {
           "color": "black",
           "width": 2
          },
          "type": "line",
          "x0": 0.28,
          "x1": 0.18,
          "xref": "paper",
          "y0": 0.89,
          "y1": 0.91,
          "yref": "paper"
         },
         {
          "line": {
           "color": "black",
           "width": 2
          },
          "type": "line",
          "x0": 0.28,
          "x1": 0.18,
          "xref": "paper",
          "y0": 0.89,
          "y1": 0.87,
          "yref": "paper"
         },
         {
          "legendgroup": "2",
          "line": {
           "color": "black",
           "dash": "dot",
           "width": 5
          },
          "name": "NDC",
          "showlegend": false,
          "type": "line",
          "x0": -0.3347268317589993,
          "x1": -0.3347268317589993,
          "xref": "x",
          "y0": 0.6,
          "y1": 1.4,
          "yref": "y"
         },
         {
          "legendgroup": "2",
          "line": {
           "color": "steelblue",
           "width": 5
          },
          "name": "Per capita convergence",
          "showlegend": false,
          "type": "line",
          "x0": -0.5,
          "x1": -0.5,
          "xref": "x",
          "y0": 0.6000000000000001,
          "y1": 0.8400000000000001,
          "yref": "y"
         },
         {
          "legendgroup": "2",
          "line": {
           "color": "goldenrod",
           "width": 5
          },
          "name": "Ability to pay",
          "showlegend": false,
          "type": "line",
          "x0": -0.1,
          "x1": -0.1,
          "xref": "x",
          "y0": 0.88,
          "y1": 1.12,
          "yref": "y"
         },
         {
          "legendgroup": "2",
          "line": {
           "color": "purple",
           "width": 5
          },
          "name": "Equal cumulative per capita",
          "showlegend": false,
          "type": "line",
          "x0": 1.349945363066052,
          "x1": 1.349945363066052,
          "xref": "x",
          "y0": 1.16,
          "y1": 1.4,
          "yref": "y"
         },
         {
          "fillcolor": "forestgreen",
          "legendgroup": "3",
          "line": {
           "color": "black",
           "width": 0
          },
          "name": "Receive mitigation payment from abroad",
          "opacity": 0.5,
          "showlegend": false,
          "type": "rect",
          "x0": -0.47,
          "x1": -0.36472683175899934,
          "xref": "x",
          "y0": 0.6000000000000001,
          "y1": 0.8400000000000001,
          "yref": "y"
         },
         {
          "fillcolor": "forestgreen",
          "legendgroup": "3",
          "line": {
           "color": "black",
           "width": 0
          },
          "name": "Receive mitigation payment from abroad",
          "opacity": 0.5,
          "showlegend": false,
          "type": "rect",
          "x0": -0.3047268317589993,
          "x1": 0.44266120846302026,
          "xref": "x",
          "y0": 0.6000000000000001,
          "y1": 0.8400000000000001,
          "yref": "y"
         },
         {
          "fillcolor": "grey",
          "line": {
           "color": "black",
           "width": 0
          },
          "opacity": 0.5,
          "type": "rect",
          "x0": -0.3047268317589993,
          "x1": -0.13,
          "xref": "x",
          "y0": 0.88,
          "y1": 1.12,
          "yref": "y"
         },
         {
          "fillcolor": "forestgreen",
          "line": {
           "color": "black",
           "width": 0
          },
          "opacity": 0.5,
          "type": "rect",
          "x0": -0.07,
          "x1": 0.44266120846302026,
          "xref": "x",
          "y0": 0.88,
          "y1": 1.12,
          "yref": "y"
         },
         {
          "fillcolor": "grey",
          "legendgroup": "3",
          "line": {
           "color": "black",
           "width": 0
          },
          "name": "Increase domestic ambition",
          "opacity": 0.5,
          "showlegend": false,
          "type": "rect",
          "x0": -0.3047268317589993,
          "x1": 0.44266120846302026,
          "xref": "x",
          "y0": 1.16,
          "y1": 1.4,
          "yref": "y"
         },
         {
          "fillcolor": "tomato",
          "line": {
           "color": "black",
           "width": 0
          },
          "opacity": 0.5,
          "type": "rect",
          "x0": 0.5026612084630203,
          "x1": 1.319945363066052,
          "xref": "x",
          "y0": 1.16,
          "y1": 1.4,
          "yref": "y"
         },
         {
          "legendgroup": "2",
          "line": {
           "color": "saddlebrown",
           "width": 5
          },
          "name": "Cost optimal",
          "showlegend": false,
          "type": "line",
          "x0": 0.4726612084630203,
          "x1": 0.4726612084630203,
          "xref": "x",
          "y0": 0.6,
          "y1": 1.4,
          "yref": "y"
         },
         {
          "line": {
           "color": "black",
           "dash": "dash",
           "width": 3
          },
          "type": "line",
          "x0": 0,
          "x1": 0,
          "xref": "x",
          "y0": 0.5,
          "y1": 2,
          "yref": "y"
         },
         {
          "legendgroup": "2",
          "line": {
           "color": "black",
           "dash": "dot",
           "width": 5
          },
          "name": "NDC",
          "showlegend": false,
          "type": "line",
          "x0": 0.32253579909722796,
          "x1": 0.32253579909722796,
          "xref": "x4",
          "y0": -0.4,
          "y1": 0.4,
          "yref": "y4"
         },
         {
          "legendgroup": "2",
          "line": {
           "color": "saddlebrown",
           "width": 5
          },
          "name": "Cost optimal",
          "showlegend": false,
          "type": "line",
          "x0": 0.6882959806327682,
          "x1": 0.6882959806327682,
          "xref": "x4",
          "y0": -0.4,
          "y1": 0.4,
          "yref": "y4"
         },
         {
          "legendgroup": "2",
          "line": {
           "color": "steelblue",
           "width": 5
          },
          "name": "Per capita convergence",
          "showlegend": false,
          "type": "line",
          "x0": 0.1204167743295752,
          "x1": 0.1204167743295752,
          "xref": "x4",
          "y0": -0.4,
          "y1": -0.15999999999999998,
          "yref": "y4"
         },
         {
          "legendgroup": "2",
          "line": {
           "color": "goldenrod",
           "width": 5
          },
          "name": "Ability to pay",
          "showlegend": false,
          "type": "line",
          "x0": -0.33461657169523984,
          "x1": -0.33461657169523984,
          "xref": "x4",
          "y0": -0.12,
          "y1": 0.12,
          "yref": "y4"
         },
         {
          "legendgroup": "2",
          "line": {
           "color": "purple",
           "width": 5
          },
          "name": "Equal cumulative per capita",
          "showlegend": false,
          "type": "line",
          "x0": -2.1128015883917177,
          "x1": -2.1128015883917177,
          "xref": "x4",
          "y0": 0.15999999999999998,
          "y1": 0.4,
          "yref": "y4"
         },
         {
          "fillcolor": "forestgreen",
          "legendgroup": "3",
          "line": {
           "color": "black",
           "width": 0
          },
          "name": "Receive mitigation payment from abroad",
          "opacity": 0.5,
          "showlegend": false,
          "type": "rect",
          "x0": 0.1504167743295752,
          "x1": 0.29253579909722793,
          "xref": "x4",
          "y0": -0.4,
          "y1": -0.15999999999999998,
          "yref": "y4"
         },
         {
          "fillcolor": "forestgreen",
          "legendgroup": "3",
          "line": {
           "color": "black",
           "width": 0
          },
          "name": "Receive mitigation payment from abroad",
          "opacity": 0.5,
          "showlegend": false,
          "type": "rect",
          "x0": 0.352535799097228,
          "x1": 0.6582959806327682,
          "xref": "x4",
          "y0": -0.4,
          "y1": -0.15999999999999998,
          "yref": "y4"
         },
         {
          "fillcolor": "forestgreen",
          "legendgroup": "3",
          "line": {
           "color": "black",
           "width": 0
          },
          "name": "Receive mitigation payment from abroad",
          "opacity": 0.5,
          "showlegend": false,
          "type": "rect",
          "x0": -0.3046165716952398,
          "x1": 0.29253579909722793,
          "xref": "x4",
          "y0": -0.12,
          "y1": 0.12,
          "yref": "y4"
         },
         {
          "fillcolor": "forestgreen",
          "legendgroup": "3",
          "line": {
           "color": "black",
           "width": 0
          },
          "name": "Receive mitigation payment from abroad",
          "opacity": 0.5,
          "showlegend": false,
          "type": "rect",
          "x0": 0.352535799097228,
          "x1": 0.6582959806327682,
          "xref": "x4",
          "y0": -0.12,
          "y1": 0.12,
          "yref": "y4"
         },
         {
          "fillcolor": "forestgreen",
          "legendgroup": "3",
          "line": {
           "color": "black",
           "width": 0
          },
          "name": "Receive mitigation payment from abroad",
          "opacity": 0.5,
          "showlegend": false,
          "type": "rect",
          "x0": -2.082801588391718,
          "x1": 0.29253579909722793,
          "xref": "x4",
          "y0": 0.15999999999999998,
          "y1": 0.4,
          "yref": "y4"
         },
         {
          "fillcolor": "forestgreen",
          "legendgroup": "3",
          "line": {
           "color": "black",
           "width": 0
          },
          "name": "Receive mitigation payment from abroad",
          "opacity": 0.5,
          "showlegend": false,
          "type": "rect",
          "x0": 0.352535799097228,
          "x1": 0.6582959806327682,
          "xref": "x4",
          "y0": 0.15999999999999998,
          "y1": 0.4,
          "yref": "y4"
         },
         {
          "legendgroup": "2",
          "line": {
           "color": "black",
           "dash": "dot",
           "width": 5
          },
          "name": "NDC",
          "showlegend": false,
          "type": "line",
          "x0": -0.6478785441383472,
          "x1": -0.6478785441383472,
          "xref": "x4",
          "y0": 0.85,
          "y1": 1.65,
          "yref": "y4"
         },
         {
          "legendgroup": "2",
          "line": {
           "color": "saddlebrown",
           "width": 5
          },
          "name": "Cost optimal",
          "showlegend": false,
          "type": "line",
          "x0": 0.415040336575056,
          "x1": 0.415040336575056,
          "xref": "x4",
          "y0": 0.85,
          "y1": 1.65,
          "yref": "y4"
         },
         {
          "legendgroup": "2",
          "line": {
           "color": "steelblue",
           "width": 5
          },
          "name": "Per capita convergence",
          "showlegend": false,
          "type": "line",
          "x0": 0.2376423151823137,
          "x1": 0.2376423151823137,
          "xref": "x4",
          "y0": 0.8499999999999999,
          "y1": 1.09,
          "yref": "y4"
         },
         {
          "legendgroup": "2",
          "line": {
           "color": "goldenrod",
           "width": 5
          },
          "name": "Ability to pay",
          "showlegend": false,
          "type": "line",
          "x0": 0.06856004497808421,
          "x1": 0.06856004497808421,
          "xref": "x4",
          "y0": 1.13,
          "y1": 1.37,
          "yref": "y4"
         },
         {
          "legendgroup": "2",
          "line": {
           "color": "purple",
           "width": 5
          },
          "name": "Equal cumulative per capita",
          "showlegend": false,
          "type": "line",
          "x0": -1.371978314592317,
          "x1": -1.371978314592317,
          "xref": "x4",
          "y0": 1.41,
          "y1": 1.65,
          "yref": "y4"
         },
         {
          "fillcolor": "grey",
          "line": {
           "color": "black",
           "width": 0
          },
          "opacity": 0.5,
          "type": "rect",
          "x0": -0.6178785441383472,
          "x1": 0.2076423151823137,
          "xref": "x4",
          "y0": 0.8499999999999999,
          "y1": 1.09,
          "yref": "y4"
         },
         {
          "fillcolor": "forestgreen",
          "line": {
           "color": "black",
           "width": 0
          },
          "opacity": 0.5,
          "type": "rect",
          "x0": 0.26764231518231374,
          "x1": 0.385040336575056,
          "xref": "x4",
          "y0": 0.8499999999999999,
          "y1": 1.09,
          "yref": "y4"
         },
         {
          "fillcolor": "grey",
          "line": {
           "color": "black",
           "width": 0
          },
          "opacity": 0.5,
          "type": "rect",
          "x0": -0.6178785441383472,
          "x1": 0.03856004497808421,
          "xref": "x4",
          "y0": 1.13,
          "y1": 1.37,
          "yref": "y4"
         },
         {
          "fillcolor": "forestgreen",
          "line": {
           "color": "black",
           "width": 0
          },
          "opacity": 0.5,
          "type": "rect",
          "x0": 0.0985600449780842,
          "x1": 0.385040336575056,
          "xref": "x4",
          "y0": 1.13,
          "y1": 1.37,
          "yref": "y4"
         },
         {
          "fillcolor": "forestgreen",
          "legendgroup": "3",
          "line": {
           "color": "black",
           "width": 0
          },
          "name": "Receive mitigation payment from abroad",
          "opacity": 0.5,
          "showlegend": false,
          "type": "rect",
          "x0": -1.341978314592317,
          "x1": -0.6778785441383472,
          "xref": "x4",
          "y0": 1.41,
          "y1": 1.65,
          "yref": "y4"
         },
         {
          "fillcolor": "forestgreen",
          "legendgroup": "3",
          "line": {
           "color": "black",
           "width": 0
          },
          "name": "Receive mitigation payment from abroad",
          "opacity": 0.5,
          "showlegend": false,
          "type": "rect",
          "x0": -0.6178785441383472,
          "x1": 0.385040336575056,
          "xref": "x4",
          "y0": 1.41,
          "y1": 1.65,
          "yref": "y4"
         },
         {
          "legendgroup": "2",
          "line": {
           "color": "black",
           "dash": "dot",
           "width": 5
          },
          "name": "NDC",
          "showlegend": false,
          "type": "line",
          "x0": -0.07828080974467899,
          "x1": -0.07828080974467899,
          "xref": "x4",
          "y0": 2.1,
          "y1": 2.9,
          "yref": "y4"
         },
         {
          "legendgroup": "2",
          "line": {
           "color": "saddlebrown",
           "width": 5
          },
          "name": "Cost optimal",
          "showlegend": false,
          "type": "line",
          "x0": 0.7010290774489523,
          "x1": 0.7010290774489523,
          "xref": "x4",
          "y0": 2.1,
          "y1": 2.9,
          "yref": "y4"
         },
         {
          "legendgroup": "2",
          "line": {
           "color": "steelblue",
           "width": 5
          },
          "name": "Per capita convergence",
          "showlegend": false,
          "type": "line",
          "x0": 0.6844643908155374,
          "x1": 0.6844643908155374,
          "xref": "x4",
          "y0": 2.1,
          "y1": 2.3400000000000003,
          "yref": "y4"
         },
         {
          "legendgroup": "2",
          "line": {
           "color": "goldenrod",
           "width": 5
          },
          "name": "Ability to pay",
          "showlegend": false,
          "type": "line",
          "x0": 0.7207605566980466,
          "x1": 0.7207605566980466,
          "xref": "x4",
          "y0": 2.38,
          "y1": 2.62,
          "yref": "y4"
         },
         {
          "legendgroup": "2",
          "line": {
           "color": "purple",
           "width": 5
          },
          "name": "Equal cumulative per capita",
          "showlegend": false,
          "type": "line",
          "x0": 0.8315360577225819,
          "x1": 0.8315360577225819,
          "xref": "x4",
          "y0": 2.6599999999999997,
          "y1": 2.9,
          "yref": "y4"
         },
         {
          "fillcolor": "grey",
          "line": {
           "color": "black",
           "width": 0
          },
          "opacity": 0.5,
          "type": "rect",
          "x0": -0.04828080974467899,
          "x1": 0.6544643908155374,
          "xref": "x4",
          "y0": 2.1,
          "y1": 2.3400000000000003,
          "yref": "y4"
         },
         {
          "fillcolor": "forestgreen",
          "line": {
           "color": "black",
           "width": 0
          },
          "opacity": 0.5,
          "type": "rect",
          "x0": 0.7144643908155375,
          "x1": 0.6710290774489522,
          "xref": "x4",
          "y0": 2.1,
          "y1": 2.3400000000000003,
          "yref": "y4"
         },
         {
          "fillcolor": "grey",
          "legendgroup": "3",
          "line": {
           "color": "black",
           "width": 0
          },
          "name": "Increase domestic ambition",
          "opacity": 0.5,
          "showlegend": false,
          "type": "rect",
          "x0": -0.04828080974467899,
          "x1": 0.6710290774489522,
          "xref": "x4",
          "y0": 2.38,
          "y1": 2.62,
          "yref": "y4"
         },
         {
          "fillcolor": "tomato",
          "line": {
           "color": "black",
           "width": 0
          },
          "opacity": 0.5,
          "type": "rect",
          "x0": 0.7310290774489523,
          "x1": 0.6907605566980466,
          "xref": "x4",
          "y0": 2.38,
          "y1": 2.62,
          "yref": "y4"
         },
         {
          "fillcolor": "grey",
          "legendgroup": "3",
          "line": {
           "color": "black",
           "width": 0
          },
          "name": "Increase domestic ambition",
          "opacity": 0.5,
          "showlegend": false,
          "type": "rect",
          "x0": -0.04828080974467899,
          "x1": 0.6710290774489522,
          "xref": "x4",
          "y0": 2.6599999999999997,
          "y1": 2.9,
          "yref": "y4"
         },
         {
          "fillcolor": "tomato",
          "line": {
           "color": "black",
           "width": 0
          },
          "opacity": 0.5,
          "type": "rect",
          "x0": 0.7310290774489523,
          "x1": 0.8015360577225819,
          "xref": "x4",
          "y0": 2.6599999999999997,
          "y1": 2.9,
          "yref": "y4"
         },
         {
          "legendgroup": "2",
          "line": {
           "color": "black",
           "dash": "dot",
           "width": 5
          },
          "name": "NDC",
          "showlegend": false,
          "type": "line",
          "x0": -0.03901099438406197,
          "x1": -0.03901099438406197,
          "xref": "x4",
          "y0": 3.35,
          "y1": 4.15,
          "yref": "y4"
         },
         {
          "legendgroup": "2",
          "line": {
           "color": "saddlebrown",
           "width": 5
          },
          "name": "Cost optimal",
          "showlegend": false,
          "type": "line",
          "x0": 0.9409094499086064,
          "x1": 0.9409094499086064,
          "xref": "x4",
          "y0": 3.35,
          "y1": 4.15,
          "yref": "y4"
         },
         {
          "legendgroup": "2",
          "line": {
           "color": "steelblue",
           "width": 5
          },
          "name": "Per capita convergence",
          "showlegend": false,
          "type": "line",
          "x0": 0.6525059307639897,
          "x1": 0.6525059307639897,
          "xref": "x4",
          "y0": 3.35,
          "y1": 3.5900000000000003,
          "yref": "y4"
         },
         {
          "legendgroup": "2",
          "line": {
           "color": "goldenrod",
           "width": 5
          },
          "name": "Ability to pay",
          "showlegend": false,
          "type": "line",
          "x0": 0.7405868844626,
          "x1": 0.7405868844626,
          "xref": "x4",
          "y0": 3.63,
          "y1": 3.87,
          "yref": "y4"
         },
         {
          "legendgroup": "2",
          "line": {
           "color": "purple",
           "width": 5
          },
          "name": "Equal cumulative per capita",
          "showlegend": false,
          "type": "line",
          "x0": 0.6916215042318922,
          "x1": 0.6916215042318922,
          "xref": "x4",
          "y0": 3.91,
          "y1": 4.15,
          "yref": "y4"
         },
         {
          "fillcolor": "grey",
          "line": {
           "color": "black",
           "width": 0
          },
          "opacity": 0.5,
          "type": "rect",
          "x0": -0.009010994384061973,
          "x1": 0.6225059307639896,
          "xref": "x4",
          "y0": 3.35,
          "y1": 3.5900000000000003,
          "yref": "y4"
         },
         {
          "fillcolor": "forestgreen",
          "line": {
           "color": "black",
           "width": 0
          },
          "opacity": 0.5,
          "type": "rect",
          "x0": 0.6825059307639897,
          "x1": 0.9109094499086062,
          "xref": "x4",
          "y0": 3.35,
          "y1": 3.5900000000000003,
          "yref": "y4"
         },
         {
          "fillcolor": "grey",
          "line": {
           "color": "black",
           "width": 0
          },
          "opacity": 0.5,
          "type": "rect",
          "x0": -0.009010994384061973,
          "x1": 0.7105868844626,
          "xref": "x4",
          "y0": 3.63,
          "y1": 3.87,
          "yref": "y4"
         },
         {
          "fillcolor": "forestgreen",
          "line": {
           "color": "black",
           "width": 0
          },
          "opacity": 0.5,
          "type": "rect",
          "x0": 0.7705868844626,
          "x1": 0.9109094499086062,
          "xref": "x4",
          "y0": 3.63,
          "y1": 3.87,
          "yref": "y4"
         },
         {
          "fillcolor": "grey",
          "line": {
           "color": "black",
           "width": 0
          },
          "opacity": 0.5,
          "type": "rect",
          "x0": -0.009010994384061973,
          "x1": 0.6616215042318921,
          "xref": "x4",
          "y0": 3.91,
          "y1": 4.15,
          "yref": "y4"
         },
         {
          "fillcolor": "forestgreen",
          "line": {
           "color": "black",
           "width": 0
          },
          "opacity": 0.5,
          "type": "rect",
          "x0": 0.7216215042318922,
          "x1": 0.9109094499086062,
          "xref": "x4",
          "y0": 3.91,
          "y1": 4.15,
          "yref": "y4"
         },
         {
          "legendgroup": "2",
          "line": {
           "color": "black",
           "dash": "dot",
           "width": 5
          },
          "name": "NDC",
          "showlegend": false,
          "type": "line",
          "x0": 0.32853216641737837,
          "x1": 0.32853216641737837,
          "xref": "x4",
          "y0": 4.6,
          "y1": 5.4,
          "yref": "y4"
         },
         {
          "legendgroup": "2",
          "line": {
           "color": "saddlebrown",
           "width": 5
          },
          "name": "Cost optimal",
          "showlegend": false,
          "type": "line",
          "x0": 0.767002508668546,
          "x1": 0.767002508668546,
          "xref": "x4",
          "y0": 4.6,
          "y1": 5.4,
          "yref": "y4"
         },
         {
          "legendgroup": "2",
          "line": {
           "color": "steelblue",
           "width": 5
          },
          "name": "Per capita convergence",
          "showlegend": false,
          "type": "line",
          "x0": 0.7374902984920964,
          "x1": 0.7374902984920964,
          "xref": "x4",
          "y0": 4.6,
          "y1": 4.84,
          "yref": "y4"
         },
         {
          "legendgroup": "2",
          "line": {
           "color": "goldenrod",
           "width": 5
          },
          "name": "Ability to pay",
          "showlegend": false,
          "type": "line",
          "x0": 0.5111950924567245,
          "x1": 0.5111950924567245,
          "xref": "x4",
          "y0": 4.88,
          "y1": 5.12,
          "yref": "y4"
         },
         {
          "legendgroup": "2",
          "line": {
           "color": "purple",
           "width": 5
          },
          "name": "Equal cumulative per capita",
          "showlegend": false,
          "type": "line",
          "x0": 0.8025558951484828,
          "x1": 0.8025558951484828,
          "xref": "x4",
          "y0": 5.16,
          "y1": 5.4,
          "yref": "y4"
         },
         {
          "fillcolor": "grey",
          "line": {
           "color": "black",
           "width": 0
          },
          "opacity": 0.5,
          "type": "rect",
          "x0": 0.3585321664173784,
          "x1": 0.7074902984920963,
          "xref": "x4",
          "y0": 4.6,
          "y1": 4.84,
          "yref": "y4"
         },
         {
          "fillcolor": "forestgreen",
          "line": {
           "color": "black",
           "width": 0
          },
          "opacity": 0.5,
          "type": "rect",
          "x0": 0.7674902984920964,
          "x1": 0.737002508668546,
          "xref": "x4",
          "y0": 4.6,
          "y1": 4.84,
          "yref": "y4"
         },
         {
          "fillcolor": "grey",
          "line": {
           "color": "black",
           "width": 0
          },
          "opacity": 0.5,
          "type": "rect",
          "x0": 0.3585321664173784,
          "x1": 0.4811950924567244,
          "xref": "x4",
          "y0": 4.88,
          "y1": 5.12,
          "yref": "y4"
         },
         {
          "fillcolor": "forestgreen",
          "line": {
           "color": "black",
           "width": 0
          },
          "opacity": 0.5,
          "type": "rect",
          "x0": 0.5411950924567245,
          "x1": 0.737002508668546,
          "xref": "x4",
          "y0": 4.88,
          "y1": 5.12,
          "yref": "y4"
         },
         {
          "fillcolor": "grey",
          "legendgroup": "3",
          "line": {
           "color": "black",
           "width": 0
          },
          "name": "Increase domestic ambition",
          "opacity": 0.5,
          "showlegend": false,
          "type": "rect",
          "x0": 0.3585321664173784,
          "x1": 0.737002508668546,
          "xref": "x4",
          "y0": 5.16,
          "y1": 5.4,
          "yref": "y4"
         },
         {
          "fillcolor": "tomato",
          "line": {
           "color": "black",
           "width": 0
          },
          "opacity": 0.5,
          "type": "rect",
          "x0": 0.797002508668546,
          "x1": 0.7725558951484828,
          "xref": "x4",
          "y0": 5.16,
          "y1": 5.4,
          "yref": "y4"
         },
         {
          "legendgroup": "2",
          "line": {
           "color": "black",
           "dash": "dot",
           "width": 5
          },
          "name": "NDC",
          "showlegend": false,
          "type": "line",
          "x0": 0.30596348315421995,
          "x1": 0.30596348315421995,
          "xref": "x4",
          "y0": 5.85,
          "y1": 6.65,
          "yref": "y4"
         },
         {
          "legendgroup": "2",
          "line": {
           "color": "saddlebrown",
           "width": 5
          },
          "name": "Cost optimal",
          "showlegend": false,
          "type": "line",
          "x0": 0.8544148287043888,
          "x1": 0.8544148287043888,
          "xref": "x4",
          "y0": 5.85,
          "y1": 6.65,
          "yref": "y4"
         },
         {
          "legendgroup": "2",
          "line": {
           "color": "steelblue",
           "width": 5
          },
          "name": "Per capita convergence",
          "showlegend": false,
          "type": "line",
          "x0": 0.7257785920878785,
          "x1": 0.7257785920878785,
          "xref": "x4",
          "y0": 5.85,
          "y1": 6.09,
          "yref": "y4"
         },
         {
          "legendgroup": "2",
          "line": {
           "color": "goldenrod",
           "width": 5
          },
          "name": "Ability to pay",
          "showlegend": false,
          "type": "line",
          "x0": 0.6109574388534007,
          "x1": 0.6109574388534007,
          "xref": "x4",
          "y0": 6.13,
          "y1": 6.37,
          "yref": "y4"
         },
         {
          "legendgroup": "2",
          "line": {
           "color": "purple",
           "width": 5
          },
          "name": "Equal cumulative per capita",
          "showlegend": false,
          "type": "line",
          "x0": 1.0514919573383827,
          "x1": 1.0514919573383827,
          "xref": "x4",
          "y0": 6.41,
          "y1": 6.65,
          "yref": "y4"
         },
         {
          "fillcolor": "grey",
          "line": {
           "color": "black",
           "width": 0
          },
          "opacity": 0.5,
          "type": "rect",
          "x0": 0.33596348315422,
          "x1": 0.6957785920878785,
          "xref": "x4",
          "y0": 5.85,
          "y1": 6.09,
          "yref": "y4"
         },
         {
          "fillcolor": "forestgreen",
          "line": {
           "color": "black",
           "width": 0
          },
          "opacity": 0.5,
          "type": "rect",
          "x0": 0.7557785920878786,
          "x1": 0.8244148287043888,
          "xref": "x4",
          "y0": 5.85,
          "y1": 6.09,
          "yref": "y4"
         },
         {
          "fillcolor": "grey",
          "line": {
           "color": "black",
           "width": 0
          },
          "opacity": 0.5,
          "type": "rect",
          "x0": 0.33596348315422,
          "x1": 0.5809574388534007,
          "xref": "x4",
          "y0": 6.13,
          "y1": 6.37,
          "yref": "y4"
         },
         {
          "fillcolor": "forestgreen",
          "line": {
           "color": "black",
           "width": 0
          },
          "opacity": 0.5,
          "type": "rect",
          "x0": 0.6409574388534007,
          "x1": 0.8244148287043888,
          "xref": "x4",
          "y0": 6.13,
          "y1": 6.37,
          "yref": "y4"
         },
         {
          "fillcolor": "grey",
          "legendgroup": "3",
          "line": {
           "color": "black",
           "width": 0
          },
          "name": "Increase domestic ambition",
          "opacity": 0.5,
          "showlegend": false,
          "type": "rect",
          "x0": 0.33596348315422,
          "x1": 0.8244148287043888,
          "xref": "x4",
          "y0": 6.41,
          "y1": 6.65,
          "yref": "y4"
         },
         {
          "fillcolor": "tomato",
          "line": {
           "color": "black",
           "width": 0
          },
          "opacity": 0.5,
          "type": "rect",
          "x0": 0.8844148287043888,
          "x1": 1.0214919573383827,
          "xref": "x4",
          "y0": 6.41,
          "y1": 6.65,
          "yref": "y4"
         },
         {
          "legendgroup": "2",
          "line": {
           "color": "black",
           "dash": "dot",
           "width": 5
          },
          "name": "NDC",
          "showlegend": false,
          "type": "line",
          "x0": 0.21737683180626877,
          "x1": 0.21737683180626877,
          "xref": "x4",
          "y0": 7.1,
          "y1": 7.9,
          "yref": "y4"
         },
         {
          "legendgroup": "2",
          "line": {
           "color": "saddlebrown",
           "width": 5
          },
          "name": "Cost optimal",
          "showlegend": false,
          "type": "line",
          "x0": 1.0227901543230664,
          "x1": 1.0227901543230664,
          "xref": "x4",
          "y0": 7.1,
          "y1": 7.9,
          "yref": "y4"
         },
         {
          "legendgroup": "2",
          "line": {
           "color": "steelblue",
           "width": 5
          },
          "name": "Per capita convergence",
          "showlegend": false,
          "type": "line",
          "x0": 0.7619978628526259,
          "x1": 0.7619978628526259,
          "xref": "x4",
          "y0": 7.1,
          "y1": 7.34,
          "yref": "y4"
         },
         {
          "legendgroup": "2",
          "line": {
           "color": "goldenrod",
           "width": 5
          },
          "name": "Ability to pay",
          "showlegend": false,
          "type": "line",
          "x0": 0.6160400908105677,
          "x1": 0.6160400908105677,
          "xref": "x4",
          "y0": 7.38,
          "y1": 7.62,
          "yref": "y4"
         },
         {
          "legendgroup": "2",
          "line": {
           "color": "purple",
           "width": 5
          },
          "name": "Equal cumulative per capita",
          "showlegend": false,
          "type": "line",
          "x0": 1.2213238437877236,
          "x1": 1.2213238437877236,
          "xref": "x4",
          "y0": 7.66,
          "y1": 7.9,
          "yref": "y4"
         },
         {
          "fillcolor": "grey",
          "line": {
           "color": "black",
           "width": 0
          },
          "opacity": 0.5,
          "type": "rect",
          "x0": 0.24737683180626877,
          "x1": 0.7319978628526259,
          "xref": "x4",
          "y0": 7.1,
          "y1": 7.34,
          "yref": "y4"
         },
         {
          "fillcolor": "forestgreen",
          "line": {
           "color": "black",
           "width": 0
          },
          "opacity": 0.5,
          "type": "rect",
          "x0": 0.791997862852626,
          "x1": 0.9927901543230664,
          "xref": "x4",
          "y0": 7.1,
          "y1": 7.34,
          "yref": "y4"
         },
         {
          "fillcolor": "grey",
          "line": {
           "color": "black",
           "width": 0
          },
          "opacity": 0.5,
          "type": "rect",
          "x0": 0.24737683180626877,
          "x1": 0.5860400908105676,
          "xref": "x4",
          "y0": 7.38,
          "y1": 7.62,
          "yref": "y4"
         },
         {
          "fillcolor": "forestgreen",
          "line": {
           "color": "black",
           "width": 0
          },
          "opacity": 0.5,
          "type": "rect",
          "x0": 0.6460400908105677,
          "x1": 0.9927901543230664,
          "xref": "x4",
          "y0": 7.38,
          "y1": 7.62,
          "yref": "y4"
         },
         {
          "fillcolor": "grey",
          "legendgroup": "3",
          "line": {
           "color": "black",
           "width": 0
          },
          "name": "Increase domestic ambition",
          "opacity": 0.5,
          "showlegend": false,
          "type": "rect",
          "x0": 0.24737683180626877,
          "x1": 0.9927901543230664,
          "xref": "x4",
          "y0": 7.66,
          "y1": 7.9,
          "yref": "y4"
         },
         {
          "fillcolor": "tomato",
          "line": {
           "color": "black",
           "width": 0
          },
          "opacity": 0.5,
          "type": "rect",
          "x0": 1.0527901543230664,
          "x1": 1.1913238437877236,
          "xref": "x4",
          "y0": 7.66,
          "y1": 7.9,
          "yref": "y4"
         },
         {
          "legendgroup": "2",
          "line": {
           "color": "black",
           "dash": "dot",
           "width": 5
          },
          "name": "NDC",
          "showlegend": false,
          "type": "line",
          "x0": -0.49000860157303383,
          "x1": -0.49000860157303383,
          "xref": "x4",
          "y0": 8.35,
          "y1": 9.15,
          "yref": "y4"
         },
         {
          "legendgroup": "2",
          "line": {
           "color": "saddlebrown",
           "width": 5
          },
          "name": "Cost optimal",
          "showlegend": false,
          "type": "line",
          "x0": 0.6557934348320382,
          "x1": 0.6557934348320382,
          "xref": "x4",
          "y0": 8.35,
          "y1": 9.15,
          "yref": "y4"
         },
         {
          "legendgroup": "2",
          "line": {
           "color": "steelblue",
           "width": 5
          },
          "name": "Per capita convergence",
          "showlegend": false,
          "type": "line",
          "x0": 0.7867626539296769,
          "x1": 0.7867626539296769,
          "xref": "x4",
          "y0": 8.350000000000001,
          "y1": 8.59,
          "yref": "y4"
         },
         {
          "legendgroup": "2",
          "line": {
           "color": "goldenrod",
           "width": 5
          },
          "name": "Ability to pay",
          "showlegend": false,
          "type": "line",
          "x0": 0.8053424906511181,
          "x1": 0.8053424906511181,
          "xref": "x4",
          "y0": 8.63,
          "y1": 8.87,
          "yref": "y4"
         },
         {
          "legendgroup": "2",
          "line": {
           "color": "purple",
           "width": 5
          },
          "name": "Equal cumulative per capita",
          "showlegend": false,
          "type": "line",
          "x0": 1.360179823286788,
          "x1": 1.360179823286788,
          "xref": "x4",
          "y0": 8.91,
          "y1": 9.15,
          "yref": "y4"
         },
         {
          "fillcolor": "grey",
          "legendgroup": "3",
          "line": {
           "color": "black",
           "width": 0
          },
          "name": "Increase domestic ambition",
          "opacity": 0.5,
          "showlegend": false,
          "type": "rect",
          "x0": -0.4600086015730338,
          "x1": 0.6257934348320382,
          "xref": "x4",
          "y0": 8.350000000000001,
          "y1": 8.59,
          "yref": "y4"
         },
         {
          "fillcolor": "tomato",
          "line": {
           "color": "black",
           "width": 0
          },
          "opacity": 0.5,
          "type": "rect",
          "x0": 0.6857934348320383,
          "x1": 0.7567626539296769,
          "xref": "x4",
          "y0": 8.350000000000001,
          "y1": 8.59,
          "yref": "y4"
         },
         {
          "fillcolor": "grey",
          "legendgroup": "3",
          "line": {
           "color": "black",
           "width": 0
          },
          "name": "Increase domestic ambition",
          "opacity": 0.5,
          "showlegend": false,
          "type": "rect",
          "x0": -0.4600086015730338,
          "x1": 0.6257934348320382,
          "xref": "x4",
          "y0": 8.63,
          "y1": 8.87,
          "yref": "y4"
         },
         {
          "fillcolor": "tomato",
          "line": {
           "color": "black",
           "width": 0
          },
          "opacity": 0.5,
          "type": "rect",
          "x0": 0.6857934348320383,
          "x1": 0.775342490651118,
          "xref": "x4",
          "y0": 8.63,
          "y1": 8.87,
          "yref": "y4"
         },
         {
          "fillcolor": "grey",
          "legendgroup": "3",
          "line": {
           "color": "black",
           "width": 0
          },
          "name": "Increase domestic ambition",
          "opacity": 0.5,
          "showlegend": false,
          "type": "rect",
          "x0": -0.4600086015730338,
          "x1": 0.6257934348320382,
          "xref": "x4",
          "y0": 8.91,
          "y1": 9.15,
          "yref": "y4"
         },
         {
          "fillcolor": "tomato",
          "line": {
           "color": "black",
           "width": 0
          },
          "opacity": 0.5,
          "type": "rect",
          "x0": 0.6857934348320383,
          "x1": 1.330179823286788,
          "xref": "x4",
          "y0": 8.91,
          "y1": 9.15,
          "yref": "y4"
         },
         {
          "legendgroup": "2",
          "line": {
           "color": "black",
           "dash": "dot",
           "width": 5
          },
          "name": "NDC",
          "showlegend": false,
          "type": "line",
          "x0": -0.3347268317589993,
          "x1": -0.3347268317589993,
          "xref": "x4",
          "y0": 9.6,
          "y1": 10.4,
          "yref": "y4"
         },
         {
          "legendgroup": "2",
          "line": {
           "color": "saddlebrown",
           "width": 5
          },
          "name": "Cost optimal",
          "showlegend": false,
          "type": "line",
          "x0": 0.4726612084630203,
          "x1": 0.4726612084630203,
          "xref": "x4",
          "y0": 9.6,
          "y1": 10.4,
          "yref": "y4"
         },
         {
          "legendgroup": "2",
          "line": {
           "color": "steelblue",
           "width": 5
          },
          "name": "Per capita convergence",
          "showlegend": false,
          "type": "line",
          "x0": 0.8184182864832481,
          "x1": 0.8184182864832481,
          "xref": "x4",
          "y0": 9.6,
          "y1": 9.84,
          "yref": "y4"
         },
         {
          "legendgroup": "2",
          "line": {
           "color": "goldenrod",
           "width": 5
          },
          "name": "Ability to pay",
          "showlegend": false,
          "type": "line",
          "x0": 1.0104296357399165,
          "x1": 1.0104296357399165,
          "xref": "x4",
          "y0": 9.88,
          "y1": 10.12,
          "yref": "y4"
         },
         {
          "legendgroup": "2",
          "line": {
           "color": "purple",
           "width": 5
          },
          "name": "Equal cumulative per capita",
          "showlegend": false,
          "type": "line",
          "x0": 1.349945363066052,
          "x1": 1.349945363066052,
          "xref": "x4",
          "y0": 10.16,
          "y1": 10.4,
          "yref": "y4"
         },
         {
          "fillcolor": "grey",
          "legendgroup": "3",
          "line": {
           "color": "black",
           "width": 0
          },
          "name": "Increase domestic ambition",
          "opacity": 0.5,
          "showlegend": false,
          "type": "rect",
          "x0": -0.3047268317589993,
          "x1": 0.44266120846302026,
          "xref": "x4",
          "y0": 9.6,
          "y1": 9.84,
          "yref": "y4"
         },
         {
          "fillcolor": "tomato",
          "line": {
           "color": "black",
           "width": 0
          },
          "opacity": 0.5,
          "type": "rect",
          "x0": 0.5026612084630203,
          "x1": 0.7884182864832481,
          "xref": "x4",
          "y0": 9.6,
          "y1": 9.84,
          "yref": "y4"
         },
         {
          "fillcolor": "grey",
          "legendgroup": "3",
          "line": {
           "color": "black",
           "width": 0
          },
          "name": "Increase domestic ambition",
          "opacity": 0.5,
          "showlegend": false,
          "type": "rect",
          "x0": -0.3047268317589993,
          "x1": 0.44266120846302026,
          "xref": "x4",
          "y0": 9.88,
          "y1": 10.12,
          "yref": "y4"
         },
         {
          "fillcolor": "tomato",
          "line": {
           "color": "black",
           "width": 0
          },
          "opacity": 0.5,
          "type": "rect",
          "x0": 0.5026612084630203,
          "x1": 0.9804296357399164,
          "xref": "x4",
          "y0": 9.88,
          "y1": 10.12,
          "yref": "y4"
         },
         {
          "fillcolor": "grey",
          "legendgroup": "3",
          "line": {
           "color": "black",
           "width": 0
          },
          "name": "Increase domestic ambition",
          "opacity": 0.5,
          "showlegend": false,
          "type": "rect",
          "x0": -0.3047268317589993,
          "x1": 0.44266120846302026,
          "xref": "x4",
          "y0": 10.16,
          "y1": 10.4,
          "yref": "y4"
         },
         {
          "fillcolor": "tomato",
          "line": {
           "color": "black",
           "width": 0
          },
          "opacity": 0.5,
          "type": "rect",
          "x0": 0.5026612084630203,
          "x1": 1.319945363066052,
          "xref": "x4",
          "y0": 10.16,
          "y1": 10.4,
          "yref": "y4"
         },
         {
          "legendgroup": "2",
          "line": {
           "color": "black",
           "dash": "dot",
           "width": 5
          },
          "name": "NDC",
          "showlegend": false,
          "type": "line",
          "x0": 0.3339927301500951,
          "x1": 0.3339927301500951,
          "xref": "x4",
          "y0": 10.85,
          "y1": 11.65,
          "yref": "y4"
         },
         {
          "legendgroup": "2",
          "line": {
           "color": "saddlebrown",
           "width": 5
          },
          "name": "Cost optimal",
          "showlegend": false,
          "type": "line",
          "x0": 0.8054382119096885,
          "x1": 0.8054382119096885,
          "xref": "x4",
          "y0": 10.85,
          "y1": 11.65,
          "yref": "y4"
         },
         {
          "legendgroup": "2",
          "line": {
           "color": "steelblue",
           "width": 5
          },
          "name": "Per capita convergence",
          "showlegend": false,
          "type": "line",
          "x0": 0.7457824458860257,
          "x1": 0.7457824458860257,
          "xref": "x4",
          "y0": 10.85,
          "y1": 11.09,
          "yref": "y4"
         },
         {
          "legendgroup": "2",
          "line": {
           "color": "goldenrod",
           "width": 5
          },
          "name": "Ability to pay",
          "showlegend": false,
          "type": "line",
          "x0": 0.9550027075250088,
          "x1": 0.9550027075250088,
          "xref": "x4",
          "y0": 11.13,
          "y1": 11.37,
          "yref": "y4"
         },
         {
          "legendgroup": "2",
          "line": {
           "color": "purple",
           "width": 5
          },
          "name": "Equal cumulative per capita",
          "showlegend": false,
          "type": "line",
          "x0": 1.096381450338464,
          "x1": 1.096381450338464,
          "xref": "x4",
          "y0": 11.41,
          "y1": 11.65,
          "yref": "y4"
         },
         {
          "fillcolor": "grey",
          "line": {
           "color": "black",
           "width": 0
          },
          "opacity": 0.5,
          "type": "rect",
          "x0": 0.36399273015009515,
          "x1": 0.7157824458860257,
          "xref": "x4",
          "y0": 10.85,
          "y1": 11.09,
          "yref": "y4"
         },
         {
          "fillcolor": "forestgreen",
          "line": {
           "color": "black",
           "width": 0
          },
          "opacity": 0.5,
          "type": "rect",
          "x0": 0.7757824458860257,
          "x1": 0.7754382119096884,
          "xref": "x4",
          "y0": 10.85,
          "y1": 11.09,
          "yref": "y4"
         },
         {
          "fillcolor": "grey",
          "legendgroup": "3",
          "line": {
           "color": "black",
           "width": 0
          },
          "name": "Increase domestic ambition",
          "opacity": 0.5,
          "showlegend": false,
          "type": "rect",
          "x0": 0.36399273015009515,
          "x1": 0.7754382119096884,
          "xref": "x4",
          "y0": 11.13,
          "y1": 11.37,
          "yref": "y4"
         },
         {
          "fillcolor": "tomato",
          "line": {
           "color": "black",
           "width": 0
          },
          "opacity": 0.5,
          "type": "rect",
          "x0": 0.8354382119096885,
          "x1": 0.9250027075250088,
          "xref": "x4",
          "y0": 11.13,
          "y1": 11.37,
          "yref": "y4"
         },
         {
          "fillcolor": "grey",
          "legendgroup": "3",
          "line": {
           "color": "black",
           "width": 0
          },
          "name": "Increase domestic ambition",
          "opacity": 0.5,
          "showlegend": false,
          "type": "rect",
          "x0": 0.36399273015009515,
          "x1": 0.7754382119096884,
          "xref": "x4",
          "y0": 11.41,
          "y1": 11.65,
          "yref": "y4"
         },
         {
          "fillcolor": "tomato",
          "line": {
           "color": "black",
           "width": 0
          },
          "opacity": 0.5,
          "type": "rect",
          "x0": 0.8354382119096885,
          "x1": 1.066381450338464,
          "xref": "x4",
          "y0": 11.41,
          "y1": 11.65,
          "yref": "y4"
         },
         {
          "legendgroup": "2",
          "line": {
           "color": "black",
           "dash": "dot",
           "width": 5
          },
          "name": "NDC",
          "showlegend": false,
          "type": "line",
          "x0": 0.3908938196584818,
          "x1": 0.3908938196584818,
          "xref": "x4",
          "y0": 12.1,
          "y1": 12.9,
          "yref": "y4"
         },
         {
          "legendgroup": "2",
          "line": {
           "color": "saddlebrown",
           "width": 5
          },
          "name": "Cost optimal",
          "showlegend": false,
          "type": "line",
          "x0": 0.7241828361823135,
          "x1": 0.7241828361823135,
          "xref": "x4",
          "y0": 12.1,
          "y1": 12.9,
          "yref": "y4"
         },
         {
          "legendgroup": "2",
          "line": {
           "color": "steelblue",
           "width": 5
          },
          "name": "Per capita convergence",
          "showlegend": false,
          "type": "line",
          "x0": 0.7060261533956329,
          "x1": 0.7060261533956329,
          "xref": "x4",
          "y0": 12.1,
          "y1": 12.34,
          "yref": "y4"
         },
         {
          "legendgroup": "2",
          "line": {
           "color": "goldenrod",
           "width": 5
          },
          "name": "Ability to pay",
          "showlegend": false,
          "type": "line",
          "x0": 0.9566601118028408,
          "x1": 0.9566601118028408,
          "xref": "x4",
          "y0": 12.38,
          "y1": 12.62,
          "yref": "y4"
         },
         {
          "legendgroup": "2",
          "line": {
           "color": "purple",
           "width": 5
          },
          "name": "Equal cumulative per capita",
          "showlegend": false,
          "type": "line",
          "x0": 1.0106947729597855,
          "x1": 1.0106947729597855,
          "xref": "x4",
          "y0": 12.66,
          "y1": 12.9,
          "yref": "y4"
         },
         {
          "fillcolor": "grey",
          "line": {
           "color": "black",
           "width": 0
          },
          "opacity": 0.5,
          "type": "rect",
          "x0": 0.4208938196584818,
          "x1": 0.6760261533956329,
          "xref": "x4",
          "y0": 12.1,
          "y1": 12.34,
          "yref": "y4"
         },
         {
          "fillcolor": "forestgreen",
          "line": {
           "color": "black",
           "width": 0
          },
          "opacity": 0.5,
          "type": "rect",
          "x0": 0.7360261533956329,
          "x1": 0.6941828361823135,
          "xref": "x4",
          "y0": 12.1,
          "y1": 12.34,
          "yref": "y4"
         },
         {
          "fillcolor": "grey",
          "legendgroup": "3",
          "line": {
           "color": "black",
           "width": 0
          },
          "name": "Increase domestic ambition",
          "opacity": 0.5,
          "showlegend": false,
          "type": "rect",
          "x0": 0.4208938196584818,
          "x1": 0.6941828361823135,
          "xref": "x4",
          "y0": 12.38,
          "y1": 12.62,
          "yref": "y4"
         },
         {
          "fillcolor": "tomato",
          "line": {
           "color": "black",
           "width": 0
          },
          "opacity": 0.5,
          "type": "rect",
          "x0": 0.7541828361823135,
          "x1": 0.9266601118028408,
          "xref": "x4",
          "y0": 12.38,
          "y1": 12.62,
          "yref": "y4"
         },
         {
          "fillcolor": "grey",
          "legendgroup": "3",
          "line": {
           "color": "black",
           "width": 0
          },
          "name": "Increase domestic ambition",
          "opacity": 0.5,
          "showlegend": false,
          "type": "rect",
          "x0": 0.4208938196584818,
          "x1": 0.6941828361823135,
          "xref": "x4",
          "y0": 12.66,
          "y1": 12.9,
          "yref": "y4"
         },
         {
          "fillcolor": "tomato",
          "line": {
           "color": "black",
           "width": 0
          },
          "opacity": 0.5,
          "type": "rect",
          "x0": 0.7541828361823135,
          "x1": 0.9806947729597856,
          "xref": "x4",
          "y0": 12.66,
          "y1": 12.9,
          "yref": "y4"
         },
         {
          "legendgroup": "2",
          "line": {
           "color": "black",
           "dash": "dot",
           "width": 5
          },
          "name": "NDC",
          "showlegend": false,
          "type": "line",
          "x0": 0.45588116855527694,
          "x1": 0.45588116855527694,
          "xref": "x4",
          "y0": 13.35,
          "y1": 14.15,
          "yref": "y4"
         },
         {
          "legendgroup": "2",
          "line": {
           "color": "saddlebrown",
           "width": 5
          },
          "name": "Cost optimal",
          "showlegend": false,
          "type": "line",
          "x0": 0.7426455914273666,
          "x1": 0.7426455914273666,
          "xref": "x4",
          "y0": 13.35,
          "y1": 14.15,
          "yref": "y4"
         },
         {
          "legendgroup": "2",
          "line": {
           "color": "steelblue",
           "width": 5
          },
          "name": "Per capita convergence",
          "showlegend": false,
          "type": "line",
          "x0": 0.8037091128298044,
          "x1": 0.8037091128298044,
          "xref": "x4",
          "y0": 13.35,
          "y1": 13.59,
          "yref": "y4"
         },
         {
          "legendgroup": "2",
          "line": {
           "color": "goldenrod",
           "width": 5
          },
          "name": "Ability to pay",
          "showlegend": false,
          "type": "line",
          "x0": 1.0458181689609622,
          "x1": 1.0458181689609622,
          "xref": "x4",
          "y0": 13.63,
          "y1": 13.87,
          "yref": "y4"
         },
         {
          "legendgroup": "2",
          "line": {
           "color": "purple",
           "width": 5
          },
          "name": "Equal cumulative per capita",
          "showlegend": false,
          "type": "line",
          "x0": 1.5058211963061328,
          "x1": 1.5058211963061328,
          "xref": "x4",
          "y0": 13.91,
          "y1": 14.15,
          "yref": "y4"
         },
         {
          "fillcolor": "grey",
          "legendgroup": "3",
          "line": {
           "color": "black",
           "width": 0
          },
          "name": "Increase domestic ambition",
          "opacity": 0.5,
          "showlegend": false,
          "type": "rect",
          "x0": 0.48588116855527697,
          "x1": 0.7126455914273666,
          "xref": "x4",
          "y0": 13.35,
          "y1": 13.59,
          "yref": "y4"
         },
         {
          "fillcolor": "tomato",
          "line": {
           "color": "black",
           "width": 0
          },
          "opacity": 0.5,
          "type": "rect",
          "x0": 0.7726455914273667,
          "x1": 0.7737091128298044,
          "xref": "x4",
          "y0": 13.35,
          "y1": 13.59,
          "yref": "y4"
         },
         {
          "fillcolor": "grey",
          "legendgroup": "3",
          "line": {
           "color": "black",
           "width": 0
          },
          "name": "Increase domestic ambition",
          "opacity": 0.5,
          "showlegend": false,
          "type": "rect",
          "x0": 0.48588116855527697,
          "x1": 0.7126455914273666,
          "xref": "x4",
          "y0": 13.63,
          "y1": 13.87,
          "yref": "y4"
         },
         {
          "fillcolor": "tomato",
          "line": {
           "color": "black",
           "width": 0
          },
          "opacity": 0.5,
          "type": "rect",
          "x0": 0.7726455914273667,
          "x1": 1.0158181689609622,
          "xref": "x4",
          "y0": 13.63,
          "y1": 13.87,
          "yref": "y4"
         },
         {
          "fillcolor": "grey",
          "legendgroup": "3",
          "line": {
           "color": "black",
           "width": 0
          },
          "name": "Increase domestic ambition",
          "opacity": 0.5,
          "showlegend": false,
          "type": "rect",
          "x0": 0.48588116855527697,
          "x1": 0.7126455914273666,
          "xref": "x4",
          "y0": 13.91,
          "y1": 14.15,
          "yref": "y4"
         },
         {
          "fillcolor": "tomato",
          "line": {
           "color": "black",
           "width": 0
          },
          "opacity": 0.5,
          "type": "rect",
          "x0": 0.7726455914273667,
          "x1": 1.4758211963061327,
          "xref": "x4",
          "y0": 13.91,
          "y1": 14.15,
          "yref": "y4"
         },
         {
          "line": {
           "color": "black",
           "dash": "dash",
           "width": 3
          },
          "type": "line",
          "x0": 0,
          "x1": 0,
          "xref": "x4",
          "y0": -1000,
          "y1": 1000,
          "yref": "y4"
         }
        ],
        "template": {
         "data": {
          "bar": [
           {
            "error_x": {
             "color": "#2a3f5f"
            },
            "error_y": {
             "color": "#2a3f5f"
            },
            "marker": {
             "line": {
              "color": "#E5ECF6",
              "width": 0.5
             },
             "pattern": {
              "fillmode": "overlay",
              "size": 10,
              "solidity": 0.2
             }
            },
            "type": "bar"
           }
          ],
          "barpolar": [
           {
            "marker": {
             "line": {
              "color": "#E5ECF6",
              "width": 0.5
             },
             "pattern": {
              "fillmode": "overlay",
              "size": 10,
              "solidity": 0.2
             }
            },
            "type": "barpolar"
           }
          ],
          "carpet": [
           {
            "aaxis": {
             "endlinecolor": "#2a3f5f",
             "gridcolor": "white",
             "linecolor": "white",
             "minorgridcolor": "white",
             "startlinecolor": "#2a3f5f"
            },
            "baxis": {
             "endlinecolor": "#2a3f5f",
             "gridcolor": "white",
             "linecolor": "white",
             "minorgridcolor": "white",
             "startlinecolor": "#2a3f5f"
            },
            "type": "carpet"
           }
          ],
          "choropleth": [
           {
            "colorbar": {
             "outlinewidth": 0,
             "ticks": ""
            },
            "type": "choropleth"
           }
          ],
          "contour": [
           {
            "colorbar": {
             "outlinewidth": 0,
             "ticks": ""
            },
            "colorscale": [
             [
              0,
              "#0d0887"
             ],
             [
              0.1111111111111111,
              "#46039f"
             ],
             [
              0.2222222222222222,
              "#7201a8"
             ],
             [
              0.3333333333333333,
              "#9c179e"
             ],
             [
              0.4444444444444444,
              "#bd3786"
             ],
             [
              0.5555555555555556,
              "#d8576b"
             ],
             [
              0.6666666666666666,
              "#ed7953"
             ],
             [
              0.7777777777777778,
              "#fb9f3a"
             ],
             [
              0.8888888888888888,
              "#fdca26"
             ],
             [
              1,
              "#f0f921"
             ]
            ],
            "type": "contour"
           }
          ],
          "contourcarpet": [
           {
            "colorbar": {
             "outlinewidth": 0,
             "ticks": ""
            },
            "type": "contourcarpet"
           }
          ],
          "heatmap": [
           {
            "colorbar": {
             "outlinewidth": 0,
             "ticks": ""
            },
            "colorscale": [
             [
              0,
              "#0d0887"
             ],
             [
              0.1111111111111111,
              "#46039f"
             ],
             [
              0.2222222222222222,
              "#7201a8"
             ],
             [
              0.3333333333333333,
              "#9c179e"
             ],
             [
              0.4444444444444444,
              "#bd3786"
             ],
             [
              0.5555555555555556,
              "#d8576b"
             ],
             [
              0.6666666666666666,
              "#ed7953"
             ],
             [
              0.7777777777777778,
              "#fb9f3a"
             ],
             [
              0.8888888888888888,
              "#fdca26"
             ],
             [
              1,
              "#f0f921"
             ]
            ],
            "type": "heatmap"
           }
          ],
          "heatmapgl": [
           {
            "colorbar": {
             "outlinewidth": 0,
             "ticks": ""
            },
            "colorscale": [
             [
              0,
              "#0d0887"
             ],
             [
              0.1111111111111111,
              "#46039f"
             ],
             [
              0.2222222222222222,
              "#7201a8"
             ],
             [
              0.3333333333333333,
              "#9c179e"
             ],
             [
              0.4444444444444444,
              "#bd3786"
             ],
             [
              0.5555555555555556,
              "#d8576b"
             ],
             [
              0.6666666666666666,
              "#ed7953"
             ],
             [
              0.7777777777777778,
              "#fb9f3a"
             ],
             [
              0.8888888888888888,
              "#fdca26"
             ],
             [
              1,
              "#f0f921"
             ]
            ],
            "type": "heatmapgl"
           }
          ],
          "histogram": [
           {
            "marker": {
             "pattern": {
              "fillmode": "overlay",
              "size": 10,
              "solidity": 0.2
             }
            },
            "type": "histogram"
           }
          ],
          "histogram2d": [
           {
            "colorbar": {
             "outlinewidth": 0,
             "ticks": ""
            },
            "colorscale": [
             [
              0,
              "#0d0887"
             ],
             [
              0.1111111111111111,
              "#46039f"
             ],
             [
              0.2222222222222222,
              "#7201a8"
             ],
             [
              0.3333333333333333,
              "#9c179e"
             ],
             [
              0.4444444444444444,
              "#bd3786"
             ],
             [
              0.5555555555555556,
              "#d8576b"
             ],
             [
              0.6666666666666666,
              "#ed7953"
             ],
             [
              0.7777777777777778,
              "#fb9f3a"
             ],
             [
              0.8888888888888888,
              "#fdca26"
             ],
             [
              1,
              "#f0f921"
             ]
            ],
            "type": "histogram2d"
           }
          ],
          "histogram2dcontour": [
           {
            "colorbar": {
             "outlinewidth": 0,
             "ticks": ""
            },
            "colorscale": [
             [
              0,
              "#0d0887"
             ],
             [
              0.1111111111111111,
              "#46039f"
             ],
             [
              0.2222222222222222,
              "#7201a8"
             ],
             [
              0.3333333333333333,
              "#9c179e"
             ],
             [
              0.4444444444444444,
              "#bd3786"
             ],
             [
              0.5555555555555556,
              "#d8576b"
             ],
             [
              0.6666666666666666,
              "#ed7953"
             ],
             [
              0.7777777777777778,
              "#fb9f3a"
             ],
             [
              0.8888888888888888,
              "#fdca26"
             ],
             [
              1,
              "#f0f921"
             ]
            ],
            "type": "histogram2dcontour"
           }
          ],
          "mesh3d": [
           {
            "colorbar": {
             "outlinewidth": 0,
             "ticks": ""
            },
            "type": "mesh3d"
           }
          ],
          "parcoords": [
           {
            "line": {
             "colorbar": {
              "outlinewidth": 0,
              "ticks": ""
             }
            },
            "type": "parcoords"
           }
          ],
          "pie": [
           {
            "automargin": true,
            "type": "pie"
           }
          ],
          "scatter": [
           {
            "fillpattern": {
             "fillmode": "overlay",
             "size": 10,
             "solidity": 0.2
            },
            "type": "scatter"
           }
          ],
          "scatter3d": [
           {
            "line": {
             "colorbar": {
              "outlinewidth": 0,
              "ticks": ""
             }
            },
            "marker": {
             "colorbar": {
              "outlinewidth": 0,
              "ticks": ""
             }
            },
            "type": "scatter3d"
           }
          ],
          "scattercarpet": [
           {
            "marker": {
             "colorbar": {
              "outlinewidth": 0,
              "ticks": ""
             }
            },
            "type": "scattercarpet"
           }
          ],
          "scattergeo": [
           {
            "marker": {
             "colorbar": {
              "outlinewidth": 0,
              "ticks": ""
             }
            },
            "type": "scattergeo"
           }
          ],
          "scattergl": [
           {
            "marker": {
             "colorbar": {
              "outlinewidth": 0,
              "ticks": ""
             }
            },
            "type": "scattergl"
           }
          ],
          "scattermapbox": [
           {
            "marker": {
             "colorbar": {
              "outlinewidth": 0,
              "ticks": ""
             }
            },
            "type": "scattermapbox"
           }
          ],
          "scatterpolar": [
           {
            "marker": {
             "colorbar": {
              "outlinewidth": 0,
              "ticks": ""
             }
            },
            "type": "scatterpolar"
           }
          ],
          "scatterpolargl": [
           {
            "marker": {
             "colorbar": {
              "outlinewidth": 0,
              "ticks": ""
             }
            },
            "type": "scatterpolargl"
           }
          ],
          "scatterternary": [
           {
            "marker": {
             "colorbar": {
              "outlinewidth": 0,
              "ticks": ""
             }
            },
            "type": "scatterternary"
           }
          ],
          "surface": [
           {
            "colorbar": {
             "outlinewidth": 0,
             "ticks": ""
            },
            "colorscale": [
             [
              0,
              "#0d0887"
             ],
             [
              0.1111111111111111,
              "#46039f"
             ],
             [
              0.2222222222222222,
              "#7201a8"
             ],
             [
              0.3333333333333333,
              "#9c179e"
             ],
             [
              0.4444444444444444,
              "#bd3786"
             ],
             [
              0.5555555555555556,
              "#d8576b"
             ],
             [
              0.6666666666666666,
              "#ed7953"
             ],
             [
              0.7777777777777778,
              "#fb9f3a"
             ],
             [
              0.8888888888888888,
              "#fdca26"
             ],
             [
              1,
              "#f0f921"
             ]
            ],
            "type": "surface"
           }
          ],
          "table": [
           {
            "cells": {
             "fill": {
              "color": "#EBF0F8"
             },
             "line": {
              "color": "white"
             }
            },
            "header": {
             "fill": {
              "color": "#C8D4E3"
             },
             "line": {
              "color": "white"
             }
            },
            "type": "table"
           }
          ]
         },
         "layout": {
          "annotationdefaults": {
           "arrowcolor": "#2a3f5f",
           "arrowhead": 0,
           "arrowwidth": 1
          },
          "autotypenumbers": "strict",
          "coloraxis": {
           "colorbar": {
            "outlinewidth": 0,
            "ticks": ""
           }
          },
          "colorscale": {
           "diverging": [
            [
             0,
             "#8e0152"
            ],
            [
             0.1,
             "#c51b7d"
            ],
            [
             0.2,
             "#de77ae"
            ],
            [
             0.3,
             "#f1b6da"
            ],
            [
             0.4,
             "#fde0ef"
            ],
            [
             0.5,
             "#f7f7f7"
            ],
            [
             0.6,
             "#e6f5d0"
            ],
            [
             0.7,
             "#b8e186"
            ],
            [
             0.8,
             "#7fbc41"
            ],
            [
             0.9,
             "#4d9221"
            ],
            [
             1,
             "#276419"
            ]
           ],
           "sequential": [
            [
             0,
             "#0d0887"
            ],
            [
             0.1111111111111111,
             "#46039f"
            ],
            [
             0.2222222222222222,
             "#7201a8"
            ],
            [
             0.3333333333333333,
             "#9c179e"
            ],
            [
             0.4444444444444444,
             "#bd3786"
            ],
            [
             0.5555555555555556,
             "#d8576b"
            ],
            [
             0.6666666666666666,
             "#ed7953"
            ],
            [
             0.7777777777777778,
             "#fb9f3a"
            ],
            [
             0.8888888888888888,
             "#fdca26"
            ],
            [
             1,
             "#f0f921"
            ]
           ],
           "sequentialminus": [
            [
             0,
             "#0d0887"
            ],
            [
             0.1111111111111111,
             "#46039f"
            ],
            [
             0.2222222222222222,
             "#7201a8"
            ],
            [
             0.3333333333333333,
             "#9c179e"
            ],
            [
             0.4444444444444444,
             "#bd3786"
            ],
            [
             0.5555555555555556,
             "#d8576b"
            ],
            [
             0.6666666666666666,
             "#ed7953"
            ],
            [
             0.7777777777777778,
             "#fb9f3a"
            ],
            [
             0.8888888888888888,
             "#fdca26"
            ],
            [
             1,
             "#f0f921"
            ]
           ]
          },
          "colorway": [
           "#636efa",
           "#EF553B",
           "#00cc96",
           "#ab63fa",
           "#FFA15A",
           "#19d3f3",
           "#FF6692",
           "#B6E880",
           "#FF97FF",
           "#FECB52"
          ],
          "font": {
           "color": "#2a3f5f"
          },
          "geo": {
           "bgcolor": "white",
           "lakecolor": "white",
           "landcolor": "#E5ECF6",
           "showlakes": true,
           "showland": true,
           "subunitcolor": "white"
          },
          "hoverlabel": {
           "align": "left"
          },
          "hovermode": "closest",
          "mapbox": {
           "style": "light"
          },
          "paper_bgcolor": "white",
          "plot_bgcolor": "#E5ECF6",
          "polar": {
           "angularaxis": {
            "gridcolor": "white",
            "linecolor": "white",
            "ticks": ""
           },
           "bgcolor": "#E5ECF6",
           "radialaxis": {
            "gridcolor": "white",
            "linecolor": "white",
            "ticks": ""
           }
          },
          "scene": {
           "xaxis": {
            "backgroundcolor": "#E5ECF6",
            "gridcolor": "white",
            "gridwidth": 2,
            "linecolor": "white",
            "showbackground": true,
            "ticks": "",
            "zerolinecolor": "white"
           },
           "yaxis": {
            "backgroundcolor": "#E5ECF6",
            "gridcolor": "white",
            "gridwidth": 2,
            "linecolor": "white",
            "showbackground": true,
            "ticks": "",
            "zerolinecolor": "white"
           },
           "zaxis": {
            "backgroundcolor": "#E5ECF6",
            "gridcolor": "white",
            "gridwidth": 2,
            "linecolor": "white",
            "showbackground": true,
            "ticks": "",
            "zerolinecolor": "white"
           }
          },
          "shapedefaults": {
           "line": {
            "color": "#2a3f5f"
           }
          },
          "ternary": {
           "aaxis": {
            "gridcolor": "white",
            "linecolor": "white",
            "ticks": ""
           },
           "baxis": {
            "gridcolor": "white",
            "linecolor": "white",
            "ticks": ""
           },
           "bgcolor": "#E5ECF6",
           "caxis": {
            "gridcolor": "white",
            "linecolor": "white",
            "ticks": ""
           }
          },
          "title": {
           "x": 0.05
          },
          "xaxis": {
           "automargin": true,
           "gridcolor": "white",
           "linecolor": "white",
           "ticks": "",
           "title": {
            "standoff": 15
           },
           "zerolinecolor": "white",
           "zerolinewidth": 2
          },
          "yaxis": {
           "automargin": true,
           "gridcolor": "white",
           "linecolor": "white",
           "ticks": "",
           "title": {
            "standoff": 15
           },
           "zerolinecolor": "white",
           "zerolinewidth": 2
          }
         }
        },
        "width": 1000,
        "xaxis": {
         "anchor": "y",
         "domain": [
          0,
          0.6666666666666666
         ],
         "range": [
          -1,
          3
         ],
         "showticklabels": false
        },
        "xaxis10": {
         "anchor": "y10",
         "domain": [
          0,
          0.3333333333333333
         ]
        },
        "xaxis11": {
         "anchor": "y11",
         "domain": [
          0.3333333333333333,
          0.6666666666666666
         ]
        },
        "xaxis12": {
         "anchor": "y12",
         "domain": [
          0.6666666666666666,
          1
         ]
        },
        "xaxis13": {
         "anchor": "y13",
         "domain": [
          0,
          0.3333333333333333
         ]
        },
        "xaxis14": {
         "anchor": "y14",
         "domain": [
          0.3333333333333333,
          0.6666666666666666
         ]
        },
        "xaxis15": {
         "anchor": "y15",
         "domain": [
          0.6666666666666666,
          1
         ]
        },
        "xaxis2": {
         "anchor": "y2",
         "domain": [
          0.3333333333333333,
          0.6666666666666666
         ]
        },
        "xaxis3": {
         "anchor": "y3",
         "domain": [
          0.6666666666666666,
          1
         ],
         "range": [
          0,
          1
         ],
         "showticklabels": false
        },
        "xaxis4": {
         "anchor": "y4",
         "domain": [
          0,
          0.6666666666666666
         ],
         "range": [
          -1,
          3
         ],
         "tickfont": {
          "size": 16
         },
         "ticktext": [
          "-100%",
          "-50%",
          "No<br>reduction",
          "50%",
          "100%",
          "150%",
          "200%",
          "250%"
         ],
         "tickvals": [
          -1,
          -0.5,
          0,
          0.5,
          1,
          1.5,
          2,
          2.5
         ]
        },
        "xaxis5": {
         "anchor": "y5",
         "domain": [
          0.3333333333333333,
          0.6666666666666666
         ]
        },
        "xaxis6": {
         "anchor": "y6",
         "domain": [
          0.6666666666666666,
          1
         ],
         "range": [
          0,
          1
         ],
         "showticklabels": false
        },
        "xaxis7": {
         "anchor": "y7",
         "domain": [
          0,
          0.3333333333333333
         ]
        },
        "xaxis8": {
         "anchor": "y8",
         "domain": [
          0.3333333333333333,
          0.6666666666666666
         ]
        },
        "xaxis9": {
         "anchor": "y9",
         "domain": [
          0.6666666666666666,
          1
         ]
        },
        "yaxis": {
         "anchor": "x",
         "domain": [
          0.816,
          1
         ],
         "range": [
          0.5,
          1.5
         ],
         "showticklabels": false
        },
        "yaxis10": {
         "anchor": "x10",
         "domain": [
          0.204,
          0.388
         ]
        },
        "yaxis11": {
         "anchor": "x11",
         "domain": [
          0.204,
          0.388
         ]
        },
        "yaxis12": {
         "anchor": "x12",
         "domain": [
          0.204,
          0.388
         ]
        },
        "yaxis13": {
         "anchor": "x13",
         "domain": [
          0,
          0.184
         ]
        },
        "yaxis14": {
         "anchor": "x14",
         "domain": [
          0,
          0.184
         ]
        },
        "yaxis15": {
         "anchor": "x15",
         "domain": [
          0,
          0.184
         ]
        },
        "yaxis2": {
         "anchor": "x2",
         "domain": [
          0.816,
          1
         ]
        },
        "yaxis3": {
         "anchor": "x3",
         "domain": [
          0.816,
          1
         ],
         "range": [
          0,
          1
         ],
         "showticklabels": false
        },
        "yaxis4": {
         "anchor": "x4",
         "domain": [
          0,
          0.796
         ],
         "range": [
          -0.5,
          15
         ],
         "showticklabels": false
        },
        "yaxis5": {
         "anchor": "x5",
         "domain": [
          0.6120000000000001,
          0.796
         ]
        },
        "yaxis6": {
         "anchor": "x6",
         "domain": [
          0,
          0.796
         ],
         "range": [
          -0.5,
          15
         ],
         "showticklabels": false
        },
        "yaxis7": {
         "anchor": "x7",
         "domain": [
          0.408,
          0.592
         ]
        },
        "yaxis8": {
         "anchor": "x8",
         "domain": [
          0.408,
          0.592
         ]
        },
        "yaxis9": {
         "anchor": "x9",
         "domain": [
          0.408,
          0.592
         ]
        }
       }
      }
     },
     "metadata": {},
     "output_type": "display_data"
    }
   ],
   "source": [
    "fig = make_subplots(\n",
    "    rows=5,\n",
    "    cols=3,\n",
    "    specs=[\n",
    "        [{\"colspan\": 2}, {}, {}],\n",
    "        [{\"rowspan\": 4, \"colspan\": 2}, {}, {\"rowspan\": 4}],\n",
    "        [{}, {}, {}],\n",
    "        [{}, {}, {}],\n",
    "        [{}, {}, {}],\n",
    "    ],\n",
    "    horizontal_spacing=0.0,\n",
    "    vertical_spacing=0.02,\n",
    ")\n",
    "\n",
    "fig.update_layout(height=1000, width=1000)\n",
    "fs = 20\n",
    "fig[\"layout\"].update(\n",
    "    annotations=[\n",
    "        dict(\n",
    "            x=0.05,\n",
    "            y=1.08,\n",
    "            text=\"<b>NDC\",\n",
    "            xref=\"paper\",\n",
    "            yref=\"paper\",\n",
    "            showarrow=False,\n",
    "            font=dict(color=\"black\", size=18),\n",
    "        ),\n",
    "        dict(\n",
    "            x=0.17,\n",
    "            y=1.1,\n",
    "            text=\"<b>Cost<br>optimal\",\n",
    "            xref=\"paper\",\n",
    "            yref=\"paper\",\n",
    "            showarrow=False,\n",
    "            font=dict(color=\"saddlebrown\", size=18),\n",
    "        ),\n",
    "        dict(\n",
    "            x=0.45,\n",
    "            y=1.1,\n",
    "            text=\"<b>Fair targets<br>according to<br><span style='color: purple;'>ECPC</span>, \"\n",
    "            \"<span style='color: goldenrod;'>AP</span> and \"\n",
    "            \"<span style='color: navy;'>PCC</span>\",\n",
    "            xref=\"paper\",\n",
    "            yref=\"paper\",\n",
    "            showarrow=False,\n",
    "            font=dict(color=\"black\", size=18),\n",
    "        ),\n",
    "        #  dict(x=0.01, y=0.98, text='<b>ECPC', xref='paper', yref='paper', showarrow=False, font=dict(color='purple', size=fs)),\n",
    "        dict(\n",
    "            x=-0.05,\n",
    "            y=0.94,\n",
    "            text=\"<b>Example<br>country\",\n",
    "            xref=\"paper\",\n",
    "            yref=\"paper\",\n",
    "            align=\"left\",\n",
    "            showarrow=False,\n",
    "            font=dict(color=\"black\", size=16),\n",
    "        ),\n",
    "        dict(\n",
    "            x=0.27,\n",
    "            y=0.98,\n",
    "            text=\"<b>Provide finance\",\n",
    "            xref=\"paper\",\n",
    "            yref=\"paper\",\n",
    "            align=\"left\",\n",
    "            showarrow=False,\n",
    "            font=dict(color=\"darkred\", size=16),\n",
    "        ),\n",
    "        dict(\n",
    "            x=0.29,\n",
    "            y=0.91,\n",
    "            text=\"<b>Receive<br>finance\",\n",
    "            xref=\"paper\",\n",
    "            yref=\"paper\",\n",
    "            align=\"left\",\n",
    "            showarrow=False,\n",
    "            font=dict(color=col_receive, size=16),\n",
    "        ),\n",
    "        dict(\n",
    "            x=0.76,\n",
    "            y=1.1,\n",
    "            text=\"<b>Fund<br>domestic<br>mitigation\",\n",
    "            xref=\"paper\",\n",
    "            yref=\"paper\",\n",
    "            align=\"center\",\n",
    "            showarrow=False,\n",
    "            font=dict(color=\"grey\", size=18),\n",
    "        ),\n",
    "        dict(\n",
    "            x=0.88,\n",
    "            y=1.1,\n",
    "            text=\"<b>Receive<br>finance\",\n",
    "            xref=\"paper\",\n",
    "            yref=\"paper\",\n",
    "            showarrow=False,\n",
    "            align=\"center\",\n",
    "            font=dict(color=col_receive, size=18),\n",
    "        ),\n",
    "        dict(\n",
    "            x=1.01,\n",
    "            y=1.1,\n",
    "            text=\"<b>Provide<br>finance\",\n",
    "            xref=\"paper\",\n",
    "            yref=\"paper\",\n",
    "            showarrow=False,\n",
    "            align=\"center\",\n",
    "            font=dict(color=\"tomato\", size=18),\n",
    "        ),\n",
    "        dict(\n",
    "            x=0.75,\n",
    "            y=1.01,\n",
    "            text=\"(Gt CO<sub>2</sub>e)\",\n",
    "            xref=\"paper\",\n",
    "            yref=\"paper\",\n",
    "            align=\"center\",\n",
    "            showarrow=False,\n",
    "            font=dict(color=\"grey\", size=15),\n",
    "        ),\n",
    "        dict(\n",
    "            x=0.88,\n",
    "            y=1.01,\n",
    "            text=\"(Gt CO<sub>2</sub>e)\",\n",
    "            xref=\"paper\",\n",
    "            yref=\"paper\",\n",
    "            showarrow=False,\n",
    "            align=\"center\",\n",
    "            font=dict(color=col_receive, size=15),\n",
    "        ),\n",
    "        dict(\n",
    "            x=1.01,\n",
    "            y=1.01,\n",
    "            text=\"(Gt CO<sub>2</sub>e)\",\n",
    "            xref=\"paper\",\n",
    "            yref=\"paper\",\n",
    "            showarrow=False,\n",
    "            align=\"center\",\n",
    "            font=dict(color=\"tomato\", size=15),\n",
    "        ),\n",
    "        dict(\n",
    "            x=0.25,\n",
    "            y=-0.08,\n",
    "            text=\"Emissions reductions by \" + str(year_of_focus) + \" w.r.t. 2015\",\n",
    "            xref=\"paper\",\n",
    "            yref=\"paper\",\n",
    "            xanchor=\"center\",\n",
    "            showarrow=False,\n",
    "            font=dict(color=\"black\", size=15),\n",
    "        ),\n",
    "    ]\n",
    ")\n",
    "\n",
    "for i in range(5):\n",
    "    fig.add_shape(\n",
    "        type=\"line\",\n",
    "        x0=[0.08, 0.22, 0.45, 0.28, 0.28][i],\n",
    "        x1=[0.11, 0.20, 0.49, 0.18, 0.18][i],  # Line spans horizontally across the paper\n",
    "        y0=[1.04, 1.04, 1.01, 0.89, 0.89][i],\n",
    "        y1=[0.99, 0.99, 0.99, 0.91, 0.87][i],  # Line fixed at y=5 in subplot data coordinates\n",
    "        xref=\"paper\",  # Reference x-coordinates relative to the paper\n",
    "        yref=\"paper\",  # Reference y-axis of the first subplot\n",
    "        line=dict(color=\"black\", width=2),  # Line style\n",
    "    )\n",
    "\n",
    "# ============ #\n",
    "# Panel (a) Explainer\n",
    "# ============ #\n",
    "\n",
    "reg = \"SAU\"\n",
    "if year_of_focus == 2030:\n",
    "    dash = \"solid\"\n",
    "else:\n",
    "    dash = \"dot\"\n",
    "ndc_estimate, reductions_i, costopt_i = data(reg)\n",
    "reductions_i[1] = -0.1\n",
    "reductions_i[0] = -0.5\n",
    "\n",
    "fig.add_shape(\n",
    "    type=\"line\",\n",
    "    col=1,\n",
    "    row=1,\n",
    "    x0=ndc_estimate,\n",
    "    x1=ndc_estimate,\n",
    "    y0=1 + -wd,\n",
    "    y1=1 + wd,\n",
    "    name=\"NDC\",\n",
    "    legendgroup=2,\n",
    "    showlegend=False,\n",
    "    line=dict(color=\"black\", width=5, dash=dash),\n",
    ")\n",
    "for i in range(3):\n",
    "    fig.add_shape(\n",
    "        type=\"line\",\n",
    "        col=1,\n",
    "        row=1,\n",
    "        x0=reductions_i[i],\n",
    "        x1=reductions_i[i],\n",
    "        y0=1 + -wd * 0.3 + [-wd * 0.7, 0, wd * 0.7][i],\n",
    "        y1=1 + wd * 0.3 + [-wd * 0.7, 0, wd * 0.7][i],\n",
    "        name=[\"Per capita convergence\", \"Ability to pay\", \"Equal cumulative per capita\"][i],\n",
    "        legendgroup=2,\n",
    "        showlegend=False,\n",
    "        line=dict(color=[\"steelblue\", \"goldenrod\", \"purple\"][i], width=5),\n",
    "    )\n",
    "areas(fig, ndc_estimate, reductions_i, costopt_i, 1, 1)\n",
    "fig.add_shape(\n",
    "    type=\"line\",\n",
    "    col=1,\n",
    "    row=1,\n",
    "    x0=costopt_i,\n",
    "    x1=costopt_i,\n",
    "    y0=-wd + 1,\n",
    "    y1=wd + 1,\n",
    "    name=\"Cost optimal\",\n",
    "    legendgroup=2,\n",
    "    showlegend=False,\n",
    "    line=dict(color=\"saddlebrown\", width=5),\n",
    ")\n",
    "\n",
    "fig.add_shape(\n",
    "    col=1,\n",
    "    row=1,\n",
    "    type=\"line\",\n",
    "    x0=0,\n",
    "    x1=0,\n",
    "    y0=0.5,\n",
    "    y1=2,\n",
    "    line=dict(color=\"black\", dash=\"dash\", width=3),\n",
    ")\n",
    "fig.update_yaxes(row=1, col=1, range=(0.5, 1.5), showticklabels=False)\n",
    "\n",
    "fig.update_layout(\n",
    "    plot_bgcolor=\"white\",  # Background of the plot area\n",
    "    paper_bgcolor=\"white\",  # Background of the entire figure\n",
    "    barmode=\"group\",  # Ensures the bars are grouped\n",
    ")\n",
    "fig.update_xaxes(row=1, col=1, range=(-1, 3), showticklabels=False)\n",
    "\n",
    "# Annotation\n",
    "for i in range(3):\n",
    "    fig.add_annotation(\n",
    "        text=[\"1.0\", \"0\", \"4.0\"][i],\n",
    "        x=[0.1, 0.5, 0.9][i],\n",
    "        y=0.8,\n",
    "        showarrow=False,\n",
    "        row=1,\n",
    "        col=3,\n",
    "        font=dict(size=17, color=[\"grey\", col_receive, \"tomato\"][i]),\n",
    "    )\n",
    "    fig.add_annotation(\n",
    "        text=[\"0.5\", \"0.5\", \"0\"][i],\n",
    "        x=[0.1, 0.5, 0.9][i],\n",
    "        y=0.5,\n",
    "        showarrow=False,\n",
    "        row=1,\n",
    "        col=3,\n",
    "        font=dict(size=17, color=[\"grey\", col_receive, \"tomato\"][i]),\n",
    "    )\n",
    "    fig.add_annotation(\n",
    "        text=[\"0\", \"1.0\", \"0\"][i],\n",
    "        x=[0.1, 0.5, 0.9][i],\n",
    "        y=0.2,\n",
    "        showarrow=False,\n",
    "        row=1,\n",
    "        col=3,\n",
    "        font=dict(size=17, color=[\"grey\", col_receive, \"tomato\"][i]),\n",
    "    )\n",
    "fig.update_xaxes(row=1, col=3, range=(0, 1), showticklabels=False)\n",
    "fig.update_yaxes(row=1, col=3, range=(0, 1), showticklabels=False)\n",
    "\n",
    "# ============ #\n",
    "# Actual data\n",
    "# ============ #\n",
    "\n",
    "for reg_i, reg in enumerate(\n",
    "    [\"USA\", \"EU\", \"JPN\", \"SAU\", \"RUS\", \"BRA\", \"ZAF\", \"IDN\", \"MEX\", \"CHN\", \"IND\", \"NGA\"][::-1]\n",
    "):\n",
    "    ndc_estimate, reductions_i, costopt_i = data(reg)\n",
    "\n",
    "    # ACTUAL DATA\n",
    "    fig.add_shape(\n",
    "        type=\"line\",\n",
    "        col=1,\n",
    "        row=2,\n",
    "        x0=ndc_estimate,\n",
    "        x1=ndc_estimate,\n",
    "        y0=reg_i * 1.25 + -wd,\n",
    "        y1=reg_i * 1.25 + wd,\n",
    "        name=\"NDC\",\n",
    "        legendgroup=2,\n",
    "        showlegend=False,\n",
    "        line=dict(color=\"black\", width=5, dash=dash),\n",
    "    )\n",
    "\n",
    "    if np.abs(ndc_estimate - costopt_i) < 0.0425:\n",
    "        costopt_plot = ndc_estimate - 0.0425\n",
    "    else:\n",
    "        costopt_plot = costopt_i\n",
    "    fig.add_shape(\n",
    "        type=\"line\",\n",
    "        col=1,\n",
    "        row=2,\n",
    "        x0=costopt_plot,\n",
    "        x1=costopt_plot,\n",
    "        y0=-wd + reg_i * 1.25,\n",
    "        y1=wd + reg_i * 1.25,\n",
    "        name=\"Cost optimal\",\n",
    "        legendgroup=2,\n",
    "        showlegend=False,\n",
    "        line=dict(color=\"saddlebrown\", width=5),\n",
    "    )\n",
    "\n",
    "    for i in range(3):\n",
    "        fig.add_shape(\n",
    "            type=\"line\",\n",
    "            col=1,\n",
    "            row=2,\n",
    "            x0=reductions_i[i],\n",
    "            x1=reductions_i[i],\n",
    "            y0=reg_i * 1.25 + -wd * 0.3 + [-wd * 0.7, 0, wd * 0.7][i],\n",
    "            y1=reg_i * 1.25 + wd * 0.3 + [-wd * 0.7, 0, wd * 0.7][i],\n",
    "            name=[\"Per capita convergence\", \"Ability to pay\", \"Equal cumulative per capita\"][i],\n",
    "            legendgroup=2,\n",
    "            showlegend=False,\n",
    "            line=dict(color=[\"steelblue\", \"goldenrod\", \"purple\"][i], width=5),\n",
    "        )\n",
    "\n",
    "    areas(fig, ndc_estimate, reductions_i, costopt_i, 2, 1, yref=reg_i * 1.25)\n",
    "    cty = all_regions_names[all_regions_iso == reg][0].replace(\" \", \"<br>\")\n",
    "    if reg == \"USA\":\n",
    "        cty = \"United<br>States\"\n",
    "    fig.add_annotation(\n",
    "        x=-0.05,\n",
    "        y=reg_i * 1.25,\n",
    "        align=\"left\",\n",
    "        text=cty,\n",
    "        xref=\"paper\",\n",
    "        yref=\"y4\",\n",
    "        showarrow=False,\n",
    "        font=dict(color=\"black\", size=16),\n",
    "    )\n",
    "\n",
    "    domestic = np.array(grey.sel(Region=reg)[[\"PCC\", \"AP\", \"ECPC\"]].to_array())\n",
    "    receivepay = np.array(green.sel(Region=reg)[[\"PCC\", \"AP\", \"ECPC\"]].to_array())\n",
    "    domoverspend = np.array(grey_super.sel(Region=reg)[[\"PCC\", \"AP\", \"ECPC\"]].to_array())\n",
    "    payabroad = (\n",
    "        np.array(red.sel(Region=reg)[[\"PCC\", \"AP\", \"ECPC\"]].to_array()) - domoverspend\n",
    "    )  # Some payments are done 'domestically' if NDC reductions > CO\n",
    "\n",
    "    d0, d1 = (np.min(domestic) / 1e3, np.max(domestic) / 1e3)\n",
    "    r0, r1 = (np.min(receivepay) / 1e3, np.max(receivepay) / 1e3)\n",
    "    p0, p1 = (np.min(payabroad) / 1e3, np.max(payabroad) / 1e3)\n",
    "    o0, o1 = (np.min(domoverspend) / 1e3, np.max(domoverspend) / 1e3)\n",
    "\n",
    "    if p0 == 0:\n",
    "        p0 = 0\n",
    "    if r0 == 0:\n",
    "        r0 = 0\n",
    "    if d0 == 0:\n",
    "        d0 = 0\n",
    "    if o0 == 0:\n",
    "        o0 = 0\n",
    "\n",
    "    s_d = f\"{d0:.1f}-{d1:.1f}\"\n",
    "    s_r = f\"{r0:.1f}-{r1:.1f}\"\n",
    "    s_p = f\"{p0:.1f}-{p1:.1f}\"\n",
    "    s_o = f\"{o0:.1f}-{o1:.1f}\"\n",
    "\n",
    "    if d0 == d1:\n",
    "        if d0 != 0:\n",
    "            s_d = f\"{d0:.1f}\"\n",
    "        else:\n",
    "            s_d = \"0\"\n",
    "    if r0 == r1:\n",
    "        if r0 != 0:\n",
    "            s_r = f\"{r0:.1f}\"\n",
    "        else:\n",
    "            s_r = \"0\"\n",
    "    if p0 == p1:\n",
    "        if p0 != 0:\n",
    "            s_p = f\"{p0:.1f}\"\n",
    "        else:\n",
    "            s_p = \"0\"\n",
    "    if o0 == o1:\n",
    "        if o0 != 0:\n",
    "            s_o = f\"{o0:.1f}\"\n",
    "        else:\n",
    "            s_o = \"0\"\n",
    "\n",
    "    stringy = [s_d, s_r, s_p, s_o]\n",
    "    for i in range(3):\n",
    "        fig.add_annotation(\n",
    "            text=stringy[i],\n",
    "            x=[0.1, 0.5, 0.9][i],\n",
    "            y=reg_i * 1.25,\n",
    "            showarrow=False,\n",
    "            row=2,\n",
    "            col=3,\n",
    "            font=dict(size=17, color=[\"grey\", col_receive, \"tomato\"][i]),\n",
    "        )\n",
    "\n",
    "fig.update_xaxes(row=2, col=3, range=(0, 1), showticklabels=False)\n",
    "fig.update_yaxes(row=2, col=3, range=(-0.5, 15), showticklabels=False)\n",
    "\n",
    "fig.add_shape(\n",
    "    col=1,\n",
    "    row=2,\n",
    "    type=\"line\",\n",
    "    x0=0,\n",
    "    x1=0,\n",
    "    y0=-1e3,\n",
    "    y1=1e3,\n",
    "    line=dict(color=\"black\", dash=\"dash\", width=3),\n",
    ")\n",
    "fig.update_xaxes(\n",
    "    row=2,\n",
    "    col=1,\n",
    "    range=(-1, 3),\n",
    "    tickfont=dict(size=16),\n",
    "    tickvals=[-1, -0.5, 0, 0.5, 1, 1.5, 2, 2.5],\n",
    "    ticktext=[\"-100%\", \"-50%\", \"No<br>reduction\", \"50%\", \"100%\", \"150%\", \"200%\", \"250%\"],\n",
    ")\n",
    "fig.update_yaxes(row=2, col=1, range=(-0.5, 15), showticklabels=False)\n",
    "\n",
    "fig.write_image(\n",
    "    \"K:/Code/effort-sharing/Figures/Presentations/ECEMFevent/Figure_\" + str(year_of_focus) + \".png\",\n",
    "    scale=5,\n",
    ")\n",
    "fig.show()"
   ]
  }
 ],
 "metadata": {
  "kernelspec": {
   "display_name": "Python 3",
   "language": "python",
   "name": "python3"
  },
  "language_info": {
   "codemirror_mode": {
    "name": "ipython",
    "version": 3
   },
   "file_extension": ".py",
   "mimetype": "text/x-python",
   "name": "python",
   "nbconvert_exporter": "python",
   "pygments_lexer": "ipython3",
   "version": "3.12.5"
  },
  "orig_nbformat": 4
 },
 "nbformat": 4,
 "nbformat_minor": 2
}
