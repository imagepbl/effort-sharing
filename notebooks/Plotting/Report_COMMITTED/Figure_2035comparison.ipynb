{
 "cells": [
  {
   "attachments": {},
   "cell_type": "markdown",
   "metadata": {},
   "source": [
    "## Preambule"
   ]
  },
  {
   "cell_type": "code",
   "execution_count": 167,
   "metadata": {},
   "outputs": [],
   "source": [
    "# General packages\n",
    "import numpy as np\n",
    "import pandas as pd\n",
    "from tqdm import tqdm\n",
    "from pathlib import Path\n",
    "import xarray as xr\n",
    "import pandas as pd\n",
    "import json\n",
    "import plotly\n",
    "\n",
    "# Plotting\n",
    "import matplotlib.pyplot as plt\n",
    "import plotly.express as px\n",
    "import plotly.graph_objects as go\n",
    "from plotly.subplots import make_subplots\n",
    "from plotly.colors import n_colors"
   ]
  },
  {
   "attachments": {},
   "cell_type": "markdown",
   "metadata": {},
   "source": [
    "## Parameters"
   ]
  },
  {
   "cell_type": "code",
   "execution_count": 168,
   "metadata": {},
   "outputs": [],
   "source": [
    "rules = ['PCC', 'ECPC', 'AP']\n",
    "rulecolors = ['goldenrod', 'tomato', 'forestgreen']\n",
    "year_of_focus = 2035"
   ]
  },
  {
   "attachments": {},
   "cell_type": "markdown",
   "metadata": {},
   "source": [
    "## Paths"
   ]
  },
  {
   "cell_type": "code",
   "execution_count": 169,
   "metadata": {},
   "outputs": [],
   "source": [
    "path_main = Path(\"K:/Code/effort-sharing/\")\n",
    "path_data = Path(\"K:/Data/Data_effortsharing/DataUpdate_ongoing/\")\n",
    "path_figs = path_main / \"Figures\" / \"Paper_FairShares\""
   ]
  },
  {
   "attachments": {},
   "cell_type": "markdown",
   "metadata": {},
   "source": [
    "## Read data files"
   ]
  },
  {
   "cell_type": "code",
   "execution_count": 170,
   "metadata": {},
   "outputs": [],
   "source": [
    "xr_dataread = xr.open_dataset(path_data / \"startyear_2021/xr_dataread.nc\")\n",
    "xr_traj_yeari = xr.open_dataset(path_data / (\"startyear_2021/Aggregated_files/xr_alloc_\"+str(year_of_focus)+\"_GHG_incl.nc\"))\n",
    "xr_alloc_yeari = xr.open_dataset(path_data / (\"startyear_2021/Aggregated_files/xr_alloc_\"+str(year_of_focus)+\"_GHG_incl.nc\"))\n",
    "xr_total = xr.open_dataset(path_data / \"xr_policyscen.nc\")\n",
    "\n",
    "all_regions_iso = np.load(path_data / \"all_regions.npy\")\n",
    "all_regions_names = np.load(path_data / \"all_regions_names.npy\")\n",
    "all_countries_iso = np.load(path_data / \"all_countries.npy\", allow_pickle=True)\n",
    "all_countries_names = np.load(path_data / \"all_countries_names.npy\", allow_pickle=True)"
   ]
  },
  {
   "cell_type": "markdown",
   "metadata": {},
   "source": [
    "## Get Cost-optimal output"
   ]
  },
  {
   "cell_type": "code",
   "execution_count": 171,
   "metadata": {},
   "outputs": [],
   "source": [
    "df_ar6 = pd.read_csv(\"X:/user/dekkerm/Data/IPCC/AR6_ISO3/AR6_Scenarios_Database_ISO3_v1.1.csv\")\n",
    "df_ar6 = df_ar6[df_ar6.Variable.isin(['Emissions|Kyoto Gases', 'Policy Cost|Consumption Loss'])]\n",
    "df_ar6 = df_ar6.reset_index(drop=True)\n",
    "\n",
    "df_ar6_meta = pd.read_excel(\"X:/user/dekkerm/Data/IPCC/AR6_ISO3/AR6_Scenarios_Database_metadata_indicators_v1.1.xlsx\", sheet_name='meta_Ch3vetted_withclimate')\n",
    "mods = np.array(df_ar6_meta.Model)\n",
    "scens = np.array(df_ar6_meta.Scenario)\n",
    "modscens_meta = np.array([mods[i]+'|'+scens[i] for i in range(len(scens))])\n",
    "df_ar6_meta['ModelScenario'] = modscens_meta\n",
    "df_ar6_meta = df_ar6_meta[['ModelScenario', 'Category', 'Policy_category']]\n",
    "df_ar6_meta = df_ar6_meta[df_ar6_meta.Category.isin(['C1'])]\n",
    "df_ar6_meta = df_ar6_meta.reset_index(drop=True)\n",
    "ms_meta_refined = np.array(df_ar6_meta.ModelScenario)\n",
    "\n",
    "mods = np.array(df_ar6.Model)\n",
    "scens = np.array(df_ar6.Scenario)\n",
    "modscens = np.array([mods[i]+'|'+scens[i] for i in range(len(scens))])\n",
    "df_ar6['ModelScenario'] = modscens\n",
    "df_ar6 = df_ar6.drop(['Model', 'Scenario', 'Unit'], axis=1)\n",
    "df_ar6 = df_ar6[df_ar6.ModelScenario.isin(np.array(ms_meta_refined))]\n",
    "\n",
    "dummy = df_ar6.melt(id_vars=[\"Variable\", \"Region\", \"ModelScenario\"], var_name=\"Time\", value_name=\"Value\")\n",
    "dummy['Time'] = np.array(dummy['Time'].astype(int))\n",
    "dummy = dummy.set_index([\"Variable\", \"Region\", \"ModelScenario\", \"Time\"])\n",
    "xr_scen_r = xr.Dataset.from_dataframe(dummy)\n",
    "xr_scen_r = xr_scen_r.reindex(Time = np.arange(1850, 2101))\n",
    "xr_scen_r = xr_scen_r.interpolate_na(dim=\"Time\", method=\"linear\")"
   ]
  },
  {
   "cell_type": "markdown",
   "metadata": {},
   "source": [
    "## Compute fractions"
   ]
  },
  {
   "cell_type": "markdown",
   "metadata": {},
   "source": [
    "World"
   ]
  },
  {
   "cell_type": "code",
   "execution_count": 172,
   "metadata": {},
   "outputs": [],
   "source": [
    "df_ar6 = pd.read_csv(\"X:/user/dekkerm/Data/IPCC/AR6_Scenarios_Database_World_v1.1.csv\")\n",
    "df_ar6 = df_ar6[df_ar6.Variable.isin(['Emissions|Kyoto Gases', 'Policy Cost|Consumption Loss', 'Price|Carbon'])]\n",
    "df_ar6 = df_ar6.reset_index(drop=True)\n",
    "\n",
    "df_ar6_meta = pd.read_excel(\"X:/user/dekkerm/Data/IPCC/AR6_Scenarios_Database_metadata_indicators_v1.1.xlsx\", sheet_name='meta_Ch3vetted_withclimate')\n",
    "mods = np.array(df_ar6_meta.Model)\n",
    "scens = np.array(df_ar6_meta.Scenario)\n",
    "modscens_meta = np.array([mods[i]+'|'+scens[i] for i in range(len(scens))])\n",
    "df_ar6_meta['ModelScenario'] = modscens_meta\n",
    "df_ar6_meta = df_ar6_meta[['ModelScenario', 'Category', 'Policy_category']]\n",
    "df_ar6_meta = df_ar6_meta[df_ar6_meta.Category.isin(['C1'])]\n",
    "df_ar6_meta = df_ar6_meta.reset_index(drop=True)\n",
    "ms_meta_refined = np.array(df_ar6_meta.ModelScenario)\n",
    "\n",
    "mods = np.array(df_ar6.Model)\n",
    "scens = np.array(df_ar6.Scenario)\n",
    "modscens = np.array([mods[i]+'|'+scens[i] for i in range(len(scens))])\n",
    "df_ar6['ModelScenario'] = modscens\n",
    "df_ar6['Region'] = 'WORLD'\n",
    "df_ar6 = df_ar6.drop(['Model', 'Scenario', 'Unit'], axis=1)\n",
    "df_ar6 = df_ar6[df_ar6.ModelScenario.isin(np.array(ms_meta_refined))]\n",
    "\n",
    "dummy = df_ar6.melt(id_vars=[\"Variable\", \"Region\", \"ModelScenario\"], var_name=\"Time\", value_name=\"Value\")\n",
    "dummy['Time'] = np.array(dummy['Time'].astype(int))\n",
    "dummy = dummy.set_index([\"Variable\", \"Region\", \"ModelScenario\", \"Time\"])\n",
    "xr_scen = xr.Dataset.from_dataframe(dummy)\n",
    "xr_scen = xr_scen.reindex(Time = np.arange(1850, 2101))\n",
    "xr_scen = xr_scen.interpolate_na(dim=\"Time\", method=\"linear\")"
   ]
  },
  {
   "cell_type": "markdown",
   "metadata": {},
   "source": [
    "Regional"
   ]
  },
  {
   "cell_type": "code",
   "execution_count": 173,
   "metadata": {},
   "outputs": [],
   "source": [
    "df_ar6 = pd.read_csv(\"X:/user/dekkerm/Data/IPCC/AR6_ISO3/AR6_Scenarios_Database_ISO3_v1.1.csv\")\n",
    "df_ar6 = df_ar6[df_ar6.Variable.isin(['Emissions|Kyoto Gases', 'Policy Cost|Consumption Loss', 'Price|Carbon'])]\n",
    "df_ar6 = df_ar6.reset_index(drop=True)\n",
    "\n",
    "df_ar6_meta = pd.read_excel(\"X:/user/dekkerm/Data/IPCC/AR6_ISO3/AR6_Scenarios_Database_metadata_indicators_v1.1.xlsx\", sheet_name='meta_Ch3vetted_withclimate')\n",
    "mods = np.array(df_ar6_meta.Model)\n",
    "scens = np.array(df_ar6_meta.Scenario)\n",
    "modscens_meta = np.array([mods[i]+'|'+scens[i] for i in range(len(scens))])\n",
    "df_ar6_meta['ModelScenario'] = modscens_meta\n",
    "df_ar6_meta = df_ar6_meta[['ModelScenario', 'Category', 'Policy_category']]\n",
    "df_ar6_meta = df_ar6_meta[df_ar6_meta.Category.isin(['C1'])]\n",
    "df_ar6_meta = df_ar6_meta.reset_index(drop=True)\n",
    "ms_meta_refined = np.array(df_ar6_meta.ModelScenario)\n",
    "\n",
    "mods = np.array(df_ar6.Model)\n",
    "scens = np.array(df_ar6.Scenario)\n",
    "modscens = np.array([mods[i]+'|'+scens[i] for i in range(len(scens))])\n",
    "df_ar6['ModelScenario'] = modscens\n",
    "df_ar6 = df_ar6.drop(['Model', 'Scenario', 'Unit'], axis=1)\n",
    "df_ar6 = df_ar6[df_ar6.ModelScenario.isin(np.array(ms_meta_refined))]\n",
    "\n",
    "dummy = df_ar6.melt(id_vars=[\"Variable\", \"Region\", \"ModelScenario\"], var_name=\"Time\", value_name=\"Value\")\n",
    "dummy['Time'] = np.array(dummy['Time'].astype(int))\n",
    "dummy = dummy.set_index([\"Variable\", \"Region\", \"ModelScenario\", \"Time\"])\n",
    "xr_scen_r = xr.Dataset.from_dataframe(dummy)\n",
    "xr_scen_r = xr_scen_r.reindex(Time = np.arange(1850, 2101))\n",
    "xr_scen_r = xr_scen_r.interpolate_na(dim=\"Time\", method=\"linear\")"
   ]
  },
  {
   "cell_type": "markdown",
   "metadata": {},
   "source": [
    "R-10 regions"
   ]
  },
  {
   "cell_type": "code",
   "execution_count": 174,
   "metadata": {},
   "outputs": [],
   "source": [
    "df_ar6 = pd.read_csv(\"X:/user/dekkerm/Data/IPCC/AR6_R10/AR6_Scenarios_Database_R10_regions_v1.1.csv\")\n",
    "df_ar6 = df_ar6[df_ar6.Variable.isin(['Emissions|Kyoto Gases', 'Policy Cost|Consumption Loss', 'Price|Carbon'])]\n",
    "df_ar6 = df_ar6.reset_index(drop=True)\n",
    "\n",
    "df_ar6_meta = pd.read_excel(\"X:/user/dekkerm/Data/IPCC/AR6_R10/AR6_Scenarios_Database_metadata_indicators_v1.1.xlsx\", sheet_name='meta_Ch3vetted_withclimate')\n",
    "mods = np.array(df_ar6_meta.Model)\n",
    "scens = np.array(df_ar6_meta.Scenario)\n",
    "modscens_meta = np.array([mods[i]+'|'+scens[i] for i in range(len(scens))])\n",
    "df_ar6_meta['ModelScenario'] = modscens_meta\n",
    "df_ar6_meta = df_ar6_meta[['ModelScenario', 'Category', 'Policy_category']]\n",
    "df_ar6_meta = df_ar6_meta[df_ar6_meta.Category.isin(['C1'])]\n",
    "df_ar6_meta = df_ar6_meta.reset_index(drop=True)\n",
    "ms_meta_refined = np.array(df_ar6_meta.ModelScenario)\n",
    "\n",
    "mods = np.array(df_ar6.Model)\n",
    "scens = np.array(df_ar6.Scenario)\n",
    "modscens = np.array([mods[i]+'|'+scens[i] for i in range(len(scens))])\n",
    "df_ar6['ModelScenario'] = modscens\n",
    "df_ar6 = df_ar6.drop(['Model', 'Scenario', 'Unit'], axis=1)\n",
    "df_ar6 = df_ar6[df_ar6.ModelScenario.isin(np.array(ms_meta_refined))]\n",
    "\n",
    "dummy = df_ar6.melt(id_vars=[\"Variable\", \"Region\", \"ModelScenario\"], var_name=\"Time\", value_name=\"Value\")\n",
    "dummy['Time'] = np.array(dummy['Time'].astype(int))\n",
    "dummy = dummy.set_index([\"Variable\", \"Region\", \"ModelScenario\", \"Time\"])\n",
    "xr_scen_r10 = xr.Dataset.from_dataframe(dummy)\n",
    "xr_scen_r10 = xr_scen_r10.reindex(Time = np.arange(1850, 2101))\n",
    "xr_scen_r10 = xr_scen_r10.interpolate_na(dim=\"Time\", method=\"linear\")"
   ]
  },
  {
   "cell_type": "code",
   "execution_count": 175,
   "metadata": {},
   "outputs": [],
   "source": [
    "df_conv = pd.read_excel(\"X:/user/dekkerm/Data/AR6_regionclasses.xlsx\", sheet_name = 'Sheet1')[['ISO', 'region_ar6_10']]\n",
    "regs = np.array(df_conv.region_ar6_10)\n",
    "regs[regs == 'Africa'] =            'R10AFRICA'\n",
    "regs[regs == 'Eastern Asia'] =      'R10CHINA+'\n",
    "regs[regs == 'Europe'] =            'R10EUROPE'\n",
    "regs[regs == 'Southern Asia'] =     'R10INDIA+'\n",
    "regs[regs == 'Latin America and Caribbean'] = 'R10LATIN_AM'\n",
    "regs[regs == 'Middle East'] =       'R10MIDDLE_EAST'\n",
    "regs[regs == 'North America'] =     'R10NORTH_AM'\n",
    "regs[regs == 'Asia-Pacific Developed'] = 'R10PAC_OECD'\n",
    "regs[regs == 'Eurasia'] =           'R10REF_ECON'\n",
    "regs[regs == 'South-East Asia and developing Pacific'] = 'R10REST_ASIA'\n",
    "df_conv['region_ar6_10'] = regs"
   ]
  },
  {
   "cell_type": "code",
   "execution_count": 176,
   "metadata": {},
   "outputs": [],
   "source": [
    "native_regions = np.array(xr_scen_r.Region)\n",
    "xrs = []\n",
    "for cty in all_countries_iso:\n",
    "    if cty not in native_regions:\n",
    "        which_group = np.array(df_conv[df_conv.ISO == cty].region_ar6_10)[0]\n",
    "        group_members = np.array(df_conv[df_conv.region_ar6_10 == which_group].ISO)\n",
    "        emis_total = float(xr_dataread.GHG_hist.sel(Region=np.intersect1d(group_members,all_countries_iso), Time=2021).sum(dim='Region'))\n",
    "        emis_frac = xr_dataread.GHG_hist.sel(Region=cty, Time=2021) / emis_total\n",
    "        xrry = xr.merge([xr_scen_r10.sel(Region=which_group, Variable=['Emissions|Kyoto Gases'])*emis_frac,\n",
    "                         xr_scen_r10.sel(Region=which_group, Variable=['Price|Carbon'])]).expand_dims({'Region': [cty]})\n",
    "        xrs.append(xrry)\n",
    "xr_scen_infilled_r = xr.concat(xrs, dim='Region')"
   ]
  },
  {
   "cell_type": "markdown",
   "metadata": {},
   "source": [
    "Concatenate"
   ]
  },
  {
   "cell_type": "code",
   "execution_count": 177,
   "metadata": {},
   "outputs": [],
   "source": [
    "xr_scen_all = xr.merge([xr_scen, xr_scen_r, xr_scen_infilled_r])"
   ]
  },
  {
   "cell_type": "markdown",
   "metadata": {},
   "source": [
    "## Data for plots"
   ]
  },
  {
   "cell_type": "code",
   "execution_count": 178,
   "metadata": {},
   "outputs": [],
   "source": [
    "settings_default = {'Temperature': 1.6,\n",
    "                   'Risk': 0.5,\n",
    "                   'NegEmis': 0.5,\n",
    "                   'NonCO2red': 0.5,\n",
    "                   'Timing': \"Immediate\",\n",
    "                   'Convergence_year': 2050,\n",
    "                   'Scenario': 'SSP2',\n",
    "                   'Discount_factor': 0,\n",
    "                   'Historical_startyear': 1990,}\n",
    "                   #'Capability_threshold': \"Th\",\n",
    "                   #'RCI_weight': \"Half\"}\n",
    "settings_ranges = {'Temperature': [1.6, 2.0],\n",
    "                   'Risk': [0.5, 0.33],\n",
    "                   'Convergence_year': [2050, 2080],\n",
    "                    'NonCO2red':[0.33, 0.5, 0.67],\n",
    "                   'Timing': [\"Immediate\"],\n",
    "                   }\n",
    "settings_ranges2 = {'Temperature': [1.6, 2.0],\n",
    "                   'Risk': [0.5, 0.33],\n",
    "                   'Convergence_year': [2050, 2080],\n",
    "                    'NonCO2red':[0.33, 0.5, 0.67],\n",
    "                   'Timing': [\"Immediate\"],\n",
    "                   }\n",
    "                   #'Capability_threshold': \"Th\",\n",
    "                   #'RCI_weight': \"Half\"}"
   ]
  },
  {
   "cell_type": "code",
   "execution_count": 179,
   "metadata": {},
   "outputs": [],
   "source": [
    "ndcs = xr_dataread.GHG_ndc.mean(dim=['Conditionality', 'Ambition'])\n",
    "data = xr_traj_yeari.sel(**settings_ranges)[['ECPC', 'AP', 'PCC']]\n",
    "data_max = xr.concat([data.ECPC, data.AP.expand_dims({'Convergence_year': [2050, 2080]}), data.PCC], dim='variable2').max(dim=list(settings_default.keys())+['variable2'])\n",
    "data = xr_traj_yeari.sel(**settings_default)[['ECPC', 'AP', 'PCC']]\n",
    "data_def = xr.concat([data.ECPC, data.AP, data.PCC], dim='variable2').max(dim='variable2')"
   ]
  },
  {
   "cell_type": "code",
   "execution_count": 180,
   "metadata": {},
   "outputs": [
    {
     "name": "stdout",
     "output_type": "stream",
     "text": [
      "Preferences on default settings\n",
      "-----\n"
     ]
    }
   ],
   "source": [
    "print(\"Preferences on default settings\")\n",
    "print('-----')\n",
    "data = xr_traj_yeari.sel(**settings_default)[['ECPC', 'AP', 'PCC']]\n",
    "data_def = xr.concat([data.ECPC, data.AP, data.PCC], dim='variable2').max(dim='variable2')\n",
    "argmax_default = xr.concat([data.ECPC, data.AP, data.PCC], dim='variable2').fillna(-9e99).argmax(dim='variable2')\n",
    "\n",
    "data = xr_traj_yeari.sel(**settings_ranges)[['ECPC', 'AP', 'PCC']]\n",
    "data_max = xr.concat([data.ECPC, data.AP.expand_dims({'Convergence_year': [2050, 2080]}), data.PCC], dim='variable2').max(dim=list(settings_default.keys())+['variable2'])\n",
    "argmax_maximum = xr.concat([data.ECPC, data.AP.expand_dims({'Convergence_year': [2050, 2080]}), data.PCC], dim='variable2').fillna(-9e99).argmax(dim=list(settings_default.keys())+['variable2'])\n",
    "x = xr.concat([data.ECPC, data.AP.expand_dims({'Convergence_year': [2050, 2080]}), data.PCC], dim='variable2').fillna(-9e99)\n",
    "argmax_max = []\n",
    "maxs = x.max(dim=list(settings_default.keys())+['variable2'])\n",
    "for cty in x.Region:\n",
    "    mx = float(maxs.sel(Region=cty).values)\n",
    "    wh = np.where(x.sel(Region=cty).values == mx)\n",
    "    wh = np.array(wh)[:, 0]\n",
    "    argmax_max.append(wh[0])\n",
    "argmax_max = np.array(argmax_max)\n",
    "\n",
    "df_c = []\n",
    "df_r_d = []\n",
    "df_r_m = []\n",
    "for cty_i, cty in enumerate(all_countries_iso):\n",
    "    df_c.append(all_countries_names[cty_i])\n",
    "    df_r_d.append(['ECPC', 'AP', 'PCC'][argmax_default.sel(Region=cty).values])\n",
    "    df_r_m.append(['ECPC', 'AP', 'PCC'][argmax_max[cty_i]])\n",
    "df_dict = {'Region': df_c, 'Default': df_r_d, 'Maximum': df_r_m}\n",
    "df = pd.DataFrame(df_dict)\n",
    "df.to_csv(path_data / \"preferences_default_max.csv\")"
   ]
  },
  {
   "cell_type": "code",
   "execution_count": 181,
   "metadata": {},
   "outputs": [],
   "source": [
    "xr_policyscen = xr.open_dataset(path_data / \"xr_policyscen.nc\")\n",
    "curpols = xr_policyscen.CurPol.sel(Time=year_of_focus).mean(dim='Model')\n",
    "nzs = xr_policyscen.NetZero.sel(Time=year_of_focus).mean(dim='Model')"
   ]
  },
  {
   "cell_type": "code",
   "execution_count": 182,
   "metadata": {},
   "outputs": [],
   "source": [
    "path_ctygroups = \"X:/user/dekkerm/Data/\" + \"UNFCCC_Parties_Groups_noeu.xlsx\"\n",
    "df = pd.read_excel(path_ctygroups, sheet_name = \"Country groups\")\n",
    "countries_iso = np.array(df[\"Country ISO Code\"])\n",
    "countries_name = np.array(df[\"Name\"])\n",
    "countries_iso = np.array(df[\"Country ISO Code\"])\n",
    "group_eu = countries_iso[np.array(df[\"EU\"]) == 1]"
   ]
  },
  {
   "cell_type": "code",
   "execution_count": 183,
   "metadata": {},
   "outputs": [],
   "source": [
    "costopts = xr_scen_all.sel(Time=year_of_focus, Variable='Emissions|Kyoto Gases').mean(dim='ModelScenario')"
   ]
  },
  {
   "cell_type": "markdown",
   "metadata": {},
   "source": [
    "## Gaps"
   ]
  },
  {
   "cell_type": "code",
   "execution_count": 184,
   "metadata": {},
   "outputs": [],
   "source": [
    "nec = xr_dataread.GHG_globe.sel(Time=year_of_focus, Temperature=1.6, Risk=0.5, NonCO2red=0.5, NegEmis=0.5, Timing='Immediate').values\n",
    "gap_default = float(data_def.sel(Region=countries_iso).sum() - nec)\n",
    "gap_default_perc = float((data_def.sel(Region=countries_iso).sum() - nec)/nec)\n",
    "\n",
    "gap_max = float(data_max.sel(Region=countries_iso).sum() - nec)\n",
    "gap_max_perc = float((data_max.sel(Region=countries_iso).sum() - nec)/nec)"
   ]
  },
  {
   "cell_type": "markdown",
   "metadata": {},
   "source": [
    "## Gaps"
   ]
  },
  {
   "cell_type": "code",
   "execution_count": 185,
   "metadata": {},
   "outputs": [],
   "source": [
    "q0 = 0.1\n",
    "q1 = 0.9"
   ]
  },
  {
   "cell_type": "code",
   "execution_count": 186,
   "metadata": {},
   "outputs": [
    {
     "name": "stderr",
     "output_type": "stream",
     "text": [
      "k:\\Environments\\MyEnv\\Lib\\site-packages\\numpy\\lib\\nanfunctions.py:1563: RuntimeWarning:\n",
      "\n",
      "All-NaN slice encountered\n",
      "\n",
      "k:\\Environments\\MyEnv\\Lib\\site-packages\\numpy\\lib\\nanfunctions.py:1563: RuntimeWarning:\n",
      "\n",
      "All-NaN slice encountered\n",
      "\n"
     ]
    }
   ],
   "source": [
    "co = costopts.Value\n",
    "co_0 = xr_scen_all.sel(Time=year_of_focus, Variable='Emissions|Kyoto Gases').quantile(q0, dim='ModelScenario')\n",
    "co_1 = xr_scen_all.sel(Time=year_of_focus, Variable='Emissions|Kyoto Gases').quantile(q1, dim='ModelScenario')\n",
    "ndc = xr_dataread.GHG_ndc.mean(dim='Ambition').min(dim='Conditionality')\n",
    "ndc = ndc.where(ndc.Region!='ZMB', np.nan)\n",
    "ndc = ndc.where(ndc.Region!='COM', np.nan)\n",
    "fair = xr_alloc_yeari.sel(Temperature=1.6,\n",
    "                                Risk=0.5,\n",
    "                                Timing='Immediate',\n",
    "                                NonCO2red=0.5,\n",
    "                                NegEmis=0.5,\n",
    "                                Scenario='SSP2',\n",
    "                                Convergence_year=2050,\n",
    "                                Discount_factor=0,\n",
    "                                Historical_startyear=1990)[['PCC', 'AP', 'ECPC']]\n",
    "fair_0 = xr_alloc_yeari.sel(Temperature=1.6,\n",
    "                            Risk=0.5,\n",
    "                            Convergence_year=[2050, 2080])[['PCC', 'AP', 'ECPC']].quantile(0, dim=['Convergence_year', 'NegEmis', 'NonCO2red', 'Timing', 'Scenario', 'Discount_factor', 'Historical_startyear'])\n",
    "fair_1 = xr_alloc_yeari.sel(Temperature=1.6,\n",
    "                            Risk=0.5,\n",
    "                            Convergence_year=[2050, 2080])[['PCC', 'AP', 'ECPC']].quantile(1, dim=['Convergence_year', 'NegEmis', 'NonCO2red', 'Timing', 'Scenario', 'Discount_factor', 'Historical_startyear'])\n",
    "\n",
    "totaldev = fair - co # If positive, receive funds, if negative, pay funds (or partially domestic)\n",
    "ndcdev = ndc - co # If positive, more domestic action needed, and vice versa\n",
    "grey = (ndcdev - totaldev.where(totaldev > 0, 0)).where(ndcdev - totaldev.where(totaldev > 0, 0) > 0, 0)\n",
    "red = -totaldev.where(totaldev < 0, 0)\n",
    "green = totaldev.where(totaldev > 0, 0)\n",
    "grey_super = (co-ndc).where(fair < co, 0)#-(ndcdev - totaldev.where(totaldev > 0, 0)).where(ndcdev - totaldev.where(totaldev > 0, 0) < 0, 0)\n",
    "grey_super = grey_super.where(grey_super > 0, 0)\n",
    "\n",
    "for cty in group_eu: # To avoid double counting!\n",
    "    grey.loc[{'Region': cty}] = np.nan\n",
    "    red.loc[{'Region': cty}] = np.nan\n",
    "    green.loc[{'Region': cty}] = np.nan\n",
    "    grey_super.loc[{'Region': cty}] = np.nan\n"
   ]
  },
  {
   "cell_type": "markdown",
   "metadata": {},
   "source": [
    "## NDC 2035 data"
   ]
  },
  {
   "cell_type": "code",
   "execution_count": 187,
   "metadata": {},
   "outputs": [
    {
     "name": "stderr",
     "output_type": "stream",
     "text": [
      "C:\\Users\\dekkerm\\AppData\\Local\\Temp\\2\\ipykernel_11044\\1402567247.py:38: FutureWarning:\n",
      "\n",
      "Calling float on a single element Series is deprecated and will raise a TypeError in the future. Use float(ser.iloc[0]) instead\n",
      "\n"
     ]
    }
   ],
   "source": [
    "df_ndc_raw = pd.read_excel(\"X:/user/dekkerm/Data/NDC/NDC tool GHG incl excl LULUCF with Input results.xlsx\",\n",
    "                            sheet_name='results_incl LULUCF', header=5)\n",
    "regs = df_ndc_raw['country_name']\n",
    "regs_iso = []\n",
    "for r in regs:\n",
    "    wh = np.where(countries_name == r)[0]\n",
    "    if len(wh) == 0:\n",
    "        if r == 'United States':\n",
    "            regs_iso.append('USA')\n",
    "        elif r == 'EU27':\n",
    "            regs_iso.append('EU')\n",
    "        elif r == 'Turkey':\n",
    "            regs_iso.append('TUR')\n",
    "        else:\n",
    "            regs_iso.append(np.nan)\n",
    "    else:\n",
    "        regs_iso.append(countries_iso[wh[0]])\n",
    "regs_iso = np.array(regs_iso)\n",
    "df_ndc_raw['ISO'] = regs_iso\n",
    "\n",
    "df_regs = []\n",
    "df_amb = []\n",
    "df_con = []\n",
    "df_emis = []\n",
    "df_lulucf = []\n",
    "df_red = []\n",
    "df_abs = []\n",
    "df_inv = []\n",
    "histemis = xr_dataread.GHG_hist.sel(Time=2015)\n",
    "for r in list(countries_iso) + ['EU']:\n",
    "    histemis_r = float(histemis.sel(Region=r))\n",
    "    df_ndc_raw_sub = df_ndc_raw[df_ndc_raw['ISO'] == r]\n",
    "    if len(df_ndc_raw_sub)>0:\n",
    "        for cond in ['Unconditional', 'Conditional']:\n",
    "            for ambition_i, ambition in enumerate(['min', 'max']):\n",
    "                add = ['Min', 'Max'][ambition_i]\n",
    "                key = 'NDC_2035_'+cond+'_'+add\n",
    "                val = float(df_ndc_raw_sub[key])\n",
    "                red = 1 - val / histemis_r\n",
    "                abs_jones = histemis_r * (1 - red)\n",
    "                df_regs.append(r)\n",
    "                df_amb.append(ambition)\n",
    "                df_con.append(cond)\n",
    "                df_emis.append('NDC')\n",
    "                df_lulucf.append('incl')\n",
    "                df_red.append(red)\n",
    "                df_abs.append(abs_jones)\n",
    "                df_inv.append(val)\n",
    "\n",
    "dict_ndc = {\"Region\": df_regs,\n",
    "            \"Ambition\": df_amb,\n",
    "            \"Conditionality\": df_con,\n",
    "            \"GHG_ndc_red\": df_red,\n",
    "            \"GHG_ndc\": df_abs,\n",
    "            \"GHG_ndc_inv\": df_inv}\n",
    "df_ndc = pd.DataFrame(dict_ndc)\n",
    "xr_ndc = xr.Dataset.from_dataframe(df_ndc.set_index([\"Region\", \"Ambition\", \"Conditionality\"]))"
   ]
  },
  {
   "cell_type": "code",
   "execution_count": 198,
   "metadata": {},
   "outputs": [],
   "source": [
    "costopt_mt = costopts.Value\n",
    "ndc_est_mt = xr_dataread.GHG_ndc.mean(dim='Ambition').min(dim='Conditionality')\n",
    "ndc_est_mt2035 = xr_ndc.GHG_ndc.mean(dim='Ambition').min(dim='Conditionality')\n",
    "red_mt = xr_alloc_yeari.sel(Temperature=1.6,\n",
    "                                 Risk=0.5,\n",
    "                                 Timing='Immediate',\n",
    "                                 NonCO2red=0.5,\n",
    "                                 NegEmis=0.5,\n",
    "                                 Scenario='SSP2',\n",
    "                                 Convergence_year=2050,\n",
    "                                 Discount_factor=0,\n",
    "                                 Historical_startyear=1990)\n",
    "\n",
    "emis_2015 = xr_dataread.GHG_hist.sel(Time=2015)\n",
    "reductions = 1-red_mt/emis_2015\n",
    "ndc_est = 1-(ndc_est_mt / emis_2015)\n",
    "ndc_est2035 = 1-(ndc_est_mt2035 / emis_2015)\n",
    "costopt = 1-costopt_mt/emis_2015\n",
    "\n",
    "red_0 = 1-fair_0/emis_2015\n",
    "red_1 = 1-fair_1/emis_2015\n",
    "costopt_0 = 1-co_0/emis_2015\n",
    "costopt_1 = 1-co_1/emis_2015\n",
    "\n",
    "def data(reg): # Reduction targets\n",
    "    return float(ndc_est.sel(Region=reg)), float(ndc_est2035.sel(Region=reg)), np.array(reductions.sel(Region=reg)[['PCC', 'AP', 'ECPC']].to_array()), float(costopt.sel(Region=reg))\n",
    "def data_mt(reg): # Absolute emissions levels\n",
    "    return float(ndc_est_mt.sel(Region=reg)), np.array(red_mt.sel(Region=reg)[['PCC', 'AP', 'ECPC']].to_array()), float(costopt_mt.sel(Region=reg))"
   ]
  },
  {
   "cell_type": "markdown",
   "metadata": {},
   "source": [
    "## Finance plot"
   ]
  },
  {
   "cell_type": "code",
   "execution_count": 200,
   "metadata": {},
   "outputs": [],
   "source": [
    "col1 = \"#afc50f\"#\"rgba(255, 65, 54, 1)\"\n",
    "col2 = '#2e5061'#'rgba(61, 153, 112, 1)'\n",
    "col3 = '#0062a6'"
   ]
  },
  {
   "cell_type": "code",
   "execution_count": 201,
   "metadata": {},
   "outputs": [],
   "source": [
    "col_receive = 'forestgreen'\n",
    "dx = 0.03\n",
    "opac = 0.5\n",
    "def areas(fig, ndc_estimate, reductions_i, costopt_i, row, col, yref=1):\n",
    "    for i in range(3):\n",
    "        ymin = yref + -wd*0.3 + [-wd*0.7, 0, wd*0.7][i]\n",
    "        ymax = yref + wd*0.3+ [-wd*0.7, 0, wd*0.7][i]\n",
    "        if reductions_i[i] > ndc_estimate:\n",
    "            if costopt_i < reductions_i[i] and costopt_i > ndc_estimate:\n",
    "                fig.add_shape(\n",
    "                    row = row, col=col,\n",
    "                    type='rect',  # Draw a rectangle\n",
    "                    x0=ndc_estimate+dx, x1=costopt_i-dx,  # The range of the box (between min and max values)\n",
    "                    y0=ymin, y1=ymax,  # Position the box on the y-axis (with some vertical padding)\n",
    "                    line=dict(color='black', width=0),  # Border color and width of the box\n",
    "                    name='Increase domestic ambition',\n",
    "                    showlegend=False,\n",
    "                    opacity = opac,\n",
    "                    legendgroup=3,\n",
    "                    fillcolor='grey',  # Transparent fill color (adjust alpha for transparency)\n",
    "                )\n",
    "            elif costopt_i > reductions_i[i]:\n",
    "                fig.add_shape(\n",
    "                    row = row, col=col,\n",
    "                    type='rect',  # Draw a rectangle\n",
    "                    x0=ndc_estimate+dx, x1=reductions_i[i]-dx,  # The range of the box (between min and max values)\n",
    "                    y0=ymin, y1=ymax,  # Position the box on the y-axis (with some vertical padding)\n",
    "                    line=dict(color='black', width=0),  # Border color and width of the box\n",
    "                    opacity = opac,\n",
    "                    fillcolor='grey',  # Transparent fill color (adjust alpha for transparency)\n",
    "                )\n",
    "                fig.add_shape(\n",
    "                    row = row, col=col,\n",
    "                    type='rect',  # Draw a rectangle\n",
    "                    x0=reductions_i[i]+dx, x1=costopt_i-dx,  # The range of the box (between min and max values)\n",
    "                    y0=ymin, y1=ymax,  # Position the box on the y-axis (with some vertical padding)\n",
    "                    line=dict(color='black', width=0),  # Border color and width of the box\n",
    "                    opacity = opac,\n",
    "                    fillcolor=col_receive,  # Transparent fill color (adjust alpha for transparency)\n",
    "                )\n",
    "            elif costopt_i < ndc_estimate-0.0425:\n",
    "                fig.add_shape(\n",
    "                    row = row, col=col,\n",
    "                    type='rect',  # Draw a rectangle\n",
    "                    x0=costopt_i+dx, x1=ndc_estimate-dx,  # The range of the box (between min and max values)\n",
    "                    y0=ymin, y1=ymax,  # Position the box on the y-axis (with some vertical padding)\n",
    "                    line=dict(color='black', width=0),  # Border color and width of the box\n",
    "                    opacity = opac,\n",
    "                    fillcolor='rosybrown',  # Transparent fill color (adjust alpha for transparency)\n",
    "                )\n",
    "        # Pay abroad\n",
    "        if reductions_i[i] > ndc_estimate:\n",
    "            if costopt_i < ndc_estimate:\n",
    "                fig.add_shape(\n",
    "                    row = row, col=col,\n",
    "                    type='rect',  # Draw a rectangle\n",
    "                    x0=ndc_estimate+dx, x1=reductions_i[i]-dx,  # The range of the box (between min and max values)\n",
    "                    y0=ymin, y1=ymax,  # Position the box on the y-axis (with some vertical padding)\n",
    "                    line=dict(color='black', width=0),  # Border color and width of the box\n",
    "                    name='Pay for mitigation abroad',\n",
    "                    showlegend=False,\n",
    "                    opacity = opac,\n",
    "                    legendgroup=3,\n",
    "                    fillcolor='tomato',  # Transparent fill color (adjust alpha for transparency)\n",
    "                )\n",
    "            elif costopt_i < reductions_i[i]:\n",
    "                fig.add_shape(\n",
    "                    row = row, col=col,\n",
    "                    type='rect',  # Draw a rectangle\n",
    "                    x0=costopt_i+dx, x1=reductions_i[i]-dx,  # The range of the box (between min and max values)\n",
    "                    y0=ymin, y1=ymax,  # Position the box on the y-axis (with some vertical padding)\n",
    "                    line=dict(color='black', width=0),  # Border color and width of the box\n",
    "                    opacity = opac,\n",
    "                    fillcolor='tomato',  # Transparent fill color (adjust alpha for transparency)\n",
    "                )\n",
    "        # Receive from abroad\n",
    "        if reductions_i[i] < ndc_estimate:\n",
    "            fig.add_shape(\n",
    "                row = row, col=col,\n",
    "                type='rect',  # Draw a rectangle\n",
    "                x0=reductions_i[i]+dx, x1=ndc_estimate-dx,  # The range of the box (between min and max values)\n",
    "                y0=ymin, y1=ymax,  # Position the box on the y-axis (with some vertical padding)\n",
    "                line=dict(color='black', width=0),  # Border color and width of the box\n",
    "                name='Receive mitigation payment from abroad',\n",
    "                showlegend=False,\n",
    "                    opacity = opac,\n",
    "                legendgroup=3,\n",
    "                fillcolor=col_receive,  # Transparent fill color (adjust alpha for transparency)\n",
    "            )\n",
    "            fig.add_shape(\n",
    "                row = row, col=col,\n",
    "                type='rect',  # Draw a rectangle\n",
    "                x0=ndc_estimate+dx, x1=costopt_i-dx,  # The range of the box (between min and max values)\n",
    "                y0=ymin, y1=ymax,  # Position the box on the y-axis (with some vertical padding)\n",
    "                line=dict(color='black', width=0),  # Border color and width of the box\n",
    "                name='Receive mitigation payment from abroad',\n",
    "                showlegend=False,\n",
    "                opacity = opac,\n",
    "                legendgroup=3,\n",
    "                fillcolor=col_receive,  # Transparent fill color (adjust alpha for transparency)\n",
    "            )"
   ]
  },
  {
   "cell_type": "code",
   "execution_count": 222,
   "metadata": {},
   "outputs": [
    {
     "data": {
      "application/vnd.plotly.v1+json": {
       "config": {
        "plotlyServerURL": "https://plot.ly"
       },
       "data": [
        {
         "line": {
          "color": "#0062a6",
          "width": 2
         },
         "showlegend": false,
         "type": "scatter",
         "x": [
          -2.2451003880870473,
          -0.6851496884808067
         ],
         "y": [
          0.15,
          0.15
         ]
        },
        {
         "line": {
          "color": "#2e5061",
          "width": 2
         },
         "showlegend": false,
         "type": "scatter",
         "x": [
          -0.45588116855527694,
          -0.6105585789681263
         ],
         "y": [
          0,
          0
         ]
        },
        {
         "line": {
          "color": "#0062a6",
          "width": 2
         },
         "showlegend": false,
         "type": "scatter",
         "x": [
          -1.242765382627791,
          -0.5914299917793074
         ],
         "y": [
          1.15,
          1.15
         ]
        },
        {
         "line": {
          "color": "#0062a6",
          "width": 2
         },
         "showlegend": false,
         "type": "scatter",
         "x": [
          -1.3532160608394919,
          -0.637704413641498
         ],
         "y": [
          2.15,
          2.15
         ]
        },
        {
         "line": {
          "color": "#2e5061",
          "width": 2
         },
         "showlegend": false,
         "type": "scatter",
         "x": [
          -0.3339927301500951,
          -0.552764686861912
         ],
         "y": [
          2,
          2
         ]
        },
        {
         "line": {
          "color": "#0062a6",
          "width": 2
         },
         "showlegend": false,
         "type": "scatter",
         "x": [
          -1.6688654926451127,
          -0.5277041387239555
         ],
         "y": [
          3.15,
          3.15
         ]
        },
        {
         "line": {
          "color": "#2e5061",
          "width": 2
         },
         "showlegend": false,
         "type": "scatter",
         "x": [
          -0.21737683180626877,
          -0.6140852777602792
         ],
         "y": [
          3,
          3
         ]
        },
        {
         "line": {
          "color": "#0062a6",
          "width": 2
         },
         "showlegend": false,
         "type": "scatter",
         "x": [
          -0.7684811392945083,
          -0.393228053219289
         ],
         "y": [
          4.15,
          4.15
         ]
        },
        {
         "line": {
          "color": "#0062a6",
          "width": 2
         },
         "showlegend": false,
         "type": "scatter",
         "x": [
          -0.387878960444617,
          0.4447163661077802
         ],
         "y": [
          5.15,
          5.15
         ]
        },
        {
         "line": {
          "color": "#0062a6",
          "width": 2
         },
         "showlegend": false,
         "type": "scatter",
         "x": [
          -0.7054702373117064,
          -0.5286551297879463
         ],
         "y": [
          6.15,
          6.15
         ]
        },
        {
         "line": {
          "color": "#0062a6",
          "width": 2
         },
         "showlegend": false,
         "type": "scatter",
         "x": [
          0.09314727436043602,
          4.903229294862618
         ],
         "y": [
          7.15,
          7.15
         ]
        },
        {
         "line": {
          "color": "#0062a6",
          "width": 2
         },
         "showlegend": false,
         "type": "scatter",
         "x": [
          -0.09474209566797354,
          3.4725868382230436
         ],
         "y": [
          8.15,
          8.15
         ]
        },
        {
         "line": {
          "color": "#0062a6",
          "width": 2
         },
         "showlegend": false,
         "type": "scatter",
         "x": [
          0.00601043452870198,
          4.057657461080646
         ],
         "y": [
          9.15,
          9.15
         ]
        },
        {
         "marker": {
          "color": "silver",
          "size": 12,
          "symbol": "square"
         },
         "mode": "markers",
         "name": "NDC 2030",
         "showlegend": true,
         "type": "scatter",
         "x": [
          -0.45588116855527694,
          -0.3908938196584818,
          -0.3339927301500951,
          -0.21737683180626877,
          -0.32853216641737837,
          0.7612518216907205,
          0.07828080974467899,
          0.8716064435942186,
          0.6478785441383472,
          -0.32253579909722796
         ],
         "y": [
          0,
          1,
          2,
          3,
          4,
          5,
          6,
          7,
          8,
          9
         ]
        },
        {
         "marker": {
          "color": "#2e5061",
          "size": 12,
          "symbol": "square"
         },
         "mode": "markers",
         "name": "NDC 2035",
         "showlegend": true,
         "type": "scatter",
         "x": [
          -0.6105585789681263,
          null,
          -0.552764686861912,
          -0.6140852777602792,
          null,
          null,
          null,
          null,
          null,
          null
         ],
         "y": [
          0,
          1,
          2,
          3,
          4,
          5,
          6,
          7,
          8,
          9
         ]
        },
        {
         "marker": {
          "color": "#0062a6",
          "size": 12,
          "symbol": "circle"
         },
         "mode": "markers",
         "name": "Per capita convergence",
         "showlegend": true,
         "type": "scatter",
         "x": [
          -0.6851496884808067,
          -0.5914299917793074,
          -0.637704413641498,
          -0.649628646487494,
          -0.6389871244496148,
          -0.387878960444617,
          -0.5432398097116269,
          0.09314727436043602,
          -0.09474209566797354,
          0.00601043452870198
         ],
         "y": [
          0.15,
          1.15,
          2.15,
          3.15,
          4.15,
          5.15,
          6.15,
          7.15,
          8.15,
          9.15
         ]
        },
        {
         "marker": {
          "color": "#0062a6",
          "size": 12,
          "symbol": "diamond"
         },
         "mode": "markers",
         "name": "Ability to pay",
         "showlegend": true,
         "type": "scatter",
         "x": [
          -0.9020016758115328,
          -0.8383569329244057,
          -0.848154640164166,
          -0.5277041387239555,
          -0.393228053219289,
          -0.19598080018532493,
          -0.5286551297879463,
          0.30529175088425053,
          0.03896252228747166,
          0.26478890684417467
         ],
         "y": [
          0.15,
          1.15,
          2.15,
          3.15,
          4.15,
          5.15,
          6.15,
          7.15,
          8.15,
          9.15
         ]
        },
        {
         "marker": {
          "color": "#0062a6",
          "size": 12,
          "symbol": "star"
         },
         "mode": "markers",
         "name": "Equal cumulative per capita",
         "showlegend": true,
         "type": "scatter",
         "x": [
          -2.2451003880870473,
          -1.242765382627791,
          -1.3532160608394919,
          -1.6688654926451127,
          -0.7684811392945083,
          0.4447163661077802,
          -0.7054702373117064,
          4.903229294862618,
          3.4725868382230436,
          4.057657461080646
         ],
         "y": [
          0.15,
          1.15,
          2.15,
          3.15,
          4.15,
          5.15,
          6.15,
          7.15,
          8.15,
          9.15
         ]
        }
       ],
       "layout": {
        "annotations": [
         {
          "align": "left",
          "font": {
           "color": "black",
           "size": 20
          },
          "showarrow": false,
          "text": "United<br>States",
          "x": -0.05,
          "xref": "paper",
          "y": 0,
          "yref": "y"
         },
         {
          "align": "left",
          "font": {
           "color": "black",
           "size": 20
          },
          "showarrow": false,
          "text": "European<br>Union",
          "x": -0.05,
          "xref": "paper",
          "y": 1,
          "yref": "y"
         },
         {
          "align": "left",
          "font": {
           "color": "black",
           "size": 20
          },
          "showarrow": false,
          "text": "Japan",
          "x": -0.05,
          "xref": "paper",
          "y": 2,
          "yref": "y"
         },
         {
          "align": "left",
          "font": {
           "color": "black",
           "size": 20
          },
          "showarrow": false,
          "text": "Brazil",
          "x": -0.05,
          "xref": "paper",
          "y": 3,
          "yref": "y"
         },
         {
          "align": "left",
          "font": {
           "color": "black",
           "size": 20
          },
          "showarrow": false,
          "text": "Indonesia",
          "x": -0.05,
          "xref": "paper",
          "y": 4,
          "yref": "y"
         },
         {
          "align": "left",
          "font": {
           "color": "black",
           "size": 20
          },
          "showarrow": false,
          "text": "Vietnam",
          "x": -0.05,
          "xref": "paper",
          "y": 5,
          "yref": "y"
         },
         {
          "align": "left",
          "font": {
           "color": "black",
           "size": 20
          },
          "showarrow": false,
          "text": "China",
          "x": -0.05,
          "xref": "paper",
          "y": 6,
          "yref": "y"
         },
         {
          "align": "left",
          "font": {
           "color": "black",
           "size": 20
          },
          "showarrow": false,
          "text": "Pakistan",
          "x": -0.05,
          "xref": "paper",
          "y": 7,
          "yref": "y"
         },
         {
          "align": "left",
          "font": {
           "color": "black",
           "size": 20
          },
          "showarrow": false,
          "text": "India",
          "x": -0.05,
          "xref": "paper",
          "y": 8,
          "yref": "y"
         },
         {
          "align": "left",
          "font": {
           "color": "black",
           "size": 20
          },
          "showarrow": false,
          "text": "Nigeria",
          "x": -0.05,
          "xref": "paper",
          "y": 9,
          "yref": "y"
         }
        ],
        "height": 1000,
        "legend": {
         "bgcolor": "rgba(255,255,255,0.5)",
         "bordercolor": "black",
         "borderwidth": 0,
         "font": {
          "size": 20
         },
         "title": {
          "text": ""
         },
         "x": 0.65,
         "y": 0.15
        },
        "paper_bgcolor": "white",
        "plot_bgcolor": "white",
        "shapes": [
         {
          "line": {
           "color": "black",
           "dash": "dash",
           "width": 3
          },
          "type": "line",
          "x0": 0,
          "x1": 0,
          "xref": "x",
          "y0": -1000,
          "y1": 1000,
          "yref": "y"
         },
         {
          "line": {
           "color": "#afc50f",
           "width": 2
          },
          "showlegend": false,
          "type": "line",
          "x0": -0.7471355961330035,
          "x1": -0.7471355961330035,
          "xref": "x",
          "y0": -0.22499999999999998,
          "y1": -0.075,
          "yref": "y"
         },
         {
          "line": {
           "color": "#afc50f",
           "width": 2
          },
          "showlegend": false,
          "type": "line",
          "x0": -0.49985158323757406,
          "x1": -0.49985158323757406,
          "xref": "x",
          "y0": -0.22499999999999998,
          "y1": -0.075,
          "yref": "y"
         },
         {
          "line": {
           "color": "#afc50f",
           "width": 4
          },
          "name": "Globally cost optimal",
          "showlegend": true,
          "type": "line",
          "x0": -0.7471355961330035,
          "x1": -0.49985158323757406,
          "xref": "x",
          "y0": -0.15,
          "y1": -0.15,
          "yref": "y"
         },
         {
          "line": {
           "color": "#afc50f",
           "width": 2
          },
          "showlegend": false,
          "type": "line",
          "x0": -0.7198094926094367,
          "x1": -0.7198094926094367,
          "xref": "x",
          "y0": 0.775,
          "y1": 0.9249999999999999,
          "yref": "y"
         },
         {
          "line": {
           "color": "#afc50f",
           "width": 2
          },
          "showlegend": false,
          "type": "line",
          "x0": -0.38254946361168396,
          "x1": -0.38254946361168396,
          "xref": "x",
          "y0": 0.775,
          "y1": 0.9249999999999999,
          "yref": "y"
         },
         {
          "line": {
           "color": "#afc50f",
           "width": 4
          },
          "name": "Globally cost optimal",
          "showlegend": false,
          "type": "line",
          "x0": -0.7198094926094367,
          "x1": -0.38254946361168396,
          "xref": "x",
          "y0": 0.85,
          "y1": 0.85,
          "yref": "y"
         },
         {
          "line": {
           "color": "#afc50f",
           "width": 2
          },
          "showlegend": false,
          "type": "line",
          "x0": -0.7796487406164461,
          "x1": -0.7796487406164461,
          "xref": "x",
          "y0": 1.7750000000000001,
          "y1": 1.9250000000000003,
          "yref": "y"
         },
         {
          "line": {
           "color": "#afc50f",
           "width": 2
          },
          "showlegend": false,
          "type": "line",
          "x0": -0.5621963173954657,
          "x1": -0.5621963173954657,
          "xref": "x",
          "y0": 1.7750000000000001,
          "y1": 1.9250000000000003,
          "yref": "y"
         },
         {
          "line": {
           "color": "#afc50f",
           "width": 4
          },
          "name": "Globally cost optimal",
          "showlegend": false,
          "type": "line",
          "x0": -0.7796487406164461,
          "x1": -0.5621963173954657,
          "xref": "x",
          "y0": 1.85,
          "y1": 1.85,
          "yref": "y"
         },
         {
          "line": {
           "color": "#afc50f",
           "width": 2
          },
          "showlegend": false,
          "type": "line",
          "x0": -1.1758817693615975,
          "x1": -1.1758817693615975,
          "xref": "x",
          "y0": 2.775,
          "y1": 2.9250000000000003,
          "yref": "y"
         },
         {
          "line": {
           "color": "#afc50f",
           "width": 2
          },
          "showlegend": false,
          "type": "line",
          "x0": -0.707408900633116,
          "x1": -0.707408900633116,
          "xref": "x",
          "y0": 2.775,
          "y1": 2.9250000000000003,
          "yref": "y"
         },
         {
          "line": {
           "color": "#afc50f",
           "width": 4
          },
          "name": "Globally cost optimal",
          "showlegend": false,
          "type": "line",
          "x0": -1.1758817693615975,
          "x1": -0.707408900633116,
          "xref": "x",
          "y0": 2.85,
          "y1": 2.85,
          "yref": "y"
         },
         {
          "line": {
           "color": "#afc50f",
           "width": 2
          },
          "showlegend": false,
          "type": "line",
          "x0": -0.7825493691127384,
          "x1": -0.7825493691127384,
          "xref": "x",
          "y0": 3.775,
          "y1": 3.9250000000000003,
          "yref": "y"
         },
         {
          "line": {
           "color": "#afc50f",
           "width": 2
          },
          "showlegend": false,
          "type": "line",
          "x0": -0.5916497947954165,
          "x1": -0.5916497947954165,
          "xref": "x",
          "y0": 3.775,
          "y1": 3.9250000000000003,
          "yref": "y"
         },
         {
          "line": {
           "color": "#afc50f",
           "width": 4
          },
          "name": "Globally cost optimal",
          "showlegend": false,
          "type": "line",
          "x0": -0.7825493691127384,
          "x1": -0.5916497947954165,
          "xref": "x",
          "y0": 3.85,
          "y1": 3.85,
          "yref": "y"
         },
         {
          "line": {
           "color": "#afc50f",
           "width": 2
          },
          "showlegend": false,
          "type": "line",
          "x0": -0.453584516979171,
          "x1": -0.453584516979171,
          "xref": "x",
          "y0": 4.7749999999999995,
          "y1": 4.925,
          "yref": "y"
         },
         {
          "line": {
           "color": "#afc50f",
           "width": 2
          },
          "showlegend": false,
          "type": "line",
          "x0": -0.04532614829027448,
          "x1": -0.04532614829027448,
          "xref": "x",
          "y0": 4.7749999999999995,
          "y1": 4.925,
          "yref": "y"
         },
         {
          "line": {
           "color": "#afc50f",
           "width": 4
          },
          "name": "Globally cost optimal",
          "showlegend": false,
          "type": "line",
          "x0": -0.453584516979171,
          "x1": -0.04532614829027448,
          "xref": "x",
          "y0": 4.85,
          "y1": 4.85,
          "yref": "y"
         },
         {
          "line": {
           "color": "#afc50f",
           "width": 2
          },
          "showlegend": false,
          "type": "line",
          "x0": -0.6807685556412986,
          "x1": -0.6807685556412986,
          "xref": "x",
          "y0": 5.7749999999999995,
          "y1": 5.925,
          "yref": "y"
         },
         {
          "line": {
           "color": "#afc50f",
           "width": 2
          },
          "showlegend": false,
          "type": "line",
          "x0": -0.5267456468130196,
          "x1": -0.5267456468130196,
          "xref": "x",
          "y0": 5.7749999999999995,
          "y1": 5.925,
          "yref": "y"
         },
         {
          "line": {
           "color": "#afc50f",
           "width": 4
          },
          "name": "Globally cost optimal",
          "showlegend": false,
          "type": "line",
          "x0": -0.6807685556412986,
          "x1": -0.5267456468130196,
          "xref": "x",
          "y0": 5.85,
          "y1": 5.85,
          "yref": "y"
         },
         {
          "line": {
           "color": "#afc50f",
           "width": 2
          },
          "showlegend": false,
          "type": "line",
          "x0": -0.4977359127535623,
          "x1": -0.4977359127535623,
          "xref": "x",
          "y0": 6.7749999999999995,
          "y1": 6.925,
          "yref": "y"
         },
         {
          "line": {
           "color": "#afc50f",
           "width": 2
          },
          "showlegend": false,
          "type": "line",
          "x0": -0.1759758014935382,
          "x1": -0.1759758014935382,
          "xref": "x",
          "y0": 6.7749999999999995,
          "y1": 6.925,
          "yref": "y"
         },
         {
          "line": {
           "color": "#afc50f",
           "width": 4
          },
          "name": "Globally cost optimal",
          "showlegend": false,
          "type": "line",
          "x0": -0.4977359127535623,
          "x1": -0.1759758014935382,
          "xref": "x",
          "y0": 6.85,
          "y1": 6.85,
          "yref": "y"
         },
         {
          "line": {
           "color": "#afc50f",
           "width": 2
          },
          "showlegend": false,
          "type": "line",
          "x0": -0.5015777069947522,
          "x1": -0.5015777069947522,
          "xref": "x",
          "y0": 7.7749999999999995,
          "y1": 7.924999999999999,
          "yref": "y"
         },
         {
          "line": {
           "color": "#afc50f",
           "width": 2
          },
          "showlegend": false,
          "type": "line",
          "x0": -0.06163846932990358,
          "x1": -0.06163846932990358,
          "xref": "x",
          "y0": 7.7749999999999995,
          "y1": 7.924999999999999,
          "yref": "y"
         },
         {
          "line": {
           "color": "#afc50f",
           "width": 4
          },
          "name": "Globally cost optimal",
          "showlegend": false,
          "type": "line",
          "x0": -0.5015777069947522,
          "x1": -0.06163846932990358,
          "xref": "x",
          "y0": 7.85,
          "y1": 7.85,
          "yref": "y"
         },
         {
          "line": {
           "color": "#afc50f",
           "width": 2
          },
          "showlegend": false,
          "type": "line",
          "x0": -0.7857959367469505,
          "x1": -0.7857959367469505,
          "xref": "x",
          "y0": 8.775,
          "y1": 8.924999999999999,
          "yref": "y"
         },
         {
          "line": {
           "color": "#afc50f",
           "width": 2
          },
          "showlegend": false,
          "type": "line",
          "x0": -0.4864075183939459,
          "x1": -0.4864075183939459,
          "xref": "x",
          "y0": 8.775,
          "y1": 8.924999999999999,
          "yref": "y"
         },
         {
          "line": {
           "color": "#afc50f",
           "width": 4
          },
          "name": "Globally cost optimal",
          "showlegend": false,
          "type": "line",
          "x0": -0.7857959367469505,
          "x1": -0.4864075183939459,
          "xref": "x",
          "y0": 8.85,
          "y1": 8.85,
          "yref": "y"
         }
        ],
        "template": {
         "data": {
          "bar": [
           {
            "error_x": {
             "color": "#2a3f5f"
            },
            "error_y": {
             "color": "#2a3f5f"
            },
            "marker": {
             "line": {
              "color": "#E5ECF6",
              "width": 0.5
             },
             "pattern": {
              "fillmode": "overlay",
              "size": 10,
              "solidity": 0.2
             }
            },
            "type": "bar"
           }
          ],
          "barpolar": [
           {
            "marker": {
             "line": {
              "color": "#E5ECF6",
              "width": 0.5
             },
             "pattern": {
              "fillmode": "overlay",
              "size": 10,
              "solidity": 0.2
             }
            },
            "type": "barpolar"
           }
          ],
          "carpet": [
           {
            "aaxis": {
             "endlinecolor": "#2a3f5f",
             "gridcolor": "white",
             "linecolor": "white",
             "minorgridcolor": "white",
             "startlinecolor": "#2a3f5f"
            },
            "baxis": {
             "endlinecolor": "#2a3f5f",
             "gridcolor": "white",
             "linecolor": "white",
             "minorgridcolor": "white",
             "startlinecolor": "#2a3f5f"
            },
            "type": "carpet"
           }
          ],
          "choropleth": [
           {
            "colorbar": {
             "outlinewidth": 0,
             "ticks": ""
            },
            "type": "choropleth"
           }
          ],
          "contour": [
           {
            "colorbar": {
             "outlinewidth": 0,
             "ticks": ""
            },
            "colorscale": [
             [
              0,
              "#0d0887"
             ],
             [
              0.1111111111111111,
              "#46039f"
             ],
             [
              0.2222222222222222,
              "#7201a8"
             ],
             [
              0.3333333333333333,
              "#9c179e"
             ],
             [
              0.4444444444444444,
              "#bd3786"
             ],
             [
              0.5555555555555556,
              "#d8576b"
             ],
             [
              0.6666666666666666,
              "#ed7953"
             ],
             [
              0.7777777777777778,
              "#fb9f3a"
             ],
             [
              0.8888888888888888,
              "#fdca26"
             ],
             [
              1,
              "#f0f921"
             ]
            ],
            "type": "contour"
           }
          ],
          "contourcarpet": [
           {
            "colorbar": {
             "outlinewidth": 0,
             "ticks": ""
            },
            "type": "contourcarpet"
           }
          ],
          "heatmap": [
           {
            "colorbar": {
             "outlinewidth": 0,
             "ticks": ""
            },
            "colorscale": [
             [
              0,
              "#0d0887"
             ],
             [
              0.1111111111111111,
              "#46039f"
             ],
             [
              0.2222222222222222,
              "#7201a8"
             ],
             [
              0.3333333333333333,
              "#9c179e"
             ],
             [
              0.4444444444444444,
              "#bd3786"
             ],
             [
              0.5555555555555556,
              "#d8576b"
             ],
             [
              0.6666666666666666,
              "#ed7953"
             ],
             [
              0.7777777777777778,
              "#fb9f3a"
             ],
             [
              0.8888888888888888,
              "#fdca26"
             ],
             [
              1,
              "#f0f921"
             ]
            ],
            "type": "heatmap"
           }
          ],
          "heatmapgl": [
           {
            "colorbar": {
             "outlinewidth": 0,
             "ticks": ""
            },
            "colorscale": [
             [
              0,
              "#0d0887"
             ],
             [
              0.1111111111111111,
              "#46039f"
             ],
             [
              0.2222222222222222,
              "#7201a8"
             ],
             [
              0.3333333333333333,
              "#9c179e"
             ],
             [
              0.4444444444444444,
              "#bd3786"
             ],
             [
              0.5555555555555556,
              "#d8576b"
             ],
             [
              0.6666666666666666,
              "#ed7953"
             ],
             [
              0.7777777777777778,
              "#fb9f3a"
             ],
             [
              0.8888888888888888,
              "#fdca26"
             ],
             [
              1,
              "#f0f921"
             ]
            ],
            "type": "heatmapgl"
           }
          ],
          "histogram": [
           {
            "marker": {
             "pattern": {
              "fillmode": "overlay",
              "size": 10,
              "solidity": 0.2
             }
            },
            "type": "histogram"
           }
          ],
          "histogram2d": [
           {
            "colorbar": {
             "outlinewidth": 0,
             "ticks": ""
            },
            "colorscale": [
             [
              0,
              "#0d0887"
             ],
             [
              0.1111111111111111,
              "#46039f"
             ],
             [
              0.2222222222222222,
              "#7201a8"
             ],
             [
              0.3333333333333333,
              "#9c179e"
             ],
             [
              0.4444444444444444,
              "#bd3786"
             ],
             [
              0.5555555555555556,
              "#d8576b"
             ],
             [
              0.6666666666666666,
              "#ed7953"
             ],
             [
              0.7777777777777778,
              "#fb9f3a"
             ],
             [
              0.8888888888888888,
              "#fdca26"
             ],
             [
              1,
              "#f0f921"
             ]
            ],
            "type": "histogram2d"
           }
          ],
          "histogram2dcontour": [
           {
            "colorbar": {
             "outlinewidth": 0,
             "ticks": ""
            },
            "colorscale": [
             [
              0,
              "#0d0887"
             ],
             [
              0.1111111111111111,
              "#46039f"
             ],
             [
              0.2222222222222222,
              "#7201a8"
             ],
             [
              0.3333333333333333,
              "#9c179e"
             ],
             [
              0.4444444444444444,
              "#bd3786"
             ],
             [
              0.5555555555555556,
              "#d8576b"
             ],
             [
              0.6666666666666666,
              "#ed7953"
             ],
             [
              0.7777777777777778,
              "#fb9f3a"
             ],
             [
              0.8888888888888888,
              "#fdca26"
             ],
             [
              1,
              "#f0f921"
             ]
            ],
            "type": "histogram2dcontour"
           }
          ],
          "mesh3d": [
           {
            "colorbar": {
             "outlinewidth": 0,
             "ticks": ""
            },
            "type": "mesh3d"
           }
          ],
          "parcoords": [
           {
            "line": {
             "colorbar": {
              "outlinewidth": 0,
              "ticks": ""
             }
            },
            "type": "parcoords"
           }
          ],
          "pie": [
           {
            "automargin": true,
            "type": "pie"
           }
          ],
          "scatter": [
           {
            "fillpattern": {
             "fillmode": "overlay",
             "size": 10,
             "solidity": 0.2
            },
            "type": "scatter"
           }
          ],
          "scatter3d": [
           {
            "line": {
             "colorbar": {
              "outlinewidth": 0,
              "ticks": ""
             }
            },
            "marker": {
             "colorbar": {
              "outlinewidth": 0,
              "ticks": ""
             }
            },
            "type": "scatter3d"
           }
          ],
          "scattercarpet": [
           {
            "marker": {
             "colorbar": {
              "outlinewidth": 0,
              "ticks": ""
             }
            },
            "type": "scattercarpet"
           }
          ],
          "scattergeo": [
           {
            "marker": {
             "colorbar": {
              "outlinewidth": 0,
              "ticks": ""
             }
            },
            "type": "scattergeo"
           }
          ],
          "scattergl": [
           {
            "marker": {
             "colorbar": {
              "outlinewidth": 0,
              "ticks": ""
             }
            },
            "type": "scattergl"
           }
          ],
          "scattermapbox": [
           {
            "marker": {
             "colorbar": {
              "outlinewidth": 0,
              "ticks": ""
             }
            },
            "type": "scattermapbox"
           }
          ],
          "scatterpolar": [
           {
            "marker": {
             "colorbar": {
              "outlinewidth": 0,
              "ticks": ""
             }
            },
            "type": "scatterpolar"
           }
          ],
          "scatterpolargl": [
           {
            "marker": {
             "colorbar": {
              "outlinewidth": 0,
              "ticks": ""
             }
            },
            "type": "scatterpolargl"
           }
          ],
          "scatterternary": [
           {
            "marker": {
             "colorbar": {
              "outlinewidth": 0,
              "ticks": ""
             }
            },
            "type": "scatterternary"
           }
          ],
          "surface": [
           {
            "colorbar": {
             "outlinewidth": 0,
             "ticks": ""
            },
            "colorscale": [
             [
              0,
              "#0d0887"
             ],
             [
              0.1111111111111111,
              "#46039f"
             ],
             [
              0.2222222222222222,
              "#7201a8"
             ],
             [
              0.3333333333333333,
              "#9c179e"
             ],
             [
              0.4444444444444444,
              "#bd3786"
             ],
             [
              0.5555555555555556,
              "#d8576b"
             ],
             [
              0.6666666666666666,
              "#ed7953"
             ],
             [
              0.7777777777777778,
              "#fb9f3a"
             ],
             [
              0.8888888888888888,
              "#fdca26"
             ],
             [
              1,
              "#f0f921"
             ]
            ],
            "type": "surface"
           }
          ],
          "table": [
           {
            "cells": {
             "fill": {
              "color": "#EBF0F8"
             },
             "line": {
              "color": "white"
             }
            },
            "header": {
             "fill": {
              "color": "#C8D4E3"
             },
             "line": {
              "color": "white"
             }
            },
            "type": "table"
           }
          ]
         },
         "layout": {
          "annotationdefaults": {
           "arrowcolor": "#2a3f5f",
           "arrowhead": 0,
           "arrowwidth": 1
          },
          "autotypenumbers": "strict",
          "coloraxis": {
           "colorbar": {
            "outlinewidth": 0,
            "ticks": ""
           }
          },
          "colorscale": {
           "diverging": [
            [
             0,
             "#8e0152"
            ],
            [
             0.1,
             "#c51b7d"
            ],
            [
             0.2,
             "#de77ae"
            ],
            [
             0.3,
             "#f1b6da"
            ],
            [
             0.4,
             "#fde0ef"
            ],
            [
             0.5,
             "#f7f7f7"
            ],
            [
             0.6,
             "#e6f5d0"
            ],
            [
             0.7,
             "#b8e186"
            ],
            [
             0.8,
             "#7fbc41"
            ],
            [
             0.9,
             "#4d9221"
            ],
            [
             1,
             "#276419"
            ]
           ],
           "sequential": [
            [
             0,
             "#0d0887"
            ],
            [
             0.1111111111111111,
             "#46039f"
            ],
            [
             0.2222222222222222,
             "#7201a8"
            ],
            [
             0.3333333333333333,
             "#9c179e"
            ],
            [
             0.4444444444444444,
             "#bd3786"
            ],
            [
             0.5555555555555556,
             "#d8576b"
            ],
            [
             0.6666666666666666,
             "#ed7953"
            ],
            [
             0.7777777777777778,
             "#fb9f3a"
            ],
            [
             0.8888888888888888,
             "#fdca26"
            ],
            [
             1,
             "#f0f921"
            ]
           ],
           "sequentialminus": [
            [
             0,
             "#0d0887"
            ],
            [
             0.1111111111111111,
             "#46039f"
            ],
            [
             0.2222222222222222,
             "#7201a8"
            ],
            [
             0.3333333333333333,
             "#9c179e"
            ],
            [
             0.4444444444444444,
             "#bd3786"
            ],
            [
             0.5555555555555556,
             "#d8576b"
            ],
            [
             0.6666666666666666,
             "#ed7953"
            ],
            [
             0.7777777777777778,
             "#fb9f3a"
            ],
            [
             0.8888888888888888,
             "#fdca26"
            ],
            [
             1,
             "#f0f921"
            ]
           ]
          },
          "colorway": [
           "#636efa",
           "#EF553B",
           "#00cc96",
           "#ab63fa",
           "#FFA15A",
           "#19d3f3",
           "#FF6692",
           "#B6E880",
           "#FF97FF",
           "#FECB52"
          ],
          "font": {
           "color": "#2a3f5f"
          },
          "geo": {
           "bgcolor": "white",
           "lakecolor": "white",
           "landcolor": "#E5ECF6",
           "showlakes": true,
           "showland": true,
           "subunitcolor": "white"
          },
          "hoverlabel": {
           "align": "left"
          },
          "hovermode": "closest",
          "mapbox": {
           "style": "light"
          },
          "paper_bgcolor": "white",
          "plot_bgcolor": "#E5ECF6",
          "polar": {
           "angularaxis": {
            "gridcolor": "white",
            "linecolor": "white",
            "ticks": ""
           },
           "bgcolor": "#E5ECF6",
           "radialaxis": {
            "gridcolor": "white",
            "linecolor": "white",
            "ticks": ""
           }
          },
          "scene": {
           "xaxis": {
            "backgroundcolor": "#E5ECF6",
            "gridcolor": "white",
            "gridwidth": 2,
            "linecolor": "white",
            "showbackground": true,
            "ticks": "",
            "zerolinecolor": "white"
           },
           "yaxis": {
            "backgroundcolor": "#E5ECF6",
            "gridcolor": "white",
            "gridwidth": 2,
            "linecolor": "white",
            "showbackground": true,
            "ticks": "",
            "zerolinecolor": "white"
           },
           "zaxis": {
            "backgroundcolor": "#E5ECF6",
            "gridcolor": "white",
            "gridwidth": 2,
            "linecolor": "white",
            "showbackground": true,
            "ticks": "",
            "zerolinecolor": "white"
           }
          },
          "shapedefaults": {
           "line": {
            "color": "#2a3f5f"
           }
          },
          "ternary": {
           "aaxis": {
            "gridcolor": "white",
            "linecolor": "white",
            "ticks": ""
           },
           "baxis": {
            "gridcolor": "white",
            "linecolor": "white",
            "ticks": ""
           },
           "bgcolor": "#E5ECF6",
           "caxis": {
            "gridcolor": "white",
            "linecolor": "white",
            "ticks": ""
           }
          },
          "title": {
           "x": 0.05
          },
          "xaxis": {
           "automargin": true,
           "gridcolor": "white",
           "linecolor": "white",
           "ticks": "",
           "title": {
            "standoff": 15
           },
           "zerolinecolor": "white",
           "zerolinewidth": 2
          },
          "yaxis": {
           "automargin": true,
           "gridcolor": "white",
           "linecolor": "white",
           "ticks": "",
           "title": {
            "standoff": 15
           },
           "zerolinecolor": "white",
           "zerolinewidth": 2
          }
         }
        },
        "width": 1000,
        "xaxis": {
         "anchor": "y",
         "domain": [
          0,
          1
         ],
         "range": [
          -1.5,
          1.5
         ],
         "side": "top",
         "tickfont": {
          "size": 20
         },
         "ticktext": [
          "150%",
          "100%",
          "(reduce)<br>50%",
          "2015<br>emissions",
          "(increase)<br>50%",
          "100%",
          "150%"
         ],
         "tickvals": [
          -1.5,
          -1,
          -0.5,
          0,
          0.5,
          1,
          1.5
         ]
        },
        "yaxis": {
         "anchor": "x",
         "domain": [
          0,
          1
         ],
         "range": [
          -0.5,
          10
         ],
         "showticklabels": false
        }
       }
      }
     },
     "metadata": {},
     "output_type": "display_data"
    }
   ],
   "source": [
    "wd = 0.15\n",
    "\n",
    "fig = make_subplots(rows=1, cols=1,\n",
    "                    horizontal_spacing = 0., vertical_spacing=0.02)\n",
    "\n",
    "fig.update_layout(height=1000, width=1000)\n",
    "fs=20\n",
    "\n",
    "# ============ #\n",
    "# Actual data\n",
    "# ============ #\n",
    "\n",
    "fig.add_shape(\n",
    "    col=1, row=1,\n",
    "    type=\"line\",\n",
    "    x0=0, x1=0,\n",
    "    y0=-1e3, y1=1e3,\n",
    "    line=dict(color=\"black\",  dash='dash',width=3)\n",
    ")\n",
    "\n",
    "REGS = ['USA', 'EU', 'JPN', 'BRA', 'IDN', 'VNM', 'CHN', 'PAK', 'IND', 'NGA']\n",
    "\n",
    "ndcs = []\n",
    "ndcs2 = []\n",
    "reds = []\n",
    "for reg_i, reg in enumerate(REGS):\n",
    "    ndc_estimate, ndc2, reductions_i, costopt_i = data(reg)\n",
    "    ndcs.append(ndc_estimate)\n",
    "    ndcs2.append(ndc2)\n",
    "    reds.append(reductions_i)\n",
    "    cty = all_regions_names[all_regions_iso==reg][0].replace(' ', '<br>')\n",
    "    if reg == 'USA': cty = 'United<br>States'\n",
    "    fig.add_annotation(x=-0.05, y=reg_i*1., align = 'left',\n",
    "                       text=cty, xref='paper', yref='y1', showarrow=False, font=dict(color='black', size=20))\n",
    "\n",
    "    # WHISKERS\n",
    "    c0 = -float(costopt_0.sel(Region=reg).Value)\n",
    "    c1 = -float(costopt_1.sel(Region=reg).Value)\n",
    "    for c in [c0, c1]:\n",
    "        fig.add_shape(type=\"line\", col=1, row=1, showlegend=False,\n",
    "                    line=dict(color=col1, width=2),\n",
    "                    x0=c, x1=c,\n",
    "                    y0=-wd/2 + reg_i-wd , y1=wd/2 + reg_i-wd,\n",
    "        )\n",
    "    if reg_i ==0: sl = True\n",
    "    else: sl = False\n",
    "    fig.add_shape(type=\"line\", col=1, row=1,\n",
    "                line=dict(color=col1, width=4),\n",
    "                showlegend=sl,\n",
    "                name='Globally cost optimal',\n",
    "                x0=c0, x1=c1,\n",
    "                y0= reg_i-wd, y1= reg_i-wd,\n",
    "    )\n",
    "\n",
    "    # Horizontal lines between rules\n",
    "    fig.add_trace(go.Scatter(x=[np.min(-reductions_i), np.max(-reductions_i)],\n",
    "                             y=[reg_i+wd, reg_i+wd],showlegend=False,\n",
    "                        line=dict(color=col3, width=2),\n",
    "    ))\n",
    "\n",
    "    # Horizontal lines between ndcs\n",
    "    if not np.isnan(ndc2):\n",
    "        fig.add_trace(go.Scatter(x=[-ndc_estimate, -ndc2],\n",
    "                                y=[reg_i, reg_i],showlegend=False,\n",
    "                            line=dict(color=col2, width=2),\n",
    "        ))\n",
    "\n",
    "\n",
    "# NDC 2030\n",
    "fig.add_trace(go.Scatter(\n",
    "    x=-np.array(ndcs),\n",
    "    y=np.arange(len(REGS)),\n",
    "    mode='markers',\n",
    "    name='NDC 2030',\n",
    "    showlegend=True,\n",
    "    marker=dict(\n",
    "        symbol='square',\n",
    "        size=12,         # Marker size\n",
    "        color='silver'     # Marker color\n",
    "    )\n",
    "))\n",
    "\n",
    "# NDC 2035\n",
    "fig.add_trace(go.Scatter(\n",
    "    x=-np.array(ndcs2),\n",
    "    y=np.arange(len(REGS)),\n",
    "    mode='markers',\n",
    "    name='NDC 2035',\n",
    "    showlegend=True,\n",
    "    marker=dict(\n",
    "        symbol='square',\n",
    "        size=12,         # Marker size\n",
    "        color=col2     # Marker color\n",
    "    )\n",
    "))\n",
    "\n",
    "# rules\n",
    "for i in range(3):\n",
    "    fig.add_trace(go.Scatter(\n",
    "        x=-np.array(reds)[:, i],\n",
    "        y=np.arange(len(REGS))+wd,\n",
    "        mode='markers',\n",
    "        name=['Per capita convergence', 'Ability to pay', 'Equal cumulative per capita'][i],\n",
    "        showlegend=True,\n",
    "        marker=dict(\n",
    "            symbol=['circle', 'diamond', 'star'][i],\n",
    "            size=12,         # Marker size\n",
    "            color=col3     # Marker color\n",
    "        )\n",
    "    ))\n",
    "fig.update_xaxes(row=1, col=1, range=(-1.5, 1.5), tickfont=dict(size=20), side='top',\n",
    "                    tickvals=[-1.5, -1, -0.5, 0, 0.5,  1, 1.5],\n",
    "                    ticktext=['150%', '100%', '(reduce)<br>50%',  '2015<br>emissions', '(increase)<br>50%', '100%', '150%'])\n",
    "\n",
    "fig.update_layout(\n",
    "    plot_bgcolor='white',\n",
    "    paper_bgcolor='white',\n",
    "        legend=dict(\n",
    "        title='',     # Optional title\n",
    "        x=0.65, y=0.15,            # Positioning (top-right)\n",
    "        bgcolor='rgba(255,255,255,0.5)',  # Semi-transparent background\n",
    "        bordercolor='black',\n",
    "        borderwidth=0,\n",
    "        font=dict(size=20)\n",
    "    ),\n",
    ")\n",
    "fig.update_yaxes(row=1, col=1, range=(-0.5, 10\n",
    "                                      ), showticklabels=False)\n",
    "fig.write_image(\"K:/Code/effort-sharing/Figures/COMMITTEDpolicybrief/Figure_\"+str(year_of_focus)+\".png\", scale=5)\n",
    "fig.show()"
   ]
  },
  {
   "cell_type": "code",
   "execution_count": null,
   "metadata": {},
   "outputs": [],
   "source": []
  },
  {
   "cell_type": "code",
   "execution_count": null,
   "metadata": {},
   "outputs": [],
   "source": []
  }
 ],
 "metadata": {
  "kernelspec": {
   "display_name": "Python 3",
   "language": "python",
   "name": "python3"
  },
  "language_info": {
   "codemirror_mode": {
    "name": "ipython",
    "version": 3
   },
   "file_extension": ".py",
   "mimetype": "text/x-python",
   "name": "python",
   "nbconvert_exporter": "python",
   "pygments_lexer": "ipython3",
   "version": "3.12.5"
  },
  "orig_nbformat": 4
 },
 "nbformat": 4,
 "nbformat_minor": 2
}
