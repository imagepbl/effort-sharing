{
 "cells": [
  {
   "attachments": {},
   "cell_type": "markdown",
   "metadata": {},
   "source": [
    "## Preambule"
   ]
  },
  {
   "cell_type": "code",
   "execution_count": 541,
   "metadata": {},
   "outputs": [],
   "source": [
    "# General packages\n",
    "import numpy as np\n",
    "import pandas as pd\n",
    "from tqdm import tqdm\n",
    "from pathlib import Path\n",
    "import xarray as xr\n",
    "import pandas as pd\n",
    "import json\n",
    "import plotly\n",
    "\n",
    "# Plotting\n",
    "import matplotlib.pyplot as plt\n",
    "import plotly.express as px\n",
    "import plotly.graph_objects as go\n",
    "from plotly.subplots import make_subplots\n",
    "from plotly.colors import n_colors"
   ]
  },
  {
   "attachments": {},
   "cell_type": "markdown",
   "metadata": {},
   "source": [
    "## Parameters"
   ]
  },
  {
   "cell_type": "code",
   "execution_count": 542,
   "metadata": {},
   "outputs": [],
   "source": [
    "rules = ['PCC', 'ECPC', 'AP']\n",
    "rulecolors = ['goldenrod', 'tomato', 'forestgreen']\n",
    "year_of_focus = 2035\n",
    "TEMP = 1.5"
   ]
  },
  {
   "attachments": {},
   "cell_type": "markdown",
   "metadata": {},
   "source": [
    "## Paths"
   ]
  },
  {
   "cell_type": "code",
   "execution_count": 543,
   "metadata": {},
   "outputs": [],
   "source": [
    "path_main = Path(\"K:/Code/effort-sharing/\")\n",
    "path_data = Path(\"K:/Data/Data_effortsharing/DataUpdate_ongoing/\")\n",
    "path_figs = path_main / \"Figures\" / \"Paper_FairShares\""
   ]
  },
  {
   "attachments": {},
   "cell_type": "markdown",
   "metadata": {},
   "source": [
    "## Read data files"
   ]
  },
  {
   "cell_type": "code",
   "execution_count": 544,
   "metadata": {},
   "outputs": [],
   "source": [
    "xr_dataread = xr.open_dataset(path_data / \"startyear_2021/xr_dataread.nc\")\n",
    "xr_traj_yeari = xr.open_dataset(path_data / (\"startyear_2021/Aggregated_files/xr_alloc_\"+str(year_of_focus)+\"_GHG_incl.nc\"))\n",
    "xr_alloc_yeari = xr.open_dataset(path_data / (\"startyear_2021/Aggregated_files/xr_alloc_\"+str(year_of_focus)+\"_GHG_incl.nc\"))\n",
    "xr_total = xr.open_dataset(path_data / \"xr_policyscen.nc\")\n",
    "\n",
    "all_regions_iso = np.load(path_data / \"all_regions.npy\")\n",
    "all_regions_names = np.load(path_data / \"all_regions_names.npy\")\n",
    "all_countries_iso = np.load(path_data / \"all_countries.npy\", allow_pickle=True)\n",
    "all_countries_names = np.load(path_data / \"all_countries_names.npy\", allow_pickle=True)"
   ]
  },
  {
   "cell_type": "markdown",
   "metadata": {},
   "source": [
    "## Get Cost-optimal output"
   ]
  },
  {
   "cell_type": "code",
   "execution_count": 545,
   "metadata": {},
   "outputs": [],
   "source": [
    "if TEMP == 1.5:\n",
    "    Ccat = ['C1']\n",
    "    figname = \"Figure_15C\"\n",
    "    elevscen = \"ELV-SSP2-650P-400F\"\n",
    "elif TEMP == 2.0:\n",
    "    Ccat = ['C3']\n",
    "    figname = \"Figure_2C\"\n",
    "    elevscen = \"ELV-SSP2-1150F\""
   ]
  },
  {
   "cell_type": "code",
   "execution_count": 546,
   "metadata": {},
   "outputs": [],
   "source": [
    "df = pd.read_csv(path_main / \"data\" / \"input\" / \"plotting_input_data\" / \"Data_D2.3_vetted_20250519.csv\")\n",
    "df = df[(df.Variable.isin(['Emissions|Kyoto Gases', 'Price|Carbon'])) & (df.Scenario == elevscen)]\n",
    "df = df.drop(['Scenario', 'Unit'], axis=1)\n",
    "\n",
    "# Get the regions\n",
    "regions = []\n",
    "df['Region'] = df['Region'].replace({'Brazil': 'BRA',\n",
    "                                     'China': \"CHN\",\n",
    "                                     \"European Union\": \"EU\",\n",
    "                                     'India': 'IND',\n",
    "                                     'Saudi Arabia': 'SAU',\n",
    "                                     'Japan': 'JPN',\n",
    "                                     'World': 'WORLD'\n",
    "                                     })\n",
    "\n",
    "df = df[df['Region'].isin(['Africa (R10)',\n",
    "                           'Europe (R10)',\n",
    "                           'China+ (R10)',\n",
    "                           'India+ (R10)',\n",
    "                           'Latin America (R10)',\n",
    "                           'Middle East (R10)',\n",
    "                           'North America (R10)',\n",
    "                           'Other (R10)',\n",
    "                           'Pacific OECD (R10)',\n",
    "                           'Reforming Economies (R10)',\n",
    "                           'Rest of Asia (R10)',\n",
    "\n",
    "                           'BRA', 'CHN', 'EU', \"IND\", 'SAU', 'USA', 'JPN',\n",
    "\n",
    "                           'WORLD'\n",
    "                           ])]\n",
    "natives = ['EU', 'USA']\n",
    "\n",
    "# Set it to xr\n",
    "dummy = df.melt(id_vars=[\"Region\", \"Model\", \"Variable\"], var_name=\"Time\", value_name=\"Value\")\n",
    "times = np.array(dummy['Time'])\n",
    "times = np.array(int(i) for i in times)\n",
    "dummy['Time'] = times\n",
    "dummy = dummy.set_index([\"Region\", \"Model\", \"Variable\", \"Time\"])\n",
    "xr_elev = xr.Dataset.from_dataframe(dummy)\n",
    "xr_elev = xr_elev.reindex(Time = np.arange(1850, 2101))\n",
    "xr_elev = xr_elev.interpolate_na(dim=\"Time\", method=\"linear\")"
   ]
  },
  {
   "cell_type": "code",
   "execution_count": 547,
   "metadata": {},
   "outputs": [],
   "source": [
    "# df_ar6 = pd.read_csv(\"X:/user/dekkerm/Data/IPCC/AR6_ISO3/AR6_Scenarios_Database_ISO3_v1.1.csv\")\n",
    "# df_ar6 = df_ar6[df_ar6.Variable.isin(['Emissions|Kyoto Gases', 'Policy Cost|Consumption Loss'])]\n",
    "# df_ar6 = df_ar6.reset_index(drop=True)\n",
    "\n",
    "# df_ar6_meta = pd.read_excel(\"X:/user/dekkerm/Data/IPCC/AR6_ISO3/AR6_Scenarios_Database_metadata_indicators_v1.1.xlsx\", sheet_name='meta_Ch3vetted_withclimate')\n",
    "# mods = np.array(df_ar6_meta.Model)\n",
    "# scens = np.array(df_ar6_meta.Scenario)\n",
    "# modscens_meta = np.array([mods[i]+'|'+scens[i] for i in range(len(scens))])\n",
    "# df_ar6_meta['ModelScenario'] = modscens_meta\n",
    "# df_ar6_meta = df_ar6_meta[['ModelScenario', 'Category', 'Policy_category']]\n",
    "# df_ar6_meta = df_ar6_meta[df_ar6_meta.Category.isin(Ccat)]\n",
    "# df_ar6_meta = df_ar6_meta.reset_index(drop=True)\n",
    "# ms_meta_refined = np.array(df_ar6_meta.ModelScenario)\n",
    "\n",
    "# mods = np.array(df_ar6.Model)\n",
    "# scens = np.array(df_ar6.Scenario)\n",
    "# modscens = np.array([mods[i]+'|'+scens[i] for i in range(len(scens))])\n",
    "# df_ar6['ModelScenario'] = modscens\n",
    "# df_ar6 = df_ar6.drop(['Model', 'Scenario', 'Unit'], axis=1)\n",
    "# df_ar6 = df_ar6[df_ar6.ModelScenario.isin(np.array(ms_meta_refined))]\n",
    "\n",
    "# dummy = df_ar6.melt(id_vars=[\"Variable\", \"Region\", \"ModelScenario\"], var_name=\"Time\", value_name=\"Value\")\n",
    "# dummy['Time'] = np.array(dummy['Time'].astype(int))\n",
    "# dummy = dummy.set_index([\"Variable\", \"Region\", \"ModelScenario\", \"Time\"])\n",
    "# xr_scen_r = xr.Dataset.from_dataframe(dummy)\n",
    "# xr_scen_r = xr_scen_r.reindex(Time = np.arange(1850, 2101))\n",
    "# xr_scen_r = xr_scen_r.interpolate_na(dim=\"Time\", method=\"linear\")"
   ]
  },
  {
   "cell_type": "markdown",
   "metadata": {},
   "source": [
    "## Compute fractions"
   ]
  },
  {
   "cell_type": "markdown",
   "metadata": {},
   "source": [
    "World"
   ]
  },
  {
   "cell_type": "code",
   "execution_count": 548,
   "metadata": {},
   "outputs": [],
   "source": [
    "# df_ar6 = pd.read_csv(\"X:/user/dekkerm/Data/IPCC/AR6_Scenarios_Database_World_v1.1.csv\")\n",
    "# df_ar6 = df_ar6[df_ar6.Variable.isin(['Emissions|Kyoto Gases', 'Policy Cost|Consumption Loss', 'Price|Carbon'])]\n",
    "# df_ar6 = df_ar6.reset_index(drop=True)\n",
    "\n",
    "# df_ar6_meta = pd.read_excel(\"X:/user/dekkerm/Data/IPCC/AR6_Scenarios_Database_metadata_indicators_v1.1.xlsx\", sheet_name='meta_Ch3vetted_withclimate')\n",
    "# mods = np.array(df_ar6_meta.Model)\n",
    "# scens = np.array(df_ar6_meta.Scenario)\n",
    "# modscens_meta = np.array([mods[i]+'|'+scens[i] for i in range(len(scens))])\n",
    "# df_ar6_meta['ModelScenario'] = modscens_meta\n",
    "# df_ar6_meta = df_ar6_meta[['ModelScenario', 'Category', 'Policy_category']]\n",
    "# df_ar6_meta = df_ar6_meta[df_ar6_meta.Category.isin(Ccat)]\n",
    "# df_ar6_meta = df_ar6_meta.reset_index(drop=True)\n",
    "# ms_meta_refined = np.array(df_ar6_meta.ModelScenario)\n",
    "\n",
    "# mods = np.array(df_ar6.Model)\n",
    "# scens = np.array(df_ar6.Scenario)\n",
    "# modscens = np.array([mods[i]+'|'+scens[i] for i in range(len(scens))])\n",
    "# df_ar6['ModelScenario'] = modscens\n",
    "# df_ar6['Region'] = 'WORLD'\n",
    "# df_ar6 = df_ar6.drop(['Model', 'Scenario', 'Unit'], axis=1)\n",
    "# df_ar6 = df_ar6[df_ar6.ModelScenario.isin(np.array(ms_meta_refined))]\n",
    "\n",
    "# dummy = df_ar6.melt(id_vars=[\"Variable\", \"Region\", \"ModelScenario\"], var_name=\"Time\", value_name=\"Value\")\n",
    "# dummy['Time'] = np.array(dummy['Time'].astype(int))\n",
    "# dummy = dummy.set_index([\"Variable\", \"Region\", \"ModelScenario\", \"Time\"])\n",
    "# xr_scen = xr.Dataset.from_dataframe(dummy)\n",
    "# xr_scen = xr_scen.reindex(Time = np.arange(1850, 2101))\n",
    "# xr_scen = xr_scen.interpolate_na(dim=\"Time\", method=\"linear\")"
   ]
  },
  {
   "cell_type": "markdown",
   "metadata": {},
   "source": [
    "Regional"
   ]
  },
  {
   "cell_type": "code",
   "execution_count": 549,
   "metadata": {},
   "outputs": [],
   "source": [
    "# df_ar6 = pd.read_csv(\"X:/user/dekkerm/Data/IPCC/AR6_ISO3/AR6_Scenarios_Database_ISO3_v1.1.csv\")\n",
    "# df_ar6 = df_ar6[df_ar6.Variable.isin(['Emissions|Kyoto Gases', 'Policy Cost|Consumption Loss', 'Price|Carbon'])]\n",
    "# df_ar6 = df_ar6.reset_index(drop=True)\n",
    "\n",
    "# df_ar6_meta = pd.read_excel(\"X:/user/dekkerm/Data/IPCC/AR6_ISO3/AR6_Scenarios_Database_metadata_indicators_v1.1.xlsx\", sheet_name='meta_Ch3vetted_withclimate')\n",
    "# mods = np.array(df_ar6_meta.Model)\n",
    "# scens = np.array(df_ar6_meta.Scenario)\n",
    "# modscens_meta = np.array([mods[i]+'|'+scens[i] for i in range(len(scens))])\n",
    "# df_ar6_meta['ModelScenario'] = modscens_meta\n",
    "# df_ar6_meta = df_ar6_meta[['ModelScenario', 'Category', 'Policy_category']]\n",
    "# df_ar6_meta = df_ar6_meta[df_ar6_meta.Category.isin(Ccat)]\n",
    "# df_ar6_meta = df_ar6_meta.reset_index(drop=True)\n",
    "# ms_meta_refined = np.array(df_ar6_meta.ModelScenario)\n",
    "\n",
    "# mods = np.array(df_ar6.Model)\n",
    "# scens = np.array(df_ar6.Scenario)\n",
    "# modscens = np.array([mods[i]+'|'+scens[i] for i in range(len(scens))])\n",
    "# df_ar6['ModelScenario'] = modscens\n",
    "# df_ar6 = df_ar6.drop(['Model', 'Scenario', 'Unit'], axis=1)\n",
    "# df_ar6 = df_ar6[df_ar6.ModelScenario.isin(np.array(ms_meta_refined))]\n",
    "\n",
    "# dummy = df_ar6.melt(id_vars=[\"Variable\", \"Region\", \"ModelScenario\"], var_name=\"Time\", value_name=\"Value\")\n",
    "# dummy['Time'] = np.array(dummy['Time'].astype(int))\n",
    "# dummy = dummy.set_index([\"Variable\", \"Region\", \"ModelScenario\", \"Time\"])\n",
    "# xr_scen_r = xr.Dataset.from_dataframe(dummy)\n",
    "# xr_scen_r = xr_scen_r.reindex(Time = np.arange(1850, 2101))\n",
    "# xr_scen_r = xr_scen_r.interpolate_na(dim=\"Time\", method=\"linear\")"
   ]
  },
  {
   "cell_type": "markdown",
   "metadata": {},
   "source": [
    "R-10 regions"
   ]
  },
  {
   "cell_type": "code",
   "execution_count": 550,
   "metadata": {},
   "outputs": [],
   "source": [
    "# df_ar6 = pd.read_csv(\"X:/user/dekkerm/Data/IPCC/AR6_R10/AR6_Scenarios_Database_R10_regions_v1.1.csv\")\n",
    "# df_ar6 = df_ar6[df_ar6.Variable.isin(['Emissions|Kyoto Gases', 'Policy Cost|Consumption Loss', 'Price|Carbon'])]\n",
    "# df_ar6 = df_ar6.reset_index(drop=True)\n",
    "\n",
    "# df_ar6_meta = pd.read_excel(\"X:/user/dekkerm/Data/IPCC/AR6_R10/AR6_Scenarios_Database_metadata_indicators_v1.1.xlsx\", sheet_name='meta_Ch3vetted_withclimate')\n",
    "# mods = np.array(df_ar6_meta.Model)\n",
    "# scens = np.array(df_ar6_meta.Scenario)\n",
    "# modscens_meta = np.array([mods[i]+'|'+scens[i] for i in range(len(scens))])\n",
    "# df_ar6_meta['ModelScenario'] = modscens_meta\n",
    "# df_ar6_meta = df_ar6_meta[['ModelScenario', 'Category', 'Policy_category']]\n",
    "# df_ar6_meta = df_ar6_meta[df_ar6_meta.Category.isin(Ccat)]\n",
    "# df_ar6_meta = df_ar6_meta.reset_index(drop=True)\n",
    "# ms_meta_refined = np.array(df_ar6_meta.ModelScenario)\n",
    "\n",
    "# mods = np.array(df_ar6.Model)\n",
    "# scens = np.array(df_ar6.Scenario)\n",
    "# modscens = np.array([mods[i]+'|'+scens[i] for i in range(len(scens))])\n",
    "# df_ar6['ModelScenario'] = modscens\n",
    "# df_ar6 = df_ar6.drop(['Model', 'Scenario', 'Unit'], axis=1)\n",
    "# df_ar6 = df_ar6[df_ar6.ModelScenario.isin(np.array(ms_meta_refined))]\n",
    "\n",
    "# dummy = df_ar6.melt(id_vars=[\"Variable\", \"Region\", \"ModelScenario\"], var_name=\"Time\", value_name=\"Value\")\n",
    "# dummy['Time'] = np.array(dummy['Time'].astype(int))\n",
    "# dummy = dummy.set_index([\"Variable\", \"Region\", \"ModelScenario\", \"Time\"])\n",
    "# xr_scen_r10 = xr.Dataset.from_dataframe(dummy)\n",
    "# xr_scen_r10 = xr_scen_r10.reindex(Time = np.arange(1850, 2101))\n",
    "# xr_scen_r10 = xr_scen_r10.interpolate_na(dim=\"Time\", method=\"linear\")"
   ]
  },
  {
   "cell_type": "code",
   "execution_count": 551,
   "metadata": {},
   "outputs": [],
   "source": [
    "# df_conv = pd.read_excel(\"X:/user/dekkerm/Data/AR6_regionclasses.xlsx\", sheet_name = 'Sheet1')[['ISO', 'region_ar6_10']]\n",
    "# regs = np.array(df_conv.region_ar6_10)\n",
    "# regs[regs == 'Africa'] =            'R10AFRICA'\n",
    "# regs[regs == 'Eastern Asia'] =      'R10CHINA+'\n",
    "# regs[regs == 'Europe'] =            'R10EUROPE'\n",
    "# regs[regs == 'Southern Asia'] =     'R10INDIA+'\n",
    "# regs[regs == 'Latin America and Caribbean'] = 'R10LATIN_AM'\n",
    "# regs[regs == 'Middle East'] =       'R10MIDDLE_EAST'\n",
    "# regs[regs == 'North America'] =     'R10NORTH_AM'\n",
    "# regs[regs == 'Asia-Pacific Developed'] = 'R10PAC_OECD'\n",
    "# regs[regs == 'Eurasia'] =           'R10REF_ECON'\n",
    "# regs[regs == 'South-East Asia and developing Pacific'] = 'R10REST_ASIA'\n",
    "# df_conv['region_ar6_10'] = regs"
   ]
  },
  {
   "cell_type": "code",
   "execution_count": 552,
   "metadata": {},
   "outputs": [],
   "source": [
    "df_conv = pd.read_excel(\"X:/user/dekkerm/Data/AR6_regionclasses.xlsx\", sheet_name = 'Sheet1')[['ISO', 'region_ar6_10']]\n",
    "regs = np.array(df_conv.region_ar6_10)\n",
    "regs[regs == 'Africa'] =            'Africa (R10)'\n",
    "regs[regs == 'Eastern Asia'] =      'China+ (R10)'\n",
    "regs[regs == 'Europe'] =            'Europe (R10)'\n",
    "regs[regs == 'Southern Asia'] =     'India+ (R10)'\n",
    "regs[regs == 'Latin America and Caribbean'] = 'Latin America (R10)'\n",
    "regs[regs == 'Middle East'] =       'Middle East (R10)'\n",
    "regs[regs == 'North America'] =     'North America (R10)'\n",
    "regs[regs == 'Asia-Pacific Developed'] = 'Pacific OECD (R10)'\n",
    "regs[regs == 'Eurasia'] =           'Reforming Economies (R10)'\n",
    "regs[regs == 'South-East Asia and developing Pacific'] = 'Rest of Asia (R10)'\n",
    "df_conv['region_ar6_10'] = regs"
   ]
  },
  {
   "cell_type": "code",
   "execution_count": 553,
   "metadata": {},
   "outputs": [],
   "source": [
    "native_regions = natives\n",
    "xrs = []\n",
    "for cty in all_countries_iso:\n",
    "    if cty not in native_regions:\n",
    "        which_group = np.array(df_conv[df_conv.ISO == cty].region_ar6_10)[0]\n",
    "        group_members = np.array(df_conv[df_conv.region_ar6_10 == which_group].ISO)\n",
    "        emis_total = float(xr_dataread.GHG_hist.sel(Region=np.intersect1d(group_members,all_countries_iso), Time=2021).sum(dim='Region'))\n",
    "        emis_frac = xr_dataread.GHG_hist.sel(Region=cty, Time=2021) / emis_total\n",
    "        xrry = xr.merge([xr_elev.sel(Region=which_group, Variable=['Emissions|Kyoto Gases'])*emis_frac,\n",
    "                         #xr_elev.sel(Region=which_group, Variable=['Price|Carbon'])\n",
    "                         ]).expand_dims({'Region': [cty]})\n",
    "        xrs.append(xrry)\n",
    "xr_scen_infilled_r = xr.concat(xrs, dim='Region')"
   ]
  },
  {
   "cell_type": "markdown",
   "metadata": {},
   "source": [
    "Concatenate"
   ]
  },
  {
   "cell_type": "code",
   "execution_count": 554,
   "metadata": {},
   "outputs": [],
   "source": [
    "xr_scen_all = xr.merge([xr_elev, xr_scen_infilled_r])"
   ]
  },
  {
   "cell_type": "markdown",
   "metadata": {},
   "source": [
    "## Data for plots"
   ]
  },
  {
   "cell_type": "code",
   "execution_count": 555,
   "metadata": {},
   "outputs": [],
   "source": [
    "if TEMP == 2.0:\n",
    "    set_temp = 2.0\n",
    "    set_risk = 0.33\n",
    "elif TEMP == 1.5:\n",
    "    set_temp = 1.6\n",
    "    set_risk = 0.5\n",
    "\n",
    "settings_default = {'Temperature': set_temp,\n",
    "                   'Risk': set_risk,\n",
    "                   'NegEmis': 0.5,\n",
    "                   'NonCO2red': 0.5,\n",
    "                   'Timing': \"Immediate\",\n",
    "                   'Convergence_year': 2050,\n",
    "                   'Scenario': 'SSP2',\n",
    "                   'Discount_factor': 0,\n",
    "                   'Historical_startyear': 1990,}\n",
    "\n",
    "settings_range = {'Temperature': set_temp,\n",
    "                   'Risk': set_risk,\n",
    "                    'NonCO2red':0.5,\n",
    "                   'Timing': \"Immediate\",\n",
    "                   'NegEmis': 0.5,\n",
    "                   }"
   ]
  },
  {
   "cell_type": "code",
   "execution_count": 556,
   "metadata": {},
   "outputs": [],
   "source": [
    "ndcs = xr_dataread.GHG_ndc.mean(dim=['Conditionality', 'Ambition'])"
   ]
  },
  {
   "cell_type": "code",
   "execution_count": 557,
   "metadata": {},
   "outputs": [],
   "source": [
    "xr_policyscen = xr.open_dataset(path_data / \"xr_policyscen.nc\")\n",
    "curpols = xr_policyscen.CurPol.sel(Time=year_of_focus).mean(dim='Model')\n",
    "nzs = xr_policyscen.NetZero.sel(Time=year_of_focus).mean(dim='Model')"
   ]
  },
  {
   "cell_type": "code",
   "execution_count": 558,
   "metadata": {},
   "outputs": [],
   "source": [
    "path_ctygroups = \"X:/user/dekkerm/Data/\" + \"UNFCCC_Parties_Groups_noeu.xlsx\"\n",
    "df = pd.read_excel(path_ctygroups, sheet_name = \"Country groups\")\n",
    "countries_iso = np.array(df[\"Country ISO Code\"])\n",
    "countries_name = np.array(df[\"Name\"])\n",
    "countries_iso = np.array(df[\"Country ISO Code\"])\n",
    "group_eu = countries_iso[np.array(df[\"EU\"]) == 1]"
   ]
  },
  {
   "cell_type": "code",
   "execution_count": 559,
   "metadata": {},
   "outputs": [],
   "source": [
    "costopts = xr_scen_all.sel(Time=year_of_focus, Variable='Emissions|Kyoto Gases').mean(dim='Model')"
   ]
  },
  {
   "cell_type": "markdown",
   "metadata": {},
   "source": [
    "## NDC 2035 data"
   ]
  },
  {
   "cell_type": "code",
   "execution_count": 560,
   "metadata": {},
   "outputs": [
    {
     "name": "stderr",
     "output_type": "stream",
     "text": [
      "C:\\Users\\dekkerm\\AppData\\Local\\Temp\\2\\ipykernel_7088\\1402567247.py:38: FutureWarning:\n",
      "\n",
      "Calling float on a single element Series is deprecated and will raise a TypeError in the future. Use float(ser.iloc[0]) instead\n",
      "\n"
     ]
    }
   ],
   "source": [
    "df_ndc_raw = pd.read_excel(\"X:/user/dekkerm/Data/NDC/NDC tool GHG incl excl LULUCF with Input results.xlsx\",\n",
    "                            sheet_name='results_incl LULUCF', header=5)\n",
    "regs = df_ndc_raw['country_name']\n",
    "regs_iso = []\n",
    "for r in regs:\n",
    "    wh = np.where(countries_name == r)[0]\n",
    "    if len(wh) == 0:\n",
    "        if r == 'United States':\n",
    "            regs_iso.append('USA')\n",
    "        elif r == 'EU27':\n",
    "            regs_iso.append('EU')\n",
    "        elif r == 'Turkey':\n",
    "            regs_iso.append('TUR')\n",
    "        else:\n",
    "            regs_iso.append(np.nan)\n",
    "    else:\n",
    "        regs_iso.append(countries_iso[wh[0]])\n",
    "regs_iso = np.array(regs_iso)\n",
    "df_ndc_raw['ISO'] = regs_iso\n",
    "\n",
    "df_regs = []\n",
    "df_amb = []\n",
    "df_con = []\n",
    "df_emis = []\n",
    "df_lulucf = []\n",
    "df_red = []\n",
    "df_abs = []\n",
    "df_inv = []\n",
    "histemis = xr_dataread.GHG_hist.sel(Time=2015)\n",
    "for r in list(countries_iso) + ['EU']:\n",
    "    histemis_r = float(histemis.sel(Region=r))\n",
    "    df_ndc_raw_sub = df_ndc_raw[df_ndc_raw['ISO'] == r]\n",
    "    if len(df_ndc_raw_sub)>0:\n",
    "        for cond in ['Unconditional', 'Conditional']:\n",
    "            for ambition_i, ambition in enumerate(['min', 'max']):\n",
    "                add = ['Min', 'Max'][ambition_i]\n",
    "                key = 'NDC_2035_'+cond+'_'+add\n",
    "                val = float(df_ndc_raw_sub[key])\n",
    "                red = 1 - val / histemis_r\n",
    "                abs_jones = histemis_r * (1 - red)\n",
    "                df_regs.append(r)\n",
    "                df_amb.append(ambition)\n",
    "                df_con.append(cond)\n",
    "                df_emis.append('NDC')\n",
    "                df_lulucf.append('incl')\n",
    "                df_red.append(red)\n",
    "                df_abs.append(abs_jones)\n",
    "                df_inv.append(val)\n",
    "\n",
    "dict_ndc = {\"Region\": df_regs,\n",
    "            \"Ambition\": df_amb,\n",
    "            \"Conditionality\": df_con,\n",
    "            \"GHG_ndc_red\": df_red,\n",
    "            \"GHG_ndc\": df_abs,\n",
    "            \"GHG_ndc_inv\": df_inv}\n",
    "df_ndc = pd.DataFrame(dict_ndc)\n",
    "xr_ndc = xr.Dataset.from_dataframe(df_ndc.set_index([\"Region\", \"Ambition\", \"Conditionality\"]))"
   ]
  },
  {
   "cell_type": "markdown",
   "metadata": {},
   "source": [
    "## Reductions"
   ]
  },
  {
   "cell_type": "code",
   "execution_count": 561,
   "metadata": {},
   "outputs": [
    {
     "name": "stderr",
     "output_type": "stream",
     "text": [
      "k:\\Environments\\MyEnv\\Lib\\site-packages\\numpy\\lib\\nanfunctions.py:1563: RuntimeWarning:\n",
      "\n",
      "All-NaN slice encountered\n",
      "\n"
     ]
    }
   ],
   "source": [
    "data_def = xr_traj_yeari.sel(**settings_default)[['PCC', 'AP', 'ECPC']]\n",
    "data_var = xr_traj_yeari.sel(**settings_range)[['PCC', 'AP', 'ECPC']]\n",
    "red_mt = data_def\n",
    "fair_0 = data_var.quantile(0, dim=['Convergence_year', 'Scenario', 'Discount_factor', 'Historical_startyear'])\n",
    "fair_1 = data_var.quantile(1, dim=['Convergence_year', 'Scenario', 'Discount_factor', 'Historical_startyear'])\n",
    "\n",
    "co = costopts.Value\n",
    "co_0 = xr_scen_all.sel(Time=year_of_focus, Variable='Emissions|Kyoto Gases').quantile(0.1, dim='Model')\n",
    "co_1 = xr_scen_all.sel(Time=year_of_focus, Variable='Emissions|Kyoto Gases').quantile(0.9, dim='Model')"
   ]
  },
  {
   "cell_type": "code",
   "execution_count": 562,
   "metadata": {},
   "outputs": [],
   "source": [
    "costopt_mt = costopts.Value\n",
    "ndc_est_mt = xr_dataread.GHG_ndc.mean(dim='Ambition').min(dim='Conditionality')\n",
    "ndc_est_mt2035 = xr_ndc.GHG_ndc.mean(dim='Ambition').min(dim='Conditionality')\n",
    "\n",
    "emis_2015 = xr_dataread.GHG_hist.sel(Time=2015)\n",
    "reductions = 1-red_mt/emis_2015\n",
    "ndc_est = 1-(ndc_est_mt / emis_2015)\n",
    "ndc_est2035 = 1-(ndc_est_mt2035 / emis_2015)\n",
    "costopt = 1-costopt_mt/emis_2015\n",
    "\n",
    "red_0 = 1-fair_0/emis_2015\n",
    "red_1 = 1-fair_1/emis_2015\n",
    "costopt_0 = 1-co_0/emis_2015\n",
    "costopt_1 = 1-co_1/emis_2015\n",
    "\n",
    "def data(reg): # Reduction targets\n",
    "    return float(ndc_est.sel(Region=reg)), float(ndc_est2035.sel(Region=reg)), np.array(reductions.sel(Region=reg)[['PCC', 'AP', 'ECPC']].to_array()), float(costopt.sel(Region=reg))\n",
    "def data_mt(reg): # Absolute emissions levels\n",
    "    return float(ndc_est_mt.sel(Region=reg)), np.array(red_mt.sel(Region=reg)[['PCC', 'AP', 'ECPC']].to_array()), float(costopt_mt.sel(Region=reg))\n",
    "def red_minmax(reg, rule): # Reduction targets\n",
    "    return float(red_0.sel(Region=reg)[rule]), float(red_1.sel(Region=reg)[rule])"
   ]
  },
  {
   "cell_type": "markdown",
   "metadata": {},
   "source": [
    "## Finance plot"
   ]
  },
  {
   "cell_type": "code",
   "execution_count": 563,
   "metadata": {},
   "outputs": [],
   "source": [
    "col1 = \"#afc50f\"#\"rgba(255, 65, 54, 1)\"\n",
    "col2 = '#2e5061'#'rgba(61, 153, 112, 1)'\n",
    "col3 = '#0062a6'\n",
    "col3a = '#5db2de'\n",
    "col3b = '#0062a6'\n",
    "col3c = '#002c4d'"
   ]
  },
  {
   "cell_type": "code",
   "execution_count": 564,
   "metadata": {},
   "outputs": [
    {
     "data": {
      "text/html": [
       "<div><svg style=\"position: absolute; width: 0; height: 0; overflow: hidden\">\n",
       "<defs>\n",
       "<symbol id=\"icon-database\" viewBox=\"0 0 32 32\">\n",
       "<path d=\"M16 0c-8.837 0-16 2.239-16 5v4c0 2.761 7.163 5 16 5s16-2.239 16-5v-4c0-2.761-7.163-5-16-5z\"></path>\n",
       "<path d=\"M16 17c-8.837 0-16-2.239-16-5v6c0 2.761 7.163 5 16 5s16-2.239 16-5v-6c0 2.761-7.163 5-16 5z\"></path>\n",
       "<path d=\"M16 26c-8.837 0-16-2.239-16-5v6c0 2.761 7.163 5 16 5s16-2.239 16-5v-6c0 2.761-7.163 5-16 5z\"></path>\n",
       "</symbol>\n",
       "<symbol id=\"icon-file-text2\" viewBox=\"0 0 32 32\">\n",
       "<path d=\"M28.681 7.159c-0.694-0.947-1.662-2.053-2.724-3.116s-2.169-2.030-3.116-2.724c-1.612-1.182-2.393-1.319-2.841-1.319h-15.5c-1.378 0-2.5 1.121-2.5 2.5v27c0 1.378 1.122 2.5 2.5 2.5h23c1.378 0 2.5-1.122 2.5-2.5v-19.5c0-0.448-0.137-1.23-1.319-2.841zM24.543 5.457c0.959 0.959 1.712 1.825 2.268 2.543h-4.811v-4.811c0.718 0.556 1.584 1.309 2.543 2.268zM28 29.5c0 0.271-0.229 0.5-0.5 0.5h-23c-0.271 0-0.5-0.229-0.5-0.5v-27c0-0.271 0.229-0.5 0.5-0.5 0 0 15.499-0 15.5 0v7c0 0.552 0.448 1 1 1h7v19.5z\"></path>\n",
       "<path d=\"M23 26h-14c-0.552 0-1-0.448-1-1s0.448-1 1-1h14c0.552 0 1 0.448 1 1s-0.448 1-1 1z\"></path>\n",
       "<path d=\"M23 22h-14c-0.552 0-1-0.448-1-1s0.448-1 1-1h14c0.552 0 1 0.448 1 1s-0.448 1-1 1z\"></path>\n",
       "<path d=\"M23 18h-14c-0.552 0-1-0.448-1-1s0.448-1 1-1h14c0.552 0 1 0.448 1 1s-0.448 1-1 1z\"></path>\n",
       "</symbol>\n",
       "</defs>\n",
       "</svg>\n",
       "<style>/* CSS stylesheet for displaying xarray objects in jupyterlab.\n",
       " *\n",
       " */\n",
       "\n",
       ":root {\n",
       "  --xr-font-color0: var(--jp-content-font-color0, rgba(0, 0, 0, 1));\n",
       "  --xr-font-color2: var(--jp-content-font-color2, rgba(0, 0, 0, 0.54));\n",
       "  --xr-font-color3: var(--jp-content-font-color3, rgba(0, 0, 0, 0.38));\n",
       "  --xr-border-color: var(--jp-border-color2, #e0e0e0);\n",
       "  --xr-disabled-color: var(--jp-layout-color3, #bdbdbd);\n",
       "  --xr-background-color: var(--jp-layout-color0, white);\n",
       "  --xr-background-color-row-even: var(--jp-layout-color1, white);\n",
       "  --xr-background-color-row-odd: var(--jp-layout-color2, #eeeeee);\n",
       "}\n",
       "\n",
       "html[theme=dark],\n",
       "html[data-theme=dark],\n",
       "body[data-theme=dark],\n",
       "body.vscode-dark {\n",
       "  --xr-font-color0: rgba(255, 255, 255, 1);\n",
       "  --xr-font-color2: rgba(255, 255, 255, 0.54);\n",
       "  --xr-font-color3: rgba(255, 255, 255, 0.38);\n",
       "  --xr-border-color: #1F1F1F;\n",
       "  --xr-disabled-color: #515151;\n",
       "  --xr-background-color: #111111;\n",
       "  --xr-background-color-row-even: #111111;\n",
       "  --xr-background-color-row-odd: #313131;\n",
       "}\n",
       "\n",
       ".xr-wrap {\n",
       "  display: block !important;\n",
       "  min-width: 300px;\n",
       "  max-width: 700px;\n",
       "}\n",
       "\n",
       ".xr-text-repr-fallback {\n",
       "  /* fallback to plain text repr when CSS is not injected (untrusted notebook) */\n",
       "  display: none;\n",
       "}\n",
       "\n",
       ".xr-header {\n",
       "  padding-top: 6px;\n",
       "  padding-bottom: 6px;\n",
       "  margin-bottom: 4px;\n",
       "  border-bottom: solid 1px var(--xr-border-color);\n",
       "}\n",
       "\n",
       ".xr-header > div,\n",
       ".xr-header > ul {\n",
       "  display: inline;\n",
       "  margin-top: 0;\n",
       "  margin-bottom: 0;\n",
       "}\n",
       "\n",
       ".xr-obj-type,\n",
       ".xr-array-name {\n",
       "  margin-left: 2px;\n",
       "  margin-right: 10px;\n",
       "}\n",
       "\n",
       ".xr-obj-type {\n",
       "  color: var(--xr-font-color2);\n",
       "}\n",
       "\n",
       ".xr-sections {\n",
       "  padding-left: 0 !important;\n",
       "  display: grid;\n",
       "  grid-template-columns: 150px auto auto 1fr 20px 20px;\n",
       "}\n",
       "\n",
       ".xr-section-item {\n",
       "  display: contents;\n",
       "}\n",
       "\n",
       ".xr-section-item input {\n",
       "  display: none;\n",
       "}\n",
       "\n",
       ".xr-section-item input + label {\n",
       "  color: var(--xr-disabled-color);\n",
       "}\n",
       "\n",
       ".xr-section-item input:enabled + label {\n",
       "  cursor: pointer;\n",
       "  color: var(--xr-font-color2);\n",
       "}\n",
       "\n",
       ".xr-section-item input:enabled + label:hover {\n",
       "  color: var(--xr-font-color0);\n",
       "}\n",
       "\n",
       ".xr-section-summary {\n",
       "  grid-column: 1;\n",
       "  color: var(--xr-font-color2);\n",
       "  font-weight: 500;\n",
       "}\n",
       "\n",
       ".xr-section-summary > span {\n",
       "  display: inline-block;\n",
       "  padding-left: 0.5em;\n",
       "}\n",
       "\n",
       ".xr-section-summary-in:disabled + label {\n",
       "  color: var(--xr-font-color2);\n",
       "}\n",
       "\n",
       ".xr-section-summary-in + label:before {\n",
       "  display: inline-block;\n",
       "  content: '►';\n",
       "  font-size: 11px;\n",
       "  width: 15px;\n",
       "  text-align: center;\n",
       "}\n",
       "\n",
       ".xr-section-summary-in:disabled + label:before {\n",
       "  color: var(--xr-disabled-color);\n",
       "}\n",
       "\n",
       ".xr-section-summary-in:checked + label:before {\n",
       "  content: '▼';\n",
       "}\n",
       "\n",
       ".xr-section-summary-in:checked + label > span {\n",
       "  display: none;\n",
       "}\n",
       "\n",
       ".xr-section-summary,\n",
       ".xr-section-inline-details {\n",
       "  padding-top: 4px;\n",
       "  padding-bottom: 4px;\n",
       "}\n",
       "\n",
       ".xr-section-inline-details {\n",
       "  grid-column: 2 / -1;\n",
       "}\n",
       "\n",
       ".xr-section-details {\n",
       "  display: none;\n",
       "  grid-column: 1 / -1;\n",
       "  margin-bottom: 5px;\n",
       "}\n",
       "\n",
       ".xr-section-summary-in:checked ~ .xr-section-details {\n",
       "  display: contents;\n",
       "}\n",
       "\n",
       ".xr-array-wrap {\n",
       "  grid-column: 1 / -1;\n",
       "  display: grid;\n",
       "  grid-template-columns: 20px auto;\n",
       "}\n",
       "\n",
       ".xr-array-wrap > label {\n",
       "  grid-column: 1;\n",
       "  vertical-align: top;\n",
       "}\n",
       "\n",
       ".xr-preview {\n",
       "  color: var(--xr-font-color3);\n",
       "}\n",
       "\n",
       ".xr-array-preview,\n",
       ".xr-array-data {\n",
       "  padding: 0 5px !important;\n",
       "  grid-column: 2;\n",
       "}\n",
       "\n",
       ".xr-array-data,\n",
       ".xr-array-in:checked ~ .xr-array-preview {\n",
       "  display: none;\n",
       "}\n",
       "\n",
       ".xr-array-in:checked ~ .xr-array-data,\n",
       ".xr-array-preview {\n",
       "  display: inline-block;\n",
       "}\n",
       "\n",
       ".xr-dim-list {\n",
       "  display: inline-block !important;\n",
       "  list-style: none;\n",
       "  padding: 0 !important;\n",
       "  margin: 0;\n",
       "}\n",
       "\n",
       ".xr-dim-list li {\n",
       "  display: inline-block;\n",
       "  padding: 0;\n",
       "  margin: 0;\n",
       "}\n",
       "\n",
       ".xr-dim-list:before {\n",
       "  content: '(';\n",
       "}\n",
       "\n",
       ".xr-dim-list:after {\n",
       "  content: ')';\n",
       "}\n",
       "\n",
       ".xr-dim-list li:not(:last-child):after {\n",
       "  content: ',';\n",
       "  padding-right: 5px;\n",
       "}\n",
       "\n",
       ".xr-has-index {\n",
       "  font-weight: bold;\n",
       "}\n",
       "\n",
       ".xr-var-list,\n",
       ".xr-var-item {\n",
       "  display: contents;\n",
       "}\n",
       "\n",
       ".xr-var-item > div,\n",
       ".xr-var-item label,\n",
       ".xr-var-item > .xr-var-name span {\n",
       "  background-color: var(--xr-background-color-row-even);\n",
       "  margin-bottom: 0;\n",
       "}\n",
       "\n",
       ".xr-var-item > .xr-var-name:hover span {\n",
       "  padding-right: 5px;\n",
       "}\n",
       "\n",
       ".xr-var-list > li:nth-child(odd) > div,\n",
       ".xr-var-list > li:nth-child(odd) > label,\n",
       ".xr-var-list > li:nth-child(odd) > .xr-var-name span {\n",
       "  background-color: var(--xr-background-color-row-odd);\n",
       "}\n",
       "\n",
       ".xr-var-name {\n",
       "  grid-column: 1;\n",
       "}\n",
       "\n",
       ".xr-var-dims {\n",
       "  grid-column: 2;\n",
       "}\n",
       "\n",
       ".xr-var-dtype {\n",
       "  grid-column: 3;\n",
       "  text-align: right;\n",
       "  color: var(--xr-font-color2);\n",
       "}\n",
       "\n",
       ".xr-var-preview {\n",
       "  grid-column: 4;\n",
       "}\n",
       "\n",
       ".xr-index-preview {\n",
       "  grid-column: 2 / 5;\n",
       "  color: var(--xr-font-color2);\n",
       "}\n",
       "\n",
       ".xr-var-name,\n",
       ".xr-var-dims,\n",
       ".xr-var-dtype,\n",
       ".xr-preview,\n",
       ".xr-attrs dt {\n",
       "  white-space: nowrap;\n",
       "  overflow: hidden;\n",
       "  text-overflow: ellipsis;\n",
       "  padding-right: 10px;\n",
       "}\n",
       "\n",
       ".xr-var-name:hover,\n",
       ".xr-var-dims:hover,\n",
       ".xr-var-dtype:hover,\n",
       ".xr-attrs dt:hover {\n",
       "  overflow: visible;\n",
       "  width: auto;\n",
       "  z-index: 1;\n",
       "}\n",
       "\n",
       ".xr-var-attrs,\n",
       ".xr-var-data,\n",
       ".xr-index-data {\n",
       "  display: none;\n",
       "  background-color: var(--xr-background-color) !important;\n",
       "  padding-bottom: 5px !important;\n",
       "}\n",
       "\n",
       ".xr-var-attrs-in:checked ~ .xr-var-attrs,\n",
       ".xr-var-data-in:checked ~ .xr-var-data,\n",
       ".xr-index-data-in:checked ~ .xr-index-data {\n",
       "  display: block;\n",
       "}\n",
       "\n",
       ".xr-var-data > table {\n",
       "  float: right;\n",
       "}\n",
       "\n",
       ".xr-var-name span,\n",
       ".xr-var-data,\n",
       ".xr-index-name div,\n",
       ".xr-index-data,\n",
       ".xr-attrs {\n",
       "  padding-left: 25px !important;\n",
       "}\n",
       "\n",
       ".xr-attrs,\n",
       ".xr-var-attrs,\n",
       ".xr-var-data,\n",
       ".xr-index-data {\n",
       "  grid-column: 1 / -1;\n",
       "}\n",
       "\n",
       "dl.xr-attrs {\n",
       "  padding: 0;\n",
       "  margin: 0;\n",
       "  display: grid;\n",
       "  grid-template-columns: 125px auto;\n",
       "}\n",
       "\n",
       ".xr-attrs dt,\n",
       ".xr-attrs dd {\n",
       "  padding: 0;\n",
       "  margin: 0;\n",
       "  float: left;\n",
       "  padding-right: 10px;\n",
       "  width: auto;\n",
       "}\n",
       "\n",
       ".xr-attrs dt {\n",
       "  font-weight: normal;\n",
       "  grid-column: 1;\n",
       "}\n",
       "\n",
       ".xr-attrs dt:hover span {\n",
       "  display: inline-block;\n",
       "  background: var(--xr-background-color);\n",
       "  padding-right: 10px;\n",
       "}\n",
       "\n",
       ".xr-attrs dd {\n",
       "  grid-column: 2;\n",
       "  white-space: pre-wrap;\n",
       "  word-break: break-all;\n",
       "}\n",
       "\n",
       ".xr-icon-database,\n",
       ".xr-icon-file-text2,\n",
       ".xr-no-icon {\n",
       "  display: inline-block;\n",
       "  vertical-align: middle;\n",
       "  width: 1em;\n",
       "  height: 1.5em !important;\n",
       "  stroke-width: 0;\n",
       "  stroke: currentColor;\n",
       "  fill: currentColor;\n",
       "}\n",
       "</style><pre class='xr-text-repr-fallback'>&lt;xarray.Dataset&gt; Size: 28B\n",
       "Dimensions:   ()\n",
       "Coordinates:\n",
       "    Region    &lt;U2 8B &#x27;EU&#x27;\n",
       "    quantile  float64 8B 0.1\n",
       "    Time      int32 4B 2015\n",
       "Data variables:\n",
       "    Value     float64 8B 0.4666</pre><div class='xr-wrap' style='display:none'><div class='xr-header'><div class='xr-obj-type'>xarray.Dataset</div></div><ul class='xr-sections'><li class='xr-section-item'><input id='section-868d5ee3-b248-4e5f-b474-5228939e649d' class='xr-section-summary-in' type='checkbox' disabled ><label for='section-868d5ee3-b248-4e5f-b474-5228939e649d' class='xr-section-summary'  title='Expand/collapse section'>Dimensions:</label><div class='xr-section-inline-details'></div><div class='xr-section-details'></div></li><li class='xr-section-item'><input id='section-b4abc39c-6016-4d1c-bebb-672199b8495b' class='xr-section-summary-in' type='checkbox'  checked><label for='section-b4abc39c-6016-4d1c-bebb-672199b8495b' class='xr-section-summary' >Coordinates: <span>(3)</span></label><div class='xr-section-inline-details'></div><div class='xr-section-details'><ul class='xr-var-list'><li class='xr-var-item'><div class='xr-var-name'><span>Region</span></div><div class='xr-var-dims'>()</div><div class='xr-var-dtype'>&lt;U2</div><div class='xr-var-preview xr-preview'>&#x27;EU&#x27;</div><input id='attrs-28b7230b-477e-4e4a-8e23-97f0f6b6bfd6' class='xr-var-attrs-in' type='checkbox' disabled><label for='attrs-28b7230b-477e-4e4a-8e23-97f0f6b6bfd6' title='Show/Hide attributes'><svg class='icon xr-icon-file-text2'><use xlink:href='#icon-file-text2'></use></svg></label><input id='data-7428e727-0a73-4f13-b286-410e60a1bd96' class='xr-var-data-in' type='checkbox'><label for='data-7428e727-0a73-4f13-b286-410e60a1bd96' title='Show/Hide data repr'><svg class='icon xr-icon-database'><use xlink:href='#icon-database'></use></svg></label><div class='xr-var-attrs'><dl class='xr-attrs'></dl></div><div class='xr-var-data'><pre>array(&#x27;EU&#x27;, dtype=&#x27;&lt;U2&#x27;)</pre></div></li><li class='xr-var-item'><div class='xr-var-name'><span>quantile</span></div><div class='xr-var-dims'>()</div><div class='xr-var-dtype'>float64</div><div class='xr-var-preview xr-preview'>0.1</div><input id='attrs-a425d5c8-afe8-4dc1-8311-b79f27f08f82' class='xr-var-attrs-in' type='checkbox' disabled><label for='attrs-a425d5c8-afe8-4dc1-8311-b79f27f08f82' title='Show/Hide attributes'><svg class='icon xr-icon-file-text2'><use xlink:href='#icon-file-text2'></use></svg></label><input id='data-876b6f4a-7880-4221-aee2-0d915c659c58' class='xr-var-data-in' type='checkbox'><label for='data-876b6f4a-7880-4221-aee2-0d915c659c58' title='Show/Hide data repr'><svg class='icon xr-icon-database'><use xlink:href='#icon-database'></use></svg></label><div class='xr-var-attrs'><dl class='xr-attrs'></dl></div><div class='xr-var-data'><pre>array(0.1)</pre></div></li><li class='xr-var-item'><div class='xr-var-name'><span>Time</span></div><div class='xr-var-dims'>()</div><div class='xr-var-dtype'>int32</div><div class='xr-var-preview xr-preview'>2015</div><input id='attrs-cd97322a-4e15-424a-80a2-2f54f8dd0a2a' class='xr-var-attrs-in' type='checkbox' disabled><label for='attrs-cd97322a-4e15-424a-80a2-2f54f8dd0a2a' title='Show/Hide attributes'><svg class='icon xr-icon-file-text2'><use xlink:href='#icon-file-text2'></use></svg></label><input id='data-2795ad8d-38c3-48b1-90f4-07342d179ab4' class='xr-var-data-in' type='checkbox'><label for='data-2795ad8d-38c3-48b1-90f4-07342d179ab4' title='Show/Hide data repr'><svg class='icon xr-icon-database'><use xlink:href='#icon-database'></use></svg></label><div class='xr-var-attrs'><dl class='xr-attrs'></dl></div><div class='xr-var-data'><pre>array(2015)</pre></div></li></ul></div></li><li class='xr-section-item'><input id='section-e1bffbf7-b5ee-49b8-b3a7-a27d443d5980' class='xr-section-summary-in' type='checkbox'  checked><label for='section-e1bffbf7-b5ee-49b8-b3a7-a27d443d5980' class='xr-section-summary' >Data variables: <span>(1)</span></label><div class='xr-section-inline-details'></div><div class='xr-section-details'><ul class='xr-var-list'><li class='xr-var-item'><div class='xr-var-name'><span>Value</span></div><div class='xr-var-dims'>()</div><div class='xr-var-dtype'>float64</div><div class='xr-var-preview xr-preview'>0.4666</div><input id='attrs-65497b76-f35d-41b0-b9fb-013a486ecc4e' class='xr-var-attrs-in' type='checkbox' disabled><label for='attrs-65497b76-f35d-41b0-b9fb-013a486ecc4e' title='Show/Hide attributes'><svg class='icon xr-icon-file-text2'><use xlink:href='#icon-file-text2'></use></svg></label><input id='data-ad7e7520-063a-4cde-8d05-44b9a2bfdf27' class='xr-var-data-in' type='checkbox'><label for='data-ad7e7520-063a-4cde-8d05-44b9a2bfdf27' title='Show/Hide data repr'><svg class='icon xr-icon-database'><use xlink:href='#icon-database'></use></svg></label><div class='xr-var-attrs'><dl class='xr-attrs'></dl></div><div class='xr-var-data'><pre>array(0.46660692)</pre></div></li></ul></div></li><li class='xr-section-item'><input id='section-888561e4-f44c-4f61-a24a-bc6956d56805' class='xr-section-summary-in' type='checkbox' disabled ><label for='section-888561e4-f44c-4f61-a24a-bc6956d56805' class='xr-section-summary'  title='Expand/collapse section'>Indexes: <span>(0)</span></label><div class='xr-section-inline-details'></div><div class='xr-section-details'><ul class='xr-var-list'></ul></div></li><li class='xr-section-item'><input id='section-bf05fa36-e9df-4056-b049-15f749d4cb7f' class='xr-section-summary-in' type='checkbox' disabled ><label for='section-bf05fa36-e9df-4056-b049-15f749d4cb7f' class='xr-section-summary'  title='Expand/collapse section'>Attributes: <span>(0)</span></label><div class='xr-section-inline-details'></div><div class='xr-section-details'><dl class='xr-attrs'></dl></div></li></ul></div></div>"
      ],
      "text/plain": [
       "<xarray.Dataset> Size: 28B\n",
       "Dimensions:   ()\n",
       "Coordinates:\n",
       "    Region    <U2 8B 'EU'\n",
       "    quantile  float64 8B 0.1\n",
       "    Time      int32 4B 2015\n",
       "Data variables:\n",
       "    Value     float64 8B 0.4666"
      ]
     },
     "execution_count": 564,
     "metadata": {},
     "output_type": "execute_result"
    }
   ],
   "source": [
    "costopt_0.sel(Region='EU')"
   ]
  },
  {
   "cell_type": "code",
   "execution_count": 565,
   "metadata": {},
   "outputs": [
    {
     "data": {
      "application/vnd.plotly.v1+json": {
       "config": {
        "plotlyServerURL": "https://plot.ly"
       },
       "data": [
        {
         "line": {
          "color": "#5db2de",
          "width": 2
         },
         "showlegend": false,
         "type": "scatter",
         "x": [
          -0.7552470875211158,
          -0.6009811698163177
         ],
         "y": [
          0.15,
          0.15
         ]
        },
        {
         "line": {
          "color": "#0062a6",
          "width": 2
         },
         "showlegend": false,
         "type": "scatter",
         "x": [
          -0.9020016758115328,
          -0.8934424019480238
         ],
         "y": [
          0.25,
          0.25
         ]
        },
        {
         "line": {
          "color": "#002c4d",
          "width": 2
         },
         "showlegend": false,
         "type": "scatter",
         "x": [
          -4.956912870654511,
          -1.017402333325962
         ],
         "y": [
          0.35,
          0.35
         ]
        },
        {
         "line": {
          "color": "#2e5061",
          "width": 2
         },
         "showlegend": false,
         "type": "scatter",
         "x": [
          -0.45588116855527694,
          -0.6105585789681263
         ],
         "y": [
          0,
          0
         ]
        },
        {
         "line": {
          "color": "#5db2de",
          "width": 2
         },
         "showlegend": false,
         "type": "scatter",
         "x": [
          -0.6036419857712423,
          -0.5769556744756215
         ],
         "y": [
          1.15,
          1.15
         ]
        },
        {
         "line": {
          "color": "#0062a6",
          "width": 2
         },
         "showlegend": false,
         "type": "scatter",
         "x": [
          -0.8464915950049267,
          -0.8383569329244057
         ],
         "y": [
          1.25,
          1.25
         ]
        },
        {
         "line": {
          "color": "#002c4d",
          "width": 2
         },
         "showlegend": false,
         "type": "scatter",
         "x": [
          -1.936448681576567,
          -0.7331242281337935
         ],
         "y": [
          1.3499999999999999,
          1.3499999999999999
         ]
        },
        {
         "line": {
          "color": "#5db2de",
          "width": 2
         },
         "showlegend": false,
         "type": "scatter",
         "x": [
          -0.6614696891552241,
          -0.6093048388819146
         ],
         "y": [
          2.15,
          2.15
         ]
        },
        {
         "line": {
          "color": "#0062a6",
          "width": 2
         },
         "showlegend": false,
         "type": "scatter",
         "x": [
          -0.848154640164166,
          -0.8349291165866227
         ],
         "y": [
          2.25,
          2.25
         ]
        },
        {
         "line": {
          "color": "#002c4d",
          "width": 2
         },
         "showlegend": false,
         "type": "scatter",
         "x": [
          -1.3593914187122698,
          -0.5471758041728338
         ],
         "y": [
          2.35,
          2.35
         ]
        },
        {
         "line": {
          "color": "#2e5061",
          "width": 2
         },
         "showlegend": false,
         "type": "scatter",
         "x": [
          -0.3339927301500951,
          -0.552764686861912
         ],
         "y": [
          2,
          2
         ]
        },
        {
         "line": {
          "color": "#5db2de",
          "width": 2
         },
         "showlegend": false,
         "type": "scatter",
         "x": [
          -0.6881778992820247,
          -0.6032891805323912
         ],
         "y": [
          3.15,
          3.15
         ]
        },
        {
         "line": {
          "color": "#0062a6",
          "width": 2
         },
         "showlegend": false,
         "type": "scatter",
         "x": [
          -0.5490802081580991,
          -0.5277041387239555
         ],
         "y": [
          3.25,
          3.25
         ]
        },
        {
         "line": {
          "color": "#002c4d",
          "width": 2
         },
         "showlegend": false,
         "type": "scatter",
         "x": [
          -2.464894121259105,
          -0.8734503996051829
         ],
         "y": [
          3.35,
          3.35
         ]
        },
        {
         "line": {
          "color": "#2e5061",
          "width": 2
         },
         "showlegend": false,
         "type": "scatter",
         "x": [
          -0.21737683180626877,
          -0.6140852777602792
         ],
         "y": [
          3,
          3
         ]
        },
        {
         "line": {
          "color": "#5db2de",
          "width": 2
         },
         "showlegend": false,
         "type": "scatter",
         "x": [
          -0.6439996660703745,
          -0.6329518623436943
         ],
         "y": [
          4.15,
          4.15
         ]
        },
        {
         "line": {
          "color": "#0062a6",
          "width": 2
         },
         "showlegend": false,
         "type": "scatter",
         "x": [
          -0.4292362162148562,
          -0.34423565743921947
         ],
         "y": [
          4.25,
          4.25
         ]
        },
        {
         "line": {
          "color": "#002c4d",
          "width": 2
         },
         "showlegend": false,
         "type": "scatter",
         "x": [
          -0.9127185384862117,
          -0.6238593870361713
         ],
         "y": [
          4.3500000000000005,
          4.3500000000000005
         ]
        },
        {
         "line": {
          "color": "#5db2de",
          "width": 2
         },
         "showlegend": false,
         "type": "scatter",
         "x": [
          -0.3972606909889189,
          -0.37994778267276863
         ],
         "y": [
          5.15,
          5.15
         ]
        },
        {
         "line": {
          "color": "#0062a6",
          "width": 2
         },
         "showlegend": false,
         "type": "scatter",
         "x": [
          -0.20515604879191507,
          -0.19598080018532493
         ],
         "y": [
          5.25,
          5.25
         ]
        },
        {
         "line": {
          "color": "#002c4d",
          "width": 2
         },
         "showlegend": false,
         "type": "scatter",
         "x": [
          -0.2304270293239009,
          1.42335788352622
         ],
         "y": [
          5.3500000000000005,
          5.3500000000000005
         ]
        },
        {
         "line": {
          "color": "#5db2de",
          "width": 2
         },
         "showlegend": false,
         "type": "scatter",
         "x": [
          -0.5830932364264463,
          -0.49550445426473966
         ],
         "y": [
          6.15,
          6.15
         ]
        },
        {
         "line": {
          "color": "#0062a6",
          "width": 2
         },
         "showlegend": false,
         "type": "scatter",
         "x": [
          -0.5442114546082718,
          -0.497628633447881
         ],
         "y": [
          6.25,
          6.25
         ]
        },
        {
         "line": {
          "color": "#002c4d",
          "width": 2
         },
         "showlegend": false,
         "type": "scatter",
         "x": [
          -0.8020138578055291,
          0.6675387044505543
         ],
         "y": [
          6.3500000000000005,
          6.3500000000000005
         ]
        },
        {
         "line": {
          "color": "#5db2de",
          "width": 2
         },
         "showlegend": false,
         "type": "scatter",
         "x": [
          -0.2368115015715082,
          0.3686430025616425
         ],
         "y": [
          7.15,
          7.15
         ]
        },
        {
         "line": {
          "color": "#0062a6",
          "width": 2
         },
         "showlegend": false,
         "type": "scatter",
         "x": [
          0.27577469972997726,
          0.30529175088425053
         ],
         "y": [
          7.25,
          7.25
         ]
        },
        {
         "line": {
          "color": "#002c4d",
          "width": 2
         },
         "showlegend": false,
         "type": "scatter",
         "x": [
          1.1182046553446372,
          7.494403123250356
         ],
         "y": [
          7.3500000000000005,
          7.3500000000000005
         ]
        },
        {
         "line": {
          "color": "#5db2de",
          "width": 2
         },
         "showlegend": false,
         "type": "scatter",
         "x": [
          -0.33098894607030815,
          0.10203965809503779
         ],
         "y": [
          8.15,
          8.15
         ]
        },
        {
         "line": {
          "color": "#0062a6",
          "width": 2
         },
         "showlegend": false,
         "type": "scatter",
         "x": [
          -0.010898385430043733,
          0.03896252228747166
         ],
         "y": [
          8.25,
          8.25
         ]
        },
        {
         "line": {
          "color": "#002c4d",
          "width": 2
         },
         "showlegend": false,
         "type": "scatter",
         "x": [
          0.6612497347011943,
          6.907960691170628
         ],
         "y": [
          8.35,
          8.35
         ]
        },
        {
         "line": {
          "color": "#5db2de",
          "width": 2
         },
         "showlegend": false,
         "type": "scatter",
         "x": [
          -0.33507206813192014,
          0.29073930796412406
         ],
         "y": [
          9.15,
          9.15
         ]
        },
        {
         "line": {
          "color": "#0062a6",
          "width": 2
         },
         "showlegend": false,
         "type": "scatter",
         "x": [
          0.08125819117431554,
          0.48788973036566863
         ],
         "y": [
          9.25,
          9.25
         ]
        },
        {
         "line": {
          "color": "#002c4d",
          "width": 2
         },
         "showlegend": false,
         "type": "scatter",
         "x": [
          0.8749233419748734,
          5.57924206654709
         ],
         "y": [
          9.35,
          9.35
         ]
        },
        {
         "marker": {
          "color": "silver",
          "size": 12,
          "symbol": "square"
         },
         "mode": "markers",
         "name": "NDC 2030",
         "showlegend": true,
         "type": "scatter",
         "x": [
          -0.45588116855527694,
          -0.3908938196584818,
          -0.3339927301500951,
          -0.21737683180626877,
          -0.32853216641737837,
          0.7612518216907205,
          0.07828080974467899,
          0.8716064435942186,
          0.6478785441383472,
          -0.32253579909722796
         ],
         "y": [
          0,
          1,
          2,
          3,
          4,
          5,
          6,
          7,
          8,
          9
         ]
        },
        {
         "marker": {
          "color": "#2e5061",
          "size": 12,
          "symbol": "square"
         },
         "mode": "markers",
         "name": "NDC 2035",
         "showlegend": true,
         "type": "scatter",
         "x": [
          -0.6105585789681263,
          null,
          -0.552764686861912,
          -0.6140852777602792,
          null,
          null,
          null,
          null,
          null,
          null
         ],
         "y": [
          0,
          1,
          2,
          3,
          4,
          5,
          6,
          7,
          8,
          9
         ]
        },
        {
         "marker": {
          "color": "#5db2de",
          "size": 12,
          "symbol": "circle"
         },
         "mode": "markers",
         "name": "Per capita convergence",
         "showlegend": true,
         "type": "scatter",
         "x": [
          -0.6851496884808067,
          -0.5914299917793074,
          -0.637704413641498,
          -0.649628646487494,
          -0.6389871244496148,
          -0.387878960444617,
          -0.5432398097116269,
          0.09314727436043602,
          -0.09474209566797354,
          0.00601043452870198
         ],
         "y": [
          0.15,
          1.15,
          2.15,
          3.15,
          4.15,
          5.15,
          6.15,
          7.15,
          8.15,
          9.15
         ]
        },
        {
         "marker": {
          "color": "#0062a6",
          "size": 12,
          "symbol": "diamond"
         },
         "mode": "markers",
         "name": "Ability to pay",
         "showlegend": true,
         "type": "scatter",
         "x": [
          -0.9020016758115328,
          -0.8383569329244057,
          -0.848154640164166,
          -0.5277041387239555,
          -0.393228053219289,
          -0.19598080018532493,
          -0.5286551297879463,
          0.30529175088425053,
          0.03896252228747166,
          0.26478890684417467
         ],
         "y": [
          0.25,
          1.25,
          2.25,
          3.25,
          4.25,
          5.25,
          6.25,
          7.25,
          8.25,
          9.25
         ]
        },
        {
         "marker": {
          "color": "#002c4d",
          "size": 12,
          "symbol": "star"
         },
         "mode": "markers",
         "name": "Equal cumulative per capita",
         "showlegend": true,
         "type": "scatter",
         "x": [
          -2.2451003880870473,
          -1.242765382627791,
          -1.3532160608394919,
          -1.6688654926451127,
          -0.7684811392945083,
          0.4447163661077802,
          -0.7054702373117064,
          4.903229294862618,
          3.4725868382230436,
          4.057657461080646
         ],
         "y": [
          0.35,
          1.3499999999999999,
          2.35,
          3.35,
          4.3500000000000005,
          5.3500000000000005,
          6.3500000000000005,
          7.3500000000000005,
          8.35,
          9.35
         ]
        }
       ],
       "layout": {
        "annotations": [
         {
          "align": "left",
          "font": {
           "color": "black",
           "size": 20
          },
          "showarrow": false,
          "text": "United<br>States",
          "x": -0.05,
          "xref": "paper",
          "y": 0.1,
          "yref": "y"
         },
         {
          "align": "left",
          "font": {
           "color": "black",
           "size": 15
          },
          "showarrow": false,
          "text": "19.2 t CO<sub>2</sub>e/cap",
          "x": -0.05,
          "xref": "paper",
          "y": -0.3,
          "yref": "y"
         },
         {
          "align": "left",
          "font": {
           "color": "black",
           "size": 20
          },
          "showarrow": false,
          "text": "European<br>Union",
          "x": -0.05,
          "xref": "paper",
          "y": 1.1,
          "yref": "y"
         },
         {
          "align": "left",
          "font": {
           "color": "black",
           "size": 15
          },
          "showarrow": false,
          "text": "8.3 t CO<sub>2</sub>e/cap",
          "x": -0.05,
          "xref": "paper",
          "y": 0.7,
          "yref": "y"
         },
         {
          "align": "left",
          "font": {
           "color": "black",
           "size": 20
          },
          "showarrow": false,
          "text": "Japan",
          "x": -0.05,
          "xref": "paper",
          "y": 2.1,
          "yref": "y"
         },
         {
          "align": "left",
          "font": {
           "color": "black",
           "size": 15
          },
          "showarrow": false,
          "text": "10.0 t CO<sub>2</sub>e/cap",
          "x": -0.05,
          "xref": "paper",
          "y": 1.7,
          "yref": "y"
         },
         {
          "align": "left",
          "font": {
           "color": "black",
           "size": 20
          },
          "showarrow": false,
          "text": "Brazil",
          "x": -0.05,
          "xref": "paper",
          "y": 3.1,
          "yref": "y"
         },
         {
          "align": "left",
          "font": {
           "color": "black",
           "size": 15
          },
          "showarrow": false,
          "text": "12.3 t CO<sub>2</sub>e/cap",
          "x": -0.05,
          "xref": "paper",
          "y": 2.7,
          "yref": "y"
         },
         {
          "align": "left",
          "font": {
           "color": "black",
           "size": 20
          },
          "showarrow": false,
          "text": "Indonesia",
          "x": -0.05,
          "xref": "paper",
          "y": 4.1,
          "yref": "y"
         },
         {
          "align": "left",
          "font": {
           "color": "black",
           "size": 15
          },
          "showarrow": false,
          "text": "9.6 t CO<sub>2</sub>e/cap",
          "x": -0.05,
          "xref": "paper",
          "y": 3.7,
          "yref": "y"
         },
         {
          "align": "left",
          "font": {
           "color": "black",
           "size": 20
          },
          "showarrow": false,
          "text": "Vietnam",
          "x": -0.05,
          "xref": "paper",
          "y": 5.1,
          "yref": "y"
         },
         {
          "align": "left",
          "font": {
           "color": "black",
           "size": 15
          },
          "showarrow": false,
          "text": "5.3 t CO<sub>2</sub>e/cap",
          "x": -0.05,
          "xref": "paper",
          "y": 4.7,
          "yref": "y"
         },
         {
          "align": "left",
          "font": {
           "color": "black",
           "size": 20
          },
          "showarrow": false,
          "text": "China",
          "x": -0.05,
          "xref": "paper",
          "y": 6.1,
          "yref": "y"
         },
         {
          "align": "left",
          "font": {
           "color": "black",
           "size": 15
          },
          "showarrow": false,
          "text": "8.7 t CO<sub>2</sub>e/cap",
          "x": -0.05,
          "xref": "paper",
          "y": 5.7,
          "yref": "y"
         },
         {
          "align": "left",
          "font": {
           "color": "black",
           "size": 20
          },
          "showarrow": false,
          "text": "Pakistan",
          "x": -0.05,
          "xref": "paper",
          "y": 7.1,
          "yref": "y"
         },
         {
          "align": "left",
          "font": {
           "color": "black",
           "size": 15
          },
          "showarrow": false,
          "text": "2.1 t CO<sub>2</sub>e/cap",
          "x": -0.05,
          "xref": "paper",
          "y": 6.7,
          "yref": "y"
         },
         {
          "align": "left",
          "font": {
           "color": "black",
           "size": 20
          },
          "showarrow": false,
          "text": "India",
          "x": -0.05,
          "xref": "paper",
          "y": 8.1,
          "yref": "y"
         },
         {
          "align": "left",
          "font": {
           "color": "black",
           "size": 15
          },
          "showarrow": false,
          "text": "2.6 t CO<sub>2</sub>e/cap",
          "x": -0.05,
          "xref": "paper",
          "y": 7.7,
          "yref": "y"
         },
         {
          "align": "left",
          "font": {
           "color": "black",
           "size": 20
          },
          "showarrow": false,
          "text": "Nigeria",
          "x": -0.05,
          "xref": "paper",
          "y": 9.1,
          "yref": "y"
         },
         {
          "align": "left",
          "font": {
           "color": "black",
           "size": 15
          },
          "showarrow": false,
          "text": "2.3 t CO<sub>2</sub>e/cap",
          "x": -0.05,
          "xref": "paper",
          "y": 8.7,
          "yref": "y"
         },
         {
          "align": "left",
          "font": {
           "color": "#002c4d",
           "size": 15
          },
          "showarrow": false,
          "text": "490% ->",
          "x": 1.5,
          "xref": "x",
          "y": 7.45,
          "yref": "y"
         },
         {
          "align": "left",
          "font": {
           "color": "#002c4d",
           "size": 15
          },
          "showarrow": false,
          "text": "347% ->",
          "x": 1.5,
          "xref": "x",
          "y": 8.45,
          "yref": "y"
         },
         {
          "align": "left",
          "font": {
           "color": "#002c4d",
           "size": 15
          },
          "showarrow": false,
          "text": "405% ->",
          "x": 1.5,
          "xref": "x",
          "y": 9.45,
          "yref": "y"
         }
        ],
        "height": 1000,
        "legend": {
         "bgcolor": "rgba(255,255,255,0.5)",
         "bordercolor": "black",
         "borderwidth": 0,
         "font": {
          "size": 20
         },
         "title": {
          "text": ""
         },
         "x": 0.65,
         "y": 0.15
        },
        "paper_bgcolor": "white",
        "plot_bgcolor": "white",
        "shapes": [
         {
          "line": {
           "color": "black",
           "dash": "dash",
           "width": 3
          },
          "type": "line",
          "x0": 0,
          "x1": 0,
          "xref": "x",
          "y0": -1000,
          "y1": 1000,
          "yref": "y"
         },
         {
          "line": {
           "color": "silver",
           "width": 0.5
          },
          "type": "line",
          "x0": -1.25,
          "x1": -1.25,
          "xref": "x",
          "y0": -1000,
          "y1": 1000,
          "yref": "y"
         },
         {
          "line": {
           "color": "silver",
           "width": 0.5
          },
          "type": "line",
          "x0": -1,
          "x1": -1,
          "xref": "x",
          "y0": -1000,
          "y1": 1000,
          "yref": "y"
         },
         {
          "line": {
           "color": "silver",
           "width": 0.5
          },
          "type": "line",
          "x0": -0.75,
          "x1": -0.75,
          "xref": "x",
          "y0": -1000,
          "y1": 1000,
          "yref": "y"
         },
         {
          "line": {
           "color": "silver",
           "width": 0.5
          },
          "type": "line",
          "x0": -0.5,
          "x1": -0.5,
          "xref": "x",
          "y0": -1000,
          "y1": 1000,
          "yref": "y"
         },
         {
          "line": {
           "color": "silver",
           "width": 0.5
          },
          "type": "line",
          "x0": -0.25,
          "x1": -0.25,
          "xref": "x",
          "y0": -1000,
          "y1": 1000,
          "yref": "y"
         },
         {
          "line": {
           "color": "silver",
           "width": 0.5
          },
          "type": "line",
          "x0": 0.25,
          "x1": 0.25,
          "xref": "x",
          "y0": -1000,
          "y1": 1000,
          "yref": "y"
         },
         {
          "line": {
           "color": "silver",
           "width": 0.5
          },
          "type": "line",
          "x0": 0.5,
          "x1": 0.5,
          "xref": "x",
          "y0": -1000,
          "y1": 1000,
          "yref": "y"
         },
         {
          "line": {
           "color": "silver",
           "width": 0.5
          },
          "type": "line",
          "x0": 0.75,
          "x1": 0.75,
          "xref": "x",
          "y0": -1000,
          "y1": 1000,
          "yref": "y"
         },
         {
          "line": {
           "color": "silver",
           "width": 0.5
          },
          "type": "line",
          "x0": 1,
          "x1": 1,
          "xref": "x",
          "y0": -1000,
          "y1": 1000,
          "yref": "y"
         },
         {
          "line": {
           "color": "silver",
           "width": 0.5
          },
          "type": "line",
          "x0": 1.25,
          "x1": 1.25,
          "xref": "x",
          "y0": -1000,
          "y1": 1000,
          "yref": "y"
         },
         {
          "line": {
           "color": "silver",
           "width": 0.5
          },
          "type": "line",
          "x0": -1000,
          "x1": 1000,
          "xref": "x",
          "y0": -0.45,
          "y1": -0.45,
          "yref": "y"
         },
         {
          "line": {
           "color": "silver",
           "width": 0.5
          },
          "type": "line",
          "x0": -1000,
          "x1": 1000,
          "xref": "x",
          "y0": 0.55,
          "y1": 0.55,
          "yref": "y"
         },
         {
          "line": {
           "color": "silver",
           "width": 0.5
          },
          "type": "line",
          "x0": -1000,
          "x1": 1000,
          "xref": "x",
          "y0": 1.55,
          "y1": 1.55,
          "yref": "y"
         },
         {
          "line": {
           "color": "silver",
           "width": 0.5
          },
          "type": "line",
          "x0": -1000,
          "x1": 1000,
          "xref": "x",
          "y0": 2.55,
          "y1": 2.55,
          "yref": "y"
         },
         {
          "line": {
           "color": "silver",
           "width": 0.5
          },
          "type": "line",
          "x0": -1000,
          "x1": 1000,
          "xref": "x",
          "y0": 3.55,
          "y1": 3.55,
          "yref": "y"
         },
         {
          "line": {
           "color": "silver",
           "width": 0.5
          },
          "type": "line",
          "x0": -1000,
          "x1": 1000,
          "xref": "x",
          "y0": 4.55,
          "y1": 4.55,
          "yref": "y"
         },
         {
          "line": {
           "color": "silver",
           "width": 0.5
          },
          "type": "line",
          "x0": -1000,
          "x1": 1000,
          "xref": "x",
          "y0": 5.55,
          "y1": 5.55,
          "yref": "y"
         },
         {
          "line": {
           "color": "silver",
           "width": 0.5
          },
          "type": "line",
          "x0": -1000,
          "x1": 1000,
          "xref": "x",
          "y0": 6.55,
          "y1": 6.55,
          "yref": "y"
         },
         {
          "line": {
           "color": "silver",
           "width": 0.5
          },
          "type": "line",
          "x0": -1000,
          "x1": 1000,
          "xref": "x",
          "y0": 7.55,
          "y1": 7.55,
          "yref": "y"
         },
         {
          "line": {
           "color": "silver",
           "width": 0.5
          },
          "type": "line",
          "x0": -1000,
          "x1": 1000,
          "xref": "x",
          "y0": 8.55,
          "y1": 8.55,
          "yref": "y"
         },
         {
          "line": {
           "color": "silver",
           "width": 0.5
          },
          "type": "line",
          "x0": -1000,
          "x1": 1000,
          "xref": "x",
          "y0": 9.55,
          "y1": 9.55,
          "yref": "y"
         },
         {
          "line": {
           "color": "#afc50f",
           "width": 2
          },
          "showlegend": false,
          "type": "line",
          "x0": -0.8050151534537877,
          "x1": -0.8050151534537877,
          "xref": "x",
          "y0": -0.22499999999999998,
          "y1": -0.075,
          "yref": "y"
         },
         {
          "line": {
           "color": "#afc50f",
           "width": 2
          },
          "showlegend": false,
          "type": "line",
          "x0": -0.3411084595255759,
          "x1": -0.3411084595255759,
          "xref": "x",
          "y0": -0.22499999999999998,
          "y1": -0.075,
          "yref": "y"
         },
         {
          "line": {
           "color": "#afc50f",
           "width": 4
          },
          "name": "Globally cost optimal",
          "showlegend": true,
          "type": "line",
          "x0": -0.8050151534537877,
          "x1": -0.3411084595255759,
          "xref": "x",
          "y0": -0.15,
          "y1": -0.15,
          "yref": "y"
         },
         {
          "line": {
           "color": "#afc50f",
           "width": 2
          },
          "showlegend": false,
          "type": "line",
          "x0": -0.4666069189821702,
          "x1": -0.4666069189821702,
          "xref": "x",
          "y0": 0.775,
          "y1": 0.9249999999999999,
          "yref": "y"
         },
         {
          "line": {
           "color": "#afc50f",
           "width": 2
          },
          "showlegend": false,
          "type": "line",
          "x0": -0.1554713971358962,
          "x1": -0.1554713971358962,
          "xref": "x",
          "y0": 0.775,
          "y1": 0.9249999999999999,
          "yref": "y"
         },
         {
          "line": {
           "color": "#afc50f",
           "width": 4
          },
          "name": "Globally cost optimal",
          "showlegend": false,
          "type": "line",
          "x0": -0.4666069189821702,
          "x1": -0.1554713971358962,
          "xref": "x",
          "y0": 0.85,
          "y1": 0.85,
          "yref": "y"
         },
         {
          "line": {
           "color": "#afc50f",
           "width": 2
          },
          "showlegend": false,
          "type": "line",
          "x0": -0.7269206966281523,
          "x1": -0.7269206966281523,
          "xref": "x",
          "y0": 1.7750000000000001,
          "y1": 1.9250000000000003,
          "yref": "y"
         },
         {
          "line": {
           "color": "#afc50f",
           "width": 2
          },
          "showlegend": false,
          "type": "line",
          "x0": -0.5024825968427091,
          "x1": -0.5024825968427091,
          "xref": "x",
          "y0": 1.7750000000000001,
          "y1": 1.9250000000000003,
          "yref": "y"
         },
         {
          "line": {
           "color": "#afc50f",
           "width": 4
          },
          "name": "Globally cost optimal",
          "showlegend": false,
          "type": "line",
          "x0": -0.7269206966281523,
          "x1": -0.5024825968427091,
          "xref": "x",
          "y0": 1.85,
          "y1": 1.85,
          "yref": "y"
         },
         {
          "line": {
           "color": "#afc50f",
           "width": 2
          },
          "showlegend": false,
          "type": "line",
          "x0": -0.7793558466132549,
          "x1": -0.7793558466132549,
          "xref": "x",
          "y0": 2.775,
          "y1": 2.9250000000000003,
          "yref": "y"
         },
         {
          "line": {
           "color": "#afc50f",
           "width": 2
          },
          "showlegend": false,
          "type": "line",
          "x0": -0.566441236445155,
          "x1": -0.566441236445155,
          "xref": "x",
          "y0": 2.775,
          "y1": 2.9250000000000003,
          "yref": "y"
         },
         {
          "line": {
           "color": "#afc50f",
           "width": 4
          },
          "name": "Globally cost optimal",
          "showlegend": false,
          "type": "line",
          "x0": -0.7793558466132549,
          "x1": -0.566441236445155,
          "xref": "x",
          "y0": 2.85,
          "y1": 2.85,
          "yref": "y"
         },
         {
          "line": {
           "color": "#afc50f",
           "width": 2
          },
          "showlegend": false,
          "type": "line",
          "x0": -0.6646388813396118,
          "x1": -0.6646388813396118,
          "xref": "x",
          "y0": 3.775,
          "y1": 3.9250000000000003,
          "yref": "y"
         },
         {
          "line": {
           "color": "#afc50f",
           "width": 2
          },
          "showlegend": false,
          "type": "line",
          "x0": -0.26650481827722505,
          "x1": -0.26650481827722505,
          "xref": "x",
          "y0": 3.775,
          "y1": 3.9250000000000003,
          "yref": "y"
         },
         {
          "line": {
           "color": "#afc50f",
           "width": 4
          },
          "name": "Globally cost optimal",
          "showlegend": false,
          "type": "line",
          "x0": -0.6646388813396118,
          "x1": -0.26650481827722505,
          "xref": "x",
          "y0": 3.85,
          "y1": 3.85,
          "yref": "y"
         },
         {
          "line": {
           "color": "#afc50f",
           "width": 2
          },
          "showlegend": false,
          "type": "line",
          "x0": -0.45939415485671253,
          "x1": -0.45939415485671253,
          "xref": "x",
          "y0": 4.7749999999999995,
          "y1": 4.925,
          "yref": "y"
         },
         {
          "line": {
           "color": "#afc50f",
           "width": 2
          },
          "showlegend": false,
          "type": "line",
          "x0": 0.18240237332142173,
          "x1": 0.18240237332142173,
          "xref": "x",
          "y0": 4.7749999999999995,
          "y1": 4.925,
          "yref": "y"
         },
         {
          "line": {
           "color": "#afc50f",
           "width": 4
          },
          "name": "Globally cost optimal",
          "showlegend": false,
          "type": "line",
          "x0": -0.45939415485671253,
          "x1": 0.18240237332142173,
          "xref": "x",
          "y0": 4.85,
          "y1": 4.85,
          "yref": "y"
         },
         {
          "line": {
           "color": "#afc50f",
           "width": 2
          },
          "showlegend": false,
          "type": "line",
          "x0": -0.5207434091287747,
          "x1": -0.5207434091287747,
          "xref": "x",
          "y0": 5.7749999999999995,
          "y1": 5.925,
          "yref": "y"
         },
         {
          "line": {
           "color": "#afc50f",
           "width": 2
          },
          "showlegend": false,
          "type": "line",
          "x0": -0.37324369989951256,
          "x1": -0.37324369989951256,
          "xref": "x",
          "y0": 5.7749999999999995,
          "y1": 5.925,
          "yref": "y"
         },
         {
          "line": {
           "color": "#afc50f",
           "width": 4
          },
          "name": "Globally cost optimal",
          "showlegend": false,
          "type": "line",
          "x0": -0.5207434091287747,
          "x1": -0.37324369989951256,
          "xref": "x",
          "y0": 5.85,
          "y1": 5.85,
          "yref": "y"
         },
         {
          "line": {
           "color": "#afc50f",
           "width": 2
          },
          "showlegend": false,
          "type": "line",
          "x0": -0.45609353530476027,
          "x1": -0.45609353530476027,
          "xref": "x",
          "y0": 6.7749999999999995,
          "y1": 6.925,
          "yref": "y"
         },
         {
          "line": {
           "color": "#afc50f",
           "width": 2
          },
          "showlegend": false,
          "type": "line",
          "x0": -0.017556917731195276,
          "x1": -0.017556917731195276,
          "xref": "x",
          "y0": 6.7749999999999995,
          "y1": 6.925,
          "yref": "y"
         },
         {
          "line": {
           "color": "#afc50f",
           "width": 4
          },
          "name": "Globally cost optimal",
          "showlegend": false,
          "type": "line",
          "x0": -0.45609353530476027,
          "x1": -0.017556917731195276,
          "xref": "x",
          "y0": 6.85,
          "y1": 6.85,
          "yref": "y"
         },
         {
          "line": {
           "color": "#afc50f",
           "width": 2
          },
          "showlegend": false,
          "type": "line",
          "x0": -0.4948388950289039,
          "x1": -0.4948388950289039,
          "xref": "x",
          "y0": 7.7749999999999995,
          "y1": 7.924999999999999,
          "yref": "y"
         },
         {
          "line": {
           "color": "#afc50f",
           "width": 2
          },
          "showlegend": false,
          "type": "line",
          "x0": -0.08754158072344276,
          "x1": -0.08754158072344276,
          "xref": "x",
          "y0": 7.7749999999999995,
          "y1": 7.924999999999999,
          "yref": "y"
         },
         {
          "line": {
           "color": "#afc50f",
           "width": 4
          },
          "name": "Globally cost optimal",
          "showlegend": false,
          "type": "line",
          "x0": -0.4948388950289039,
          "x1": -0.08754158072344276,
          "xref": "x",
          "y0": 7.85,
          "y1": 7.85,
          "yref": "y"
         },
         {
          "line": {
           "color": "#afc50f",
           "width": 2
          },
          "showlegend": false,
          "type": "line",
          "x0": -0.9078797352269447,
          "x1": -0.9078797352269447,
          "xref": "x",
          "y0": 8.775,
          "y1": 8.924999999999999,
          "yref": "y"
         },
         {
          "line": {
           "color": "#afc50f",
           "width": 2
          },
          "showlegend": false,
          "type": "line",
          "x0": -0.27882582291604396,
          "x1": -0.27882582291604396,
          "xref": "x",
          "y0": 8.775,
          "y1": 8.924999999999999,
          "yref": "y"
         },
         {
          "line": {
           "color": "#afc50f",
           "width": 4
          },
          "name": "Globally cost optimal",
          "showlegend": false,
          "type": "line",
          "x0": -0.9078797352269447,
          "x1": -0.27882582291604396,
          "xref": "x",
          "y0": 8.85,
          "y1": 8.85,
          "yref": "y"
         }
        ],
        "template": {
         "data": {
          "bar": [
           {
            "error_x": {
             "color": "#2a3f5f"
            },
            "error_y": {
             "color": "#2a3f5f"
            },
            "marker": {
             "line": {
              "color": "#E5ECF6",
              "width": 0.5
             },
             "pattern": {
              "fillmode": "overlay",
              "size": 10,
              "solidity": 0.2
             }
            },
            "type": "bar"
           }
          ],
          "barpolar": [
           {
            "marker": {
             "line": {
              "color": "#E5ECF6",
              "width": 0.5
             },
             "pattern": {
              "fillmode": "overlay",
              "size": 10,
              "solidity": 0.2
             }
            },
            "type": "barpolar"
           }
          ],
          "carpet": [
           {
            "aaxis": {
             "endlinecolor": "#2a3f5f",
             "gridcolor": "white",
             "linecolor": "white",
             "minorgridcolor": "white",
             "startlinecolor": "#2a3f5f"
            },
            "baxis": {
             "endlinecolor": "#2a3f5f",
             "gridcolor": "white",
             "linecolor": "white",
             "minorgridcolor": "white",
             "startlinecolor": "#2a3f5f"
            },
            "type": "carpet"
           }
          ],
          "choropleth": [
           {
            "colorbar": {
             "outlinewidth": 0,
             "ticks": ""
            },
            "type": "choropleth"
           }
          ],
          "contour": [
           {
            "colorbar": {
             "outlinewidth": 0,
             "ticks": ""
            },
            "colorscale": [
             [
              0,
              "#0d0887"
             ],
             [
              0.1111111111111111,
              "#46039f"
             ],
             [
              0.2222222222222222,
              "#7201a8"
             ],
             [
              0.3333333333333333,
              "#9c179e"
             ],
             [
              0.4444444444444444,
              "#bd3786"
             ],
             [
              0.5555555555555556,
              "#d8576b"
             ],
             [
              0.6666666666666666,
              "#ed7953"
             ],
             [
              0.7777777777777778,
              "#fb9f3a"
             ],
             [
              0.8888888888888888,
              "#fdca26"
             ],
             [
              1,
              "#f0f921"
             ]
            ],
            "type": "contour"
           }
          ],
          "contourcarpet": [
           {
            "colorbar": {
             "outlinewidth": 0,
             "ticks": ""
            },
            "type": "contourcarpet"
           }
          ],
          "heatmap": [
           {
            "colorbar": {
             "outlinewidth": 0,
             "ticks": ""
            },
            "colorscale": [
             [
              0,
              "#0d0887"
             ],
             [
              0.1111111111111111,
              "#46039f"
             ],
             [
              0.2222222222222222,
              "#7201a8"
             ],
             [
              0.3333333333333333,
              "#9c179e"
             ],
             [
              0.4444444444444444,
              "#bd3786"
             ],
             [
              0.5555555555555556,
              "#d8576b"
             ],
             [
              0.6666666666666666,
              "#ed7953"
             ],
             [
              0.7777777777777778,
              "#fb9f3a"
             ],
             [
              0.8888888888888888,
              "#fdca26"
             ],
             [
              1,
              "#f0f921"
             ]
            ],
            "type": "heatmap"
           }
          ],
          "heatmapgl": [
           {
            "colorbar": {
             "outlinewidth": 0,
             "ticks": ""
            },
            "colorscale": [
             [
              0,
              "#0d0887"
             ],
             [
              0.1111111111111111,
              "#46039f"
             ],
             [
              0.2222222222222222,
              "#7201a8"
             ],
             [
              0.3333333333333333,
              "#9c179e"
             ],
             [
              0.4444444444444444,
              "#bd3786"
             ],
             [
              0.5555555555555556,
              "#d8576b"
             ],
             [
              0.6666666666666666,
              "#ed7953"
             ],
             [
              0.7777777777777778,
              "#fb9f3a"
             ],
             [
              0.8888888888888888,
              "#fdca26"
             ],
             [
              1,
              "#f0f921"
             ]
            ],
            "type": "heatmapgl"
           }
          ],
          "histogram": [
           {
            "marker": {
             "pattern": {
              "fillmode": "overlay",
              "size": 10,
              "solidity": 0.2
             }
            },
            "type": "histogram"
           }
          ],
          "histogram2d": [
           {
            "colorbar": {
             "outlinewidth": 0,
             "ticks": ""
            },
            "colorscale": [
             [
              0,
              "#0d0887"
             ],
             [
              0.1111111111111111,
              "#46039f"
             ],
             [
              0.2222222222222222,
              "#7201a8"
             ],
             [
              0.3333333333333333,
              "#9c179e"
             ],
             [
              0.4444444444444444,
              "#bd3786"
             ],
             [
              0.5555555555555556,
              "#d8576b"
             ],
             [
              0.6666666666666666,
              "#ed7953"
             ],
             [
              0.7777777777777778,
              "#fb9f3a"
             ],
             [
              0.8888888888888888,
              "#fdca26"
             ],
             [
              1,
              "#f0f921"
             ]
            ],
            "type": "histogram2d"
           }
          ],
          "histogram2dcontour": [
           {
            "colorbar": {
             "outlinewidth": 0,
             "ticks": ""
            },
            "colorscale": [
             [
              0,
              "#0d0887"
             ],
             [
              0.1111111111111111,
              "#46039f"
             ],
             [
              0.2222222222222222,
              "#7201a8"
             ],
             [
              0.3333333333333333,
              "#9c179e"
             ],
             [
              0.4444444444444444,
              "#bd3786"
             ],
             [
              0.5555555555555556,
              "#d8576b"
             ],
             [
              0.6666666666666666,
              "#ed7953"
             ],
             [
              0.7777777777777778,
              "#fb9f3a"
             ],
             [
              0.8888888888888888,
              "#fdca26"
             ],
             [
              1,
              "#f0f921"
             ]
            ],
            "type": "histogram2dcontour"
           }
          ],
          "mesh3d": [
           {
            "colorbar": {
             "outlinewidth": 0,
             "ticks": ""
            },
            "type": "mesh3d"
           }
          ],
          "parcoords": [
           {
            "line": {
             "colorbar": {
              "outlinewidth": 0,
              "ticks": ""
             }
            },
            "type": "parcoords"
           }
          ],
          "pie": [
           {
            "automargin": true,
            "type": "pie"
           }
          ],
          "scatter": [
           {
            "fillpattern": {
             "fillmode": "overlay",
             "size": 10,
             "solidity": 0.2
            },
            "type": "scatter"
           }
          ],
          "scatter3d": [
           {
            "line": {
             "colorbar": {
              "outlinewidth": 0,
              "ticks": ""
             }
            },
            "marker": {
             "colorbar": {
              "outlinewidth": 0,
              "ticks": ""
             }
            },
            "type": "scatter3d"
           }
          ],
          "scattercarpet": [
           {
            "marker": {
             "colorbar": {
              "outlinewidth": 0,
              "ticks": ""
             }
            },
            "type": "scattercarpet"
           }
          ],
          "scattergeo": [
           {
            "marker": {
             "colorbar": {
              "outlinewidth": 0,
              "ticks": ""
             }
            },
            "type": "scattergeo"
           }
          ],
          "scattergl": [
           {
            "marker": {
             "colorbar": {
              "outlinewidth": 0,
              "ticks": ""
             }
            },
            "type": "scattergl"
           }
          ],
          "scattermapbox": [
           {
            "marker": {
             "colorbar": {
              "outlinewidth": 0,
              "ticks": ""
             }
            },
            "type": "scattermapbox"
           }
          ],
          "scatterpolar": [
           {
            "marker": {
             "colorbar": {
              "outlinewidth": 0,
              "ticks": ""
             }
            },
            "type": "scatterpolar"
           }
          ],
          "scatterpolargl": [
           {
            "marker": {
             "colorbar": {
              "outlinewidth": 0,
              "ticks": ""
             }
            },
            "type": "scatterpolargl"
           }
          ],
          "scatterternary": [
           {
            "marker": {
             "colorbar": {
              "outlinewidth": 0,
              "ticks": ""
             }
            },
            "type": "scatterternary"
           }
          ],
          "surface": [
           {
            "colorbar": {
             "outlinewidth": 0,
             "ticks": ""
            },
            "colorscale": [
             [
              0,
              "#0d0887"
             ],
             [
              0.1111111111111111,
              "#46039f"
             ],
             [
              0.2222222222222222,
              "#7201a8"
             ],
             [
              0.3333333333333333,
              "#9c179e"
             ],
             [
              0.4444444444444444,
              "#bd3786"
             ],
             [
              0.5555555555555556,
              "#d8576b"
             ],
             [
              0.6666666666666666,
              "#ed7953"
             ],
             [
              0.7777777777777778,
              "#fb9f3a"
             ],
             [
              0.8888888888888888,
              "#fdca26"
             ],
             [
              1,
              "#f0f921"
             ]
            ],
            "type": "surface"
           }
          ],
          "table": [
           {
            "cells": {
             "fill": {
              "color": "#EBF0F8"
             },
             "line": {
              "color": "white"
             }
            },
            "header": {
             "fill": {
              "color": "#C8D4E3"
             },
             "line": {
              "color": "white"
             }
            },
            "type": "table"
           }
          ]
         },
         "layout": {
          "annotationdefaults": {
           "arrowcolor": "#2a3f5f",
           "arrowhead": 0,
           "arrowwidth": 1
          },
          "autotypenumbers": "strict",
          "coloraxis": {
           "colorbar": {
            "outlinewidth": 0,
            "ticks": ""
           }
          },
          "colorscale": {
           "diverging": [
            [
             0,
             "#8e0152"
            ],
            [
             0.1,
             "#c51b7d"
            ],
            [
             0.2,
             "#de77ae"
            ],
            [
             0.3,
             "#f1b6da"
            ],
            [
             0.4,
             "#fde0ef"
            ],
            [
             0.5,
             "#f7f7f7"
            ],
            [
             0.6,
             "#e6f5d0"
            ],
            [
             0.7,
             "#b8e186"
            ],
            [
             0.8,
             "#7fbc41"
            ],
            [
             0.9,
             "#4d9221"
            ],
            [
             1,
             "#276419"
            ]
           ],
           "sequential": [
            [
             0,
             "#0d0887"
            ],
            [
             0.1111111111111111,
             "#46039f"
            ],
            [
             0.2222222222222222,
             "#7201a8"
            ],
            [
             0.3333333333333333,
             "#9c179e"
            ],
            [
             0.4444444444444444,
             "#bd3786"
            ],
            [
             0.5555555555555556,
             "#d8576b"
            ],
            [
             0.6666666666666666,
             "#ed7953"
            ],
            [
             0.7777777777777778,
             "#fb9f3a"
            ],
            [
             0.8888888888888888,
             "#fdca26"
            ],
            [
             1,
             "#f0f921"
            ]
           ],
           "sequentialminus": [
            [
             0,
             "#0d0887"
            ],
            [
             0.1111111111111111,
             "#46039f"
            ],
            [
             0.2222222222222222,
             "#7201a8"
            ],
            [
             0.3333333333333333,
             "#9c179e"
            ],
            [
             0.4444444444444444,
             "#bd3786"
            ],
            [
             0.5555555555555556,
             "#d8576b"
            ],
            [
             0.6666666666666666,
             "#ed7953"
            ],
            [
             0.7777777777777778,
             "#fb9f3a"
            ],
            [
             0.8888888888888888,
             "#fdca26"
            ],
            [
             1,
             "#f0f921"
            ]
           ]
          },
          "colorway": [
           "#636efa",
           "#EF553B",
           "#00cc96",
           "#ab63fa",
           "#FFA15A",
           "#19d3f3",
           "#FF6692",
           "#B6E880",
           "#FF97FF",
           "#FECB52"
          ],
          "font": {
           "color": "#2a3f5f"
          },
          "geo": {
           "bgcolor": "white",
           "lakecolor": "white",
           "landcolor": "#E5ECF6",
           "showlakes": true,
           "showland": true,
           "subunitcolor": "white"
          },
          "hoverlabel": {
           "align": "left"
          },
          "hovermode": "closest",
          "mapbox": {
           "style": "light"
          },
          "paper_bgcolor": "white",
          "plot_bgcolor": "#E5ECF6",
          "polar": {
           "angularaxis": {
            "gridcolor": "white",
            "linecolor": "white",
            "ticks": ""
           },
           "bgcolor": "#E5ECF6",
           "radialaxis": {
            "gridcolor": "white",
            "linecolor": "white",
            "ticks": ""
           }
          },
          "scene": {
           "xaxis": {
            "backgroundcolor": "#E5ECF6",
            "gridcolor": "white",
            "gridwidth": 2,
            "linecolor": "white",
            "showbackground": true,
            "ticks": "",
            "zerolinecolor": "white"
           },
           "yaxis": {
            "backgroundcolor": "#E5ECF6",
            "gridcolor": "white",
            "gridwidth": 2,
            "linecolor": "white",
            "showbackground": true,
            "ticks": "",
            "zerolinecolor": "white"
           },
           "zaxis": {
            "backgroundcolor": "#E5ECF6",
            "gridcolor": "white",
            "gridwidth": 2,
            "linecolor": "white",
            "showbackground": true,
            "ticks": "",
            "zerolinecolor": "white"
           }
          },
          "shapedefaults": {
           "line": {
            "color": "#2a3f5f"
           }
          },
          "ternary": {
           "aaxis": {
            "gridcolor": "white",
            "linecolor": "white",
            "ticks": ""
           },
           "baxis": {
            "gridcolor": "white",
            "linecolor": "white",
            "ticks": ""
           },
           "bgcolor": "#E5ECF6",
           "caxis": {
            "gridcolor": "white",
            "linecolor": "white",
            "ticks": ""
           }
          },
          "title": {
           "x": 0.05
          },
          "xaxis": {
           "automargin": true,
           "gridcolor": "white",
           "linecolor": "white",
           "ticks": "",
           "title": {
            "standoff": 15
           },
           "zerolinecolor": "white",
           "zerolinewidth": 2
          },
          "yaxis": {
           "automargin": true,
           "gridcolor": "white",
           "linecolor": "white",
           "ticks": "",
           "title": {
            "standoff": 15
           },
           "zerolinecolor": "white",
           "zerolinewidth": 2
          }
         }
        },
        "width": 1000,
        "xaxis": {
         "anchor": "y",
         "domain": [
          0,
          1
         ],
         "range": [
          -1.5,
          1.5
         ],
         "side": "top",
         "tickfont": {
          "size": 20
         },
         "ticktext": [
          "150%",
          "100%",
          "(reduction)<br>50%",
          "GHG emissions<br>incl. land use<br>2015",
          "(increase)<br>50%",
          "100%",
          "150%"
         ],
         "tickvals": [
          -1.5,
          -1,
          -0.5,
          0,
          0.5,
          1,
          1.5
         ]
        },
        "yaxis": {
         "anchor": "x",
         "domain": [
          0,
          1
         ],
         "range": [
          -0.5,
          10
         ],
         "showticklabels": false
        }
       }
      }
     },
     "metadata": {},
     "output_type": "display_data"
    }
   ],
   "source": [
    "wd = 0.15\n",
    "\n",
    "fig = make_subplots(rows=1, cols=1,\n",
    "                    horizontal_spacing = 0., vertical_spacing=0.02)\n",
    "\n",
    "fig.update_layout(height=1000, width=1000)\n",
    "fs=20\n",
    "\n",
    "# ============ #\n",
    "# Actual data\n",
    "# ============ #\n",
    "\n",
    "# Vertical lines\n",
    "fig.add_shape(\n",
    "    col=1, row=1,\n",
    "    type=\"line\",\n",
    "    x0=0, x1=0,\n",
    "    y0=-1e3, y1=1e3,\n",
    "    line=dict(color=\"black\",  dash='dash',width=3)\n",
    ")\n",
    "for x in [-1.25, -1, -0.75, -0.5, -0.25, 0.25, 0.5, 0.75, 1, 1.25]:\n",
    "    fig.add_shape(\n",
    "        col=1, row=1,\n",
    "        type=\"line\",\n",
    "        x0=x, x1=x,\n",
    "        y0=-1e3, y1=1e3,\n",
    "        line=dict(color=\"silver\", width=0.5)\n",
    "    )\n",
    "for y in range(11):\n",
    "    fig.add_shape(\n",
    "        col=1, row=1,\n",
    "        type=\"line\",\n",
    "        x0=-1e3, x1=1e3,\n",
    "        y0=y-0.45, y1=y-0.45,\n",
    "        line=dict(color=\"silver\", width=0.5)\n",
    "    )\n",
    "\n",
    "# Data\n",
    "REGS = ['USA', 'EU', 'JPN', 'BRA', 'IDN', 'VNM', 'CHN', 'PAK', 'IND', 'NGA']\n",
    "\n",
    "ndcs = []\n",
    "ndcs2 = []\n",
    "reds = []\n",
    "for reg_i, reg in enumerate(REGS):\n",
    "    ndc_estimate, ndc2, reductions_i, costopt_i = data(reg)\n",
    "    ndcs.append(ndc_estimate)\n",
    "    ndcs2.append(ndc2)\n",
    "    reds.append(reductions_i)\n",
    "    cty = all_regions_names[all_regions_iso==reg][0].replace(' ', '<br>')\n",
    "    emiscap_2015 = np.round(float(xr_dataread.GHG_hist.sel(Region=reg, Time=2015)/xr_dataread.Population.sel(Region=reg, Time=2015, Scenario='SSP2')),1)\n",
    "    if reg == 'USA': cty = 'United<br>States'\n",
    "    fig.add_annotation(x=-0.05, y=reg_i*1.+0.1, align = 'left',\n",
    "                       text=cty, xref='paper', yref='y1', showarrow=False, font=dict(color='black', size=20))\n",
    "    fig.add_annotation(x=-0.05, y=reg_i*1.-0.3, align = 'left',\n",
    "                       text=str(emiscap_2015)+' t CO<sub>2</sub>e/cap', xref='paper', yref='y1', showarrow=False, font=dict(color='black', size=15))\n",
    "\n",
    "    # WHISKERS\n",
    "    c0 = -float(costopt_0.sel(Region=reg).Value)\n",
    "    c1 = -float(costopt_1.sel(Region=reg).Value)\n",
    "    for c in [c0, c1]:\n",
    "        if not np.isnan(c):\n",
    "            fig.add_shape(type=\"line\", col=1, row=1, showlegend=False,\n",
    "                        line=dict(color=col1, width=2),\n",
    "                        x0=c, x1=c,\n",
    "                        y0=-wd/2 + reg_i-wd , y1=wd/2 + reg_i-wd,\n",
    "            )\n",
    "    if reg_i ==0: sl = True\n",
    "    else: sl = False\n",
    "    if not np.isnan(c0):\n",
    "        fig.add_shape(type=\"line\", col=1, row=1,\n",
    "                    line=dict(color=col1, width=4),\n",
    "                    showlegend=sl,\n",
    "                    name='Globally cost optimal',\n",
    "                    x0=c0, x1=c1,\n",
    "                    y0= reg_i-wd, y1= reg_i-wd,\n",
    "        )\n",
    "\n",
    "    # Horizontal lines for each rule\n",
    "    for i in range(3):\n",
    "        mn, mx= red_minmax(reg, ['PCC', 'AP', 'ECPC'][i])\n",
    "        fig.add_trace(go.Scatter(x=[-mn, -mx],\n",
    "                                y=[reg_i+wd+0.1*i, reg_i+wd+0.1*i],showlegend=False,\n",
    "                            line=dict(color=[col3a, col3b, col3c][i], width=2),\n",
    "        ))\n",
    "\n",
    "    # Horizontal lines between ndcs\n",
    "    if not np.isnan(ndc2):\n",
    "        fig.add_trace(go.Scatter(x=[-ndc_estimate, -ndc2],\n",
    "                                y=[reg_i, reg_i],showlegend=False,\n",
    "                            line=dict(color=col2, width=2),\n",
    "        ))\n",
    "\n",
    "\n",
    "# NDC 2030\n",
    "fig.add_trace(go.Scatter(\n",
    "    x=-np.array(ndcs),\n",
    "    y=np.arange(len(REGS)),\n",
    "    mode='markers',\n",
    "    name='NDC 2030',\n",
    "    showlegend=True,\n",
    "    marker=dict(\n",
    "        symbol='square',\n",
    "        size=12,         # Marker size\n",
    "        color='silver'     # Marker color\n",
    "    )\n",
    "))\n",
    "\n",
    "# NDC 2035\n",
    "fig.add_trace(go.Scatter(\n",
    "    x=-np.array(ndcs2),\n",
    "    y=np.arange(len(REGS)),\n",
    "    mode='markers',\n",
    "    name='NDC 2035',\n",
    "    showlegend=True,\n",
    "    marker=dict(\n",
    "        symbol='square',\n",
    "        size=12,         # Marker size\n",
    "        color=col2     # Marker color\n",
    "    )\n",
    "))\n",
    "\n",
    "# rules\n",
    "for i in range(3):\n",
    "    fig.add_trace(go.Scatter(\n",
    "        x=-np.array(reds)[:, i],\n",
    "        y=np.arange(len(REGS))+wd+0.1*i,\n",
    "        mode='markers',\n",
    "        name=['Per capita convergence', 'Ability to pay', 'Equal cumulative per capita'][i],\n",
    "        showlegend=True,\n",
    "        marker=dict(\n",
    "            symbol=['circle', 'diamond', 'star'][i],\n",
    "            size=12,         # Marker size\n",
    "            color=[col3a, col3b, col3c][i]     # Marker color\n",
    "        )\n",
    "    ))\n",
    "\n",
    "    # Indicate ends\n",
    "    for j in range(len(np.array(reds))):\n",
    "        if -np.array(reds)[j, i] > 1.5:\n",
    "            val = str(int(100*float(-np.array(reds)[j, i])))\n",
    "            fig.add_annotation(x=1.5, y=j+wd+0.1*i+0.1, align = 'left',\n",
    "                            text=val+'% ->', xref='x1', yref='y1', showarrow=False, font=dict(color=[col3a, col3b, col3c][i], size=15))\n",
    "\n",
    "fig.update_xaxes(row=1, col=1, range=(-1.5, 1.5), tickfont=dict(size=20), side='top',\n",
    "                    tickvals=[-1.5, -1, -0.5, 0, 0.5,  1, 1.5],\n",
    "                    ticktext=['150%', '100%', '(reduction)<br>50%',  'GHG emissions<br>incl. land use<br>2015', '(increase)<br>50%', '100%', '150%'])\n",
    "\n",
    "fig.update_layout(\n",
    "    plot_bgcolor='white',\n",
    "    paper_bgcolor='white',\n",
    "        legend=dict(\n",
    "        title='',     # Optional title\n",
    "        x=0.65, y=0.15,            # Positioning (top-right)\n",
    "        bgcolor='rgba(255,255,255,0.5)',  # Semi-transparent background\n",
    "        bordercolor='black',\n",
    "        borderwidth=0,\n",
    "        font=dict(size=20)\n",
    "    ),\n",
    ")\n",
    "fig.update_yaxes(row=1, col=1, range=(-0.5, 10\n",
    "                                      ), showticklabels=False)\n",
    "fig.write_image(\"../../../Figures/COMMITTEDpolicybrief/\"+figname+\".png\", scale=5)\n",
    "fig.write_image(\"../../../Figures/COMMITTEDpolicybrief/\"+figname+\".svg\", scale=5)\n",
    "fig.show()"
   ]
  },
  {
   "cell_type": "code",
   "execution_count": null,
   "metadata": {},
   "outputs": [],
   "source": []
  }
 ],
 "metadata": {
  "kernelspec": {
   "display_name": "Python 3",
   "language": "python",
   "name": "python3"
  },
  "language_info": {
   "codemirror_mode": {
    "name": "ipython",
    "version": 3
   },
   "file_extension": ".py",
   "mimetype": "text/x-python",
   "name": "python",
   "nbconvert_exporter": "python",
   "pygments_lexer": "ipython3",
   "version": "3.12.5"
  },
  "orig_nbformat": 4
 },
 "nbformat": 4,
 "nbformat_minor": 2
}
