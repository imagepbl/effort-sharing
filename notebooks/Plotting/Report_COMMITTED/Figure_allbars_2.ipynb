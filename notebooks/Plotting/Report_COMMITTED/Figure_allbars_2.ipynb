{
 "cells": [
  {
   "attachments": {},
   "cell_type": "markdown",
   "metadata": {},
   "source": [
    "## Preambule"
   ]
  },
  {
   "cell_type": "code",
   "execution_count": 1,
   "metadata": {},
   "outputs": [],
   "source": [
    "# General packages\n",
    "import numpy as np\n",
    "import pandas as pd\n",
    "from tqdm import tqdm\n",
    "from pathlib import Path\n",
    "import xarray as xr\n",
    "import pandas as pd\n",
    "import json\n",
    "import plotly\n",
    "\n",
    "# Plotting\n",
    "import matplotlib.pyplot as plt\n",
    "import plotly.express as px\n",
    "import plotly.graph_objects as go\n",
    "from plotly.subplots import make_subplots\n",
    "from plotly.colors import n_colors"
   ]
  },
  {
   "attachments": {},
   "cell_type": "markdown",
   "metadata": {},
   "source": [
    "## Parameters"
   ]
  },
  {
   "cell_type": "code",
   "execution_count": 2,
   "metadata": {},
   "outputs": [],
   "source": [
    "rules = ['PCC', 'ECPC', 'AP']\n",
    "rulecolors = ['goldenrod', 'tomato', 'forestgreen']\n",
    "year_of_focus = 2035"
   ]
  },
  {
   "attachments": {},
   "cell_type": "markdown",
   "metadata": {},
   "source": [
    "## Paths"
   ]
  },
  {
   "cell_type": "code",
   "execution_count": 3,
   "metadata": {},
   "outputs": [],
   "source": [
    "path_main = Path(\"K:/Code/effort-sharing/\")\n",
    "path_data = Path(\"K:/Data/Data_effortsharing/DataUpdate_ongoing/\")\n",
    "path_figs = path_main / \"Figures\" / \"Paper_FairShares\""
   ]
  },
  {
   "cell_type": "code",
   "execution_count": 47,
   "metadata": {},
   "outputs": [],
   "source": [
    "ccats = ['C3']\n",
    "\n",
    "settings_default = {'Temperature': 2.0,\n",
    "                   'Risk': 0.33,\n",
    "                   'NegEmis': 0.5,\n",
    "                   'NonCO2red': 0.5,\n",
    "                   'Timing': \"Immediate\",\n",
    "                   'Convergence_year': 2050,\n",
    "                   'Scenario': 'SSP2',\n",
    "                   'Discount_factor': 0,\n",
    "                   'Historical_startyear': 1990,}\n",
    "\n",
    "settings_range = {'Temperature': 2.0,\n",
    "                   'Risk': 0.33,\n",
    "                    'NonCO2red':0.5,\n",
    "                   'Timing': \"Immediate\",\n",
    "                   'NegEmis': 0.5,\n",
    "                   }"
   ]
  },
  {
   "attachments": {},
   "cell_type": "markdown",
   "metadata": {},
   "source": [
    "## Read data files"
   ]
  },
  {
   "cell_type": "code",
   "execution_count": 48,
   "metadata": {},
   "outputs": [],
   "source": [
    "xr_dataread = xr.open_dataset(path_data / \"startyear_2021/xr_dataread.nc\")\n",
    "xr_traj_yeari = xr.open_dataset(path_data / (\"startyear_2021/Aggregated_files/xr_alloc_\"+str(year_of_focus)+\"_GHG_incl.nc\"))\n",
    "xr_alloc_yeari = xr.open_dataset(path_data / (\"startyear_2021/Aggregated_files/xr_alloc_\"+str(year_of_focus)+\"_GHG_incl.nc\"))\n",
    "xr_total = xr.open_dataset(path_data / \"xr_policyscen.nc\")\n",
    "\n",
    "all_regions_iso = np.load(path_data / \"all_regions.npy\")\n",
    "all_regions_names = np.load(path_data / \"all_regions_names.npy\")\n",
    "all_countries_iso = np.load(path_data / \"all_countries.npy\", allow_pickle=True)\n",
    "all_countries_names = np.load(path_data / \"all_countries_names.npy\", allow_pickle=True)"
   ]
  },
  {
   "cell_type": "markdown",
   "metadata": {},
   "source": [
    "## Get Cost-optimal output"
   ]
  },
  {
   "cell_type": "code",
   "execution_count": 49,
   "metadata": {},
   "outputs": [],
   "source": [
    "df_ar6 = pd.read_csv(\"X:/user/dekkerm/Data/IPCC/AR6_ISO3/AR6_Scenarios_Database_ISO3_v1.1.csv\")\n",
    "df_ar6 = df_ar6[df_ar6.Variable.isin(['Emissions|Kyoto Gases', 'Policy Cost|Consumption Loss'])]\n",
    "df_ar6 = df_ar6.reset_index(drop=True)\n",
    "\n",
    "df_ar6_meta = pd.read_excel(\"X:/user/dekkerm/Data/IPCC/AR6_ISO3/AR6_Scenarios_Database_metadata_indicators_v1.1.xlsx\", sheet_name='meta_Ch3vetted_withclimate')\n",
    "mods = np.array(df_ar6_meta.Model)\n",
    "scens = np.array(df_ar6_meta.Scenario)\n",
    "modscens_meta = np.array([mods[i]+'|'+scens[i] for i in range(len(scens))])\n",
    "df_ar6_meta['ModelScenario'] = modscens_meta\n",
    "df_ar6_meta = df_ar6_meta[['ModelScenario', 'Category', 'Policy_category']]\n",
    "df_ar6_meta = df_ar6_meta[df_ar6_meta.Category.isin(ccats)]\n",
    "df_ar6_meta = df_ar6_meta.reset_index(drop=True)\n",
    "ms_meta_refined = np.array(df_ar6_meta.ModelScenario)\n",
    "\n",
    "mods = np.array(df_ar6.Model)\n",
    "scens = np.array(df_ar6.Scenario)\n",
    "modscens = np.array([mods[i]+'|'+scens[i] for i in range(len(scens))])\n",
    "df_ar6['ModelScenario'] = modscens\n",
    "df_ar6 = df_ar6.drop(['Model', 'Scenario', 'Unit'], axis=1)\n",
    "df_ar6 = df_ar6[df_ar6.ModelScenario.isin(np.array(ms_meta_refined))]\n",
    "\n",
    "dummy = df_ar6.melt(id_vars=[\"Variable\", \"Region\", \"ModelScenario\"], var_name=\"Time\", value_name=\"Value\")\n",
    "dummy['Time'] = np.array(dummy['Time'].astype(int))\n",
    "dummy = dummy.set_index([\"Variable\", \"Region\", \"ModelScenario\", \"Time\"])\n",
    "xr_scen_r = xr.Dataset.from_dataframe(dummy)\n",
    "xr_scen_r = xr_scen_r.reindex(Time = np.arange(1850, 2101))\n",
    "xr_scen_r = xr_scen_r.interpolate_na(dim=\"Time\", method=\"linear\")"
   ]
  },
  {
   "cell_type": "markdown",
   "metadata": {},
   "source": [
    "## Compute fractions"
   ]
  },
  {
   "cell_type": "markdown",
   "metadata": {},
   "source": [
    "World"
   ]
  },
  {
   "cell_type": "code",
   "execution_count": 50,
   "metadata": {},
   "outputs": [],
   "source": [
    "df_ar6 = pd.read_csv(\"X:/user/dekkerm/Data/IPCC/AR6_Scenarios_Database_World_v1.1.csv\")\n",
    "df_ar6 = df_ar6[df_ar6.Variable.isin(['Emissions|Kyoto Gases', 'Policy Cost|Consumption Loss', 'Price|Carbon'])]\n",
    "df_ar6 = df_ar6.reset_index(drop=True)\n",
    "\n",
    "df_ar6_meta = pd.read_excel(\"X:/user/dekkerm/Data/IPCC/AR6_Scenarios_Database_metadata_indicators_v1.1.xlsx\", sheet_name='meta_Ch3vetted_withclimate')\n",
    "mods = np.array(df_ar6_meta.Model)\n",
    "scens = np.array(df_ar6_meta.Scenario)\n",
    "modscens_meta = np.array([mods[i]+'|'+scens[i] for i in range(len(scens))])\n",
    "df_ar6_meta['ModelScenario'] = modscens_meta\n",
    "df_ar6_meta = df_ar6_meta[['ModelScenario', 'Category', 'Policy_category']]\n",
    "df_ar6_meta = df_ar6_meta[df_ar6_meta.Category.isin(ccats)]\n",
    "df_ar6_meta = df_ar6_meta.reset_index(drop=True)\n",
    "ms_meta_refined = np.array(df_ar6_meta.ModelScenario)\n",
    "\n",
    "mods = np.array(df_ar6.Model)\n",
    "scens = np.array(df_ar6.Scenario)\n",
    "modscens = np.array([mods[i]+'|'+scens[i] for i in range(len(scens))])\n",
    "df_ar6['ModelScenario'] = modscens\n",
    "df_ar6['Region'] = 'WORLD'\n",
    "df_ar6 = df_ar6.drop(['Model', 'Scenario', 'Unit'], axis=1)\n",
    "df_ar6 = df_ar6[df_ar6.ModelScenario.isin(np.array(ms_meta_refined))]\n",
    "\n",
    "dummy = df_ar6.melt(id_vars=[\"Variable\", \"Region\", \"ModelScenario\"], var_name=\"Time\", value_name=\"Value\")\n",
    "dummy['Time'] = np.array(dummy['Time'].astype(int))\n",
    "dummy = dummy.set_index([\"Variable\", \"Region\", \"ModelScenario\", \"Time\"])\n",
    "xr_scen = xr.Dataset.from_dataframe(dummy)\n",
    "xr_scen = xr_scen.reindex(Time = np.arange(1850, 2101))\n",
    "xr_scen = xr_scen.interpolate_na(dim=\"Time\", method=\"linear\")"
   ]
  },
  {
   "cell_type": "markdown",
   "metadata": {},
   "source": [
    "Regional"
   ]
  },
  {
   "cell_type": "code",
   "execution_count": 51,
   "metadata": {},
   "outputs": [],
   "source": [
    "df_ar6 = pd.read_csv(\"X:/user/dekkerm/Data/IPCC/AR6_ISO3/AR6_Scenarios_Database_ISO3_v1.1.csv\")\n",
    "df_ar6 = df_ar6[df_ar6.Variable.isin(['Emissions|Kyoto Gases', 'Policy Cost|Consumption Loss', 'Price|Carbon'])]\n",
    "df_ar6 = df_ar6.reset_index(drop=True)\n",
    "\n",
    "df_ar6_meta = pd.read_excel(\"X:/user/dekkerm/Data/IPCC/AR6_ISO3/AR6_Scenarios_Database_metadata_indicators_v1.1.xlsx\", sheet_name='meta_Ch3vetted_withclimate')\n",
    "mods = np.array(df_ar6_meta.Model)\n",
    "scens = np.array(df_ar6_meta.Scenario)\n",
    "modscens_meta = np.array([mods[i]+'|'+scens[i] for i in range(len(scens))])\n",
    "df_ar6_meta['ModelScenario'] = modscens_meta\n",
    "df_ar6_meta = df_ar6_meta[['ModelScenario', 'Category', 'Policy_category']]\n",
    "df_ar6_meta = df_ar6_meta[df_ar6_meta.Category.isin(ccats)]\n",
    "df_ar6_meta = df_ar6_meta.reset_index(drop=True)\n",
    "ms_meta_refined = np.array(df_ar6_meta.ModelScenario)\n",
    "\n",
    "mods = np.array(df_ar6.Model)\n",
    "scens = np.array(df_ar6.Scenario)\n",
    "modscens = np.array([mods[i]+'|'+scens[i] for i in range(len(scens))])\n",
    "df_ar6['ModelScenario'] = modscens\n",
    "df_ar6 = df_ar6.drop(['Model', 'Scenario', 'Unit'], axis=1)\n",
    "df_ar6 = df_ar6[df_ar6.ModelScenario.isin(np.array(ms_meta_refined))]\n",
    "\n",
    "dummy = df_ar6.melt(id_vars=[\"Variable\", \"Region\", \"ModelScenario\"], var_name=\"Time\", value_name=\"Value\")\n",
    "dummy['Time'] = np.array(dummy['Time'].astype(int))\n",
    "dummy = dummy.set_index([\"Variable\", \"Region\", \"ModelScenario\", \"Time\"])\n",
    "xr_scen_r = xr.Dataset.from_dataframe(dummy)\n",
    "xr_scen_r = xr_scen_r.reindex(Time = np.arange(1850, 2101))\n",
    "xr_scen_r = xr_scen_r.interpolate_na(dim=\"Time\", method=\"linear\")"
   ]
  },
  {
   "cell_type": "markdown",
   "metadata": {},
   "source": [
    "R-10 regions"
   ]
  },
  {
   "cell_type": "code",
   "execution_count": 52,
   "metadata": {},
   "outputs": [],
   "source": [
    "df_ar6 = pd.read_csv(\"X:/user/dekkerm/Data/IPCC/AR6_R10/AR6_Scenarios_Database_R10_regions_v1.1.csv\")\n",
    "df_ar6 = df_ar6[df_ar6.Variable.isin(['Emissions|Kyoto Gases', 'Policy Cost|Consumption Loss', 'Price|Carbon'])]\n",
    "df_ar6 = df_ar6.reset_index(drop=True)\n",
    "\n",
    "df_ar6_meta = pd.read_excel(\"X:/user/dekkerm/Data/IPCC/AR6_R10/AR6_Scenarios_Database_metadata_indicators_v1.1.xlsx\", sheet_name='meta_Ch3vetted_withclimate')\n",
    "mods = np.array(df_ar6_meta.Model)\n",
    "scens = np.array(df_ar6_meta.Scenario)\n",
    "modscens_meta = np.array([mods[i]+'|'+scens[i] for i in range(len(scens))])\n",
    "df_ar6_meta['ModelScenario'] = modscens_meta\n",
    "df_ar6_meta = df_ar6_meta[['ModelScenario', 'Category', 'Policy_category']]\n",
    "df_ar6_meta = df_ar6_meta[df_ar6_meta.Category.isin(ccats)]\n",
    "df_ar6_meta = df_ar6_meta.reset_index(drop=True)\n",
    "ms_meta_refined = np.array(df_ar6_meta.ModelScenario)\n",
    "\n",
    "mods = np.array(df_ar6.Model)\n",
    "scens = np.array(df_ar6.Scenario)\n",
    "modscens = np.array([mods[i]+'|'+scens[i] for i in range(len(scens))])\n",
    "df_ar6['ModelScenario'] = modscens\n",
    "df_ar6 = df_ar6.drop(['Model', 'Scenario', 'Unit'], axis=1)\n",
    "df_ar6 = df_ar6[df_ar6.ModelScenario.isin(np.array(ms_meta_refined))]\n",
    "\n",
    "dummy = df_ar6.melt(id_vars=[\"Variable\", \"Region\", \"ModelScenario\"], var_name=\"Time\", value_name=\"Value\")\n",
    "dummy['Time'] = np.array(dummy['Time'].astype(int))\n",
    "dummy = dummy.set_index([\"Variable\", \"Region\", \"ModelScenario\", \"Time\"])\n",
    "xr_scen_r10 = xr.Dataset.from_dataframe(dummy)\n",
    "xr_scen_r10 = xr_scen_r10.reindex(Time = np.arange(1850, 2101))\n",
    "xr_scen_r10 = xr_scen_r10.interpolate_na(dim=\"Time\", method=\"linear\")"
   ]
  },
  {
   "cell_type": "code",
   "execution_count": 53,
   "metadata": {},
   "outputs": [],
   "source": [
    "df_conv = pd.read_excel(\"X:/user/dekkerm/Data/AR6_regionclasses.xlsx\", sheet_name = 'Sheet1')[['ISO', 'region_ar6_10']]\n",
    "regs = np.array(df_conv.region_ar6_10)\n",
    "regs[regs == 'Africa'] =            'R10AFRICA'\n",
    "regs[regs == 'Eastern Asia'] =      'R10CHINA+'\n",
    "regs[regs == 'Europe'] =            'R10EUROPE'\n",
    "regs[regs == 'Southern Asia'] =     'R10INDIA+'\n",
    "regs[regs == 'Latin America and Caribbean'] = 'R10LATIN_AM'\n",
    "regs[regs == 'Middle East'] =       'R10MIDDLE_EAST'\n",
    "regs[regs == 'North America'] =     'R10NORTH_AM'\n",
    "regs[regs == 'Asia-Pacific Developed'] = 'R10PAC_OECD'\n",
    "regs[regs == 'Eurasia'] =           'R10REF_ECON'\n",
    "regs[regs == 'South-East Asia and developing Pacific'] = 'R10REST_ASIA'\n",
    "df_conv['region_ar6_10'] = regs"
   ]
  },
  {
   "cell_type": "code",
   "execution_count": 54,
   "metadata": {},
   "outputs": [],
   "source": [
    "native_regions = np.array(xr_scen_r.Region)\n",
    "xrs = []\n",
    "for cty in all_countries_iso:\n",
    "    if cty not in native_regions:\n",
    "        which_group = np.array(df_conv[df_conv.ISO == cty].region_ar6_10)[0]\n",
    "        group_members = np.array(df_conv[df_conv.region_ar6_10 == which_group].ISO)\n",
    "        emis_total = float(xr_dataread.GHG_hist.sel(Region=np.intersect1d(group_members,all_countries_iso), Time=2021).sum(dim='Region'))\n",
    "        emis_frac = xr_dataread.GHG_hist.sel(Region=cty, Time=2021) / emis_total\n",
    "        xrry = xr.merge([xr_scen_r10.sel(Region=which_group, Variable=['Emissions|Kyoto Gases'])*emis_frac,\n",
    "                         xr_scen_r10.sel(Region=which_group, Variable=['Price|Carbon'])]).expand_dims({'Region': [cty]})\n",
    "        xrs.append(xrry)\n",
    "xr_scen_infilled_r = xr.concat(xrs, dim='Region')"
   ]
  },
  {
   "cell_type": "markdown",
   "metadata": {},
   "source": [
    "Concatenate"
   ]
  },
  {
   "cell_type": "code",
   "execution_count": 55,
   "metadata": {},
   "outputs": [],
   "source": [
    "xr_scen_all = xr.merge([xr_scen, xr_scen_r, xr_scen_infilled_r])"
   ]
  },
  {
   "cell_type": "markdown",
   "metadata": {},
   "source": [
    "## Data for plots"
   ]
  },
  {
   "cell_type": "code",
   "execution_count": 13,
   "metadata": {},
   "outputs": [],
   "source": [
    "ndcs = xr_dataread.GHG_ndc.mean(dim=['Conditionality', 'Ambition'])"
   ]
  },
  {
   "cell_type": "code",
   "execution_count": 14,
   "metadata": {},
   "outputs": [],
   "source": [
    "xr_policyscen = xr.open_dataset(path_data / \"xr_policyscen.nc\")\n",
    "curpols = xr_policyscen.CurPol.sel(Time=year_of_focus).mean(dim='Model')\n",
    "nzs = xr_policyscen.NetZero.sel(Time=year_of_focus).mean(dim='Model')"
   ]
  },
  {
   "cell_type": "code",
   "execution_count": 15,
   "metadata": {},
   "outputs": [],
   "source": [
    "path_ctygroups = \"X:/user/dekkerm/Data/\" + \"UNFCCC_Parties_Groups_noeu.xlsx\"\n",
    "df = pd.read_excel(path_ctygroups, sheet_name = \"Country groups\")\n",
    "countries_iso = np.array(df[\"Country ISO Code\"])\n",
    "countries_name = np.array(df[\"Name\"])\n",
    "countries_iso = np.array(df[\"Country ISO Code\"])\n",
    "group_eu = countries_iso[np.array(df[\"EU\"]) == 1]"
   ]
  },
  {
   "cell_type": "code",
   "execution_count": 16,
   "metadata": {},
   "outputs": [],
   "source": [
    "costopts = xr_scen_all.sel(Time=year_of_focus, Variable='Emissions|Kyoto Gases').mean(dim='ModelScenario')"
   ]
  },
  {
   "cell_type": "markdown",
   "metadata": {},
   "source": [
    "## NDC 2035 data"
   ]
  },
  {
   "cell_type": "code",
   "execution_count": 17,
   "metadata": {},
   "outputs": [
    {
     "name": "stderr",
     "output_type": "stream",
     "text": [
      "C:\\Users\\dekkerm\\AppData\\Local\\Temp\\2\\ipykernel_3896\\1402567247.py:38: FutureWarning: Calling float on a single element Series is deprecated and will raise a TypeError in the future. Use float(ser.iloc[0]) instead\n",
      "  val = float(df_ndc_raw_sub[key])\n"
     ]
    }
   ],
   "source": [
    "df_ndc_raw = pd.read_excel(\"X:/user/dekkerm/Data/NDC/NDC tool GHG incl excl LULUCF with Input results.xlsx\",\n",
    "                            sheet_name='results_incl LULUCF', header=5)\n",
    "regs = df_ndc_raw['country_name']\n",
    "regs_iso = []\n",
    "for r in regs:\n",
    "    wh = np.where(countries_name == r)[0]\n",
    "    if len(wh) == 0:\n",
    "        if r == 'United States':\n",
    "            regs_iso.append('USA')\n",
    "        elif r == 'EU27':\n",
    "            regs_iso.append('EU')\n",
    "        elif r == 'Turkey':\n",
    "            regs_iso.append('TUR')\n",
    "        else:\n",
    "            regs_iso.append(np.nan)\n",
    "    else:\n",
    "        regs_iso.append(countries_iso[wh[0]])\n",
    "regs_iso = np.array(regs_iso)\n",
    "df_ndc_raw['ISO'] = regs_iso\n",
    "\n",
    "df_regs = []\n",
    "df_amb = []\n",
    "df_con = []\n",
    "df_emis = []\n",
    "df_lulucf = []\n",
    "df_red = []\n",
    "df_abs = []\n",
    "df_inv = []\n",
    "histemis = xr_dataread.GHG_hist.sel(Time=2015)\n",
    "for r in list(countries_iso) + ['EU']:\n",
    "    histemis_r = float(histemis.sel(Region=r))\n",
    "    df_ndc_raw_sub = df_ndc_raw[df_ndc_raw['ISO'] == r]\n",
    "    if len(df_ndc_raw_sub)>0:\n",
    "        for cond in ['Unconditional', 'Conditional']:\n",
    "            for ambition_i, ambition in enumerate(['min', 'max']):\n",
    "                add = ['Min', 'Max'][ambition_i]\n",
    "                key = 'NDC_2035_'+cond+'_'+add\n",
    "                val = float(df_ndc_raw_sub[key])\n",
    "                red = 1 - val / histemis_r\n",
    "                abs_jones = histemis_r * (1 - red)\n",
    "                df_regs.append(r)\n",
    "                df_amb.append(ambition)\n",
    "                df_con.append(cond)\n",
    "                df_emis.append('NDC')\n",
    "                df_lulucf.append('incl')\n",
    "                df_red.append(red)\n",
    "                df_abs.append(abs_jones)\n",
    "                df_inv.append(val)\n",
    "\n",
    "dict_ndc = {\"Region\": df_regs,\n",
    "            \"Ambition\": df_amb,\n",
    "            \"Conditionality\": df_con,\n",
    "            \"GHG_ndc_red\": df_red,\n",
    "            \"GHG_ndc\": df_abs,\n",
    "            \"GHG_ndc_inv\": df_inv}\n",
    "df_ndc = pd.DataFrame(dict_ndc)\n",
    "xr_ndc = xr.Dataset.from_dataframe(df_ndc.set_index([\"Region\", \"Ambition\", \"Conditionality\"]))"
   ]
  },
  {
   "cell_type": "markdown",
   "metadata": {},
   "source": [
    "## Reductions"
   ]
  },
  {
   "cell_type": "code",
   "execution_count": 18,
   "metadata": {},
   "outputs": [
    {
     "name": "stderr",
     "output_type": "stream",
     "text": [
      "k:\\Environments\\MyEnv\\Lib\\site-packages\\numpy\\lib\\nanfunctions.py:1563: RuntimeWarning: All-NaN slice encountered\n",
      "  return function_base._ureduce(a,\n"
     ]
    }
   ],
   "source": [
    "data_def = xr_traj_yeari.sel(**settings_default)[['PCC', 'AP', 'ECPC']]\n",
    "data_var = xr_traj_yeari.sel(**settings_range)[['PCC', 'AP', 'ECPC']]\n",
    "red_mt = data_def\n",
    "fair_0 = data_var.quantile(0, dim=['Convergence_year', 'Scenario', 'Discount_factor', 'Historical_startyear'])\n",
    "fair_1 = data_var.quantile(1, dim=['Convergence_year', 'Scenario', 'Discount_factor', 'Historical_startyear'])\n",
    "\n",
    "co = costopts.Value\n",
    "co_0 = xr_scen_all.sel(Time=year_of_focus, Variable='Emissions|Kyoto Gases').quantile(0.1, dim='ModelScenario')\n",
    "co_1 = xr_scen_all.sel(Time=year_of_focus, Variable='Emissions|Kyoto Gases').quantile(0.9, dim='ModelScenario')"
   ]
  },
  {
   "cell_type": "code",
   "execution_count": 19,
   "metadata": {},
   "outputs": [],
   "source": [
    "costopt_mt = costopts.Value\n",
    "ndc_est_mt = xr_dataread.GHG_ndc.mean(dim='Ambition').min(dim='Conditionality')\n",
    "ndc_est_mt2035 = xr_ndc.GHG_ndc.mean(dim='Ambition').min(dim='Conditionality')\n",
    "\n",
    "emis_2015 = xr_dataread.GHG_hist.sel(Time=2015)\n",
    "reductions = 1-red_mt/emis_2015\n",
    "ndc_est = 1-(ndc_est_mt / emis_2015)\n",
    "ndc_est2035 = 1-(ndc_est_mt2035 / emis_2015)\n",
    "costopt = 1-costopt_mt/emis_2015\n",
    "\n",
    "red_0 = 1-fair_0/emis_2015\n",
    "red_1 = 1-fair_1/emis_2015\n",
    "costopt_0 = 1-co_0/emis_2015\n",
    "costopt_1 = 1-co_1/emis_2015\n",
    "\n",
    "def data(reg): # Reduction targets\n",
    "    return float(ndc_est.sel(Region=reg)), float(ndc_est2035.sel(Region=reg)), np.array(reductions.sel(Region=reg)[['PCC', 'AP', 'ECPC']].to_array()), float(costopt.sel(Region=reg))\n",
    "def data_mt(reg): # Absolute emissions levels\n",
    "    return float(ndc_est_mt.sel(Region=reg)), np.array(red_mt.sel(Region=reg)[['PCC', 'AP', 'ECPC']].to_array()), float(costopt_mt.sel(Region=reg))\n",
    "def red_minmax(reg, rule): # Reduction targets\n",
    "    return float(red_0.sel(Region=reg)[rule]), float(red_1.sel(Region=reg)[rule])"
   ]
  },
  {
   "cell_type": "markdown",
   "metadata": {},
   "source": [
    "## Finance plot"
   ]
  },
  {
   "cell_type": "code",
   "execution_count": 23,
   "metadata": {},
   "outputs": [],
   "source": [
    "col1 = \"#afc50f\"#\"rgba(255, 65, 54, 1)\"\n",
    "col2 = '#2e5061'#'rgba(61, 153, 112, 1)'\n",
    "col3 = '#0062a6'\n",
    "col3a = '#3390c2'\n",
    "col3b = '#0062a6'\n",
    "col3c = '#004372'"
   ]
  },
  {
   "cell_type": "code",
   "execution_count": 24,
   "metadata": {},
   "outputs": [],
   "source": [
    "col_receive = 'forestgreen'\n",
    "dx = 0.03\n",
    "opac = 0.5\n",
    "def areas(fig, ndc_estimate, reductions_i, costopt_i, row, col, yref=1):\n",
    "    for i in range(3):\n",
    "        ymin = yref + -wd*0.3 + [-wd*0.7, 0, wd*0.7][i]\n",
    "        ymax = yref + wd*0.3+ [-wd*0.7, 0, wd*0.7][i]\n",
    "        if reductions_i[i] > ndc_estimate:\n",
    "            if costopt_i < reductions_i[i] and costopt_i > ndc_estimate:\n",
    "                fig.add_shape(\n",
    "                    row = row, col=col,\n",
    "                    type='rect',  # Draw a rectangle\n",
    "                    x0=ndc_estimate+dx, x1=costopt_i-dx,  # The range of the box (between min and max values)\n",
    "                    y0=ymin, y1=ymax,  # Position the box on the y-axis (with some vertical padding)\n",
    "                    line=dict(color='black', width=0),  # Border color and width of the box\n",
    "                    name='Increase domestic ambition',\n",
    "                    showlegend=False,\n",
    "                    opacity = opac,\n",
    "                    legendgroup=3,\n",
    "                    fillcolor='grey',  # Transparent fill color (adjust alpha for transparency)\n",
    "                )\n",
    "            elif costopt_i > reductions_i[i]:\n",
    "                fig.add_shape(\n",
    "                    row = row, col=col,\n",
    "                    type='rect',  # Draw a rectangle\n",
    "                    x0=ndc_estimate+dx, x1=reductions_i[i]-dx,  # The range of the box (between min and max values)\n",
    "                    y0=ymin, y1=ymax,  # Position the box on the y-axis (with some vertical padding)\n",
    "                    line=dict(color='black', width=0),  # Border color and width of the box\n",
    "                    opacity = opac,\n",
    "                    fillcolor='grey',  # Transparent fill color (adjust alpha for transparency)\n",
    "                )\n",
    "                fig.add_shape(\n",
    "                    row = row, col=col,\n",
    "                    type='rect',  # Draw a rectangle\n",
    "                    x0=reductions_i[i]+dx, x1=costopt_i-dx,  # The range of the box (between min and max values)\n",
    "                    y0=ymin, y1=ymax,  # Position the box on the y-axis (with some vertical padding)\n",
    "                    line=dict(color='black', width=0),  # Border color and width of the box\n",
    "                    opacity = opac,\n",
    "                    fillcolor=col_receive,  # Transparent fill color (adjust alpha for transparency)\n",
    "                )\n",
    "            elif costopt_i < ndc_estimate-0.0425:\n",
    "                fig.add_shape(\n",
    "                    row = row, col=col,\n",
    "                    type='rect',  # Draw a rectangle\n",
    "                    x0=costopt_i+dx, x1=ndc_estimate-dx,  # The range of the box (between min and max values)\n",
    "                    y0=ymin, y1=ymax,  # Position the box on the y-axis (with some vertical padding)\n",
    "                    line=dict(color='black', width=0),  # Border color and width of the box\n",
    "                    opacity = opac,\n",
    "                    fillcolor='rosybrown',  # Transparent fill color (adjust alpha for transparency)\n",
    "                )\n",
    "        # Pay abroad\n",
    "        if reductions_i[i] > ndc_estimate:\n",
    "            if costopt_i < ndc_estimate:\n",
    "                fig.add_shape(\n",
    "                    row = row, col=col,\n",
    "                    type='rect',  # Draw a rectangle\n",
    "                    x0=ndc_estimate+dx, x1=reductions_i[i]-dx,  # The range of the box (between min and max values)\n",
    "                    y0=ymin, y1=ymax,  # Position the box on the y-axis (with some vertical padding)\n",
    "                    line=dict(color='black', width=0),  # Border color and width of the box\n",
    "                    name='Pay for mitigation abroad',\n",
    "                    showlegend=False,\n",
    "                    opacity = opac,\n",
    "                    legendgroup=3,\n",
    "                    fillcolor='tomato',  # Transparent fill color (adjust alpha for transparency)\n",
    "                )\n",
    "            elif costopt_i < reductions_i[i]:\n",
    "                fig.add_shape(\n",
    "                    row = row, col=col,\n",
    "                    type='rect',  # Draw a rectangle\n",
    "                    x0=costopt_i+dx, x1=reductions_i[i]-dx,  # The range of the box (between min and max values)\n",
    "                    y0=ymin, y1=ymax,  # Position the box on the y-axis (with some vertical padding)\n",
    "                    line=dict(color='black', width=0),  # Border color and width of the box\n",
    "                    opacity = opac,\n",
    "                    fillcolor='tomato',  # Transparent fill color (adjust alpha for transparency)\n",
    "                )\n",
    "        # Receive from abroad\n",
    "        if reductions_i[i] < ndc_estimate:\n",
    "            fig.add_shape(\n",
    "                row = row, col=col,\n",
    "                type='rect',  # Draw a rectangle\n",
    "                x0=reductions_i[i]+dx, x1=ndc_estimate-dx,  # The range of the box (between min and max values)\n",
    "                y0=ymin, y1=ymax,  # Position the box on the y-axis (with some vertical padding)\n",
    "                line=dict(color='black', width=0),  # Border color and width of the box\n",
    "                name='Receive mitigation payment from abroad',\n",
    "                showlegend=False,\n",
    "                    opacity = opac,\n",
    "                legendgroup=3,\n",
    "                fillcolor=col_receive,  # Transparent fill color (adjust alpha for transparency)\n",
    "            )\n",
    "            fig.add_shape(\n",
    "                row = row, col=col,\n",
    "                type='rect',  # Draw a rectangle\n",
    "                x0=ndc_estimate+dx, x1=costopt_i-dx,  # The range of the box (between min and max values)\n",
    "                y0=ymin, y1=ymax,  # Position the box on the y-axis (with some vertical padding)\n",
    "                line=dict(color='black', width=0),  # Border color and width of the box\n",
    "                name='Receive mitigation payment from abroad',\n",
    "                showlegend=False,\n",
    "                opacity = opac,\n",
    "                legendgroup=3,\n",
    "                fillcolor=col_receive,  # Transparent fill color (adjust alpha for transparency)\n",
    "            )"
   ]
  },
  {
   "cell_type": "code",
   "execution_count": 41,
   "metadata": {},
   "outputs": [
    {
     "data": {
      "application/vnd.plotly.v1+json": {
       "config": {
        "plotlyServerURL": "https://plot.ly"
       },
       "data": [
        {
         "line": {
          "color": "#3390c2",
          "width": 2
         },
         "showlegend": false,
         "type": "scatter",
         "x": [
          -0.6182425342798556,
          -0.37762368868847473
         ],
         "y": [
          0.15,
          0.15
         ]
        },
        {
         "line": {
          "color": "#0062a6",
          "width": 2
         },
         "showlegend": false,
         "type": "scatter",
         "x": [
          -0.6600211271114806,
          -0.6163087451407261
         ],
         "y": [
          0.25,
          0.25
         ]
        },
        {
         "line": {
          "color": "#004372",
          "width": 2
         },
         "showlegend": false,
         "type": "scatter",
         "x": [
          -4.876710338815585,
          -0.8191365375005443
         ],
         "y": [
          0.35,
          0.35
         ]
        },
        {
         "line": {
          "color": "#2e5061",
          "width": 2
         },
         "showlegend": false,
         "type": "scatter",
         "x": [
          -0.45588116855527694,
          -0.6105585789681263
         ],
         "y": [
          0,
          0
         ]
        },
        {
         "line": {
          "color": "#3390c2",
          "width": 2
         },
         "showlegend": false,
         "type": "scatter",
         "x": [
          -0.3817739218008287,
          -0.3401494986485958
         ],
         "y": [
          1.15,
          1.15
         ]
        },
        {
         "line": {
          "color": "#0062a6",
          "width": 2
         },
         "showlegend": false,
         "type": "scatter",
         "x": [
          -0.6533749889978318,
          -0.6253244724906206
         ],
         "y": [
          1.25,
          1.25
         ]
        },
        {
         "line": {
          "color": "#004372",
          "width": 2
         },
         "showlegend": false,
         "type": "scatter",
         "x": [
          -1.7494878775682934,
          -0.5056537492392962
         ],
         "y": [
          1.3499999999999999,
          1.3499999999999999
         ]
        },
        {
         "line": {
          "color": "#3390c2",
          "width": 2
         },
         "showlegend": false,
         "type": "scatter",
         "x": [
          -0.4719716778880123,
          -0.3906066613752094
         ],
         "y": [
          2.15,
          2.15
         ]
        },
        {
         "line": {
          "color": "#0062a6",
          "width": 2
         },
         "showlegend": false,
         "type": "scatter",
         "x": [
          -0.661593330568546,
          -0.6358547119255793
         ],
         "y": [
          2.25,
          2.25
         ]
        },
        {
         "line": {
          "color": "#004372",
          "width": 2
         },
         "showlegend": false,
         "type": "scatter",
         "x": [
          -1.21669614142698,
          -0.3561123064965319
         ],
         "y": [
          2.35,
          2.35
         ]
        },
        {
         "line": {
          "color": "#2e5061",
          "width": 2
         },
         "showlegend": false,
         "type": "scatter",
         "x": [
          -0.3339927301500951,
          -0.552764686861912
         ],
         "y": [
          2,
          2
         ]
        },
        {
         "line": {
          "color": "#3390c2",
          "width": 2
         },
         "showlegend": false,
         "type": "scatter",
         "x": [
          -0.5136302597903255,
          -0.38122361489898005
         ],
         "y": [
          3.15,
          3.15
         ]
        },
        {
         "line": {
          "color": "#0062a6",
          "width": 2
         },
         "showlegend": false,
         "type": "scatter",
         "x": [
          -0.3506300045967178,
          -0.3225481731999691
         ],
         "y": [
          3.25,
          3.25
         ]
        },
        {
         "line": {
          "color": "#004372",
          "width": 2
         },
         "showlegend": false,
         "type": "scatter",
         "x": [
          -2.3265185800599335,
          -0.6674596229799934
         ],
         "y": [
          3.35,
          3.35
         ]
        },
        {
         "line": {
          "color": "#2e5061",
          "width": 2
         },
         "showlegend": false,
         "type": "scatter",
         "x": [
          -0.21737683180626877,
          -0.6140852777602792
         ],
         "y": [
          3,
          3
         ]
        },
        {
         "line": {
          "color": "#3390c2",
          "width": 2
         },
         "showlegend": false,
         "type": "scatter",
         "x": [
          -0.4447224965579589,
          -0.42749048988694427
         ],
         "y": [
          4.15,
          4.15
         ]
        },
        {
         "line": {
          "color": "#0062a6",
          "width": 2
         },
         "showlegend": false,
         "type": "scatter",
         "x": [
          -0.1751557289417649,
          -0.02868805649365247
         ],
         "y": [
          4.25,
          4.25
         ]
        },
        {
         "line": {
          "color": "#004372",
          "width": 2
         },
         "showlegend": false,
         "type": "scatter",
         "x": [
          -0.7218282268417886,
          -0.42403936247391716
         ],
         "y": [
          4.3500000000000005,
          4.3500000000000005
         ]
        },
        {
         "line": {
          "color": "#3390c2",
          "width": 2
         },
         "showlegend": false,
         "type": "scatter",
         "x": [
          -0.059867270364659664,
          -0.03286312699799687
         ],
         "y": [
          5.15,
          5.15
         ]
        },
        {
         "line": {
          "color": "#0062a6",
          "width": 2
         },
         "showlegend": false,
         "type": "scatter",
         "x": [
          0.19623354370136847,
          0.2234091625484882
         ],
         "y": [
          5.25,
          5.25
         ]
        },
        {
         "line": {
          "color": "#004372",
          "width": 2
         },
         "showlegend": false,
         "type": "scatter",
         "x": [
          0.10885780079385565,
          1.765432247806403
         ],
         "y": [
          5.3500000000000005,
          5.3500000000000005
         ]
        },
        {
         "line": {
          "color": "#3390c2",
          "width": 2
         },
         "showlegend": false,
         "type": "scatter",
         "x": [
          -0.34972265643224776,
          -0.21310455156919872
         ],
         "y": [
          6.15,
          6.15
         ]
        },
        {
         "line": {
          "color": "#0062a6",
          "width": 2
         },
         "showlegend": false,
         "type": "scatter",
         "x": [
          -0.24265301848051635,
          -0.17955081039183485
         ],
         "y": [
          6.25,
          6.25
         ]
        },
        {
         "line": {
          "color": "#004372",
          "width": 2
         },
         "showlegend": false,
         "type": "scatter",
         "x": [
          -0.6233878835621605,
          0.8522505673721346
         ],
         "y": [
          6.3500000000000005,
          6.3500000000000005
         ]
        },
        {
         "line": {
          "color": "#3390c2",
          "width": 2
         },
         "showlegend": false,
         "type": "scatter",
         "x": [
          0.19039615098933682,
          1.1347638951999932
         ],
         "y": [
          7.15,
          7.15
         ]
        },
        {
         "line": {
          "color": "#0062a6",
          "width": 2
         },
         "showlegend": false,
         "type": "scatter",
         "x": [
          0.5720810411124211,
          0.6156597791131582
         ],
         "y": [
          7.25,
          7.25
         ]
        },
        {
         "line": {
          "color": "#004372",
          "width": 2
         },
         "showlegend": false,
         "type": "scatter",
         "x": [
          1.6709405947708742,
          8.600813434648513
         ],
         "y": [
          7.3500000000000005,
          7.3500000000000005
         ]
        },
        {
         "line": {
          "color": "#3390c2",
          "width": 2
         },
         "showlegend": false,
         "type": "scatter",
         "x": [
          0.04350125636630442,
          0.7189249587770794
         ],
         "y": [
          8.15,
          8.15
         ]
        },
        {
         "line": {
          "color": "#0062a6",
          "width": 2
         },
         "showlegend": false,
         "type": "scatter",
         "x": [
          0.3106897995622606,
          0.4014986436534884
         ],
         "y": [
          8.25,
          8.25
         ]
        },
        {
         "line": {
          "color": "#004372",
          "width": 2
         },
         "showlegend": false,
         "type": "scatter",
         "x": [
          1.1010852198949834,
          7.657629226694516
         ],
         "y": [
          8.35,
          8.35
         ]
        },
        {
         "line": {
          "color": "#3390c2",
          "width": 2
         },
         "showlegend": false,
         "type": "scatter",
         "x": [
          0.03713255712445096,
          1.0132523929525195
         ],
         "y": [
          9.15,
          9.15
         ]
        },
        {
         "line": {
          "color": "#0062a6",
          "width": 2
         },
         "showlegend": false,
         "type": "scatter",
         "x": [
          0.3100229268439769,
          0.8330272630602491
         ],
         "y": [
          9.25,
          9.25
         ]
        },
        {
         "line": {
          "color": "#004372",
          "width": 2
         },
         "showlegend": false,
         "type": "scatter",
         "x": [
          1.3948150687123926,
          6.704923661711428
         ],
         "y": [
          9.35,
          9.35
         ]
        },
        {
         "marker": {
          "color": "silver",
          "size": 12,
          "symbol": "square"
         },
         "mode": "markers",
         "name": "NDC 2030",
         "showlegend": true,
         "type": "scatter",
         "x": [
          -0.45588116855527694,
          -0.3908938196584818,
          -0.3339927301500951,
          -0.21737683180626877,
          -0.32853216641737837,
          0.7612518216907205,
          0.07828080974467899,
          0.8716064435942186,
          0.6478785441383472,
          -0.32253579909722796
         ],
         "y": [
          0,
          1,
          2,
          3,
          4,
          5,
          6,
          7,
          8,
          9
         ]
        },
        {
         "marker": {
          "color": "#2e5061",
          "size": 12,
          "symbol": "square"
         },
         "mode": "markers",
         "name": "NDC 2035",
         "showlegend": true,
         "type": "scatter",
         "x": [
          -0.6105585789681263,
          null,
          -0.552764686861912,
          -0.6140852777602792,
          null,
          null,
          null,
          null,
          null,
          null
         ],
         "y": [
          0,
          1,
          2,
          3,
          4,
          5,
          6,
          7,
          8,
          9
         ]
        },
        {
         "marker": {
          "color": "#3390c2",
          "size": 12,
          "symbol": "circle"
         },
         "mode": "markers",
         "name": "Per capita convergence",
         "showlegend": true,
         "type": "scatter",
         "x": [
          -0.5089069276747737,
          -0.36272608318438215,
          -0.4349033908666965,
          -0.4535024245902921,
          -0.43690410571833815,
          -0.04523394723110841,
          -0.28756060945614437,
          0.7050548855478551,
          0.41199127244629685,
          0.5691417076624865
         ],
         "y": [
          0.15,
          1.15,
          2.15,
          3.15,
          4.15,
          5.15,
          6.15,
          7.15,
          8.15,
          9.15
         ]
        },
        {
         "marker": {
          "color": "#0062a6",
          "size": 12,
          "symbol": "diamond"
         },
         "mode": "markers",
         "name": "Ability to pay",
         "showlegend": true,
         "type": "scatter",
         "x": [
          -0.6310490665709372,
          -0.6253244724906206,
          -0.6585154784830197,
          -0.3225481731999691,
          -0.11574985937530136,
          0.2174605608192448,
          -0.2230242214467566,
          0.6148501320480215,
          0.3843143246639342,
          0.5360900387433849
         ],
         "y": [
          0.25,
          1.25,
          2.25,
          3.25,
          4.25,
          5.25,
          6.25,
          7.25,
          8.25,
          9.25
         ]
        },
        {
         "marker": {
          "color": "#004372",
          "size": 12,
          "symbol": "star"
         },
         "mode": "markers",
         "name": "Equal cumulative per capita",
         "showlegend": true,
         "type": "scatter",
         "x": [
          -2.162924474741183,
          -1.0520770072414032,
          -1.2077383913101536,
          -1.5300712398743002,
          -0.5775871369491168,
          0.7853557776410243,
          -0.5238397378946726,
          5.987724771706319,
          4.217264201659987,
          5.1581516048334555
         ],
         "y": [
          0.35,
          1.3499999999999999,
          2.35,
          3.35,
          4.3500000000000005,
          5.3500000000000005,
          6.3500000000000005,
          7.3500000000000005,
          8.35,
          9.35
         ]
        }
       ],
       "layout": {
        "annotations": [
         {
          "align": "left",
          "font": {
           "color": "black",
           "size": 20
          },
          "showarrow": false,
          "text": "United<br>States",
          "x": -0.05,
          "xref": "paper",
          "y": 0.1,
          "yref": "y"
         },
         {
          "align": "left",
          "font": {
           "color": "black",
           "size": 20
          },
          "showarrow": false,
          "text": "European<br>Union",
          "x": -0.05,
          "xref": "paper",
          "y": 1.1,
          "yref": "y"
         },
         {
          "align": "left",
          "font": {
           "color": "black",
           "size": 20
          },
          "showarrow": false,
          "text": "Japan",
          "x": -0.05,
          "xref": "paper",
          "y": 2.1,
          "yref": "y"
         },
         {
          "align": "left",
          "font": {
           "color": "black",
           "size": 20
          },
          "showarrow": false,
          "text": "Brazil",
          "x": -0.05,
          "xref": "paper",
          "y": 3.1,
          "yref": "y"
         },
         {
          "align": "left",
          "font": {
           "color": "black",
           "size": 20
          },
          "showarrow": false,
          "text": "Indonesia",
          "x": -0.05,
          "xref": "paper",
          "y": 4.1,
          "yref": "y"
         },
         {
          "align": "left",
          "font": {
           "color": "black",
           "size": 20
          },
          "showarrow": false,
          "text": "Vietnam",
          "x": -0.05,
          "xref": "paper",
          "y": 5.1,
          "yref": "y"
         },
         {
          "align": "left",
          "font": {
           "color": "black",
           "size": 20
          },
          "showarrow": false,
          "text": "China",
          "x": -0.05,
          "xref": "paper",
          "y": 6.1,
          "yref": "y"
         },
         {
          "align": "left",
          "font": {
           "color": "black",
           "size": 20
          },
          "showarrow": false,
          "text": "Pakistan",
          "x": -0.05,
          "xref": "paper",
          "y": 7.1,
          "yref": "y"
         },
         {
          "align": "left",
          "font": {
           "color": "black",
           "size": 20
          },
          "showarrow": false,
          "text": "India",
          "x": -0.05,
          "xref": "paper",
          "y": 8.1,
          "yref": "y"
         },
         {
          "align": "left",
          "font": {
           "color": "black",
           "size": 20
          },
          "showarrow": false,
          "text": "Nigeria",
          "x": -0.05,
          "xref": "paper",
          "y": 9.1,
          "yref": "y"
         }
        ],
        "height": 1000,
        "legend": {
         "bgcolor": "rgba(255,255,255,0.5)",
         "bordercolor": "black",
         "borderwidth": 0,
         "font": {
          "size": 20
         },
         "title": {
          "text": ""
         },
         "x": 0.65,
         "y": 0.15
        },
        "paper_bgcolor": "white",
        "plot_bgcolor": "white",
        "shapes": [
         {
          "line": {
           "color": "black",
           "dash": "dash",
           "width": 3
          },
          "type": "line",
          "x0": 0,
          "x1": 0,
          "xref": "x",
          "y0": -1000,
          "y1": 1000,
          "yref": "y"
         },
         {
          "line": {
           "color": "#afc50f",
           "width": 2
          },
          "showlegend": false,
          "type": "line",
          "x0": -0.6122824022295188,
          "x1": -0.6122824022295188,
          "xref": "x",
          "y0": -0.22499999999999998,
          "y1": -0.075,
          "yref": "y"
         },
         {
          "line": {
           "color": "#afc50f",
           "width": 2
          },
          "showlegend": false,
          "type": "line",
          "x0": -0.1862694635145734,
          "x1": -0.1862694635145734,
          "xref": "x",
          "y0": -0.22499999999999998,
          "y1": -0.075,
          "yref": "y"
         },
         {
          "line": {
           "color": "#afc50f",
           "width": 4
          },
          "name": "Globally cost optimal",
          "showlegend": true,
          "type": "line",
          "x0": -0.6122824022295188,
          "x1": -0.1862694635145734,
          "xref": "x",
          "y0": -0.15,
          "y1": -0.15,
          "yref": "y"
         },
         {
          "line": {
           "color": "#afc50f",
           "width": 2
          },
          "showlegend": false,
          "type": "line",
          "x0": -0.5539552139843942,
          "x1": -0.5539552139843942,
          "xref": "x",
          "y0": 0.775,
          "y1": 0.9249999999999999,
          "yref": "y"
         },
         {
          "line": {
           "color": "#afc50f",
           "width": 2
          },
          "showlegend": false,
          "type": "line",
          "x0": -0.15688026098947994,
          "x1": -0.15688026098947994,
          "xref": "x",
          "y0": 0.775,
          "y1": 0.9249999999999999,
          "yref": "y"
         },
         {
          "line": {
           "color": "#afc50f",
           "width": 4
          },
          "name": "Globally cost optimal",
          "showlegend": false,
          "type": "line",
          "x0": -0.5539552139843942,
          "x1": -0.15688026098947994,
          "xref": "x",
          "y0": 0.85,
          "y1": 0.85,
          "yref": "y"
         },
         {
          "line": {
           "color": "#afc50f",
           "width": 2
          },
          "showlegend": false,
          "type": "line",
          "x0": -0.6555170797481209,
          "x1": -0.6555170797481209,
          "xref": "x",
          "y0": 1.7750000000000001,
          "y1": 1.9250000000000003,
          "yref": "y"
         },
         {
          "line": {
           "color": "#afc50f",
           "width": 2
          },
          "showlegend": false,
          "type": "line",
          "x0": -0.28884697888950883,
          "x1": -0.28884697888950883,
          "xref": "x",
          "y0": 1.7750000000000001,
          "y1": 1.9250000000000003,
          "yref": "y"
         },
         {
          "line": {
           "color": "#afc50f",
           "width": 4
          },
          "name": "Globally cost optimal",
          "showlegend": false,
          "type": "line",
          "x0": -0.6555170797481209,
          "x1": -0.28884697888950883,
          "xref": "x",
          "y0": 1.85,
          "y1": 1.85,
          "yref": "y"
         },
         {
          "line": {
           "color": "#afc50f",
           "width": 2
          },
          "showlegend": false,
          "type": "line",
          "x0": -0.858206353899978,
          "x1": -0.858206353899978,
          "xref": "x",
          "y0": 2.775,
          "y1": 2.9250000000000003,
          "yref": "y"
         },
         {
          "line": {
           "color": "#afc50f",
           "width": 2
          },
          "showlegend": false,
          "type": "line",
          "x0": -0.43316234254990027,
          "x1": -0.43316234254990027,
          "xref": "x",
          "y0": 2.775,
          "y1": 2.9250000000000003,
          "yref": "y"
         },
         {
          "line": {
           "color": "#afc50f",
           "width": 4
          },
          "name": "Globally cost optimal",
          "showlegend": false,
          "type": "line",
          "x0": -0.858206353899978,
          "x1": -0.43316234254990027,
          "xref": "x",
          "y0": 2.85,
          "y1": 2.85,
          "yref": "y"
         },
         {
          "line": {
           "color": "#afc50f",
           "width": 2
          },
          "showlegend": false,
          "type": "line",
          "x0": -0.690883730344827,
          "x1": -0.690883730344827,
          "xref": "x",
          "y0": 3.775,
          "y1": 3.9250000000000003,
          "yref": "y"
         },
         {
          "line": {
           "color": "#afc50f",
           "width": 2
          },
          "showlegend": false,
          "type": "line",
          "x0": -0.48936898937675544,
          "x1": -0.48936898937675544,
          "xref": "x",
          "y0": 3.775,
          "y1": 3.9250000000000003,
          "yref": "y"
         },
         {
          "line": {
           "color": "#afc50f",
           "width": 4
          },
          "name": "Globally cost optimal",
          "showlegend": false,
          "type": "line",
          "x0": -0.690883730344827,
          "x1": -0.48936898937675544,
          "xref": "x",
          "y0": 3.85,
          "y1": 3.85,
          "yref": "y"
         },
         {
          "line": {
           "color": "#afc50f",
           "width": 2
          },
          "showlegend": false,
          "type": "line",
          "x0": -0.37842012127464586,
          "x1": -0.37842012127464586,
          "xref": "x",
          "y0": 4.7749999999999995,
          "y1": 4.925,
          "yref": "y"
         },
         {
          "line": {
           "color": "#afc50f",
           "width": 2
          },
          "showlegend": false,
          "type": "line",
          "x0": 0.3380246639722977,
          "x1": 0.3380246639722977,
          "xref": "x",
          "y0": 4.7749999999999995,
          "y1": 4.925,
          "yref": "y"
         },
         {
          "line": {
           "color": "#afc50f",
           "width": 4
          },
          "name": "Globally cost optimal",
          "showlegend": false,
          "type": "line",
          "x0": -0.37842012127464586,
          "x1": 0.3380246639722977,
          "xref": "x",
          "y0": 4.85,
          "y1": 4.85,
          "yref": "y"
         },
         {
          "line": {
           "color": "#afc50f",
           "width": 2
          },
          "showlegend": false,
          "type": "line",
          "x0": -0.5285733112961726,
          "x1": -0.5285733112961726,
          "xref": "x",
          "y0": 5.7749999999999995,
          "y1": 5.925,
          "yref": "y"
         },
         {
          "line": {
           "color": "#afc50f",
           "width": 2
          },
          "showlegend": false,
          "type": "line",
          "x0": -0.20377985950608746,
          "x1": -0.20377985950608746,
          "xref": "x",
          "y0": 5.7749999999999995,
          "y1": 5.925,
          "yref": "y"
         },
         {
          "line": {
           "color": "#afc50f",
           "width": 4
          },
          "name": "Globally cost optimal",
          "showlegend": false,
          "type": "line",
          "x0": -0.5285733112961726,
          "x1": -0.20377985950608746,
          "xref": "x",
          "y0": 5.85,
          "y1": 5.85,
          "yref": "y"
         },
         {
          "line": {
           "color": "#afc50f",
           "width": 2
          },
          "showlegend": false,
          "type": "line",
          "x0": -0.21720235469544968,
          "x1": -0.21720235469544968,
          "xref": "x",
          "y0": 6.7749999999999995,
          "y1": 6.925,
          "yref": "y"
         },
         {
          "line": {
           "color": "#afc50f",
           "width": 2
          },
          "showlegend": false,
          "type": "line",
          "x0": 0.0067875777701131845,
          "x1": 0.0067875777701131845,
          "xref": "x",
          "y0": 6.7749999999999995,
          "y1": 6.925,
          "yref": "y"
         },
         {
          "line": {
           "color": "#afc50f",
           "width": 4
          },
          "name": "Globally cost optimal",
          "showlegend": false,
          "type": "line",
          "x0": -0.21720235469544968,
          "x1": 0.0067875777701131845,
          "xref": "x",
          "y0": 6.85,
          "y1": 6.85,
          "yref": "y"
         },
         {
          "line": {
           "color": "#afc50f",
           "width": 2
          },
          "showlegend": false,
          "type": "line",
          "x0": -0.3326055941706356,
          "x1": -0.3326055941706356,
          "xref": "x",
          "y0": 7.7749999999999995,
          "y1": 7.924999999999999,
          "yref": "y"
         },
         {
          "line": {
           "color": "#afc50f",
           "width": 2
          },
          "showlegend": false,
          "type": "line",
          "x0": 0.41540460294758863,
          "x1": 0.41540460294758863,
          "xref": "x",
          "y0": 7.7749999999999995,
          "y1": 7.924999999999999,
          "yref": "y"
         },
         {
          "line": {
           "color": "#afc50f",
           "width": 4
          },
          "name": "Globally cost optimal",
          "showlegend": false,
          "type": "line",
          "x0": -0.3326055941706356,
          "x1": 0.41540460294758863,
          "xref": "x",
          "y0": 7.85,
          "y1": 7.85,
          "yref": "y"
         },
         {
          "line": {
           "color": "#afc50f",
           "width": 2
          },
          "showlegend": false,
          "type": "line",
          "x0": null,
          "x1": null,
          "xref": "x",
          "y0": 8.775,
          "y1": 8.924999999999999,
          "yref": "y"
         },
         {
          "line": {
           "color": "#afc50f",
           "width": 2
          },
          "showlegend": false,
          "type": "line",
          "x0": null,
          "x1": null,
          "xref": "x",
          "y0": 8.775,
          "y1": 8.924999999999999,
          "yref": "y"
         },
         {
          "line": {
           "color": "#afc50f",
           "width": 4
          },
          "name": "Globally cost optimal",
          "showlegend": false,
          "type": "line",
          "x0": null,
          "x1": null,
          "xref": "x",
          "y0": 8.85,
          "y1": 8.85,
          "yref": "y"
         }
        ],
        "template": {
         "data": {
          "bar": [
           {
            "error_x": {
             "color": "#2a3f5f"
            },
            "error_y": {
             "color": "#2a3f5f"
            },
            "marker": {
             "line": {
              "color": "#E5ECF6",
              "width": 0.5
             },
             "pattern": {
              "fillmode": "overlay",
              "size": 10,
              "solidity": 0.2
             }
            },
            "type": "bar"
           }
          ],
          "barpolar": [
           {
            "marker": {
             "line": {
              "color": "#E5ECF6",
              "width": 0.5
             },
             "pattern": {
              "fillmode": "overlay",
              "size": 10,
              "solidity": 0.2
             }
            },
            "type": "barpolar"
           }
          ],
          "carpet": [
           {
            "aaxis": {
             "endlinecolor": "#2a3f5f",
             "gridcolor": "white",
             "linecolor": "white",
             "minorgridcolor": "white",
             "startlinecolor": "#2a3f5f"
            },
            "baxis": {
             "endlinecolor": "#2a3f5f",
             "gridcolor": "white",
             "linecolor": "white",
             "minorgridcolor": "white",
             "startlinecolor": "#2a3f5f"
            },
            "type": "carpet"
           }
          ],
          "choropleth": [
           {
            "colorbar": {
             "outlinewidth": 0,
             "ticks": ""
            },
            "type": "choropleth"
           }
          ],
          "contour": [
           {
            "colorbar": {
             "outlinewidth": 0,
             "ticks": ""
            },
            "colorscale": [
             [
              0,
              "#0d0887"
             ],
             [
              0.1111111111111111,
              "#46039f"
             ],
             [
              0.2222222222222222,
              "#7201a8"
             ],
             [
              0.3333333333333333,
              "#9c179e"
             ],
             [
              0.4444444444444444,
              "#bd3786"
             ],
             [
              0.5555555555555556,
              "#d8576b"
             ],
             [
              0.6666666666666666,
              "#ed7953"
             ],
             [
              0.7777777777777778,
              "#fb9f3a"
             ],
             [
              0.8888888888888888,
              "#fdca26"
             ],
             [
              1,
              "#f0f921"
             ]
            ],
            "type": "contour"
           }
          ],
          "contourcarpet": [
           {
            "colorbar": {
             "outlinewidth": 0,
             "ticks": ""
            },
            "type": "contourcarpet"
           }
          ],
          "heatmap": [
           {
            "colorbar": {
             "outlinewidth": 0,
             "ticks": ""
            },
            "colorscale": [
             [
              0,
              "#0d0887"
             ],
             [
              0.1111111111111111,
              "#46039f"
             ],
             [
              0.2222222222222222,
              "#7201a8"
             ],
             [
              0.3333333333333333,
              "#9c179e"
             ],
             [
              0.4444444444444444,
              "#bd3786"
             ],
             [
              0.5555555555555556,
              "#d8576b"
             ],
             [
              0.6666666666666666,
              "#ed7953"
             ],
             [
              0.7777777777777778,
              "#fb9f3a"
             ],
             [
              0.8888888888888888,
              "#fdca26"
             ],
             [
              1,
              "#f0f921"
             ]
            ],
            "type": "heatmap"
           }
          ],
          "heatmapgl": [
           {
            "colorbar": {
             "outlinewidth": 0,
             "ticks": ""
            },
            "colorscale": [
             [
              0,
              "#0d0887"
             ],
             [
              0.1111111111111111,
              "#46039f"
             ],
             [
              0.2222222222222222,
              "#7201a8"
             ],
             [
              0.3333333333333333,
              "#9c179e"
             ],
             [
              0.4444444444444444,
              "#bd3786"
             ],
             [
              0.5555555555555556,
              "#d8576b"
             ],
             [
              0.6666666666666666,
              "#ed7953"
             ],
             [
              0.7777777777777778,
              "#fb9f3a"
             ],
             [
              0.8888888888888888,
              "#fdca26"
             ],
             [
              1,
              "#f0f921"
             ]
            ],
            "type": "heatmapgl"
           }
          ],
          "histogram": [
           {
            "marker": {
             "pattern": {
              "fillmode": "overlay",
              "size": 10,
              "solidity": 0.2
             }
            },
            "type": "histogram"
           }
          ],
          "histogram2d": [
           {
            "colorbar": {
             "outlinewidth": 0,
             "ticks": ""
            },
            "colorscale": [
             [
              0,
              "#0d0887"
             ],
             [
              0.1111111111111111,
              "#46039f"
             ],
             [
              0.2222222222222222,
              "#7201a8"
             ],
             [
              0.3333333333333333,
              "#9c179e"
             ],
             [
              0.4444444444444444,
              "#bd3786"
             ],
             [
              0.5555555555555556,
              "#d8576b"
             ],
             [
              0.6666666666666666,
              "#ed7953"
             ],
             [
              0.7777777777777778,
              "#fb9f3a"
             ],
             [
              0.8888888888888888,
              "#fdca26"
             ],
             [
              1,
              "#f0f921"
             ]
            ],
            "type": "histogram2d"
           }
          ],
          "histogram2dcontour": [
           {
            "colorbar": {
             "outlinewidth": 0,
             "ticks": ""
            },
            "colorscale": [
             [
              0,
              "#0d0887"
             ],
             [
              0.1111111111111111,
              "#46039f"
             ],
             [
              0.2222222222222222,
              "#7201a8"
             ],
             [
              0.3333333333333333,
              "#9c179e"
             ],
             [
              0.4444444444444444,
              "#bd3786"
             ],
             [
              0.5555555555555556,
              "#d8576b"
             ],
             [
              0.6666666666666666,
              "#ed7953"
             ],
             [
              0.7777777777777778,
              "#fb9f3a"
             ],
             [
              0.8888888888888888,
              "#fdca26"
             ],
             [
              1,
              "#f0f921"
             ]
            ],
            "type": "histogram2dcontour"
           }
          ],
          "mesh3d": [
           {
            "colorbar": {
             "outlinewidth": 0,
             "ticks": ""
            },
            "type": "mesh3d"
           }
          ],
          "parcoords": [
           {
            "line": {
             "colorbar": {
              "outlinewidth": 0,
              "ticks": ""
             }
            },
            "type": "parcoords"
           }
          ],
          "pie": [
           {
            "automargin": true,
            "type": "pie"
           }
          ],
          "scatter": [
           {
            "fillpattern": {
             "fillmode": "overlay",
             "size": 10,
             "solidity": 0.2
            },
            "type": "scatter"
           }
          ],
          "scatter3d": [
           {
            "line": {
             "colorbar": {
              "outlinewidth": 0,
              "ticks": ""
             }
            },
            "marker": {
             "colorbar": {
              "outlinewidth": 0,
              "ticks": ""
             }
            },
            "type": "scatter3d"
           }
          ],
          "scattercarpet": [
           {
            "marker": {
             "colorbar": {
              "outlinewidth": 0,
              "ticks": ""
             }
            },
            "type": "scattercarpet"
           }
          ],
          "scattergeo": [
           {
            "marker": {
             "colorbar": {
              "outlinewidth": 0,
              "ticks": ""
             }
            },
            "type": "scattergeo"
           }
          ],
          "scattergl": [
           {
            "marker": {
             "colorbar": {
              "outlinewidth": 0,
              "ticks": ""
             }
            },
            "type": "scattergl"
           }
          ],
          "scattermapbox": [
           {
            "marker": {
             "colorbar": {
              "outlinewidth": 0,
              "ticks": ""
             }
            },
            "type": "scattermapbox"
           }
          ],
          "scatterpolar": [
           {
            "marker": {
             "colorbar": {
              "outlinewidth": 0,
              "ticks": ""
             }
            },
            "type": "scatterpolar"
           }
          ],
          "scatterpolargl": [
           {
            "marker": {
             "colorbar": {
              "outlinewidth": 0,
              "ticks": ""
             }
            },
            "type": "scatterpolargl"
           }
          ],
          "scatterternary": [
           {
            "marker": {
             "colorbar": {
              "outlinewidth": 0,
              "ticks": ""
             }
            },
            "type": "scatterternary"
           }
          ],
          "surface": [
           {
            "colorbar": {
             "outlinewidth": 0,
             "ticks": ""
            },
            "colorscale": [
             [
              0,
              "#0d0887"
             ],
             [
              0.1111111111111111,
              "#46039f"
             ],
             [
              0.2222222222222222,
              "#7201a8"
             ],
             [
              0.3333333333333333,
              "#9c179e"
             ],
             [
              0.4444444444444444,
              "#bd3786"
             ],
             [
              0.5555555555555556,
              "#d8576b"
             ],
             [
              0.6666666666666666,
              "#ed7953"
             ],
             [
              0.7777777777777778,
              "#fb9f3a"
             ],
             [
              0.8888888888888888,
              "#fdca26"
             ],
             [
              1,
              "#f0f921"
             ]
            ],
            "type": "surface"
           }
          ],
          "table": [
           {
            "cells": {
             "fill": {
              "color": "#EBF0F8"
             },
             "line": {
              "color": "white"
             }
            },
            "header": {
             "fill": {
              "color": "#C8D4E3"
             },
             "line": {
              "color": "white"
             }
            },
            "type": "table"
           }
          ]
         },
         "layout": {
          "annotationdefaults": {
           "arrowcolor": "#2a3f5f",
           "arrowhead": 0,
           "arrowwidth": 1
          },
          "autotypenumbers": "strict",
          "coloraxis": {
           "colorbar": {
            "outlinewidth": 0,
            "ticks": ""
           }
          },
          "colorscale": {
           "diverging": [
            [
             0,
             "#8e0152"
            ],
            [
             0.1,
             "#c51b7d"
            ],
            [
             0.2,
             "#de77ae"
            ],
            [
             0.3,
             "#f1b6da"
            ],
            [
             0.4,
             "#fde0ef"
            ],
            [
             0.5,
             "#f7f7f7"
            ],
            [
             0.6,
             "#e6f5d0"
            ],
            [
             0.7,
             "#b8e186"
            ],
            [
             0.8,
             "#7fbc41"
            ],
            [
             0.9,
             "#4d9221"
            ],
            [
             1,
             "#276419"
            ]
           ],
           "sequential": [
            [
             0,
             "#0d0887"
            ],
            [
             0.1111111111111111,
             "#46039f"
            ],
            [
             0.2222222222222222,
             "#7201a8"
            ],
            [
             0.3333333333333333,
             "#9c179e"
            ],
            [
             0.4444444444444444,
             "#bd3786"
            ],
            [
             0.5555555555555556,
             "#d8576b"
            ],
            [
             0.6666666666666666,
             "#ed7953"
            ],
            [
             0.7777777777777778,
             "#fb9f3a"
            ],
            [
             0.8888888888888888,
             "#fdca26"
            ],
            [
             1,
             "#f0f921"
            ]
           ],
           "sequentialminus": [
            [
             0,
             "#0d0887"
            ],
            [
             0.1111111111111111,
             "#46039f"
            ],
            [
             0.2222222222222222,
             "#7201a8"
            ],
            [
             0.3333333333333333,
             "#9c179e"
            ],
            [
             0.4444444444444444,
             "#bd3786"
            ],
            [
             0.5555555555555556,
             "#d8576b"
            ],
            [
             0.6666666666666666,
             "#ed7953"
            ],
            [
             0.7777777777777778,
             "#fb9f3a"
            ],
            [
             0.8888888888888888,
             "#fdca26"
            ],
            [
             1,
             "#f0f921"
            ]
           ]
          },
          "colorway": [
           "#636efa",
           "#EF553B",
           "#00cc96",
           "#ab63fa",
           "#FFA15A",
           "#19d3f3",
           "#FF6692",
           "#B6E880",
           "#FF97FF",
           "#FECB52"
          ],
          "font": {
           "color": "#2a3f5f"
          },
          "geo": {
           "bgcolor": "white",
           "lakecolor": "white",
           "landcolor": "#E5ECF6",
           "showlakes": true,
           "showland": true,
           "subunitcolor": "white"
          },
          "hoverlabel": {
           "align": "left"
          },
          "hovermode": "closest",
          "mapbox": {
           "style": "light"
          },
          "paper_bgcolor": "white",
          "plot_bgcolor": "#E5ECF6",
          "polar": {
           "angularaxis": {
            "gridcolor": "white",
            "linecolor": "white",
            "ticks": ""
           },
           "bgcolor": "#E5ECF6",
           "radialaxis": {
            "gridcolor": "white",
            "linecolor": "white",
            "ticks": ""
           }
          },
          "scene": {
           "xaxis": {
            "backgroundcolor": "#E5ECF6",
            "gridcolor": "white",
            "gridwidth": 2,
            "linecolor": "white",
            "showbackground": true,
            "ticks": "",
            "zerolinecolor": "white"
           },
           "yaxis": {
            "backgroundcolor": "#E5ECF6",
            "gridcolor": "white",
            "gridwidth": 2,
            "linecolor": "white",
            "showbackground": true,
            "ticks": "",
            "zerolinecolor": "white"
           },
           "zaxis": {
            "backgroundcolor": "#E5ECF6",
            "gridcolor": "white",
            "gridwidth": 2,
            "linecolor": "white",
            "showbackground": true,
            "ticks": "",
            "zerolinecolor": "white"
           }
          },
          "shapedefaults": {
           "line": {
            "color": "#2a3f5f"
           }
          },
          "ternary": {
           "aaxis": {
            "gridcolor": "white",
            "linecolor": "white",
            "ticks": ""
           },
           "baxis": {
            "gridcolor": "white",
            "linecolor": "white",
            "ticks": ""
           },
           "bgcolor": "#E5ECF6",
           "caxis": {
            "gridcolor": "white",
            "linecolor": "white",
            "ticks": ""
           }
          },
          "title": {
           "x": 0.05
          },
          "xaxis": {
           "automargin": true,
           "gridcolor": "white",
           "linecolor": "white",
           "ticks": "",
           "title": {
            "standoff": 15
           },
           "zerolinecolor": "white",
           "zerolinewidth": 2
          },
          "yaxis": {
           "automargin": true,
           "gridcolor": "white",
           "linecolor": "white",
           "ticks": "",
           "title": {
            "standoff": 15
           },
           "zerolinecolor": "white",
           "zerolinewidth": 2
          }
         }
        },
        "width": 1000,
        "xaxis": {
         "anchor": "y",
         "domain": [
          0,
          1
         ],
         "range": [
          -1.5,
          1.5
         ],
         "side": "top",
         "tickfont": {
          "size": 20
         },
         "ticktext": [
          "150%",
          "100%",
          "(reduce)<br>50%",
          "2015<br>emissions",
          "(increase)<br>50%",
          "100%",
          "150%"
         ],
         "tickvals": [
          -1.5,
          -1,
          -0.5,
          0,
          0.5,
          1,
          1.5
         ]
        },
        "yaxis": {
         "anchor": "x",
         "domain": [
          0,
          1
         ],
         "range": [
          -0.5,
          10
         ],
         "showticklabels": false
        }
       }
      }
     },
     "metadata": {},
     "output_type": "display_data"
    }
   ],
   "source": [
    "wd = 0.15\n",
    "\n",
    "fig = make_subplots(rows=1, cols=1,\n",
    "                    horizontal_spacing = 0., vertical_spacing=0.02)\n",
    "\n",
    "fig.update_layout(height=1000, width=1000)\n",
    "fs=20\n",
    "\n",
    "# ============ #\n",
    "# Actual data\n",
    "# ============ #\n",
    "\n",
    "fig.add_shape(\n",
    "    col=1, row=1,\n",
    "    type=\"line\",\n",
    "    x0=0, x1=0,\n",
    "    y0=-1e3, y1=1e3,\n",
    "    line=dict(color=\"black\",  dash='dash',width=3)\n",
    ")\n",
    "\n",
    "REGS = ['USA', 'EU', 'JPN', 'BRA', 'IDN', 'VNM', 'CHN', 'PAK', 'IND', 'NGA']\n",
    "\n",
    "ndcs = []\n",
    "ndcs2 = []\n",
    "reds = []\n",
    "for reg_i, reg in enumerate(REGS):\n",
    "    ndc_estimate, ndc2, reductions_i, costopt_i = data(reg)\n",
    "    ndcs.append(ndc_estimate)\n",
    "    ndcs2.append(ndc2)\n",
    "    reds.append(reductions_i)\n",
    "    cty = all_regions_names[all_regions_iso==reg][0].replace(' ', '<br>')\n",
    "    if reg == 'USA': cty = 'United<br>States'\n",
    "    fig.add_annotation(x=-0.05, y=reg_i*1.+0.1, align = 'left',\n",
    "                       text=cty, xref='paper', yref='y1', showarrow=False, font=dict(color='black', size=20))\n",
    "\n",
    "    # WHISKERS\n",
    "    c0 = -float(costopt_0.sel(Region=reg).Value)\n",
    "    c1 = -float(costopt_1.sel(Region=reg).Value)\n",
    "    for ci in [c0, c1]:\n",
    "        fig.add_shape(type=\"line\", col=1, row=1, showlegend=False,\n",
    "                    line=dict(color=col1, width=2),\n",
    "                    x0=ci, x1=ci,\n",
    "                    y0=-wd/2 + reg_i-wd , y1=wd/2 + reg_i-wd,\n",
    "        )\n",
    "    if reg_i ==0: sl = True\n",
    "    else: sl = False\n",
    "    fig.add_shape(type=\"line\", col=1, row=1,\n",
    "                line=dict(color=col1, width=4),\n",
    "                showlegend=sl,\n",
    "                name='Globally cost optimal',\n",
    "                x0=c0, x1=c1,\n",
    "                y0= reg_i-wd, y1= reg_i-wd,\n",
    "    )\n",
    "\n",
    "    # Horizontal lines for each rule\n",
    "    for i in range(3):\n",
    "        mn, mx= red_minmax(reg, ['PCC', 'AP', 'ECPC'][i])\n",
    "        fig.add_trace(go.Scatter(x=[-mn, -mx],\n",
    "                                y=[reg_i+wd+0.1*i, reg_i+wd+0.1*i],showlegend=False,\n",
    "                            line=dict(color=[col3a, col3b, col3c][i], width=2),\n",
    "        ))\n",
    "\n",
    "    # Horizontal lines between ndcs\n",
    "    if not np.isnan(ndc2):\n",
    "        fig.add_trace(go.Scatter(x=[-ndc_estimate, -ndc2],\n",
    "                                y=[reg_i, reg_i],showlegend=False,\n",
    "                            line=dict(color=col2, width=2),\n",
    "        ))\n",
    "\n",
    "\n",
    "# NDC 2030\n",
    "fig.add_trace(go.Scatter(\n",
    "    x=-np.array(ndcs),\n",
    "    y=np.arange(len(REGS)),\n",
    "    mode='markers',\n",
    "    name='NDC 2030',\n",
    "    showlegend=True,\n",
    "    marker=dict(\n",
    "        symbol='square',\n",
    "        size=12,         # Marker size\n",
    "        color='silver'     # Marker color\n",
    "    )\n",
    "))\n",
    "\n",
    "# NDC 2035\n",
    "fig.add_trace(go.Scatter(\n",
    "    x=-np.array(ndcs2),\n",
    "    y=np.arange(len(REGS)),\n",
    "    mode='markers',\n",
    "    name='NDC 2035',\n",
    "    showlegend=True,\n",
    "    marker=dict(\n",
    "        symbol='square',\n",
    "        size=12,         # Marker size\n",
    "        color=col2     # Marker color\n",
    "    )\n",
    "))\n",
    "\n",
    "# rules\n",
    "for i in range(3):\n",
    "    fig.add_trace(go.Scatter(\n",
    "        x=-np.array(reds)[:, i],\n",
    "        y=np.arange(len(REGS))+wd+0.1*i,\n",
    "        mode='markers',\n",
    "        name=['Per capita convergence', 'Ability to pay', 'Equal cumulative per capita'][i],\n",
    "        showlegend=True,\n",
    "        marker=dict(\n",
    "            symbol=['circle', 'diamond', 'star'][i],\n",
    "            size=12,         # Marker size\n",
    "            color=[col3a, col3b, col3c][i]     # Marker color\n",
    "        )\n",
    "    ))\n",
    "fig.update_xaxes(row=1, col=1, range=(-1.5, 1.5), tickfont=dict(size=20), side='top',\n",
    "                    tickvals=[-1.5, -1, -0.5, 0, 0.5,  1, 1.5],\n",
    "                    ticktext=['150%', '100%', '(reduce)<br>50%',  '2015<br>emissions', '(increase)<br>50%', '100%', '150%'])\n",
    "\n",
    "fig.update_layout(\n",
    "    plot_bgcolor='white',\n",
    "    paper_bgcolor='white',\n",
    "        legend=dict(\n",
    "        title='',     # Optional title\n",
    "        x=0.65, y=0.15,            # Positioning (top-right)\n",
    "        bgcolor='rgba(255,255,255,0.5)',  # Semi-transparent background\n",
    "        bordercolor='black',\n",
    "        borderwidth=0,\n",
    "        font=dict(size=20)\n",
    "    ),\n",
    ")\n",
    "fig.update_yaxes(row=1, col=1, range=(-0.5, 10\n",
    "                                      ), showticklabels=False)\n",
    "#fig.write_image(\"../../../Figures/Figure_allbars_20.png\", scale=5)\n",
    "fig.show()"
   ]
  }
 ],
 "metadata": {
  "kernelspec": {
   "display_name": "Python 3",
   "language": "python",
   "name": "python3"
  },
  "language_info": {
   "codemirror_mode": {
    "name": "ipython",
    "version": 3
   },
   "file_extension": ".py",
   "mimetype": "text/x-python",
   "name": "python",
   "nbconvert_exporter": "python",
   "pygments_lexer": "ipython3",
   "version": "3.12.5"
  },
  "orig_nbformat": 4
 },
 "nbformat": 4,
 "nbformat_minor": 2
}
