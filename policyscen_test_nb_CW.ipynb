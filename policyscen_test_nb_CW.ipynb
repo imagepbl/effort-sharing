{
 "cells": [
  {
   "cell_type": "code",
   "execution_count": 276,
   "id": "bde7dc40",
   "metadata": {},
   "outputs": [],
   "source": [
    "import pandas as pd\n",
    "import numpy as np"
   ]
  },
  {
   "cell_type": "code",
   "execution_count": 277,
   "id": "7985aa22",
   "metadata": {},
   "outputs": [],
   "source": [
    "elevate_scens = pd.read_csv(\n",
    "    r\"X:\\user\\dekkerm\\Data\\ELEVATE\\ELEVATE_Data_D2.3_vetted_20250211.csv\"\n",
    ")\n",
    "engage_scens = pd.read_csv(\n",
    "    r\"X:\\user\\dekkerm\\Data\\ENGAGE\\PolicyScenarios\\ENGAGE_internal_2610_onlyemis.csv\"\n",
    ")"
   ]
  },
  {
   "cell_type": "code",
   "execution_count": 278,
   "id": "1cf9f4c9",
   "metadata": {},
   "outputs": [],
   "source": [
    "# Filter for variables and scenarios\n",
    "variables = [\"Emissions|Kyoto Gases\", \"Emissions|CO2\"]\n",
    "# scenarios = {\"CurPol\": \"ELV-SSP2-CP-D0\", \"CurPol_national\": \"ELV-SSP2-CP-D0\", \"NDC\": \"ELV-SSP2-NDC-D0\", \"NetZero\": \"ELV-SSP2-LTS\"}\n",
    "scenarios = {\n",
    "    \"ELV-SSP2-CP-D0\": \"CurPol\",\n",
    "    \"ELV-SSP2-CP-D0-N\": \"CurPol\",\n",
    "    \"Current Policies\": \"CurPol\",\n",
    "    \"ELV-SSP2-NDC-D0\": \"NDC\",\n",
    "    \"ELV-SSP2-LTS\": \"NetZero\"\n",
    "}\n",
    "elevate_scens_filtered = elevate_scens[elevate_scens[\"Variable\"].isin(variables)]\n",
    "elevate_scens_filtered = elevate_scens_filtered[elevate_scens_filtered[\"Scenario\"].isin(scenarios.keys())]\n",
    "\n",
    "# Rename columns: Remove leading 'X' from year columns\n",
    "elevate_scens_filtered.columns = [\n",
    "    col[1:] if col.startswith(\"X\") and col[1:].isdigit() else col\n",
    "    for col in elevate_scens_filtered.columns\n",
    "]\n",
    "\n",
    "#Rename scenarios\n",
    "elevate_scens_filtered[\"Scenario\"] = elevate_scens_filtered[\"Scenario\"].replace(scenarios)"
   ]
  },
  {
   "cell_type": "markdown",
   "id": "97e77327",
   "metadata": {},
   "source": [
    "### Expand regions"
   ]
  },
  {
   "cell_type": "code",
   "execution_count": 279,
   "id": "a03d4cd9",
   "metadata": {},
   "outputs": [],
   "source": [
    "# Split the column by '|' and expand into new columns\n",
    "split_columns = elevate_scens_filtered['Region'].str.split('|', expand=True)\n",
    "\n",
    "# Rename the new columns (optional)\n",
    "split_columns.columns = ['Model_2', 'Region_2']\n",
    "\n",
    "# Add the new columns to the original DataFrame\n",
    "elevate_scens_filtered = pd.concat([elevate_scens_filtered, split_columns], axis=1)"
   ]
  },
  {
   "cell_type": "code",
   "execution_count": 280,
   "id": "9f40616f",
   "metadata": {},
   "outputs": [
    {
     "data": {
      "text/plain": [
       "Index(['Model', 'Scenario', 'Region', 'Variable', 'Unit', '1990', '1995',\n",
       "       '2000', '2005', '2010', '2015', '2016', '2017', '2020', '2021', '2025',\n",
       "       '2030', '2035', '2040', '2045', '2050', '2055', '2060', '2065', '2070',\n",
       "       '2075', '2080', '2085', '2090', '2095', '2100', 'Model_2', 'Region_2'],\n",
       "      dtype='object')"
      ]
     },
     "execution_count": 280,
     "metadata": {},
     "output_type": "execute_result"
    }
   ],
   "source": [
    "elevate_scens_filtered.columns"
   ]
  },
  {
   "cell_type": "code",
   "execution_count": 281,
   "id": "e724254b",
   "metadata": {},
   "outputs": [],
   "source": [
    "#Change order of columns\n",
    "elevate_scens_filtered = elevate_scens_filtered[['Model', 'Model_2', 'Scenario', 'Region', 'Region_2', 'Variable', 'Unit', '1990', '1995',\n",
    "       '2000', '2005', '2010', '2015', '2016', '2017', '2020', '2021', '2025',\n",
    "       '2030', '2035', '2040', '2045', '2050', '2055', '2060', '2065', '2070',\n",
    "       '2075', '2080', '2085', '2090', '2095', '2100']]"
   ]
  },
  {
   "cell_type": "code",
   "execution_count": 282,
   "id": "d582f404",
   "metadata": {},
   "outputs": [],
   "source": [
    "# Replace values in Model_2 with NaN if they are the same as in Model to filter out regions\n",
    "elevate_scens_filtered['Model_2'] = np.where(\n",
    "    elevate_scens_filtered['Model_2'] == elevate_scens_filtered['Model'],\n",
    "    np.nan,\n",
    "    elevate_scens_filtered['Model_2']\n",
    ")"
   ]
  },
  {
   "cell_type": "code",
   "execution_count": 283,
   "id": "49f8375b",
   "metadata": {},
   "outputs": [],
   "source": [
    "# Merge the two columns into a new column 'Region_cleaned', drop old columns and rearrange order\n",
    "elevate_scens_filtered[\"Region_cleaned\"] = elevate_scens_filtered[\n",
    "    \"Model_2\"\n",
    "].combine_first(elevate_scens_filtered[\"Region_2\"])\n",
    "\n"
   ]
  },
  {
   "cell_type": "code",
   "execution_count": 284,
   "id": "38c9f021",
   "metadata": {},
   "outputs": [
    {
     "data": {
      "text/plain": [
       "Index(['Model', 'Model_2', 'Scenario', 'Region', 'Region_2', 'Variable',\n",
       "       'Unit', '1990', '1995', '2000', '2005', '2010', '2015', '2016', '2017',\n",
       "       '2020', '2021', '2025', '2030', '2035', '2040', '2045', '2050', '2055',\n",
       "       '2060', '2065', '2070', '2075', '2080', '2085', '2090', '2095', '2100',\n",
       "       'Region_cleaned'],\n",
       "      dtype='object')"
      ]
     },
     "execution_count": 284,
     "metadata": {},
     "output_type": "execute_result"
    }
   ],
   "source": [
    "elevate_scens_filtered.columns"
   ]
  },
  {
   "cell_type": "code",
   "execution_count": 285,
   "id": "3997029d",
   "metadata": {},
   "outputs": [],
   "source": [
    "#Rename regions\n",
    "elevate_scens_filtered[\"Region_cleaned\"] = elevate_scens_filtered[\n",
    "    \"Region_cleaned\"\n",
    "].replace(\"United States of America\", \"USA\")\n",
    "elevate_scens_filtered[\"Region_cleaned\"] = elevate_scens_filtered[\n",
    "    \"Region_cleaned\"\n",
    "].replace([\"Southeast Asia\", \"South-East Asia\", \"South East Asia\"], \"Southeast Asia\")\n",
    "elevate_scens_filtered[\"Region_cleaned\"] = elevate_scens_filtered[\n",
    "    \"Region_cleaned\"\n",
    "].replace(\"World\", \"EARTH\")\n",
    "\n",
    "elevate_scens_filtered.drop(columns=['Model_2', 'Region_2'], inplace=True)\n",
    "# elevate_scens_filtered = elevate_scens_filtered[['Model', 'Scenario', 'Region', 'Region_cleaned', 'Variable', 'Unit', '1990', '1995',\n",
    "#        '2000', '2005', '2010', '2015', '2016', '2017', '2020', '2021', '2025',\n",
    "#        '2030', '2035', '2040', '2045', '2050', '2055', '2060', '2065', '2070',\n",
    "#        '2075', '2080', '2085', '2090', '2095', '2100']]\n",
    "\n",
    "\n",
    "# Dynamically select the first six columns and all year columns\n",
    "columns_to_keep = [\n",
    "    \"Model\",\n",
    "    \"Scenario\",\n",
    "    \"Region\",\n",
    "    \"Region_cleaned\",\n",
    "    \"Variable\",\n",
    "    \"Unit\",\n",
    "] + [col for col in elevate_scens_filtered.columns if col.isdigit()]\n",
    "\n",
    "# Reorder the DataFrame\n",
    "elevate_scens_filtered = elevate_scens_filtered[columns_to_keep]"
   ]
  },
  {
   "cell_type": "code",
   "execution_count": 286,
   "id": "cef616f5",
   "metadata": {},
   "outputs": [
    {
     "data": {
      "text/plain": [
       "Index(['Model', 'Scenario', 'Region', 'Region_cleaned', 'Variable', 'Unit',\n",
       "       '1990', '1995', '2000', '2005', '2010', '2015', '2016', '2017', '2020',\n",
       "       '2021', '2025', '2030', '2035', '2040', '2045', '2050', '2055', '2060',\n",
       "       '2065', '2070', '2075', '2080', '2085', '2090', '2095', '2100'],\n",
       "      dtype='object')"
      ]
     },
     "execution_count": 286,
     "metadata": {},
     "output_type": "execute_result"
    }
   ],
   "source": [
    "elevate_scens_filtered.columns"
   ]
  },
  {
   "cell_type": "code",
   "execution_count": null,
   "id": "2f4aea7c",
   "metadata": {},
   "outputs": [
    {
     "name": "stderr",
     "output_type": "stream",
     "text": [
      "C:\\Users\\wurschingc\\AppData\\Local\\Temp\\2\\ipykernel_9480\\1315033224.py:10: SettingWithCopyWarning: \n",
      "A value is trying to be set on a copy of a slice from a DataFrame\n",
      "\n",
      "See the caveats in the documentation: https://pandas.pydata.org/pandas-docs/stable/user_guide/indexing.html#returning-a-view-versus-a-copy\n",
      "  elevate_scens_deduplicated.drop(columns=['Is_Duplicate', 'Region'], inplace=True)\n",
      "C:\\Users\\wurschingc\\AppData\\Local\\Temp\\2\\ipykernel_9480\\1315033224.py:11: SettingWithCopyWarning: \n",
      "A value is trying to be set on a copy of a slice from a DataFrame\n",
      "\n",
      "See the caveats in the documentation: https://pandas.pydata.org/pandas-docs/stable/user_guide/indexing.html#returning-a-view-versus-a-copy\n",
      "  elevate_scens_deduplicated.rename(columns={'Region_cleaned': 'Region'}, inplace=True)\n"
     ]
    }
   ],
   "source": [
    "# Sort the dataframe by 'Region_cleaned' and reset the index\n",
    "elevate_scens_filtered.sort_values(by=['Region_cleaned'], inplace=True)\n",
    "elevate_scens_filtered.reset_index(drop=True, inplace=True)\n",
    "\n",
    "# Add a new column 'Is_Duplicate' to indicate subsequent duplicates\n",
    "elevate_scens_filtered['Is_Duplicate'] = elevate_scens_filtered.duplicated(subset=['Model', 'Scenario', 'Variable', '2025', '2100'], keep='first')\n",
    "\n",
    "# Remove all rows that are Is_Duplicated = True\n",
    "elevate_scens_deduplicated = elevate_scens_filtered[~elevate_scens_filtered['Is_Duplicate']]\n",
    "\n",
    "elevate_scens_deduplicated.drop(columns=['Is_Duplicate', 'Region'], inplace=True)\n",
    "elevate_scens_deduplicated.rename(columns={'Region_cleaned': 'Region'}, inplace=True)"
   ]
  }
 ],
 "metadata": {
  "kernelspec": {
   "display_name": "effortsharing_env_K",
   "language": "python",
   "name": "python3"
  },
  "language_info": {
   "codemirror_mode": {
    "name": "ipython",
    "version": 3
   },
   "file_extension": ".py",
   "mimetype": "text/x-python",
   "name": "python",
   "nbconvert_exporter": "python",
   "pygments_lexer": "ipython3",
   "version": "3.11.7"
  }
 },
 "nbformat": 4,
 "nbformat_minor": 5
}
